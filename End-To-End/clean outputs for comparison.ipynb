{
 "cells": [
  {
   "cell_type": "code",
   "execution_count": 1,
   "id": "cb6a0e86",
   "metadata": {},
   "outputs": [],
   "source": [
    "import pandas as pd\n",
    "import numpy as np"
   ]
  },
  {
   "cell_type": "code",
   "execution_count": 22,
   "id": "f6b062f6",
   "metadata": {},
   "outputs": [],
   "source": [
    "filename = 'comparison_data_e2e_unclean'\n",
    "df = pd.read_csv('results/' + filename + '.csv',index_col=0)\n",
    "out = df['existing_task'].to_list()"
   ]
  },
  {
   "cell_type": "code",
   "execution_count": 23,
   "id": "2cfd3694",
   "metadata": {},
   "outputs": [],
   "source": [
    "clean_out = [s.replace('<pad> ','').replace(\"</s>\",'').replace(\" <pad>\",'').replace(\"Idiom: \",\"\") for s in out]\n"
   ]
  },
  {
   "cell_type": "code",
   "execution_count": 24,
   "id": "f95ff85d",
   "metadata": {},
   "outputs": [],
   "source": [
    "df['output'] = clean_out"
   ]
  },
  {
   "cell_type": "code",
   "execution_count": 25,
   "id": "32caecc2",
   "metadata": {},
   "outputs": [
    {
     "data": {
      "text/html": [
       "<div>\n",
       "<style scoped>\n",
       "    .dataframe tbody tr th:only-of-type {\n",
       "        vertical-align: middle;\n",
       "    }\n",
       "\n",
       "    .dataframe tbody tr th {\n",
       "        vertical-align: top;\n",
       "    }\n",
       "\n",
       "    .dataframe thead th {\n",
       "        text-align: right;\n",
       "    }\n",
       "</style>\n",
       "<table border=\"1\" class=\"dataframe\">\n",
       "  <thead>\n",
       "    <tr style=\"text-align: right;\">\n",
       "      <th></th>\n",
       "      <th>idiom</th>\n",
       "      <th>input</th>\n",
       "      <th>output</th>\n",
       "    </tr>\n",
       "  </thead>\n",
       "  <tbody>\n",
       "    <tr>\n",
       "      <th>0</th>\n",
       "      <td>head over heels</td>\n",
       "      <td>Tom and Mary are head over heels in love with ...</td>\n",
       "      <td>Tom und Mary verlieben sich einander und werde...</td>\n",
       "    </tr>\n",
       "    <tr>\n",
       "      <th>1</th>\n",
       "      <td>a sight for sore eyes</td>\n",
       "      <td>I can't believe that I haven't seen you in a y...</td>\n",
       "      <td>Ich kann nicht glauben, dass ich Sie in einem ...</td>\n",
       "    </tr>\n",
       "    <tr>\n",
       "      <th>2</th>\n",
       "      <td>in a nutshell</td>\n",
       "      <td>In a nutshell , all the new mayor was saying i...</td>\n",
       "      <td>Kurzum gesagt hat der neue Bürgermeister nur g...</td>\n",
       "    </tr>\n",
       "    <tr>\n",
       "      <th>3</th>\n",
       "      <td>beyond a shadow of doubt</td>\n",
       "      <td>The government has clarified beyond a shadow o...</td>\n",
       "      <td>Die Regierung hat unbestreitbar klargestellt, ...</td>\n",
       "    </tr>\n",
       "    <tr>\n",
       "      <th>4</th>\n",
       "      <td>kill two birds with one stone</td>\n",
       "      <td>I have to go to the bank , and on the way back...</td>\n",
       "      <td>Ich muss an die Bank gehen, und am Rückweg wer...</td>\n",
       "    </tr>\n",
       "  </tbody>\n",
       "</table>\n",
       "</div>"
      ],
      "text/plain": [
       "                           idiom  \\\n",
       "0                head over heels   \n",
       "1          a sight for sore eyes   \n",
       "2                  in a nutshell   \n",
       "3       beyond a shadow of doubt   \n",
       "4  kill two birds with one stone   \n",
       "\n",
       "                                               input  \\\n",
       "0  Tom and Mary are head over heels in love with ...   \n",
       "1  I can't believe that I haven't seen you in a y...   \n",
       "2  In a nutshell , all the new mayor was saying i...   \n",
       "3  The government has clarified beyond a shadow o...   \n",
       "4  I have to go to the bank , and on the way back...   \n",
       "\n",
       "                                              output  \n",
       "0  Tom und Mary verlieben sich einander und werde...  \n",
       "1  Ich kann nicht glauben, dass ich Sie in einem ...  \n",
       "2  Kurzum gesagt hat der neue Bürgermeister nur g...  \n",
       "3  Die Regierung hat unbestreitbar klargestellt, ...  \n",
       "4  Ich muss an die Bank gehen, und am Rückweg wer...  "
      ]
     },
     "execution_count": 25,
     "metadata": {},
     "output_type": "execute_result"
    }
   ],
   "source": [
    "df = df.drop(columns=['en_task', 'existing_task'])\n",
    "df.head()"
   ]
  },
  {
   "cell_type": "code",
   "execution_count": 28,
   "id": "186295d8",
   "metadata": {},
   "outputs": [],
   "source": [
    "df.to_csv('results/comparison_data_e2e.csv')"
   ]
  }
 ],
 "metadata": {
  "kernelspec": {
   "display_name": "Python 3",
   "language": "python",
   "name": "python3"
  },
  "language_info": {
   "codemirror_mode": {
    "name": "ipython",
    "version": 3
   },
   "file_extension": ".py",
   "mimetype": "text/x-python",
   "name": "python",
   "nbconvert_exporter": "python",
   "pygments_lexer": "ipython3",
   "version": "3.9.12"
  }
 },
 "nbformat": 4,
 "nbformat_minor": 5
}
