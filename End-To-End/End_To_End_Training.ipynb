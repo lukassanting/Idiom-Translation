{
  "nbformat": 4,
  "nbformat_minor": 0,
  "metadata": {
    "colab": {
      "name": "End_To_End_Training.ipynb",
      "provenance": [],
      "collapsed_sections": [],
      "include_colab_link": true
    },
    "kernelspec": {
      "name": "python3",
      "display_name": "Python 3"
    },
    "language_info": {
      "name": "python"
    },
    "accelerator": "GPU",
    "widgets": {
      "application/vnd.jupyter.widget-state+json": {
        "05b2a573f7e8441bb7b9b970275f2d39": {
          "model_module": "@jupyter-widgets/controls",
          "model_name": "HBoxModel",
          "model_module_version": "1.5.0",
          "state": {
            "_dom_classes": [],
            "_model_module": "@jupyter-widgets/controls",
            "_model_module_version": "1.5.0",
            "_model_name": "HBoxModel",
            "_view_count": null,
            "_view_module": "@jupyter-widgets/controls",
            "_view_module_version": "1.5.0",
            "_view_name": "HBoxView",
            "box_style": "",
            "children": [
              "IPY_MODEL_e265612825a24cf38d34da2d65628be4",
              "IPY_MODEL_30f428e0f70f492cb168a083213c246b",
              "IPY_MODEL_8d89b2ceedb04e91ade6c5db9f86b620"
            ],
            "layout": "IPY_MODEL_a7791ea7c51d4712a1ba0406cc0e7509"
          }
        },
        "e265612825a24cf38d34da2d65628be4": {
          "model_module": "@jupyter-widgets/controls",
          "model_name": "HTMLModel",
          "model_module_version": "1.5.0",
          "state": {
            "_dom_classes": [],
            "_model_module": "@jupyter-widgets/controls",
            "_model_module_version": "1.5.0",
            "_model_name": "HTMLModel",
            "_view_count": null,
            "_view_module": "@jupyter-widgets/controls",
            "_view_module_version": "1.5.0",
            "_view_name": "HTMLView",
            "description": "",
            "description_tooltip": null,
            "layout": "IPY_MODEL_dd01fdb53d1a4fc5b7e5036a508f3848",
            "placeholder": "​",
            "style": "IPY_MODEL_caa3f156efd9472bb6f59c17640b6b44",
            "value": "Downloading builder script: "
          }
        },
        "30f428e0f70f492cb168a083213c246b": {
          "model_module": "@jupyter-widgets/controls",
          "model_name": "FloatProgressModel",
          "model_module_version": "1.5.0",
          "state": {
            "_dom_classes": [],
            "_model_module": "@jupyter-widgets/controls",
            "_model_module_version": "1.5.0",
            "_model_name": "FloatProgressModel",
            "_view_count": null,
            "_view_module": "@jupyter-widgets/controls",
            "_view_module_version": "1.5.0",
            "_view_name": "ProgressView",
            "bar_style": "success",
            "description": "",
            "description_tooltip": null,
            "layout": "IPY_MODEL_1760fa3b701648f38c4f6d5e978dd945",
            "max": 2199,
            "min": 0,
            "orientation": "horizontal",
            "style": "IPY_MODEL_d95c08d50e20428395e216fea3db2bed",
            "value": 2199
          }
        },
        "8d89b2ceedb04e91ade6c5db9f86b620": {
          "model_module": "@jupyter-widgets/controls",
          "model_name": "HTMLModel",
          "model_module_version": "1.5.0",
          "state": {
            "_dom_classes": [],
            "_model_module": "@jupyter-widgets/controls",
            "_model_module_version": "1.5.0",
            "_model_name": "HTMLModel",
            "_view_count": null,
            "_view_module": "@jupyter-widgets/controls",
            "_view_module_version": "1.5.0",
            "_view_name": "HTMLView",
            "description": "",
            "description_tooltip": null,
            "layout": "IPY_MODEL_a74a93d17ba54d2d86882807b51aca09",
            "placeholder": "​",
            "style": "IPY_MODEL_bd50445ac53244958d055fbd9365da9b",
            "value": " 5.34k/? [00:00&lt;00:00, 11.3kB/s]"
          }
        },
        "a7791ea7c51d4712a1ba0406cc0e7509": {
          "model_module": "@jupyter-widgets/base",
          "model_name": "LayoutModel",
          "model_module_version": "1.2.0",
          "state": {
            "_model_module": "@jupyter-widgets/base",
            "_model_module_version": "1.2.0",
            "_model_name": "LayoutModel",
            "_view_count": null,
            "_view_module": "@jupyter-widgets/base",
            "_view_module_version": "1.2.0",
            "_view_name": "LayoutView",
            "align_content": null,
            "align_items": null,
            "align_self": null,
            "border": null,
            "bottom": null,
            "display": null,
            "flex": null,
            "flex_flow": null,
            "grid_area": null,
            "grid_auto_columns": null,
            "grid_auto_flow": null,
            "grid_auto_rows": null,
            "grid_column": null,
            "grid_gap": null,
            "grid_row": null,
            "grid_template_areas": null,
            "grid_template_columns": null,
            "grid_template_rows": null,
            "height": null,
            "justify_content": null,
            "justify_items": null,
            "left": null,
            "margin": null,
            "max_height": null,
            "max_width": null,
            "min_height": null,
            "min_width": null,
            "object_fit": null,
            "object_position": null,
            "order": null,
            "overflow": null,
            "overflow_x": null,
            "overflow_y": null,
            "padding": null,
            "right": null,
            "top": null,
            "visibility": null,
            "width": null
          }
        },
        "dd01fdb53d1a4fc5b7e5036a508f3848": {
          "model_module": "@jupyter-widgets/base",
          "model_name": "LayoutModel",
          "model_module_version": "1.2.0",
          "state": {
            "_model_module": "@jupyter-widgets/base",
            "_model_module_version": "1.2.0",
            "_model_name": "LayoutModel",
            "_view_count": null,
            "_view_module": "@jupyter-widgets/base",
            "_view_module_version": "1.2.0",
            "_view_name": "LayoutView",
            "align_content": null,
            "align_items": null,
            "align_self": null,
            "border": null,
            "bottom": null,
            "display": null,
            "flex": null,
            "flex_flow": null,
            "grid_area": null,
            "grid_auto_columns": null,
            "grid_auto_flow": null,
            "grid_auto_rows": null,
            "grid_column": null,
            "grid_gap": null,
            "grid_row": null,
            "grid_template_areas": null,
            "grid_template_columns": null,
            "grid_template_rows": null,
            "height": null,
            "justify_content": null,
            "justify_items": null,
            "left": null,
            "margin": null,
            "max_height": null,
            "max_width": null,
            "min_height": null,
            "min_width": null,
            "object_fit": null,
            "object_position": null,
            "order": null,
            "overflow": null,
            "overflow_x": null,
            "overflow_y": null,
            "padding": null,
            "right": null,
            "top": null,
            "visibility": null,
            "width": null
          }
        },
        "caa3f156efd9472bb6f59c17640b6b44": {
          "model_module": "@jupyter-widgets/controls",
          "model_name": "DescriptionStyleModel",
          "model_module_version": "1.5.0",
          "state": {
            "_model_module": "@jupyter-widgets/controls",
            "_model_module_version": "1.5.0",
            "_model_name": "DescriptionStyleModel",
            "_view_count": null,
            "_view_module": "@jupyter-widgets/base",
            "_view_module_version": "1.2.0",
            "_view_name": "StyleView",
            "description_width": ""
          }
        },
        "1760fa3b701648f38c4f6d5e978dd945": {
          "model_module": "@jupyter-widgets/base",
          "model_name": "LayoutModel",
          "model_module_version": "1.2.0",
          "state": {
            "_model_module": "@jupyter-widgets/base",
            "_model_module_version": "1.2.0",
            "_model_name": "LayoutModel",
            "_view_count": null,
            "_view_module": "@jupyter-widgets/base",
            "_view_module_version": "1.2.0",
            "_view_name": "LayoutView",
            "align_content": null,
            "align_items": null,
            "align_self": null,
            "border": null,
            "bottom": null,
            "display": null,
            "flex": null,
            "flex_flow": null,
            "grid_area": null,
            "grid_auto_columns": null,
            "grid_auto_flow": null,
            "grid_auto_rows": null,
            "grid_column": null,
            "grid_gap": null,
            "grid_row": null,
            "grid_template_areas": null,
            "grid_template_columns": null,
            "grid_template_rows": null,
            "height": null,
            "justify_content": null,
            "justify_items": null,
            "left": null,
            "margin": null,
            "max_height": null,
            "max_width": null,
            "min_height": null,
            "min_width": null,
            "object_fit": null,
            "object_position": null,
            "order": null,
            "overflow": null,
            "overflow_x": null,
            "overflow_y": null,
            "padding": null,
            "right": null,
            "top": null,
            "visibility": null,
            "width": null
          }
        },
        "d95c08d50e20428395e216fea3db2bed": {
          "model_module": "@jupyter-widgets/controls",
          "model_name": "ProgressStyleModel",
          "model_module_version": "1.5.0",
          "state": {
            "_model_module": "@jupyter-widgets/controls",
            "_model_module_version": "1.5.0",
            "_model_name": "ProgressStyleModel",
            "_view_count": null,
            "_view_module": "@jupyter-widgets/base",
            "_view_module_version": "1.2.0",
            "_view_name": "StyleView",
            "bar_color": null,
            "description_width": ""
          }
        },
        "a74a93d17ba54d2d86882807b51aca09": {
          "model_module": "@jupyter-widgets/base",
          "model_name": "LayoutModel",
          "model_module_version": "1.2.0",
          "state": {
            "_model_module": "@jupyter-widgets/base",
            "_model_module_version": "1.2.0",
            "_model_name": "LayoutModel",
            "_view_count": null,
            "_view_module": "@jupyter-widgets/base",
            "_view_module_version": "1.2.0",
            "_view_name": "LayoutView",
            "align_content": null,
            "align_items": null,
            "align_self": null,
            "border": null,
            "bottom": null,
            "display": null,
            "flex": null,
            "flex_flow": null,
            "grid_area": null,
            "grid_auto_columns": null,
            "grid_auto_flow": null,
            "grid_auto_rows": null,
            "grid_column": null,
            "grid_gap": null,
            "grid_row": null,
            "grid_template_areas": null,
            "grid_template_columns": null,
            "grid_template_rows": null,
            "height": null,
            "justify_content": null,
            "justify_items": null,
            "left": null,
            "margin": null,
            "max_height": null,
            "max_width": null,
            "min_height": null,
            "min_width": null,
            "object_fit": null,
            "object_position": null,
            "order": null,
            "overflow": null,
            "overflow_x": null,
            "overflow_y": null,
            "padding": null,
            "right": null,
            "top": null,
            "visibility": null,
            "width": null
          }
        },
        "bd50445ac53244958d055fbd9365da9b": {
          "model_module": "@jupyter-widgets/controls",
          "model_name": "DescriptionStyleModel",
          "model_module_version": "1.5.0",
          "state": {
            "_model_module": "@jupyter-widgets/controls",
            "_model_module_version": "1.5.0",
            "_model_name": "DescriptionStyleModel",
            "_view_count": null,
            "_view_module": "@jupyter-widgets/base",
            "_view_module_version": "1.2.0",
            "_view_name": "StyleView",
            "description_width": ""
          }
        },
        "b13464848225450d878c043a52b17088": {
          "model_module": "@jupyter-widgets/controls",
          "model_name": "HBoxModel",
          "model_module_version": "1.5.0",
          "state": {
            "_dom_classes": [],
            "_model_module": "@jupyter-widgets/controls",
            "_model_module_version": "1.5.0",
            "_model_name": "HBoxModel",
            "_view_count": null,
            "_view_module": "@jupyter-widgets/controls",
            "_view_module_version": "1.5.0",
            "_view_name": "HBoxView",
            "box_style": "",
            "children": [
              "IPY_MODEL_205232773b3a4015a9f8d2e3b2b71544",
              "IPY_MODEL_c4b4f64d884545618bfae77be7a206dc",
              "IPY_MODEL_85e72af7e0284f5a80d3f87a1abad9cc"
            ],
            "layout": "IPY_MODEL_e6437a6f9413466d8ce484767d07096a"
          }
        },
        "205232773b3a4015a9f8d2e3b2b71544": {
          "model_module": "@jupyter-widgets/controls",
          "model_name": "HTMLModel",
          "model_module_version": "1.5.0",
          "state": {
            "_dom_classes": [],
            "_model_module": "@jupyter-widgets/controls",
            "_model_module_version": "1.5.0",
            "_model_name": "HTMLModel",
            "_view_count": null,
            "_view_module": "@jupyter-widgets/controls",
            "_view_module_version": "1.5.0",
            "_view_name": "HTMLView",
            "description": "",
            "description_tooltip": null,
            "layout": "IPY_MODEL_732f08f10d4d47208f5aaf690bfb1130",
            "placeholder": "​",
            "style": "IPY_MODEL_a433cb4db3844f94b0735b9102722e56",
            "value": "Downloading: 100%"
          }
        },
        "c4b4f64d884545618bfae77be7a206dc": {
          "model_module": "@jupyter-widgets/controls",
          "model_name": "FloatProgressModel",
          "model_module_version": "1.5.0",
          "state": {
            "_dom_classes": [],
            "_model_module": "@jupyter-widgets/controls",
            "_model_module_version": "1.5.0",
            "_model_name": "FloatProgressModel",
            "_view_count": null,
            "_view_module": "@jupyter-widgets/controls",
            "_view_module_version": "1.5.0",
            "_view_name": "ProgressView",
            "bar_style": "success",
            "description": "",
            "description_tooltip": null,
            "layout": "IPY_MODEL_038db72fd765405eae6a672dae959abf",
            "max": 791656,
            "min": 0,
            "orientation": "horizontal",
            "style": "IPY_MODEL_3f4cb34785cc411ba89c567fe19f8fa3",
            "value": 791656
          }
        },
        "85e72af7e0284f5a80d3f87a1abad9cc": {
          "model_module": "@jupyter-widgets/controls",
          "model_name": "HTMLModel",
          "model_module_version": "1.5.0",
          "state": {
            "_dom_classes": [],
            "_model_module": "@jupyter-widgets/controls",
            "_model_module_version": "1.5.0",
            "_model_name": "HTMLModel",
            "_view_count": null,
            "_view_module": "@jupyter-widgets/controls",
            "_view_module_version": "1.5.0",
            "_view_name": "HTMLView",
            "description": "",
            "description_tooltip": null,
            "layout": "IPY_MODEL_3acd2bdd7b774b3aa5ca2602dd2b3059",
            "placeholder": "​",
            "style": "IPY_MODEL_2da7bd9f5dc542e29bfe5543996efd6d",
            "value": " 773k/773k [00:00&lt;00:00, 980kB/s]"
          }
        },
        "e6437a6f9413466d8ce484767d07096a": {
          "model_module": "@jupyter-widgets/base",
          "model_name": "LayoutModel",
          "model_module_version": "1.2.0",
          "state": {
            "_model_module": "@jupyter-widgets/base",
            "_model_module_version": "1.2.0",
            "_model_name": "LayoutModel",
            "_view_count": null,
            "_view_module": "@jupyter-widgets/base",
            "_view_module_version": "1.2.0",
            "_view_name": "LayoutView",
            "align_content": null,
            "align_items": null,
            "align_self": null,
            "border": null,
            "bottom": null,
            "display": null,
            "flex": null,
            "flex_flow": null,
            "grid_area": null,
            "grid_auto_columns": null,
            "grid_auto_flow": null,
            "grid_auto_rows": null,
            "grid_column": null,
            "grid_gap": null,
            "grid_row": null,
            "grid_template_areas": null,
            "grid_template_columns": null,
            "grid_template_rows": null,
            "height": null,
            "justify_content": null,
            "justify_items": null,
            "left": null,
            "margin": null,
            "max_height": null,
            "max_width": null,
            "min_height": null,
            "min_width": null,
            "object_fit": null,
            "object_position": null,
            "order": null,
            "overflow": null,
            "overflow_x": null,
            "overflow_y": null,
            "padding": null,
            "right": null,
            "top": null,
            "visibility": null,
            "width": null
          }
        },
        "732f08f10d4d47208f5aaf690bfb1130": {
          "model_module": "@jupyter-widgets/base",
          "model_name": "LayoutModel",
          "model_module_version": "1.2.0",
          "state": {
            "_model_module": "@jupyter-widgets/base",
            "_model_module_version": "1.2.0",
            "_model_name": "LayoutModel",
            "_view_count": null,
            "_view_module": "@jupyter-widgets/base",
            "_view_module_version": "1.2.0",
            "_view_name": "LayoutView",
            "align_content": null,
            "align_items": null,
            "align_self": null,
            "border": null,
            "bottom": null,
            "display": null,
            "flex": null,
            "flex_flow": null,
            "grid_area": null,
            "grid_auto_columns": null,
            "grid_auto_flow": null,
            "grid_auto_rows": null,
            "grid_column": null,
            "grid_gap": null,
            "grid_row": null,
            "grid_template_areas": null,
            "grid_template_columns": null,
            "grid_template_rows": null,
            "height": null,
            "justify_content": null,
            "justify_items": null,
            "left": null,
            "margin": null,
            "max_height": null,
            "max_width": null,
            "min_height": null,
            "min_width": null,
            "object_fit": null,
            "object_position": null,
            "order": null,
            "overflow": null,
            "overflow_x": null,
            "overflow_y": null,
            "padding": null,
            "right": null,
            "top": null,
            "visibility": null,
            "width": null
          }
        },
        "a433cb4db3844f94b0735b9102722e56": {
          "model_module": "@jupyter-widgets/controls",
          "model_name": "DescriptionStyleModel",
          "model_module_version": "1.5.0",
          "state": {
            "_model_module": "@jupyter-widgets/controls",
            "_model_module_version": "1.5.0",
            "_model_name": "DescriptionStyleModel",
            "_view_count": null,
            "_view_module": "@jupyter-widgets/base",
            "_view_module_version": "1.2.0",
            "_view_name": "StyleView",
            "description_width": ""
          }
        },
        "038db72fd765405eae6a672dae959abf": {
          "model_module": "@jupyter-widgets/base",
          "model_name": "LayoutModel",
          "model_module_version": "1.2.0",
          "state": {
            "_model_module": "@jupyter-widgets/base",
            "_model_module_version": "1.2.0",
            "_model_name": "LayoutModel",
            "_view_count": null,
            "_view_module": "@jupyter-widgets/base",
            "_view_module_version": "1.2.0",
            "_view_name": "LayoutView",
            "align_content": null,
            "align_items": null,
            "align_self": null,
            "border": null,
            "bottom": null,
            "display": null,
            "flex": null,
            "flex_flow": null,
            "grid_area": null,
            "grid_auto_columns": null,
            "grid_auto_flow": null,
            "grid_auto_rows": null,
            "grid_column": null,
            "grid_gap": null,
            "grid_row": null,
            "grid_template_areas": null,
            "grid_template_columns": null,
            "grid_template_rows": null,
            "height": null,
            "justify_content": null,
            "justify_items": null,
            "left": null,
            "margin": null,
            "max_height": null,
            "max_width": null,
            "min_height": null,
            "min_width": null,
            "object_fit": null,
            "object_position": null,
            "order": null,
            "overflow": null,
            "overflow_x": null,
            "overflow_y": null,
            "padding": null,
            "right": null,
            "top": null,
            "visibility": null,
            "width": null
          }
        },
        "3f4cb34785cc411ba89c567fe19f8fa3": {
          "model_module": "@jupyter-widgets/controls",
          "model_name": "ProgressStyleModel",
          "model_module_version": "1.5.0",
          "state": {
            "_model_module": "@jupyter-widgets/controls",
            "_model_module_version": "1.5.0",
            "_model_name": "ProgressStyleModel",
            "_view_count": null,
            "_view_module": "@jupyter-widgets/base",
            "_view_module_version": "1.2.0",
            "_view_name": "StyleView",
            "bar_color": null,
            "description_width": ""
          }
        },
        "3acd2bdd7b774b3aa5ca2602dd2b3059": {
          "model_module": "@jupyter-widgets/base",
          "model_name": "LayoutModel",
          "model_module_version": "1.2.0",
          "state": {
            "_model_module": "@jupyter-widgets/base",
            "_model_module_version": "1.2.0",
            "_model_name": "LayoutModel",
            "_view_count": null,
            "_view_module": "@jupyter-widgets/base",
            "_view_module_version": "1.2.0",
            "_view_name": "LayoutView",
            "align_content": null,
            "align_items": null,
            "align_self": null,
            "border": null,
            "bottom": null,
            "display": null,
            "flex": null,
            "flex_flow": null,
            "grid_area": null,
            "grid_auto_columns": null,
            "grid_auto_flow": null,
            "grid_auto_rows": null,
            "grid_column": null,
            "grid_gap": null,
            "grid_row": null,
            "grid_template_areas": null,
            "grid_template_columns": null,
            "grid_template_rows": null,
            "height": null,
            "justify_content": null,
            "justify_items": null,
            "left": null,
            "margin": null,
            "max_height": null,
            "max_width": null,
            "min_height": null,
            "min_width": null,
            "object_fit": null,
            "object_position": null,
            "order": null,
            "overflow": null,
            "overflow_x": null,
            "overflow_y": null,
            "padding": null,
            "right": null,
            "top": null,
            "visibility": null,
            "width": null
          }
        },
        "2da7bd9f5dc542e29bfe5543996efd6d": {
          "model_module": "@jupyter-widgets/controls",
          "model_name": "DescriptionStyleModel",
          "model_module_version": "1.5.0",
          "state": {
            "_model_module": "@jupyter-widgets/controls",
            "_model_module_version": "1.5.0",
            "_model_name": "DescriptionStyleModel",
            "_view_count": null,
            "_view_module": "@jupyter-widgets/base",
            "_view_module_version": "1.2.0",
            "_view_name": "StyleView",
            "description_width": ""
          }
        },
        "037baf2b2cf74d00b047dc2f7d6ea628": {
          "model_module": "@jupyter-widgets/controls",
          "model_name": "HBoxModel",
          "model_module_version": "1.5.0",
          "state": {
            "_dom_classes": [],
            "_model_module": "@jupyter-widgets/controls",
            "_model_module_version": "1.5.0",
            "_model_name": "HBoxModel",
            "_view_count": null,
            "_view_module": "@jupyter-widgets/controls",
            "_view_module_version": "1.5.0",
            "_view_name": "HBoxView",
            "box_style": "",
            "children": [
              "IPY_MODEL_58a6ab05752546c1a10bd2ebabaf8860",
              "IPY_MODEL_6426d264a98347ee8526189aed90bcf4",
              "IPY_MODEL_295991caae93498482a0807eadf00c7f"
            ],
            "layout": "IPY_MODEL_1118870ee851454b908880351d62fdd0"
          }
        },
        "58a6ab05752546c1a10bd2ebabaf8860": {
          "model_module": "@jupyter-widgets/controls",
          "model_name": "HTMLModel",
          "model_module_version": "1.5.0",
          "state": {
            "_dom_classes": [],
            "_model_module": "@jupyter-widgets/controls",
            "_model_module_version": "1.5.0",
            "_model_name": "HTMLModel",
            "_view_count": null,
            "_view_module": "@jupyter-widgets/controls",
            "_view_module_version": "1.5.0",
            "_view_name": "HTMLView",
            "description": "",
            "description_tooltip": null,
            "layout": "IPY_MODEL_b6c90ba7d4fa494e80e4e37b19f3a71a",
            "placeholder": "​",
            "style": "IPY_MODEL_7d3b62641b7d4664b4f1ffb567d10f67",
            "value": "Downloading: 100%"
          }
        },
        "6426d264a98347ee8526189aed90bcf4": {
          "model_module": "@jupyter-widgets/controls",
          "model_name": "FloatProgressModel",
          "model_module_version": "1.5.0",
          "state": {
            "_dom_classes": [],
            "_model_module": "@jupyter-widgets/controls",
            "_model_module_version": "1.5.0",
            "_model_name": "FloatProgressModel",
            "_view_count": null,
            "_view_module": "@jupyter-widgets/controls",
            "_view_module_version": "1.5.0",
            "_view_name": "ProgressView",
            "bar_style": "success",
            "description": "",
            "description_tooltip": null,
            "layout": "IPY_MODEL_e906bb21034f42faaddee1c90c9fa5c9",
            "max": 1197,
            "min": 0,
            "orientation": "horizontal",
            "style": "IPY_MODEL_3f94552026374373af7ba28a720e0444",
            "value": 1197
          }
        },
        "295991caae93498482a0807eadf00c7f": {
          "model_module": "@jupyter-widgets/controls",
          "model_name": "HTMLModel",
          "model_module_version": "1.5.0",
          "state": {
            "_dom_classes": [],
            "_model_module": "@jupyter-widgets/controls",
            "_model_module_version": "1.5.0",
            "_model_name": "HTMLModel",
            "_view_count": null,
            "_view_module": "@jupyter-widgets/controls",
            "_view_module_version": "1.5.0",
            "_view_name": "HTMLView",
            "description": "",
            "description_tooltip": null,
            "layout": "IPY_MODEL_fc927bc75f04433a926404d7581c44b4",
            "placeholder": "​",
            "style": "IPY_MODEL_ac98ea77cfb74081915df6e63b1b2f86",
            "value": " 1.17k/1.17k [00:00&lt;00:00, 13.3kB/s]"
          }
        },
        "1118870ee851454b908880351d62fdd0": {
          "model_module": "@jupyter-widgets/base",
          "model_name": "LayoutModel",
          "model_module_version": "1.2.0",
          "state": {
            "_model_module": "@jupyter-widgets/base",
            "_model_module_version": "1.2.0",
            "_model_name": "LayoutModel",
            "_view_count": null,
            "_view_module": "@jupyter-widgets/base",
            "_view_module_version": "1.2.0",
            "_view_name": "LayoutView",
            "align_content": null,
            "align_items": null,
            "align_self": null,
            "border": null,
            "bottom": null,
            "display": null,
            "flex": null,
            "flex_flow": null,
            "grid_area": null,
            "grid_auto_columns": null,
            "grid_auto_flow": null,
            "grid_auto_rows": null,
            "grid_column": null,
            "grid_gap": null,
            "grid_row": null,
            "grid_template_areas": null,
            "grid_template_columns": null,
            "grid_template_rows": null,
            "height": null,
            "justify_content": null,
            "justify_items": null,
            "left": null,
            "margin": null,
            "max_height": null,
            "max_width": null,
            "min_height": null,
            "min_width": null,
            "object_fit": null,
            "object_position": null,
            "order": null,
            "overflow": null,
            "overflow_x": null,
            "overflow_y": null,
            "padding": null,
            "right": null,
            "top": null,
            "visibility": null,
            "width": null
          }
        },
        "b6c90ba7d4fa494e80e4e37b19f3a71a": {
          "model_module": "@jupyter-widgets/base",
          "model_name": "LayoutModel",
          "model_module_version": "1.2.0",
          "state": {
            "_model_module": "@jupyter-widgets/base",
            "_model_module_version": "1.2.0",
            "_model_name": "LayoutModel",
            "_view_count": null,
            "_view_module": "@jupyter-widgets/base",
            "_view_module_version": "1.2.0",
            "_view_name": "LayoutView",
            "align_content": null,
            "align_items": null,
            "align_self": null,
            "border": null,
            "bottom": null,
            "display": null,
            "flex": null,
            "flex_flow": null,
            "grid_area": null,
            "grid_auto_columns": null,
            "grid_auto_flow": null,
            "grid_auto_rows": null,
            "grid_column": null,
            "grid_gap": null,
            "grid_row": null,
            "grid_template_areas": null,
            "grid_template_columns": null,
            "grid_template_rows": null,
            "height": null,
            "justify_content": null,
            "justify_items": null,
            "left": null,
            "margin": null,
            "max_height": null,
            "max_width": null,
            "min_height": null,
            "min_width": null,
            "object_fit": null,
            "object_position": null,
            "order": null,
            "overflow": null,
            "overflow_x": null,
            "overflow_y": null,
            "padding": null,
            "right": null,
            "top": null,
            "visibility": null,
            "width": null
          }
        },
        "7d3b62641b7d4664b4f1ffb567d10f67": {
          "model_module": "@jupyter-widgets/controls",
          "model_name": "DescriptionStyleModel",
          "model_module_version": "1.5.0",
          "state": {
            "_model_module": "@jupyter-widgets/controls",
            "_model_module_version": "1.5.0",
            "_model_name": "DescriptionStyleModel",
            "_view_count": null,
            "_view_module": "@jupyter-widgets/base",
            "_view_module_version": "1.2.0",
            "_view_name": "StyleView",
            "description_width": ""
          }
        },
        "e906bb21034f42faaddee1c90c9fa5c9": {
          "model_module": "@jupyter-widgets/base",
          "model_name": "LayoutModel",
          "model_module_version": "1.2.0",
          "state": {
            "_model_module": "@jupyter-widgets/base",
            "_model_module_version": "1.2.0",
            "_model_name": "LayoutModel",
            "_view_count": null,
            "_view_module": "@jupyter-widgets/base",
            "_view_module_version": "1.2.0",
            "_view_name": "LayoutView",
            "align_content": null,
            "align_items": null,
            "align_self": null,
            "border": null,
            "bottom": null,
            "display": null,
            "flex": null,
            "flex_flow": null,
            "grid_area": null,
            "grid_auto_columns": null,
            "grid_auto_flow": null,
            "grid_auto_rows": null,
            "grid_column": null,
            "grid_gap": null,
            "grid_row": null,
            "grid_template_areas": null,
            "grid_template_columns": null,
            "grid_template_rows": null,
            "height": null,
            "justify_content": null,
            "justify_items": null,
            "left": null,
            "margin": null,
            "max_height": null,
            "max_width": null,
            "min_height": null,
            "min_width": null,
            "object_fit": null,
            "object_position": null,
            "order": null,
            "overflow": null,
            "overflow_x": null,
            "overflow_y": null,
            "padding": null,
            "right": null,
            "top": null,
            "visibility": null,
            "width": null
          }
        },
        "3f94552026374373af7ba28a720e0444": {
          "model_module": "@jupyter-widgets/controls",
          "model_name": "ProgressStyleModel",
          "model_module_version": "1.5.0",
          "state": {
            "_model_module": "@jupyter-widgets/controls",
            "_model_module_version": "1.5.0",
            "_model_name": "ProgressStyleModel",
            "_view_count": null,
            "_view_module": "@jupyter-widgets/base",
            "_view_module_version": "1.2.0",
            "_view_name": "StyleView",
            "bar_color": null,
            "description_width": ""
          }
        },
        "fc927bc75f04433a926404d7581c44b4": {
          "model_module": "@jupyter-widgets/base",
          "model_name": "LayoutModel",
          "model_module_version": "1.2.0",
          "state": {
            "_model_module": "@jupyter-widgets/base",
            "_model_module_version": "1.2.0",
            "_model_name": "LayoutModel",
            "_view_count": null,
            "_view_module": "@jupyter-widgets/base",
            "_view_module_version": "1.2.0",
            "_view_name": "LayoutView",
            "align_content": null,
            "align_items": null,
            "align_self": null,
            "border": null,
            "bottom": null,
            "display": null,
            "flex": null,
            "flex_flow": null,
            "grid_area": null,
            "grid_auto_columns": null,
            "grid_auto_flow": null,
            "grid_auto_rows": null,
            "grid_column": null,
            "grid_gap": null,
            "grid_row": null,
            "grid_template_areas": null,
            "grid_template_columns": null,
            "grid_template_rows": null,
            "height": null,
            "justify_content": null,
            "justify_items": null,
            "left": null,
            "margin": null,
            "max_height": null,
            "max_width": null,
            "min_height": null,
            "min_width": null,
            "object_fit": null,
            "object_position": null,
            "order": null,
            "overflow": null,
            "overflow_x": null,
            "overflow_y": null,
            "padding": null,
            "right": null,
            "top": null,
            "visibility": null,
            "width": null
          }
        },
        "ac98ea77cfb74081915df6e63b1b2f86": {
          "model_module": "@jupyter-widgets/controls",
          "model_name": "DescriptionStyleModel",
          "model_module_version": "1.5.0",
          "state": {
            "_model_module": "@jupyter-widgets/controls",
            "_model_module_version": "1.5.0",
            "_model_name": "DescriptionStyleModel",
            "_view_count": null,
            "_view_module": "@jupyter-widgets/base",
            "_view_module_version": "1.2.0",
            "_view_name": "StyleView",
            "description_width": ""
          }
        },
        "fa7dbe664b26451988c331735a27dadb": {
          "model_module": "@jupyter-widgets/controls",
          "model_name": "HBoxModel",
          "model_module_version": "1.5.0",
          "state": {
            "_dom_classes": [],
            "_model_module": "@jupyter-widgets/controls",
            "_model_module_version": "1.5.0",
            "_model_name": "HBoxModel",
            "_view_count": null,
            "_view_module": "@jupyter-widgets/controls",
            "_view_module_version": "1.5.0",
            "_view_name": "HBoxView",
            "box_style": "",
            "children": [
              "IPY_MODEL_9e0ae05a663b4e819c834a6966c47d67",
              "IPY_MODEL_4c03c5144b1040dfad25079bb08f2029",
              "IPY_MODEL_8956fce59c164bb1a6597a158c983a98"
            ],
            "layout": "IPY_MODEL_5cacf4598867415d8695ce963b766497"
          }
        },
        "9e0ae05a663b4e819c834a6966c47d67": {
          "model_module": "@jupyter-widgets/controls",
          "model_name": "HTMLModel",
          "model_module_version": "1.5.0",
          "state": {
            "_dom_classes": [],
            "_model_module": "@jupyter-widgets/controls",
            "_model_module_version": "1.5.0",
            "_model_name": "HTMLModel",
            "_view_count": null,
            "_view_module": "@jupyter-widgets/controls",
            "_view_module_version": "1.5.0",
            "_view_name": "HTMLView",
            "description": "",
            "description_tooltip": null,
            "layout": "IPY_MODEL_271afe647d0e4b13b9f4a1353cd7db51",
            "placeholder": "​",
            "style": "IPY_MODEL_18402a996a554a0588d663e44c271092",
            "value": "Downloading: 100%"
          }
        },
        "4c03c5144b1040dfad25079bb08f2029": {
          "model_module": "@jupyter-widgets/controls",
          "model_name": "FloatProgressModel",
          "model_module_version": "1.5.0",
          "state": {
            "_dom_classes": [],
            "_model_module": "@jupyter-widgets/controls",
            "_model_module_version": "1.5.0",
            "_model_name": "FloatProgressModel",
            "_view_count": null,
            "_view_module": "@jupyter-widgets/controls",
            "_view_module_version": "1.5.0",
            "_view_name": "ProgressView",
            "bar_style": "success",
            "description": "",
            "description_tooltip": null,
            "layout": "IPY_MODEL_6160bc12208d467c8371ab0af33a73e8",
            "max": 242065649,
            "min": 0,
            "orientation": "horizontal",
            "style": "IPY_MODEL_a871aa81afb84b17a91c69c25ba5dfde",
            "value": 242065649
          }
        },
        "8956fce59c164bb1a6597a158c983a98": {
          "model_module": "@jupyter-widgets/controls",
          "model_name": "HTMLModel",
          "model_module_version": "1.5.0",
          "state": {
            "_dom_classes": [],
            "_model_module": "@jupyter-widgets/controls",
            "_model_module_version": "1.5.0",
            "_model_name": "HTMLModel",
            "_view_count": null,
            "_view_module": "@jupyter-widgets/controls",
            "_view_module_version": "1.5.0",
            "_view_name": "HTMLView",
            "description": "",
            "description_tooltip": null,
            "layout": "IPY_MODEL_4802dbccec6249d5b382554427b9dc6a",
            "placeholder": "​",
            "style": "IPY_MODEL_649f45dd981a4b9289ef4460fddb1ef1",
            "value": " 231M/231M [00:09&lt;00:00, 26.0MB/s]"
          }
        },
        "5cacf4598867415d8695ce963b766497": {
          "model_module": "@jupyter-widgets/base",
          "model_name": "LayoutModel",
          "model_module_version": "1.2.0",
          "state": {
            "_model_module": "@jupyter-widgets/base",
            "_model_module_version": "1.2.0",
            "_model_name": "LayoutModel",
            "_view_count": null,
            "_view_module": "@jupyter-widgets/base",
            "_view_module_version": "1.2.0",
            "_view_name": "LayoutView",
            "align_content": null,
            "align_items": null,
            "align_self": null,
            "border": null,
            "bottom": null,
            "display": null,
            "flex": null,
            "flex_flow": null,
            "grid_area": null,
            "grid_auto_columns": null,
            "grid_auto_flow": null,
            "grid_auto_rows": null,
            "grid_column": null,
            "grid_gap": null,
            "grid_row": null,
            "grid_template_areas": null,
            "grid_template_columns": null,
            "grid_template_rows": null,
            "height": null,
            "justify_content": null,
            "justify_items": null,
            "left": null,
            "margin": null,
            "max_height": null,
            "max_width": null,
            "min_height": null,
            "min_width": null,
            "object_fit": null,
            "object_position": null,
            "order": null,
            "overflow": null,
            "overflow_x": null,
            "overflow_y": null,
            "padding": null,
            "right": null,
            "top": null,
            "visibility": null,
            "width": null
          }
        },
        "271afe647d0e4b13b9f4a1353cd7db51": {
          "model_module": "@jupyter-widgets/base",
          "model_name": "LayoutModel",
          "model_module_version": "1.2.0",
          "state": {
            "_model_module": "@jupyter-widgets/base",
            "_model_module_version": "1.2.0",
            "_model_name": "LayoutModel",
            "_view_count": null,
            "_view_module": "@jupyter-widgets/base",
            "_view_module_version": "1.2.0",
            "_view_name": "LayoutView",
            "align_content": null,
            "align_items": null,
            "align_self": null,
            "border": null,
            "bottom": null,
            "display": null,
            "flex": null,
            "flex_flow": null,
            "grid_area": null,
            "grid_auto_columns": null,
            "grid_auto_flow": null,
            "grid_auto_rows": null,
            "grid_column": null,
            "grid_gap": null,
            "grid_row": null,
            "grid_template_areas": null,
            "grid_template_columns": null,
            "grid_template_rows": null,
            "height": null,
            "justify_content": null,
            "justify_items": null,
            "left": null,
            "margin": null,
            "max_height": null,
            "max_width": null,
            "min_height": null,
            "min_width": null,
            "object_fit": null,
            "object_position": null,
            "order": null,
            "overflow": null,
            "overflow_x": null,
            "overflow_y": null,
            "padding": null,
            "right": null,
            "top": null,
            "visibility": null,
            "width": null
          }
        },
        "18402a996a554a0588d663e44c271092": {
          "model_module": "@jupyter-widgets/controls",
          "model_name": "DescriptionStyleModel",
          "model_module_version": "1.5.0",
          "state": {
            "_model_module": "@jupyter-widgets/controls",
            "_model_module_version": "1.5.0",
            "_model_name": "DescriptionStyleModel",
            "_view_count": null,
            "_view_module": "@jupyter-widgets/base",
            "_view_module_version": "1.2.0",
            "_view_name": "StyleView",
            "description_width": ""
          }
        },
        "6160bc12208d467c8371ab0af33a73e8": {
          "model_module": "@jupyter-widgets/base",
          "model_name": "LayoutModel",
          "model_module_version": "1.2.0",
          "state": {
            "_model_module": "@jupyter-widgets/base",
            "_model_module_version": "1.2.0",
            "_model_name": "LayoutModel",
            "_view_count": null,
            "_view_module": "@jupyter-widgets/base",
            "_view_module_version": "1.2.0",
            "_view_name": "LayoutView",
            "align_content": null,
            "align_items": null,
            "align_self": null,
            "border": null,
            "bottom": null,
            "display": null,
            "flex": null,
            "flex_flow": null,
            "grid_area": null,
            "grid_auto_columns": null,
            "grid_auto_flow": null,
            "grid_auto_rows": null,
            "grid_column": null,
            "grid_gap": null,
            "grid_row": null,
            "grid_template_areas": null,
            "grid_template_columns": null,
            "grid_template_rows": null,
            "height": null,
            "justify_content": null,
            "justify_items": null,
            "left": null,
            "margin": null,
            "max_height": null,
            "max_width": null,
            "min_height": null,
            "min_width": null,
            "object_fit": null,
            "object_position": null,
            "order": null,
            "overflow": null,
            "overflow_x": null,
            "overflow_y": null,
            "padding": null,
            "right": null,
            "top": null,
            "visibility": null,
            "width": null
          }
        },
        "a871aa81afb84b17a91c69c25ba5dfde": {
          "model_module": "@jupyter-widgets/controls",
          "model_name": "ProgressStyleModel",
          "model_module_version": "1.5.0",
          "state": {
            "_model_module": "@jupyter-widgets/controls",
            "_model_module_version": "1.5.0",
            "_model_name": "ProgressStyleModel",
            "_view_count": null,
            "_view_module": "@jupyter-widgets/base",
            "_view_module_version": "1.2.0",
            "_view_name": "StyleView",
            "bar_color": null,
            "description_width": ""
          }
        },
        "4802dbccec6249d5b382554427b9dc6a": {
          "model_module": "@jupyter-widgets/base",
          "model_name": "LayoutModel",
          "model_module_version": "1.2.0",
          "state": {
            "_model_module": "@jupyter-widgets/base",
            "_model_module_version": "1.2.0",
            "_model_name": "LayoutModel",
            "_view_count": null,
            "_view_module": "@jupyter-widgets/base",
            "_view_module_version": "1.2.0",
            "_view_name": "LayoutView",
            "align_content": null,
            "align_items": null,
            "align_self": null,
            "border": null,
            "bottom": null,
            "display": null,
            "flex": null,
            "flex_flow": null,
            "grid_area": null,
            "grid_auto_columns": null,
            "grid_auto_flow": null,
            "grid_auto_rows": null,
            "grid_column": null,
            "grid_gap": null,
            "grid_row": null,
            "grid_template_areas": null,
            "grid_template_columns": null,
            "grid_template_rows": null,
            "height": null,
            "justify_content": null,
            "justify_items": null,
            "left": null,
            "margin": null,
            "max_height": null,
            "max_width": null,
            "min_height": null,
            "min_width": null,
            "object_fit": null,
            "object_position": null,
            "order": null,
            "overflow": null,
            "overflow_x": null,
            "overflow_y": null,
            "padding": null,
            "right": null,
            "top": null,
            "visibility": null,
            "width": null
          }
        },
        "649f45dd981a4b9289ef4460fddb1ef1": {
          "model_module": "@jupyter-widgets/controls",
          "model_name": "DescriptionStyleModel",
          "model_module_version": "1.5.0",
          "state": {
            "_model_module": "@jupyter-widgets/controls",
            "_model_module_version": "1.5.0",
            "_model_name": "DescriptionStyleModel",
            "_view_count": null,
            "_view_module": "@jupyter-widgets/base",
            "_view_module_version": "1.2.0",
            "_view_name": "StyleView",
            "description_width": ""
          }
        }
      }
    }
  },
  "cells": [
    {
      "cell_type": "markdown",
      "metadata": {
        "id": "view-in-github",
        "colab_type": "text"
      },
      "source": [
        "<a href=\"https://colab.research.google.com/github/lukassanting/Idiom-Translation/blob/main/End-To-End/End_To_End_Training.ipynb\" target=\"_parent\"><img src=\"https://colab.research.google.com/assets/colab-badge.svg\" alt=\"Open In Colab\"/></a>"
      ]
    },
    {
      "cell_type": "markdown",
      "source": [
        "# Training T5 - Prefix+Idiom\n",
        "\n"
      ],
      "metadata": {
        "id": "rEADq27OKFe6"
      }
    },
    {
      "cell_type": "markdown",
      "source": [
        "#0. Installs, Imports, Setup\n"
      ],
      "metadata": {
        "id": "v9dFeYBSZJJb"
      }
    },
    {
      "cell_type": "markdown",
      "source": [
        "##0.1 Import Libraries & Packages"
      ],
      "metadata": {
        "id": "I8njKcE7c2F4"
      }
    },
    {
      "cell_type": "code",
      "source": [
        "!pip install sentencepiece -q\n",
        "!pip install transformers -q\n",
        "!pip install torch -q\n",
        "!pip install rich[jupyter] -q\n",
        "\n",
        "!pip install -U nltk -q\n",
        "!pip install datasets -q"
      ],
      "metadata": {
        "id": "dEFESOlJb8yT",
        "outputId": "5f815e75-1a4c-4d86-c350-e417430ff60d",
        "colab": {
          "base_uri": "https://localhost:8080/"
        }
      },
      "execution_count": 1,
      "outputs": [
        {
          "output_type": "stream",
          "name": "stdout",
          "text": [
            "\u001b[K     |████████████████████████████████| 1.2 MB 10.0 MB/s \n",
            "\u001b[K     |████████████████████████████████| 4.2 MB 6.7 MB/s \n",
            "\u001b[K     |████████████████████████████████| 86 kB 6.2 MB/s \n",
            "\u001b[K     |████████████████████████████████| 6.6 MB 48.7 MB/s \n",
            "\u001b[K     |████████████████████████████████| 596 kB 56.8 MB/s \n",
            "\u001b[K     |████████████████████████████████| 232 kB 8.5 MB/s \n",
            "\u001b[K     |████████████████████████████████| 51 kB 8.0 MB/s \n",
            "\u001b[K     |████████████████████████████████| 1.5 MB 6.7 MB/s \n",
            "\u001b[K     |████████████████████████████████| 749 kB 65.0 MB/s \n",
            "\u001b[K     |████████████████████████████████| 346 kB 8.1 MB/s \n",
            "\u001b[K     |████████████████████████████████| 86 kB 5.8 MB/s \n",
            "\u001b[K     |████████████████████████████████| 1.1 MB 70.2 MB/s \n",
            "\u001b[K     |████████████████████████████████| 140 kB 74.5 MB/s \n",
            "\u001b[K     |████████████████████████████████| 212 kB 73.6 MB/s \n",
            "\u001b[K     |████████████████████████████████| 127 kB 73.2 MB/s \n",
            "\u001b[K     |████████████████████████████████| 271 kB 38.8 MB/s \n",
            "\u001b[K     |████████████████████████████████| 94 kB 4.1 MB/s \n",
            "\u001b[K     |████████████████████████████████| 144 kB 74.0 MB/s \n",
            "\u001b[K     |████████████████████████████████| 112 kB 73.0 MB/s \n",
            "\u001b[31mERROR: pip's dependency resolver does not currently take into account all the packages that are installed. This behaviour is the source of the following dependency conflicts.\n",
            "datascience 0.10.6 requires folium==0.2.1, but you have folium 0.8.3 which is incompatible.\u001b[0m\n",
            "\u001b[?25h"
          ]
        }
      ]
    },
    {
      "cell_type": "code",
      "source": [
        "# Drive\n",
        "from google.colab import drive\n",
        "\n",
        "# Plots\n",
        "import IPython\n",
        "import IPython.display\n",
        "import seaborn as sns\n",
        "import matplotlib as mpl\n",
        "import matplotlib.pyplot as plt\n",
        "plt.figure(figsize=(12, 6))\n",
        "\n",
        "# Util\n",
        "import os\n",
        "import pandas as pd\n",
        "import numpy as np\n",
        "import re\n",
        "from sklearn.model_selection import train_test_split\n",
        "\n",
        "pd.set_option('display.max_rows', None)\n",
        "\n",
        "# ML\n",
        "import torch\n",
        "import torch.nn.functional as F\n",
        "from torch.utils.data import Dataset, DataLoader, RandomSampler, SequentialSampler\n",
        "\n",
        "# Importing the T5 modules from huggingface/transformers\n",
        "from transformers import T5Tokenizer, T5ForConditionalGeneration\n",
        "\n",
        "# rich: for a better display on terminal\n",
        "from rich.table import Column, Table\n",
        "from rich.text import Text\n",
        "from rich import box\n",
        "from rich.console import Console\n",
        "\n",
        "# define a rich console logger\n",
        "console = Console(record=True)\n",
        "\n",
        "# Evaluation\n",
        "from datasets import load_metric\n",
        "meteor = load_metric(\"meteor\")\n",
        "\n",
        "# Setting up the device for GPU usage\n",
        "from torch import cuda\n",
        "device = 'cuda' if cuda.is_available() else 'cpu'"
      ],
      "metadata": {
        "colab": {
          "base_uri": "https://localhost:8080/",
          "height": 171,
          "referenced_widgets": [
            "05b2a573f7e8441bb7b9b970275f2d39",
            "e265612825a24cf38d34da2d65628be4",
            "30f428e0f70f492cb168a083213c246b",
            "8d89b2ceedb04e91ade6c5db9f86b620",
            "a7791ea7c51d4712a1ba0406cc0e7509",
            "dd01fdb53d1a4fc5b7e5036a508f3848",
            "caa3f156efd9472bb6f59c17640b6b44",
            "1760fa3b701648f38c4f6d5e978dd945",
            "d95c08d50e20428395e216fea3db2bed",
            "a74a93d17ba54d2d86882807b51aca09",
            "bd50445ac53244958d055fbd9365da9b"
          ]
        },
        "id": "4mcA2ya5ZNCM",
        "outputId": "a60c2e79-3e8b-4526-a23d-24f86e6c7f75"
      },
      "execution_count": 2,
      "outputs": [
        {
          "output_type": "display_data",
          "data": {
            "text/plain": [
              "Downloading builder script:   0%|          | 0.00/2.20k [00:00<?, ?B/s]"
            ],
            "application/vnd.jupyter.widget-view+json": {
              "version_major": 2,
              "version_minor": 0,
              "model_id": "05b2a573f7e8441bb7b9b970275f2d39"
            }
          },
          "metadata": {}
        },
        {
          "output_type": "stream",
          "name": "stderr",
          "text": [
            "[nltk_data] Downloading package wordnet to /root/nltk_data...\n",
            "[nltk_data]   Unzipping corpora/wordnet.zip.\n",
            "[nltk_data] Downloading package punkt to /root/nltk_data...\n",
            "[nltk_data]   Unzipping tokenizers/punkt.zip.\n",
            "[nltk_data] Downloading package omw-1.4 to /root/nltk_data...\n",
            "[nltk_data]   Unzipping corpora/omw-1.4.zip.\n"
          ]
        },
        {
          "output_type": "display_data",
          "data": {
            "text/plain": [
              "<Figure size 864x432 with 0 Axes>"
            ]
          },
          "metadata": {}
        }
      ]
    },
    {
      "cell_type": "markdown",
      "source": [
        "##0.2. Import Data"
      ],
      "metadata": {
        "id": "s3arh9WcZFww"
      }
    },
    {
      "cell_type": "markdown",
      "source": [
        "Either upload the data to the shared Google Drive and use this to download, or upload it directly yourself (whatever is easier)"
      ],
      "metadata": {
        "id": "zK4I5s9gZqxI"
      }
    },
    {
      "cell_type": "code",
      "execution_count": 3,
      "metadata": {
        "colab": {
          "base_uri": "https://localhost:8080/"
        },
        "id": "VoQUPYjsZDiq",
        "outputId": "2a58b450-4042-476e-bca4-469738471329"
      },
      "outputs": [
        {
          "output_type": "stream",
          "name": "stdout",
          "text": [
            "Cloning into 'repo'...\n",
            "remote: Enumerating objects: 252, done.\u001b[K\n",
            "remote: Counting objects: 100% (252/252), done.\u001b[K\n",
            "remote: Compressing objects: 100% (193/193), done.\u001b[K\n",
            "remote: Total 252 (delta 118), reused 165 (delta 48), pack-reused 0\u001b[K\n",
            "Receiving objects: 100% (252/252), 4.87 MiB | 13.13 MiB/s, done.\n",
            "Resolving deltas: 100% (118/118), done.\n"
          ]
        }
      ],
      "source": [
        "folder_name = 'repo'\n",
        "!git clone https://github.com/lukassanting/Idiom-Translation/ 'repo'"
      ]
    },
    {
      "cell_type": "markdown",
      "source": [
        "##0.3 Setup functions & classes"
      ],
      "metadata": {
        "id": "xnpSL43tdGvk"
      }
    },
    {
      "cell_type": "markdown",
      "source": [
        "###0.3.1 FUNC: display_df"
      ],
      "metadata": {
        "id": "mKt7_iGUeScN"
      }
    },
    {
      "cell_type": "code",
      "source": [
        "# to display dataframe in ASCII format\n",
        "def display_df(df):\n",
        "    \"\"\"display dataframe in ASCII format\"\"\"\n",
        "\n",
        "    console = Console()\n",
        "    table = Table(\n",
        "        Column(\"source_text\", justify=\"center\"),\n",
        "        Column(\"target_text\", justify=\"center\"),\n",
        "        title=\"Sample Data\",\n",
        "        pad_edge=False,\n",
        "        box=box.ASCII,\n",
        "    )\n",
        "\n",
        "    for i, row in enumerate(df.values.tolist()):\n",
        "        table.add_row(row[0], row[1])\n",
        "\n",
        "    console.print(table)"
      ],
      "metadata": {
        "id": "QjO6nIJGchxq"
      },
      "execution_count": 4,
      "outputs": []
    },
    {
      "cell_type": "markdown",
      "source": [
        "###0.3.2 CLASS: DataSet"
      ],
      "metadata": {
        "id": "5v2GZNnvea0H"
      }
    },
    {
      "cell_type": "markdown",
      "source": [
        "A Dataset class for reading and loading the dataset into the dataloader, and then feed it into the neural network for fine-tuning the model."
      ],
      "metadata": {
        "id": "e1KXqhYhdX_f"
      }
    },
    {
      "cell_type": "code",
      "source": [
        "class DataSet(Dataset):\n",
        "    \"\"\"\n",
        "    Creating a dataset class for reading the dataset and\n",
        "    loading it into the dataloader, to pass it to the\n",
        "    neural network for finetuning the model\n",
        "\n",
        "    \"\"\"\n",
        "\n",
        "    def __init__(\n",
        "        self, dataframe, tokenizer, source_len, target_len, source_text, target_text\n",
        "    ):\n",
        "        \"\"\"\n",
        "        Initializes a Dataset class\n",
        "\n",
        "        Args:\n",
        "            dataframe (pandas.DataFrame): Input dataframe\n",
        "            tokenizer (transformers.tokenizer): Transformers tokenizer\n",
        "            source_len (int): Max length of source text\n",
        "            target_len (int): Max length of target text\n",
        "            source_text (str): column name of source text\n",
        "            target_text (str): column name of target text\n",
        "        \"\"\"\n",
        "        self.tokenizer = tokenizer\n",
        "        self.data = dataframe\n",
        "        self.source_len = source_len\n",
        "        self.summ_len = target_len\n",
        "        self.target_text = self.data[target_text]\n",
        "        self.source_text = self.data[source_text]\n",
        "\n",
        "    def __len__(self):\n",
        "        \"\"\"returns the length of dataframe\"\"\"\n",
        "\n",
        "        return len(self.target_text)\n",
        "\n",
        "    def __getitem__(self, index):\n",
        "        \"\"\"return the input ids, attention masks and target ids\"\"\"\n",
        "\n",
        "        source_text = str(self.source_text[index])\n",
        "        target_text = str(self.target_text[index])\n",
        "\n",
        "        # cleaning data so as to ensure data is in string type\n",
        "        source_text = \" \".join(source_text.split())\n",
        "        target_text = \" \".join(target_text.split())\n",
        "\n",
        "        source = self.tokenizer.batch_encode_plus(\n",
        "            [source_text],\n",
        "            max_length=self.source_len,\n",
        "            pad_to_max_length=True,\n",
        "            truncation=True,\n",
        "            padding=\"max_length\",\n",
        "            return_tensors=\"pt\",\n",
        "        )\n",
        "        target = self.tokenizer.batch_encode_plus(\n",
        "            [target_text],\n",
        "            max_length=self.summ_len,\n",
        "            pad_to_max_length=True,\n",
        "            truncation=True,\n",
        "            padding=\"max_length\",\n",
        "            return_tensors=\"pt\",\n",
        "        )\n",
        "\n",
        "        source_ids = source[\"input_ids\"].squeeze()\n",
        "        source_mask = source[\"attention_mask\"].squeeze()\n",
        "        target_ids = target[\"input_ids\"].squeeze()\n",
        "        target_mask = target[\"attention_mask\"].squeeze()\n",
        "\n",
        "        return {\n",
        "            \"source_ids\": source_ids.to(dtype=torch.long),\n",
        "            \"source_mask\": source_mask.to(dtype=torch.long),\n",
        "            \"target_ids\": target_ids.to(dtype=torch.long),\n",
        "            \"target_ids_y\": target_ids.to(dtype=torch.long),\n",
        "        }"
      ],
      "metadata": {
        "id": "iJmDbxNbdKlP"
      },
      "execution_count": 5,
      "outputs": []
    },
    {
      "cell_type": "markdown",
      "source": [
        "###0.3.3 FUNC: train"
      ],
      "metadata": {
        "id": "rcxgONn0efui"
      }
    },
    {
      "cell_type": "markdown",
      "source": [
        "Train function, which will the put model on training mode, generate outputs and calculate loss"
      ],
      "metadata": {
        "id": "noK0ICH4eCzT"
      }
    },
    {
      "cell_type": "code",
      "source": [
        "def train(epoch, tokenizer, model, device, loader, optimizer, train_batch_size):\n",
        "\n",
        "    \"\"\"\n",
        "    Function to be called for training with the parameters passed from main function\n",
        "\n",
        "    Takes 6 arguments as input:\n",
        "    \n",
        "        epoch: epoch\n",
        "        tokenizer: T5 tokenizer\n",
        "        model: T5 model\n",
        "        loader: Train Dataloader\n",
        "        optimizer: Optimizer\n",
        "        train_batch_size: batch size for the training data\n",
        "\n",
        "\n",
        "    \"\"\"\n",
        "\n",
        "    model.train()\n",
        "    train_loss = 0\n",
        "    train_batches = 0\n",
        "    for _, data in enumerate(loader, 0):\n",
        "        y = data[\"target_ids\"].to(device, dtype=torch.long)\n",
        "        y_ids = y[:, :-1].contiguous()\n",
        "        lm_labels = y[:, 1:].clone().detach()\n",
        "        lm_labels[y[:, 1:] == tokenizer.pad_token_id] = -100\n",
        "        ids = data[\"source_ids\"].to(device, dtype=torch.long)\n",
        "        mask = data[\"source_mask\"].to(device, dtype=torch.long)\n",
        "\n",
        "        outputs = model(\n",
        "            input_ids=ids,\n",
        "            attention_mask=mask,\n",
        "            decoder_input_ids=y_ids,\n",
        "            labels=lm_labels,\n",
        "        )\n",
        "        loss = outputs[0]\n",
        "        train_loss += loss.item()\n",
        "        train_batches += 1\n",
        "\n",
        "        # Print training loss every 100 batches\n",
        "        if _ % 100 == 0:\n",
        "            #training_logger.add_row(str(epoch), str(_), str(loss.item()))\n",
        "            console.print(\"Epoch: \", str(epoch), \"Batch: \", str(_), \"Loss: \", str(loss.item()))\n",
        "\n",
        "        optimizer.zero_grad()\n",
        "        loss.backward() \n",
        "        optimizer.step()\n",
        "\n",
        "    # Print average training loss over the epoch\n",
        "    train_loss = train_loss/train_batches\n",
        "    training_logger.add_row(str(epoch), str(train_loss))\n"
      ],
      "metadata": {
        "id": "EG5eKLajeFKX"
      },
      "execution_count": 6,
      "outputs": []
    },
    {
      "cell_type": "markdown",
      "source": [
        "###0.3.4 FUNC: validate"
      ],
      "metadata": {
        "id": "K2ChKAx-em7b"
      }
    },
    {
      "cell_type": "markdown",
      "source": [
        "Validate function is same as the Train function, but for the validation data\n",
        "\n"
      ],
      "metadata": {
        "id": "o7UaCBo7eKqX"
      }
    },
    {
      "cell_type": "code",
      "source": [
        "def validate(epoch, tokenizer, model, device, loader, output_dir, evaluate=False):\n",
        "\n",
        "  \"\"\"\n",
        "  Function to evaluate model for predictions\n",
        "\n",
        "  \"evaluate\" toggles whether we are checking if the model improved during \n",
        "  validation and should save it (True) or whether we are just evaluating the model on data (False)\n",
        "\n",
        "  \"\"\"\n",
        "  model.eval()\n",
        "  predictions = []\n",
        "  actuals = []\n",
        "  sources = []\n",
        "  val_loss = 0\n",
        "  batches = 0\n",
        "  global best_meteor # to keep track of best model\n",
        "  with torch.no_grad():\n",
        "      for _, data in enumerate(loader, 0):\n",
        "          y = data['target_ids'].to(device, dtype = torch.long)\n",
        "          ids = data['source_ids'].to(device, dtype = torch.long)\n",
        "          mask = data['source_mask'].to(device, dtype = torch.long)\n",
        "\n",
        "          # Find validation loss\n",
        "          if not evaluate:\n",
        "            y_ids = y[:, :-1].contiguous()\n",
        "            lm_labels = y[:, 1:].clone().detach()\n",
        "            lm_labels[y[:, 1:] == tokenizer.pad_token_id] = -100\n",
        "\n",
        "            outputs = model(\n",
        "                input_ids=ids,\n",
        "                attention_mask=mask,\n",
        "                decoder_input_ids=y_ids,\n",
        "                labels=lm_labels\n",
        "                )\n",
        "            loss = outputs[0]\n",
        "            val_loss += loss.item()\n",
        "            batches += 1\n",
        "\n",
        "          # Generate outputs\n",
        "          generated_ids = model.generate(\n",
        "              input_ids = ids,\n",
        "              attention_mask = mask, \n",
        "              max_length=150, \n",
        "              num_beams=2,\n",
        "              repetition_penalty=2.5, \n",
        "              length_penalty=1.0, \n",
        "              early_stopping=True\n",
        "              )\n",
        "          preds = [tokenizer.decode(g, skip_special_tokens=True, clean_up_tokenization_spaces=True) for g in generated_ids]\n",
        "          target = [tokenizer.decode(t, skip_special_tokens=True, clean_up_tokenization_spaces=True)for t in y]\n",
        "          source = [tokenizer.decode(s, skip_special_tokens=True, clean_up_tokenization_spaces=True)for s in ids]\n",
        "\n",
        "          predictions.extend(preds)\n",
        "          actuals.extend(target)\n",
        "          sources.extend(source)\n",
        "\n",
        "  if evaluate:\n",
        "    # Save predictions\n",
        "    final_df = pd.DataFrame({\"Input\": sources, \"Generated Text\": predictions, \"Actual Text\": actuals})\n",
        "    final_df.to_csv(os.path.join(output_dir, \"predictions.csv\"))\n",
        "\n",
        "  # Save average loss over epoch and Meteor score over epoch\n",
        "  if not evaluate:\n",
        "    val_loss = val_loss/batches\n",
        "    validation_logger.add_row(str(epoch), str(val_loss))\n",
        "\n",
        "    meteor_score = meteor.compute(predictions=predictions, references=actuals)\n",
        "    meteor_logger.add_row(str(epoch), str(meteor_score['meteor']))\n",
        "    \n",
        "    console.print(\"[Validation] Epoch: \", str(epoch), \"Validation Loss: \", str(val_loss), \"Meteor: \", str(meteor_score['meteor']))\n",
        "\n",
        "    # If model has higher meteor score than before, save it\n",
        "    if meteor_score['meteor'] > best_meteor:\n",
        "      best_meteor = meteor_score['meteor']\n",
        "      console.log(f\"[Saved model and predictions of epoch {epoch}]\\n\")\n",
        "\n",
        "      path = os.path.join(output_dir, \"model_files\")\n",
        "      model.save_pretrained(path)\n",
        "      tokenizer.save_pretrained(path)\n",
        "\n",
        "      final_df = pd.DataFrame({\"Input\": sources, \"Generated Text\": predictions, \"Actual Text\": actuals})\n",
        "      final_df.to_csv(os.path.join(output_dir, \"predictions.csv\"))\n",
        "\n",
        "\n",
        "  return predictions, actuals"
      ],
      "metadata": {
        "id": "JRHNbfg1eMlx"
      },
      "execution_count": 7,
      "outputs": []
    },
    {
      "cell_type": "markdown",
      "source": [
        "###0.3.5 FUNC: T5Trainer"
      ],
      "metadata": {
        "id": "F19iHSPfes84"
      }
    },
    {
      "cell_type": "markdown",
      "source": [
        "T5Trainer is our main function. It accepts input data, model type, model paramters to fine-tune the model. Under the hood, it utilizes, our Dataset class for data handling, train function to fine tune the model, validate to evaluate the model."
      ],
      "metadata": {
        "id": "uu9v__Wjexl1"
      }
    },
    {
      "cell_type": "code",
      "source": [
        "def T5Trainer(\n",
        "    train_data, val_data, source_text, target_text, model_params, output_dir\n",
        "):\n",
        "\n",
        "    \"\"\"\n",
        "    T5 trainer has 6 arguments:\n",
        "\n",
        "      train_data: Input dataframe of training data\n",
        "      val_data: Input dataframe of validation data\n",
        "      source_text: Column name of the input text i.e. idiomatic sentence\n",
        "      target_text: Column name of the target text i.e. literal sentence\n",
        "      model_params: T5 model parameters\n",
        "      output_dir: Output directory to save fine tuned T5 model.\n",
        "\n",
        "    \"\"\"\n",
        "\n",
        "    # Set random seeds and deterministic pytorch for reproducibility\n",
        "    torch.manual_seed(model_params[\"SEED\"])  # pytorch random seed\n",
        "    np.random.seed(model_params[\"SEED\"])  # numpy random seed\n",
        "    torch.backends.cudnn.deterministic = True\n",
        "\n",
        "    # logging\n",
        "    console.log(f\"\"\"[Model]: Loading {model_params[\"MODEL\"]}...\\n\"\"\")\n",
        "\n",
        "    # tokenizer for encoding the text\n",
        "    tokenizer = T5Tokenizer.from_pretrained(model_params[\"MODEL\"])\n",
        "\n",
        "    # Defining the model. The model is then sent to device (GPU/TPU)\n",
        "    model = T5ForConditionalGeneration.from_pretrained(model_params[\"MODEL\"])\n",
        "    model = model.to(device)\n",
        "\n",
        "    # logging\n",
        "    console.log(f\"[Data]: Reading data...\\n\")\n",
        "\n",
        "    # Importing the raw dataset\n",
        "    train_data = train_data[[source_text, target_text]]\n",
        "    train_data = train_data.reset_index(drop=True)\n",
        "    val_data = val_data[[source_text, target_text]]\n",
        "    val_data = val_data.reset_index(drop=True)\n",
        "\n",
        "    display_df(train_data.head(2))\n",
        "\n",
        "    # Creation of Dataset and Dataloader\n",
        "    console.print(f\"TRAIN Dataset: {train_data.shape}\")\n",
        "    console.print(f\"VALIDATION Dataset: {val_data.shape}\\n\")\n",
        "\n",
        "    # Creating the Training and Validation dataset for further creation of Dataloader\n",
        "    training_set = DataSet(\n",
        "        train_data,\n",
        "        tokenizer,\n",
        "        model_params[\"MAX_SOURCE_TEXT_LENGTH\"],\n",
        "        model_params[\"MAX_TARGET_TEXT_LENGTH\"],\n",
        "        source_text,\n",
        "        target_text,\n",
        "    )\n",
        "    val_set = DataSet(\n",
        "        val_data,\n",
        "        tokenizer,\n",
        "        model_params[\"MAX_SOURCE_TEXT_LENGTH\"],\n",
        "        model_params[\"MAX_TARGET_TEXT_LENGTH\"],\n",
        "        source_text,\n",
        "        target_text,\n",
        "    )\n",
        "\n",
        "    # Defining the parameters for creation of dataloaders\n",
        "    train_params = {\n",
        "        \"batch_size\": model_params[\"TRAIN_BATCH_SIZE\"],\n",
        "        \"shuffle\": True,\n",
        "        \"num_workers\": 0,\n",
        "    }\n",
        "\n",
        "    val_params = {\n",
        "        \"batch_size\": model_params[\"VALID_BATCH_SIZE\"],\n",
        "        \"shuffle\": False,\n",
        "        \"num_workers\": 0,\n",
        "    }\n",
        "\n",
        "    # Creation of Dataloaders for training and validation.\n",
        "    training_loader = DataLoader(training_set, **train_params)\n",
        "    val_loader = DataLoader(val_set, **val_params)\n",
        "\n",
        "    # Defining the optimizer that will be used to tune the weights of the network in the training session.\n",
        "    optimizer = torch.optim.Adam(\n",
        "        params=model.parameters(), lr=model_params[\"LEARNING_RATE\"]\n",
        "    )\n",
        "\n",
        "    # Training loop\n",
        "    console.log(f\"[Initiating Fine Tuning]...\\n\")\n",
        "    global best_meteor\n",
        "    best_meteor = 0 # To keep track of best model\n",
        "    train_batch_size = model_params[\"TRAIN_BATCH_SIZE\"]\n",
        "    for epoch in range(model_params[\"TRAIN_EPOCHS\"]):\n",
        "        train(epoch, tokenizer, model, device, training_loader, optimizer, train_batch_size)\n",
        "        validate(epoch, tokenizer, model, device, val_loader, output_dir)\n",
        "\n",
        "    console.print(\"\\n\")\n",
        "    console.print(training_logger)\n",
        "    console.print(\"\\n\")\n",
        "    console.print(validation_logger)\n",
        "    console.print(\"\\n\")\n",
        "    console.print(meteor_logger)\n",
        "\n",
        "    # console.log(f\"[Saving Model]...\\n\")\n",
        "    # # Saving the model after training\n",
        "    # path = os.path.join(output_dir, \"model_files\")\n",
        "    # model.save_pretrained(path)\n",
        "    # tokenizer.save_pretrained(path)\n",
        "\n",
        "    # # generating output for validation dataset\n",
        "    # console.log(f\"[Generating Validation Outputs]...\\n\")\n",
        "    # predictions, actuals = validate(epoch, tokenizer, model, device, val_loader, evaluate=False)\n",
        "    # final_df = pd.DataFrame({\"Input\": val_data[source_text], \"Generated Text\": predictions, \"Actual Text\": actuals})\n",
        "    # final_df.to_csv(os.path.join(output_dir, \"predictions.csv\"))\n",
        "\n",
        "    console.save_text(os.path.join(output_dir, \"logs.txt\"))\n",
        "\n",
        "    # console.log(f\"[Validation Outputs Generated.]\\n\")\n",
        "    console.print(\n",
        "        f\"\"\"[Model] Model saved @ {os.path.join(output_dir, \"model_files\")}\\n\"\"\"\n",
        "    )\n",
        "    console.print(\n",
        "        f\"\"\"[Validation] Generation on Validation data saved @ {os.path.join(output_dir,'predictions.csv')}\\n\"\"\"\n",
        "    )\n",
        "    console.print(f\"\"\"[Logs] Logs saved @ {os.path.join(output_dir,'logs.txt')}\\n\"\"\")"
      ],
      "metadata": {
        "id": "cDZUWpwKev_4"
      },
      "execution_count": 8,
      "outputs": []
    },
    {
      "cell_type": "code",
      "source": [
        "# 0: finetune existing task\n",
        "# 1: \"translate en to de with idiom: ...\"\n",
        "# 2: \"translate en to de with idiom: ...\" with idiom suffix\n",
        "# 3: existing task with idiom suffix\n",
        "\n",
        "clean_unicode = True\n",
        "id_mod = 0\n",
        "\n",
        "if id_mod == 0:\n",
        "  model_name = 'existing_task_finetuned'\n",
        "elif id_mod == 1:\n",
        "  model_name = 'idiom_task'\n",
        "elif id_mod == 2:\n",
        "  model_name = 'idiom_task_with_suffix'\n",
        "elif id_mod == 3:\n",
        "  model_name = 'existing_task_with_suffix'\n"
      ],
      "metadata": {
        "id": "u3wPz6PVOP6s"
      },
      "execution_count": 9,
      "outputs": []
    },
    {
      "cell_type": "markdown",
      "source": [
        "# 1. Processing Data"
      ],
      "metadata": {
        "id": "FcKQWqxse_q6"
      }
    },
    {
      "cell_type": "code",
      "source": [
        "import importlib\n",
        "clean_dataset = importlib.import_module(folder_name + '.End-To-End.cleaning').clean_dataset"
      ],
      "metadata": {
        "id": "8iAhE94GKXEK"
      },
      "execution_count": 10,
      "outputs": []
    },
    {
      "cell_type": "code",
      "source": [
        "base_path=\"repo/End-To-End/Dataset/en-de/\"\n",
        "train_data = pd.read_csv(base_path+'train_compare_cleaned.csv', header=0, index_col=0)\n",
        "test_data = pd.read_csv(base_path+'test_compare_cleaned.csv', header=0, index_col=0)\n",
        "\n",
        "train_data = train_data[train_data['Wrong']!='x']\n",
        "test_data = test_data[test_data['Wrong']!='x']\n",
        "\n",
        "train_data = train_data.drop(columns=['trans', 'Wrong'])\n",
        "test_data = test_data.drop(columns=['trans', 'Wrong'])\n",
        "\n",
        "if clean_unicode:\n",
        "  train_data[['en', 'de']] = clean_dataset(train_data[['en', 'de']])\n",
        "  test_data[['en', 'de']] = clean_dataset(test_data[['en', 'de']])\n",
        "\n",
        "if id_mod == 0:\n",
        "  train_data['input'] = 'translate English to German: '+ train_data['en']\n",
        "  test_data['input'] = 'translate English to German: '+ test_data['en']\n",
        "elif id_mod == 1:\n",
        "  train_data['input'] = 'translate English to German with idiom: '+ train_data['en']\n",
        "  test_data['input'] = 'translate English to German with idiom: '+ test_data['en']\n",
        "elif id_mod == 2:\n",
        "  train_data['input'] = 'translate English to German with idiom: '+ train_data['en'] + ' <sIdiom> ' + train_data['en_idiom'] + ' <\\sIdiom>'\n",
        "  test_data['input'] = 'translate English to German with idiom: '+ test_data['en'] + ' <sIdiom> ' + test_data['en_idiom'] + ' <\\sIdiom>'\n",
        "  # train_data['input'] = 'translate English to German with idiom: '+ train_data['en'] + ' <idiom_sep> idiom:' + train_data['en_idiom'] \n",
        "  # test_data['input'] = 'translate English to German with idiom: '+ test_data['en'] + ' <idiom_sep> idiom:' + test_data['en_idiom']\n",
        "elif id_mod == 3:\n",
        "  train_data['input'] = 'translate English to German: '+ train_data['en'] + ' <sIdiom> ' + train_data['en_idiom'] + ' <\\sIdiom>'\n",
        "  test_data['input'] = 'translate English to German: '+ test_data['en'] + ' <sIdiom> ' + test_data['en_idiom'] + ' <\\sIdiom>'\n",
        "  # train_data['input'] = 'translate English to German: '+ train_data['en'] + ' <idiom_sep> idiom:' + train_data['en_idiom'] \n",
        "  # test_data['input'] = 'translate English to German: '+ test_data['en'] + ' <idiom_sep> idiom:' + test_data['en_idiom']\n",
        "\n",
        "train_data = train_data.drop(columns=['en'])\n",
        "test_data = test_data.drop(columns=['en'])\n",
        "\n",
        "train_data = train_data.rename(columns={'de': 'target'})\n",
        "test_data = test_data.rename(columns={'de': 'target'})\n",
        "\n",
        "train_data['frequency'] = train_data['en_idiom'].map(train_data['en_idiom'].value_counts())\n",
        "\n",
        "train_data['single'] = train_data['frequency'] == 1\n",
        "\n",
        "if train_data['single'].sum() == 1:\n",
        "  sample = train_data.loc[train_data['single']==True]\n",
        "  train_data = train_data.loc[train_data['single']==False]\n",
        "  train_data, val_data=train_test_split(train_data, test_size=0.15, stratify=train_data['en_idiom'], random_state=42)\n",
        "  val_data = pd.concat((val_data, sample))\n",
        "\n",
        "elif train_data['single'].sum() == 0:\n",
        "  train_data, val_data=train_test_split(train_data, test_size=0.15, stratify=train_data['en_idiom'], random_state=42)\n",
        "\n",
        "else:\n",
        "  raise Exception('More than one single')\n",
        "\n",
        "train_data = train_data.drop(columns=['en_idiom', 'frequency', 'single'])\n",
        "val_data = val_data.drop(columns=['en_idiom', 'frequency', 'single'])"
      ],
      "metadata": {
        "id": "2AlldPqZYzTB"
      },
      "execution_count": 11,
      "outputs": []
    },
    {
      "cell_type": "code",
      "source": [
        "# Check max length\n",
        "lengths_train_in = train_data[\"input\"].str.split(\" \")\n",
        "lengths_test_in = test_data[\"input\"].str.split(\" \")\n",
        "lengths_val_in = val_data[\"input\"].str.split(\" \")\n",
        "\n",
        "print(\"Max number of tokens input = \", max(lengths_train_in.str.len().max(),lengths_test_in.str.len().max()))\n",
        "\n",
        "lengths_train_tar = train_data[\"target\"].str.split(\" \")\n",
        "lengths_test_tar = test_data[\"target\"].str.split(\" \")\n",
        "lengths_val_tar = val_data[\"target\"].str.split(\" \")\n",
        "\n",
        "print(\"Max number of tokens target = \", max(lengths_train_tar.str.len().max(),lengths_test_tar.str.len().max()))"
      ],
      "metadata": {
        "id": "3InVoeHi9Wyh",
        "colab": {
          "base_uri": "https://localhost:8080/"
        },
        "outputId": "7c08b3b5-b46c-410b-b7fa-81a3932ef5e6"
      },
      "execution_count": 12,
      "outputs": [
        {
          "output_type": "stream",
          "name": "stdout",
          "text": [
            "Max number of tokens input =  153\n",
            "Max number of tokens target =  144\n"
          ]
        }
      ]
    },
    {
      "cell_type": "markdown",
      "source": [
        "#2. Training Model"
      ],
      "metadata": {
        "id": "TMQJTw9DfJIb"
      }
    },
    {
      "cell_type": "code",
      "source": [
        "# let's define model parameters specific to T5\n",
        "model_params = {\n",
        "    \"MODEL\": \"t5-small\",  # model_type: t5-base/t5-small/t5-large\n",
        "    \"TRAIN_BATCH_SIZE\": 4,  # training batch size\n",
        "    \"VALID_BATCH_SIZE\": 4,  # validation batch size\n",
        "    \"TRAIN_EPOCHS\": 50,  # number of training epochs\n",
        "    \"VAL_EPOCHS\": 1,  # number of validation epochs\n",
        "    \"LEARNING_RATE\": 1e-4,  # learning rate\n",
        "    \"MAX_SOURCE_TEXT_LENGTH\": 180,  # max length of source text\n",
        "    \"MAX_TARGET_TEXT_LENGTH\": 150,  # max length of target text\n",
        "    \"SEED\": 42,  # set seed for reproducibility\n",
        "}\n"
      ],
      "metadata": {
        "id": "UypLE5nTfK5M"
      },
      "execution_count": 13,
      "outputs": []
    },
    {
      "cell_type": "code",
      "source": [
        "# Initialize training, validation and meteor loggers to keep track of model loss\n",
        "\n",
        "# training logger to log training loss over the epochs and batches\n",
        "training_logger = Table(\n",
        "    Column(\"Epoch\", justify=\"center\"),\n",
        "    # Column(\"Batch\", justify=\"center\"),\n",
        "    Column(\"Loss\", justify=\"center\"),\n",
        "    title=\"Training Loss\",\n",
        "    pad_edge=False,\n",
        "    box=box.ASCII,\n",
        ")\n",
        "\n",
        "# validation logger to log validation loss over the epochs\n",
        "validation_logger = Table(\n",
        "    Column(\"Epoch\", justify=\"center\"),\n",
        "    Column(\"Loss\", justify=\"center\"),\n",
        "    title=\"Validation Loss\",\n",
        "    pad_edge=False,\n",
        "    box=box.ASCII,\n",
        ")\n",
        "\n",
        "# meteor logger to log meteor score over the epochs\n",
        "meteor_logger = Table(\n",
        "    Column(\"Epoch\", justify=\"center\"),\n",
        "    Column(\"Meteor\", justify=\"center\"),\n",
        "    title=\"Meteor Score\",\n",
        "    pad_edge=False,\n",
        "    box=box.ASCII,\n",
        ")"
      ],
      "metadata": {
        "id": "6DgnTr-gMlNA"
      },
      "execution_count": 14,
      "outputs": []
    },
    {
      "cell_type": "code",
      "source": [
        "%mkdir outputs"
      ],
      "metadata": {
        "id": "yAV-Zze-YoZh"
      },
      "execution_count": 15,
      "outputs": []
    },
    {
      "cell_type": "code",
      "source": [
        "# Train model\n",
        "T5Trainer(train_data=train_data, val_data= val_data, source_text=\"input\", target_text=\"target\", model_params=model_params, output_dir=\"outputs\")"
      ],
      "metadata": {
        "colab": {
          "base_uri": "https://localhost:8080/",
          "height": 749,
          "referenced_widgets": [
            "b13464848225450d878c043a52b17088",
            "205232773b3a4015a9f8d2e3b2b71544",
            "c4b4f64d884545618bfae77be7a206dc",
            "85e72af7e0284f5a80d3f87a1abad9cc",
            "e6437a6f9413466d8ce484767d07096a",
            "732f08f10d4d47208f5aaf690bfb1130",
            "a433cb4db3844f94b0735b9102722e56",
            "038db72fd765405eae6a672dae959abf",
            "3f4cb34785cc411ba89c567fe19f8fa3",
            "3acd2bdd7b774b3aa5ca2602dd2b3059",
            "2da7bd9f5dc542e29bfe5543996efd6d",
            "037baf2b2cf74d00b047dc2f7d6ea628",
            "58a6ab05752546c1a10bd2ebabaf8860",
            "6426d264a98347ee8526189aed90bcf4",
            "295991caae93498482a0807eadf00c7f",
            "1118870ee851454b908880351d62fdd0",
            "b6c90ba7d4fa494e80e4e37b19f3a71a",
            "7d3b62641b7d4664b4f1ffb567d10f67",
            "e906bb21034f42faaddee1c90c9fa5c9",
            "3f94552026374373af7ba28a720e0444",
            "fc927bc75f04433a926404d7581c44b4",
            "ac98ea77cfb74081915df6e63b1b2f86",
            "fa7dbe664b26451988c331735a27dadb",
            "9e0ae05a663b4e819c834a6966c47d67",
            "4c03c5144b1040dfad25079bb08f2029",
            "8956fce59c164bb1a6597a158c983a98",
            "5cacf4598867415d8695ce963b766497",
            "271afe647d0e4b13b9f4a1353cd7db51",
            "18402a996a554a0588d663e44c271092",
            "6160bc12208d467c8371ab0af33a73e8",
            "a871aa81afb84b17a91c69c25ba5dfde",
            "4802dbccec6249d5b382554427b9dc6a",
            "649f45dd981a4b9289ef4460fddb1ef1"
          ]
        },
        "id": "n6cgmoYBaQV7",
        "outputId": "da468aa3-acfc-4b9e-a364-07b26b8b146c"
      },
      "execution_count": null,
      "outputs": [
        {
          "output_type": "display_data",
          "data": {
            "text/plain": [
              "\u001b[2;36m[11:23:51]\u001b[0m\u001b[2;36m \u001b[0m\u001b[1m[\u001b[0mModel\u001b[1m]\u001b[0m: Loading t5-small\u001b[33m...\u001b[0m                     \u001b[2m<ipython-input-8-80d9688caf0f>\u001b[0m\u001b[2m:\u001b[0m\u001b[2m23\u001b[0m\n",
              "\u001b[2;36m           \u001b[0m                                                 \u001b[2m                                 \u001b[0m\n"
            ],
            "text/html": [
              "<pre style=\"white-space:pre;overflow-x:auto;line-height:normal;font-family:Menlo,'DejaVu Sans Mono',consolas,'Courier New',monospace\"><span style=\"color: #7fbfbf; text-decoration-color: #7fbfbf\">[11:23:51] </span><span style=\"font-weight: bold\">[</span>Model<span style=\"font-weight: bold\">]</span>: Loading t5-small<span style=\"color: #808000; text-decoration-color: #808000\">...</span>                     <span style=\"color: #7f7f7f; text-decoration-color: #7f7f7f\">&lt;ipython-input-8-80d9688caf0f&gt;:23</span>\n",
              "<span style=\"color: #7fbfbf; text-decoration-color: #7fbfbf\">           </span>                                                 <span style=\"color: #7f7f7f; text-decoration-color: #7f7f7f\">                                 </span>\n",
              "</pre>\n"
            ]
          },
          "metadata": {}
        },
        {
          "output_type": "display_data",
          "data": {
            "text/plain": [
              "Downloading:   0%|          | 0.00/773k [00:00<?, ?B/s]"
            ],
            "application/vnd.jupyter.widget-view+json": {
              "version_major": 2,
              "version_minor": 0,
              "model_id": "b13464848225450d878c043a52b17088"
            }
          },
          "metadata": {}
        },
        {
          "output_type": "display_data",
          "data": {
            "text/plain": [
              "Downloading:   0%|          | 0.00/1.17k [00:00<?, ?B/s]"
            ],
            "application/vnd.jupyter.widget-view+json": {
              "version_major": 2,
              "version_minor": 0,
              "model_id": "037baf2b2cf74d00b047dc2f7d6ea628"
            }
          },
          "metadata": {}
        },
        {
          "output_type": "stream",
          "name": "stderr",
          "text": [
            "/usr/local/lib/python3.7/dist-packages/transformers/models/t5/tokenization_t5.py:169: FutureWarning: This tokenizer was incorrectly instantiated with a model max length of 512 which will be corrected in Transformers v5.\n",
            "For now, this behavior is kept to avoid breaking backwards compatibility when padding/encoding with `truncation is True`.\n",
            "- Be aware that you SHOULD NOT rely on t5-small automatically truncating your input to 512 when padding/encoding.\n",
            "- If you want to encode/pad to sequences longer than 512 you can either instantiate this tokenizer with `model_max_length` or pass `max_length` when encoding/padding.\n",
            "- To avoid this warning, please instantiate this tokenizer with `model_max_length` set to your preferred value.\n",
            "  FutureWarning,\n"
          ]
        },
        {
          "output_type": "display_data",
          "data": {
            "text/plain": [
              "Downloading:   0%|          | 0.00/231M [00:00<?, ?B/s]"
            ],
            "application/vnd.jupyter.widget-view+json": {
              "version_major": 2,
              "version_minor": 0,
              "model_id": "fa7dbe664b26451988c331735a27dadb"
            }
          },
          "metadata": {}
        },
        {
          "output_type": "display_data",
          "data": {
            "text/plain": [
              "\u001b[2;36m[11:24:21]\u001b[0m\u001b[2;36m \u001b[0m\u001b[1m[\u001b[0mData\u001b[1m]\u001b[0m: Reading data\u001b[33m...\u001b[0m                          \u001b[2m<ipython-input-8-80d9688caf0f>\u001b[0m\u001b[2m:\u001b[0m\u001b[2m33\u001b[0m\n",
              "\u001b[2;36m           \u001b[0m                                                 \u001b[2m                                 \u001b[0m\n"
            ],
            "text/html": [
              "<pre style=\"white-space:pre;overflow-x:auto;line-height:normal;font-family:Menlo,'DejaVu Sans Mono',consolas,'Courier New',monospace\"><span style=\"color: #7fbfbf; text-decoration-color: #7fbfbf\">[11:24:21] </span><span style=\"font-weight: bold\">[</span>Data<span style=\"font-weight: bold\">]</span>: Reading data<span style=\"color: #808000; text-decoration-color: #808000\">...</span>                          <span style=\"color: #7f7f7f; text-decoration-color: #7f7f7f\">&lt;ipython-input-8-80d9688caf0f&gt;:33</span>\n",
              "<span style=\"color: #7fbfbf; text-decoration-color: #7fbfbf\">           </span>                                                 <span style=\"color: #7f7f7f; text-decoration-color: #7f7f7f\">                                 </span>\n",
              "</pre>\n"
            ]
          },
          "metadata": {}
        },
        {
          "output_type": "display_data",
          "data": {
            "text/plain": [
              "\u001b[3m                                         Sample Data                                         \u001b[0m\n",
              "+-------------------------------------------------------------------------------------------+\n",
              "|\u001b[1m                source_text                 \u001b[0m\u001b[1m \u001b[0m|\u001b[1m \u001b[0m\u001b[1m                target_text                 \u001b[0m|\n",
              "|---------------------------------------------+---------------------------------------------|\n",
              "|translate English to German: You will always | Sie wissen stets , ob ein dritter Partner an|\n",
              "| know whether a third party is involved in   |    Transaktionen beteiligt ist und ob wir   |\n",
              "|    transactions and whether we pass on      |   Informationen über die Transaktionen mit  |\n",
              "| information about the transactions to this  | diesem dritten Partner an diesen weitergeben|\n",
              "|                 partner .                   |                   können .                  |\n",
              "| translate English to German: What test can  |   Welcher Test kann durchgeführt werden um  |\n",
              "|    be done in order to know if the low      |     festzustellen , ob der Grund für die    |\n",
              "| performance is due to the electric pump or  | niedrige Leistung bei der Pumpe oder bei der|\n",
              "|             the installation ?              |               Montage liegt ?               |\n",
              "+-------------------------------------------------------------------------------------------+\n"
            ],
            "text/html": [
              "<pre style=\"white-space:pre;overflow-x:auto;line-height:normal;font-family:Menlo,'DejaVu Sans Mono',consolas,'Courier New',monospace\"><span style=\"font-style: italic\">                                         Sample Data                                         </span>\n",
              "+-------------------------------------------------------------------------------------------+\n",
              "|<span style=\"font-weight: bold\">                source_text                  </span>|<span style=\"font-weight: bold\">                 target_text                 </span>|\n",
              "|---------------------------------------------+---------------------------------------------|\n",
              "|translate English to German: You will always | Sie wissen stets , ob ein dritter Partner an|\n",
              "| know whether a third party is involved in   |    Transaktionen beteiligt ist und ob wir   |\n",
              "|    transactions and whether we pass on      |   Informationen über die Transaktionen mit  |\n",
              "| information about the transactions to this  | diesem dritten Partner an diesen weitergeben|\n",
              "|                 partner .                   |                   können .                  |\n",
              "| translate English to German: What test can  |   Welcher Test kann durchgeführt werden um  |\n",
              "|    be done in order to know if the low      |     festzustellen , ob der Grund für die    |\n",
              "| performance is due to the electric pump or  | niedrige Leistung bei der Pumpe oder bei der|\n",
              "|             the installation ?              |               Montage liegt ?               |\n",
              "+-------------------------------------------------------------------------------------------+\n",
              "</pre>\n"
            ]
          },
          "metadata": {}
        },
        {
          "output_type": "display_data",
          "data": {
            "text/plain": [
              "TRAIN Dataset: \u001b[1m(\u001b[0m\u001b[1;36m1730\u001b[0m, \u001b[1;36m2\u001b[0m\u001b[1m)\u001b[0m\n"
            ],
            "text/html": [
              "<pre style=\"white-space:pre;overflow-x:auto;line-height:normal;font-family:Menlo,'DejaVu Sans Mono',consolas,'Courier New',monospace\">TRAIN Dataset: <span style=\"font-weight: bold\">(</span><span style=\"color: #008080; text-decoration-color: #008080; font-weight: bold\">1730</span>, <span style=\"color: #008080; text-decoration-color: #008080; font-weight: bold\">2</span><span style=\"font-weight: bold\">)</span>\n",
              "</pre>\n"
            ]
          },
          "metadata": {}
        },
        {
          "output_type": "display_data",
          "data": {
            "text/plain": [
              "VALIDATION Dataset: \u001b[1m(\u001b[0m\u001b[1;36m307\u001b[0m, \u001b[1;36m2\u001b[0m\u001b[1m)\u001b[0m\n",
              "\n"
            ],
            "text/html": [
              "<pre style=\"white-space:pre;overflow-x:auto;line-height:normal;font-family:Menlo,'DejaVu Sans Mono',consolas,'Courier New',monospace\">VALIDATION Dataset: <span style=\"font-weight: bold\">(</span><span style=\"color: #008080; text-decoration-color: #008080; font-weight: bold\">307</span>, <span style=\"color: #008080; text-decoration-color: #008080; font-weight: bold\">2</span><span style=\"font-weight: bold\">)</span>\n",
              "\n",
              "</pre>\n"
            ]
          },
          "metadata": {}
        },
        {
          "output_type": "display_data",
          "data": {
            "text/plain": [
              "\u001b[2;36m          \u001b[0m\u001b[2;36m \u001b[0m\u001b[1m[\u001b[0mInitiating Fine Tuning\u001b[1m]\u001b[0m\u001b[33m...\u001b[0m                      \u001b[2m<ipython-input-8-80d9688caf0f>\u001b[0m\u001b[2m:\u001b[0m\u001b[2m88\u001b[0m\n",
              "\u001b[2;36m           \u001b[0m                                                 \u001b[2m                                 \u001b[0m\n"
            ],
            "text/html": [
              "<pre style=\"white-space:pre;overflow-x:auto;line-height:normal;font-family:Menlo,'DejaVu Sans Mono',consolas,'Courier New',monospace\"><span style=\"color: #7fbfbf; text-decoration-color: #7fbfbf\">           </span><span style=\"font-weight: bold\">[</span>Initiating Fine Tuning<span style=\"font-weight: bold\">]</span><span style=\"color: #808000; text-decoration-color: #808000\">...</span>                      <span style=\"color: #7f7f7f; text-decoration-color: #7f7f7f\">&lt;ipython-input-8-80d9688caf0f&gt;:88</span>\n",
              "<span style=\"color: #7fbfbf; text-decoration-color: #7fbfbf\">           </span>                                                 <span style=\"color: #7f7f7f; text-decoration-color: #7f7f7f\">                                 </span>\n",
              "</pre>\n"
            ]
          },
          "metadata": {}
        },
        {
          "output_type": "display_data",
          "data": {
            "text/plain": [
              "Epoch:  \u001b[1;36m0\u001b[0m Batch:  \u001b[1;36m0\u001b[0m Loss:  \u001b[1;36m2.4924094676971436\u001b[0m\n"
            ],
            "text/html": [
              "<pre style=\"white-space:pre;overflow-x:auto;line-height:normal;font-family:Menlo,'DejaVu Sans Mono',consolas,'Courier New',monospace\">Epoch:  <span style=\"color: #008080; text-decoration-color: #008080; font-weight: bold\">0</span> Batch:  <span style=\"color: #008080; text-decoration-color: #008080; font-weight: bold\">0</span> Loss:  <span style=\"color: #008080; text-decoration-color: #008080; font-weight: bold\">2.4924094676971436</span>\n",
              "</pre>\n"
            ]
          },
          "metadata": {}
        },
        {
          "output_type": "display_data",
          "data": {
            "text/plain": [
              "Epoch:  \u001b[1;36m0\u001b[0m Batch:  \u001b[1;36m100\u001b[0m Loss:  \u001b[1;36m1.2873202562332153\u001b[0m\n"
            ],
            "text/html": [
              "<pre style=\"white-space:pre;overflow-x:auto;line-height:normal;font-family:Menlo,'DejaVu Sans Mono',consolas,'Courier New',monospace\">Epoch:  <span style=\"color: #008080; text-decoration-color: #008080; font-weight: bold\">0</span> Batch:  <span style=\"color: #008080; text-decoration-color: #008080; font-weight: bold\">100</span> Loss:  <span style=\"color: #008080; text-decoration-color: #008080; font-weight: bold\">1.2873202562332153</span>\n",
              "</pre>\n"
            ]
          },
          "metadata": {}
        },
        {
          "output_type": "display_data",
          "data": {
            "text/plain": [
              "Epoch:  \u001b[1;36m0\u001b[0m Batch:  \u001b[1;36m200\u001b[0m Loss:  \u001b[1;36m1.9143338203430176\u001b[0m\n"
            ],
            "text/html": [
              "<pre style=\"white-space:pre;overflow-x:auto;line-height:normal;font-family:Menlo,'DejaVu Sans Mono',consolas,'Courier New',monospace\">Epoch:  <span style=\"color: #008080; text-decoration-color: #008080; font-weight: bold\">0</span> Batch:  <span style=\"color: #008080; text-decoration-color: #008080; font-weight: bold\">200</span> Loss:  <span style=\"color: #008080; text-decoration-color: #008080; font-weight: bold\">1.9143338203430176</span>\n",
              "</pre>\n"
            ]
          },
          "metadata": {}
        },
        {
          "output_type": "display_data",
          "data": {
            "text/plain": [
              "Epoch:  \u001b[1;36m0\u001b[0m Batch:  \u001b[1;36m300\u001b[0m Loss:  \u001b[1;36m1.4753905534744263\u001b[0m\n"
            ],
            "text/html": [
              "<pre style=\"white-space:pre;overflow-x:auto;line-height:normal;font-family:Menlo,'DejaVu Sans Mono',consolas,'Courier New',monospace\">Epoch:  <span style=\"color: #008080; text-decoration-color: #008080; font-weight: bold\">0</span> Batch:  <span style=\"color: #008080; text-decoration-color: #008080; font-weight: bold\">300</span> Loss:  <span style=\"color: #008080; text-decoration-color: #008080; font-weight: bold\">1.4753905534744263</span>\n",
              "</pre>\n"
            ]
          },
          "metadata": {}
        },
        {
          "output_type": "display_data",
          "data": {
            "text/plain": [
              "Epoch:  \u001b[1;36m0\u001b[0m Batch:  \u001b[1;36m400\u001b[0m Loss:  \u001b[1;36m2.227276563644409\u001b[0m\n"
            ],
            "text/html": [
              "<pre style=\"white-space:pre;overflow-x:auto;line-height:normal;font-family:Menlo,'DejaVu Sans Mono',consolas,'Courier New',monospace\">Epoch:  <span style=\"color: #008080; text-decoration-color: #008080; font-weight: bold\">0</span> Batch:  <span style=\"color: #008080; text-decoration-color: #008080; font-weight: bold\">400</span> Loss:  <span style=\"color: #008080; text-decoration-color: #008080; font-weight: bold\">2.227276563644409</span>\n",
              "</pre>\n"
            ]
          },
          "metadata": {}
        },
        {
          "output_type": "display_data",
          "data": {
            "text/plain": [
              "\u001b[1m[\u001b[0mValidation\u001b[1m]\u001b[0m Epoch:  \u001b[1;36m0\u001b[0m Validation Loss:  \u001b[1;36m1.4117279811338945\u001b[0m Meteor:  \u001b[1;36m0.4990086892769176\u001b[0m\n"
            ],
            "text/html": [
              "<pre style=\"white-space:pre;overflow-x:auto;line-height:normal;font-family:Menlo,'DejaVu Sans Mono',consolas,'Courier New',monospace\"><span style=\"font-weight: bold\">[</span>Validation<span style=\"font-weight: bold\">]</span> Epoch:  <span style=\"color: #008080; text-decoration-color: #008080; font-weight: bold\">0</span> Validation Loss:  <span style=\"color: #008080; text-decoration-color: #008080; font-weight: bold\">1.4117279811338945</span> Meteor:  <span style=\"color: #008080; text-decoration-color: #008080; font-weight: bold\">0.4990086892769176</span>\n",
              "</pre>\n"
            ]
          },
          "metadata": {}
        },
        {
          "output_type": "display_data",
          "data": {
            "text/plain": [
              "\u001b[2;36m[11:26:53]\u001b[0m\u001b[2;36m \u001b[0m\u001b[1m[\u001b[0mSaved model and predictions of epoch \u001b[1;36m0\u001b[0m\u001b[1m]\u001b[0m         \u001b[2m<ipython-input-7-3e1f2c4cacc7>\u001b[0m\u001b[2m:\u001b[0m\u001b[2m75\u001b[0m\n",
              "\u001b[2;36m           \u001b[0m                                                 \u001b[2m                                 \u001b[0m\n"
            ],
            "text/html": [
              "<pre style=\"white-space:pre;overflow-x:auto;line-height:normal;font-family:Menlo,'DejaVu Sans Mono',consolas,'Courier New',monospace\"><span style=\"color: #7fbfbf; text-decoration-color: #7fbfbf\">[11:26:53] </span><span style=\"font-weight: bold\">[</span>Saved model and predictions of epoch <span style=\"color: #008080; text-decoration-color: #008080; font-weight: bold\">0</span><span style=\"font-weight: bold\">]</span>         <span style=\"color: #7f7f7f; text-decoration-color: #7f7f7f\">&lt;ipython-input-7-3e1f2c4cacc7&gt;:75</span>\n",
              "<span style=\"color: #7fbfbf; text-decoration-color: #7fbfbf\">           </span>                                                 <span style=\"color: #7f7f7f; text-decoration-color: #7f7f7f\">                                 </span>\n",
              "</pre>\n"
            ]
          },
          "metadata": {}
        },
        {
          "output_type": "display_data",
          "data": {
            "text/plain": [
              "Epoch:  \u001b[1;36m1\u001b[0m Batch:  \u001b[1;36m0\u001b[0m Loss:  \u001b[1;36m1.8912534713745117\u001b[0m\n"
            ],
            "text/html": [
              "<pre style=\"white-space:pre;overflow-x:auto;line-height:normal;font-family:Menlo,'DejaVu Sans Mono',consolas,'Courier New',monospace\">Epoch:  <span style=\"color: #008080; text-decoration-color: #008080; font-weight: bold\">1</span> Batch:  <span style=\"color: #008080; text-decoration-color: #008080; font-weight: bold\">0</span> Loss:  <span style=\"color: #008080; text-decoration-color: #008080; font-weight: bold\">1.8912534713745117</span>\n",
              "</pre>\n"
            ]
          },
          "metadata": {}
        }
      ]
    },
    {
      "cell_type": "code",
      "source": [
        "# Save the training loss to csv\n",
        "table_data = {x.header: [Text.from_markup(y).plain for y in x.cells] for x in training_logger.columns}\n",
        "training_logger_df = pd.DataFrame(table_data)\n",
        "training_logger_df.to_csv(\"outputs/\"+\"train_loss.csv\", sep=\"=\")\n",
        "\n",
        "# Save the validation loss to csv\n",
        "table_data = {x.header: [Text.from_markup(y).plain for y in x.cells] for x in validation_logger.columns}\n",
        "validation_logger_df = pd.DataFrame(table_data)\n",
        "validation_logger_df.to_csv(\"outputs/\"+\"val_loss.csv\", sep=\"=\")\n",
        "\n",
        "# Save the meteor score to csv\n",
        "table_data = {x.header: [Text.from_markup(y).plain for y in x.cells] for x in meteor_logger.columns}\n",
        "meteor_logger_df = pd.DataFrame(table_data)\n",
        "meteor_logger_df.to_csv(\"outputs/\"+\"meteor.csv\", sep=\"=\")"
      ],
      "metadata": {
        "id": "1Yf5Oo1SNecR"
      },
      "execution_count": null,
      "outputs": []
    },
    {
      "cell_type": "code",
      "source": [
        "# Plot the loss\n",
        "train_loss = pd.read_csv(\"outputs/\"+\"train_loss.csv\", sep=\"=\")\n",
        "train_loss.plot(0,2)\n",
        "val_loss = pd.read_csv(\"outputs/\"+\"val_loss.csv\", sep=\"=\")\n",
        "val_loss.plot(0,2)"
      ],
      "metadata": {
        "id": "HEnoiOiXNefH"
      },
      "execution_count": null,
      "outputs": []
    },
    {
      "cell_type": "code",
      "source": [
        "# Plot the Meteor score\n",
        "meteor_score = pd.read_csv(\"outputs/\"+\"meteor.csv\", sep=\"=\")\n",
        "meteor_score.plot(0,2)\n"
      ],
      "metadata": {
        "id": "DnTRs48YK8-D"
      },
      "execution_count": null,
      "outputs": []
    },
    {
      "cell_type": "code",
      "source": [
        "!zip -r outputs.zip outputs"
      ],
      "metadata": {
        "id": "oBRrPNhKwHR8"
      },
      "execution_count": null,
      "outputs": []
    }
  ]
}