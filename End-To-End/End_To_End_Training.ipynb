{
  "nbformat": 4,
  "nbformat_minor": 0,
  "metadata": {
    "colab": {
      "name": "End_To_End_Training.ipynb",
      "provenance": [],
      "collapsed_sections": [],
      "include_colab_link": true
    },
    "kernelspec": {
      "name": "python3",
      "display_name": "Python 3"
    },
    "language_info": {
      "name": "python"
    },
    "accelerator": "GPU"
  },
  "cells": [
    {
      "cell_type": "markdown",
      "metadata": {
        "id": "view-in-github",
        "colab_type": "text"
      },
      "source": [
        "<a href=\"https://colab.research.google.com/github/lukassanting/Idiom-Translation/blob/main/End-To-End/End_To_End_Training.ipynb\" target=\"_parent\"><img src=\"https://colab.research.google.com/assets/colab-badge.svg\" alt=\"Open In Colab\"/></a>"
      ]
    },
    {
      "cell_type": "markdown",
      "source": [
        "# Training T5 - Prefix+Idiom\n",
        "\n"
      ],
      "metadata": {
        "id": "rEADq27OKFe6"
      }
    },
    {
      "cell_type": "markdown",
      "source": [
        "#0. Installs, Imports, Setup\n"
      ],
      "metadata": {
        "id": "v9dFeYBSZJJb"
      }
    },
    {
      "cell_type": "markdown",
      "source": [
        "##0.1 Import Libraries & Packages"
      ],
      "metadata": {
        "id": "I8njKcE7c2F4"
      }
    },
    {
      "cell_type": "code",
      "source": [
        "!pip install sentencepiece -q\n",
        "!pip install transformers -q\n",
        "!pip install torch -q\n",
        "!pip install rich[jupyter] -q"
      ],
      "metadata": {
        "id": "dEFESOlJb8yT"
      },
      "execution_count": 1,
      "outputs": []
    },
    {
      "cell_type": "code",
      "source": [
        "# Drive\n",
        "from google.colab import drive\n",
        "\n",
        "# Plots\n",
        "import IPython\n",
        "import IPython.display\n",
        "import seaborn as sns\n",
        "import matplotlib as mpl\n",
        "import matplotlib.pyplot as plt\n",
        "plt.figure(figsize=(12, 6))\n",
        "\n",
        "# Util\n",
        "import os\n",
        "import pandas as pd\n",
        "import numpy as np\n",
        "import re\n",
        "from sklearn.model_selection import train_test_split\n",
        "\n",
        "pd.set_option('display.max_rows', None)\n",
        "\n",
        "# ML\n",
        "import torch\n",
        "import torch.nn.functional as F\n",
        "from torch.utils.data import Dataset, DataLoader, RandomSampler, SequentialSampler\n",
        "\n",
        "# Importing the T5 modules from huggingface/transformers\n",
        "from transformers import T5Tokenizer, T5ForConditionalGeneration\n",
        "\n",
        "# rich: for a better display on terminal\n",
        "from rich.table import Column, Table\n",
        "from rich.text import Text\n",
        "from rich import box\n",
        "from rich.console import Console\n",
        "\n",
        "# define a rich console logger\n",
        "console = Console(record=True)\n",
        "\n",
        "# Setting up the device for GPU usage\n",
        "from torch import cuda\n",
        "device = 'cuda' if cuda.is_available() else 'cpu'"
      ],
      "metadata": {
        "colab": {
          "base_uri": "https://localhost:8080/",
          "height": 34
        },
        "id": "4mcA2ya5ZNCM",
        "outputId": "c239ce14-780d-4245-bdd1-c23ec37e38c9"
      },
      "execution_count": 2,
      "outputs": [
        {
          "output_type": "display_data",
          "data": {
            "text/plain": [
              "<Figure size 864x432 with 0 Axes>"
            ]
          },
          "metadata": {}
        }
      ]
    },
    {
      "cell_type": "markdown",
      "source": [
        "##0.2. Import Data"
      ],
      "metadata": {
        "id": "s3arh9WcZFww"
      }
    },
    {
      "cell_type": "markdown",
      "source": [
        "Either upload the data to the shared Google Drive and use this to download, or upload it directly yourself (whatever is easier)"
      ],
      "metadata": {
        "id": "zK4I5s9gZqxI"
      }
    },
    {
      "cell_type": "code",
      "execution_count": 3,
      "metadata": {
        "colab": {
          "base_uri": "https://localhost:8080/"
        },
        "id": "VoQUPYjsZDiq",
        "outputId": "0bd9331a-a1a2-41c1-dda1-e0ec66218ff5"
      },
      "outputs": [
        {
          "output_type": "stream",
          "name": "stdout",
          "text": [
            "fatal: destination path 'repo' already exists and is not an empty directory.\n"
          ]
        }
      ],
      "source": [
        "folder_name = 'repo'\n",
        "!git clone https://github.com/lukassanting/Idiom-Translation/ 'repo'"
      ]
    },
    {
      "cell_type": "markdown",
      "source": [
        "##0.3 Setup functions & classes"
      ],
      "metadata": {
        "id": "xnpSL43tdGvk"
      }
    },
    {
      "cell_type": "markdown",
      "source": [
        "###0.3.1 FUNC: display_df"
      ],
      "metadata": {
        "id": "mKt7_iGUeScN"
      }
    },
    {
      "cell_type": "code",
      "source": [
        "# to display dataframe in ASCII format\n",
        "def display_df(df):\n",
        "    \"\"\"display dataframe in ASCII format\"\"\"\n",
        "\n",
        "    console = Console()\n",
        "    table = Table(\n",
        "        Column(\"source_text\", justify=\"center\"),\n",
        "        Column(\"target_text\", justify=\"center\"),\n",
        "        title=\"Sample Data\",\n",
        "        pad_edge=False,\n",
        "        box=box.ASCII,\n",
        "    )\n",
        "\n",
        "    for i, row in enumerate(df.values.tolist()):\n",
        "        table.add_row(row[0], row[1])\n",
        "\n",
        "    console.print(table)"
      ],
      "metadata": {
        "id": "QjO6nIJGchxq"
      },
      "execution_count": 4,
      "outputs": []
    },
    {
      "cell_type": "markdown",
      "source": [
        "###0.3.2 CLASS: DataSet"
      ],
      "metadata": {
        "id": "5v2GZNnvea0H"
      }
    },
    {
      "cell_type": "markdown",
      "source": [
        "A Dataset class for reading and loading the dataset into the dataloader, and then feed it into the neural network for fine-tuning the model."
      ],
      "metadata": {
        "id": "e1KXqhYhdX_f"
      }
    },
    {
      "cell_type": "code",
      "source": [
        "class DataSet(Dataset):\n",
        "    \"\"\"\n",
        "    Creating a dataset class for reading the dataset and\n",
        "    loading it into the dataloader, to pass it to the\n",
        "    neural network for finetuning the model\n",
        "\n",
        "    \"\"\"\n",
        "\n",
        "    def __init__(\n",
        "        self, dataframe, tokenizer, source_len, target_len, source_text, target_text\n",
        "    ):\n",
        "        \"\"\"\n",
        "        Initializes a Dataset class\n",
        "\n",
        "        Args:\n",
        "            dataframe (pandas.DataFrame): Input dataframe\n",
        "            tokenizer (transformers.tokenizer): Transformers tokenizer\n",
        "            source_len (int): Max length of source text\n",
        "            target_len (int): Max length of target text\n",
        "            source_text (str): column name of source text\n",
        "            target_text (str): column name of target text\n",
        "        \"\"\"\n",
        "        self.tokenizer = tokenizer\n",
        "        self.data = dataframe\n",
        "        self.source_len = source_len\n",
        "        self.summ_len = target_len\n",
        "        self.target_text = self.data[target_text]\n",
        "        self.source_text = self.data[source_text]\n",
        "\n",
        "    def __len__(self):\n",
        "        \"\"\"returns the length of dataframe\"\"\"\n",
        "\n",
        "        return len(self.target_text)\n",
        "\n",
        "    def __getitem__(self, index):\n",
        "        \"\"\"return the input ids, attention masks and target ids\"\"\"\n",
        "\n",
        "        source_text = str(self.source_text[index])\n",
        "        target_text = str(self.target_text[index])\n",
        "\n",
        "        # cleaning data so as to ensure data is in string type\n",
        "        source_text = \" \".join(source_text.split())\n",
        "        target_text = \" \".join(target_text.split())\n",
        "\n",
        "        source = self.tokenizer.batch_encode_plus(\n",
        "            [source_text],\n",
        "            max_length=self.source_len,\n",
        "            pad_to_max_length=True,\n",
        "            truncation=True,\n",
        "            padding=\"max_length\",\n",
        "            return_tensors=\"pt\",\n",
        "        )\n",
        "        target = self.tokenizer.batch_encode_plus(\n",
        "            [target_text],\n",
        "            max_length=self.summ_len,\n",
        "            pad_to_max_length=True,\n",
        "            truncation=True,\n",
        "            padding=\"max_length\",\n",
        "            return_tensors=\"pt\",\n",
        "        )\n",
        "\n",
        "        source_ids = source[\"input_ids\"].squeeze()\n",
        "        source_mask = source[\"attention_mask\"].squeeze()\n",
        "        target_ids = target[\"input_ids\"].squeeze()\n",
        "        target_mask = target[\"attention_mask\"].squeeze()\n",
        "\n",
        "        return {\n",
        "            \"source_ids\": source_ids.to(dtype=torch.long),\n",
        "            \"source_mask\": source_mask.to(dtype=torch.long),\n",
        "            \"target_ids\": target_ids.to(dtype=torch.long),\n",
        "            \"target_ids_y\": target_ids.to(dtype=torch.long),\n",
        "        }"
      ],
      "metadata": {
        "id": "iJmDbxNbdKlP"
      },
      "execution_count": 5,
      "outputs": []
    },
    {
      "cell_type": "markdown",
      "source": [
        "###0.3.3 FUNC: train"
      ],
      "metadata": {
        "id": "rcxgONn0efui"
      }
    },
    {
      "cell_type": "markdown",
      "source": [
        "Train function, which will the put model on training mode, generate outputs and calculate loss"
      ],
      "metadata": {
        "id": "noK0ICH4eCzT"
      }
    },
    {
      "cell_type": "code",
      "source": [
        "def train(epoch, tokenizer, model, device, loader, optimizer, train_batch_size):\n",
        "\n",
        "    \"\"\"\n",
        "    Function to be called for training with the parameters passed from main function\n",
        "\n",
        "    Takes 6 arguments as input:\n",
        "    \n",
        "        epoch: epoch\n",
        "        tokenizer: T5 tokenizer\n",
        "        model: T5 model\n",
        "        loader: Train Dataloader\n",
        "        optimizer: Optimizer\n",
        "        train_batch_size: batch size for the training data\n",
        "\n",
        "\n",
        "    \"\"\"\n",
        "\n",
        "    model.train()\n",
        "    train_loss = 0\n",
        "    train_batches = 0\n",
        "    for _, data in enumerate(loader, 0):\n",
        "        y = data[\"target_ids\"].to(device, dtype=torch.long)\n",
        "        y_ids = y[:, :-1].contiguous()\n",
        "        lm_labels = y[:, 1:].clone().detach()\n",
        "        lm_labels[y[:, 1:] == tokenizer.pad_token_id] = -100\n",
        "        ids = data[\"source_ids\"].to(device, dtype=torch.long)\n",
        "        mask = data[\"source_mask\"].to(device, dtype=torch.long)\n",
        "\n",
        "        outputs = model(\n",
        "            input_ids=ids,\n",
        "            attention_mask=mask,\n",
        "            decoder_input_ids=y_ids,\n",
        "            labels=lm_labels,\n",
        "        )\n",
        "        loss = outputs[0]\n",
        "        train_loss += loss.item()\n",
        "        train_batches += 1\n",
        "\n",
        "        # Print training loss every 100 batches\n",
        "        if _ % 100 == 0:\n",
        "            #training_logger.add_row(str(epoch), str(_), str(loss.item()))\n",
        "            console.print(\"Epoch: \", str(epoch), \"Batch: \", str(_), \"Loss: \", str(loss.item()))\n",
        "\n",
        "        optimizer.zero_grad()\n",
        "        loss.backward() \n",
        "        optimizer.step()\n",
        "\n",
        "    # Print average training loss over the epoch\n",
        "    train_loss = train_loss/train_batches\n",
        "    training_logger.add_row(str(epoch), str(train_loss))\n"
      ],
      "metadata": {
        "id": "EG5eKLajeFKX"
      },
      "execution_count": 6,
      "outputs": []
    },
    {
      "cell_type": "markdown",
      "source": [
        "###0.3.4 FUNC: validate"
      ],
      "metadata": {
        "id": "K2ChKAx-em7b"
      }
    },
    {
      "cell_type": "markdown",
      "source": [
        "Validate function is same as the Train function, but for the validation data\n",
        "\n"
      ],
      "metadata": {
        "id": "o7UaCBo7eKqX"
      }
    },
    {
      "cell_type": "code",
      "source": [
        "def validate(epoch, tokenizer, model, device, loader, generate_outputs=True):\n",
        "\n",
        "  \"\"\"\n",
        "  Function to evaluate model for predictions\n",
        "\n",
        "  \"\"\"\n",
        "  model.eval()\n",
        "  predictions = []\n",
        "  actuals = []\n",
        "  val_loss = 0\n",
        "  batches = 0\n",
        "  with torch.no_grad():\n",
        "      for _, data in enumerate(loader, 0):\n",
        "          y = data['target_ids'].to(device, dtype = torch.long)\n",
        "          ids = data['source_ids'].to(device, dtype = torch.long)\n",
        "          mask = data['source_mask'].to(device, dtype = torch.long)\n",
        "\n",
        "          # Find validation loss\n",
        "          y_ids = y[:, :-1].contiguous()\n",
        "          lm_labels = y[:, 1:].clone().detach()\n",
        "          lm_labels[y[:, 1:] == tokenizer.pad_token_id] = -100\n",
        "\n",
        "          outputs = model(\n",
        "              input_ids=ids,\n",
        "              attention_mask=mask,\n",
        "              decoder_input_ids=y_ids,\n",
        "              labels=lm_labels\n",
        "              )\n",
        "          loss = outputs[0]\n",
        "          val_loss += loss.item()\n",
        "          batches += 1\n",
        "\n",
        "          # Generate outputs\n",
        "          if generate_outputs:\n",
        "            generated_ids = model.generate(\n",
        "                input_ids = ids,\n",
        "                attention_mask = mask, \n",
        "                max_length=150, \n",
        "                num_beams=2,\n",
        "                repetition_penalty=2.5, \n",
        "                length_penalty=1.0, \n",
        "                early_stopping=True\n",
        "                )\n",
        "            preds = [tokenizer.decode(g, skip_special_tokens=True, clean_up_tokenization_spaces=True) for g in generated_ids]\n",
        "            target = [tokenizer.decode(t, skip_special_tokens=True, clean_up_tokenization_spaces=True)for t in y]\n",
        "\n",
        "            predictions.extend(preds)\n",
        "            actuals.extend(target)\n",
        "\n",
        "  # Save average loss over epoch\n",
        "  val_loss = val_loss/batches\n",
        "  if not generate_outputs:\n",
        "    validation_logger.add_row(str(epoch), str(val_loss))\n",
        "\n",
        "  return predictions, actuals"
      ],
      "metadata": {
        "id": "JRHNbfg1eMlx"
      },
      "execution_count": 7,
      "outputs": []
    },
    {
      "cell_type": "markdown",
      "source": [
        "###0.3.5 FUNC: T5Trainer"
      ],
      "metadata": {
        "id": "F19iHSPfes84"
      }
    },
    {
      "cell_type": "markdown",
      "source": [
        "T5Trainer is our main function. It accepts input data, model type, model paramters to fine-tune the model. Under the hood, it utilizes, our Dataset class for data handling, train function to fine tune the model, validate to evaluate the model."
      ],
      "metadata": {
        "id": "uu9v__Wjexl1"
      }
    },
    {
      "cell_type": "code",
      "source": [
        "def T5Trainer(\n",
        "    train_data, val_data, source_text, target_text, model_params, output_dir=\"./outputs/\"\n",
        "):\n",
        "\n",
        "    \"\"\"\n",
        "    T5 trainer has 6 arguments:\n",
        "\n",
        "      train_data: Input dataframe of training data\n",
        "      val_data: Input dataframe of validation data\n",
        "      source_text: Column name of the input text i.e. idiomatic sentence\n",
        "      target_text: Column name of the target text i.e. literal sentence\n",
        "      model_params: T5 model parameters\n",
        "      output_dir: Output directory to save fine tuned T5 model.\n",
        "\n",
        "    \"\"\"\n",
        "\n",
        "    # Set random seeds and deterministic pytorch for reproducibility\n",
        "    torch.manual_seed(model_params[\"SEED\"])  # pytorch random seed\n",
        "    np.random.seed(model_params[\"SEED\"])  # numpy random seed\n",
        "    torch.backends.cudnn.deterministic = True\n",
        "\n",
        "    # logging\n",
        "    console.log(f\"\"\"[Model]: Loading {model_params[\"MODEL\"]}...\\n\"\"\")\n",
        "\n",
        "    # tokenizer for encoding the text\n",
        "    tokenizer = T5Tokenizer.from_pretrained(model_params[\"MODEL\"])\n",
        "\n",
        "    # Defining the model. The model is then sent to device (GPU/TPU)\n",
        "    model = T5ForConditionalGeneration.from_pretrained(model_params[\"MODEL\"])\n",
        "    model = model.to(device)\n",
        "\n",
        "    # logging\n",
        "    console.log(f\"[Data]: Reading data...\\n\")\n",
        "\n",
        "    # Importing the raw dataset\n",
        "    train_data = train_data[[source_text, target_text]]\n",
        "    train_data = train_data.reset_index(drop=True)\n",
        "    val_data = val_data[[source_text, target_text]]\n",
        "    val_data = val_data.reset_index(drop=True)\n",
        "\n",
        "    display_df(train_data.head(2))\n",
        "\n",
        "    # Creation of Dataset and Dataloader\n",
        "    console.print(f\"TRAIN Dataset: {train_data.shape}\")\n",
        "    console.print(f\"VALIDATION Dataset: {val_data.shape}\\n\")\n",
        "\n",
        "    # Creating the Training and Validation dataset for further creation of Dataloader\n",
        "    training_set = DataSet(\n",
        "        train_data,\n",
        "        tokenizer,\n",
        "        model_params[\"MAX_SOURCE_TEXT_LENGTH\"],\n",
        "        model_params[\"MAX_TARGET_TEXT_LENGTH\"],\n",
        "        source_text,\n",
        "        target_text,\n",
        "    )\n",
        "    val_set = DataSet(\n",
        "        val_data,\n",
        "        tokenizer,\n",
        "        model_params[\"MAX_SOURCE_TEXT_LENGTH\"],\n",
        "        model_params[\"MAX_TARGET_TEXT_LENGTH\"],\n",
        "        source_text,\n",
        "        target_text,\n",
        "    )\n",
        "\n",
        "    # Defining the parameters for creation of dataloaders\n",
        "    train_params = {\n",
        "        \"batch_size\": model_params[\"TRAIN_BATCH_SIZE\"],\n",
        "        \"shuffle\": True,\n",
        "        \"num_workers\": 0,\n",
        "    }\n",
        "\n",
        "    val_params = {\n",
        "        \"batch_size\": model_params[\"VALID_BATCH_SIZE\"],\n",
        "        \"shuffle\": False,\n",
        "        \"num_workers\": 0,\n",
        "    }\n",
        "\n",
        "    # Creation of Dataloaders for training and validation.\n",
        "    training_loader = DataLoader(training_set, **train_params)\n",
        "    val_loader = DataLoader(val_set, **val_params)\n",
        "\n",
        "    # Defining the optimizer that will be used to tune the weights of the network in the training session.\n",
        "    optimizer = torch.optim.Adam(\n",
        "        params=model.parameters(), lr=model_params[\"LEARNING_RATE\"]\n",
        "    )\n",
        "\n",
        "    # Training loop\n",
        "    console.log(f\"[Initiating Fine Tuning]...\\n\")\n",
        "\n",
        "    train_batch_size = model_params[\"TRAIN_BATCH_SIZE\"]\n",
        "    for epoch in range(model_params[\"TRAIN_EPOCHS\"]):\n",
        "        train(epoch, tokenizer, model, device, training_loader, optimizer, train_batch_size)\n",
        "        validate(epoch, tokenizer, model, device, val_loader, generate_outputs=False)\n",
        "\n",
        "    console.print(\"\\n\")\n",
        "    console.print(training_logger)\n",
        "    console.print(\"\\n\")\n",
        "    console.print(validation_logger)\n",
        "\n",
        "    console.log(f\"[Saving Model]...\\n\")\n",
        "    # Saving the model after training\n",
        "    path = os.path.join(output_dir, \"model_files\")\n",
        "    model.save_pretrained(path)\n",
        "    tokenizer.save_pretrained(path)\n",
        "\n",
        "    # generating output for validation dataset\n",
        "    console.log(f\"[Generating Validation Outputs]...\\n\")\n",
        "    predictions, actuals = validate(epoch, tokenizer, model, device, val_loader)\n",
        "    final_df = pd.DataFrame({\"Input\": val_data[source_text], \"Generated Text\": predictions, \"Actual Text\": actuals})\n",
        "    final_df.to_csv(os.path.join(output_dir, \"predictions.csv\"))\n",
        "\n",
        "    console.save_text(os.path.join(output_dir, \"logs.txt\"))\n",
        "\n",
        "    console.log(f\"[Validation Outputs Generated.]\\n\")\n",
        "    console.print(\n",
        "        f\"\"\"[Model] Model saved @ {os.path.join(output_dir, \"model_files\")}\\n\"\"\"\n",
        "    )\n",
        "    console.print(\n",
        "        f\"\"\"[Validation] Generation on Validation data saved @ {os.path.join(output_dir,'predictions.csv')}\\n\"\"\"\n",
        "    )\n",
        "    console.print(f\"\"\"[Logs] Logs saved @ {os.path.join(output_dir,'logs.txt')}\\n\"\"\")"
      ],
      "metadata": {
        "id": "cDZUWpwKev_4"
      },
      "execution_count": 8,
      "outputs": []
    },
    {
      "cell_type": "markdown",
      "source": [
        "# 1. Processing Data"
      ],
      "metadata": {
        "id": "FcKQWqxse_q6"
      }
    },
    {
      "cell_type": "code",
      "source": [
        "import importlib\n",
        "clean_dataset = importlib.import_module(folder_name + '.End-To-End.cleaning').clean_dataset"
      ],
      "metadata": {
        "id": "8iAhE94GKXEK"
      },
      "execution_count": 9,
      "outputs": []
    },
    {
      "cell_type": "code",
      "source": [
        "base_path=\"repo/End-To-End/Dataset/en-de/\"\n",
        "train_data = pd.read_csv(base_path+'train_compare_cleaned.csv', header=0, index_col=0)\n",
        "test_data = pd.read_csv(base_path+'test_compare_cleaned.csv', header=0, index_col=0)\n",
        "\n",
        "train_info = pd.read_csv(base_path+'idiom_trainplus.info',sep='\\t',header=None,names=[\"spread\", \"en_idiom\", \"de_idiom\",'frequency'])\n",
        "test_info = pd.read_csv(base_path+'idiom_test.info',sep='\\t',header=None,names=[\"spread\", \"en_idiom\", \"de_idiom\",'frequency'])\n",
        "\n",
        "train_data = pd.concat((train_data, train_info['en_idiom']), axis=1)\n",
        "test_data = pd.concat((test_data, test_info['en_idiom']), axis=1)\n",
        "\n",
        "train_data = train_data[train_data['Wrong']!='x']\n",
        "test_data = test_data[test_data['Wrong']!='x']\n",
        "\n",
        "train_data = train_data.drop(columns=['trans', 'Wrong'])\n",
        "test_data = test_data.drop(columns=['trans', 'Wrong'])\n",
        "\n",
        "train_data[['en', 'de']] = clean_dataset(train_data[['en', 'de']])\n",
        "test_data[['en', 'de']] = clean_dataset(test_data[['en', 'de']])\n",
        "\n",
        "train_data['input'] = 'translate English to German: '+ train_data['en']\n",
        "test_data['input'] = 'translate English to German: '+ test_data['en']\n",
        "\n",
        "train_data = train_data.drop(columns=['en'])\n",
        "test_data = test_data.drop(columns=['en'])\n",
        "\n",
        "train_data = train_data.rename(columns={'de': 'target'})\n",
        "test_data = test_data.rename(columns={'de': 'target'})\n",
        "\n",
        "train_data['frequency'] = train_data['en_idiom'].map(train_data['en_idiom'].value_counts())\n",
        "\n",
        "train_data['single'] = train_data['frequency'] == 1\n",
        "\n",
        "if train_data['single'].sum() == 1:\n",
        "  sample = train_data.loc[train_data['single']==True]\n",
        "  train_data = train_data.loc[train_data['single']==False]\n",
        "  train_data, val_data=train_test_split(train_data, test_size=0.15, stratify=train_data['en_idiom'], random_state=42)\n",
        "  val_data = pd.concat((val_data, sample))\n",
        "\n",
        "elif train_data['single'].sum() == 0:\n",
        "  train_data, val_data=train_test_split(train_data, test_size=0.15, stratify=train_data['en_idiom'], random_state=42)\n",
        "  \n",
        "else:\n",
        "  raise Exception('More than one single')\n",
        "\n",
        "train_data = train_data.drop(columns=['en_idiom', 'frequency', 'single'])\n",
        "val_data = val_data.drop(columns=['en_idiom', 'frequency', 'single'])"
      ],
      "metadata": {
        "id": "2AlldPqZYzTB"
      },
      "execution_count": 10,
      "outputs": []
    },
    {
      "cell_type": "code",
      "source": [
        "# Check max length\n",
        "lengths_train_in = train_data[\"input\"].str.split(\" \")\n",
        "lengths_test_in = test_data[\"input\"].str.split(\" \")\n",
        "lengths_val_in = val_data[\"input\"].str.split(\" \")\n",
        "\n",
        "print(\"Max number of tokens input = \", max(lengths_train_in.str.len().max(),lengths_test_in.str.len().max()))\n",
        "\n",
        "lengths_train_tar = train_data[\"target\"].str.split(\" \")\n",
        "lengths_test_tar = test_data[\"target\"].str.split(\" \")\n",
        "lengths_val_tar = val_data[\"target\"].str.split(\" \")\n",
        "\n",
        "print(\"Max number of tokens target = \", max(lengths_train_tar.str.len().max(),lengths_test_tar.str.len().max()))"
      ],
      "metadata": {
        "id": "3InVoeHi9Wyh",
        "colab": {
          "base_uri": "https://localhost:8080/"
        },
        "outputId": "aed44fd9-b41b-41af-8b66-c34216e7b13e"
      },
      "execution_count": 11,
      "outputs": [
        {
          "output_type": "stream",
          "name": "stdout",
          "text": [
            "Max number of tokens input =  153\n",
            "Max number of tokens target =  144\n"
          ]
        }
      ]
    },
    {
      "cell_type": "markdown",
      "source": [
        "#2. Training Model"
      ],
      "metadata": {
        "id": "TMQJTw9DfJIb"
      }
    },
    {
      "cell_type": "code",
      "source": [
        "# let's define model parameters specific to T5\n",
        "model_params = {\n",
        "    \"MODEL\": \"t5-small\",  # model_type: t5-base/t5-small/t5-large\n",
        "    \"TRAIN_BATCH_SIZE\": 4,  # training batch size\n",
        "    \"VALID_BATCH_SIZE\": 4,  # validation batch size\n",
        "    \"TRAIN_EPOCHS\": 50,  # number of training epochs\n",
        "    \"VAL_EPOCHS\": 1,  # number of validation epochs\n",
        "    \"LEARNING_RATE\": 1e-4,  # learning rate\n",
        "    \"MAX_SOURCE_TEXT_LENGTH\": 180,  # max length of source text\n",
        "    \"MAX_TARGET_TEXT_LENGTH\": 150,  # max length of target text\n",
        "    \"SEED\": 42,  # set seed for reproducibility\n",
        "}\n"
      ],
      "metadata": {
        "id": "UypLE5nTfK5M"
      },
      "execution_count": 12,
      "outputs": []
    },
    {
      "cell_type": "code",
      "source": [
        "# Initialize training and validation loggers to keep track of model loss\n",
        "\n",
        "# training logger to log training loss over the epochs and batches\n",
        "training_logger = Table(\n",
        "    Column(\"Epoch\", justify=\"center\"),\n",
        "    # Column(\"Batch\", justify=\"center\"),\n",
        "    Column(\"Loss\", justify=\"center\"),\n",
        "    title=\"Training Loss\",\n",
        "    pad_edge=False,\n",
        "    box=box.ASCII,\n",
        ")\n",
        "\n",
        "# validation logger to log validation loss over the epochs\n",
        "validation_logger = Table(\n",
        "    Column(\"Epoch\", justify=\"center\"),\n",
        "    Column(\"Loss\", justify=\"center\"),\n",
        "    title=\"Validation Loss\",\n",
        "    pad_edge=False,\n",
        "    box=box.ASCII,\n",
        ")\n"
      ],
      "metadata": {
        "id": "6DgnTr-gMlNA"
      },
      "execution_count": 13,
      "outputs": []
    },
    {
      "cell_type": "code",
      "source": [
        "%mkdir outputs"
      ],
      "metadata": {
        "id": "yAV-Zze-YoZh",
        "colab": {
          "base_uri": "https://localhost:8080/"
        },
        "outputId": "3c3fe9e7-23bc-4c6f-fb4e-29751e6cccd7"
      },
      "execution_count": 14,
      "outputs": [
        {
          "output_type": "stream",
          "name": "stdout",
          "text": [
            "mkdir: cannot create directory ‘outputs’: File exists\n"
          ]
        }
      ]
    },
    {
      "cell_type": "code",
      "source": [
        "# Train model\n",
        "T5Trainer(train_data=train_data, val_data= val_data, source_text=\"input\", target_text=\"target\", model_params=model_params, output_dir=\"outputs\")"
      ],
      "metadata": {
        "colab": {
          "base_uri": "https://localhost:8080/",
          "height": 1000
        },
        "id": "n6cgmoYBaQV7",
        "outputId": "60aa1c6e-f22e-4e54-812f-190d77ddf4ec"
      },
      "execution_count": null,
      "outputs": [
        {
          "output_type": "display_data",
          "data": {
            "text/plain": [
              "\u001b[2;36m[13:06:36]\u001b[0m\u001b[2;36m \u001b[0m\u001b[1m[\u001b[0mModel\u001b[1m]\u001b[0m: Loading t5-small\u001b[33m...\u001b[0m                     \u001b[2m<ipython-input-8-31ece74cb2e6>\u001b[0m\u001b[2m:\u001b[0m\u001b[2m23\u001b[0m\n",
              "\u001b[2;36m           \u001b[0m                                                 \u001b[2m                                 \u001b[0m\n"
            ],
            "text/html": [
              "<pre style=\"white-space:pre;overflow-x:auto;line-height:normal;font-family:Menlo,'DejaVu Sans Mono',consolas,'Courier New',monospace\"><span style=\"color: #7fbfbf; text-decoration-color: #7fbfbf\">[13:06:36] </span><span style=\"font-weight: bold\">[</span>Model<span style=\"font-weight: bold\">]</span>: Loading t5-small<span style=\"color: #808000; text-decoration-color: #808000\">...</span>                     <span style=\"color: #7f7f7f; text-decoration-color: #7f7f7f\">&lt;ipython-input-8-31ece74cb2e6&gt;:23</span>\n",
              "<span style=\"color: #7fbfbf; text-decoration-color: #7fbfbf\">           </span>                                                 <span style=\"color: #7f7f7f; text-decoration-color: #7f7f7f\">                                 </span>\n",
              "</pre>\n"
            ]
          },
          "metadata": {}
        },
        {
          "output_type": "stream",
          "name": "stderr",
          "text": [
            "/usr/local/lib/python3.7/dist-packages/transformers/models/t5/tokenization_t5.py:169: FutureWarning: This tokenizer was incorrectly instantiated with a model max length of 512 which will be corrected in Transformers v5.\n",
            "For now, this behavior is kept to avoid breaking backwards compatibility when padding/encoding with `truncation is True`.\n",
            "- Be aware that you SHOULD NOT rely on t5-small automatically truncating your input to 512 when padding/encoding.\n",
            "- If you want to encode/pad to sequences longer than 512 you can either instantiate this tokenizer with `model_max_length` or pass `max_length` when encoding/padding.\n",
            "- To avoid this warning, please instantiate this tokenizer with `model_max_length` set to your preferred value.\n",
            "  FutureWarning,\n"
          ]
        },
        {
          "output_type": "display_data",
          "data": {
            "text/plain": [
              "\u001b[2;36m[13:06:47]\u001b[0m\u001b[2;36m \u001b[0m\u001b[1m[\u001b[0mData\u001b[1m]\u001b[0m: Reading data\u001b[33m...\u001b[0m                          \u001b[2m<ipython-input-8-31ece74cb2e6>\u001b[0m\u001b[2m:\u001b[0m\u001b[2m33\u001b[0m\n",
              "\u001b[2;36m           \u001b[0m                                                 \u001b[2m                                 \u001b[0m\n"
            ],
            "text/html": [
              "<pre style=\"white-space:pre;overflow-x:auto;line-height:normal;font-family:Menlo,'DejaVu Sans Mono',consolas,'Courier New',monospace\"><span style=\"color: #7fbfbf; text-decoration-color: #7fbfbf\">[13:06:47] </span><span style=\"font-weight: bold\">[</span>Data<span style=\"font-weight: bold\">]</span>: Reading data<span style=\"color: #808000; text-decoration-color: #808000\">...</span>                          <span style=\"color: #7f7f7f; text-decoration-color: #7f7f7f\">&lt;ipython-input-8-31ece74cb2e6&gt;:33</span>\n",
              "<span style=\"color: #7fbfbf; text-decoration-color: #7fbfbf\">           </span>                                                 <span style=\"color: #7f7f7f; text-decoration-color: #7f7f7f\">                                 </span>\n",
              "</pre>\n"
            ]
          },
          "metadata": {}
        },
        {
          "output_type": "display_data",
          "data": {
            "text/plain": [
              "\u001b[3m                                         Sample Data                                         \u001b[0m\n",
              "+-------------------------------------------------------------------------------------------+\n",
              "|\u001b[1m                source_text                 \u001b[0m\u001b[1m \u001b[0m|\u001b[1m \u001b[0m\u001b[1m                target_text                 \u001b[0m|\n",
              "|---------------------------------------------+---------------------------------------------|\n",
              "|translate English to German: You will always | Sie wissen stets , ob ein dritter Partner an|\n",
              "| know whether a third party is involved in   |    Transaktionen beteiligt ist und ob wir   |\n",
              "|    transactions and whether we pass on      |   Informationen über die Transaktionen mit  |\n",
              "| information about the transactions to this  | diesem dritten Partner an diesen weitergeben|\n",
              "|                 partner .                   |                   können .                  |\n",
              "| translate English to German: What test can  |   Welcher Test kann durchgeführt werden um  |\n",
              "|    be done in order to know if the low      |     festzustellen , ob der Grund für die    |\n",
              "| performance is due to the electric pump or  | niedrige Leistung bei der Pumpe oder bei der|\n",
              "|             the installation ?              |               Montage liegt ?               |\n",
              "+-------------------------------------------------------------------------------------------+\n"
            ],
            "text/html": [
              "<pre style=\"white-space:pre;overflow-x:auto;line-height:normal;font-family:Menlo,'DejaVu Sans Mono',consolas,'Courier New',monospace\"><span style=\"font-style: italic\">                                         Sample Data                                         </span>\n",
              "+-------------------------------------------------------------------------------------------+\n",
              "|<span style=\"font-weight: bold\">                source_text                  </span>|<span style=\"font-weight: bold\">                 target_text                 </span>|\n",
              "|---------------------------------------------+---------------------------------------------|\n",
              "|translate English to German: You will always | Sie wissen stets , ob ein dritter Partner an|\n",
              "| know whether a third party is involved in   |    Transaktionen beteiligt ist und ob wir   |\n",
              "|    transactions and whether we pass on      |   Informationen über die Transaktionen mit  |\n",
              "| information about the transactions to this  | diesem dritten Partner an diesen weitergeben|\n",
              "|                 partner .                   |                   können .                  |\n",
              "| translate English to German: What test can  |   Welcher Test kann durchgeführt werden um  |\n",
              "|    be done in order to know if the low      |     festzustellen , ob der Grund für die    |\n",
              "| performance is due to the electric pump or  | niedrige Leistung bei der Pumpe oder bei der|\n",
              "|             the installation ?              |               Montage liegt ?               |\n",
              "+-------------------------------------------------------------------------------------------+\n",
              "</pre>\n"
            ]
          },
          "metadata": {}
        },
        {
          "output_type": "display_data",
          "data": {
            "text/plain": [
              "TRAIN Dataset: \u001b[1m(\u001b[0m\u001b[1;36m1730\u001b[0m, \u001b[1;36m2\u001b[0m\u001b[1m)\u001b[0m\n"
            ],
            "text/html": [
              "<pre style=\"white-space:pre;overflow-x:auto;line-height:normal;font-family:Menlo,'DejaVu Sans Mono',consolas,'Courier New',monospace\">TRAIN Dataset: <span style=\"font-weight: bold\">(</span><span style=\"color: #008080; text-decoration-color: #008080; font-weight: bold\">1730</span>, <span style=\"color: #008080; text-decoration-color: #008080; font-weight: bold\">2</span><span style=\"font-weight: bold\">)</span>\n",
              "</pre>\n"
            ]
          },
          "metadata": {}
        },
        {
          "output_type": "display_data",
          "data": {
            "text/plain": [
              "VALIDATION Dataset: \u001b[1m(\u001b[0m\u001b[1;36m307\u001b[0m, \u001b[1;36m2\u001b[0m\u001b[1m)\u001b[0m\n",
              "\n"
            ],
            "text/html": [
              "<pre style=\"white-space:pre;overflow-x:auto;line-height:normal;font-family:Menlo,'DejaVu Sans Mono',consolas,'Courier New',monospace\">VALIDATION Dataset: <span style=\"font-weight: bold\">(</span><span style=\"color: #008080; text-decoration-color: #008080; font-weight: bold\">307</span>, <span style=\"color: #008080; text-decoration-color: #008080; font-weight: bold\">2</span><span style=\"font-weight: bold\">)</span>\n",
              "\n",
              "</pre>\n"
            ]
          },
          "metadata": {}
        },
        {
          "output_type": "display_data",
          "data": {
            "text/plain": [
              "\u001b[2;36m          \u001b[0m\u001b[2;36m \u001b[0m\u001b[1m[\u001b[0mInitiating Fine Tuning\u001b[1m]\u001b[0m\u001b[33m...\u001b[0m                      \u001b[2m<ipython-input-8-31ece74cb2e6>\u001b[0m\u001b[2m:\u001b[0m\u001b[2m88\u001b[0m\n",
              "\u001b[2;36m           \u001b[0m                                                 \u001b[2m                                 \u001b[0m\n"
            ],
            "text/html": [
              "<pre style=\"white-space:pre;overflow-x:auto;line-height:normal;font-family:Menlo,'DejaVu Sans Mono',consolas,'Courier New',monospace\"><span style=\"color: #7fbfbf; text-decoration-color: #7fbfbf\">           </span><span style=\"font-weight: bold\">[</span>Initiating Fine Tuning<span style=\"font-weight: bold\">]</span><span style=\"color: #808000; text-decoration-color: #808000\">...</span>                      <span style=\"color: #7f7f7f; text-decoration-color: #7f7f7f\">&lt;ipython-input-8-31ece74cb2e6&gt;:88</span>\n",
              "<span style=\"color: #7fbfbf; text-decoration-color: #7fbfbf\">           </span>                                                 <span style=\"color: #7f7f7f; text-decoration-color: #7f7f7f\">                                 </span>\n",
              "</pre>\n"
            ]
          },
          "metadata": {}
        },
        {
          "output_type": "display_data",
          "data": {
            "text/plain": [
              "Epoch:  \u001b[1;36m0\u001b[0m Batch:  \u001b[1;36m0\u001b[0m Loss:  \u001b[1;36m2.4924094676971436\u001b[0m\n"
            ],
            "text/html": [
              "<pre style=\"white-space:pre;overflow-x:auto;line-height:normal;font-family:Menlo,'DejaVu Sans Mono',consolas,'Courier New',monospace\">Epoch:  <span style=\"color: #008080; text-decoration-color: #008080; font-weight: bold\">0</span> Batch:  <span style=\"color: #008080; text-decoration-color: #008080; font-weight: bold\">0</span> Loss:  <span style=\"color: #008080; text-decoration-color: #008080; font-weight: bold\">2.4924094676971436</span>\n",
              "</pre>\n"
            ]
          },
          "metadata": {}
        },
        {
          "output_type": "display_data",
          "data": {
            "text/plain": [
              "Epoch:  \u001b[1;36m0\u001b[0m Batch:  \u001b[1;36m100\u001b[0m Loss:  \u001b[1;36m1.2873202562332153\u001b[0m\n"
            ],
            "text/html": [
              "<pre style=\"white-space:pre;overflow-x:auto;line-height:normal;font-family:Menlo,'DejaVu Sans Mono',consolas,'Courier New',monospace\">Epoch:  <span style=\"color: #008080; text-decoration-color: #008080; font-weight: bold\">0</span> Batch:  <span style=\"color: #008080; text-decoration-color: #008080; font-weight: bold\">100</span> Loss:  <span style=\"color: #008080; text-decoration-color: #008080; font-weight: bold\">1.2873202562332153</span>\n",
              "</pre>\n"
            ]
          },
          "metadata": {}
        },
        {
          "output_type": "display_data",
          "data": {
            "text/plain": [
              "Epoch:  \u001b[1;36m0\u001b[0m Batch:  \u001b[1;36m200\u001b[0m Loss:  \u001b[1;36m1.9143338203430176\u001b[0m\n"
            ],
            "text/html": [
              "<pre style=\"white-space:pre;overflow-x:auto;line-height:normal;font-family:Menlo,'DejaVu Sans Mono',consolas,'Courier New',monospace\">Epoch:  <span style=\"color: #008080; text-decoration-color: #008080; font-weight: bold\">0</span> Batch:  <span style=\"color: #008080; text-decoration-color: #008080; font-weight: bold\">200</span> Loss:  <span style=\"color: #008080; text-decoration-color: #008080; font-weight: bold\">1.9143338203430176</span>\n",
              "</pre>\n"
            ]
          },
          "metadata": {}
        },
        {
          "output_type": "display_data",
          "data": {
            "text/plain": [
              "Epoch:  \u001b[1;36m0\u001b[0m Batch:  \u001b[1;36m300\u001b[0m Loss:  \u001b[1;36m1.4753905534744263\u001b[0m\n"
            ],
            "text/html": [
              "<pre style=\"white-space:pre;overflow-x:auto;line-height:normal;font-family:Menlo,'DejaVu Sans Mono',consolas,'Courier New',monospace\">Epoch:  <span style=\"color: #008080; text-decoration-color: #008080; font-weight: bold\">0</span> Batch:  <span style=\"color: #008080; text-decoration-color: #008080; font-weight: bold\">300</span> Loss:  <span style=\"color: #008080; text-decoration-color: #008080; font-weight: bold\">1.4753905534744263</span>\n",
              "</pre>\n"
            ]
          },
          "metadata": {}
        },
        {
          "output_type": "display_data",
          "data": {
            "text/plain": [
              "Epoch:  \u001b[1;36m0\u001b[0m Batch:  \u001b[1;36m400\u001b[0m Loss:  \u001b[1;36m2.227276563644409\u001b[0m\n"
            ],
            "text/html": [
              "<pre style=\"white-space:pre;overflow-x:auto;line-height:normal;font-family:Menlo,'DejaVu Sans Mono',consolas,'Courier New',monospace\">Epoch:  <span style=\"color: #008080; text-decoration-color: #008080; font-weight: bold\">0</span> Batch:  <span style=\"color: #008080; text-decoration-color: #008080; font-weight: bold\">400</span> Loss:  <span style=\"color: #008080; text-decoration-color: #008080; font-weight: bold\">2.227276563644409</span>\n",
              "</pre>\n"
            ]
          },
          "metadata": {}
        },
        {
          "output_type": "display_data",
          "data": {
            "text/plain": [
              "Epoch:  \u001b[1;36m1\u001b[0m Batch:  \u001b[1;36m0\u001b[0m Loss:  \u001b[1;36m1.8912534713745117\u001b[0m\n"
            ],
            "text/html": [
              "<pre style=\"white-space:pre;overflow-x:auto;line-height:normal;font-family:Menlo,'DejaVu Sans Mono',consolas,'Courier New',monospace\">Epoch:  <span style=\"color: #008080; text-decoration-color: #008080; font-weight: bold\">1</span> Batch:  <span style=\"color: #008080; text-decoration-color: #008080; font-weight: bold\">0</span> Loss:  <span style=\"color: #008080; text-decoration-color: #008080; font-weight: bold\">1.8912534713745117</span>\n",
              "</pre>\n"
            ]
          },
          "metadata": {}
        },
        {
          "output_type": "display_data",
          "data": {
            "text/plain": [
              "Epoch:  \u001b[1;36m1\u001b[0m Batch:  \u001b[1;36m100\u001b[0m Loss:  \u001b[1;36m1.1595141887664795\u001b[0m\n"
            ],
            "text/html": [
              "<pre style=\"white-space:pre;overflow-x:auto;line-height:normal;font-family:Menlo,'DejaVu Sans Mono',consolas,'Courier New',monospace\">Epoch:  <span style=\"color: #008080; text-decoration-color: #008080; font-weight: bold\">1</span> Batch:  <span style=\"color: #008080; text-decoration-color: #008080; font-weight: bold\">100</span> Loss:  <span style=\"color: #008080; text-decoration-color: #008080; font-weight: bold\">1.1595141887664795</span>\n",
              "</pre>\n"
            ]
          },
          "metadata": {}
        },
        {
          "output_type": "display_data",
          "data": {
            "text/plain": [
              "Epoch:  \u001b[1;36m1\u001b[0m Batch:  \u001b[1;36m200\u001b[0m Loss:  \u001b[1;36m1.9240576028823853\u001b[0m\n"
            ],
            "text/html": [
              "<pre style=\"white-space:pre;overflow-x:auto;line-height:normal;font-family:Menlo,'DejaVu Sans Mono',consolas,'Courier New',monospace\">Epoch:  <span style=\"color: #008080; text-decoration-color: #008080; font-weight: bold\">1</span> Batch:  <span style=\"color: #008080; text-decoration-color: #008080; font-weight: bold\">200</span> Loss:  <span style=\"color: #008080; text-decoration-color: #008080; font-weight: bold\">1.9240576028823853</span>\n",
              "</pre>\n"
            ]
          },
          "metadata": {}
        },
        {
          "output_type": "display_data",
          "data": {
            "text/plain": [
              "Epoch:  \u001b[1;36m1\u001b[0m Batch:  \u001b[1;36m300\u001b[0m Loss:  \u001b[1;36m1.623581051826477\u001b[0m\n"
            ],
            "text/html": [
              "<pre style=\"white-space:pre;overflow-x:auto;line-height:normal;font-family:Menlo,'DejaVu Sans Mono',consolas,'Courier New',monospace\">Epoch:  <span style=\"color: #008080; text-decoration-color: #008080; font-weight: bold\">1</span> Batch:  <span style=\"color: #008080; text-decoration-color: #008080; font-weight: bold\">300</span> Loss:  <span style=\"color: #008080; text-decoration-color: #008080; font-weight: bold\">1.623581051826477</span>\n",
              "</pre>\n"
            ]
          },
          "metadata": {}
        },
        {
          "output_type": "display_data",
          "data": {
            "text/plain": [
              "Epoch:  \u001b[1;36m1\u001b[0m Batch:  \u001b[1;36m400\u001b[0m Loss:  \u001b[1;36m1.053484559059143\u001b[0m\n"
            ],
            "text/html": [
              "<pre style=\"white-space:pre;overflow-x:auto;line-height:normal;font-family:Menlo,'DejaVu Sans Mono',consolas,'Courier New',monospace\">Epoch:  <span style=\"color: #008080; text-decoration-color: #008080; font-weight: bold\">1</span> Batch:  <span style=\"color: #008080; text-decoration-color: #008080; font-weight: bold\">400</span> Loss:  <span style=\"color: #008080; text-decoration-color: #008080; font-weight: bold\">1.053484559059143</span>\n",
              "</pre>\n"
            ]
          },
          "metadata": {}
        },
        {
          "output_type": "display_data",
          "data": {
            "text/plain": [
              "Epoch:  \u001b[1;36m2\u001b[0m Batch:  \u001b[1;36m0\u001b[0m Loss:  \u001b[1;36m1.2309938669204712\u001b[0m\n"
            ],
            "text/html": [
              "<pre style=\"white-space:pre;overflow-x:auto;line-height:normal;font-family:Menlo,'DejaVu Sans Mono',consolas,'Courier New',monospace\">Epoch:  <span style=\"color: #008080; text-decoration-color: #008080; font-weight: bold\">2</span> Batch:  <span style=\"color: #008080; text-decoration-color: #008080; font-weight: bold\">0</span> Loss:  <span style=\"color: #008080; text-decoration-color: #008080; font-weight: bold\">1.2309938669204712</span>\n",
              "</pre>\n"
            ]
          },
          "metadata": {}
        },
        {
          "output_type": "display_data",
          "data": {
            "text/plain": [
              "Epoch:  \u001b[1;36m2\u001b[0m Batch:  \u001b[1;36m100\u001b[0m Loss:  \u001b[1;36m1.6299620866775513\u001b[0m\n"
            ],
            "text/html": [
              "<pre style=\"white-space:pre;overflow-x:auto;line-height:normal;font-family:Menlo,'DejaVu Sans Mono',consolas,'Courier New',monospace\">Epoch:  <span style=\"color: #008080; text-decoration-color: #008080; font-weight: bold\">2</span> Batch:  <span style=\"color: #008080; text-decoration-color: #008080; font-weight: bold\">100</span> Loss:  <span style=\"color: #008080; text-decoration-color: #008080; font-weight: bold\">1.6299620866775513</span>\n",
              "</pre>\n"
            ]
          },
          "metadata": {}
        },
        {
          "output_type": "display_data",
          "data": {
            "text/plain": [
              "Epoch:  \u001b[1;36m2\u001b[0m Batch:  \u001b[1;36m200\u001b[0m Loss:  \u001b[1;36m1.3477377891540527\u001b[0m\n"
            ],
            "text/html": [
              "<pre style=\"white-space:pre;overflow-x:auto;line-height:normal;font-family:Menlo,'DejaVu Sans Mono',consolas,'Courier New',monospace\">Epoch:  <span style=\"color: #008080; text-decoration-color: #008080; font-weight: bold\">2</span> Batch:  <span style=\"color: #008080; text-decoration-color: #008080; font-weight: bold\">200</span> Loss:  <span style=\"color: #008080; text-decoration-color: #008080; font-weight: bold\">1.3477377891540527</span>\n",
              "</pre>\n"
            ]
          },
          "metadata": {}
        },
        {
          "output_type": "display_data",
          "data": {
            "text/plain": [
              "Epoch:  \u001b[1;36m2\u001b[0m Batch:  \u001b[1;36m300\u001b[0m Loss:  \u001b[1;36m1.4600151777267456\u001b[0m\n"
            ],
            "text/html": [
              "<pre style=\"white-space:pre;overflow-x:auto;line-height:normal;font-family:Menlo,'DejaVu Sans Mono',consolas,'Courier New',monospace\">Epoch:  <span style=\"color: #008080; text-decoration-color: #008080; font-weight: bold\">2</span> Batch:  <span style=\"color: #008080; text-decoration-color: #008080; font-weight: bold\">300</span> Loss:  <span style=\"color: #008080; text-decoration-color: #008080; font-weight: bold\">1.4600151777267456</span>\n",
              "</pre>\n"
            ]
          },
          "metadata": {}
        },
        {
          "output_type": "display_data",
          "data": {
            "text/plain": [
              "Epoch:  \u001b[1;36m2\u001b[0m Batch:  \u001b[1;36m400\u001b[0m Loss:  \u001b[1;36m0.8157329559326172\u001b[0m\n"
            ],
            "text/html": [
              "<pre style=\"white-space:pre;overflow-x:auto;line-height:normal;font-family:Menlo,'DejaVu Sans Mono',consolas,'Courier New',monospace\">Epoch:  <span style=\"color: #008080; text-decoration-color: #008080; font-weight: bold\">2</span> Batch:  <span style=\"color: #008080; text-decoration-color: #008080; font-weight: bold\">400</span> Loss:  <span style=\"color: #008080; text-decoration-color: #008080; font-weight: bold\">0.8157329559326172</span>\n",
              "</pre>\n"
            ]
          },
          "metadata": {}
        },
        {
          "output_type": "display_data",
          "data": {
            "text/plain": [
              "Epoch:  \u001b[1;36m3\u001b[0m Batch:  \u001b[1;36m0\u001b[0m Loss:  \u001b[1;36m1.73831307888031\u001b[0m\n"
            ],
            "text/html": [
              "<pre style=\"white-space:pre;overflow-x:auto;line-height:normal;font-family:Menlo,'DejaVu Sans Mono',consolas,'Courier New',monospace\">Epoch:  <span style=\"color: #008080; text-decoration-color: #008080; font-weight: bold\">3</span> Batch:  <span style=\"color: #008080; text-decoration-color: #008080; font-weight: bold\">0</span> Loss:  <span style=\"color: #008080; text-decoration-color: #008080; font-weight: bold\">1.73831307888031</span>\n",
              "</pre>\n"
            ]
          },
          "metadata": {}
        },
        {
          "output_type": "display_data",
          "data": {
            "text/plain": [
              "Epoch:  \u001b[1;36m3\u001b[0m Batch:  \u001b[1;36m100\u001b[0m Loss:  \u001b[1;36m1.6863517761230469\u001b[0m\n"
            ],
            "text/html": [
              "<pre style=\"white-space:pre;overflow-x:auto;line-height:normal;font-family:Menlo,'DejaVu Sans Mono',consolas,'Courier New',monospace\">Epoch:  <span style=\"color: #008080; text-decoration-color: #008080; font-weight: bold\">3</span> Batch:  <span style=\"color: #008080; text-decoration-color: #008080; font-weight: bold\">100</span> Loss:  <span style=\"color: #008080; text-decoration-color: #008080; font-weight: bold\">1.6863517761230469</span>\n",
              "</pre>\n"
            ]
          },
          "metadata": {}
        },
        {
          "output_type": "display_data",
          "data": {
            "text/plain": [
              "Epoch:  \u001b[1;36m3\u001b[0m Batch:  \u001b[1;36m200\u001b[0m Loss:  \u001b[1;36m0.6455584764480591\u001b[0m\n"
            ],
            "text/html": [
              "<pre style=\"white-space:pre;overflow-x:auto;line-height:normal;font-family:Menlo,'DejaVu Sans Mono',consolas,'Courier New',monospace\">Epoch:  <span style=\"color: #008080; text-decoration-color: #008080; font-weight: bold\">3</span> Batch:  <span style=\"color: #008080; text-decoration-color: #008080; font-weight: bold\">200</span> Loss:  <span style=\"color: #008080; text-decoration-color: #008080; font-weight: bold\">0.6455584764480591</span>\n",
              "</pre>\n"
            ]
          },
          "metadata": {}
        },
        {
          "output_type": "display_data",
          "data": {
            "text/plain": [
              "Epoch:  \u001b[1;36m3\u001b[0m Batch:  \u001b[1;36m300\u001b[0m Loss:  \u001b[1;36m1.1198914051055908\u001b[0m\n"
            ],
            "text/html": [
              "<pre style=\"white-space:pre;overflow-x:auto;line-height:normal;font-family:Menlo,'DejaVu Sans Mono',consolas,'Courier New',monospace\">Epoch:  <span style=\"color: #008080; text-decoration-color: #008080; font-weight: bold\">3</span> Batch:  <span style=\"color: #008080; text-decoration-color: #008080; font-weight: bold\">300</span> Loss:  <span style=\"color: #008080; text-decoration-color: #008080; font-weight: bold\">1.1198914051055908</span>\n",
              "</pre>\n"
            ]
          },
          "metadata": {}
        },
        {
          "output_type": "display_data",
          "data": {
            "text/plain": [
              "Epoch:  \u001b[1;36m3\u001b[0m Batch:  \u001b[1;36m400\u001b[0m Loss:  \u001b[1;36m1.1430532932281494\u001b[0m\n"
            ],
            "text/html": [
              "<pre style=\"white-space:pre;overflow-x:auto;line-height:normal;font-family:Menlo,'DejaVu Sans Mono',consolas,'Courier New',monospace\">Epoch:  <span style=\"color: #008080; text-decoration-color: #008080; font-weight: bold\">3</span> Batch:  <span style=\"color: #008080; text-decoration-color: #008080; font-weight: bold\">400</span> Loss:  <span style=\"color: #008080; text-decoration-color: #008080; font-weight: bold\">1.1430532932281494</span>\n",
              "</pre>\n"
            ]
          },
          "metadata": {}
        },
        {
          "output_type": "display_data",
          "data": {
            "text/plain": [
              "Epoch:  \u001b[1;36m4\u001b[0m Batch:  \u001b[1;36m0\u001b[0m Loss:  \u001b[1;36m1.7070860862731934\u001b[0m\n"
            ],
            "text/html": [
              "<pre style=\"white-space:pre;overflow-x:auto;line-height:normal;font-family:Menlo,'DejaVu Sans Mono',consolas,'Courier New',monospace\">Epoch:  <span style=\"color: #008080; text-decoration-color: #008080; font-weight: bold\">4</span> Batch:  <span style=\"color: #008080; text-decoration-color: #008080; font-weight: bold\">0</span> Loss:  <span style=\"color: #008080; text-decoration-color: #008080; font-weight: bold\">1.7070860862731934</span>\n",
              "</pre>\n"
            ]
          },
          "metadata": {}
        },
        {
          "output_type": "display_data",
          "data": {
            "text/plain": [
              "Epoch:  \u001b[1;36m4\u001b[0m Batch:  \u001b[1;36m100\u001b[0m Loss:  \u001b[1;36m1.940048098564148\u001b[0m\n"
            ],
            "text/html": [
              "<pre style=\"white-space:pre;overflow-x:auto;line-height:normal;font-family:Menlo,'DejaVu Sans Mono',consolas,'Courier New',monospace\">Epoch:  <span style=\"color: #008080; text-decoration-color: #008080; font-weight: bold\">4</span> Batch:  <span style=\"color: #008080; text-decoration-color: #008080; font-weight: bold\">100</span> Loss:  <span style=\"color: #008080; text-decoration-color: #008080; font-weight: bold\">1.940048098564148</span>\n",
              "</pre>\n"
            ]
          },
          "metadata": {}
        },
        {
          "output_type": "display_data",
          "data": {
            "text/plain": [
              "Epoch:  \u001b[1;36m4\u001b[0m Batch:  \u001b[1;36m200\u001b[0m Loss:  \u001b[1;36m1.1136411428451538\u001b[0m\n"
            ],
            "text/html": [
              "<pre style=\"white-space:pre;overflow-x:auto;line-height:normal;font-family:Menlo,'DejaVu Sans Mono',consolas,'Courier New',monospace\">Epoch:  <span style=\"color: #008080; text-decoration-color: #008080; font-weight: bold\">4</span> Batch:  <span style=\"color: #008080; text-decoration-color: #008080; font-weight: bold\">200</span> Loss:  <span style=\"color: #008080; text-decoration-color: #008080; font-weight: bold\">1.1136411428451538</span>\n",
              "</pre>\n"
            ]
          },
          "metadata": {}
        },
        {
          "output_type": "display_data",
          "data": {
            "text/plain": [
              "Epoch:  \u001b[1;36m4\u001b[0m Batch:  \u001b[1;36m300\u001b[0m Loss:  \u001b[1;36m1.2601276636123657\u001b[0m\n"
            ],
            "text/html": [
              "<pre style=\"white-space:pre;overflow-x:auto;line-height:normal;font-family:Menlo,'DejaVu Sans Mono',consolas,'Courier New',monospace\">Epoch:  <span style=\"color: #008080; text-decoration-color: #008080; font-weight: bold\">4</span> Batch:  <span style=\"color: #008080; text-decoration-color: #008080; font-weight: bold\">300</span> Loss:  <span style=\"color: #008080; text-decoration-color: #008080; font-weight: bold\">1.2601276636123657</span>\n",
              "</pre>\n"
            ]
          },
          "metadata": {}
        },
        {
          "output_type": "display_data",
          "data": {
            "text/plain": [
              "Epoch:  \u001b[1;36m4\u001b[0m Batch:  \u001b[1;36m400\u001b[0m Loss:  \u001b[1;36m1.0293017625808716\u001b[0m\n"
            ],
            "text/html": [
              "<pre style=\"white-space:pre;overflow-x:auto;line-height:normal;font-family:Menlo,'DejaVu Sans Mono',consolas,'Courier New',monospace\">Epoch:  <span style=\"color: #008080; text-decoration-color: #008080; font-weight: bold\">4</span> Batch:  <span style=\"color: #008080; text-decoration-color: #008080; font-weight: bold\">400</span> Loss:  <span style=\"color: #008080; text-decoration-color: #008080; font-weight: bold\">1.0293017625808716</span>\n",
              "</pre>\n"
            ]
          },
          "metadata": {}
        },
        {
          "output_type": "display_data",
          "data": {
            "text/plain": [
              "Epoch:  \u001b[1;36m5\u001b[0m Batch:  \u001b[1;36m0\u001b[0m Loss:  \u001b[1;36m1.1351888179779053\u001b[0m\n"
            ],
            "text/html": [
              "<pre style=\"white-space:pre;overflow-x:auto;line-height:normal;font-family:Menlo,'DejaVu Sans Mono',consolas,'Courier New',monospace\">Epoch:  <span style=\"color: #008080; text-decoration-color: #008080; font-weight: bold\">5</span> Batch:  <span style=\"color: #008080; text-decoration-color: #008080; font-weight: bold\">0</span> Loss:  <span style=\"color: #008080; text-decoration-color: #008080; font-weight: bold\">1.1351888179779053</span>\n",
              "</pre>\n"
            ]
          },
          "metadata": {}
        },
        {
          "output_type": "display_data",
          "data": {
            "text/plain": [
              "Epoch:  \u001b[1;36m5\u001b[0m Batch:  \u001b[1;36m100\u001b[0m Loss:  \u001b[1;36m1.3150885105133057\u001b[0m\n"
            ],
            "text/html": [
              "<pre style=\"white-space:pre;overflow-x:auto;line-height:normal;font-family:Menlo,'DejaVu Sans Mono',consolas,'Courier New',monospace\">Epoch:  <span style=\"color: #008080; text-decoration-color: #008080; font-weight: bold\">5</span> Batch:  <span style=\"color: #008080; text-decoration-color: #008080; font-weight: bold\">100</span> Loss:  <span style=\"color: #008080; text-decoration-color: #008080; font-weight: bold\">1.3150885105133057</span>\n",
              "</pre>\n"
            ]
          },
          "metadata": {}
        },
        {
          "output_type": "display_data",
          "data": {
            "text/plain": [
              "Epoch:  \u001b[1;36m5\u001b[0m Batch:  \u001b[1;36m200\u001b[0m Loss:  \u001b[1;36m1.4103246927261353\u001b[0m\n"
            ],
            "text/html": [
              "<pre style=\"white-space:pre;overflow-x:auto;line-height:normal;font-family:Menlo,'DejaVu Sans Mono',consolas,'Courier New',monospace\">Epoch:  <span style=\"color: #008080; text-decoration-color: #008080; font-weight: bold\">5</span> Batch:  <span style=\"color: #008080; text-decoration-color: #008080; font-weight: bold\">200</span> Loss:  <span style=\"color: #008080; text-decoration-color: #008080; font-weight: bold\">1.4103246927261353</span>\n",
              "</pre>\n"
            ]
          },
          "metadata": {}
        },
        {
          "output_type": "display_data",
          "data": {
            "text/plain": [
              "Epoch:  \u001b[1;36m5\u001b[0m Batch:  \u001b[1;36m300\u001b[0m Loss:  \u001b[1;36m0.8501139879226685\u001b[0m\n"
            ],
            "text/html": [
              "<pre style=\"white-space:pre;overflow-x:auto;line-height:normal;font-family:Menlo,'DejaVu Sans Mono',consolas,'Courier New',monospace\">Epoch:  <span style=\"color: #008080; text-decoration-color: #008080; font-weight: bold\">5</span> Batch:  <span style=\"color: #008080; text-decoration-color: #008080; font-weight: bold\">300</span> Loss:  <span style=\"color: #008080; text-decoration-color: #008080; font-weight: bold\">0.8501139879226685</span>\n",
              "</pre>\n"
            ]
          },
          "metadata": {}
        },
        {
          "output_type": "display_data",
          "data": {
            "text/plain": [
              "Epoch:  \u001b[1;36m5\u001b[0m Batch:  \u001b[1;36m400\u001b[0m Loss:  \u001b[1;36m1.5595982074737549\u001b[0m\n"
            ],
            "text/html": [
              "<pre style=\"white-space:pre;overflow-x:auto;line-height:normal;font-family:Menlo,'DejaVu Sans Mono',consolas,'Courier New',monospace\">Epoch:  <span style=\"color: #008080; text-decoration-color: #008080; font-weight: bold\">5</span> Batch:  <span style=\"color: #008080; text-decoration-color: #008080; font-weight: bold\">400</span> Loss:  <span style=\"color: #008080; text-decoration-color: #008080; font-weight: bold\">1.5595982074737549</span>\n",
              "</pre>\n"
            ]
          },
          "metadata": {}
        },
        {
          "output_type": "display_data",
          "data": {
            "text/plain": [
              "Epoch:  \u001b[1;36m6\u001b[0m Batch:  \u001b[1;36m0\u001b[0m Loss:  \u001b[1;36m2.083637237548828\u001b[0m\n"
            ],
            "text/html": [
              "<pre style=\"white-space:pre;overflow-x:auto;line-height:normal;font-family:Menlo,'DejaVu Sans Mono',consolas,'Courier New',monospace\">Epoch:  <span style=\"color: #008080; text-decoration-color: #008080; font-weight: bold\">6</span> Batch:  <span style=\"color: #008080; text-decoration-color: #008080; font-weight: bold\">0</span> Loss:  <span style=\"color: #008080; text-decoration-color: #008080; font-weight: bold\">2.083637237548828</span>\n",
              "</pre>\n"
            ]
          },
          "metadata": {}
        },
        {
          "output_type": "display_data",
          "data": {
            "text/plain": [
              "Epoch:  \u001b[1;36m6\u001b[0m Batch:  \u001b[1;36m100\u001b[0m Loss:  \u001b[1;36m0.7618470788002014\u001b[0m\n"
            ],
            "text/html": [
              "<pre style=\"white-space:pre;overflow-x:auto;line-height:normal;font-family:Menlo,'DejaVu Sans Mono',consolas,'Courier New',monospace\">Epoch:  <span style=\"color: #008080; text-decoration-color: #008080; font-weight: bold\">6</span> Batch:  <span style=\"color: #008080; text-decoration-color: #008080; font-weight: bold\">100</span> Loss:  <span style=\"color: #008080; text-decoration-color: #008080; font-weight: bold\">0.7618470788002014</span>\n",
              "</pre>\n"
            ]
          },
          "metadata": {}
        },
        {
          "output_type": "display_data",
          "data": {
            "text/plain": [
              "Epoch:  \u001b[1;36m6\u001b[0m Batch:  \u001b[1;36m200\u001b[0m Loss:  \u001b[1;36m1.3093070983886719\u001b[0m\n"
            ],
            "text/html": [
              "<pre style=\"white-space:pre;overflow-x:auto;line-height:normal;font-family:Menlo,'DejaVu Sans Mono',consolas,'Courier New',monospace\">Epoch:  <span style=\"color: #008080; text-decoration-color: #008080; font-weight: bold\">6</span> Batch:  <span style=\"color: #008080; text-decoration-color: #008080; font-weight: bold\">200</span> Loss:  <span style=\"color: #008080; text-decoration-color: #008080; font-weight: bold\">1.3093070983886719</span>\n",
              "</pre>\n"
            ]
          },
          "metadata": {}
        },
        {
          "output_type": "display_data",
          "data": {
            "text/plain": [
              "Epoch:  \u001b[1;36m6\u001b[0m Batch:  \u001b[1;36m300\u001b[0m Loss:  \u001b[1;36m0.8539612293243408\u001b[0m\n"
            ],
            "text/html": [
              "<pre style=\"white-space:pre;overflow-x:auto;line-height:normal;font-family:Menlo,'DejaVu Sans Mono',consolas,'Courier New',monospace\">Epoch:  <span style=\"color: #008080; text-decoration-color: #008080; font-weight: bold\">6</span> Batch:  <span style=\"color: #008080; text-decoration-color: #008080; font-weight: bold\">300</span> Loss:  <span style=\"color: #008080; text-decoration-color: #008080; font-weight: bold\">0.8539612293243408</span>\n",
              "</pre>\n"
            ]
          },
          "metadata": {}
        },
        {
          "output_type": "display_data",
          "data": {
            "text/plain": [
              "Epoch:  \u001b[1;36m6\u001b[0m Batch:  \u001b[1;36m400\u001b[0m Loss:  \u001b[1;36m1.4430649280548096\u001b[0m\n"
            ],
            "text/html": [
              "<pre style=\"white-space:pre;overflow-x:auto;line-height:normal;font-family:Menlo,'DejaVu Sans Mono',consolas,'Courier New',monospace\">Epoch:  <span style=\"color: #008080; text-decoration-color: #008080; font-weight: bold\">6</span> Batch:  <span style=\"color: #008080; text-decoration-color: #008080; font-weight: bold\">400</span> Loss:  <span style=\"color: #008080; text-decoration-color: #008080; font-weight: bold\">1.4430649280548096</span>\n",
              "</pre>\n"
            ]
          },
          "metadata": {}
        },
        {
          "output_type": "display_data",
          "data": {
            "text/plain": [
              "Epoch:  \u001b[1;36m7\u001b[0m Batch:  \u001b[1;36m0\u001b[0m Loss:  \u001b[1;36m1.665651559829712\u001b[0m\n"
            ],
            "text/html": [
              "<pre style=\"white-space:pre;overflow-x:auto;line-height:normal;font-family:Menlo,'DejaVu Sans Mono',consolas,'Courier New',monospace\">Epoch:  <span style=\"color: #008080; text-decoration-color: #008080; font-weight: bold\">7</span> Batch:  <span style=\"color: #008080; text-decoration-color: #008080; font-weight: bold\">0</span> Loss:  <span style=\"color: #008080; text-decoration-color: #008080; font-weight: bold\">1.665651559829712</span>\n",
              "</pre>\n"
            ]
          },
          "metadata": {}
        },
        {
          "output_type": "display_data",
          "data": {
            "text/plain": [
              "Epoch:  \u001b[1;36m7\u001b[0m Batch:  \u001b[1;36m100\u001b[0m Loss:  \u001b[1;36m1.1869845390319824\u001b[0m\n"
            ],
            "text/html": [
              "<pre style=\"white-space:pre;overflow-x:auto;line-height:normal;font-family:Menlo,'DejaVu Sans Mono',consolas,'Courier New',monospace\">Epoch:  <span style=\"color: #008080; text-decoration-color: #008080; font-weight: bold\">7</span> Batch:  <span style=\"color: #008080; text-decoration-color: #008080; font-weight: bold\">100</span> Loss:  <span style=\"color: #008080; text-decoration-color: #008080; font-weight: bold\">1.1869845390319824</span>\n",
              "</pre>\n"
            ]
          },
          "metadata": {}
        },
        {
          "output_type": "display_data",
          "data": {
            "text/plain": [
              "Epoch:  \u001b[1;36m7\u001b[0m Batch:  \u001b[1;36m200\u001b[0m Loss:  \u001b[1;36m0.7500189542770386\u001b[0m\n"
            ],
            "text/html": [
              "<pre style=\"white-space:pre;overflow-x:auto;line-height:normal;font-family:Menlo,'DejaVu Sans Mono',consolas,'Courier New',monospace\">Epoch:  <span style=\"color: #008080; text-decoration-color: #008080; font-weight: bold\">7</span> Batch:  <span style=\"color: #008080; text-decoration-color: #008080; font-weight: bold\">200</span> Loss:  <span style=\"color: #008080; text-decoration-color: #008080; font-weight: bold\">0.7500189542770386</span>\n",
              "</pre>\n"
            ]
          },
          "metadata": {}
        },
        {
          "output_type": "display_data",
          "data": {
            "text/plain": [
              "Epoch:  \u001b[1;36m7\u001b[0m Batch:  \u001b[1;36m300\u001b[0m Loss:  \u001b[1;36m1.4350664615631104\u001b[0m\n"
            ],
            "text/html": [
              "<pre style=\"white-space:pre;overflow-x:auto;line-height:normal;font-family:Menlo,'DejaVu Sans Mono',consolas,'Courier New',monospace\">Epoch:  <span style=\"color: #008080; text-decoration-color: #008080; font-weight: bold\">7</span> Batch:  <span style=\"color: #008080; text-decoration-color: #008080; font-weight: bold\">300</span> Loss:  <span style=\"color: #008080; text-decoration-color: #008080; font-weight: bold\">1.4350664615631104</span>\n",
              "</pre>\n"
            ]
          },
          "metadata": {}
        },
        {
          "output_type": "display_data",
          "data": {
            "text/plain": [
              "Epoch:  \u001b[1;36m7\u001b[0m Batch:  \u001b[1;36m400\u001b[0m Loss:  \u001b[1;36m1.4098405838012695\u001b[0m\n"
            ],
            "text/html": [
              "<pre style=\"white-space:pre;overflow-x:auto;line-height:normal;font-family:Menlo,'DejaVu Sans Mono',consolas,'Courier New',monospace\">Epoch:  <span style=\"color: #008080; text-decoration-color: #008080; font-weight: bold\">7</span> Batch:  <span style=\"color: #008080; text-decoration-color: #008080; font-weight: bold\">400</span> Loss:  <span style=\"color: #008080; text-decoration-color: #008080; font-weight: bold\">1.4098405838012695</span>\n",
              "</pre>\n"
            ]
          },
          "metadata": {}
        },
        {
          "output_type": "display_data",
          "data": {
            "text/plain": [
              "Epoch:  \u001b[1;36m8\u001b[0m Batch:  \u001b[1;36m0\u001b[0m Loss:  \u001b[1;36m1.2974294424057007\u001b[0m\n"
            ],
            "text/html": [
              "<pre style=\"white-space:pre;overflow-x:auto;line-height:normal;font-family:Menlo,'DejaVu Sans Mono',consolas,'Courier New',monospace\">Epoch:  <span style=\"color: #008080; text-decoration-color: #008080; font-weight: bold\">8</span> Batch:  <span style=\"color: #008080; text-decoration-color: #008080; font-weight: bold\">0</span> Loss:  <span style=\"color: #008080; text-decoration-color: #008080; font-weight: bold\">1.2974294424057007</span>\n",
              "</pre>\n"
            ]
          },
          "metadata": {}
        },
        {
          "output_type": "display_data",
          "data": {
            "text/plain": [
              "Epoch:  \u001b[1;36m8\u001b[0m Batch:  \u001b[1;36m100\u001b[0m Loss:  \u001b[1;36m1.3128772974014282\u001b[0m\n"
            ],
            "text/html": [
              "<pre style=\"white-space:pre;overflow-x:auto;line-height:normal;font-family:Menlo,'DejaVu Sans Mono',consolas,'Courier New',monospace\">Epoch:  <span style=\"color: #008080; text-decoration-color: #008080; font-weight: bold\">8</span> Batch:  <span style=\"color: #008080; text-decoration-color: #008080; font-weight: bold\">100</span> Loss:  <span style=\"color: #008080; text-decoration-color: #008080; font-weight: bold\">1.3128772974014282</span>\n",
              "</pre>\n"
            ]
          },
          "metadata": {}
        },
        {
          "output_type": "display_data",
          "data": {
            "text/plain": [
              "Epoch:  \u001b[1;36m8\u001b[0m Batch:  \u001b[1;36m200\u001b[0m Loss:  \u001b[1;36m1.2586809396743774\u001b[0m\n"
            ],
            "text/html": [
              "<pre style=\"white-space:pre;overflow-x:auto;line-height:normal;font-family:Menlo,'DejaVu Sans Mono',consolas,'Courier New',monospace\">Epoch:  <span style=\"color: #008080; text-decoration-color: #008080; font-weight: bold\">8</span> Batch:  <span style=\"color: #008080; text-decoration-color: #008080; font-weight: bold\">200</span> Loss:  <span style=\"color: #008080; text-decoration-color: #008080; font-weight: bold\">1.2586809396743774</span>\n",
              "</pre>\n"
            ]
          },
          "metadata": {}
        },
        {
          "output_type": "display_data",
          "data": {
            "text/plain": [
              "Epoch:  \u001b[1;36m8\u001b[0m Batch:  \u001b[1;36m300\u001b[0m Loss:  \u001b[1;36m1.2252445220947266\u001b[0m\n"
            ],
            "text/html": [
              "<pre style=\"white-space:pre;overflow-x:auto;line-height:normal;font-family:Menlo,'DejaVu Sans Mono',consolas,'Courier New',monospace\">Epoch:  <span style=\"color: #008080; text-decoration-color: #008080; font-weight: bold\">8</span> Batch:  <span style=\"color: #008080; text-decoration-color: #008080; font-weight: bold\">300</span> Loss:  <span style=\"color: #008080; text-decoration-color: #008080; font-weight: bold\">1.2252445220947266</span>\n",
              "</pre>\n"
            ]
          },
          "metadata": {}
        },
        {
          "output_type": "display_data",
          "data": {
            "text/plain": [
              "Epoch:  \u001b[1;36m8\u001b[0m Batch:  \u001b[1;36m400\u001b[0m Loss:  \u001b[1;36m0.9225369095802307\u001b[0m\n"
            ],
            "text/html": [
              "<pre style=\"white-space:pre;overflow-x:auto;line-height:normal;font-family:Menlo,'DejaVu Sans Mono',consolas,'Courier New',monospace\">Epoch:  <span style=\"color: #008080; text-decoration-color: #008080; font-weight: bold\">8</span> Batch:  <span style=\"color: #008080; text-decoration-color: #008080; font-weight: bold\">400</span> Loss:  <span style=\"color: #008080; text-decoration-color: #008080; font-weight: bold\">0.9225369095802307</span>\n",
              "</pre>\n"
            ]
          },
          "metadata": {}
        },
        {
          "output_type": "display_data",
          "data": {
            "text/plain": [
              "Epoch:  \u001b[1;36m9\u001b[0m Batch:  \u001b[1;36m0\u001b[0m Loss:  \u001b[1;36m1.1096599102020264\u001b[0m\n"
            ],
            "text/html": [
              "<pre style=\"white-space:pre;overflow-x:auto;line-height:normal;font-family:Menlo,'DejaVu Sans Mono',consolas,'Courier New',monospace\">Epoch:  <span style=\"color: #008080; text-decoration-color: #008080; font-weight: bold\">9</span> Batch:  <span style=\"color: #008080; text-decoration-color: #008080; font-weight: bold\">0</span> Loss:  <span style=\"color: #008080; text-decoration-color: #008080; font-weight: bold\">1.1096599102020264</span>\n",
              "</pre>\n"
            ]
          },
          "metadata": {}
        },
        {
          "output_type": "display_data",
          "data": {
            "text/plain": [
              "Epoch:  \u001b[1;36m9\u001b[0m Batch:  \u001b[1;36m100\u001b[0m Loss:  \u001b[1;36m1.2270219326019287\u001b[0m\n"
            ],
            "text/html": [
              "<pre style=\"white-space:pre;overflow-x:auto;line-height:normal;font-family:Menlo,'DejaVu Sans Mono',consolas,'Courier New',monospace\">Epoch:  <span style=\"color: #008080; text-decoration-color: #008080; font-weight: bold\">9</span> Batch:  <span style=\"color: #008080; text-decoration-color: #008080; font-weight: bold\">100</span> Loss:  <span style=\"color: #008080; text-decoration-color: #008080; font-weight: bold\">1.2270219326019287</span>\n",
              "</pre>\n"
            ]
          },
          "metadata": {}
        },
        {
          "output_type": "display_data",
          "data": {
            "text/plain": [
              "Epoch:  \u001b[1;36m9\u001b[0m Batch:  \u001b[1;36m200\u001b[0m Loss:  \u001b[1;36m1.0252841711044312\u001b[0m\n"
            ],
            "text/html": [
              "<pre style=\"white-space:pre;overflow-x:auto;line-height:normal;font-family:Menlo,'DejaVu Sans Mono',consolas,'Courier New',monospace\">Epoch:  <span style=\"color: #008080; text-decoration-color: #008080; font-weight: bold\">9</span> Batch:  <span style=\"color: #008080; text-decoration-color: #008080; font-weight: bold\">200</span> Loss:  <span style=\"color: #008080; text-decoration-color: #008080; font-weight: bold\">1.0252841711044312</span>\n",
              "</pre>\n"
            ]
          },
          "metadata": {}
        },
        {
          "output_type": "display_data",
          "data": {
            "text/plain": [
              "Epoch:  \u001b[1;36m9\u001b[0m Batch:  \u001b[1;36m300\u001b[0m Loss:  \u001b[1;36m1.0406068563461304\u001b[0m\n"
            ],
            "text/html": [
              "<pre style=\"white-space:pre;overflow-x:auto;line-height:normal;font-family:Menlo,'DejaVu Sans Mono',consolas,'Courier New',monospace\">Epoch:  <span style=\"color: #008080; text-decoration-color: #008080; font-weight: bold\">9</span> Batch:  <span style=\"color: #008080; text-decoration-color: #008080; font-weight: bold\">300</span> Loss:  <span style=\"color: #008080; text-decoration-color: #008080; font-weight: bold\">1.0406068563461304</span>\n",
              "</pre>\n"
            ]
          },
          "metadata": {}
        },
        {
          "output_type": "display_data",
          "data": {
            "text/plain": [
              "Epoch:  \u001b[1;36m9\u001b[0m Batch:  \u001b[1;36m400\u001b[0m Loss:  \u001b[1;36m0.8401882648468018\u001b[0m\n"
            ],
            "text/html": [
              "<pre style=\"white-space:pre;overflow-x:auto;line-height:normal;font-family:Menlo,'DejaVu Sans Mono',consolas,'Courier New',monospace\">Epoch:  <span style=\"color: #008080; text-decoration-color: #008080; font-weight: bold\">9</span> Batch:  <span style=\"color: #008080; text-decoration-color: #008080; font-weight: bold\">400</span> Loss:  <span style=\"color: #008080; text-decoration-color: #008080; font-weight: bold\">0.8401882648468018</span>\n",
              "</pre>\n"
            ]
          },
          "metadata": {}
        },
        {
          "output_type": "display_data",
          "data": {
            "text/plain": [
              "Epoch:  \u001b[1;36m10\u001b[0m Batch:  \u001b[1;36m0\u001b[0m Loss:  \u001b[1;36m0.6610994935035706\u001b[0m\n"
            ],
            "text/html": [
              "<pre style=\"white-space:pre;overflow-x:auto;line-height:normal;font-family:Menlo,'DejaVu Sans Mono',consolas,'Courier New',monospace\">Epoch:  <span style=\"color: #008080; text-decoration-color: #008080; font-weight: bold\">10</span> Batch:  <span style=\"color: #008080; text-decoration-color: #008080; font-weight: bold\">0</span> Loss:  <span style=\"color: #008080; text-decoration-color: #008080; font-weight: bold\">0.6610994935035706</span>\n",
              "</pre>\n"
            ]
          },
          "metadata": {}
        },
        {
          "output_type": "display_data",
          "data": {
            "text/plain": [
              "Epoch:  \u001b[1;36m10\u001b[0m Batch:  \u001b[1;36m100\u001b[0m Loss:  \u001b[1;36m0.87993323802948\u001b[0m\n"
            ],
            "text/html": [
              "<pre style=\"white-space:pre;overflow-x:auto;line-height:normal;font-family:Menlo,'DejaVu Sans Mono',consolas,'Courier New',monospace\">Epoch:  <span style=\"color: #008080; text-decoration-color: #008080; font-weight: bold\">10</span> Batch:  <span style=\"color: #008080; text-decoration-color: #008080; font-weight: bold\">100</span> Loss:  <span style=\"color: #008080; text-decoration-color: #008080; font-weight: bold\">0.87993323802948</span>\n",
              "</pre>\n"
            ]
          },
          "metadata": {}
        },
        {
          "output_type": "display_data",
          "data": {
            "text/plain": [
              "Epoch:  \u001b[1;36m10\u001b[0m Batch:  \u001b[1;36m200\u001b[0m Loss:  \u001b[1;36m1.1930168867111206\u001b[0m\n"
            ],
            "text/html": [
              "<pre style=\"white-space:pre;overflow-x:auto;line-height:normal;font-family:Menlo,'DejaVu Sans Mono',consolas,'Courier New',monospace\">Epoch:  <span style=\"color: #008080; text-decoration-color: #008080; font-weight: bold\">10</span> Batch:  <span style=\"color: #008080; text-decoration-color: #008080; font-weight: bold\">200</span> Loss:  <span style=\"color: #008080; text-decoration-color: #008080; font-weight: bold\">1.1930168867111206</span>\n",
              "</pre>\n"
            ]
          },
          "metadata": {}
        },
        {
          "output_type": "display_data",
          "data": {
            "text/plain": [
              "Epoch:  \u001b[1;36m10\u001b[0m Batch:  \u001b[1;36m300\u001b[0m Loss:  \u001b[1;36m1.7263994216918945\u001b[0m\n"
            ],
            "text/html": [
              "<pre style=\"white-space:pre;overflow-x:auto;line-height:normal;font-family:Menlo,'DejaVu Sans Mono',consolas,'Courier New',monospace\">Epoch:  <span style=\"color: #008080; text-decoration-color: #008080; font-weight: bold\">10</span> Batch:  <span style=\"color: #008080; text-decoration-color: #008080; font-weight: bold\">300</span> Loss:  <span style=\"color: #008080; text-decoration-color: #008080; font-weight: bold\">1.7263994216918945</span>\n",
              "</pre>\n"
            ]
          },
          "metadata": {}
        },
        {
          "output_type": "display_data",
          "data": {
            "text/plain": [
              "Epoch:  \u001b[1;36m10\u001b[0m Batch:  \u001b[1;36m400\u001b[0m Loss:  \u001b[1;36m1.213955283164978\u001b[0m\n"
            ],
            "text/html": [
              "<pre style=\"white-space:pre;overflow-x:auto;line-height:normal;font-family:Menlo,'DejaVu Sans Mono',consolas,'Courier New',monospace\">Epoch:  <span style=\"color: #008080; text-decoration-color: #008080; font-weight: bold\">10</span> Batch:  <span style=\"color: #008080; text-decoration-color: #008080; font-weight: bold\">400</span> Loss:  <span style=\"color: #008080; text-decoration-color: #008080; font-weight: bold\">1.213955283164978</span>\n",
              "</pre>\n"
            ]
          },
          "metadata": {}
        },
        {
          "output_type": "display_data",
          "data": {
            "text/plain": [
              "Epoch:  \u001b[1;36m11\u001b[0m Batch:  \u001b[1;36m0\u001b[0m Loss:  \u001b[1;36m0.7243061661720276\u001b[0m\n"
            ],
            "text/html": [
              "<pre style=\"white-space:pre;overflow-x:auto;line-height:normal;font-family:Menlo,'DejaVu Sans Mono',consolas,'Courier New',monospace\">Epoch:  <span style=\"color: #008080; text-decoration-color: #008080; font-weight: bold\">11</span> Batch:  <span style=\"color: #008080; text-decoration-color: #008080; font-weight: bold\">0</span> Loss:  <span style=\"color: #008080; text-decoration-color: #008080; font-weight: bold\">0.7243061661720276</span>\n",
              "</pre>\n"
            ]
          },
          "metadata": {}
        },
        {
          "output_type": "display_data",
          "data": {
            "text/plain": [
              "Epoch:  \u001b[1;36m11\u001b[0m Batch:  \u001b[1;36m100\u001b[0m Loss:  \u001b[1;36m1.0946704149246216\u001b[0m\n"
            ],
            "text/html": [
              "<pre style=\"white-space:pre;overflow-x:auto;line-height:normal;font-family:Menlo,'DejaVu Sans Mono',consolas,'Courier New',monospace\">Epoch:  <span style=\"color: #008080; text-decoration-color: #008080; font-weight: bold\">11</span> Batch:  <span style=\"color: #008080; text-decoration-color: #008080; font-weight: bold\">100</span> Loss:  <span style=\"color: #008080; text-decoration-color: #008080; font-weight: bold\">1.0946704149246216</span>\n",
              "</pre>\n"
            ]
          },
          "metadata": {}
        },
        {
          "output_type": "display_data",
          "data": {
            "text/plain": [
              "Epoch:  \u001b[1;36m11\u001b[0m Batch:  \u001b[1;36m200\u001b[0m Loss:  \u001b[1;36m1.1289455890655518\u001b[0m\n"
            ],
            "text/html": [
              "<pre style=\"white-space:pre;overflow-x:auto;line-height:normal;font-family:Menlo,'DejaVu Sans Mono',consolas,'Courier New',monospace\">Epoch:  <span style=\"color: #008080; text-decoration-color: #008080; font-weight: bold\">11</span> Batch:  <span style=\"color: #008080; text-decoration-color: #008080; font-weight: bold\">200</span> Loss:  <span style=\"color: #008080; text-decoration-color: #008080; font-weight: bold\">1.1289455890655518</span>\n",
              "</pre>\n"
            ]
          },
          "metadata": {}
        },
        {
          "output_type": "display_data",
          "data": {
            "text/plain": [
              "Epoch:  \u001b[1;36m11\u001b[0m Batch:  \u001b[1;36m300\u001b[0m Loss:  \u001b[1;36m1.033149003982544\u001b[0m\n"
            ],
            "text/html": [
              "<pre style=\"white-space:pre;overflow-x:auto;line-height:normal;font-family:Menlo,'DejaVu Sans Mono',consolas,'Courier New',monospace\">Epoch:  <span style=\"color: #008080; text-decoration-color: #008080; font-weight: bold\">11</span> Batch:  <span style=\"color: #008080; text-decoration-color: #008080; font-weight: bold\">300</span> Loss:  <span style=\"color: #008080; text-decoration-color: #008080; font-weight: bold\">1.033149003982544</span>\n",
              "</pre>\n"
            ]
          },
          "metadata": {}
        },
        {
          "output_type": "display_data",
          "data": {
            "text/plain": [
              "Epoch:  \u001b[1;36m11\u001b[0m Batch:  \u001b[1;36m400\u001b[0m Loss:  \u001b[1;36m0.5387082099914551\u001b[0m\n"
            ],
            "text/html": [
              "<pre style=\"white-space:pre;overflow-x:auto;line-height:normal;font-family:Menlo,'DejaVu Sans Mono',consolas,'Courier New',monospace\">Epoch:  <span style=\"color: #008080; text-decoration-color: #008080; font-weight: bold\">11</span> Batch:  <span style=\"color: #008080; text-decoration-color: #008080; font-weight: bold\">400</span> Loss:  <span style=\"color: #008080; text-decoration-color: #008080; font-weight: bold\">0.5387082099914551</span>\n",
              "</pre>\n"
            ]
          },
          "metadata": {}
        },
        {
          "output_type": "display_data",
          "data": {
            "text/plain": [
              "Epoch:  \u001b[1;36m12\u001b[0m Batch:  \u001b[1;36m0\u001b[0m Loss:  \u001b[1;36m0.750359296798706\u001b[0m\n"
            ],
            "text/html": [
              "<pre style=\"white-space:pre;overflow-x:auto;line-height:normal;font-family:Menlo,'DejaVu Sans Mono',consolas,'Courier New',monospace\">Epoch:  <span style=\"color: #008080; text-decoration-color: #008080; font-weight: bold\">12</span> Batch:  <span style=\"color: #008080; text-decoration-color: #008080; font-weight: bold\">0</span> Loss:  <span style=\"color: #008080; text-decoration-color: #008080; font-weight: bold\">0.750359296798706</span>\n",
              "</pre>\n"
            ]
          },
          "metadata": {}
        },
        {
          "output_type": "display_data",
          "data": {
            "text/plain": [
              "Epoch:  \u001b[1;36m12\u001b[0m Batch:  \u001b[1;36m100\u001b[0m Loss:  \u001b[1;36m1.0007779598236084\u001b[0m\n"
            ],
            "text/html": [
              "<pre style=\"white-space:pre;overflow-x:auto;line-height:normal;font-family:Menlo,'DejaVu Sans Mono',consolas,'Courier New',monospace\">Epoch:  <span style=\"color: #008080; text-decoration-color: #008080; font-weight: bold\">12</span> Batch:  <span style=\"color: #008080; text-decoration-color: #008080; font-weight: bold\">100</span> Loss:  <span style=\"color: #008080; text-decoration-color: #008080; font-weight: bold\">1.0007779598236084</span>\n",
              "</pre>\n"
            ]
          },
          "metadata": {}
        },
        {
          "output_type": "display_data",
          "data": {
            "text/plain": [
              "Epoch:  \u001b[1;36m12\u001b[0m Batch:  \u001b[1;36m200\u001b[0m Loss:  \u001b[1;36m1.6194403171539307\u001b[0m\n"
            ],
            "text/html": [
              "<pre style=\"white-space:pre;overflow-x:auto;line-height:normal;font-family:Menlo,'DejaVu Sans Mono',consolas,'Courier New',monospace\">Epoch:  <span style=\"color: #008080; text-decoration-color: #008080; font-weight: bold\">12</span> Batch:  <span style=\"color: #008080; text-decoration-color: #008080; font-weight: bold\">200</span> Loss:  <span style=\"color: #008080; text-decoration-color: #008080; font-weight: bold\">1.6194403171539307</span>\n",
              "</pre>\n"
            ]
          },
          "metadata": {}
        },
        {
          "output_type": "display_data",
          "data": {
            "text/plain": [
              "Epoch:  \u001b[1;36m12\u001b[0m Batch:  \u001b[1;36m300\u001b[0m Loss:  \u001b[1;36m1.0325878858566284\u001b[0m\n"
            ],
            "text/html": [
              "<pre style=\"white-space:pre;overflow-x:auto;line-height:normal;font-family:Menlo,'DejaVu Sans Mono',consolas,'Courier New',monospace\">Epoch:  <span style=\"color: #008080; text-decoration-color: #008080; font-weight: bold\">12</span> Batch:  <span style=\"color: #008080; text-decoration-color: #008080; font-weight: bold\">300</span> Loss:  <span style=\"color: #008080; text-decoration-color: #008080; font-weight: bold\">1.0325878858566284</span>\n",
              "</pre>\n"
            ]
          },
          "metadata": {}
        },
        {
          "output_type": "display_data",
          "data": {
            "text/plain": [
              "Epoch:  \u001b[1;36m12\u001b[0m Batch:  \u001b[1;36m400\u001b[0m Loss:  \u001b[1;36m1.1309410333633423\u001b[0m\n"
            ],
            "text/html": [
              "<pre style=\"white-space:pre;overflow-x:auto;line-height:normal;font-family:Menlo,'DejaVu Sans Mono',consolas,'Courier New',monospace\">Epoch:  <span style=\"color: #008080; text-decoration-color: #008080; font-weight: bold\">12</span> Batch:  <span style=\"color: #008080; text-decoration-color: #008080; font-weight: bold\">400</span> Loss:  <span style=\"color: #008080; text-decoration-color: #008080; font-weight: bold\">1.1309410333633423</span>\n",
              "</pre>\n"
            ]
          },
          "metadata": {}
        },
        {
          "output_type": "display_data",
          "data": {
            "text/plain": [
              "Epoch:  \u001b[1;36m13\u001b[0m Batch:  \u001b[1;36m0\u001b[0m Loss:  \u001b[1;36m0.6841702461242676\u001b[0m\n"
            ],
            "text/html": [
              "<pre style=\"white-space:pre;overflow-x:auto;line-height:normal;font-family:Menlo,'DejaVu Sans Mono',consolas,'Courier New',monospace\">Epoch:  <span style=\"color: #008080; text-decoration-color: #008080; font-weight: bold\">13</span> Batch:  <span style=\"color: #008080; text-decoration-color: #008080; font-weight: bold\">0</span> Loss:  <span style=\"color: #008080; text-decoration-color: #008080; font-weight: bold\">0.6841702461242676</span>\n",
              "</pre>\n"
            ]
          },
          "metadata": {}
        },
        {
          "output_type": "display_data",
          "data": {
            "text/plain": [
              "Epoch:  \u001b[1;36m13\u001b[0m Batch:  \u001b[1;36m100\u001b[0m Loss:  \u001b[1;36m0.8317598700523376\u001b[0m\n"
            ],
            "text/html": [
              "<pre style=\"white-space:pre;overflow-x:auto;line-height:normal;font-family:Menlo,'DejaVu Sans Mono',consolas,'Courier New',monospace\">Epoch:  <span style=\"color: #008080; text-decoration-color: #008080; font-weight: bold\">13</span> Batch:  <span style=\"color: #008080; text-decoration-color: #008080; font-weight: bold\">100</span> Loss:  <span style=\"color: #008080; text-decoration-color: #008080; font-weight: bold\">0.8317598700523376</span>\n",
              "</pre>\n"
            ]
          },
          "metadata": {}
        },
        {
          "output_type": "display_data",
          "data": {
            "text/plain": [
              "Epoch:  \u001b[1;36m13\u001b[0m Batch:  \u001b[1;36m200\u001b[0m Loss:  \u001b[1;36m0.9311261177062988\u001b[0m\n"
            ],
            "text/html": [
              "<pre style=\"white-space:pre;overflow-x:auto;line-height:normal;font-family:Menlo,'DejaVu Sans Mono',consolas,'Courier New',monospace\">Epoch:  <span style=\"color: #008080; text-decoration-color: #008080; font-weight: bold\">13</span> Batch:  <span style=\"color: #008080; text-decoration-color: #008080; font-weight: bold\">200</span> Loss:  <span style=\"color: #008080; text-decoration-color: #008080; font-weight: bold\">0.9311261177062988</span>\n",
              "</pre>\n"
            ]
          },
          "metadata": {}
        },
        {
          "output_type": "display_data",
          "data": {
            "text/plain": [
              "Epoch:  \u001b[1;36m13\u001b[0m Batch:  \u001b[1;36m300\u001b[0m Loss:  \u001b[1;36m0.9668604135513306\u001b[0m\n"
            ],
            "text/html": [
              "<pre style=\"white-space:pre;overflow-x:auto;line-height:normal;font-family:Menlo,'DejaVu Sans Mono',consolas,'Courier New',monospace\">Epoch:  <span style=\"color: #008080; text-decoration-color: #008080; font-weight: bold\">13</span> Batch:  <span style=\"color: #008080; text-decoration-color: #008080; font-weight: bold\">300</span> Loss:  <span style=\"color: #008080; text-decoration-color: #008080; font-weight: bold\">0.9668604135513306</span>\n",
              "</pre>\n"
            ]
          },
          "metadata": {}
        },
        {
          "output_type": "display_data",
          "data": {
            "text/plain": [
              "Epoch:  \u001b[1;36m13\u001b[0m Batch:  \u001b[1;36m400\u001b[0m Loss:  \u001b[1;36m1.3794565200805664\u001b[0m\n"
            ],
            "text/html": [
              "<pre style=\"white-space:pre;overflow-x:auto;line-height:normal;font-family:Menlo,'DejaVu Sans Mono',consolas,'Courier New',monospace\">Epoch:  <span style=\"color: #008080; text-decoration-color: #008080; font-weight: bold\">13</span> Batch:  <span style=\"color: #008080; text-decoration-color: #008080; font-weight: bold\">400</span> Loss:  <span style=\"color: #008080; text-decoration-color: #008080; font-weight: bold\">1.3794565200805664</span>\n",
              "</pre>\n"
            ]
          },
          "metadata": {}
        },
        {
          "output_type": "display_data",
          "data": {
            "text/plain": [
              "Epoch:  \u001b[1;36m14\u001b[0m Batch:  \u001b[1;36m0\u001b[0m Loss:  \u001b[1;36m0.7473767399787903\u001b[0m\n"
            ],
            "text/html": [
              "<pre style=\"white-space:pre;overflow-x:auto;line-height:normal;font-family:Menlo,'DejaVu Sans Mono',consolas,'Courier New',monospace\">Epoch:  <span style=\"color: #008080; text-decoration-color: #008080; font-weight: bold\">14</span> Batch:  <span style=\"color: #008080; text-decoration-color: #008080; font-weight: bold\">0</span> Loss:  <span style=\"color: #008080; text-decoration-color: #008080; font-weight: bold\">0.7473767399787903</span>\n",
              "</pre>\n"
            ]
          },
          "metadata": {}
        },
        {
          "output_type": "display_data",
          "data": {
            "text/plain": [
              "Epoch:  \u001b[1;36m14\u001b[0m Batch:  \u001b[1;36m100\u001b[0m Loss:  \u001b[1;36m0.7612452507019043\u001b[0m\n"
            ],
            "text/html": [
              "<pre style=\"white-space:pre;overflow-x:auto;line-height:normal;font-family:Menlo,'DejaVu Sans Mono',consolas,'Courier New',monospace\">Epoch:  <span style=\"color: #008080; text-decoration-color: #008080; font-weight: bold\">14</span> Batch:  <span style=\"color: #008080; text-decoration-color: #008080; font-weight: bold\">100</span> Loss:  <span style=\"color: #008080; text-decoration-color: #008080; font-weight: bold\">0.7612452507019043</span>\n",
              "</pre>\n"
            ]
          },
          "metadata": {}
        },
        {
          "output_type": "display_data",
          "data": {
            "text/plain": [
              "Epoch:  \u001b[1;36m14\u001b[0m Batch:  \u001b[1;36m200\u001b[0m Loss:  \u001b[1;36m0.8654960989952087\u001b[0m\n"
            ],
            "text/html": [
              "<pre style=\"white-space:pre;overflow-x:auto;line-height:normal;font-family:Menlo,'DejaVu Sans Mono',consolas,'Courier New',monospace\">Epoch:  <span style=\"color: #008080; text-decoration-color: #008080; font-weight: bold\">14</span> Batch:  <span style=\"color: #008080; text-decoration-color: #008080; font-weight: bold\">200</span> Loss:  <span style=\"color: #008080; text-decoration-color: #008080; font-weight: bold\">0.8654960989952087</span>\n",
              "</pre>\n"
            ]
          },
          "metadata": {}
        },
        {
          "output_type": "display_data",
          "data": {
            "text/plain": [
              "Epoch:  \u001b[1;36m14\u001b[0m Batch:  \u001b[1;36m300\u001b[0m Loss:  \u001b[1;36m0.6514392495155334\u001b[0m\n"
            ],
            "text/html": [
              "<pre style=\"white-space:pre;overflow-x:auto;line-height:normal;font-family:Menlo,'DejaVu Sans Mono',consolas,'Courier New',monospace\">Epoch:  <span style=\"color: #008080; text-decoration-color: #008080; font-weight: bold\">14</span> Batch:  <span style=\"color: #008080; text-decoration-color: #008080; font-weight: bold\">300</span> Loss:  <span style=\"color: #008080; text-decoration-color: #008080; font-weight: bold\">0.6514392495155334</span>\n",
              "</pre>\n"
            ]
          },
          "metadata": {}
        },
        {
          "output_type": "display_data",
          "data": {
            "text/plain": [
              "Epoch:  \u001b[1;36m14\u001b[0m Batch:  \u001b[1;36m400\u001b[0m Loss:  \u001b[1;36m1.3808740377426147\u001b[0m\n"
            ],
            "text/html": [
              "<pre style=\"white-space:pre;overflow-x:auto;line-height:normal;font-family:Menlo,'DejaVu Sans Mono',consolas,'Courier New',monospace\">Epoch:  <span style=\"color: #008080; text-decoration-color: #008080; font-weight: bold\">14</span> Batch:  <span style=\"color: #008080; text-decoration-color: #008080; font-weight: bold\">400</span> Loss:  <span style=\"color: #008080; text-decoration-color: #008080; font-weight: bold\">1.3808740377426147</span>\n",
              "</pre>\n"
            ]
          },
          "metadata": {}
        },
        {
          "output_type": "display_data",
          "data": {
            "text/plain": [
              "Epoch:  \u001b[1;36m15\u001b[0m Batch:  \u001b[1;36m0\u001b[0m Loss:  \u001b[1;36m0.5678316950798035\u001b[0m\n"
            ],
            "text/html": [
              "<pre style=\"white-space:pre;overflow-x:auto;line-height:normal;font-family:Menlo,'DejaVu Sans Mono',consolas,'Courier New',monospace\">Epoch:  <span style=\"color: #008080; text-decoration-color: #008080; font-weight: bold\">15</span> Batch:  <span style=\"color: #008080; text-decoration-color: #008080; font-weight: bold\">0</span> Loss:  <span style=\"color: #008080; text-decoration-color: #008080; font-weight: bold\">0.5678316950798035</span>\n",
              "</pre>\n"
            ]
          },
          "metadata": {}
        },
        {
          "output_type": "display_data",
          "data": {
            "text/plain": [
              "Epoch:  \u001b[1;36m15\u001b[0m Batch:  \u001b[1;36m100\u001b[0m Loss:  \u001b[1;36m0.6523835062980652\u001b[0m\n"
            ],
            "text/html": [
              "<pre style=\"white-space:pre;overflow-x:auto;line-height:normal;font-family:Menlo,'DejaVu Sans Mono',consolas,'Courier New',monospace\">Epoch:  <span style=\"color: #008080; text-decoration-color: #008080; font-weight: bold\">15</span> Batch:  <span style=\"color: #008080; text-decoration-color: #008080; font-weight: bold\">100</span> Loss:  <span style=\"color: #008080; text-decoration-color: #008080; font-weight: bold\">0.6523835062980652</span>\n",
              "</pre>\n"
            ]
          },
          "metadata": {}
        },
        {
          "output_type": "display_data",
          "data": {
            "text/plain": [
              "Epoch:  \u001b[1;36m15\u001b[0m Batch:  \u001b[1;36m200\u001b[0m Loss:  \u001b[1;36m0.7230034470558167\u001b[0m\n"
            ],
            "text/html": [
              "<pre style=\"white-space:pre;overflow-x:auto;line-height:normal;font-family:Menlo,'DejaVu Sans Mono',consolas,'Courier New',monospace\">Epoch:  <span style=\"color: #008080; text-decoration-color: #008080; font-weight: bold\">15</span> Batch:  <span style=\"color: #008080; text-decoration-color: #008080; font-weight: bold\">200</span> Loss:  <span style=\"color: #008080; text-decoration-color: #008080; font-weight: bold\">0.7230034470558167</span>\n",
              "</pre>\n"
            ]
          },
          "metadata": {}
        },
        {
          "output_type": "display_data",
          "data": {
            "text/plain": [
              "Epoch:  \u001b[1;36m15\u001b[0m Batch:  \u001b[1;36m300\u001b[0m Loss:  \u001b[1;36m0.840738832950592\u001b[0m\n"
            ],
            "text/html": [
              "<pre style=\"white-space:pre;overflow-x:auto;line-height:normal;font-family:Menlo,'DejaVu Sans Mono',consolas,'Courier New',monospace\">Epoch:  <span style=\"color: #008080; text-decoration-color: #008080; font-weight: bold\">15</span> Batch:  <span style=\"color: #008080; text-decoration-color: #008080; font-weight: bold\">300</span> Loss:  <span style=\"color: #008080; text-decoration-color: #008080; font-weight: bold\">0.840738832950592</span>\n",
              "</pre>\n"
            ]
          },
          "metadata": {}
        },
        {
          "output_type": "display_data",
          "data": {
            "text/plain": [
              "Epoch:  \u001b[1;36m15\u001b[0m Batch:  \u001b[1;36m400\u001b[0m Loss:  \u001b[1;36m1.009924054145813\u001b[0m\n"
            ],
            "text/html": [
              "<pre style=\"white-space:pre;overflow-x:auto;line-height:normal;font-family:Menlo,'DejaVu Sans Mono',consolas,'Courier New',monospace\">Epoch:  <span style=\"color: #008080; text-decoration-color: #008080; font-weight: bold\">15</span> Batch:  <span style=\"color: #008080; text-decoration-color: #008080; font-weight: bold\">400</span> Loss:  <span style=\"color: #008080; text-decoration-color: #008080; font-weight: bold\">1.009924054145813</span>\n",
              "</pre>\n"
            ]
          },
          "metadata": {}
        },
        {
          "output_type": "display_data",
          "data": {
            "text/plain": [
              "Epoch:  \u001b[1;36m16\u001b[0m Batch:  \u001b[1;36m0\u001b[0m Loss:  \u001b[1;36m1.076918601989746\u001b[0m\n"
            ],
            "text/html": [
              "<pre style=\"white-space:pre;overflow-x:auto;line-height:normal;font-family:Menlo,'DejaVu Sans Mono',consolas,'Courier New',monospace\">Epoch:  <span style=\"color: #008080; text-decoration-color: #008080; font-weight: bold\">16</span> Batch:  <span style=\"color: #008080; text-decoration-color: #008080; font-weight: bold\">0</span> Loss:  <span style=\"color: #008080; text-decoration-color: #008080; font-weight: bold\">1.076918601989746</span>\n",
              "</pre>\n"
            ]
          },
          "metadata": {}
        },
        {
          "output_type": "display_data",
          "data": {
            "text/plain": [
              "Epoch:  \u001b[1;36m16\u001b[0m Batch:  \u001b[1;36m100\u001b[0m Loss:  \u001b[1;36m0.6031383275985718\u001b[0m\n"
            ],
            "text/html": [
              "<pre style=\"white-space:pre;overflow-x:auto;line-height:normal;font-family:Menlo,'DejaVu Sans Mono',consolas,'Courier New',monospace\">Epoch:  <span style=\"color: #008080; text-decoration-color: #008080; font-weight: bold\">16</span> Batch:  <span style=\"color: #008080; text-decoration-color: #008080; font-weight: bold\">100</span> Loss:  <span style=\"color: #008080; text-decoration-color: #008080; font-weight: bold\">0.6031383275985718</span>\n",
              "</pre>\n"
            ]
          },
          "metadata": {}
        },
        {
          "output_type": "display_data",
          "data": {
            "text/plain": [
              "Epoch:  \u001b[1;36m16\u001b[0m Batch:  \u001b[1;36m200\u001b[0m Loss:  \u001b[1;36m0.8806954026222229\u001b[0m\n"
            ],
            "text/html": [
              "<pre style=\"white-space:pre;overflow-x:auto;line-height:normal;font-family:Menlo,'DejaVu Sans Mono',consolas,'Courier New',monospace\">Epoch:  <span style=\"color: #008080; text-decoration-color: #008080; font-weight: bold\">16</span> Batch:  <span style=\"color: #008080; text-decoration-color: #008080; font-weight: bold\">200</span> Loss:  <span style=\"color: #008080; text-decoration-color: #008080; font-weight: bold\">0.8806954026222229</span>\n",
              "</pre>\n"
            ]
          },
          "metadata": {}
        },
        {
          "output_type": "display_data",
          "data": {
            "text/plain": [
              "Epoch:  \u001b[1;36m16\u001b[0m Batch:  \u001b[1;36m300\u001b[0m Loss:  \u001b[1;36m0.7893603444099426\u001b[0m\n"
            ],
            "text/html": [
              "<pre style=\"white-space:pre;overflow-x:auto;line-height:normal;font-family:Menlo,'DejaVu Sans Mono',consolas,'Courier New',monospace\">Epoch:  <span style=\"color: #008080; text-decoration-color: #008080; font-weight: bold\">16</span> Batch:  <span style=\"color: #008080; text-decoration-color: #008080; font-weight: bold\">300</span> Loss:  <span style=\"color: #008080; text-decoration-color: #008080; font-weight: bold\">0.7893603444099426</span>\n",
              "</pre>\n"
            ]
          },
          "metadata": {}
        },
        {
          "output_type": "display_data",
          "data": {
            "text/plain": [
              "Epoch:  \u001b[1;36m16\u001b[0m Batch:  \u001b[1;36m400\u001b[0m Loss:  \u001b[1;36m0.6485952138900757\u001b[0m\n"
            ],
            "text/html": [
              "<pre style=\"white-space:pre;overflow-x:auto;line-height:normal;font-family:Menlo,'DejaVu Sans Mono',consolas,'Courier New',monospace\">Epoch:  <span style=\"color: #008080; text-decoration-color: #008080; font-weight: bold\">16</span> Batch:  <span style=\"color: #008080; text-decoration-color: #008080; font-weight: bold\">400</span> Loss:  <span style=\"color: #008080; text-decoration-color: #008080; font-weight: bold\">0.6485952138900757</span>\n",
              "</pre>\n"
            ]
          },
          "metadata": {}
        },
        {
          "output_type": "display_data",
          "data": {
            "text/plain": [
              "Epoch:  \u001b[1;36m17\u001b[0m Batch:  \u001b[1;36m0\u001b[0m Loss:  \u001b[1;36m1.497512698173523\u001b[0m\n"
            ],
            "text/html": [
              "<pre style=\"white-space:pre;overflow-x:auto;line-height:normal;font-family:Menlo,'DejaVu Sans Mono',consolas,'Courier New',monospace\">Epoch:  <span style=\"color: #008080; text-decoration-color: #008080; font-weight: bold\">17</span> Batch:  <span style=\"color: #008080; text-decoration-color: #008080; font-weight: bold\">0</span> Loss:  <span style=\"color: #008080; text-decoration-color: #008080; font-weight: bold\">1.497512698173523</span>\n",
              "</pre>\n"
            ]
          },
          "metadata": {}
        },
        {
          "output_type": "display_data",
          "data": {
            "text/plain": [
              "Epoch:  \u001b[1;36m17\u001b[0m Batch:  \u001b[1;36m100\u001b[0m Loss:  \u001b[1;36m1.4151145219802856\u001b[0m\n"
            ],
            "text/html": [
              "<pre style=\"white-space:pre;overflow-x:auto;line-height:normal;font-family:Menlo,'DejaVu Sans Mono',consolas,'Courier New',monospace\">Epoch:  <span style=\"color: #008080; text-decoration-color: #008080; font-weight: bold\">17</span> Batch:  <span style=\"color: #008080; text-decoration-color: #008080; font-weight: bold\">100</span> Loss:  <span style=\"color: #008080; text-decoration-color: #008080; font-weight: bold\">1.4151145219802856</span>\n",
              "</pre>\n"
            ]
          },
          "metadata": {}
        },
        {
          "output_type": "display_data",
          "data": {
            "text/plain": [
              "Epoch:  \u001b[1;36m17\u001b[0m Batch:  \u001b[1;36m200\u001b[0m Loss:  \u001b[1;36m0.6534091830253601\u001b[0m\n"
            ],
            "text/html": [
              "<pre style=\"white-space:pre;overflow-x:auto;line-height:normal;font-family:Menlo,'DejaVu Sans Mono',consolas,'Courier New',monospace\">Epoch:  <span style=\"color: #008080; text-decoration-color: #008080; font-weight: bold\">17</span> Batch:  <span style=\"color: #008080; text-decoration-color: #008080; font-weight: bold\">200</span> Loss:  <span style=\"color: #008080; text-decoration-color: #008080; font-weight: bold\">0.6534091830253601</span>\n",
              "</pre>\n"
            ]
          },
          "metadata": {}
        },
        {
          "output_type": "display_data",
          "data": {
            "text/plain": [
              "Epoch:  \u001b[1;36m17\u001b[0m Batch:  \u001b[1;36m300\u001b[0m Loss:  \u001b[1;36m0.6072231531143188\u001b[0m\n"
            ],
            "text/html": [
              "<pre style=\"white-space:pre;overflow-x:auto;line-height:normal;font-family:Menlo,'DejaVu Sans Mono',consolas,'Courier New',monospace\">Epoch:  <span style=\"color: #008080; text-decoration-color: #008080; font-weight: bold\">17</span> Batch:  <span style=\"color: #008080; text-decoration-color: #008080; font-weight: bold\">300</span> Loss:  <span style=\"color: #008080; text-decoration-color: #008080; font-weight: bold\">0.6072231531143188</span>\n",
              "</pre>\n"
            ]
          },
          "metadata": {}
        },
        {
          "output_type": "display_data",
          "data": {
            "text/plain": [
              "Epoch:  \u001b[1;36m17\u001b[0m Batch:  \u001b[1;36m400\u001b[0m Loss:  \u001b[1;36m0.672248125076294\u001b[0m\n"
            ],
            "text/html": [
              "<pre style=\"white-space:pre;overflow-x:auto;line-height:normal;font-family:Menlo,'DejaVu Sans Mono',consolas,'Courier New',monospace\">Epoch:  <span style=\"color: #008080; text-decoration-color: #008080; font-weight: bold\">17</span> Batch:  <span style=\"color: #008080; text-decoration-color: #008080; font-weight: bold\">400</span> Loss:  <span style=\"color: #008080; text-decoration-color: #008080; font-weight: bold\">0.672248125076294</span>\n",
              "</pre>\n"
            ]
          },
          "metadata": {}
        },
        {
          "output_type": "display_data",
          "data": {
            "text/plain": [
              "Epoch:  \u001b[1;36m18\u001b[0m Batch:  \u001b[1;36m0\u001b[0m Loss:  \u001b[1;36m0.8619942665100098\u001b[0m\n"
            ],
            "text/html": [
              "<pre style=\"white-space:pre;overflow-x:auto;line-height:normal;font-family:Menlo,'DejaVu Sans Mono',consolas,'Courier New',monospace\">Epoch:  <span style=\"color: #008080; text-decoration-color: #008080; font-weight: bold\">18</span> Batch:  <span style=\"color: #008080; text-decoration-color: #008080; font-weight: bold\">0</span> Loss:  <span style=\"color: #008080; text-decoration-color: #008080; font-weight: bold\">0.8619942665100098</span>\n",
              "</pre>\n"
            ]
          },
          "metadata": {}
        },
        {
          "output_type": "display_data",
          "data": {
            "text/plain": [
              "Epoch:  \u001b[1;36m18\u001b[0m Batch:  \u001b[1;36m100\u001b[0m Loss:  \u001b[1;36m0.673584520816803\u001b[0m\n"
            ],
            "text/html": [
              "<pre style=\"white-space:pre;overflow-x:auto;line-height:normal;font-family:Menlo,'DejaVu Sans Mono',consolas,'Courier New',monospace\">Epoch:  <span style=\"color: #008080; text-decoration-color: #008080; font-weight: bold\">18</span> Batch:  <span style=\"color: #008080; text-decoration-color: #008080; font-weight: bold\">100</span> Loss:  <span style=\"color: #008080; text-decoration-color: #008080; font-weight: bold\">0.673584520816803</span>\n",
              "</pre>\n"
            ]
          },
          "metadata": {}
        },
        {
          "output_type": "display_data",
          "data": {
            "text/plain": [
              "Epoch:  \u001b[1;36m18\u001b[0m Batch:  \u001b[1;36m200\u001b[0m Loss:  \u001b[1;36m0.43296822905540466\u001b[0m\n"
            ],
            "text/html": [
              "<pre style=\"white-space:pre;overflow-x:auto;line-height:normal;font-family:Menlo,'DejaVu Sans Mono',consolas,'Courier New',monospace\">Epoch:  <span style=\"color: #008080; text-decoration-color: #008080; font-weight: bold\">18</span> Batch:  <span style=\"color: #008080; text-decoration-color: #008080; font-weight: bold\">200</span> Loss:  <span style=\"color: #008080; text-decoration-color: #008080; font-weight: bold\">0.43296822905540466</span>\n",
              "</pre>\n"
            ]
          },
          "metadata": {}
        },
        {
          "output_type": "display_data",
          "data": {
            "text/plain": [
              "Epoch:  \u001b[1;36m18\u001b[0m Batch:  \u001b[1;36m300\u001b[0m Loss:  \u001b[1;36m0.5036767721176147\u001b[0m\n"
            ],
            "text/html": [
              "<pre style=\"white-space:pre;overflow-x:auto;line-height:normal;font-family:Menlo,'DejaVu Sans Mono',consolas,'Courier New',monospace\">Epoch:  <span style=\"color: #008080; text-decoration-color: #008080; font-weight: bold\">18</span> Batch:  <span style=\"color: #008080; text-decoration-color: #008080; font-weight: bold\">300</span> Loss:  <span style=\"color: #008080; text-decoration-color: #008080; font-weight: bold\">0.5036767721176147</span>\n",
              "</pre>\n"
            ]
          },
          "metadata": {}
        },
        {
          "output_type": "display_data",
          "data": {
            "text/plain": [
              "Epoch:  \u001b[1;36m18\u001b[0m Batch:  \u001b[1;36m400\u001b[0m Loss:  \u001b[1;36m0.5776259899139404\u001b[0m\n"
            ],
            "text/html": [
              "<pre style=\"white-space:pre;overflow-x:auto;line-height:normal;font-family:Menlo,'DejaVu Sans Mono',consolas,'Courier New',monospace\">Epoch:  <span style=\"color: #008080; text-decoration-color: #008080; font-weight: bold\">18</span> Batch:  <span style=\"color: #008080; text-decoration-color: #008080; font-weight: bold\">400</span> Loss:  <span style=\"color: #008080; text-decoration-color: #008080; font-weight: bold\">0.5776259899139404</span>\n",
              "</pre>\n"
            ]
          },
          "metadata": {}
        },
        {
          "output_type": "display_data",
          "data": {
            "text/plain": [
              "Epoch:  \u001b[1;36m19\u001b[0m Batch:  \u001b[1;36m0\u001b[0m Loss:  \u001b[1;36m0.5925820469856262\u001b[0m\n"
            ],
            "text/html": [
              "<pre style=\"white-space:pre;overflow-x:auto;line-height:normal;font-family:Menlo,'DejaVu Sans Mono',consolas,'Courier New',monospace\">Epoch:  <span style=\"color: #008080; text-decoration-color: #008080; font-weight: bold\">19</span> Batch:  <span style=\"color: #008080; text-decoration-color: #008080; font-weight: bold\">0</span> Loss:  <span style=\"color: #008080; text-decoration-color: #008080; font-weight: bold\">0.5925820469856262</span>\n",
              "</pre>\n"
            ]
          },
          "metadata": {}
        },
        {
          "output_type": "display_data",
          "data": {
            "text/plain": [
              "Epoch:  \u001b[1;36m19\u001b[0m Batch:  \u001b[1;36m100\u001b[0m Loss:  \u001b[1;36m0.5528318285942078\u001b[0m\n"
            ],
            "text/html": [
              "<pre style=\"white-space:pre;overflow-x:auto;line-height:normal;font-family:Menlo,'DejaVu Sans Mono',consolas,'Courier New',monospace\">Epoch:  <span style=\"color: #008080; text-decoration-color: #008080; font-weight: bold\">19</span> Batch:  <span style=\"color: #008080; text-decoration-color: #008080; font-weight: bold\">100</span> Loss:  <span style=\"color: #008080; text-decoration-color: #008080; font-weight: bold\">0.5528318285942078</span>\n",
              "</pre>\n"
            ]
          },
          "metadata": {}
        },
        {
          "output_type": "display_data",
          "data": {
            "text/plain": [
              "Epoch:  \u001b[1;36m19\u001b[0m Batch:  \u001b[1;36m200\u001b[0m Loss:  \u001b[1;36m0.8153991103172302\u001b[0m\n"
            ],
            "text/html": [
              "<pre style=\"white-space:pre;overflow-x:auto;line-height:normal;font-family:Menlo,'DejaVu Sans Mono',consolas,'Courier New',monospace\">Epoch:  <span style=\"color: #008080; text-decoration-color: #008080; font-weight: bold\">19</span> Batch:  <span style=\"color: #008080; text-decoration-color: #008080; font-weight: bold\">200</span> Loss:  <span style=\"color: #008080; text-decoration-color: #008080; font-weight: bold\">0.8153991103172302</span>\n",
              "</pre>\n"
            ]
          },
          "metadata": {}
        },
        {
          "output_type": "display_data",
          "data": {
            "text/plain": [
              "Epoch:  \u001b[1;36m19\u001b[0m Batch:  \u001b[1;36m300\u001b[0m Loss:  \u001b[1;36m0.6214378476142883\u001b[0m\n"
            ],
            "text/html": [
              "<pre style=\"white-space:pre;overflow-x:auto;line-height:normal;font-family:Menlo,'DejaVu Sans Mono',consolas,'Courier New',monospace\">Epoch:  <span style=\"color: #008080; text-decoration-color: #008080; font-weight: bold\">19</span> Batch:  <span style=\"color: #008080; text-decoration-color: #008080; font-weight: bold\">300</span> Loss:  <span style=\"color: #008080; text-decoration-color: #008080; font-weight: bold\">0.6214378476142883</span>\n",
              "</pre>\n"
            ]
          },
          "metadata": {}
        },
        {
          "output_type": "display_data",
          "data": {
            "text/plain": [
              "Epoch:  \u001b[1;36m19\u001b[0m Batch:  \u001b[1;36m400\u001b[0m Loss:  \u001b[1;36m0.5054457783699036\u001b[0m\n"
            ],
            "text/html": [
              "<pre style=\"white-space:pre;overflow-x:auto;line-height:normal;font-family:Menlo,'DejaVu Sans Mono',consolas,'Courier New',monospace\">Epoch:  <span style=\"color: #008080; text-decoration-color: #008080; font-weight: bold\">19</span> Batch:  <span style=\"color: #008080; text-decoration-color: #008080; font-weight: bold\">400</span> Loss:  <span style=\"color: #008080; text-decoration-color: #008080; font-weight: bold\">0.5054457783699036</span>\n",
              "</pre>\n"
            ]
          },
          "metadata": {}
        },
        {
          "output_type": "display_data",
          "data": {
            "text/plain": [
              "Epoch:  \u001b[1;36m20\u001b[0m Batch:  \u001b[1;36m0\u001b[0m Loss:  \u001b[1;36m0.554774284362793\u001b[0m\n"
            ],
            "text/html": [
              "<pre style=\"white-space:pre;overflow-x:auto;line-height:normal;font-family:Menlo,'DejaVu Sans Mono',consolas,'Courier New',monospace\">Epoch:  <span style=\"color: #008080; text-decoration-color: #008080; font-weight: bold\">20</span> Batch:  <span style=\"color: #008080; text-decoration-color: #008080; font-weight: bold\">0</span> Loss:  <span style=\"color: #008080; text-decoration-color: #008080; font-weight: bold\">0.554774284362793</span>\n",
              "</pre>\n"
            ]
          },
          "metadata": {}
        },
        {
          "output_type": "display_data",
          "data": {
            "text/plain": [
              "Epoch:  \u001b[1;36m20\u001b[0m Batch:  \u001b[1;36m100\u001b[0m Loss:  \u001b[1;36m0.5615081191062927\u001b[0m\n"
            ],
            "text/html": [
              "<pre style=\"white-space:pre;overflow-x:auto;line-height:normal;font-family:Menlo,'DejaVu Sans Mono',consolas,'Courier New',monospace\">Epoch:  <span style=\"color: #008080; text-decoration-color: #008080; font-weight: bold\">20</span> Batch:  <span style=\"color: #008080; text-decoration-color: #008080; font-weight: bold\">100</span> Loss:  <span style=\"color: #008080; text-decoration-color: #008080; font-weight: bold\">0.5615081191062927</span>\n",
              "</pre>\n"
            ]
          },
          "metadata": {}
        },
        {
          "output_type": "display_data",
          "data": {
            "text/plain": [
              "Epoch:  \u001b[1;36m20\u001b[0m Batch:  \u001b[1;36m200\u001b[0m Loss:  \u001b[1;36m0.587353527545929\u001b[0m\n"
            ],
            "text/html": [
              "<pre style=\"white-space:pre;overflow-x:auto;line-height:normal;font-family:Menlo,'DejaVu Sans Mono',consolas,'Courier New',monospace\">Epoch:  <span style=\"color: #008080; text-decoration-color: #008080; font-weight: bold\">20</span> Batch:  <span style=\"color: #008080; text-decoration-color: #008080; font-weight: bold\">200</span> Loss:  <span style=\"color: #008080; text-decoration-color: #008080; font-weight: bold\">0.587353527545929</span>\n",
              "</pre>\n"
            ]
          },
          "metadata": {}
        },
        {
          "output_type": "display_data",
          "data": {
            "text/plain": [
              "Epoch:  \u001b[1;36m20\u001b[0m Batch:  \u001b[1;36m300\u001b[0m Loss:  \u001b[1;36m0.6806133389472961\u001b[0m\n"
            ],
            "text/html": [
              "<pre style=\"white-space:pre;overflow-x:auto;line-height:normal;font-family:Menlo,'DejaVu Sans Mono',consolas,'Courier New',monospace\">Epoch:  <span style=\"color: #008080; text-decoration-color: #008080; font-weight: bold\">20</span> Batch:  <span style=\"color: #008080; text-decoration-color: #008080; font-weight: bold\">300</span> Loss:  <span style=\"color: #008080; text-decoration-color: #008080; font-weight: bold\">0.6806133389472961</span>\n",
              "</pre>\n"
            ]
          },
          "metadata": {}
        },
        {
          "output_type": "display_data",
          "data": {
            "text/plain": [
              "Epoch:  \u001b[1;36m20\u001b[0m Batch:  \u001b[1;36m400\u001b[0m Loss:  \u001b[1;36m0.7481797933578491\u001b[0m\n"
            ],
            "text/html": [
              "<pre style=\"white-space:pre;overflow-x:auto;line-height:normal;font-family:Menlo,'DejaVu Sans Mono',consolas,'Courier New',monospace\">Epoch:  <span style=\"color: #008080; text-decoration-color: #008080; font-weight: bold\">20</span> Batch:  <span style=\"color: #008080; text-decoration-color: #008080; font-weight: bold\">400</span> Loss:  <span style=\"color: #008080; text-decoration-color: #008080; font-weight: bold\">0.7481797933578491</span>\n",
              "</pre>\n"
            ]
          },
          "metadata": {}
        },
        {
          "output_type": "display_data",
          "data": {
            "text/plain": [
              "Epoch:  \u001b[1;36m21\u001b[0m Batch:  \u001b[1;36m0\u001b[0m Loss:  \u001b[1;36m0.41658902168273926\u001b[0m\n"
            ],
            "text/html": [
              "<pre style=\"white-space:pre;overflow-x:auto;line-height:normal;font-family:Menlo,'DejaVu Sans Mono',consolas,'Courier New',monospace\">Epoch:  <span style=\"color: #008080; text-decoration-color: #008080; font-weight: bold\">21</span> Batch:  <span style=\"color: #008080; text-decoration-color: #008080; font-weight: bold\">0</span> Loss:  <span style=\"color: #008080; text-decoration-color: #008080; font-weight: bold\">0.41658902168273926</span>\n",
              "</pre>\n"
            ]
          },
          "metadata": {}
        },
        {
          "output_type": "display_data",
          "data": {
            "text/plain": [
              "Epoch:  \u001b[1;36m21\u001b[0m Batch:  \u001b[1;36m100\u001b[0m Loss:  \u001b[1;36m0.685603678226471\u001b[0m\n"
            ],
            "text/html": [
              "<pre style=\"white-space:pre;overflow-x:auto;line-height:normal;font-family:Menlo,'DejaVu Sans Mono',consolas,'Courier New',monospace\">Epoch:  <span style=\"color: #008080; text-decoration-color: #008080; font-weight: bold\">21</span> Batch:  <span style=\"color: #008080; text-decoration-color: #008080; font-weight: bold\">100</span> Loss:  <span style=\"color: #008080; text-decoration-color: #008080; font-weight: bold\">0.685603678226471</span>\n",
              "</pre>\n"
            ]
          },
          "metadata": {}
        },
        {
          "output_type": "display_data",
          "data": {
            "text/plain": [
              "Epoch:  \u001b[1;36m21\u001b[0m Batch:  \u001b[1;36m200\u001b[0m Loss:  \u001b[1;36m0.9792043566703796\u001b[0m\n"
            ],
            "text/html": [
              "<pre style=\"white-space:pre;overflow-x:auto;line-height:normal;font-family:Menlo,'DejaVu Sans Mono',consolas,'Courier New',monospace\">Epoch:  <span style=\"color: #008080; text-decoration-color: #008080; font-weight: bold\">21</span> Batch:  <span style=\"color: #008080; text-decoration-color: #008080; font-weight: bold\">200</span> Loss:  <span style=\"color: #008080; text-decoration-color: #008080; font-weight: bold\">0.9792043566703796</span>\n",
              "</pre>\n"
            ]
          },
          "metadata": {}
        },
        {
          "output_type": "display_data",
          "data": {
            "text/plain": [
              "Epoch:  \u001b[1;36m21\u001b[0m Batch:  \u001b[1;36m300\u001b[0m Loss:  \u001b[1;36m0.5666236281394958\u001b[0m\n"
            ],
            "text/html": [
              "<pre style=\"white-space:pre;overflow-x:auto;line-height:normal;font-family:Menlo,'DejaVu Sans Mono',consolas,'Courier New',monospace\">Epoch:  <span style=\"color: #008080; text-decoration-color: #008080; font-weight: bold\">21</span> Batch:  <span style=\"color: #008080; text-decoration-color: #008080; font-weight: bold\">300</span> Loss:  <span style=\"color: #008080; text-decoration-color: #008080; font-weight: bold\">0.5666236281394958</span>\n",
              "</pre>\n"
            ]
          },
          "metadata": {}
        },
        {
          "output_type": "display_data",
          "data": {
            "text/plain": [
              "Epoch:  \u001b[1;36m21\u001b[0m Batch:  \u001b[1;36m400\u001b[0m Loss:  \u001b[1;36m0.5553209781646729\u001b[0m\n"
            ],
            "text/html": [
              "<pre style=\"white-space:pre;overflow-x:auto;line-height:normal;font-family:Menlo,'DejaVu Sans Mono',consolas,'Courier New',monospace\">Epoch:  <span style=\"color: #008080; text-decoration-color: #008080; font-weight: bold\">21</span> Batch:  <span style=\"color: #008080; text-decoration-color: #008080; font-weight: bold\">400</span> Loss:  <span style=\"color: #008080; text-decoration-color: #008080; font-weight: bold\">0.5553209781646729</span>\n",
              "</pre>\n"
            ]
          },
          "metadata": {}
        },
        {
          "output_type": "display_data",
          "data": {
            "text/plain": [
              "Epoch:  \u001b[1;36m22\u001b[0m Batch:  \u001b[1;36m0\u001b[0m Loss:  \u001b[1;36m0.5226352214813232\u001b[0m\n"
            ],
            "text/html": [
              "<pre style=\"white-space:pre;overflow-x:auto;line-height:normal;font-family:Menlo,'DejaVu Sans Mono',consolas,'Courier New',monospace\">Epoch:  <span style=\"color: #008080; text-decoration-color: #008080; font-weight: bold\">22</span> Batch:  <span style=\"color: #008080; text-decoration-color: #008080; font-weight: bold\">0</span> Loss:  <span style=\"color: #008080; text-decoration-color: #008080; font-weight: bold\">0.5226352214813232</span>\n",
              "</pre>\n"
            ]
          },
          "metadata": {}
        },
        {
          "output_type": "display_data",
          "data": {
            "text/plain": [
              "Epoch:  \u001b[1;36m22\u001b[0m Batch:  \u001b[1;36m100\u001b[0m Loss:  \u001b[1;36m0.6452456712722778\u001b[0m\n"
            ],
            "text/html": [
              "<pre style=\"white-space:pre;overflow-x:auto;line-height:normal;font-family:Menlo,'DejaVu Sans Mono',consolas,'Courier New',monospace\">Epoch:  <span style=\"color: #008080; text-decoration-color: #008080; font-weight: bold\">22</span> Batch:  <span style=\"color: #008080; text-decoration-color: #008080; font-weight: bold\">100</span> Loss:  <span style=\"color: #008080; text-decoration-color: #008080; font-weight: bold\">0.6452456712722778</span>\n",
              "</pre>\n"
            ]
          },
          "metadata": {}
        },
        {
          "output_type": "display_data",
          "data": {
            "text/plain": [
              "Epoch:  \u001b[1;36m22\u001b[0m Batch:  \u001b[1;36m200\u001b[0m Loss:  \u001b[1;36m0.5867013335227966\u001b[0m\n"
            ],
            "text/html": [
              "<pre style=\"white-space:pre;overflow-x:auto;line-height:normal;font-family:Menlo,'DejaVu Sans Mono',consolas,'Courier New',monospace\">Epoch:  <span style=\"color: #008080; text-decoration-color: #008080; font-weight: bold\">22</span> Batch:  <span style=\"color: #008080; text-decoration-color: #008080; font-weight: bold\">200</span> Loss:  <span style=\"color: #008080; text-decoration-color: #008080; font-weight: bold\">0.5867013335227966</span>\n",
              "</pre>\n"
            ]
          },
          "metadata": {}
        },
        {
          "output_type": "display_data",
          "data": {
            "text/plain": [
              "Epoch:  \u001b[1;36m22\u001b[0m Batch:  \u001b[1;36m300\u001b[0m Loss:  \u001b[1;36m0.6683012247085571\u001b[0m\n"
            ],
            "text/html": [
              "<pre style=\"white-space:pre;overflow-x:auto;line-height:normal;font-family:Menlo,'DejaVu Sans Mono',consolas,'Courier New',monospace\">Epoch:  <span style=\"color: #008080; text-decoration-color: #008080; font-weight: bold\">22</span> Batch:  <span style=\"color: #008080; text-decoration-color: #008080; font-weight: bold\">300</span> Loss:  <span style=\"color: #008080; text-decoration-color: #008080; font-weight: bold\">0.6683012247085571</span>\n",
              "</pre>\n"
            ]
          },
          "metadata": {}
        },
        {
          "output_type": "display_data",
          "data": {
            "text/plain": [
              "Epoch:  \u001b[1;36m22\u001b[0m Batch:  \u001b[1;36m400\u001b[0m Loss:  \u001b[1;36m0.5273715853691101\u001b[0m\n"
            ],
            "text/html": [
              "<pre style=\"white-space:pre;overflow-x:auto;line-height:normal;font-family:Menlo,'DejaVu Sans Mono',consolas,'Courier New',monospace\">Epoch:  <span style=\"color: #008080; text-decoration-color: #008080; font-weight: bold\">22</span> Batch:  <span style=\"color: #008080; text-decoration-color: #008080; font-weight: bold\">400</span> Loss:  <span style=\"color: #008080; text-decoration-color: #008080; font-weight: bold\">0.5273715853691101</span>\n",
              "</pre>\n"
            ]
          },
          "metadata": {}
        },
        {
          "output_type": "display_data",
          "data": {
            "text/plain": [
              "Epoch:  \u001b[1;36m23\u001b[0m Batch:  \u001b[1;36m0\u001b[0m Loss:  \u001b[1;36m0.37782105803489685\u001b[0m\n"
            ],
            "text/html": [
              "<pre style=\"white-space:pre;overflow-x:auto;line-height:normal;font-family:Menlo,'DejaVu Sans Mono',consolas,'Courier New',monospace\">Epoch:  <span style=\"color: #008080; text-decoration-color: #008080; font-weight: bold\">23</span> Batch:  <span style=\"color: #008080; text-decoration-color: #008080; font-weight: bold\">0</span> Loss:  <span style=\"color: #008080; text-decoration-color: #008080; font-weight: bold\">0.37782105803489685</span>\n",
              "</pre>\n"
            ]
          },
          "metadata": {}
        },
        {
          "output_type": "display_data",
          "data": {
            "text/plain": [
              "Epoch:  \u001b[1;36m23\u001b[0m Batch:  \u001b[1;36m100\u001b[0m Loss:  \u001b[1;36m0.7190139889717102\u001b[0m\n"
            ],
            "text/html": [
              "<pre style=\"white-space:pre;overflow-x:auto;line-height:normal;font-family:Menlo,'DejaVu Sans Mono',consolas,'Courier New',monospace\">Epoch:  <span style=\"color: #008080; text-decoration-color: #008080; font-weight: bold\">23</span> Batch:  <span style=\"color: #008080; text-decoration-color: #008080; font-weight: bold\">100</span> Loss:  <span style=\"color: #008080; text-decoration-color: #008080; font-weight: bold\">0.7190139889717102</span>\n",
              "</pre>\n"
            ]
          },
          "metadata": {}
        },
        {
          "output_type": "display_data",
          "data": {
            "text/plain": [
              "Epoch:  \u001b[1;36m23\u001b[0m Batch:  \u001b[1;36m200\u001b[0m Loss:  \u001b[1;36m0.42060261964797974\u001b[0m\n"
            ],
            "text/html": [
              "<pre style=\"white-space:pre;overflow-x:auto;line-height:normal;font-family:Menlo,'DejaVu Sans Mono',consolas,'Courier New',monospace\">Epoch:  <span style=\"color: #008080; text-decoration-color: #008080; font-weight: bold\">23</span> Batch:  <span style=\"color: #008080; text-decoration-color: #008080; font-weight: bold\">200</span> Loss:  <span style=\"color: #008080; text-decoration-color: #008080; font-weight: bold\">0.42060261964797974</span>\n",
              "</pre>\n"
            ]
          },
          "metadata": {}
        },
        {
          "output_type": "display_data",
          "data": {
            "text/plain": [
              "Epoch:  \u001b[1;36m23\u001b[0m Batch:  \u001b[1;36m300\u001b[0m Loss:  \u001b[1;36m0.6394093036651611\u001b[0m\n"
            ],
            "text/html": [
              "<pre style=\"white-space:pre;overflow-x:auto;line-height:normal;font-family:Menlo,'DejaVu Sans Mono',consolas,'Courier New',monospace\">Epoch:  <span style=\"color: #008080; text-decoration-color: #008080; font-weight: bold\">23</span> Batch:  <span style=\"color: #008080; text-decoration-color: #008080; font-weight: bold\">300</span> Loss:  <span style=\"color: #008080; text-decoration-color: #008080; font-weight: bold\">0.6394093036651611</span>\n",
              "</pre>\n"
            ]
          },
          "metadata": {}
        },
        {
          "output_type": "display_data",
          "data": {
            "text/plain": [
              "Epoch:  \u001b[1;36m23\u001b[0m Batch:  \u001b[1;36m400\u001b[0m Loss:  \u001b[1;36m0.44601792097091675\u001b[0m\n"
            ],
            "text/html": [
              "<pre style=\"white-space:pre;overflow-x:auto;line-height:normal;font-family:Menlo,'DejaVu Sans Mono',consolas,'Courier New',monospace\">Epoch:  <span style=\"color: #008080; text-decoration-color: #008080; font-weight: bold\">23</span> Batch:  <span style=\"color: #008080; text-decoration-color: #008080; font-weight: bold\">400</span> Loss:  <span style=\"color: #008080; text-decoration-color: #008080; font-weight: bold\">0.44601792097091675</span>\n",
              "</pre>\n"
            ]
          },
          "metadata": {}
        },
        {
          "output_type": "display_data",
          "data": {
            "text/plain": [
              "Epoch:  \u001b[1;36m24\u001b[0m Batch:  \u001b[1;36m0\u001b[0m Loss:  \u001b[1;36m0.6324850916862488\u001b[0m\n"
            ],
            "text/html": [
              "<pre style=\"white-space:pre;overflow-x:auto;line-height:normal;font-family:Menlo,'DejaVu Sans Mono',consolas,'Courier New',monospace\">Epoch:  <span style=\"color: #008080; text-decoration-color: #008080; font-weight: bold\">24</span> Batch:  <span style=\"color: #008080; text-decoration-color: #008080; font-weight: bold\">0</span> Loss:  <span style=\"color: #008080; text-decoration-color: #008080; font-weight: bold\">0.6324850916862488</span>\n",
              "</pre>\n"
            ]
          },
          "metadata": {}
        },
        {
          "output_type": "display_data",
          "data": {
            "text/plain": [
              "Epoch:  \u001b[1;36m24\u001b[0m Batch:  \u001b[1;36m100\u001b[0m Loss:  \u001b[1;36m0.3259076476097107\u001b[0m\n"
            ],
            "text/html": [
              "<pre style=\"white-space:pre;overflow-x:auto;line-height:normal;font-family:Menlo,'DejaVu Sans Mono',consolas,'Courier New',monospace\">Epoch:  <span style=\"color: #008080; text-decoration-color: #008080; font-weight: bold\">24</span> Batch:  <span style=\"color: #008080; text-decoration-color: #008080; font-weight: bold\">100</span> Loss:  <span style=\"color: #008080; text-decoration-color: #008080; font-weight: bold\">0.3259076476097107</span>\n",
              "</pre>\n"
            ]
          },
          "metadata": {}
        },
        {
          "output_type": "display_data",
          "data": {
            "text/plain": [
              "Epoch:  \u001b[1;36m24\u001b[0m Batch:  \u001b[1;36m200\u001b[0m Loss:  \u001b[1;36m0.6363666653633118\u001b[0m\n"
            ],
            "text/html": [
              "<pre style=\"white-space:pre;overflow-x:auto;line-height:normal;font-family:Menlo,'DejaVu Sans Mono',consolas,'Courier New',monospace\">Epoch:  <span style=\"color: #008080; text-decoration-color: #008080; font-weight: bold\">24</span> Batch:  <span style=\"color: #008080; text-decoration-color: #008080; font-weight: bold\">200</span> Loss:  <span style=\"color: #008080; text-decoration-color: #008080; font-weight: bold\">0.6363666653633118</span>\n",
              "</pre>\n"
            ]
          },
          "metadata": {}
        },
        {
          "output_type": "display_data",
          "data": {
            "text/plain": [
              "Epoch:  \u001b[1;36m24\u001b[0m Batch:  \u001b[1;36m300\u001b[0m Loss:  \u001b[1;36m0.3653770983219147\u001b[0m\n"
            ],
            "text/html": [
              "<pre style=\"white-space:pre;overflow-x:auto;line-height:normal;font-family:Menlo,'DejaVu Sans Mono',consolas,'Courier New',monospace\">Epoch:  <span style=\"color: #008080; text-decoration-color: #008080; font-weight: bold\">24</span> Batch:  <span style=\"color: #008080; text-decoration-color: #008080; font-weight: bold\">300</span> Loss:  <span style=\"color: #008080; text-decoration-color: #008080; font-weight: bold\">0.3653770983219147</span>\n",
              "</pre>\n"
            ]
          },
          "metadata": {}
        },
        {
          "output_type": "display_data",
          "data": {
            "text/plain": [
              "Epoch:  \u001b[1;36m24\u001b[0m Batch:  \u001b[1;36m400\u001b[0m Loss:  \u001b[1;36m0.6507006883621216\u001b[0m\n"
            ],
            "text/html": [
              "<pre style=\"white-space:pre;overflow-x:auto;line-height:normal;font-family:Menlo,'DejaVu Sans Mono',consolas,'Courier New',monospace\">Epoch:  <span style=\"color: #008080; text-decoration-color: #008080; font-weight: bold\">24</span> Batch:  <span style=\"color: #008080; text-decoration-color: #008080; font-weight: bold\">400</span> Loss:  <span style=\"color: #008080; text-decoration-color: #008080; font-weight: bold\">0.6507006883621216</span>\n",
              "</pre>\n"
            ]
          },
          "metadata": {}
        },
        {
          "output_type": "display_data",
          "data": {
            "text/plain": [
              "Epoch:  \u001b[1;36m25\u001b[0m Batch:  \u001b[1;36m0\u001b[0m Loss:  \u001b[1;36m0.6482730507850647\u001b[0m\n"
            ],
            "text/html": [
              "<pre style=\"white-space:pre;overflow-x:auto;line-height:normal;font-family:Menlo,'DejaVu Sans Mono',consolas,'Courier New',monospace\">Epoch:  <span style=\"color: #008080; text-decoration-color: #008080; font-weight: bold\">25</span> Batch:  <span style=\"color: #008080; text-decoration-color: #008080; font-weight: bold\">0</span> Loss:  <span style=\"color: #008080; text-decoration-color: #008080; font-weight: bold\">0.6482730507850647</span>\n",
              "</pre>\n"
            ]
          },
          "metadata": {}
        },
        {
          "output_type": "display_data",
          "data": {
            "text/plain": [
              "Epoch:  \u001b[1;36m25\u001b[0m Batch:  \u001b[1;36m100\u001b[0m Loss:  \u001b[1;36m0.6022213101387024\u001b[0m\n"
            ],
            "text/html": [
              "<pre style=\"white-space:pre;overflow-x:auto;line-height:normal;font-family:Menlo,'DejaVu Sans Mono',consolas,'Courier New',monospace\">Epoch:  <span style=\"color: #008080; text-decoration-color: #008080; font-weight: bold\">25</span> Batch:  <span style=\"color: #008080; text-decoration-color: #008080; font-weight: bold\">100</span> Loss:  <span style=\"color: #008080; text-decoration-color: #008080; font-weight: bold\">0.6022213101387024</span>\n",
              "</pre>\n"
            ]
          },
          "metadata": {}
        },
        {
          "output_type": "display_data",
          "data": {
            "text/plain": [
              "Epoch:  \u001b[1;36m25\u001b[0m Batch:  \u001b[1;36m200\u001b[0m Loss:  \u001b[1;36m0.3797357678413391\u001b[0m\n"
            ],
            "text/html": [
              "<pre style=\"white-space:pre;overflow-x:auto;line-height:normal;font-family:Menlo,'DejaVu Sans Mono',consolas,'Courier New',monospace\">Epoch:  <span style=\"color: #008080; text-decoration-color: #008080; font-weight: bold\">25</span> Batch:  <span style=\"color: #008080; text-decoration-color: #008080; font-weight: bold\">200</span> Loss:  <span style=\"color: #008080; text-decoration-color: #008080; font-weight: bold\">0.3797357678413391</span>\n",
              "</pre>\n"
            ]
          },
          "metadata": {}
        },
        {
          "output_type": "display_data",
          "data": {
            "text/plain": [
              "Epoch:  \u001b[1;36m25\u001b[0m Batch:  \u001b[1;36m300\u001b[0m Loss:  \u001b[1;36m0.5227964520454407\u001b[0m\n"
            ],
            "text/html": [
              "<pre style=\"white-space:pre;overflow-x:auto;line-height:normal;font-family:Menlo,'DejaVu Sans Mono',consolas,'Courier New',monospace\">Epoch:  <span style=\"color: #008080; text-decoration-color: #008080; font-weight: bold\">25</span> Batch:  <span style=\"color: #008080; text-decoration-color: #008080; font-weight: bold\">300</span> Loss:  <span style=\"color: #008080; text-decoration-color: #008080; font-weight: bold\">0.5227964520454407</span>\n",
              "</pre>\n"
            ]
          },
          "metadata": {}
        },
        {
          "output_type": "display_data",
          "data": {
            "text/plain": [
              "Epoch:  \u001b[1;36m25\u001b[0m Batch:  \u001b[1;36m400\u001b[0m Loss:  \u001b[1;36m0.7466371655464172\u001b[0m\n"
            ],
            "text/html": [
              "<pre style=\"white-space:pre;overflow-x:auto;line-height:normal;font-family:Menlo,'DejaVu Sans Mono',consolas,'Courier New',monospace\">Epoch:  <span style=\"color: #008080; text-decoration-color: #008080; font-weight: bold\">25</span> Batch:  <span style=\"color: #008080; text-decoration-color: #008080; font-weight: bold\">400</span> Loss:  <span style=\"color: #008080; text-decoration-color: #008080; font-weight: bold\">0.7466371655464172</span>\n",
              "</pre>\n"
            ]
          },
          "metadata": {}
        },
        {
          "output_type": "display_data",
          "data": {
            "text/plain": [
              "Epoch:  \u001b[1;36m26\u001b[0m Batch:  \u001b[1;36m0\u001b[0m Loss:  \u001b[1;36m0.6575716733932495\u001b[0m\n"
            ],
            "text/html": [
              "<pre style=\"white-space:pre;overflow-x:auto;line-height:normal;font-family:Menlo,'DejaVu Sans Mono',consolas,'Courier New',monospace\">Epoch:  <span style=\"color: #008080; text-decoration-color: #008080; font-weight: bold\">26</span> Batch:  <span style=\"color: #008080; text-decoration-color: #008080; font-weight: bold\">0</span> Loss:  <span style=\"color: #008080; text-decoration-color: #008080; font-weight: bold\">0.6575716733932495</span>\n",
              "</pre>\n"
            ]
          },
          "metadata": {}
        },
        {
          "output_type": "display_data",
          "data": {
            "text/plain": [
              "Epoch:  \u001b[1;36m26\u001b[0m Batch:  \u001b[1;36m100\u001b[0m Loss:  \u001b[1;36m0.5098848342895508\u001b[0m\n"
            ],
            "text/html": [
              "<pre style=\"white-space:pre;overflow-x:auto;line-height:normal;font-family:Menlo,'DejaVu Sans Mono',consolas,'Courier New',monospace\">Epoch:  <span style=\"color: #008080; text-decoration-color: #008080; font-weight: bold\">26</span> Batch:  <span style=\"color: #008080; text-decoration-color: #008080; font-weight: bold\">100</span> Loss:  <span style=\"color: #008080; text-decoration-color: #008080; font-weight: bold\">0.5098848342895508</span>\n",
              "</pre>\n"
            ]
          },
          "metadata": {}
        },
        {
          "output_type": "display_data",
          "data": {
            "text/plain": [
              "Epoch:  \u001b[1;36m26\u001b[0m Batch:  \u001b[1;36m200\u001b[0m Loss:  \u001b[1;36m0.8309796452522278\u001b[0m\n"
            ],
            "text/html": [
              "<pre style=\"white-space:pre;overflow-x:auto;line-height:normal;font-family:Menlo,'DejaVu Sans Mono',consolas,'Courier New',monospace\">Epoch:  <span style=\"color: #008080; text-decoration-color: #008080; font-weight: bold\">26</span> Batch:  <span style=\"color: #008080; text-decoration-color: #008080; font-weight: bold\">200</span> Loss:  <span style=\"color: #008080; text-decoration-color: #008080; font-weight: bold\">0.8309796452522278</span>\n",
              "</pre>\n"
            ]
          },
          "metadata": {}
        },
        {
          "output_type": "display_data",
          "data": {
            "text/plain": [
              "Epoch:  \u001b[1;36m26\u001b[0m Batch:  \u001b[1;36m300\u001b[0m Loss:  \u001b[1;36m0.4091295301914215\u001b[0m\n"
            ],
            "text/html": [
              "<pre style=\"white-space:pre;overflow-x:auto;line-height:normal;font-family:Menlo,'DejaVu Sans Mono',consolas,'Courier New',monospace\">Epoch:  <span style=\"color: #008080; text-decoration-color: #008080; font-weight: bold\">26</span> Batch:  <span style=\"color: #008080; text-decoration-color: #008080; font-weight: bold\">300</span> Loss:  <span style=\"color: #008080; text-decoration-color: #008080; font-weight: bold\">0.4091295301914215</span>\n",
              "</pre>\n"
            ]
          },
          "metadata": {}
        },
        {
          "output_type": "display_data",
          "data": {
            "text/plain": [
              "Epoch:  \u001b[1;36m26\u001b[0m Batch:  \u001b[1;36m400\u001b[0m Loss:  \u001b[1;36m0.4496919810771942\u001b[0m\n"
            ],
            "text/html": [
              "<pre style=\"white-space:pre;overflow-x:auto;line-height:normal;font-family:Menlo,'DejaVu Sans Mono',consolas,'Courier New',monospace\">Epoch:  <span style=\"color: #008080; text-decoration-color: #008080; font-weight: bold\">26</span> Batch:  <span style=\"color: #008080; text-decoration-color: #008080; font-weight: bold\">400</span> Loss:  <span style=\"color: #008080; text-decoration-color: #008080; font-weight: bold\">0.4496919810771942</span>\n",
              "</pre>\n"
            ]
          },
          "metadata": {}
        },
        {
          "output_type": "display_data",
          "data": {
            "text/plain": [
              "Epoch:  \u001b[1;36m27\u001b[0m Batch:  \u001b[1;36m0\u001b[0m Loss:  \u001b[1;36m0.5233111381530762\u001b[0m\n"
            ],
            "text/html": [
              "<pre style=\"white-space:pre;overflow-x:auto;line-height:normal;font-family:Menlo,'DejaVu Sans Mono',consolas,'Courier New',monospace\">Epoch:  <span style=\"color: #008080; text-decoration-color: #008080; font-weight: bold\">27</span> Batch:  <span style=\"color: #008080; text-decoration-color: #008080; font-weight: bold\">0</span> Loss:  <span style=\"color: #008080; text-decoration-color: #008080; font-weight: bold\">0.5233111381530762</span>\n",
              "</pre>\n"
            ]
          },
          "metadata": {}
        },
        {
          "output_type": "display_data",
          "data": {
            "text/plain": [
              "Epoch:  \u001b[1;36m27\u001b[0m Batch:  \u001b[1;36m100\u001b[0m Loss:  \u001b[1;36m0.7955434322357178\u001b[0m\n"
            ],
            "text/html": [
              "<pre style=\"white-space:pre;overflow-x:auto;line-height:normal;font-family:Menlo,'DejaVu Sans Mono',consolas,'Courier New',monospace\">Epoch:  <span style=\"color: #008080; text-decoration-color: #008080; font-weight: bold\">27</span> Batch:  <span style=\"color: #008080; text-decoration-color: #008080; font-weight: bold\">100</span> Loss:  <span style=\"color: #008080; text-decoration-color: #008080; font-weight: bold\">0.7955434322357178</span>\n",
              "</pre>\n"
            ]
          },
          "metadata": {}
        },
        {
          "output_type": "display_data",
          "data": {
            "text/plain": [
              "Epoch:  \u001b[1;36m27\u001b[0m Batch:  \u001b[1;36m200\u001b[0m Loss:  \u001b[1;36m0.5093119740486145\u001b[0m\n"
            ],
            "text/html": [
              "<pre style=\"white-space:pre;overflow-x:auto;line-height:normal;font-family:Menlo,'DejaVu Sans Mono',consolas,'Courier New',monospace\">Epoch:  <span style=\"color: #008080; text-decoration-color: #008080; font-weight: bold\">27</span> Batch:  <span style=\"color: #008080; text-decoration-color: #008080; font-weight: bold\">200</span> Loss:  <span style=\"color: #008080; text-decoration-color: #008080; font-weight: bold\">0.5093119740486145</span>\n",
              "</pre>\n"
            ]
          },
          "metadata": {}
        },
        {
          "output_type": "display_data",
          "data": {
            "text/plain": [
              "Epoch:  \u001b[1;36m27\u001b[0m Batch:  \u001b[1;36m300\u001b[0m Loss:  \u001b[1;36m0.3758513033390045\u001b[0m\n"
            ],
            "text/html": [
              "<pre style=\"white-space:pre;overflow-x:auto;line-height:normal;font-family:Menlo,'DejaVu Sans Mono',consolas,'Courier New',monospace\">Epoch:  <span style=\"color: #008080; text-decoration-color: #008080; font-weight: bold\">27</span> Batch:  <span style=\"color: #008080; text-decoration-color: #008080; font-weight: bold\">300</span> Loss:  <span style=\"color: #008080; text-decoration-color: #008080; font-weight: bold\">0.3758513033390045</span>\n",
              "</pre>\n"
            ]
          },
          "metadata": {}
        },
        {
          "output_type": "display_data",
          "data": {
            "text/plain": [
              "Epoch:  \u001b[1;36m27\u001b[0m Batch:  \u001b[1;36m400\u001b[0m Loss:  \u001b[1;36m0.672739565372467\u001b[0m\n"
            ],
            "text/html": [
              "<pre style=\"white-space:pre;overflow-x:auto;line-height:normal;font-family:Menlo,'DejaVu Sans Mono',consolas,'Courier New',monospace\">Epoch:  <span style=\"color: #008080; text-decoration-color: #008080; font-weight: bold\">27</span> Batch:  <span style=\"color: #008080; text-decoration-color: #008080; font-weight: bold\">400</span> Loss:  <span style=\"color: #008080; text-decoration-color: #008080; font-weight: bold\">0.672739565372467</span>\n",
              "</pre>\n"
            ]
          },
          "metadata": {}
        },
        {
          "output_type": "display_data",
          "data": {
            "text/plain": [
              "Epoch:  \u001b[1;36m28\u001b[0m Batch:  \u001b[1;36m0\u001b[0m Loss:  \u001b[1;36m0.8769440054893494\u001b[0m\n"
            ],
            "text/html": [
              "<pre style=\"white-space:pre;overflow-x:auto;line-height:normal;font-family:Menlo,'DejaVu Sans Mono',consolas,'Courier New',monospace\">Epoch:  <span style=\"color: #008080; text-decoration-color: #008080; font-weight: bold\">28</span> Batch:  <span style=\"color: #008080; text-decoration-color: #008080; font-weight: bold\">0</span> Loss:  <span style=\"color: #008080; text-decoration-color: #008080; font-weight: bold\">0.8769440054893494</span>\n",
              "</pre>\n"
            ]
          },
          "metadata": {}
        },
        {
          "output_type": "display_data",
          "data": {
            "text/plain": [
              "Epoch:  \u001b[1;36m28\u001b[0m Batch:  \u001b[1;36m100\u001b[0m Loss:  \u001b[1;36m0.3793046772480011\u001b[0m\n"
            ],
            "text/html": [
              "<pre style=\"white-space:pre;overflow-x:auto;line-height:normal;font-family:Menlo,'DejaVu Sans Mono',consolas,'Courier New',monospace\">Epoch:  <span style=\"color: #008080; text-decoration-color: #008080; font-weight: bold\">28</span> Batch:  <span style=\"color: #008080; text-decoration-color: #008080; font-weight: bold\">100</span> Loss:  <span style=\"color: #008080; text-decoration-color: #008080; font-weight: bold\">0.3793046772480011</span>\n",
              "</pre>\n"
            ]
          },
          "metadata": {}
        },
        {
          "output_type": "display_data",
          "data": {
            "text/plain": [
              "Epoch:  \u001b[1;36m28\u001b[0m Batch:  \u001b[1;36m200\u001b[0m Loss:  \u001b[1;36m0.668401300907135\u001b[0m\n"
            ],
            "text/html": [
              "<pre style=\"white-space:pre;overflow-x:auto;line-height:normal;font-family:Menlo,'DejaVu Sans Mono',consolas,'Courier New',monospace\">Epoch:  <span style=\"color: #008080; text-decoration-color: #008080; font-weight: bold\">28</span> Batch:  <span style=\"color: #008080; text-decoration-color: #008080; font-weight: bold\">200</span> Loss:  <span style=\"color: #008080; text-decoration-color: #008080; font-weight: bold\">0.668401300907135</span>\n",
              "</pre>\n"
            ]
          },
          "metadata": {}
        },
        {
          "output_type": "display_data",
          "data": {
            "text/plain": [
              "Epoch:  \u001b[1;36m28\u001b[0m Batch:  \u001b[1;36m300\u001b[0m Loss:  \u001b[1;36m0.2833021879196167\u001b[0m\n"
            ],
            "text/html": [
              "<pre style=\"white-space:pre;overflow-x:auto;line-height:normal;font-family:Menlo,'DejaVu Sans Mono',consolas,'Courier New',monospace\">Epoch:  <span style=\"color: #008080; text-decoration-color: #008080; font-weight: bold\">28</span> Batch:  <span style=\"color: #008080; text-decoration-color: #008080; font-weight: bold\">300</span> Loss:  <span style=\"color: #008080; text-decoration-color: #008080; font-weight: bold\">0.2833021879196167</span>\n",
              "</pre>\n"
            ]
          },
          "metadata": {}
        },
        {
          "output_type": "display_data",
          "data": {
            "text/plain": [
              "Epoch:  \u001b[1;36m28\u001b[0m Batch:  \u001b[1;36m400\u001b[0m Loss:  \u001b[1;36m0.41565701365470886\u001b[0m\n"
            ],
            "text/html": [
              "<pre style=\"white-space:pre;overflow-x:auto;line-height:normal;font-family:Menlo,'DejaVu Sans Mono',consolas,'Courier New',monospace\">Epoch:  <span style=\"color: #008080; text-decoration-color: #008080; font-weight: bold\">28</span> Batch:  <span style=\"color: #008080; text-decoration-color: #008080; font-weight: bold\">400</span> Loss:  <span style=\"color: #008080; text-decoration-color: #008080; font-weight: bold\">0.41565701365470886</span>\n",
              "</pre>\n"
            ]
          },
          "metadata": {}
        },
        {
          "output_type": "display_data",
          "data": {
            "text/plain": [
              "Epoch:  \u001b[1;36m29\u001b[0m Batch:  \u001b[1;36m0\u001b[0m Loss:  \u001b[1;36m0.5204722285270691\u001b[0m\n"
            ],
            "text/html": [
              "<pre style=\"white-space:pre;overflow-x:auto;line-height:normal;font-family:Menlo,'DejaVu Sans Mono',consolas,'Courier New',monospace\">Epoch:  <span style=\"color: #008080; text-decoration-color: #008080; font-weight: bold\">29</span> Batch:  <span style=\"color: #008080; text-decoration-color: #008080; font-weight: bold\">0</span> Loss:  <span style=\"color: #008080; text-decoration-color: #008080; font-weight: bold\">0.5204722285270691</span>\n",
              "</pre>\n"
            ]
          },
          "metadata": {}
        },
        {
          "output_type": "display_data",
          "data": {
            "text/plain": [
              "Epoch:  \u001b[1;36m29\u001b[0m Batch:  \u001b[1;36m100\u001b[0m Loss:  \u001b[1;36m0.6607323884963989\u001b[0m\n"
            ],
            "text/html": [
              "<pre style=\"white-space:pre;overflow-x:auto;line-height:normal;font-family:Menlo,'DejaVu Sans Mono',consolas,'Courier New',monospace\">Epoch:  <span style=\"color: #008080; text-decoration-color: #008080; font-weight: bold\">29</span> Batch:  <span style=\"color: #008080; text-decoration-color: #008080; font-weight: bold\">100</span> Loss:  <span style=\"color: #008080; text-decoration-color: #008080; font-weight: bold\">0.6607323884963989</span>\n",
              "</pre>\n"
            ]
          },
          "metadata": {}
        },
        {
          "output_type": "display_data",
          "data": {
            "text/plain": [
              "Epoch:  \u001b[1;36m29\u001b[0m Batch:  \u001b[1;36m200\u001b[0m Loss:  \u001b[1;36m0.3480943441390991\u001b[0m\n"
            ],
            "text/html": [
              "<pre style=\"white-space:pre;overflow-x:auto;line-height:normal;font-family:Menlo,'DejaVu Sans Mono',consolas,'Courier New',monospace\">Epoch:  <span style=\"color: #008080; text-decoration-color: #008080; font-weight: bold\">29</span> Batch:  <span style=\"color: #008080; text-decoration-color: #008080; font-weight: bold\">200</span> Loss:  <span style=\"color: #008080; text-decoration-color: #008080; font-weight: bold\">0.3480943441390991</span>\n",
              "</pre>\n"
            ]
          },
          "metadata": {}
        },
        {
          "output_type": "display_data",
          "data": {
            "text/plain": [
              "Epoch:  \u001b[1;36m29\u001b[0m Batch:  \u001b[1;36m300\u001b[0m Loss:  \u001b[1;36m0.4359084665775299\u001b[0m\n"
            ],
            "text/html": [
              "<pre style=\"white-space:pre;overflow-x:auto;line-height:normal;font-family:Menlo,'DejaVu Sans Mono',consolas,'Courier New',monospace\">Epoch:  <span style=\"color: #008080; text-decoration-color: #008080; font-weight: bold\">29</span> Batch:  <span style=\"color: #008080; text-decoration-color: #008080; font-weight: bold\">300</span> Loss:  <span style=\"color: #008080; text-decoration-color: #008080; font-weight: bold\">0.4359084665775299</span>\n",
              "</pre>\n"
            ]
          },
          "metadata": {}
        },
        {
          "output_type": "display_data",
          "data": {
            "text/plain": [
              "Epoch:  \u001b[1;36m29\u001b[0m Batch:  \u001b[1;36m400\u001b[0m Loss:  \u001b[1;36m0.49125489592552185\u001b[0m\n"
            ],
            "text/html": [
              "<pre style=\"white-space:pre;overflow-x:auto;line-height:normal;font-family:Menlo,'DejaVu Sans Mono',consolas,'Courier New',monospace\">Epoch:  <span style=\"color: #008080; text-decoration-color: #008080; font-weight: bold\">29</span> Batch:  <span style=\"color: #008080; text-decoration-color: #008080; font-weight: bold\">400</span> Loss:  <span style=\"color: #008080; text-decoration-color: #008080; font-weight: bold\">0.49125489592552185</span>\n",
              "</pre>\n"
            ]
          },
          "metadata": {}
        },
        {
          "output_type": "display_data",
          "data": {
            "text/plain": [
              "Epoch:  \u001b[1;36m30\u001b[0m Batch:  \u001b[1;36m0\u001b[0m Loss:  \u001b[1;36m0.6578986048698425\u001b[0m\n"
            ],
            "text/html": [
              "<pre style=\"white-space:pre;overflow-x:auto;line-height:normal;font-family:Menlo,'DejaVu Sans Mono',consolas,'Courier New',monospace\">Epoch:  <span style=\"color: #008080; text-decoration-color: #008080; font-weight: bold\">30</span> Batch:  <span style=\"color: #008080; text-decoration-color: #008080; font-weight: bold\">0</span> Loss:  <span style=\"color: #008080; text-decoration-color: #008080; font-weight: bold\">0.6578986048698425</span>\n",
              "</pre>\n"
            ]
          },
          "metadata": {}
        },
        {
          "output_type": "display_data",
          "data": {
            "text/plain": [
              "Epoch:  \u001b[1;36m30\u001b[0m Batch:  \u001b[1;36m100\u001b[0m Loss:  \u001b[1;36m0.3713237941265106\u001b[0m\n"
            ],
            "text/html": [
              "<pre style=\"white-space:pre;overflow-x:auto;line-height:normal;font-family:Menlo,'DejaVu Sans Mono',consolas,'Courier New',monospace\">Epoch:  <span style=\"color: #008080; text-decoration-color: #008080; font-weight: bold\">30</span> Batch:  <span style=\"color: #008080; text-decoration-color: #008080; font-weight: bold\">100</span> Loss:  <span style=\"color: #008080; text-decoration-color: #008080; font-weight: bold\">0.3713237941265106</span>\n",
              "</pre>\n"
            ]
          },
          "metadata": {}
        },
        {
          "output_type": "display_data",
          "data": {
            "text/plain": [
              "Epoch:  \u001b[1;36m30\u001b[0m Batch:  \u001b[1;36m200\u001b[0m Loss:  \u001b[1;36m0.45695725083351135\u001b[0m\n"
            ],
            "text/html": [
              "<pre style=\"white-space:pre;overflow-x:auto;line-height:normal;font-family:Menlo,'DejaVu Sans Mono',consolas,'Courier New',monospace\">Epoch:  <span style=\"color: #008080; text-decoration-color: #008080; font-weight: bold\">30</span> Batch:  <span style=\"color: #008080; text-decoration-color: #008080; font-weight: bold\">200</span> Loss:  <span style=\"color: #008080; text-decoration-color: #008080; font-weight: bold\">0.45695725083351135</span>\n",
              "</pre>\n"
            ]
          },
          "metadata": {}
        },
        {
          "output_type": "display_data",
          "data": {
            "text/plain": [
              "Epoch:  \u001b[1;36m30\u001b[0m Batch:  \u001b[1;36m300\u001b[0m Loss:  \u001b[1;36m0.44064146280288696\u001b[0m\n"
            ],
            "text/html": [
              "<pre style=\"white-space:pre;overflow-x:auto;line-height:normal;font-family:Menlo,'DejaVu Sans Mono',consolas,'Courier New',monospace\">Epoch:  <span style=\"color: #008080; text-decoration-color: #008080; font-weight: bold\">30</span> Batch:  <span style=\"color: #008080; text-decoration-color: #008080; font-weight: bold\">300</span> Loss:  <span style=\"color: #008080; text-decoration-color: #008080; font-weight: bold\">0.44064146280288696</span>\n",
              "</pre>\n"
            ]
          },
          "metadata": {}
        },
        {
          "output_type": "display_data",
          "data": {
            "text/plain": [
              "Epoch:  \u001b[1;36m30\u001b[0m Batch:  \u001b[1;36m400\u001b[0m Loss:  \u001b[1;36m0.4133099913597107\u001b[0m\n"
            ],
            "text/html": [
              "<pre style=\"white-space:pre;overflow-x:auto;line-height:normal;font-family:Menlo,'DejaVu Sans Mono',consolas,'Courier New',monospace\">Epoch:  <span style=\"color: #008080; text-decoration-color: #008080; font-weight: bold\">30</span> Batch:  <span style=\"color: #008080; text-decoration-color: #008080; font-weight: bold\">400</span> Loss:  <span style=\"color: #008080; text-decoration-color: #008080; font-weight: bold\">0.4133099913597107</span>\n",
              "</pre>\n"
            ]
          },
          "metadata": {}
        },
        {
          "output_type": "display_data",
          "data": {
            "text/plain": [
              "Epoch:  \u001b[1;36m31\u001b[0m Batch:  \u001b[1;36m0\u001b[0m Loss:  \u001b[1;36m0.18737180531024933\u001b[0m\n"
            ],
            "text/html": [
              "<pre style=\"white-space:pre;overflow-x:auto;line-height:normal;font-family:Menlo,'DejaVu Sans Mono',consolas,'Courier New',monospace\">Epoch:  <span style=\"color: #008080; text-decoration-color: #008080; font-weight: bold\">31</span> Batch:  <span style=\"color: #008080; text-decoration-color: #008080; font-weight: bold\">0</span> Loss:  <span style=\"color: #008080; text-decoration-color: #008080; font-weight: bold\">0.18737180531024933</span>\n",
              "</pre>\n"
            ]
          },
          "metadata": {}
        },
        {
          "output_type": "display_data",
          "data": {
            "text/plain": [
              "Epoch:  \u001b[1;36m31\u001b[0m Batch:  \u001b[1;36m100\u001b[0m Loss:  \u001b[1;36m0.23221361637115479\u001b[0m\n"
            ],
            "text/html": [
              "<pre style=\"white-space:pre;overflow-x:auto;line-height:normal;font-family:Menlo,'DejaVu Sans Mono',consolas,'Courier New',monospace\">Epoch:  <span style=\"color: #008080; text-decoration-color: #008080; font-weight: bold\">31</span> Batch:  <span style=\"color: #008080; text-decoration-color: #008080; font-weight: bold\">100</span> Loss:  <span style=\"color: #008080; text-decoration-color: #008080; font-weight: bold\">0.23221361637115479</span>\n",
              "</pre>\n"
            ]
          },
          "metadata": {}
        },
        {
          "output_type": "display_data",
          "data": {
            "text/plain": [
              "Epoch:  \u001b[1;36m31\u001b[0m Batch:  \u001b[1;36m200\u001b[0m Loss:  \u001b[1;36m0.8075100779533386\u001b[0m\n"
            ],
            "text/html": [
              "<pre style=\"white-space:pre;overflow-x:auto;line-height:normal;font-family:Menlo,'DejaVu Sans Mono',consolas,'Courier New',monospace\">Epoch:  <span style=\"color: #008080; text-decoration-color: #008080; font-weight: bold\">31</span> Batch:  <span style=\"color: #008080; text-decoration-color: #008080; font-weight: bold\">200</span> Loss:  <span style=\"color: #008080; text-decoration-color: #008080; font-weight: bold\">0.8075100779533386</span>\n",
              "</pre>\n"
            ]
          },
          "metadata": {}
        },
        {
          "output_type": "display_data",
          "data": {
            "text/plain": [
              "Epoch:  \u001b[1;36m31\u001b[0m Batch:  \u001b[1;36m300\u001b[0m Loss:  \u001b[1;36m0.5707651972770691\u001b[0m\n"
            ],
            "text/html": [
              "<pre style=\"white-space:pre;overflow-x:auto;line-height:normal;font-family:Menlo,'DejaVu Sans Mono',consolas,'Courier New',monospace\">Epoch:  <span style=\"color: #008080; text-decoration-color: #008080; font-weight: bold\">31</span> Batch:  <span style=\"color: #008080; text-decoration-color: #008080; font-weight: bold\">300</span> Loss:  <span style=\"color: #008080; text-decoration-color: #008080; font-weight: bold\">0.5707651972770691</span>\n",
              "</pre>\n"
            ]
          },
          "metadata": {}
        },
        {
          "output_type": "display_data",
          "data": {
            "text/plain": [
              "Epoch:  \u001b[1;36m31\u001b[0m Batch:  \u001b[1;36m400\u001b[0m Loss:  \u001b[1;36m0.5288652777671814\u001b[0m\n"
            ],
            "text/html": [
              "<pre style=\"white-space:pre;overflow-x:auto;line-height:normal;font-family:Menlo,'DejaVu Sans Mono',consolas,'Courier New',monospace\">Epoch:  <span style=\"color: #008080; text-decoration-color: #008080; font-weight: bold\">31</span> Batch:  <span style=\"color: #008080; text-decoration-color: #008080; font-weight: bold\">400</span> Loss:  <span style=\"color: #008080; text-decoration-color: #008080; font-weight: bold\">0.5288652777671814</span>\n",
              "</pre>\n"
            ]
          },
          "metadata": {}
        },
        {
          "output_type": "display_data",
          "data": {
            "text/plain": [
              "Epoch:  \u001b[1;36m32\u001b[0m Batch:  \u001b[1;36m0\u001b[0m Loss:  \u001b[1;36m0.5537043213844299\u001b[0m\n"
            ],
            "text/html": [
              "<pre style=\"white-space:pre;overflow-x:auto;line-height:normal;font-family:Menlo,'DejaVu Sans Mono',consolas,'Courier New',monospace\">Epoch:  <span style=\"color: #008080; text-decoration-color: #008080; font-weight: bold\">32</span> Batch:  <span style=\"color: #008080; text-decoration-color: #008080; font-weight: bold\">0</span> Loss:  <span style=\"color: #008080; text-decoration-color: #008080; font-weight: bold\">0.5537043213844299</span>\n",
              "</pre>\n"
            ]
          },
          "metadata": {}
        },
        {
          "output_type": "display_data",
          "data": {
            "text/plain": [
              "Epoch:  \u001b[1;36m32\u001b[0m Batch:  \u001b[1;36m100\u001b[0m Loss:  \u001b[1;36m0.2870200574398041\u001b[0m\n"
            ],
            "text/html": [
              "<pre style=\"white-space:pre;overflow-x:auto;line-height:normal;font-family:Menlo,'DejaVu Sans Mono',consolas,'Courier New',monospace\">Epoch:  <span style=\"color: #008080; text-decoration-color: #008080; font-weight: bold\">32</span> Batch:  <span style=\"color: #008080; text-decoration-color: #008080; font-weight: bold\">100</span> Loss:  <span style=\"color: #008080; text-decoration-color: #008080; font-weight: bold\">0.2870200574398041</span>\n",
              "</pre>\n"
            ]
          },
          "metadata": {}
        },
        {
          "output_type": "display_data",
          "data": {
            "text/plain": [
              "Epoch:  \u001b[1;36m32\u001b[0m Batch:  \u001b[1;36m200\u001b[0m Loss:  \u001b[1;36m0.3079235851764679\u001b[0m\n"
            ],
            "text/html": [
              "<pre style=\"white-space:pre;overflow-x:auto;line-height:normal;font-family:Menlo,'DejaVu Sans Mono',consolas,'Courier New',monospace\">Epoch:  <span style=\"color: #008080; text-decoration-color: #008080; font-weight: bold\">32</span> Batch:  <span style=\"color: #008080; text-decoration-color: #008080; font-weight: bold\">200</span> Loss:  <span style=\"color: #008080; text-decoration-color: #008080; font-weight: bold\">0.3079235851764679</span>\n",
              "</pre>\n"
            ]
          },
          "metadata": {}
        },
        {
          "output_type": "display_data",
          "data": {
            "text/plain": [
              "Epoch:  \u001b[1;36m32\u001b[0m Batch:  \u001b[1;36m300\u001b[0m Loss:  \u001b[1;36m0.5089036822319031\u001b[0m\n"
            ],
            "text/html": [
              "<pre style=\"white-space:pre;overflow-x:auto;line-height:normal;font-family:Menlo,'DejaVu Sans Mono',consolas,'Courier New',monospace\">Epoch:  <span style=\"color: #008080; text-decoration-color: #008080; font-weight: bold\">32</span> Batch:  <span style=\"color: #008080; text-decoration-color: #008080; font-weight: bold\">300</span> Loss:  <span style=\"color: #008080; text-decoration-color: #008080; font-weight: bold\">0.5089036822319031</span>\n",
              "</pre>\n"
            ]
          },
          "metadata": {}
        },
        {
          "output_type": "display_data",
          "data": {
            "text/plain": [
              "Epoch:  \u001b[1;36m32\u001b[0m Batch:  \u001b[1;36m400\u001b[0m Loss:  \u001b[1;36m0.49203553795814514\u001b[0m\n"
            ],
            "text/html": [
              "<pre style=\"white-space:pre;overflow-x:auto;line-height:normal;font-family:Menlo,'DejaVu Sans Mono',consolas,'Courier New',monospace\">Epoch:  <span style=\"color: #008080; text-decoration-color: #008080; font-weight: bold\">32</span> Batch:  <span style=\"color: #008080; text-decoration-color: #008080; font-weight: bold\">400</span> Loss:  <span style=\"color: #008080; text-decoration-color: #008080; font-weight: bold\">0.49203553795814514</span>\n",
              "</pre>\n"
            ]
          },
          "metadata": {}
        },
        {
          "output_type": "display_data",
          "data": {
            "text/plain": [
              "Epoch:  \u001b[1;36m33\u001b[0m Batch:  \u001b[1;36m0\u001b[0m Loss:  \u001b[1;36m0.36453142762184143\u001b[0m\n"
            ],
            "text/html": [
              "<pre style=\"white-space:pre;overflow-x:auto;line-height:normal;font-family:Menlo,'DejaVu Sans Mono',consolas,'Courier New',monospace\">Epoch:  <span style=\"color: #008080; text-decoration-color: #008080; font-weight: bold\">33</span> Batch:  <span style=\"color: #008080; text-decoration-color: #008080; font-weight: bold\">0</span> Loss:  <span style=\"color: #008080; text-decoration-color: #008080; font-weight: bold\">0.36453142762184143</span>\n",
              "</pre>\n"
            ]
          },
          "metadata": {}
        },
        {
          "output_type": "display_data",
          "data": {
            "text/plain": [
              "Epoch:  \u001b[1;36m33\u001b[0m Batch:  \u001b[1;36m100\u001b[0m Loss:  \u001b[1;36m0.3495859205722809\u001b[0m\n"
            ],
            "text/html": [
              "<pre style=\"white-space:pre;overflow-x:auto;line-height:normal;font-family:Menlo,'DejaVu Sans Mono',consolas,'Courier New',monospace\">Epoch:  <span style=\"color: #008080; text-decoration-color: #008080; font-weight: bold\">33</span> Batch:  <span style=\"color: #008080; text-decoration-color: #008080; font-weight: bold\">100</span> Loss:  <span style=\"color: #008080; text-decoration-color: #008080; font-weight: bold\">0.3495859205722809</span>\n",
              "</pre>\n"
            ]
          },
          "metadata": {}
        },
        {
          "output_type": "display_data",
          "data": {
            "text/plain": [
              "Epoch:  \u001b[1;36m33\u001b[0m Batch:  \u001b[1;36m200\u001b[0m Loss:  \u001b[1;36m0.5069308280944824\u001b[0m\n"
            ],
            "text/html": [
              "<pre style=\"white-space:pre;overflow-x:auto;line-height:normal;font-family:Menlo,'DejaVu Sans Mono',consolas,'Courier New',monospace\">Epoch:  <span style=\"color: #008080; text-decoration-color: #008080; font-weight: bold\">33</span> Batch:  <span style=\"color: #008080; text-decoration-color: #008080; font-weight: bold\">200</span> Loss:  <span style=\"color: #008080; text-decoration-color: #008080; font-weight: bold\">0.5069308280944824</span>\n",
              "</pre>\n"
            ]
          },
          "metadata": {}
        },
        {
          "output_type": "display_data",
          "data": {
            "text/plain": [
              "Epoch:  \u001b[1;36m33\u001b[0m Batch:  \u001b[1;36m300\u001b[0m Loss:  \u001b[1;36m0.26362502574920654\u001b[0m\n"
            ],
            "text/html": [
              "<pre style=\"white-space:pre;overflow-x:auto;line-height:normal;font-family:Menlo,'DejaVu Sans Mono',consolas,'Courier New',monospace\">Epoch:  <span style=\"color: #008080; text-decoration-color: #008080; font-weight: bold\">33</span> Batch:  <span style=\"color: #008080; text-decoration-color: #008080; font-weight: bold\">300</span> Loss:  <span style=\"color: #008080; text-decoration-color: #008080; font-weight: bold\">0.26362502574920654</span>\n",
              "</pre>\n"
            ]
          },
          "metadata": {}
        },
        {
          "output_type": "display_data",
          "data": {
            "text/plain": [
              "Epoch:  \u001b[1;36m33\u001b[0m Batch:  \u001b[1;36m400\u001b[0m Loss:  \u001b[1;36m0.31994807720184326\u001b[0m\n"
            ],
            "text/html": [
              "<pre style=\"white-space:pre;overflow-x:auto;line-height:normal;font-family:Menlo,'DejaVu Sans Mono',consolas,'Courier New',monospace\">Epoch:  <span style=\"color: #008080; text-decoration-color: #008080; font-weight: bold\">33</span> Batch:  <span style=\"color: #008080; text-decoration-color: #008080; font-weight: bold\">400</span> Loss:  <span style=\"color: #008080; text-decoration-color: #008080; font-weight: bold\">0.31994807720184326</span>\n",
              "</pre>\n"
            ]
          },
          "metadata": {}
        },
        {
          "output_type": "display_data",
          "data": {
            "text/plain": [
              "Epoch:  \u001b[1;36m34\u001b[0m Batch:  \u001b[1;36m0\u001b[0m Loss:  \u001b[1;36m0.45936319231987\u001b[0m\n"
            ],
            "text/html": [
              "<pre style=\"white-space:pre;overflow-x:auto;line-height:normal;font-family:Menlo,'DejaVu Sans Mono',consolas,'Courier New',monospace\">Epoch:  <span style=\"color: #008080; text-decoration-color: #008080; font-weight: bold\">34</span> Batch:  <span style=\"color: #008080; text-decoration-color: #008080; font-weight: bold\">0</span> Loss:  <span style=\"color: #008080; text-decoration-color: #008080; font-weight: bold\">0.45936319231987</span>\n",
              "</pre>\n"
            ]
          },
          "metadata": {}
        },
        {
          "output_type": "display_data",
          "data": {
            "text/plain": [
              "Epoch:  \u001b[1;36m34\u001b[0m Batch:  \u001b[1;36m100\u001b[0m Loss:  \u001b[1;36m0.41844257712364197\u001b[0m\n"
            ],
            "text/html": [
              "<pre style=\"white-space:pre;overflow-x:auto;line-height:normal;font-family:Menlo,'DejaVu Sans Mono',consolas,'Courier New',monospace\">Epoch:  <span style=\"color: #008080; text-decoration-color: #008080; font-weight: bold\">34</span> Batch:  <span style=\"color: #008080; text-decoration-color: #008080; font-weight: bold\">100</span> Loss:  <span style=\"color: #008080; text-decoration-color: #008080; font-weight: bold\">0.41844257712364197</span>\n",
              "</pre>\n"
            ]
          },
          "metadata": {}
        },
        {
          "output_type": "display_data",
          "data": {
            "text/plain": [
              "Epoch:  \u001b[1;36m34\u001b[0m Batch:  \u001b[1;36m200\u001b[0m Loss:  \u001b[1;36m0.3629348576068878\u001b[0m\n"
            ],
            "text/html": [
              "<pre style=\"white-space:pre;overflow-x:auto;line-height:normal;font-family:Menlo,'DejaVu Sans Mono',consolas,'Courier New',monospace\">Epoch:  <span style=\"color: #008080; text-decoration-color: #008080; font-weight: bold\">34</span> Batch:  <span style=\"color: #008080; text-decoration-color: #008080; font-weight: bold\">200</span> Loss:  <span style=\"color: #008080; text-decoration-color: #008080; font-weight: bold\">0.3629348576068878</span>\n",
              "</pre>\n"
            ]
          },
          "metadata": {}
        },
        {
          "output_type": "display_data",
          "data": {
            "text/plain": [
              "Epoch:  \u001b[1;36m34\u001b[0m Batch:  \u001b[1;36m300\u001b[0m Loss:  \u001b[1;36m0.2295847088098526\u001b[0m\n"
            ],
            "text/html": [
              "<pre style=\"white-space:pre;overflow-x:auto;line-height:normal;font-family:Menlo,'DejaVu Sans Mono',consolas,'Courier New',monospace\">Epoch:  <span style=\"color: #008080; text-decoration-color: #008080; font-weight: bold\">34</span> Batch:  <span style=\"color: #008080; text-decoration-color: #008080; font-weight: bold\">300</span> Loss:  <span style=\"color: #008080; text-decoration-color: #008080; font-weight: bold\">0.2295847088098526</span>\n",
              "</pre>\n"
            ]
          },
          "metadata": {}
        },
        {
          "output_type": "display_data",
          "data": {
            "text/plain": [
              "Epoch:  \u001b[1;36m34\u001b[0m Batch:  \u001b[1;36m400\u001b[0m Loss:  \u001b[1;36m0.3636372983455658\u001b[0m\n"
            ],
            "text/html": [
              "<pre style=\"white-space:pre;overflow-x:auto;line-height:normal;font-family:Menlo,'DejaVu Sans Mono',consolas,'Courier New',monospace\">Epoch:  <span style=\"color: #008080; text-decoration-color: #008080; font-weight: bold\">34</span> Batch:  <span style=\"color: #008080; text-decoration-color: #008080; font-weight: bold\">400</span> Loss:  <span style=\"color: #008080; text-decoration-color: #008080; font-weight: bold\">0.3636372983455658</span>\n",
              "</pre>\n"
            ]
          },
          "metadata": {}
        },
        {
          "output_type": "display_data",
          "data": {
            "text/plain": [
              "Epoch:  \u001b[1;36m35\u001b[0m Batch:  \u001b[1;36m0\u001b[0m Loss:  \u001b[1;36m0.41553688049316406\u001b[0m\n"
            ],
            "text/html": [
              "<pre style=\"white-space:pre;overflow-x:auto;line-height:normal;font-family:Menlo,'DejaVu Sans Mono',consolas,'Courier New',monospace\">Epoch:  <span style=\"color: #008080; text-decoration-color: #008080; font-weight: bold\">35</span> Batch:  <span style=\"color: #008080; text-decoration-color: #008080; font-weight: bold\">0</span> Loss:  <span style=\"color: #008080; text-decoration-color: #008080; font-weight: bold\">0.41553688049316406</span>\n",
              "</pre>\n"
            ]
          },
          "metadata": {}
        },
        {
          "output_type": "display_data",
          "data": {
            "text/plain": [
              "Epoch:  \u001b[1;36m35\u001b[0m Batch:  \u001b[1;36m100\u001b[0m Loss:  \u001b[1;36m0.3262350261211395\u001b[0m\n"
            ],
            "text/html": [
              "<pre style=\"white-space:pre;overflow-x:auto;line-height:normal;font-family:Menlo,'DejaVu Sans Mono',consolas,'Courier New',monospace\">Epoch:  <span style=\"color: #008080; text-decoration-color: #008080; font-weight: bold\">35</span> Batch:  <span style=\"color: #008080; text-decoration-color: #008080; font-weight: bold\">100</span> Loss:  <span style=\"color: #008080; text-decoration-color: #008080; font-weight: bold\">0.3262350261211395</span>\n",
              "</pre>\n"
            ]
          },
          "metadata": {}
        },
        {
          "output_type": "display_data",
          "data": {
            "text/plain": [
              "Epoch:  \u001b[1;36m35\u001b[0m Batch:  \u001b[1;36m200\u001b[0m Loss:  \u001b[1;36m0.29359593987464905\u001b[0m\n"
            ],
            "text/html": [
              "<pre style=\"white-space:pre;overflow-x:auto;line-height:normal;font-family:Menlo,'DejaVu Sans Mono',consolas,'Courier New',monospace\">Epoch:  <span style=\"color: #008080; text-decoration-color: #008080; font-weight: bold\">35</span> Batch:  <span style=\"color: #008080; text-decoration-color: #008080; font-weight: bold\">200</span> Loss:  <span style=\"color: #008080; text-decoration-color: #008080; font-weight: bold\">0.29359593987464905</span>\n",
              "</pre>\n"
            ]
          },
          "metadata": {}
        },
        {
          "output_type": "display_data",
          "data": {
            "text/plain": [
              "Epoch:  \u001b[1;36m35\u001b[0m Batch:  \u001b[1;36m300\u001b[0m Loss:  \u001b[1;36m0.35263440012931824\u001b[0m\n"
            ],
            "text/html": [
              "<pre style=\"white-space:pre;overflow-x:auto;line-height:normal;font-family:Menlo,'DejaVu Sans Mono',consolas,'Courier New',monospace\">Epoch:  <span style=\"color: #008080; text-decoration-color: #008080; font-weight: bold\">35</span> Batch:  <span style=\"color: #008080; text-decoration-color: #008080; font-weight: bold\">300</span> Loss:  <span style=\"color: #008080; text-decoration-color: #008080; font-weight: bold\">0.35263440012931824</span>\n",
              "</pre>\n"
            ]
          },
          "metadata": {}
        },
        {
          "output_type": "display_data",
          "data": {
            "text/plain": [
              "Epoch:  \u001b[1;36m35\u001b[0m Batch:  \u001b[1;36m400\u001b[0m Loss:  \u001b[1;36m0.3379952311515808\u001b[0m\n"
            ],
            "text/html": [
              "<pre style=\"white-space:pre;overflow-x:auto;line-height:normal;font-family:Menlo,'DejaVu Sans Mono',consolas,'Courier New',monospace\">Epoch:  <span style=\"color: #008080; text-decoration-color: #008080; font-weight: bold\">35</span> Batch:  <span style=\"color: #008080; text-decoration-color: #008080; font-weight: bold\">400</span> Loss:  <span style=\"color: #008080; text-decoration-color: #008080; font-weight: bold\">0.3379952311515808</span>\n",
              "</pre>\n"
            ]
          },
          "metadata": {}
        },
        {
          "output_type": "display_data",
          "data": {
            "text/plain": [
              "Epoch:  \u001b[1;36m36\u001b[0m Batch:  \u001b[1;36m0\u001b[0m Loss:  \u001b[1;36m0.2329930067062378\u001b[0m\n"
            ],
            "text/html": [
              "<pre style=\"white-space:pre;overflow-x:auto;line-height:normal;font-family:Menlo,'DejaVu Sans Mono',consolas,'Courier New',monospace\">Epoch:  <span style=\"color: #008080; text-decoration-color: #008080; font-weight: bold\">36</span> Batch:  <span style=\"color: #008080; text-decoration-color: #008080; font-weight: bold\">0</span> Loss:  <span style=\"color: #008080; text-decoration-color: #008080; font-weight: bold\">0.2329930067062378</span>\n",
              "</pre>\n"
            ]
          },
          "metadata": {}
        },
        {
          "output_type": "display_data",
          "data": {
            "text/plain": [
              "Epoch:  \u001b[1;36m36\u001b[0m Batch:  \u001b[1;36m100\u001b[0m Loss:  \u001b[1;36m0.2481638342142105\u001b[0m\n"
            ],
            "text/html": [
              "<pre style=\"white-space:pre;overflow-x:auto;line-height:normal;font-family:Menlo,'DejaVu Sans Mono',consolas,'Courier New',monospace\">Epoch:  <span style=\"color: #008080; text-decoration-color: #008080; font-weight: bold\">36</span> Batch:  <span style=\"color: #008080; text-decoration-color: #008080; font-weight: bold\">100</span> Loss:  <span style=\"color: #008080; text-decoration-color: #008080; font-weight: bold\">0.2481638342142105</span>\n",
              "</pre>\n"
            ]
          },
          "metadata": {}
        },
        {
          "output_type": "display_data",
          "data": {
            "text/plain": [
              "Epoch:  \u001b[1;36m36\u001b[0m Batch:  \u001b[1;36m200\u001b[0m Loss:  \u001b[1;36m0.488695353269577\u001b[0m\n"
            ],
            "text/html": [
              "<pre style=\"white-space:pre;overflow-x:auto;line-height:normal;font-family:Menlo,'DejaVu Sans Mono',consolas,'Courier New',monospace\">Epoch:  <span style=\"color: #008080; text-decoration-color: #008080; font-weight: bold\">36</span> Batch:  <span style=\"color: #008080; text-decoration-color: #008080; font-weight: bold\">200</span> Loss:  <span style=\"color: #008080; text-decoration-color: #008080; font-weight: bold\">0.488695353269577</span>\n",
              "</pre>\n"
            ]
          },
          "metadata": {}
        },
        {
          "output_type": "display_data",
          "data": {
            "text/plain": [
              "Epoch:  \u001b[1;36m36\u001b[0m Batch:  \u001b[1;36m300\u001b[0m Loss:  \u001b[1;36m0.3006795048713684\u001b[0m\n"
            ],
            "text/html": [
              "<pre style=\"white-space:pre;overflow-x:auto;line-height:normal;font-family:Menlo,'DejaVu Sans Mono',consolas,'Courier New',monospace\">Epoch:  <span style=\"color: #008080; text-decoration-color: #008080; font-weight: bold\">36</span> Batch:  <span style=\"color: #008080; text-decoration-color: #008080; font-weight: bold\">300</span> Loss:  <span style=\"color: #008080; text-decoration-color: #008080; font-weight: bold\">0.3006795048713684</span>\n",
              "</pre>\n"
            ]
          },
          "metadata": {}
        },
        {
          "output_type": "display_data",
          "data": {
            "text/plain": [
              "Epoch:  \u001b[1;36m36\u001b[0m Batch:  \u001b[1;36m400\u001b[0m Loss:  \u001b[1;36m0.32728996872901917\u001b[0m\n"
            ],
            "text/html": [
              "<pre style=\"white-space:pre;overflow-x:auto;line-height:normal;font-family:Menlo,'DejaVu Sans Mono',consolas,'Courier New',monospace\">Epoch:  <span style=\"color: #008080; text-decoration-color: #008080; font-weight: bold\">36</span> Batch:  <span style=\"color: #008080; text-decoration-color: #008080; font-weight: bold\">400</span> Loss:  <span style=\"color: #008080; text-decoration-color: #008080; font-weight: bold\">0.32728996872901917</span>\n",
              "</pre>\n"
            ]
          },
          "metadata": {}
        },
        {
          "output_type": "display_data",
          "data": {
            "text/plain": [
              "Epoch:  \u001b[1;36m37\u001b[0m Batch:  \u001b[1;36m0\u001b[0m Loss:  \u001b[1;36m0.16857995092868805\u001b[0m\n"
            ],
            "text/html": [
              "<pre style=\"white-space:pre;overflow-x:auto;line-height:normal;font-family:Menlo,'DejaVu Sans Mono',consolas,'Courier New',monospace\">Epoch:  <span style=\"color: #008080; text-decoration-color: #008080; font-weight: bold\">37</span> Batch:  <span style=\"color: #008080; text-decoration-color: #008080; font-weight: bold\">0</span> Loss:  <span style=\"color: #008080; text-decoration-color: #008080; font-weight: bold\">0.16857995092868805</span>\n",
              "</pre>\n"
            ]
          },
          "metadata": {}
        },
        {
          "output_type": "display_data",
          "data": {
            "text/plain": [
              "Epoch:  \u001b[1;36m37\u001b[0m Batch:  \u001b[1;36m100\u001b[0m Loss:  \u001b[1;36m0.4662316143512726\u001b[0m\n"
            ],
            "text/html": [
              "<pre style=\"white-space:pre;overflow-x:auto;line-height:normal;font-family:Menlo,'DejaVu Sans Mono',consolas,'Courier New',monospace\">Epoch:  <span style=\"color: #008080; text-decoration-color: #008080; font-weight: bold\">37</span> Batch:  <span style=\"color: #008080; text-decoration-color: #008080; font-weight: bold\">100</span> Loss:  <span style=\"color: #008080; text-decoration-color: #008080; font-weight: bold\">0.4662316143512726</span>\n",
              "</pre>\n"
            ]
          },
          "metadata": {}
        },
        {
          "output_type": "display_data",
          "data": {
            "text/plain": [
              "Epoch:  \u001b[1;36m37\u001b[0m Batch:  \u001b[1;36m200\u001b[0m Loss:  \u001b[1;36m0.39118653535842896\u001b[0m\n"
            ],
            "text/html": [
              "<pre style=\"white-space:pre;overflow-x:auto;line-height:normal;font-family:Menlo,'DejaVu Sans Mono',consolas,'Courier New',monospace\">Epoch:  <span style=\"color: #008080; text-decoration-color: #008080; font-weight: bold\">37</span> Batch:  <span style=\"color: #008080; text-decoration-color: #008080; font-weight: bold\">200</span> Loss:  <span style=\"color: #008080; text-decoration-color: #008080; font-weight: bold\">0.39118653535842896</span>\n",
              "</pre>\n"
            ]
          },
          "metadata": {}
        },
        {
          "output_type": "display_data",
          "data": {
            "text/plain": [
              "Epoch:  \u001b[1;36m37\u001b[0m Batch:  \u001b[1;36m300\u001b[0m Loss:  \u001b[1;36m0.15814825892448425\u001b[0m\n"
            ],
            "text/html": [
              "<pre style=\"white-space:pre;overflow-x:auto;line-height:normal;font-family:Menlo,'DejaVu Sans Mono',consolas,'Courier New',monospace\">Epoch:  <span style=\"color: #008080; text-decoration-color: #008080; font-weight: bold\">37</span> Batch:  <span style=\"color: #008080; text-decoration-color: #008080; font-weight: bold\">300</span> Loss:  <span style=\"color: #008080; text-decoration-color: #008080; font-weight: bold\">0.15814825892448425</span>\n",
              "</pre>\n"
            ]
          },
          "metadata": {}
        },
        {
          "output_type": "display_data",
          "data": {
            "text/plain": [
              "Epoch:  \u001b[1;36m37\u001b[0m Batch:  \u001b[1;36m400\u001b[0m Loss:  \u001b[1;36m0.2710009813308716\u001b[0m\n"
            ],
            "text/html": [
              "<pre style=\"white-space:pre;overflow-x:auto;line-height:normal;font-family:Menlo,'DejaVu Sans Mono',consolas,'Courier New',monospace\">Epoch:  <span style=\"color: #008080; text-decoration-color: #008080; font-weight: bold\">37</span> Batch:  <span style=\"color: #008080; text-decoration-color: #008080; font-weight: bold\">400</span> Loss:  <span style=\"color: #008080; text-decoration-color: #008080; font-weight: bold\">0.2710009813308716</span>\n",
              "</pre>\n"
            ]
          },
          "metadata": {}
        },
        {
          "output_type": "display_data",
          "data": {
            "text/plain": [
              "Epoch:  \u001b[1;36m38\u001b[0m Batch:  \u001b[1;36m0\u001b[0m Loss:  \u001b[1;36m0.274070143699646\u001b[0m\n"
            ],
            "text/html": [
              "<pre style=\"white-space:pre;overflow-x:auto;line-height:normal;font-family:Menlo,'DejaVu Sans Mono',consolas,'Courier New',monospace\">Epoch:  <span style=\"color: #008080; text-decoration-color: #008080; font-weight: bold\">38</span> Batch:  <span style=\"color: #008080; text-decoration-color: #008080; font-weight: bold\">0</span> Loss:  <span style=\"color: #008080; text-decoration-color: #008080; font-weight: bold\">0.274070143699646</span>\n",
              "</pre>\n"
            ]
          },
          "metadata": {}
        },
        {
          "output_type": "display_data",
          "data": {
            "text/plain": [
              "Epoch:  \u001b[1;36m38\u001b[0m Batch:  \u001b[1;36m100\u001b[0m Loss:  \u001b[1;36m0.19750985503196716\u001b[0m\n"
            ],
            "text/html": [
              "<pre style=\"white-space:pre;overflow-x:auto;line-height:normal;font-family:Menlo,'DejaVu Sans Mono',consolas,'Courier New',monospace\">Epoch:  <span style=\"color: #008080; text-decoration-color: #008080; font-weight: bold\">38</span> Batch:  <span style=\"color: #008080; text-decoration-color: #008080; font-weight: bold\">100</span> Loss:  <span style=\"color: #008080; text-decoration-color: #008080; font-weight: bold\">0.19750985503196716</span>\n",
              "</pre>\n"
            ]
          },
          "metadata": {}
        },
        {
          "output_type": "display_data",
          "data": {
            "text/plain": [
              "Epoch:  \u001b[1;36m38\u001b[0m Batch:  \u001b[1;36m200\u001b[0m Loss:  \u001b[1;36m0.4071084260940552\u001b[0m\n"
            ],
            "text/html": [
              "<pre style=\"white-space:pre;overflow-x:auto;line-height:normal;font-family:Menlo,'DejaVu Sans Mono',consolas,'Courier New',monospace\">Epoch:  <span style=\"color: #008080; text-decoration-color: #008080; font-weight: bold\">38</span> Batch:  <span style=\"color: #008080; text-decoration-color: #008080; font-weight: bold\">200</span> Loss:  <span style=\"color: #008080; text-decoration-color: #008080; font-weight: bold\">0.4071084260940552</span>\n",
              "</pre>\n"
            ]
          },
          "metadata": {}
        },
        {
          "output_type": "display_data",
          "data": {
            "text/plain": [
              "Epoch:  \u001b[1;36m38\u001b[0m Batch:  \u001b[1;36m300\u001b[0m Loss:  \u001b[1;36m0.19700968265533447\u001b[0m\n"
            ],
            "text/html": [
              "<pre style=\"white-space:pre;overflow-x:auto;line-height:normal;font-family:Menlo,'DejaVu Sans Mono',consolas,'Courier New',monospace\">Epoch:  <span style=\"color: #008080; text-decoration-color: #008080; font-weight: bold\">38</span> Batch:  <span style=\"color: #008080; text-decoration-color: #008080; font-weight: bold\">300</span> Loss:  <span style=\"color: #008080; text-decoration-color: #008080; font-weight: bold\">0.19700968265533447</span>\n",
              "</pre>\n"
            ]
          },
          "metadata": {}
        },
        {
          "output_type": "display_data",
          "data": {
            "text/plain": [
              "Epoch:  \u001b[1;36m38\u001b[0m Batch:  \u001b[1;36m400\u001b[0m Loss:  \u001b[1;36m0.2758727967739105\u001b[0m\n"
            ],
            "text/html": [
              "<pre style=\"white-space:pre;overflow-x:auto;line-height:normal;font-family:Menlo,'DejaVu Sans Mono',consolas,'Courier New',monospace\">Epoch:  <span style=\"color: #008080; text-decoration-color: #008080; font-weight: bold\">38</span> Batch:  <span style=\"color: #008080; text-decoration-color: #008080; font-weight: bold\">400</span> Loss:  <span style=\"color: #008080; text-decoration-color: #008080; font-weight: bold\">0.2758727967739105</span>\n",
              "</pre>\n"
            ]
          },
          "metadata": {}
        },
        {
          "output_type": "display_data",
          "data": {
            "text/plain": [
              "Epoch:  \u001b[1;36m39\u001b[0m Batch:  \u001b[1;36m0\u001b[0m Loss:  \u001b[1;36m0.3071689307689667\u001b[0m\n"
            ],
            "text/html": [
              "<pre style=\"white-space:pre;overflow-x:auto;line-height:normal;font-family:Menlo,'DejaVu Sans Mono',consolas,'Courier New',monospace\">Epoch:  <span style=\"color: #008080; text-decoration-color: #008080; font-weight: bold\">39</span> Batch:  <span style=\"color: #008080; text-decoration-color: #008080; font-weight: bold\">0</span> Loss:  <span style=\"color: #008080; text-decoration-color: #008080; font-weight: bold\">0.3071689307689667</span>\n",
              "</pre>\n"
            ]
          },
          "metadata": {}
        },
        {
          "output_type": "display_data",
          "data": {
            "text/plain": [
              "Epoch:  \u001b[1;36m39\u001b[0m Batch:  \u001b[1;36m100\u001b[0m Loss:  \u001b[1;36m0.3946678042411804\u001b[0m\n"
            ],
            "text/html": [
              "<pre style=\"white-space:pre;overflow-x:auto;line-height:normal;font-family:Menlo,'DejaVu Sans Mono',consolas,'Courier New',monospace\">Epoch:  <span style=\"color: #008080; text-decoration-color: #008080; font-weight: bold\">39</span> Batch:  <span style=\"color: #008080; text-decoration-color: #008080; font-weight: bold\">100</span> Loss:  <span style=\"color: #008080; text-decoration-color: #008080; font-weight: bold\">0.3946678042411804</span>\n",
              "</pre>\n"
            ]
          },
          "metadata": {}
        },
        {
          "output_type": "display_data",
          "data": {
            "text/plain": [
              "Epoch:  \u001b[1;36m39\u001b[0m Batch:  \u001b[1;36m200\u001b[0m Loss:  \u001b[1;36m0.23446984589099884\u001b[0m\n"
            ],
            "text/html": [
              "<pre style=\"white-space:pre;overflow-x:auto;line-height:normal;font-family:Menlo,'DejaVu Sans Mono',consolas,'Courier New',monospace\">Epoch:  <span style=\"color: #008080; text-decoration-color: #008080; font-weight: bold\">39</span> Batch:  <span style=\"color: #008080; text-decoration-color: #008080; font-weight: bold\">200</span> Loss:  <span style=\"color: #008080; text-decoration-color: #008080; font-weight: bold\">0.23446984589099884</span>\n",
              "</pre>\n"
            ]
          },
          "metadata": {}
        },
        {
          "output_type": "display_data",
          "data": {
            "text/plain": [
              "Epoch:  \u001b[1;36m39\u001b[0m Batch:  \u001b[1;36m300\u001b[0m Loss:  \u001b[1;36m0.27666860818862915\u001b[0m\n"
            ],
            "text/html": [
              "<pre style=\"white-space:pre;overflow-x:auto;line-height:normal;font-family:Menlo,'DejaVu Sans Mono',consolas,'Courier New',monospace\">Epoch:  <span style=\"color: #008080; text-decoration-color: #008080; font-weight: bold\">39</span> Batch:  <span style=\"color: #008080; text-decoration-color: #008080; font-weight: bold\">300</span> Loss:  <span style=\"color: #008080; text-decoration-color: #008080; font-weight: bold\">0.27666860818862915</span>\n",
              "</pre>\n"
            ]
          },
          "metadata": {}
        },
        {
          "output_type": "display_data",
          "data": {
            "text/plain": [
              "Epoch:  \u001b[1;36m39\u001b[0m Batch:  \u001b[1;36m400\u001b[0m Loss:  \u001b[1;36m0.47334039211273193\u001b[0m\n"
            ],
            "text/html": [
              "<pre style=\"white-space:pre;overflow-x:auto;line-height:normal;font-family:Menlo,'DejaVu Sans Mono',consolas,'Courier New',monospace\">Epoch:  <span style=\"color: #008080; text-decoration-color: #008080; font-weight: bold\">39</span> Batch:  <span style=\"color: #008080; text-decoration-color: #008080; font-weight: bold\">400</span> Loss:  <span style=\"color: #008080; text-decoration-color: #008080; font-weight: bold\">0.47334039211273193</span>\n",
              "</pre>\n"
            ]
          },
          "metadata": {}
        },
        {
          "output_type": "display_data",
          "data": {
            "text/plain": [
              "Epoch:  \u001b[1;36m40\u001b[0m Batch:  \u001b[1;36m0\u001b[0m Loss:  \u001b[1;36m0.28304025530815125\u001b[0m\n"
            ],
            "text/html": [
              "<pre style=\"white-space:pre;overflow-x:auto;line-height:normal;font-family:Menlo,'DejaVu Sans Mono',consolas,'Courier New',monospace\">Epoch:  <span style=\"color: #008080; text-decoration-color: #008080; font-weight: bold\">40</span> Batch:  <span style=\"color: #008080; text-decoration-color: #008080; font-weight: bold\">0</span> Loss:  <span style=\"color: #008080; text-decoration-color: #008080; font-weight: bold\">0.28304025530815125</span>\n",
              "</pre>\n"
            ]
          },
          "metadata": {}
        },
        {
          "output_type": "display_data",
          "data": {
            "text/plain": [
              "Epoch:  \u001b[1;36m40\u001b[0m Batch:  \u001b[1;36m100\u001b[0m Loss:  \u001b[1;36m0.23069724440574646\u001b[0m\n"
            ],
            "text/html": [
              "<pre style=\"white-space:pre;overflow-x:auto;line-height:normal;font-family:Menlo,'DejaVu Sans Mono',consolas,'Courier New',monospace\">Epoch:  <span style=\"color: #008080; text-decoration-color: #008080; font-weight: bold\">40</span> Batch:  <span style=\"color: #008080; text-decoration-color: #008080; font-weight: bold\">100</span> Loss:  <span style=\"color: #008080; text-decoration-color: #008080; font-weight: bold\">0.23069724440574646</span>\n",
              "</pre>\n"
            ]
          },
          "metadata": {}
        },
        {
          "output_type": "display_data",
          "data": {
            "text/plain": [
              "Epoch:  \u001b[1;36m40\u001b[0m Batch:  \u001b[1;36m200\u001b[0m Loss:  \u001b[1;36m0.2580472528934479\u001b[0m\n"
            ],
            "text/html": [
              "<pre style=\"white-space:pre;overflow-x:auto;line-height:normal;font-family:Menlo,'DejaVu Sans Mono',consolas,'Courier New',monospace\">Epoch:  <span style=\"color: #008080; text-decoration-color: #008080; font-weight: bold\">40</span> Batch:  <span style=\"color: #008080; text-decoration-color: #008080; font-weight: bold\">200</span> Loss:  <span style=\"color: #008080; text-decoration-color: #008080; font-weight: bold\">0.2580472528934479</span>\n",
              "</pre>\n"
            ]
          },
          "metadata": {}
        },
        {
          "output_type": "display_data",
          "data": {
            "text/plain": [
              "Epoch:  \u001b[1;36m40\u001b[0m Batch:  \u001b[1;36m300\u001b[0m Loss:  \u001b[1;36m0.5995805263519287\u001b[0m\n"
            ],
            "text/html": [
              "<pre style=\"white-space:pre;overflow-x:auto;line-height:normal;font-family:Menlo,'DejaVu Sans Mono',consolas,'Courier New',monospace\">Epoch:  <span style=\"color: #008080; text-decoration-color: #008080; font-weight: bold\">40</span> Batch:  <span style=\"color: #008080; text-decoration-color: #008080; font-weight: bold\">300</span> Loss:  <span style=\"color: #008080; text-decoration-color: #008080; font-weight: bold\">0.5995805263519287</span>\n",
              "</pre>\n"
            ]
          },
          "metadata": {}
        },
        {
          "output_type": "display_data",
          "data": {
            "text/plain": [
              "Epoch:  \u001b[1;36m40\u001b[0m Batch:  \u001b[1;36m400\u001b[0m Loss:  \u001b[1;36m0.4433596134185791\u001b[0m\n"
            ],
            "text/html": [
              "<pre style=\"white-space:pre;overflow-x:auto;line-height:normal;font-family:Menlo,'DejaVu Sans Mono',consolas,'Courier New',monospace\">Epoch:  <span style=\"color: #008080; text-decoration-color: #008080; font-weight: bold\">40</span> Batch:  <span style=\"color: #008080; text-decoration-color: #008080; font-weight: bold\">400</span> Loss:  <span style=\"color: #008080; text-decoration-color: #008080; font-weight: bold\">0.4433596134185791</span>\n",
              "</pre>\n"
            ]
          },
          "metadata": {}
        },
        {
          "output_type": "display_data",
          "data": {
            "text/plain": [
              "Epoch:  \u001b[1;36m41\u001b[0m Batch:  \u001b[1;36m0\u001b[0m Loss:  \u001b[1;36m0.3914910554885864\u001b[0m\n"
            ],
            "text/html": [
              "<pre style=\"white-space:pre;overflow-x:auto;line-height:normal;font-family:Menlo,'DejaVu Sans Mono',consolas,'Courier New',monospace\">Epoch:  <span style=\"color: #008080; text-decoration-color: #008080; font-weight: bold\">41</span> Batch:  <span style=\"color: #008080; text-decoration-color: #008080; font-weight: bold\">0</span> Loss:  <span style=\"color: #008080; text-decoration-color: #008080; font-weight: bold\">0.3914910554885864</span>\n",
              "</pre>\n"
            ]
          },
          "metadata": {}
        },
        {
          "output_type": "display_data",
          "data": {
            "text/plain": [
              "Epoch:  \u001b[1;36m41\u001b[0m Batch:  \u001b[1;36m100\u001b[0m Loss:  \u001b[1;36m0.17776834964752197\u001b[0m\n"
            ],
            "text/html": [
              "<pre style=\"white-space:pre;overflow-x:auto;line-height:normal;font-family:Menlo,'DejaVu Sans Mono',consolas,'Courier New',monospace\">Epoch:  <span style=\"color: #008080; text-decoration-color: #008080; font-weight: bold\">41</span> Batch:  <span style=\"color: #008080; text-decoration-color: #008080; font-weight: bold\">100</span> Loss:  <span style=\"color: #008080; text-decoration-color: #008080; font-weight: bold\">0.17776834964752197</span>\n",
              "</pre>\n"
            ]
          },
          "metadata": {}
        },
        {
          "output_type": "display_data",
          "data": {
            "text/plain": [
              "Epoch:  \u001b[1;36m41\u001b[0m Batch:  \u001b[1;36m200\u001b[0m Loss:  \u001b[1;36m0.2660882771015167\u001b[0m\n"
            ],
            "text/html": [
              "<pre style=\"white-space:pre;overflow-x:auto;line-height:normal;font-family:Menlo,'DejaVu Sans Mono',consolas,'Courier New',monospace\">Epoch:  <span style=\"color: #008080; text-decoration-color: #008080; font-weight: bold\">41</span> Batch:  <span style=\"color: #008080; text-decoration-color: #008080; font-weight: bold\">200</span> Loss:  <span style=\"color: #008080; text-decoration-color: #008080; font-weight: bold\">0.2660882771015167</span>\n",
              "</pre>\n"
            ]
          },
          "metadata": {}
        },
        {
          "output_type": "display_data",
          "data": {
            "text/plain": [
              "Epoch:  \u001b[1;36m41\u001b[0m Batch:  \u001b[1;36m300\u001b[0m Loss:  \u001b[1;36m0.2623007893562317\u001b[0m\n"
            ],
            "text/html": [
              "<pre style=\"white-space:pre;overflow-x:auto;line-height:normal;font-family:Menlo,'DejaVu Sans Mono',consolas,'Courier New',monospace\">Epoch:  <span style=\"color: #008080; text-decoration-color: #008080; font-weight: bold\">41</span> Batch:  <span style=\"color: #008080; text-decoration-color: #008080; font-weight: bold\">300</span> Loss:  <span style=\"color: #008080; text-decoration-color: #008080; font-weight: bold\">0.2623007893562317</span>\n",
              "</pre>\n"
            ]
          },
          "metadata": {}
        },
        {
          "output_type": "display_data",
          "data": {
            "text/plain": [
              "Epoch:  \u001b[1;36m41\u001b[0m Batch:  \u001b[1;36m400\u001b[0m Loss:  \u001b[1;36m0.1619318276643753\u001b[0m\n"
            ],
            "text/html": [
              "<pre style=\"white-space:pre;overflow-x:auto;line-height:normal;font-family:Menlo,'DejaVu Sans Mono',consolas,'Courier New',monospace\">Epoch:  <span style=\"color: #008080; text-decoration-color: #008080; font-weight: bold\">41</span> Batch:  <span style=\"color: #008080; text-decoration-color: #008080; font-weight: bold\">400</span> Loss:  <span style=\"color: #008080; text-decoration-color: #008080; font-weight: bold\">0.1619318276643753</span>\n",
              "</pre>\n"
            ]
          },
          "metadata": {}
        },
        {
          "output_type": "display_data",
          "data": {
            "text/plain": [
              "Epoch:  \u001b[1;36m42\u001b[0m Batch:  \u001b[1;36m0\u001b[0m Loss:  \u001b[1;36m0.19271868467330933\u001b[0m\n"
            ],
            "text/html": [
              "<pre style=\"white-space:pre;overflow-x:auto;line-height:normal;font-family:Menlo,'DejaVu Sans Mono',consolas,'Courier New',monospace\">Epoch:  <span style=\"color: #008080; text-decoration-color: #008080; font-weight: bold\">42</span> Batch:  <span style=\"color: #008080; text-decoration-color: #008080; font-weight: bold\">0</span> Loss:  <span style=\"color: #008080; text-decoration-color: #008080; font-weight: bold\">0.19271868467330933</span>\n",
              "</pre>\n"
            ]
          },
          "metadata": {}
        },
        {
          "output_type": "display_data",
          "data": {
            "text/plain": [
              "Epoch:  \u001b[1;36m42\u001b[0m Batch:  \u001b[1;36m100\u001b[0m Loss:  \u001b[1;36m0.19105562567710876\u001b[0m\n"
            ],
            "text/html": [
              "<pre style=\"white-space:pre;overflow-x:auto;line-height:normal;font-family:Menlo,'DejaVu Sans Mono',consolas,'Courier New',monospace\">Epoch:  <span style=\"color: #008080; text-decoration-color: #008080; font-weight: bold\">42</span> Batch:  <span style=\"color: #008080; text-decoration-color: #008080; font-weight: bold\">100</span> Loss:  <span style=\"color: #008080; text-decoration-color: #008080; font-weight: bold\">0.19105562567710876</span>\n",
              "</pre>\n"
            ]
          },
          "metadata": {}
        },
        {
          "output_type": "display_data",
          "data": {
            "text/plain": [
              "Epoch:  \u001b[1;36m42\u001b[0m Batch:  \u001b[1;36m200\u001b[0m Loss:  \u001b[1;36m0.3345434367656708\u001b[0m\n"
            ],
            "text/html": [
              "<pre style=\"white-space:pre;overflow-x:auto;line-height:normal;font-family:Menlo,'DejaVu Sans Mono',consolas,'Courier New',monospace\">Epoch:  <span style=\"color: #008080; text-decoration-color: #008080; font-weight: bold\">42</span> Batch:  <span style=\"color: #008080; text-decoration-color: #008080; font-weight: bold\">200</span> Loss:  <span style=\"color: #008080; text-decoration-color: #008080; font-weight: bold\">0.3345434367656708</span>\n",
              "</pre>\n"
            ]
          },
          "metadata": {}
        },
        {
          "output_type": "display_data",
          "data": {
            "text/plain": [
              "Epoch:  \u001b[1;36m42\u001b[0m Batch:  \u001b[1;36m300\u001b[0m Loss:  \u001b[1;36m0.6072173118591309\u001b[0m\n"
            ],
            "text/html": [
              "<pre style=\"white-space:pre;overflow-x:auto;line-height:normal;font-family:Menlo,'DejaVu Sans Mono',consolas,'Courier New',monospace\">Epoch:  <span style=\"color: #008080; text-decoration-color: #008080; font-weight: bold\">42</span> Batch:  <span style=\"color: #008080; text-decoration-color: #008080; font-weight: bold\">300</span> Loss:  <span style=\"color: #008080; text-decoration-color: #008080; font-weight: bold\">0.6072173118591309</span>\n",
              "</pre>\n"
            ]
          },
          "metadata": {}
        },
        {
          "output_type": "display_data",
          "data": {
            "text/plain": [
              "Epoch:  \u001b[1;36m42\u001b[0m Batch:  \u001b[1;36m400\u001b[0m Loss:  \u001b[1;36m0.4587976932525635\u001b[0m\n"
            ],
            "text/html": [
              "<pre style=\"white-space:pre;overflow-x:auto;line-height:normal;font-family:Menlo,'DejaVu Sans Mono',consolas,'Courier New',monospace\">Epoch:  <span style=\"color: #008080; text-decoration-color: #008080; font-weight: bold\">42</span> Batch:  <span style=\"color: #008080; text-decoration-color: #008080; font-weight: bold\">400</span> Loss:  <span style=\"color: #008080; text-decoration-color: #008080; font-weight: bold\">0.4587976932525635</span>\n",
              "</pre>\n"
            ]
          },
          "metadata": {}
        },
        {
          "output_type": "display_data",
          "data": {
            "text/plain": [
              "Epoch:  \u001b[1;36m43\u001b[0m Batch:  \u001b[1;36m0\u001b[0m Loss:  \u001b[1;36m0.3098560869693756\u001b[0m\n"
            ],
            "text/html": [
              "<pre style=\"white-space:pre;overflow-x:auto;line-height:normal;font-family:Menlo,'DejaVu Sans Mono',consolas,'Courier New',monospace\">Epoch:  <span style=\"color: #008080; text-decoration-color: #008080; font-weight: bold\">43</span> Batch:  <span style=\"color: #008080; text-decoration-color: #008080; font-weight: bold\">0</span> Loss:  <span style=\"color: #008080; text-decoration-color: #008080; font-weight: bold\">0.3098560869693756</span>\n",
              "</pre>\n"
            ]
          },
          "metadata": {}
        },
        {
          "output_type": "display_data",
          "data": {
            "text/plain": [
              "Epoch:  \u001b[1;36m43\u001b[0m Batch:  \u001b[1;36m100\u001b[0m Loss:  \u001b[1;36m0.5068976283073425\u001b[0m\n"
            ],
            "text/html": [
              "<pre style=\"white-space:pre;overflow-x:auto;line-height:normal;font-family:Menlo,'DejaVu Sans Mono',consolas,'Courier New',monospace\">Epoch:  <span style=\"color: #008080; text-decoration-color: #008080; font-weight: bold\">43</span> Batch:  <span style=\"color: #008080; text-decoration-color: #008080; font-weight: bold\">100</span> Loss:  <span style=\"color: #008080; text-decoration-color: #008080; font-weight: bold\">0.5068976283073425</span>\n",
              "</pre>\n"
            ]
          },
          "metadata": {}
        },
        {
          "output_type": "display_data",
          "data": {
            "text/plain": [
              "Epoch:  \u001b[1;36m43\u001b[0m Batch:  \u001b[1;36m200\u001b[0m Loss:  \u001b[1;36m0.16146519780158997\u001b[0m\n"
            ],
            "text/html": [
              "<pre style=\"white-space:pre;overflow-x:auto;line-height:normal;font-family:Menlo,'DejaVu Sans Mono',consolas,'Courier New',monospace\">Epoch:  <span style=\"color: #008080; text-decoration-color: #008080; font-weight: bold\">43</span> Batch:  <span style=\"color: #008080; text-decoration-color: #008080; font-weight: bold\">200</span> Loss:  <span style=\"color: #008080; text-decoration-color: #008080; font-weight: bold\">0.16146519780158997</span>\n",
              "</pre>\n"
            ]
          },
          "metadata": {}
        },
        {
          "output_type": "display_data",
          "data": {
            "text/plain": [
              "Epoch:  \u001b[1;36m43\u001b[0m Batch:  \u001b[1;36m300\u001b[0m Loss:  \u001b[1;36m0.434339702129364\u001b[0m\n"
            ],
            "text/html": [
              "<pre style=\"white-space:pre;overflow-x:auto;line-height:normal;font-family:Menlo,'DejaVu Sans Mono',consolas,'Courier New',monospace\">Epoch:  <span style=\"color: #008080; text-decoration-color: #008080; font-weight: bold\">43</span> Batch:  <span style=\"color: #008080; text-decoration-color: #008080; font-weight: bold\">300</span> Loss:  <span style=\"color: #008080; text-decoration-color: #008080; font-weight: bold\">0.434339702129364</span>\n",
              "</pre>\n"
            ]
          },
          "metadata": {}
        },
        {
          "output_type": "display_data",
          "data": {
            "text/plain": [
              "Epoch:  \u001b[1;36m43\u001b[0m Batch:  \u001b[1;36m400\u001b[0m Loss:  \u001b[1;36m0.18094052374362946\u001b[0m\n"
            ],
            "text/html": [
              "<pre style=\"white-space:pre;overflow-x:auto;line-height:normal;font-family:Menlo,'DejaVu Sans Mono',consolas,'Courier New',monospace\">Epoch:  <span style=\"color: #008080; text-decoration-color: #008080; font-weight: bold\">43</span> Batch:  <span style=\"color: #008080; text-decoration-color: #008080; font-weight: bold\">400</span> Loss:  <span style=\"color: #008080; text-decoration-color: #008080; font-weight: bold\">0.18094052374362946</span>\n",
              "</pre>\n"
            ]
          },
          "metadata": {}
        },
        {
          "output_type": "display_data",
          "data": {
            "text/plain": [
              "Epoch:  \u001b[1;36m44\u001b[0m Batch:  \u001b[1;36m0\u001b[0m Loss:  \u001b[1;36m0.06508858501911163\u001b[0m\n"
            ],
            "text/html": [
              "<pre style=\"white-space:pre;overflow-x:auto;line-height:normal;font-family:Menlo,'DejaVu Sans Mono',consolas,'Courier New',monospace\">Epoch:  <span style=\"color: #008080; text-decoration-color: #008080; font-weight: bold\">44</span> Batch:  <span style=\"color: #008080; text-decoration-color: #008080; font-weight: bold\">0</span> Loss:  <span style=\"color: #008080; text-decoration-color: #008080; font-weight: bold\">0.06508858501911163</span>\n",
              "</pre>\n"
            ]
          },
          "metadata": {}
        },
        {
          "output_type": "display_data",
          "data": {
            "text/plain": [
              "Epoch:  \u001b[1;36m44\u001b[0m Batch:  \u001b[1;36m100\u001b[0m Loss:  \u001b[1;36m0.25590813159942627\u001b[0m\n"
            ],
            "text/html": [
              "<pre style=\"white-space:pre;overflow-x:auto;line-height:normal;font-family:Menlo,'DejaVu Sans Mono',consolas,'Courier New',monospace\">Epoch:  <span style=\"color: #008080; text-decoration-color: #008080; font-weight: bold\">44</span> Batch:  <span style=\"color: #008080; text-decoration-color: #008080; font-weight: bold\">100</span> Loss:  <span style=\"color: #008080; text-decoration-color: #008080; font-weight: bold\">0.25590813159942627</span>\n",
              "</pre>\n"
            ]
          },
          "metadata": {}
        },
        {
          "output_type": "display_data",
          "data": {
            "text/plain": [
              "Epoch:  \u001b[1;36m44\u001b[0m Batch:  \u001b[1;36m200\u001b[0m Loss:  \u001b[1;36m0.30365708470344543\u001b[0m\n"
            ],
            "text/html": [
              "<pre style=\"white-space:pre;overflow-x:auto;line-height:normal;font-family:Menlo,'DejaVu Sans Mono',consolas,'Courier New',monospace\">Epoch:  <span style=\"color: #008080; text-decoration-color: #008080; font-weight: bold\">44</span> Batch:  <span style=\"color: #008080; text-decoration-color: #008080; font-weight: bold\">200</span> Loss:  <span style=\"color: #008080; text-decoration-color: #008080; font-weight: bold\">0.30365708470344543</span>\n",
              "</pre>\n"
            ]
          },
          "metadata": {}
        },
        {
          "output_type": "display_data",
          "data": {
            "text/plain": [
              "Epoch:  \u001b[1;36m44\u001b[0m Batch:  \u001b[1;36m300\u001b[0m Loss:  \u001b[1;36m0.22808986902236938\u001b[0m\n"
            ],
            "text/html": [
              "<pre style=\"white-space:pre;overflow-x:auto;line-height:normal;font-family:Menlo,'DejaVu Sans Mono',consolas,'Courier New',monospace\">Epoch:  <span style=\"color: #008080; text-decoration-color: #008080; font-weight: bold\">44</span> Batch:  <span style=\"color: #008080; text-decoration-color: #008080; font-weight: bold\">300</span> Loss:  <span style=\"color: #008080; text-decoration-color: #008080; font-weight: bold\">0.22808986902236938</span>\n",
              "</pre>\n"
            ]
          },
          "metadata": {}
        },
        {
          "output_type": "display_data",
          "data": {
            "text/plain": [
              "Epoch:  \u001b[1;36m44\u001b[0m Batch:  \u001b[1;36m400\u001b[0m Loss:  \u001b[1;36m0.4710943102836609\u001b[0m\n"
            ],
            "text/html": [
              "<pre style=\"white-space:pre;overflow-x:auto;line-height:normal;font-family:Menlo,'DejaVu Sans Mono',consolas,'Courier New',monospace\">Epoch:  <span style=\"color: #008080; text-decoration-color: #008080; font-weight: bold\">44</span> Batch:  <span style=\"color: #008080; text-decoration-color: #008080; font-weight: bold\">400</span> Loss:  <span style=\"color: #008080; text-decoration-color: #008080; font-weight: bold\">0.4710943102836609</span>\n",
              "</pre>\n"
            ]
          },
          "metadata": {}
        },
        {
          "output_type": "display_data",
          "data": {
            "text/plain": [
              "Epoch:  \u001b[1;36m45\u001b[0m Batch:  \u001b[1;36m0\u001b[0m Loss:  \u001b[1;36m0.23153382539749146\u001b[0m\n"
            ],
            "text/html": [
              "<pre style=\"white-space:pre;overflow-x:auto;line-height:normal;font-family:Menlo,'DejaVu Sans Mono',consolas,'Courier New',monospace\">Epoch:  <span style=\"color: #008080; text-decoration-color: #008080; font-weight: bold\">45</span> Batch:  <span style=\"color: #008080; text-decoration-color: #008080; font-weight: bold\">0</span> Loss:  <span style=\"color: #008080; text-decoration-color: #008080; font-weight: bold\">0.23153382539749146</span>\n",
              "</pre>\n"
            ]
          },
          "metadata": {}
        },
        {
          "output_type": "display_data",
          "data": {
            "text/plain": [
              "Epoch:  \u001b[1;36m45\u001b[0m Batch:  \u001b[1;36m100\u001b[0m Loss:  \u001b[1;36m0.2145199328660965\u001b[0m\n"
            ],
            "text/html": [
              "<pre style=\"white-space:pre;overflow-x:auto;line-height:normal;font-family:Menlo,'DejaVu Sans Mono',consolas,'Courier New',monospace\">Epoch:  <span style=\"color: #008080; text-decoration-color: #008080; font-weight: bold\">45</span> Batch:  <span style=\"color: #008080; text-decoration-color: #008080; font-weight: bold\">100</span> Loss:  <span style=\"color: #008080; text-decoration-color: #008080; font-weight: bold\">0.2145199328660965</span>\n",
              "</pre>\n"
            ]
          },
          "metadata": {}
        },
        {
          "output_type": "display_data",
          "data": {
            "text/plain": [
              "Epoch:  \u001b[1;36m45\u001b[0m Batch:  \u001b[1;36m200\u001b[0m Loss:  \u001b[1;36m0.18294864892959595\u001b[0m\n"
            ],
            "text/html": [
              "<pre style=\"white-space:pre;overflow-x:auto;line-height:normal;font-family:Menlo,'DejaVu Sans Mono',consolas,'Courier New',monospace\">Epoch:  <span style=\"color: #008080; text-decoration-color: #008080; font-weight: bold\">45</span> Batch:  <span style=\"color: #008080; text-decoration-color: #008080; font-weight: bold\">200</span> Loss:  <span style=\"color: #008080; text-decoration-color: #008080; font-weight: bold\">0.18294864892959595</span>\n",
              "</pre>\n"
            ]
          },
          "metadata": {}
        },
        {
          "output_type": "display_data",
          "data": {
            "text/plain": [
              "Epoch:  \u001b[1;36m45\u001b[0m Batch:  \u001b[1;36m300\u001b[0m Loss:  \u001b[1;36m0.22033706307411194\u001b[0m\n"
            ],
            "text/html": [
              "<pre style=\"white-space:pre;overflow-x:auto;line-height:normal;font-family:Menlo,'DejaVu Sans Mono',consolas,'Courier New',monospace\">Epoch:  <span style=\"color: #008080; text-decoration-color: #008080; font-weight: bold\">45</span> Batch:  <span style=\"color: #008080; text-decoration-color: #008080; font-weight: bold\">300</span> Loss:  <span style=\"color: #008080; text-decoration-color: #008080; font-weight: bold\">0.22033706307411194</span>\n",
              "</pre>\n"
            ]
          },
          "metadata": {}
        },
        {
          "output_type": "display_data",
          "data": {
            "text/plain": [
              "Epoch:  \u001b[1;36m45\u001b[0m Batch:  \u001b[1;36m400\u001b[0m Loss:  \u001b[1;36m0.22260010242462158\u001b[0m\n"
            ],
            "text/html": [
              "<pre style=\"white-space:pre;overflow-x:auto;line-height:normal;font-family:Menlo,'DejaVu Sans Mono',consolas,'Courier New',monospace\">Epoch:  <span style=\"color: #008080; text-decoration-color: #008080; font-weight: bold\">45</span> Batch:  <span style=\"color: #008080; text-decoration-color: #008080; font-weight: bold\">400</span> Loss:  <span style=\"color: #008080; text-decoration-color: #008080; font-weight: bold\">0.22260010242462158</span>\n",
              "</pre>\n"
            ]
          },
          "metadata": {}
        },
        {
          "output_type": "display_data",
          "data": {
            "text/plain": [
              "Epoch:  \u001b[1;36m46\u001b[0m Batch:  \u001b[1;36m0\u001b[0m Loss:  \u001b[1;36m0.2713303565979004\u001b[0m\n"
            ],
            "text/html": [
              "<pre style=\"white-space:pre;overflow-x:auto;line-height:normal;font-family:Menlo,'DejaVu Sans Mono',consolas,'Courier New',monospace\">Epoch:  <span style=\"color: #008080; text-decoration-color: #008080; font-weight: bold\">46</span> Batch:  <span style=\"color: #008080; text-decoration-color: #008080; font-weight: bold\">0</span> Loss:  <span style=\"color: #008080; text-decoration-color: #008080; font-weight: bold\">0.2713303565979004</span>\n",
              "</pre>\n"
            ]
          },
          "metadata": {}
        },
        {
          "output_type": "display_data",
          "data": {
            "text/plain": [
              "Epoch:  \u001b[1;36m46\u001b[0m Batch:  \u001b[1;36m100\u001b[0m Loss:  \u001b[1;36m0.19395402073860168\u001b[0m\n"
            ],
            "text/html": [
              "<pre style=\"white-space:pre;overflow-x:auto;line-height:normal;font-family:Menlo,'DejaVu Sans Mono',consolas,'Courier New',monospace\">Epoch:  <span style=\"color: #008080; text-decoration-color: #008080; font-weight: bold\">46</span> Batch:  <span style=\"color: #008080; text-decoration-color: #008080; font-weight: bold\">100</span> Loss:  <span style=\"color: #008080; text-decoration-color: #008080; font-weight: bold\">0.19395402073860168</span>\n",
              "</pre>\n"
            ]
          },
          "metadata": {}
        },
        {
          "output_type": "display_data",
          "data": {
            "text/plain": [
              "Epoch:  \u001b[1;36m46\u001b[0m Batch:  \u001b[1;36m200\u001b[0m Loss:  \u001b[1;36m0.1510918140411377\u001b[0m\n"
            ],
            "text/html": [
              "<pre style=\"white-space:pre;overflow-x:auto;line-height:normal;font-family:Menlo,'DejaVu Sans Mono',consolas,'Courier New',monospace\">Epoch:  <span style=\"color: #008080; text-decoration-color: #008080; font-weight: bold\">46</span> Batch:  <span style=\"color: #008080; text-decoration-color: #008080; font-weight: bold\">200</span> Loss:  <span style=\"color: #008080; text-decoration-color: #008080; font-weight: bold\">0.1510918140411377</span>\n",
              "</pre>\n"
            ]
          },
          "metadata": {}
        },
        {
          "output_type": "display_data",
          "data": {
            "text/plain": [
              "Epoch:  \u001b[1;36m46\u001b[0m Batch:  \u001b[1;36m300\u001b[0m Loss:  \u001b[1;36m0.32373663783073425\u001b[0m\n"
            ],
            "text/html": [
              "<pre style=\"white-space:pre;overflow-x:auto;line-height:normal;font-family:Menlo,'DejaVu Sans Mono',consolas,'Courier New',monospace\">Epoch:  <span style=\"color: #008080; text-decoration-color: #008080; font-weight: bold\">46</span> Batch:  <span style=\"color: #008080; text-decoration-color: #008080; font-weight: bold\">300</span> Loss:  <span style=\"color: #008080; text-decoration-color: #008080; font-weight: bold\">0.32373663783073425</span>\n",
              "</pre>\n"
            ]
          },
          "metadata": {}
        },
        {
          "output_type": "display_data",
          "data": {
            "text/plain": [
              "Epoch:  \u001b[1;36m46\u001b[0m Batch:  \u001b[1;36m400\u001b[0m Loss:  \u001b[1;36m0.25034844875335693\u001b[0m\n"
            ],
            "text/html": [
              "<pre style=\"white-space:pre;overflow-x:auto;line-height:normal;font-family:Menlo,'DejaVu Sans Mono',consolas,'Courier New',monospace\">Epoch:  <span style=\"color: #008080; text-decoration-color: #008080; font-weight: bold\">46</span> Batch:  <span style=\"color: #008080; text-decoration-color: #008080; font-weight: bold\">400</span> Loss:  <span style=\"color: #008080; text-decoration-color: #008080; font-weight: bold\">0.25034844875335693</span>\n",
              "</pre>\n"
            ]
          },
          "metadata": {}
        },
        {
          "output_type": "display_data",
          "data": {
            "text/plain": [
              "Epoch:  \u001b[1;36m47\u001b[0m Batch:  \u001b[1;36m0\u001b[0m Loss:  \u001b[1;36m0.1971806287765503\u001b[0m\n"
            ],
            "text/html": [
              "<pre style=\"white-space:pre;overflow-x:auto;line-height:normal;font-family:Menlo,'DejaVu Sans Mono',consolas,'Courier New',monospace\">Epoch:  <span style=\"color: #008080; text-decoration-color: #008080; font-weight: bold\">47</span> Batch:  <span style=\"color: #008080; text-decoration-color: #008080; font-weight: bold\">0</span> Loss:  <span style=\"color: #008080; text-decoration-color: #008080; font-weight: bold\">0.1971806287765503</span>\n",
              "</pre>\n"
            ]
          },
          "metadata": {}
        },
        {
          "output_type": "display_data",
          "data": {
            "text/plain": [
              "Epoch:  \u001b[1;36m47\u001b[0m Batch:  \u001b[1;36m100\u001b[0m Loss:  \u001b[1;36m0.24523483216762543\u001b[0m\n"
            ],
            "text/html": [
              "<pre style=\"white-space:pre;overflow-x:auto;line-height:normal;font-family:Menlo,'DejaVu Sans Mono',consolas,'Courier New',monospace\">Epoch:  <span style=\"color: #008080; text-decoration-color: #008080; font-weight: bold\">47</span> Batch:  <span style=\"color: #008080; text-decoration-color: #008080; font-weight: bold\">100</span> Loss:  <span style=\"color: #008080; text-decoration-color: #008080; font-weight: bold\">0.24523483216762543</span>\n",
              "</pre>\n"
            ]
          },
          "metadata": {}
        },
        {
          "output_type": "display_data",
          "data": {
            "text/plain": [
              "Epoch:  \u001b[1;36m47\u001b[0m Batch:  \u001b[1;36m200\u001b[0m Loss:  \u001b[1;36m0.17871759831905365\u001b[0m\n"
            ],
            "text/html": [
              "<pre style=\"white-space:pre;overflow-x:auto;line-height:normal;font-family:Menlo,'DejaVu Sans Mono',consolas,'Courier New',monospace\">Epoch:  <span style=\"color: #008080; text-decoration-color: #008080; font-weight: bold\">47</span> Batch:  <span style=\"color: #008080; text-decoration-color: #008080; font-weight: bold\">200</span> Loss:  <span style=\"color: #008080; text-decoration-color: #008080; font-weight: bold\">0.17871759831905365</span>\n",
              "</pre>\n"
            ]
          },
          "metadata": {}
        },
        {
          "output_type": "display_data",
          "data": {
            "text/plain": [
              "Epoch:  \u001b[1;36m47\u001b[0m Batch:  \u001b[1;36m300\u001b[0m Loss:  \u001b[1;36m0.16048021614551544\u001b[0m\n"
            ],
            "text/html": [
              "<pre style=\"white-space:pre;overflow-x:auto;line-height:normal;font-family:Menlo,'DejaVu Sans Mono',consolas,'Courier New',monospace\">Epoch:  <span style=\"color: #008080; text-decoration-color: #008080; font-weight: bold\">47</span> Batch:  <span style=\"color: #008080; text-decoration-color: #008080; font-weight: bold\">300</span> Loss:  <span style=\"color: #008080; text-decoration-color: #008080; font-weight: bold\">0.16048021614551544</span>\n",
              "</pre>\n"
            ]
          },
          "metadata": {}
        },
        {
          "output_type": "display_data",
          "data": {
            "text/plain": [
              "Epoch:  \u001b[1;36m47\u001b[0m Batch:  \u001b[1;36m400\u001b[0m Loss:  \u001b[1;36m0.27577832341194153\u001b[0m\n"
            ],
            "text/html": [
              "<pre style=\"white-space:pre;overflow-x:auto;line-height:normal;font-family:Menlo,'DejaVu Sans Mono',consolas,'Courier New',monospace\">Epoch:  <span style=\"color: #008080; text-decoration-color: #008080; font-weight: bold\">47</span> Batch:  <span style=\"color: #008080; text-decoration-color: #008080; font-weight: bold\">400</span> Loss:  <span style=\"color: #008080; text-decoration-color: #008080; font-weight: bold\">0.27577832341194153</span>\n",
              "</pre>\n"
            ]
          },
          "metadata": {}
        },
        {
          "output_type": "display_data",
          "data": {
            "text/plain": [
              "Epoch:  \u001b[1;36m48\u001b[0m Batch:  \u001b[1;36m0\u001b[0m Loss:  \u001b[1;36m0.16339990496635437\u001b[0m\n"
            ],
            "text/html": [
              "<pre style=\"white-space:pre;overflow-x:auto;line-height:normal;font-family:Menlo,'DejaVu Sans Mono',consolas,'Courier New',monospace\">Epoch:  <span style=\"color: #008080; text-decoration-color: #008080; font-weight: bold\">48</span> Batch:  <span style=\"color: #008080; text-decoration-color: #008080; font-weight: bold\">0</span> Loss:  <span style=\"color: #008080; text-decoration-color: #008080; font-weight: bold\">0.16339990496635437</span>\n",
              "</pre>\n"
            ]
          },
          "metadata": {}
        },
        {
          "output_type": "display_data",
          "data": {
            "text/plain": [
              "Epoch:  \u001b[1;36m48\u001b[0m Batch:  \u001b[1;36m100\u001b[0m Loss:  \u001b[1;36m0.11223290860652924\u001b[0m\n"
            ],
            "text/html": [
              "<pre style=\"white-space:pre;overflow-x:auto;line-height:normal;font-family:Menlo,'DejaVu Sans Mono',consolas,'Courier New',monospace\">Epoch:  <span style=\"color: #008080; text-decoration-color: #008080; font-weight: bold\">48</span> Batch:  <span style=\"color: #008080; text-decoration-color: #008080; font-weight: bold\">100</span> Loss:  <span style=\"color: #008080; text-decoration-color: #008080; font-weight: bold\">0.11223290860652924</span>\n",
              "</pre>\n"
            ]
          },
          "metadata": {}
        },
        {
          "output_type": "display_data",
          "data": {
            "text/plain": [
              "Epoch:  \u001b[1;36m48\u001b[0m Batch:  \u001b[1;36m200\u001b[0m Loss:  \u001b[1;36m0.17637723684310913\u001b[0m\n"
            ],
            "text/html": [
              "<pre style=\"white-space:pre;overflow-x:auto;line-height:normal;font-family:Menlo,'DejaVu Sans Mono',consolas,'Courier New',monospace\">Epoch:  <span style=\"color: #008080; text-decoration-color: #008080; font-weight: bold\">48</span> Batch:  <span style=\"color: #008080; text-decoration-color: #008080; font-weight: bold\">200</span> Loss:  <span style=\"color: #008080; text-decoration-color: #008080; font-weight: bold\">0.17637723684310913</span>\n",
              "</pre>\n"
            ]
          },
          "metadata": {}
        },
        {
          "output_type": "display_data",
          "data": {
            "text/plain": [
              "Epoch:  \u001b[1;36m48\u001b[0m Batch:  \u001b[1;36m300\u001b[0m Loss:  \u001b[1;36m0.1388530433177948\u001b[0m\n"
            ],
            "text/html": [
              "<pre style=\"white-space:pre;overflow-x:auto;line-height:normal;font-family:Menlo,'DejaVu Sans Mono',consolas,'Courier New',monospace\">Epoch:  <span style=\"color: #008080; text-decoration-color: #008080; font-weight: bold\">48</span> Batch:  <span style=\"color: #008080; text-decoration-color: #008080; font-weight: bold\">300</span> Loss:  <span style=\"color: #008080; text-decoration-color: #008080; font-weight: bold\">0.1388530433177948</span>\n",
              "</pre>\n"
            ]
          },
          "metadata": {}
        },
        {
          "output_type": "display_data",
          "data": {
            "text/plain": [
              "Epoch:  \u001b[1;36m48\u001b[0m Batch:  \u001b[1;36m400\u001b[0m Loss:  \u001b[1;36m0.12984034419059753\u001b[0m\n"
            ],
            "text/html": [
              "<pre style=\"white-space:pre;overflow-x:auto;line-height:normal;font-family:Menlo,'DejaVu Sans Mono',consolas,'Courier New',monospace\">Epoch:  <span style=\"color: #008080; text-decoration-color: #008080; font-weight: bold\">48</span> Batch:  <span style=\"color: #008080; text-decoration-color: #008080; font-weight: bold\">400</span> Loss:  <span style=\"color: #008080; text-decoration-color: #008080; font-weight: bold\">0.12984034419059753</span>\n",
              "</pre>\n"
            ]
          },
          "metadata": {}
        },
        {
          "output_type": "display_data",
          "data": {
            "text/plain": [
              "Epoch:  \u001b[1;36m49\u001b[0m Batch:  \u001b[1;36m0\u001b[0m Loss:  \u001b[1;36m0.4798080623149872\u001b[0m\n"
            ],
            "text/html": [
              "<pre style=\"white-space:pre;overflow-x:auto;line-height:normal;font-family:Menlo,'DejaVu Sans Mono',consolas,'Courier New',monospace\">Epoch:  <span style=\"color: #008080; text-decoration-color: #008080; font-weight: bold\">49</span> Batch:  <span style=\"color: #008080; text-decoration-color: #008080; font-weight: bold\">0</span> Loss:  <span style=\"color: #008080; text-decoration-color: #008080; font-weight: bold\">0.4798080623149872</span>\n",
              "</pre>\n"
            ]
          },
          "metadata": {}
        },
        {
          "output_type": "display_data",
          "data": {
            "text/plain": [
              "Epoch:  \u001b[1;36m49\u001b[0m Batch:  \u001b[1;36m100\u001b[0m Loss:  \u001b[1;36m0.24927155673503876\u001b[0m\n"
            ],
            "text/html": [
              "<pre style=\"white-space:pre;overflow-x:auto;line-height:normal;font-family:Menlo,'DejaVu Sans Mono',consolas,'Courier New',monospace\">Epoch:  <span style=\"color: #008080; text-decoration-color: #008080; font-weight: bold\">49</span> Batch:  <span style=\"color: #008080; text-decoration-color: #008080; font-weight: bold\">100</span> Loss:  <span style=\"color: #008080; text-decoration-color: #008080; font-weight: bold\">0.24927155673503876</span>\n",
              "</pre>\n"
            ]
          },
          "metadata": {}
        },
        {
          "output_type": "display_data",
          "data": {
            "text/plain": [
              "Epoch:  \u001b[1;36m49\u001b[0m Batch:  \u001b[1;36m200\u001b[0m Loss:  \u001b[1;36m0.16684897243976593\u001b[0m\n"
            ],
            "text/html": [
              "<pre style=\"white-space:pre;overflow-x:auto;line-height:normal;font-family:Menlo,'DejaVu Sans Mono',consolas,'Courier New',monospace\">Epoch:  <span style=\"color: #008080; text-decoration-color: #008080; font-weight: bold\">49</span> Batch:  <span style=\"color: #008080; text-decoration-color: #008080; font-weight: bold\">200</span> Loss:  <span style=\"color: #008080; text-decoration-color: #008080; font-weight: bold\">0.16684897243976593</span>\n",
              "</pre>\n"
            ]
          },
          "metadata": {}
        }
      ]
    },
    {
      "cell_type": "code",
      "source": [
        "# Save the training loss to csv\n",
        "table_data = {x.header: [Text.from_markup(y).plain for y in x.cells] for x in training_logger.columns}\n",
        "training_logger_df = pd.DataFrame(table_data)\n",
        "training_logger_df.to_csv(\"outputs/\"+\"train_loss.csv\", sep=\"=\")\n",
        "\n",
        "# Save the validation loss to csv\n",
        "table_data = {x.header: [Text.from_markup(y).plain for y in x.cells] for x in validation_logger.columns}\n",
        "validation_logger_df = pd.DataFrame(table_data)\n",
        "validation_logger_df.to_csv(\"outputs/\"+\"val_loss.csv\", sep=\"=\")"
      ],
      "metadata": {
        "id": "1Yf5Oo1SNecR"
      },
      "execution_count": null,
      "outputs": []
    },
    {
      "cell_type": "code",
      "source": [
        "# Plot the loss\n",
        "train_loss = pd.read_csv(\"outputs/\"+\"train_loss.csv\", sep=\"=\")\n",
        "train_loss.plot(0,2)\n",
        "val_loss = pd.read_csv(\"outputs/\"+\"val_loss.csv\", sep=\"=\")\n",
        "val_loss.plot(0,2)"
      ],
      "metadata": {
        "id": "HEnoiOiXNefH"
      },
      "execution_count": null,
      "outputs": []
    },
    {
      "cell_type": "code",
      "source": [
        "!zip -r outputs.zip outputs"
      ],
      "metadata": {
        "id": "oBRrPNhKwHR8"
      },
      "execution_count": null,
      "outputs": []
    }
  ]
}