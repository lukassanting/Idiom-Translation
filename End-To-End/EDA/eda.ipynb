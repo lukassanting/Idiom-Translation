{
 "cells": [
  {
   "cell_type": "code",
   "execution_count": 1,
   "id": "69efe8f0",
   "metadata": {},
   "outputs": [],
   "source": [
    "import pandas as pd\n",
    "import warnings\n",
    "warnings.filterwarnings('ignore')"
   ]
  },
  {
   "cell_type": "code",
   "execution_count": 2,
   "id": "d21c59f8",
   "metadata": {},
   "outputs": [],
   "source": [
    "base_path=\"../Dataset/en-de/\"\n",
    "en = pd.read_csv(base_path+'idiom_test.en',sep='\\n', header=None,names=['en'])\n",
    "de = pd.read_csv(base_path+'idiom_test.de',sep='\\n', header=None,names=['de'])\n",
    "info = pd.read_csv(base_path+'idiom_test.info',sep='\\t',header=None,names=[\"spread\", \"en_idiom\", \"de_idiom\",'frequency'])\n",
    "data = pd.concat([en,de,info],axis=1)\n",
    "data.columns = ['en','de',\"spread\", \"en_idiom\", \"de_idiom\",'frequency']"
   ]
  },
  {
   "cell_type": "code",
   "execution_count": 3,
   "id": "a7e45d57",
   "metadata": {},
   "outputs": [
    {
     "data": {
      "text/html": [
       "<div>\n",
       "<style scoped>\n",
       "    .dataframe tbody tr th:only-of-type {\n",
       "        vertical-align: middle;\n",
       "    }\n",
       "\n",
       "    .dataframe tbody tr th {\n",
       "        vertical-align: top;\n",
       "    }\n",
       "\n",
       "    .dataframe thead th {\n",
       "        text-align: right;\n",
       "    }\n",
       "</style>\n",
       "<table border=\"1\" class=\"dataframe\">\n",
       "  <thead>\n",
       "    <tr style=\"text-align: right;\">\n",
       "      <th></th>\n",
       "      <th>en</th>\n",
       "      <th>de</th>\n",
       "      <th>spread</th>\n",
       "      <th>en_idiom</th>\n",
       "      <th>de_idiom</th>\n",
       "      <th>frequency</th>\n",
       "    </tr>\n",
       "  </thead>\n",
       "  <tbody>\n",
       "    <tr>\n",
       "      <th>0</th>\n",
       "      <td>In this day and age , when evidently many find...</td>\n",
       "      <td>In einer Zeit wie dieser , in der viele offens...</td>\n",
       "      <td>-1</td>\n",
       "      <td>in this day and age</td>\n",
       "      <td>in der heutigen zeit</td>\n",
       "      <td>55</td>\n",
       "    </tr>\n",
       "    <tr>\n",
       "      <th>1</th>\n",
       "      <td>In Romania , the election campaign will be a c...</td>\n",
       "      <td>In Rumänien wird der Wahlkampf die Chance biet...</td>\n",
       "      <td>2</td>\n",
       "      <td>to be on hold</td>\n",
       "      <td>auf eis liegen</td>\n",
       "      <td>59</td>\n",
       "    </tr>\n",
       "    <tr>\n",
       "      <th>2</th>\n",
       "      <td>Let us work to close the back door to illegal ...</td>\n",
       "      <td>Gemeinsam sollten wir wirksam die Schlupflöche...</td>\n",
       "      <td>0</td>\n",
       "      <td>to close the door</td>\n",
       "      <td>die tür hinter sich zumachen</td>\n",
       "      <td>39</td>\n",
       "    </tr>\n",
       "    <tr>\n",
       "      <th>3</th>\n",
       "      <td>The region is easily reached by rail ( interna...</td>\n",
       "      <td>Das Gebiet ist mit der Eisenbahn erreichbar , ...</td>\n",
       "      <td>0</td>\n",
       "      <td>to take it easy</td>\n",
       "      <td>es ruhig angehen lassen</td>\n",
       "      <td>61</td>\n",
       "    </tr>\n",
       "    <tr>\n",
       "      <th>4</th>\n",
       "      <td>I cannot enter into debate , but I pass on tha...</td>\n",
       "      <td>Ich kann mich auf keine Diskussion einlassen ,...</td>\n",
       "      <td>1</td>\n",
       "      <td>to pass on</td>\n",
       "      <td>das zeitliche segnen</td>\n",
       "      <td>834</td>\n",
       "    </tr>\n",
       "    <tr>\n",
       "      <th>...</th>\n",
       "      <td>...</td>\n",
       "      <td>...</td>\n",
       "      <td>...</td>\n",
       "      <td>...</td>\n",
       "      <td>...</td>\n",
       "      <td>...</td>\n",
       "    </tr>\n",
       "    <tr>\n",
       "      <th>1495</th>\n",
       "      <td>I would ask you to pass on the question to the...</td>\n",
       "      <td>Ich bitte Sie , einmal die Frage an den Geschä...</td>\n",
       "      <td>-1</td>\n",
       "      <td>to pass on</td>\n",
       "      <td>das zeitliche segnen</td>\n",
       "      <td>834</td>\n",
       "    </tr>\n",
       "    <tr>\n",
       "      <th>1496</th>\n",
       "      <td>From now on , we know that the only significan...</td>\n",
       "      <td>Nunmehr wissen wir , dass die einzige signifik...</td>\n",
       "      <td>4</td>\n",
       "      <td>to be in the know</td>\n",
       "      <td>im bild / bilde sein</td>\n",
       "      <td>164</td>\n",
       "    </tr>\n",
       "    <tr>\n",
       "      <th>1497</th>\n",
       "      <td>This is the custom . It is perhaps not justifi...</td>\n",
       "      <td>Das ist ein vielleicht unverdienter Brauch , a...</td>\n",
       "      <td>2</td>\n",
       "      <td>take care !</td>\n",
       "      <td>machen sie es gut !</td>\n",
       "      <td>44</td>\n",
       "    </tr>\n",
       "    <tr>\n",
       "      <th>1498</th>\n",
       "      <td>Terrorism is the child of fundamentalism , whi...</td>\n",
       "      <td>Der Terrorismus ist ein Abkömmling des Fundame...</td>\n",
       "      <td>10</td>\n",
       "      <td>to beat it</td>\n",
       "      <td>die flatter machen</td>\n",
       "      <td>22</td>\n",
       "    </tr>\n",
       "    <tr>\n",
       "      <th>1499</th>\n",
       "      <td>Many birds fly freely in the building and are ...</td>\n",
       "      <td>Viele Vögel fliegen frei im Haus und sind oft ...</td>\n",
       "      <td>9</td>\n",
       "      <td>to fly by</td>\n",
       "      <td>( wie ) im flug vergehen</td>\n",
       "      <td>34</td>\n",
       "    </tr>\n",
       "  </tbody>\n",
       "</table>\n",
       "<p>1500 rows × 6 columns</p>\n",
       "</div>"
      ],
      "text/plain": [
       "                                                     en  \\\n",
       "0     In this day and age , when evidently many find...   \n",
       "1     In Romania , the election campaign will be a c...   \n",
       "2     Let us work to close the back door to illegal ...   \n",
       "3     The region is easily reached by rail ( interna...   \n",
       "4     I cannot enter into debate , but I pass on tha...   \n",
       "...                                                 ...   \n",
       "1495  I would ask you to pass on the question to the...   \n",
       "1496  From now on , we know that the only significan...   \n",
       "1497  This is the custom . It is perhaps not justifi...   \n",
       "1498  Terrorism is the child of fundamentalism , whi...   \n",
       "1499  Many birds fly freely in the building and are ...   \n",
       "\n",
       "                                                     de  spread  \\\n",
       "0     In einer Zeit wie dieser , in der viele offens...      -1   \n",
       "1     In Rumänien wird der Wahlkampf die Chance biet...       2   \n",
       "2     Gemeinsam sollten wir wirksam die Schlupflöche...       0   \n",
       "3     Das Gebiet ist mit der Eisenbahn erreichbar , ...       0   \n",
       "4     Ich kann mich auf keine Diskussion einlassen ,...       1   \n",
       "...                                                 ...     ...   \n",
       "1495  Ich bitte Sie , einmal die Frage an den Geschä...      -1   \n",
       "1496  Nunmehr wissen wir , dass die einzige signifik...       4   \n",
       "1497  Das ist ein vielleicht unverdienter Brauch , a...       2   \n",
       "1498  Der Terrorismus ist ein Abkömmling des Fundame...      10   \n",
       "1499  Viele Vögel fliegen frei im Haus und sind oft ...       9   \n",
       "\n",
       "                 en_idiom                      de_idiom  frequency  \n",
       "0     in this day and age          in der heutigen zeit         55  \n",
       "1           to be on hold                auf eis liegen         59  \n",
       "2       to close the door  die tür hinter sich zumachen         39  \n",
       "3         to take it easy       es ruhig angehen lassen         61  \n",
       "4              to pass on          das zeitliche segnen        834  \n",
       "...                   ...                           ...        ...  \n",
       "1495           to pass on          das zeitliche segnen        834  \n",
       "1496    to be in the know          im bild / bilde sein        164  \n",
       "1497          take care !           machen sie es gut !         44  \n",
       "1498           to beat it            die flatter machen         22  \n",
       "1499            to fly by      ( wie ) im flug vergehen         34  \n",
       "\n",
       "[1500 rows x 6 columns]"
      ]
     },
     "execution_count": 3,
     "metadata": {},
     "output_type": "execute_result"
    }
   ],
   "source": [
    "data"
   ]
  },
  {
   "cell_type": "code",
   "execution_count": 4,
   "id": "36aea695",
   "metadata": {},
   "outputs": [
    {
     "name": "stderr",
     "output_type": "stream",
     "text": [
      "\n",
      "Bad key \"text.kerning_factor\" on line 4 in\n",
      "C:\\Users\\PedroAntonio\\Anaconda3\\envs\\proj\\lib\\site-packages\\matplotlib\\mpl-data\\stylelib\\_classic_test_patch.mplstyle.\n",
      "You probably need to get an updated matplotlibrc file from\n",
      "http://github.com/matplotlib/matplotlib/blob/master/matplotlibrc.template\n",
      "or from the matplotlib source distribution\n"
     ]
    },
    {
     "data": {
      "text/plain": [
       "<matplotlib.axes._subplots.AxesSubplot at 0x255b90aefc8>"
      ]
     },
     "execution_count": 4,
     "metadata": {},
     "output_type": "execute_result"
    },
    {
     "data": {
      "image/png": "[encoded data removed]",
      "text/plain": [
       "<Figure size 432x288 with 1 Axes>"
      ]
     },
     "metadata": {
      "needs_background": "light"
     },
     "output_type": "display_data"
    }
   ],
   "source": [
    "data['spread'].plot.hist()"
   ]
  },
  {
   "cell_type": "code",
   "execution_count": 10,
   "id": "4cba5a38",
   "metadata": {},
   "outputs": [
    {
     "data": {
      "text/plain": [
       "to pass on                  513\n",
       "to be in the know           120\n",
       "in a nutshell                84\n",
       "to clear the way             63\n",
       "i say !                      60\n",
       "                           ... \n",
       "the genuine article           2\n",
       "to bite the bullet            1\n",
       "to think outside the box      1\n",
       "to land a job                 1\n",
       "cheap and cheerful            1\n",
       "Name: en_idiom, Length: 68, dtype: int64"
      ]
     },
     "execution_count": 10,
     "metadata": {},
     "output_type": "execute_result"
    }
   ],
   "source": [
    "data['en_idiom'].value_counts()"
   ]
  },
  {
   "cell_type": "code",
   "execution_count": 11,
   "id": "1188b6e2",
   "metadata": {},
   "outputs": [
    {
     "data": {
      "text/plain": [
       "<matplotlib.axes._subplots.AxesSubplot at 0x255bb3b42c8>"
      ]
     },
     "execution_count": 11,
     "metadata": {},
     "output_type": "execute_result"
    },
    {
     "data": {
      "image/png": "[encoded data removed]",
      "text/plain": [
       "<Figure size 432x288 with 1 Axes>"
      ]
     },
     "metadata": {
      "needs_background": "light"
     },
     "output_type": "display_data"
    }
   ],
   "source": [
    "data['en_idiom'].value_counts().plot.hist()"
   ]
  },
  {
   "cell_type": "code",
   "execution_count": null,
   "id": "f6d48e93",
   "metadata": {},
   "outputs": [],
   "source": []
  }
 ],
 "metadata": {
  "kernelspec": {
   "display_name": "Python 3 (ipykernel)",
   "language": "python",
   "name": "python3"
  },
  "language_info": {
   "codemirror_mode": {
    "name": "ipython",
    "version": 3
   },
   "file_extension": ".py",
   "mimetype": "text/x-python",
   "name": "python",
   "nbconvert_exporter": "python",
   "pygments_lexer": "ipython3",
   "version": "3.7.11"
  }
 },
 "nbformat": 4,
 "nbformat_minor": 5
}
