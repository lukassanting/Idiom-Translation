{
 "cells": [
  {
   "cell_type": "code",
   "execution_count": 97,
   "id": "252dc6c0",
   "metadata": {},
   "outputs": [],
   "source": [
    "import pandas as pd\n",
    "import numpy as np"
   ]
  },
  {
   "cell_type": "code",
   "execution_count": 98,
   "id": "dac93d3f",
   "metadata": {},
   "outputs": [],
   "source": [
    "filename = 'translations_for_eval'\n",
    "df = pd.read_csv('results/' + filename + '.csv',index_col=0)"
   ]
  },
  {
   "cell_type": "code",
   "execution_count": 99,
   "id": "58621fea",
   "metadata": {},
   "outputs": [
    {
     "data": {
      "text/plain": [
       "array(['in this day and age', 'to be on hold', 'to close the door',\n",
       "       'to take it easy', 'to pass on', 'to go places',\n",
       "       'to be in the picture', 'in the heat of the moment', 'to rough it',\n",
       "       'to clear the way', 'to have a look around', 'man and boy',\n",
       "       'to sweat blood', 'to sell out', 'to be in the know',\n",
       "       'to go the extra mile', 'i hear you .', 'in a nutshell',\n",
       "       'to pull together', 'the genuine article', 'to lose face',\n",
       "       'i say !', 'by hook or crook', 'to fly by', 'take care !',\n",
       "       'it takes two to tango .', 'to beat it', 'to come to the fore',\n",
       "       'to get out of hand', 'to go west', 'without a shadow of a doubt',\n",
       "       'please take your time .', 'to have legs', 'to be miles away',\n",
       "       'have a seat .', 'make yourself at home !',\n",
       "       'without batting an eyelid', 'to be spoilt for choice',\n",
       "       'a square circle', 'to be a gas', 'head over heels',\n",
       "       'written in stone', 'you name it !', 'this is your chance .',\n",
       "       'a sight for sore eyes', 'to get the ball rolling',\n",
       "       'the floor is yours .', 'short and sweet', 'to land a job',\n",
       "       'enjoy your meal !', 'to be on fire', 'to take the heat',\n",
       "       'to think outside the box', 'to buy a pig in a poke',\n",
       "       'to raise the bar', 'beyond a shadow of a doubt',\n",
       "       'something &apos;s up .', 'to feel fine', 'to bite the bullet',\n",
       "       'to put up a fight', 'to kill two birds with one stone',\n",
       "       'to go to the dogs', 'to swallow the bitter pill',\n",
       "       'those were the days .', 'to set the ball rolling',\n",
       "       'cheap and cheerful', 'the die is cast .', 'to talk big'],\n",
       "      dtype=object)"
      ]
     },
     "execution_count": 99,
     "metadata": {},
     "output_type": "execute_result"
    }
   ],
   "source": [
    "df['en_idiom'].unique()"
   ]
  },
  {
   "cell_type": "code",
   "execution_count": 100,
   "id": "bb47b6f3",
   "metadata": {},
   "outputs": [
    {
     "data": {
      "text/plain": [
       "1500"
      ]
     },
     "execution_count": 100,
     "metadata": {},
     "output_type": "execute_result"
    }
   ],
   "source": [
    "len(df)"
   ]
  },
  {
   "cell_type": "code",
   "execution_count": 101,
   "id": "27fcc4b1",
   "metadata": {},
   "outputs": [
    {
     "data": {
      "text/plain": [
       "40"
      ]
     },
     "execution_count": 101,
     "metadata": {},
     "output_type": "execute_result"
    }
   ],
   "source": [
    "inds = [4, 6, 343, 1341, 1052, 1354, 1305, 1280, 1258, 831, 880, 990, 1456, 208, 455, 774, 1310, 1364, 15, 507, 235, 850,\n",
    "1382, 408, 617, 181, 892, 1276, 1343, 499, 1236, 1177, 1193, 1227, 1185, 1252, 8, 1327, 1423, 1392]\n",
    "inds = list(set(inds))\n",
    "len(inds)\n"
   ]
  },
  {
   "cell_type": "code",
   "execution_count": 102,
   "id": "dbbb527a",
   "metadata": {},
   "outputs": [
    {
     "data": {
      "text/html": [
       "<div>\n",
       "<style scoped>\n",
       "    .dataframe tbody tr th:only-of-type {\n",
       "        vertical-align: middle;\n",
       "    }\n",
       "\n",
       "    .dataframe tbody tr th {\n",
       "        vertical-align: top;\n",
       "    }\n",
       "\n",
       "    .dataframe thead th {\n",
       "        text-align: right;\n",
       "    }\n",
       "</style>\n",
       "<table border=\"1\" class=\"dataframe\">\n",
       "  <thead>\n",
       "    <tr style=\"text-align: right;\">\n",
       "      <th></th>\n",
       "      <th>en</th>\n",
       "      <th>de</th>\n",
       "      <th>en_idiom</th>\n",
       "      <th>en_task</th>\n",
       "      <th>existing_task</th>\n",
       "    </tr>\n",
       "  </thead>\n",
       "  <tbody>\n",
       "    <tr>\n",
       "      <th>0</th>\n",
       "      <td>In this day and age , when evidently many find...</td>\n",
       "      <td>In einer Zeit wie dieser , in der viele offens...</td>\n",
       "      <td>in this day and age</td>\n",
       "      <td>translate English to German: In this day and a...</td>\n",
       "      <td>&lt;pad&gt; In der heutigen Zeit, in der offensichtl...</td>\n",
       "    </tr>\n",
       "    <tr>\n",
       "      <th>1</th>\n",
       "      <td>In Romania , the election campaign will be a c...</td>\n",
       "      <td>In Rumänien wird der Wahlkampf die Chance biet...</td>\n",
       "      <td>to be on hold</td>\n",
       "      <td>translate English to German: In Romania , the ...</td>\n",
       "      <td>&lt;pad&gt; In Rumänien wird der Wahlkampf eine Gele...</td>\n",
       "    </tr>\n",
       "    <tr>\n",
       "      <th>2</th>\n",
       "      <td>Let us work to close the back door to illegal ...</td>\n",
       "      <td>Gemeinsam sollten wir wirksam die Schlupflöche...</td>\n",
       "      <td>to close the door</td>\n",
       "      <td>translate English to German: Let us work to cl...</td>\n",
       "      <td>&lt;pad&gt; Lassen Sie uns daran arbeiten, die Hinte...</td>\n",
       "    </tr>\n",
       "    <tr>\n",
       "      <th>3</th>\n",
       "      <td>The region is easily reached by rail ( interna...</td>\n",
       "      <td>Das Gebiet ist mit der Eisenbahn erreichbar , ...</td>\n",
       "      <td>to take it easy</td>\n",
       "      <td>translate English to German: The region is eas...</td>\n",
       "      <td>&lt;pad&gt; Die Region ist leicht mit der Bahn errei...</td>\n",
       "    </tr>\n",
       "    <tr>\n",
       "      <th>4</th>\n",
       "      <td>I cannot enter into debate , but I pass on tha...</td>\n",
       "      <td>Ich kann mich auf keine Diskussion einlassen ,...</td>\n",
       "      <td>to pass on</td>\n",
       "      <td>translate English to German: I cannot enter in...</td>\n",
       "      <td>&lt;pad&gt; Ich kann nicht in die Debatte eintreten,...</td>\n",
       "    </tr>\n",
       "    <tr>\n",
       "      <th>...</th>\n",
       "      <td>...</td>\n",
       "      <td>...</td>\n",
       "      <td>...</td>\n",
       "      <td>...</td>\n",
       "      <td>...</td>\n",
       "    </tr>\n",
       "    <tr>\n",
       "      <th>1495</th>\n",
       "      <td>I would ask you to pass on the question to the...</td>\n",
       "      <td>Ich bitte Sie , einmal die Frage an den Geschä...</td>\n",
       "      <td>to pass on</td>\n",
       "      <td>translate English to German: I would ask you t...</td>\n",
       "      <td>&lt;pad&gt; Ich bitte Sie, die Frage an den Geschäft...</td>\n",
       "    </tr>\n",
       "    <tr>\n",
       "      <th>1496</th>\n",
       "      <td>From now on , we know that the only significan...</td>\n",
       "      <td>Nunmehr wissen wir , dass die einzige signifik...</td>\n",
       "      <td>to be in the know</td>\n",
       "      <td>translate English to German: From now on , we ...</td>\n",
       "      <td>&lt;pad&gt; Von nun an wissen wir, dass die einzige ...</td>\n",
       "    </tr>\n",
       "    <tr>\n",
       "      <th>1497</th>\n",
       "      <td>This is the custom . It is perhaps not justifi...</td>\n",
       "      <td>Das ist ein vielleicht unverdienter Brauch , a...</td>\n",
       "      <td>take care !</td>\n",
       "      <td>translate English to German: This is the custo...</td>\n",
       "      <td>&lt;pad&gt; Das ist die Gewohnheit, vielleicht nicht...</td>\n",
       "    </tr>\n",
       "    <tr>\n",
       "      <th>1498</th>\n",
       "      <td>Terrorism is the child of fundamentalism , whi...</td>\n",
       "      <td>Der Terrorismus ist ein Abkömmling des Fundame...</td>\n",
       "      <td>to beat it</td>\n",
       "      <td>translate English to German: Terrorism is the ...</td>\n",
       "      <td>&lt;pad&gt; Der Terrorismus ist das Kind des Fundame...</td>\n",
       "    </tr>\n",
       "    <tr>\n",
       "      <th>1499</th>\n",
       "      <td>Many birds fly freely in the building and are ...</td>\n",
       "      <td>Viele Vögel fliegen frei im Haus und sind oft ...</td>\n",
       "      <td>to fly by</td>\n",
       "      <td>translate English to German: Many birds fly fr...</td>\n",
       "      <td>&lt;pad&gt; Viele Vögel fliegen frei im Gebäude und ...</td>\n",
       "    </tr>\n",
       "  </tbody>\n",
       "</table>\n",
       "<p>1500 rows × 5 columns</p>\n",
       "</div>"
      ],
      "text/plain": [
       "                                                     en  \\\n",
       "0     In this day and age , when evidently many find...   \n",
       "1     In Romania , the election campaign will be a c...   \n",
       "2     Let us work to close the back door to illegal ...   \n",
       "3     The region is easily reached by rail ( interna...   \n",
       "4     I cannot enter into debate , but I pass on tha...   \n",
       "...                                                 ...   \n",
       "1495  I would ask you to pass on the question to the...   \n",
       "1496  From now on , we know that the only significan...   \n",
       "1497  This is the custom . It is perhaps not justifi...   \n",
       "1498  Terrorism is the child of fundamentalism , whi...   \n",
       "1499  Many birds fly freely in the building and are ...   \n",
       "\n",
       "                                                     de             en_idiom  \\\n",
       "0     In einer Zeit wie dieser , in der viele offens...  in this day and age   \n",
       "1     In Rumänien wird der Wahlkampf die Chance biet...        to be on hold   \n",
       "2     Gemeinsam sollten wir wirksam die Schlupflöche...    to close the door   \n",
       "3     Das Gebiet ist mit der Eisenbahn erreichbar , ...      to take it easy   \n",
       "4     Ich kann mich auf keine Diskussion einlassen ,...           to pass on   \n",
       "...                                                 ...                  ...   \n",
       "1495  Ich bitte Sie , einmal die Frage an den Geschä...           to pass on   \n",
       "1496  Nunmehr wissen wir , dass die einzige signifik...    to be in the know   \n",
       "1497  Das ist ein vielleicht unverdienter Brauch , a...          take care !   \n",
       "1498  Der Terrorismus ist ein Abkömmling des Fundame...           to beat it   \n",
       "1499  Viele Vögel fliegen frei im Haus und sind oft ...            to fly by   \n",
       "\n",
       "                                                en_task  \\\n",
       "0     translate English to German: In this day and a...   \n",
       "1     translate English to German: In Romania , the ...   \n",
       "2     translate English to German: Let us work to cl...   \n",
       "3     translate English to German: The region is eas...   \n",
       "4     translate English to German: I cannot enter in...   \n",
       "...                                                 ...   \n",
       "1495  translate English to German: I would ask you t...   \n",
       "1496  translate English to German: From now on , we ...   \n",
       "1497  translate English to German: This is the custo...   \n",
       "1498  translate English to German: Terrorism is the ...   \n",
       "1499  translate English to German: Many birds fly fr...   \n",
       "\n",
       "                                          existing_task  \n",
       "0     <pad> In der heutigen Zeit, in der offensichtl...  \n",
       "1     <pad> In Rumänien wird der Wahlkampf eine Gele...  \n",
       "2     <pad> Lassen Sie uns daran arbeiten, die Hinte...  \n",
       "3     <pad> Die Region ist leicht mit der Bahn errei...  \n",
       "4     <pad> Ich kann nicht in die Debatte eintreten,...  \n",
       "...                                                 ...  \n",
       "1495  <pad> Ich bitte Sie, die Frage an den Geschäft...  \n",
       "1496  <pad> Von nun an wissen wir, dass die einzige ...  \n",
       "1497  <pad> Das ist die Gewohnheit, vielleicht nicht...  \n",
       "1498  <pad> Der Terrorismus ist das Kind des Fundame...  \n",
       "1499  <pad> Viele Vögel fliegen frei im Gebäude und ...  \n",
       "\n",
       "[1500 rows x 5 columns]"
      ]
     },
     "execution_count": 102,
     "metadata": {},
     "output_type": "execute_result"
    }
   ],
   "source": [
    "df"
   ]
  },
  {
   "cell_type": "code",
   "execution_count": 103,
   "id": "b7e58308",
   "metadata": {},
   "outputs": [
    {
     "data": {
      "text/html": [
       "<div>\n",
       "<style scoped>\n",
       "    .dataframe tbody tr th:only-of-type {\n",
       "        vertical-align: middle;\n",
       "    }\n",
       "\n",
       "    .dataframe tbody tr th {\n",
       "        vertical-align: top;\n",
       "    }\n",
       "\n",
       "    .dataframe thead th {\n",
       "        text-align: right;\n",
       "    }\n",
       "</style>\n",
       "<table border=\"1\" class=\"dataframe\">\n",
       "  <thead>\n",
       "    <tr style=\"text-align: right;\">\n",
       "      <th></th>\n",
       "      <th>idiom</th>\n",
       "      <th>input</th>\n",
       "      <th>output</th>\n",
       "    </tr>\n",
       "  </thead>\n",
       "  <tbody>\n",
       "    <tr>\n",
       "      <th>0</th>\n",
       "      <td>in this day and age</td>\n",
       "      <td>In this day and age , we are dependent on many...</td>\n",
       "      <td>Heute sind wir von vielen Faktoren abhängig.</td>\n",
       "    </tr>\n",
       "    <tr>\n",
       "      <th>1</th>\n",
       "      <td>to pass on</td>\n",
       "      <td>I cannot enter into debate , but I pass on tha...</td>\n",
       "      <td>Ich kann nicht in die Debatte eintreten, aber ...</td>\n",
       "    </tr>\n",
       "    <tr>\n",
       "      <th>2</th>\n",
       "      <td>to be in the picture</td>\n",
       "      <td>It is in Werner Otto 's nature to be forward-l...</td>\n",
       "      <td>Es ist in Werner Ottos Natur, zukunftsweisend ...</td>\n",
       "    </tr>\n",
       "    <tr>\n",
       "      <th>3</th>\n",
       "      <td>to be in the know</td>\n",
       "      <td>Fishermen , as we all know , need to be includ...</td>\n",
       "      <td>Die Fischer müssen, wie wir alle wissen, in de...</td>\n",
       "    </tr>\n",
       "    <tr>\n",
       "      <th>4</th>\n",
       "      <td>in the heat of the moment</td>\n",
       "      <td>We need time to reflect , because what emerged...</td>\n",
       "      <td>Wir brauchen Zeit, um nachzudenken, denn das, ...</td>\n",
       "    </tr>\n",
       "  </tbody>\n",
       "</table>\n",
       "</div>"
      ],
      "text/plain": [
       "                       idiom  \\\n",
       "0        in this day and age   \n",
       "1                 to pass on   \n",
       "2       to be in the picture   \n",
       "3          to be in the know   \n",
       "4  in the heat of the moment   \n",
       "\n",
       "                                               input  \\\n",
       "0  In this day and age , we are dependent on many...   \n",
       "1  I cannot enter into debate , but I pass on tha...   \n",
       "2  It is in Werner Otto 's nature to be forward-l...   \n",
       "3  Fishermen , as we all know , need to be includ...   \n",
       "4  We need time to reflect , because what emerged...   \n",
       "\n",
       "                                              output  \n",
       "0       Heute sind wir von vielen Faktoren abhängig.  \n",
       "1  Ich kann nicht in die Debatte eintreten, aber ...  \n",
       "2  Es ist in Werner Ottos Natur, zukunftsweisend ...  \n",
       "3  Die Fischer müssen, wie wir alle wissen, in de...  \n",
       "4  Wir brauchen Zeit, um nachzudenken, denn das, ...  "
      ]
     },
     "execution_count": 103,
     "metadata": {},
     "output_type": "execute_result"
    }
   ],
   "source": [
    "eval_df = df.loc[inds]\n",
    "eval_df = eval_df.drop(columns=['de', 'en_task'])\n",
    "eval_df.columns = ['input', 'idiom', 'output']\n",
    "eval_df = eval_df[['idiom', 'input', 'output']]\n",
    "eval_df.reset_index(inplace=True, drop=True)\n",
    "\n",
    "out = eval_df['output'].to_list()\n",
    "clean_out = [s.replace('<pad> ','').replace(\"</s>\",'').replace(\" <pad>\",'').replace(\"Idiom: \",\"\") for s in out]\n",
    "eval_df['output'] = clean_out\n",
    "\n",
    "eval_df.head()"
   ]
  },
  {
   "cell_type": "code",
   "execution_count": 104,
   "id": "6fe62de9",
   "metadata": {},
   "outputs": [],
   "source": [
    "eval_df.to_csv('results/evaluation_data_e2e.csv')"
   ]
  },
  {
   "cell_type": "code",
   "execution_count": null,
   "id": "140f9d60",
   "metadata": {},
   "outputs": [],
   "source": []
  },
  {
   "cell_type": "code",
   "execution_count": null,
   "id": "028cab00",
   "metadata": {},
   "outputs": [],
   "source": []
  },
  {
   "cell_type": "code",
   "execution_count": null,
   "id": "0567abee",
   "metadata": {},
   "outputs": [],
   "source": []
  },
  {
   "cell_type": "code",
   "execution_count": null,
   "id": "6ad25969",
   "metadata": {},
   "outputs": [],
   "source": []
  }
 ],
 "metadata": {
  "kernelspec": {
   "display_name": "Python 3",
   "language": "python",
   "name": "python3"
  },
  "language_info": {
   "codemirror_mode": {
    "name": "ipython",
    "version": 3
   },
   "file_extension": ".py",
   "mimetype": "text/x-python",
   "name": "python",
   "nbconvert_exporter": "python",
   "pygments_lexer": "ipython3",
   "version": "3.9.12"
  }
 },
 "nbformat": 4,
 "nbformat_minor": 5
}
