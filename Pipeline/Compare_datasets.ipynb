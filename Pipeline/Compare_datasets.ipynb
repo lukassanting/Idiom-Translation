{
  "nbformat": 4,
  "nbformat_minor": 0,
  "metadata": {
    "colab": {
      "name": "Compare datasets.ipynb",
      "provenance": [],
      "collapsed_sections": []
    },
    "kernelspec": {
      "name": "python3",
      "display_name": "Python 3"
    },
    "language_info": {
      "name": "python"
    }
  },
  "cells": [
    {
      "cell_type": "markdown",
      "source": [
        "# Compare the idiom paraphrase and EN-DE idiom translation datasets"
      ],
      "metadata": {
        "id": "phpq8qorpJgX"
      }
    },
    {
      "cell_type": "markdown",
      "source": [
        "## Load Data"
      ],
      "metadata": {
        "id": "sBLxn2gHxUik"
      }
    },
    {
      "cell_type": "code",
      "source": [
        "import pandas as pd\n",
        "from google.colab import drive\n",
        "\n",
        "from random import randrange, choice\n",
        "import re\n",
        "import nltk\n",
        "from nltk import word_tokenize\n",
        "nltk.download('punkt')"
      ],
      "metadata": {
        "id": "SEOZ9_wlq2bm",
        "colab": {
          "base_uri": "https://localhost:8080/"
        },
        "outputId": "600010ce-4518-484e-dfc2-ceebfdc8f7b8"
      },
      "execution_count": null,
      "outputs": [
        {
          "output_type": "stream",
          "name": "stdout",
          "text": [
            "[nltk_data] Downloading package punkt to /root/nltk_data...\n",
            "[nltk_data]   Package punkt is already up-to-date!\n"
          ]
        },
        {
          "output_type": "execute_result",
          "data": {
            "text/plain": [
              "True"
            ]
          },
          "metadata": {},
          "execution_count": 41
        }
      ]
    },
    {
      "cell_type": "code",
      "source": [
        "drive.mount('/content/drive')\n",
        "dir = \"/content/drive/MyDrive/MRP Idiom Translation/\""
      ],
      "metadata": {
        "colab": {
          "base_uri": "https://localhost:8080/"
        },
        "id": "eXF3l6hVqyMM",
        "outputId": "5562d131-582c-4220-f4c1-f594393d79fa"
      },
      "execution_count": null,
      "outputs": [
        {
          "output_type": "stream",
          "name": "stdout",
          "text": [
            "Mounted at /content/drive\n"
          ]
        }
      ]
    },
    {
      "cell_type": "code",
      "execution_count": null,
      "metadata": {
        "id": "LVSAfHJ2oy4v"
      },
      "outputs": [],
      "source": [
        "# # Load EN-DE dataset\n",
        "# base_path=dir+\"IdiomTranslationDS-master/en-de/\"\n",
        "# en = pd.read_csv(base_path+'idiom_test.en',sep='\\n', header=None,names=['en'])\n",
        "# de = pd.read_csv(base_path+'idiom_test.de',sep='\\n', header=None,names=['de'])\n",
        "# info = pd.read_csv(base_path+'idiom_test.info',sep='\\t',header=None,names=[\"spread\", \"en_idiom\", \"de_idiom\",'frequency'])\n",
        "# data_ende = pd.concat([en,de,info],axis=1)\n",
        "# data_ende.columns = ['en','de',\"spread\", \"en_idiom\", \"de_idiom\",'frequency']\n",
        "# data_ende"
      ]
    },
    {
      "cell_type": "code",
      "source": [
        "def clean_data(data):\n",
        "  data_clean = data.copy(deep=True)\n",
        "  for i in range(len(data_clean.columns)):\n",
        "    data_clean.iloc[:,i] = data_clean.iloc[:,i].apply(lambda x: re.sub('&apos;', '\\'', x))\n",
        "    data_clean.iloc[:,i] = data_clean.iloc[:,i].apply(lambda x: re.sub('&quot;', '\\\"', x))\n",
        "    data_clean.iloc[:,i] = data_clean.iloc[:,i].apply(lambda x: re.sub('&#124;', '|', x))\n",
        "    data_clean.iloc[:,i] = data_clean.iloc[:,i].apply(lambda x: re.sub('&#93;', ']', x))\n",
        "    data_clean.iloc[:,i] = data_clean.iloc[:,i].apply(lambda x: re.sub('&#91;', '[', x))\n",
        "    data_clean.iloc[:,i] = data_clean.iloc[:,i].apply(lambda x: re.sub('&gt;', '>', x))\n",
        "    data_clean.iloc[:,i] = data_clean.iloc[:,i].apply(lambda x: re.sub('&lt;', '<', x))\n",
        "\n",
        "  return data_clean"
      ],
      "metadata": {
        "id": "MuP3VjZp56lu"
      },
      "execution_count": null,
      "outputs": []
    },
    {
      "cell_type": "code",
      "source": [
        "# Load EN-DE dataset\n",
        "base_path=dir+\"IdiomTranslationDS-master/en-de/\"\n",
        "ende = pd.read_csv(base_path+\"test_compare_cleaned.csv\")\n",
        "data_ende = pd.DataFrame(columns=[\"idiom\", \"input\"])\n",
        "\n",
        "for i in range(len(ende)):\n",
        "  if ende['Wrong'].iloc[i] != 'x':\n",
        "    data_ende = data_ende.append({\"idiom\": ende['en_idiom'].iloc[i], \"input\": ende['en'].iloc[i]}, ignore_index=True)\n",
        "\n",
        "data_ende = clean_data(data_ende)"
      ],
      "metadata": {
        "id": "CWY2-Dn4_Xj6"
      },
      "execution_count": null,
      "outputs": []
    },
    {
      "cell_type": "code",
      "source": [
        "data_ende"
      ],
      "metadata": {
        "colab": {
          "base_uri": "https://localhost:8080/",
          "height": 424
        },
        "id": "XdwZMsBNrkpM",
        "outputId": "9677f49f-06a6-4596-9a7f-1ef473159eb6"
      },
      "execution_count": null,
      "outputs": [
        {
          "output_type": "execute_result",
          "data": {
            "text/plain": [
              "                    idiom                                              input\n",
              "0     in this day and age  In this day and age , when evidently many find...\n",
              "1           to be on hold  In Romania , the election campaign will be a c...\n",
              "2       to close the door  Let us work to close the back door to illegal ...\n",
              "3         to take it easy  The region is easily reached by rail ( interna...\n",
              "4              to pass on  I cannot enter into debate , but I pass on tha...\n",
              "...                   ...                                                ...\n",
              "1267           to pass on  I would ask you to pass on the question to the...\n",
              "1268    to be in the know  From now on , we know that the only significan...\n",
              "1269          take care !  This is the custom . It is perhaps not justifi...\n",
              "1270           to beat it  Terrorism is the child of fundamentalism , whi...\n",
              "1271            to fly by  Many birds fly freely in the building and are ...\n",
              "\n",
              "[1272 rows x 2 columns]"
            ],
            "text/html": [
              "\n",
              "  <div id=\"df-1721d413-ff5b-42c7-8ac2-322004ecced3\">\n",
              "    <div class=\"colab-df-container\">\n",
              "      <div>\n",
              "<style scoped>\n",
              "    .dataframe tbody tr th:only-of-type {\n",
              "        vertical-align: middle;\n",
              "    }\n",
              "\n",
              "    .dataframe tbody tr th {\n",
              "        vertical-align: top;\n",
              "    }\n",
              "\n",
              "    .dataframe thead th {\n",
              "        text-align: right;\n",
              "    }\n",
              "</style>\n",
              "<table border=\"1\" class=\"dataframe\">\n",
              "  <thead>\n",
              "    <tr style=\"text-align: right;\">\n",
              "      <th></th>\n",
              "      <th>idiom</th>\n",
              "      <th>input</th>\n",
              "    </tr>\n",
              "  </thead>\n",
              "  <tbody>\n",
              "    <tr>\n",
              "      <th>0</th>\n",
              "      <td>in this day and age</td>\n",
              "      <td>In this day and age , when evidently many find...</td>\n",
              "    </tr>\n",
              "    <tr>\n",
              "      <th>1</th>\n",
              "      <td>to be on hold</td>\n",
              "      <td>In Romania , the election campaign will be a c...</td>\n",
              "    </tr>\n",
              "    <tr>\n",
              "      <th>2</th>\n",
              "      <td>to close the door</td>\n",
              "      <td>Let us work to close the back door to illegal ...</td>\n",
              "    </tr>\n",
              "    <tr>\n",
              "      <th>3</th>\n",
              "      <td>to take it easy</td>\n",
              "      <td>The region is easily reached by rail ( interna...</td>\n",
              "    </tr>\n",
              "    <tr>\n",
              "      <th>4</th>\n",
              "      <td>to pass on</td>\n",
              "      <td>I cannot enter into debate , but I pass on tha...</td>\n",
              "    </tr>\n",
              "    <tr>\n",
              "      <th>...</th>\n",
              "      <td>...</td>\n",
              "      <td>...</td>\n",
              "    </tr>\n",
              "    <tr>\n",
              "      <th>1267</th>\n",
              "      <td>to pass on</td>\n",
              "      <td>I would ask you to pass on the question to the...</td>\n",
              "    </tr>\n",
              "    <tr>\n",
              "      <th>1268</th>\n",
              "      <td>to be in the know</td>\n",
              "      <td>From now on , we know that the only significan...</td>\n",
              "    </tr>\n",
              "    <tr>\n",
              "      <th>1269</th>\n",
              "      <td>take care !</td>\n",
              "      <td>This is the custom . It is perhaps not justifi...</td>\n",
              "    </tr>\n",
              "    <tr>\n",
              "      <th>1270</th>\n",
              "      <td>to beat it</td>\n",
              "      <td>Terrorism is the child of fundamentalism , whi...</td>\n",
              "    </tr>\n",
              "    <tr>\n",
              "      <th>1271</th>\n",
              "      <td>to fly by</td>\n",
              "      <td>Many birds fly freely in the building and are ...</td>\n",
              "    </tr>\n",
              "  </tbody>\n",
              "</table>\n",
              "<p>1272 rows × 2 columns</p>\n",
              "</div>\n",
              "      <button class=\"colab-df-convert\" onclick=\"convertToInteractive('df-1721d413-ff5b-42c7-8ac2-322004ecced3')\"\n",
              "              title=\"Convert this dataframe to an interactive table.\"\n",
              "              style=\"display:none;\">\n",
              "        \n",
              "  <svg xmlns=\"http://www.w3.org/2000/svg\" height=\"24px\"viewBox=\"0 0 24 24\"\n",
              "       width=\"24px\">\n",
              "    <path d=\"M0 0h24v24H0V0z\" fill=\"none\"/>\n",
              "    <path d=\"M18.56 5.44l.94 2.06.94-2.06 2.06-.94-2.06-.94-.94-2.06-.94 2.06-2.06.94zm-11 1L8.5 8.5l.94-2.06 2.06-.94-2.06-.94L8.5 2.5l-.94 2.06-2.06.94zm10 10l.94 2.06.94-2.06 2.06-.94-2.06-.94-.94-2.06-.94 2.06-2.06.94z\"/><path d=\"M17.41 7.96l-1.37-1.37c-.4-.4-.92-.59-1.43-.59-.52 0-1.04.2-1.43.59L10.3 9.45l-7.72 7.72c-.78.78-.78 2.05 0 2.83L4 21.41c.39.39.9.59 1.41.59.51 0 1.02-.2 1.41-.59l7.78-7.78 2.81-2.81c.8-.78.8-2.07 0-2.86zM5.41 20L4 18.59l7.72-7.72 1.47 1.35L5.41 20z\"/>\n",
              "  </svg>\n",
              "      </button>\n",
              "      \n",
              "  <style>\n",
              "    .colab-df-container {\n",
              "      display:flex;\n",
              "      flex-wrap:wrap;\n",
              "      gap: 12px;\n",
              "    }\n",
              "\n",
              "    .colab-df-convert {\n",
              "      background-color: #E8F0FE;\n",
              "      border: none;\n",
              "      border-radius: 50%;\n",
              "      cursor: pointer;\n",
              "      display: none;\n",
              "      fill: #1967D2;\n",
              "      height: 32px;\n",
              "      padding: 0 0 0 0;\n",
              "      width: 32px;\n",
              "    }\n",
              "\n",
              "    .colab-df-convert:hover {\n",
              "      background-color: #E2EBFA;\n",
              "      box-shadow: 0px 1px 2px rgba(60, 64, 67, 0.3), 0px 1px 3px 1px rgba(60, 64, 67, 0.15);\n",
              "      fill: #174EA6;\n",
              "    }\n",
              "\n",
              "    [theme=dark] .colab-df-convert {\n",
              "      background-color: #3B4455;\n",
              "      fill: #D2E3FC;\n",
              "    }\n",
              "\n",
              "    [theme=dark] .colab-df-convert:hover {\n",
              "      background-color: #434B5C;\n",
              "      box-shadow: 0px 1px 3px 1px rgba(0, 0, 0, 0.15);\n",
              "      filter: drop-shadow(0px 1px 2px rgba(0, 0, 0, 0.3));\n",
              "      fill: #FFFFFF;\n",
              "    }\n",
              "  </style>\n",
              "\n",
              "      <script>\n",
              "        const buttonEl =\n",
              "          document.querySelector('#df-1721d413-ff5b-42c7-8ac2-322004ecced3 button.colab-df-convert');\n",
              "        buttonEl.style.display =\n",
              "          google.colab.kernel.accessAllowed ? 'block' : 'none';\n",
              "\n",
              "        async function convertToInteractive(key) {\n",
              "          const element = document.querySelector('#df-1721d413-ff5b-42c7-8ac2-322004ecced3');\n",
              "          const dataTable =\n",
              "            await google.colab.kernel.invokeFunction('convertToInteractive',\n",
              "                                                     [key], {});\n",
              "          if (!dataTable) return;\n",
              "\n",
              "          const docLinkHtml = 'Like what you see? Visit the ' +\n",
              "            '<a target=\"_blank\" href=https://colab.research.google.com/notebooks/data_table.ipynb>data table notebook</a>'\n",
              "            + ' to learn more about interactive tables.';\n",
              "          element.innerHTML = '';\n",
              "          dataTable['output_type'] = 'display_data';\n",
              "          await google.colab.output.renderOutput(dataTable, element);\n",
              "          const docLink = document.createElement('div');\n",
              "          docLink.innerHTML = docLinkHtml;\n",
              "          element.appendChild(docLink);\n",
              "        }\n",
              "      </script>\n",
              "    </div>\n",
              "  </div>\n",
              "  "
            ]
          },
          "metadata": {},
          "execution_count": 5
        }
      ]
    },
    {
      "cell_type": "code",
      "source": [
        "# Load paraphrase dataset\n",
        "data_par = pd.read_csv(dir+'data/'+'data_cleaned.csv')\n",
        "data_par_test = pd.read_csv(dir+'data/'+\"data_nopref_test_split1.csv\", sep=\"=\")\n",
        "data_par_test_IOB = pd.read_csv(dir+'data/'+\"data_test_IOB_split1.csv\", sep=\"=\")"
      ],
      "metadata": {
        "id": "-upzzF9GroCq"
      },
      "execution_count": null,
      "outputs": []
    },
    {
      "cell_type": "markdown",
      "source": [
        "## Check for overlap"
      ],
      "metadata": {
        "id": "Z9yp-QbgxXYf"
      }
    },
    {
      "cell_type": "markdown",
      "source": [
        "### Exactly equal idioms"
      ],
      "metadata": {
        "id": "4ncCNLNmxbwK"
      }
    },
    {
      "cell_type": "code",
      "source": [
        "# Check for exact overlap in idioms\n",
        "matches=[]\n",
        "for i in range(len(data_ende)):\n",
        "  for j in range(len(data_par)):\n",
        "    if data_ende[\"idiom\"].iloc[i] == data_par[\"Idiom\"].iloc[j]:\n",
        "      matches.append(data_ende[\"idiom\"].iloc[i])\n",
        "\n",
        "print(matches)"
      ],
      "metadata": {
        "colab": {
          "base_uri": "https://localhost:8080/"
        },
        "id": "NIM4y5ElsM3a",
        "outputId": "081c7827-f8cc-4292-c0e3-32699119b4c3"
      },
      "execution_count": null,
      "outputs": [
        {
          "output_type": "stream",
          "name": "stdout",
          "text": [
            "['in a nutshell', 'in a nutshell', 'in a nutshell', 'in a nutshell', 'in a nutshell', 'in a nutshell', 'in a nutshell', 'in a nutshell', 'in a nutshell', 'in a nutshell', 'in a nutshell', 'in a nutshell', 'in a nutshell', 'in a nutshell', 'in a nutshell', 'in a nutshell', 'in a nutshell', 'in a nutshell', 'in a nutshell', 'in a nutshell', 'in a nutshell', 'in a nutshell', 'in a nutshell', 'in a nutshell', 'in a nutshell', 'in a nutshell', 'in a nutshell', 'in a nutshell', 'in a nutshell', 'in a nutshell', 'in a nutshell', 'in a nutshell', 'in a nutshell', 'in a nutshell', 'in a nutshell', 'in a nutshell', 'in a nutshell', 'in a nutshell', 'in a nutshell', 'in a nutshell', 'in a nutshell', 'in a nutshell', 'in a nutshell', 'in a nutshell', 'in a nutshell', 'in a nutshell', 'in a nutshell', 'in a nutshell', 'in a nutshell', 'in a nutshell', 'in a nutshell', 'in a nutshell', 'in a nutshell', 'in a nutshell', 'in a nutshell', 'in a nutshell', 'in a nutshell', 'in a nutshell', 'in a nutshell', 'in a nutshell', 'in a nutshell', 'in a nutshell', 'in a nutshell', 'in a nutshell', 'in a nutshell', 'in a nutshell', 'in a nutshell', 'in a nutshell', 'in a nutshell', 'in a nutshell', 'head over heels', 'head over heels', 'head over heels', 'head over heels', 'head over heels', 'head over heels', 'in a nutshell', 'in a nutshell', 'in a nutshell', 'in a nutshell', 'in a nutshell', 'in a nutshell', 'in a nutshell', 'in a nutshell', 'in a nutshell', 'in a nutshell', 'a sight for sore eyes', 'a sight for sore eyes', 'a sight for sore eyes', 'a sight for sore eyes', 'a sight for sore eyes', 'in a nutshell', 'in a nutshell', 'in a nutshell', 'in a nutshell', 'in a nutshell', 'in a nutshell', 'in a nutshell', 'in a nutshell', 'in a nutshell', 'in a nutshell', 'in a nutshell', 'in a nutshell', 'in a nutshell', 'in a nutshell', 'in a nutshell', 'in a nutshell', 'in a nutshell', 'in a nutshell', 'in a nutshell', 'in a nutshell', 'in a nutshell', 'in a nutshell', 'in a nutshell', 'in a nutshell', 'in a nutshell', 'in a nutshell', 'in a nutshell', 'in a nutshell', 'in a nutshell', 'in a nutshell', 'in a nutshell', 'in a nutshell', 'in a nutshell', 'in a nutshell', 'in a nutshell', 'in a nutshell', 'in a nutshell', 'in a nutshell', 'in a nutshell', 'in a nutshell', 'in a nutshell', 'in a nutshell', 'in a nutshell', 'in a nutshell', 'in a nutshell', 'in a nutshell', 'in a nutshell', 'in a nutshell', 'in a nutshell', 'in a nutshell', 'in a nutshell', 'in a nutshell', 'in a nutshell', 'in a nutshell', 'in a nutshell', 'in a nutshell', 'in a nutshell', 'in a nutshell', 'in a nutshell', 'in a nutshell', 'a sight for sore eyes', 'a sight for sore eyes', 'a sight for sore eyes', 'a sight for sore eyes', 'a sight for sore eyes', 'in a nutshell', 'in a nutshell', 'in a nutshell', 'in a nutshell', 'in a nutshell', 'in a nutshell', 'in a nutshell', 'in a nutshell', 'in a nutshell', 'in a nutshell', 'in a nutshell', 'in a nutshell', 'in a nutshell', 'in a nutshell', 'in a nutshell', 'in a nutshell', 'in a nutshell', 'in a nutshell', 'in a nutshell', 'in a nutshell', 'in a nutshell', 'in a nutshell', 'in a nutshell', 'in a nutshell', 'in a nutshell', 'in a nutshell', 'in a nutshell', 'in a nutshell', 'in a nutshell', 'in a nutshell', 'in a nutshell', 'in a nutshell', 'in a nutshell', 'in a nutshell', 'in a nutshell', 'in a nutshell', 'in a nutshell', 'in a nutshell', 'in a nutshell', 'in a nutshell', 'in a nutshell', 'in a nutshell', 'in a nutshell', 'in a nutshell', 'in a nutshell', 'in a nutshell', 'in a nutshell', 'in a nutshell', 'in a nutshell', 'in a nutshell', 'in a nutshell', 'in a nutshell', 'in a nutshell', 'in a nutshell', 'in a nutshell', 'in a nutshell', 'in a nutshell', 'in a nutshell', 'in a nutshell', 'in a nutshell', 'in a nutshell', 'in a nutshell', 'in a nutshell', 'in a nutshell', 'in a nutshell', 'in a nutshell', 'in a nutshell', 'in a nutshell', 'in a nutshell', 'in a nutshell', 'in a nutshell', 'in a nutshell', 'in a nutshell', 'in a nutshell', 'in a nutshell', 'in a nutshell', 'in a nutshell', 'in a nutshell', 'in a nutshell', 'in a nutshell', 'in a nutshell', 'in a nutshell', 'in a nutshell', 'in a nutshell', 'in a nutshell', 'in a nutshell', 'in a nutshell', 'in a nutshell', 'in a nutshell', 'in a nutshell', 'in a nutshell', 'in a nutshell', 'in a nutshell', 'in a nutshell', 'in a nutshell', 'in a nutshell', 'in a nutshell', 'in a nutshell', 'in a nutshell', 'in a nutshell', 'in a nutshell', 'in a nutshell', 'in a nutshell', 'in a nutshell', 'in a nutshell', 'in a nutshell', 'in a nutshell', 'in a nutshell', 'in a nutshell', 'in a nutshell', 'in a nutshell', 'in a nutshell', 'in a nutshell', 'in a nutshell', 'in a nutshell', 'in a nutshell', 'in a nutshell', 'in a nutshell', 'in a nutshell', 'in a nutshell', 'in a nutshell', 'in a nutshell', 'in a nutshell', 'in a nutshell', 'in a nutshell', 'in a nutshell', 'in a nutshell', 'in a nutshell', 'in a nutshell', 'in a nutshell', 'head over heels', 'head over heels', 'head over heels', 'head over heels', 'head over heels', 'head over heels', 'in a nutshell', 'in a nutshell', 'in a nutshell', 'in a nutshell', 'in a nutshell', 'in a nutshell', 'in a nutshell', 'in a nutshell', 'in a nutshell', 'in a nutshell', 'in a nutshell', 'in a nutshell', 'in a nutshell', 'in a nutshell', 'in a nutshell', 'in a nutshell', 'in a nutshell', 'in a nutshell', 'in a nutshell', 'in a nutshell', 'in a nutshell', 'in a nutshell', 'in a nutshell', 'in a nutshell', 'in a nutshell', 'in a nutshell', 'in a nutshell', 'in a nutshell', 'in a nutshell', 'in a nutshell', 'in a nutshell', 'in a nutshell', 'in a nutshell', 'in a nutshell', 'in a nutshell', 'in a nutshell', 'in a nutshell', 'in a nutshell', 'in a nutshell', 'in a nutshell', 'in a nutshell', 'in a nutshell', 'in a nutshell', 'in a nutshell', 'in a nutshell', 'in a nutshell', 'in a nutshell', 'in a nutshell', 'in a nutshell', 'in a nutshell', 'in a nutshell', 'in a nutshell', 'in a nutshell', 'in a nutshell', 'in a nutshell', 'in a nutshell', 'in a nutshell', 'in a nutshell', 'in a nutshell', 'in a nutshell', 'in a nutshell', 'in a nutshell', 'in a nutshell', 'in a nutshell', 'in a nutshell', 'in a nutshell', 'in a nutshell', 'in a nutshell', 'in a nutshell', 'in a nutshell', 'in a nutshell', 'in a nutshell', 'in a nutshell', 'in a nutshell', 'in a nutshell', 'in a nutshell', 'in a nutshell', 'in a nutshell', 'in a nutshell', 'in a nutshell', 'in a nutshell', 'in a nutshell', 'in a nutshell', 'in a nutshell', 'in a nutshell', 'in a nutshell', 'in a nutshell', 'in a nutshell', 'in a nutshell', 'in a nutshell', 'in a nutshell', 'in a nutshell', 'in a nutshell', 'in a nutshell', 'in a nutshell', 'in a nutshell', 'in a nutshell', 'in a nutshell', 'in a nutshell', 'in a nutshell', 'in a nutshell', 'in a nutshell', 'in a nutshell', 'in a nutshell', 'in a nutshell', 'in a nutshell', 'in a nutshell', 'in a nutshell', 'in a nutshell', 'in a nutshell', 'in a nutshell', 'in a nutshell', 'in a nutshell', 'in a nutshell', 'in a nutshell', 'in a nutshell', 'in a nutshell', 'in a nutshell', 'in a nutshell', 'in a nutshell']\n"
          ]
        }
      ]
    },
    {
      "cell_type": "code",
      "source": [
        "match_set = set(matches)\n",
        "print(match_set)"
      ],
      "metadata": {
        "colab": {
          "base_uri": "https://localhost:8080/"
        },
        "id": "vqYajQs81gRC",
        "outputId": "42d31a5a-4ba0-4a8d-8859-c18b4cb99554"
      },
      "execution_count": null,
      "outputs": [
        {
          "output_type": "stream",
          "name": "stdout",
          "text": [
            "{'in a nutshell', 'head over heels', 'a sight for sore eyes'}\n"
          ]
        }
      ]
    },
    {
      "cell_type": "markdown",
      "source": [
        "#### Check for similar idioms with sequence similarity"
      ],
      "metadata": {
        "id": "pEvqpymdxffY"
      }
    },
    {
      "cell_type": "code",
      "source": [
        "from difflib import SequenceMatcher\n",
        "\n",
        "def similar(a, b):\n",
        "    return SequenceMatcher(None, a, b).ratio()"
      ],
      "metadata": {
        "id": "-NJ9fhNH12xQ"
      },
      "execution_count": null,
      "outputs": []
    },
    {
      "cell_type": "code",
      "source": [
        "a = \"keep an eye on\"\n",
        "b = \"to keep an eye on\"\n",
        "c = \"an eye for an eye\"\n",
        "\n",
        "print(similar(a,b))\n",
        "print(similar(a,c))\n",
        "print(similar(b,c))\n"
      ],
      "metadata": {
        "colab": {
          "base_uri": "https://localhost:8080/"
        },
        "id": "hxBMBHPV15I9",
        "outputId": "8d47c4a0-44e8-4f8d-e584-ae5262c3faf0"
      },
      "execution_count": null,
      "outputs": [
        {
          "output_type": "stream",
          "name": "stdout",
          "text": [
            "0.9032258064516129\n",
            "0.5806451612903226\n",
            "0.47058823529411764\n"
          ]
        }
      ]
    },
    {
      "cell_type": "code",
      "source": [
        "# Check for similar idioms\n",
        "matches2=[]\n",
        "for i in range(len(data_ende)):\n",
        "  for j in range(len(data_par)):\n",
        "    sim = similar(data_ende[\"idiom\"].iloc[i],data_par[\"Idiom\"].iloc[j])\n",
        "    if sim>=0.7:\n",
        "      matches2.append((data_ende[\"idiom\"].iloc[i], data_par[\"Idiom\"].iloc[j], sim))\n",
        "\n",
        "match_list = list(set(matches2))\n",
        "match_list = sorted(match_list, key= lambda x: x[2], reverse=True)\n",
        "print(match_list)"
      ],
      "metadata": {
        "colab": {
          "base_uri": "https://localhost:8080/"
        },
        "id": "ZFvwRouG1rdH",
        "outputId": "04ffa548-9206-494d-b70b-6d8cccac6ab7"
      },
      "execution_count": null,
      "outputs": [
        {
          "output_type": "stream",
          "name": "stdout",
          "text": [
            "[('in a nutshell', 'in a nutshell', 1.0), ('a sight for sore eyes', 'a sight for sore eyes', 1.0), ('head over heels', 'head over heels', 1.0), ('beyond a shadow of a doubt', 'beyond a shadow of doubt', 0.96), ('to kill two birds with one stone', 'kill two birds with one stone', 0.9508196721311475), ('to think outside the box', 'think outside the box', 0.9333333333333333), ('to go the extra mile', 'go the extra mile', 0.918918918918919), ('to bite the bullet', 'bite the bullet', 0.9090909090909091), ('take care !', 'take care', 0.9), ('to get the ball rolling', 'the ball rolling', 0.8205128205128205), ('to set the ball rolling', 'the ball rolling', 0.8205128205128205), ('to be miles away', 'miles away', 0.7692307692307693), ('to clear the way', 'clear the air', 0.7586206896551724), ('to close the door', 'close the books', 0.75), ('without a shadow of a doubt', 'beyond a shadow of doubt', 0.7450980392156863), ('to buy a pig in a poke', 'pig in a poke', 0.7428571428571429), ('to bite the bullet', 'bite the dust', 0.7096774193548387), ('to raise the bar', 'to see the back of', 0.7058823529411765)]\n"
          ]
        }
      ]
    },
    {
      "cell_type": "markdown",
      "source": [
        "#### Check for similar idioms with Jaccard"
      ],
      "metadata": {
        "id": "d1rX5HIo7oOb"
      }
    },
    {
      "cell_type": "code",
      "source": [
        "def jaccard_similarity(sent1, sent2): \n",
        "    \n",
        "    # List the unique words in a document\n",
        "    words_sent1 = set(sent1.lower().split()) \n",
        "    words_sent2 = set(sent2.lower().split())\n",
        "    # Find the intersection of words\n",
        "    intersection = words_sent1.intersection(words_sent2)\n",
        "    # Find the union of words\n",
        "    union = words_sent1.union(words_sent2)\n",
        "    # Calculate Jaccard similarity \n",
        "\n",
        "    return float(len(intersection)) / len(union)"
      ],
      "metadata": {
        "id": "nR9q_ehA7qdi"
      },
      "execution_count": null,
      "outputs": []
    },
    {
      "cell_type": "code",
      "source": [
        "a = \"keep an eye on\"\n",
        "b = \"to keep an eye on\"\n",
        "c = \"an eye for an eye\"\n",
        "\n",
        "print(jaccard_similarity(a,b))\n",
        "print(jaccard_similarity(a,c))\n",
        "print(jaccard_similarity(b,c))\n"
      ],
      "metadata": {
        "id": "DnZl6Jys8DS6",
        "colab": {
          "base_uri": "https://localhost:8080/"
        },
        "outputId": "d9c80241-edc3-4e2c-b300-f290a212dbb6"
      },
      "execution_count": null,
      "outputs": [
        {
          "output_type": "stream",
          "name": "stdout",
          "text": [
            "0.8\n",
            "0.4\n",
            "0.3333333333333333\n"
          ]
        }
      ]
    },
    {
      "cell_type": "code",
      "source": [
        "# Check for similar idioms\n",
        "matches3=[]\n",
        "for i in range(len(data_ende)):\n",
        "  for j in range(len(data_par)):\n",
        "    sim = jaccard_similarity(data_ende[\"idiom\"].iloc[i],data_par[\"Idiom\"].iloc[j])\n",
        "    if sim>=0.6:\n",
        "      matches3.append((data_ende[\"idiom\"].iloc[i], data_par[\"Idiom\"].iloc[j], sim))\n",
        "\n",
        "match_list2 = list(set(matches3))\n",
        "match_list2 = sorted(match_list2, key= lambda x: x[2], reverse=True)\n",
        "print(match_list2)"
      ],
      "metadata": {
        "id": "BQVFJym28FPw",
        "colab": {
          "base_uri": "https://localhost:8080/"
        },
        "outputId": "b2a6c9d3-b98b-4a0c-e21b-4638eb1d2b4c"
      },
      "execution_count": null,
      "outputs": [
        {
          "output_type": "stream",
          "name": "stdout",
          "text": [
            "[('head over heels', 'head over heels', 1.0), ('a sight for sore eyes', 'a sight for sore eyes', 1.0), ('in a nutshell', 'in a nutshell', 1.0), ('beyond a shadow of a doubt', 'beyond a shadow of doubt', 1.0), ('to kill two birds with one stone', 'kill two birds with one stone', 0.8571428571428571), ('to think outside the box', 'think outside the box', 0.8), ('to go the extra mile', 'go the extra mile', 0.8), ('to bite the bullet', 'bite the bullet', 0.75), ('take care !', 'take care', 0.6666666666666666), ('without a shadow of a doubt', 'beyond a shadow of doubt', 0.6666666666666666), ('to buy a pig in a poke', 'pig in a poke', 0.6666666666666666), ('to get the ball rolling', 'the ball rolling', 0.6), ('to set the ball rolling', 'the ball rolling', 0.6)]\n"
          ]
        }
      ]
    },
    {
      "cell_type": "markdown",
      "source": [
        "#### Check for similar idioms with Meteor"
      ],
      "metadata": {
        "id": "mLAoCTHOvA-s"
      }
    },
    {
      "cell_type": "code",
      "source": [
        "!pip install -U nltk -q\n",
        "!pip install datasets -q"
      ],
      "metadata": {
        "id": "5Sj5en8ivK-2"
      },
      "execution_count": null,
      "outputs": []
    },
    {
      "cell_type": "code",
      "source": [
        "from datasets import load_metric, load\n",
        "meteor = load_metric(\"meteor\")"
      ],
      "metadata": {
        "colab": {
          "base_uri": "https://localhost:8080/"
        },
        "id": "omM0t4SYwo1y",
        "outputId": "aff84600-6c64-42da-d922-59f2877a59b8"
      },
      "execution_count": null,
      "outputs": [
        {
          "output_type": "stream",
          "name": "stdout",
          "text": [
            "[nltk_data] Downloading package wordnet to /root/nltk_data...\n",
            "[nltk_data]   Package wordnet is already up-to-date!\n",
            "[nltk_data] Downloading package punkt to /root/nltk_data...\n",
            "[nltk_data]   Package punkt is already up-to-date!\n",
            "[nltk_data] Downloading package omw-1.4 to /root/nltk_data...\n",
            "[nltk_data]   Package omw-1.4 is already up-to-date!\n"
          ]
        }
      ]
    },
    {
      "cell_type": "code",
      "source": [
        "# Check for similar idioms TAKES IMPOSSIBLY LONG\n",
        "# matches4=[]\n",
        "# for i in range(len(data_ende)):\n",
        "#   for j in range(len(data_par)):\n",
        "#     meteor_score= meteor.compute(predictions=[data_ende['idiom'].iloc[i]], references=[data_par[\"Idiom\"].iloc[j]])\n",
        "#     sim = meteor_score['meteor']\n",
        "#     if sim>=0.6:\n",
        "#       matches4.append((data_ende[\"idiom\"].iloc[i], data_par[\"Idiom\"].iloc[j], sim))\n",
        "\n",
        "# match_list3 = list(set(matches4))\n",
        "# match_list3 = sorted(match_list3, key= lambda x: x[2], reverse=True)\n",
        "# print(match_list3)"
      ],
      "metadata": {
        "colab": {
          "base_uri": "https://localhost:8080/",
          "height": 381
        },
        "id": "0JJ_hPZGwr38",
        "outputId": "0c6956b8-69a9-4f3e-e286-154ca1a1e698"
      },
      "execution_count": null,
      "outputs": [
        {
          "output_type": "error",
          "ename": "KeyboardInterrupt",
          "evalue": "ignored",
          "traceback": [
            "\u001b[0;31m---------------------------------------------------------------------------\u001b[0m",
            "\u001b[0;31mKeyboardInterrupt\u001b[0m                         Traceback (most recent call last)",
            "\u001b[0;32m<ipython-input-114-a3e1746e7081>\u001b[0m in \u001b[0;36m<module>\u001b[0;34m()\u001b[0m\n\u001b[1;32m      3\u001b[0m \u001b[0;32mfor\u001b[0m \u001b[0mi\u001b[0m \u001b[0;32min\u001b[0m \u001b[0mrange\u001b[0m\u001b[0;34m(\u001b[0m\u001b[0mlen\u001b[0m\u001b[0;34m(\u001b[0m\u001b[0mdata_ende\u001b[0m\u001b[0;34m)\u001b[0m\u001b[0;34m)\u001b[0m\u001b[0;34m:\u001b[0m\u001b[0;34m\u001b[0m\u001b[0;34m\u001b[0m\u001b[0m\n\u001b[1;32m      4\u001b[0m   \u001b[0;32mfor\u001b[0m \u001b[0mj\u001b[0m \u001b[0;32min\u001b[0m \u001b[0mrange\u001b[0m\u001b[0;34m(\u001b[0m\u001b[0mlen\u001b[0m\u001b[0;34m(\u001b[0m\u001b[0mdata_par\u001b[0m\u001b[0;34m)\u001b[0m\u001b[0;34m)\u001b[0m\u001b[0;34m:\u001b[0m\u001b[0;34m\u001b[0m\u001b[0;34m\u001b[0m\u001b[0m\n\u001b[0;32m----> 5\u001b[0;31m     \u001b[0mmeteor_score\u001b[0m\u001b[0;34m=\u001b[0m \u001b[0mmeteor\u001b[0m\u001b[0;34m.\u001b[0m\u001b[0mcompute\u001b[0m\u001b[0;34m(\u001b[0m\u001b[0mpredictions\u001b[0m\u001b[0;34m=\u001b[0m\u001b[0;34m[\u001b[0m\u001b[0mdata_ende\u001b[0m\u001b[0;34m[\u001b[0m\u001b[0;34m'idiom'\u001b[0m\u001b[0;34m]\u001b[0m\u001b[0;34m.\u001b[0m\u001b[0miloc\u001b[0m\u001b[0;34m[\u001b[0m\u001b[0mi\u001b[0m\u001b[0;34m]\u001b[0m\u001b[0;34m]\u001b[0m\u001b[0;34m,\u001b[0m \u001b[0mreferences\u001b[0m\u001b[0;34m=\u001b[0m\u001b[0;34m[\u001b[0m\u001b[0mdata_par\u001b[0m\u001b[0;34m[\u001b[0m\u001b[0;34m\"Idiom\"\u001b[0m\u001b[0;34m]\u001b[0m\u001b[0;34m.\u001b[0m\u001b[0miloc\u001b[0m\u001b[0;34m[\u001b[0m\u001b[0mj\u001b[0m\u001b[0;34m]\u001b[0m\u001b[0;34m]\u001b[0m\u001b[0;34m)\u001b[0m\u001b[0;34m\u001b[0m\u001b[0;34m\u001b[0m\u001b[0m\n\u001b[0m\u001b[1;32m      6\u001b[0m     \u001b[0msim\u001b[0m \u001b[0;34m=\u001b[0m \u001b[0mmeteor_score\u001b[0m\u001b[0;34m[\u001b[0m\u001b[0;34m'meteor'\u001b[0m\u001b[0;34m]\u001b[0m\u001b[0;34m\u001b[0m\u001b[0;34m\u001b[0m\u001b[0m\n\u001b[1;32m      7\u001b[0m     \u001b[0;32mif\u001b[0m \u001b[0msim\u001b[0m\u001b[0;34m>=\u001b[0m\u001b[0;36m0.6\u001b[0m\u001b[0;34m:\u001b[0m\u001b[0;34m\u001b[0m\u001b[0;34m\u001b[0m\u001b[0m\n",
            "\u001b[0;32m/usr/local/lib/python3.7/dist-packages/datasets/metric.py\u001b[0m in \u001b[0;36mcompute\u001b[0;34m(self, predictions, references, **kwargs)\u001b[0m\n\u001b[1;32m    418\u001b[0m         \u001b[0;32mif\u001b[0m \u001b[0many\u001b[0m\u001b[0;34m(\u001b[0m\u001b[0mv\u001b[0m \u001b[0;32mis\u001b[0m \u001b[0;32mnot\u001b[0m \u001b[0;32mNone\u001b[0m \u001b[0;32mfor\u001b[0m \u001b[0mv\u001b[0m \u001b[0;32min\u001b[0m \u001b[0minputs\u001b[0m\u001b[0;34m.\u001b[0m\u001b[0mvalues\u001b[0m\u001b[0;34m(\u001b[0m\u001b[0;34m)\u001b[0m\u001b[0;34m)\u001b[0m\u001b[0;34m:\u001b[0m\u001b[0;34m\u001b[0m\u001b[0;34m\u001b[0m\u001b[0m\n\u001b[1;32m    419\u001b[0m             \u001b[0mself\u001b[0m\u001b[0;34m.\u001b[0m\u001b[0madd_batch\u001b[0m\u001b[0;34m(\u001b[0m\u001b[0;34m**\u001b[0m\u001b[0minputs\u001b[0m\u001b[0;34m)\u001b[0m\u001b[0;34m\u001b[0m\u001b[0;34m\u001b[0m\u001b[0m\n\u001b[0;32m--> 420\u001b[0;31m         \u001b[0mself\u001b[0m\u001b[0;34m.\u001b[0m\u001b[0m_finalize\u001b[0m\u001b[0;34m(\u001b[0m\u001b[0;34m)\u001b[0m\u001b[0;34m\u001b[0m\u001b[0;34m\u001b[0m\u001b[0m\n\u001b[0m\u001b[1;32m    421\u001b[0m \u001b[0;34m\u001b[0m\u001b[0m\n\u001b[1;32m    422\u001b[0m         \u001b[0mself\u001b[0m\u001b[0;34m.\u001b[0m\u001b[0mcache_file_name\u001b[0m \u001b[0;34m=\u001b[0m \u001b[0;32mNone\u001b[0m\u001b[0;34m\u001b[0m\u001b[0;34m\u001b[0m\u001b[0m\n",
            "\u001b[0;32m/usr/local/lib/python3.7/dist-packages/datasets/metric.py\u001b[0m in \u001b[0;36m_finalize\u001b[0;34m(self)\u001b[0m\n\u001b[1;32m    375\u001b[0m             \u001b[0;32mtry\u001b[0m\u001b[0;34m:\u001b[0m\u001b[0;34m\u001b[0m\u001b[0;34m\u001b[0m\u001b[0m\n\u001b[1;32m    376\u001b[0m                 \u001b[0mreader\u001b[0m \u001b[0;34m=\u001b[0m \u001b[0mArrowReader\u001b[0m\u001b[0;34m(\u001b[0m\u001b[0mpath\u001b[0m\u001b[0;34m=\u001b[0m\u001b[0;34m\"\"\u001b[0m\u001b[0;34m,\u001b[0m \u001b[0minfo\u001b[0m\u001b[0;34m=\u001b[0m\u001b[0mDatasetInfo\u001b[0m\u001b[0;34m(\u001b[0m\u001b[0mfeatures\u001b[0m\u001b[0;34m=\u001b[0m\u001b[0mself\u001b[0m\u001b[0;34m.\u001b[0m\u001b[0mfeatures\u001b[0m\u001b[0;34m)\u001b[0m\u001b[0;34m)\u001b[0m\u001b[0;34m\u001b[0m\u001b[0;34m\u001b[0m\u001b[0m\n\u001b[0;32m--> 377\u001b[0;31m                 \u001b[0mself\u001b[0m\u001b[0;34m.\u001b[0m\u001b[0mdata\u001b[0m \u001b[0;34m=\u001b[0m \u001b[0mDataset\u001b[0m\u001b[0;34m(\u001b[0m\u001b[0;34m**\u001b[0m\u001b[0mreader\u001b[0m\u001b[0;34m.\u001b[0m\u001b[0mread_files\u001b[0m\u001b[0;34m(\u001b[0m\u001b[0;34m[\u001b[0m\u001b[0;34m{\u001b[0m\u001b[0;34m\"filename\"\u001b[0m\u001b[0;34m:\u001b[0m \u001b[0mf\u001b[0m\u001b[0;34m}\u001b[0m \u001b[0;32mfor\u001b[0m \u001b[0mf\u001b[0m \u001b[0;32min\u001b[0m \u001b[0mfile_paths\u001b[0m\u001b[0;34m]\u001b[0m\u001b[0;34m)\u001b[0m\u001b[0;34m)\u001b[0m\u001b[0;34m\u001b[0m\u001b[0;34m\u001b[0m\u001b[0m\n\u001b[0m\u001b[1;32m    378\u001b[0m             \u001b[0;32mexcept\u001b[0m \u001b[0mFileNotFoundError\u001b[0m\u001b[0;34m:\u001b[0m\u001b[0;34m\u001b[0m\u001b[0;34m\u001b[0m\u001b[0m\n\u001b[1;32m    379\u001b[0m                 raise ValueError(\n",
            "\u001b[0;32m/usr/local/lib/python3.7/dist-packages/datasets/arrow_dataset.py\u001b[0m in \u001b[0;36m__init__\u001b[0;34m(self, arrow_table, info, split, indices_table, fingerprint)\u001b[0m\n\u001b[1;32m    667\u001b[0m \u001b[0;34m\u001b[0m\u001b[0m\n\u001b[1;32m    668\u001b[0m         \u001b[0;32mif\u001b[0m \u001b[0mself\u001b[0m\u001b[0;34m.\u001b[0m\u001b[0m_fingerprint\u001b[0m \u001b[0;32mis\u001b[0m \u001b[0;32mNone\u001b[0m\u001b[0;34m:\u001b[0m\u001b[0;34m\u001b[0m\u001b[0;34m\u001b[0m\u001b[0m\n\u001b[0;32m--> 669\u001b[0;31m             \u001b[0mself\u001b[0m\u001b[0;34m.\u001b[0m\u001b[0m_fingerprint\u001b[0m \u001b[0;34m=\u001b[0m \u001b[0mgenerate_fingerprint\u001b[0m\u001b[0;34m(\u001b[0m\u001b[0mself\u001b[0m\u001b[0;34m)\u001b[0m\u001b[0;34m\u001b[0m\u001b[0;34m\u001b[0m\u001b[0m\n\u001b[0m\u001b[1;32m    670\u001b[0m \u001b[0;34m\u001b[0m\u001b[0m\n\u001b[1;32m    671\u001b[0m         \u001b[0;31m# Sanity checks\u001b[0m\u001b[0;34m\u001b[0m\u001b[0;34m\u001b[0m\u001b[0;34m\u001b[0m\u001b[0m\n",
            "\u001b[0;32m/usr/local/lib/python3.7/dist-packages/datasets/fingerprint.py\u001b[0m in \u001b[0;36mgenerate_fingerprint\u001b[0;34m(dataset)\u001b[0m\n\u001b[1;32m    284\u001b[0m             \u001b[0;32mcontinue\u001b[0m\u001b[0;34m\u001b[0m\u001b[0;34m\u001b[0m\u001b[0m\n\u001b[1;32m    285\u001b[0m         \u001b[0mhasher\u001b[0m\u001b[0;34m.\u001b[0m\u001b[0mupdate\u001b[0m\u001b[0;34m(\u001b[0m\u001b[0mkey\u001b[0m\u001b[0;34m)\u001b[0m\u001b[0;34m\u001b[0m\u001b[0;34m\u001b[0m\u001b[0m\n\u001b[0;32m--> 286\u001b[0;31m         \u001b[0mhasher\u001b[0m\u001b[0;34m.\u001b[0m\u001b[0mupdate\u001b[0m\u001b[0;34m(\u001b[0m\u001b[0mstate\u001b[0m\u001b[0;34m[\u001b[0m\u001b[0mkey\u001b[0m\u001b[0;34m]\u001b[0m\u001b[0;34m)\u001b[0m\u001b[0;34m\u001b[0m\u001b[0;34m\u001b[0m\u001b[0m\n\u001b[0m\u001b[1;32m    287\u001b[0m     \u001b[0;31m# hash data files last modification timestamps as well\u001b[0m\u001b[0;34m\u001b[0m\u001b[0;34m\u001b[0m\u001b[0;34m\u001b[0m\u001b[0m\n\u001b[1;32m    288\u001b[0m     \u001b[0;32mfor\u001b[0m \u001b[0mcache_file\u001b[0m \u001b[0;32min\u001b[0m \u001b[0mdataset\u001b[0m\u001b[0;34m.\u001b[0m\u001b[0mcache_files\u001b[0m\u001b[0;34m:\u001b[0m\u001b[0;34m\u001b[0m\u001b[0;34m\u001b[0m\u001b[0m\n",
            "\u001b[0;32m/usr/local/lib/python3.7/dist-packages/datasets/fingerprint.py\u001b[0m in \u001b[0;36mupdate\u001b[0;34m(self, value)\u001b[0m\n\u001b[1;32m    239\u001b[0m     \u001b[0;32mdef\u001b[0m \u001b[0mupdate\u001b[0m\u001b[0;34m(\u001b[0m\u001b[0mself\u001b[0m\u001b[0;34m,\u001b[0m \u001b[0mvalue\u001b[0m\u001b[0;34m:\u001b[0m \u001b[0mAny\u001b[0m\u001b[0;34m)\u001b[0m \u001b[0;34m->\u001b[0m \u001b[0;32mNone\u001b[0m\u001b[0;34m:\u001b[0m\u001b[0;34m\u001b[0m\u001b[0;34m\u001b[0m\u001b[0m\n\u001b[1;32m    240\u001b[0m         \u001b[0mheader_for_update\u001b[0m \u001b[0;34m=\u001b[0m \u001b[0;34mf\"=={type(value)}==\"\u001b[0m\u001b[0;34m\u001b[0m\u001b[0;34m\u001b[0m\u001b[0m\n\u001b[0;32m--> 241\u001b[0;31m         \u001b[0mvalue_for_update\u001b[0m \u001b[0;34m=\u001b[0m \u001b[0mself\u001b[0m\u001b[0;34m.\u001b[0m\u001b[0mhash\u001b[0m\u001b[0;34m(\u001b[0m\u001b[0mvalue\u001b[0m\u001b[0;34m)\u001b[0m\u001b[0;34m\u001b[0m\u001b[0;34m\u001b[0m\u001b[0m\n\u001b[0m\u001b[1;32m    242\u001b[0m         \u001b[0mself\u001b[0m\u001b[0;34m.\u001b[0m\u001b[0mm\u001b[0m\u001b[0;34m.\u001b[0m\u001b[0mupdate\u001b[0m\u001b[0;34m(\u001b[0m\u001b[0mheader_for_update\u001b[0m\u001b[0;34m.\u001b[0m\u001b[0mencode\u001b[0m\u001b[0;34m(\u001b[0m\u001b[0;34m\"utf8\"\u001b[0m\u001b[0;34m)\u001b[0m\u001b[0;34m)\u001b[0m\u001b[0;34m\u001b[0m\u001b[0;34m\u001b[0m\u001b[0m\n\u001b[1;32m    243\u001b[0m         \u001b[0mself\u001b[0m\u001b[0;34m.\u001b[0m\u001b[0mm\u001b[0m\u001b[0;34m.\u001b[0m\u001b[0mupdate\u001b[0m\u001b[0;34m(\u001b[0m\u001b[0mvalue_for_update\u001b[0m\u001b[0;34m.\u001b[0m\u001b[0mencode\u001b[0m\u001b[0;34m(\u001b[0m\u001b[0;34m\"utf-8\"\u001b[0m\u001b[0;34m)\u001b[0m\u001b[0;34m)\u001b[0m\u001b[0;34m\u001b[0m\u001b[0;34m\u001b[0m\u001b[0m\n",
            "\u001b[0;32m/usr/local/lib/python3.7/dist-packages/datasets/fingerprint.py\u001b[0m in \u001b[0;36mhash\u001b[0;34m(cls, value)\u001b[0m\n\u001b[1;32m    233\u001b[0m     \u001b[0;32mdef\u001b[0m \u001b[0mhash\u001b[0m\u001b[0;34m(\u001b[0m\u001b[0mcls\u001b[0m\u001b[0;34m,\u001b[0m \u001b[0mvalue\u001b[0m\u001b[0;34m:\u001b[0m \u001b[0mAny\u001b[0m\u001b[0;34m)\u001b[0m \u001b[0;34m->\u001b[0m \u001b[0mstr\u001b[0m\u001b[0;34m:\u001b[0m\u001b[0;34m\u001b[0m\u001b[0;34m\u001b[0m\u001b[0m\n\u001b[1;32m    234\u001b[0m         \u001b[0;32mif\u001b[0m \u001b[0mtype\u001b[0m\u001b[0;34m(\u001b[0m\u001b[0mvalue\u001b[0m\u001b[0;34m)\u001b[0m \u001b[0;32min\u001b[0m \u001b[0mcls\u001b[0m\u001b[0;34m.\u001b[0m\u001b[0mdispatch\u001b[0m\u001b[0;34m:\u001b[0m\u001b[0;34m\u001b[0m\u001b[0;34m\u001b[0m\u001b[0m\n\u001b[0;32m--> 235\u001b[0;31m             \u001b[0;32mreturn\u001b[0m \u001b[0mcls\u001b[0m\u001b[0;34m.\u001b[0m\u001b[0mdispatch\u001b[0m\u001b[0;34m[\u001b[0m\u001b[0mtype\u001b[0m\u001b[0;34m(\u001b[0m\u001b[0mvalue\u001b[0m\u001b[0;34m)\u001b[0m\u001b[0;34m]\u001b[0m\u001b[0;34m(\u001b[0m\u001b[0mcls\u001b[0m\u001b[0;34m,\u001b[0m \u001b[0mvalue\u001b[0m\u001b[0;34m)\u001b[0m\u001b[0;34m\u001b[0m\u001b[0;34m\u001b[0m\u001b[0m\n\u001b[0m\u001b[1;32m    236\u001b[0m         \u001b[0;32melse\u001b[0m\u001b[0;34m:\u001b[0m\u001b[0;34m\u001b[0m\u001b[0;34m\u001b[0m\u001b[0m\n\u001b[1;32m    237\u001b[0m             \u001b[0;32mreturn\u001b[0m \u001b[0mcls\u001b[0m\u001b[0;34m.\u001b[0m\u001b[0mhash_default\u001b[0m\u001b[0;34m(\u001b[0m\u001b[0mvalue\u001b[0m\u001b[0;34m)\u001b[0m\u001b[0;34m\u001b[0m\u001b[0;34m\u001b[0m\u001b[0m\n",
            "\u001b[0;32m/usr/local/lib/python3.7/dist-packages/datasets/fingerprint.py\u001b[0m in \u001b[0;36m_hash_pa_table\u001b[0;34m(hasher, value)\u001b[0m\n\u001b[1;32m    260\u001b[0m             \u001b[0;32mreturn\u001b[0m \u001b[0mhasher\u001b[0m\u001b[0;34m.\u001b[0m\u001b[0mhash_bytes\u001b[0m\u001b[0;34m(\u001b[0m\u001b[0mvalue\u001b[0m\u001b[0;34m.\u001b[0m\u001b[0mto_string\u001b[0m\u001b[0;34m(\u001b[0m\u001b[0;34m)\u001b[0m\u001b[0;34m.\u001b[0m\u001b[0mencode\u001b[0m\u001b[0;34m(\u001b[0m\u001b[0;34m\"utf-8\"\u001b[0m\u001b[0;34m)\u001b[0m\u001b[0;34m)\u001b[0m\u001b[0;34m\u001b[0m\u001b[0;34m\u001b[0m\u001b[0m\n\u001b[1;32m    261\u001b[0m \u001b[0;34m\u001b[0m\u001b[0m\n\u001b[0;32m--> 262\u001b[0;31m     \u001b[0mvalue\u001b[0m \u001b[0;34m=\u001b[0m \u001b[0;34m\"-\"\u001b[0m\u001b[0;34m.\u001b[0m\u001b[0mjoin\u001b[0m\u001b[0;34m(\u001b[0m\u001b[0mcol\u001b[0m \u001b[0;34m+\u001b[0m \u001b[0;34m\"-\"\u001b[0m \u001b[0;34m+\u001b[0m \u001b[0m_hash_pa_array\u001b[0m\u001b[0;34m(\u001b[0m\u001b[0mvalue\u001b[0m\u001b[0;34m[\u001b[0m\u001b[0mcol\u001b[0m\u001b[0;34m]\u001b[0m\u001b[0;34m)\u001b[0m \u001b[0;32mfor\u001b[0m \u001b[0mcol\u001b[0m \u001b[0;32min\u001b[0m \u001b[0msorted\u001b[0m\u001b[0;34m(\u001b[0m\u001b[0mvalue\u001b[0m\u001b[0;34m.\u001b[0m\u001b[0mcolumn_names\u001b[0m\u001b[0;34m)\u001b[0m\u001b[0;34m)\u001b[0m\u001b[0;34m\u001b[0m\u001b[0;34m\u001b[0m\u001b[0m\n\u001b[0m\u001b[1;32m    263\u001b[0m     \u001b[0;32mreturn\u001b[0m \u001b[0mhasher\u001b[0m\u001b[0;34m.\u001b[0m\u001b[0mhash_bytes\u001b[0m\u001b[0;34m(\u001b[0m\u001b[0mvalue\u001b[0m\u001b[0;34m.\u001b[0m\u001b[0mencode\u001b[0m\u001b[0;34m(\u001b[0m\u001b[0;34m\"utf-8\"\u001b[0m\u001b[0;34m)\u001b[0m\u001b[0;34m)\u001b[0m\u001b[0;34m\u001b[0m\u001b[0;34m\u001b[0m\u001b[0m\n\u001b[1;32m    264\u001b[0m \u001b[0;34m\u001b[0m\u001b[0m\n",
            "\u001b[0;32m/usr/local/lib/python3.7/dist-packages/datasets/fingerprint.py\u001b[0m in \u001b[0;36m<genexpr>\u001b[0;34m(.0)\u001b[0m\n\u001b[1;32m    260\u001b[0m             \u001b[0;32mreturn\u001b[0m \u001b[0mhasher\u001b[0m\u001b[0;34m.\u001b[0m\u001b[0mhash_bytes\u001b[0m\u001b[0;34m(\u001b[0m\u001b[0mvalue\u001b[0m\u001b[0;34m.\u001b[0m\u001b[0mto_string\u001b[0m\u001b[0;34m(\u001b[0m\u001b[0;34m)\u001b[0m\u001b[0;34m.\u001b[0m\u001b[0mencode\u001b[0m\u001b[0;34m(\u001b[0m\u001b[0;34m\"utf-8\"\u001b[0m\u001b[0;34m)\u001b[0m\u001b[0;34m)\u001b[0m\u001b[0;34m\u001b[0m\u001b[0;34m\u001b[0m\u001b[0m\n\u001b[1;32m    261\u001b[0m \u001b[0;34m\u001b[0m\u001b[0m\n\u001b[0;32m--> 262\u001b[0;31m     \u001b[0mvalue\u001b[0m \u001b[0;34m=\u001b[0m \u001b[0;34m\"-\"\u001b[0m\u001b[0;34m.\u001b[0m\u001b[0mjoin\u001b[0m\u001b[0;34m(\u001b[0m\u001b[0mcol\u001b[0m \u001b[0;34m+\u001b[0m \u001b[0;34m\"-\"\u001b[0m \u001b[0;34m+\u001b[0m \u001b[0m_hash_pa_array\u001b[0m\u001b[0;34m(\u001b[0m\u001b[0mvalue\u001b[0m\u001b[0;34m[\u001b[0m\u001b[0mcol\u001b[0m\u001b[0;34m]\u001b[0m\u001b[0;34m)\u001b[0m \u001b[0;32mfor\u001b[0m \u001b[0mcol\u001b[0m \u001b[0;32min\u001b[0m \u001b[0msorted\u001b[0m\u001b[0;34m(\u001b[0m\u001b[0mvalue\u001b[0m\u001b[0;34m.\u001b[0m\u001b[0mcolumn_names\u001b[0m\u001b[0;34m)\u001b[0m\u001b[0;34m)\u001b[0m\u001b[0;34m\u001b[0m\u001b[0;34m\u001b[0m\u001b[0m\n\u001b[0m\u001b[1;32m    263\u001b[0m     \u001b[0;32mreturn\u001b[0m \u001b[0mhasher\u001b[0m\u001b[0;34m.\u001b[0m\u001b[0mhash_bytes\u001b[0m\u001b[0;34m(\u001b[0m\u001b[0mvalue\u001b[0m\u001b[0;34m.\u001b[0m\u001b[0mencode\u001b[0m\u001b[0;34m(\u001b[0m\u001b[0;34m\"utf-8\"\u001b[0m\u001b[0;34m)\u001b[0m\u001b[0;34m)\u001b[0m\u001b[0;34m\u001b[0m\u001b[0;34m\u001b[0m\u001b[0m\n\u001b[1;32m    264\u001b[0m \u001b[0;34m\u001b[0m\u001b[0m\n",
            "\u001b[0;32m/usr/local/lib/python3.7/dist-packages/datasets/fingerprint.py\u001b[0m in \u001b[0;36m_hash_pa_array\u001b[0;34m(value)\u001b[0m\n\u001b[1;32m    256\u001b[0m     \u001b[0;32mdef\u001b[0m \u001b[0m_hash_pa_array\u001b[0m\u001b[0;34m(\u001b[0m\u001b[0mvalue\u001b[0m\u001b[0;34m)\u001b[0m\u001b[0;34m:\u001b[0m\u001b[0;34m\u001b[0m\u001b[0;34m\u001b[0m\u001b[0m\n\u001b[1;32m    257\u001b[0m         \u001b[0;32mif\u001b[0m \u001b[0misinstance\u001b[0m\u001b[0;34m(\u001b[0m\u001b[0mvalue\u001b[0m\u001b[0;34m,\u001b[0m \u001b[0mpa\u001b[0m\u001b[0;34m.\u001b[0m\u001b[0mChunkedArray\u001b[0m\u001b[0;34m)\u001b[0m\u001b[0;34m:\u001b[0m\u001b[0;34m\u001b[0m\u001b[0;34m\u001b[0m\u001b[0m\n\u001b[0;32m--> 258\u001b[0;31m             \u001b[0;32mreturn\u001b[0m \u001b[0mhasher\u001b[0m\u001b[0;34m.\u001b[0m\u001b[0mhash_bytes\u001b[0m\u001b[0;34m(\u001b[0m\u001b[0mc\u001b[0m\u001b[0;34m.\u001b[0m\u001b[0mto_string\u001b[0m\u001b[0;34m(\u001b[0m\u001b[0;34m)\u001b[0m\u001b[0;34m.\u001b[0m\u001b[0mencode\u001b[0m\u001b[0;34m(\u001b[0m\u001b[0;34m\"utf-8\"\u001b[0m\u001b[0;34m)\u001b[0m \u001b[0;32mfor\u001b[0m \u001b[0mc\u001b[0m \u001b[0;32min\u001b[0m \u001b[0mvalue\u001b[0m\u001b[0;34m.\u001b[0m\u001b[0mchunks\u001b[0m\u001b[0;34m)\u001b[0m\u001b[0;34m\u001b[0m\u001b[0;34m\u001b[0m\u001b[0m\n\u001b[0m\u001b[1;32m    259\u001b[0m         \u001b[0;32melse\u001b[0m\u001b[0;34m:\u001b[0m\u001b[0;34m\u001b[0m\u001b[0;34m\u001b[0m\u001b[0m\n\u001b[1;32m    260\u001b[0m             \u001b[0;32mreturn\u001b[0m \u001b[0mhasher\u001b[0m\u001b[0;34m.\u001b[0m\u001b[0mhash_bytes\u001b[0m\u001b[0;34m(\u001b[0m\u001b[0mvalue\u001b[0m\u001b[0;34m.\u001b[0m\u001b[0mto_string\u001b[0m\u001b[0;34m(\u001b[0m\u001b[0;34m)\u001b[0m\u001b[0;34m.\u001b[0m\u001b[0mencode\u001b[0m\u001b[0;34m(\u001b[0m\u001b[0;34m\"utf-8\"\u001b[0m\u001b[0;34m)\u001b[0m\u001b[0;34m)\u001b[0m\u001b[0;34m\u001b[0m\u001b[0;34m\u001b[0m\u001b[0m\n",
            "\u001b[0;31mKeyboardInterrupt\u001b[0m: "
          ]
        }
      ]
    },
    {
      "cell_type": "markdown",
      "source": [
        "### Collect all unique english idioms from EN-DE dataset (+-132) for manual checking if they are also in the paraphrase dataset"
      ],
      "metadata": {
        "id": "BHS0HO2b-qlt"
      }
    },
    {
      "cell_type": "code",
      "source": [
        "idioms_ende = set()\n",
        "for i in range(len(data_ende)):\n",
        "  if data_ende['idiom'].iloc[i] not in idioms_ende:\n",
        "    idioms_ende.add(data_ende['idiom'].iloc[i])\n",
        "\n",
        "print(idioms_ende)\n",
        "print(len(idioms_ende))"
      ],
      "metadata": {
        "colab": {
          "base_uri": "https://localhost:8080/"
        },
        "id": "f52rg-cX-y4d",
        "outputId": "ff3f94c0-fc0c-4ecd-fb95-5116c5be0155"
      },
      "execution_count": null,
      "outputs": [
        {
          "output_type": "stream",
          "name": "stdout",
          "text": [
            "{'to sweat blood', 'to beat it', 'in this day and age', 'to have legs', 'to go to the dogs', 'to be miles away', 'the genuine article', 'to lose face', 'to have a look around', 'written in stone', 'a square circle', 'to put up a fight', 'i hear you .', 'those were the days .', 'to pull together', 'please take your time .', 'to go places', 'to think outside the box', 'it takes two to tango .', 'take care !', 'in the heat of the moment', 'to take it easy', 'the floor is yours .', 'to raise the bar', 'you name it !', 'to go west', 'this is your chance .', 'the die is cast .', 'to rough it', 'to be spoilt for choice', 'head over heels', 'to come to the fore', 'to take the heat', 'to be in the picture', 'to close the door', 'to go the extra mile', 'without a shadow of a doubt', 'to get the ball rolling', 'enjoy your meal !', 'to be on fire', 'man and boy', 'in a nutshell', 'to buy a pig in a poke', 'to sell out', 'to get out of hand', 'have a seat .', 'short and sweet', 'to pass on', 'to swallow the bitter pill', 'to feel fine', 'to be a gas', 'to be in the know', 'make yourself at home !', 'to clear the way', \"something 's up .\", 'without batting an eyelid', 'beyond a shadow of a doubt', 'to talk big', 'to set the ball rolling', 'to kill two birds with one stone', 'to be on hold', 'to bite the bullet', 'by hook or crook', 'to fly by', 'a sight for sore eyes', 'i say !'}\n",
            "66\n"
          ]
        }
      ]
    },
    {
      "cell_type": "code",
      "source": [
        "idioms_par = set()\n",
        "for i in range(len(data_par_test_IOB)):\n",
        "  if data_par_test_IOB['Idiom'].iloc[i] not in idioms_par:\n",
        "    idioms_par.add(data_par_test_IOB['Idiom'].iloc[i])\n",
        "\n",
        "print(idioms_par)\n",
        "print(len(idioms_par))"
      ],
      "metadata": {
        "colab": {
          "base_uri": "https://localhost:8080/"
        },
        "id": "bVXThEwD_-IG",
        "outputId": "f0495dd6-69c2-4c63-f727-f24ae7ad96ba"
      },
      "execution_count": null,
      "outputs": [
        {
          "output_type": "stream",
          "name": "stdout",
          "text": [
            "{'not hurt a fly or flea', 'head above water', 'deal with', 'fair-weather friend', 'chill to the marrow', 'basket case', \"you can't teach an old dog new tricks\", 'in the pipeline', 'in the cahoots', 'on the brink of', 'dollars to donuts', 'lean towards', 'cut down', 'cold sweat', 'cut and thrust', 'up and about', 'head and shoulders above', 'troubled waters', 'like a hole in the head', 'take care', 'black hole', 'have a soft spot', 'green with envy', 'to a T', 'head start', 'sick as a dog', 'haste makes waste', 'long run', 'a picture is worth a thousand words', 'pour cold water on', 'yellow streak', 'accidentally on purpose', 'an item', 'do the trick', 'and so on', 'play it by ear', 'out of sight, out of mind', 'take up the cudgels', 'salad days', 'lost on', 'dead as a dodo', 'pep talk', \"money doesn't grow on trees\", 'shed light', 'young blood', 'high up', 'playing second fiddle', 'betwixt and between', 'year-round', 'cut and dried', 'a cut above', 'larger than life', 'mind your own beeswax', 'account for', 'sell like hot cakes', 'put the cart before the horse', 'give a shot', \"there's no time like the present\", 'cupboard love', 'throw caution to the winds', 'under fire', 'get goat', 'faint of heart', 'scot-free', 'in the nick of time', 'get over it', 'put a sock in it', \"on the tip of one's tongue\", 'rake over the coals', 'make sense', 'keep your nose clean', 'set off', 'practice makes perfect', 'far-fetched', 'sit tight', 'get cracking', 'come down with', 'in the bag', 'take breath away', 'get down to brass tacks', 'draw a blank', 'hide light under a bushel', 'turn over a new leaf', 'spin a yarn', 'come to pass', 'get under skin', 'must have', 'tie the knot', 'zero-sum game', 'vim and vigor', 'leave no stone unturned', 'love rat', 'beat the heat', 'heart goes out to', \"the lion's den\", \"baker's dozen\", 'start from scratch', 'no dice', 'wet behind the ears', 'on the crest of a wave', 'in a huff', 'close the books', 'up the ante', 'the calm before the storm', 'have eyes only for', \"fool's paradise\", 'kick the can down the road', 'just in case', 'kick the habit', 'all and sundry', 'dribs and drabs', 'over and above', 'sixth sense', 'ward off', 'let bygones be bygones', 'up a blind alley', 'run for cover', 'drive crazy', 'finishing touch', 'rub the wrong way', 'to the core', 'over and out', 'night owl', 'on the back burner', 'filthy rich', 'keen as mustard', 'hang up', 'kick the bucket', 'carrot and stick', 'bite tongue', 'cross the bridge', 'blazing row', 'taste of own medicine', 'just deserts', 'rags to riches', 'cock and bull story', 'far cry from', 'crack of dawn', 'out of the frying pan into the fire', 'done for', 'sealed with a kiss', 'apples to oranges', 'never mind', 'ballpark figure', 'cry me a river', 'hang on', 'scratch back', 'pull the plug', 'be in the same boat', \"toot one's own horn\", 'burn the midnight oil', 'dog in the manger', \"on one's uppers\", 'get to the bottom', 'be joined at the hip', 'on the horizon', 'turning point', 'come across', 'lovey-dovey', 'shoot from the hip', 'tip of the iceberg', 'chew the fat', 'zip past', 'at sixes and sevens', 'down in the dumps', \"bankers' hours\", 'loose cannon', 'in the air', 'spitting image', 'at the drop of a hat', 'seventh heaven', 'under no illusions', 'chime in', 'the eleventh hour', 'those three little words', 'run out of steam', 'tickled pink', 'free spirit', 'beat a hasty retreat', 'first light', 'flash in the pan', 'do justice to', 'bated breath', 'means to an end', 'up to the mark', 'baby blues', 'roll the dice', 'wild goose chase', 'go through a rough patch', 'seal of approval', 'catnap', 'suited and booted', 'dead end', 'pass away', 'save your breath', 'under a cloud', \"couldn't care less\", 'set in ways', 'penny for your thoughts', 'get out of bed on the wrong side', 'bon appetit', 'against the grain', 'young turk', 'you wish', 'walking on air', 'can of worms', 'leave at the altar', 'dead in the water', 'pitch in', \"straight from the horse's mouth\", \"there's no such thing as a free lunch\", 'get on nerves', 'back to the drawing board', \"third time's a charm\", 'wine and dine', 'spine-tingling', 'qui vive', 'stands to reason', 'big cheese', 'throw the baby out with the bathwater', 'throw down the gauntlet', 'all Greek to me', 'think outside the box', 'viper in bosom', 'one stop shop', 'head-on', 'stop by', 'long in the tooth', 'still waters run deep', 'pop the question', 'eager beaver', 'black out', 'go the extra mile', 'from the bottom of my heart', 'in vain', 'cloud nine', 'burn the candle at both the ends', 'smell something fishy', 'bits and pieces', 'white lie', 'run amok (amuck)', 'go steady', 'well-to-do', \"the ball is in somebody's court\", 'bug-eyed', 'doozy', 'low hanging fruit', 'warm-hearted', 'speak soon', \"can't stand the sight of\", 'dig heels in', 'class clown', \"stir up a hornet's nest\", 'come up with', 'back to the wall', 'memory like a sieve', 'pull a rabbit out of the hat', 'doldrums', \"you're on\", 'upper crust', 'lie low', 'ants in pants', 'green around the gills', 'kill two birds with one stone', 'armed to the teeth', \"if it's the last thing I do\", 'love nest', 'take into account', 'cut some slack', 'let the cat out of the bag', 'a bed of roses', 'on cue', 'on pins and needles', 'under siege', 'use your loaf', 'break the mould', 'bring up', 'new kid on the block', 'drop like flies', 'at daggers drawn', 'make light of', 'take stock', 'take aback', 'down to earth', 'upper hand', 'turn a blind eye', 'all singing, all dancing', 'wind up', \"keep at arm's length\", 'wash hands of', 'mumbo jumbo', 'when pigs fly', 'to see the back of', 'laughing stock', 'brought forward', 'on edge', 'first things first', 'break open', 'no man is an island', 'dream come true', \"don't put all your eggs in one basket\", 'coin a phrase', 'below the belt', 'take a beating', 'call names', 'in your face', 'turn out', 'dark horse', 'call of the wild', 'kiss and make up', 'water under the bridge', 'all day long', 'bread and butter', 'cold turkey', 'as easy as pie', 'get the wrong end of the stick', 'smell a rat', 'in the black', 'pain in the neck', 'miss the boat', 'blow cover', 'on the mend', 'on the rocks', \"man's best friend\", 'behind closed doors', 'couch potato', 'rise and shine', 'rule out', 'just what the doctor ordered', 'drastic times call for drastic measures', 'in deep water', 'crack up', 'speak up', 'keep your chin up', 'know the ropes', 'zero tolerance', 'avant-garde', 'pipe down', \"devil's advocate\", 'gut feeling', 'leg it', 'over the moon', 'as bald as a coot', 'all the rage', 'has-been', 'tight-lipped', 'down the drain', \"at death's door\", 'hit the sack', 'southpaw', 'bide time', 'puppy love', 'change of heart', 'pull the wool over eyes', 'point out', 'for a song', 'turn turtle', 'sitting duck', 'have a crush', 'make ends meet', 'wear out', 'tighten belt', \"it's anyone's call\", 'pig in a poke', 'miles to go before I sleep', 'ride high', 'clam up', 'hope for the best, but prepare for the worst', 'off the record', 'deja vu', 'the best is yet to come', 'anything but', 'a trip to the sun', 'monkey business', 'stab in the back', 'bear the brunt of', 'vice versa', 'shifting sands', 'in touch', 'ginger up', 'on the same page', 'neck and neck', 'through thick and thin', 'make do', 'the last thing I want', 'smack dab', 'between a rock and a hard place', 'bun in the oven', 'take with a grain of salt', 'laughter is the best medicine', 'die in harness', 'break a leg', 'sell someone out', 'bark up the wrong tree', 'the bigger they are the harder they fall', 'see the light', 'follow by', 'snow under', 'call it a day', 'give the slip', 'buck up', 'rat race', 'bite the bullet', 'go out with', 'fortune favours the bold', 'round the clock', 'against the clock', 'cool as cucumber', 'piece of writing', 'button your lip', 'high on the hog', \"you can't take it with you\", 'in the ascendant', 'blood is thicker than water', 'under the weather', 'cry wolf', 'toss-up', 'a dime a dozen', 'dry run', 'be up on', 'in the buff', 'choke up', 'by chance', 'out on the town', 'turn back on', 'birds of a feather flock together', 'bull in a china shop', 'take it on the chin', \"knock one's socks off\", 'a blessing in disguise', 'love at first sight', \"lion's share\", 'saved by the bell', 'for a while', 'so to speak', 'dish fit for the gods', 'out of action', 'head over heels', 'camp follower', \"if it ain't broke, don't fix it\", 'out of the blue', 'heavy heart', 'double whammy', 'look before you leap', 'speak of the devil', 'stack the deck', 'tall poppy', 'field day', 'come on', 'on the dot', 'stay up', 'acid test', 'hang in there', 'forbidden fruit is always the sweetest', 'sit on the fence', 'your call', 'running on fumes', 'count on', 'on the ball', 'dead ringer', 'blood on hands', 'paddle own canoe', 'chow down', 'wild and woolly', 'hands are tied', 'fancy free', 'quantum leap', 'in no time', 'in a fog', 'give airs', 'keep your hair on', 'beyond a shadow of doubt', 'out of the closet', 'come clean', 'like father like son', 'belly laugh', 'apple of discord', 'over and over again', 'dance to tune', 'stiff upper lip', 'make a mountain out of a molehill', 'skid row', 'sense of humour', 'go with the flow', 'back against the wall', 'alive and kicking', 'creme de la creme', 'save face', 'go after', 'treasure trove', 'match made in heaven', 'zip ones lip', 'blue blood', 'strike while the iron is hot', 'bang on', 'bitter medicine', 'on a roll', \"wouldn't be caught dead\", 'burn fingers', 'way forward', 'in the cross hairs', 'black and blue', 'before one can say Jack Robinson', 'cost an arm and a leg', 'carry on', 'cup of joe', 'cave in', 'earworm', 'live wire', 'at stake', 'go to hell in a handbasket', 'up in the air', 'bite off more than can chew', 'big deal', 'come hell or high water', 'castles in the air', 'bend over backwards', 'butterflies in stomach', 'from A to Z', 'twist arm', 'ring fence', 'strike the chord', 'a bit much', 'chip on shoulder', 'blow your own trumpet', 'cold feet', 'everything but the kitchen sink', 'in the meantime', 'pull leg', 'fast food', 'end of the day', 'up to no good', 'in a row', 'good Samaritan', 'off the cuff', 'slap on the wrist', 'do or die', 'uncle Tom Cobley and all', 'so-so', 'blow away', 'at odds', 'bundle up', 'happy as a clam', 'unring the bell', 'well read', 'across the board', 'ups and downs', 'in a bad way', 'wash dirty linen in public', 'come a cropper', 'pot calling the kettle black', 'back to square one', 'as and when', 'de facto', 'a burnt child dreads the fire', 'year dot', 'once in a blue moon', 'own accord', 'bird of passage', 'the last straw', 'over the top', 'heads up', 'pat on the back', 'hot potato', 'off on the wrong foot', 'no room to swing a cat', 'beat around the bush', 'figure out', 'pin money', 'run out', 'go through channels', 'give up', 'apple of eye', 'from pillar to post', 'race against time', 'dead as a doornail', 'have a ball', 'the benefit of the doubt', 'hit the nail on the head', 'beyond the pale', 'tall story', 'roaring trade', 'feather in your cap', 'hissy fit', 'cool heels', 'clear the air', 'knock on wood (touch wood)', 'new blood', 'have no truck with', 'head in the clouds', 'from time to time', 'in high dudgeon', 'drop by', 'made it', 'a sight for sore eyes', 'miles away', 'act of God', 'cash in', 'steal thunder', 'zenith of career or life', 'household name', 'heart and soul', 'bug', 'time will tell', 'not give a damn', 'scapegoat', 'great minds think alike', 'find feet', 'make the best of', 'eat humble pie', 'drive up the wall', 'by the way', 'icing on the cake', 'good grief', 'cut the mustard', 'give the devil his due', 'fit of anger', 'catch eye', 'cut to the chase', 'the squeaky wheel gets the grease', 'red letter day', 'tar with the same brush', 'smitten with', 'full of beans', 'weak in the knees', 'pedal to the metal', 'hit the books', 'forty winks', 'quality time', 'beef up', 'when in Rome, do as the Romans', 'come of age', 'comb through', 'keep your friends close and your enemies closer', 'the best of both worlds', 'a voice crying in the wilderness', 'tick off', 'at the drop of a dime', 'in a trice', 'tear-jerking', 'hive of activity', 'heart touching', 'volte face', 'take for granted', 'born yesterday', 'take a rain check', \"that's the way the cookie crumbles\", 'get through', 'up in arms', 'level playing field', 'bite the hand that feed', 'keep an eye on', 'add fuel to the flames', 'foot the bill', 'bad-mouth', 'foam at the mouth', 'apple polisher', 'time flies', 'as mad as a hatter', 'flog a dead horse', 'whole nine yards', 'lose touch', 'on the case', 'get act together', 'batten down the hatches', 'screw up', 'belly up', 'bone of contention', 'come again', 'from now on', 'keep body and soul together', 'bring home the bacon', 'eat words', 'blow-by-blow account', 'status quo', 'all set', 'zoom away | zoom off', 'ignorance is bliss', 'shades of grey', \"to heart's content\", 'buzz word', 'stand out', 'speak too soon', 'put damper on', 'not the sharpest tool in the shed', 'the ball rolling', 'fingers crossed', 'building blocks', 'a piece of cake', 'bucket list', 'pie in the sky', 'better off', 'stand in a good stead', 'best thing since sliced bread', 'veg out', 'down to the wire', 'vent spleen', 'walk on eggshell', 'self-made man', 'when it rains, it pours', 'pull yourself together', 'red herring', 'hard cheese', 'give hell', 'too close to call', 'on doorstep', 'full cry', 'fall between the cracks', 'on the other hand', 'once bitten, twice shy', 'mad at', 'mend fences', 'necessary evil', 'backseat driver', 'take over', 'run a tight ship', \"whet one's appetite\", 'see eye to eye', 'knee jerk reaction', 'rain check', 'catch up', 'silver lining', 'old hat', 'blind as a bat', \"you can't make an omelette without breaking a few eggs\", 'take turns', 'clean slate', 'high roller', 'wear heart on sleeve', 'skating on thin ice', 'next of kin', 'look forward', 'learning curve', 'cut corners', 'dog days', 'knight in shining armour', \"child's play\", 'in tandem', 'fall for', 'go for broke', 'eat like a horse', 'beg to differ', 'make it big', 'right away', 'music to ears', 'take a hike', 'vale of years', 'chill pill', 'method to madness', 'spanner in the works', \"mum's the word\", 'when hell freezes over', 'in a nutshell', 'sea change', 'knock out', 'a lot on my plate', 'six of one, half a dozen of the other', 'page-turner', 'lose head', 'surgical strike', 'love child', 'over my dead body', 'cold hearted', 'bona fide', 'not at all', 'variety is the spice of life', 'easy come, easy go', \"you've made your bed\", 'a needle in a haystack', 'come to a head', 'rule of thumb', 'fill the bill', 'wag the dog', 'get off', 'not playing with a full deck', 'cry over spilt milk', 'until the cows come home', 'yes man', 'in the can', 'fall in love', 'touch off', 'keep the wolf from the door', 'as the crow flies', 'no love lost', 'snow job', 'chill to the bone', 'bump into', 'hear on the grapevine', 'by the skin of your teeth', 'raining cats and dogs', 'crocodile tears', 'go out on a limb', 'tongue in cheek', 'every nook and cranny', 'in black and white', 'bite the dust', 'labour of love', 'nest egg', 'come what may', 'fall from grace', 'drain the swamp', 'the better of', 'time after time', 'take heart', 'all ears', 'harp on', 'black sheep', 'blowing smoke', 'kill time', \"stone's throw\", 'feel the pinch', 'axe to grind', 'mull over', 'burst at the seams', 'off the hook', 'arm in arm', 'carte blanche', 'in stitches', \"it's a small world\", 'go down like a lead balloon', 'add insult to injury', 'like a bat out of hell', 'walk out on'}\n",
            "823\n"
          ]
        }
      ]
    },
    {
      "cell_type": "markdown",
      "source": [
        "### Collect similar idioms and their sentences"
      ],
      "metadata": {
        "id": "GJ_ikTyDzN0R"
      }
    },
    {
      "cell_type": "code",
      "source": [
        "# Collect the idioms that were found to be similar\n",
        "ende_idioms = [i[0] for i in match_list2]\n",
        "ende_idioms.append(\"to pull together\")\n",
        "ende_idioms.remove(\"without a shadow of a doubt\")\n",
        "\n",
        "ende_idioms = list(dict.fromkeys(ende_idioms)) # remove duplicates\n",
        "\n",
        "par_idioms = [i[1] for i in match_list2]\n",
        "par_idioms.append(\"pull yourself together\")\n",
        "\n",
        "par_idioms = list(dict.fromkeys(par_idioms)) # remove duplicates\n"
      ],
      "metadata": {
        "id": "mv328QnSzT4e"
      },
      "execution_count": null,
      "outputs": []
    },
    {
      "cell_type": "code",
      "source": [
        "# Collect the sentences for these idioms\n",
        "ende_sentences = pd.DataFrame(columns=[\"idiom\", \"input\"])\n",
        "for id in ende_idioms:\n",
        "  for i in range(len(data_ende)):\n",
        "    if data_ende['idiom'].iloc[i] == id:\n",
        "      ende_sentences = ende_sentences.append({\"idiom\": data_ende['idiom'].iloc[i], \"input\": data_ende['input'].iloc[i]}, ignore_index=True)\n",
        "\n",
        "par_sentences = pd.DataFrame(columns=[\"idiom\", \"input\"])\n",
        "for id in par_idioms:\n",
        "  for i in range(len(data_par_test_IOB)):\n",
        "    if data_par_test_IOB['Idiom'].iloc[i] == id:\n",
        "      par_sentences = par_sentences.append({\"idiom\": data_par_test_IOB['Idiom'].iloc[i], \"input\": data_par_test['input'].iloc[i]}, ignore_index=True)"
      ],
      "metadata": {
        "id": "zT9JooxyFAV6"
      },
      "execution_count": null,
      "outputs": []
    },
    {
      "cell_type": "code",
      "source": [
        "print(ende_sentences)\n",
        "print(par_sentences)"
      ],
      "metadata": {
        "colab": {
          "base_uri": "https://localhost:8080/"
        },
        "id": "qiXFANJLHxcB",
        "outputId": "c6395129-82d4-44c3-f30c-813e9b40cb95"
      },
      "execution_count": null,
      "outputs": [
        {
          "output_type": "stream",
          "name": "stdout",
          "text": [
            "                     idiom                                              input\n",
            "0          head over heels  Sook seems to be head over heels in love with ...\n",
            "1          head over heels  He first encountered the tin whistle as a yout...\n",
            "2    a sight for sore eyes  In most Dalmatian towns the market is a sight ...\n",
            "3    a sight for sore eyes  The Glorious DJ furniture line is a sight for ...\n",
            "4            in a nutshell  In a nutshell , we are working towards a recog...\n",
            "..                     ...                                                ...\n",
            "159       to pull together  Its regular reports to the G-20 pull together ...\n",
            "160       to pull together  The difference with this specific episode was ...\n",
            "161       to pull together  We do want as part of the action plan to pull ...\n",
            "162       to pull together  We must all pull together in order to maintain...\n",
            "163       to pull together  Fortunately , today we know that children who ...\n",
            "\n",
            "[164 rows x 2 columns]\n",
            "                            idiom  \\\n",
            "0                 head over heels   \n",
            "1           a sight for sore eyes   \n",
            "2                   in a nutshell   \n",
            "3        beyond a shadow of doubt   \n",
            "4   kill two birds with one stone   \n",
            "5           think outside the box   \n",
            "6               go the extra mile   \n",
            "7                 bite the bullet   \n",
            "8                       take care   \n",
            "9                   pig in a poke   \n",
            "10               the ball rolling   \n",
            "11         pull yourself together   \n",
            "\n",
            "                                                input  \n",
            "0   Tom and Mary are head over heels in love with ...  \n",
            "1   I can't believe that I haven't seen you in a y...  \n",
            "2   In a nutshell , all the new mayor was saying i...  \n",
            "3   The government has clarified beyond a shadow o...  \n",
            "4   I have to go to the bank , and on the way back...  \n",
            "5   The team always thinks outside the box to come...  \n",
            "6   When it comes to weaker students , the teacher...  \n",
            "7   When the time comes , I'll bite the bullet and...  \n",
            "8   Take care not to cut yourself on that rusty pi...  \n",
            "9   If you buy a used car without examining it tho...  \n",
            "10  The ball was rolling when he struck that first...  \n",
            "11  I know its difficult to get over your loss , b...  \n"
          ]
        }
      ]
    },
    {
      "cell_type": "code",
      "source": [
        "for i in range(len(ende_sentences)):  \n",
        "  print(i, ende_sentences['input'].iloc[i])\n",
        "print()\n",
        "for i in range(len(par_sentences)):\n",
        "  print(i, par_sentences['input'].iloc[i])"
      ],
      "metadata": {
        "colab": {
          "base_uri": "https://localhost:8080/"
        },
        "id": "J5k4MPrkXtos",
        "outputId": "672347b9-4f49-4006-9ff6-2a392ce40bf5"
      },
      "execution_count": null,
      "outputs": [
        {
          "output_type": "stream",
          "name": "stdout",
          "text": [
            "0 Sook seems to be head over heels in love with her , but even though the two have some dates , Ha-kyeong rejects her new boyfriend , eventually , because the scars of her prior relationship are still too deep for her to start a new one .\n",
            "1 He first encountered the tin whistle as a youth , and , before he knew it , found himself \" falling head over heels in love with that magical little pipe \" .\n",
            "2 In most Dalmatian towns the market is a sight for sore eyes , and Zadar 's is one of the biggest and ...\n",
            "3 The Glorious DJ furniture line is a sight for sore eyes in any living environment . The modern upholstered design is marked by the finest in quality and finish .\n",
            "4 In a nutshell , we are working towards a recognisable and approachable European administration .\n",
            "5 In a nutshell , Mr President of the Commission , what is our main aim : our main aim is neither more nor less a huge one - helping European citizens to understand that , apart from market forces , we are also interested in the rule of law and that , apart from economic goals , we are also setting goals to bring about integration through full legal development of the concept of citizenship : in other words , as the subjects of rights and obligations , the very backbone of law and justice .\n",
            "6 Let us see , in a nutshell , the most important factors that are affecting the level of our vitality , energy , productivity and competitiveness .\n",
            "7 The Czech Republic in a nutshell .\n",
            "8 As regards future objectives , in a nutshell , two things are needed : to ensure the organisational legal autonomy of the European Police College and the development opportunities required for its renewed operation .\n",
            "9 In a nutshell : there were programmes being run for which there were insufficient staff resources available .\n",
            "10 In a nutshell , our mission is to provide our clients with EHS compliance assurance support .\n",
            "11 In a nutshell , this means strict adherence to the letter and spirit of the Bonn process as well as to sound macroeconomic and financial management .\n",
            "12 Indeed , that , in a nutshell , is the story of the last six decades : a succession of Asian countries managed to grow by leaps and bounds by applying different variants of mercantilism .\n",
            "13 The full Antaiji Manual of Practice is available here with lots of information about zazen or kinhin , as well as the many responsibilities around the monastery , and Adult Practice in a Nutshell .\n",
            "14 In a nutshell , patients should be allowed to take control of their own illnesses .\n",
            "15 In a nutshell it is the understanding that while the forms depend on the Self , the Self does not depend on the forms .\n",
            "16 In a nutshell , Commissioner , you can count on our support , and we are asking the Council to approve the negotiated agreement .\n",
            "17 This , to put it in a nutshell , is the business philosophy of the Ferrua-Sistemblock Group .\n",
            "18 In a nutshell , this is the ECB ’ s situation today .\n",
            "19 In a nutshell , the child must learn how to learn .\n",
            "20 In a nutshell : the implosion of the brave new world of modern finance , and the economic crisis that followed , was rooted in the idea that free and unregulated capital markets always work for the public good , and are all that is needed for economic prosperity .\n",
            "21 There you see the European crisis in a nutshell ; that is what our institutions have to overcome together .\n",
            "22 In a nutshell , the cost of our work to improve nuclear safety has been between EUR 750 and 850 million .\n",
            "23 In a nutshell , I would say that maritime activity is a very important part of the economy and the everyday life of many Europeans .\n",
            "24 To put it in a nutshell , I think that the main issue that should be concerning us in the whole affair is the position of the European Central Bank which will support the currencies of the countries which are outside when they are threatened , but only sufficiently , so it tells us , to prevent a threat to the stability of the euro .\n",
            "25 In a nutshell , I can say that , in spite of the criticism that the Stability and Growth Pact was practically dead , the new Stability and Growth Pact has proved to be functional and alive .\n",
            "26 In a nutshell , our regulatory system to combat terrorism is extremely untransparent : I am unable to navigate through it and I hope that terrorists are also unable to find their bearings amongst all this confusion .\n",
            "27 In a nutshell , this is the most important part of the preamble to the resolution .\n",
            "28 In a nutshell , the ECF ’ s conclusion is that a continent-wide renewable power system is both technically possible and economically affordable .\n",
            "29 In a nutshell , this report is a fine example of how we can secure broad consensus within political groups about regulating our common concerns in the future .\n",
            "30 In a nutshell , Commissioner , Europe 's future will be decided by knowledge and work .\n",
            "31 In a nutshell , H.264 is suited to any platform — handheld to high def .\n",
            "32 I get the impression that no one is questioning the effectiveness of extradition , of the European Arrest Warrant , the reduction in the length of proceedings and therefore , in a nutshell , the fight against crime .\n",
            "33 These are , in a nutshell , the motives underlying the opinion issued by the Committee on Legal Affairs and the Internal Market .\n",
            "34 In a nutshell , I would like to reiterate the Commission ' s conclusion here : it supports the draft recommendation and hopes that it will be of key importance to anyone with an interest in intellectual property .\n",
            "35 Holders are also granted priority parking at special rates , as well as special rates to visit culture venues and for tickets to shows and events . In a nutshell , it ’ s a pass for getting the best for the least out of the city .\n",
            "36 In a nutshell , I am pleased that the Commissioner has accepted a large number of amendments .\n",
            "37 In a nutshell , yes .\n",
            "38 In a nutshell , our joint efforts have resulted in a solution which means that checks on those crossing the EU ’ s external borders will become a great deal more welcoming .\n",
            "39 Summers ’ s argument , in a nutshell , is that if the expected profitability of investment is falling , interest rates need to fall to the same extent . But interest rates cannot fall below zero ( in fact , they may be stuck above zero if there is a strong desire to build up cash balances ) .\n",
            "40 This , in a nutshell , provided the main impetus for our decision to resume the negotiations on the new EU-Russia agreement , despite what happened in Georgia last August .\n",
            "41 In a nutshell , Web-to-print is the dynamic generation of print templates using an online service that also accommodates relevant business processes .\n",
            "42 In a nutshell , Keynes struggled against the notion that if only countries would cut their deficits , \" confidence \" would be restored , investment would return , and the economy would again attain full employment .\n",
            "43 Discover our pages Belgium in a nutshell !\n",
            "44 However , the biggest future trend of this year ’ s CES can be put in a nutshell that could hardly be more succinct and concise : “ 3D ” .\n",
            "45 In a nutshell , guaranteeing EU citizens ' security .\n",
            "46 I spelled out some of the mistakes you can make to further emphasize the importance of chaining in the right moment . In a nutshell : This article should be able to help you a lot taking your game to the next level : Der Versammlungsstein – The Chain , Part 2 .\n",
            "47 At our bank , it denotes experienced and acknowledged values , norms and goals or , in a nutshell , the way in which we treat each other .\n",
            "48 In a nutshell , they must enshrine all the values and principles which unite all European citizens .\n",
            "49 00 : 01 : 05 : 13 , 00 : 01 : 10 : 15 , So here 's the reasoning in a nutshell .\n",
            "50 In a nutshell , the single currency can only lead to the total transfer of economic , budgetary and fiscal sovereignty towards Brussels , or else the situation will be totally out of control .\n",
            "51 In a nutshell – a professional drill that could only have been developed and produced by FEIN .\n",
            "52 That , in a nutshell , is what the Fed and the ECB are saying .\n",
            "53 In a nutshell , HAL allows to set the exact same properties as xorg.conf does but with a lot more flexibility : you can now have per-device layouts for instance .\n",
            "54 Entrust yourself to our masseur . In a nutshell : enjoy all the comfort we offer you .\n",
            "55 In a nutshell : everyone ’ s taste will be satisfied by the rich selection offered by the Festival .\n",
            "56 So , that ’ s in a nutshell how this model of economic democracy works .\n",
            "57 In a nutshell : it does have its advantages , and the risk of social dumping is slight .\n",
            "58 But it is more than justified . To put it in a nutshell : The OLED installation by rAndom International it a show piece to illustrate what can already be done - and what will be possible in the future .\n",
            "59 Important financial figures of Q-Cells in a nutshell .\n",
            "60 New Year , new president : Interview with new CNE-President Stephen Pollard ... JNE 3.2 in a nutshell : What the new Journal for the New Europe brings you ... Goodbye , Milton : A tribute to Milton Friedman by Normann Barry ... Breeding ground for innovation : On a new book by Gerhard Schwarz and Ronald Clapham ...\n",
            "61 With \" PDF / A in a Nutshell \" , the user gets a look behind the scenes of the standards and a practical guidance on how to create standard compliant PDF / A documents in his work environment .\n",
            "62 This will perhaps allow us to fight together still more effectively against clandestine immigration and to promote the development , in a nutshell , of democracy .\n",
            "63 In a nutshell , we need to invest less in asphalt , concrete and roads , and more in research infrastructure and training our people .\n",
            "64 In a nutshell , you are always welcome from 07 : 00 am to 1 : 00 am .\n",
            "65 In a nutshell , Commissioner , the objective of this text is for us to fight unfailingly for solidarity and quality , and against shortages , trafficking , and all trafficking that women in particular can be victims of .\n",
            "66 In a nutshell , this is an attack on our world , the whole world , and on our international rule of law , and this is precisely what I should like to uphold .\n",
            "67 In a nutshell , it allows FreeBSD users to run a majority of the applications that are only distributed as Linux binaries . When compared to the vast number of native applications available for FreeBSD using the Ports Collection , these applications are in the minority .\n",
            "68 That is the social situation in a nutshell .\n",
            "69 This is the Roma issue with all its intricacies in a nutshell .\n",
            "70 In a nutshell , it is a retrograde , ill-thought-out proposal , which we shall be voting against .\n",
            "71 In a nutshell , we believe that those who view this sampling of American art today will experience certain of this nation 's fundamental values - innovation , diversity , freedom , individualism , competitive excellence - in ways that go well beyond words .\n",
            "72 In a nutshell , public health and consumer protection must be paramount to all other considerations for Europe 's agrifood sector .\n",
            "73 In a nutshell , you are always welcome from 07 : 00 am to 1 : 00 am .\n",
            "74 In a nutshell , the legislative proposal under discussion will not solve the problems inherent in incineration as a waste management method .\n",
            "75 In a nutshell , this depends on a strong Europe , a goal also expressed in the motto of the European Council 's Hungarian Presidency .\n",
            "76 In a nutshell , I was negotiating with companies about partnerships , creating and selling new products , designing and implementing marketing campaigns , coaching and tracking three different teams with a total of 25 team members , speaking in front of student and corporate audiences , training new members , exchanging ideas and networking at international conferences while still attending my university courses .\n",
            "77 That is the problem in a nutshell .\n",
            "78 To put it in a nutshell , Europe has worked against itself , and in my view this is a further sign of its failure to conduct a rational diplomacy .\n",
            "79 To put it in a nutshell , we are beginning to build the house from the roof downwards .\n",
            "80 In a nutshell , the report fails really to tackle the issue and assembles bits and pieces alongside the present existing possibilities to put culture on the agenda both for the EU and between the EU and third countries .\n",
            "81 This sums up in a nutshell the major plan for investing EUR 1 000 billion that I have been calling for since the beginning of the current term of office and which is an essential condition for our continent 's development through competitiveness and for equal opportunities for European citizens wherever they are in the Union .\n",
            "82 The annual campaigns since 1995 have brought neither residences nor fortifications to light , but instead monumental and megalithic circular configurations previously unknown , beyond any shadow of a doubt religious in function .\n",
            "83 I think it has emerged beyond a shadow of a doubt that European governments have aided and abetted the actions of US Intelligence on European territory .\n",
            "84 This morning , the European Parliament sought to kill two birds with one stone by settling the continuing problem of Members ' travel expenses and at the same time advancing the cause of federalism .\n",
            "85 Have you decided to kill two birds with one stone , spend a few restful days in Prague and do something for your health while here ?\n",
            "86 We needed to think outside the box .\n",
            "87 However , I should also like to see the Council go the extra mile by formulating clear , quantitative and specific objectives in terms of reducing the wage gap and setting up a number of child care centres .\n",
            "88 However , ladies and gentlemen , it is important to go that extra mile and secure an integrated European system to deal with all the EU 's external borders .\n",
            "89 You are self-motivated and willing to go the extra mile as part of a dynamic team committed to success An attractive salary and benefits package completes this exciting job opening .\n",
            "90 I would like to urge the European Union governments to go the extra mile and strike an agreement which will ensure effective operation of the European Union for many years to come .\n",
            "91 Their outstanding traits are their high level of qualification and creativity , exceptional motivation and willingness to go the extra mile .\n",
            "92 Member States must bite the bullet and be prepared to pay for adequate gas storage facilities and stocks .\n",
            "93 We take special care of the little ones !\n",
            "94 Friends from the People ' s Party , Greens , Socialists , British Liberals , take care !\n",
            "95 But we must take care !\n",
            "96 It is a good practice to pre-load the output buffer before switching port pins to output — but take care when switching multiple pins !\n",
            "97 Take care , all data on your pc will be deleted !\n",
            "98 While you ’ ll relax we will take care of all the rest !\n",
            "99 Our customer account managers have too many customers to take care of !\n",
            "100 Shortly put ... if you start messing around with us our grandma will take care of you - promise !\n",
            "101 Welcome Dr. Bretti in our rows , he will take care for our servers ! Have Fun !\n",
            "102 No problem . We shall take care of you !\n",
            "103 For orders above € 100,00 we will take care of the shipping costs !\n",
            "104 Our company , Gifoa , take care of your security !\n",
            "105 You can trust our Dorcel Girls , they 're going to take care of you !\n",
            "106 WE take care of YOUR well-being !\n",
            "107 All Inclusive offers you and your family excellent value for money and the opportunity to sit back and relax - we 'll take care of everything !\n",
            "108 Either you choose for a Low budget- or a custom made fair booth ; we always take care for an excellent quality and a perfect finishing off !\n",
            "109 We attempt take care of your requests as soon as possible !\n",
            "110 Enjoy your stay - we ’ ll take care of the rest !\n",
            "111 The families affected by new variant Creutzfeld-Jacob 's disease have received some compensation , but we should not forget the dire prediction of one professor , who said , ' Take care , the incubation period lasts for 15 years ! '\n",
            "112 Anti-Antifa photographers are moving through the city , take care of yourselves !\n",
            "113 A wedding with a difference  let us take care of it !\n",
            "114 Besides everything is so well take care off !\n",
            "115 We will take care for your perfect holiday !\n",
            "116 Thanks for this quick tête-à-tête , and remember , take good care of that dongle of yours !\n",
            "117 In our five Austrian lounges ( two Business Lounges , two Senator Lounges and an HON Circle Lounge ) you can relax , enjoy a snack , read the paper , do some work or recharge your batteries . The time till take-off flies by as our staff take care of all the check-in formalities on your behalf !\n",
            "118 It is a good feeling , while everyday practising these things , that there are so many men , who take care about it . Great - THANKS !\n",
            "119 Your company : Talk to us and we take care of the rest !\n",
            "120 In the second update i wear ultra high black leather pumps and again my hot nylons . Have fun with my new update and take care !\n",
            "121 Let our professional team take care of everything so you can focus on what ’ s important ! We organize your event from start to finish , be it a congress or a meeting , an event or a shuttle service .\n",
            "122 03.10.2009 17 : 14 [ Friedrichshafen ] There 're still small groups of nazis lurking in the streets . Only walk in groups and take care of yourself fellows !\n",
            "123 You simply cash the product from your site , sending us the new customer from your bluedropship account , and we take care of the rest !\n",
            "124 This is the custom . It is perhaps not justified but , like any custom , one must take care before challenging them !\n",
            "125 Nobody wants to buy a pig in a poke .\n",
            "126 The Council wants us to buy a pig in a poke .\n",
            "127 The electorate , I am convinced , will not be forced to buy a pig in a poke .\n",
            "128 And then I will also have to tell my constituents that they will have to buy a pig in a poke , that I cannot explain to them what the Council has written , and the Council will not explain to them what it has written ; that the Council thinks they should go and vote in a referendum completely in the dark because it thinks that they should have sufficient faith in it and expect everything to be surely interpreted for the best .\n",
            "129 We are effectively being asked to buy the bovine equivalent of a pig in a poke .\n",
            "130 It didn 't take long to get the ball rolling with the Volkswagen company ; the Board of Management was enthusiastic .\n",
            "131 These are all good suggestions to get the ball rolling , but they are no substitute for an overall solution .\n",
            "132 We are , however , critical of the fact that the ball has been set rolling for the EU budget to be used to finance the common foreign and security policy .\n",
            "133 So I would say to the President-in-Office : please do not set the ball rolling ; take it back again .\n",
            "134 I should like Parliament to pull itself together ; I do not want it to search through all 120 paragraphs for all the dangers that can be imagined and for things that should be done , nor to add yet another list of measures which it would be impossible to implement all together and , above all , quickly .\n",
            "135 It is necessary to pull all these strands together and to strike an appropriate balance .\n",
            "136 Pohl-Boskamp employees are aware that their individual responsibilities form part of a “ bigger picture ” ; one which drives us to pull together naturally in the interests of our customers .\n",
            "137 National strategies alone will not produce cutting-edge research ; we need a strategy for the continent , we need the whole of the Union to pull together .\n",
            "138 Member States might make assurances in speeches that they are ready to pull together , but something quite different is evident where the action taken is concerned .\n",
            "139 We expect the European Union institutions to pull together , and we call on the Commission to actively support the efforts of the European Parliament and its President , Mr Poettering , to revitalise the EMPA .\n",
            "140 Through this vote , we are calling on the Lithuanian parliamentary representatives to pull themselves together and reject this text , which signals a return to a past that , personally speaking , I condemn .\n",
            "141 We must try to pull the Union and its citizens together and have genuine solidarity .\n",
            "142 It must restore their hope of a decent living and lay the foundations for economic recovery by getting everyone to pull together .\n",
            "143 We have to pull together now as a continent or we will fall apart .\n",
            "144 In the past commitments have simply built up from one budget exercise to the next , with almost no effort to pull things together into a coherent whole .\n",
            "145 Everyone must now pull together to make it happen and achieve the objectives that we first set out for ourselves when we agreed the Doha Charter all those years ago .\n",
            "146 There is a strategy for this part of Central Asia , it will be reviewed , but I am looking at it in the context of the External Action Service and what we should be doing within this region to pull together the different elements of Commission and Council support .\n",
            "147 So a key goal of Clinton ’ s visit must be to pull together with the Asian leaders present at the ASEAN Regional Forum .\n",
            "148 We find ourselves in the middle of an economic crisis and , as a consequence , we must pull together in order to reduce costs and increase the interoperability of the military capacity of our Member States .\n",
            "149 Nevertheless , if we all pull together we will inevitably come to the point - perhaps not now , perhaps not in this century - some time in the 21st century where we are all linked to the information society .\n",
            "150 Of course this is one of the things that the Asylum Support Office will be looking at : how to pull together that information from a variety of sources in a more standard format and perhaps a format where people will have greater confidence that the information is not being used politically .\n",
            "151 Now I am asking the Commission and the Council to pull themselves together and start to regard taxpayers ' money as if it were their own .\n",
            "152 Mr Herman called on us to pull ourselves together in order to achieve a specific goal , and the reservations must not be allowed to stand in the way of everything .\n",
            "153 Unless we all pull together to develop rail freight on a European-wide scale – including opening up national networks , more progress on inter-operability and changes in the way the industry thinks and works – there will be no rail freight to defend or be worth mentioning by the year 2020 .\n",
            "154 The South Africans are now in the driving seat and will need our help and support to pull things together in the coming weeks .\n",
            "155 We have all the instruments , we have all the instruments that we require but we have to pull them together much more effectively than we have in the past and that is the challenge which the High Representative and I face in the next four or five years .\n",
            "156 We thought at one point we might have got a first-reading agreement on this , but time and , indeed , our desire to pull together the package of measures looking at the European common asylum system mean that we have not got that far .\n",
            "157 Now it is time , however , to pull ourselves together and show the required leadership .\n",
            "158 Yet if Europe fails to pull together , all the individual States will disappear from the world scene .\n",
            "159 Its regular reports to the G-20 pull together the diverse strands of regulation in a clear and comprehensible way .\n",
            "160 The difference with this specific episode was that it occurred unfortunately - or fortunately , because it gives us an opportunity to pull together and resolve this problem - on European territory .\n",
            "161 We do want as part of the action plan to pull together that regional cooperation .\n",
            "162 We must all pull together in order to maintain and intensify the dynamics of reform that have developed among our partners .\n",
            "163 Fortunately , today we know that children who have learning difficulties are not bad kids , that those suffering from depression cannot be expected simply to pull themselves together , but that with adequate care even individuals with mental disabilities are capable of significant development .\n",
            "\n",
            "0 Tom and Mary are head over heels in love with each other and are going to get married next month .\n",
            "1 I can't believe that I haven't seen you in a year ! You are a sight for sore eyes .\n",
            "2 In a nutshell , all the new mayor was saying is that the fight against crime will be taken much more seriously .\n",
            "3 The government has clarified beyond a shadow of doubt that the people who have been evading taxes so far will be caught very soon .\n",
            "4 I have to go to the bank , and on the way back , I'll pick up the groceries also , killing two birds with one stone .\n",
            "5 The team always thinks outside the box to come up with unique advertisements for all its clients .\n",
            "6 When it comes to weaker students , the teacher goes the extra mile to help them understand .\n",
            "7 When the time comes , I'll bite the bullet and take my punishment without a fuss .\n",
            "8 Take care not to cut yourself on that rusty piece of metal .\n",
            "9 If you buy a used car without examining it thoroughly first , you might end up buying a pig in a poke .\n",
            "10 The ball was rolling when he struck that first conversation with her , she could not refuse his proposal knowing how charming he really was !\n",
            "11 I know its difficult to get over your loss , but try to pull yourself together and get on with life .\n"
          ]
        }
      ]
    },
    {
      "cell_type": "code",
      "source": [
        "# Remove some unsuitable sentences after manual check (not the same idiom (or not used as idiom), too long (>=3 lines))\n",
        "ende_sentences = ende_sentences.drop([5,13,24,37,39,44,46,49,60,61,67,76,81,94,95,99,100,101,102,104,105,106,109,112,114,116,118,120,122,132,133,135,136,138,139,141,142,143,144,145,146,147,148,149,150,153,154,155,156,158,159,160,161,162])\n",
        "ende_sentences = ende_sentences.reset_index()\n",
        "ende_sentences = ende_sentences.drop(\"index\",\"columns\")"
      ],
      "metadata": {
        "colab": {
          "base_uri": "https://localhost:8080/"
        },
        "id": "sFPYtPFMKbBI",
        "outputId": "d31fedfa-9220-4881-fb80-4a099b7aa181"
      },
      "execution_count": null,
      "outputs": [
        {
          "output_type": "stream",
          "name": "stderr",
          "text": [
            "/usr/local/lib/python3.7/dist-packages/ipykernel_launcher.py:4: FutureWarning: In a future version of pandas all arguments of DataFrame.drop except for the argument 'labels' will be keyword-only\n",
            "  after removing the cwd from sys.path.\n"
          ]
        }
      ]
    },
    {
      "cell_type": "code",
      "source": [
        "# Make comparison datasets and save to file\n",
        "comparison_data = par_sentences.append(ende_sentences, ignore_index=True)\n",
        "comparison_data"
      ],
      "metadata": {
        "colab": {
          "base_uri": "https://localhost:8080/",
          "height": 424
        },
        "id": "8ZnkNjLgKmPu",
        "outputId": "1cd9ad4e-ced7-4220-f558-4b85fcf9ef2c"
      },
      "execution_count": null,
      "outputs": [
        {
          "output_type": "execute_result",
          "data": {
            "text/plain": [
              "                             idiom  \\\n",
              "0                  head over heels   \n",
              "1            a sight for sore eyes   \n",
              "2                    in a nutshell   \n",
              "3         beyond a shadow of doubt   \n",
              "4    kill two birds with one stone   \n",
              "..                             ...   \n",
              "117               to pull together   \n",
              "118               to pull together   \n",
              "119               to pull together   \n",
              "120               to pull together   \n",
              "121               to pull together   \n",
              "\n",
              "                                                 input  \n",
              "0    Tom and Mary are head over heels in love with ...  \n",
              "1    I can't believe that I haven't seen you in a y...  \n",
              "2    In a nutshell , all the new mayor was saying i...  \n",
              "3    The government has clarified beyond a shadow o...  \n",
              "4    I have to go to the bank , and on the way back...  \n",
              "..                                                 ...  \n",
              "117  Through this vote , we are calling on the Lith...  \n",
              "118  Now I am asking the Commission and the Council...  \n",
              "119  Mr Herman called on us to pull ourselves toget...  \n",
              "120  Now it is time , however , to pull ourselves t...  \n",
              "121  Fortunately , today we know that children who ...  \n",
              "\n",
              "[122 rows x 2 columns]"
            ],
            "text/html": [
              "\n",
              "  <div id=\"df-1fa7aa9a-fc69-4e6a-8a8b-946e49be142a\">\n",
              "    <div class=\"colab-df-container\">\n",
              "      <div>\n",
              "<style scoped>\n",
              "    .dataframe tbody tr th:only-of-type {\n",
              "        vertical-align: middle;\n",
              "    }\n",
              "\n",
              "    .dataframe tbody tr th {\n",
              "        vertical-align: top;\n",
              "    }\n",
              "\n",
              "    .dataframe thead th {\n",
              "        text-align: right;\n",
              "    }\n",
              "</style>\n",
              "<table border=\"1\" class=\"dataframe\">\n",
              "  <thead>\n",
              "    <tr style=\"text-align: right;\">\n",
              "      <th></th>\n",
              "      <th>idiom</th>\n",
              "      <th>input</th>\n",
              "    </tr>\n",
              "  </thead>\n",
              "  <tbody>\n",
              "    <tr>\n",
              "      <th>0</th>\n",
              "      <td>head over heels</td>\n",
              "      <td>Tom and Mary are head over heels in love with ...</td>\n",
              "    </tr>\n",
              "    <tr>\n",
              "      <th>1</th>\n",
              "      <td>a sight for sore eyes</td>\n",
              "      <td>I can't believe that I haven't seen you in a y...</td>\n",
              "    </tr>\n",
              "    <tr>\n",
              "      <th>2</th>\n",
              "      <td>in a nutshell</td>\n",
              "      <td>In a nutshell , all the new mayor was saying i...</td>\n",
              "    </tr>\n",
              "    <tr>\n",
              "      <th>3</th>\n",
              "      <td>beyond a shadow of doubt</td>\n",
              "      <td>The government has clarified beyond a shadow o...</td>\n",
              "    </tr>\n",
              "    <tr>\n",
              "      <th>4</th>\n",
              "      <td>kill two birds with one stone</td>\n",
              "      <td>I have to go to the bank , and on the way back...</td>\n",
              "    </tr>\n",
              "    <tr>\n",
              "      <th>...</th>\n",
              "      <td>...</td>\n",
              "      <td>...</td>\n",
              "    </tr>\n",
              "    <tr>\n",
              "      <th>117</th>\n",
              "      <td>to pull together</td>\n",
              "      <td>Through this vote , we are calling on the Lith...</td>\n",
              "    </tr>\n",
              "    <tr>\n",
              "      <th>118</th>\n",
              "      <td>to pull together</td>\n",
              "      <td>Now I am asking the Commission and the Council...</td>\n",
              "    </tr>\n",
              "    <tr>\n",
              "      <th>119</th>\n",
              "      <td>to pull together</td>\n",
              "      <td>Mr Herman called on us to pull ourselves toget...</td>\n",
              "    </tr>\n",
              "    <tr>\n",
              "      <th>120</th>\n",
              "      <td>to pull together</td>\n",
              "      <td>Now it is time , however , to pull ourselves t...</td>\n",
              "    </tr>\n",
              "    <tr>\n",
              "      <th>121</th>\n",
              "      <td>to pull together</td>\n",
              "      <td>Fortunately , today we know that children who ...</td>\n",
              "    </tr>\n",
              "  </tbody>\n",
              "</table>\n",
              "<p>122 rows × 2 columns</p>\n",
              "</div>\n",
              "      <button class=\"colab-df-convert\" onclick=\"convertToInteractive('df-1fa7aa9a-fc69-4e6a-8a8b-946e49be142a')\"\n",
              "              title=\"Convert this dataframe to an interactive table.\"\n",
              "              style=\"display:none;\">\n",
              "        \n",
              "  <svg xmlns=\"http://www.w3.org/2000/svg\" height=\"24px\"viewBox=\"0 0 24 24\"\n",
              "       width=\"24px\">\n",
              "    <path d=\"M0 0h24v24H0V0z\" fill=\"none\"/>\n",
              "    <path d=\"M18.56 5.44l.94 2.06.94-2.06 2.06-.94-2.06-.94-.94-2.06-.94 2.06-2.06.94zm-11 1L8.5 8.5l.94-2.06 2.06-.94-2.06-.94L8.5 2.5l-.94 2.06-2.06.94zm10 10l.94 2.06.94-2.06 2.06-.94-2.06-.94-.94-2.06-.94 2.06-2.06.94z\"/><path d=\"M17.41 7.96l-1.37-1.37c-.4-.4-.92-.59-1.43-.59-.52 0-1.04.2-1.43.59L10.3 9.45l-7.72 7.72c-.78.78-.78 2.05 0 2.83L4 21.41c.39.39.9.59 1.41.59.51 0 1.02-.2 1.41-.59l7.78-7.78 2.81-2.81c.8-.78.8-2.07 0-2.86zM5.41 20L4 18.59l7.72-7.72 1.47 1.35L5.41 20z\"/>\n",
              "  </svg>\n",
              "      </button>\n",
              "      \n",
              "  <style>\n",
              "    .colab-df-container {\n",
              "      display:flex;\n",
              "      flex-wrap:wrap;\n",
              "      gap: 12px;\n",
              "    }\n",
              "\n",
              "    .colab-df-convert {\n",
              "      background-color: #E8F0FE;\n",
              "      border: none;\n",
              "      border-radius: 50%;\n",
              "      cursor: pointer;\n",
              "      display: none;\n",
              "      fill: #1967D2;\n",
              "      height: 32px;\n",
              "      padding: 0 0 0 0;\n",
              "      width: 32px;\n",
              "    }\n",
              "\n",
              "    .colab-df-convert:hover {\n",
              "      background-color: #E2EBFA;\n",
              "      box-shadow: 0px 1px 2px rgba(60, 64, 67, 0.3), 0px 1px 3px 1px rgba(60, 64, 67, 0.15);\n",
              "      fill: #174EA6;\n",
              "    }\n",
              "\n",
              "    [theme=dark] .colab-df-convert {\n",
              "      background-color: #3B4455;\n",
              "      fill: #D2E3FC;\n",
              "    }\n",
              "\n",
              "    [theme=dark] .colab-df-convert:hover {\n",
              "      background-color: #434B5C;\n",
              "      box-shadow: 0px 1px 3px 1px rgba(0, 0, 0, 0.15);\n",
              "      filter: drop-shadow(0px 1px 2px rgba(0, 0, 0, 0.3));\n",
              "      fill: #FFFFFF;\n",
              "    }\n",
              "  </style>\n",
              "\n",
              "      <script>\n",
              "        const buttonEl =\n",
              "          document.querySelector('#df-1fa7aa9a-fc69-4e6a-8a8b-946e49be142a button.colab-df-convert');\n",
              "        buttonEl.style.display =\n",
              "          google.colab.kernel.accessAllowed ? 'block' : 'none';\n",
              "\n",
              "        async function convertToInteractive(key) {\n",
              "          const element = document.querySelector('#df-1fa7aa9a-fc69-4e6a-8a8b-946e49be142a');\n",
              "          const dataTable =\n",
              "            await google.colab.kernel.invokeFunction('convertToInteractive',\n",
              "                                                     [key], {});\n",
              "          if (!dataTable) return;\n",
              "\n",
              "          const docLinkHtml = 'Like what you see? Visit the ' +\n",
              "            '<a target=\"_blank\" href=https://colab.research.google.com/notebooks/data_table.ipynb>data table notebook</a>'\n",
              "            + ' to learn more about interactive tables.';\n",
              "          element.innerHTML = '';\n",
              "          dataTable['output_type'] = 'display_data';\n",
              "          await google.colab.output.renderOutput(dataTable, element);\n",
              "          const docLink = document.createElement('div');\n",
              "          docLink.innerHTML = docLinkHtml;\n",
              "          element.appendChild(docLink);\n",
              "        }\n",
              "      </script>\n",
              "    </div>\n",
              "  </div>\n",
              "  "
            ]
          },
          "metadata": {},
          "execution_count": 61
        }
      ]
    },
    {
      "cell_type": "code",
      "source": [
        "# Save to file\n",
        "path= \"/content/drive/MyDrive/MRP Idiom Translation/data/\"\n",
        "comparison_data.to_csv(path+\"comparison_data.csv\")"
      ],
      "metadata": {
        "id": "b-csI3ZkUi34"
      },
      "execution_count": null,
      "outputs": []
    },
    {
      "cell_type": "markdown",
      "source": [
        "## Generate comparison questions\n",
        "\n",
        "Select idiom at random, select sentence with that idiom at random (maybe probabilities biased towards how many sentences there are per dataset?), collect the three translations."
      ],
      "metadata": {
        "id": "IYdTOmN-K02E"
      }
    },
    {
      "cell_type": "code",
      "source": [
        "# Load comparison data\n",
        "path= \"/content/drive/MyDrive/MRP Idiom Translation/data/Comparison sentences/\"\n",
        "data_base = pd.read_csv(path+\"translations_comparison_baseline.csv\")\n",
        "data_pipe = pd.read_csv(path+\"translations_comparison_pipeline.csv\")\n",
        "data_e2e = pd.read_csv(path+\"translations_comparison_end2end.csv\")\n"
      ],
      "metadata": {
        "id": "ojWhBxZdK_-W"
      },
      "execution_count": null,
      "outputs": []
    },
    {
      "cell_type": "code",
      "source": [
        "# Select random idiom sentence (with equal probability for each idiom)\n",
        "def rand_sents(n):\n",
        "  sentences = []\n",
        "  for i in range(n):\n",
        "    randnr = randrange(12)\n",
        "    if randnr == 0:\n",
        "      sents = [0,12,13]\n",
        "    if randnr == 1:\n",
        "      sents = [1,14,15]\n",
        "    if randnr == 2:\n",
        "      sents = list(range(16,81))\n",
        "      sents.append(2)\n",
        "    if randnr == 3:\n",
        "      sents = [3,81,82]\n",
        "    if randnr == 4:\n",
        "      sents = [4,83,84]\n",
        "    if randnr == 5:\n",
        "      sents = [5,85]\n",
        "    if randnr == 6:\n",
        "      sents = list(range(86,91))\n",
        "      sents.append(6)\n",
        "    if randnr == 7:\n",
        "      sents =  [7,91]\n",
        "    if randnr == 8:\n",
        "      sents = list(range(92,108))\n",
        "      sents.append(8)\n",
        "    if randnr == 9:\n",
        "      sents = list(range(108,113))\n",
        "      sents.append(9)\n",
        "    if randnr == 10:\n",
        "      sents = [10,113,114]\n",
        "    if randnr == 11:\n",
        "      sents = list(range(115,122))\n",
        "      sents.append(11)\n",
        "\n",
        "    sentences.append(choice(sents))\n",
        "\n",
        "  return sentences"
      ],
      "metadata": {
        "id": "Z4dBJwBCrLRc"
      },
      "execution_count": null,
      "outputs": []
    },
    {
      "cell_type": "code",
      "source": [
        "def print_sentences(sent_list):\n",
        "  # For given indexes for sentences in the comparison data, print the idiom, \n",
        "  # english sentence and translations\n",
        "\n",
        "  for i in sent_list:\n",
        "    print(\"Idiom: \", data_base[\"Idiom\"].iloc[i])\n",
        "    print(\"English sentence: \", data_base[\"Input\"].iloc[i])\n",
        "    print(\"Baseline: \", data_base[\"Translated\"].iloc[i])\n",
        "    print(\"Pipeline: \", data_pipe[\"Translated\"].iloc[i])\n",
        "    print(\"End-to-end: \", data_e2e[\"output\"].iloc[i])\n",
        "    print()"
      ],
      "metadata": {
        "id": "SqcqCJw9Nj6v"
      },
      "execution_count": null,
      "outputs": []
    },
    {
      "cell_type": "code",
      "source": [
        "# Random sentence from each dataset for fixed questions\n",
        "sent = [randrange(12), randrange(12,122)]\n",
        "print_sentences(sent)\n"
      ],
      "metadata": {
        "id": "E4F58h5VMZvG",
        "colab": {
          "base_uri": "https://localhost:8080/"
        },
        "outputId": "33af0cc5-cfcb-462d-92dd-1c1bf1610df6"
      },
      "execution_count": null,
      "outputs": [
        {
          "output_type": "stream",
          "name": "stdout",
          "text": [
            "Idiom:  head over heels\n",
            "English sentence:  Tom and Mary are head over heels in love with each other and are going to get married next month . \n",
            "Baseline:  Tom und Mary verlieben sich einander in den Kopf und werden im nächsten Monat verheiratet.\n",
            "Pipeline:  Tom und Mary verlieben sich tief miteinander und werden im nächsten Monat verheiratet.\n",
            "End-to-end:  Tom und Mary verlieben sich einander und werden im nächsten Monat verheiratet.\n",
            "\n",
            "Idiom:  in a nutshell\n",
            "English sentence:  In a nutshell : there were programmes being run for which there were insufficient staff resources available . \n",
            "Baseline:  Kurz gesagt: Es gab Programme, für die unzureichende Personalressourcen zur Verfügung standen.\n",
            "Pipeline:  Ich sage schnell: Es gab Programme, für die unzureichende Personalressourcen zur Verfügung standen.\n",
            "End-to-end:  Kurzum gesagt : Es gab Programme, für die es unzureichende Personalressourcen gab.\n",
            "\n"
          ]
        }
      ]
    },
    {
      "cell_type": "code",
      "source": [
        "# Random sentences from anywhere in the dataset, but equal probability for each idiom\n",
        "print_sentences(rand_sents(1))"
      ],
      "metadata": {
        "colab": {
          "base_uri": "https://localhost:8080/"
        },
        "id": "Vnu0jjtYojrf",
        "outputId": "c2854bbf-5608-461d-fdff-dbaa265a0170"
      },
      "execution_count": null,
      "outputs": [
        {
          "output_type": "stream",
          "name": "stdout",
          "text": [
            "Idiom:  to get the ball rolling\n",
            "English sentence:  These are all good suggestions to get the ball rolling , but they are no substitute for an overall solution . \n",
            "Baseline:  Das alles sind gute Vorschläge, um den Ball zu rollen, aber sie sind kein Ersatz für eine Gesamtlösung.\n",
            "Pipeline:  Das alles sind gute Vorschläge, um anfangen zu können, aber sie ersetzen keine Gesamtlösung.\n",
            "End-to-end:  Das alles sind gute Vorschläge, um den Ball in Gang zu bringen, aber sie sind kein Ersatz für eine Gesamtlösung.\n",
            "\n"
          ]
        }
      ]
    },
    {
      "cell_type": "code",
      "source": [
        "rand_sent.append(randrange(12))\n",
        "rand_sent[1] = randrange(12,122))\n",
        "print_sentences([rand_sent])"
      ],
      "metadata": {
        "colab": {
          "base_uri": "https://localhost:8080/",
          "height": 235
        },
        "id": "OeCm3UWoQOxp",
        "outputId": "be44f777-cbb5-41a6-ed33-bac4c631ee5b"
      },
      "execution_count": null,
      "outputs": [
        {
          "output_type": "error",
          "ename": "IndexError",
          "evalue": "ignored",
          "traceback": [
            "\u001b[0;31m---------------------------------------------------------------------------\u001b[0m",
            "\u001b[0;31mIndexError\u001b[0m                                Traceback (most recent call last)",
            "\u001b[0;32m<ipython-input-34-9453db1db455>\u001b[0m in \u001b[0;36m<module>\u001b[0;34m()\u001b[0m\n\u001b[1;32m      2\u001b[0m \u001b[0;32mfrom\u001b[0m \u001b[0mrandom\u001b[0m \u001b[0;32mimport\u001b[0m \u001b[0mrandrange\u001b[0m\u001b[0;34m\u001b[0m\u001b[0;34m\u001b[0m\u001b[0m\n\u001b[1;32m      3\u001b[0m \u001b[0mrand_sent\u001b[0m \u001b[0;34m=\u001b[0m \u001b[0;34m[\u001b[0m\u001b[0;34m]\u001b[0m\u001b[0;34m\u001b[0m\u001b[0;34m\u001b[0m\u001b[0m\n\u001b[0;32m----> 4\u001b[0;31m \u001b[0mrand_sent\u001b[0m\u001b[0;34m[\u001b[0m\u001b[0;36m0\u001b[0m\u001b[0;34m]\u001b[0m \u001b[0;34m=\u001b[0m \u001b[0mrandrange\u001b[0m\u001b[0;34m(\u001b[0m\u001b[0;36m12\u001b[0m\u001b[0;34m)\u001b[0m\u001b[0;34m\u001b[0m\u001b[0;34m\u001b[0m\u001b[0m\n\u001b[0m\u001b[1;32m      5\u001b[0m \u001b[0mrand_sent\u001b[0m\u001b[0;34m[\u001b[0m\u001b[0;36m1\u001b[0m\u001b[0;34m]\u001b[0m \u001b[0;34m=\u001b[0m \u001b[0mrandrange\u001b[0m\u001b[0;34m(\u001b[0m\u001b[0;36m12\u001b[0m\u001b[0;34m,\u001b[0m\u001b[0;36m122\u001b[0m\u001b[0;34m)\u001b[0m\u001b[0;34m\u001b[0m\u001b[0;34m\u001b[0m\u001b[0m\n\u001b[1;32m      6\u001b[0m \u001b[0mprint_sentences\u001b[0m\u001b[0;34m(\u001b[0m\u001b[0;34m[\u001b[0m\u001b[0mrand_sent\u001b[0m\u001b[0;34m]\u001b[0m\u001b[0;34m)\u001b[0m\u001b[0;34m\u001b[0m\u001b[0;34m\u001b[0m\u001b[0m\n",
            "\u001b[0;31mIndexError\u001b[0m: list assignment index out of range"
          ]
        }
      ]
    },
    {
      "cell_type": "code",
      "source": [
        "print_sentences(range(12))"
      ],
      "metadata": {
        "colab": {
          "base_uri": "https://localhost:8080/"
        },
        "id": "Bp2ENNfiT6ca",
        "outputId": "6133badf-650e-46c6-9a09-4c85c8ddb71b"
      },
      "execution_count": null,
      "outputs": [
        {
          "output_type": "stream",
          "name": "stdout",
          "text": [
            "Idiom:  head over heels\n",
            "English sentence:  Tom and Mary are head over heels in love with each other and are going to get married next month . \n",
            "Baseline:  Tom und Mary verlieben sich einander in den Kopf und werden im nächsten Monat verheiratet.\n",
            "Pipeline:  Tom und Mary verlieben sich tief miteinander und werden im nächsten Monat verheiratet.\n",
            "\n",
            "Idiom:  a sight for sore eyes\n",
            "English sentence:  I can't believe that I haven't seen you in a year ! You are a sight for sore eyes . \n",
            "Baseline:  Ich kann nicht glauben, dass ich Sie in einem Jahr nicht gesehen habe!\n",
            "Pipeline:  Ich kann nicht glauben, dass ich Sie in einem Jahr nicht gesehen habe!\n",
            "\n",
            "Idiom:  in a nutshell\n",
            "English sentence:  In a nutshell , all the new mayor was saying is that the fight against crime will be taken much more seriously . \n",
            "Baseline:  Kurz gesagt, der neue Bürgermeister sagte: Der Kampf gegen die Kriminalität wird viel ernster genommen.\n",
            "Pipeline:  Ich bin sicher, dass der neue Bürgermeister gesagt hat, dass die Bekämpfung der Kriminalität viel ernster genommen wird.\n",
            "\n",
            "Idiom:  beyond a shadow of doubt\n",
            "English sentence:  The government has clarified beyond a shadow of doubt that the people who have been evading taxes so far will be caught very soon . \n",
            "Baseline:  Die Regierung hat unbestreitbar klargestellt, dass die Menschen, die bisher Steuern umgehen, sehr bald gefangen werden.\n",
            "Pipeline:  Die Regierung hat sicher klargestellt, dass diejenigen, die bisher Steuern umgehen, sehr bald gefangen werden.\n",
            "\n",
            "Idiom:  kill two birds with one stone\n",
            "English sentence:  I have to go to the bank , and on the way back , I'll pick up the groceries also , killing two birds with one stone . \n",
            "Baseline:  Ich muss an die Bank gehen und auf dem Rückweg werde ich auch die Lebensmittel abholen, zwei Vögel mit einem Stein zu töten.\n",
            "Pipeline:  Ich muss an die Bank gehen, und auf dem Weg zurück, werde ich auch die Lebensmittel abholen, machen die meisten Zeit.\n",
            "\n",
            "Idiom:  think outside the box\n",
            "English sentence:  The team always thinks outside the box to come up with unique advertisements for all its clients . \n",
            "Baseline:  Das Team denkt immer außerhalb der Box, um einzigartige Werbung für alle seine Kunden zu präsentieren.\n",
            "Pipeline:  Das Team denkt stets an Lösungen, die aus der Regel sind, um für alle seine Kunden eine einzigartige Werbung zu präsentieren.\n",
            "\n",
            "Idiom:  go the extra mile\n",
            "English sentence:  When it comes to weaker students , the teacher goes the extra mile to help them understand . \n",
            "Baseline:  Wenn es um schwächere Studenten geht, macht der Lehrer die Extra-Maßnahme, um ihnen zu helfen, zu verstehen.\n",
            "Pipeline:  Wenn es um schwächere Schüler geht, tut der Lehrer alles, was er kann, um ihnen zu helfen, zu verstehen.\n",
            "\n",
            "Idiom:  bite the bullet\n",
            "English sentence:  When the time comes , I'll bite the bullet and take my punishment without a fuss . \n",
            "Baseline:  Wenn die Zeit kommt, werde ich die Kugel beißen und meine Strafe ohne Aufruhr nehmen.\n",
            "Pipeline:  Wenn die Zeit kommt, werde ich schnell sein und meine Strafe ohne Aufruhr nehmen.\n",
            "\n",
            "Idiom:  take care\n",
            "English sentence:  Take care not to cut yourself on that rusty piece of metal . \n",
            "Baseline:  Stellen Sie sicher, dass Sie sich nicht auf dieses rustige Stück von Metall schneiden.\n",
            "Pipeline:  Stellen Sie sicher, dass Sie sich nicht auf dieses rustige Metallstück schneiden.\n",
            "\n",
            "Idiom:  pig in a poke\n",
            "English sentence:  If you buy a used car without examining it thoroughly first , you might end up buying a pig in a poke . \n",
            "Baseline:  Wenn man ein gebrauchtes Auto kauft, ohne es zunächst einmal genau zu untersuchen, könnte man am Ende ein Schwein in einem Pissen kaufen.\n",
            "Pipeline:  Wenn Sie ein gebrauchtes Auto kaufen, ohne es zunächst einmal genau zu untersuchen, können Sie am Ende etwas kaufen, ohne es zu sehen.\n",
            "\n",
            "Idiom:  the ball rolling\n",
            "English sentence:  The ball was rolling when he struck that first conversation with her , she could not refuse his proposal knowing how charming he really was ! \n",
            "Baseline:  Die Kugel war rollend, als er diese erste Gespräch mit ihr getroffen hatte, konnte sie seinen Vorschlag nicht verweigern, wissend, wie charmant er wirklich war!\n",
            "Pipeline:  Das erste Gespräch mit ihr, konnte sie seinen Vorschlag nicht verweigern, wissend, wie charmant er wirklich war!\n",
            "\n",
            "Idiom:  pull yourself together\n",
            "English sentence:  I know its difficult to get over your loss , but try to pull yourself together and get on with life . \n",
            "Baseline:  Ich weiß, dass es schwierig ist, Ihren Verlust zu überwinden, aber versuchen Sie sich zusammenzuziehen und das Leben weiterzuentwickeln.\n",
            "Pipeline:  Ich weiß, dass es schwierig ist, Ihren Verlust zu überwinden, aber versuchen Sie, sich zu beruhigen und mit Leben weiterzumachen.\n",
            "\n"
          ]
        }
      ]
    }
  ]
}