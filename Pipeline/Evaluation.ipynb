{
  "nbformat": 4,
  "nbformat_minor": 0,
  "metadata": {
    "colab": {
      "name": "Evaluation.ipynb",
      "provenance": [],
      "collapsed_sections": [],
      "toc_visible": true
    },
    "kernelspec": {
      "name": "python3",
      "display_name": "Python 3"
    },
    "language_info": {
      "name": "python"
    },
    "accelerator": "GPU",
    "widgets": {
      "application/vnd.jupyter.widget-state+json": {
        "9716e8b7cddf4a7f8078c5ea9ca7b3a2": {
          "model_module": "@jupyter-widgets/controls",
          "model_name": "HBoxModel",
          "model_module_version": "1.5.0",
          "state": {
            "_dom_classes": [],
            "_model_module": "@jupyter-widgets/controls",
            "_model_module_version": "1.5.0",
            "_model_name": "HBoxModel",
            "_view_count": null,
            "_view_module": "@jupyter-widgets/controls",
            "_view_module_version": "1.5.0",
            "_view_name": "HBoxView",
            "box_style": "",
            "children": [
              "IPY_MODEL_bd8a16974e3c4f01918518efdf48054c",
              "IPY_MODEL_2472f981a48240a099d0b7eb94a042b1",
              "IPY_MODEL_24ef7867312b4b09992043cf6ba51491"
            ],
            "layout": "IPY_MODEL_c7bab870a0f94a258af487f62dabadd7"
          }
        },
        "bd8a16974e3c4f01918518efdf48054c": {
          "model_module": "@jupyter-widgets/controls",
          "model_name": "HTMLModel",
          "model_module_version": "1.5.0",
          "state": {
            "_dom_classes": [],
            "_model_module": "@jupyter-widgets/controls",
            "_model_module_version": "1.5.0",
            "_model_name": "HTMLModel",
            "_view_count": null,
            "_view_module": "@jupyter-widgets/controls",
            "_view_module_version": "1.5.0",
            "_view_name": "HTMLView",
            "description": "",
            "description_tooltip": null,
            "layout": "IPY_MODEL_78a51ac14b3440dc9f25285ec8e54121",
            "placeholder": "​",
            "style": "IPY_MODEL_6ba3660c2e9844d19f6b14a306c0762e",
            "value": "Downloading builder script: "
          }
        },
        "2472f981a48240a099d0b7eb94a042b1": {
          "model_module": "@jupyter-widgets/controls",
          "model_name": "FloatProgressModel",
          "model_module_version": "1.5.0",
          "state": {
            "_dom_classes": [],
            "_model_module": "@jupyter-widgets/controls",
            "_model_module_version": "1.5.0",
            "_model_name": "FloatProgressModel",
            "_view_count": null,
            "_view_module": "@jupyter-widgets/controls",
            "_view_module_version": "1.5.0",
            "_view_name": "ProgressView",
            "bar_style": "success",
            "description": "",
            "description_tooltip": null,
            "layout": "IPY_MODEL_bbcd805e0707490189f29988c320b5a0",
            "max": 2367,
            "min": 0,
            "orientation": "horizontal",
            "style": "IPY_MODEL_0b27686f842e43b88f7e1af3d15873b9",
            "value": 2367
          }
        },
        "24ef7867312b4b09992043cf6ba51491": {
          "model_module": "@jupyter-widgets/controls",
          "model_name": "HTMLModel",
          "model_module_version": "1.5.0",
          "state": {
            "_dom_classes": [],
            "_model_module": "@jupyter-widgets/controls",
            "_model_module_version": "1.5.0",
            "_model_name": "HTMLModel",
            "_view_count": null,
            "_view_module": "@jupyter-widgets/controls",
            "_view_module_version": "1.5.0",
            "_view_name": "HTMLView",
            "description": "",
            "description_tooltip": null,
            "layout": "IPY_MODEL_75f30368003747a2a6b0f9e12f828f5d",
            "placeholder": "​",
            "style": "IPY_MODEL_e031293152704aaf92a7df0f8f79148c",
            "value": " 5.81k/? [00:00&lt;00:00, 63.2kB/s]"
          }
        },
        "c7bab870a0f94a258af487f62dabadd7": {
          "model_module": "@jupyter-widgets/base",
          "model_name": "LayoutModel",
          "model_module_version": "1.2.0",
          "state": {
            "_model_module": "@jupyter-widgets/base",
            "_model_module_version": "1.2.0",
            "_model_name": "LayoutModel",
            "_view_count": null,
            "_view_module": "@jupyter-widgets/base",
            "_view_module_version": "1.2.0",
            "_view_name": "LayoutView",
            "align_content": null,
            "align_items": null,
            "align_self": null,
            "border": null,
            "bottom": null,
            "display": null,
            "flex": null,
            "flex_flow": null,
            "grid_area": null,
            "grid_auto_columns": null,
            "grid_auto_flow": null,
            "grid_auto_rows": null,
            "grid_column": null,
            "grid_gap": null,
            "grid_row": null,
            "grid_template_areas": null,
            "grid_template_columns": null,
            "grid_template_rows": null,
            "height": null,
            "justify_content": null,
            "justify_items": null,
            "left": null,
            "margin": null,
            "max_height": null,
            "max_width": null,
            "min_height": null,
            "min_width": null,
            "object_fit": null,
            "object_position": null,
            "order": null,
            "overflow": null,
            "overflow_x": null,
            "overflow_y": null,
            "padding": null,
            "right": null,
            "top": null,
            "visibility": null,
            "width": null
          }
        },
        "78a51ac14b3440dc9f25285ec8e54121": {
          "model_module": "@jupyter-widgets/base",
          "model_name": "LayoutModel",
          "model_module_version": "1.2.0",
          "state": {
            "_model_module": "@jupyter-widgets/base",
            "_model_module_version": "1.2.0",
            "_model_name": "LayoutModel",
            "_view_count": null,
            "_view_module": "@jupyter-widgets/base",
            "_view_module_version": "1.2.0",
            "_view_name": "LayoutView",
            "align_content": null,
            "align_items": null,
            "align_self": null,
            "border": null,
            "bottom": null,
            "display": null,
            "flex": null,
            "flex_flow": null,
            "grid_area": null,
            "grid_auto_columns": null,
            "grid_auto_flow": null,
            "grid_auto_rows": null,
            "grid_column": null,
            "grid_gap": null,
            "grid_row": null,
            "grid_template_areas": null,
            "grid_template_columns": null,
            "grid_template_rows": null,
            "height": null,
            "justify_content": null,
            "justify_items": null,
            "left": null,
            "margin": null,
            "max_height": null,
            "max_width": null,
            "min_height": null,
            "min_width": null,
            "object_fit": null,
            "object_position": null,
            "order": null,
            "overflow": null,
            "overflow_x": null,
            "overflow_y": null,
            "padding": null,
            "right": null,
            "top": null,
            "visibility": null,
            "width": null
          }
        },
        "6ba3660c2e9844d19f6b14a306c0762e": {
          "model_module": "@jupyter-widgets/controls",
          "model_name": "DescriptionStyleModel",
          "model_module_version": "1.5.0",
          "state": {
            "_model_module": "@jupyter-widgets/controls",
            "_model_module_version": "1.5.0",
            "_model_name": "DescriptionStyleModel",
            "_view_count": null,
            "_view_module": "@jupyter-widgets/base",
            "_view_module_version": "1.2.0",
            "_view_name": "StyleView",
            "description_width": ""
          }
        },
        "bbcd805e0707490189f29988c320b5a0": {
          "model_module": "@jupyter-widgets/base",
          "model_name": "LayoutModel",
          "model_module_version": "1.2.0",
          "state": {
            "_model_module": "@jupyter-widgets/base",
            "_model_module_version": "1.2.0",
            "_model_name": "LayoutModel",
            "_view_count": null,
            "_view_module": "@jupyter-widgets/base",
            "_view_module_version": "1.2.0",
            "_view_name": "LayoutView",
            "align_content": null,
            "align_items": null,
            "align_self": null,
            "border": null,
            "bottom": null,
            "display": null,
            "flex": null,
            "flex_flow": null,
            "grid_area": null,
            "grid_auto_columns": null,
            "grid_auto_flow": null,
            "grid_auto_rows": null,
            "grid_column": null,
            "grid_gap": null,
            "grid_row": null,
            "grid_template_areas": null,
            "grid_template_columns": null,
            "grid_template_rows": null,
            "height": null,
            "justify_content": null,
            "justify_items": null,
            "left": null,
            "margin": null,
            "max_height": null,
            "max_width": null,
            "min_height": null,
            "min_width": null,
            "object_fit": null,
            "object_position": null,
            "order": null,
            "overflow": null,
            "overflow_x": null,
            "overflow_y": null,
            "padding": null,
            "right": null,
            "top": null,
            "visibility": null,
            "width": null
          }
        },
        "0b27686f842e43b88f7e1af3d15873b9": {
          "model_module": "@jupyter-widgets/controls",
          "model_name": "ProgressStyleModel",
          "model_module_version": "1.5.0",
          "state": {
            "_model_module": "@jupyter-widgets/controls",
            "_model_module_version": "1.5.0",
            "_model_name": "ProgressStyleModel",
            "_view_count": null,
            "_view_module": "@jupyter-widgets/base",
            "_view_module_version": "1.2.0",
            "_view_name": "StyleView",
            "bar_color": null,
            "description_width": ""
          }
        },
        "75f30368003747a2a6b0f9e12f828f5d": {
          "model_module": "@jupyter-widgets/base",
          "model_name": "LayoutModel",
          "model_module_version": "1.2.0",
          "state": {
            "_model_module": "@jupyter-widgets/base",
            "_model_module_version": "1.2.0",
            "_model_name": "LayoutModel",
            "_view_count": null,
            "_view_module": "@jupyter-widgets/base",
            "_view_module_version": "1.2.0",
            "_view_name": "LayoutView",
            "align_content": null,
            "align_items": null,
            "align_self": null,
            "border": null,
            "bottom": null,
            "display": null,
            "flex": null,
            "flex_flow": null,
            "grid_area": null,
            "grid_auto_columns": null,
            "grid_auto_flow": null,
            "grid_auto_rows": null,
            "grid_column": null,
            "grid_gap": null,
            "grid_row": null,
            "grid_template_areas": null,
            "grid_template_columns": null,
            "grid_template_rows": null,
            "height": null,
            "justify_content": null,
            "justify_items": null,
            "left": null,
            "margin": null,
            "max_height": null,
            "max_width": null,
            "min_height": null,
            "min_width": null,
            "object_fit": null,
            "object_position": null,
            "order": null,
            "overflow": null,
            "overflow_x": null,
            "overflow_y": null,
            "padding": null,
            "right": null,
            "top": null,
            "visibility": null,
            "width": null
          }
        },
        "e031293152704aaf92a7df0f8f79148c": {
          "model_module": "@jupyter-widgets/controls",
          "model_name": "DescriptionStyleModel",
          "model_module_version": "1.5.0",
          "state": {
            "_model_module": "@jupyter-widgets/controls",
            "_model_module_version": "1.5.0",
            "_model_name": "DescriptionStyleModel",
            "_view_count": null,
            "_view_module": "@jupyter-widgets/base",
            "_view_module_version": "1.2.0",
            "_view_name": "StyleView",
            "description_width": ""
          }
        },
        "bde7732e23e3498c945fd4557281653c": {
          "model_module": "@jupyter-widgets/controls",
          "model_name": "HBoxModel",
          "model_module_version": "1.5.0",
          "state": {
            "_dom_classes": [],
            "_model_module": "@jupyter-widgets/controls",
            "_model_module_version": "1.5.0",
            "_model_name": "HBoxModel",
            "_view_count": null,
            "_view_module": "@jupyter-widgets/controls",
            "_view_module_version": "1.5.0",
            "_view_name": "HBoxView",
            "box_style": "",
            "children": [
              "IPY_MODEL_aee1019d544a484697d975de98585d11",
              "IPY_MODEL_a262cae8ad2e43ec9fc0dc0caf3fbd7e",
              "IPY_MODEL_4c961a091f4741e9ae99e9b18c595cd4"
            ],
            "layout": "IPY_MODEL_fc4908e5b0e543499942ddec5d968099"
          }
        },
        "aee1019d544a484697d975de98585d11": {
          "model_module": "@jupyter-widgets/controls",
          "model_name": "HTMLModel",
          "model_module_version": "1.5.0",
          "state": {
            "_dom_classes": [],
            "_model_module": "@jupyter-widgets/controls",
            "_model_module_version": "1.5.0",
            "_model_name": "HTMLModel",
            "_view_count": null,
            "_view_module": "@jupyter-widgets/controls",
            "_view_module_version": "1.5.0",
            "_view_name": "HTMLView",
            "description": "",
            "description_tooltip": null,
            "layout": "IPY_MODEL_526d63cbd30a420d8a161bc57af872b4",
            "placeholder": "​",
            "style": "IPY_MODEL_9912c2aae3094a9d98c10e89efae127d",
            "value": "Downloading: 100%"
          }
        },
        "a262cae8ad2e43ec9fc0dc0caf3fbd7e": {
          "model_module": "@jupyter-widgets/controls",
          "model_name": "FloatProgressModel",
          "model_module_version": "1.5.0",
          "state": {
            "_dom_classes": [],
            "_model_module": "@jupyter-widgets/controls",
            "_model_module_version": "1.5.0",
            "_model_name": "FloatProgressModel",
            "_view_count": null,
            "_view_module": "@jupyter-widgets/controls",
            "_view_module_version": "1.5.0",
            "_view_name": "ProgressView",
            "bar_style": "success",
            "description": "",
            "description_tooltip": null,
            "layout": "IPY_MODEL_accfa6859e8b4f90818ba7bc8ef0ac31",
            "max": 5069051,
            "min": 0,
            "orientation": "horizontal",
            "style": "IPY_MODEL_91fadec172364dfeb829a0b168b05d6e",
            "value": 5069051
          }
        },
        "4c961a091f4741e9ae99e9b18c595cd4": {
          "model_module": "@jupyter-widgets/controls",
          "model_name": "HTMLModel",
          "model_module_version": "1.5.0",
          "state": {
            "_dom_classes": [],
            "_model_module": "@jupyter-widgets/controls",
            "_model_module_version": "1.5.0",
            "_model_name": "HTMLModel",
            "_view_count": null,
            "_view_module": "@jupyter-widgets/controls",
            "_view_module_version": "1.5.0",
            "_view_name": "HTMLView",
            "description": "",
            "description_tooltip": null,
            "layout": "IPY_MODEL_9c1d7fd460a04ec88e827b4bed8c85f6",
            "placeholder": "​",
            "style": "IPY_MODEL_460364fcff1f48eba26c5280f9c8815d",
            "value": " 4.83M/4.83M [00:00&lt;00:00, 10.1MB/s]"
          }
        },
        "fc4908e5b0e543499942ddec5d968099": {
          "model_module": "@jupyter-widgets/base",
          "model_name": "LayoutModel",
          "model_module_version": "1.2.0",
          "state": {
            "_model_module": "@jupyter-widgets/base",
            "_model_module_version": "1.2.0",
            "_model_name": "LayoutModel",
            "_view_count": null,
            "_view_module": "@jupyter-widgets/base",
            "_view_module_version": "1.2.0",
            "_view_name": "LayoutView",
            "align_content": null,
            "align_items": null,
            "align_self": null,
            "border": null,
            "bottom": null,
            "display": null,
            "flex": null,
            "flex_flow": null,
            "grid_area": null,
            "grid_auto_columns": null,
            "grid_auto_flow": null,
            "grid_auto_rows": null,
            "grid_column": null,
            "grid_gap": null,
            "grid_row": null,
            "grid_template_areas": null,
            "grid_template_columns": null,
            "grid_template_rows": null,
            "height": null,
            "justify_content": null,
            "justify_items": null,
            "left": null,
            "margin": null,
            "max_height": null,
            "max_width": null,
            "min_height": null,
            "min_width": null,
            "object_fit": null,
            "object_position": null,
            "order": null,
            "overflow": null,
            "overflow_x": null,
            "overflow_y": null,
            "padding": null,
            "right": null,
            "top": null,
            "visibility": null,
            "width": null
          }
        },
        "526d63cbd30a420d8a161bc57af872b4": {
          "model_module": "@jupyter-widgets/base",
          "model_name": "LayoutModel",
          "model_module_version": "1.2.0",
          "state": {
            "_model_module": "@jupyter-widgets/base",
            "_model_module_version": "1.2.0",
            "_model_name": "LayoutModel",
            "_view_count": null,
            "_view_module": "@jupyter-widgets/base",
            "_view_module_version": "1.2.0",
            "_view_name": "LayoutView",
            "align_content": null,
            "align_items": null,
            "align_self": null,
            "border": null,
            "bottom": null,
            "display": null,
            "flex": null,
            "flex_flow": null,
            "grid_area": null,
            "grid_auto_columns": null,
            "grid_auto_flow": null,
            "grid_auto_rows": null,
            "grid_column": null,
            "grid_gap": null,
            "grid_row": null,
            "grid_template_areas": null,
            "grid_template_columns": null,
            "grid_template_rows": null,
            "height": null,
            "justify_content": null,
            "justify_items": null,
            "left": null,
            "margin": null,
            "max_height": null,
            "max_width": null,
            "min_height": null,
            "min_width": null,
            "object_fit": null,
            "object_position": null,
            "order": null,
            "overflow": null,
            "overflow_x": null,
            "overflow_y": null,
            "padding": null,
            "right": null,
            "top": null,
            "visibility": null,
            "width": null
          }
        },
        "9912c2aae3094a9d98c10e89efae127d": {
          "model_module": "@jupyter-widgets/controls",
          "model_name": "DescriptionStyleModel",
          "model_module_version": "1.5.0",
          "state": {
            "_model_module": "@jupyter-widgets/controls",
            "_model_module_version": "1.5.0",
            "_model_name": "DescriptionStyleModel",
            "_view_count": null,
            "_view_module": "@jupyter-widgets/base",
            "_view_module_version": "1.2.0",
            "_view_name": "StyleView",
            "description_width": ""
          }
        },
        "accfa6859e8b4f90818ba7bc8ef0ac31": {
          "model_module": "@jupyter-widgets/base",
          "model_name": "LayoutModel",
          "model_module_version": "1.2.0",
          "state": {
            "_model_module": "@jupyter-widgets/base",
            "_model_module_version": "1.2.0",
            "_model_name": "LayoutModel",
            "_view_count": null,
            "_view_module": "@jupyter-widgets/base",
            "_view_module_version": "1.2.0",
            "_view_name": "LayoutView",
            "align_content": null,
            "align_items": null,
            "align_self": null,
            "border": null,
            "bottom": null,
            "display": null,
            "flex": null,
            "flex_flow": null,
            "grid_area": null,
            "grid_auto_columns": null,
            "grid_auto_flow": null,
            "grid_auto_rows": null,
            "grid_column": null,
            "grid_gap": null,
            "grid_row": null,
            "grid_template_areas": null,
            "grid_template_columns": null,
            "grid_template_rows": null,
            "height": null,
            "justify_content": null,
            "justify_items": null,
            "left": null,
            "margin": null,
            "max_height": null,
            "max_width": null,
            "min_height": null,
            "min_width": null,
            "object_fit": null,
            "object_position": null,
            "order": null,
            "overflow": null,
            "overflow_x": null,
            "overflow_y": null,
            "padding": null,
            "right": null,
            "top": null,
            "visibility": null,
            "width": null
          }
        },
        "91fadec172364dfeb829a0b168b05d6e": {
          "model_module": "@jupyter-widgets/controls",
          "model_name": "ProgressStyleModel",
          "model_module_version": "1.5.0",
          "state": {
            "_model_module": "@jupyter-widgets/controls",
            "_model_module_version": "1.5.0",
            "_model_name": "ProgressStyleModel",
            "_view_count": null,
            "_view_module": "@jupyter-widgets/base",
            "_view_module_version": "1.2.0",
            "_view_name": "StyleView",
            "bar_color": null,
            "description_width": ""
          }
        },
        "9c1d7fd460a04ec88e827b4bed8c85f6": {
          "model_module": "@jupyter-widgets/base",
          "model_name": "LayoutModel",
          "model_module_version": "1.2.0",
          "state": {
            "_model_module": "@jupyter-widgets/base",
            "_model_module_version": "1.2.0",
            "_model_name": "LayoutModel",
            "_view_count": null,
            "_view_module": "@jupyter-widgets/base",
            "_view_module_version": "1.2.0",
            "_view_name": "LayoutView",
            "align_content": null,
            "align_items": null,
            "align_self": null,
            "border": null,
            "bottom": null,
            "display": null,
            "flex": null,
            "flex_flow": null,
            "grid_area": null,
            "grid_auto_columns": null,
            "grid_auto_flow": null,
            "grid_auto_rows": null,
            "grid_column": null,
            "grid_gap": null,
            "grid_row": null,
            "grid_template_areas": null,
            "grid_template_columns": null,
            "grid_template_rows": null,
            "height": null,
            "justify_content": null,
            "justify_items": null,
            "left": null,
            "margin": null,
            "max_height": null,
            "max_width": null,
            "min_height": null,
            "min_width": null,
            "object_fit": null,
            "object_position": null,
            "order": null,
            "overflow": null,
            "overflow_x": null,
            "overflow_y": null,
            "padding": null,
            "right": null,
            "top": null,
            "visibility": null,
            "width": null
          }
        },
        "460364fcff1f48eba26c5280f9c8815d": {
          "model_module": "@jupyter-widgets/controls",
          "model_name": "DescriptionStyleModel",
          "model_module_version": "1.5.0",
          "state": {
            "_model_module": "@jupyter-widgets/controls",
            "_model_module_version": "1.5.0",
            "_model_name": "DescriptionStyleModel",
            "_view_count": null,
            "_view_module": "@jupyter-widgets/base",
            "_view_module_version": "1.2.0",
            "_view_name": "StyleView",
            "description_width": ""
          }
        },
        "5a9ff0f7ee6447bfaf5355eb53685917": {
          "model_module": "@jupyter-widgets/controls",
          "model_name": "HBoxModel",
          "model_module_version": "1.5.0",
          "state": {
            "_dom_classes": [],
            "_model_module": "@jupyter-widgets/controls",
            "_model_module_version": "1.5.0",
            "_model_name": "HBoxModel",
            "_view_count": null,
            "_view_module": "@jupyter-widgets/controls",
            "_view_module_version": "1.5.0",
            "_view_name": "HBoxView",
            "box_style": "",
            "children": [
              "IPY_MODEL_71bcf2d9cb124060b63a9860a11dd2af",
              "IPY_MODEL_2e58d6a7d2e84a6dae151fd6eb7aa60a",
              "IPY_MODEL_ab11291d72e542b69c3299802fd029f8"
            ],
            "layout": "IPY_MODEL_dfc6af70ef8946d995c1528e8d2bea94"
          }
        },
        "71bcf2d9cb124060b63a9860a11dd2af": {
          "model_module": "@jupyter-widgets/controls",
          "model_name": "HTMLModel",
          "model_module_version": "1.5.0",
          "state": {
            "_dom_classes": [],
            "_model_module": "@jupyter-widgets/controls",
            "_model_module_version": "1.5.0",
            "_model_name": "HTMLModel",
            "_view_count": null,
            "_view_module": "@jupyter-widgets/controls",
            "_view_module_version": "1.5.0",
            "_view_name": "HTMLView",
            "description": "",
            "description_tooltip": null,
            "layout": "IPY_MODEL_3696d370128c4105a3925af64f8512fe",
            "placeholder": "​",
            "style": "IPY_MODEL_a40b4ebf95a8481bac8488a0f6381954",
            "value": "Downloading: 100%"
          }
        },
        "2e58d6a7d2e84a6dae151fd6eb7aa60a": {
          "model_module": "@jupyter-widgets/controls",
          "model_name": "FloatProgressModel",
          "model_module_version": "1.5.0",
          "state": {
            "_dom_classes": [],
            "_model_module": "@jupyter-widgets/controls",
            "_model_module_version": "1.5.0",
            "_model_name": "FloatProgressModel",
            "_view_count": null,
            "_view_module": "@jupyter-widgets/controls",
            "_view_module_version": "1.5.0",
            "_view_name": "ProgressView",
            "bar_style": "success",
            "description": "",
            "description_tooltip": null,
            "layout": "IPY_MODEL_459ae055b72549868e762d957be4d218",
            "max": 616,
            "min": 0,
            "orientation": "horizontal",
            "style": "IPY_MODEL_8e0598d13b854dc58ea347775d3cd189",
            "value": 616
          }
        },
        "ab11291d72e542b69c3299802fd029f8": {
          "model_module": "@jupyter-widgets/controls",
          "model_name": "HTMLModel",
          "model_module_version": "1.5.0",
          "state": {
            "_dom_classes": [],
            "_model_module": "@jupyter-widgets/controls",
            "_model_module_version": "1.5.0",
            "_model_name": "HTMLModel",
            "_view_count": null,
            "_view_module": "@jupyter-widgets/controls",
            "_view_module_version": "1.5.0",
            "_view_name": "HTMLView",
            "description": "",
            "description_tooltip": null,
            "layout": "IPY_MODEL_4400b826966a4a08af2e4f316e1cf978",
            "placeholder": "​",
            "style": "IPY_MODEL_1fde1296548947d3862e12f235fd5ff5",
            "value": " 616/616 [00:00&lt;00:00, 15.5kB/s]"
          }
        },
        "dfc6af70ef8946d995c1528e8d2bea94": {
          "model_module": "@jupyter-widgets/base",
          "model_name": "LayoutModel",
          "model_module_version": "1.2.0",
          "state": {
            "_model_module": "@jupyter-widgets/base",
            "_model_module_version": "1.2.0",
            "_model_name": "LayoutModel",
            "_view_count": null,
            "_view_module": "@jupyter-widgets/base",
            "_view_module_version": "1.2.0",
            "_view_name": "LayoutView",
            "align_content": null,
            "align_items": null,
            "align_self": null,
            "border": null,
            "bottom": null,
            "display": null,
            "flex": null,
            "flex_flow": null,
            "grid_area": null,
            "grid_auto_columns": null,
            "grid_auto_flow": null,
            "grid_auto_rows": null,
            "grid_column": null,
            "grid_gap": null,
            "grid_row": null,
            "grid_template_areas": null,
            "grid_template_columns": null,
            "grid_template_rows": null,
            "height": null,
            "justify_content": null,
            "justify_items": null,
            "left": null,
            "margin": null,
            "max_height": null,
            "max_width": null,
            "min_height": null,
            "min_width": null,
            "object_fit": null,
            "object_position": null,
            "order": null,
            "overflow": null,
            "overflow_x": null,
            "overflow_y": null,
            "padding": null,
            "right": null,
            "top": null,
            "visibility": null,
            "width": null
          }
        },
        "3696d370128c4105a3925af64f8512fe": {
          "model_module": "@jupyter-widgets/base",
          "model_name": "LayoutModel",
          "model_module_version": "1.2.0",
          "state": {
            "_model_module": "@jupyter-widgets/base",
            "_model_module_version": "1.2.0",
            "_model_name": "LayoutModel",
            "_view_count": null,
            "_view_module": "@jupyter-widgets/base",
            "_view_module_version": "1.2.0",
            "_view_name": "LayoutView",
            "align_content": null,
            "align_items": null,
            "align_self": null,
            "border": null,
            "bottom": null,
            "display": null,
            "flex": null,
            "flex_flow": null,
            "grid_area": null,
            "grid_auto_columns": null,
            "grid_auto_flow": null,
            "grid_auto_rows": null,
            "grid_column": null,
            "grid_gap": null,
            "grid_row": null,
            "grid_template_areas": null,
            "grid_template_columns": null,
            "grid_template_rows": null,
            "height": null,
            "justify_content": null,
            "justify_items": null,
            "left": null,
            "margin": null,
            "max_height": null,
            "max_width": null,
            "min_height": null,
            "min_width": null,
            "object_fit": null,
            "object_position": null,
            "order": null,
            "overflow": null,
            "overflow_x": null,
            "overflow_y": null,
            "padding": null,
            "right": null,
            "top": null,
            "visibility": null,
            "width": null
          }
        },
        "a40b4ebf95a8481bac8488a0f6381954": {
          "model_module": "@jupyter-widgets/controls",
          "model_name": "DescriptionStyleModel",
          "model_module_version": "1.5.0",
          "state": {
            "_model_module": "@jupyter-widgets/controls",
            "_model_module_version": "1.5.0",
            "_model_name": "DescriptionStyleModel",
            "_view_count": null,
            "_view_module": "@jupyter-widgets/base",
            "_view_module_version": "1.2.0",
            "_view_name": "StyleView",
            "description_width": ""
          }
        },
        "459ae055b72549868e762d957be4d218": {
          "model_module": "@jupyter-widgets/base",
          "model_name": "LayoutModel",
          "model_module_version": "1.2.0",
          "state": {
            "_model_module": "@jupyter-widgets/base",
            "_model_module_version": "1.2.0",
            "_model_name": "LayoutModel",
            "_view_count": null,
            "_view_module": "@jupyter-widgets/base",
            "_view_module_version": "1.2.0",
            "_view_name": "LayoutView",
            "align_content": null,
            "align_items": null,
            "align_self": null,
            "border": null,
            "bottom": null,
            "display": null,
            "flex": null,
            "flex_flow": null,
            "grid_area": null,
            "grid_auto_columns": null,
            "grid_auto_flow": null,
            "grid_auto_rows": null,
            "grid_column": null,
            "grid_gap": null,
            "grid_row": null,
            "grid_template_areas": null,
            "grid_template_columns": null,
            "grid_template_rows": null,
            "height": null,
            "justify_content": null,
            "justify_items": null,
            "left": null,
            "margin": null,
            "max_height": null,
            "max_width": null,
            "min_height": null,
            "min_width": null,
            "object_fit": null,
            "object_position": null,
            "order": null,
            "overflow": null,
            "overflow_x": null,
            "overflow_y": null,
            "padding": null,
            "right": null,
            "top": null,
            "visibility": null,
            "width": null
          }
        },
        "8e0598d13b854dc58ea347775d3cd189": {
          "model_module": "@jupyter-widgets/controls",
          "model_name": "ProgressStyleModel",
          "model_module_version": "1.5.0",
          "state": {
            "_model_module": "@jupyter-widgets/controls",
            "_model_module_version": "1.5.0",
            "_model_name": "ProgressStyleModel",
            "_view_count": null,
            "_view_module": "@jupyter-widgets/base",
            "_view_module_version": "1.2.0",
            "_view_name": "StyleView",
            "bar_color": null,
            "description_width": ""
          }
        },
        "4400b826966a4a08af2e4f316e1cf978": {
          "model_module": "@jupyter-widgets/base",
          "model_name": "LayoutModel",
          "model_module_version": "1.2.0",
          "state": {
            "_model_module": "@jupyter-widgets/base",
            "_model_module_version": "1.2.0",
            "_model_name": "LayoutModel",
            "_view_count": null,
            "_view_module": "@jupyter-widgets/base",
            "_view_module_version": "1.2.0",
            "_view_name": "LayoutView",
            "align_content": null,
            "align_items": null,
            "align_self": null,
            "border": null,
            "bottom": null,
            "display": null,
            "flex": null,
            "flex_flow": null,
            "grid_area": null,
            "grid_auto_columns": null,
            "grid_auto_flow": null,
            "grid_auto_rows": null,
            "grid_column": null,
            "grid_gap": null,
            "grid_row": null,
            "grid_template_areas": null,
            "grid_template_columns": null,
            "grid_template_rows": null,
            "height": null,
            "justify_content": null,
            "justify_items": null,
            "left": null,
            "margin": null,
            "max_height": null,
            "max_width": null,
            "min_height": null,
            "min_width": null,
            "object_fit": null,
            "object_position": null,
            "order": null,
            "overflow": null,
            "overflow_x": null,
            "overflow_y": null,
            "padding": null,
            "right": null,
            "top": null,
            "visibility": null,
            "width": null
          }
        },
        "1fde1296548947d3862e12f235fd5ff5": {
          "model_module": "@jupyter-widgets/controls",
          "model_name": "DescriptionStyleModel",
          "model_module_version": "1.5.0",
          "state": {
            "_model_module": "@jupyter-widgets/controls",
            "_model_module_version": "1.5.0",
            "_model_name": "DescriptionStyleModel",
            "_view_count": null,
            "_view_module": "@jupyter-widgets/base",
            "_view_module_version": "1.2.0",
            "_view_name": "StyleView",
            "description_width": ""
          }
        },
        "b7db22c635284b18bc6d9f5a9812c2ab": {
          "model_module": "@jupyter-widgets/controls",
          "model_name": "HBoxModel",
          "model_module_version": "1.5.0",
          "state": {
            "_dom_classes": [],
            "_model_module": "@jupyter-widgets/controls",
            "_model_module_version": "1.5.0",
            "_model_name": "HBoxModel",
            "_view_count": null,
            "_view_module": "@jupyter-widgets/controls",
            "_view_module_version": "1.5.0",
            "_view_name": "HBoxView",
            "box_style": "",
            "children": [
              "IPY_MODEL_5bf88c7fc5c544939919c964ff528b98",
              "IPY_MODEL_b648c2dbb5604c1a85511d2a1ad51900",
              "IPY_MODEL_2b5d2c49a4dd43eba415356316347599"
            ],
            "layout": "IPY_MODEL_899d2257420944a3a0a14dd8ecf8dc0f"
          }
        },
        "5bf88c7fc5c544939919c964ff528b98": {
          "model_module": "@jupyter-widgets/controls",
          "model_name": "HTMLModel",
          "model_module_version": "1.5.0",
          "state": {
            "_dom_classes": [],
            "_model_module": "@jupyter-widgets/controls",
            "_model_module_version": "1.5.0",
            "_model_name": "HTMLModel",
            "_view_count": null,
            "_view_module": "@jupyter-widgets/controls",
            "_view_module_version": "1.5.0",
            "_view_name": "HTMLView",
            "description": "",
            "description_tooltip": null,
            "layout": "IPY_MODEL_1c3c09c7a66a4f53b4236bec7a4f6a60",
            "placeholder": "​",
            "style": "IPY_MODEL_ac4fd0abb86843eeab8e705dd158398e",
            "value": "Downloading: 100%"
          }
        },
        "b648c2dbb5604c1a85511d2a1ad51900": {
          "model_module": "@jupyter-widgets/controls",
          "model_name": "FloatProgressModel",
          "model_module_version": "1.5.0",
          "state": {
            "_dom_classes": [],
            "_model_module": "@jupyter-widgets/controls",
            "_model_module_version": "1.5.0",
            "_model_name": "FloatProgressModel",
            "_view_count": null,
            "_view_module": "@jupyter-widgets/controls",
            "_view_module_version": "1.5.0",
            "_view_name": "ProgressView",
            "bar_style": "success",
            "description": "",
            "description_tooltip": null,
            "layout": "IPY_MODEL_0a18388ec9064ac28988f33981f24178",
            "max": 2244861551,
            "min": 0,
            "orientation": "horizontal",
            "style": "IPY_MODEL_8b23ee2f531a4cebb15a6218f7f54764",
            "value": 2244861551
          }
        },
        "2b5d2c49a4dd43eba415356316347599": {
          "model_module": "@jupyter-widgets/controls",
          "model_name": "HTMLModel",
          "model_module_version": "1.5.0",
          "state": {
            "_dom_classes": [],
            "_model_module": "@jupyter-widgets/controls",
            "_model_module_version": "1.5.0",
            "_model_name": "HTMLModel",
            "_view_count": null,
            "_view_module": "@jupyter-widgets/controls",
            "_view_module_version": "1.5.0",
            "_view_name": "HTMLView",
            "description": "",
            "description_tooltip": null,
            "layout": "IPY_MODEL_8f828bed2e0b47a7b24e081e387fa208",
            "placeholder": "​",
            "style": "IPY_MODEL_9f5412fd953c42fe8fc465d95b69446c",
            "value": " 2.09G/2.09G [00:51&lt;00:00, 48.7MB/s]"
          }
        },
        "899d2257420944a3a0a14dd8ecf8dc0f": {
          "model_module": "@jupyter-widgets/base",
          "model_name": "LayoutModel",
          "model_module_version": "1.2.0",
          "state": {
            "_model_module": "@jupyter-widgets/base",
            "_model_module_version": "1.2.0",
            "_model_name": "LayoutModel",
            "_view_count": null,
            "_view_module": "@jupyter-widgets/base",
            "_view_module_version": "1.2.0",
            "_view_name": "LayoutView",
            "align_content": null,
            "align_items": null,
            "align_self": null,
            "border": null,
            "bottom": null,
            "display": null,
            "flex": null,
            "flex_flow": null,
            "grid_area": null,
            "grid_auto_columns": null,
            "grid_auto_flow": null,
            "grid_auto_rows": null,
            "grid_column": null,
            "grid_gap": null,
            "grid_row": null,
            "grid_template_areas": null,
            "grid_template_columns": null,
            "grid_template_rows": null,
            "height": null,
            "justify_content": null,
            "justify_items": null,
            "left": null,
            "margin": null,
            "max_height": null,
            "max_width": null,
            "min_height": null,
            "min_width": null,
            "object_fit": null,
            "object_position": null,
            "order": null,
            "overflow": null,
            "overflow_x": null,
            "overflow_y": null,
            "padding": null,
            "right": null,
            "top": null,
            "visibility": null,
            "width": null
          }
        },
        "1c3c09c7a66a4f53b4236bec7a4f6a60": {
          "model_module": "@jupyter-widgets/base",
          "model_name": "LayoutModel",
          "model_module_version": "1.2.0",
          "state": {
            "_model_module": "@jupyter-widgets/base",
            "_model_module_version": "1.2.0",
            "_model_name": "LayoutModel",
            "_view_count": null,
            "_view_module": "@jupyter-widgets/base",
            "_view_module_version": "1.2.0",
            "_view_name": "LayoutView",
            "align_content": null,
            "align_items": null,
            "align_self": null,
            "border": null,
            "bottom": null,
            "display": null,
            "flex": null,
            "flex_flow": null,
            "grid_area": null,
            "grid_auto_columns": null,
            "grid_auto_flow": null,
            "grid_auto_rows": null,
            "grid_column": null,
            "grid_gap": null,
            "grid_row": null,
            "grid_template_areas": null,
            "grid_template_columns": null,
            "grid_template_rows": null,
            "height": null,
            "justify_content": null,
            "justify_items": null,
            "left": null,
            "margin": null,
            "max_height": null,
            "max_width": null,
            "min_height": null,
            "min_width": null,
            "object_fit": null,
            "object_position": null,
            "order": null,
            "overflow": null,
            "overflow_x": null,
            "overflow_y": null,
            "padding": null,
            "right": null,
            "top": null,
            "visibility": null,
            "width": null
          }
        },
        "ac4fd0abb86843eeab8e705dd158398e": {
          "model_module": "@jupyter-widgets/controls",
          "model_name": "DescriptionStyleModel",
          "model_module_version": "1.5.0",
          "state": {
            "_model_module": "@jupyter-widgets/controls",
            "_model_module_version": "1.5.0",
            "_model_name": "DescriptionStyleModel",
            "_view_count": null,
            "_view_module": "@jupyter-widgets/base",
            "_view_module_version": "1.2.0",
            "_view_name": "StyleView",
            "description_width": ""
          }
        },
        "0a18388ec9064ac28988f33981f24178": {
          "model_module": "@jupyter-widgets/base",
          "model_name": "LayoutModel",
          "model_module_version": "1.2.0",
          "state": {
            "_model_module": "@jupyter-widgets/base",
            "_model_module_version": "1.2.0",
            "_model_name": "LayoutModel",
            "_view_count": null,
            "_view_module": "@jupyter-widgets/base",
            "_view_module_version": "1.2.0",
            "_view_name": "LayoutView",
            "align_content": null,
            "align_items": null,
            "align_self": null,
            "border": null,
            "bottom": null,
            "display": null,
            "flex": null,
            "flex_flow": null,
            "grid_area": null,
            "grid_auto_columns": null,
            "grid_auto_flow": null,
            "grid_auto_rows": null,
            "grid_column": null,
            "grid_gap": null,
            "grid_row": null,
            "grid_template_areas": null,
            "grid_template_columns": null,
            "grid_template_rows": null,
            "height": null,
            "justify_content": null,
            "justify_items": null,
            "left": null,
            "margin": null,
            "max_height": null,
            "max_width": null,
            "min_height": null,
            "min_width": null,
            "object_fit": null,
            "object_position": null,
            "order": null,
            "overflow": null,
            "overflow_x": null,
            "overflow_y": null,
            "padding": null,
            "right": null,
            "top": null,
            "visibility": null,
            "width": null
          }
        },
        "8b23ee2f531a4cebb15a6218f7f54764": {
          "model_module": "@jupyter-widgets/controls",
          "model_name": "ProgressStyleModel",
          "model_module_version": "1.5.0",
          "state": {
            "_model_module": "@jupyter-widgets/controls",
            "_model_module_version": "1.5.0",
            "_model_name": "ProgressStyleModel",
            "_view_count": null,
            "_view_module": "@jupyter-widgets/base",
            "_view_module_version": "1.2.0",
            "_view_name": "StyleView",
            "bar_color": null,
            "description_width": ""
          }
        },
        "8f828bed2e0b47a7b24e081e387fa208": {
          "model_module": "@jupyter-widgets/base",
          "model_name": "LayoutModel",
          "model_module_version": "1.2.0",
          "state": {
            "_model_module": "@jupyter-widgets/base",
            "_model_module_version": "1.2.0",
            "_model_name": "LayoutModel",
            "_view_count": null,
            "_view_module": "@jupyter-widgets/base",
            "_view_module_version": "1.2.0",
            "_view_name": "LayoutView",
            "align_content": null,
            "align_items": null,
            "align_self": null,
            "border": null,
            "bottom": null,
            "display": null,
            "flex": null,
            "flex_flow": null,
            "grid_area": null,
            "grid_auto_columns": null,
            "grid_auto_flow": null,
            "grid_auto_rows": null,
            "grid_column": null,
            "grid_gap": null,
            "grid_row": null,
            "grid_template_areas": null,
            "grid_template_columns": null,
            "grid_template_rows": null,
            "height": null,
            "justify_content": null,
            "justify_items": null,
            "left": null,
            "margin": null,
            "max_height": null,
            "max_width": null,
            "min_height": null,
            "min_width": null,
            "object_fit": null,
            "object_position": null,
            "order": null,
            "overflow": null,
            "overflow_x": null,
            "overflow_y": null,
            "padding": null,
            "right": null,
            "top": null,
            "visibility": null,
            "width": null
          }
        },
        "9f5412fd953c42fe8fc465d95b69446c": {
          "model_module": "@jupyter-widgets/controls",
          "model_name": "DescriptionStyleModel",
          "model_module_version": "1.5.0",
          "state": {
            "_model_module": "@jupyter-widgets/controls",
            "_model_module_version": "1.5.0",
            "_model_name": "DescriptionStyleModel",
            "_view_count": null,
            "_view_module": "@jupyter-widgets/base",
            "_view_module_version": "1.2.0",
            "_view_name": "StyleView",
            "description_width": ""
          }
        },
        "418dd352140a499ca800867d5fc0319d": {
          "model_module": "@jupyter-widgets/controls",
          "model_name": "HBoxModel",
          "model_module_version": "1.5.0",
          "state": {
            "_dom_classes": [],
            "_model_module": "@jupyter-widgets/controls",
            "_model_module_version": "1.5.0",
            "_model_name": "HBoxModel",
            "_view_count": null,
            "_view_module": "@jupyter-widgets/controls",
            "_view_module_version": "1.5.0",
            "_view_name": "HBoxView",
            "box_style": "",
            "children": [
              "IPY_MODEL_197d8443f40146eba5e5ad8ce420647b",
              "IPY_MODEL_ead54369c3f242dd8417a04b7f9f6797",
              "IPY_MODEL_12aabc81e92d403b8c4dd8cfb8196e0d"
            ],
            "layout": "IPY_MODEL_c612bafc3d8648088ddf28e28ab8a9e6"
          }
        },
        "197d8443f40146eba5e5ad8ce420647b": {
          "model_module": "@jupyter-widgets/controls",
          "model_name": "HTMLModel",
          "model_module_version": "1.5.0",
          "state": {
            "_dom_classes": [],
            "_model_module": "@jupyter-widgets/controls",
            "_model_module_version": "1.5.0",
            "_model_name": "HTMLModel",
            "_view_count": null,
            "_view_module": "@jupyter-widgets/controls",
            "_view_module_version": "1.5.0",
            "_view_name": "HTMLView",
            "description": "",
            "description_tooltip": null,
            "layout": "IPY_MODEL_ce26d4ce5f064369b17571b477f63c42",
            "placeholder": "​",
            "style": "IPY_MODEL_89d8ee8647584d5aad1882adc2e12d6a",
            "value": "Downloading builder script: "
          }
        },
        "ead54369c3f242dd8417a04b7f9f6797": {
          "model_module": "@jupyter-widgets/controls",
          "model_name": "FloatProgressModel",
          "model_module_version": "1.5.0",
          "state": {
            "_dom_classes": [],
            "_model_module": "@jupyter-widgets/controls",
            "_model_module_version": "1.5.0",
            "_model_name": "FloatProgressModel",
            "_view_count": null,
            "_view_module": "@jupyter-widgets/controls",
            "_view_module_version": "1.5.0",
            "_view_name": "ProgressView",
            "bar_style": "success",
            "description": "",
            "description_tooltip": null,
            "layout": "IPY_MODEL_ed20c097219a4c0a8543e2abdae28996",
            "max": 2199,
            "min": 0,
            "orientation": "horizontal",
            "style": "IPY_MODEL_99bca40c5c45443aac3af75accea4713",
            "value": 2199
          }
        },
        "12aabc81e92d403b8c4dd8cfb8196e0d": {
          "model_module": "@jupyter-widgets/controls",
          "model_name": "HTMLModel",
          "model_module_version": "1.5.0",
          "state": {
            "_dom_classes": [],
            "_model_module": "@jupyter-widgets/controls",
            "_model_module_version": "1.5.0",
            "_model_name": "HTMLModel",
            "_view_count": null,
            "_view_module": "@jupyter-widgets/controls",
            "_view_module_version": "1.5.0",
            "_view_name": "HTMLView",
            "description": "",
            "description_tooltip": null,
            "layout": "IPY_MODEL_ef458c746717465f8609d3f19151fe1b",
            "placeholder": "​",
            "style": "IPY_MODEL_ed39f6a155f14b9da6d5bf9927745504",
            "value": " 5.34k/? [00:00&lt;00:00, 68.8kB/s]"
          }
        },
        "c612bafc3d8648088ddf28e28ab8a9e6": {
          "model_module": "@jupyter-widgets/base",
          "model_name": "LayoutModel",
          "model_module_version": "1.2.0",
          "state": {
            "_model_module": "@jupyter-widgets/base",
            "_model_module_version": "1.2.0",
            "_model_name": "LayoutModel",
            "_view_count": null,
            "_view_module": "@jupyter-widgets/base",
            "_view_module_version": "1.2.0",
            "_view_name": "LayoutView",
            "align_content": null,
            "align_items": null,
            "align_self": null,
            "border": null,
            "bottom": null,
            "display": null,
            "flex": null,
            "flex_flow": null,
            "grid_area": null,
            "grid_auto_columns": null,
            "grid_auto_flow": null,
            "grid_auto_rows": null,
            "grid_column": null,
            "grid_gap": null,
            "grid_row": null,
            "grid_template_areas": null,
            "grid_template_columns": null,
            "grid_template_rows": null,
            "height": null,
            "justify_content": null,
            "justify_items": null,
            "left": null,
            "margin": null,
            "max_height": null,
            "max_width": null,
            "min_height": null,
            "min_width": null,
            "object_fit": null,
            "object_position": null,
            "order": null,
            "overflow": null,
            "overflow_x": null,
            "overflow_y": null,
            "padding": null,
            "right": null,
            "top": null,
            "visibility": null,
            "width": null
          }
        },
        "ce26d4ce5f064369b17571b477f63c42": {
          "model_module": "@jupyter-widgets/base",
          "model_name": "LayoutModel",
          "model_module_version": "1.2.0",
          "state": {
            "_model_module": "@jupyter-widgets/base",
            "_model_module_version": "1.2.0",
            "_model_name": "LayoutModel",
            "_view_count": null,
            "_view_module": "@jupyter-widgets/base",
            "_view_module_version": "1.2.0",
            "_view_name": "LayoutView",
            "align_content": null,
            "align_items": null,
            "align_self": null,
            "border": null,
            "bottom": null,
            "display": null,
            "flex": null,
            "flex_flow": null,
            "grid_area": null,
            "grid_auto_columns": null,
            "grid_auto_flow": null,
            "grid_auto_rows": null,
            "grid_column": null,
            "grid_gap": null,
            "grid_row": null,
            "grid_template_areas": null,
            "grid_template_columns": null,
            "grid_template_rows": null,
            "height": null,
            "justify_content": null,
            "justify_items": null,
            "left": null,
            "margin": null,
            "max_height": null,
            "max_width": null,
            "min_height": null,
            "min_width": null,
            "object_fit": null,
            "object_position": null,
            "order": null,
            "overflow": null,
            "overflow_x": null,
            "overflow_y": null,
            "padding": null,
            "right": null,
            "top": null,
            "visibility": null,
            "width": null
          }
        },
        "89d8ee8647584d5aad1882adc2e12d6a": {
          "model_module": "@jupyter-widgets/controls",
          "model_name": "DescriptionStyleModel",
          "model_module_version": "1.5.0",
          "state": {
            "_model_module": "@jupyter-widgets/controls",
            "_model_module_version": "1.5.0",
            "_model_name": "DescriptionStyleModel",
            "_view_count": null,
            "_view_module": "@jupyter-widgets/base",
            "_view_module_version": "1.2.0",
            "_view_name": "StyleView",
            "description_width": ""
          }
        },
        "ed20c097219a4c0a8543e2abdae28996": {
          "model_module": "@jupyter-widgets/base",
          "model_name": "LayoutModel",
          "model_module_version": "1.2.0",
          "state": {
            "_model_module": "@jupyter-widgets/base",
            "_model_module_version": "1.2.0",
            "_model_name": "LayoutModel",
            "_view_count": null,
            "_view_module": "@jupyter-widgets/base",
            "_view_module_version": "1.2.0",
            "_view_name": "LayoutView",
            "align_content": null,
            "align_items": null,
            "align_self": null,
            "border": null,
            "bottom": null,
            "display": null,
            "flex": null,
            "flex_flow": null,
            "grid_area": null,
            "grid_auto_columns": null,
            "grid_auto_flow": null,
            "grid_auto_rows": null,
            "grid_column": null,
            "grid_gap": null,
            "grid_row": null,
            "grid_template_areas": null,
            "grid_template_columns": null,
            "grid_template_rows": null,
            "height": null,
            "justify_content": null,
            "justify_items": null,
            "left": null,
            "margin": null,
            "max_height": null,
            "max_width": null,
            "min_height": null,
            "min_width": null,
            "object_fit": null,
            "object_position": null,
            "order": null,
            "overflow": null,
            "overflow_x": null,
            "overflow_y": null,
            "padding": null,
            "right": null,
            "top": null,
            "visibility": null,
            "width": null
          }
        },
        "99bca40c5c45443aac3af75accea4713": {
          "model_module": "@jupyter-widgets/controls",
          "model_name": "ProgressStyleModel",
          "model_module_version": "1.5.0",
          "state": {
            "_model_module": "@jupyter-widgets/controls",
            "_model_module_version": "1.5.0",
            "_model_name": "ProgressStyleModel",
            "_view_count": null,
            "_view_module": "@jupyter-widgets/base",
            "_view_module_version": "1.2.0",
            "_view_name": "StyleView",
            "bar_color": null,
            "description_width": ""
          }
        },
        "ef458c746717465f8609d3f19151fe1b": {
          "model_module": "@jupyter-widgets/base",
          "model_name": "LayoutModel",
          "model_module_version": "1.2.0",
          "state": {
            "_model_module": "@jupyter-widgets/base",
            "_model_module_version": "1.2.0",
            "_model_name": "LayoutModel",
            "_view_count": null,
            "_view_module": "@jupyter-widgets/base",
            "_view_module_version": "1.2.0",
            "_view_name": "LayoutView",
            "align_content": null,
            "align_items": null,
            "align_self": null,
            "border": null,
            "bottom": null,
            "display": null,
            "flex": null,
            "flex_flow": null,
            "grid_area": null,
            "grid_auto_columns": null,
            "grid_auto_flow": null,
            "grid_auto_rows": null,
            "grid_column": null,
            "grid_gap": null,
            "grid_row": null,
            "grid_template_areas": null,
            "grid_template_columns": null,
            "grid_template_rows": null,
            "height": null,
            "justify_content": null,
            "justify_items": null,
            "left": null,
            "margin": null,
            "max_height": null,
            "max_width": null,
            "min_height": null,
            "min_width": null,
            "object_fit": null,
            "object_position": null,
            "order": null,
            "overflow": null,
            "overflow_x": null,
            "overflow_y": null,
            "padding": null,
            "right": null,
            "top": null,
            "visibility": null,
            "width": null
          }
        },
        "ed39f6a155f14b9da6d5bf9927745504": {
          "model_module": "@jupyter-widgets/controls",
          "model_name": "DescriptionStyleModel",
          "model_module_version": "1.5.0",
          "state": {
            "_model_module": "@jupyter-widgets/controls",
            "_model_module_version": "1.5.0",
            "_model_name": "DescriptionStyleModel",
            "_view_count": null,
            "_view_module": "@jupyter-widgets/base",
            "_view_module_version": "1.2.0",
            "_view_name": "StyleView",
            "description_width": ""
          }
        },
        "d287c5d0cbeb443096e72561dff8bf84": {
          "model_module": "@jupyter-widgets/controls",
          "model_name": "HBoxModel",
          "model_module_version": "1.5.0",
          "state": {
            "_dom_classes": [],
            "_model_module": "@jupyter-widgets/controls",
            "_model_module_version": "1.5.0",
            "_model_name": "HBoxModel",
            "_view_count": null,
            "_view_module": "@jupyter-widgets/controls",
            "_view_module_version": "1.5.0",
            "_view_name": "HBoxView",
            "box_style": "",
            "children": [
              "IPY_MODEL_7938ace693ae431785d85188f92209ff",
              "IPY_MODEL_f02b2cb5b7f04cefa20053516cf30906",
              "IPY_MODEL_16b5a6b75ccd4bfdbfa9feffd4ebb6cd"
            ],
            "layout": "IPY_MODEL_f7ba314e4d0f47a9a5314c8c358c55b4"
          }
        },
        "7938ace693ae431785d85188f92209ff": {
          "model_module": "@jupyter-widgets/controls",
          "model_name": "HTMLModel",
          "model_module_version": "1.5.0",
          "state": {
            "_dom_classes": [],
            "_model_module": "@jupyter-widgets/controls",
            "_model_module_version": "1.5.0",
            "_model_name": "HTMLModel",
            "_view_count": null,
            "_view_module": "@jupyter-widgets/controls",
            "_view_module_version": "1.5.0",
            "_view_name": "HTMLView",
            "description": "",
            "description_tooltip": null,
            "layout": "IPY_MODEL_8c0360c996764d3aa7c930ef3a5f56b4",
            "placeholder": "​",
            "style": "IPY_MODEL_5b964e2b69914a32ab9ff44947ba728c",
            "value": "Downloading builder script: "
          }
        },
        "f02b2cb5b7f04cefa20053516cf30906": {
          "model_module": "@jupyter-widgets/controls",
          "model_name": "FloatProgressModel",
          "model_module_version": "1.5.0",
          "state": {
            "_dom_classes": [],
            "_model_module": "@jupyter-widgets/controls",
            "_model_module_version": "1.5.0",
            "_model_name": "FloatProgressModel",
            "_view_count": null,
            "_view_module": "@jupyter-widgets/controls",
            "_view_module_version": "1.5.0",
            "_view_name": "ProgressView",
            "bar_style": "success",
            "description": "",
            "description_tooltip": null,
            "layout": "IPY_MODEL_f4b47cdf70be4b0bb5da77b251e68bf7",
            "max": 2478,
            "min": 0,
            "orientation": "horizontal",
            "style": "IPY_MODEL_39888e665f204c3aac79a140c39970cd",
            "value": 2478
          }
        },
        "16b5a6b75ccd4bfdbfa9feffd4ebb6cd": {
          "model_module": "@jupyter-widgets/controls",
          "model_name": "HTMLModel",
          "model_module_version": "1.5.0",
          "state": {
            "_dom_classes": [],
            "_model_module": "@jupyter-widgets/controls",
            "_model_module_version": "1.5.0",
            "_model_name": "HTMLModel",
            "_view_count": null,
            "_view_module": "@jupyter-widgets/controls",
            "_view_module_version": "1.5.0",
            "_view_name": "HTMLView",
            "description": "",
            "description_tooltip": null,
            "layout": "IPY_MODEL_5f266b69a352423ca5abf4059b638244",
            "placeholder": "​",
            "style": "IPY_MODEL_241283e0e6994ab58070b55375a1448d",
            "value": " 6.06k/? [00:00&lt;00:00, 101kB/s]"
          }
        },
        "f7ba314e4d0f47a9a5314c8c358c55b4": {
          "model_module": "@jupyter-widgets/base",
          "model_name": "LayoutModel",
          "model_module_version": "1.2.0",
          "state": {
            "_model_module": "@jupyter-widgets/base",
            "_model_module_version": "1.2.0",
            "_model_name": "LayoutModel",
            "_view_count": null,
            "_view_module": "@jupyter-widgets/base",
            "_view_module_version": "1.2.0",
            "_view_name": "LayoutView",
            "align_content": null,
            "align_items": null,
            "align_self": null,
            "border": null,
            "bottom": null,
            "display": null,
            "flex": null,
            "flex_flow": null,
            "grid_area": null,
            "grid_auto_columns": null,
            "grid_auto_flow": null,
            "grid_auto_rows": null,
            "grid_column": null,
            "grid_gap": null,
            "grid_row": null,
            "grid_template_areas": null,
            "grid_template_columns": null,
            "grid_template_rows": null,
            "height": null,
            "justify_content": null,
            "justify_items": null,
            "left": null,
            "margin": null,
            "max_height": null,
            "max_width": null,
            "min_height": null,
            "min_width": null,
            "object_fit": null,
            "object_position": null,
            "order": null,
            "overflow": null,
            "overflow_x": null,
            "overflow_y": null,
            "padding": null,
            "right": null,
            "top": null,
            "visibility": null,
            "width": null
          }
        },
        "8c0360c996764d3aa7c930ef3a5f56b4": {
          "model_module": "@jupyter-widgets/base",
          "model_name": "LayoutModel",
          "model_module_version": "1.2.0",
          "state": {
            "_model_module": "@jupyter-widgets/base",
            "_model_module_version": "1.2.0",
            "_model_name": "LayoutModel",
            "_view_count": null,
            "_view_module": "@jupyter-widgets/base",
            "_view_module_version": "1.2.0",
            "_view_name": "LayoutView",
            "align_content": null,
            "align_items": null,
            "align_self": null,
            "border": null,
            "bottom": null,
            "display": null,
            "flex": null,
            "flex_flow": null,
            "grid_area": null,
            "grid_auto_columns": null,
            "grid_auto_flow": null,
            "grid_auto_rows": null,
            "grid_column": null,
            "grid_gap": null,
            "grid_row": null,
            "grid_template_areas": null,
            "grid_template_columns": null,
            "grid_template_rows": null,
            "height": null,
            "justify_content": null,
            "justify_items": null,
            "left": null,
            "margin": null,
            "max_height": null,
            "max_width": null,
            "min_height": null,
            "min_width": null,
            "object_fit": null,
            "object_position": null,
            "order": null,
            "overflow": null,
            "overflow_x": null,
            "overflow_y": null,
            "padding": null,
            "right": null,
            "top": null,
            "visibility": null,
            "width": null
          }
        },
        "5b964e2b69914a32ab9ff44947ba728c": {
          "model_module": "@jupyter-widgets/controls",
          "model_name": "DescriptionStyleModel",
          "model_module_version": "1.5.0",
          "state": {
            "_model_module": "@jupyter-widgets/controls",
            "_model_module_version": "1.5.0",
            "_model_name": "DescriptionStyleModel",
            "_view_count": null,
            "_view_module": "@jupyter-widgets/base",
            "_view_module_version": "1.2.0",
            "_view_name": "StyleView",
            "description_width": ""
          }
        },
        "f4b47cdf70be4b0bb5da77b251e68bf7": {
          "model_module": "@jupyter-widgets/base",
          "model_name": "LayoutModel",
          "model_module_version": "1.2.0",
          "state": {
            "_model_module": "@jupyter-widgets/base",
            "_model_module_version": "1.2.0",
            "_model_name": "LayoutModel",
            "_view_count": null,
            "_view_module": "@jupyter-widgets/base",
            "_view_module_version": "1.2.0",
            "_view_name": "LayoutView",
            "align_content": null,
            "align_items": null,
            "align_self": null,
            "border": null,
            "bottom": null,
            "display": null,
            "flex": null,
            "flex_flow": null,
            "grid_area": null,
            "grid_auto_columns": null,
            "grid_auto_flow": null,
            "grid_auto_rows": null,
            "grid_column": null,
            "grid_gap": null,
            "grid_row": null,
            "grid_template_areas": null,
            "grid_template_columns": null,
            "grid_template_rows": null,
            "height": null,
            "justify_content": null,
            "justify_items": null,
            "left": null,
            "margin": null,
            "max_height": null,
            "max_width": null,
            "min_height": null,
            "min_width": null,
            "object_fit": null,
            "object_position": null,
            "order": null,
            "overflow": null,
            "overflow_x": null,
            "overflow_y": null,
            "padding": null,
            "right": null,
            "top": null,
            "visibility": null,
            "width": null
          }
        },
        "39888e665f204c3aac79a140c39970cd": {
          "model_module": "@jupyter-widgets/controls",
          "model_name": "ProgressStyleModel",
          "model_module_version": "1.5.0",
          "state": {
            "_model_module": "@jupyter-widgets/controls",
            "_model_module_version": "1.5.0",
            "_model_name": "ProgressStyleModel",
            "_view_count": null,
            "_view_module": "@jupyter-widgets/base",
            "_view_module_version": "1.2.0",
            "_view_name": "StyleView",
            "bar_color": null,
            "description_width": ""
          }
        },
        "5f266b69a352423ca5abf4059b638244": {
          "model_module": "@jupyter-widgets/base",
          "model_name": "LayoutModel",
          "model_module_version": "1.2.0",
          "state": {
            "_model_module": "@jupyter-widgets/base",
            "_model_module_version": "1.2.0",
            "_model_name": "LayoutModel",
            "_view_count": null,
            "_view_module": "@jupyter-widgets/base",
            "_view_module_version": "1.2.0",
            "_view_name": "LayoutView",
            "align_content": null,
            "align_items": null,
            "align_self": null,
            "border": null,
            "bottom": null,
            "display": null,
            "flex": null,
            "flex_flow": null,
            "grid_area": null,
            "grid_auto_columns": null,
            "grid_auto_flow": null,
            "grid_auto_rows": null,
            "grid_column": null,
            "grid_gap": null,
            "grid_row": null,
            "grid_template_areas": null,
            "grid_template_columns": null,
            "grid_template_rows": null,
            "height": null,
            "justify_content": null,
            "justify_items": null,
            "left": null,
            "margin": null,
            "max_height": null,
            "max_width": null,
            "min_height": null,
            "min_width": null,
            "object_fit": null,
            "object_position": null,
            "order": null,
            "overflow": null,
            "overflow_x": null,
            "overflow_y": null,
            "padding": null,
            "right": null,
            "top": null,
            "visibility": null,
            "width": null
          }
        },
        "241283e0e6994ab58070b55375a1448d": {
          "model_module": "@jupyter-widgets/controls",
          "model_name": "DescriptionStyleModel",
          "model_module_version": "1.5.0",
          "state": {
            "_model_module": "@jupyter-widgets/controls",
            "_model_module_version": "1.5.0",
            "_model_name": "DescriptionStyleModel",
            "_view_count": null,
            "_view_module": "@jupyter-widgets/base",
            "_view_module_version": "1.2.0",
            "_view_name": "StyleView",
            "description_width": ""
          }
        },
        "9350826a47a9404baab9ca528bc6e2b4": {
          "model_module": "@jupyter-widgets/controls",
          "model_name": "HBoxModel",
          "model_module_version": "1.5.0",
          "state": {
            "_dom_classes": [],
            "_model_module": "@jupyter-widgets/controls",
            "_model_module_version": "1.5.0",
            "_model_name": "HBoxModel",
            "_view_count": null,
            "_view_module": "@jupyter-widgets/controls",
            "_view_module_version": "1.5.0",
            "_view_name": "HBoxView",
            "box_style": "",
            "children": [
              "IPY_MODEL_735142f9ad5543708fe12e8c0efcbe27",
              "IPY_MODEL_5e6447ac3f034ac1ac137219f277e09e",
              "IPY_MODEL_894e75fe753b4dcc84c73203d10d9119"
            ],
            "layout": "IPY_MODEL_7cb426e9ad6242e4ad92e1e1a04b06bf"
          }
        },
        "735142f9ad5543708fe12e8c0efcbe27": {
          "model_module": "@jupyter-widgets/controls",
          "model_name": "HTMLModel",
          "model_module_version": "1.5.0",
          "state": {
            "_dom_classes": [],
            "_model_module": "@jupyter-widgets/controls",
            "_model_module_version": "1.5.0",
            "_model_name": "HTMLModel",
            "_view_count": null,
            "_view_module": "@jupyter-widgets/controls",
            "_view_module_version": "1.5.0",
            "_view_name": "HTMLView",
            "description": "",
            "description_tooltip": null,
            "layout": "IPY_MODEL_83936826816e461188b94aa1fc57f4f1",
            "placeholder": "​",
            "style": "IPY_MODEL_9b3f4efda6ae4f89b3b78ce321af3362",
            "value": "Downloading extra modules: "
          }
        },
        "5e6447ac3f034ac1ac137219f277e09e": {
          "model_module": "@jupyter-widgets/controls",
          "model_name": "FloatProgressModel",
          "model_module_version": "1.5.0",
          "state": {
            "_dom_classes": [],
            "_model_module": "@jupyter-widgets/controls",
            "_model_module_version": "1.5.0",
            "_model_name": "FloatProgressModel",
            "_view_count": null,
            "_view_module": "@jupyter-widgets/controls",
            "_view_module_version": "1.5.0",
            "_view_name": "ProgressView",
            "bar_style": "success",
            "description": "",
            "description_tooltip": null,
            "layout": "IPY_MODEL_8aafe13263db43a1879d5750c80b530e",
            "max": 1554,
            "min": 0,
            "orientation": "horizontal",
            "style": "IPY_MODEL_34f654b3bee044e1bcaa175c443eb4e2",
            "value": 1554
          }
        },
        "894e75fe753b4dcc84c73203d10d9119": {
          "model_module": "@jupyter-widgets/controls",
          "model_name": "HTMLModel",
          "model_module_version": "1.5.0",
          "state": {
            "_dom_classes": [],
            "_model_module": "@jupyter-widgets/controls",
            "_model_module_version": "1.5.0",
            "_model_name": "HTMLModel",
            "_view_count": null,
            "_view_module": "@jupyter-widgets/controls",
            "_view_module_version": "1.5.0",
            "_view_name": "HTMLView",
            "description": "",
            "description_tooltip": null,
            "layout": "IPY_MODEL_d1ad583a2a2c4886a2c618e895a03604",
            "placeholder": "​",
            "style": "IPY_MODEL_154bdcbe96e84c37aa5892b3a273564b",
            "value": " 4.07k/? [00:00&lt;00:00, 45.4kB/s]"
          }
        },
        "7cb426e9ad6242e4ad92e1e1a04b06bf": {
          "model_module": "@jupyter-widgets/base",
          "model_name": "LayoutModel",
          "model_module_version": "1.2.0",
          "state": {
            "_model_module": "@jupyter-widgets/base",
            "_model_module_version": "1.2.0",
            "_model_name": "LayoutModel",
            "_view_count": null,
            "_view_module": "@jupyter-widgets/base",
            "_view_module_version": "1.2.0",
            "_view_name": "LayoutView",
            "align_content": null,
            "align_items": null,
            "align_self": null,
            "border": null,
            "bottom": null,
            "display": null,
            "flex": null,
            "flex_flow": null,
            "grid_area": null,
            "grid_auto_columns": null,
            "grid_auto_flow": null,
            "grid_auto_rows": null,
            "grid_column": null,
            "grid_gap": null,
            "grid_row": null,
            "grid_template_areas": null,
            "grid_template_columns": null,
            "grid_template_rows": null,
            "height": null,
            "justify_content": null,
            "justify_items": null,
            "left": null,
            "margin": null,
            "max_height": null,
            "max_width": null,
            "min_height": null,
            "min_width": null,
            "object_fit": null,
            "object_position": null,
            "order": null,
            "overflow": null,
            "overflow_x": null,
            "overflow_y": null,
            "padding": null,
            "right": null,
            "top": null,
            "visibility": null,
            "width": null
          }
        },
        "83936826816e461188b94aa1fc57f4f1": {
          "model_module": "@jupyter-widgets/base",
          "model_name": "LayoutModel",
          "model_module_version": "1.2.0",
          "state": {
            "_model_module": "@jupyter-widgets/base",
            "_model_module_version": "1.2.0",
            "_model_name": "LayoutModel",
            "_view_count": null,
            "_view_module": "@jupyter-widgets/base",
            "_view_module_version": "1.2.0",
            "_view_name": "LayoutView",
            "align_content": null,
            "align_items": null,
            "align_self": null,
            "border": null,
            "bottom": null,
            "display": null,
            "flex": null,
            "flex_flow": null,
            "grid_area": null,
            "grid_auto_columns": null,
            "grid_auto_flow": null,
            "grid_auto_rows": null,
            "grid_column": null,
            "grid_gap": null,
            "grid_row": null,
            "grid_template_areas": null,
            "grid_template_columns": null,
            "grid_template_rows": null,
            "height": null,
            "justify_content": null,
            "justify_items": null,
            "left": null,
            "margin": null,
            "max_height": null,
            "max_width": null,
            "min_height": null,
            "min_width": null,
            "object_fit": null,
            "object_position": null,
            "order": null,
            "overflow": null,
            "overflow_x": null,
            "overflow_y": null,
            "padding": null,
            "right": null,
            "top": null,
            "visibility": null,
            "width": null
          }
        },
        "9b3f4efda6ae4f89b3b78ce321af3362": {
          "model_module": "@jupyter-widgets/controls",
          "model_name": "DescriptionStyleModel",
          "model_module_version": "1.5.0",
          "state": {
            "_model_module": "@jupyter-widgets/controls",
            "_model_module_version": "1.5.0",
            "_model_name": "DescriptionStyleModel",
            "_view_count": null,
            "_view_module": "@jupyter-widgets/base",
            "_view_module_version": "1.2.0",
            "_view_name": "StyleView",
            "description_width": ""
          }
        },
        "8aafe13263db43a1879d5750c80b530e": {
          "model_module": "@jupyter-widgets/base",
          "model_name": "LayoutModel",
          "model_module_version": "1.2.0",
          "state": {
            "_model_module": "@jupyter-widgets/base",
            "_model_module_version": "1.2.0",
            "_model_name": "LayoutModel",
            "_view_count": null,
            "_view_module": "@jupyter-widgets/base",
            "_view_module_version": "1.2.0",
            "_view_name": "LayoutView",
            "align_content": null,
            "align_items": null,
            "align_self": null,
            "border": null,
            "bottom": null,
            "display": null,
            "flex": null,
            "flex_flow": null,
            "grid_area": null,
            "grid_auto_columns": null,
            "grid_auto_flow": null,
            "grid_auto_rows": null,
            "grid_column": null,
            "grid_gap": null,
            "grid_row": null,
            "grid_template_areas": null,
            "grid_template_columns": null,
            "grid_template_rows": null,
            "height": null,
            "justify_content": null,
            "justify_items": null,
            "left": null,
            "margin": null,
            "max_height": null,
            "max_width": null,
            "min_height": null,
            "min_width": null,
            "object_fit": null,
            "object_position": null,
            "order": null,
            "overflow": null,
            "overflow_x": null,
            "overflow_y": null,
            "padding": null,
            "right": null,
            "top": null,
            "visibility": null,
            "width": null
          }
        },
        "34f654b3bee044e1bcaa175c443eb4e2": {
          "model_module": "@jupyter-widgets/controls",
          "model_name": "ProgressStyleModel",
          "model_module_version": "1.5.0",
          "state": {
            "_model_module": "@jupyter-widgets/controls",
            "_model_module_version": "1.5.0",
            "_model_name": "ProgressStyleModel",
            "_view_count": null,
            "_view_module": "@jupyter-widgets/base",
            "_view_module_version": "1.2.0",
            "_view_name": "StyleView",
            "bar_color": null,
            "description_width": ""
          }
        },
        "d1ad583a2a2c4886a2c618e895a03604": {
          "model_module": "@jupyter-widgets/base",
          "model_name": "LayoutModel",
          "model_module_version": "1.2.0",
          "state": {
            "_model_module": "@jupyter-widgets/base",
            "_model_module_version": "1.2.0",
            "_model_name": "LayoutModel",
            "_view_count": null,
            "_view_module": "@jupyter-widgets/base",
            "_view_module_version": "1.2.0",
            "_view_name": "LayoutView",
            "align_content": null,
            "align_items": null,
            "align_self": null,
            "border": null,
            "bottom": null,
            "display": null,
            "flex": null,
            "flex_flow": null,
            "grid_area": null,
            "grid_auto_columns": null,
            "grid_auto_flow": null,
            "grid_auto_rows": null,
            "grid_column": null,
            "grid_gap": null,
            "grid_row": null,
            "grid_template_areas": null,
            "grid_template_columns": null,
            "grid_template_rows": null,
            "height": null,
            "justify_content": null,
            "justify_items": null,
            "left": null,
            "margin": null,
            "max_height": null,
            "max_width": null,
            "min_height": null,
            "min_width": null,
            "object_fit": null,
            "object_position": null,
            "order": null,
            "overflow": null,
            "overflow_x": null,
            "overflow_y": null,
            "padding": null,
            "right": null,
            "top": null,
            "visibility": null,
            "width": null
          }
        },
        "154bdcbe96e84c37aa5892b3a273564b": {
          "model_module": "@jupyter-widgets/controls",
          "model_name": "DescriptionStyleModel",
          "model_module_version": "1.5.0",
          "state": {
            "_model_module": "@jupyter-widgets/controls",
            "_model_module_version": "1.5.0",
            "_model_name": "DescriptionStyleModel",
            "_view_count": null,
            "_view_module": "@jupyter-widgets/base",
            "_view_module_version": "1.2.0",
            "_view_name": "StyleView",
            "description_width": ""
          }
        }
      }
    },
    "gpuClass": "standard"
  },
  "cells": [
    {
      "cell_type": "markdown",
      "source": [
        "Notebook for evaluating models.\n",
        "\n",
        "Requires you to have in your drive:\n",
        "- the predictions generated by your model\n",
        "- the target sentences they should resemble\n",
        "- for some metrics the source sentences are required\n",
        "\n",
        "----\n",
        "\n",
        "WHAT YOU NEED TO (MAYBE) CHANGE\n",
        "\n",
        "In section 0.\n",
        "- you can add more metrics. Go to https://huggingface.co/docs/datasets/metrics to see what metrics huggingface has.\n",
        "\n",
        "In section 1.\n",
        " - Modify the file_path to match where your model is stored\n",
        " - You may need to modify the dataframe column names\n",
        "\n",
        "In section 2. \n",
        " - You might need to change the parameters, such as 'prefix' for cleaning the predictions and source data"
      ],
      "metadata": {
        "id": "Dhcxy-jNwf-D"
      }
    },
    {
      "cell_type": "markdown",
      "source": [
        "# 0 - Load imports"
      ],
      "metadata": {
        "id": "iOOCSN-ru34f"
      }
    },
    {
      "cell_type": "code",
      "source": [
        "!pip install --upgrade pip -q  # ensures that pip is current "
      ],
      "metadata": {
        "id": "d_QNpY1DCx9S",
        "colab": {
          "base_uri": "https://localhost:8080/"
        },
        "outputId": "3bd3177e-5066-4d10-bcb2-29665827edc2"
      },
      "execution_count": null,
      "outputs": [
        {
          "output_type": "stream",
          "name": "stdout",
          "text": [
            "\u001b[?25l\r\u001b[K     |▏                               | 10 kB 13.9 MB/s eta 0:00:01\r\u001b[K     |▎                               | 20 kB 9.8 MB/s eta 0:00:01\r\u001b[K     |▌                               | 30 kB 8.2 MB/s eta 0:00:01\r\u001b[K     |▋                               | 40 kB 7.5 MB/s eta 0:00:01\r\u001b[K     |▊                               | 51 kB 4.6 MB/s eta 0:00:01\r\u001b[K     |█                               | 61 kB 5.4 MB/s eta 0:00:01\r\u001b[K     |█                               | 71 kB 5.3 MB/s eta 0:00:01\r\u001b[K     |█▎                              | 81 kB 5.2 MB/s eta 0:00:01\r\u001b[K     |█▍                              | 92 kB 5.8 MB/s eta 0:00:01\r\u001b[K     |█▌                              | 102 kB 5.2 MB/s eta 0:00:01\r\u001b[K     |█▊                              | 112 kB 5.2 MB/s eta 0:00:01\r\u001b[K     |█▉                              | 122 kB 5.2 MB/s eta 0:00:01\r\u001b[K     |██                              | 133 kB 5.2 MB/s eta 0:00:01\r\u001b[K     |██▏                             | 143 kB 5.2 MB/s eta 0:00:01\r\u001b[K     |██▎                             | 153 kB 5.2 MB/s eta 0:00:01\r\u001b[K     |██▌                             | 163 kB 5.2 MB/s eta 0:00:01\r\u001b[K     |██▋                             | 174 kB 5.2 MB/s eta 0:00:01\r\u001b[K     |██▊                             | 184 kB 5.2 MB/s eta 0:00:01\r\u001b[K     |███                             | 194 kB 5.2 MB/s eta 0:00:01\r\u001b[K     |███                             | 204 kB 5.2 MB/s eta 0:00:01\r\u001b[K     |███▏                            | 215 kB 5.2 MB/s eta 0:00:01\r\u001b[K     |███▍                            | 225 kB 5.2 MB/s eta 0:00:01\r\u001b[K     |███▌                            | 235 kB 5.2 MB/s eta 0:00:01\r\u001b[K     |███▊                            | 245 kB 5.2 MB/s eta 0:00:01\r\u001b[K     |███▉                            | 256 kB 5.2 MB/s eta 0:00:01\r\u001b[K     |████                            | 266 kB 5.2 MB/s eta 0:00:01\r\u001b[K     |████▏                           | 276 kB 5.2 MB/s eta 0:00:01\r\u001b[K     |████▎                           | 286 kB 5.2 MB/s eta 0:00:01\r\u001b[K     |████▍                           | 296 kB 5.2 MB/s eta 0:00:01\r\u001b[K     |████▋                           | 307 kB 5.2 MB/s eta 0:00:01\r\u001b[K     |████▊                           | 317 kB 5.2 MB/s eta 0:00:01\r\u001b[K     |█████                           | 327 kB 5.2 MB/s eta 0:00:01\r\u001b[K     |█████                           | 337 kB 5.2 MB/s eta 0:00:01\r\u001b[K     |█████▏                          | 348 kB 5.2 MB/s eta 0:00:01\r\u001b[K     |█████▍                          | 358 kB 5.2 MB/s eta 0:00:01\r\u001b[K     |█████▌                          | 368 kB 5.2 MB/s eta 0:00:01\r\u001b[K     |█████▋                          | 378 kB 5.2 MB/s eta 0:00:01\r\u001b[K     |█████▉                          | 389 kB 5.2 MB/s eta 0:00:01\r\u001b[K     |██████                          | 399 kB 5.2 MB/s eta 0:00:01\r\u001b[K     |██████▏                         | 409 kB 5.2 MB/s eta 0:00:01\r\u001b[K     |██████▎                         | 419 kB 5.2 MB/s eta 0:00:01\r\u001b[K     |██████▍                         | 430 kB 5.2 MB/s eta 0:00:01\r\u001b[K     |██████▋                         | 440 kB 5.2 MB/s eta 0:00:01\r\u001b[K     |██████▊                         | 450 kB 5.2 MB/s eta 0:00:01\r\u001b[K     |██████▉                         | 460 kB 5.2 MB/s eta 0:00:01\r\u001b[K     |███████                         | 471 kB 5.2 MB/s eta 0:00:01\r\u001b[K     |███████▏                        | 481 kB 5.2 MB/s eta 0:00:01\r\u001b[K     |███████▍                        | 491 kB 5.2 MB/s eta 0:00:01\r\u001b[K     |███████▌                        | 501 kB 5.2 MB/s eta 0:00:01\r\u001b[K     |███████▋                        | 512 kB 5.2 MB/s eta 0:00:01\r\u001b[K     |███████▉                        | 522 kB 5.2 MB/s eta 0:00:01\r\u001b[K     |████████                        | 532 kB 5.2 MB/s eta 0:00:01\r\u001b[K     |████████▏                       | 542 kB 5.2 MB/s eta 0:00:01\r\u001b[K     |████████▎                       | 552 kB 5.2 MB/s eta 0:00:01\r\u001b[K     |████████▍                       | 563 kB 5.2 MB/s eta 0:00:01\r\u001b[K     |████████▋                       | 573 kB 5.2 MB/s eta 0:00:01\r\u001b[K     |████████▊                       | 583 kB 5.2 MB/s eta 0:00:01\r\u001b[K     |████████▉                       | 593 kB 5.2 MB/s eta 0:00:01\r\u001b[K     |█████████                       | 604 kB 5.2 MB/s eta 0:00:01\r\u001b[K     |█████████▏                      | 614 kB 5.2 MB/s eta 0:00:01\r\u001b[K     |█████████▍                      | 624 kB 5.2 MB/s eta 0:00:01\r\u001b[K     |█████████▌                      | 634 kB 5.2 MB/s eta 0:00:01\r\u001b[K     |█████████▋                      | 645 kB 5.2 MB/s eta 0:00:01\r\u001b[K     |█████████▉                      | 655 kB 5.2 MB/s eta 0:00:01\r\u001b[K     |██████████                      | 665 kB 5.2 MB/s eta 0:00:01\r\u001b[K     |██████████                      | 675 kB 5.2 MB/s eta 0:00:01\r\u001b[K     |██████████▎                     | 686 kB 5.2 MB/s eta 0:00:01\r\u001b[K     |██████████▍                     | 696 kB 5.2 MB/s eta 0:00:01\r\u001b[K     |██████████▋                     | 706 kB 5.2 MB/s eta 0:00:01\r\u001b[K     |██████████▊                     | 716 kB 5.2 MB/s eta 0:00:01\r\u001b[K     |██████████▉                     | 727 kB 5.2 MB/s eta 0:00:01\r\u001b[K     |███████████                     | 737 kB 5.2 MB/s eta 0:00:01\r\u001b[K     |███████████▏                    | 747 kB 5.2 MB/s eta 0:00:01\r\u001b[K     |███████████▎                    | 757 kB 5.2 MB/s eta 0:00:01\r\u001b[K     |███████████▌                    | 768 kB 5.2 MB/s eta 0:00:01\r\u001b[K     |███████████▋                    | 778 kB 5.2 MB/s eta 0:00:01\r\u001b[K     |███████████▉                    | 788 kB 5.2 MB/s eta 0:00:01\r\u001b[K     |████████████                    | 798 kB 5.2 MB/s eta 0:00:01\r\u001b[K     |████████████                    | 808 kB 5.2 MB/s eta 0:00:01\r\u001b[K     |████████████▎                   | 819 kB 5.2 MB/s eta 0:00:01\r\u001b[K     |████████████▍                   | 829 kB 5.2 MB/s eta 0:00:01\r\u001b[K     |████████████▌                   | 839 kB 5.2 MB/s eta 0:00:01\r\u001b[K     |████████████▊                   | 849 kB 5.2 MB/s eta 0:00:01\r\u001b[K     |████████████▉                   | 860 kB 5.2 MB/s eta 0:00:01\r\u001b[K     |█████████████                   | 870 kB 5.2 MB/s eta 0:00:01\r\u001b[K     |█████████████▏                  | 880 kB 5.2 MB/s eta 0:00:01\r\u001b[K     |█████████████▎                  | 890 kB 5.2 MB/s eta 0:00:01\r\u001b[K     |█████████████▌                  | 901 kB 5.2 MB/s eta 0:00:01\r\u001b[K     |█████████████▋                  | 911 kB 5.2 MB/s eta 0:00:01\r\u001b[K     |█████████████▊                  | 921 kB 5.2 MB/s eta 0:00:01\r\u001b[K     |██████████████                  | 931 kB 5.2 MB/s eta 0:00:01\r\u001b[K     |██████████████                  | 942 kB 5.2 MB/s eta 0:00:01\r\u001b[K     |██████████████▎                 | 952 kB 5.2 MB/s eta 0:00:01\r\u001b[K     |██████████████▍                 | 962 kB 5.2 MB/s eta 0:00:01\r\u001b[K     |██████████████▌                 | 972 kB 5.2 MB/s eta 0:00:01\r\u001b[K     |██████████████▊                 | 983 kB 5.2 MB/s eta 0:00:01\r\u001b[K     |██████████████▉                 | 993 kB 5.2 MB/s eta 0:00:01\r\u001b[K     |███████████████                 | 1.0 MB 5.2 MB/s eta 0:00:01\r\u001b[K     |███████████████▏                | 1.0 MB 5.2 MB/s eta 0:00:01\r\u001b[K     |███████████████▎                | 1.0 MB 5.2 MB/s eta 0:00:01\r\u001b[K     |███████████████▌                | 1.0 MB 5.2 MB/s eta 0:00:01\r\u001b[K     |███████████████▋                | 1.0 MB 5.2 MB/s eta 0:00:01\r\u001b[K     |███████████████▊                | 1.1 MB 5.2 MB/s eta 0:00:01\r\u001b[K     |████████████████                | 1.1 MB 5.2 MB/s eta 0:00:01\r\u001b[K     |████████████████                | 1.1 MB 5.2 MB/s eta 0:00:01\r\u001b[K     |████████████████▎               | 1.1 MB 5.2 MB/s eta 0:00:01\r\u001b[K     |████████████████▍               | 1.1 MB 5.2 MB/s eta 0:00:01\r\u001b[K     |████████████████▌               | 1.1 MB 5.2 MB/s eta 0:00:01\r\u001b[K     |████████████████▊               | 1.1 MB 5.2 MB/s eta 0:00:01\r\u001b[K     |████████████████▉               | 1.1 MB 5.2 MB/s eta 0:00:01\r\u001b[K     |█████████████████               | 1.1 MB 5.2 MB/s eta 0:00:01\r\u001b[K     |█████████████████▏              | 1.1 MB 5.2 MB/s eta 0:00:01\r\u001b[K     |█████████████████▎              | 1.2 MB 5.2 MB/s eta 0:00:01\r\u001b[K     |█████████████████▌              | 1.2 MB 5.2 MB/s eta 0:00:01\r\u001b[K     |█████████████████▋              | 1.2 MB 5.2 MB/s eta 0:00:01\r\u001b[K     |█████████████████▊              | 1.2 MB 5.2 MB/s eta 0:00:01\r\u001b[K     |██████████████████              | 1.2 MB 5.2 MB/s eta 0:00:01\r\u001b[K     |██████████████████              | 1.2 MB 5.2 MB/s eta 0:00:01\r\u001b[K     |██████████████████▏             | 1.2 MB 5.2 MB/s eta 0:00:01\r\u001b[K     |██████████████████▍             | 1.2 MB 5.2 MB/s eta 0:00:01\r\u001b[K     |██████████████████▌             | 1.2 MB 5.2 MB/s eta 0:00:01\r\u001b[K     |██████████████████▊             | 1.2 MB 5.2 MB/s eta 0:00:01\r\u001b[K     |██████████████████▉             | 1.3 MB 5.2 MB/s eta 0:00:01\r\u001b[K     |███████████████████             | 1.3 MB 5.2 MB/s eta 0:00:01\r\u001b[K     |███████████████████▏            | 1.3 MB 5.2 MB/s eta 0:00:01\r\u001b[K     |███████████████████▎            | 1.3 MB 5.2 MB/s eta 0:00:01\r\u001b[K     |███████████████████▍            | 1.3 MB 5.2 MB/s eta 0:00:01\r\u001b[K     |███████████████████▋            | 1.3 MB 5.2 MB/s eta 0:00:01\r\u001b[K     |███████████████████▊            | 1.3 MB 5.2 MB/s eta 0:00:01\r\u001b[K     |████████████████████            | 1.3 MB 5.2 MB/s eta 0:00:01\r\u001b[K     |████████████████████            | 1.3 MB 5.2 MB/s eta 0:00:01\r\u001b[K     |████████████████████▏           | 1.4 MB 5.2 MB/s eta 0:00:01\r\u001b[K     |████████████████████▍           | 1.4 MB 5.2 MB/s eta 0:00:01\r\u001b[K     |████████████████████▌           | 1.4 MB 5.2 MB/s eta 0:00:01\r\u001b[K     |████████████████████▋           | 1.4 MB 5.2 MB/s eta 0:00:01\r\u001b[K     |████████████████████▉           | 1.4 MB 5.2 MB/s eta 0:00:01\r\u001b[K     |█████████████████████           | 1.4 MB 5.2 MB/s eta 0:00:01\r\u001b[K     |█████████████████████▏          | 1.4 MB 5.2 MB/s eta 0:00:01\r\u001b[K     |█████████████████████▎          | 1.4 MB 5.2 MB/s eta 0:00:01\r\u001b[K     |█████████████████████▍          | 1.4 MB 5.2 MB/s eta 0:00:01\r\u001b[K     |█████████████████████▋          | 1.4 MB 5.2 MB/s eta 0:00:01\r\u001b[K     |█████████████████████▊          | 1.5 MB 5.2 MB/s eta 0:00:01\r\u001b[K     |█████████████████████▉          | 1.5 MB 5.2 MB/s eta 0:00:01\r\u001b[K     |██████████████████████          | 1.5 MB 5.2 MB/s eta 0:00:01\r\u001b[K     |██████████████████████▏         | 1.5 MB 5.2 MB/s eta 0:00:01\r\u001b[K     |██████████████████████▍         | 1.5 MB 5.2 MB/s eta 0:00:01\r\u001b[K     |██████████████████████▌         | 1.5 MB 5.2 MB/s eta 0:00:01\r\u001b[K     |██████████████████████▋         | 1.5 MB 5.2 MB/s eta 0:00:01\r\u001b[K     |██████████████████████▉         | 1.5 MB 5.2 MB/s eta 0:00:01\r\u001b[K     |███████████████████████         | 1.5 MB 5.2 MB/s eta 0:00:01\r\u001b[K     |███████████████████████▏        | 1.5 MB 5.2 MB/s eta 0:00:01\r\u001b[K     |███████████████████████▎        | 1.6 MB 5.2 MB/s eta 0:00:01\r\u001b[K     |███████████████████████▍        | 1.6 MB 5.2 MB/s eta 0:00:01\r\u001b[K     |███████████████████████▋        | 1.6 MB 5.2 MB/s eta 0:00:01\r\u001b[K     |███████████████████████▊        | 1.6 MB 5.2 MB/s eta 0:00:01\r\u001b[K     |███████████████████████▉        | 1.6 MB 5.2 MB/s eta 0:00:01\r\u001b[K     |████████████████████████        | 1.6 MB 5.2 MB/s eta 0:00:01\r\u001b[K     |████████████████████████▏       | 1.6 MB 5.2 MB/s eta 0:00:01\r\u001b[K     |████████████████████████▍       | 1.6 MB 5.2 MB/s eta 0:00:01\r\u001b[K     |████████████████████████▌       | 1.6 MB 5.2 MB/s eta 0:00:01\r\u001b[K     |████████████████████████▋       | 1.6 MB 5.2 MB/s eta 0:00:01\r\u001b[K     |████████████████████████▉       | 1.7 MB 5.2 MB/s eta 0:00:01\r\u001b[K     |█████████████████████████       | 1.7 MB 5.2 MB/s eta 0:00:01\r\u001b[K     |█████████████████████████       | 1.7 MB 5.2 MB/s eta 0:00:01\r\u001b[K     |█████████████████████████▎      | 1.7 MB 5.2 MB/s eta 0:00:01\r\u001b[K     |█████████████████████████▍      | 1.7 MB 5.2 MB/s eta 0:00:01\r\u001b[K     |█████████████████████████▋      | 1.7 MB 5.2 MB/s eta 0:00:01\r\u001b[K     |█████████████████████████▊      | 1.7 MB 5.2 MB/s eta 0:00:01\r\u001b[K     |█████████████████████████▉      | 1.7 MB 5.2 MB/s eta 0:00:01\r\u001b[K     |██████████████████████████      | 1.7 MB 5.2 MB/s eta 0:00:01\r\u001b[K     |██████████████████████████▏     | 1.8 MB 5.2 MB/s eta 0:00:01\r\u001b[K     |██████████████████████████▎     | 1.8 MB 5.2 MB/s eta 0:00:01\r\u001b[K     |██████████████████████████▌     | 1.8 MB 5.2 MB/s eta 0:00:01\r\u001b[K     |██████████████████████████▋     | 1.8 MB 5.2 MB/s eta 0:00:01\r\u001b[K     |██████████████████████████▉     | 1.8 MB 5.2 MB/s eta 0:00:01\r\u001b[K     |███████████████████████████     | 1.8 MB 5.2 MB/s eta 0:00:01\r\u001b[K     |███████████████████████████     | 1.8 MB 5.2 MB/s eta 0:00:01\r\u001b[K     |███████████████████████████▎    | 1.8 MB 5.2 MB/s eta 0:00:01\r\u001b[K     |███████████████████████████▍    | 1.8 MB 5.2 MB/s eta 0:00:01\r\u001b[K     |███████████████████████████▌    | 1.8 MB 5.2 MB/s eta 0:00:01\r\u001b[K     |███████████████████████████▊    | 1.9 MB 5.2 MB/s eta 0:00:01\r\u001b[K     |███████████████████████████▉    | 1.9 MB 5.2 MB/s eta 0:00:01\r\u001b[K     |████████████████████████████    | 1.9 MB 5.2 MB/s eta 0:00:01\r\u001b[K     |████████████████████████████▏   | 1.9 MB 5.2 MB/s eta 0:00:01\r\u001b[K     |████████████████████████████▎   | 1.9 MB 5.2 MB/s eta 0:00:01\r\u001b[K     |████████████████████████████▌   | 1.9 MB 5.2 MB/s eta 0:00:01\r\u001b[K     |████████████████████████████▋   | 1.9 MB 5.2 MB/s eta 0:00:01\r\u001b[K     |████████████████████████████▊   | 1.9 MB 5.2 MB/s eta 0:00:01\r\u001b[K     |█████████████████████████████   | 1.9 MB 5.2 MB/s eta 0:00:01\r\u001b[K     |█████████████████████████████   | 1.9 MB 5.2 MB/s eta 0:00:01\r\u001b[K     |█████████████████████████████▎  | 2.0 MB 5.2 MB/s eta 0:00:01\r\u001b[K     |█████████████████████████████▍  | 2.0 MB 5.2 MB/s eta 0:00:01\r\u001b[K     |█████████████████████████████▌  | 2.0 MB 5.2 MB/s eta 0:00:01\r\u001b[K     |█████████████████████████████▊  | 2.0 MB 5.2 MB/s eta 0:00:01\r\u001b[K     |█████████████████████████████▉  | 2.0 MB 5.2 MB/s eta 0:00:01\r\u001b[K     |██████████████████████████████  | 2.0 MB 5.2 MB/s eta 0:00:01\r\u001b[K     |██████████████████████████████▏ | 2.0 MB 5.2 MB/s eta 0:00:01\r\u001b[K     |██████████████████████████████▎ | 2.0 MB 5.2 MB/s eta 0:00:01\r\u001b[K     |██████████████████████████████▌ | 2.0 MB 5.2 MB/s eta 0:00:01\r\u001b[K     |██████████████████████████████▋ | 2.0 MB 5.2 MB/s eta 0:00:01\r\u001b[K     |██████████████████████████████▊ | 2.1 MB 5.2 MB/s eta 0:00:01\r\u001b[K     |███████████████████████████████ | 2.1 MB 5.2 MB/s eta 0:00:01\r\u001b[K     |███████████████████████████████ | 2.1 MB 5.2 MB/s eta 0:00:01\r\u001b[K     |███████████████████████████████▎| 2.1 MB 5.2 MB/s eta 0:00:01\r\u001b[K     |███████████████████████████████▍| 2.1 MB 5.2 MB/s eta 0:00:01\r\u001b[K     |███████████████████████████████▌| 2.1 MB 5.2 MB/s eta 0:00:01\r\u001b[K     |███████████████████████████████▊| 2.1 MB 5.2 MB/s eta 0:00:01\r\u001b[K     |███████████████████████████████▉| 2.1 MB 5.2 MB/s eta 0:00:01\r\u001b[K     |████████████████████████████████| 2.1 MB 5.2 MB/s eta 0:00:01\r\u001b[K     |████████████████████████████████| 2.1 MB 5.2 MB/s \n",
            "\u001b[?25h"
          ]
        }
      ]
    },
    {
      "cell_type": "markdown",
      "source": [
        "## 0.1 Main imports (including BLEU, METEOR)"
      ],
      "metadata": {
        "id": "6KUgTABRt9yl"
      }
    },
    {
      "cell_type": "code",
      "source": [
        "!pip install -U nltk -q\n",
        "!pip install datasets -q\n",
        "!pip install -U PyYaml==5.1"
      ],
      "metadata": {
        "colab": {
          "base_uri": "https://localhost:8080/"
        },
        "id": "sGwuf_KAsvCS",
        "outputId": "60ea5354-4f29-448e-ecab-b6d3c97bd4cb"
      },
      "execution_count": null,
      "outputs": [
        {
          "output_type": "stream",
          "name": "stdout",
          "text": [
            "\u001b[K     |████████████████████████████████| 362 kB 5.4 MB/s \n",
            "\u001b[K     |████████████████████████████████| 140 kB 67.6 MB/s \n",
            "\u001b[K     |████████████████████████████████| 212 kB 59.3 MB/s \n",
            "\u001b[K     |████████████████████████████████| 1.1 MB 63.9 MB/s \n",
            "\u001b[K     |████████████████████████████████| 86 kB 5.9 MB/s \n",
            "\u001b[K     |████████████████████████████████| 596 kB 64.6 MB/s \n",
            "\u001b[K     |████████████████████████████████| 127 kB 74.1 MB/s \n",
            "\u001b[K     |████████████████████████████████| 144 kB 64.9 MB/s \n",
            "\u001b[K     |████████████████████████████████| 94 kB 4.2 MB/s \n",
            "\u001b[K     |████████████████████████████████| 271 kB 74.0 MB/s \n",
            "\u001b[31mERROR: pip's dependency resolver does not currently take into account all the packages that are installed. This behaviour is the source of the following dependency conflicts.\n",
            "datascience 0.10.6 requires folium==0.2.1, but you have folium 0.8.3 which is incompatible.\u001b[0m\n",
            "\u001b[?25hLooking in indexes: https://pypi.org/simple, https://us-python.pkg.dev/colab-wheels/public/simple/\n",
            "Collecting PyYaml==5.1\n",
            "  Downloading PyYAML-5.1.tar.gz (274 kB)\n",
            "\u001b[K     |████████████████████████████████| 274 kB 5.3 MB/s \n",
            "\u001b[?25hBuilding wheels for collected packages: PyYaml\n",
            "  Building wheel for PyYaml (setup.py) ... \u001b[?25l\u001b[?25hdone\n",
            "  Created wheel for PyYaml: filename=PyYAML-5.1-cp37-cp37m-linux_x86_64.whl size=44092 sha256=702ab85c9247051e332744c574e85db9760a1cf8f1ac920b87ee76764b00530a\n",
            "  Stored in directory: /root/.cache/pip/wheels/77/f5/10/d00a2bd30928b972790053b5de0c703ca87324f3fead0f2fd9\n",
            "Successfully built PyYaml\n",
            "Installing collected packages: PyYaml\n",
            "  Attempting uninstall: PyYaml\n",
            "    Found existing installation: PyYAML 6.0\n",
            "    Uninstalling PyYAML-6.0:\n",
            "      Successfully uninstalled PyYAML-6.0\n",
            "Successfully installed PyYaml-5.1\n"
          ]
        }
      ]
    },
    {
      "cell_type": "code",
      "execution_count": null,
      "metadata": {
        "id": "m1xCFOh1slr8",
        "colab": {
          "base_uri": "https://localhost:8080/",
          "height": 217,
          "referenced_widgets": [
            "418dd352140a499ca800867d5fc0319d",
            "197d8443f40146eba5e5ad8ce420647b",
            "ead54369c3f242dd8417a04b7f9f6797",
            "12aabc81e92d403b8c4dd8cfb8196e0d",
            "c612bafc3d8648088ddf28e28ab8a9e6",
            "ce26d4ce5f064369b17571b477f63c42",
            "89d8ee8647584d5aad1882adc2e12d6a",
            "ed20c097219a4c0a8543e2abdae28996",
            "99bca40c5c45443aac3af75accea4713",
            "ef458c746717465f8609d3f19151fe1b",
            "ed39f6a155f14b9da6d5bf9927745504",
            "d287c5d0cbeb443096e72561dff8bf84",
            "7938ace693ae431785d85188f92209ff",
            "f02b2cb5b7f04cefa20053516cf30906",
            "16b5a6b75ccd4bfdbfa9feffd4ebb6cd",
            "f7ba314e4d0f47a9a5314c8c358c55b4",
            "8c0360c996764d3aa7c930ef3a5f56b4",
            "5b964e2b69914a32ab9ff44947ba728c",
            "f4b47cdf70be4b0bb5da77b251e68bf7",
            "39888e665f204c3aac79a140c39970cd",
            "5f266b69a352423ca5abf4059b638244",
            "241283e0e6994ab58070b55375a1448d",
            "9350826a47a9404baab9ca528bc6e2b4",
            "735142f9ad5543708fe12e8c0efcbe27",
            "5e6447ac3f034ac1ac137219f277e09e",
            "894e75fe753b4dcc84c73203d10d9119",
            "7cb426e9ad6242e4ad92e1e1a04b06bf",
            "83936826816e461188b94aa1fc57f4f1",
            "9b3f4efda6ae4f89b3b78ce321af3362",
            "8aafe13263db43a1879d5750c80b530e",
            "34f654b3bee044e1bcaa175c443eb4e2",
            "d1ad583a2a2c4886a2c618e895a03604",
            "154bdcbe96e84c37aa5892b3a273564b"
          ]
        },
        "outputId": "1c8abb6d-63eb-4706-e776-d2755ca4ef2b"
      },
      "outputs": [
        {
          "output_type": "display_data",
          "data": {
            "text/plain": [
              "Downloading builder script:   0%|          | 0.00/2.20k [00:00<?, ?B/s]"
            ],
            "application/vnd.jupyter.widget-view+json": {
              "version_major": 2,
              "version_minor": 0,
              "model_id": "418dd352140a499ca800867d5fc0319d"
            }
          },
          "metadata": {}
        },
        {
          "output_type": "stream",
          "name": "stderr",
          "text": [
            "[nltk_data] Downloading package wordnet to /root/nltk_data...\n",
            "[nltk_data]   Unzipping corpora/wordnet.zip.\n",
            "[nltk_data] Downloading package punkt to /root/nltk_data...\n",
            "[nltk_data]   Unzipping tokenizers/punkt.zip.\n",
            "[nltk_data] Downloading package omw-1.4 to /root/nltk_data...\n",
            "[nltk_data]   Unzipping corpora/omw-1.4.zip.\n"
          ]
        },
        {
          "output_type": "display_data",
          "data": {
            "text/plain": [
              "Downloading builder script:   0%|          | 0.00/2.48k [00:00<?, ?B/s]"
            ],
            "application/vnd.jupyter.widget-view+json": {
              "version_major": 2,
              "version_minor": 0,
              "model_id": "d287c5d0cbeb443096e72561dff8bf84"
            }
          },
          "metadata": {}
        },
        {
          "output_type": "display_data",
          "data": {
            "text/plain": [
              "Downloading extra modules:   0%|          | 0.00/1.55k [00:00<?, ?B/s]"
            ],
            "application/vnd.jupyter.widget-view+json": {
              "version_major": 2,
              "version_minor": 0,
              "model_id": "9350826a47a9404baab9ca528bc6e2b4"
            }
          },
          "metadata": {}
        }
      ],
      "source": [
        "# Util\n",
        "import os\n",
        "import pandas as pd\n",
        "import numpy as np\n",
        "import re\n",
        "from google.colab import drive\n",
        "\n",
        "# Load metrics\n",
        "from datasets import load_metric, load\n",
        "meteor = load_metric(\"meteor\")\n",
        "# glue = load_metric(\"glue\", \"mrpc\")\n",
        "bleu = load_metric(\"bleu\")"
      ]
    },
    {
      "cell_type": "markdown",
      "source": [
        "## 0.2 Load BLEURT\n",
        "\n",
        "https://github.com/google-research/bleurt#readme"
      ],
      "metadata": {
        "id": "uDKhcOdU-GGU"
      }
    },
    {
      "cell_type": "code",
      "source": [
        "!git clone https://github.com/google-research/bleurt.git\n",
        "%cd bleurt\n",
        "!pip install ."
      ],
      "metadata": {
        "colab": {
          "base_uri": "https://localhost:8080/"
        },
        "id": "onQ7qYYV6QfF",
        "outputId": "16c0dc70-fab8-410c-bea1-0e56b23392a6"
      },
      "execution_count": null,
      "outputs": [
        {
          "output_type": "stream",
          "name": "stdout",
          "text": [
            "Cloning into 'bleurt'...\n",
            "remote: Enumerating objects: 116, done.\u001b[K\n",
            "^C\n",
            "[Errno 2] No such file or directory: 'bleurt'\n",
            "/content\n",
            "\u001b[31mERROR: Directory '.' is not installable. Neither 'setup.py' nor 'pyproject.toml' found.\u001b[0m\u001b[31m\n",
            "\u001b[0m"
          ]
        }
      ]
    },
    {
      "cell_type": "code",
      "source": [
        "!wget https://storage.googleapis.com/bleurt-oss-21/BLEURT-20.zip .\n",
        "!unzip BLEURT-20.zip"
      ],
      "metadata": {
        "colab": {
          "base_uri": "https://localhost:8080/"
        },
        "id": "I3jkYN6o6r0F",
        "outputId": "7922253e-28b7-47b4-8e95-07ee5ca374ff"
      },
      "execution_count": null,
      "outputs": [
        {
          "output_type": "stream",
          "name": "stdout",
          "text": [
            "--2022-06-12 12:27:09--  https://storage.googleapis.com/bleurt-oss-21/BLEURT-20.zip\n",
            "Resolving storage.googleapis.com (storage.googleapis.com)... 142.251.45.16, 172.217.0.48, 172.217.2.112, ...\n",
            "Connecting to storage.googleapis.com (storage.googleapis.com)|142.251.45.16|:443... connected.\n",
            "HTTP request sent, awaiting response... 200 OK\n",
            "Length: 2140294207 (2.0G) [application/octet-stream]\n",
            "Saving to: ‘BLEURT-20.zip’\n",
            "\n",
            "BLEURT-20.zip       100%[===================>]   1.99G   162MB/s    in 12s     \n",
            "\n",
            "2022-06-12 12:27:20 (176 MB/s) - ‘BLEURT-20.zip’ saved [2140294207/2140294207]\n",
            "\n",
            "--2022-06-12 12:27:20--  http://./\n",
            "Resolving . (.)... failed: No address associated with hostname.\n",
            "wget: unable to resolve host address ‘.’\n",
            "FINISHED --2022-06-12 12:27:20--\n",
            "Total wall clock time: 12s\n",
            "Downloaded: 1 files, 2.0G in 12s (176 MB/s)\n",
            "Archive:  BLEURT-20.zip\n",
            "   creating: BLEURT-20/\n",
            "  inflating: BLEURT-20/bert_config.json  \n",
            "  inflating: BLEURT-20/saved_model.pb  \n",
            "   creating: BLEURT-20/variables/\n",
            "  inflating: BLEURT-20/variables/variables.index  \n",
            "  inflating: BLEURT-20/variables/variables.data-00000-of-00001  \n",
            "  inflating: BLEURT-20/sent_piece.vocab  \n",
            "  inflating: BLEURT-20/bleurt_config.json  \n",
            "  inflating: BLEURT-20/sent_piece.model  \n"
          ]
        }
      ]
    },
    {
      "cell_type": "markdown",
      "source": [
        "## 0.3 Load COMET (not working)\n"
      ],
      "metadata": {
        "id": "Fb2n_KIn98nv"
      }
    },
    {
      "cell_type": "code",
      "source": [
        "# Install Comet (doesn't always work - often gets strange dependency issues, or just denies that it is installed)\n",
        "\n",
        "!pip install unbabel-comet -q\n",
        "comet = load_metric(\"comet\")"
      ],
      "metadata": {
        "colab": {
          "base_uri": "https://localhost:8080/",
          "height": 564,
          "referenced_widgets": [
            "9716e8b7cddf4a7f8078c5ea9ca7b3a2",
            "bd8a16974e3c4f01918518efdf48054c",
            "2472f981a48240a099d0b7eb94a042b1",
            "24ef7867312b4b09992043cf6ba51491",
            "c7bab870a0f94a258af487f62dabadd7",
            "78a51ac14b3440dc9f25285ec8e54121",
            "6ba3660c2e9844d19f6b14a306c0762e",
            "bbcd805e0707490189f29988c320b5a0",
            "0b27686f842e43b88f7e1af3d15873b9",
            "75f30368003747a2a6b0f9e12f828f5d",
            "e031293152704aaf92a7df0f8f79148c",
            "bde7732e23e3498c945fd4557281653c",
            "aee1019d544a484697d975de98585d11",
            "a262cae8ad2e43ec9fc0dc0caf3fbd7e",
            "4c961a091f4741e9ae99e9b18c595cd4",
            "fc4908e5b0e543499942ddec5d968099",
            "526d63cbd30a420d8a161bc57af872b4",
            "9912c2aae3094a9d98c10e89efae127d",
            "accfa6859e8b4f90818ba7bc8ef0ac31",
            "91fadec172364dfeb829a0b168b05d6e",
            "9c1d7fd460a04ec88e827b4bed8c85f6",
            "460364fcff1f48eba26c5280f9c8815d",
            "5a9ff0f7ee6447bfaf5355eb53685917",
            "71bcf2d9cb124060b63a9860a11dd2af",
            "2e58d6a7d2e84a6dae151fd6eb7aa60a",
            "ab11291d72e542b69c3299802fd029f8",
            "dfc6af70ef8946d995c1528e8d2bea94",
            "3696d370128c4105a3925af64f8512fe",
            "a40b4ebf95a8481bac8488a0f6381954",
            "459ae055b72549868e762d957be4d218",
            "8e0598d13b854dc58ea347775d3cd189",
            "4400b826966a4a08af2e4f316e1cf978",
            "1fde1296548947d3862e12f235fd5ff5",
            "b7db22c635284b18bc6d9f5a9812c2ab",
            "5bf88c7fc5c544939919c964ff528b98",
            "b648c2dbb5604c1a85511d2a1ad51900",
            "2b5d2c49a4dd43eba415356316347599",
            "899d2257420944a3a0a14dd8ecf8dc0f",
            "1c3c09c7a66a4f53b4236bec7a4f6a60",
            "ac4fd0abb86843eeab8e705dd158398e",
            "0a18388ec9064ac28988f33981f24178",
            "8b23ee2f531a4cebb15a6218f7f54764",
            "8f828bed2e0b47a7b24e081e387fa208",
            "9f5412fd953c42fe8fc465d95b69446c"
          ]
        },
        "id": "rQQFSweMIMuU",
        "outputId": "a83f4609-1863-4f78-88b8-30dfe62ad26f"
      },
      "execution_count": null,
      "outputs": [
        {
          "output_type": "stream",
          "name": "stdout",
          "text": [
            "\u001b[2K     \u001b[90m━━━━━━━━━━━━━━━━━━━━━━━━━━━━━━━━━━━━━━━━\u001b[0m \u001b[32m64.1/64.1 kB\u001b[0m \u001b[31m3.7 MB/s\u001b[0m eta \u001b[36m0:00:00\u001b[0m\n",
            "\u001b[2K     \u001b[90m━━━━━━━━━━━━━━━━━━━━━━━━━━━━━━━━━━━━━━\u001b[0m \u001b[32m585.5/585.5 kB\u001b[0m \u001b[31m17.9 MB/s\u001b[0m eta \u001b[36m0:00:00\u001b[0m\n",
            "\u001b[2K     \u001b[90m━━━━━━━━━━━━━━━━━━━━━━━━━━━━━━━━━━━━━━━━\u001b[0m \u001b[32m92.0/92.0 kB\u001b[0m \u001b[31m10.9 MB/s\u001b[0m eta \u001b[36m0:00:00\u001b[0m\n",
            "\u001b[2K     \u001b[90m━━━━━━━━━━━━━━━━━━━━━━━━━━━━━━━━━━━━━━━━\u001b[0m \u001b[32m4.4/4.4 MB\u001b[0m \u001b[31m70.0 MB/s\u001b[0m eta \u001b[36m0:00:00\u001b[0m\n",
            "\u001b[2K     \u001b[90m━━━━━━━━━━━━━━━━━━━━━━━━━━━━━━━━━━━━━━━━\u001b[0m \u001b[32m9.5/9.5 MB\u001b[0m \u001b[31m88.8 MB/s\u001b[0m eta \u001b[36m0:00:00\u001b[0m\n",
            "\u001b[2K     \u001b[90m━━━━━━━━━━━━━━━━━━━━━━━━━━━━━━━━━━━━━━━\u001b[0m \u001b[32m101.4/101.4 kB\u001b[0m \u001b[31m5.5 MB/s\u001b[0m eta \u001b[36m0:00:00\u001b[0m\n",
            "\u001b[2K     \u001b[90m━━━━━━━━━━━━━━━━━━━━━━━━━━━━━━━━━━━━━━\u001b[0m \u001b[32m409.8/409.8 kB\u001b[0m \u001b[31m28.2 MB/s\u001b[0m eta \u001b[36m0:00:00\u001b[0m\n",
            "\u001b[2K     \u001b[90m━━━━━━━━━━━━━━━━━━━━━━━━━━━━━━━━━━━━━━━━\u001b[0m \u001b[32m1.2/1.2 MB\u001b[0m \u001b[31m32.6 MB/s\u001b[0m eta \u001b[36m0:00:00\u001b[0m\n",
            "\u001b[2K     \u001b[90m━━━━━━━━━━━━━━━━━━━━━━━━━━━━━━━━━━━━━━━━\u001b[0m \u001b[32m38.1/38.1 MB\u001b[0m \u001b[31m11.1 MB/s\u001b[0m eta \u001b[36m0:00:00\u001b[0m\n",
            "\u001b[2K     \u001b[90m━━━━━━━━━━━━━━━━━━━━━━━━━━━━━━━━━━━━━━━━\u001b[0m \u001b[32m6.6/6.6 MB\u001b[0m \u001b[31m59.2 MB/s\u001b[0m eta \u001b[36m0:00:00\u001b[0m\n",
            "\u001b[?25h\u001b[31mERROR: pip's dependency resolver does not currently take into account all the packages that are installed. This behaviour is the source of the following dependency conflicts.\n",
            "albumentations 0.1.12 requires imgaug<0.2.7,>=0.2.5, but you have imgaug 0.2.9 which is incompatible.\u001b[0m\u001b[31m\n",
            "\u001b[0m\u001b[33mWARNING: Running pip as the 'root' user can result in broken permissions and conflicting behaviour with the system package manager. It is recommended to use a virtual environment instead: https://pip.pypa.io/warnings/venv\u001b[0m\u001b[33m\n",
            "\u001b[0m"
          ]
        },
        {
          "output_type": "display_data",
          "data": {
            "text/plain": [
              "Downloading builder script:   0%|          | 0.00/2.37k [00:00<?, ?B/s]"
            ],
            "application/vnd.jupyter.widget-view+json": {
              "version_major": 2,
              "version_minor": 0,
              "model_id": "9716e8b7cddf4a7f8078c5ea9ca7b3a2"
            }
          },
          "metadata": {}
        },
        {
          "output_type": "stream",
          "name": "stderr",
          "text": [
            "Downloading wmt20-comet-da.tar.gz\n",
            "wmt20-comet-da.tar.gz: 1.79GB [00:47, 37.8MB/s]                            \n",
            "Extracting /root/.cache/torch/unbabel_comet/wmt20-comet-da.tar.gz\n",
            "Extracted /root/.cache/torch/unbabel_comet/wmt20-comet-da.tar.gz\n",
            "Created a temporary directory at /tmp/tmpsqp10jis\n",
            "Writing /tmp/tmpsqp10jis/_remote_module_non_sriptable.py\n"
          ]
        },
        {
          "output_type": "display_data",
          "data": {
            "text/plain": [
              "Downloading:   0%|          | 0.00/4.83M [00:00<?, ?B/s]"
            ],
            "application/vnd.jupyter.widget-view+json": {
              "version_major": 2,
              "version_minor": 0,
              "model_id": "bde7732e23e3498c945fd4557281653c"
            }
          },
          "metadata": {}
        },
        {
          "output_type": "display_data",
          "data": {
            "text/plain": [
              "Downloading:   0%|          | 0.00/616 [00:00<?, ?B/s]"
            ],
            "application/vnd.jupyter.widget-view+json": {
              "version_major": 2,
              "version_minor": 0,
              "model_id": "5a9ff0f7ee6447bfaf5355eb53685917"
            }
          },
          "metadata": {}
        },
        {
          "output_type": "display_data",
          "data": {
            "text/plain": [
              "Downloading:   0%|          | 0.00/2.09G [00:00<?, ?B/s]"
            ],
            "application/vnd.jupyter.widget-view+json": {
              "version_major": 2,
              "version_minor": 0,
              "model_id": "b7db22c635284b18bc6d9f5a9812c2ab"
            }
          },
          "metadata": {}
        },
        {
          "output_type": "stream",
          "name": "stderr",
          "text": [
            "Some weights of the model checkpoint at xlm-roberta-large were not used when initializing XLMRobertaModel: ['roberta.pooler.dense.weight', 'lm_head.dense.weight', 'lm_head.decoder.weight', 'lm_head.layer_norm.weight', 'roberta.pooler.dense.bias', 'lm_head.bias', 'lm_head.layer_norm.bias', 'lm_head.dense.bias']\n",
            "- This IS expected if you are initializing XLMRobertaModel from the checkpoint of a model trained on another task or with another architecture (e.g. initializing a BertForSequenceClassification model from a BertForPreTraining model).\n",
            "- This IS NOT expected if you are initializing XLMRobertaModel from the checkpoint of a model that you expect to be exactly identical (initializing a BertForSequenceClassification model from a BertForSequenceClassification model).\n",
            "Encoder model frozen.\n"
          ]
        }
      ]
    },
    {
      "cell_type": "markdown",
      "source": [
        "# 1 - Get the data \n",
        "Predictions, Sources & References to Compare"
      ],
      "metadata": {
        "id": "xPFIJB4Hu5qO"
      }
    },
    {
      "cell_type": "code",
      "source": [
        "drive.mount('/content/drive')"
      ],
      "metadata": {
        "id": "gxE16ZoYt1KW",
        "colab": {
          "base_uri": "https://localhost:8080/"
        },
        "outputId": "dc284bc1-6676-43e8-cef6-f7ea7a13da7b"
      },
      "execution_count": null,
      "outputs": [
        {
          "output_type": "stream",
          "name": "stdout",
          "text": [
            "Mounted at /content/drive\n"
          ]
        }
      ]
    },
    {
      "cell_type": "code",
      "source": [
        "# !! Modify this (or just add your own) based on the location of your files in your drive\n",
        "\n",
        "# file_path = \"file path here\""
      ],
      "metadata": {
        "id": "_X8rN5myw46r"
      },
      "execution_count": null,
      "outputs": []
    },
    {
      "cell_type": "code",
      "source": [
        "# # if taking the original data file\n",
        "\n",
        "# data_cleaned = pd.read_csv(file_path+\"data_cleaned.csv\")"
      ],
      "metadata": {
        "id": "SdqiWCa3mPe_"
      },
      "execution_count": null,
      "outputs": []
    },
    {
      "cell_type": "code",
      "source": [
        "# If loading in prediction data\n",
        "\n",
        "# Load in the two files\n",
        "predictions_file = pd.read_csv(file_path+\"predictions_IOB.csv\")\n",
        "\n",
        "#Isolate the columns we need\n",
        "# !! You might need to change the column names based on your files\n",
        "predictions = predictions_file['Generated Text']\n",
        "references = predictions_file['Actual Text']\n",
        "sources = predictions_file['Input']\n",
        "# input_IOBs = predictions_file['IOB_input']\n",
        "# target_IOBs = predictions_file['IOB_target']\n",
        "input_IOBs = predictions_file['Source IOB']\n",
        "target_IOBs = predictions_file['Target IOB']\n",
        "\n",
        "# # Load in the files (models Ryan)\n",
        "# predictions_file = pd.read_csv(file_path+\"predictions_IOB.csv\")\n",
        "\n",
        "# #Isolate the columns we need\n",
        "# # !! You might need to change the column names based on your files\n",
        "# predictions = predictions_file['Generated Text']\n",
        "# references = predictions_file['Actual Text']\n",
        "# sources = predictions_file['Input']\n",
        "# input_IOBs = predictions_file['Source IOB']\n",
        "# target_IOBs = predictions_file['Target IOB']"
      ],
      "metadata": {
        "id": "pp8_GWWYs-S0"
      },
      "execution_count": null,
      "outputs": []
    },
    {
      "cell_type": "markdown",
      "source": [
        "# 2 - Process and Clean the Data"
      ],
      "metadata": {
        "id": "cOZxXF_G1WmT"
      }
    },
    {
      "cell_type": "markdown",
      "source": [
        "## 2.1 Basic cleaning (necessary)\n",
        "\n",
        "Check the data to see what exactly needs to be removed, and if punctuation needs to be separated for consistency across each of the generated, target and sources"
      ],
      "metadata": {
        "id": "l9fl-KNuuSVJ"
      }
    },
    {
      "cell_type": "code",
      "source": [
        "def cleanPredictions(predictions, unwanted=[\":\"], space_punct=True):\n",
        "  ''' Function to remove the unwanted characters at the beginning of a sentence.\n",
        "      Sometimes the predictions still have \":\" at the beginning\n",
        "      Also has an option to space out punctuation if that does not match here for some reason\n",
        "  '''\n",
        "\n",
        "  if space_punct:\n",
        "    predictions = predictions.str.replace(\",\", \" ,\")\n",
        "    predictions = predictions.str.replace(\".\", \" .\")\n",
        "    predictions = predictions.str.replace(\"'\", \" '\")\n",
        "    predictions = predictions.str.replace(\"  \", \" \")\n",
        "\n",
        "\n",
        "  predictions = predictions.str.replace('\"', '')\n",
        "  for i in unwanted:\n",
        "    predictions = predictions.str.replace(i, \"\")\n",
        "  return predictions\n",
        "\n",
        "def cleanSources(sources, prefix, space_punct=True, suffix=None):\n",
        "  '''Function to remove the prefix from the source sentence\n",
        "  For example, if you had the prefix \"paraphrase:\" then you should add that as the prefix parameter.\n",
        "  '''\n",
        "  if space_punct:\n",
        "    sources = sources.str.replace(\",\", \" ,\")\n",
        "    sources = sources.str.replace(\".\", \" .\")\n",
        "    sources = sources.str.replace(\"'\", \" '\")\n",
        "    sources = sources.str.replace(\"  \", \" \")\n",
        "\n",
        "\n",
        "  sources = sources.str.replace('\"', '')\n",
        "  # Removes any remainder of a prefix that might have stuck\n",
        "  for p in prefix:\n",
        "    sources = sources.str.replace(p, \"\")\n",
        "  \n",
        "  # Removes the idiom and everything following it\n",
        "  if suffix is not None:\n",
        "    for i in range(len(suffix)):\n",
        "      sources[i] = sources[i].split(suffix, 1)[0]\n",
        "  return sources"
      ],
      "metadata": {
        "id": "EHE_2j9H1XyC"
      },
      "execution_count": null,
      "outputs": []
    },
    {
      "cell_type": "code",
      "source": [
        "sources[0]"
      ],
      "metadata": {
        "colab": {
          "base_uri": "https://localhost:8080/",
          "height": 35
        },
        "id": "gF4pGEplF_Jo",
        "outputId": "dd399dd2-6e1b-4dec-d04b-a7f7c09a5bac"
      },
      "execution_count": null,
      "outputs": [
        {
          "output_type": "execute_result",
          "data": {
            "text/plain": [
              "\"Let 's give her the benefit of the doubt and assume that she is right . \""
            ],
            "application/vnd.google.colaboratory.intrinsic+json": {
              "type": "string"
            }
          },
          "metadata": {},
          "execution_count": 96
        }
      ]
    },
    {
      "cell_type": "code",
      "source": [
        "predictions[0]"
      ],
      "metadata": {
        "colab": {
          "base_uri": "https://localhost:8080/",
          "height": 35
        },
        "id": "oSRmdsq5LvcS",
        "outputId": "d4d71757-60b0-4537-c8f2-11006106be65"
      },
      "execution_count": null,
      "outputs": [
        {
          "output_type": "execute_result",
          "data": {
            "text/plain": [
              "\"Let 's doubt her and assume that she is right .\""
            ],
            "application/vnd.google.colaboratory.intrinsic+json": {
              "type": "string"
            }
          },
          "metadata": {},
          "execution_count": 97
        }
      ]
    },
    {
      "cell_type": "code",
      "source": [
        "references[0]"
      ],
      "metadata": {
        "colab": {
          "base_uri": "https://localhost:8080/",
          "height": 35
        },
        "id": "uCv02R0lPzyu",
        "outputId": "6d15e873-1efb-485b-c6bd-694101d776ae"
      },
      "execution_count": null,
      "outputs": [
        {
          "output_type": "execute_result",
          "data": {
            "text/plain": [
              "\"Let 's regard her as innocent and assume that she is right .\""
            ],
            "application/vnd.google.colaboratory.intrinsic+json": {
              "type": "string"
            }
          },
          "metadata": {},
          "execution_count": 98
        }
      ]
    },
    {
      "cell_type": "code",
      "source": [
        "input_IOBs[0]"
      ],
      "metadata": {
        "colab": {
          "base_uri": "https://localhost:8080/",
          "height": 35
        },
        "id": "El2acHIrR9tM",
        "outputId": "a042d2a3-ffc5-4594-b87e-7f5f395fc600"
      },
      "execution_count": null,
      "outputs": [
        {
          "output_type": "execute_result",
          "data": {
            "text/plain": [
              "'O O B O I I I I I O O O O O O O'"
            ],
            "application/vnd.google.colaboratory.intrinsic+json": {
              "type": "string"
            }
          },
          "metadata": {},
          "execution_count": 99
        }
      ]
    },
    {
      "cell_type": "code",
      "source": [
        "target_IOBs[0]"
      ],
      "metadata": {
        "colab": {
          "base_uri": "https://localhost:8080/",
          "height": 35
        },
        "id": "8no2J5JoSZ5D",
        "outputId": "a498ff31-057c-4fb7-acef-9c38e2d727e2"
      },
      "execution_count": null,
      "outputs": [
        {
          "output_type": "execute_result",
          "data": {
            "text/plain": [
              "'O O O O O O O O O O O O O O O O O O O O O O O'"
            ],
            "application/vnd.google.colaboratory.intrinsic+json": {
              "type": "string"
            }
          },
          "metadata": {},
          "execution_count": 13
        }
      ]
    },
    {
      "cell_type": "code",
      "source": [
        "# !! Specify here what are the things that need to be removed!\n",
        "\n",
        "# predictions = cleanPredictions(predictions, unwanted=[\": \", \"phrased: \", \"phrased\"])\n",
        "predictions = cleanPredictions(predictions, unwanted=[\"*\"])\n",
        "references = cleanPredictions(references, unwanted=[\"*\"])\n",
        "\n",
        "# Following line is required for COMET, which does not work right now\n",
        "# sources = cleanSources(sources, prefix=[\"idiom paraphrase: \"], suffix=\"idiom: \")\n",
        "sources = cleanSources(sources, prefix=[\"id_par sentence: \", \"*\"], suffix=\"idiom: \")"
      ],
      "metadata": {
        "id": "UU44LvNc1eRN",
        "colab": {
          "base_uri": "https://localhost:8080/"
        },
        "outputId": "6a45d4c5-df83-4a85-d674-d379fffb5775"
      },
      "execution_count": null,
      "outputs": [
        {
          "output_type": "stream",
          "name": "stderr",
          "text": [
            "/usr/local/lib/python3.7/dist-packages/ipykernel_launcher.py:9: FutureWarning: The default value of regex will change from True to False in a future version. In addition, single character regular expressions will *not* be treated as literal strings when regex=True.\n",
            "  if __name__ == '__main__':\n",
            "/usr/local/lib/python3.7/dist-packages/ipykernel_launcher.py:16: FutureWarning: The default value of regex will change from True to False in a future version. In addition, single character regular expressions will *not* be treated as literal strings when regex=True.\n",
            "  app.launch_new_instance()\n",
            "/usr/local/lib/python3.7/dist-packages/ipykernel_launcher.py:25: FutureWarning: The default value of regex will change from True to False in a future version. In addition, single character regular expressions will *not* be treated as literal strings when regex=True.\n",
            "/usr/local/lib/python3.7/dist-packages/ipykernel_launcher.py:33: FutureWarning: The default value of regex will change from True to False in a future version. In addition, single character regular expressions will *not* be treated as literal strings when regex=True.\n"
          ]
        }
      ]
    },
    {
      "cell_type": "markdown",
      "source": [
        "## 2.2 FUNC: Isolate idioms & corresponding phrases (necessary for IdiomScore)"
      ],
      "metadata": {
        "id": "WEcL36hzCLSX"
      }
    },
    {
      "cell_type": "code",
      "source": [
        "import nltk\n",
        "nltk.download('stopwords')\n",
        "from nltk.corpus import stopwords\n",
        "sw_nltk = stopwords.words('english')\n",
        "\n",
        "extras = []\n",
        "removals = []\n",
        "\n",
        "for e in extras:\n",
        "  sw_nltk.append(e)\n",
        "\n",
        "for r in removals:\n",
        "  sw_nltk.remove(r)"
      ],
      "metadata": {
        "colab": {
          "base_uri": "https://localhost:8080/"
        },
        "id": "yZEwNaORXxnv",
        "outputId": "6f41e43e-efeb-4a88-860c-5205a10ef7b8"
      },
      "execution_count": null,
      "outputs": [
        {
          "output_type": "stream",
          "name": "stderr",
          "text": [
            "[nltk_data] Downloading package stopwords to /root/nltk_data...\n",
            "[nltk_data]   Package stopwords is already up-to-date!\n"
          ]
        }
      ]
    },
    {
      "cell_type": "code",
      "source": [
        "sw_nltk"
      ],
      "metadata": {
        "colab": {
          "base_uri": "https://localhost:8080/"
        },
        "id": "OzuR8mUZDK23",
        "outputId": "c460119f-54be-44bc-f6d7-f59f19fae2a7"
      },
      "execution_count": null,
      "outputs": [
        {
          "output_type": "execute_result",
          "data": {
            "text/plain": [
              "['i',\n",
              " 'me',\n",
              " 'my',\n",
              " 'myself',\n",
              " 'we',\n",
              " 'our',\n",
              " 'ours',\n",
              " 'ourselves',\n",
              " 'you',\n",
              " \"you're\",\n",
              " \"you've\",\n",
              " \"you'll\",\n",
              " \"you'd\",\n",
              " 'your',\n",
              " 'yours',\n",
              " 'yourself',\n",
              " 'yourselves',\n",
              " 'he',\n",
              " 'him',\n",
              " 'his',\n",
              " 'himself',\n",
              " 'she',\n",
              " \"she's\",\n",
              " 'her',\n",
              " 'hers',\n",
              " 'herself',\n",
              " 'it',\n",
              " \"it's\",\n",
              " 'its',\n",
              " 'itself',\n",
              " 'they',\n",
              " 'them',\n",
              " 'their',\n",
              " 'theirs',\n",
              " 'themselves',\n",
              " 'what',\n",
              " 'which',\n",
              " 'who',\n",
              " 'whom',\n",
              " 'this',\n",
              " 'that',\n",
              " \"that'll\",\n",
              " 'these',\n",
              " 'those',\n",
              " 'am',\n",
              " 'is',\n",
              " 'are',\n",
              " 'was',\n",
              " 'were',\n",
              " 'be',\n",
              " 'been',\n",
              " 'being',\n",
              " 'have',\n",
              " 'has',\n",
              " 'had',\n",
              " 'having',\n",
              " 'do',\n",
              " 'does',\n",
              " 'did',\n",
              " 'doing',\n",
              " 'a',\n",
              " 'an',\n",
              " 'the',\n",
              " 'and',\n",
              " 'but',\n",
              " 'if',\n",
              " 'or',\n",
              " 'because',\n",
              " 'as',\n",
              " 'until',\n",
              " 'while',\n",
              " 'of',\n",
              " 'at',\n",
              " 'by',\n",
              " 'for',\n",
              " 'with',\n",
              " 'about',\n",
              " 'against',\n",
              " 'between',\n",
              " 'into',\n",
              " 'through',\n",
              " 'during',\n",
              " 'before',\n",
              " 'after',\n",
              " 'above',\n",
              " 'below',\n",
              " 'to',\n",
              " 'from',\n",
              " 'up',\n",
              " 'down',\n",
              " 'in',\n",
              " 'out',\n",
              " 'on',\n",
              " 'off',\n",
              " 'over',\n",
              " 'under',\n",
              " 'again',\n",
              " 'further',\n",
              " 'then',\n",
              " 'once',\n",
              " 'here',\n",
              " 'there',\n",
              " 'when',\n",
              " 'where',\n",
              " 'why',\n",
              " 'how',\n",
              " 'all',\n",
              " 'any',\n",
              " 'both',\n",
              " 'each',\n",
              " 'few',\n",
              " 'more',\n",
              " 'most',\n",
              " 'other',\n",
              " 'some',\n",
              " 'such',\n",
              " 'no',\n",
              " 'nor',\n",
              " 'not',\n",
              " 'only',\n",
              " 'own',\n",
              " 'same',\n",
              " 'so',\n",
              " 'than',\n",
              " 'too',\n",
              " 'very',\n",
              " 's',\n",
              " 't',\n",
              " 'can',\n",
              " 'will',\n",
              " 'just',\n",
              " 'don',\n",
              " \"don't\",\n",
              " 'should',\n",
              " \"should've\",\n",
              " 'now',\n",
              " 'd',\n",
              " 'll',\n",
              " 'm',\n",
              " 'o',\n",
              " 're',\n",
              " 've',\n",
              " 'y',\n",
              " 'ain',\n",
              " 'aren',\n",
              " \"aren't\",\n",
              " 'couldn',\n",
              " \"couldn't\",\n",
              " 'didn',\n",
              " \"didn't\",\n",
              " 'doesn',\n",
              " \"doesn't\",\n",
              " 'hadn',\n",
              " \"hadn't\",\n",
              " 'hasn',\n",
              " \"hasn't\",\n",
              " 'haven',\n",
              " \"haven't\",\n",
              " 'isn',\n",
              " \"isn't\",\n",
              " 'ma',\n",
              " 'mightn',\n",
              " \"mightn't\",\n",
              " 'mustn',\n",
              " \"mustn't\",\n",
              " 'needn',\n",
              " \"needn't\",\n",
              " 'shan',\n",
              " \"shan't\",\n",
              " 'shouldn',\n",
              " \"shouldn't\",\n",
              " 'wasn',\n",
              " \"wasn't\",\n",
              " 'weren',\n",
              " \"weren't\",\n",
              " 'won',\n",
              " \"won't\",\n",
              " 'wouldn',\n",
              " \"wouldn't\"]"
            ]
          },
          "metadata": {},
          "execution_count": 19
        }
      ]
    },
    {
      "cell_type": "code",
      "source": [
        "def phrase_from_sentence_IOB(IOB, sentence):\n",
        "  phrase = []\n",
        "  for i in range(0, len(sentence)):\n",
        "    if IOB[i] == \"B\" or IOB[i] == \"I\":\n",
        "      phrase.append(sentence[i])\n",
        "  return ' '.join(phrase)\n",
        "\n",
        "def phrase_from_genSentence_IOB(IOB_source, IOB_target, source, target, generated, margin=1, verbose=False, remove_stopwords=False):\n",
        "  # Find the source phrase using IOB tags\n",
        "  # Find the same phrase in generated, with margin of 0 or 1 words either side\n",
        "  # Also get the target phrase, for human comparison\n",
        "  # Return all three phrases\n",
        "  \n",
        "  # TARGET PHRASE\n",
        "  targetPhrase = []\n",
        "  # Get the target phrase (not used for scoring, but nice to have in the dataframe)\n",
        "  for i in range(len(IOB_target)):\n",
        "    try:\n",
        "      if IOB_target[i] == \"B\":\n",
        "        targetPhrase.append(target[i])\n",
        "      if IOB_target[i] == \"I\":\n",
        "        targetPhrase.append(target[i])\n",
        "    except Exception as e:\n",
        "      if verbose:\n",
        "        print(e, f\" - target, i = {i}\")\n",
        "  # Turn the list into a string, separated by spaces\n",
        "  targetPhrase = ' '.join(targetPhrase)\n",
        "\n",
        "  # SOURCE PHRASE\n",
        "  sourcePhrase = []\n",
        "  generatedPhrase = []\n",
        "\n",
        "  # Find last idiom (for margin)\n",
        "  last_idiom = 0\n",
        "  if margin is not None:\n",
        "    for i in range(len(IOB_source)):\n",
        "      if IOB_source[i] == \"I\":\n",
        "        last_idiom = i\n",
        "\n",
        "  # Get the source idiom locations and create source and generated subphrases\n",
        "  for i in range(len(IOB_source)):\n",
        "    try:\n",
        "      # add the starting idiom word (marked with \"B\" in the IOB tags)\n",
        "      if IOB_source[i] == \"B\":\n",
        "        # if a margin is requested, get those words from the left of the starting idiom word\n",
        "        if margin is not None:\n",
        "          for m in range(margin):\n",
        "            generatedPhrase.append(generated[i-(m+1)])\n",
        "        # add corresponding word at location [i] from each sentence to respective subphrase list\n",
        "        sourcePhrase.append(source[i])\n",
        "        generatedPhrase.append(generated[i])\n",
        "      # do the same for each word marked as \"I\" (non starting idiom word)\n",
        "      if IOB_source[i] == \"I\":\n",
        "        sourcePhrase.append(source[i])\n",
        "        generatedPhrase.append(generated[i])\n",
        "        # if a margin is requested, get those words from the right of the final idiom word\n",
        "        if i == last_idiom and margin is not None:\n",
        "          for m in range(margin):\n",
        "            generatedPhrase.append(generated[i+(m+1)])\n",
        "    except Exception as e:\n",
        "      if verbose:\n",
        "        print(e, f\" - source, i = {i}\")\n",
        "  \n",
        "  # Remove stopwords if requested\n",
        "  if remove_stopwords:\n",
        "    # loop over each word in the nltk stopword list, and check if its in our generated subphrases\n",
        "    for sw in sw_nltk:\n",
        "      for s in sourcePhrase:\n",
        "        if s == sw:\n",
        "          sourcePhrase.remove(s)\n",
        "      for g in generatedPhrase:\n",
        "        if g == sw:\n",
        "          generatedPhrase.remove(g)\n",
        "  # Turn the lists into strings, separated by spaces\n",
        "  sourcePhrase = ' '.join(sourcePhrase)\n",
        "  generatedPhrase = ' '.join(generatedPhrase)\n",
        "\n",
        "  return sourcePhrase, targetPhrase, generatedPhrase"
      ],
      "metadata": {
        "id": "m4yRNm0Nkuap"
      },
      "execution_count": null,
      "outputs": []
    },
    {
      "cell_type": "markdown",
      "source": [
        "## 2.3 FUNC: Turn database of strings to a list of lists of strings (necessary for BLEU, IdiomScore)"
      ],
      "metadata": {
        "id": "8DXDkpF21WG8"
      }
    },
    {
      "cell_type": "code",
      "source": [
        "def dfStringsToLists(sr, preds=True):\n",
        "  ''' Function (created for Bleu metric) that turns a database of strings, into a list of lists of strings, for each word\n",
        "      For predictions:\n",
        "      i.e. if df[0] = 'This is a sentence', then it returns ['This','is','a','sentence']\n",
        "      References for bleu require another wrapping of lists:\n",
        "      i.e. if df[0] = 'This is a sentence', then it returns [['This','is','a','sentence']]\n",
        "\n",
        "      Parameters:\n",
        "      sr:     pd Series to turn into a frame, then isolate then values\n",
        "      preds:  Boolean value, determines whether to add another list wrapper to element\n",
        "  '''\n",
        "  df = sr.copy().to_frame()\n",
        "  df = df.values[:,0].tolist()\n",
        "\n",
        "  for i in range(len(df)):\n",
        "    try:\n",
        "      df[i] = df[i].split(\" \")\n",
        "    except:\n",
        "      df[i] = [\"\"]\n",
        "    if not preds:     # references need to be encased in another list\n",
        "      df[i] = [df[i]]\n",
        "  \n",
        "\n",
        "  return df"
      ],
      "metadata": {
        "id": "OzepWMJ07Rvj"
      },
      "execution_count": null,
      "outputs": []
    },
    {
      "cell_type": "markdown",
      "source": [
        "# 3 - Get the Scores"
      ],
      "metadata": {
        "id": "2seH0-RHvBkN"
      }
    },
    {
      "cell_type": "markdown",
      "source": [
        "## 3.1 Balanced Idiom Paraphrase Metric"
      ],
      "metadata": {
        "id": "F9IytoKnoAkE"
      }
    },
    {
      "cell_type": "markdown",
      "source": [
        "### Create the dataframe of phrases"
      ],
      "metadata": {
        "id": "0WfZIDwXBZPa"
      }
    },
    {
      "cell_type": "code",
      "source": [
        "# PARAMETERS:\n",
        "margin = 1 # determines how many extea words to either side of discovered subphrase should be taken.\n",
        "remove_stopwords = True\n",
        "\n",
        "# create a new dataframe to store the values in\n",
        "df_phrases = pd.DataFrame(columns=['Source Phrase', 'Prediction Phrase', 'Reference Phrase', 'Source Full',  'Prediction Full', 'Reference Full'])\n",
        "# loop over the generated, input and target sentences & IOB tags, split them on whitespace to count the words\n",
        "for j, pred in enumerate(predictions):\n",
        "  pred = pred.split(' ')\n",
        "  source = sources[j].split(' ')\n",
        "  reference = references[j].split(' ')\n",
        "  input_IOB = input_IOBs[j].split(' ')\n",
        "  target_IOB = target_IOBs[j].split(' ')\n",
        "  # get the subphrases from the function defined above (SEC 2.2)\n",
        "  sourcePhrase, referencePhrase, predictionPhrase = phrase_from_genSentence_IOB(input_IOB, target_IOB, source, reference, pred, margin=margin, remove_stopwords=remove_stopwords)\n",
        "  df_phrases.loc[j] = {'Source Phrase': sourcePhrase, 'Prediction Phrase': predictionPhrase, 'Reference Phrase': referencePhrase, 'Source Full': sources[j], 'Prediction Full': predictions[j], 'Reference Full': references[j]}"
      ],
      "metadata": {
        "id": "LYcNJVR5vNbk"
      },
      "execution_count": null,
      "outputs": []
    },
    {
      "cell_type": "code",
      "source": [
        "df_phrases.iloc[0]"
      ],
      "metadata": {
        "colab": {
          "base_uri": "https://localhost:8080/"
        },
        "id": "gcNjK_YZOokB",
        "outputId": "2c42694d-2b17-4d03-cf49-f0354819948e"
      },
      "execution_count": null,
      "outputs": [
        {
          "output_type": "execute_result",
          "data": {
            "text/plain": [
              "Source Phrase                                       give benefit doubt\n",
              "Prediction Phrase                                's doubt assume right\n",
              "Reference Phrase                                    regard as innocent\n",
              "Source Full          Let 's give her the benefit of the doubt and a...\n",
              "Prediction Full        Let 's doubt her and assume that she is right .\n",
              "Reference Full       Let 's regard her as innocent and assume that ...\n",
              "Name: 0, dtype: object"
            ]
          },
          "metadata": {},
          "execution_count": 102
        }
      ]
    },
    {
      "cell_type": "code",
      "source": [
        "df_phrases"
      ],
      "metadata": {
        "colab": {
          "base_uri": "https://localhost:8080/",
          "height": 658
        },
        "id": "ewbrdvZzJiY_",
        "outputId": "7916eef9-29a8-47c8-84b7-5e942943f71e"
      },
      "execution_count": null,
      "outputs": [
        {
          "output_type": "execute_result",
          "data": {
            "text/plain": [
              "          Source Phrase                  Prediction Phrase  \\\n",
              "0    give benefit doubt              's doubt assume right   \n",
              "1       ballpark figure                     estimated cost   \n",
              "2          bottom heart                                  .   \n",
              "3         turning point                  The boiling point   \n",
              "4             goes mile                            teacher   \n",
              "..                  ...                                ...   \n",
              "818       stands reason             company agrees project   \n",
              "819                                                    eat   \n",
              "820                fast                               fast   \n",
              "821              caught                    obsessed beauty   \n",
              "822            kept eye  always watched top trouble makers   \n",
              "\n",
              "       Reference Phrase                                        Source Full  \\\n",
              "0    regard as innocent  Let 's give her the benefit of the doubt and a...   \n",
              "1        rough estimate  The management was given a ballpark figure at ...   \n",
              "2       sincere feeling  I am really happy with the new job and I mean ...   \n",
              "3    significant change  The turning point in the story came when the p...   \n",
              "4       makes an effort  When it comes to weaker students , the teacher...   \n",
              "..                  ...                                                ...   \n",
              "818             reasons  The company stands to reason that the project ...   \n",
              "819                 all  Is the food ready yet? I am hungry and ready t...   \n",
              "820                junk  Nina loves French fries and other fast food . ...   \n",
              "821     fascinated with  I was so caught up in the beauty of the art wo...   \n",
              "822       watch out for  The cops always kept an eye on the top trouble...   \n",
              "\n",
              "                                       Prediction Full  \\\n",
              "0      Let 's doubt her and assume that she is right .   \n",
              "1    The management was given an estimated cost at ...   \n",
              "2    I am really happy with the new job and I mean ...   \n",
              "3    The boiling point in the story came when the p...   \n",
              "4    When it comes to weaker students , the teacher...   \n",
              "..                                                 ...   \n",
              "818  The company agrees that the project will take ...   \n",
              "819  Is the food ready yet? I am hungry and ready t...   \n",
              "820      Nina loves French fries and other fast food .   \n",
              "821  I was so obsessed with the beauty of the art w...   \n",
              "822  The cops always watched the top trouble makers...   \n",
              "\n",
              "                                        Reference Full  \n",
              "0    Let 's regard her as innocent and assume that ...  \n",
              "1    The management was given a rough estimate at t...  \n",
              "2    I am really happy with the new job and I mean ...  \n",
              "3    The significant change in the story came when ...  \n",
              "4    When it comes to weaker students , the teacher...  \n",
              "..                                                 ...  \n",
              "818  The company reasons that the project will take...  \n",
              "819  Is the food ready yet? I am hungry and ready t...  \n",
              "820      Nina loves French fries and other junk food .  \n",
              "821  I was so fascinated with the beauty of the art...  \n",
              "822  The cops always watch out for the top trouble ...  \n",
              "\n",
              "[823 rows x 6 columns]"
            ],
            "text/html": [
              "\n",
              "  <div id=\"df-7cb02310-e7f2-4514-a1c6-bf1e4b0f43f8\">\n",
              "    <div class=\"colab-df-container\">\n",
              "      <div>\n",
              "<style scoped>\n",
              "    .dataframe tbody tr th:only-of-type {\n",
              "        vertical-align: middle;\n",
              "    }\n",
              "\n",
              "    .dataframe tbody tr th {\n",
              "        vertical-align: top;\n",
              "    }\n",
              "\n",
              "    .dataframe thead th {\n",
              "        text-align: right;\n",
              "    }\n",
              "</style>\n",
              "<table border=\"1\" class=\"dataframe\">\n",
              "  <thead>\n",
              "    <tr style=\"text-align: right;\">\n",
              "      <th></th>\n",
              "      <th>Source Phrase</th>\n",
              "      <th>Prediction Phrase</th>\n",
              "      <th>Reference Phrase</th>\n",
              "      <th>Source Full</th>\n",
              "      <th>Prediction Full</th>\n",
              "      <th>Reference Full</th>\n",
              "    </tr>\n",
              "  </thead>\n",
              "  <tbody>\n",
              "    <tr>\n",
              "      <th>0</th>\n",
              "      <td>give benefit doubt</td>\n",
              "      <td>'s doubt assume right</td>\n",
              "      <td>regard as innocent</td>\n",
              "      <td>Let 's give her the benefit of the doubt and a...</td>\n",
              "      <td>Let 's doubt her and assume that she is right .</td>\n",
              "      <td>Let 's regard her as innocent and assume that ...</td>\n",
              "    </tr>\n",
              "    <tr>\n",
              "      <th>1</th>\n",
              "      <td>ballpark figure</td>\n",
              "      <td>estimated cost</td>\n",
              "      <td>rough estimate</td>\n",
              "      <td>The management was given a ballpark figure at ...</td>\n",
              "      <td>The management was given an estimated cost at ...</td>\n",
              "      <td>The management was given a rough estimate at t...</td>\n",
              "    </tr>\n",
              "    <tr>\n",
              "      <th>2</th>\n",
              "      <td>bottom heart</td>\n",
              "      <td>.</td>\n",
              "      <td>sincere feeling</td>\n",
              "      <td>I am really happy with the new job and I mean ...</td>\n",
              "      <td>I am really happy with the new job and I mean ...</td>\n",
              "      <td>I am really happy with the new job and I mean ...</td>\n",
              "    </tr>\n",
              "    <tr>\n",
              "      <th>3</th>\n",
              "      <td>turning point</td>\n",
              "      <td>The boiling point</td>\n",
              "      <td>significant change</td>\n",
              "      <td>The turning point in the story came when the p...</td>\n",
              "      <td>The boiling point in the story came when the p...</td>\n",
              "      <td>The significant change in the story came when ...</td>\n",
              "    </tr>\n",
              "    <tr>\n",
              "      <th>4</th>\n",
              "      <td>goes mile</td>\n",
              "      <td>teacher</td>\n",
              "      <td>makes an effort</td>\n",
              "      <td>When it comes to weaker students , the teacher...</td>\n",
              "      <td>When it comes to weaker students , the teacher...</td>\n",
              "      <td>When it comes to weaker students , the teacher...</td>\n",
              "    </tr>\n",
              "    <tr>\n",
              "      <th>...</th>\n",
              "      <td>...</td>\n",
              "      <td>...</td>\n",
              "      <td>...</td>\n",
              "      <td>...</td>\n",
              "      <td>...</td>\n",
              "      <td>...</td>\n",
              "    </tr>\n",
              "    <tr>\n",
              "      <th>818</th>\n",
              "      <td>stands reason</td>\n",
              "      <td>company agrees project</td>\n",
              "      <td>reasons</td>\n",
              "      <td>The company stands to reason that the project ...</td>\n",
              "      <td>The company agrees that the project will take ...</td>\n",
              "      <td>The company reasons that the project will take...</td>\n",
              "    </tr>\n",
              "    <tr>\n",
              "      <th>819</th>\n",
              "      <td></td>\n",
              "      <td>eat</td>\n",
              "      <td>all</td>\n",
              "      <td>Is the food ready yet? I am hungry and ready t...</td>\n",
              "      <td>Is the food ready yet? I am hungry and ready t...</td>\n",
              "      <td>Is the food ready yet? I am hungry and ready t...</td>\n",
              "    </tr>\n",
              "    <tr>\n",
              "      <th>820</th>\n",
              "      <td>fast</td>\n",
              "      <td>fast</td>\n",
              "      <td>junk</td>\n",
              "      <td>Nina loves French fries and other fast food . ...</td>\n",
              "      <td>Nina loves French fries and other fast food .</td>\n",
              "      <td>Nina loves French fries and other junk food .</td>\n",
              "    </tr>\n",
              "    <tr>\n",
              "      <th>821</th>\n",
              "      <td>caught</td>\n",
              "      <td>obsessed beauty</td>\n",
              "      <td>fascinated with</td>\n",
              "      <td>I was so caught up in the beauty of the art wo...</td>\n",
              "      <td>I was so obsessed with the beauty of the art w...</td>\n",
              "      <td>I was so fascinated with the beauty of the art...</td>\n",
              "    </tr>\n",
              "    <tr>\n",
              "      <th>822</th>\n",
              "      <td>kept eye</td>\n",
              "      <td>always watched top trouble makers</td>\n",
              "      <td>watch out for</td>\n",
              "      <td>The cops always kept an eye on the top trouble...</td>\n",
              "      <td>The cops always watched the top trouble makers...</td>\n",
              "      <td>The cops always watch out for the top trouble ...</td>\n",
              "    </tr>\n",
              "  </tbody>\n",
              "</table>\n",
              "<p>823 rows × 6 columns</p>\n",
              "</div>\n",
              "      <button class=\"colab-df-convert\" onclick=\"convertToInteractive('df-7cb02310-e7f2-4514-a1c6-bf1e4b0f43f8')\"\n",
              "              title=\"Convert this dataframe to an interactive table.\"\n",
              "              style=\"display:none;\">\n",
              "        \n",
              "  <svg xmlns=\"http://www.w3.org/2000/svg\" height=\"24px\"viewBox=\"0 0 24 24\"\n",
              "       width=\"24px\">\n",
              "    <path d=\"M0 0h24v24H0V0z\" fill=\"none\"/>\n",
              "    <path d=\"M18.56 5.44l.94 2.06.94-2.06 2.06-.94-2.06-.94-.94-2.06-.94 2.06-2.06.94zm-11 1L8.5 8.5l.94-2.06 2.06-.94-2.06-.94L8.5 2.5l-.94 2.06-2.06.94zm10 10l.94 2.06.94-2.06 2.06-.94-2.06-.94-.94-2.06-.94 2.06-2.06.94z\"/><path d=\"M17.41 7.96l-1.37-1.37c-.4-.4-.92-.59-1.43-.59-.52 0-1.04.2-1.43.59L10.3 9.45l-7.72 7.72c-.78.78-.78 2.05 0 2.83L4 21.41c.39.39.9.59 1.41.59.51 0 1.02-.2 1.41-.59l7.78-7.78 2.81-2.81c.8-.78.8-2.07 0-2.86zM5.41 20L4 18.59l7.72-7.72 1.47 1.35L5.41 20z\"/>\n",
              "  </svg>\n",
              "      </button>\n",
              "      \n",
              "  <style>\n",
              "    .colab-df-container {\n",
              "      display:flex;\n",
              "      flex-wrap:wrap;\n",
              "      gap: 12px;\n",
              "    }\n",
              "\n",
              "    .colab-df-convert {\n",
              "      background-color: #E8F0FE;\n",
              "      border: none;\n",
              "      border-radius: 50%;\n",
              "      cursor: pointer;\n",
              "      display: none;\n",
              "      fill: #1967D2;\n",
              "      height: 32px;\n",
              "      padding: 0 0 0 0;\n",
              "      width: 32px;\n",
              "    }\n",
              "\n",
              "    .colab-df-convert:hover {\n",
              "      background-color: #E2EBFA;\n",
              "      box-shadow: 0px 1px 2px rgba(60, 64, 67, 0.3), 0px 1px 3px 1px rgba(60, 64, 67, 0.15);\n",
              "      fill: #174EA6;\n",
              "    }\n",
              "\n",
              "    [theme=dark] .colab-df-convert {\n",
              "      background-color: #3B4455;\n",
              "      fill: #D2E3FC;\n",
              "    }\n",
              "\n",
              "    [theme=dark] .colab-df-convert:hover {\n",
              "      background-color: #434B5C;\n",
              "      box-shadow: 0px 1px 3px 1px rgba(0, 0, 0, 0.15);\n",
              "      filter: drop-shadow(0px 1px 2px rgba(0, 0, 0, 0.3));\n",
              "      fill: #FFFFFF;\n",
              "    }\n",
              "  </style>\n",
              "\n",
              "      <script>\n",
              "        const buttonEl =\n",
              "          document.querySelector('#df-7cb02310-e7f2-4514-a1c6-bf1e4b0f43f8 button.colab-df-convert');\n",
              "        buttonEl.style.display =\n",
              "          google.colab.kernel.accessAllowed ? 'block' : 'none';\n",
              "\n",
              "        async function convertToInteractive(key) {\n",
              "          const element = document.querySelector('#df-7cb02310-e7f2-4514-a1c6-bf1e4b0f43f8');\n",
              "          const dataTable =\n",
              "            await google.colab.kernel.invokeFunction('convertToInteractive',\n",
              "                                                     [key], {});\n",
              "          if (!dataTable) return;\n",
              "\n",
              "          const docLinkHtml = 'Like what you see? Visit the ' +\n",
              "            '<a target=\"_blank\" href=https://colab.research.google.com/notebooks/data_table.ipynb>data table notebook</a>'\n",
              "            + ' to learn more about interactive tables.';\n",
              "          element.innerHTML = '';\n",
              "          dataTable['output_type'] = 'display_data';\n",
              "          await google.colab.output.renderOutput(dataTable, element);\n",
              "          const docLink = document.createElement('div');\n",
              "          docLink.innerHTML = docLinkHtml;\n",
              "          element.appendChild(docLink);\n",
              "        }\n",
              "      </script>\n",
              "    </div>\n",
              "  </div>\n",
              "  "
            ]
          },
          "metadata": {},
          "execution_count": 103
        }
      ]
    },
    {
      "cell_type": "markdown",
      "source": [
        "### Do the actual evaluation"
      ],
      "metadata": {
        "id": "IRhNOJbgBcxc"
      }
    },
    {
      "cell_type": "markdown",
      "source": [
        "Setting up BLEURT"
      ],
      "metadata": {
        "id": "BhQikFIJ5Q5J"
      }
    },
    {
      "cell_type": "code",
      "source": [
        "# (!) Only if using BLEURT instead of BLEU (not really recommended)\n",
        "\n",
        "from bleurt import score\n",
        "checkpoint = \"bleurt/test_checkpoint\"\n",
        "scorer = score.BleurtScorer(checkpoint)"
      ],
      "metadata": {
        "colab": {
          "base_uri": "https://localhost:8080/",
          "height": 374
        },
        "id": "vHH_gWoJ3iOk",
        "outputId": "8223b16e-0bbe-44b8-cde3-751a3db36bf7"
      },
      "execution_count": null,
      "outputs": [
        {
          "output_type": "error",
          "ename": "ModuleNotFoundError",
          "evalue": "ignored",
          "traceback": [
            "\u001b[0;31m---------------------------------------------------------------------------\u001b[0m",
            "\u001b[0;31mModuleNotFoundError\u001b[0m                       Traceback (most recent call last)",
            "\u001b[0;32m<ipython-input-25-e27b2ad9da3d>\u001b[0m in \u001b[0;36m<module>\u001b[0;34m()\u001b[0m\n\u001b[1;32m      1\u001b[0m \u001b[0;31m# (!) Only if using BLEURT instead of BLEU (not really recommended)\u001b[0m\u001b[0;34m\u001b[0m\u001b[0;34m\u001b[0m\u001b[0;34m\u001b[0m\u001b[0m\n\u001b[1;32m      2\u001b[0m \u001b[0;34m\u001b[0m\u001b[0m\n\u001b[0;32m----> 3\u001b[0;31m \u001b[0;32mfrom\u001b[0m \u001b[0mbleurt\u001b[0m \u001b[0;32mimport\u001b[0m \u001b[0mscore\u001b[0m\u001b[0;34m\u001b[0m\u001b[0;34m\u001b[0m\u001b[0m\n\u001b[0m\u001b[1;32m      4\u001b[0m \u001b[0mcheckpoint\u001b[0m \u001b[0;34m=\u001b[0m \u001b[0;34m\"bleurt/test_checkpoint\"\u001b[0m\u001b[0;34m\u001b[0m\u001b[0;34m\u001b[0m\u001b[0m\n\u001b[1;32m      5\u001b[0m \u001b[0mscorer\u001b[0m \u001b[0;34m=\u001b[0m \u001b[0mscore\u001b[0m\u001b[0;34m.\u001b[0m\u001b[0mBleurtScorer\u001b[0m\u001b[0;34m(\u001b[0m\u001b[0mcheckpoint\u001b[0m\u001b[0;34m)\u001b[0m\u001b[0;34m\u001b[0m\u001b[0;34m\u001b[0m\u001b[0m\n",
            "\u001b[0;31mModuleNotFoundError\u001b[0m: No module named 'bleurt'",
            "",
            "\u001b[0;31m---------------------------------------------------------------------------\u001b[0;32m\nNOTE: If your import is failing due to a missing package, you can\nmanually install dependencies using either !pip or !apt.\n\nTo view examples of installing some common dependencies, click the\n\"Open Examples\" button below.\n\u001b[0;31m---------------------------------------------------------------------------\u001b[0m\n"
          ],
          "errorDetails": {
            "actions": [
              {
                "action": "open_url",
                "actionText": "Open Examples",
                "url": "/notebooks/snippets/importing_libraries.ipynb"
              }
            ]
          }
        }
      ]
    },
    {
      "cell_type": "code",
      "source": [
        "# Negative score of syntactic similarity of sourcePhrase with generatedPhrase (BLEU) (beta)\n",
        "# Positive socre of semantic similarity of generatedSentence with targetSentence (METEOR) (alpha)\n",
        "\n",
        "# Score version one = alpha - beta\n",
        "\n",
        "# TODO: Make this function run for each sentence, store the scores for each in new column\n",
        "\n",
        "def balancedIdiomParaphraseMetric(sourcePhrases, \n",
        "                                  generatedPhrases, \n",
        "                                  generatedSentences, \n",
        "                                  targetSentences,\n",
        "                                  useBLEU = True,\n",
        "                                  useBLEURT = False, \n",
        "                                  alpha = 1, \n",
        "                                  beta = 1):\n",
        "  '''\n",
        "  sourcePhrases: df of idiomatic subphrase isolated from source sentence (FUNC 2.2)\n",
        "  generatedPhrases: df of paraphrased idiomatic subphrases isolated from generated sentence (FUNC 2.2)\n",
        "  generatedSentences: df of the predictions the model generated\n",
        "  targetSentences: df of the reference sentences\n",
        "  useBLEU: boolean to use BLEU for syntactic similarity of subphrases (instead of BLEURT)\n",
        "  useBLEURT: boolean to use BLEURT for syntactic similarity of subphrases (instead of BLEU)\n",
        "  alpha: weight to apply to the meteor (semantic similarity) score (not currently used)\n",
        "  beta: weight to apply to the bleu (syntactic (dis)similarity) score (not currently used)\n",
        "  '''\n",
        "  assert useBLEU or useBLEURT, f\"Please set either useBLEU or useBLEURT to True - Currently set to: useBLEU == {useBLEU}, useBLEURT == {useBLEURT}\"\n",
        "  assert (not useBLEU) or (not useBLEURT), f\"Please set either useBLEU or useBLEURT to True - Currently set to: useBLEU == {useBLEU}, useBLEURT == {useBLEURT}\"\n",
        "  \n",
        "  # Score 1 = semantic similarity of generated and target sentences\n",
        "  meteorScore = meteor.compute(predictions=generatedSentences, references=targetSentences)\n",
        "  semanticSimScore = alpha * meteorScore['meteor']\n",
        "\n",
        "  # Score 2 = syntactic (dis)similarity of source and target idiom subphrases\n",
        "\n",
        "  # First change the strings to lists (necessary for BLEU)\n",
        "  syntacticDissimScore = 0\n",
        "  if useBLEU:\n",
        "    genPhraseAsLists = dfStringsToLists(generatedPhrases, preds=True)\n",
        "    sourcePhrasesAsLists = dfStringsToLists(sourcePhrases, preds=False)\n",
        "\n",
        "    bleuScore = bleu.compute(predictions=genPhraseAsLists, references=sourcePhrasesAsLists)\n",
        "    syntacticDissimScore = beta * (sum(bleuScore['precisions']) / len(bleuScore['precisions']))\n",
        "  else: # using BLEURT\n",
        "    scores = scorer.score(references=sourcePhrases, candidates=generatedPhrases)\n",
        "    syntacticDissimScore = sum(scores) / len(scores)\n",
        "\n",
        "  return { 'semantic': semanticSimScore, 'syntactic': syntacticDissimScore, 'idiom_score': semanticSimScore - syntacticDissimScore}\n",
        "  "
      ],
      "metadata": {
        "id": "Sexem382o_ZB"
      },
      "execution_count": null,
      "outputs": []
    },
    {
      "cell_type": "code",
      "source": [
        "# Choose ONE of the following\n",
        "useBLEU = True\n",
        "useBLEURT = False"
      ],
      "metadata": {
        "id": "_a4EI2WG7tbX"
      },
      "execution_count": null,
      "outputs": []
    },
    {
      "cell_type": "code",
      "source": [
        "idiomScore = balancedIdiomParaphraseMetric(df_phrases[\"Source Phrase\"], df_phrases[\"Prediction Phrase\"], predictions, references, useBLEU=useBLEU, useBLEURT=useBLEURT)\n",
        "\n",
        "print(idiomScore)"
      ],
      "metadata": {
        "colab": {
          "base_uri": "https://localhost:8080/"
        },
        "id": "DPRIWxTJwiLg",
        "outputId": "c78ef048-0750-409b-f2d4-0dd7bc85d28e"
      },
      "execution_count": null,
      "outputs": [
        {
          "output_type": "stream",
          "name": "stdout",
          "text": [
            "{'semantic': 0.8518524816291221, 'syntactic': 0.02804203843956168, 'idiom_score': 0.8238104431895604}\n"
          ]
        }
      ]
    },
    {
      "cell_type": "markdown",
      "source": [
        "### Get the score for each individual sentence, store it in a csv"
      ],
      "metadata": {
        "id": "nUcC7DJ-yz5x"
      }
    },
    {
      "cell_type": "code",
      "source": [
        "df_scores = pd.DataFrame(columns=['Semantic Score', 'Syntactic Score', 'Idiom Score'])\n",
        "\n",
        "for i, _ in enumerate(df_phrases['Prediction Phrase']):\n",
        "  # isolating the specific row\n",
        "  phrase_i = df_phrases.loc[i]\n",
        "  # isolating the sentences, then putting them in [] to make them be elements in an array (necessary for metrics)\n",
        "  idiomScore = balancedIdiomParaphraseMetric(pd.Series(phrase_i[\"Source Phrase\"]), pd.Series(phrase_i[\"Prediction Phrase\"]), pd.Series(predictions[i]), pd.Series(references[i]),  useBLEU=useBLEU, useBLEURT=useBLEURT)\n",
        "  # adding to a new data frame\n",
        "  df_scores.loc[i] = {'Semantic Score': str(idiomScore['semantic']), 'Syntactic Score': str(idiomScore['syntactic']), 'Idiom Score': str(idiomScore['idiom_score']) }\n",
        "\n",
        "# joining both dataframes to a new one\n",
        "df_phrases_scores = df_phrases.join(df_scores)"
      ],
      "metadata": {
        "id": "Yro6a9Clrcpg"
      },
      "execution_count": null,
      "outputs": []
    },
    {
      "cell_type": "code",
      "source": [
        "df_phrases_scores.head()"
      ],
      "metadata": {
        "colab": {
          "base_uri": "https://localhost:8080/",
          "height": 736
        },
        "id": "ivRKSAU0yLww",
        "outputId": "13cf8a89-2ceb-4442-d7eb-dadf92522a7d"
      },
      "execution_count": null,
      "outputs": [
        {
          "output_type": "execute_result",
          "data": {
            "text/plain": [
              "        Source Phrase          Prediction Phrase Reference Phrase  \\\n",
              "0  give benefit doubt         give benefit prove                    \n",
              "1     ballpark amount                 father sum      an estimate   \n",
              "2        bottom heart                 feelings .        genuinely   \n",
              "3      turning points  many positive experiences          changes   \n",
              "4       go extra mile     They make every effort  special efforts   \n",
              "\n",
              "                                         Source Full  \\\n",
              "0  I don 't believe that he didn 't take the mone...   \n",
              "1  She manages to give her father a ballpark amou...   \n",
              "2  It was really good to have you here and I woul...   \n",
              "3  I have seen many turning points in my life and...   \n",
              "4  I love staying at that hotel and They go the e...   \n",
              "\n",
              "                                     Prediction Full  \\\n",
              "0  I don 't believe that he didn 't take the mone...   \n",
              "1  She manages to give her father a sum that she ...   \n",
              "2  It was really good to have you here and I woul...   \n",
              "3  I have seen many positive experiences in my li...   \n",
              "4  I love staying at that hotel and They make eve...   \n",
              "\n",
              "                                      Reference Full      Semantic Score  \\\n",
              "0  I don 't believe that he didn 't take the mone...  0.9330026360786549   \n",
              "1  She manages to give her father an estimate tha...  0.8650887573964497   \n",
              "2  It was really good to have you here and I woul...  0.7748538011695907   \n",
              "3  I have seen many changes in my life and don 't...  0.9558986277113768   \n",
              "4  I love staying at that hotel and They make spe...  0.9160383357558138   \n",
              "\n",
              "       Syntactic Score         Idiom Score  \n",
              "0  0.29166666666666663  0.6413359694119882  \n",
              "1                  0.0  0.8650887573964497  \n",
              "2                  0.0  0.7748538011695907  \n",
              "3                  0.0  0.9558986277113768  \n",
              "4                  0.0  0.9160383357558138  "
            ],
            "text/html": [
              "\n",
              "  <div id=\"df-32823fc6-3a3e-4ffd-b4d5-f2debded65af\">\n",
              "    <div class=\"colab-df-container\">\n",
              "      <div>\n",
              "<style scoped>\n",
              "    .dataframe tbody tr th:only-of-type {\n",
              "        vertical-align: middle;\n",
              "    }\n",
              "\n",
              "    .dataframe tbody tr th {\n",
              "        vertical-align: top;\n",
              "    }\n",
              "\n",
              "    .dataframe thead th {\n",
              "        text-align: right;\n",
              "    }\n",
              "</style>\n",
              "<table border=\"1\" class=\"dataframe\">\n",
              "  <thead>\n",
              "    <tr style=\"text-align: right;\">\n",
              "      <th></th>\n",
              "      <th>Source Phrase</th>\n",
              "      <th>Prediction Phrase</th>\n",
              "      <th>Reference Phrase</th>\n",
              "      <th>Source Full</th>\n",
              "      <th>Prediction Full</th>\n",
              "      <th>Reference Full</th>\n",
              "      <th>Semantic Score</th>\n",
              "      <th>Syntactic Score</th>\n",
              "      <th>Idiom Score</th>\n",
              "    </tr>\n",
              "  </thead>\n",
              "  <tbody>\n",
              "    <tr>\n",
              "      <th>0</th>\n",
              "      <td>give benefit doubt</td>\n",
              "      <td>give benefit prove</td>\n",
              "      <td></td>\n",
              "      <td>I don 't believe that he didn 't take the mone...</td>\n",
              "      <td>I don 't believe that he didn 't take the mone...</td>\n",
              "      <td>I don 't believe that he didn 't take the mone...</td>\n",
              "      <td>0.9330026360786549</td>\n",
              "      <td>0.29166666666666663</td>\n",
              "      <td>0.6413359694119882</td>\n",
              "    </tr>\n",
              "    <tr>\n",
              "      <th>1</th>\n",
              "      <td>ballpark amount</td>\n",
              "      <td>father sum</td>\n",
              "      <td>an estimate</td>\n",
              "      <td>She manages to give her father a ballpark amou...</td>\n",
              "      <td>She manages to give her father a sum that she ...</td>\n",
              "      <td>She manages to give her father an estimate tha...</td>\n",
              "      <td>0.8650887573964497</td>\n",
              "      <td>0.0</td>\n",
              "      <td>0.8650887573964497</td>\n",
              "    </tr>\n",
              "    <tr>\n",
              "      <th>2</th>\n",
              "      <td>bottom heart</td>\n",
              "      <td>feelings .</td>\n",
              "      <td>genuinely</td>\n",
              "      <td>It was really good to have you here and I woul...</td>\n",
              "      <td>It was really good to have you here and I woul...</td>\n",
              "      <td>It was really good to have you here and I woul...</td>\n",
              "      <td>0.7748538011695907</td>\n",
              "      <td>0.0</td>\n",
              "      <td>0.7748538011695907</td>\n",
              "    </tr>\n",
              "    <tr>\n",
              "      <th>3</th>\n",
              "      <td>turning points</td>\n",
              "      <td>many positive experiences</td>\n",
              "      <td>changes</td>\n",
              "      <td>I have seen many turning points in my life and...</td>\n",
              "      <td>I have seen many positive experiences in my li...</td>\n",
              "      <td>I have seen many changes in my life and don 't...</td>\n",
              "      <td>0.9558986277113768</td>\n",
              "      <td>0.0</td>\n",
              "      <td>0.9558986277113768</td>\n",
              "    </tr>\n",
              "    <tr>\n",
              "      <th>4</th>\n",
              "      <td>go extra mile</td>\n",
              "      <td>They make every effort</td>\n",
              "      <td>special efforts</td>\n",
              "      <td>I love staying at that hotel and They go the e...</td>\n",
              "      <td>I love staying at that hotel and They make eve...</td>\n",
              "      <td>I love staying at that hotel and They make spe...</td>\n",
              "      <td>0.9160383357558138</td>\n",
              "      <td>0.0</td>\n",
              "      <td>0.9160383357558138</td>\n",
              "    </tr>\n",
              "  </tbody>\n",
              "</table>\n",
              "</div>\n",
              "      <button class=\"colab-df-convert\" onclick=\"convertToInteractive('df-32823fc6-3a3e-4ffd-b4d5-f2debded65af')\"\n",
              "              title=\"Convert this dataframe to an interactive table.\"\n",
              "              style=\"display:none;\">\n",
              "        \n",
              "  <svg xmlns=\"http://www.w3.org/2000/svg\" height=\"24px\"viewBox=\"0 0 24 24\"\n",
              "       width=\"24px\">\n",
              "    <path d=\"M0 0h24v24H0V0z\" fill=\"none\"/>\n",
              "    <path d=\"M18.56 5.44l.94 2.06.94-2.06 2.06-.94-2.06-.94-.94-2.06-.94 2.06-2.06.94zm-11 1L8.5 8.5l.94-2.06 2.06-.94-2.06-.94L8.5 2.5l-.94 2.06-2.06.94zm10 10l.94 2.06.94-2.06 2.06-.94-2.06-.94-.94-2.06-.94 2.06-2.06.94z\"/><path d=\"M17.41 7.96l-1.37-1.37c-.4-.4-.92-.59-1.43-.59-.52 0-1.04.2-1.43.59L10.3 9.45l-7.72 7.72c-.78.78-.78 2.05 0 2.83L4 21.41c.39.39.9.59 1.41.59.51 0 1.02-.2 1.41-.59l7.78-7.78 2.81-2.81c.8-.78.8-2.07 0-2.86zM5.41 20L4 18.59l7.72-7.72 1.47 1.35L5.41 20z\"/>\n",
              "  </svg>\n",
              "      </button>\n",
              "      \n",
              "  <style>\n",
              "    .colab-df-container {\n",
              "      display:flex;\n",
              "      flex-wrap:wrap;\n",
              "      gap: 12px;\n",
              "    }\n",
              "\n",
              "    .colab-df-convert {\n",
              "      background-color: #E8F0FE;\n",
              "      border: none;\n",
              "      border-radius: 50%;\n",
              "      cursor: pointer;\n",
              "      display: none;\n",
              "      fill: #1967D2;\n",
              "      height: 32px;\n",
              "      padding: 0 0 0 0;\n",
              "      width: 32px;\n",
              "    }\n",
              "\n",
              "    .colab-df-convert:hover {\n",
              "      background-color: #E2EBFA;\n",
              "      box-shadow: 0px 1px 2px rgba(60, 64, 67, 0.3), 0px 1px 3px 1px rgba(60, 64, 67, 0.15);\n",
              "      fill: #174EA6;\n",
              "    }\n",
              "\n",
              "    [theme=dark] .colab-df-convert {\n",
              "      background-color: #3B4455;\n",
              "      fill: #D2E3FC;\n",
              "    }\n",
              "\n",
              "    [theme=dark] .colab-df-convert:hover {\n",
              "      background-color: #434B5C;\n",
              "      box-shadow: 0px 1px 3px 1px rgba(0, 0, 0, 0.15);\n",
              "      filter: drop-shadow(0px 1px 2px rgba(0, 0, 0, 0.3));\n",
              "      fill: #FFFFFF;\n",
              "    }\n",
              "  </style>\n",
              "\n",
              "      <script>\n",
              "        const buttonEl =\n",
              "          document.querySelector('#df-32823fc6-3a3e-4ffd-b4d5-f2debded65af button.colab-df-convert');\n",
              "        buttonEl.style.display =\n",
              "          google.colab.kernel.accessAllowed ? 'block' : 'none';\n",
              "\n",
              "        async function convertToInteractive(key) {\n",
              "          const element = document.querySelector('#df-32823fc6-3a3e-4ffd-b4d5-f2debded65af');\n",
              "          const dataTable =\n",
              "            await google.colab.kernel.invokeFunction('convertToInteractive',\n",
              "                                                     [key], {});\n",
              "          if (!dataTable) return;\n",
              "\n",
              "          const docLinkHtml = 'Like what you see? Visit the ' +\n",
              "            '<a target=\"_blank\" href=https://colab.research.google.com/notebooks/data_table.ipynb>data table notebook</a>'\n",
              "            + ' to learn more about interactive tables.';\n",
              "          element.innerHTML = '';\n",
              "          dataTable['output_type'] = 'display_data';\n",
              "          await google.colab.output.renderOutput(dataTable, element);\n",
              "          const docLink = document.createElement('div');\n",
              "          docLink.innerHTML = docLinkHtml;\n",
              "          element.appendChild(docLink);\n",
              "        }\n",
              "      </script>\n",
              "    </div>\n",
              "  </div>\n",
              "  "
            ]
          },
          "metadata": {},
          "execution_count": 53
        }
      ]
    },
    {
      "cell_type": "code",
      "source": [
        "# Save dataframe of individual scores\n",
        "df_phrases_scores.to_csv(os.path.join(file_path+\"idiom_scores_noSW.csv\"))\n",
        "\n",
        "# Save text file of average score of full data set\n",
        "average_idiom_score_txt = open(file_path+\"average_idiom_score_noSW.txt\", \"w\")\n",
        "average_idiom_score_txt.write(str(idiomScore))\n",
        "average_idiom_score_txt.close()"
      ],
      "metadata": {
        "id": "tBEl6ye7zCEP"
      },
      "execution_count": null,
      "outputs": []
    },
    {
      "cell_type": "markdown",
      "source": [
        "### Correctness Check\n",
        "\n",
        "Checking for correctness of the evaluation metric.\n",
        "\n",
        "METEOR: Comparing reference sentences against themselves (expecting 100%)\n",
        "\n",
        "BLEU: Comparing target subphrases against source subphrases (expecting low, ideally 0%)"
      ],
      "metadata": {
        "id": "2Zrh9PcoVGSh"
      }
    },
    {
      "cell_type": "code",
      "source": [
        "perfectIdiomScore = balancedIdiomParaphraseMetric(df_phrases[\"Source Phrase\"], df_phrases[\"Reference Phrase\"], references, references,  useBLEU=useBLEU, useBLEURT=useBLEURT)\n",
        "\n",
        "print(perfectIdiomScore)"
      ],
      "metadata": {
        "colab": {
          "base_uri": "https://localhost:8080/"
        },
        "id": "SVyjPUIHVF9O",
        "outputId": "5fb6b534-cae8-45e7-c0ae-49c29de22ef1"
      },
      "execution_count": null,
      "outputs": [
        {
          "output_type": "stream",
          "name": "stdout",
          "text": [
            "{'semantic': 0.9998391577628789, 'syntactic': 0.002037392138063279, 'idiom_score': 0.9978017656248156}\n"
          ]
        }
      ]
    },
    {
      "cell_type": "markdown",
      "source": [
        "## 3.2 Other metrics: METEOR, BLEU, COMET, GLUE, ..."
      ],
      "metadata": {
        "id": "dk05lZM7y58p"
      }
    },
    {
      "cell_type": "code",
      "source": [
        "def evaluate_predictions(predictions, references, \n",
        "                         sources=None,\n",
        "                         eval_meteor=True, \n",
        "                         eval_bleu=True,\n",
        "                         eval_comet=False,\n",
        "                         eval_glue=False,\n",
        "                         verbose=True):\n",
        "  ''' Function to evaluate scores based on predictions, reference and source sentences.\n",
        "  Can be expanded to add additional metrics.\n",
        "  Parameters:\n",
        "    predictions:  Predictions generated by the model\n",
        "    references:   Target outputs to compare predictions to\n",
        "    sources:      Source sentences, required for comet\n",
        "    eval_meteor:  Boolean to specify if meteor metric should be evaluated\n",
        "    eval_bleu:    Boolean to specify if bleu metric should be evaluated\n",
        "    eval_comet:   Boolean to specify if comet metric should be evaluated (Doesn't work right now)\n",
        "    eval_glue:    Boolean to specify if glue metric should be evaluated (Doesn't work right now)\n",
        "    verbose:      Whether or not to print the sentences\n",
        "  '''\n",
        "  if eval_comet:\n",
        "    assert sources is not None, \"If using comet, source sentences must be added.\"\n",
        "\n",
        "  evaluations = []\n",
        "\n",
        "  # Evaluate METEOR if specified\n",
        "  if eval_meteor:\n",
        "    meteor_score = meteor.compute(predictions=predictions, references=references)\n",
        "    evaluations.append(('meteor', meteor_score))\n",
        "    if verbose:\n",
        "      print(f\"Meteor score = {meteor_score}\")\n",
        "\n",
        "  # Evaluate BLEU if specified\n",
        "  if eval_bleu:\n",
        "    preds = dfStringsToLists(predictions, preds=True)\n",
        "    refs = dfStringsToLists(references, preds=False)\n",
        "    # print(preds)\n",
        "    # print(refs)\n",
        "    bleu_score = bleu.compute(predictions=preds, references=refs)\n",
        "    evaluations.append(('bleu', bleu_score))\n",
        "    if verbose:\n",
        "      print(f\"Bleu score = {bleu_score}\")\n",
        "      \n",
        "  # Evaluate COMET if specified\n",
        "  if eval_comet:\n",
        "    comet_score = comet.compute(sources=sources, predictions=predictions, references=references)\n",
        "    evaluations.append(('comet', comet_score))\n",
        "    if verbose:\n",
        "      print(f\"Comet score = {comet_score}\")\n",
        "    \n",
        "  # Evaluate GLUE if specified\n",
        "  if eval_glue:\n",
        "    glue_score = glue.compute(predictions=preds, references=refs)\n",
        "    evaluations.append(('glue', glue_score))\n",
        "    if verbose:\n",
        "      print(f\"Glue score = {glue_score}\")\n",
        "\n",
        "  return evaluations"
      ],
      "metadata": {
        "id": "TzJLkffvxRWT"
      },
      "execution_count": null,
      "outputs": []
    },
    {
      "cell_type": "code",
      "source": [
        "eval_meteor = True\n",
        "eval_bleu   = True\n",
        "eval_comet  = True #doesn't currently work\n",
        "eval_glue   = False #doesn't currently work\n",
        "\n",
        "evals = evaluate_predictions(predictions, references, sources, eval_meteor=eval_meteor, eval_bleu=eval_bleu, eval_comet=eval_comet, eval_glue=eval_glue)"
      ],
      "metadata": {
        "id": "Wk4yfcquv9EV",
        "colab": {
          "base_uri": "https://localhost:8080/"
        },
        "outputId": "0d89a971-8955-451f-c8f6-3af13534d60a"
      },
      "execution_count": null,
      "outputs": [
        {
          "output_type": "stream",
          "name": "stdout",
          "text": [
            "Meteor score = {'meteor': 0.8518524816291221}\n",
            "Bleu score = {'bleu': 0.7677906488072811, 'precisions': [0.8775676778669569, 0.807911232797752, 0.7575061274509803, 0.7101520353114271], 'brevity_penalty': 0.9770063365827409, 'length_ratio': 0.9772666843924488, 'translation_length': 14702, 'reference_length': 15044}\n"
          ]
        }
      ]
    },
    {
      "cell_type": "code",
      "source": [
        ""
      ],
      "metadata": {
        "id": "JFf6XbTrDBo5"
      },
      "execution_count": null,
      "outputs": []
    }
  ]
}