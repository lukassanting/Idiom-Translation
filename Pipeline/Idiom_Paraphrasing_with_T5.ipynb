{
  "cells": [
    {
      "cell_type": "markdown",
      "metadata": {
        "id": "rEADq27OKFe6"
      },
      "source": [
        "# Fine-Tuning T5 for Idiom Paraphrasing\n",
        "This code is an adapted version of the code found in:\n",
        "https://shivanandroy.com/fine-tune-t5-transformer-with-pytorch/"
      ]
    },
    {
      "cell_type": "markdown",
      "metadata": {
        "id": "v9dFeYBSZJJb"
      },
      "source": [
        "#0. Installs, Imports, Setup\n"
      ]
    },
    {
      "cell_type": "markdown",
      "metadata": {
        "id": "I8njKcE7c2F4"
      },
      "source": [
        "##0.1 Import Libraries & Packages"
      ]
    },
    {
      "cell_type": "code",
      "execution_count": null,
      "metadata": {
        "colab": {
          "base_uri": "https://localhost:8080/"
        },
        "id": "dEFESOlJb8yT",
        "outputId": "b02859d5-c254-4882-e940-e4a7f8d716c3"
      },
      "outputs": [
        {
          "output_type": "stream",
          "name": "stdout",
          "text": [
            "\u001b[K     |████████████████████████████████| 1.2 MB 10.0 MB/s \n",
            "\u001b[K     |████████████████████████████████| 4.2 MB 7.1 MB/s \n",
            "\u001b[K     |████████████████████████████████| 596 kB 64.5 MB/s \n",
            "\u001b[K     |████████████████████████████████| 6.6 MB 52.6 MB/s \n",
            "\u001b[K     |████████████████████████████████| 86 kB 4.9 MB/s \n",
            "\u001b[K     |████████████████████████████████| 232 kB 8.7 MB/s \n",
            "\u001b[K     |████████████████████████████████| 51 kB 8.0 MB/s \n",
            "\u001b[K     |████████████████████████████████| 1.5 MB 7.6 MB/s \n",
            "\u001b[K     |████████████████████████████████| 749 kB 54.1 MB/s \n",
            "\u001b[K     |████████████████████████████████| 346 kB 3.9 MB/s \n",
            "\u001b[K     |████████████████████████████████| 1.1 MB 10.7 MB/s \n",
            "\u001b[K     |████████████████████████████████| 212 kB 25.8 MB/s \n",
            "\u001b[K     |████████████████████████████████| 86 kB 6.3 MB/s \n",
            "\u001b[K     |████████████████████████████████| 140 kB 30.5 MB/s \n",
            "\u001b[K     |████████████████████████████████| 127 kB 34.3 MB/s \n",
            "\u001b[K     |████████████████████████████████| 271 kB 37.2 MB/s \n",
            "\u001b[K     |████████████████████████████████| 144 kB 41.5 MB/s \n",
            "\u001b[K     |████████████████████████████████| 94 kB 2.7 MB/s \n",
            "\u001b[K     |████████████████████████████████| 112 kB 42.0 MB/s \n",
            "\u001b[31mERROR: pip's dependency resolver does not currently take into account all the packages that are installed. This behaviour is the source of the following dependency conflicts.\n",
            "datascience 0.10.6 requires folium==0.2.1, but you have folium 0.8.3 which is incompatible.\u001b[0m\n",
            "\u001b[?25h"
          ]
        }
      ],
      "source": [
        "!pip install sentencepiece -q\n",
        "!pip install transformers -q\n",
        "!pip install torch -q\n",
        "!pip install rich[jupyter] -q\n",
        "\n",
        "!pip install -U nltk -q\n",
        "!pip install datasets -q\n"
      ]
    },
    {
      "cell_type": "code",
      "execution_count": null,
      "metadata": {
        "colab": {
          "base_uri": "https://localhost:8080/",
          "height": 170,
          "referenced_widgets": [
            "0b7ba2541afe4412a38a91103983b6bf",
            "0a9c842f1a894a16b34808f5e2e72a5e",
            "f36c9a09577d47c4a4fdaa31867cba23",
            "b857de01a2a24428bd259d58c1211814",
            "79e042481cfb42d88904f12dff271b8d",
            "a75077c1398f40a4b59992a10eefcdd2",
            "4d47f028173049adb6df200751787fca",
            "21bed6f0822e435db467acb0910324bf",
            "c73b5bef2d134534a553729133bb2e41",
            "7d2da77892004244930e2e745391bcfd",
            "e04c29226fbd4c419a1c46033ea3d435"
          ]
        },
        "id": "4mcA2ya5ZNCM",
        "outputId": "a35d09ba-4e86-49e4-e348-7dbdfe230e96"
      },
      "outputs": [
        {
          "output_type": "display_data",
          "data": {
            "text/plain": [
              "Downloading builder script:   0%|          | 0.00/2.20k [00:00<?, ?B/s]"
            ],
            "application/vnd.jupyter.widget-view+json": {
              "version_major": 2,
              "version_minor": 0,
              "model_id": "0b7ba2541afe4412a38a91103983b6bf"
            }
          },
          "metadata": {}
        },
        {
          "output_type": "stream",
          "name": "stderr",
          "text": [
            "[nltk_data] Downloading package wordnet to /root/nltk_data...\n",
            "[nltk_data]   Unzipping corpora/wordnet.zip.\n",
            "[nltk_data] Downloading package punkt to /root/nltk_data...\n",
            "[nltk_data]   Unzipping tokenizers/punkt.zip.\n",
            "[nltk_data] Downloading package omw-1.4 to /root/nltk_data...\n",
            "[nltk_data]   Unzipping corpora/omw-1.4.zip.\n"
          ]
        },
        {
          "output_type": "display_data",
          "data": {
            "text/plain": [
              "<Figure size 864x432 with 0 Axes>"
            ]
          },
          "metadata": {}
        }
      ],
      "source": [
        "# Drive\n",
        "from google.colab import drive\n",
        "\n",
        "# Plots\n",
        "import IPython\n",
        "import IPython.display\n",
        "import seaborn as sns\n",
        "import matplotlib as mpl\n",
        "import matplotlib.pyplot as plt\n",
        "plt.figure(figsize=(12, 6))\n",
        "\n",
        "# Util\n",
        "import os\n",
        "import pandas as pd\n",
        "import numpy as np\n",
        "pd.set_option('display.max_rows', None)\n",
        "\n",
        "# ML\n",
        "import torch\n",
        "import torch.nn.functional as F\n",
        "from torch.utils.data import Dataset, DataLoader, RandomSampler, SequentialSampler\n",
        "\n",
        "# Importing the T5 modules from huggingface/transformers\n",
        "from transformers import T5Tokenizer, T5ForConditionalGeneration\n",
        "\n",
        "# rich: for a better display on terminal\n",
        "from rich.table import Column, Table\n",
        "from rich.text import Text\n",
        "from rich import box\n",
        "from rich.console import Console\n",
        "\n",
        "# define a rich console logger\n",
        "console = Console(record=True)\n",
        "\n",
        "# Evaluation\n",
        "from datasets import load_metric\n",
        "meteor = load_metric(\"meteor\")\n",
        "\n",
        "# Setting up the device for GPU usage\n",
        "from torch import cuda\n",
        "device = 'cuda' if cuda.is_available() else 'cpu'"
      ]
    },
    {
      "cell_type": "markdown",
      "metadata": {
        "id": "s3arh9WcZFww"
      },
      "source": [
        "##0.2. Import Data"
      ]
    },
    {
      "cell_type": "markdown",
      "metadata": {
        "id": "zK4I5s9gZqxI"
      },
      "source": [
        "Either upload the data to the shared Google Drive and use this to download, or upload it directly yourself (whatever is easier)"
      ]
    },
    {
      "cell_type": "code",
      "execution_count": null,
      "metadata": {
        "colab": {
          "base_uri": "https://localhost:8080/"
        },
        "id": "VoQUPYjsZDiq",
        "outputId": "4a23664c-9d9c-44cc-9b03-4c51bc34e546"
      },
      "outputs": [
        {
          "output_type": "stream",
          "name": "stdout",
          "text": [
            "Mounted at /content/drive\n"
          ]
        }
      ],
      "source": [
        "drive.mount('/content/drive')\n"
      ]
    },
    {
      "cell_type": "markdown",
      "metadata": {
        "id": "xnpSL43tdGvk"
      },
      "source": [
        "##0.3 Setup functions & classes"
      ]
    },
    {
      "cell_type": "markdown",
      "metadata": {
        "id": "mKt7_iGUeScN"
      },
      "source": [
        "###0.3.1 FUNC: display_df"
      ]
    },
    {
      "cell_type": "code",
      "execution_count": null,
      "metadata": {
        "id": "QjO6nIJGchxq"
      },
      "outputs": [],
      "source": [
        "# to display dataframe in ASCII format\n",
        "def display_df(df):\n",
        "    \"\"\"display dataframe in ASCII format\"\"\"\n",
        "\n",
        "    console = Console()\n",
        "    table = Table(\n",
        "        Column(\"source_text\", justify=\"center\"),\n",
        "        Column(\"target_text\", justify=\"center\"),\n",
        "        title=\"Sample Data\",\n",
        "        pad_edge=False,\n",
        "        box=box.ASCII,\n",
        "    )\n",
        "\n",
        "    for i, row in enumerate(df.values.tolist()):\n",
        "        table.add_row(row[0], row[1])\n",
        "\n",
        "    console.print(table)"
      ]
    },
    {
      "cell_type": "markdown",
      "metadata": {
        "id": "5v2GZNnvea0H"
      },
      "source": [
        "###0.3.2 CLASS: DataSet"
      ]
    },
    {
      "cell_type": "markdown",
      "metadata": {
        "id": "e1KXqhYhdX_f"
      },
      "source": [
        "A Dataset class for reading and loading the dataset into the dataloader, and then feed it into the neural network for fine-tuning the model."
      ]
    },
    {
      "cell_type": "code",
      "execution_count": null,
      "metadata": {
        "id": "iJmDbxNbdKlP"
      },
      "outputs": [],
      "source": [
        "class DataSet(Dataset):\n",
        "    \"\"\"\n",
        "    Creating a dataset class for reading the dataset and\n",
        "    loading it into the dataloader, to pass it to the\n",
        "    neural network for finetuning the model\n",
        "\n",
        "    \"\"\"\n",
        "\n",
        "    def __init__(\n",
        "        self, dataframe, tokenizer, source_len, target_len, source_text, target_text\n",
        "    ):\n",
        "        \"\"\"\n",
        "        Initializes a Dataset class\n",
        "\n",
        "        Args:\n",
        "            dataframe (pandas.DataFrame): Input dataframe\n",
        "            tokenizer (transformers.tokenizer): Transformers tokenizer\n",
        "            source_len (int): Max length of source text\n",
        "            target_len (int): Max length of target text\n",
        "            source_text (str): column name of source text\n",
        "            target_text (str): column name of target text\n",
        "        \"\"\"\n",
        "        self.tokenizer = tokenizer\n",
        "        self.data = dataframe\n",
        "        self.source_len = source_len\n",
        "        self.summ_len = target_len\n",
        "        self.target_text = self.data[target_text]\n",
        "        self.source_text = self.data[source_text]\n",
        "\n",
        "    def __len__(self):\n",
        "        \"\"\"returns the length of dataframe\"\"\"\n",
        "\n",
        "        return len(self.target_text)\n",
        "\n",
        "    def __getitem__(self, index):\n",
        "        \"\"\"return the input ids, attention masks and target ids\"\"\"\n",
        "\n",
        "        source_text = str(self.source_text[index])\n",
        "        target_text = str(self.target_text[index])\n",
        "\n",
        "        # cleaning data so as to ensure data is in string type\n",
        "        source_text = \" \".join(source_text.split())\n",
        "        target_text = \" \".join(target_text.split())\n",
        "\n",
        "        source = self.tokenizer.batch_encode_plus(\n",
        "            [source_text],\n",
        "            max_length=self.source_len,\n",
        "            pad_to_max_length=True,\n",
        "            truncation=True,\n",
        "            padding=\"max_length\",\n",
        "            return_tensors=\"pt\",\n",
        "        )\n",
        "        target = self.tokenizer.batch_encode_plus(\n",
        "            [target_text],\n",
        "            max_length=self.summ_len,\n",
        "            pad_to_max_length=True,\n",
        "            truncation=True,\n",
        "            padding=\"max_length\",\n",
        "            return_tensors=\"pt\",\n",
        "        )\n",
        "\n",
        "        source_ids = source[\"input_ids\"].squeeze()\n",
        "        source_mask = source[\"attention_mask\"].squeeze()\n",
        "        target_ids = target[\"input_ids\"].squeeze()\n",
        "        target_mask = target[\"attention_mask\"].squeeze()\n",
        "\n",
        "        return {\n",
        "            \"source_ids\": source_ids.to(dtype=torch.long),\n",
        "            \"source_mask\": source_mask.to(dtype=torch.long),\n",
        "            \"target_ids\": target_ids.to(dtype=torch.long),\n",
        "            \"target_ids_y\": target_ids.to(dtype=torch.long),\n",
        "        }"
      ]
    },
    {
      "cell_type": "markdown",
      "metadata": {
        "id": "rcxgONn0efui"
      },
      "source": [
        "###0.3.3 FUNC: train"
      ]
    },
    {
      "cell_type": "markdown",
      "metadata": {
        "id": "noK0ICH4eCzT"
      },
      "source": [
        "Train function, which will the put model on training mode, generate outputs and calculate loss"
      ]
    },
    {
      "cell_type": "code",
      "execution_count": null,
      "metadata": {
        "id": "EG5eKLajeFKX"
      },
      "outputs": [],
      "source": [
        "def train(epoch, tokenizer, model, device, loader, optimizer, train_batch_size):\n",
        "\n",
        "    \"\"\"\n",
        "    Function to be called for training with the parameters passed from main function\n",
        "\n",
        "    Takes 6 arguments as input:\n",
        "    \n",
        "        epoch: epoch\n",
        "        tokenizer: T5 tokenizer\n",
        "        model: T5 model\n",
        "        loader: Train Dataloader\n",
        "        optimizer: Optimizer\n",
        "        train_batch_size: batch size for the training data\n",
        "\n",
        "\n",
        "    \"\"\"\n",
        "\n",
        "    model.train()\n",
        "    train_loss = 0\n",
        "    train_batches = 0\n",
        "    for _, data in enumerate(loader, 0):\n",
        "        y = data[\"target_ids\"].to(device, dtype=torch.long)\n",
        "        y_ids = y[:, :-1].contiguous()\n",
        "        lm_labels = y[:, 1:].clone().detach()\n",
        "        lm_labels[y[:, 1:] == tokenizer.pad_token_id] = -100\n",
        "        ids = data[\"source_ids\"].to(device, dtype=torch.long)\n",
        "        mask = data[\"source_mask\"].to(device, dtype=torch.long)\n",
        "\n",
        "        outputs = model(\n",
        "            input_ids=ids,\n",
        "            attention_mask=mask,\n",
        "            decoder_input_ids=y_ids,\n",
        "            labels=lm_labels,\n",
        "        )\n",
        "        loss = outputs[0]\n",
        "        train_loss += loss.item()\n",
        "        train_batches += 1\n",
        "\n",
        "        # Print training loss every 100 batches\n",
        "        if _ % 100 == 0:\n",
        "            #training_logger.add_row(str(epoch), str(_), str(loss.item()))\n",
        "            console.print(\"Epoch: \", str(epoch), \"Batch: \", str(_), \"Loss: \", str(loss.item()))\n",
        "\n",
        "        optimizer.zero_grad()\n",
        "        loss.backward() \n",
        "        optimizer.step()\n",
        "\n",
        "    # Print average training loss over the epoch\n",
        "    train_loss = train_loss/train_batches\n",
        "    training_logger.add_row(str(epoch), str(train_loss))\n"
      ]
    },
    {
      "cell_type": "markdown",
      "metadata": {
        "id": "K2ChKAx-em7b"
      },
      "source": [
        "###0.3.4 FUNC: validate"
      ]
    },
    {
      "cell_type": "markdown",
      "metadata": {
        "id": "o7UaCBo7eKqX"
      },
      "source": [
        "Validate function is same as the Train function, but for the validation data\n",
        "\n"
      ]
    },
    {
      "cell_type": "code",
      "execution_count": null,
      "metadata": {
        "id": "JRHNbfg1eMlx"
      },
      "outputs": [],
      "source": [
        "def validate(epoch, tokenizer, model, device, loader, output_dir, evaluate=False):\n",
        "\n",
        "  \"\"\"\n",
        "  Function to evaluate model for predictions\n",
        "\n",
        "  \"evaluate\" toggles whether we are checking if the model improved during \n",
        "  validation and should save it (True) or whether we are just evaluating the model on data (False)\n",
        "\n",
        "  \"\"\"\n",
        "  model.eval()\n",
        "  predictions = []\n",
        "  actuals = []\n",
        "  sources = []\n",
        "  val_loss = 0\n",
        "  batches = 0\n",
        "  global best_meteor # to keep track of best model\n",
        "  with torch.no_grad():\n",
        "      for _, data in enumerate(loader, 0):\n",
        "          y = data['target_ids'].to(device, dtype = torch.long)\n",
        "          ids = data['source_ids'].to(device, dtype = torch.long)\n",
        "          mask = data['source_mask'].to(device, dtype = torch.long)\n",
        "\n",
        "          # Find validation loss\n",
        "          if not evaluate:\n",
        "            y_ids = y[:, :-1].contiguous()\n",
        "            lm_labels = y[:, 1:].clone().detach()\n",
        "            lm_labels[y[:, 1:] == tokenizer.pad_token_id] = -100\n",
        "\n",
        "            outputs = model(\n",
        "                input_ids=ids,\n",
        "                attention_mask=mask,\n",
        "                decoder_input_ids=y_ids,\n",
        "                labels=lm_labels\n",
        "                )\n",
        "            loss = outputs[0]\n",
        "            val_loss += loss.item()\n",
        "            batches += 1\n",
        "\n",
        "          # Generate outputs\n",
        "          generated_ids = model.generate(\n",
        "              input_ids = ids,\n",
        "              attention_mask = mask, \n",
        "              max_length=150, \n",
        "              num_beams=2,\n",
        "              repetition_penalty=2.5, \n",
        "              length_penalty=1.0, \n",
        "              early_stopping=True\n",
        "              )\n",
        "          preds = [tokenizer.decode(g, skip_special_tokens=True, clean_up_tokenization_spaces=True) for g in generated_ids]\n",
        "          target = [tokenizer.decode(t, skip_special_tokens=True, clean_up_tokenization_spaces=True)for t in y]\n",
        "          source = [tokenizer.decode(s, skip_special_tokens=True, clean_up_tokenization_spaces=True)for s in ids]\n",
        "\n",
        "          predictions.extend(preds)\n",
        "          actuals.extend(target)\n",
        "          sources.extend(source)\n",
        "\n",
        "  if evaluate:\n",
        "    # Save predictions\n",
        "    final_df = pd.DataFrame({\"Input\": sources, \"Generated Text\": predictions, \"Actual Text\": actuals})\n",
        "    final_df.to_csv(os.path.join(output_dir, \"predictions.csv\"))\n",
        "\n",
        "  # Save average loss over epoch and Meteor score over epoch\n",
        "  if not evaluate:\n",
        "    val_loss = val_loss/batches\n",
        "    validation_logger.add_row(str(epoch), str(val_loss))\n",
        "\n",
        "    meteor_score = meteor.compute(predictions=predictions, references=actuals)\n",
        "    meteor_logger.add_row(str(epoch), str(meteor_score['meteor']))\n",
        "    \n",
        "    console.print(\"[Validation] Epoch: \", str(epoch), \"Validation Loss: \", str(val_loss), \"Meteor: \", str(meteor_score['meteor']))\n",
        "\n",
        "    # If model has higher meteor score than before, save it\n",
        "    if meteor_score['meteor'] > best_meteor:\n",
        "      best_meteor = meteor_score['meteor']\n",
        "      console.log(f\"[Saved model and predictions of epoch {epoch}]\\n\")\n",
        "\n",
        "      path = os.path.join(output_dir, \"model_files\")\n",
        "      model.save_pretrained(path)\n",
        "      tokenizer.save_pretrained(path)\n",
        "\n",
        "      final_df = pd.DataFrame({\"Input\": sources, \"Generated Text\": predictions, \"Actual Text\": actuals})\n",
        "      final_df.to_csv(os.path.join(output_dir, \"predictions.csv\"))\n",
        "\n",
        "\n",
        "\n",
        "  return predictions, actuals"
      ]
    },
    {
      "cell_type": "markdown",
      "metadata": {
        "id": "F19iHSPfes84"
      },
      "source": [
        "###0.3.5 FUNC: T5Trainer"
      ]
    },
    {
      "cell_type": "markdown",
      "metadata": {
        "id": "uu9v__Wjexl1"
      },
      "source": [
        "T5Trainer is our main function. It accepts input data, model type, model paramters to fine-tune the model. Under the hood, it utilizes, our Dataset class for data handling, train function to fine tune the model, validate to evaluate the model."
      ]
    },
    {
      "cell_type": "code",
      "execution_count": null,
      "metadata": {
        "id": "cDZUWpwKev_4"
      },
      "outputs": [],
      "source": [
        "def T5Trainer(\n",
        "    train_data, \n",
        "    val_data, \n",
        "    source_text, \n",
        "    target_text, \n",
        "    model_params,\n",
        "    output_dir=\"./outputs/\",\n",
        "):\n",
        "\n",
        "    \"\"\"\n",
        "    T5 trainer has 6 arguments:\n",
        "\n",
        "      train_data: Input dataframe of training data\n",
        "      val_data: Input dataframe of validation data\n",
        "      source_text: Column name of the input text i.e. idiomatic sentence\n",
        "      target_text: Column name of the target text i.e. literal sentence\n",
        "      model_params: T5 model parameters\n",
        "      output_dir: Output directory to save fine tuned T5 model.\n",
        "\n",
        "    \"\"\"\n",
        "\n",
        "    # Set random seeds and deterministic pytorch for reproducibility\n",
        "    torch.manual_seed(model_params[\"SEED\"])  # pytorch random seed\n",
        "    np.random.seed(model_params[\"SEED\"])  # numpy random seed\n",
        "    torch.backends.cudnn.deterministic = True\n",
        "\n",
        "    # logging\n",
        "    console.log(f\"\"\"[Model]: Loading {model_params[\"MODEL\"]}...\\n\"\"\")\n",
        "\n",
        "    # tokenizer for encoding the text\n",
        "    tokenizer = T5Tokenizer.from_pretrained(model_params[\"MODEL\"])\n",
        "\n",
        "    # Defining the model. The model is then sent to device (GPU/TPU)\n",
        "    model = T5ForConditionalGeneration.from_pretrained(model_params[\"MODEL\"])\n",
        "    model = model.to(device)\n",
        "\n",
        "    # logging\n",
        "    console.log(f\"[Data]: Reading data...\\n\")\n",
        "\n",
        "    # Importing the raw dataset\n",
        "    train_data = train_data[[source_text, target_text]]\n",
        "    train_data = train_data.reset_index(drop=True)\n",
        "    val_data = val_data[[source_text, target_text]]\n",
        "    val_data = val_data.reset_index(drop=True)\n",
        "\n",
        "    display_df(train_data.head(2))\n",
        "\n",
        "    # Creation of Dataset and Dataloader\n",
        "    console.print(f\"TRAIN Dataset: {train_data.shape}\")\n",
        "    console.print(f\"VALIDATION Dataset: {val_data.shape}\\n\")\n",
        "\n",
        "    # Creating the Training and Validation dataset for further creation of Dataloader\n",
        "    training_set = DataSet(\n",
        "        train_data,\n",
        "        tokenizer,\n",
        "        model_params[\"MAX_SOURCE_TEXT_LENGTH\"],\n",
        "        model_params[\"MAX_TARGET_TEXT_LENGTH\"],\n",
        "        source_text,\n",
        "        target_text,\n",
        "    )\n",
        "    val_set = DataSet(\n",
        "        val_data,\n",
        "        tokenizer,\n",
        "        model_params[\"MAX_SOURCE_TEXT_LENGTH\"],\n",
        "        model_params[\"MAX_TARGET_TEXT_LENGTH\"],\n",
        "        source_text,\n",
        "        target_text,\n",
        "    )\n",
        "\n",
        "    # Defining the parameters for creation of dataloaders\n",
        "    train_params = {\n",
        "        \"batch_size\": model_params[\"TRAIN_BATCH_SIZE\"],\n",
        "        \"shuffle\": True,\n",
        "        \"num_workers\": 0,\n",
        "    }\n",
        "\n",
        "    val_params = {\n",
        "        \"batch_size\": model_params[\"VALID_BATCH_SIZE\"],\n",
        "        \"shuffle\": False,\n",
        "        \"num_workers\": 0,\n",
        "    }\n",
        "\n",
        "    # Creation of Dataloaders for training and validation.\n",
        "    training_loader = DataLoader(training_set, **train_params)\n",
        "    val_loader = DataLoader(val_set, **val_params)\n",
        "\n",
        "    # Defining the optimizer that will be used to tune the weights of the network in the training session.\n",
        "    optimizer = torch.optim.Adam(\n",
        "        params=model.parameters(), lr=model_params[\"LEARNING_RATE\"]\n",
        "    )\n",
        "\n",
        "    # Training loop\n",
        "    console.log(f\"[Initiating Fine Tuning]...\\n\")\n",
        "    global best_meteor\n",
        "    best_meteor = 0 # To keep track of best model\n",
        "    train_batch_size = model_params[\"TRAIN_BATCH_SIZE\"]\n",
        "    for epoch in range(model_params[\"TRAIN_EPOCHS\"]):\n",
        "        train(epoch, tokenizer, model, device, training_loader, optimizer, train_batch_size)\n",
        "        validate(epoch, tokenizer, model, device, val_loader, output_dir)\n",
        "\n",
        "    console.print(\"\\n\")\n",
        "    console.print(training_logger)\n",
        "    console.print(\"\\n\")\n",
        "    console.print(validation_logger)\n",
        "    console.print(\"\\n\")\n",
        "    console.print(meteor_logger)\n",
        "\n",
        "    # console.log(f\"[Saving Model]...\\n\")\n",
        "    # # Saving the model after training\n",
        "    # path = os.path.join(output_dir, \"model_files\")\n",
        "    # model.save_pretrained(path)\n",
        "    # tokenizer.save_pretrained(path)\n",
        "\n",
        "    # # generating output for validation dataset\n",
        "    # console.log(f\"[Generating Validation Outputs]...\\n\")\n",
        "    # predictions, actuals = validate(epoch, tokenizer, model, device, val_loader, evaluate= False)\n",
        "    # final_df = pd.DataFrame({\"Input\": val_data[source_text], \"Generated Text\": predictions, \"Actual Text\": actuals})\n",
        "    # final_df.to_csv(os.path.join(output_dir, \"predictions.csv\"))\n",
        "\n",
        "    console.save_text(os.path.join(output_dir, \"logs.txt\"))\n",
        "\n",
        "    # console.log(f\"[Validation Outputs Generated.]\\n\")\n",
        "    console.print(\n",
        "        f\"\"\"[Model] Model saved @ {os.path.join(output_dir, \"model_files\")}\\n\"\"\"\n",
        "    )\n",
        "    console.print(\n",
        "        f\"\"\"[Validation] Generation on Validation data saved @ {os.path.join(output_dir,'predictions.csv')}\\n\"\"\"\n",
        "    )\n",
        "    console.print(f\"\"\"[Logs] Logs saved @ {os.path.join(output_dir,'logs.txt')}\\n\"\"\")"
      ]
    },
    {
      "cell_type": "markdown",
      "metadata": {
        "id": "FcKQWqxse_q6"
      },
      "source": [
        "# 1. Processing Data"
      ]
    },
    {
      "cell_type": "code",
      "execution_count": null,
      "metadata": {
        "id": "2sMvA8c3e2VH"
      },
      "outputs": [],
      "source": [
        "file_path = \"file path here\"\n",
        "\n",
        "train_data = pd.read_csv(file_path+\"data_train.csv\", sep=\"=\")\n",
        "test_data = pd.read_csv(file_path+\"data_test.csv\", sep=\"=\")\n",
        "val_data = pd.read_csv(file_path+\"data_val.csv\", sep=\"=\")"
      ]
    },
    {
      "cell_type": "code",
      "execution_count": null,
      "metadata": {
        "colab": {
          "base_uri": "https://localhost:8080/"
        },
        "id": "3InVoeHi9Wyh",
        "outputId": "4039520a-d668-43c0-8fc7-751862a9a784"
      },
      "outputs": [
        {
          "name": "stdout",
          "output_type": "stream",
          "text": [
            "Max number of tokens input =  81\n",
            "Max number of tokens target =  61\n"
          ]
        }
      ],
      "source": [
        "# Check max length\n",
        "lengths_train_in = train_data[\"input\"].str.split(\" \")\n",
        "lengths_test_in = test_data[\"input\"].str.split(\" \")\n",
        "lengths_val_in = val_data[\"input\"].str.split(\" \")\n",
        "\n",
        "print(\"Max number of tokens input = \", max(lengths_train_in.str.len().max(),lengths_test_in.str.len().max(),lengths_val_in.str.len().max()))\n",
        "\n",
        "lengths_train_tar = train_data[\"target\"].str.split(\" \")\n",
        "lengths_test_tar = test_data[\"target\"].str.split(\" \")\n",
        "lengths_val_tar = val_data[\"target\"].str.split(\" \")\n",
        "\n",
        "print(\"Max number of tokens target = \", max(lengths_train_tar.str.len().max(),lengths_test_tar.str.len().max(),lengths_val_tar.str.len().max()))"
      ]
    },
    {
      "cell_type": "code",
      "execution_count": null,
      "metadata": {
        "colab": {
          "base_uri": "https://localhost:8080/",
          "height": 337
        },
        "id": "euVrDvajFOu1",
        "outputId": "6fab0a6e-05f9-423a-e3fc-09f096b5092f"
      },
      "outputs": [
        {
          "data": {
            "text/html": [
              "\n",
              "  <div id=\"df-b767dc05-88e8-49c5-92ad-61f698ae47ba\">\n",
              "    <div class=\"colab-df-container\">\n",
              "      <div>\n",
              "<style scoped>\n",
              "    .dataframe tbody tr th:only-of-type {\n",
              "        vertical-align: middle;\n",
              "    }\n",
              "\n",
              "    .dataframe tbody tr th {\n",
              "        vertical-align: top;\n",
              "    }\n",
              "\n",
              "    .dataframe thead th {\n",
              "        text-align: right;\n",
              "    }\n",
              "</style>\n",
              "<table border=\"1\" class=\"dataframe\">\n",
              "  <thead>\n",
              "    <tr style=\"text-align: right;\">\n",
              "      <th></th>\n",
              "      <th>input</th>\n",
              "      <th>target</th>\n",
              "      <th>IOB_input</th>\n",
              "      <th>IOB_target</th>\n",
              "    </tr>\n",
              "  </thead>\n",
              "  <tbody>\n",
              "    <tr>\n",
              "      <th>0</th>\n",
              "      <td>id_par sentence: I do n't believe that he did ...</td>\n",
              "      <td>I do n't believe that he did n't take the mone...</td>\n",
              "      <td>O O O O O O O O O O O O O O O B O O I I O I O ...</td>\n",
              "      <td>O O O O O O O O O O O O O O O O O O O O O O O</td>\n",
              "    </tr>\n",
              "    <tr>\n",
              "      <th>1</th>\n",
              "      <td>id_par sentence: She manages to give her fathe...</td>\n",
              "      <td>She manages to give her father an estimate tha...</td>\n",
              "      <td>O O O O O O B I I O O O O O O O</td>\n",
              "      <td>O O O O O O B I O O O O O O O</td>\n",
              "    </tr>\n",
              "    <tr>\n",
              "      <th>2</th>\n",
              "      <td>id_par sentence: It was really good to have yo...</td>\n",
              "      <td>It was really good to have you here and I woul...</td>\n",
              "      <td>O O O O O O O O O O O O O O O O O B I I O I I O</td>\n",
              "      <td>O O O O O O O O O O O O O O O O O B O</td>\n",
              "    </tr>\n",
              "    <tr>\n",
              "      <th>3</th>\n",
              "      <td>id_par sentence: I have seen many *turning poi...</td>\n",
              "      <td>I have seen many changes in my life and do n't...</td>\n",
              "      <td>O O O O B I O O O O O O O O O O O O O O O O O ...</td>\n",
              "      <td>O O O O B O O O O O O O O O O O O O O O O O O O O</td>\n",
              "    </tr>\n",
              "    <tr>\n",
              "      <th>4</th>\n",
              "      <td>id_par sentence: I love staying at that hotel ...</td>\n",
              "      <td>I love staying at that hotel and They make spe...</td>\n",
              "      <td>O O O O O O O O B I I I O O O O O O</td>\n",
              "      <td>O O O O O O O O O B I O O O O O O</td>\n",
              "    </tr>\n",
              "  </tbody>\n",
              "</table>\n",
              "</div>\n",
              "      <button class=\"colab-df-convert\" onclick=\"convertToInteractive('df-b767dc05-88e8-49c5-92ad-61f698ae47ba')\"\n",
              "              title=\"Convert this dataframe to an interactive table.\"\n",
              "              style=\"display:none;\">\n",
              "        \n",
              "  <svg xmlns=\"http://www.w3.org/2000/svg\" height=\"24px\"viewBox=\"0 0 24 24\"\n",
              "       width=\"24px\">\n",
              "    <path d=\"M0 0h24v24H0V0z\" fill=\"none\"/>\n",
              "    <path d=\"M18.56 5.44l.94 2.06.94-2.06 2.06-.94-2.06-.94-.94-2.06-.94 2.06-2.06.94zm-11 1L8.5 8.5l.94-2.06 2.06-.94-2.06-.94L8.5 2.5l-.94 2.06-2.06.94zm10 10l.94 2.06.94-2.06 2.06-.94-2.06-.94-.94-2.06-.94 2.06-2.06.94z\"/><path d=\"M17.41 7.96l-1.37-1.37c-.4-.4-.92-.59-1.43-.59-.52 0-1.04.2-1.43.59L10.3 9.45l-7.72 7.72c-.78.78-.78 2.05 0 2.83L4 21.41c.39.39.9.59 1.41.59.51 0 1.02-.2 1.41-.59l7.78-7.78 2.81-2.81c.8-.78.8-2.07 0-2.86zM5.41 20L4 18.59l7.72-7.72 1.47 1.35L5.41 20z\"/>\n",
              "  </svg>\n",
              "      </button>\n",
              "      \n",
              "  <style>\n",
              "    .colab-df-container {\n",
              "      display:flex;\n",
              "      flex-wrap:wrap;\n",
              "      gap: 12px;\n",
              "    }\n",
              "\n",
              "    .colab-df-convert {\n",
              "      background-color: #E8F0FE;\n",
              "      border: none;\n",
              "      border-radius: 50%;\n",
              "      cursor: pointer;\n",
              "      display: none;\n",
              "      fill: #1967D2;\n",
              "      height: 32px;\n",
              "      padding: 0 0 0 0;\n",
              "      width: 32px;\n",
              "    }\n",
              "\n",
              "    .colab-df-convert:hover {\n",
              "      background-color: #E2EBFA;\n",
              "      box-shadow: 0px 1px 2px rgba(60, 64, 67, 0.3), 0px 1px 3px 1px rgba(60, 64, 67, 0.15);\n",
              "      fill: #174EA6;\n",
              "    }\n",
              "\n",
              "    [theme=dark] .colab-df-convert {\n",
              "      background-color: #3B4455;\n",
              "      fill: #D2E3FC;\n",
              "    }\n",
              "\n",
              "    [theme=dark] .colab-df-convert:hover {\n",
              "      background-color: #434B5C;\n",
              "      box-shadow: 0px 1px 3px 1px rgba(0, 0, 0, 0.15);\n",
              "      filter: drop-shadow(0px 1px 2px rgba(0, 0, 0, 0.3));\n",
              "      fill: #FFFFFF;\n",
              "    }\n",
              "  </style>\n",
              "\n",
              "      <script>\n",
              "        const buttonEl =\n",
              "          document.querySelector('#df-b767dc05-88e8-49c5-92ad-61f698ae47ba button.colab-df-convert');\n",
              "        buttonEl.style.display =\n",
              "          google.colab.kernel.accessAllowed ? 'block' : 'none';\n",
              "\n",
              "        async function convertToInteractive(key) {\n",
              "          const element = document.querySelector('#df-b767dc05-88e8-49c5-92ad-61f698ae47ba');\n",
              "          const dataTable =\n",
              "            await google.colab.kernel.invokeFunction('convertToInteractive',\n",
              "                                                     [key], {});\n",
              "          if (!dataTable) return;\n",
              "\n",
              "          const docLinkHtml = 'Like what you see? Visit the ' +\n",
              "            '<a target=\"_blank\" href=https://colab.research.google.com/notebooks/data_table.ipynb>data table notebook</a>'\n",
              "            + ' to learn more about interactive tables.';\n",
              "          element.innerHTML = '';\n",
              "          dataTable['output_type'] = 'display_data';\n",
              "          await google.colab.output.renderOutput(dataTable, element);\n",
              "          const docLink = document.createElement('div');\n",
              "          docLink.innerHTML = docLinkHtml;\n",
              "          element.appendChild(docLink);\n",
              "        }\n",
              "      </script>\n",
              "    </div>\n",
              "  </div>\n",
              "  "
            ],
            "text/plain": [
              "                                               input  \\\n",
              "0  id_par sentence: I do n't believe that he did ...   \n",
              "1  id_par sentence: She manages to give her fathe...   \n",
              "2  id_par sentence: It was really good to have yo...   \n",
              "3  id_par sentence: I have seen many *turning poi...   \n",
              "4  id_par sentence: I love staying at that hotel ...   \n",
              "\n",
              "                                              target  \\\n",
              "0  I do n't believe that he did n't take the mone...   \n",
              "1  She manages to give her father an estimate tha...   \n",
              "2  It was really good to have you here and I woul...   \n",
              "3  I have seen many changes in my life and do n't...   \n",
              "4  I love staying at that hotel and They make spe...   \n",
              "\n",
              "                                           IOB_input  \\\n",
              "0  O O O O O O O O O O O O O O O B O O I I O I O ...   \n",
              "1                    O O O O O O B I I O O O O O O O   \n",
              "2    O O O O O O O O O O O O O O O O O B I I O I I O   \n",
              "3  O O O O B I O O O O O O O O O O O O O O O O O ...   \n",
              "4                O O O O O O O O B I I I O O O O O O   \n",
              "\n",
              "                                          IOB_target  \n",
              "0      O O O O O O O O O O O O O O O O O O O O O O O  \n",
              "1                      O O O O O O B I O O O O O O O  \n",
              "2              O O O O O O O O O O O O O O O O O B O  \n",
              "3  O O O O B O O O O O O O O O O O O O O O O O O O O  \n",
              "4                  O O O O O O O O O B I O O O O O O  "
            ]
          },
          "execution_count": 13,
          "metadata": {},
          "output_type": "execute_result"
        }
      ],
      "source": [
        "val_data.head()"
      ]
    },
    {
      "cell_type": "markdown",
      "metadata": {
        "id": "TMQJTw9DfJIb"
      },
      "source": [
        "#2. Training Model"
      ]
    },
    {
      "cell_type": "code",
      "execution_count": null,
      "metadata": {
        "id": "UypLE5nTfK5M"
      },
      "outputs": [],
      "source": [
        "# let's define model parameters specific to T5\n",
        "model_params = {\n",
        "    # \"MODEL\": \"t5-small\",  # model_type: t5-base/t5-small/t5-large\n",
        "    \"MODEL\": \"hetpandya/t5-small-tapaco\",  # Paraphrase model\n",
        "    \"TRAIN_BATCH_SIZE\": 4,  # training batch size\n",
        "    \"VALID_BATCH_SIZE\": 4,  # validation batch size\n",
        "    \"TRAIN_EPOCHS\": 50,  # number of training epochs\n",
        "    #\"VAL_EPOCHS\": 1,  # number of validation epochs\n",
        "    \"LEARNING_RATE\": 1e-4,  # learning rate\n",
        "    \"MAX_SOURCE_TEXT_LENGTH\": 107,  # max length of source text\n",
        "    \"MAX_TARGET_TEXT_LENGTH\": 62,  # max length of target text\n",
        "    \"SEED\": 42,  # set seed for reproducibility\n",
        "}\n"
      ]
    },
    {
      "cell_type": "code",
      "execution_count": null,
      "metadata": {
        "id": "xyMGJfmHcmuP"
      },
      "outputs": [],
      "source": [
        "# Initialize training, validation and meteor loggers to keep track of model loss\n",
        "\n",
        "# training logger to log training loss over the epochs and batches\n",
        "training_logger = Table(\n",
        "    Column(\"Epoch\", justify=\"center\"),\n",
        "    # Column(\"Batch\", justify=\"center\"),\n",
        "    Column(\"Loss\", justify=\"center\"),\n",
        "    title=\"Training Loss\",\n",
        "    pad_edge=False,\n",
        "    box=box.ASCII,\n",
        ")\n",
        "\n",
        "# validation logger to log validation loss over the epochs\n",
        "validation_logger = Table(\n",
        "    Column(\"Epoch\", justify=\"center\"),\n",
        "    Column(\"Loss\", justify=\"center\"),\n",
        "    title=\"Validation Loss\",\n",
        "    pad_edge=False,\n",
        "    box=box.ASCII,\n",
        ")\n",
        "\n",
        "# meteor logger to log meteor score over the epochs\n",
        "meteor_logger = Table(\n",
        "    Column(\"Epoch\", justify=\"center\"),\n",
        "    Column(\"Meteor\", justify=\"center\"),\n",
        "    title=\"Meteor Score\",\n",
        "    pad_edge=False,\n",
        "    box=box.ASCII,\n",
        ")"
      ]
    },
    {
      "cell_type": "code",
      "execution_count": null,
      "metadata": {
        "id": "6DgnTr-gMlNA"
      },
      "outputs": [],
      "source": [
        "# Subset for testing\n",
        "# train_data = train_data.head(n=160)\n",
        "# val_data = val_data.head(n=40)"
      ]
    },
    {
      "cell_type": "code",
      "execution_count": null,
      "metadata": {
        "colab": {
          "background_save": true,
          "base_uri": "https://localhost:8080/",
          "height": 552
        },
        "id": "n6cgmoYBaQV7",
        "outputId": "09d9104f-4beb-46c9-de1a-2e013a952640"
      },
      "outputs": [
        {
          "data": {
            "text/html": [
              "<pre style=\"white-space:pre;overflow-x:auto;line-height:normal;font-family:Menlo,'DejaVu Sans Mono',consolas,'Courier New',monospace\"><span style=\"color: #7fbfbf; text-decoration-color: #7fbfbf\">[23:52:01] </span><span style=\"font-weight: bold\">[</span>Model<span style=\"font-weight: bold\">]</span>: Loading hetpandya/t5-small-tapaco<span style=\"color: #808000; text-decoration-color: #808000\">...</span>   <span style=\"color: #7f7f7f; text-decoration-color: #7f7f7f\">&lt;ipython-input-10-3be56d858de9&gt;:28</span>\n",
              "<span style=\"color: #7fbfbf; text-decoration-color: #7fbfbf\">           </span>                                                <span style=\"color: #7f7f7f; text-decoration-color: #7f7f7f\">                                  </span>\n",
              "</pre>\n"
            ],
            "text/plain": [
              "\u001b[2;36m[23:52:01]\u001b[0m\u001b[2;36m \u001b[0m\u001b[1m[\u001b[0mModel\u001b[1m]\u001b[0m: Loading hetpandya/t5-small-tapaco\u001b[33m...\u001b[0m   \u001b[2m<ipython-input-10-3be56d858de9>\u001b[0m\u001b[2m:\u001b[0m\u001b[2m28\u001b[0m\n",
              "\u001b[2;36m           \u001b[0m                                                \u001b[2m                                  \u001b[0m\n"
            ]
          },
          "metadata": {},
          "output_type": "display_data"
        },
        {
          "data": {
            "text/html": [
              "<pre style=\"white-space:pre;overflow-x:auto;line-height:normal;font-family:Menlo,'DejaVu Sans Mono',consolas,'Courier New',monospace\"><span style=\"color: #7fbfbf; text-decoration-color: #7fbfbf\">[23:52:04] </span><span style=\"font-weight: bold\">[</span>Data<span style=\"font-weight: bold\">]</span>: Reading data<span style=\"color: #808000; text-decoration-color: #808000\">...</span>                         <span style=\"color: #7f7f7f; text-decoration-color: #7f7f7f\">&lt;ipython-input-10-3be56d858de9&gt;:38</span>\n",
              "<span style=\"color: #7fbfbf; text-decoration-color: #7fbfbf\">           </span>                                                <span style=\"color: #7f7f7f; text-decoration-color: #7f7f7f\">                                  </span>\n",
              "</pre>\n"
            ],
            "text/plain": [
              "\u001b[2;36m[23:52:04]\u001b[0m\u001b[2;36m \u001b[0m\u001b[1m[\u001b[0mData\u001b[1m]\u001b[0m: Reading data\u001b[33m...\u001b[0m                         \u001b[2m<ipython-input-10-3be56d858de9>\u001b[0m\u001b[2m:\u001b[0m\u001b[2m38\u001b[0m\n",
              "\u001b[2;36m           \u001b[0m                                                \u001b[2m                                  \u001b[0m\n"
            ]
          },
          "metadata": {},
          "output_type": "display_data"
        },
        {
          "data": {
            "text/html": [
              "<pre style=\"white-space:pre;overflow-x:auto;line-height:normal;font-family:Menlo,'DejaVu Sans Mono',consolas,'Courier New',monospace\"><span style=\"font-style: italic\">                                         Sample Data                                         </span>\n",
              "+-------------------------------------------------------------------------------------------+\n",
              "|<span style=\"font-weight: bold\">                source_text                  </span>|<span style=\"font-weight: bold\">                 target_text                 </span>|\n",
              "|---------------------------------------------+---------------------------------------------|\n",
              "| id_par sentence: She said that she will be  | She said that she will be on time today and |\n",
              "|  on time today and I do n't think that 's   |   I do n't think that 's true , but I will  |\n",
              "| true , but I will give her *the benefit of  |   believe her and I think Peter broke the   |\n",
              "|   the doubt* and I think Peter broke the    | window but he denies it and I will give him |\n",
              "|window but he denies it and I will give him  |                                             |\n",
              "|      idiom: the benefit of the doubt        |                                             |\n",
              "| id_par sentence: Give him *the benefit of   | Regard him as innocent and he 'll go free . |\n",
              "| the doubt* and he 'll go free . idiom: the  |                                             |\n",
              "|            benefit of the doubt             |                                             |\n",
              "+-------------------------------------------------------------------------------------------+\n",
              "</pre>\n"
            ],
            "text/plain": [
              "\u001b[3m                                         Sample Data                                         \u001b[0m\n",
              "+-------------------------------------------------------------------------------------------+\n",
              "|\u001b[1m                source_text                 \u001b[0m\u001b[1m \u001b[0m|\u001b[1m \u001b[0m\u001b[1m                target_text                 \u001b[0m|\n",
              "|---------------------------------------------+---------------------------------------------|\n",
              "| id_par sentence: She said that she will be  | She said that she will be on time today and |\n",
              "|  on time today and I do n't think that 's   |   I do n't think that 's true , but I will  |\n",
              "| true , but I will give her *the benefit of  |   believe her and I think Peter broke the   |\n",
              "|   the doubt* and I think Peter broke the    | window but he denies it and I will give him |\n",
              "|window but he denies it and I will give him  |                                             |\n",
              "|      idiom: the benefit of the doubt        |                                             |\n",
              "| id_par sentence: Give him *the benefit of   | Regard him as innocent and he 'll go free . |\n",
              "| the doubt* and he 'll go free . idiom: the  |                                             |\n",
              "|            benefit of the doubt             |                                             |\n",
              "+-------------------------------------------------------------------------------------------+\n"
            ]
          },
          "metadata": {},
          "output_type": "display_data"
        },
        {
          "data": {
            "text/html": [
              "<pre style=\"white-space:pre;overflow-x:auto;line-height:normal;font-family:Menlo,'DejaVu Sans Mono',consolas,'Courier New',monospace\">TRAIN Dataset: <span style=\"font-weight: bold\">(</span><span style=\"color: #008080; text-decoration-color: #008080; font-weight: bold\">3524</span>, <span style=\"color: #008080; text-decoration-color: #008080; font-weight: bold\">2</span><span style=\"font-weight: bold\">)</span>\n",
              "</pre>\n"
            ],
            "text/plain": [
              "TRAIN Dataset: \u001b[1m(\u001b[0m\u001b[1;36m3524\u001b[0m, \u001b[1;36m2\u001b[0m\u001b[1m)\u001b[0m\n"
            ]
          },
          "metadata": {},
          "output_type": "display_data"
        },
        {
          "data": {
            "text/html": [
              "<pre style=\"white-space:pre;overflow-x:auto;line-height:normal;font-family:Menlo,'DejaVu Sans Mono',consolas,'Courier New',monospace\">VALIDATION Dataset: <span style=\"font-weight: bold\">(</span><span style=\"color: #008080; text-decoration-color: #008080; font-weight: bold\">823</span>, <span style=\"color: #008080; text-decoration-color: #008080; font-weight: bold\">2</span><span style=\"font-weight: bold\">)</span>\n",
              "\n",
              "</pre>\n"
            ],
            "text/plain": [
              "VALIDATION Dataset: \u001b[1m(\u001b[0m\u001b[1;36m823\u001b[0m, \u001b[1;36m2\u001b[0m\u001b[1m)\u001b[0m\n",
              "\n"
            ]
          },
          "metadata": {},
          "output_type": "display_data"
        },
        {
          "data": {
            "text/html": [
              "<pre style=\"white-space:pre;overflow-x:auto;line-height:normal;font-family:Menlo,'DejaVu Sans Mono',consolas,'Courier New',monospace\"><span style=\"color: #7fbfbf; text-decoration-color: #7fbfbf\">           </span><span style=\"font-weight: bold\">[</span>Initiating Fine Tuning<span style=\"font-weight: bold\">]</span><span style=\"color: #808000; text-decoration-color: #808000\">...</span>                     <span style=\"color: #7f7f7f; text-decoration-color: #7f7f7f\">&lt;ipython-input-10-3be56d858de9&gt;:93</span>\n",
              "<span style=\"color: #7fbfbf; text-decoration-color: #7fbfbf\">           </span>                                                <span style=\"color: #7f7f7f; text-decoration-color: #7f7f7f\">                                  </span>\n",
              "</pre>\n"
            ],
            "text/plain": [
              "\u001b[2;36m          \u001b[0m\u001b[2;36m \u001b[0m\u001b[1m[\u001b[0mInitiating Fine Tuning\u001b[1m]\u001b[0m\u001b[33m...\u001b[0m                     \u001b[2m<ipython-input-10-3be56d858de9>\u001b[0m\u001b[2m:\u001b[0m\u001b[2m93\u001b[0m\n",
              "\u001b[2;36m           \u001b[0m                                                \u001b[2m                                  \u001b[0m\n"
            ]
          },
          "metadata": {},
          "output_type": "display_data"
        },
        {
          "data": {
            "text/html": [
              "<pre style=\"white-space:pre;overflow-x:auto;line-height:normal;font-family:Menlo,'DejaVu Sans Mono',consolas,'Courier New',monospace\">Epoch:  <span style=\"color: #008080; text-decoration-color: #008080; font-weight: bold\">0</span> Batch:  <span style=\"color: #008080; text-decoration-color: #008080; font-weight: bold\">0</span> Loss:  <span style=\"color: #008080; text-decoration-color: #008080; font-weight: bold\">2.389174222946167</span>\n",
              "</pre>\n"
            ],
            "text/plain": [
              "Epoch:  \u001b[1;36m0\u001b[0m Batch:  \u001b[1;36m0\u001b[0m Loss:  \u001b[1;36m2.389174222946167\u001b[0m\n"
            ]
          },
          "metadata": {},
          "output_type": "display_data"
        },
        {
          "data": {
            "text/html": [
              "<pre style=\"white-space:pre;overflow-x:auto;line-height:normal;font-family:Menlo,'DejaVu Sans Mono',consolas,'Courier New',monospace\">Epoch:  <span style=\"color: #008080; text-decoration-color: #008080; font-weight: bold\">0</span> Batch:  <span style=\"color: #008080; text-decoration-color: #008080; font-weight: bold\">100</span> Loss:  <span style=\"color: #008080; text-decoration-color: #008080; font-weight: bold\">1.2620078325271606</span>\n",
              "</pre>\n"
            ],
            "text/plain": [
              "Epoch:  \u001b[1;36m0\u001b[0m Batch:  \u001b[1;36m100\u001b[0m Loss:  \u001b[1;36m1.2620078325271606\u001b[0m\n"
            ]
          },
          "metadata": {},
          "output_type": "display_data"
        },
        {
          "data": {
            "text/html": [
              "<pre style=\"white-space:pre;overflow-x:auto;line-height:normal;font-family:Menlo,'DejaVu Sans Mono',consolas,'Courier New',monospace\">Epoch:  <span style=\"color: #008080; text-decoration-color: #008080; font-weight: bold\">0</span> Batch:  <span style=\"color: #008080; text-decoration-color: #008080; font-weight: bold\">200</span> Loss:  <span style=\"color: #008080; text-decoration-color: #008080; font-weight: bold\">0.9005619287490845</span>\n",
              "</pre>\n"
            ],
            "text/plain": [
              "Epoch:  \u001b[1;36m0\u001b[0m Batch:  \u001b[1;36m200\u001b[0m Loss:  \u001b[1;36m0.9005619287490845\u001b[0m\n"
            ]
          },
          "metadata": {},
          "output_type": "display_data"
        },
        {
          "data": {
            "text/html": [
              "<pre style=\"white-space:pre;overflow-x:auto;line-height:normal;font-family:Menlo,'DejaVu Sans Mono',consolas,'Courier New',monospace\">Epoch:  <span style=\"color: #008080; text-decoration-color: #008080; font-weight: bold\">0</span> Batch:  <span style=\"color: #008080; text-decoration-color: #008080; font-weight: bold\">300</span> Loss:  <span style=\"color: #008080; text-decoration-color: #008080; font-weight: bold\">0.9388620257377625</span>\n",
              "</pre>\n"
            ],
            "text/plain": [
              "Epoch:  \u001b[1;36m0\u001b[0m Batch:  \u001b[1;36m300\u001b[0m Loss:  \u001b[1;36m0.9388620257377625\u001b[0m\n"
            ]
          },
          "metadata": {},
          "output_type": "display_data"
        },
        {
          "data": {
            "text/html": [
              "<pre style=\"white-space:pre;overflow-x:auto;line-height:normal;font-family:Menlo,'DejaVu Sans Mono',consolas,'Courier New',monospace\">Epoch:  <span style=\"color: #008080; text-decoration-color: #008080; font-weight: bold\">0</span> Batch:  <span style=\"color: #008080; text-decoration-color: #008080; font-weight: bold\">400</span> Loss:  <span style=\"color: #008080; text-decoration-color: #008080; font-weight: bold\">0.5068456530570984</span>\n",
              "</pre>\n"
            ],
            "text/plain": [
              "Epoch:  \u001b[1;36m0\u001b[0m Batch:  \u001b[1;36m400\u001b[0m Loss:  \u001b[1;36m0.5068456530570984\u001b[0m\n"
            ]
          },
          "metadata": {},
          "output_type": "display_data"
        },
        {
          "data": {
            "text/html": [
              "<pre style=\"white-space:pre;overflow-x:auto;line-height:normal;font-family:Menlo,'DejaVu Sans Mono',consolas,'Courier New',monospace\">Epoch:  <span style=\"color: #008080; text-decoration-color: #008080; font-weight: bold\">0</span> Batch:  <span style=\"color: #008080; text-decoration-color: #008080; font-weight: bold\">500</span> Loss:  <span style=\"color: #008080; text-decoration-color: #008080; font-weight: bold\">1.0658038854599</span>\n",
              "</pre>\n"
            ],
            "text/plain": [
              "Epoch:  \u001b[1;36m0\u001b[0m Batch:  \u001b[1;36m500\u001b[0m Loss:  \u001b[1;36m1.0658038854599\u001b[0m\n"
            ]
          },
          "metadata": {},
          "output_type": "display_data"
        },
        {
          "data": {
            "text/html": [
              "<pre style=\"white-space:pre;overflow-x:auto;line-height:normal;font-family:Menlo,'DejaVu Sans Mono',consolas,'Courier New',monospace\">Epoch:  <span style=\"color: #008080; text-decoration-color: #008080; font-weight: bold\">0</span> Batch:  <span style=\"color: #008080; text-decoration-color: #008080; font-weight: bold\">600</span> Loss:  <span style=\"color: #008080; text-decoration-color: #008080; font-weight: bold\">1.2838510274887085</span>\n",
              "</pre>\n"
            ],
            "text/plain": [
              "Epoch:  \u001b[1;36m0\u001b[0m Batch:  \u001b[1;36m600\u001b[0m Loss:  \u001b[1;36m1.2838510274887085\u001b[0m\n"
            ]
          },
          "metadata": {},
          "output_type": "display_data"
        },
        {
          "data": {
            "text/html": [
              "<pre style=\"white-space:pre;overflow-x:auto;line-height:normal;font-family:Menlo,'DejaVu Sans Mono',consolas,'Courier New',monospace\">Epoch:  <span style=\"color: #008080; text-decoration-color: #008080; font-weight: bold\">0</span> Batch:  <span style=\"color: #008080; text-decoration-color: #008080; font-weight: bold\">700</span> Loss:  <span style=\"color: #008080; text-decoration-color: #008080; font-weight: bold\">0.40029507875442505</span>\n",
              "</pre>\n"
            ],
            "text/plain": [
              "Epoch:  \u001b[1;36m0\u001b[0m Batch:  \u001b[1;36m700\u001b[0m Loss:  \u001b[1;36m0.40029507875442505\u001b[0m\n"
            ]
          },
          "metadata": {},
          "output_type": "display_data"
        },
        {
          "data": {
            "text/html": [
              "<pre style=\"white-space:pre;overflow-x:auto;line-height:normal;font-family:Menlo,'DejaVu Sans Mono',consolas,'Courier New',monospace\">Epoch:  <span style=\"color: #008080; text-decoration-color: #008080; font-weight: bold\">0</span> Batch:  <span style=\"color: #008080; text-decoration-color: #008080; font-weight: bold\">800</span> Loss:  <span style=\"color: #008080; text-decoration-color: #008080; font-weight: bold\">0.5140978097915649</span>\n",
              "</pre>\n"
            ],
            "text/plain": [
              "Epoch:  \u001b[1;36m0\u001b[0m Batch:  \u001b[1;36m800\u001b[0m Loss:  \u001b[1;36m0.5140978097915649\u001b[0m\n"
            ]
          },
          "metadata": {},
          "output_type": "display_data"
        },
        {
          "data": {
            "text/html": [
              "<pre style=\"white-space:pre;overflow-x:auto;line-height:normal;font-family:Menlo,'DejaVu Sans Mono',consolas,'Courier New',monospace\"><span style=\"font-weight: bold\">[</span>Validation<span style=\"font-weight: bold\">]</span> Epoch:  <span style=\"color: #008080; text-decoration-color: #008080; font-weight: bold\">0</span> Validation Loss:  <span style=\"color: #008080; text-decoration-color: #008080; font-weight: bold\">0.716469114266553</span> Meteor:  <span style=\"color: #008080; text-decoration-color: #008080; font-weight: bold\">0.8305342794092496</span>\n",
              "</pre>\n"
            ],
            "text/plain": [
              "\u001b[1m[\u001b[0mValidation\u001b[1m]\u001b[0m Epoch:  \u001b[1;36m0\u001b[0m Validation Loss:  \u001b[1;36m0.716469114266553\u001b[0m Meteor:  \u001b[1;36m0.8305342794092496\u001b[0m\n"
            ]
          },
          "metadata": {},
          "output_type": "display_data"
        },
        {
          "data": {
            "text/html": [
              "<pre style=\"white-space:pre;overflow-x:auto;line-height:normal;font-family:Menlo,'DejaVu Sans Mono',consolas,'Courier New',monospace\"><span style=\"color: #7fbfbf; text-decoration-color: #7fbfbf\">[23:55:57] </span><span style=\"font-weight: bold\">[</span>Saved model and predictions of epoch <span style=\"color: #008080; text-decoration-color: #008080; font-weight: bold\">0</span><span style=\"font-weight: bold\">]</span>         <span style=\"color: #7f7f7f; text-decoration-color: #7f7f7f\">&lt;ipython-input-9-0db0a0532f7f&gt;:75</span>\n",
              "<span style=\"color: #7fbfbf; text-decoration-color: #7fbfbf\">           </span>                                                 <span style=\"color: #7f7f7f; text-decoration-color: #7f7f7f\">                                 </span>\n",
              "</pre>\n"
            ],
            "text/plain": [
              "\u001b[2;36m[23:55:57]\u001b[0m\u001b[2;36m \u001b[0m\u001b[1m[\u001b[0mSaved model and predictions of epoch \u001b[1;36m0\u001b[0m\u001b[1m]\u001b[0m         \u001b[2m<ipython-input-9-0db0a0532f7f>\u001b[0m\u001b[2m:\u001b[0m\u001b[2m75\u001b[0m\n",
              "\u001b[2;36m           \u001b[0m                                                 \u001b[2m                                 \u001b[0m\n"
            ]
          },
          "metadata": {},
          "output_type": "display_data"
        },
        {
          "data": {
            "text/html": [
              "<pre style=\"white-space:pre;overflow-x:auto;line-height:normal;font-family:Menlo,'DejaVu Sans Mono',consolas,'Courier New',monospace\">Epoch:  <span style=\"color: #008080; text-decoration-color: #008080; font-weight: bold\">1</span> Batch:  <span style=\"color: #008080; text-decoration-color: #008080; font-weight: bold\">0</span> Loss:  <span style=\"color: #008080; text-decoration-color: #008080; font-weight: bold\">0.7118552923202515</span>\n",
              "</pre>\n"
            ],
            "text/plain": [
              "Epoch:  \u001b[1;36m1\u001b[0m Batch:  \u001b[1;36m0\u001b[0m Loss:  \u001b[1;36m0.7118552923202515\u001b[0m\n"
            ]
          },
          "metadata": {},
          "output_type": "display_data"
        },
        {
          "data": {
            "text/html": [
              "<pre style=\"white-space:pre;overflow-x:auto;line-height:normal;font-family:Menlo,'DejaVu Sans Mono',consolas,'Courier New',monospace\">Epoch:  <span style=\"color: #008080; text-decoration-color: #008080; font-weight: bold\">1</span> Batch:  <span style=\"color: #008080; text-decoration-color: #008080; font-weight: bold\">100</span> Loss:  <span style=\"color: #008080; text-decoration-color: #008080; font-weight: bold\">0.45913583040237427</span>\n",
              "</pre>\n"
            ],
            "text/plain": [
              "Epoch:  \u001b[1;36m1\u001b[0m Batch:  \u001b[1;36m100\u001b[0m Loss:  \u001b[1;36m0.45913583040237427\u001b[0m\n"
            ]
          },
          "metadata": {},
          "output_type": "display_data"
        },
        {
          "data": {
            "text/html": [
              "<pre style=\"white-space:pre;overflow-x:auto;line-height:normal;font-family:Menlo,'DejaVu Sans Mono',consolas,'Courier New',monospace\">Epoch:  <span style=\"color: #008080; text-decoration-color: #008080; font-weight: bold\">1</span> Batch:  <span style=\"color: #008080; text-decoration-color: #008080; font-weight: bold\">200</span> Loss:  <span style=\"color: #008080; text-decoration-color: #008080; font-weight: bold\">0.5841633081436157</span>\n",
              "</pre>\n"
            ],
            "text/plain": [
              "Epoch:  \u001b[1;36m1\u001b[0m Batch:  \u001b[1;36m200\u001b[0m Loss:  \u001b[1;36m0.5841633081436157\u001b[0m\n"
            ]
          },
          "metadata": {},
          "output_type": "display_data"
        },
        {
          "data": {
            "text/html": [
              "<pre style=\"white-space:pre;overflow-x:auto;line-height:normal;font-family:Menlo,'DejaVu Sans Mono',consolas,'Courier New',monospace\">Epoch:  <span style=\"color: #008080; text-decoration-color: #008080; font-weight: bold\">1</span> Batch:  <span style=\"color: #008080; text-decoration-color: #008080; font-weight: bold\">300</span> Loss:  <span style=\"color: #008080; text-decoration-color: #008080; font-weight: bold\">0.6332472562789917</span>\n",
              "</pre>\n"
            ],
            "text/plain": [
              "Epoch:  \u001b[1;36m1\u001b[0m Batch:  \u001b[1;36m300\u001b[0m Loss:  \u001b[1;36m0.6332472562789917\u001b[0m\n"
            ]
          },
          "metadata": {},
          "output_type": "display_data"
        },
        {
          "data": {
            "text/html": [
              "<pre style=\"white-space:pre;overflow-x:auto;line-height:normal;font-family:Menlo,'DejaVu Sans Mono',consolas,'Courier New',monospace\">Epoch:  <span style=\"color: #008080; text-decoration-color: #008080; font-weight: bold\">1</span> Batch:  <span style=\"color: #008080; text-decoration-color: #008080; font-weight: bold\">400</span> Loss:  <span style=\"color: #008080; text-decoration-color: #008080; font-weight: bold\">0.643543004989624</span>\n",
              "</pre>\n"
            ],
            "text/plain": [
              "Epoch:  \u001b[1;36m1\u001b[0m Batch:  \u001b[1;36m400\u001b[0m Loss:  \u001b[1;36m0.643543004989624\u001b[0m\n"
            ]
          },
          "metadata": {},
          "output_type": "display_data"
        },
        {
          "data": {
            "text/html": [
              "<pre style=\"white-space:pre;overflow-x:auto;line-height:normal;font-family:Menlo,'DejaVu Sans Mono',consolas,'Courier New',monospace\">Epoch:  <span style=\"color: #008080; text-decoration-color: #008080; font-weight: bold\">1</span> Batch:  <span style=\"color: #008080; text-decoration-color: #008080; font-weight: bold\">500</span> Loss:  <span style=\"color: #008080; text-decoration-color: #008080; font-weight: bold\">0.7085569500923157</span>\n",
              "</pre>\n"
            ],
            "text/plain": [
              "Epoch:  \u001b[1;36m1\u001b[0m Batch:  \u001b[1;36m500\u001b[0m Loss:  \u001b[1;36m0.7085569500923157\u001b[0m\n"
            ]
          },
          "metadata": {},
          "output_type": "display_data"
        },
        {
          "data": {
            "text/html": [
              "<pre style=\"white-space:pre;overflow-x:auto;line-height:normal;font-family:Menlo,'DejaVu Sans Mono',consolas,'Courier New',monospace\">Epoch:  <span style=\"color: #008080; text-decoration-color: #008080; font-weight: bold\">1</span> Batch:  <span style=\"color: #008080; text-decoration-color: #008080; font-weight: bold\">600</span> Loss:  <span style=\"color: #008080; text-decoration-color: #008080; font-weight: bold\">0.962929904460907</span>\n",
              "</pre>\n"
            ],
            "text/plain": [
              "Epoch:  \u001b[1;36m1\u001b[0m Batch:  \u001b[1;36m600\u001b[0m Loss:  \u001b[1;36m0.962929904460907\u001b[0m\n"
            ]
          },
          "metadata": {},
          "output_type": "display_data"
        },
        {
          "data": {
            "text/html": [
              "<pre style=\"white-space:pre;overflow-x:auto;line-height:normal;font-family:Menlo,'DejaVu Sans Mono',consolas,'Courier New',monospace\">Epoch:  <span style=\"color: #008080; text-decoration-color: #008080; font-weight: bold\">1</span> Batch:  <span style=\"color: #008080; text-decoration-color: #008080; font-weight: bold\">700</span> Loss:  <span style=\"color: #008080; text-decoration-color: #008080; font-weight: bold\">0.8968844413757324</span>\n",
              "</pre>\n"
            ],
            "text/plain": [
              "Epoch:  \u001b[1;36m1\u001b[0m Batch:  \u001b[1;36m700\u001b[0m Loss:  \u001b[1;36m0.8968844413757324\u001b[0m\n"
            ]
          },
          "metadata": {},
          "output_type": "display_data"
        },
        {
          "data": {
            "text/html": [
              "<pre style=\"white-space:pre;overflow-x:auto;line-height:normal;font-family:Menlo,'DejaVu Sans Mono',consolas,'Courier New',monospace\">Epoch:  <span style=\"color: #008080; text-decoration-color: #008080; font-weight: bold\">1</span> Batch:  <span style=\"color: #008080; text-decoration-color: #008080; font-weight: bold\">800</span> Loss:  <span style=\"color: #008080; text-decoration-color: #008080; font-weight: bold\">0.4254424571990967</span>\n",
              "</pre>\n"
            ],
            "text/plain": [
              "Epoch:  \u001b[1;36m1\u001b[0m Batch:  \u001b[1;36m800\u001b[0m Loss:  \u001b[1;36m0.4254424571990967\u001b[0m\n"
            ]
          },
          "metadata": {},
          "output_type": "display_data"
        },
        {
          "data": {
            "text/html": [
              "<pre style=\"white-space:pre;overflow-x:auto;line-height:normal;font-family:Menlo,'DejaVu Sans Mono',consolas,'Courier New',monospace\"><span style=\"font-weight: bold\">[</span>Validation<span style=\"font-weight: bold\">]</span> Epoch:  <span style=\"color: #008080; text-decoration-color: #008080; font-weight: bold\">1</span> Validation Loss:  <span style=\"color: #008080; text-decoration-color: #008080; font-weight: bold\">0.6739400275123929</span> Meteor:  <span style=\"color: #008080; text-decoration-color: #008080; font-weight: bold\">0.8345127867983332</span>\n",
              "</pre>\n"
            ],
            "text/plain": [
              "\u001b[1m[\u001b[0mValidation\u001b[1m]\u001b[0m Epoch:  \u001b[1;36m1\u001b[0m Validation Loss:  \u001b[1;36m0.6739400275123929\u001b[0m Meteor:  \u001b[1;36m0.8345127867983332\u001b[0m\n"
            ]
          },
          "metadata": {},
          "output_type": "display_data"
        },
        {
          "data": {
            "text/html": [
              "<pre style=\"white-space:pre;overflow-x:auto;line-height:normal;font-family:Menlo,'DejaVu Sans Mono',consolas,'Courier New',monospace\"><span style=\"color: #7fbfbf; text-decoration-color: #7fbfbf\">[23:59:31] </span><span style=\"font-weight: bold\">[</span>Saved model and predictions of epoch <span style=\"color: #008080; text-decoration-color: #008080; font-weight: bold\">1</span><span style=\"font-weight: bold\">]</span>         <span style=\"color: #7f7f7f; text-decoration-color: #7f7f7f\">&lt;ipython-input-9-0db0a0532f7f&gt;:75</span>\n",
              "<span style=\"color: #7fbfbf; text-decoration-color: #7fbfbf\">           </span>                                                 <span style=\"color: #7f7f7f; text-decoration-color: #7f7f7f\">                                 </span>\n",
              "</pre>\n"
            ],
            "text/plain": [
              "\u001b[2;36m[23:59:31]\u001b[0m\u001b[2;36m \u001b[0m\u001b[1m[\u001b[0mSaved model and predictions of epoch \u001b[1;36m1\u001b[0m\u001b[1m]\u001b[0m         \u001b[2m<ipython-input-9-0db0a0532f7f>\u001b[0m\u001b[2m:\u001b[0m\u001b[2m75\u001b[0m\n",
              "\u001b[2;36m           \u001b[0m                                                 \u001b[2m                                 \u001b[0m\n"
            ]
          },
          "metadata": {},
          "output_type": "display_data"
        },
        {
          "data": {
            "text/html": [
              "<pre style=\"white-space:pre;overflow-x:auto;line-height:normal;font-family:Menlo,'DejaVu Sans Mono',consolas,'Courier New',monospace\">Epoch:  <span style=\"color: #008080; text-decoration-color: #008080; font-weight: bold\">2</span> Batch:  <span style=\"color: #008080; text-decoration-color: #008080; font-weight: bold\">0</span> Loss:  <span style=\"color: #008080; text-decoration-color: #008080; font-weight: bold\">0.8266814947128296</span>\n",
              "</pre>\n"
            ],
            "text/plain": [
              "Epoch:  \u001b[1;36m2\u001b[0m Batch:  \u001b[1;36m0\u001b[0m Loss:  \u001b[1;36m0.8266814947128296\u001b[0m\n"
            ]
          },
          "metadata": {},
          "output_type": "display_data"
        },
        {
          "data": {
            "text/html": [
              "<pre style=\"white-space:pre;overflow-x:auto;line-height:normal;font-family:Menlo,'DejaVu Sans Mono',consolas,'Courier New',monospace\">Epoch:  <span style=\"color: #008080; text-decoration-color: #008080; font-weight: bold\">2</span> Batch:  <span style=\"color: #008080; text-decoration-color: #008080; font-weight: bold\">100</span> Loss:  <span style=\"color: #008080; text-decoration-color: #008080; font-weight: bold\">0.7972901463508606</span>\n",
              "</pre>\n"
            ],
            "text/plain": [
              "Epoch:  \u001b[1;36m2\u001b[0m Batch:  \u001b[1;36m100\u001b[0m Loss:  \u001b[1;36m0.7972901463508606\u001b[0m\n"
            ]
          },
          "metadata": {},
          "output_type": "display_data"
        },
        {
          "data": {
            "text/html": [
              "<pre style=\"white-space:pre;overflow-x:auto;line-height:normal;font-family:Menlo,'DejaVu Sans Mono',consolas,'Courier New',monospace\">Epoch:  <span style=\"color: #008080; text-decoration-color: #008080; font-weight: bold\">2</span> Batch:  <span style=\"color: #008080; text-decoration-color: #008080; font-weight: bold\">200</span> Loss:  <span style=\"color: #008080; text-decoration-color: #008080; font-weight: bold\">0.4623473584651947</span>\n",
              "</pre>\n"
            ],
            "text/plain": [
              "Epoch:  \u001b[1;36m2\u001b[0m Batch:  \u001b[1;36m200\u001b[0m Loss:  \u001b[1;36m0.4623473584651947\u001b[0m\n"
            ]
          },
          "metadata": {},
          "output_type": "display_data"
        },
        {
          "data": {
            "text/html": [
              "<pre style=\"white-space:pre;overflow-x:auto;line-height:normal;font-family:Menlo,'DejaVu Sans Mono',consolas,'Courier New',monospace\">Epoch:  <span style=\"color: #008080; text-decoration-color: #008080; font-weight: bold\">2</span> Batch:  <span style=\"color: #008080; text-decoration-color: #008080; font-weight: bold\">300</span> Loss:  <span style=\"color: #008080; text-decoration-color: #008080; font-weight: bold\">0.46717914938926697</span>\n",
              "</pre>\n"
            ],
            "text/plain": [
              "Epoch:  \u001b[1;36m2\u001b[0m Batch:  \u001b[1;36m300\u001b[0m Loss:  \u001b[1;36m0.46717914938926697\u001b[0m\n"
            ]
          },
          "metadata": {},
          "output_type": "display_data"
        },
        {
          "data": {
            "text/html": [
              "<pre style=\"white-space:pre;overflow-x:auto;line-height:normal;font-family:Menlo,'DejaVu Sans Mono',consolas,'Courier New',monospace\">Epoch:  <span style=\"color: #008080; text-decoration-color: #008080; font-weight: bold\">2</span> Batch:  <span style=\"color: #008080; text-decoration-color: #008080; font-weight: bold\">400</span> Loss:  <span style=\"color: #008080; text-decoration-color: #008080; font-weight: bold\">1.077310562133789</span>\n",
              "</pre>\n"
            ],
            "text/plain": [
              "Epoch:  \u001b[1;36m2\u001b[0m Batch:  \u001b[1;36m400\u001b[0m Loss:  \u001b[1;36m1.077310562133789\u001b[0m\n"
            ]
          },
          "metadata": {},
          "output_type": "display_data"
        },
        {
          "data": {
            "text/html": [
              "<pre style=\"white-space:pre;overflow-x:auto;line-height:normal;font-family:Menlo,'DejaVu Sans Mono',consolas,'Courier New',monospace\">Epoch:  <span style=\"color: #008080; text-decoration-color: #008080; font-weight: bold\">2</span> Batch:  <span style=\"color: #008080; text-decoration-color: #008080; font-weight: bold\">500</span> Loss:  <span style=\"color: #008080; text-decoration-color: #008080; font-weight: bold\">0.5029279589653015</span>\n",
              "</pre>\n"
            ],
            "text/plain": [
              "Epoch:  \u001b[1;36m2\u001b[0m Batch:  \u001b[1;36m500\u001b[0m Loss:  \u001b[1;36m0.5029279589653015\u001b[0m\n"
            ]
          },
          "metadata": {},
          "output_type": "display_data"
        },
        {
          "data": {
            "text/html": [
              "<pre style=\"white-space:pre;overflow-x:auto;line-height:normal;font-family:Menlo,'DejaVu Sans Mono',consolas,'Courier New',monospace\">Epoch:  <span style=\"color: #008080; text-decoration-color: #008080; font-weight: bold\">2</span> Batch:  <span style=\"color: #008080; text-decoration-color: #008080; font-weight: bold\">600</span> Loss:  <span style=\"color: #008080; text-decoration-color: #008080; font-weight: bold\">0.5209157466888428</span>\n",
              "</pre>\n"
            ],
            "text/plain": [
              "Epoch:  \u001b[1;36m2\u001b[0m Batch:  \u001b[1;36m600\u001b[0m Loss:  \u001b[1;36m0.5209157466888428\u001b[0m\n"
            ]
          },
          "metadata": {},
          "output_type": "display_data"
        },
        {
          "data": {
            "text/html": [
              "<pre style=\"white-space:pre;overflow-x:auto;line-height:normal;font-family:Menlo,'DejaVu Sans Mono',consolas,'Courier New',monospace\">Epoch:  <span style=\"color: #008080; text-decoration-color: #008080; font-weight: bold\">2</span> Batch:  <span style=\"color: #008080; text-decoration-color: #008080; font-weight: bold\">700</span> Loss:  <span style=\"color: #008080; text-decoration-color: #008080; font-weight: bold\">1.3635326623916626</span>\n",
              "</pre>\n"
            ],
            "text/plain": [
              "Epoch:  \u001b[1;36m2\u001b[0m Batch:  \u001b[1;36m700\u001b[0m Loss:  \u001b[1;36m1.3635326623916626\u001b[0m\n"
            ]
          },
          "metadata": {},
          "output_type": "display_data"
        },
        {
          "data": {
            "text/html": [
              "<pre style=\"white-space:pre;overflow-x:auto;line-height:normal;font-family:Menlo,'DejaVu Sans Mono',consolas,'Courier New',monospace\">Epoch:  <span style=\"color: #008080; text-decoration-color: #008080; font-weight: bold\">2</span> Batch:  <span style=\"color: #008080; text-decoration-color: #008080; font-weight: bold\">800</span> Loss:  <span style=\"color: #008080; text-decoration-color: #008080; font-weight: bold\">0.6343309879302979</span>\n",
              "</pre>\n"
            ],
            "text/plain": [
              "Epoch:  \u001b[1;36m2\u001b[0m Batch:  \u001b[1;36m800\u001b[0m Loss:  \u001b[1;36m0.6343309879302979\u001b[0m\n"
            ]
          },
          "metadata": {},
          "output_type": "display_data"
        },
        {
          "data": {
            "text/html": [
              "<pre style=\"white-space:pre;overflow-x:auto;line-height:normal;font-family:Menlo,'DejaVu Sans Mono',consolas,'Courier New',monospace\"><span style=\"font-weight: bold\">[</span>Validation<span style=\"font-weight: bold\">]</span> Epoch:  <span style=\"color: #008080; text-decoration-color: #008080; font-weight: bold\">2</span> Validation Loss:  <span style=\"color: #008080; text-decoration-color: #008080; font-weight: bold\">0.6503209682922919</span> Meteor:  <span style=\"color: #008080; text-decoration-color: #008080; font-weight: bold\">0.8402708421850168</span>\n",
              "</pre>\n"
            ],
            "text/plain": [
              "\u001b[1m[\u001b[0mValidation\u001b[1m]\u001b[0m Epoch:  \u001b[1;36m2\u001b[0m Validation Loss:  \u001b[1;36m0.6503209682922919\u001b[0m Meteor:  \u001b[1;36m0.8402708421850168\u001b[0m\n"
            ]
          },
          "metadata": {},
          "output_type": "display_data"
        },
        {
          "data": {
            "text/html": [
              "<pre style=\"white-space:pre;overflow-x:auto;line-height:normal;font-family:Menlo,'DejaVu Sans Mono',consolas,'Courier New',monospace\"><span style=\"color: #7fbfbf; text-decoration-color: #7fbfbf\">[00:03:05] </span><span style=\"font-weight: bold\">[</span>Saved model and predictions of epoch <span style=\"color: #008080; text-decoration-color: #008080; font-weight: bold\">2</span><span style=\"font-weight: bold\">]</span>         <span style=\"color: #7f7f7f; text-decoration-color: #7f7f7f\">&lt;ipython-input-9-0db0a0532f7f&gt;:75</span>\n",
              "<span style=\"color: #7fbfbf; text-decoration-color: #7fbfbf\">           </span>                                                 <span style=\"color: #7f7f7f; text-decoration-color: #7f7f7f\">                                 </span>\n",
              "</pre>\n"
            ],
            "text/plain": [
              "\u001b[2;36m[00:03:05]\u001b[0m\u001b[2;36m \u001b[0m\u001b[1m[\u001b[0mSaved model and predictions of epoch \u001b[1;36m2\u001b[0m\u001b[1m]\u001b[0m         \u001b[2m<ipython-input-9-0db0a0532f7f>\u001b[0m\u001b[2m:\u001b[0m\u001b[2m75\u001b[0m\n",
              "\u001b[2;36m           \u001b[0m                                                 \u001b[2m                                 \u001b[0m\n"
            ]
          },
          "metadata": {},
          "output_type": "display_data"
        },
        {
          "data": {
            "text/html": [
              "<pre style=\"white-space:pre;overflow-x:auto;line-height:normal;font-family:Menlo,'DejaVu Sans Mono',consolas,'Courier New',monospace\">Epoch:  <span style=\"color: #008080; text-decoration-color: #008080; font-weight: bold\">3</span> Batch:  <span style=\"color: #008080; text-decoration-color: #008080; font-weight: bold\">0</span> Loss:  <span style=\"color: #008080; text-decoration-color: #008080; font-weight: bold\">0.4944368004798889</span>\n",
              "</pre>\n"
            ],
            "text/plain": [
              "Epoch:  \u001b[1;36m3\u001b[0m Batch:  \u001b[1;36m0\u001b[0m Loss:  \u001b[1;36m0.4944368004798889\u001b[0m\n"
            ]
          },
          "metadata": {},
          "output_type": "display_data"
        },
        {
          "data": {
            "text/html": [
              "<pre style=\"white-space:pre;overflow-x:auto;line-height:normal;font-family:Menlo,'DejaVu Sans Mono',consolas,'Courier New',monospace\">Epoch:  <span style=\"color: #008080; text-decoration-color: #008080; font-weight: bold\">3</span> Batch:  <span style=\"color: #008080; text-decoration-color: #008080; font-weight: bold\">100</span> Loss:  <span style=\"color: #008080; text-decoration-color: #008080; font-weight: bold\">0.8151289224624634</span>\n",
              "</pre>\n"
            ],
            "text/plain": [
              "Epoch:  \u001b[1;36m3\u001b[0m Batch:  \u001b[1;36m100\u001b[0m Loss:  \u001b[1;36m0.8151289224624634\u001b[0m\n"
            ]
          },
          "metadata": {},
          "output_type": "display_data"
        },
        {
          "data": {
            "text/html": [
              "<pre style=\"white-space:pre;overflow-x:auto;line-height:normal;font-family:Menlo,'DejaVu Sans Mono',consolas,'Courier New',monospace\">Epoch:  <span style=\"color: #008080; text-decoration-color: #008080; font-weight: bold\">3</span> Batch:  <span style=\"color: #008080; text-decoration-color: #008080; font-weight: bold\">200</span> Loss:  <span style=\"color: #008080; text-decoration-color: #008080; font-weight: bold\">0.6575958132743835</span>\n",
              "</pre>\n"
            ],
            "text/plain": [
              "Epoch:  \u001b[1;36m3\u001b[0m Batch:  \u001b[1;36m200\u001b[0m Loss:  \u001b[1;36m0.6575958132743835\u001b[0m\n"
            ]
          },
          "metadata": {},
          "output_type": "display_data"
        },
        {
          "data": {
            "text/html": [
              "<pre style=\"white-space:pre;overflow-x:auto;line-height:normal;font-family:Menlo,'DejaVu Sans Mono',consolas,'Courier New',monospace\">Epoch:  <span style=\"color: #008080; text-decoration-color: #008080; font-weight: bold\">3</span> Batch:  <span style=\"color: #008080; text-decoration-color: #008080; font-weight: bold\">300</span> Loss:  <span style=\"color: #008080; text-decoration-color: #008080; font-weight: bold\">0.5215638279914856</span>\n",
              "</pre>\n"
            ],
            "text/plain": [
              "Epoch:  \u001b[1;36m3\u001b[0m Batch:  \u001b[1;36m300\u001b[0m Loss:  \u001b[1;36m0.5215638279914856\u001b[0m\n"
            ]
          },
          "metadata": {},
          "output_type": "display_data"
        },
        {
          "data": {
            "text/html": [
              "<pre style=\"white-space:pre;overflow-x:auto;line-height:normal;font-family:Menlo,'DejaVu Sans Mono',consolas,'Courier New',monospace\">Epoch:  <span style=\"color: #008080; text-decoration-color: #008080; font-weight: bold\">3</span> Batch:  <span style=\"color: #008080; text-decoration-color: #008080; font-weight: bold\">400</span> Loss:  <span style=\"color: #008080; text-decoration-color: #008080; font-weight: bold\">0.42337408661842346</span>\n",
              "</pre>\n"
            ],
            "text/plain": [
              "Epoch:  \u001b[1;36m3\u001b[0m Batch:  \u001b[1;36m400\u001b[0m Loss:  \u001b[1;36m0.42337408661842346\u001b[0m\n"
            ]
          },
          "metadata": {},
          "output_type": "display_data"
        },
        {
          "data": {
            "text/html": [
              "<pre style=\"white-space:pre;overflow-x:auto;line-height:normal;font-family:Menlo,'DejaVu Sans Mono',consolas,'Courier New',monospace\">Epoch:  <span style=\"color: #008080; text-decoration-color: #008080; font-weight: bold\">3</span> Batch:  <span style=\"color: #008080; text-decoration-color: #008080; font-weight: bold\">500</span> Loss:  <span style=\"color: #008080; text-decoration-color: #008080; font-weight: bold\">0.5662673115730286</span>\n",
              "</pre>\n"
            ],
            "text/plain": [
              "Epoch:  \u001b[1;36m3\u001b[0m Batch:  \u001b[1;36m500\u001b[0m Loss:  \u001b[1;36m0.5662673115730286\u001b[0m\n"
            ]
          },
          "metadata": {},
          "output_type": "display_data"
        },
        {
          "data": {
            "text/html": [
              "<pre style=\"white-space:pre;overflow-x:auto;line-height:normal;font-family:Menlo,'DejaVu Sans Mono',consolas,'Courier New',monospace\">Epoch:  <span style=\"color: #008080; text-decoration-color: #008080; font-weight: bold\">3</span> Batch:  <span style=\"color: #008080; text-decoration-color: #008080; font-weight: bold\">600</span> Loss:  <span style=\"color: #008080; text-decoration-color: #008080; font-weight: bold\">0.45005327463150024</span>\n",
              "</pre>\n"
            ],
            "text/plain": [
              "Epoch:  \u001b[1;36m3\u001b[0m Batch:  \u001b[1;36m600\u001b[0m Loss:  \u001b[1;36m0.45005327463150024\u001b[0m\n"
            ]
          },
          "metadata": {},
          "output_type": "display_data"
        },
        {
          "data": {
            "text/html": [
              "<pre style=\"white-space:pre;overflow-x:auto;line-height:normal;font-family:Menlo,'DejaVu Sans Mono',consolas,'Courier New',monospace\">Epoch:  <span style=\"color: #008080; text-decoration-color: #008080; font-weight: bold\">3</span> Batch:  <span style=\"color: #008080; text-decoration-color: #008080; font-weight: bold\">700</span> Loss:  <span style=\"color: #008080; text-decoration-color: #008080; font-weight: bold\">0.5493406057357788</span>\n",
              "</pre>\n"
            ],
            "text/plain": [
              "Epoch:  \u001b[1;36m3\u001b[0m Batch:  \u001b[1;36m700\u001b[0m Loss:  \u001b[1;36m0.5493406057357788\u001b[0m\n"
            ]
          },
          "metadata": {},
          "output_type": "display_data"
        },
        {
          "data": {
            "text/html": [
              "<pre style=\"white-space:pre;overflow-x:auto;line-height:normal;font-family:Menlo,'DejaVu Sans Mono',consolas,'Courier New',monospace\">Epoch:  <span style=\"color: #008080; text-decoration-color: #008080; font-weight: bold\">3</span> Batch:  <span style=\"color: #008080; text-decoration-color: #008080; font-weight: bold\">800</span> Loss:  <span style=\"color: #008080; text-decoration-color: #008080; font-weight: bold\">0.4050738513469696</span>\n",
              "</pre>\n"
            ],
            "text/plain": [
              "Epoch:  \u001b[1;36m3\u001b[0m Batch:  \u001b[1;36m800\u001b[0m Loss:  \u001b[1;36m0.4050738513469696\u001b[0m\n"
            ]
          },
          "metadata": {},
          "output_type": "display_data"
        },
        {
          "data": {
            "text/html": [
              "<pre style=\"white-space:pre;overflow-x:auto;line-height:normal;font-family:Menlo,'DejaVu Sans Mono',consolas,'Courier New',monospace\"><span style=\"font-weight: bold\">[</span>Validation<span style=\"font-weight: bold\">]</span> Epoch:  <span style=\"color: #008080; text-decoration-color: #008080; font-weight: bold\">3</span> Validation Loss:  <span style=\"color: #008080; text-decoration-color: #008080; font-weight: bold\">0.6369597950896013</span> Meteor:  <span style=\"color: #008080; text-decoration-color: #008080; font-weight: bold\">0.8400828027401099</span>\n",
              "</pre>\n"
            ],
            "text/plain": [
              "\u001b[1m[\u001b[0mValidation\u001b[1m]\u001b[0m Epoch:  \u001b[1;36m3\u001b[0m Validation Loss:  \u001b[1;36m0.6369597950896013\u001b[0m Meteor:  \u001b[1;36m0.8400828027401099\u001b[0m\n"
            ]
          },
          "metadata": {},
          "output_type": "display_data"
        },
        {
          "data": {
            "text/html": [
              "<pre style=\"white-space:pre;overflow-x:auto;line-height:normal;font-family:Menlo,'DejaVu Sans Mono',consolas,'Courier New',monospace\">Epoch:  <span style=\"color: #008080; text-decoration-color: #008080; font-weight: bold\">4</span> Batch:  <span style=\"color: #008080; text-decoration-color: #008080; font-weight: bold\">0</span> Loss:  <span style=\"color: #008080; text-decoration-color: #008080; font-weight: bold\">0.686063289642334</span>\n",
              "</pre>\n"
            ],
            "text/plain": [
              "Epoch:  \u001b[1;36m4\u001b[0m Batch:  \u001b[1;36m0\u001b[0m Loss:  \u001b[1;36m0.686063289642334\u001b[0m\n"
            ]
          },
          "metadata": {},
          "output_type": "display_data"
        },
        {
          "data": {
            "text/html": [
              "<pre style=\"white-space:pre;overflow-x:auto;line-height:normal;font-family:Menlo,'DejaVu Sans Mono',consolas,'Courier New',monospace\">Epoch:  <span style=\"color: #008080; text-decoration-color: #008080; font-weight: bold\">4</span> Batch:  <span style=\"color: #008080; text-decoration-color: #008080; font-weight: bold\">100</span> Loss:  <span style=\"color: #008080; text-decoration-color: #008080; font-weight: bold\">0.5202931761741638</span>\n",
              "</pre>\n"
            ],
            "text/plain": [
              "Epoch:  \u001b[1;36m4\u001b[0m Batch:  \u001b[1;36m100\u001b[0m Loss:  \u001b[1;36m0.5202931761741638\u001b[0m\n"
            ]
          },
          "metadata": {},
          "output_type": "display_data"
        },
        {
          "data": {
            "text/html": [
              "<pre style=\"white-space:pre;overflow-x:auto;line-height:normal;font-family:Menlo,'DejaVu Sans Mono',consolas,'Courier New',monospace\">Epoch:  <span style=\"color: #008080; text-decoration-color: #008080; font-weight: bold\">4</span> Batch:  <span style=\"color: #008080; text-decoration-color: #008080; font-weight: bold\">200</span> Loss:  <span style=\"color: #008080; text-decoration-color: #008080; font-weight: bold\">0.40478143095970154</span>\n",
              "</pre>\n"
            ],
            "text/plain": [
              "Epoch:  \u001b[1;36m4\u001b[0m Batch:  \u001b[1;36m200\u001b[0m Loss:  \u001b[1;36m0.40478143095970154\u001b[0m\n"
            ]
          },
          "metadata": {},
          "output_type": "display_data"
        },
        {
          "data": {
            "text/html": [
              "<pre style=\"white-space:pre;overflow-x:auto;line-height:normal;font-family:Menlo,'DejaVu Sans Mono',consolas,'Courier New',monospace\">Epoch:  <span style=\"color: #008080; text-decoration-color: #008080; font-weight: bold\">4</span> Batch:  <span style=\"color: #008080; text-decoration-color: #008080; font-weight: bold\">300</span> Loss:  <span style=\"color: #008080; text-decoration-color: #008080; font-weight: bold\">0.434842973947525</span>\n",
              "</pre>\n"
            ],
            "text/plain": [
              "Epoch:  \u001b[1;36m4\u001b[0m Batch:  \u001b[1;36m300\u001b[0m Loss:  \u001b[1;36m0.434842973947525\u001b[0m\n"
            ]
          },
          "metadata": {},
          "output_type": "display_data"
        },
        {
          "data": {
            "text/html": [
              "<pre style=\"white-space:pre;overflow-x:auto;line-height:normal;font-family:Menlo,'DejaVu Sans Mono',consolas,'Courier New',monospace\">Epoch:  <span style=\"color: #008080; text-decoration-color: #008080; font-weight: bold\">4</span> Batch:  <span style=\"color: #008080; text-decoration-color: #008080; font-weight: bold\">400</span> Loss:  <span style=\"color: #008080; text-decoration-color: #008080; font-weight: bold\">0.4420369565486908</span>\n",
              "</pre>\n"
            ],
            "text/plain": [
              "Epoch:  \u001b[1;36m4\u001b[0m Batch:  \u001b[1;36m400\u001b[0m Loss:  \u001b[1;36m0.4420369565486908\u001b[0m\n"
            ]
          },
          "metadata": {},
          "output_type": "display_data"
        },
        {
          "data": {
            "text/html": [
              "<pre style=\"white-space:pre;overflow-x:auto;line-height:normal;font-family:Menlo,'DejaVu Sans Mono',consolas,'Courier New',monospace\">Epoch:  <span style=\"color: #008080; text-decoration-color: #008080; font-weight: bold\">4</span> Batch:  <span style=\"color: #008080; text-decoration-color: #008080; font-weight: bold\">500</span> Loss:  <span style=\"color: #008080; text-decoration-color: #008080; font-weight: bold\">0.682483971118927</span>\n",
              "</pre>\n"
            ],
            "text/plain": [
              "Epoch:  \u001b[1;36m4\u001b[0m Batch:  \u001b[1;36m500\u001b[0m Loss:  \u001b[1;36m0.682483971118927\u001b[0m\n"
            ]
          },
          "metadata": {},
          "output_type": "display_data"
        },
        {
          "data": {
            "text/html": [
              "<pre style=\"white-space:pre;overflow-x:auto;line-height:normal;font-family:Menlo,'DejaVu Sans Mono',consolas,'Courier New',monospace\">Epoch:  <span style=\"color: #008080; text-decoration-color: #008080; font-weight: bold\">4</span> Batch:  <span style=\"color: #008080; text-decoration-color: #008080; font-weight: bold\">600</span> Loss:  <span style=\"color: #008080; text-decoration-color: #008080; font-weight: bold\">0.5214399695396423</span>\n",
              "</pre>\n"
            ],
            "text/plain": [
              "Epoch:  \u001b[1;36m4\u001b[0m Batch:  \u001b[1;36m600\u001b[0m Loss:  \u001b[1;36m0.5214399695396423\u001b[0m\n"
            ]
          },
          "metadata": {},
          "output_type": "display_data"
        },
        {
          "data": {
            "text/html": [
              "<pre style=\"white-space:pre;overflow-x:auto;line-height:normal;font-family:Menlo,'DejaVu Sans Mono',consolas,'Courier New',monospace\">Epoch:  <span style=\"color: #008080; text-decoration-color: #008080; font-weight: bold\">4</span> Batch:  <span style=\"color: #008080; text-decoration-color: #008080; font-weight: bold\">700</span> Loss:  <span style=\"color: #008080; text-decoration-color: #008080; font-weight: bold\">0.5654712915420532</span>\n",
              "</pre>\n"
            ],
            "text/plain": [
              "Epoch:  \u001b[1;36m4\u001b[0m Batch:  \u001b[1;36m700\u001b[0m Loss:  \u001b[1;36m0.5654712915420532\u001b[0m\n"
            ]
          },
          "metadata": {},
          "output_type": "display_data"
        },
        {
          "data": {
            "text/html": [
              "<pre style=\"white-space:pre;overflow-x:auto;line-height:normal;font-family:Menlo,'DejaVu Sans Mono',consolas,'Courier New',monospace\">Epoch:  <span style=\"color: #008080; text-decoration-color: #008080; font-weight: bold\">4</span> Batch:  <span style=\"color: #008080; text-decoration-color: #008080; font-weight: bold\">800</span> Loss:  <span style=\"color: #008080; text-decoration-color: #008080; font-weight: bold\">0.7130259871482849</span>\n",
              "</pre>\n"
            ],
            "text/plain": [
              "Epoch:  \u001b[1;36m4\u001b[0m Batch:  \u001b[1;36m800\u001b[0m Loss:  \u001b[1;36m0.7130259871482849\u001b[0m\n"
            ]
          },
          "metadata": {},
          "output_type": "display_data"
        },
        {
          "data": {
            "text/html": [
              "<pre style=\"white-space:pre;overflow-x:auto;line-height:normal;font-family:Menlo,'DejaVu Sans Mono',consolas,'Courier New',monospace\"><span style=\"font-weight: bold\">[</span>Validation<span style=\"font-weight: bold\">]</span> Epoch:  <span style=\"color: #008080; text-decoration-color: #008080; font-weight: bold\">4</span> Validation Loss:  <span style=\"color: #008080; text-decoration-color: #008080; font-weight: bold\">0.6294972108116428</span> Meteor:  <span style=\"color: #008080; text-decoration-color: #008080; font-weight: bold\">0.8436026026235467</span>\n",
              "</pre>\n"
            ],
            "text/plain": [
              "\u001b[1m[\u001b[0mValidation\u001b[1m]\u001b[0m Epoch:  \u001b[1;36m4\u001b[0m Validation Loss:  \u001b[1;36m0.6294972108116428\u001b[0m Meteor:  \u001b[1;36m0.8436026026235467\u001b[0m\n"
            ]
          },
          "metadata": {},
          "output_type": "display_data"
        },
        {
          "data": {
            "text/html": [
              "<pre style=\"white-space:pre;overflow-x:auto;line-height:normal;font-family:Menlo,'DejaVu Sans Mono',consolas,'Courier New',monospace\"><span style=\"color: #7fbfbf; text-decoration-color: #7fbfbf\">[00:10:03] </span><span style=\"font-weight: bold\">[</span>Saved model and predictions of epoch <span style=\"color: #008080; text-decoration-color: #008080; font-weight: bold\">4</span><span style=\"font-weight: bold\">]</span>         <span style=\"color: #7f7f7f; text-decoration-color: #7f7f7f\">&lt;ipython-input-9-0db0a0532f7f&gt;:75</span>\n",
              "<span style=\"color: #7fbfbf; text-decoration-color: #7fbfbf\">           </span>                                                 <span style=\"color: #7f7f7f; text-decoration-color: #7f7f7f\">                                 </span>\n",
              "</pre>\n"
            ],
            "text/plain": [
              "\u001b[2;36m[00:10:03]\u001b[0m\u001b[2;36m \u001b[0m\u001b[1m[\u001b[0mSaved model and predictions of epoch \u001b[1;36m4\u001b[0m\u001b[1m]\u001b[0m         \u001b[2m<ipython-input-9-0db0a0532f7f>\u001b[0m\u001b[2m:\u001b[0m\u001b[2m75\u001b[0m\n",
              "\u001b[2;36m           \u001b[0m                                                 \u001b[2m                                 \u001b[0m\n"
            ]
          },
          "metadata": {},
          "output_type": "display_data"
        },
        {
          "data": {
            "text/html": [
              "<pre style=\"white-space:pre;overflow-x:auto;line-height:normal;font-family:Menlo,'DejaVu Sans Mono',consolas,'Courier New',monospace\">Epoch:  <span style=\"color: #008080; text-decoration-color: #008080; font-weight: bold\">5</span> Batch:  <span style=\"color: #008080; text-decoration-color: #008080; font-weight: bold\">0</span> Loss:  <span style=\"color: #008080; text-decoration-color: #008080; font-weight: bold\">0.49182504415512085</span>\n",
              "</pre>\n"
            ],
            "text/plain": [
              "Epoch:  \u001b[1;36m5\u001b[0m Batch:  \u001b[1;36m0\u001b[0m Loss:  \u001b[1;36m0.49182504415512085\u001b[0m\n"
            ]
          },
          "metadata": {},
          "output_type": "display_data"
        },
        {
          "data": {
            "text/html": [
              "<pre style=\"white-space:pre;overflow-x:auto;line-height:normal;font-family:Menlo,'DejaVu Sans Mono',consolas,'Courier New',monospace\">Epoch:  <span style=\"color: #008080; text-decoration-color: #008080; font-weight: bold\">5</span> Batch:  <span style=\"color: #008080; text-decoration-color: #008080; font-weight: bold\">100</span> Loss:  <span style=\"color: #008080; text-decoration-color: #008080; font-weight: bold\">0.3593575954437256</span>\n",
              "</pre>\n"
            ],
            "text/plain": [
              "Epoch:  \u001b[1;36m5\u001b[0m Batch:  \u001b[1;36m100\u001b[0m Loss:  \u001b[1;36m0.3593575954437256\u001b[0m\n"
            ]
          },
          "metadata": {},
          "output_type": "display_data"
        },
        {
          "data": {
            "text/html": [
              "<pre style=\"white-space:pre;overflow-x:auto;line-height:normal;font-family:Menlo,'DejaVu Sans Mono',consolas,'Courier New',monospace\">Epoch:  <span style=\"color: #008080; text-decoration-color: #008080; font-weight: bold\">5</span> Batch:  <span style=\"color: #008080; text-decoration-color: #008080; font-weight: bold\">200</span> Loss:  <span style=\"color: #008080; text-decoration-color: #008080; font-weight: bold\">0.3391593098640442</span>\n",
              "</pre>\n"
            ],
            "text/plain": [
              "Epoch:  \u001b[1;36m5\u001b[0m Batch:  \u001b[1;36m200\u001b[0m Loss:  \u001b[1;36m0.3391593098640442\u001b[0m\n"
            ]
          },
          "metadata": {},
          "output_type": "display_data"
        },
        {
          "data": {
            "text/html": [
              "<pre style=\"white-space:pre;overflow-x:auto;line-height:normal;font-family:Menlo,'DejaVu Sans Mono',consolas,'Courier New',monospace\">Epoch:  <span style=\"color: #008080; text-decoration-color: #008080; font-weight: bold\">5</span> Batch:  <span style=\"color: #008080; text-decoration-color: #008080; font-weight: bold\">300</span> Loss:  <span style=\"color: #008080; text-decoration-color: #008080; font-weight: bold\">0.412571519613266</span>\n",
              "</pre>\n"
            ],
            "text/plain": [
              "Epoch:  \u001b[1;36m5\u001b[0m Batch:  \u001b[1;36m300\u001b[0m Loss:  \u001b[1;36m0.412571519613266\u001b[0m\n"
            ]
          },
          "metadata": {},
          "output_type": "display_data"
        },
        {
          "data": {
            "text/html": [
              "<pre style=\"white-space:pre;overflow-x:auto;line-height:normal;font-family:Menlo,'DejaVu Sans Mono',consolas,'Courier New',monospace\">Epoch:  <span style=\"color: #008080; text-decoration-color: #008080; font-weight: bold\">5</span> Batch:  <span style=\"color: #008080; text-decoration-color: #008080; font-weight: bold\">400</span> Loss:  <span style=\"color: #008080; text-decoration-color: #008080; font-weight: bold\">0.1338662952184677</span>\n",
              "</pre>\n"
            ],
            "text/plain": [
              "Epoch:  \u001b[1;36m5\u001b[0m Batch:  \u001b[1;36m400\u001b[0m Loss:  \u001b[1;36m0.1338662952184677\u001b[0m\n"
            ]
          },
          "metadata": {},
          "output_type": "display_data"
        },
        {
          "data": {
            "text/html": [
              "<pre style=\"white-space:pre;overflow-x:auto;line-height:normal;font-family:Menlo,'DejaVu Sans Mono',consolas,'Courier New',monospace\">Epoch:  <span style=\"color: #008080; text-decoration-color: #008080; font-weight: bold\">5</span> Batch:  <span style=\"color: #008080; text-decoration-color: #008080; font-weight: bold\">500</span> Loss:  <span style=\"color: #008080; text-decoration-color: #008080; font-weight: bold\">0.40013816952705383</span>\n",
              "</pre>\n"
            ],
            "text/plain": [
              "Epoch:  \u001b[1;36m5\u001b[0m Batch:  \u001b[1;36m500\u001b[0m Loss:  \u001b[1;36m0.40013816952705383\u001b[0m\n"
            ]
          },
          "metadata": {},
          "output_type": "display_data"
        },
        {
          "data": {
            "text/html": [
              "<pre style=\"white-space:pre;overflow-x:auto;line-height:normal;font-family:Menlo,'DejaVu Sans Mono',consolas,'Courier New',monospace\">Epoch:  <span style=\"color: #008080; text-decoration-color: #008080; font-weight: bold\">5</span> Batch:  <span style=\"color: #008080; text-decoration-color: #008080; font-weight: bold\">600</span> Loss:  <span style=\"color: #008080; text-decoration-color: #008080; font-weight: bold\">0.3457864224910736</span>\n",
              "</pre>\n"
            ],
            "text/plain": [
              "Epoch:  \u001b[1;36m5\u001b[0m Batch:  \u001b[1;36m600\u001b[0m Loss:  \u001b[1;36m0.3457864224910736\u001b[0m\n"
            ]
          },
          "metadata": {},
          "output_type": "display_data"
        },
        {
          "data": {
            "text/html": [
              "<pre style=\"white-space:pre;overflow-x:auto;line-height:normal;font-family:Menlo,'DejaVu Sans Mono',consolas,'Courier New',monospace\">Epoch:  <span style=\"color: #008080; text-decoration-color: #008080; font-weight: bold\">5</span> Batch:  <span style=\"color: #008080; text-decoration-color: #008080; font-weight: bold\">700</span> Loss:  <span style=\"color: #008080; text-decoration-color: #008080; font-weight: bold\">0.703286349773407</span>\n",
              "</pre>\n"
            ],
            "text/plain": [
              "Epoch:  \u001b[1;36m5\u001b[0m Batch:  \u001b[1;36m700\u001b[0m Loss:  \u001b[1;36m0.703286349773407\u001b[0m\n"
            ]
          },
          "metadata": {},
          "output_type": "display_data"
        },
        {
          "data": {
            "text/html": [
              "<pre style=\"white-space:pre;overflow-x:auto;line-height:normal;font-family:Menlo,'DejaVu Sans Mono',consolas,'Courier New',monospace\">Epoch:  <span style=\"color: #008080; text-decoration-color: #008080; font-weight: bold\">5</span> Batch:  <span style=\"color: #008080; text-decoration-color: #008080; font-weight: bold\">800</span> Loss:  <span style=\"color: #008080; text-decoration-color: #008080; font-weight: bold\">0.41254299879074097</span>\n",
              "</pre>\n"
            ],
            "text/plain": [
              "Epoch:  \u001b[1;36m5\u001b[0m Batch:  \u001b[1;36m800\u001b[0m Loss:  \u001b[1;36m0.41254299879074097\u001b[0m\n"
            ]
          },
          "metadata": {},
          "output_type": "display_data"
        },
        {
          "data": {
            "text/html": [
              "<pre style=\"white-space:pre;overflow-x:auto;line-height:normal;font-family:Menlo,'DejaVu Sans Mono',consolas,'Courier New',monospace\"><span style=\"font-weight: bold\">[</span>Validation<span style=\"font-weight: bold\">]</span> Epoch:  <span style=\"color: #008080; text-decoration-color: #008080; font-weight: bold\">5</span> Validation Loss:  <span style=\"color: #008080; text-decoration-color: #008080; font-weight: bold\">0.6223173969000289</span> Meteor:  <span style=\"color: #008080; text-decoration-color: #008080; font-weight: bold\">0.8428430929257514</span>\n",
              "</pre>\n"
            ],
            "text/plain": [
              "\u001b[1m[\u001b[0mValidation\u001b[1m]\u001b[0m Epoch:  \u001b[1;36m5\u001b[0m Validation Loss:  \u001b[1;36m0.6223173969000289\u001b[0m Meteor:  \u001b[1;36m0.8428430929257514\u001b[0m\n"
            ]
          },
          "metadata": {},
          "output_type": "display_data"
        },
        {
          "data": {
            "text/html": [
              "<pre style=\"white-space:pre;overflow-x:auto;line-height:normal;font-family:Menlo,'DejaVu Sans Mono',consolas,'Courier New',monospace\">Epoch:  <span style=\"color: #008080; text-decoration-color: #008080; font-weight: bold\">6</span> Batch:  <span style=\"color: #008080; text-decoration-color: #008080; font-weight: bold\">0</span> Loss:  <span style=\"color: #008080; text-decoration-color: #008080; font-weight: bold\">0.4384710192680359</span>\n",
              "</pre>\n"
            ],
            "text/plain": [
              "Epoch:  \u001b[1;36m6\u001b[0m Batch:  \u001b[1;36m0\u001b[0m Loss:  \u001b[1;36m0.4384710192680359\u001b[0m\n"
            ]
          },
          "metadata": {},
          "output_type": "display_data"
        },
        {
          "data": {
            "text/html": [
              "<pre style=\"white-space:pre;overflow-x:auto;line-height:normal;font-family:Menlo,'DejaVu Sans Mono',consolas,'Courier New',monospace\">Epoch:  <span style=\"color: #008080; text-decoration-color: #008080; font-weight: bold\">6</span> Batch:  <span style=\"color: #008080; text-decoration-color: #008080; font-weight: bold\">100</span> Loss:  <span style=\"color: #008080; text-decoration-color: #008080; font-weight: bold\">0.764802098274231</span>\n",
              "</pre>\n"
            ],
            "text/plain": [
              "Epoch:  \u001b[1;36m6\u001b[0m Batch:  \u001b[1;36m100\u001b[0m Loss:  \u001b[1;36m0.764802098274231\u001b[0m\n"
            ]
          },
          "metadata": {},
          "output_type": "display_data"
        },
        {
          "data": {
            "text/html": [
              "<pre style=\"white-space:pre;overflow-x:auto;line-height:normal;font-family:Menlo,'DejaVu Sans Mono',consolas,'Courier New',monospace\">Epoch:  <span style=\"color: #008080; text-decoration-color: #008080; font-weight: bold\">6</span> Batch:  <span style=\"color: #008080; text-decoration-color: #008080; font-weight: bold\">200</span> Loss:  <span style=\"color: #008080; text-decoration-color: #008080; font-weight: bold\">0.3726195693016052</span>\n",
              "</pre>\n"
            ],
            "text/plain": [
              "Epoch:  \u001b[1;36m6\u001b[0m Batch:  \u001b[1;36m200\u001b[0m Loss:  \u001b[1;36m0.3726195693016052\u001b[0m\n"
            ]
          },
          "metadata": {},
          "output_type": "display_data"
        },
        {
          "data": {
            "text/html": [
              "<pre style=\"white-space:pre;overflow-x:auto;line-height:normal;font-family:Menlo,'DejaVu Sans Mono',consolas,'Courier New',monospace\">Epoch:  <span style=\"color: #008080; text-decoration-color: #008080; font-weight: bold\">6</span> Batch:  <span style=\"color: #008080; text-decoration-color: #008080; font-weight: bold\">300</span> Loss:  <span style=\"color: #008080; text-decoration-color: #008080; font-weight: bold\">0.8578194975852966</span>\n",
              "</pre>\n"
            ],
            "text/plain": [
              "Epoch:  \u001b[1;36m6\u001b[0m Batch:  \u001b[1;36m300\u001b[0m Loss:  \u001b[1;36m0.8578194975852966\u001b[0m\n"
            ]
          },
          "metadata": {},
          "output_type": "display_data"
        },
        {
          "data": {
            "text/html": [
              "<pre style=\"white-space:pre;overflow-x:auto;line-height:normal;font-family:Menlo,'DejaVu Sans Mono',consolas,'Courier New',monospace\">Epoch:  <span style=\"color: #008080; text-decoration-color: #008080; font-weight: bold\">6</span> Batch:  <span style=\"color: #008080; text-decoration-color: #008080; font-weight: bold\">400</span> Loss:  <span style=\"color: #008080; text-decoration-color: #008080; font-weight: bold\">0.25093579292297363</span>\n",
              "</pre>\n"
            ],
            "text/plain": [
              "Epoch:  \u001b[1;36m6\u001b[0m Batch:  \u001b[1;36m400\u001b[0m Loss:  \u001b[1;36m0.25093579292297363\u001b[0m\n"
            ]
          },
          "metadata": {},
          "output_type": "display_data"
        },
        {
          "data": {
            "text/html": [
              "<pre style=\"white-space:pre;overflow-x:auto;line-height:normal;font-family:Menlo,'DejaVu Sans Mono',consolas,'Courier New',monospace\">Epoch:  <span style=\"color: #008080; text-decoration-color: #008080; font-weight: bold\">6</span> Batch:  <span style=\"color: #008080; text-decoration-color: #008080; font-weight: bold\">500</span> Loss:  <span style=\"color: #008080; text-decoration-color: #008080; font-weight: bold\">0.3886050581932068</span>\n",
              "</pre>\n"
            ],
            "text/plain": [
              "Epoch:  \u001b[1;36m6\u001b[0m Batch:  \u001b[1;36m500\u001b[0m Loss:  \u001b[1;36m0.3886050581932068\u001b[0m\n"
            ]
          },
          "metadata": {},
          "output_type": "display_data"
        },
        {
          "data": {
            "text/html": [
              "<pre style=\"white-space:pre;overflow-x:auto;line-height:normal;font-family:Menlo,'DejaVu Sans Mono',consolas,'Courier New',monospace\">Epoch:  <span style=\"color: #008080; text-decoration-color: #008080; font-weight: bold\">6</span> Batch:  <span style=\"color: #008080; text-decoration-color: #008080; font-weight: bold\">600</span> Loss:  <span style=\"color: #008080; text-decoration-color: #008080; font-weight: bold\">0.24602006375789642</span>\n",
              "</pre>\n"
            ],
            "text/plain": [
              "Epoch:  \u001b[1;36m6\u001b[0m Batch:  \u001b[1;36m600\u001b[0m Loss:  \u001b[1;36m0.24602006375789642\u001b[0m\n"
            ]
          },
          "metadata": {},
          "output_type": "display_data"
        },
        {
          "data": {
            "text/html": [
              "<pre style=\"white-space:pre;overflow-x:auto;line-height:normal;font-family:Menlo,'DejaVu Sans Mono',consolas,'Courier New',monospace\">Epoch:  <span style=\"color: #008080; text-decoration-color: #008080; font-weight: bold\">6</span> Batch:  <span style=\"color: #008080; text-decoration-color: #008080; font-weight: bold\">700</span> Loss:  <span style=\"color: #008080; text-decoration-color: #008080; font-weight: bold\">0.8501477241516113</span>\n",
              "</pre>\n"
            ],
            "text/plain": [
              "Epoch:  \u001b[1;36m6\u001b[0m Batch:  \u001b[1;36m700\u001b[0m Loss:  \u001b[1;36m0.8501477241516113\u001b[0m\n"
            ]
          },
          "metadata": {},
          "output_type": "display_data"
        },
        {
          "data": {
            "text/html": [
              "<pre style=\"white-space:pre;overflow-x:auto;line-height:normal;font-family:Menlo,'DejaVu Sans Mono',consolas,'Courier New',monospace\">Epoch:  <span style=\"color: #008080; text-decoration-color: #008080; font-weight: bold\">6</span> Batch:  <span style=\"color: #008080; text-decoration-color: #008080; font-weight: bold\">800</span> Loss:  <span style=\"color: #008080; text-decoration-color: #008080; font-weight: bold\">0.21979665756225586</span>\n",
              "</pre>\n"
            ],
            "text/plain": [
              "Epoch:  \u001b[1;36m6\u001b[0m Batch:  \u001b[1;36m800\u001b[0m Loss:  \u001b[1;36m0.21979665756225586\u001b[0m\n"
            ]
          },
          "metadata": {},
          "output_type": "display_data"
        },
        {
          "data": {
            "text/html": [
              "<pre style=\"white-space:pre;overflow-x:auto;line-height:normal;font-family:Menlo,'DejaVu Sans Mono',consolas,'Courier New',monospace\"><span style=\"font-weight: bold\">[</span>Validation<span style=\"font-weight: bold\">]</span> Epoch:  <span style=\"color: #008080; text-decoration-color: #008080; font-weight: bold\">6</span> Validation Loss:  <span style=\"color: #008080; text-decoration-color: #008080; font-weight: bold\">0.628772909635479</span> Meteor:  <span style=\"color: #008080; text-decoration-color: #008080; font-weight: bold\">0.845702595744962</span>\n",
              "</pre>\n"
            ],
            "text/plain": [
              "\u001b[1m[\u001b[0mValidation\u001b[1m]\u001b[0m Epoch:  \u001b[1;36m6\u001b[0m Validation Loss:  \u001b[1;36m0.628772909635479\u001b[0m Meteor:  \u001b[1;36m0.845702595744962\u001b[0m\n"
            ]
          },
          "metadata": {},
          "output_type": "display_data"
        },
        {
          "data": {
            "text/html": [
              "<pre style=\"white-space:pre;overflow-x:auto;line-height:normal;font-family:Menlo,'DejaVu Sans Mono',consolas,'Courier New',monospace\"><span style=\"color: #7fbfbf; text-decoration-color: #7fbfbf\">[00:17:01] </span><span style=\"font-weight: bold\">[</span>Saved model and predictions of epoch <span style=\"color: #008080; text-decoration-color: #008080; font-weight: bold\">6</span><span style=\"font-weight: bold\">]</span>         <span style=\"color: #7f7f7f; text-decoration-color: #7f7f7f\">&lt;ipython-input-9-0db0a0532f7f&gt;:75</span>\n",
              "<span style=\"color: #7fbfbf; text-decoration-color: #7fbfbf\">           </span>                                                 <span style=\"color: #7f7f7f; text-decoration-color: #7f7f7f\">                                 </span>\n",
              "</pre>\n"
            ],
            "text/plain": [
              "\u001b[2;36m[00:17:01]\u001b[0m\u001b[2;36m \u001b[0m\u001b[1m[\u001b[0mSaved model and predictions of epoch \u001b[1;36m6\u001b[0m\u001b[1m]\u001b[0m         \u001b[2m<ipython-input-9-0db0a0532f7f>\u001b[0m\u001b[2m:\u001b[0m\u001b[2m75\u001b[0m\n",
              "\u001b[2;36m           \u001b[0m                                                 \u001b[2m                                 \u001b[0m\n"
            ]
          },
          "metadata": {},
          "output_type": "display_data"
        },
        {
          "data": {
            "text/html": [
              "<pre style=\"white-space:pre;overflow-x:auto;line-height:normal;font-family:Menlo,'DejaVu Sans Mono',consolas,'Courier New',monospace\">Epoch:  <span style=\"color: #008080; text-decoration-color: #008080; font-weight: bold\">7</span> Batch:  <span style=\"color: #008080; text-decoration-color: #008080; font-weight: bold\">0</span> Loss:  <span style=\"color: #008080; text-decoration-color: #008080; font-weight: bold\">0.5733041167259216</span>\n",
              "</pre>\n"
            ],
            "text/plain": [
              "Epoch:  \u001b[1;36m7\u001b[0m Batch:  \u001b[1;36m0\u001b[0m Loss:  \u001b[1;36m0.5733041167259216\u001b[0m\n"
            ]
          },
          "metadata": {},
          "output_type": "display_data"
        },
        {
          "data": {
            "text/html": [
              "<pre style=\"white-space:pre;overflow-x:auto;line-height:normal;font-family:Menlo,'DejaVu Sans Mono',consolas,'Courier New',monospace\">Epoch:  <span style=\"color: #008080; text-decoration-color: #008080; font-weight: bold\">7</span> Batch:  <span style=\"color: #008080; text-decoration-color: #008080; font-weight: bold\">100</span> Loss:  <span style=\"color: #008080; text-decoration-color: #008080; font-weight: bold\">0.31919410824775696</span>\n",
              "</pre>\n"
            ],
            "text/plain": [
              "Epoch:  \u001b[1;36m7\u001b[0m Batch:  \u001b[1;36m100\u001b[0m Loss:  \u001b[1;36m0.31919410824775696\u001b[0m\n"
            ]
          },
          "metadata": {},
          "output_type": "display_data"
        },
        {
          "data": {
            "text/html": [
              "<pre style=\"white-space:pre;overflow-x:auto;line-height:normal;font-family:Menlo,'DejaVu Sans Mono',consolas,'Courier New',monospace\">Epoch:  <span style=\"color: #008080; text-decoration-color: #008080; font-weight: bold\">7</span> Batch:  <span style=\"color: #008080; text-decoration-color: #008080; font-weight: bold\">200</span> Loss:  <span style=\"color: #008080; text-decoration-color: #008080; font-weight: bold\">0.38402315974235535</span>\n",
              "</pre>\n"
            ],
            "text/plain": [
              "Epoch:  \u001b[1;36m7\u001b[0m Batch:  \u001b[1;36m200\u001b[0m Loss:  \u001b[1;36m0.38402315974235535\u001b[0m\n"
            ]
          },
          "metadata": {},
          "output_type": "display_data"
        },
        {
          "data": {
            "text/html": [
              "<pre style=\"white-space:pre;overflow-x:auto;line-height:normal;font-family:Menlo,'DejaVu Sans Mono',consolas,'Courier New',monospace\">Epoch:  <span style=\"color: #008080; text-decoration-color: #008080; font-weight: bold\">7</span> Batch:  <span style=\"color: #008080; text-decoration-color: #008080; font-weight: bold\">300</span> Loss:  <span style=\"color: #008080; text-decoration-color: #008080; font-weight: bold\">0.4714653789997101</span>\n",
              "</pre>\n"
            ],
            "text/plain": [
              "Epoch:  \u001b[1;36m7\u001b[0m Batch:  \u001b[1;36m300\u001b[0m Loss:  \u001b[1;36m0.4714653789997101\u001b[0m\n"
            ]
          },
          "metadata": {},
          "output_type": "display_data"
        },
        {
          "data": {
            "text/html": [
              "<pre style=\"white-space:pre;overflow-x:auto;line-height:normal;font-family:Menlo,'DejaVu Sans Mono',consolas,'Courier New',monospace\">Epoch:  <span style=\"color: #008080; text-decoration-color: #008080; font-weight: bold\">7</span> Batch:  <span style=\"color: #008080; text-decoration-color: #008080; font-weight: bold\">400</span> Loss:  <span style=\"color: #008080; text-decoration-color: #008080; font-weight: bold\">0.5264063477516174</span>\n",
              "</pre>\n"
            ],
            "text/plain": [
              "Epoch:  \u001b[1;36m7\u001b[0m Batch:  \u001b[1;36m400\u001b[0m Loss:  \u001b[1;36m0.5264063477516174\u001b[0m\n"
            ]
          },
          "metadata": {},
          "output_type": "display_data"
        },
        {
          "data": {
            "text/html": [
              "<pre style=\"white-space:pre;overflow-x:auto;line-height:normal;font-family:Menlo,'DejaVu Sans Mono',consolas,'Courier New',monospace\">Epoch:  <span style=\"color: #008080; text-decoration-color: #008080; font-weight: bold\">7</span> Batch:  <span style=\"color: #008080; text-decoration-color: #008080; font-weight: bold\">500</span> Loss:  <span style=\"color: #008080; text-decoration-color: #008080; font-weight: bold\">0.28331008553504944</span>\n",
              "</pre>\n"
            ],
            "text/plain": [
              "Epoch:  \u001b[1;36m7\u001b[0m Batch:  \u001b[1;36m500\u001b[0m Loss:  \u001b[1;36m0.28331008553504944\u001b[0m\n"
            ]
          },
          "metadata": {},
          "output_type": "display_data"
        },
        {
          "data": {
            "text/html": [
              "<pre style=\"white-space:pre;overflow-x:auto;line-height:normal;font-family:Menlo,'DejaVu Sans Mono',consolas,'Courier New',monospace\">Epoch:  <span style=\"color: #008080; text-decoration-color: #008080; font-weight: bold\">7</span> Batch:  <span style=\"color: #008080; text-decoration-color: #008080; font-weight: bold\">600</span> Loss:  <span style=\"color: #008080; text-decoration-color: #008080; font-weight: bold\">0.45667266845703125</span>\n",
              "</pre>\n"
            ],
            "text/plain": [
              "Epoch:  \u001b[1;36m7\u001b[0m Batch:  \u001b[1;36m600\u001b[0m Loss:  \u001b[1;36m0.45667266845703125\u001b[0m\n"
            ]
          },
          "metadata": {},
          "output_type": "display_data"
        },
        {
          "data": {
            "text/html": [
              "<pre style=\"white-space:pre;overflow-x:auto;line-height:normal;font-family:Menlo,'DejaVu Sans Mono',consolas,'Courier New',monospace\">Epoch:  <span style=\"color: #008080; text-decoration-color: #008080; font-weight: bold\">7</span> Batch:  <span style=\"color: #008080; text-decoration-color: #008080; font-weight: bold\">700</span> Loss:  <span style=\"color: #008080; text-decoration-color: #008080; font-weight: bold\">0.3228212296962738</span>\n",
              "</pre>\n"
            ],
            "text/plain": [
              "Epoch:  \u001b[1;36m7\u001b[0m Batch:  \u001b[1;36m700\u001b[0m Loss:  \u001b[1;36m0.3228212296962738\u001b[0m\n"
            ]
          },
          "metadata": {},
          "output_type": "display_data"
        },
        {
          "data": {
            "text/html": [
              "<pre style=\"white-space:pre;overflow-x:auto;line-height:normal;font-family:Menlo,'DejaVu Sans Mono',consolas,'Courier New',monospace\">Epoch:  <span style=\"color: #008080; text-decoration-color: #008080; font-weight: bold\">7</span> Batch:  <span style=\"color: #008080; text-decoration-color: #008080; font-weight: bold\">800</span> Loss:  <span style=\"color: #008080; text-decoration-color: #008080; font-weight: bold\">0.44123226404190063</span>\n",
              "</pre>\n"
            ],
            "text/plain": [
              "Epoch:  \u001b[1;36m7\u001b[0m Batch:  \u001b[1;36m800\u001b[0m Loss:  \u001b[1;36m0.44123226404190063\u001b[0m\n"
            ]
          },
          "metadata": {},
          "output_type": "display_data"
        },
        {
          "data": {
            "text/html": [
              "<pre style=\"white-space:pre;overflow-x:auto;line-height:normal;font-family:Menlo,'DejaVu Sans Mono',consolas,'Courier New',monospace\"><span style=\"font-weight: bold\">[</span>Validation<span style=\"font-weight: bold\">]</span> Epoch:  <span style=\"color: #008080; text-decoration-color: #008080; font-weight: bold\">7</span> Validation Loss:  <span style=\"color: #008080; text-decoration-color: #008080; font-weight: bold\">0.6344188374367733</span> Meteor:  <span style=\"color: #008080; text-decoration-color: #008080; font-weight: bold\">0.8482490521550159</span>\n",
              "</pre>\n"
            ],
            "text/plain": [
              "\u001b[1m[\u001b[0mValidation\u001b[1m]\u001b[0m Epoch:  \u001b[1;36m7\u001b[0m Validation Loss:  \u001b[1;36m0.6344188374367733\u001b[0m Meteor:  \u001b[1;36m0.8482490521550159\u001b[0m\n"
            ]
          },
          "metadata": {},
          "output_type": "display_data"
        },
        {
          "data": {
            "text/html": [
              "<pre style=\"white-space:pre;overflow-x:auto;line-height:normal;font-family:Menlo,'DejaVu Sans Mono',consolas,'Courier New',monospace\"><span style=\"color: #7fbfbf; text-decoration-color: #7fbfbf\">[00:20:31] </span><span style=\"font-weight: bold\">[</span>Saved model and predictions of epoch <span style=\"color: #008080; text-decoration-color: #008080; font-weight: bold\">7</span><span style=\"font-weight: bold\">]</span>         <span style=\"color: #7f7f7f; text-decoration-color: #7f7f7f\">&lt;ipython-input-9-0db0a0532f7f&gt;:75</span>\n",
              "<span style=\"color: #7fbfbf; text-decoration-color: #7fbfbf\">           </span>                                                 <span style=\"color: #7f7f7f; text-decoration-color: #7f7f7f\">                                 </span>\n",
              "</pre>\n"
            ],
            "text/plain": [
              "\u001b[2;36m[00:20:31]\u001b[0m\u001b[2;36m \u001b[0m\u001b[1m[\u001b[0mSaved model and predictions of epoch \u001b[1;36m7\u001b[0m\u001b[1m]\u001b[0m         \u001b[2m<ipython-input-9-0db0a0532f7f>\u001b[0m\u001b[2m:\u001b[0m\u001b[2m75\u001b[0m\n",
              "\u001b[2;36m           \u001b[0m                                                 \u001b[2m                                 \u001b[0m\n"
            ]
          },
          "metadata": {},
          "output_type": "display_data"
        },
        {
          "data": {
            "text/html": [
              "<pre style=\"white-space:pre;overflow-x:auto;line-height:normal;font-family:Menlo,'DejaVu Sans Mono',consolas,'Courier New',monospace\">Epoch:  <span style=\"color: #008080; text-decoration-color: #008080; font-weight: bold\">8</span> Batch:  <span style=\"color: #008080; text-decoration-color: #008080; font-weight: bold\">0</span> Loss:  <span style=\"color: #008080; text-decoration-color: #008080; font-weight: bold\">0.34434857964515686</span>\n",
              "</pre>\n"
            ],
            "text/plain": [
              "Epoch:  \u001b[1;36m8\u001b[0m Batch:  \u001b[1;36m0\u001b[0m Loss:  \u001b[1;36m0.34434857964515686\u001b[0m\n"
            ]
          },
          "metadata": {},
          "output_type": "display_data"
        },
        {
          "data": {
            "text/html": [
              "<pre style=\"white-space:pre;overflow-x:auto;line-height:normal;font-family:Menlo,'DejaVu Sans Mono',consolas,'Courier New',monospace\">Epoch:  <span style=\"color: #008080; text-decoration-color: #008080; font-weight: bold\">8</span> Batch:  <span style=\"color: #008080; text-decoration-color: #008080; font-weight: bold\">100</span> Loss:  <span style=\"color: #008080; text-decoration-color: #008080; font-weight: bold\">0.3628336489200592</span>\n",
              "</pre>\n"
            ],
            "text/plain": [
              "Epoch:  \u001b[1;36m8\u001b[0m Batch:  \u001b[1;36m100\u001b[0m Loss:  \u001b[1;36m0.3628336489200592\u001b[0m\n"
            ]
          },
          "metadata": {},
          "output_type": "display_data"
        },
        {
          "data": {
            "text/html": [
              "<pre style=\"white-space:pre;overflow-x:auto;line-height:normal;font-family:Menlo,'DejaVu Sans Mono',consolas,'Courier New',monospace\">Epoch:  <span style=\"color: #008080; text-decoration-color: #008080; font-weight: bold\">8</span> Batch:  <span style=\"color: #008080; text-decoration-color: #008080; font-weight: bold\">200</span> Loss:  <span style=\"color: #008080; text-decoration-color: #008080; font-weight: bold\">0.31891512870788574</span>\n",
              "</pre>\n"
            ],
            "text/plain": [
              "Epoch:  \u001b[1;36m8\u001b[0m Batch:  \u001b[1;36m200\u001b[0m Loss:  \u001b[1;36m0.31891512870788574\u001b[0m\n"
            ]
          },
          "metadata": {},
          "output_type": "display_data"
        },
        {
          "data": {
            "text/html": [
              "<pre style=\"white-space:pre;overflow-x:auto;line-height:normal;font-family:Menlo,'DejaVu Sans Mono',consolas,'Courier New',monospace\">Epoch:  <span style=\"color: #008080; text-decoration-color: #008080; font-weight: bold\">8</span> Batch:  <span style=\"color: #008080; text-decoration-color: #008080; font-weight: bold\">300</span> Loss:  <span style=\"color: #008080; text-decoration-color: #008080; font-weight: bold\">0.29831603169441223</span>\n",
              "</pre>\n"
            ],
            "text/plain": [
              "Epoch:  \u001b[1;36m8\u001b[0m Batch:  \u001b[1;36m300\u001b[0m Loss:  \u001b[1;36m0.29831603169441223\u001b[0m\n"
            ]
          },
          "metadata": {},
          "output_type": "display_data"
        },
        {
          "data": {
            "text/html": [
              "<pre style=\"white-space:pre;overflow-x:auto;line-height:normal;font-family:Menlo,'DejaVu Sans Mono',consolas,'Courier New',monospace\">Epoch:  <span style=\"color: #008080; text-decoration-color: #008080; font-weight: bold\">8</span> Batch:  <span style=\"color: #008080; text-decoration-color: #008080; font-weight: bold\">400</span> Loss:  <span style=\"color: #008080; text-decoration-color: #008080; font-weight: bold\">0.4108191430568695</span>\n",
              "</pre>\n"
            ],
            "text/plain": [
              "Epoch:  \u001b[1;36m8\u001b[0m Batch:  \u001b[1;36m400\u001b[0m Loss:  \u001b[1;36m0.4108191430568695\u001b[0m\n"
            ]
          },
          "metadata": {},
          "output_type": "display_data"
        },
        {
          "data": {
            "text/html": [
              "<pre style=\"white-space:pre;overflow-x:auto;line-height:normal;font-family:Menlo,'DejaVu Sans Mono',consolas,'Courier New',monospace\">Epoch:  <span style=\"color: #008080; text-decoration-color: #008080; font-weight: bold\">8</span> Batch:  <span style=\"color: #008080; text-decoration-color: #008080; font-weight: bold\">500</span> Loss:  <span style=\"color: #008080; text-decoration-color: #008080; font-weight: bold\">0.36371612548828125</span>\n",
              "</pre>\n"
            ],
            "text/plain": [
              "Epoch:  \u001b[1;36m8\u001b[0m Batch:  \u001b[1;36m500\u001b[0m Loss:  \u001b[1;36m0.36371612548828125\u001b[0m\n"
            ]
          },
          "metadata": {},
          "output_type": "display_data"
        },
        {
          "data": {
            "text/html": [
              "<pre style=\"white-space:pre;overflow-x:auto;line-height:normal;font-family:Menlo,'DejaVu Sans Mono',consolas,'Courier New',monospace\">Epoch:  <span style=\"color: #008080; text-decoration-color: #008080; font-weight: bold\">8</span> Batch:  <span style=\"color: #008080; text-decoration-color: #008080; font-weight: bold\">600</span> Loss:  <span style=\"color: #008080; text-decoration-color: #008080; font-weight: bold\">0.34707728028297424</span>\n",
              "</pre>\n"
            ],
            "text/plain": [
              "Epoch:  \u001b[1;36m8\u001b[0m Batch:  \u001b[1;36m600\u001b[0m Loss:  \u001b[1;36m0.34707728028297424\u001b[0m\n"
            ]
          },
          "metadata": {},
          "output_type": "display_data"
        },
        {
          "data": {
            "text/html": [
              "<pre style=\"white-space:pre;overflow-x:auto;line-height:normal;font-family:Menlo,'DejaVu Sans Mono',consolas,'Courier New',monospace\">Epoch:  <span style=\"color: #008080; text-decoration-color: #008080; font-weight: bold\">8</span> Batch:  <span style=\"color: #008080; text-decoration-color: #008080; font-weight: bold\">700</span> Loss:  <span style=\"color: #008080; text-decoration-color: #008080; font-weight: bold\">0.1830449104309082</span>\n",
              "</pre>\n"
            ],
            "text/plain": [
              "Epoch:  \u001b[1;36m8\u001b[0m Batch:  \u001b[1;36m700\u001b[0m Loss:  \u001b[1;36m0.1830449104309082\u001b[0m\n"
            ]
          },
          "metadata": {},
          "output_type": "display_data"
        },
        {
          "data": {
            "text/html": [
              "<pre style=\"white-space:pre;overflow-x:auto;line-height:normal;font-family:Menlo,'DejaVu Sans Mono',consolas,'Courier New',monospace\">Epoch:  <span style=\"color: #008080; text-decoration-color: #008080; font-weight: bold\">8</span> Batch:  <span style=\"color: #008080; text-decoration-color: #008080; font-weight: bold\">800</span> Loss:  <span style=\"color: #008080; text-decoration-color: #008080; font-weight: bold\">0.4090529680252075</span>\n",
              "</pre>\n"
            ],
            "text/plain": [
              "Epoch:  \u001b[1;36m8\u001b[0m Batch:  \u001b[1;36m800\u001b[0m Loss:  \u001b[1;36m0.4090529680252075\u001b[0m\n"
            ]
          },
          "metadata": {},
          "output_type": "display_data"
        }
      ],
      "source": [
        "# Train model\n",
        "output_dir = file_path+\"outputs\"\n",
        "T5Trainer(train_data=train_data, val_data= val_data, source_text=\"input\", target_text=\"target\", model_params=model_params, output_dir=output_dir)"
      ]
    },
    {
      "cell_type": "markdown",
      "metadata": {
        "id": "LFmCoFZGJrjN"
      },
      "source": [
        "### Add the IOB tags to the prediction file"
      ]
    },
    {
      "cell_type": "code",
      "execution_count": null,
      "metadata": {
        "id": "5DcmAjYBDUei"
      },
      "outputs": [],
      "source": [
        "# Load predictions.csv to pd dataframe\n",
        "# Combine columns of validation data IOBs with columns\n",
        "\n",
        "df = pd.read_csv(file_path+ \"/outputs/predictions.csv\")\n",
        "\n",
        "df = df.join(val_data[\"IOB_input\"])   #might need to change this depending on the column name \n",
        "df = df.join(val_data[\"IOB_target\"])  #might need to change this depending on the column name\n",
        "\n",
        "output_dir = file_path+\"outputs\"\n",
        "df.to_csv(os.path.join(output_dir, \"predictions_IOBs.csv\"))"
      ]
    },
    {
      "cell_type": "markdown",
      "metadata": {
        "id": "5bHRAOsgJvHD"
      },
      "source": [
        "### Save loss and meteor to csv"
      ]
    },
    {
      "cell_type": "code",
      "execution_count": null,
      "metadata": {
        "id": "XHFQdJPrHJoS"
      },
      "outputs": [],
      "source": [
        "# Save the training loss to csv\n",
        "table_data = {x.header: [Text.from_markup(y).plain for y in x.cells] for x in training_logger.columns}\n",
        "training_logger_df = pd.DataFrame(table_data)\n",
        "training_logger_df.to_csv(file_path+\"outputs/\"+\"train_loss.csv\", sep=\"=\")\n",
        "\n",
        "# Save the validation loss to csv\n",
        "table_data = {x.header: [Text.from_markup(y).plain for y in x.cells] for x in validation_logger.columns}\n",
        "validation_logger_df = pd.DataFrame(table_data)\n",
        "validation_logger_df.to_csv(file_path+\"outputs/\"+\"val_loss.csv\", sep=\"=\")\n",
        "\n",
        "# Save the meteor score to csv\n",
        "table_data = {x.header: [Text.from_markup(y).plain for y in x.cells] for x in meteor_logger.columns}\n",
        "meteor_logger_df = pd.DataFrame(table_data)\n",
        "meteor_logger_df.to_csv(file_path+\"outputs/\"+\"meteor.csv\", sep=\"=\")"
      ]
    },
    {
      "cell_type": "code",
      "execution_count": null,
      "metadata": {
        "colab": {
          "base_uri": "https://localhost:8080/",
          "height": 558
        },
        "id": "ujlc9AANJrXp",
        "outputId": "8e9c4d6b-823a-4338-ca16-90739a385109"
      },
      "outputs": [
        {
          "data": {
            "text/plain": [
              "<matplotlib.axes._subplots.AxesSubplot at 0x7f4ebf0d9a90>"
            ]
          },
          "execution_count": 59,
          "metadata": {},
          "output_type": "execute_result"
        },
        {
          "data": {
            "image/png": "[encoded data removed]",
            "text/plain": [
              "<Figure size 432x288 with 1 Axes>"
            ]
          },
          "metadata": {},
          "output_type": "display_data"
        },
        {
          "data": {
            "image/png": "[encoded data removed]",
            "text/plain": [
              "<Figure size 432x288 with 1 Axes>"
            ]
          },
          "metadata": {},
          "output_type": "display_data"
        }
      ],
      "source": [
        "# Plot the loss\n",
        "train_loss = pd.read_csv(file_path+\"outputs/\"+\"train_loss.csv\", sep=\"=\")\n",
        "train_loss.plot(0,2)\n",
        "val_loss = pd.read_csv(file_path+\"outputs/\"+\"val_loss.csv\", sep=\"=\")\n",
        "val_loss.plot(0,2)\n"
      ]
    },
    {
      "cell_type": "code",
      "execution_count": null,
      "metadata": {
        "colab": {
          "base_uri": "https://localhost:8080/",
          "height": 296
        },
        "id": "-2r1vmf2k1IP",
        "outputId": "9df7163a-1357-425f-ae0f-367a65ad036c"
      },
      "outputs": [
        {
          "data": {
            "text/plain": [
              "<matplotlib.axes._subplots.AxesSubplot at 0x7f4ebe237b90>"
            ]
          },
          "execution_count": 60,
          "metadata": {},
          "output_type": "execute_result"
        },
        {
          "data": {
            "image/png": "[encoded data removed]",
            "text/plain": [
              "<Figure size 432x288 with 1 Axes>"
            ]
          },
          "metadata": {},
          "output_type": "display_data"
        }
      ],
      "source": [
        "# Plot the Meteor score\n",
        "meteor_score = pd.read_csv(file_path+\"outputs/\"+\"meteor.csv\", sep=\"=\")\n",
        "meteor_score.plot(0,2)\n"
      ]
    },
    {
      "cell_type": "markdown",
      "metadata": {
        "id": "tnrIZvzo3_ob"
      },
      "source": [
        "### Load and test model"
      ]
    },
    {
      "cell_type": "code",
      "execution_count": null,
      "metadata": {
        "id": "mw8BfQj94BN-"
      },
      "outputs": [],
      "source": [
        "# Load model and tokenizer\n",
        "# model_dir = \"/content/drive/MyDrive/MRP Idiom Translation/outputs/id_par prefix + idiom/model 2: 50 epochs, batch 4, split 1/\"\n",
        "\n",
        "model_dir = \"/content/drive/MyDrive/Pipeline/Data/Idpar_Idiom_IOBs/\"\n",
        "\n",
        "tokenizer = T5Tokenizer.from_pretrained(model_dir+\"outputs/model_files\")\n",
        "model = T5ForConditionalGeneration.from_pretrained(model_dir+\"outputs/model_files\")\n",
        "model = model.to(device)"
      ]
    },
    {
      "cell_type": "code",
      "execution_count": null,
      "metadata": {
        "id": "lOLSjdj71Bk7"
      },
      "outputs": [],
      "source": [
        "# Prepare test data\n",
        "test_set = DataSet(\n",
        "    test_data,\n",
        "    tokenizer,\n",
        "    101,\n",
        "    101,\n",
        "    \"input\",\n",
        "    \"target\",\n",
        ")\n",
        "\n",
        "test_params = {\n",
        "    \"batch_size\": 4,\n",
        "    \"shuffle\": False,\n",
        "    \"num_workers\": 0,\n",
        "}\n",
        "\n",
        "test_loader = DataLoader(test_set, **test_params)\n"
      ]
    },
    {
      "cell_type": "code",
      "execution_count": null,
      "metadata": {
        "colab": {
          "base_uri": "https://localhost:8080/"
        },
        "id": "KRgFRQI479Um",
        "outputId": "d7182ff6-dedc-4a32-e3eb-e214b82716aa"
      },
      "outputs": [
        {
          "output_type": "stream",
          "name": "stdout",
          "text": [
            "{'meteor': 0.8498779657721359}\n"
          ]
        }
      ],
      "source": [
        "# Run model on test data\"\n",
        "predictions, actuals = validate(0, tokenizer, model, device, test_loader, model_dir+\"outputs/test_data/\", evaluate=True)\n",
        "\n",
        "# Evaluate results (only Meteor, for the rest use \"Evaluate\" notebook)\n",
        "meteor_test = meteor.compute(predictions=predictions, references=actuals)\n",
        "print(meteor_test)\n"
      ]
    },
    {
      "cell_type": "code",
      "source": [
        "# Load predictions.csv to pd dataframe\n",
        "# Combine columns of validation data IOBs with columns\n",
        "\n",
        "df = pd.read_csv(model_dir+ \"/outputs/test_data/predictions.csv\")\n",
        "\n",
        "df = df.join(test_data[\"IOB_input\"])   #might need to change this depending on the column name \n",
        "df = df.join(test_data[\"IOB_target\"])  #might need to change this depending on the column name\n",
        "\n",
        "output_dir = model_dir+\"outputs/test_data/\"\n",
        "df.to_csv(os.path.join(output_dir, \"predictions_IOBs.csv\"))"
      ],
      "metadata": {
        "id": "KJ7EDsoJguqU"
      },
      "execution_count": null,
      "outputs": []
    }
  ],
  "metadata": {
    "accelerator": "GPU",
    "colab": {
      "collapsed_sections": [],
      "name": "Idiom Paraphrasing with T5.ipynb",
      "provenance": []
    },
    "kernelspec": {
      "display_name": "Python 3",
      "name": "python3"
    },
    "language_info": {
      "name": "python"
    },
    "widgets": {
      "application/vnd.jupyter.widget-state+json": {
        "0b7ba2541afe4412a38a91103983b6bf": {
          "model_module": "@jupyter-widgets/controls",
          "model_name": "HBoxModel",
          "model_module_version": "1.5.0",
          "state": {
            "_dom_classes": [],
            "_model_module": "@jupyter-widgets/controls",
            "_model_module_version": "1.5.0",
            "_model_name": "HBoxModel",
            "_view_count": null,
            "_view_module": "@jupyter-widgets/controls",
            "_view_module_version": "1.5.0",
            "_view_name": "HBoxView",
            "box_style": "",
            "children": [
              "IPY_MODEL_0a9c842f1a894a16b34808f5e2e72a5e",
              "IPY_MODEL_f36c9a09577d47c4a4fdaa31867cba23",
              "IPY_MODEL_b857de01a2a24428bd259d58c1211814"
            ],
            "layout": "IPY_MODEL_79e042481cfb42d88904f12dff271b8d"
          }
        },
        "0a9c842f1a894a16b34808f5e2e72a5e": {
          "model_module": "@jupyter-widgets/controls",
          "model_name": "HTMLModel",
          "model_module_version": "1.5.0",
          "state": {
            "_dom_classes": [],
            "_model_module": "@jupyter-widgets/controls",
            "_model_module_version": "1.5.0",
            "_model_name": "HTMLModel",
            "_view_count": null,
            "_view_module": "@jupyter-widgets/controls",
            "_view_module_version": "1.5.0",
            "_view_name": "HTMLView",
            "description": "",
            "description_tooltip": null,
            "layout": "IPY_MODEL_a75077c1398f40a4b59992a10eefcdd2",
            "placeholder": "​",
            "style": "IPY_MODEL_4d47f028173049adb6df200751787fca",
            "value": "Downloading builder script: "
          }
        },
        "f36c9a09577d47c4a4fdaa31867cba23": {
          "model_module": "@jupyter-widgets/controls",
          "model_name": "FloatProgressModel",
          "model_module_version": "1.5.0",
          "state": {
            "_dom_classes": [],
            "_model_module": "@jupyter-widgets/controls",
            "_model_module_version": "1.5.0",
            "_model_name": "FloatProgressModel",
            "_view_count": null,
            "_view_module": "@jupyter-widgets/controls",
            "_view_module_version": "1.5.0",
            "_view_name": "ProgressView",
            "bar_style": "success",
            "description": "",
            "description_tooltip": null,
            "layout": "IPY_MODEL_21bed6f0822e435db467acb0910324bf",
            "max": 2199,
            "min": 0,
            "orientation": "horizontal",
            "style": "IPY_MODEL_c73b5bef2d134534a553729133bb2e41",
            "value": 2199
          }
        },
        "b857de01a2a24428bd259d58c1211814": {
          "model_module": "@jupyter-widgets/controls",
          "model_name": "HTMLModel",
          "model_module_version": "1.5.0",
          "state": {
            "_dom_classes": [],
            "_model_module": "@jupyter-widgets/controls",
            "_model_module_version": "1.5.0",
            "_model_name": "HTMLModel",
            "_view_count": null,
            "_view_module": "@jupyter-widgets/controls",
            "_view_module_version": "1.5.0",
            "_view_name": "HTMLView",
            "description": "",
            "description_tooltip": null,
            "layout": "IPY_MODEL_7d2da77892004244930e2e745391bcfd",
            "placeholder": "​",
            "style": "IPY_MODEL_e04c29226fbd4c419a1c46033ea3d435",
            "value": " 5.34k/? [00:00&lt;00:00, 57.7kB/s]"
          }
        },
        "79e042481cfb42d88904f12dff271b8d": {
          "model_module": "@jupyter-widgets/base",
          "model_name": "LayoutModel",
          "model_module_version": "1.2.0",
          "state": {
            "_model_module": "@jupyter-widgets/base",
            "_model_module_version": "1.2.0",
            "_model_name": "LayoutModel",
            "_view_count": null,
            "_view_module": "@jupyter-widgets/base",
            "_view_module_version": "1.2.0",
            "_view_name": "LayoutView",
            "align_content": null,
            "align_items": null,
            "align_self": null,
            "border": null,
            "bottom": null,
            "display": null,
            "flex": null,
            "flex_flow": null,
            "grid_area": null,
            "grid_auto_columns": null,
            "grid_auto_flow": null,
            "grid_auto_rows": null,
            "grid_column": null,
            "grid_gap": null,
            "grid_row": null,
            "grid_template_areas": null,
            "grid_template_columns": null,
            "grid_template_rows": null,
            "height": null,
            "justify_content": null,
            "justify_items": null,
            "left": null,
            "margin": null,
            "max_height": null,
            "max_width": null,
            "min_height": null,
            "min_width": null,
            "object_fit": null,
            "object_position": null,
            "order": null,
            "overflow": null,
            "overflow_x": null,
            "overflow_y": null,
            "padding": null,
            "right": null,
            "top": null,
            "visibility": null,
            "width": null
          }
        },
        "a75077c1398f40a4b59992a10eefcdd2": {
          "model_module": "@jupyter-widgets/base",
          "model_name": "LayoutModel",
          "model_module_version": "1.2.0",
          "state": {
            "_model_module": "@jupyter-widgets/base",
            "_model_module_version": "1.2.0",
            "_model_name": "LayoutModel",
            "_view_count": null,
            "_view_module": "@jupyter-widgets/base",
            "_view_module_version": "1.2.0",
            "_view_name": "LayoutView",
            "align_content": null,
            "align_items": null,
            "align_self": null,
            "border": null,
            "bottom": null,
            "display": null,
            "flex": null,
            "flex_flow": null,
            "grid_area": null,
            "grid_auto_columns": null,
            "grid_auto_flow": null,
            "grid_auto_rows": null,
            "grid_column": null,
            "grid_gap": null,
            "grid_row": null,
            "grid_template_areas": null,
            "grid_template_columns": null,
            "grid_template_rows": null,
            "height": null,
            "justify_content": null,
            "justify_items": null,
            "left": null,
            "margin": null,
            "max_height": null,
            "max_width": null,
            "min_height": null,
            "min_width": null,
            "object_fit": null,
            "object_position": null,
            "order": null,
            "overflow": null,
            "overflow_x": null,
            "overflow_y": null,
            "padding": null,
            "right": null,
            "top": null,
            "visibility": null,
            "width": null
          }
        },
        "4d47f028173049adb6df200751787fca": {
          "model_module": "@jupyter-widgets/controls",
          "model_name": "DescriptionStyleModel",
          "model_module_version": "1.5.0",
          "state": {
            "_model_module": "@jupyter-widgets/controls",
            "_model_module_version": "1.5.0",
            "_model_name": "DescriptionStyleModel",
            "_view_count": null,
            "_view_module": "@jupyter-widgets/base",
            "_view_module_version": "1.2.0",
            "_view_name": "StyleView",
            "description_width": ""
          }
        },
        "21bed6f0822e435db467acb0910324bf": {
          "model_module": "@jupyter-widgets/base",
          "model_name": "LayoutModel",
          "model_module_version": "1.2.0",
          "state": {
            "_model_module": "@jupyter-widgets/base",
            "_model_module_version": "1.2.0",
            "_model_name": "LayoutModel",
            "_view_count": null,
            "_view_module": "@jupyter-widgets/base",
            "_view_module_version": "1.2.0",
            "_view_name": "LayoutView",
            "align_content": null,
            "align_items": null,
            "align_self": null,
            "border": null,
            "bottom": null,
            "display": null,
            "flex": null,
            "flex_flow": null,
            "grid_area": null,
            "grid_auto_columns": null,
            "grid_auto_flow": null,
            "grid_auto_rows": null,
            "grid_column": null,
            "grid_gap": null,
            "grid_row": null,
            "grid_template_areas": null,
            "grid_template_columns": null,
            "grid_template_rows": null,
            "height": null,
            "justify_content": null,
            "justify_items": null,
            "left": null,
            "margin": null,
            "max_height": null,
            "max_width": null,
            "min_height": null,
            "min_width": null,
            "object_fit": null,
            "object_position": null,
            "order": null,
            "overflow": null,
            "overflow_x": null,
            "overflow_y": null,
            "padding": null,
            "right": null,
            "top": null,
            "visibility": null,
            "width": null
          }
        },
        "c73b5bef2d134534a553729133bb2e41": {
          "model_module": "@jupyter-widgets/controls",
          "model_name": "ProgressStyleModel",
          "model_module_version": "1.5.0",
          "state": {
            "_model_module": "@jupyter-widgets/controls",
            "_model_module_version": "1.5.0",
            "_model_name": "ProgressStyleModel",
            "_view_count": null,
            "_view_module": "@jupyter-widgets/base",
            "_view_module_version": "1.2.0",
            "_view_name": "StyleView",
            "bar_color": null,
            "description_width": ""
          }
        },
        "7d2da77892004244930e2e745391bcfd": {
          "model_module": "@jupyter-widgets/base",
          "model_name": "LayoutModel",
          "model_module_version": "1.2.0",
          "state": {
            "_model_module": "@jupyter-widgets/base",
            "_model_module_version": "1.2.0",
            "_model_name": "LayoutModel",
            "_view_count": null,
            "_view_module": "@jupyter-widgets/base",
            "_view_module_version": "1.2.0",
            "_view_name": "LayoutView",
            "align_content": null,
            "align_items": null,
            "align_self": null,
            "border": null,
            "bottom": null,
            "display": null,
            "flex": null,
            "flex_flow": null,
            "grid_area": null,
            "grid_auto_columns": null,
            "grid_auto_flow": null,
            "grid_auto_rows": null,
            "grid_column": null,
            "grid_gap": null,
            "grid_row": null,
            "grid_template_areas": null,
            "grid_template_columns": null,
            "grid_template_rows": null,
            "height": null,
            "justify_content": null,
            "justify_items": null,
            "left": null,
            "margin": null,
            "max_height": null,
            "max_width": null,
            "min_height": null,
            "min_width": null,
            "object_fit": null,
            "object_position": null,
            "order": null,
            "overflow": null,
            "overflow_x": null,
            "overflow_y": null,
            "padding": null,
            "right": null,
            "top": null,
            "visibility": null,
            "width": null
          }
        },
        "e04c29226fbd4c419a1c46033ea3d435": {
          "model_module": "@jupyter-widgets/controls",
          "model_name": "DescriptionStyleModel",
          "model_module_version": "1.5.0",
          "state": {
            "_model_module": "@jupyter-widgets/controls",
            "_model_module_version": "1.5.0",
            "_model_name": "DescriptionStyleModel",
            "_view_count": null,
            "_view_module": "@jupyter-widgets/base",
            "_view_module_version": "1.2.0",
            "_view_name": "StyleView",
            "description_width": ""
          }
        }
      }
    }
  },
  "nbformat": 4,
  "nbformat_minor": 0
}