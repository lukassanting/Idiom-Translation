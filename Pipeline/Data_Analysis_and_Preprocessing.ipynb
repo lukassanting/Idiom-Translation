{
  "nbformat": 4,
  "nbformat_minor": 0,
  "metadata": {
    "colab": {
      "name": "Data Analysis and Preprocessing",
      "provenance": [],
      "collapsed_sections": [
        "Z1GTY58023Uc"
      ]
    },
    "kernelspec": {
      "name": "python3",
      "display_name": "Python 3"
    },
    "language_info": {
      "name": "python"
    }
  },
  "cells": [
    {
      "cell_type": "code",
      "source": [
        "!pip install pyspellchecker -q"
      ],
      "metadata": {
        "id": "hNZ2faKopQ_3",
        "colab": {
          "base_uri": "https://localhost:8080/"
        },
        "outputId": "9337fdbc-1fc3-43d0-d1f1-e636e54708c4"
      },
      "execution_count": null,
      "outputs": [
        {
          "output_type": "stream",
          "name": "stdout",
          "text": [
            "\u001b[K     |████████████████████████████████| 2.7 MB 5.2 MB/s \n",
            "\u001b[?25h"
          ]
        }
      ]
    },
    {
      "cell_type": "code",
      "source": [
        "import pandas as pd\n",
        "from google.colab import drive\n",
        "import re\n",
        "from spellchecker import SpellChecker\n",
        "import numpy as np\n"
      ],
      "metadata": {
        "id": "88dw1361Np56"
      },
      "execution_count": null,
      "outputs": []
    },
    {
      "cell_type": "markdown",
      "source": [
        "## Load data"
      ],
      "metadata": {
        "id": "xQUaQTIiNiY4"
      }
    },
    {
      "cell_type": "code",
      "execution_count": null,
      "metadata": {
        "colab": {
          "base_uri": "https://localhost:8080/"
        },
        "id": "sM9_EuRCNfk6",
        "outputId": "bf9b751b-6137-46e1-ac50-f11130d14d33"
      },
      "outputs": [
        {
          "output_type": "stream",
          "name": "stdout",
          "text": [
            "Mounted at /content/drive\n"
          ]
        }
      ],
      "source": [
        "drive.mount('/content/drive')"
      ]
    },
    {
      "cell_type": "code",
      "source": [
        "dir = \"directory here\""
      ],
      "metadata": {
        "id": "1W7Z7nC5Ognd"
      },
      "execution_count": null,
      "outputs": []
    },
    {
      "cell_type": "code",
      "source": [
        "df = pd.read_csv(dir+'data_cleaned.csv')"
      ],
      "metadata": {
        "id": "6zZaDsBRR7K9"
      },
      "execution_count": null,
      "outputs": []
    },
    {
      "cell_type": "code",
      "source": [
        "df.head()"
      ],
      "metadata": {
        "colab": {
          "base_uri": "https://localhost:8080/",
          "height": 424
        },
        "id": "Fhth-kkHof8S",
        "outputId": "ae02ab5c-7a98-4922-c1b3-187581f74a8f"
      },
      "execution_count": null,
      "outputs": [
        {
          "output_type": "execute_result",
          "data": {
            "text/plain": [
              "                      Idiom  \\\n",
              "0  the benefit of the doubt   \n",
              "1  the benefit of the doubt   \n",
              "2  the benefit of the doubt   \n",
              "3  the benefit of the doubt   \n",
              "4  the benefit of the doubt   \n",
              "\n",
              "                                               Sense  \\\n",
              "0  regards a person as innocent unless confirmed ...   \n",
              "1  regards a person as innocent unless confirmed ...   \n",
              "2  regards a person as innocent unless confirmed ...   \n",
              "3  regards a person as innocent unless confirmed ...   \n",
              "4  regards a person as innocent unless confirmed ...   \n",
              "\n",
              "                                      Idiomatic_Sent  \\\n",
              "0  Let 's give her the benefit of the doubt and a...   \n",
              "1  I do n't believe that he did n't take the mone...   \n",
              "2  She said that she will be on time today and I ...   \n",
              "3  Give him the benefit of the doubt and he 'll g...   \n",
              "4  The court gave the wrongly accused man the ben...   \n",
              "\n",
              "                                        Literal_Sent  \\\n",
              "0  Let 's regard her as innocent and assume that ...   \n",
              "1  I do n't believe that he did n't take the mone...   \n",
              "2  She said that she will be on time today and I ...   \n",
              "3        Regard him as innocent and he 'll go free .   \n",
              "4  The court regarded the wrongly accused man as ...   \n",
              "\n",
              "                                     Idiomatic_Label  \\\n",
              "0                    O O B O I I I I I O O O O O O O   \n",
              "1  O O O O O O O O O O O O O O O B O O I I O I O ...   \n",
              "2  O O O O O O O O O O O O O O O O O O O O O O O ...   \n",
              "3                          B O I I I I I O O O O O O   \n",
              "4                          O O B O O O O O I I O I O   \n",
              "\n",
              "                                       Literal_Label  \n",
              "0                          O O B O I I O O O O O O O  \n",
              "1      O O O O O O O O O O O O O O O O O O O O O O O  \n",
              "2  O O O O O O O O O O O O O O O O O O O O O B O ...  \n",
              "3                                B O I I O O O O O O  \n",
              "4                          O O B O O O O I I I I I O  "
            ],
            "text/html": [
              "\n",
              "  <div id=\"df-c88005f4-5a52-409c-855c-980f5a8a80cf\">\n",
              "    <div class=\"colab-df-container\">\n",
              "      <div>\n",
              "<style scoped>\n",
              "    .dataframe tbody tr th:only-of-type {\n",
              "        vertical-align: middle;\n",
              "    }\n",
              "\n",
              "    .dataframe tbody tr th {\n",
              "        vertical-align: top;\n",
              "    }\n",
              "\n",
              "    .dataframe thead th {\n",
              "        text-align: right;\n",
              "    }\n",
              "</style>\n",
              "<table border=\"1\" class=\"dataframe\">\n",
              "  <thead>\n",
              "    <tr style=\"text-align: right;\">\n",
              "      <th></th>\n",
              "      <th>Idiom</th>\n",
              "      <th>Sense</th>\n",
              "      <th>Idiomatic_Sent</th>\n",
              "      <th>Literal_Sent</th>\n",
              "      <th>Idiomatic_Label</th>\n",
              "      <th>Literal_Label</th>\n",
              "    </tr>\n",
              "  </thead>\n",
              "  <tbody>\n",
              "    <tr>\n",
              "      <th>0</th>\n",
              "      <td>the benefit of the doubt</td>\n",
              "      <td>regards a person as innocent unless confirmed ...</td>\n",
              "      <td>Let 's give her the benefit of the doubt and a...</td>\n",
              "      <td>Let 's regard her as innocent and assume that ...</td>\n",
              "      <td>O O B O I I I I I O O O O O O O</td>\n",
              "      <td>O O B O I I O O O O O O O</td>\n",
              "    </tr>\n",
              "    <tr>\n",
              "      <th>1</th>\n",
              "      <td>the benefit of the doubt</td>\n",
              "      <td>regards a person as innocent unless confirmed ...</td>\n",
              "      <td>I do n't believe that he did n't take the mone...</td>\n",
              "      <td>I do n't believe that he did n't take the mone...</td>\n",
              "      <td>O O O O O O O O O O O O O O O B O O I I O I O ...</td>\n",
              "      <td>O O O O O O O O O O O O O O O O O O O O O O O</td>\n",
              "    </tr>\n",
              "    <tr>\n",
              "      <th>2</th>\n",
              "      <td>the benefit of the doubt</td>\n",
              "      <td>regards a person as innocent unless confirmed ...</td>\n",
              "      <td>She said that she will be on time today and I ...</td>\n",
              "      <td>She said that she will be on time today and I ...</td>\n",
              "      <td>O O O O O O O O O O O O O O O O O O O O O O O ...</td>\n",
              "      <td>O O O O O O O O O O O O O O O O O O O O O B O ...</td>\n",
              "    </tr>\n",
              "    <tr>\n",
              "      <th>3</th>\n",
              "      <td>the benefit of the doubt</td>\n",
              "      <td>regards a person as innocent unless confirmed ...</td>\n",
              "      <td>Give him the benefit of the doubt and he 'll g...</td>\n",
              "      <td>Regard him as innocent and he 'll go free .</td>\n",
              "      <td>B O I I I I I O O O O O O</td>\n",
              "      <td>B O I I O O O O O O</td>\n",
              "    </tr>\n",
              "    <tr>\n",
              "      <th>4</th>\n",
              "      <td>the benefit of the doubt</td>\n",
              "      <td>regards a person as innocent unless confirmed ...</td>\n",
              "      <td>The court gave the wrongly accused man the ben...</td>\n",
              "      <td>The court regarded the wrongly accused man as ...</td>\n",
              "      <td>O O B O O O O O I I O I O</td>\n",
              "      <td>O O B O O O O I I I I I O</td>\n",
              "    </tr>\n",
              "  </tbody>\n",
              "</table>\n",
              "</div>\n",
              "      <button class=\"colab-df-convert\" onclick=\"convertToInteractive('df-c88005f4-5a52-409c-855c-980f5a8a80cf')\"\n",
              "              title=\"Convert this dataframe to an interactive table.\"\n",
              "              style=\"display:none;\">\n",
              "        \n",
              "  <svg xmlns=\"http://www.w3.org/2000/svg\" height=\"24px\"viewBox=\"0 0 24 24\"\n",
              "       width=\"24px\">\n",
              "    <path d=\"M0 0h24v24H0V0z\" fill=\"none\"/>\n",
              "    <path d=\"M18.56 5.44l.94 2.06.94-2.06 2.06-.94-2.06-.94-.94-2.06-.94 2.06-2.06.94zm-11 1L8.5 8.5l.94-2.06 2.06-.94-2.06-.94L8.5 2.5l-.94 2.06-2.06.94zm10 10l.94 2.06.94-2.06 2.06-.94-2.06-.94-.94-2.06-.94 2.06-2.06.94z\"/><path d=\"M17.41 7.96l-1.37-1.37c-.4-.4-.92-.59-1.43-.59-.52 0-1.04.2-1.43.59L10.3 9.45l-7.72 7.72c-.78.78-.78 2.05 0 2.83L4 21.41c.39.39.9.59 1.41.59.51 0 1.02-.2 1.41-.59l7.78-7.78 2.81-2.81c.8-.78.8-2.07 0-2.86zM5.41 20L4 18.59l7.72-7.72 1.47 1.35L5.41 20z\"/>\n",
              "  </svg>\n",
              "      </button>\n",
              "      \n",
              "  <style>\n",
              "    .colab-df-container {\n",
              "      display:flex;\n",
              "      flex-wrap:wrap;\n",
              "      gap: 12px;\n",
              "    }\n",
              "\n",
              "    .colab-df-convert {\n",
              "      background-color: #E8F0FE;\n",
              "      border: none;\n",
              "      border-radius: 50%;\n",
              "      cursor: pointer;\n",
              "      display: none;\n",
              "      fill: #1967D2;\n",
              "      height: 32px;\n",
              "      padding: 0 0 0 0;\n",
              "      width: 32px;\n",
              "    }\n",
              "\n",
              "    .colab-df-convert:hover {\n",
              "      background-color: #E2EBFA;\n",
              "      box-shadow: 0px 1px 2px rgba(60, 64, 67, 0.3), 0px 1px 3px 1px rgba(60, 64, 67, 0.15);\n",
              "      fill: #174EA6;\n",
              "    }\n",
              "\n",
              "    [theme=dark] .colab-df-convert {\n",
              "      background-color: #3B4455;\n",
              "      fill: #D2E3FC;\n",
              "    }\n",
              "\n",
              "    [theme=dark] .colab-df-convert:hover {\n",
              "      background-color: #434B5C;\n",
              "      box-shadow: 0px 1px 3px 1px rgba(0, 0, 0, 0.15);\n",
              "      filter: drop-shadow(0px 1px 2px rgba(0, 0, 0, 0.3));\n",
              "      fill: #FFFFFF;\n",
              "    }\n",
              "  </style>\n",
              "\n",
              "      <script>\n",
              "        const buttonEl =\n",
              "          document.querySelector('#df-c88005f4-5a52-409c-855c-980f5a8a80cf button.colab-df-convert');\n",
              "        buttonEl.style.display =\n",
              "          google.colab.kernel.accessAllowed ? 'block' : 'none';\n",
              "\n",
              "        async function convertToInteractive(key) {\n",
              "          const element = document.querySelector('#df-c88005f4-5a52-409c-855c-980f5a8a80cf');\n",
              "          const dataTable =\n",
              "            await google.colab.kernel.invokeFunction('convertToInteractive',\n",
              "                                                     [key], {});\n",
              "          if (!dataTable) return;\n",
              "\n",
              "          const docLinkHtml = 'Like what you see? Visit the ' +\n",
              "            '<a target=\"_blank\" href=https://colab.research.google.com/notebooks/data_table.ipynb>data table notebook</a>'\n",
              "            + ' to learn more about interactive tables.';\n",
              "          element.innerHTML = '';\n",
              "          dataTable['output_type'] = 'display_data';\n",
              "          await google.colab.output.renderOutput(dataTable, element);\n",
              "          const docLink = document.createElement('div');\n",
              "          docLink.innerHTML = docLinkHtml;\n",
              "          element.appendChild(docLink);\n",
              "        }\n",
              "      </script>\n",
              "    </div>\n",
              "  </div>\n",
              "  "
            ]
          },
          "metadata": {},
          "execution_count": 6
        }
      ]
    },
    {
      "cell_type": "markdown",
      "source": [
        "## Count number of idioms\n",
        "\n",
        "Not sure whether to count an idiom with different meanings as different idioms or not."
      ],
      "metadata": {
        "id": "64WasA6zO0iN"
      }
    },
    {
      "cell_type": "code",
      "source": [
        "# Considering each idiom+sense as a different idiom\n",
        "id_sen_counts = df.value_counts([\"Idiom\", \"Sense\"])\n",
        "print(id_sen_counts)\n",
        "\n",
        "id_sen_counts.plot.hist()\n"
      ],
      "metadata": {
        "colab": {
          "base_uri": "https://localhost:8080/",
          "height": 528
        },
        "id": "Afes8HLkPBbL",
        "outputId": "1b3d38c2-f954-4615-92c9-1d16b568fc62"
      },
      "execution_count": null,
      "outputs": [
        {
          "output_type": "stream",
          "name": "stdout",
          "text": [
            "Idiom                          Sense                                                                                             \n",
            "rise and shine                 to wake up and get out of bed                                                                         14\n",
            "armed to the teeth             carrying many weapons                                                                                 13\n",
            "chill to the bone              to get frightened or scare somebody                                                                   13\n",
            "as easy as pie                 an easy thing                                                                                         12\n",
            "bang on                        to be exact, to be most accurate                                                                      12\n",
            "                                                                                                                                     ..\n",
            "lean towards                   incline towards                                                                                        5\n",
            "laughter is the best medicine  means that laughter can help cure negative feelings such as stress, anger, worry, depression, etc.     5\n",
            "laughing stock                 Something ridiculous which can be laughed upon                                                         5\n",
            "know the ropes                 to know all the ways and means to get something done                                                   5\n",
            "in touch                       to keep up to date with information                                                                    5\n",
            "Length: 862, dtype: int64\n"
          ]
        },
        {
          "output_type": "execute_result",
          "data": {
            "text/plain": [
              "<matplotlib.axes._subplots.AxesSubplot at 0x7f9ef2fea990>"
            ]
          },
          "metadata": {},
          "execution_count": 7
        },
        {
          "output_type": "display_data",
          "data": {
            "text/plain": [
              "<Figure size 432x288 with 1 Axes>"
            ],
            "image/png": "[encoded data removed]"
          },
          "metadata": {
            "needs_background": "light"
          }
        }
      ]
    },
    {
      "cell_type": "code",
      "source": [
        "# Considering each idiom, including each of its senses, as one idiom\n",
        "idiom_counts = df.value_counts([\"Idiom\"])\n",
        "print(idiom_counts)\n",
        "\n",
        "idiom_counts.plot.hist()"
      ],
      "metadata": {
        "colab": {
          "base_uri": "https://localhost:8080/",
          "height": 508
        },
        "id": "si09iGXVUOdt",
        "outputId": "7bf3fc47-3907-4ebb-f9d9-d28e68142ddc"
      },
      "execution_count": null,
      "outputs": [
        {
          "output_type": "stream",
          "name": "stdout",
          "text": [
            "Idiom                        \n",
            "catch up                         15\n",
            "run out                          15\n",
            "black hole                       15\n",
            "screw up                         15\n",
            "rise and shine                   14\n",
            "                                 ..\n",
            "laughter is the best medicine     5\n",
            "laughing stock                    5\n",
            "know the ropes                    5\n",
            "knock one’s socks off             5\n",
            "match made in heaven              5\n",
            "Length: 823, dtype: int64\n"
          ]
        },
        {
          "output_type": "execute_result",
          "data": {
            "text/plain": [
              "<matplotlib.axes._subplots.AxesSubplot at 0x7fcb7dbe56d0>"
            ]
          },
          "metadata": {},
          "execution_count": 14
        },
        {
          "output_type": "display_data",
          "data": {
            "text/plain": [
              "<Figure size 432x288 with 1 Axes>"
            ],
            "image/png": "[encoded data removed]"
          },
          "metadata": {
            "needs_background": "light"
          }
        }
      ]
    },
    {
      "cell_type": "code",
      "source": [
        "# Number of senses per idiom\n",
        "numsense_counts = id_sen_counts.to_frame().value_counts([\"Idiom\"])\n",
        "print(numsense_counts)\n",
        "numsense_counts.plot.hist()"
      ],
      "metadata": {
        "colab": {
          "base_uri": "https://localhost:8080/",
          "height": 508
        },
        "id": "0tFHv9OBUeVj",
        "outputId": "08fc2762-28e7-4adf-aba5-5f87f5ee3e4e"
      },
      "execution_count": null,
      "outputs": [
        {
          "output_type": "stream",
          "name": "stdout",
          "text": [
            "Idiom               \n",
            "catch up                3\n",
            "black hole              3\n",
            "run out                 3\n",
            "screw up                3\n",
            "couch potato            2\n",
            "                       ..\n",
            "fingers crossed         1\n",
            "finishing touch         1\n",
            "first light             1\n",
            "first things first      1\n",
            "zoom away | zoom off    1\n",
            "Length: 823, dtype: int64\n"
          ]
        },
        {
          "output_type": "execute_result",
          "data": {
            "text/plain": [
              "<matplotlib.axes._subplots.AxesSubplot at 0x7fcb7d735750>"
            ]
          },
          "metadata": {},
          "execution_count": 15
        },
        {
          "output_type": "display_data",
          "data": {
            "text/plain": [
              "<Figure size 432x288 with 1 Axes>"
            ],
            "image/png": "[encoded data removed]"
          },
          "metadata": {
            "needs_background": "light"
          }
        }
      ]
    },
    {
      "cell_type": "code",
      "source": [
        "# Find min and max length (! Not sure if the prefix counts as well !)\n",
        "lengths_id = df[\"Idiomatic_Sent\"].str.split(\" \")\n",
        "print(\"Max number of words Idiomatic = \", lengths_id.str.len().max())\n",
        "lengths_lit = df[\"Literal_Sent\"].str.split(\" \")\n",
        "print(\"Max number of words Literal = \", lengths_lit.str.len().max())\n"
      ],
      "metadata": {
        "colab": {
          "base_uri": "https://localhost:8080/"
        },
        "id": "ZsgXewERO_pA",
        "outputId": "53da316b-fa4c-4b1f-bd51-673bb25b9f38"
      },
      "execution_count": null,
      "outputs": [
        {
          "output_type": "stream",
          "name": "stdout",
          "text": [
            "Max number of words Idiomatic =  73\n",
            "Max number of words Literal =  61\n"
          ]
        }
      ]
    },
    {
      "cell_type": "markdown",
      "source": [
        "## Try to find a way to match the given idiom to the form in which it appears in the sentence.\n",
        "\n",
        "In this way, we can tell T5 that this is the part that it needs to translate and not the rest."
      ],
      "metadata": {
        "id": "nzFEQMPzO7e-"
      }
    },
    {
      "cell_type": "markdown",
      "source": [
        "#### Spacy Phrasematcher"
      ],
      "metadata": {
        "id": "Ylqn11g4e1HF"
      }
    },
    {
      "cell_type": "code",
      "source": [
        "import spacy\n",
        "from spacy.matcher import PhraseMatcher\n",
        "\n",
        "nlp = spacy.load('en')\n",
        "matcher = PhraseMatcher(nlp.vocab, attr=\"LEMMA\")\n",
        "\n",
        "string = \"I was so caught up in the beauty of the art work that I failed to notice her .\"\n",
        "\n",
        "matcher.add(\"1\", None, nlp(\"catch up\"))\n",
        "matches = matcher(nlp(string)) \n",
        "match = string.split(\" \")[matches[0][1]:matches[0][2]]\n",
        "print(match)"
      ],
      "metadata": {
        "colab": {
          "base_uri": "https://localhost:8080/"
        },
        "id": "YatPQFrr0_BD",
        "outputId": "a6f37de2-eea4-4a12-c05c-203c83f52278"
      },
      "execution_count": null,
      "outputs": [
        {
          "output_type": "stream",
          "name": "stdout",
          "text": [
            "['caught', 'up']\n"
          ]
        }
      ]
    },
    {
      "cell_type": "code",
      "source": [
        "# This one doesn't work because for some reason the definition contains \"the\"\",\n",
        "# but not the sentence\n",
        "\n",
        "import spacy\n",
        "from spacy.matcher import PhraseMatcher\n",
        "\n",
        "nlp = spacy.load('en')\n",
        "matcher = PhraseMatcher(nlp.vocab, attr=\"LEMMA\")\n",
        "\n",
        "string = \"She has been burning the candle at both ends by doing a full-time job and preparing for her International English Language Test exams .\"\n",
        "\n",
        "matcher.add(\"1\", None, nlp(\"burn the candle at both the ends\"))\n",
        "matches = matcher(nlp(string)) \n",
        "#match = string.split(\" \")[matches[0][1]:matches[0][2]]\n",
        "print(matches)"
      ],
      "metadata": {
        "colab": {
          "base_uri": "https://localhost:8080/"
        },
        "outputId": "beee6e17-cb0e-4442-c9fb-398129d0d790",
        "id": "pc1Mvau54auB"
      },
      "execution_count": null,
      "outputs": [
        {
          "output_type": "stream",
          "name": "stdout",
          "text": [
            "[]\n"
          ]
        }
      ]
    },
    {
      "cell_type": "markdown",
      "source": [
        "#### Using IOB tags"
      ],
      "metadata": {
        "id": "_kliUbBYe5ZO"
      }
    },
    {
      "cell_type": "code",
      "source": [
        "# Alternatively use the given labels\n",
        "# The first idiom\n",
        "labels = df[\"Idiomatic_Label\"].iloc[5147].split(\" \")\n",
        "string = df[\"Idiomatic_Sent\"].iloc[5147].split(\" \")\n",
        "print(string)\n",
        "print(df[\"Idiom\"].iloc[5147])\n",
        "id = []\n",
        "for i in range(0,len(string)):\n",
        "  if labels[i] == \"B\":\n",
        "    id.append(string[i])\n",
        "  if labels[i] == \"I\":\n",
        "      id.append(string[i])\n",
        "\n",
        "print(' '.join(id))\n",
        "\n",
        "print()\n",
        "# The second idiom\n",
        "labels = df[\"Idiomatic_Label\"].iloc[4413].split(\" \")\n",
        "string = df[\"Idiomatic_Sent\"].iloc[4413].split(\" \")\n",
        "print(string)\n",
        "print(df[\"Idiom\"].iloc[4413])\n",
        "id = []\n",
        "for i in range(0,len(string)):\n",
        "  if labels[i] == \"B\":\n",
        "    id.append(string[i])\n",
        "  if labels[i] == \"I\":\n",
        "      id.append(string[i])\n",
        "\n",
        "print(' '.join(id))\n",
        "  \n",
        "  "
      ],
      "metadata": {
        "colab": {
          "base_uri": "https://localhost:8080/",
          "height": 235
        },
        "id": "NcvwXHO14X3P",
        "outputId": "d8fc5694-2e08-4fb1-92bb-d1d51587e598"
      },
      "execution_count": null,
      "outputs": [
        {
          "output_type": "error",
          "ename": "NameError",
          "evalue": "ignored",
          "traceback": [
            "\u001b[0;31m---------------------------------------------------------------------------\u001b[0m",
            "\u001b[0;31mNameError\u001b[0m                                 Traceback (most recent call last)",
            "\u001b[0;32m<ipython-input-1-4880446f8abd>\u001b[0m in \u001b[0;36m<module>\u001b[0;34m()\u001b[0m\n\u001b[1;32m      1\u001b[0m \u001b[0;31m# Alternatively use the given labels\u001b[0m\u001b[0;34m\u001b[0m\u001b[0;34m\u001b[0m\u001b[0;34m\u001b[0m\u001b[0m\n\u001b[1;32m      2\u001b[0m \u001b[0;31m# The first idiom\u001b[0m\u001b[0;34m\u001b[0m\u001b[0;34m\u001b[0m\u001b[0;34m\u001b[0m\u001b[0m\n\u001b[0;32m----> 3\u001b[0;31m \u001b[0mlabels\u001b[0m \u001b[0;34m=\u001b[0m \u001b[0mdf\u001b[0m\u001b[0;34m[\u001b[0m\u001b[0;34m\"Idiomatic_Label\"\u001b[0m\u001b[0;34m]\u001b[0m\u001b[0;34m.\u001b[0m\u001b[0miloc\u001b[0m\u001b[0;34m[\u001b[0m\u001b[0;36m5147\u001b[0m\u001b[0;34m]\u001b[0m\u001b[0;34m.\u001b[0m\u001b[0msplit\u001b[0m\u001b[0;34m(\u001b[0m\u001b[0;34m\" \"\u001b[0m\u001b[0;34m)\u001b[0m\u001b[0;34m\u001b[0m\u001b[0;34m\u001b[0m\u001b[0m\n\u001b[0m\u001b[1;32m      4\u001b[0m \u001b[0mstring\u001b[0m \u001b[0;34m=\u001b[0m \u001b[0mdf\u001b[0m\u001b[0;34m[\u001b[0m\u001b[0;34m\"Idiomatic_Sent\"\u001b[0m\u001b[0;34m]\u001b[0m\u001b[0;34m.\u001b[0m\u001b[0miloc\u001b[0m\u001b[0;34m[\u001b[0m\u001b[0;36m5147\u001b[0m\u001b[0;34m]\u001b[0m\u001b[0;34m.\u001b[0m\u001b[0msplit\u001b[0m\u001b[0;34m(\u001b[0m\u001b[0;34m\" \"\u001b[0m\u001b[0;34m)\u001b[0m\u001b[0;34m\u001b[0m\u001b[0;34m\u001b[0m\u001b[0m\n\u001b[1;32m      5\u001b[0m \u001b[0mprint\u001b[0m\u001b[0;34m(\u001b[0m\u001b[0mstring\u001b[0m\u001b[0;34m)\u001b[0m\u001b[0;34m\u001b[0m\u001b[0;34m\u001b[0m\u001b[0m\n",
            "\u001b[0;31mNameError\u001b[0m: name 'df' is not defined"
          ]
        }
      ]
    },
    {
      "cell_type": "code",
      "source": [
        "# Do this to the whole dataset. Turns out the dataset is quite inconsistent with for instance including \"the\"'s\n",
        "actual_id = []\n",
        "for i in range(len(df)):\n",
        "  labels = df[\"Idiomatic_Label\"].iloc[i].split(\" \")\n",
        "  string = df[\"Idiomatic_Sent\"].iloc[i].split(\" \")\n",
        "  id = []\n",
        "  for i in range(0,len(string)):\n",
        "    if labels[i] == \"B\":\n",
        "      id.append(string[i])\n",
        "    if labels[i] == \"I\":\n",
        "        id.append(string[i])\n",
        "  actual_id.append(' '.join(id))\n",
        "\n",
        "df[\"Actual_Id\"] = actual_id\n",
        "print(df)"
      ],
      "metadata": {
        "id": "vXMOnt8Y-ALD"
      },
      "execution_count": null,
      "outputs": []
    },
    {
      "cell_type": "markdown",
      "source": [
        "## Clean and preprocess data"
      ],
      "metadata": {
        "id": "Dx8JizD-IjYf"
      }
    },
    {
      "cell_type": "markdown",
      "source": [
        "#### Clean data a bit\n",
        "- Remove random characters that shouldn't be there\n",
        "- Normalize characters such as quotation marks (multiple types appear)\n",
        "- Try fixing spelling/grammar mistakes\n"
      ],
      "metadata": {
        "id": "l_1PhsgHe_Ye"
      }
    },
    {
      "cell_type": "code",
      "source": [
        "# Find what characters are used\n",
        "chars = set(df[\"Idiomatic_Sent\"].apply(list).sum())\n",
        "chars.union(set(df[\"Literal_Sent\"].apply(list).sum()))\n",
        "\n",
        "print(chars)\n",
        "\n",
        "# Need to remove atleast ê, ¾, Õ, ™, â, Â, +, € since they are actually mistakes that shouldn't be there\n",
        "# Can probably keep punctuation. Also % and $ (only appear in a few sentences, used correctly)\n",
        "# Maybe replace \"&\" by \"and\""
      ],
      "metadata": {
        "colab": {
          "base_uri": "https://localhost:8080/"
        },
        "id": "IjThLHHpUypK",
        "outputId": "a4183bab-8665-4252-8b19-f87eda0975bf"
      },
      "execution_count": null,
      "outputs": [
        {
          "output_type": "stream",
          "name": "stdout",
          "text": [
            "{'$', 'K', '`', 'w', ')', 'Â', '—', 'S', '8', '0', 'P', 'z', 'i', 's', '.', 'b', 'y', 'l', '!', 'Õ', 'm', '(', 'H', '2', 'N', ';', 'c', '¾', 'x', '4', ' ', '”', 'v', 'W', 'B', '€', 'E', 'V', 'Y', 'C', 't', 'â', 'R', 'g', '6', 'j', '&', 'F', 'G', 'f', 'u', ',', '-', '™', 'r', '7', 'h', 'T', '9', 'a', '3', 'J', '%', \"'\", 'M', '?', 'q', 'o', 'L', 'd', 'k', '’', 'D', 'I', 'e', '+', '1', 'U', 'n', 'A', '5', 'Q', 'ê', 'O', ':', 'Z', 'p'}\n"
          ]
        }
      ]
    },
    {
      "cell_type": "code",
      "source": [
        "# Clean data\n",
        "df_clean = df.copy(deep=True)\n",
        "for i in range(len(df_clean.columns)):\n",
        "  # Remove characters\n",
        "  df_clean.iloc[:,i] = df_clean.iloc[:,i].apply(lambda x: re.sub(\"[ê¾Õ™âÂ+€�]\",\"\", x))\n",
        "\n",
        "  # Normalize quotations\n",
        "  df_clean.iloc[:,i] = df_clean.iloc[:,i].apply(lambda x: re.sub(\"’\", \"'\", x))\n",
        "  df_clean.iloc[:,i] = df_clean.iloc[:,i].apply(lambda x: re.sub(\"''|``|”\",\"\\\"\", x))\n",
        "  # Normalize —\n",
        "  df_clean.iloc[:,i] = df_clean.iloc[:,i].apply(lambda x: re.sub(\"—|--\",\"-\", x))\n",
        "\n",
        "\n",
        "# Example\n",
        "print(df[\"Idiomatic_Sent\"].iloc[3940])\n",
        "print(df_clean[\"Idiomatic_Sent\"].iloc[3940])\n",
        "\n"
      ],
      "metadata": {
        "colab": {
          "base_uri": "https://localhost:8080/"
        },
        "id": "a3fagxXWfgAB",
        "outputId": "4d2d7f1f-5cc0-47b4-ba7b-1dd1664a1b95"
      },
      "execution_count": null,
      "outputs": [
        {
          "output_type": "stream",
          "name": "stdout",
          "text": [
            "TheÂ bossÂ wasÂ madÂ becauseÂ TomÂ calledÂ itÂ aÂ dayÂ atÂ noonÂ andÂ wentÂ home .\n",
            "The boss was mad because Tom called it a day at noon and went home .\n"
          ]
        }
      ]
    },
    {
      "cell_type": "code",
      "source": [
        "# (OPTIONAL) Merge together contractions again\n",
        "def merge_contractions(text):\n",
        "    # Add spaces around every ' for consistency\n",
        "    newtext = re.sub(\"'\", \" ' \", text) # Add spaces around every ' \n",
        "    newtext = re.sub(\" +\", \" \", newtext) # Remove extra spaces\n",
        "    # To deal with ''\n",
        "    newtext = re.sub(\" ' ' \", \" '' \", newtext)\n",
        "    newtext = re.sub(\" $\",\"\", newtext)\n",
        "    newtext = re.sub(\"^ \",\"\", newtext)\n",
        "\n",
        "    # Merge contractions\n",
        "    newtext = re.sub(\" ' s \", \"'s \", newtext)\n",
        "    newtext = re.sub(\"I ' m \", \"I'm \", newtext)\n",
        "    newtext = re.sub(\" ' ll \", \"'ll \", newtext)\n",
        "    newtext = re.sub(\" ' ve \", \"'ve \", newtext)\n",
        "    newtext = re.sub(\" ' d \", \"'d \", newtext)\n",
        "    newtext = re.sub(\" ' re \", \"'re \", newtext)\n",
        "    newtext = re.sub(\" ' t \", \"'t \", newtext)\n",
        "    newtext = re.sub(\" n't \", \"n't \", newtext) # To deal with \"do n't\"\n",
        "\n",
        "    return newtext\n"
      ],
      "metadata": {
        "id": "8I9QUpR1fSMN"
      },
      "execution_count": null,
      "outputs": []
    },
    {
      "cell_type": "code",
      "source": [
        "# Merge contractions\n",
        "for i in range(len(df_clean.columns)):\n",
        "  df_clean.iloc[:,i] = df_clean.iloc[:,i].apply(lambda x: merge_contractions(x))\n",
        "\n",
        "# Example\n",
        "#print(df[\"Idiomatic_Sent\"].iloc[1242])\n",
        "#print(df_clean[\"Idiomatic_Sent\"].iloc[1242])\n",
        "\n",
        "print(df[\"Literal_Sent\"].iloc[3410])\n",
        "print(df_clean[\"Literal_Sent\"].iloc[3410])\n"
      ],
      "metadata": {
        "colab": {
          "base_uri": "https://localhost:8080/"
        },
        "id": "79deEIIQn-OV",
        "outputId": "6ba5bf28-dacf-4b03-da54-1801c3943d8b"
      },
      "execution_count": null,
      "outputs": [
        {
          "output_type": "stream",
          "name": "stdout",
          "text": [
            "'We 'll See , ' Trump Says on North Korea and And Iran and And Nafta and And many other things .\n",
            "' We'll See , ' Trump Says on North Korea and And Iran and And Nafta and And many other things .\n"
          ]
        }
      ]
    },
    {
      "cell_type": "code",
      "source": [
        "# Try to find grammar/spelling errors\n",
        "spell = SpellChecker()\n",
        "\n",
        "for col in [\"Idiomatic_Sent\", \"Literal_Sent\"]:\n",
        "  for i in range(len(df_clean)):\n",
        "    a = df_clean[col].iloc[i]\n",
        "    misspelled = spell.unknown(a.split(\" \"))\n",
        "    for word in misspelled:\n",
        "      if str(word) != spell.correction(word):\n",
        "        print(str(col)+\", \"+str(i)+\": \"+\"original: \"+str(word)+\"      suggested text: \"+str(spell.correction(word)))\n"
      ],
      "metadata": {
        "colab": {
          "base_uri": "https://localhost:8080/"
        },
        "id": "NzR70FuRiv-p",
        "outputId": "71b7ebac-f2ca-4992-8aef-6bcdaae97f4b"
      },
      "execution_count": null,
      "outputs": [
        {
          "output_type": "stream",
          "name": "stdout",
          "text": [
            "Idiomatic_Sent, 25: original: in-laws      suggested text: inlaws\n",
            "Idiomatic_Sent, 77: original: full-time      suggested text: fulltime\n",
            "Idiomatic_Sent, 88: original: ogy      suggested text: orgy\n",
            "Idiomatic_Sent, 138: original: mother-in-law      suggested text: motherinlaw\n",
            "Idiomatic_Sent, 203: original: bluethe      suggested text: blithe\n",
            "Idiomatic_Sent, 276: original: z      suggested text: i\n",
            "Idiomatic_Sent, 277: original: z      suggested text: i\n",
            "Idiomatic_Sent, 278: original: z      suggested text: i\n",
            "Idiomatic_Sent, 279: original: z      suggested text: i\n",
            "Idiomatic_Sent, 280: original: z      suggested text: i\n",
            "Idiomatic_Sent, 281: original: z      suggested text: i\n",
            "Idiomatic_Sent, 282: original: z      suggested text: i\n",
            "Idiomatic_Sent, 283: original: z      suggested text: i\n",
            "Idiomatic_Sent, 284: original: z      suggested text: i\n",
            "Idiomatic_Sent, 285: original: z      suggested text: i\n",
            "Idiomatic_Sent, 295: original: teen-aged      suggested text: teenaged\n",
            "Idiomatic_Sent, 301: original: hr      suggested text: he\n",
            "Idiomatic_Sent, 317: original: assassinator's      suggested text: assassination's\n",
            "Idiomatic_Sent, 354: original: sight-seeing      suggested text: sightseeing\n",
            "Idiomatic_Sent, 355: original: hr      suggested text: he\n",
            "Idiomatic_Sent, 372: original: laughingstoclk      suggested text: laughingstock\n",
            "Idiomatic_Sent, 375: original: sportspersons      suggested text: spokespersons\n",
            "Idiomatic_Sent, 386: original: warm-hearted      suggested text: warmhearted\n",
            "Idiomatic_Sent, 387: original: warm-hearted      suggested text: warmhearted\n",
            "Idiomatic_Sent, 388: original: warm-hearted      suggested text: warmhearted\n",
            "Idiomatic_Sent, 389: original: warm-hearted      suggested text: warmhearted\n",
            "Idiomatic_Sent, 390: original: warm-hearted      suggested text: warmhearted\n",
            "Idiomatic_Sent, 417: original: co-stars      suggested text: costars\n",
            "Idiomatic_Sent, 428: original: second-hand      suggested text: secondhand\n",
            "Idiomatic_Sent, 500: original: love-struck      suggested text: lovestruck\n",
            "Idiomatic_Sent, 532: original: swak      suggested text: swap\n",
            "Idiomatic_Sent, 536: original: swak      suggested text: swap\n",
            "Idiomatic_Sent, 569: original: heart-warming      suggested text: heartwarming\n",
            "Idiomatic_Sent, 572: original: varthaman      suggested text: earthman\n",
            "Idiomatic_Sent, 607: original: under-estimate      suggested text: underestimate\n",
            "Idiomatic_Sent, 660: original: innappropriate      suggested text: inappropriate\n",
            "Idiomatic_Sent, 692: original: non-stop      suggested text: nonstop\n",
            "Idiomatic_Sent, 762: original: part-time      suggested text: parttime\n",
            "Idiomatic_Sent, 772: original: hapenning      suggested text: happenning\n",
            "Idiomatic_Sent, 787: original: ofshe      suggested text: ofthe\n",
            "Idiomatic_Sent, 819: original: bmw      suggested text: bow\n",
            "Idiomatic_Sent, 819: original: 2k      suggested text: ok\n",
            "Idiomatic_Sent, 826: original: mid-day      suggested text: midday\n",
            "Idiomatic_Sent, 847: original: mauritius      suggested text: mauritian\n",
            "Idiomatic_Sent, 882: original: philharmonics      suggested text: philharmonic\n",
            "Idiomatic_Sent, 885: original: grass-roots      suggested text: grassroots\n",
            "Idiomatic_Sent, 933: original: call-back      suggested text: callback\n",
            "Idiomatic_Sent, 941: original: ashoka      suggested text: ahsoka\n",
            "Idiomatic_Sent, 941: original: kalinga      suggested text: kalinda\n",
            "Idiomatic_Sent, 948: original: 5th      suggested text: ith\n",
            "Idiomatic_Sent, 973: original: far-fetched      suggested text: farfetched\n",
            "Idiomatic_Sent, 974: original: far-fetched      suggested text: farfetched\n",
            "Idiomatic_Sent, 975: original: far-fetched      suggested text: farfetched\n",
            "Idiomatic_Sent, 976: original: far-fetched      suggested text: farfetched\n",
            "Idiomatic_Sent, 977: original: far-fetched      suggested text: farfetched\n",
            "Idiomatic_Sent, 978: original: far-fetched      suggested text: farfetched\n",
            "Idiomatic_Sent, 979: original: far-fetched      suggested text: farfetched\n",
            "Idiomatic_Sent, 1014: original: back-pain      suggested text: backspin\n",
            "Idiomatic_Sent, 1036: original: baloch      suggested text: block\n",
            "Idiomatic_Sent, 1036: original: sassi      suggested text: sassy\n",
            "Idiomatic_Sent, 1036: original: punnu      suggested text: bunnu\n",
            "Idiomatic_Sent, 1072: original: valarie's      suggested text: valerie's\n",
            "Idiomatic_Sent, 1077: original: air-hostess      suggested text: airhostess\n",
            "Idiomatic_Sent, 1123: original: has-been      suggested text: hasbeen\n",
            "Idiomatic_Sent, 1124: original: has-been      suggested text: hasbeen\n",
            "Idiomatic_Sent, 1125: original: has-been      suggested text: hasbeen\n",
            "Idiomatic_Sent, 1125: original: in-charge      suggested text: incharge\n",
            "Idiomatic_Sent, 1126: original: has-been      suggested text: hasbeen\n",
            "Idiomatic_Sent, 1127: original: has-been      suggested text: hasbeen\n",
            "Idiomatic_Sent, 1139: original: unproductively      suggested text: unproductive\n",
            "Idiomatic_Sent, 1139: original: never-ending      suggested text: neverending\n",
            "Idiomatic_Sent, 1161: original: co-workers      suggested text: coworkers\n",
            "Idiomatic_Sent, 1211: original: wide-spread      suggested text: widespread\n",
            "Idiomatic_Sent, 1227: original: on-goings      suggested text: ongoing\n",
            "Idiomatic_Sent, 1236: original: dunkin      suggested text: dunking\n",
            "Idiomatic_Sent, 1308: original: ex-wife      suggested text: exwife\n",
            "Idiomatic_Sent, 1345: original: rating.i      suggested text: ratings\n",
            "Idiomatic_Sent, 1439: original: mr      suggested text: my\n",
            "Idiomatic_Sent, 1492: original: grown-up      suggested text: grownup\n",
            "Idiomatic_Sent, 1516: original: anaya      suggested text: anata\n",
            "Idiomatic_Sent, 1555: original: stand-up      suggested text: standup\n",
            "Idiomatic_Sent, 1567: original: well-being      suggested text: wellbeing\n",
            "Idiomatic_Sent, 1575: original: all-day      suggested text: allay\n",
            "Idiomatic_Sent, 1605: original: karmas      suggested text: karma\n",
            "Idiomatic_Sent, 1605: original: sikhism      suggested text: schism\n",
            "Idiomatic_Sent, 1605: original: moksha      suggested text: mocha\n",
            "Idiomatic_Sent, 1646: original: km      suggested text: am\n",
            "Idiomatic_Sent, 1650: original: sside      suggested text: side\n",
            "Idiomatic_Sent, 1776: original: well-read      suggested text: wellhead\n",
            "Idiomatic_Sent, 1808: original: nd      suggested text: and\n",
            "Idiomatic_Sent, 1818: original: jone      suggested text: one\n",
            "Idiomatic_Sent, 1820: original: earworm      suggested text: earthworm\n",
            "Idiomatic_Sent, 1821: original: earworm      suggested text: earthworm\n",
            "Idiomatic_Sent, 1822: original: earworm      suggested text: earthworm\n",
            "Idiomatic_Sent, 1823: original: earworm      suggested text: earthworm\n",
            "Idiomatic_Sent, 1824: original: earmworm      suggested text: earthworm\n",
            "Idiomatic_Sent, 1825: original: earworm      suggested text: earthworm\n",
            "Idiomatic_Sent, 1925: original: co-workers      suggested text: coworkers\n",
            "Idiomatic_Sent, 1954: original: mr      suggested text: my\n",
            "Idiomatic_Sent, 2026: original: tight-lipped      suggested text: tightlipped\n",
            "Idiomatic_Sent, 2027: original: tight-lipped      suggested text: tightlipped\n",
            "Idiomatic_Sent, 2028: original: tight-lipped      suggested text: tightlipped\n",
            "Idiomatic_Sent, 2029: original: tight-lipped      suggested text: tightlipped\n",
            "Idiomatic_Sent, 2030: original: tight-lipped      suggested text: tightlipped\n",
            "Idiomatic_Sent, 2056: original: maharaj      suggested text: maharaja\n",
            "Idiomatic_Sent, 2056: original: shivaji      suggested text: shivani\n",
            "Idiomatic_Sent, 2104: original: air-conditioner      suggested text: airconditioned\n",
            "Idiomatic_Sent, 2124: original: ginna's      suggested text: gina's\n",
            "Idiomatic_Sent, 2147: original: tv      suggested text: to\n",
            "Idiomatic_Sent, 2149: original: tv      suggested text: to\n",
            "Idiomatic_Sent, 2181: original: well-being      suggested text: wellbeing\n",
            "Idiomatic_Sent, 2196: original: mrs      suggested text: mars\n",
            "Idiomatic_Sent, 2244: original: make-over      suggested text: makeover\n",
            "Idiomatic_Sent, 2340: original: kidman      suggested text: kidnap\n",
            "Idiomatic_Sent, 2345: original: 7th      suggested text: ith\n",
            "Idiomatic_Sent, 2384: original: stand-up      suggested text: standup\n",
            "Idiomatic_Sent, 2399: original: self-defence      suggested text: selfdefense\n",
            "Idiomatic_Sent, 2442: original: introspect      suggested text: retrospect\n",
            "Idiomatic_Sent, 2447: original: saima      suggested text: sama\n",
            "Idiomatic_Sent, 2515: original: unringing      suggested text: unhinging\n",
            "Idiomatic_Sent, 2516: original: unringing      suggested text: unhinging\n",
            "Idiomatic_Sent, 2518: original: unringing      suggested text: unhinging\n",
            "Idiomatic_Sent, 2521: original: step-mother      suggested text: stepmother\n",
            "Idiomatic_Sent, 2523: original: mieno      suggested text: miedo\n",
            "Idiomatic_Sent, 2524: original: gordan      suggested text: jordan\n",
            "Idiomatic_Sent, 2538: original: bieber's      suggested text: beer's\n",
            "Idiomatic_Sent, 2545: original: tv      suggested text: to\n",
            "Idiomatic_Sent, 2576: original: virat      suggested text: viral\n",
            "Idiomatic_Sent, 2618: original: meher      suggested text: meter\n",
            "Idiomatic_Sent, 2620: original: malpractices      suggested text: malpractice\n",
            "Idiomatic_Sent, 2652: original: susana      suggested text: susan\n",
            "Idiomatic_Sent, 2694: original: hadiqa      suggested text: hada\n",
            "Idiomatic_Sent, 2769: original: sprinter's      suggested text: printer's\n",
            "Idiomatic_Sent, 2808: original: head-on      suggested text: headlong\n",
            "Idiomatic_Sent, 2809: original: head-on      suggested text: headlong\n",
            "Idiomatic_Sent, 2810: original: head-on      suggested text: headlong\n",
            "Idiomatic_Sent, 2811: original: head-on      suggested text: headlong\n",
            "Idiomatic_Sent, 2812: original: head-on      suggested text: headlong\n",
            "Idiomatic_Sent, 2813: original: head-on      suggested text: headlong\n",
            "Idiomatic_Sent, 2814: original: head-on      suggested text: headlong\n",
            "Idiomatic_Sent, 2815: original: head-on      suggested text: headlong\n",
            "Idiomatic_Sent, 2816: original: head-on      suggested text: headlong\n",
            "Idiomatic_Sent, 2817: original: head-on      suggested text: headlong\n",
            "Idiomatic_Sent, 2818: original: head-on      suggested text: headlong\n",
            "Idiomatic_Sent, 2859: original: glassgow      suggested text: glasgow\n",
            "Idiomatic_Sent, 2863: original: heat-wave      suggested text: heatwave\n",
            "Idiomatic_Sent, 2898: original: joshi's      suggested text: josh's\n",
            "Idiomatic_Sent, 2926: original: ..      suggested text: i\n",
            "Idiomatic_Sent, 2971: original: ex-boss      suggested text: emboss\n",
            "Idiomatic_Sent, 3030: original: catty's      suggested text: patty's\n",
            "Idiomatic_Sent, 3042: original: upper's      suggested text: supper's\n",
            "Idiomatic_Sent, 3055: original: so-so      suggested text: soso\n",
            "Idiomatic_Sent, 3056: original: so-so      suggested text: soso\n",
            "Idiomatic_Sent, 3057: original: so-so      suggested text: soso\n",
            "Idiomatic_Sent, 3058: original: so-so      suggested text: soso\n",
            "Idiomatic_Sent, 3059: original: so-so      suggested text: soso\n",
            "Idiomatic_Sent, 3121: original: dhl      suggested text: del\n",
            "Idiomatic_Sent, 3124: original: u.s.      suggested text: us\n",
            "Idiomatic_Sent, 3176: original: over-hype      suggested text: overhyped\n",
            "Idiomatic_Sent, 3260: original: dead-ends      suggested text: deadens\n",
            "Idiomatic_Sent, 3265: original: interlocutors      suggested text: interlocutory\n",
            "Idiomatic_Sent, 3269: original: ll      suggested text: all\n",
            "Idiomatic_Sent, 3298: original: in-laws      suggested text: inlaws\n",
            "Idiomatic_Sent, 3307: original: farrokh      suggested text: farrow\n",
            "Idiomatic_Sent, 3378: original: tear-jerkers      suggested text: tearjerker\n",
            "Idiomatic_Sent, 3380: original: tear-jerkers      suggested text: tearjerker\n",
            "Idiomatic_Sent, 3382: original: chinese's      suggested text: chinese\n",
            "Idiomatic_Sent, 3383: original: tear-jerkers      suggested text: tearjerker\n",
            "Idiomatic_Sent, 3408: original: prisca      suggested text: prison\n",
            "Idiomatic_Sent, 3410: original: nafta      suggested text: hafta\n",
            "Idiomatic_Sent, 3412: original: bronte      suggested text: bronze\n",
            "Idiomatic_Sent, 3483: original: malpractices      suggested text: malpractice\n",
            "Idiomatic_Sent, 3538: original: racheal      suggested text: rachel\n",
            "Idiomatic_Sent, 3555: original: fair-weather      suggested text: fairweather\n",
            "Idiomatic_Sent, 3556: original: fair-weather      suggested text: fairweather\n",
            "Idiomatic_Sent, 3557: original: fair-weather      suggested text: fairweather\n",
            "Idiomatic_Sent, 3558: original: fair-weather      suggested text: fairweather\n",
            "Idiomatic_Sent, 3559: original: fair-weather      suggested text: fairweather\n",
            "Idiomatic_Sent, 3629: original: al.com      suggested text: malcom\n",
            "Idiomatic_Sent, 3629: original: mid-day      suggested text: midday\n",
            "Idiomatic_Sent, 3630: original: cbs      suggested text: cos\n",
            "Idiomatic_Sent, 3630: original: catnaps      suggested text: catnap\n",
            "Idiomatic_Sent, 3630: original: johnstone's      suggested text: johnson's\n",
            "Idiomatic_Sent, 3719: original: breaktime      suggested text: realtime\n",
            "Idiomatic_Sent, 3741: original: idea.i      suggested text: idea\n",
            "Idiomatic_Sent, 3746: original: fan-mail      suggested text: fantail\n",
            "Idiomatic_Sent, 3760: original: 80s      suggested text: is\n",
            "Idiomatic_Sent, 3766: original: business.i      suggested text: business\n",
            "Idiomatic_Sent, 3796: original: sheeran      suggested text: sheer\n",
            "Idiomatic_Sent, 3801: original: hard-working      suggested text: hardworking\n",
            "Idiomatic_Sent, 3844: original: 70s      suggested text: is\n",
            "Idiomatic_Sent, 3867: original: demonetization      suggested text: demonization\n",
            "Idiomatic_Sent, 3988: original: gknow      suggested text: know\n",
            "Idiomatic_Sent, 4008: original: shukla      suggested text: hula\n",
            "Idiomatic_Sent, 4008: original: mrs      suggested text: mars\n",
            "Idiomatic_Sent, 4059: original: totured      suggested text: tortured\n",
            "Idiomatic_Sent, 4064: original: bed.the      suggested text: bethe\n",
            "Idiomatic_Sent, 4086: original: t      suggested text: i\n",
            "Idiomatic_Sent, 4087: original: t      suggested text: i\n",
            "Idiomatic_Sent, 4088: original: t      suggested text: i\n",
            "Idiomatic_Sent, 4089: original: t      suggested text: i\n",
            "Idiomatic_Sent, 4090: original: t      suggested text: i\n",
            "Idiomatic_Sent, 4092: original: bug-eyed      suggested text: buggered\n",
            "Idiomatic_Sent, 4093: original: bug-eyed      suggested text: buggered\n",
            "Idiomatic_Sent, 4093: original: make-up      suggested text: makeup\n",
            "Idiomatic_Sent, 4094: original: bug-eyed      suggested text: buggered\n",
            "Idiomatic_Sent, 4117: original: tv      suggested text: to\n",
            "Idiomatic_Sent, 4184: original: big-time      suggested text: bigtime\n",
            "Idiomatic_Sent, 4237: original: eventuallye      suggested text: eventually\n",
            "Idiomatic_Sent, 4412: original: full-time      suggested text: fulltime\n",
            "Idiomatic_Sent, 4444: original: cobley      suggested text: mobley\n",
            "Idiomatic_Sent, 4445: original: cobley      suggested text: mobley\n",
            "Idiomatic_Sent, 4446: original: cobley      suggested text: mobley\n",
            "Idiomatic_Sent, 4447: original: cobley      suggested text: mobley\n",
            "Idiomatic_Sent, 4448: original: cobley      suggested text: mobley\n",
            "Idiomatic_Sent, 4449: original: cobley      suggested text: mobley\n",
            "Idiomatic_Sent, 4499: original: cut-down      suggested text: cutdown\n",
            "Idiomatic_Sent, 4505: original: cut-down      suggested text: cutdown\n",
            "Idiomatic_Sent, 4525: original: siachen      suggested text: kitchen\n",
            "Idiomatic_Sent, 4546: original: artists's      suggested text: artist's\n",
            "Idiomatic_Sent, 4569: original: sportsperson      suggested text: spokesperson\n",
            "Idiomatic_Sent, 4590: original: rida      suggested text: ride\n",
            "Idiomatic_Sent, 4626: original: hr      suggested text: he\n",
            "Idiomatic_Sent, 4677: original: optimisation      suggested text: optimization\n",
            "Idiomatic_Sent, 4719: original: break-up      suggested text: breakup\n",
            "Idiomatic_Sent, 4774: original: sayda      suggested text: saya\n",
            "Idiomatic_Sent, 4779: original: civillians      suggested text: civilians\n",
            "Idiomatic_Sent, 4892: original: bad-mouth      suggested text: badmouth\n",
            "Idiomatic_Sent, 4893: original: bad-mouth      suggested text: badmouth\n",
            "Idiomatic_Sent, 4905: original: in-laws      suggested text: inlaws\n",
            "Idiomatic_Sent, 4965: original: cold-hearted      suggested text: coldhearted\n",
            "Idiomatic_Sent, 5005: original: mallya      suggested text: mally\n",
            "Idiomatic_Sent, 5007: original: toss-up      suggested text: tossup\n",
            "Idiomatic_Sent, 5008: original: toss-up      suggested text: tossup\n",
            "Idiomatic_Sent, 5009: original: toss-up      suggested text: tossup\n",
            "Idiomatic_Sent, 5010: original: toss-up      suggested text: tossup\n",
            "Idiomatic_Sent, 5011: original: toss-up      suggested text: tossup\n",
            "Idiomatic_Sent, 5036: original: nobita      suggested text: nobis\n",
            "Idiomatic_Sent, 5036: original: doremon      suggested text: doraemon\n",
            "Idiomatic_Sent, 5065: original: vhs      suggested text: vos\n",
            "Idiomatic_Sent, 5065: original: dvds      suggested text: dads\n",
            "Idiomatic_Sent, 5126: original: now-a-days      suggested text: nowadays\n",
            "Literal_Sent, 25: original: in-laws      suggested text: inlaws\n",
            "Literal_Sent, 45: original: funniness      suggested text: funniest\n",
            "Literal_Sent, 77: original: full-time      suggested text: fulltime\n",
            "Literal_Sent, 88: original: ogy      suggested text: orgy\n",
            "Literal_Sent, 118: original: non-existant      suggested text: nonexistent\n",
            "Literal_Sent, 138: original: mother-in-law      suggested text: motherinlaw\n",
            "Literal_Sent, 146: original: targetes      suggested text: targets\n",
            "Literal_Sent, 295: original: teen-aged      suggested text: teenaged\n",
            "Literal_Sent, 301: original: hr      suggested text: he\n",
            "Literal_Sent, 354: original: sight-seeing      suggested text: sightseeing\n",
            "Literal_Sent, 355: original: hr      suggested text: he\n",
            "Literal_Sent, 372: original: ridicluous      suggested text: ridiculous\n",
            "Literal_Sent, 375: original: sportspersons      suggested text: spokespersons\n",
            "Literal_Sent, 377: original: ohîman      suggested text: human\n",
            "Literal_Sent, 377: original: îshe      suggested text: she\n",
            "Literal_Sent, 408: original: situtation      suggested text: situation\n",
            "Literal_Sent, 417: original: co-stars      suggested text: costars\n",
            "Literal_Sent, 428: original: experiened      suggested text: experienced\n",
            "Literal_Sent, 428: original: second-hand      suggested text: secondhand\n",
            "Literal_Sent, 452: original: decieved      suggested text: deceived\n",
            "Literal_Sent, 500: original: love-struck      suggested text: lovestruck\n",
            "Literal_Sent, 525: original: misearbly      suggested text: miserably\n",
            "Literal_Sent, 532: original: swak      suggested text: swap\n",
            "Literal_Sent, 536: original: swak      suggested text: swap\n",
            "Literal_Sent, 572: original: varthaman      suggested text: earthman\n",
            "Literal_Sent, 583: original: romatically      suggested text: romantically\n",
            "Literal_Sent, 607: original: under-estimate      suggested text: underestimate\n",
            "Literal_Sent, 660: original: innappropriate      suggested text: inappropriate\n",
            "Literal_Sent, 692: original: non-stop      suggested text: nonstop\n",
            "Literal_Sent, 700: original: obssession      suggested text: obsession\n",
            "Literal_Sent, 762: original: part-time      suggested text: parttime\n",
            "Literal_Sent, 772: original: hapenning      suggested text: happenning\n",
            "Literal_Sent, 787: original: acceptshe      suggested text: acceptthe\n",
            "Literal_Sent, 819: original: bmw      suggested text: bow\n",
            "Literal_Sent, 819: original: 2k      suggested text: ok\n",
            "Literal_Sent, 826: original: mid-day      suggested text: midday\n",
            "Literal_Sent, 844: original: publis      suggested text: public\n",
            "Literal_Sent, 847: original: mauritius      suggested text: mauritian\n",
            "Literal_Sent, 882: original: philharmonics      suggested text: philharmonic\n",
            "Literal_Sent, 885: original: grass-roots      suggested text: grassroots\n",
            "Literal_Sent, 933: original: call-back      suggested text: callback\n",
            "Literal_Sent, 941: original: ashoka      suggested text: ahsoka\n",
            "Literal_Sent, 941: original: kalinga      suggested text: kalinda\n",
            "Literal_Sent, 948: original: 5th      suggested text: ith\n",
            "Literal_Sent, 1014: original: back-pain      suggested text: backspin\n",
            "Literal_Sent, 1036: original: baloch      suggested text: block\n",
            "Literal_Sent, 1036: original: sassi      suggested text: sassy\n",
            "Literal_Sent, 1036: original: punnu      suggested text: bunnu\n",
            "Literal_Sent, 1072: original: valarie's      suggested text: valerie's\n",
            "Literal_Sent, 1077: original: air-hostess      suggested text: airhostess\n",
            "Literal_Sent, 1095: original: sthing      suggested text: thing\n",
            "Literal_Sent, 1125: original: in-charge      suggested text: incharge\n",
            "Literal_Sent, 1139: original: unproductively      suggested text: unproductive\n",
            "Literal_Sent, 1139: original: never-ending      suggested text: neverending\n",
            "Literal_Sent, 1161: original: co-workers      suggested text: coworkers\n",
            "Literal_Sent, 1172: original: extravagent      suggested text: extravagant\n",
            "Literal_Sent, 1209: original: unguardedly      suggested text: unguarded\n",
            "Literal_Sent, 1211: original: wide-spread      suggested text: widespread\n",
            "Literal_Sent, 1227: original: on-goings      suggested text: ongoing\n",
            "Literal_Sent, 1236: original: dunkin      suggested text: dunking\n",
            "Literal_Sent, 1308: original: ex-wife      suggested text: exwife\n",
            "Literal_Sent, 1345: original: rating.i      suggested text: ratings\n",
            "Literal_Sent, 1366: original: last-minute      suggested text: lastminute\n",
            "Literal_Sent, 1409: original: amde      suggested text: made\n",
            "Literal_Sent, 1439: original: mr      suggested text: my\n",
            "Literal_Sent, 1455: original: torrentially      suggested text: torrential\n",
            "Literal_Sent, 1460: original: torrentially      suggested text: torrential\n",
            "Literal_Sent, 1492: original: grown-up      suggested text: grownup\n",
            "Literal_Sent, 1516: original: anaya      suggested text: anata\n",
            "Literal_Sent, 1555: original: stand-up      suggested text: standup\n",
            "Literal_Sent, 1567: original: well-being      suggested text: wellbeing\n",
            "Literal_Sent, 1572: original: deprioritized      suggested text: deprioritize\n",
            "Literal_Sent, 1573: original: unproperly      suggested text: properly\n",
            "Literal_Sent, 1575: original: all-day      suggested text: allay\n",
            "Literal_Sent, 1605: original: karmas      suggested text: karma\n",
            "Literal_Sent, 1605: original: sikhism      suggested text: schism\n",
            "Literal_Sent, 1605: original: moksha      suggested text: mocha\n",
            "Literal_Sent, 1646: original: km      suggested text: am\n",
            "Literal_Sent, 1650: original: sside      suggested text: side\n",
            "Literal_Sent, 1690: original: old-fasioned      suggested text: oldfashioned\n",
            "Literal_Sent, 1691: original: old-fasioned      suggested text: oldfashioned\n",
            "Literal_Sent, 1692: original: old-fashioned      suggested text: oldfashioned\n",
            "Literal_Sent, 1808: original: nd      suggested text: and\n",
            "Literal_Sent, 1818: original: jone      suggested text: one\n",
            "Literal_Sent, 1925: original: co-workers      suggested text: coworkers\n",
            "Literal_Sent, 1954: original: mr      suggested text: my\n",
            "Literal_Sent, 1990: original: confiement      suggested text: confinement\n",
            "Literal_Sent, 2056: original: maharaj      suggested text: maharaja\n",
            "Literal_Sent, 2056: original: shivaji      suggested text: shivani\n",
            "Literal_Sent, 2104: original: air-conditioner      suggested text: airconditioned\n",
            "Literal_Sent, 2124: original: tendancy      suggested text: tendency\n",
            "Literal_Sent, 2124: original: ginna      suggested text: gonna\n",
            "Literal_Sent, 2129: original: cowardness      suggested text: forwardness\n",
            "Literal_Sent, 2147: original: tv      suggested text: to\n",
            "Literal_Sent, 2149: original: tv      suggested text: to\n",
            "Literal_Sent, 2170: original: interjects      suggested text: interject\n",
            "Literal_Sent, 2181: original: well-being      suggested text: wellbeing\n",
            "Literal_Sent, 2196: original: mrs      suggested text: mars\n",
            "Literal_Sent, 2216: original: ourburst      suggested text: outburst\n",
            "Literal_Sent, 2244: original: make-over      suggested text: makeover\n",
            "Literal_Sent, 2264: original: imporvement      suggested text: improvement\n",
            "Literal_Sent, 2340: original: kidman      suggested text: kidnap\n",
            "Literal_Sent, 2352: original: alcholics      suggested text: alcoholics\n",
            "Literal_Sent, 2384: original: stand-up      suggested text: standup\n",
            "Literal_Sent, 2399: original: self-defence      suggested text: selfdefense\n",
            "Literal_Sent, 2442: original: introspect      suggested text: retrospect\n",
            "Literal_Sent, 2447: original: saima      suggested text: sama\n",
            "Literal_Sent, 2521: original: step-mother      suggested text: stepmother\n",
            "Literal_Sent, 2523: original: mieno      suggested text: miedo\n",
            "Literal_Sent, 2524: original: gordan      suggested text: jordan\n",
            "Literal_Sent, 2532: original: champtionship      suggested text: championship\n",
            "Literal_Sent, 2533: original: indistinguishably      suggested text: indistinguishable\n",
            "Literal_Sent, 2538: original: bieber's      suggested text: beer's\n",
            "Literal_Sent, 2545: original: tv      suggested text: to\n",
            "Literal_Sent, 2576: original: virat      suggested text: viral\n",
            "Literal_Sent, 2595: original: off-shore      suggested text: offshore\n",
            "Literal_Sent, 2618: original: meher      suggested text: meter\n",
            "Literal_Sent, 2620: original: malpractices      suggested text: malpractice\n",
            "Literal_Sent, 2652: original: susana      suggested text: susan\n",
            "Literal_Sent, 2664: original: furiousness      suggested text: seriousness\n",
            "Literal_Sent, 2665: original: firece      suggested text: fierce\n",
            "Literal_Sent, 2694: original: hadiqa      suggested text: hada\n",
            "Literal_Sent, 2769: original: sprinter's      suggested text: printer's\n",
            "Literal_Sent, 2859: original: glassgow      suggested text: glasgow\n",
            "Literal_Sent, 2863: original: heat-wave      suggested text: heatwave\n",
            "Literal_Sent, 2898: original: joshi's      suggested text: josh's\n",
            "Literal_Sent, 2926: original: ..      suggested text: i\n",
            "Literal_Sent, 2934: original: rought      suggested text: brought\n",
            "Literal_Sent, 2971: original: ex-boss      suggested text: emboss\n",
            "Literal_Sent, 3029: original: greate      suggested text: great\n",
            "Literal_Sent, 3030: original: catty's      suggested text: patty's\n",
            "Literal_Sent, 3031: original: resentfully      suggested text: respectfully\n",
            "Literal_Sent, 3121: original: dhl      suggested text: del\n",
            "Literal_Sent, 3124: original: u.s.      suggested text: us\n",
            "Literal_Sent, 3176: original: over-hype      suggested text: overhyped\n",
            "Literal_Sent, 3211: original: far-fetched      suggested text: farfetched\n",
            "Literal_Sent, 3265: original: interlocutors      suggested text: interlocutory\n",
            "Literal_Sent, 3269: original: ll      suggested text: all\n",
            "Literal_Sent, 3298: original: in-laws      suggested text: inlaws\n",
            "Literal_Sent, 3306: original: fullly      suggested text: fully\n",
            "Literal_Sent, 3307: original: farrokh      suggested text: farrow\n",
            "Literal_Sent, 3329: original: reckless/      suggested text: reckless\n",
            "Literal_Sent, 3377: original: evoker      suggested text: evoke\n",
            "Literal_Sent, 3382: original: chinese's      suggested text: chinese\n",
            "Literal_Sent, 3408: original: prisca      suggested text: prison\n",
            "Literal_Sent, 3410: original: nafta      suggested text: hafta\n",
            "Literal_Sent, 3412: original: bronte      suggested text: bronze\n",
            "Literal_Sent, 3483: original: malpractices      suggested text: malpractice\n",
            "Literal_Sent, 3538: original: racheal      suggested text: rachel\n",
            "Literal_Sent, 3629: original: al.com      suggested text: malcom\n",
            "Literal_Sent, 3629: original: mid-day      suggested text: midday\n",
            "Literal_Sent, 3630: original: cbs      suggested text: cos\n",
            "Literal_Sent, 3630: original: johnstone's      suggested text: johnson's\n",
            "Literal_Sent, 3635: original: unclearly      suggested text: clearly\n",
            "Literal_Sent, 3691: original: deprioritized      suggested text: deprioritize\n",
            "Literal_Sent, 3719: original: breaktime      suggested text: realtime\n",
            "Literal_Sent, 3738: original: good-looking      suggested text: goodlooking\n",
            "Literal_Sent, 3739: original: good-looking      suggested text: goodlooking\n",
            "Literal_Sent, 3741: original: idea.i      suggested text: idea\n",
            "Literal_Sent, 3746: original: fan-mail      suggested text: fantail\n",
            "Literal_Sent, 3760: original: 80s      suggested text: is\n",
            "Literal_Sent, 3766: original: business.i      suggested text: business\n",
            "Literal_Sent, 3796: original: sheeran      suggested text: sheer\n",
            "Literal_Sent, 3801: original: hard-working      suggested text: hardworking\n",
            "Literal_Sent, 3844: original: 70s      suggested text: is\n",
            "Literal_Sent, 3867: original: demonetization      suggested text: demonization\n",
            "Literal_Sent, 3908: original: suspicous      suggested text: suspicious\n",
            "Literal_Sent, 3911: original: untrusted      suggested text: entrusted\n",
            "Literal_Sent, 4008: original: shukla      suggested text: hula\n",
            "Literal_Sent, 4008: original: mrs      suggested text: mars\n",
            "Literal_Sent, 4047: original: speachless      suggested text: speechless\n",
            "Literal_Sent, 4048: original: speachless      suggested text: speechless\n",
            "Literal_Sent, 4050: original: speachless      suggested text: speechless\n",
            "Literal_Sent, 4059: original: totured      suggested text: tortured\n",
            "Literal_Sent, 4067: original: botheirng      suggested text: bothering\n",
            "Literal_Sent, 4093: original: make-up      suggested text: makeup\n",
            "Literal_Sent, 4117: original: tv      suggested text: to\n",
            "Literal_Sent, 4184: original: far-fetched      suggested text: farfetched\n",
            "Literal_Sent, 4184: original: big-time      suggested text: bigtime\n",
            "Literal_Sent, 4198: original: pre-made      suggested text: premade\n",
            "Literal_Sent, 4200: original: ready-made      suggested text: readymade\n",
            "Literal_Sent, 4255: original: indluenced      suggested text: influenced\n",
            "Literal_Sent, 4412: original: full-time      suggested text: fulltime\n",
            "Literal_Sent, 4522: original: while.      suggested text: while\n",
            "Literal_Sent, 4525: original: siachen      suggested text: kitchen\n",
            "Literal_Sent, 4546: original: artists's      suggested text: artist's\n",
            "Literal_Sent, 4551: original: ..      suggested text: i\n",
            "Literal_Sent, 4569: original: importat      suggested text: important\n",
            "Literal_Sent, 4569: original: sportsperson      suggested text: spokesperson\n",
            "Literal_Sent, 4590: original: rida      suggested text: ride\n",
            "Literal_Sent, 4626: original: hr      suggested text: he\n",
            "Literal_Sent, 4677: original: optimisation      suggested text: optimization\n",
            "Literal_Sent, 4719: original: break-up      suggested text: breakup\n",
            "Literal_Sent, 4774: original: sayda      suggested text: saya\n",
            "Literal_Sent, 4779: original: civillians      suggested text: civilians\n",
            "Literal_Sent, 4837: original: achievemnet      suggested text: achievement\n",
            "Literal_Sent, 4905: original: in-laws      suggested text: inlaws\n",
            "Literal_Sent, 4965: original: cold-hearted      suggested text: coldhearted\n",
            "Literal_Sent, 5005: original: mallya      suggested text: mally\n",
            "Literal_Sent, 5036: original: nobita      suggested text: nobis\n",
            "Literal_Sent, 5036: original: doremon      suggested text: doraemon\n",
            "Literal_Sent, 5065: original: vhs      suggested text: vos\n",
            "Literal_Sent, 5065: original: dvds      suggested text: dads\n",
            "Literal_Sent, 5118: original: bed-ridden      suggested text: bedridden\n",
            "Literal_Sent, 5126: original: now-a-days      suggested text: nowadays\n",
            "Literal_Sent, 5149: original: beome      suggested text: become\n"
          ]
        }
      ]
    },
    {
      "cell_type": "code",
      "source": [
        "print(df.iloc[5149])\n",
        "print(df_clean.iloc[5149])"
      ],
      "metadata": {
        "colab": {
          "base_uri": "https://localhost:8080/"
        },
        "id": "NLE5xZVa1Yo7",
        "outputId": "665bbbf3-940b-401d-c912-64e76688e261"
      },
      "execution_count": null,
      "outputs": [
        {
          "output_type": "stream",
          "name": "stdout",
          "text": [
            "Idiom                                                       catch up\n",
            "Sense                          to be utterly fascinated by something\n",
            "Idiomatic_Sent     It 's a bad idea to get caught up in a dangero...\n",
            "Literal_Sent       It 's a bad idea to beome immersed in a danger...\n",
            "Idiomatic_Label                          O O O O O O B I I O O O O O\n",
            "Literal_Label                              O O O O O O B I O O O O O\n",
            "Actual_Id                                              get caught up\n",
            "Name: 5149, dtype: object\n",
            "Idiom                                                       catch up\n",
            "Sense                          to be utterly fascinated by something\n",
            "Idiomatic_Sent     It's a bad idea to get caught up in a dangerou...\n",
            "Literal_Sent       It's a bad idea to beome immersed in a dangero...\n",
            "Idiomatic_Label                          O O O O O O B I I O O O O O\n",
            "Literal_Label                              O O O O O O B I O O O O O\n",
            "Actual_Id                                              get caught up\n",
            "Name: 5149, dtype: object\n"
          ]
        }
      ]
    },
    {
      "cell_type": "markdown",
      "source": [
        "### Put data in right format for T5\n",
        "For two cases:\n",
        "- With prefix giving sentence as well as idiom\n",
        "- Without prefix and appending idiom"
      ],
      "metadata": {
        "id": "yZVy_yIwfM3e"
      }
    },
    {
      "cell_type": "markdown",
      "source": [
        "#### Split data into training, test and validation\n",
        "For it to work, we need each idiom in test/validation to be in training,otherwise it won't know it. We have 862 idiom senses and 5172 sentences.\n",
        "\n",
        "Two potential ways to split the data:\n",
        "\n",
        "- One sentence per idiom sense for test, one for validation and the rest for training (gives train/test/validation = 17%/17%/67%)\n",
        "- Take one sentence per idiom sense and assign to either test or validation, then assign the rest to training (gives train/test/validation = 8%/8%/83%)"
      ],
      "metadata": {
        "id": "dqhiFIqn0sJH"
      }
    },
    {
      "cell_type": "code",
      "source": [
        "# 1 in test, 1 in validation, 1 in training per idiom sense\n",
        "def split_data_1(data, addStars=False):\n",
        "  idiom = \"\"\n",
        "  sense = \"\"\n",
        "  count = 0 # To see which set the row should be added to\n",
        "  split = {\"train\": [], \"test\": [], \"val\": []}\n",
        "\n",
        "  for i in range(len(data)):\n",
        "    if data[\"Idiom\"].iloc[i] != idiom and data[\"Sense\"].iloc[i] != sense:\n",
        "      # First time we see the idiom, add to test\n",
        "      split[\"test\"].append(i)\n",
        "      idiom = data[\"Idiom\"].iloc[i]\n",
        "      sense = data[\"Sense\"].iloc[i]\n",
        "      count = 1\n",
        "    elif count == 1:\n",
        "      # Second time we see the idiom, add to validation\n",
        "      split[\"val\"].append(i)\n",
        "      count = 0\n",
        "    else:\n",
        "      # Already one sentence in test and validation, add the rest to train\n",
        "      split[\"train\"].append(i)\n",
        "  \n",
        "  # Create dataframes\n",
        "  train = data.iloc[split[\"train\"]].reset_index(drop=True)\n",
        "  test = data.iloc[split[\"test\"]].reset_index(drop=True)\n",
        "  val = data.iloc[split[\"val\"]].reset_index(drop=True)\n",
        "  if addStars:\n",
        "    train = addStarsToIdioms(train)\n",
        "    test = addStarsToIdioms(test)\n",
        "    val = addStarsToIdioms(val)\n",
        "\n",
        "  return train, test, val\n"
      ],
      "metadata": {
        "id": "0byoSb5_27eE"
      },
      "execution_count": null,
      "outputs": []
    },
    {
      "cell_type": "code",
      "source": [
        "def split_data_2(data):\n",
        "  idiom = \"\"\n",
        "  sense = \"\"\n",
        "  count = 0 # To see which set the row should be added to\n",
        "  split = {\"train\": [], \"test_val\":[]}\n",
        "\n",
        "  for i in range(len(data)):\n",
        "    if data[\"Idiom\"].iloc[i] != idiom and data[\"Sense\"].iloc[i] != sense:\n",
        "      # First time we see the idiom, add to test-validation combined set\n",
        "      split[\"test_val\"].append(i)\n",
        "      idiom = data[\"Idiom\"].iloc[i]\n",
        "      sense = data[\"Sense\"].iloc[i]\n",
        "      count = 1\n",
        "    else:\n",
        "      # Already one sentence in test-validation combined, add the rest to train\n",
        "      split[\"train\"].append(i)\n",
        "    \n",
        "    \n",
        "  # Create dataframes\n",
        "  train = data.iloc[split[\"train\"]].reset_index(drop=True)\n",
        "  test_val = data.iloc[split[\"test_val\"]].reset_index(drop=True)\n",
        "\n",
        "  test, val = np.array_split(test_val, 2)\n",
        "\n",
        "  return train, test, val"
      ],
      "metadata": {
        "id": "NA1xJXFSPZ0x"
      },
      "execution_count": null,
      "outputs": []
    },
    {
      "cell_type": "code",
      "source": [
        "def addStarsToIdioms(df):\n",
        "  for i, sent in enumerate(df['Idiomatic_Sent']):\n",
        "    idiom = df['Idiom'].loc[i]\n",
        "    df['Idiomatic_Sent'].loc[i] = df['Idiomatic_Sent'].loc[i].replace(idiom, f'*{idiom}*')\n",
        "  return df\n",
        "\n"
      ],
      "metadata": {
        "id": "4pM7AbMIVO5o"
      },
      "execution_count": null,
      "outputs": []
    },
    {
      "cell_type": "markdown",
      "source": [
        "#### Put data into dataframes for T5 with/without prefix"
      ],
      "metadata": {
        "id": "Z1GTY58023Uc"
      }
    },
    {
      "cell_type": "markdown",
      "source": [
        "Testing it out"
      ],
      "metadata": {
        "id": "Cfbhidi7Dccp"
      }
    },
    {
      "cell_type": "code",
      "source": [
        "# With appending the idiom\n",
        "data = pd.DataFrame()\n",
        "data['input'] = df_clean.agg('id_par sentence: {0[Idiomatic_Sent]} idiom: {0[Idiom]}'.format, axis=1)\n",
        "data['target'] = df_clean['Literal_Sent']\n",
        "print(data[\"input\"].iloc[0])\n",
        "print(data[\"target\"].iloc[0])"
      ],
      "metadata": {
        "colab": {
          "base_uri": "https://localhost:8080/"
        },
        "id": "Ljj2hya-IhtX",
        "outputId": "86786ac9-a5ff-405d-80f4-49d877ac07a6"
      },
      "execution_count": null,
      "outputs": [
        {
          "output_type": "stream",
          "name": "stdout",
          "text": [
            "id_par sentence: Let's give her the benefit of the doubt and assume that she is right . idiom: the benefit of the doubt\n",
            "Let's regard her as innocent and assume that she is right .\n"
          ]
        }
      ]
    },
    {
      "cell_type": "code",
      "source": [
        "# Without appending the idiom (and without prefix)\n",
        "data2 = pd.DataFrame()\n",
        "data2['input'] = df_clean['Idiomatic_Sent']\n",
        "data2['target'] = df_clean['Literal_Sent']\n",
        "print(data2[\"input\"].iloc[0])\n",
        "print(data2[\"target\"].iloc[0])"
      ],
      "metadata": {
        "colab": {
          "base_uri": "https://localhost:8080/"
        },
        "id": "rIbTDf0wKMea",
        "outputId": "1c55d1e7-9f4b-4d90-f07c-43099e9c1ca7"
      },
      "execution_count": null,
      "outputs": [
        {
          "output_type": "stream",
          "name": "stdout",
          "text": [
            "Let's give her the benefit of the doubt and assume that she is right .\n",
            "Let's regard her as innocent and assume that she is right .\n"
          ]
        }
      ]
    },
    {
      "cell_type": "markdown",
      "source": [
        "#### Prepare training, test and validation data"
      ],
      "metadata": {
        "id": "P5k3uVVGDeZR"
      }
    },
    {
      "cell_type": "code",
      "source": [
        "# Format a dataframe into the input for the T5 model with prefix and idiom\n",
        "def format_t5_1(df):\n",
        "  data = pd.DataFrame()\n",
        "  data['input'] = df.agg('id_par sentence: {0[Idiomatic_Sent]} idiom: {0[Idiom]}'.format, axis=1)\n",
        "  data['target'] = df['Literal_Sent']\n",
        "  data['IOB_input'] = df['Idiomatic_Label']\n",
        "  data['IOB_target'] = df['Literal_Label']\n",
        "  return data"
      ],
      "metadata": {
        "id": "jmbtVagtDVRz"
      },
      "execution_count": null,
      "outputs": []
    },
    {
      "cell_type": "code",
      "source": [
        "# Format a dataframe into the input for the T5 model without prefix\n",
        "def format_t5_2(df):\n",
        "  data = pd.DataFrame()\n",
        "  data['input'] = df['Idiomatic_Sent']\n",
        "  data['target'] = df['Literal_Sent']\n",
        "  return data"
      ],
      "metadata": {
        "id": "GBWQXHv-IkzS"
      },
      "execution_count": null,
      "outputs": []
    },
    {
      "cell_type": "code",
      "source": [
        "# Format a dataframe into the input for the T5 model with just prefix\n",
        "def format_t5_3(df):\n",
        "  data = pd.DataFrame()\n",
        "  data['input'] = df.agg('paraphrase: {0[Idiomatic_Sent]}'.format, axis=1)\n",
        "  data['target'] = df['Literal_Sent']\n",
        "  return data"
      ],
      "metadata": {
        "id": "fJK5Uv3dIv8h"
      },
      "execution_count": null,
      "outputs": []
    },
    {
      "cell_type": "code",
      "source": [
        "# Format the split data and save to csv - Id_par+idiom\n",
        "\n",
        "train, test, val = split_data_1(df_clean, addStars=True)\n",
        "# train, test, val = split_data_2(df_clean)\n",
        "\n",
        "data_train = format_t5_1(train)\n",
        "data_test = format_t5_1(test)\n",
        "data_val = format_t5_1(val)\n",
        "\n",
        "# print(data_train.head)\n",
        "# print(data_test.head)\n",
        "# print(data_val.head)\n",
        "\n",
        "dir = dir = \"/content/drive/MyDrive/Pipeline/Data/Idpar_Idiom_IOB_Stars/\"\n",
        "\n",
        "# Save to csv\n",
        "data_train.to_csv(dir+\"data_train.csv\", index=False, sep=\"=\")\n",
        "data_test.to_csv(dir+\"data_test.csv\", index=False, sep=\"=\")\n",
        "data_val.to_csv(dir+\"data_val.csv\", index=False, sep=\"=\")\n"
      ],
      "metadata": {
        "id": "p0oIxSKtECKN"
      },
      "execution_count": null,
      "outputs": []
    },
    {
      "cell_type": "code",
      "source": [
        "# Format the split data and save to csv - No idiom or label prepended /appended\n",
        "\n",
        "train, test, val = split_data_1(df_clean)\n",
        "# train, test, val = split_data_2(df_clean)\n",
        "\n",
        "data_train = format_t5_2(train)\n",
        "data_test = format_t5_2(test)\n",
        "data_val = format_t5_2(val)\n",
        "\n",
        "# print(data_train.head)\n",
        "# print(data_test.head)\n",
        "# print(data_val.head)\n",
        "\n",
        "# Save to csv\n",
        "data_train.to_csv(dir+\"data_noid_nolabel_train.csv\", index=False, sep=\"=\")\n",
        "data_test.to_csv(dir+\"data_noid_nolabel_test.csv\", index=False, sep=\"=\")\n",
        "data_val.to_csv(dir+\"data_noid_nolabel_val.csv\", index=False, sep=\"=\")"
      ],
      "metadata": {
        "id": "YWiRQNRWpcHG"
      },
      "execution_count": null,
      "outputs": []
    },
    {
      "cell_type": "code",
      "source": [
        "# Format the split data and save to csv - Paraphrase prefix\n",
        "\n",
        "# train, test, val = split_data_1(df_clean)\n",
        "train, test, val = split_data_2(df_clean)\n",
        "\n",
        "data_train = format_t5_3(train)\n",
        "data_test = format_t5_3(test)\n",
        "data_val = format_t5_3(val)\n",
        "\n",
        "# print(data_train.head)\n",
        "# print(data_test.head)\n",
        "# print(data_val.head)\n",
        "\n",
        "# Save to csv\n",
        "data_train.to_csv(dir+\"data_par_train.csv\", index=False, sep=\"=\")\n",
        "data_test.to_csv(dir+\"data_par_test.csv\", index=False, sep=\"=\")\n",
        "data_val.to_csv(dir+\"data_par_val.csv\", index=False, sep=\"=\")\n"
      ],
      "metadata": {
        "id": "O0dHjG9oqAum"
      },
      "execution_count": null,
      "outputs": []
    }
  ]
}