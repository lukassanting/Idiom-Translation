{
  "nbformat": 4,
  "nbformat_minor": 0,
  "metadata": {
    "colab": {
      "name": "End-To-End Training",
      "provenance": [],
      "collapsed_sections": [],
      "include_colab_link": true
    },
    "kernelspec": {
      "name": "python3",
      "display_name": "Python 3"
    },
    "language_info": {
      "name": "python"
    },
    "accelerator": "GPU"
  },
  "cells": [
    {
      "cell_type": "markdown",
      "metadata": {
        "id": "view-in-github",
        "colab_type": "text"
      },
      "source": [
        "<a href=\"https://colab.research.google.com/github/lukassanting/Idiom-Translation/blob/main/End_To_End_Training.ipynb\" target=\"_parent\"><img src=\"https://colab.research.google.com/assets/colab-badge.svg\" alt=\"Open In Colab\"/></a>"
      ]
    },
    {
      "cell_type": "markdown",
      "source": [
        "# Training T5 - Prefix+Idiom\n",
        "\n"
      ],
      "metadata": {
        "id": "rEADq27OKFe6"
      }
    },
    {
      "cell_type": "markdown",
      "source": [
        "#0. Installs, Imports, Setup\n"
      ],
      "metadata": {
        "id": "v9dFeYBSZJJb"
      }
    },
    {
      "cell_type": "markdown",
      "source": [
        "##0.1 Import Libraries & Packages"
      ],
      "metadata": {
        "id": "I8njKcE7c2F4"
      }
    },
    {
      "cell_type": "code",
      "source": [
        "!pip install sentencepiece -q\n",
        "!pip install transformers -q\n",
        "!pip install torch -q\n",
        "!pip install rich[jupyter] -q"
      ],
      "metadata": {
        "id": "dEFESOlJb8yT"
      },
      "execution_count": 1,
      "outputs": []
    },
    {
      "cell_type": "code",
      "source": [
        "# Drive\n",
        "from google.colab import drive\n",
        "\n",
        "# Plots\n",
        "import IPython\n",
        "import IPython.display\n",
        "import seaborn as sns\n",
        "import matplotlib as mpl\n",
        "import matplotlib.pyplot as plt\n",
        "plt.figure(figsize=(12, 6))\n",
        "\n",
        "# Util\n",
        "import os\n",
        "import pandas as pd\n",
        "import numpy as np\n",
        "import re\n",
        "pd.set_option('display.max_rows', None)\n",
        "\n",
        "# ML\n",
        "import torch\n",
        "import torch.nn.functional as F\n",
        "from torch.utils.data import Dataset, DataLoader, RandomSampler, SequentialSampler\n",
        "\n",
        "# Importing the T5 modules from huggingface/transformers\n",
        "from transformers import T5Tokenizer, T5ForConditionalGeneration\n",
        "\n",
        "# rich: for a better display on terminal\n",
        "from rich.table import Column, Table\n",
        "from rich.text import Text\n",
        "from rich import box\n",
        "from rich.console import Console\n",
        "\n",
        "# define a rich console logger\n",
        "console = Console(record=True)\n",
        "\n",
        "# Setting up the device for GPU usage\n",
        "from torch import cuda\n",
        "device = 'cuda' if cuda.is_available() else 'cpu'"
      ],
      "metadata": {
        "colab": {
          "base_uri": "https://localhost:8080/",
          "height": 34
        },
        "id": "4mcA2ya5ZNCM",
        "outputId": "a7f52f87-4b5c-45df-9495-fa727b2c38a1"
      },
      "execution_count": 2,
      "outputs": [
        {
          "output_type": "display_data",
          "data": {
            "text/plain": [
              "<Figure size 864x432 with 0 Axes>"
            ]
          },
          "metadata": {}
        }
      ]
    },
    {
      "cell_type": "markdown",
      "source": [
        "##0.2. Import Data"
      ],
      "metadata": {
        "id": "s3arh9WcZFww"
      }
    },
    {
      "cell_type": "markdown",
      "source": [
        "Either upload the data to the shared Google Drive and use this to download, or upload it directly yourself (whatever is easier)"
      ],
      "metadata": {
        "id": "zK4I5s9gZqxI"
      }
    },
    {
      "cell_type": "code",
      "execution_count": 3,
      "metadata": {
        "colab": {
          "base_uri": "https://localhost:8080/"
        },
        "id": "VoQUPYjsZDiq",
        "outputId": "8b92b89b-feaa-469d-87a5-76e524adca4b"
      },
      "outputs": [
        {
          "output_type": "stream",
          "name": "stdout",
          "text": [
            "fatal: destination path 'data' already exists and is not an empty directory.\n"
          ]
        }
      ],
      "source": [
        "!git clone https://github.com/marziehf/IdiomTranslationDS data"
      ]
    },
    {
      "cell_type": "markdown",
      "source": [
        "##0.3 Setup functions & classes"
      ],
      "metadata": {
        "id": "xnpSL43tdGvk"
      }
    },
    {
      "cell_type": "markdown",
      "source": [
        "###0.3.1 FUNC: display_df"
      ],
      "metadata": {
        "id": "mKt7_iGUeScN"
      }
    },
    {
      "cell_type": "code",
      "source": [
        "# to display dataframe in ASCII format\n",
        "def display_df(df):\n",
        "    \"\"\"display dataframe in ASCII format\"\"\"\n",
        "\n",
        "    console = Console()\n",
        "    table = Table(\n",
        "        Column(\"source_text\", justify=\"center\"),\n",
        "        Column(\"target_text\", justify=\"center\"),\n",
        "        title=\"Sample Data\",\n",
        "        pad_edge=False,\n",
        "        box=box.ASCII,\n",
        "    )\n",
        "\n",
        "    for i, row in enumerate(df.values.tolist()):\n",
        "        table.add_row(row[0], row[1])\n",
        "\n",
        "    console.print(table)\n",
        "\n",
        "# training logger to log training progress\n",
        "training_logger = Table(\n",
        "    Column(\"Epoch\", justify=\"center\"),\n",
        "    Column(\"Steps\", justify=\"center\"),\n",
        "    Column(\"Loss\", justify=\"center\"),\n",
        "    title=\"Training Status\",\n",
        "    pad_edge=False,\n",
        "    box=box.ASCII,\n",
        ")"
      ],
      "metadata": {
        "id": "QjO6nIJGchxq"
      },
      "execution_count": 4,
      "outputs": []
    },
    {
      "cell_type": "markdown",
      "source": [
        "###0.3.2 CLASS: DataSet"
      ],
      "metadata": {
        "id": "5v2GZNnvea0H"
      }
    },
    {
      "cell_type": "markdown",
      "source": [
        "A Dataset class for reading and loading the dataset into the dataloader, and then feed it into the neural network for fine-tuning the model."
      ],
      "metadata": {
        "id": "e1KXqhYhdX_f"
      }
    },
    {
      "cell_type": "code",
      "source": [
        "class DataSet(Dataset):\n",
        "    \"\"\"\n",
        "    Creating a dataset class for reading the dataset and\n",
        "    loading it into the dataloader, to pass it to the\n",
        "    neural network for finetuning the model\n",
        "\n",
        "    \"\"\"\n",
        "\n",
        "    def __init__(\n",
        "        self, dataframe, tokenizer, source_len, target_len, source_text, target_text\n",
        "    ):\n",
        "        \"\"\"\n",
        "        Initializes a Dataset class\n",
        "\n",
        "        Args:\n",
        "            dataframe (pandas.DataFrame): Input dataframe\n",
        "            tokenizer (transformers.tokenizer): Transformers tokenizer\n",
        "            source_len (int): Max length of source text\n",
        "            target_len (int): Max length of target text\n",
        "            source_text (str): column name of source text\n",
        "            target_text (str): column name of target text\n",
        "        \"\"\"\n",
        "        self.tokenizer = tokenizer\n",
        "        self.data = dataframe\n",
        "        self.source_len = source_len\n",
        "        self.summ_len = target_len\n",
        "        self.target_text = self.data[target_text]\n",
        "        self.source_text = self.data[source_text]\n",
        "\n",
        "    def __len__(self):\n",
        "        \"\"\"returns the length of dataframe\"\"\"\n",
        "\n",
        "        return len(self.target_text)\n",
        "\n",
        "    def __getitem__(self, index):\n",
        "        \"\"\"return the input ids, attention masks and target ids\"\"\"\n",
        "\n",
        "        source_text = str(self.source_text[index])\n",
        "        target_text = str(self.target_text[index])\n",
        "\n",
        "        # cleaning data so as to ensure data is in string type\n",
        "        source_text = \" \".join(source_text.split())\n",
        "        target_text = \" \".join(target_text.split())\n",
        "\n",
        "        source = self.tokenizer.batch_encode_plus(\n",
        "            [source_text],\n",
        "            max_length=self.source_len,\n",
        "            pad_to_max_length=True,\n",
        "            truncation=True,\n",
        "            padding=\"max_length\",\n",
        "            return_tensors=\"pt\",\n",
        "        )\n",
        "        target = self.tokenizer.batch_encode_plus(\n",
        "            [target_text],\n",
        "            max_length=self.summ_len,\n",
        "            pad_to_max_length=True,\n",
        "            truncation=True,\n",
        "            padding=\"max_length\",\n",
        "            return_tensors=\"pt\",\n",
        "        )\n",
        "\n",
        "        source_ids = source[\"input_ids\"].squeeze()\n",
        "        source_mask = source[\"attention_mask\"].squeeze()\n",
        "        target_ids = target[\"input_ids\"].squeeze()\n",
        "        target_mask = target[\"attention_mask\"].squeeze()\n",
        "\n",
        "        return {\n",
        "            \"source_ids\": source_ids.to(dtype=torch.long),\n",
        "            \"source_mask\": source_mask.to(dtype=torch.long),\n",
        "            \"target_ids\": target_ids.to(dtype=torch.long),\n",
        "            \"target_ids_y\": target_ids.to(dtype=torch.long),\n",
        "        }"
      ],
      "metadata": {
        "id": "iJmDbxNbdKlP"
      },
      "execution_count": 5,
      "outputs": []
    },
    {
      "cell_type": "markdown",
      "source": [
        "###0.3.3 FUNC: train"
      ],
      "metadata": {
        "id": "rcxgONn0efui"
      }
    },
    {
      "cell_type": "markdown",
      "source": [
        "Train function, which will the put model on training mode, generate outputs and calculate loss"
      ],
      "metadata": {
        "id": "noK0ICH4eCzT"
      }
    },
    {
      "cell_type": "code",
      "source": [
        "def train(epoch, tokenizer, model, device, loader, optimizer):\n",
        "\n",
        "    \"\"\"\n",
        "    Function to be called for training with the parameters passed from main function\n",
        "\n",
        "    Takes 6 arguments as input:\n",
        "    \n",
        "        epoch: epoch\n",
        "        tokenizer: T5 tokenizer\n",
        "        model: T5 model\n",
        "        loader: Train Dataloader\n",
        "        optimizer: Optimizer\n",
        "\n",
        "    \"\"\"\n",
        "\n",
        "    model.train()\n",
        "    for _, data in enumerate(loader, 0):\n",
        "        y = data[\"target_ids\"].to(device, dtype=torch.long)\n",
        "        y_ids = y[:, :-1].contiguous()\n",
        "        lm_labels = y[:, 1:].clone().detach()\n",
        "        lm_labels[y[:, 1:] == tokenizer.pad_token_id] = -100\n",
        "        ids = data[\"source_ids\"].to(device, dtype=torch.long)\n",
        "        mask = data[\"source_mask\"].to(device, dtype=torch.long)\n",
        "\n",
        "        outputs = model(\n",
        "            input_ids=ids,\n",
        "            attention_mask=mask,\n",
        "            decoder_input_ids=y_ids,\n",
        "            labels=lm_labels,\n",
        "        )\n",
        "        loss = outputs[0]\n",
        "\n",
        "        if _ % 10 == 0:\n",
        "            training_logger.add_row(str(epoch), str(_), str(loss.item()))\n",
        "            console.print(\"Epoch: \", str(epoch), \"Steps: \", str(_), \"Loss: \",str(loss.item()))\n",
        "            #console.print(training_logger)\n",
        "\n",
        "        optimizer.zero_grad()\n",
        "        loss.backward() \n",
        "        optimizer.step()\n",
        "\n",
        "    console.print(training_logger)"
      ],
      "metadata": {
        "id": "EG5eKLajeFKX"
      },
      "execution_count": 6,
      "outputs": []
    },
    {
      "cell_type": "markdown",
      "source": [
        "###0.3.4 FUNC: validate"
      ],
      "metadata": {
        "id": "K2ChKAx-em7b"
      }
    },
    {
      "cell_type": "markdown",
      "source": [
        "Validate function is same as the Train function, but for the validation data\n",
        "\n"
      ],
      "metadata": {
        "id": "o7UaCBo7eKqX"
      }
    },
    {
      "cell_type": "code",
      "source": [
        "def validate(epoch, tokenizer, model, device, loader):\n",
        "\n",
        "  \"\"\"\n",
        "  Function to evaluate model for predictions\n",
        "\n",
        "  \"\"\"\n",
        "  model.eval()\n",
        "  predictions = []\n",
        "  actuals = []\n",
        "  with torch.no_grad():\n",
        "      for _, data in enumerate(loader, 0):\n",
        "          y = data['target_ids'].to(device, dtype = torch.long)\n",
        "          ids = data['source_ids'].to(device, dtype = torch.long)\n",
        "          mask = data['source_mask'].to(device, dtype = torch.long)\n",
        "\n",
        "          generated_ids = model.generate(\n",
        "              input_ids = ids,\n",
        "              attention_mask = mask, \n",
        "              max_length=150, \n",
        "              num_beams=2,\n",
        "              repetition_penalty=2.5, \n",
        "              length_penalty=1.0, \n",
        "              early_stopping=True\n",
        "              )\n",
        "          preds = [tokenizer.decode(g, skip_special_tokens=True, clean_up_tokenization_spaces=True) for g in generated_ids]\n",
        "          target = [tokenizer.decode(t, skip_special_tokens=True, clean_up_tokenization_spaces=True)for t in y]\n",
        "          if _%10==0:\n",
        "              console.print(f'Completed {_}')\n",
        "\n",
        "          predictions.extend(preds)\n",
        "          actuals.extend(target)\n",
        "  return predictions, actuals"
      ],
      "metadata": {
        "id": "JRHNbfg1eMlx"
      },
      "execution_count": 7,
      "outputs": []
    },
    {
      "cell_type": "markdown",
      "source": [
        "###0.3.5 FUNC: T5Trainer"
      ],
      "metadata": {
        "id": "F19iHSPfes84"
      }
    },
    {
      "cell_type": "markdown",
      "source": [
        "T5Trainer is our main function. It accepts input data, model type, model paramters to fine-tune the model. Under the hood, it utilizes, our Dataset class for data handling, train function to fine tune the model, validate to evaluate the model."
      ],
      "metadata": {
        "id": "uu9v__Wjexl1"
      }
    },
    {
      "cell_type": "code",
      "source": [
        "# CHANGED THIS to get it to work with my fixed train and validation data\n",
        "def T5Trainer(\n",
        "    train_data, val_data, source_text, target_text, model_params, output_dir=\"./outputs/\"\n",
        "):\n",
        "\n",
        "    \"\"\"\n",
        "    T5 trainer has 6 arguments:\n",
        "\n",
        "      train_data: Input dataframe of training data\n",
        "      val_data: Input dataframe of validation data\n",
        "      source_text: Column name of the input text i.e. idiomatic sentence\n",
        "      target_text: Column name of the target text i.e. literal sentence\n",
        "      model_params: T5 model parameters\n",
        "      output_dir: Output directory to save fine tuned T5 model.\n",
        "\n",
        "    \"\"\"\n",
        "\n",
        "    # Set random seeds and deterministic pytorch for reproducibility\n",
        "    torch.manual_seed(model_params[\"SEED\"])  # pytorch random seed\n",
        "    np.random.seed(model_params[\"SEED\"])  # numpy random seed\n",
        "    torch.backends.cudnn.deterministic = True\n",
        "\n",
        "    # logging\n",
        "    console.log(f\"\"\"[Model]: Loading {model_params[\"MODEL\"]}...\\n\"\"\")\n",
        "\n",
        "    # tokenzier for encoding the text\n",
        "    tokenizer = T5Tokenizer.from_pretrained(model_params[\"MODEL\"])\n",
        "\n",
        "    # Defining the model. We are using t5-base model and added a Language model layer on top for generation of Summary.\n",
        "    # Further this model is sent to device (GPU/TPU) for using the hardware.\n",
        "    model = T5ForConditionalGeneration.from_pretrained(model_params[\"MODEL\"])\n",
        "    model = model.to(device)\n",
        "\n",
        "    # logging\n",
        "    console.log(f\"[Data]: Reading data...\\n\")\n",
        "\n",
        "    # Importing the raw dataset\n",
        "    train_data = train_data[[source_text, target_text]]\n",
        "    train_data = train_data.reset_index(drop=True)\n",
        "    val_data = val_data[[source_text, target_text]]\n",
        "    val_data = val_data.reset_index(drop=True)\n",
        "\n",
        "    display_df(train_data.head(2))\n",
        "\n",
        "    # Creation of Dataset and Dataloader\n",
        "    console.print(f\"TRAIN Dataset: {train_data.shape}\")\n",
        "    console.print(f\"TEST Dataset: {val_data.shape}\\n\")\n",
        "\n",
        "    # Creating the Training and Validation dataset for further creation of Dataloader\n",
        "    training_set = DataSet(\n",
        "        train_data,\n",
        "        tokenizer,\n",
        "        model_params[\"MAX_SOURCE_TEXT_LENGTH\"],\n",
        "        model_params[\"MAX_TARGET_TEXT_LENGTH\"],\n",
        "        source_text,\n",
        "        target_text,\n",
        "    )\n",
        "    val_set = DataSet(\n",
        "        val_data,\n",
        "        tokenizer,\n",
        "        model_params[\"MAX_SOURCE_TEXT_LENGTH\"],\n",
        "        model_params[\"MAX_TARGET_TEXT_LENGTH\"],\n",
        "        source_text,\n",
        "        target_text,\n",
        "    )\n",
        "\n",
        "    # Defining the parameters for creation of dataloaders\n",
        "    train_params = {\n",
        "        \"batch_size\": model_params[\"TRAIN_BATCH_SIZE\"],\n",
        "        \"shuffle\": True,\n",
        "        \"num_workers\": 0,\n",
        "    }\n",
        "\n",
        "    val_params = {\n",
        "        \"batch_size\": model_params[\"VALID_BATCH_SIZE\"],\n",
        "        \"shuffle\": False,\n",
        "        \"num_workers\": 0,\n",
        "    }\n",
        "\n",
        "    # Creation of Dataloaders for testing and validation. This will be used down for training and validation stage for the model.\n",
        "    training_loader = DataLoader(training_set, **train_params)\n",
        "    val_loader = DataLoader(val_set, **val_params)\n",
        "\n",
        "    # Defining the optimizer that will be used to tune the weights of the network in the training session.\n",
        "    optimizer = torch.optim.Adam(\n",
        "        params=model.parameters(), lr=model_params[\"LEARNING_RATE\"]\n",
        "    )\n",
        "\n",
        "    # Training loop\n",
        "    console.log(f\"[Initiating Fine Tuning]...\\n\")\n",
        "\n",
        "    for epoch in range(model_params[\"TRAIN_EPOCHS\"]):\n",
        "        train(epoch, tokenizer, model, device, training_loader, optimizer)\n",
        "\n",
        "    console.log(f\"[Saving Model]...\\n\")\n",
        "    # Saving the model after training\n",
        "    path = os.path.join(output_dir, \"model_files\")\n",
        "    model.save_pretrained(path)\n",
        "    tokenizer.save_pretrained(path)\n",
        "\n",
        "    # evaluating validation dataset\n",
        "    console.log(f\"[Initiating Validation]...\\n\")\n",
        "    for epoch in range(model_params[\"VAL_EPOCHS\"]):\n",
        "        predictions, actuals = validate(epoch, tokenizer, model, device, val_loader)\n",
        "        final_df = pd.DataFrame({\"Input\": val_data[source_text], \"Generated Text\": predictions, \"Actual Text\": actuals})\n",
        "        final_df.to_csv(os.path.join(output_dir, \"predictions.csv\"))\n",
        "\n",
        "    console.save_text(os.path.join(output_dir, \"logs.txt\"))\n",
        "\n",
        "    console.log(f\"[Validation Completed.]\\n\")\n",
        "    console.print(\n",
        "        f\"\"\"[Model] Model saved @ {os.path.join(output_dir, \"model_files\")}\\n\"\"\"\n",
        "    )\n",
        "    console.print(\n",
        "        f\"\"\"[Validation] Generation on Validation data saved @ {os.path.join(output_dir,'predictions.csv')}\\n\"\"\"\n",
        "    )\n",
        "    console.print(f\"\"\"[Logs] Logs saved @ {os.path.join(output_dir,'logs.txt')}\\n\"\"\")"
      ],
      "metadata": {
        "id": "cDZUWpwKev_4"
      },
      "execution_count": 8,
      "outputs": []
    },
    {
      "cell_type": "markdown",
      "source": [
        "# 1. Processing Data"
      ],
      "metadata": {
        "id": "FcKQWqxse_q6"
      }
    },
    {
      "cell_type": "code",
      "source": [
        "def clean_dataset(data):\n",
        "  data_clean = data.copy(deep=True)\n",
        "  for i in range(len(data_clean.columns)):\n",
        "    data_clean.iloc[:,i] = data_clean.iloc[:,i].apply(lambda x: re.sub('&apos;', '\\'', x))\n",
        "    data_clean.iloc[:,i] = data_clean.iloc[:,i].apply(lambda x: re.sub('&quot;', '\\\"', x))\n",
        "    data_clean.iloc[:,i] = data_clean.iloc[:,i].apply(lambda x: re.sub('&#124;', '|', x))\n",
        "    data_clean.iloc[:,i] = data_clean.iloc[:,i].apply(lambda x: re.sub('&#93;', ']', x))\n",
        "    data_clean.iloc[:,i] = data_clean.iloc[:,i].apply(lambda x: re.sub('&#91;', '[', x))\n",
        "    data_clean.iloc[:,i] = data_clean.iloc[:,i].apply(lambda x: re.sub('&gt;', '>', x))\n",
        "    data_clean.iloc[:,i] = data_clean.iloc[:,i].apply(lambda x: re.sub('&lt;', '<', x))\n",
        "\n",
        "  return data_clean"
      ],
      "metadata": {
        "id": "7WMjGu0gm7L9"
      },
      "execution_count": 9,
      "outputs": []
    },
    {
      "cell_type": "code",
      "source": [
        "base_path=\"data/en-de/\"\n",
        "en = pd.read_csv(base_path+'idiom_trainplus.en',sep='\\n', header=None,names=['en'])\n",
        "de = pd.read_csv(base_path+'idiom_trainplus.de',sep='\\n', header=None,names=['de'])\n",
        "info = pd.read_csv(base_path+'idiom_trainplus.info',sep='\\t',header=None,names=[\"spread\", \"en_idiom\", \"de_idiom\",'frequency'])\n",
        "train_data = pd.concat([en,de,info],axis=1)\n",
        "train_data.columns = ['input','target',\"spread\", \"en_idiom\", \"de_idiom\",'frequency']\n",
        "train_data = train_data.drop(['spread','frequency',\"en_idiom\", \"de_idiom\"],axis=1)\n",
        "\n",
        "en = pd.read_csv(base_path+'idiom_test.en',sep='\\n', header=None,names=['en'])\n",
        "de = pd.read_csv(base_path+'idiom_test.de',sep='\\n', header=None,names=['de'])\n",
        "test_data = pd.concat([en,de],axis=1)\n",
        "test_data.columns = ['input','target']\n",
        "\n",
        "train_data = clean_dataset(train_data)\n",
        "test_data = clean_dataset(test_data)\n",
        "\n",
        "train_data['input'] = 'translate to german: '+ train_data['input']\n",
        "test_data['input'] = 'translate to german: '+ test_data['input']\n",
        "\n",
        "from sklearn.model_selection import train_test_split\n",
        "\n",
        "train_data,val_data=train_test_split(train_data, test_size=0.15, random_state=42)"
      ],
      "metadata": {
        "id": "ykw-EnjEZYxV"
      },
      "execution_count": 10,
      "outputs": []
    },
    {
      "cell_type": "code",
      "source": [
        "train_data.head()"
      ],
      "metadata": {
        "colab": {
          "base_uri": "https://localhost:8080/",
          "height": 206
        },
        "id": "AdFqlHrvZ7Oa",
        "outputId": "6ef67407-7874-49bb-c179-9bfd8f541e69"
      },
      "execution_count": 11,
      "outputs": [
        {
          "output_type": "execute_result",
          "data": {
            "text/plain": [
              "                                                  input  \\\n",
              "1080  translate to german: EU integration is like a ...   \n",
              "203   translate to german: Whenever we go to a West ...   \n",
              "174   translate to german: I hope that the Irish pre...   \n",
              "772   translate to german: In a nutshell it would in...   \n",
              "120   translate to german: Very well located , easy ...   \n",
              "\n",
              "                                                 target  \n",
              "1080  Die Integration in die EU ist wie Tangotanzen ...  \n",
              "203   Jedes Mal , wenn wir in westafrikanische Lände...  \n",
              "174   Ich möchte , daß die irische Präsidentschaft i...  \n",
              "772   Kurz gesagt würde es die Belastung für den bri...  \n",
              "120   Die Mitarbeiter waren freundlich und das Hotel...  "
            ],
            "text/html": [
              "\n",
              "  <div id=\"df-fe40cfcd-9b8a-402a-9f83-826d38b182c1\">\n",
              "    <div class=\"colab-df-container\">\n",
              "      <div>\n",
              "<style scoped>\n",
              "    .dataframe tbody tr th:only-of-type {\n",
              "        vertical-align: middle;\n",
              "    }\n",
              "\n",
              "    .dataframe tbody tr th {\n",
              "        vertical-align: top;\n",
              "    }\n",
              "\n",
              "    .dataframe thead th {\n",
              "        text-align: right;\n",
              "    }\n",
              "</style>\n",
              "<table border=\"1\" class=\"dataframe\">\n",
              "  <thead>\n",
              "    <tr style=\"text-align: right;\">\n",
              "      <th></th>\n",
              "      <th>input</th>\n",
              "      <th>target</th>\n",
              "    </tr>\n",
              "  </thead>\n",
              "  <tbody>\n",
              "    <tr>\n",
              "      <th>1080</th>\n",
              "      <td>translate to german: EU integration is like a ...</td>\n",
              "      <td>Die Integration in die EU ist wie Tangotanzen ...</td>\n",
              "    </tr>\n",
              "    <tr>\n",
              "      <th>203</th>\n",
              "      <td>translate to german: Whenever we go to a West ...</td>\n",
              "      <td>Jedes Mal , wenn wir in westafrikanische Lände...</td>\n",
              "    </tr>\n",
              "    <tr>\n",
              "      <th>174</th>\n",
              "      <td>translate to german: I hope that the Irish pre...</td>\n",
              "      <td>Ich möchte , daß die irische Präsidentschaft i...</td>\n",
              "    </tr>\n",
              "    <tr>\n",
              "      <th>772</th>\n",
              "      <td>translate to german: In a nutshell it would in...</td>\n",
              "      <td>Kurz gesagt würde es die Belastung für den bri...</td>\n",
              "    </tr>\n",
              "    <tr>\n",
              "      <th>120</th>\n",
              "      <td>translate to german: Very well located , easy ...</td>\n",
              "      <td>Die Mitarbeiter waren freundlich und das Hotel...</td>\n",
              "    </tr>\n",
              "  </tbody>\n",
              "</table>\n",
              "</div>\n",
              "      <button class=\"colab-df-convert\" onclick=\"convertToInteractive('df-fe40cfcd-9b8a-402a-9f83-826d38b182c1')\"\n",
              "              title=\"Convert this dataframe to an interactive table.\"\n",
              "              style=\"display:none;\">\n",
              "        \n",
              "  <svg xmlns=\"http://www.w3.org/2000/svg\" height=\"24px\"viewBox=\"0 0 24 24\"\n",
              "       width=\"24px\">\n",
              "    <path d=\"M0 0h24v24H0V0z\" fill=\"none\"/>\n",
              "    <path d=\"M18.56 5.44l.94 2.06.94-2.06 2.06-.94-2.06-.94-.94-2.06-.94 2.06-2.06.94zm-11 1L8.5 8.5l.94-2.06 2.06-.94-2.06-.94L8.5 2.5l-.94 2.06-2.06.94zm10 10l.94 2.06.94-2.06 2.06-.94-2.06-.94-.94-2.06-.94 2.06-2.06.94z\"/><path d=\"M17.41 7.96l-1.37-1.37c-.4-.4-.92-.59-1.43-.59-.52 0-1.04.2-1.43.59L10.3 9.45l-7.72 7.72c-.78.78-.78 2.05 0 2.83L4 21.41c.39.39.9.59 1.41.59.51 0 1.02-.2 1.41-.59l7.78-7.78 2.81-2.81c.8-.78.8-2.07 0-2.86zM5.41 20L4 18.59l7.72-7.72 1.47 1.35L5.41 20z\"/>\n",
              "  </svg>\n",
              "      </button>\n",
              "      \n",
              "  <style>\n",
              "    .colab-df-container {\n",
              "      display:flex;\n",
              "      flex-wrap:wrap;\n",
              "      gap: 12px;\n",
              "    }\n",
              "\n",
              "    .colab-df-convert {\n",
              "      background-color: #E8F0FE;\n",
              "      border: none;\n",
              "      border-radius: 50%;\n",
              "      cursor: pointer;\n",
              "      display: none;\n",
              "      fill: #1967D2;\n",
              "      height: 32px;\n",
              "      padding: 0 0 0 0;\n",
              "      width: 32px;\n",
              "    }\n",
              "\n",
              "    .colab-df-convert:hover {\n",
              "      background-color: #E2EBFA;\n",
              "      box-shadow: 0px 1px 2px rgba(60, 64, 67, 0.3), 0px 1px 3px 1px rgba(60, 64, 67, 0.15);\n",
              "      fill: #174EA6;\n",
              "    }\n",
              "\n",
              "    [theme=dark] .colab-df-convert {\n",
              "      background-color: #3B4455;\n",
              "      fill: #D2E3FC;\n",
              "    }\n",
              "\n",
              "    [theme=dark] .colab-df-convert:hover {\n",
              "      background-color: #434B5C;\n",
              "      box-shadow: 0px 1px 3px 1px rgba(0, 0, 0, 0.15);\n",
              "      filter: drop-shadow(0px 1px 2px rgba(0, 0, 0, 0.3));\n",
              "      fill: #FFFFFF;\n",
              "    }\n",
              "  </style>\n",
              "\n",
              "      <script>\n",
              "        const buttonEl =\n",
              "          document.querySelector('#df-fe40cfcd-9b8a-402a-9f83-826d38b182c1 button.colab-df-convert');\n",
              "        buttonEl.style.display =\n",
              "          google.colab.kernel.accessAllowed ? 'block' : 'none';\n",
              "\n",
              "        async function convertToInteractive(key) {\n",
              "          const element = document.querySelector('#df-fe40cfcd-9b8a-402a-9f83-826d38b182c1');\n",
              "          const dataTable =\n",
              "            await google.colab.kernel.invokeFunction('convertToInteractive',\n",
              "                                                     [key], {});\n",
              "          if (!dataTable) return;\n",
              "\n",
              "          const docLinkHtml = 'Like what you see? Visit the ' +\n",
              "            '<a target=\"_blank\" href=https://colab.research.google.com/notebooks/data_table.ipynb>data table notebook</a>'\n",
              "            + ' to learn more about interactive tables.';\n",
              "          element.innerHTML = '';\n",
              "          dataTable['output_type'] = 'display_data';\n",
              "          await google.colab.output.renderOutput(dataTable, element);\n",
              "          const docLink = document.createElement('div');\n",
              "          docLink.innerHTML = docLinkHtml;\n",
              "          element.appendChild(docLink);\n",
              "        }\n",
              "      </script>\n",
              "    </div>\n",
              "  </div>\n",
              "  "
            ]
          },
          "metadata": {},
          "execution_count": 11
        }
      ]
    },
    {
      "cell_type": "code",
      "source": [
        "test_data.head()"
      ],
      "metadata": {
        "colab": {
          "base_uri": "https://localhost:8080/",
          "height": 206
        },
        "id": "v4j8MNPtN5YU",
        "outputId": "46c4659f-243b-4e8d-eb6b-b41510206adb"
      },
      "execution_count": 12,
      "outputs": [
        {
          "output_type": "execute_result",
          "data": {
            "text/plain": [
              "                                               input  \\\n",
              "0  translate to german: In this day and age , whe...   \n",
              "1  translate to german: In Romania , the election...   \n",
              "2  translate to german: Let us work to close the ...   \n",
              "3  translate to german: The region is easily reac...   \n",
              "4  translate to german: I cannot enter into debat...   \n",
              "\n",
              "                                              target  \n",
              "0  In einer Zeit wie dieser , in der viele offens...  \n",
              "1  In Rumänien wird der Wahlkampf die Chance biet...  \n",
              "2  Gemeinsam sollten wir wirksam die Schlupflöche...  \n",
              "3  Das Gebiet ist mit der Eisenbahn erreichbar , ...  \n",
              "4  Ich kann mich auf keine Diskussion einlassen ,...  "
            ],
            "text/html": [
              "\n",
              "  <div id=\"df-670fd622-c70e-449d-836d-1c430652cef8\">\n",
              "    <div class=\"colab-df-container\">\n",
              "      <div>\n",
              "<style scoped>\n",
              "    .dataframe tbody tr th:only-of-type {\n",
              "        vertical-align: middle;\n",
              "    }\n",
              "\n",
              "    .dataframe tbody tr th {\n",
              "        vertical-align: top;\n",
              "    }\n",
              "\n",
              "    .dataframe thead th {\n",
              "        text-align: right;\n",
              "    }\n",
              "</style>\n",
              "<table border=\"1\" class=\"dataframe\">\n",
              "  <thead>\n",
              "    <tr style=\"text-align: right;\">\n",
              "      <th></th>\n",
              "      <th>input</th>\n",
              "      <th>target</th>\n",
              "    </tr>\n",
              "  </thead>\n",
              "  <tbody>\n",
              "    <tr>\n",
              "      <th>0</th>\n",
              "      <td>translate to german: In this day and age , whe...</td>\n",
              "      <td>In einer Zeit wie dieser , in der viele offens...</td>\n",
              "    </tr>\n",
              "    <tr>\n",
              "      <th>1</th>\n",
              "      <td>translate to german: In Romania , the election...</td>\n",
              "      <td>In Rumänien wird der Wahlkampf die Chance biet...</td>\n",
              "    </tr>\n",
              "    <tr>\n",
              "      <th>2</th>\n",
              "      <td>translate to german: Let us work to close the ...</td>\n",
              "      <td>Gemeinsam sollten wir wirksam die Schlupflöche...</td>\n",
              "    </tr>\n",
              "    <tr>\n",
              "      <th>3</th>\n",
              "      <td>translate to german: The region is easily reac...</td>\n",
              "      <td>Das Gebiet ist mit der Eisenbahn erreichbar , ...</td>\n",
              "    </tr>\n",
              "    <tr>\n",
              "      <th>4</th>\n",
              "      <td>translate to german: I cannot enter into debat...</td>\n",
              "      <td>Ich kann mich auf keine Diskussion einlassen ,...</td>\n",
              "    </tr>\n",
              "  </tbody>\n",
              "</table>\n",
              "</div>\n",
              "      <button class=\"colab-df-convert\" onclick=\"convertToInteractive('df-670fd622-c70e-449d-836d-1c430652cef8')\"\n",
              "              title=\"Convert this dataframe to an interactive table.\"\n",
              "              style=\"display:none;\">\n",
              "        \n",
              "  <svg xmlns=\"http://www.w3.org/2000/svg\" height=\"24px\"viewBox=\"0 0 24 24\"\n",
              "       width=\"24px\">\n",
              "    <path d=\"M0 0h24v24H0V0z\" fill=\"none\"/>\n",
              "    <path d=\"M18.56 5.44l.94 2.06.94-2.06 2.06-.94-2.06-.94-.94-2.06-.94 2.06-2.06.94zm-11 1L8.5 8.5l.94-2.06 2.06-.94-2.06-.94L8.5 2.5l-.94 2.06-2.06.94zm10 10l.94 2.06.94-2.06 2.06-.94-2.06-.94-.94-2.06-.94 2.06-2.06.94z\"/><path d=\"M17.41 7.96l-1.37-1.37c-.4-.4-.92-.59-1.43-.59-.52 0-1.04.2-1.43.59L10.3 9.45l-7.72 7.72c-.78.78-.78 2.05 0 2.83L4 21.41c.39.39.9.59 1.41.59.51 0 1.02-.2 1.41-.59l7.78-7.78 2.81-2.81c.8-.78.8-2.07 0-2.86zM5.41 20L4 18.59l7.72-7.72 1.47 1.35L5.41 20z\"/>\n",
              "  </svg>\n",
              "      </button>\n",
              "      \n",
              "  <style>\n",
              "    .colab-df-container {\n",
              "      display:flex;\n",
              "      flex-wrap:wrap;\n",
              "      gap: 12px;\n",
              "    }\n",
              "\n",
              "    .colab-df-convert {\n",
              "      background-color: #E8F0FE;\n",
              "      border: none;\n",
              "      border-radius: 50%;\n",
              "      cursor: pointer;\n",
              "      display: none;\n",
              "      fill: #1967D2;\n",
              "      height: 32px;\n",
              "      padding: 0 0 0 0;\n",
              "      width: 32px;\n",
              "    }\n",
              "\n",
              "    .colab-df-convert:hover {\n",
              "      background-color: #E2EBFA;\n",
              "      box-shadow: 0px 1px 2px rgba(60, 64, 67, 0.3), 0px 1px 3px 1px rgba(60, 64, 67, 0.15);\n",
              "      fill: #174EA6;\n",
              "    }\n",
              "\n",
              "    [theme=dark] .colab-df-convert {\n",
              "      background-color: #3B4455;\n",
              "      fill: #D2E3FC;\n",
              "    }\n",
              "\n",
              "    [theme=dark] .colab-df-convert:hover {\n",
              "      background-color: #434B5C;\n",
              "      box-shadow: 0px 1px 3px 1px rgba(0, 0, 0, 0.15);\n",
              "      filter: drop-shadow(0px 1px 2px rgba(0, 0, 0, 0.3));\n",
              "      fill: #FFFFFF;\n",
              "    }\n",
              "  </style>\n",
              "\n",
              "      <script>\n",
              "        const buttonEl =\n",
              "          document.querySelector('#df-670fd622-c70e-449d-836d-1c430652cef8 button.colab-df-convert');\n",
              "        buttonEl.style.display =\n",
              "          google.colab.kernel.accessAllowed ? 'block' : 'none';\n",
              "\n",
              "        async function convertToInteractive(key) {\n",
              "          const element = document.querySelector('#df-670fd622-c70e-449d-836d-1c430652cef8');\n",
              "          const dataTable =\n",
              "            await google.colab.kernel.invokeFunction('convertToInteractive',\n",
              "                                                     [key], {});\n",
              "          if (!dataTable) return;\n",
              "\n",
              "          const docLinkHtml = 'Like what you see? Visit the ' +\n",
              "            '<a target=\"_blank\" href=https://colab.research.google.com/notebooks/data_table.ipynb>data table notebook</a>'\n",
              "            + ' to learn more about interactive tables.';\n",
              "          element.innerHTML = '';\n",
              "          dataTable['output_type'] = 'display_data';\n",
              "          await google.colab.output.renderOutput(dataTable, element);\n",
              "          const docLink = document.createElement('div');\n",
              "          docLink.innerHTML = docLinkHtml;\n",
              "          element.appendChild(docLink);\n",
              "        }\n",
              "      </script>\n",
              "    </div>\n",
              "  </div>\n",
              "  "
            ]
          },
          "metadata": {},
          "execution_count": 12
        }
      ]
    },
    {
      "cell_type": "code",
      "source": [
        "# Check max length\n",
        "lengths_train_in = train_data[\"input\"].str.split(\" \")\n",
        "lengths_test_in = test_data[\"input\"].str.split(\" \")\n",
        "lengths_val_in = val_data[\"input\"].str.split(\" \")\n",
        "\n",
        "print(\"Max number of tokens input = \", max(lengths_train_in.str.len().max(),lengths_test_in.str.len().max()))\n",
        "\n",
        "lengths_train_tar = train_data[\"target\"].str.split(\" \")\n",
        "lengths_test_tar = test_data[\"target\"].str.split(\" \")\n",
        "lengths_val_tar = val_data[\"target\"].str.split(\" \")\n",
        "\n",
        "print(\"Max number of tokens target = \", max(lengths_train_tar.str.len().max(),lengths_test_tar.str.len().max()))"
      ],
      "metadata": {
        "id": "3InVoeHi9Wyh",
        "colab": {
          "base_uri": "https://localhost:8080/"
        },
        "outputId": "c4b95ee0-f74f-4a0f-9922-3a6734d052b3"
      },
      "execution_count": 13,
      "outputs": [
        {
          "output_type": "stream",
          "name": "stdout",
          "text": [
            "Max number of tokens input =  168\n",
            "Max number of tokens target =  144\n"
          ]
        }
      ]
    },
    {
      "cell_type": "markdown",
      "source": [
        "#2. Training Model"
      ],
      "metadata": {
        "id": "TMQJTw9DfJIb"
      }
    },
    {
      "cell_type": "code",
      "source": [
        "# let's define model parameters specific to T5\n",
        "model_params = {\n",
        "    \"MODEL\": \"t5-small\",  # model_type: t5-base/t5-small/t5-large\n",
        "    \"TRAIN_BATCH_SIZE\": 4,  # training batch size\n",
        "    \"VALID_BATCH_SIZE\": 4,  # validation batch size\n",
        "    \"TRAIN_EPOCHS\": 50,  # number of training epochs\n",
        "    #\"VAL_EPOCHS\": 1,  # number of validation epochs\n",
        "    \"LEARNING_RATE\": 1e-4,  # learning rate\n",
        "    \"MAX_SOURCE_TEXT_LENGTH\": 107,  # max length of source text\n",
        "    \"MAX_TARGET_TEXT_LENGTH\": 62,  # max length of target text\n",
        "    \"SEED\": 42,  # set seed for reproducibility\n",
        "}\n"
      ],
      "metadata": {
        "id": "UypLE5nTfK5M"
      },
      "execution_count": 14,
      "outputs": []
    },
    {
      "cell_type": "code",
      "source": [
        "# Initialize training and validation loggers to keep track of model loss\n",
        "\n",
        "# training logger to log training loss over the epochs and batches\n",
        "training_logger = Table(\n",
        "    Column(\"Epoch\", justify=\"center\"),\n",
        "    # Column(\"Batch\", justify=\"center\"),\n",
        "    Column(\"Loss\", justify=\"center\"),\n",
        "    title=\"Training Loss\",\n",
        "    pad_edge=False,\n",
        "    box=box.ASCII,\n",
        ")\n",
        "\n",
        "# validation logger to log validation loss over the epochs\n",
        "validation_logger = Table(\n",
        "    Column(\"Epoch\", justify=\"center\"),\n",
        "    Column(\"Loss\", justify=\"center\"),\n",
        "    title=\"Validation Loss\",\n",
        "    pad_edge=False,\n",
        "    box=box.ASCII,\n",
        ")\n"
      ],
      "metadata": {
        "id": "6DgnTr-gMlNA"
      },
      "execution_count": 15,
      "outputs": []
    },
    {
      "cell_type": "code",
      "source": [
        "%mkdir outputs"
      ],
      "metadata": {
        "id": "yAV-Zze-YoZh",
        "colab": {
          "base_uri": "https://localhost:8080/"
        },
        "outputId": "8294f94e-8f10-4405-a7ae-9805a7733035"
      },
      "execution_count": 16,
      "outputs": [
        {
          "output_type": "stream",
          "name": "stdout",
          "text": [
            "mkdir: cannot create directory ‘outputs’: File exists\n"
          ]
        }
      ]
    },
    {
      "cell_type": "code",
      "source": [
        "# Train model\n",
        "T5Trainer(train_data=train_data, val_data= val_data, source_text=\"input\", target_text=\"target\", model_params=model_params, output_dir=\"outputs\")"
      ],
      "metadata": {
        "colab": {
          "base_uri": "https://localhost:8080/",
          "height": 1000
        },
        "id": "n6cgmoYBaQV7",
        "outputId": "85c2ebdf-893f-4b71-acf5-dd15502b91bd"
      },
      "execution_count": null,
      "outputs": [
        {
          "output_type": "display_data",
          "data": {
            "text/plain": [
              "\u001b[2;36m[18:19:48]\u001b[0m\u001b[2;36m \u001b[0m\u001b[1m[\u001b[0mModel\u001b[1m]\u001b[0m: Loading t5-small\u001b[33m...\u001b[0m                     \u001b[2m<ipython-input-8-428ac7aee7a9>\u001b[0m\u001b[2m:\u001b[0m\u001b[2m24\u001b[0m\n",
              "\u001b[2;36m           \u001b[0m                                                 \u001b[2m                                 \u001b[0m\n"
            ],
            "text/html": [
              "<pre style=\"white-space:pre;overflow-x:auto;line-height:normal;font-family:Menlo,'DejaVu Sans Mono',consolas,'Courier New',monospace\"><span style=\"color: #7fbfbf; text-decoration-color: #7fbfbf\">[18:19:48] </span><span style=\"font-weight: bold\">[</span>Model<span style=\"font-weight: bold\">]</span>: Loading t5-small<span style=\"color: #808000; text-decoration-color: #808000\">...</span>                     <span style=\"color: #7f7f7f; text-decoration-color: #7f7f7f\">&lt;ipython-input-8-428ac7aee7a9&gt;:24</span>\n",
              "<span style=\"color: #7fbfbf; text-decoration-color: #7fbfbf\">           </span>                                                 <span style=\"color: #7f7f7f; text-decoration-color: #7f7f7f\">                                 </span>\n",
              "</pre>\n"
            ]
          },
          "metadata": {}
        },
        {
          "output_type": "stream",
          "name": "stderr",
          "text": [
            "/usr/local/lib/python3.7/dist-packages/transformers/models/t5/tokenization_t5.py:169: FutureWarning: This tokenizer was incorrectly instantiated with a model max length of 512 which will be corrected in Transformers v5.\n",
            "For now, this behavior is kept to avoid breaking backwards compatibility when padding/encoding with `truncation is True`.\n",
            "- Be aware that you SHOULD NOT rely on t5-small automatically truncating your input to 512 when padding/encoding.\n",
            "- If you want to encode/pad to sequences longer than 512 you can either instantiate this tokenizer with `model_max_length` or pass `max_length` when encoding/padding.\n",
            "- To avoid this warning, please instantiate this tokenizer with `model_max_length` set to your preferred value.\n",
            "  FutureWarning,\n"
          ]
        },
        {
          "output_type": "display_data",
          "data": {
            "text/plain": [
              "\u001b[2;36m[18:20:06]\u001b[0m\u001b[2;36m \u001b[0m\u001b[1m[\u001b[0mData\u001b[1m]\u001b[0m: Reading data\u001b[33m...\u001b[0m                          \u001b[2m<ipython-input-8-428ac7aee7a9>\u001b[0m\u001b[2m:\u001b[0m\u001b[2m35\u001b[0m\n",
              "\u001b[2;36m           \u001b[0m                                                 \u001b[2m                                 \u001b[0m\n"
            ],
            "text/html": [
              "<pre style=\"white-space:pre;overflow-x:auto;line-height:normal;font-family:Menlo,'DejaVu Sans Mono',consolas,'Courier New',monospace\"><span style=\"color: #7fbfbf; text-decoration-color: #7fbfbf\">[18:20:06] </span><span style=\"font-weight: bold\">[</span>Data<span style=\"font-weight: bold\">]</span>: Reading data<span style=\"color: #808000; text-decoration-color: #808000\">...</span>                          <span style=\"color: #7f7f7f; text-decoration-color: #7f7f7f\">&lt;ipython-input-8-428ac7aee7a9&gt;:35</span>\n",
              "<span style=\"color: #7fbfbf; text-decoration-color: #7fbfbf\">           </span>                                                 <span style=\"color: #7f7f7f; text-decoration-color: #7f7f7f\">                                 </span>\n",
              "</pre>\n"
            ]
          },
          "metadata": {}
        },
        {
          "output_type": "display_data",
          "data": {
            "text/plain": [
              "\u001b[3m                                         Sample Data                                         \u001b[0m\n",
              "+-------------------------------------------------------------------------------------------+\n",
              "|\u001b[1m                source_text                 \u001b[0m\u001b[1m \u001b[0m|\u001b[1m \u001b[0m\u001b[1m                target_text                 \u001b[0m|\n",
              "|---------------------------------------------+---------------------------------------------|\n",
              "|translate to german: EU integration is like  |      Die Integration in die EU ist wie      |\n",
              "|  a tango . It takes two for it to work .    |  Tangotanzen : Man braucht dazu immer zwei  |\n",
              "|                                             |                  Partner .                  |\n",
              "|  translate to german: Whenever we go to a   |   Jedes Mal , wenn wir in westafrikanische  |\n",
              "|West African country , we can see the extent | Länder kommen , stellen wir fest , wie groß |\n",
              "| to which French influence is still present  |  der französische Einfluss dort noch ist .  |\n",
              "|                  there .                    |                                             |\n",
              "+-------------------------------------------------------------------------------------------+\n"
            ],
            "text/html": [
              "<pre style=\"white-space:pre;overflow-x:auto;line-height:normal;font-family:Menlo,'DejaVu Sans Mono',consolas,'Courier New',monospace\"><span style=\"font-style: italic\">                                         Sample Data                                         </span>\n",
              "+-------------------------------------------------------------------------------------------+\n",
              "|<span style=\"font-weight: bold\">                source_text                  </span>|<span style=\"font-weight: bold\">                 target_text                 </span>|\n",
              "|---------------------------------------------+---------------------------------------------|\n",
              "|translate to german: EU integration is like  |      Die Integration in die EU ist wie      |\n",
              "|  a tango . It takes two for it to work .    |  Tangotanzen : Man braucht dazu immer zwei  |\n",
              "|                                             |                  Partner .                  |\n",
              "|  translate to german: Whenever we go to a   |   Jedes Mal , wenn wir in westafrikanische  |\n",
              "|West African country , we can see the extent | Länder kommen , stellen wir fest , wie groß |\n",
              "| to which French influence is still present  |  der französische Einfluss dort noch ist .  |\n",
              "|                  there .                    |                                             |\n",
              "+-------------------------------------------------------------------------------------------+\n",
              "</pre>\n"
            ]
          },
          "metadata": {}
        },
        {
          "output_type": "display_data",
          "data": {
            "text/plain": [
              "TRAIN Dataset: \u001b[1m(\u001b[0m\u001b[1;36m1956\u001b[0m, \u001b[1;36m2\u001b[0m\u001b[1m)\u001b[0m\n"
            ],
            "text/html": [
              "<pre style=\"white-space:pre;overflow-x:auto;line-height:normal;font-family:Menlo,'DejaVu Sans Mono',consolas,'Courier New',monospace\">TRAIN Dataset: <span style=\"font-weight: bold\">(</span><span style=\"color: #008080; text-decoration-color: #008080; font-weight: bold\">1956</span>, <span style=\"color: #008080; text-decoration-color: #008080; font-weight: bold\">2</span><span style=\"font-weight: bold\">)</span>\n",
              "</pre>\n"
            ]
          },
          "metadata": {}
        },
        {
          "output_type": "display_data",
          "data": {
            "text/plain": [
              "TEST Dataset: \u001b[1m(\u001b[0m\u001b[1;36m346\u001b[0m, \u001b[1;36m2\u001b[0m\u001b[1m)\u001b[0m\n",
              "\n"
            ],
            "text/html": [
              "<pre style=\"white-space:pre;overflow-x:auto;line-height:normal;font-family:Menlo,'DejaVu Sans Mono',consolas,'Courier New',monospace\">TEST Dataset: <span style=\"font-weight: bold\">(</span><span style=\"color: #008080; text-decoration-color: #008080; font-weight: bold\">346</span>, <span style=\"color: #008080; text-decoration-color: #008080; font-weight: bold\">2</span><span style=\"font-weight: bold\">)</span>\n",
              "\n",
              "</pre>\n"
            ]
          },
          "metadata": {}
        },
        {
          "output_type": "display_data",
          "data": {
            "text/plain": [
              "\u001b[2;36m          \u001b[0m\u001b[2;36m \u001b[0m\u001b[1m[\u001b[0mInitiating Fine Tuning\u001b[1m]\u001b[0m\u001b[33m...\u001b[0m                      \u001b[2m<ipython-input-8-428ac7aee7a9>\u001b[0m\u001b[2m:\u001b[0m\u001b[2m90\u001b[0m\n",
              "\u001b[2;36m           \u001b[0m                                                 \u001b[2m                                 \u001b[0m\n"
            ],
            "text/html": [
              "<pre style=\"white-space:pre;overflow-x:auto;line-height:normal;font-family:Menlo,'DejaVu Sans Mono',consolas,'Courier New',monospace\"><span style=\"color: #7fbfbf; text-decoration-color: #7fbfbf\">           </span><span style=\"font-weight: bold\">[</span>Initiating Fine Tuning<span style=\"font-weight: bold\">]</span><span style=\"color: #808000; text-decoration-color: #808000\">...</span>                      <span style=\"color: #7f7f7f; text-decoration-color: #7f7f7f\">&lt;ipython-input-8-428ac7aee7a9&gt;:90</span>\n",
              "<span style=\"color: #7fbfbf; text-decoration-color: #7fbfbf\">           </span>                                                 <span style=\"color: #7f7f7f; text-decoration-color: #7f7f7f\">                                 </span>\n",
              "</pre>\n"
            ]
          },
          "metadata": {}
        },
        {
          "output_type": "display_data",
          "data": {
            "text/plain": [
              "Epoch:  \u001b[1;36m0\u001b[0m Steps:  \u001b[1;36m0\u001b[0m Loss:  \u001b[1;36m4.016060829162598\u001b[0m\n"
            ],
            "text/html": [
              "<pre style=\"white-space:pre;overflow-x:auto;line-height:normal;font-family:Menlo,'DejaVu Sans Mono',consolas,'Courier New',monospace\">Epoch:  <span style=\"color: #008080; text-decoration-color: #008080; font-weight: bold\">0</span> Steps:  <span style=\"color: #008080; text-decoration-color: #008080; font-weight: bold\">0</span> Loss:  <span style=\"color: #008080; text-decoration-color: #008080; font-weight: bold\">4.016060829162598</span>\n",
              "</pre>\n"
            ]
          },
          "metadata": {}
        },
        {
          "output_type": "display_data",
          "data": {
            "text/plain": [
              "Epoch:  \u001b[1;36m0\u001b[0m Steps:  \u001b[1;36m10\u001b[0m Loss:  \u001b[1;36m3.22076416015625\u001b[0m\n"
            ],
            "text/html": [
              "<pre style=\"white-space:pre;overflow-x:auto;line-height:normal;font-family:Menlo,'DejaVu Sans Mono',consolas,'Courier New',monospace\">Epoch:  <span style=\"color: #008080; text-decoration-color: #008080; font-weight: bold\">0</span> Steps:  <span style=\"color: #008080; text-decoration-color: #008080; font-weight: bold\">10</span> Loss:  <span style=\"color: #008080; text-decoration-color: #008080; font-weight: bold\">3.22076416015625</span>\n",
              "</pre>\n"
            ]
          },
          "metadata": {}
        },
        {
          "output_type": "display_data",
          "data": {
            "text/plain": [
              "Epoch:  \u001b[1;36m0\u001b[0m Steps:  \u001b[1;36m20\u001b[0m Loss:  \u001b[1;36m2.7343928813934326\u001b[0m\n"
            ],
            "text/html": [
              "<pre style=\"white-space:pre;overflow-x:auto;line-height:normal;font-family:Menlo,'DejaVu Sans Mono',consolas,'Courier New',monospace\">Epoch:  <span style=\"color: #008080; text-decoration-color: #008080; font-weight: bold\">0</span> Steps:  <span style=\"color: #008080; text-decoration-color: #008080; font-weight: bold\">20</span> Loss:  <span style=\"color: #008080; text-decoration-color: #008080; font-weight: bold\">2.7343928813934326</span>\n",
              "</pre>\n"
            ]
          },
          "metadata": {}
        },
        {
          "output_type": "display_data",
          "data": {
            "text/plain": [
              "Epoch:  \u001b[1;36m0\u001b[0m Steps:  \u001b[1;36m30\u001b[0m Loss:  \u001b[1;36m1.8655294179916382\u001b[0m\n"
            ],
            "text/html": [
              "<pre style=\"white-space:pre;overflow-x:auto;line-height:normal;font-family:Menlo,'DejaVu Sans Mono',consolas,'Courier New',monospace\">Epoch:  <span style=\"color: #008080; text-decoration-color: #008080; font-weight: bold\">0</span> Steps:  <span style=\"color: #008080; text-decoration-color: #008080; font-weight: bold\">30</span> Loss:  <span style=\"color: #008080; text-decoration-color: #008080; font-weight: bold\">1.8655294179916382</span>\n",
              "</pre>\n"
            ]
          },
          "metadata": {}
        },
        {
          "output_type": "display_data",
          "data": {
            "text/plain": [
              "Epoch:  \u001b[1;36m0\u001b[0m Steps:  \u001b[1;36m40\u001b[0m Loss:  \u001b[1;36m3.24951434135437\u001b[0m\n"
            ],
            "text/html": [
              "<pre style=\"white-space:pre;overflow-x:auto;line-height:normal;font-family:Menlo,'DejaVu Sans Mono',consolas,'Courier New',monospace\">Epoch:  <span style=\"color: #008080; text-decoration-color: #008080; font-weight: bold\">0</span> Steps:  <span style=\"color: #008080; text-decoration-color: #008080; font-weight: bold\">40</span> Loss:  <span style=\"color: #008080; text-decoration-color: #008080; font-weight: bold\">3.24951434135437</span>\n",
              "</pre>\n"
            ]
          },
          "metadata": {}
        },
        {
          "output_type": "display_data",
          "data": {
            "text/plain": [
              "Epoch:  \u001b[1;36m0\u001b[0m Steps:  \u001b[1;36m50\u001b[0m Loss:  \u001b[1;36m1.7755417823791504\u001b[0m\n"
            ],
            "text/html": [
              "<pre style=\"white-space:pre;overflow-x:auto;line-height:normal;font-family:Menlo,'DejaVu Sans Mono',consolas,'Courier New',monospace\">Epoch:  <span style=\"color: #008080; text-decoration-color: #008080; font-weight: bold\">0</span> Steps:  <span style=\"color: #008080; text-decoration-color: #008080; font-weight: bold\">50</span> Loss:  <span style=\"color: #008080; text-decoration-color: #008080; font-weight: bold\">1.7755417823791504</span>\n",
              "</pre>\n"
            ]
          },
          "metadata": {}
        },
        {
          "output_type": "display_data",
          "data": {
            "text/plain": [
              "Epoch:  \u001b[1;36m0\u001b[0m Steps:  \u001b[1;36m60\u001b[0m Loss:  \u001b[1;36m3.555743455886841\u001b[0m\n"
            ],
            "text/html": [
              "<pre style=\"white-space:pre;overflow-x:auto;line-height:normal;font-family:Menlo,'DejaVu Sans Mono',consolas,'Courier New',monospace\">Epoch:  <span style=\"color: #008080; text-decoration-color: #008080; font-weight: bold\">0</span> Steps:  <span style=\"color: #008080; text-decoration-color: #008080; font-weight: bold\">60</span> Loss:  <span style=\"color: #008080; text-decoration-color: #008080; font-weight: bold\">3.555743455886841</span>\n",
              "</pre>\n"
            ]
          },
          "metadata": {}
        },
        {
          "output_type": "display_data",
          "data": {
            "text/plain": [
              "Epoch:  \u001b[1;36m0\u001b[0m Steps:  \u001b[1;36m70\u001b[0m Loss:  \u001b[1;36m2.2848446369171143\u001b[0m\n"
            ],
            "text/html": [
              "<pre style=\"white-space:pre;overflow-x:auto;line-height:normal;font-family:Menlo,'DejaVu Sans Mono',consolas,'Courier New',monospace\">Epoch:  <span style=\"color: #008080; text-decoration-color: #008080; font-weight: bold\">0</span> Steps:  <span style=\"color: #008080; text-decoration-color: #008080; font-weight: bold\">70</span> Loss:  <span style=\"color: #008080; text-decoration-color: #008080; font-weight: bold\">2.2848446369171143</span>\n",
              "</pre>\n"
            ]
          },
          "metadata": {}
        },
        {
          "output_type": "display_data",
          "data": {
            "text/plain": [
              "Epoch:  \u001b[1;36m0\u001b[0m Steps:  \u001b[1;36m80\u001b[0m Loss:  \u001b[1;36m1.976075291633606\u001b[0m\n"
            ],
            "text/html": [
              "<pre style=\"white-space:pre;overflow-x:auto;line-height:normal;font-family:Menlo,'DejaVu Sans Mono',consolas,'Courier New',monospace\">Epoch:  <span style=\"color: #008080; text-decoration-color: #008080; font-weight: bold\">0</span> Steps:  <span style=\"color: #008080; text-decoration-color: #008080; font-weight: bold\">80</span> Loss:  <span style=\"color: #008080; text-decoration-color: #008080; font-weight: bold\">1.976075291633606</span>\n",
              "</pre>\n"
            ]
          },
          "metadata": {}
        },
        {
          "output_type": "display_data",
          "data": {
            "text/plain": [
              "Epoch:  \u001b[1;36m0\u001b[0m Steps:  \u001b[1;36m90\u001b[0m Loss:  \u001b[1;36m1.5909103155136108\u001b[0m\n"
            ],
            "text/html": [
              "<pre style=\"white-space:pre;overflow-x:auto;line-height:normal;font-family:Menlo,'DejaVu Sans Mono',consolas,'Courier New',monospace\">Epoch:  <span style=\"color: #008080; text-decoration-color: #008080; font-weight: bold\">0</span> Steps:  <span style=\"color: #008080; text-decoration-color: #008080; font-weight: bold\">90</span> Loss:  <span style=\"color: #008080; text-decoration-color: #008080; font-weight: bold\">1.5909103155136108</span>\n",
              "</pre>\n"
            ]
          },
          "metadata": {}
        },
        {
          "output_type": "display_data",
          "data": {
            "text/plain": [
              "Epoch:  \u001b[1;36m0\u001b[0m Steps:  \u001b[1;36m100\u001b[0m Loss:  \u001b[1;36m2.5496857166290283\u001b[0m\n"
            ],
            "text/html": [
              "<pre style=\"white-space:pre;overflow-x:auto;line-height:normal;font-family:Menlo,'DejaVu Sans Mono',consolas,'Courier New',monospace\">Epoch:  <span style=\"color: #008080; text-decoration-color: #008080; font-weight: bold\">0</span> Steps:  <span style=\"color: #008080; text-decoration-color: #008080; font-weight: bold\">100</span> Loss:  <span style=\"color: #008080; text-decoration-color: #008080; font-weight: bold\">2.5496857166290283</span>\n",
              "</pre>\n"
            ]
          },
          "metadata": {}
        },
        {
          "output_type": "display_data",
          "data": {
            "text/plain": [
              "Epoch:  \u001b[1;36m0\u001b[0m Steps:  \u001b[1;36m110\u001b[0m Loss:  \u001b[1;36m1.7580775022506714\u001b[0m\n"
            ],
            "text/html": [
              "<pre style=\"white-space:pre;overflow-x:auto;line-height:normal;font-family:Menlo,'DejaVu Sans Mono',consolas,'Courier New',monospace\">Epoch:  <span style=\"color: #008080; text-decoration-color: #008080; font-weight: bold\">0</span> Steps:  <span style=\"color: #008080; text-decoration-color: #008080; font-weight: bold\">110</span> Loss:  <span style=\"color: #008080; text-decoration-color: #008080; font-weight: bold\">1.7580775022506714</span>\n",
              "</pre>\n"
            ]
          },
          "metadata": {}
        },
        {
          "output_type": "display_data",
          "data": {
            "text/plain": [
              "Epoch:  \u001b[1;36m0\u001b[0m Steps:  \u001b[1;36m120\u001b[0m Loss:  \u001b[1;36m1.4247454404830933\u001b[0m\n"
            ],
            "text/html": [
              "<pre style=\"white-space:pre;overflow-x:auto;line-height:normal;font-family:Menlo,'DejaVu Sans Mono',consolas,'Courier New',monospace\">Epoch:  <span style=\"color: #008080; text-decoration-color: #008080; font-weight: bold\">0</span> Steps:  <span style=\"color: #008080; text-decoration-color: #008080; font-weight: bold\">120</span> Loss:  <span style=\"color: #008080; text-decoration-color: #008080; font-weight: bold\">1.4247454404830933</span>\n",
              "</pre>\n"
            ]
          },
          "metadata": {}
        },
        {
          "output_type": "display_data",
          "data": {
            "text/plain": [
              "Epoch:  \u001b[1;36m0\u001b[0m Steps:  \u001b[1;36m130\u001b[0m Loss:  \u001b[1;36m1.6442809104919434\u001b[0m\n"
            ],
            "text/html": [
              "<pre style=\"white-space:pre;overflow-x:auto;line-height:normal;font-family:Menlo,'DejaVu Sans Mono',consolas,'Courier New',monospace\">Epoch:  <span style=\"color: #008080; text-decoration-color: #008080; font-weight: bold\">0</span> Steps:  <span style=\"color: #008080; text-decoration-color: #008080; font-weight: bold\">130</span> Loss:  <span style=\"color: #008080; text-decoration-color: #008080; font-weight: bold\">1.6442809104919434</span>\n",
              "</pre>\n"
            ]
          },
          "metadata": {}
        },
        {
          "output_type": "display_data",
          "data": {
            "text/plain": [
              "Epoch:  \u001b[1;36m0\u001b[0m Steps:  \u001b[1;36m140\u001b[0m Loss:  \u001b[1;36m2.146562099456787\u001b[0m\n"
            ],
            "text/html": [
              "<pre style=\"white-space:pre;overflow-x:auto;line-height:normal;font-family:Menlo,'DejaVu Sans Mono',consolas,'Courier New',monospace\">Epoch:  <span style=\"color: #008080; text-decoration-color: #008080; font-weight: bold\">0</span> Steps:  <span style=\"color: #008080; text-decoration-color: #008080; font-weight: bold\">140</span> Loss:  <span style=\"color: #008080; text-decoration-color: #008080; font-weight: bold\">2.146562099456787</span>\n",
              "</pre>\n"
            ]
          },
          "metadata": {}
        },
        {
          "output_type": "display_data",
          "data": {
            "text/plain": [
              "Epoch:  \u001b[1;36m0\u001b[0m Steps:  \u001b[1;36m150\u001b[0m Loss:  \u001b[1;36m1.9122639894485474\u001b[0m\n"
            ],
            "text/html": [
              "<pre style=\"white-space:pre;overflow-x:auto;line-height:normal;font-family:Menlo,'DejaVu Sans Mono',consolas,'Courier New',monospace\">Epoch:  <span style=\"color: #008080; text-decoration-color: #008080; font-weight: bold\">0</span> Steps:  <span style=\"color: #008080; text-decoration-color: #008080; font-weight: bold\">150</span> Loss:  <span style=\"color: #008080; text-decoration-color: #008080; font-weight: bold\">1.9122639894485474</span>\n",
              "</pre>\n"
            ]
          },
          "metadata": {}
        },
        {
          "output_type": "display_data",
          "data": {
            "text/plain": [
              "Epoch:  \u001b[1;36m0\u001b[0m Steps:  \u001b[1;36m160\u001b[0m Loss:  \u001b[1;36m1.23967707157135\u001b[0m\n"
            ],
            "text/html": [
              "<pre style=\"white-space:pre;overflow-x:auto;line-height:normal;font-family:Menlo,'DejaVu Sans Mono',consolas,'Courier New',monospace\">Epoch:  <span style=\"color: #008080; text-decoration-color: #008080; font-weight: bold\">0</span> Steps:  <span style=\"color: #008080; text-decoration-color: #008080; font-weight: bold\">160</span> Loss:  <span style=\"color: #008080; text-decoration-color: #008080; font-weight: bold\">1.23967707157135</span>\n",
              "</pre>\n"
            ]
          },
          "metadata": {}
        },
        {
          "output_type": "display_data",
          "data": {
            "text/plain": [
              "Epoch:  \u001b[1;36m0\u001b[0m Steps:  \u001b[1;36m170\u001b[0m Loss:  \u001b[1;36m1.5415818691253662\u001b[0m\n"
            ],
            "text/html": [
              "<pre style=\"white-space:pre;overflow-x:auto;line-height:normal;font-family:Menlo,'DejaVu Sans Mono',consolas,'Courier New',monospace\">Epoch:  <span style=\"color: #008080; text-decoration-color: #008080; font-weight: bold\">0</span> Steps:  <span style=\"color: #008080; text-decoration-color: #008080; font-weight: bold\">170</span> Loss:  <span style=\"color: #008080; text-decoration-color: #008080; font-weight: bold\">1.5415818691253662</span>\n",
              "</pre>\n"
            ]
          },
          "metadata": {}
        },
        {
          "output_type": "display_data",
          "data": {
            "text/plain": [
              "Epoch:  \u001b[1;36m0\u001b[0m Steps:  \u001b[1;36m180\u001b[0m Loss:  \u001b[1;36m1.6904854774475098\u001b[0m\n"
            ],
            "text/html": [
              "<pre style=\"white-space:pre;overflow-x:auto;line-height:normal;font-family:Menlo,'DejaVu Sans Mono',consolas,'Courier New',monospace\">Epoch:  <span style=\"color: #008080; text-decoration-color: #008080; font-weight: bold\">0</span> Steps:  <span style=\"color: #008080; text-decoration-color: #008080; font-weight: bold\">180</span> Loss:  <span style=\"color: #008080; text-decoration-color: #008080; font-weight: bold\">1.6904854774475098</span>\n",
              "</pre>\n"
            ]
          },
          "metadata": {}
        },
        {
          "output_type": "display_data",
          "data": {
            "text/plain": [
              "Epoch:  \u001b[1;36m0\u001b[0m Steps:  \u001b[1;36m190\u001b[0m Loss:  \u001b[1;36m2.7208521366119385\u001b[0m\n"
            ],
            "text/html": [
              "<pre style=\"white-space:pre;overflow-x:auto;line-height:normal;font-family:Menlo,'DejaVu Sans Mono',consolas,'Courier New',monospace\">Epoch:  <span style=\"color: #008080; text-decoration-color: #008080; font-weight: bold\">0</span> Steps:  <span style=\"color: #008080; text-decoration-color: #008080; font-weight: bold\">190</span> Loss:  <span style=\"color: #008080; text-decoration-color: #008080; font-weight: bold\">2.7208521366119385</span>\n",
              "</pre>\n"
            ]
          },
          "metadata": {}
        },
        {
          "output_type": "display_data",
          "data": {
            "text/plain": [
              "Epoch:  \u001b[1;36m0\u001b[0m Steps:  \u001b[1;36m200\u001b[0m Loss:  \u001b[1;36m2.3050968647003174\u001b[0m\n"
            ],
            "text/html": [
              "<pre style=\"white-space:pre;overflow-x:auto;line-height:normal;font-family:Menlo,'DejaVu Sans Mono',consolas,'Courier New',monospace\">Epoch:  <span style=\"color: #008080; text-decoration-color: #008080; font-weight: bold\">0</span> Steps:  <span style=\"color: #008080; text-decoration-color: #008080; font-weight: bold\">200</span> Loss:  <span style=\"color: #008080; text-decoration-color: #008080; font-weight: bold\">2.3050968647003174</span>\n",
              "</pre>\n"
            ]
          },
          "metadata": {}
        },
        {
          "output_type": "display_data",
          "data": {
            "text/plain": [
              "Epoch:  \u001b[1;36m0\u001b[0m Steps:  \u001b[1;36m210\u001b[0m Loss:  \u001b[1;36m2.8559935092926025\u001b[0m\n"
            ],
            "text/html": [
              "<pre style=\"white-space:pre;overflow-x:auto;line-height:normal;font-family:Menlo,'DejaVu Sans Mono',consolas,'Courier New',monospace\">Epoch:  <span style=\"color: #008080; text-decoration-color: #008080; font-weight: bold\">0</span> Steps:  <span style=\"color: #008080; text-decoration-color: #008080; font-weight: bold\">210</span> Loss:  <span style=\"color: #008080; text-decoration-color: #008080; font-weight: bold\">2.8559935092926025</span>\n",
              "</pre>\n"
            ]
          },
          "metadata": {}
        },
        {
          "output_type": "display_data",
          "data": {
            "text/plain": [
              "Epoch:  \u001b[1;36m0\u001b[0m Steps:  \u001b[1;36m220\u001b[0m Loss:  \u001b[1;36m2.1136860847473145\u001b[0m\n"
            ],
            "text/html": [
              "<pre style=\"white-space:pre;overflow-x:auto;line-height:normal;font-family:Menlo,'DejaVu Sans Mono',consolas,'Courier New',monospace\">Epoch:  <span style=\"color: #008080; text-decoration-color: #008080; font-weight: bold\">0</span> Steps:  <span style=\"color: #008080; text-decoration-color: #008080; font-weight: bold\">220</span> Loss:  <span style=\"color: #008080; text-decoration-color: #008080; font-weight: bold\">2.1136860847473145</span>\n",
              "</pre>\n"
            ]
          },
          "metadata": {}
        },
        {
          "output_type": "display_data",
          "data": {
            "text/plain": [
              "Epoch:  \u001b[1;36m0\u001b[0m Steps:  \u001b[1;36m230\u001b[0m Loss:  \u001b[1;36m2.869403123855591\u001b[0m\n"
            ],
            "text/html": [
              "<pre style=\"white-space:pre;overflow-x:auto;line-height:normal;font-family:Menlo,'DejaVu Sans Mono',consolas,'Courier New',monospace\">Epoch:  <span style=\"color: #008080; text-decoration-color: #008080; font-weight: bold\">0</span> Steps:  <span style=\"color: #008080; text-decoration-color: #008080; font-weight: bold\">230</span> Loss:  <span style=\"color: #008080; text-decoration-color: #008080; font-weight: bold\">2.869403123855591</span>\n",
              "</pre>\n"
            ]
          },
          "metadata": {}
        },
        {
          "output_type": "display_data",
          "data": {
            "text/plain": [
              "Epoch:  \u001b[1;36m0\u001b[0m Steps:  \u001b[1;36m240\u001b[0m Loss:  \u001b[1;36m1.7376301288604736\u001b[0m\n"
            ],
            "text/html": [
              "<pre style=\"white-space:pre;overflow-x:auto;line-height:normal;font-family:Menlo,'DejaVu Sans Mono',consolas,'Courier New',monospace\">Epoch:  <span style=\"color: #008080; text-decoration-color: #008080; font-weight: bold\">0</span> Steps:  <span style=\"color: #008080; text-decoration-color: #008080; font-weight: bold\">240</span> Loss:  <span style=\"color: #008080; text-decoration-color: #008080; font-weight: bold\">1.7376301288604736</span>\n",
              "</pre>\n"
            ]
          },
          "metadata": {}
        },
        {
          "output_type": "display_data",
          "data": {
            "text/plain": [
              "Epoch:  \u001b[1;36m0\u001b[0m Steps:  \u001b[1;36m250\u001b[0m Loss:  \u001b[1;36m1.9555047750473022\u001b[0m\n"
            ],
            "text/html": [
              "<pre style=\"white-space:pre;overflow-x:auto;line-height:normal;font-family:Menlo,'DejaVu Sans Mono',consolas,'Courier New',monospace\">Epoch:  <span style=\"color: #008080; text-decoration-color: #008080; font-weight: bold\">0</span> Steps:  <span style=\"color: #008080; text-decoration-color: #008080; font-weight: bold\">250</span> Loss:  <span style=\"color: #008080; text-decoration-color: #008080; font-weight: bold\">1.9555047750473022</span>\n",
              "</pre>\n"
            ]
          },
          "metadata": {}
        },
        {
          "output_type": "display_data",
          "data": {
            "text/plain": [
              "Epoch:  \u001b[1;36m0\u001b[0m Steps:  \u001b[1;36m260\u001b[0m Loss:  \u001b[1;36m1.7618588209152222\u001b[0m\n"
            ],
            "text/html": [
              "<pre style=\"white-space:pre;overflow-x:auto;line-height:normal;font-family:Menlo,'DejaVu Sans Mono',consolas,'Courier New',monospace\">Epoch:  <span style=\"color: #008080; text-decoration-color: #008080; font-weight: bold\">0</span> Steps:  <span style=\"color: #008080; text-decoration-color: #008080; font-weight: bold\">260</span> Loss:  <span style=\"color: #008080; text-decoration-color: #008080; font-weight: bold\">1.7618588209152222</span>\n",
              "</pre>\n"
            ]
          },
          "metadata": {}
        },
        {
          "output_type": "display_data",
          "data": {
            "text/plain": [
              "Epoch:  \u001b[1;36m0\u001b[0m Steps:  \u001b[1;36m270\u001b[0m Loss:  \u001b[1;36m2.023338556289673\u001b[0m\n"
            ],
            "text/html": [
              "<pre style=\"white-space:pre;overflow-x:auto;line-height:normal;font-family:Menlo,'DejaVu Sans Mono',consolas,'Courier New',monospace\">Epoch:  <span style=\"color: #008080; text-decoration-color: #008080; font-weight: bold\">0</span> Steps:  <span style=\"color: #008080; text-decoration-color: #008080; font-weight: bold\">270</span> Loss:  <span style=\"color: #008080; text-decoration-color: #008080; font-weight: bold\">2.023338556289673</span>\n",
              "</pre>\n"
            ]
          },
          "metadata": {}
        },
        {
          "output_type": "display_data",
          "data": {
            "text/plain": [
              "Epoch:  \u001b[1;36m0\u001b[0m Steps:  \u001b[1;36m280\u001b[0m Loss:  \u001b[1;36m1.7293027639389038\u001b[0m\n"
            ],
            "text/html": [
              "<pre style=\"white-space:pre;overflow-x:auto;line-height:normal;font-family:Menlo,'DejaVu Sans Mono',consolas,'Courier New',monospace\">Epoch:  <span style=\"color: #008080; text-decoration-color: #008080; font-weight: bold\">0</span> Steps:  <span style=\"color: #008080; text-decoration-color: #008080; font-weight: bold\">280</span> Loss:  <span style=\"color: #008080; text-decoration-color: #008080; font-weight: bold\">1.7293027639389038</span>\n",
              "</pre>\n"
            ]
          },
          "metadata": {}
        },
        {
          "output_type": "display_data",
          "data": {
            "text/plain": [
              "Epoch:  \u001b[1;36m0\u001b[0m Steps:  \u001b[1;36m290\u001b[0m Loss:  \u001b[1;36m1.8467767238616943\u001b[0m\n"
            ],
            "text/html": [
              "<pre style=\"white-space:pre;overflow-x:auto;line-height:normal;font-family:Menlo,'DejaVu Sans Mono',consolas,'Courier New',monospace\">Epoch:  <span style=\"color: #008080; text-decoration-color: #008080; font-weight: bold\">0</span> Steps:  <span style=\"color: #008080; text-decoration-color: #008080; font-weight: bold\">290</span> Loss:  <span style=\"color: #008080; text-decoration-color: #008080; font-weight: bold\">1.8467767238616943</span>\n",
              "</pre>\n"
            ]
          },
          "metadata": {}
        },
        {
          "output_type": "display_data",
          "data": {
            "text/plain": [
              "Epoch:  \u001b[1;36m0\u001b[0m Steps:  \u001b[1;36m300\u001b[0m Loss:  \u001b[1;36m2.252340078353882\u001b[0m\n"
            ],
            "text/html": [
              "<pre style=\"white-space:pre;overflow-x:auto;line-height:normal;font-family:Menlo,'DejaVu Sans Mono',consolas,'Courier New',monospace\">Epoch:  <span style=\"color: #008080; text-decoration-color: #008080; font-weight: bold\">0</span> Steps:  <span style=\"color: #008080; text-decoration-color: #008080; font-weight: bold\">300</span> Loss:  <span style=\"color: #008080; text-decoration-color: #008080; font-weight: bold\">2.252340078353882</span>\n",
              "</pre>\n"
            ]
          },
          "metadata": {}
        },
        {
          "output_type": "display_data",
          "data": {
            "text/plain": [
              "Epoch:  \u001b[1;36m0\u001b[0m Steps:  \u001b[1;36m310\u001b[0m Loss:  \u001b[1;36m1.879687786102295\u001b[0m\n"
            ],
            "text/html": [
              "<pre style=\"white-space:pre;overflow-x:auto;line-height:normal;font-family:Menlo,'DejaVu Sans Mono',consolas,'Courier New',monospace\">Epoch:  <span style=\"color: #008080; text-decoration-color: #008080; font-weight: bold\">0</span> Steps:  <span style=\"color: #008080; text-decoration-color: #008080; font-weight: bold\">310</span> Loss:  <span style=\"color: #008080; text-decoration-color: #008080; font-weight: bold\">1.879687786102295</span>\n",
              "</pre>\n"
            ]
          },
          "metadata": {}
        },
        {
          "output_type": "display_data",
          "data": {
            "text/plain": [
              "Epoch:  \u001b[1;36m0\u001b[0m Steps:  \u001b[1;36m320\u001b[0m Loss:  \u001b[1;36m1.4729256629943848\u001b[0m\n"
            ],
            "text/html": [
              "<pre style=\"white-space:pre;overflow-x:auto;line-height:normal;font-family:Menlo,'DejaVu Sans Mono',consolas,'Courier New',monospace\">Epoch:  <span style=\"color: #008080; text-decoration-color: #008080; font-weight: bold\">0</span> Steps:  <span style=\"color: #008080; text-decoration-color: #008080; font-weight: bold\">320</span> Loss:  <span style=\"color: #008080; text-decoration-color: #008080; font-weight: bold\">1.4729256629943848</span>\n",
              "</pre>\n"
            ]
          },
          "metadata": {}
        },
        {
          "output_type": "display_data",
          "data": {
            "text/plain": [
              "Epoch:  \u001b[1;36m0\u001b[0m Steps:  \u001b[1;36m330\u001b[0m Loss:  \u001b[1;36m2.693469285964966\u001b[0m\n"
            ],
            "text/html": [
              "<pre style=\"white-space:pre;overflow-x:auto;line-height:normal;font-family:Menlo,'DejaVu Sans Mono',consolas,'Courier New',monospace\">Epoch:  <span style=\"color: #008080; text-decoration-color: #008080; font-weight: bold\">0</span> Steps:  <span style=\"color: #008080; text-decoration-color: #008080; font-weight: bold\">330</span> Loss:  <span style=\"color: #008080; text-decoration-color: #008080; font-weight: bold\">2.693469285964966</span>\n",
              "</pre>\n"
            ]
          },
          "metadata": {}
        },
        {
          "output_type": "display_data",
          "data": {
            "text/plain": [
              "Epoch:  \u001b[1;36m0\u001b[0m Steps:  \u001b[1;36m340\u001b[0m Loss:  \u001b[1;36m2.1311683654785156\u001b[0m\n"
            ],
            "text/html": [
              "<pre style=\"white-space:pre;overflow-x:auto;line-height:normal;font-family:Menlo,'DejaVu Sans Mono',consolas,'Courier New',monospace\">Epoch:  <span style=\"color: #008080; text-decoration-color: #008080; font-weight: bold\">0</span> Steps:  <span style=\"color: #008080; text-decoration-color: #008080; font-weight: bold\">340</span> Loss:  <span style=\"color: #008080; text-decoration-color: #008080; font-weight: bold\">2.1311683654785156</span>\n",
              "</pre>\n"
            ]
          },
          "metadata": {}
        },
        {
          "output_type": "display_data",
          "data": {
            "text/plain": [
              "Epoch:  \u001b[1;36m0\u001b[0m Steps:  \u001b[1;36m350\u001b[0m Loss:  \u001b[1;36m1.3391544818878174\u001b[0m\n"
            ],
            "text/html": [
              "<pre style=\"white-space:pre;overflow-x:auto;line-height:normal;font-family:Menlo,'DejaVu Sans Mono',consolas,'Courier New',monospace\">Epoch:  <span style=\"color: #008080; text-decoration-color: #008080; font-weight: bold\">0</span> Steps:  <span style=\"color: #008080; text-decoration-color: #008080; font-weight: bold\">350</span> Loss:  <span style=\"color: #008080; text-decoration-color: #008080; font-weight: bold\">1.3391544818878174</span>\n",
              "</pre>\n"
            ]
          },
          "metadata": {}
        },
        {
          "output_type": "display_data",
          "data": {
            "text/plain": [
              "Epoch:  \u001b[1;36m0\u001b[0m Steps:  \u001b[1;36m360\u001b[0m Loss:  \u001b[1;36m2.925401210784912\u001b[0m\n"
            ],
            "text/html": [
              "<pre style=\"white-space:pre;overflow-x:auto;line-height:normal;font-family:Menlo,'DejaVu Sans Mono',consolas,'Courier New',monospace\">Epoch:  <span style=\"color: #008080; text-decoration-color: #008080; font-weight: bold\">0</span> Steps:  <span style=\"color: #008080; text-decoration-color: #008080; font-weight: bold\">360</span> Loss:  <span style=\"color: #008080; text-decoration-color: #008080; font-weight: bold\">2.925401210784912</span>\n",
              "</pre>\n"
            ]
          },
          "metadata": {}
        },
        {
          "output_type": "display_data",
          "data": {
            "text/plain": [
              "Epoch:  \u001b[1;36m0\u001b[0m Steps:  \u001b[1;36m370\u001b[0m Loss:  \u001b[1;36m1.7668298482894897\u001b[0m\n"
            ],
            "text/html": [
              "<pre style=\"white-space:pre;overflow-x:auto;line-height:normal;font-family:Menlo,'DejaVu Sans Mono',consolas,'Courier New',monospace\">Epoch:  <span style=\"color: #008080; text-decoration-color: #008080; font-weight: bold\">0</span> Steps:  <span style=\"color: #008080; text-decoration-color: #008080; font-weight: bold\">370</span> Loss:  <span style=\"color: #008080; text-decoration-color: #008080; font-weight: bold\">1.7668298482894897</span>\n",
              "</pre>\n"
            ]
          },
          "metadata": {}
        },
        {
          "output_type": "display_data",
          "data": {
            "text/plain": [
              "Epoch:  \u001b[1;36m0\u001b[0m Steps:  \u001b[1;36m380\u001b[0m Loss:  \u001b[1;36m1.5128124952316284\u001b[0m\n"
            ],
            "text/html": [
              "<pre style=\"white-space:pre;overflow-x:auto;line-height:normal;font-family:Menlo,'DejaVu Sans Mono',consolas,'Courier New',monospace\">Epoch:  <span style=\"color: #008080; text-decoration-color: #008080; font-weight: bold\">0</span> Steps:  <span style=\"color: #008080; text-decoration-color: #008080; font-weight: bold\">380</span> Loss:  <span style=\"color: #008080; text-decoration-color: #008080; font-weight: bold\">1.5128124952316284</span>\n",
              "</pre>\n"
            ]
          },
          "metadata": {}
        },
        {
          "output_type": "display_data",
          "data": {
            "text/plain": [
              "Epoch:  \u001b[1;36m0\u001b[0m Steps:  \u001b[1;36m390\u001b[0m Loss:  \u001b[1;36m1.475715160369873\u001b[0m\n"
            ],
            "text/html": [
              "<pre style=\"white-space:pre;overflow-x:auto;line-height:normal;font-family:Menlo,'DejaVu Sans Mono',consolas,'Courier New',monospace\">Epoch:  <span style=\"color: #008080; text-decoration-color: #008080; font-weight: bold\">0</span> Steps:  <span style=\"color: #008080; text-decoration-color: #008080; font-weight: bold\">390</span> Loss:  <span style=\"color: #008080; text-decoration-color: #008080; font-weight: bold\">1.475715160369873</span>\n",
              "</pre>\n"
            ]
          },
          "metadata": {}
        },
        {
          "output_type": "display_data",
          "data": {
            "text/plain": [
              "Epoch:  \u001b[1;36m0\u001b[0m Steps:  \u001b[1;36m400\u001b[0m Loss:  \u001b[1;36m2.373324394226074\u001b[0m\n"
            ],
            "text/html": [
              "<pre style=\"white-space:pre;overflow-x:auto;line-height:normal;font-family:Menlo,'DejaVu Sans Mono',consolas,'Courier New',monospace\">Epoch:  <span style=\"color: #008080; text-decoration-color: #008080; font-weight: bold\">0</span> Steps:  <span style=\"color: #008080; text-decoration-color: #008080; font-weight: bold\">400</span> Loss:  <span style=\"color: #008080; text-decoration-color: #008080; font-weight: bold\">2.373324394226074</span>\n",
              "</pre>\n"
            ]
          },
          "metadata": {}
        },
        {
          "output_type": "display_data",
          "data": {
            "text/plain": [
              "Epoch:  \u001b[1;36m0\u001b[0m Steps:  \u001b[1;36m410\u001b[0m Loss:  \u001b[1;36m1.9199073314666748\u001b[0m\n"
            ],
            "text/html": [
              "<pre style=\"white-space:pre;overflow-x:auto;line-height:normal;font-family:Menlo,'DejaVu Sans Mono',consolas,'Courier New',monospace\">Epoch:  <span style=\"color: #008080; text-decoration-color: #008080; font-weight: bold\">0</span> Steps:  <span style=\"color: #008080; text-decoration-color: #008080; font-weight: bold\">410</span> Loss:  <span style=\"color: #008080; text-decoration-color: #008080; font-weight: bold\">1.9199073314666748</span>\n",
              "</pre>\n"
            ]
          },
          "metadata": {}
        },
        {
          "output_type": "display_data",
          "data": {
            "text/plain": [
              "Epoch:  \u001b[1;36m0\u001b[0m Steps:  \u001b[1;36m420\u001b[0m Loss:  \u001b[1;36m2.4875617027282715\u001b[0m\n"
            ],
            "text/html": [
              "<pre style=\"white-space:pre;overflow-x:auto;line-height:normal;font-family:Menlo,'DejaVu Sans Mono',consolas,'Courier New',monospace\">Epoch:  <span style=\"color: #008080; text-decoration-color: #008080; font-weight: bold\">0</span> Steps:  <span style=\"color: #008080; text-decoration-color: #008080; font-weight: bold\">420</span> Loss:  <span style=\"color: #008080; text-decoration-color: #008080; font-weight: bold\">2.4875617027282715</span>\n",
              "</pre>\n"
            ]
          },
          "metadata": {}
        },
        {
          "output_type": "display_data",
          "data": {
            "text/plain": [
              "Epoch:  \u001b[1;36m0\u001b[0m Steps:  \u001b[1;36m430\u001b[0m Loss:  \u001b[1;36m1.343384027481079\u001b[0m\n"
            ],
            "text/html": [
              "<pre style=\"white-space:pre;overflow-x:auto;line-height:normal;font-family:Menlo,'DejaVu Sans Mono',consolas,'Courier New',monospace\">Epoch:  <span style=\"color: #008080; text-decoration-color: #008080; font-weight: bold\">0</span> Steps:  <span style=\"color: #008080; text-decoration-color: #008080; font-weight: bold\">430</span> Loss:  <span style=\"color: #008080; text-decoration-color: #008080; font-weight: bold\">1.343384027481079</span>\n",
              "</pre>\n"
            ]
          },
          "metadata": {}
        },
        {
          "output_type": "display_data",
          "data": {
            "text/plain": [
              "Epoch:  \u001b[1;36m0\u001b[0m Steps:  \u001b[1;36m440\u001b[0m Loss:  \u001b[1;36m1.9075069427490234\u001b[0m\n"
            ],
            "text/html": [
              "<pre style=\"white-space:pre;overflow-x:auto;line-height:normal;font-family:Menlo,'DejaVu Sans Mono',consolas,'Courier New',monospace\">Epoch:  <span style=\"color: #008080; text-decoration-color: #008080; font-weight: bold\">0</span> Steps:  <span style=\"color: #008080; text-decoration-color: #008080; font-weight: bold\">440</span> Loss:  <span style=\"color: #008080; text-decoration-color: #008080; font-weight: bold\">1.9075069427490234</span>\n",
              "</pre>\n"
            ]
          },
          "metadata": {}
        },
        {
          "output_type": "display_data",
          "data": {
            "text/plain": [
              "Epoch:  \u001b[1;36m0\u001b[0m Steps:  \u001b[1;36m450\u001b[0m Loss:  \u001b[1;36m1.7584162950515747\u001b[0m\n"
            ],
            "text/html": [
              "<pre style=\"white-space:pre;overflow-x:auto;line-height:normal;font-family:Menlo,'DejaVu Sans Mono',consolas,'Courier New',monospace\">Epoch:  <span style=\"color: #008080; text-decoration-color: #008080; font-weight: bold\">0</span> Steps:  <span style=\"color: #008080; text-decoration-color: #008080; font-weight: bold\">450</span> Loss:  <span style=\"color: #008080; text-decoration-color: #008080; font-weight: bold\">1.7584162950515747</span>\n",
              "</pre>\n"
            ]
          },
          "metadata": {}
        },
        {
          "output_type": "display_data",
          "data": {
            "text/plain": [
              "Epoch:  \u001b[1;36m0\u001b[0m Steps:  \u001b[1;36m460\u001b[0m Loss:  \u001b[1;36m1.4925729036331177\u001b[0m\n"
            ],
            "text/html": [
              "<pre style=\"white-space:pre;overflow-x:auto;line-height:normal;font-family:Menlo,'DejaVu Sans Mono',consolas,'Courier New',monospace\">Epoch:  <span style=\"color: #008080; text-decoration-color: #008080; font-weight: bold\">0</span> Steps:  <span style=\"color: #008080; text-decoration-color: #008080; font-weight: bold\">460</span> Loss:  <span style=\"color: #008080; text-decoration-color: #008080; font-weight: bold\">1.4925729036331177</span>\n",
              "</pre>\n"
            ]
          },
          "metadata": {}
        },
        {
          "output_type": "display_data",
          "data": {
            "text/plain": [
              "Epoch:  \u001b[1;36m0\u001b[0m Steps:  \u001b[1;36m470\u001b[0m Loss:  \u001b[1;36m1.3880364894866943\u001b[0m\n"
            ],
            "text/html": [
              "<pre style=\"white-space:pre;overflow-x:auto;line-height:normal;font-family:Menlo,'DejaVu Sans Mono',consolas,'Courier New',monospace\">Epoch:  <span style=\"color: #008080; text-decoration-color: #008080; font-weight: bold\">0</span> Steps:  <span style=\"color: #008080; text-decoration-color: #008080; font-weight: bold\">470</span> Loss:  <span style=\"color: #008080; text-decoration-color: #008080; font-weight: bold\">1.3880364894866943</span>\n",
              "</pre>\n"
            ]
          },
          "metadata": {}
        },
        {
          "output_type": "display_data",
          "data": {
            "text/plain": [
              "Epoch:  \u001b[1;36m0\u001b[0m Steps:  \u001b[1;36m480\u001b[0m Loss:  \u001b[1;36m1.7195565700531006\u001b[0m\n"
            ],
            "text/html": [
              "<pre style=\"white-space:pre;overflow-x:auto;line-height:normal;font-family:Menlo,'DejaVu Sans Mono',consolas,'Courier New',monospace\">Epoch:  <span style=\"color: #008080; text-decoration-color: #008080; font-weight: bold\">0</span> Steps:  <span style=\"color: #008080; text-decoration-color: #008080; font-weight: bold\">480</span> Loss:  <span style=\"color: #008080; text-decoration-color: #008080; font-weight: bold\">1.7195565700531006</span>\n",
              "</pre>\n"
            ]
          },
          "metadata": {}
        },
        {
          "output_type": "display_data",
          "data": {
            "text/plain": [
              "\u001b[3m           Training Loss           \u001b[0m\n",
              "+---------------------------------+\n",
              "|\u001b[1mEpoch\u001b[0m\u001b[1m \u001b[0m|\u001b[1m \u001b[0m\u001b[1mLoss\u001b[0m\u001b[1m \u001b[0m|\u001b[1m \u001b[0m\u001b[1m                  \u001b[0m|\n",
              "|------+------+-------------------|\n",
              "|  0   |  0   | 4.016060829162598 |\n",
              "|  0   |  10  | 3.22076416015625  |\n",
              "|  0   |  20  | 2.7343928813934326|\n",
              "|  0   |  30  | 1.8655294179916382|\n",
              "|  0   |  40  | 3.24951434135437  |\n",
              "|  0   |  50  | 1.7755417823791504|\n",
              "|  0   |  60  | 3.555743455886841 |\n",
              "|  0   |  70  | 2.2848446369171143|\n",
              "|  0   |  80  | 1.976075291633606 |\n",
              "|  0   |  90  | 1.5909103155136108|\n",
              "|  0   | 100  | 2.5496857166290283|\n",
              "|  0   | 110  | 1.7580775022506714|\n",
              "|  0   | 120  | 1.4247454404830933|\n",
              "|  0   | 130  | 1.6442809104919434|\n",
              "|  0   | 140  | 2.146562099456787 |\n",
              "|  0   | 150  | 1.9122639894485474|\n",
              "|  0   | 160  | 1.23967707157135  |\n",
              "|  0   | 170  | 1.5415818691253662|\n",
              "|  0   | 180  | 1.6904854774475098|\n",
              "|  0   | 190  | 2.7208521366119385|\n",
              "|  0   | 200  | 2.3050968647003174|\n",
              "|  0   | 210  | 2.8559935092926025|\n",
              "|  0   | 220  | 2.1136860847473145|\n",
              "|  0   | 230  | 2.869403123855591 |\n",
              "|  0   | 240  | 1.7376301288604736|\n",
              "|  0   | 250  | 1.9555047750473022|\n",
              "|  0   | 260  | 1.7618588209152222|\n",
              "|  0   | 270  | 2.023338556289673 |\n",
              "|  0   | 280  | 1.7293027639389038|\n",
              "|  0   | 290  | 1.8467767238616943|\n",
              "|  0   | 300  | 2.252340078353882 |\n",
              "|  0   | 310  | 1.879687786102295 |\n",
              "|  0   | 320  | 1.4729256629943848|\n",
              "|  0   | 330  | 2.693469285964966 |\n",
              "|  0   | 340  | 2.1311683654785156|\n",
              "|  0   | 350  | 1.3391544818878174|\n",
              "|  0   | 360  | 2.925401210784912 |\n",
              "|  0   | 370  | 1.7668298482894897|\n",
              "|  0   | 380  | 1.5128124952316284|\n",
              "|  0   | 390  | 1.475715160369873 |\n",
              "|  0   | 400  | 2.373324394226074 |\n",
              "|  0   | 410  | 1.9199073314666748|\n",
              "|  0   | 420  | 2.4875617027282715|\n",
              "|  0   | 430  | 1.343384027481079 |\n",
              "|  0   | 440  | 1.9075069427490234|\n",
              "|  0   | 450  | 1.7584162950515747|\n",
              "|  0   | 460  | 1.4925729036331177|\n",
              "|  0   | 470  | 1.3880364894866943|\n",
              "|  0   | 480  | 1.7195565700531006|\n",
              "+---------------------------------+\n"
            ],
            "text/html": [
              "<pre style=\"white-space:pre;overflow-x:auto;line-height:normal;font-family:Menlo,'DejaVu Sans Mono',consolas,'Courier New',monospace\"><span style=\"font-style: italic\">           Training Loss           </span>\n",
              "+---------------------------------+\n",
              "|<span style=\"font-weight: bold\">Epoch </span>|<span style=\"font-weight: bold\"> Loss </span>|<span style=\"font-weight: bold\">                   </span>|\n",
              "|------+------+-------------------|\n",
              "|  0   |  0   | 4.016060829162598 |\n",
              "|  0   |  10  | 3.22076416015625  |\n",
              "|  0   |  20  | 2.7343928813934326|\n",
              "|  0   |  30  | 1.8655294179916382|\n",
              "|  0   |  40  | 3.24951434135437  |\n",
              "|  0   |  50  | 1.7755417823791504|\n",
              "|  0   |  60  | 3.555743455886841 |\n",
              "|  0   |  70  | 2.2848446369171143|\n",
              "|  0   |  80  | 1.976075291633606 |\n",
              "|  0   |  90  | 1.5909103155136108|\n",
              "|  0   | 100  | 2.5496857166290283|\n",
              "|  0   | 110  | 1.7580775022506714|\n",
              "|  0   | 120  | 1.4247454404830933|\n",
              "|  0   | 130  | 1.6442809104919434|\n",
              "|  0   | 140  | 2.146562099456787 |\n",
              "|  0   | 150  | 1.9122639894485474|\n",
              "|  0   | 160  | 1.23967707157135  |\n",
              "|  0   | 170  | 1.5415818691253662|\n",
              "|  0   | 180  | 1.6904854774475098|\n",
              "|  0   | 190  | 2.7208521366119385|\n",
              "|  0   | 200  | 2.3050968647003174|\n",
              "|  0   | 210  | 2.8559935092926025|\n",
              "|  0   | 220  | 2.1136860847473145|\n",
              "|  0   | 230  | 2.869403123855591 |\n",
              "|  0   | 240  | 1.7376301288604736|\n",
              "|  0   | 250  | 1.9555047750473022|\n",
              "|  0   | 260  | 1.7618588209152222|\n",
              "|  0   | 270  | 2.023338556289673 |\n",
              "|  0   | 280  | 1.7293027639389038|\n",
              "|  0   | 290  | 1.8467767238616943|\n",
              "|  0   | 300  | 2.252340078353882 |\n",
              "|  0   | 310  | 1.879687786102295 |\n",
              "|  0   | 320  | 1.4729256629943848|\n",
              "|  0   | 330  | 2.693469285964966 |\n",
              "|  0   | 340  | 2.1311683654785156|\n",
              "|  0   | 350  | 1.3391544818878174|\n",
              "|  0   | 360  | 2.925401210784912 |\n",
              "|  0   | 370  | 1.7668298482894897|\n",
              "|  0   | 380  | 1.5128124952316284|\n",
              "|  0   | 390  | 1.475715160369873 |\n",
              "|  0   | 400  | 2.373324394226074 |\n",
              "|  0   | 410  | 1.9199073314666748|\n",
              "|  0   | 420  | 2.4875617027282715|\n",
              "|  0   | 430  | 1.343384027481079 |\n",
              "|  0   | 440  | 1.9075069427490234|\n",
              "|  0   | 450  | 1.7584162950515747|\n",
              "|  0   | 460  | 1.4925729036331177|\n",
              "|  0   | 470  | 1.3880364894866943|\n",
              "|  0   | 480  | 1.7195565700531006|\n",
              "+---------------------------------+\n",
              "</pre>\n"
            ]
          },
          "metadata": {}
        },
        {
          "output_type": "display_data",
          "data": {
            "text/plain": [
              "Epoch:  \u001b[1;36m1\u001b[0m Steps:  \u001b[1;36m0\u001b[0m Loss:  \u001b[1;36m1.4461359977722168\u001b[0m\n"
            ],
            "text/html": [
              "<pre style=\"white-space:pre;overflow-x:auto;line-height:normal;font-family:Menlo,'DejaVu Sans Mono',consolas,'Courier New',monospace\">Epoch:  <span style=\"color: #008080; text-decoration-color: #008080; font-weight: bold\">1</span> Steps:  <span style=\"color: #008080; text-decoration-color: #008080; font-weight: bold\">0</span> Loss:  <span style=\"color: #008080; text-decoration-color: #008080; font-weight: bold\">1.4461359977722168</span>\n",
              "</pre>\n"
            ]
          },
          "metadata": {}
        },
        {
          "output_type": "display_data",
          "data": {
            "text/plain": [
              "Epoch:  \u001b[1;36m1\u001b[0m Steps:  \u001b[1;36m10\u001b[0m Loss:  \u001b[1;36m1.9275084733963013\u001b[0m\n"
            ],
            "text/html": [
              "<pre style=\"white-space:pre;overflow-x:auto;line-height:normal;font-family:Menlo,'DejaVu Sans Mono',consolas,'Courier New',monospace\">Epoch:  <span style=\"color: #008080; text-decoration-color: #008080; font-weight: bold\">1</span> Steps:  <span style=\"color: #008080; text-decoration-color: #008080; font-weight: bold\">10</span> Loss:  <span style=\"color: #008080; text-decoration-color: #008080; font-weight: bold\">1.9275084733963013</span>\n",
              "</pre>\n"
            ]
          },
          "metadata": {}
        },
        {
          "output_type": "display_data",
          "data": {
            "text/plain": [
              "Epoch:  \u001b[1;36m1\u001b[0m Steps:  \u001b[1;36m20\u001b[0m Loss:  \u001b[1;36m2.2246127128601074\u001b[0m\n"
            ],
            "text/html": [
              "<pre style=\"white-space:pre;overflow-x:auto;line-height:normal;font-family:Menlo,'DejaVu Sans Mono',consolas,'Courier New',monospace\">Epoch:  <span style=\"color: #008080; text-decoration-color: #008080; font-weight: bold\">1</span> Steps:  <span style=\"color: #008080; text-decoration-color: #008080; font-weight: bold\">20</span> Loss:  <span style=\"color: #008080; text-decoration-color: #008080; font-weight: bold\">2.2246127128601074</span>\n",
              "</pre>\n"
            ]
          },
          "metadata": {}
        },
        {
          "output_type": "display_data",
          "data": {
            "text/plain": [
              "Epoch:  \u001b[1;36m1\u001b[0m Steps:  \u001b[1;36m30\u001b[0m Loss:  \u001b[1;36m1.9285944700241089\u001b[0m\n"
            ],
            "text/html": [
              "<pre style=\"white-space:pre;overflow-x:auto;line-height:normal;font-family:Menlo,'DejaVu Sans Mono',consolas,'Courier New',monospace\">Epoch:  <span style=\"color: #008080; text-decoration-color: #008080; font-weight: bold\">1</span> Steps:  <span style=\"color: #008080; text-decoration-color: #008080; font-weight: bold\">30</span> Loss:  <span style=\"color: #008080; text-decoration-color: #008080; font-weight: bold\">1.9285944700241089</span>\n",
              "</pre>\n"
            ]
          },
          "metadata": {}
        },
        {
          "output_type": "display_data",
          "data": {
            "text/plain": [
              "Epoch:  \u001b[1;36m1\u001b[0m Steps:  \u001b[1;36m40\u001b[0m Loss:  \u001b[1;36m1.9529330730438232\u001b[0m\n"
            ],
            "text/html": [
              "<pre style=\"white-space:pre;overflow-x:auto;line-height:normal;font-family:Menlo,'DejaVu Sans Mono',consolas,'Courier New',monospace\">Epoch:  <span style=\"color: #008080; text-decoration-color: #008080; font-weight: bold\">1</span> Steps:  <span style=\"color: #008080; text-decoration-color: #008080; font-weight: bold\">40</span> Loss:  <span style=\"color: #008080; text-decoration-color: #008080; font-weight: bold\">1.9529330730438232</span>\n",
              "</pre>\n"
            ]
          },
          "metadata": {}
        },
        {
          "output_type": "display_data",
          "data": {
            "text/plain": [
              "Epoch:  \u001b[1;36m1\u001b[0m Steps:  \u001b[1;36m50\u001b[0m Loss:  \u001b[1;36m1.2453572750091553\u001b[0m\n"
            ],
            "text/html": [
              "<pre style=\"white-space:pre;overflow-x:auto;line-height:normal;font-family:Menlo,'DejaVu Sans Mono',consolas,'Courier New',monospace\">Epoch:  <span style=\"color: #008080; text-decoration-color: #008080; font-weight: bold\">1</span> Steps:  <span style=\"color: #008080; text-decoration-color: #008080; font-weight: bold\">50</span> Loss:  <span style=\"color: #008080; text-decoration-color: #008080; font-weight: bold\">1.2453572750091553</span>\n",
              "</pre>\n"
            ]
          },
          "metadata": {}
        },
        {
          "output_type": "display_data",
          "data": {
            "text/plain": [
              "Epoch:  \u001b[1;36m1\u001b[0m Steps:  \u001b[1;36m60\u001b[0m Loss:  \u001b[1;36m1.5472909212112427\u001b[0m\n"
            ],
            "text/html": [
              "<pre style=\"white-space:pre;overflow-x:auto;line-height:normal;font-family:Menlo,'DejaVu Sans Mono',consolas,'Courier New',monospace\">Epoch:  <span style=\"color: #008080; text-decoration-color: #008080; font-weight: bold\">1</span> Steps:  <span style=\"color: #008080; text-decoration-color: #008080; font-weight: bold\">60</span> Loss:  <span style=\"color: #008080; text-decoration-color: #008080; font-weight: bold\">1.5472909212112427</span>\n",
              "</pre>\n"
            ]
          },
          "metadata": {}
        },
        {
          "output_type": "display_data",
          "data": {
            "text/plain": [
              "Epoch:  \u001b[1;36m1\u001b[0m Steps:  \u001b[1;36m70\u001b[0m Loss:  \u001b[1;36m1.5437805652618408\u001b[0m\n"
            ],
            "text/html": [
              "<pre style=\"white-space:pre;overflow-x:auto;line-height:normal;font-family:Menlo,'DejaVu Sans Mono',consolas,'Courier New',monospace\">Epoch:  <span style=\"color: #008080; text-decoration-color: #008080; font-weight: bold\">1</span> Steps:  <span style=\"color: #008080; text-decoration-color: #008080; font-weight: bold\">70</span> Loss:  <span style=\"color: #008080; text-decoration-color: #008080; font-weight: bold\">1.5437805652618408</span>\n",
              "</pre>\n"
            ]
          },
          "metadata": {}
        },
        {
          "output_type": "display_data",
          "data": {
            "text/plain": [
              "Epoch:  \u001b[1;36m1\u001b[0m Steps:  \u001b[1;36m80\u001b[0m Loss:  \u001b[1;36m2.446704864501953\u001b[0m\n"
            ],
            "text/html": [
              "<pre style=\"white-space:pre;overflow-x:auto;line-height:normal;font-family:Menlo,'DejaVu Sans Mono',consolas,'Courier New',monospace\">Epoch:  <span style=\"color: #008080; text-decoration-color: #008080; font-weight: bold\">1</span> Steps:  <span style=\"color: #008080; text-decoration-color: #008080; font-weight: bold\">80</span> Loss:  <span style=\"color: #008080; text-decoration-color: #008080; font-weight: bold\">2.446704864501953</span>\n",
              "</pre>\n"
            ]
          },
          "metadata": {}
        },
        {
          "output_type": "display_data",
          "data": {
            "text/plain": [
              "Epoch:  \u001b[1;36m1\u001b[0m Steps:  \u001b[1;36m90\u001b[0m Loss:  \u001b[1;36m1.7670279741287231\u001b[0m\n"
            ],
            "text/html": [
              "<pre style=\"white-space:pre;overflow-x:auto;line-height:normal;font-family:Menlo,'DejaVu Sans Mono',consolas,'Courier New',monospace\">Epoch:  <span style=\"color: #008080; text-decoration-color: #008080; font-weight: bold\">1</span> Steps:  <span style=\"color: #008080; text-decoration-color: #008080; font-weight: bold\">90</span> Loss:  <span style=\"color: #008080; text-decoration-color: #008080; font-weight: bold\">1.7670279741287231</span>\n",
              "</pre>\n"
            ]
          },
          "metadata": {}
        },
        {
          "output_type": "display_data",
          "data": {
            "text/plain": [
              "Epoch:  \u001b[1;36m1\u001b[0m Steps:  \u001b[1;36m100\u001b[0m Loss:  \u001b[1;36m1.6115485429763794\u001b[0m\n"
            ],
            "text/html": [
              "<pre style=\"white-space:pre;overflow-x:auto;line-height:normal;font-family:Menlo,'DejaVu Sans Mono',consolas,'Courier New',monospace\">Epoch:  <span style=\"color: #008080; text-decoration-color: #008080; font-weight: bold\">1</span> Steps:  <span style=\"color: #008080; text-decoration-color: #008080; font-weight: bold\">100</span> Loss:  <span style=\"color: #008080; text-decoration-color: #008080; font-weight: bold\">1.6115485429763794</span>\n",
              "</pre>\n"
            ]
          },
          "metadata": {}
        },
        {
          "output_type": "display_data",
          "data": {
            "text/plain": [
              "Epoch:  \u001b[1;36m1\u001b[0m Steps:  \u001b[1;36m110\u001b[0m Loss:  \u001b[1;36m2.212890863418579\u001b[0m\n"
            ],
            "text/html": [
              "<pre style=\"white-space:pre;overflow-x:auto;line-height:normal;font-family:Menlo,'DejaVu Sans Mono',consolas,'Courier New',monospace\">Epoch:  <span style=\"color: #008080; text-decoration-color: #008080; font-weight: bold\">1</span> Steps:  <span style=\"color: #008080; text-decoration-color: #008080; font-weight: bold\">110</span> Loss:  <span style=\"color: #008080; text-decoration-color: #008080; font-weight: bold\">2.212890863418579</span>\n",
              "</pre>\n"
            ]
          },
          "metadata": {}
        },
        {
          "output_type": "display_data",
          "data": {
            "text/plain": [
              "Epoch:  \u001b[1;36m1\u001b[0m Steps:  \u001b[1;36m120\u001b[0m Loss:  \u001b[1;36m1.2408965826034546\u001b[0m\n"
            ],
            "text/html": [
              "<pre style=\"white-space:pre;overflow-x:auto;line-height:normal;font-family:Menlo,'DejaVu Sans Mono',consolas,'Courier New',monospace\">Epoch:  <span style=\"color: #008080; text-decoration-color: #008080; font-weight: bold\">1</span> Steps:  <span style=\"color: #008080; text-decoration-color: #008080; font-weight: bold\">120</span> Loss:  <span style=\"color: #008080; text-decoration-color: #008080; font-weight: bold\">1.2408965826034546</span>\n",
              "</pre>\n"
            ]
          },
          "metadata": {}
        },
        {
          "output_type": "display_data",
          "data": {
            "text/plain": [
              "Epoch:  \u001b[1;36m1\u001b[0m Steps:  \u001b[1;36m130\u001b[0m Loss:  \u001b[1;36m1.2307333946228027\u001b[0m\n"
            ],
            "text/html": [
              "<pre style=\"white-space:pre;overflow-x:auto;line-height:normal;font-family:Menlo,'DejaVu Sans Mono',consolas,'Courier New',monospace\">Epoch:  <span style=\"color: #008080; text-decoration-color: #008080; font-weight: bold\">1</span> Steps:  <span style=\"color: #008080; text-decoration-color: #008080; font-weight: bold\">130</span> Loss:  <span style=\"color: #008080; text-decoration-color: #008080; font-weight: bold\">1.2307333946228027</span>\n",
              "</pre>\n"
            ]
          },
          "metadata": {}
        },
        {
          "output_type": "display_data",
          "data": {
            "text/plain": [
              "Epoch:  \u001b[1;36m1\u001b[0m Steps:  \u001b[1;36m140\u001b[0m Loss:  \u001b[1;36m2.8881490230560303\u001b[0m\n"
            ],
            "text/html": [
              "<pre style=\"white-space:pre;overflow-x:auto;line-height:normal;font-family:Menlo,'DejaVu Sans Mono',consolas,'Courier New',monospace\">Epoch:  <span style=\"color: #008080; text-decoration-color: #008080; font-weight: bold\">1</span> Steps:  <span style=\"color: #008080; text-decoration-color: #008080; font-weight: bold\">140</span> Loss:  <span style=\"color: #008080; text-decoration-color: #008080; font-weight: bold\">2.8881490230560303</span>\n",
              "</pre>\n"
            ]
          },
          "metadata": {}
        },
        {
          "output_type": "display_data",
          "data": {
            "text/plain": [
              "Epoch:  \u001b[1;36m1\u001b[0m Steps:  \u001b[1;36m150\u001b[0m Loss:  \u001b[1;36m1.8926855325698853\u001b[0m\n"
            ],
            "text/html": [
              "<pre style=\"white-space:pre;overflow-x:auto;line-height:normal;font-family:Menlo,'DejaVu Sans Mono',consolas,'Courier New',monospace\">Epoch:  <span style=\"color: #008080; text-decoration-color: #008080; font-weight: bold\">1</span> Steps:  <span style=\"color: #008080; text-decoration-color: #008080; font-weight: bold\">150</span> Loss:  <span style=\"color: #008080; text-decoration-color: #008080; font-weight: bold\">1.8926855325698853</span>\n",
              "</pre>\n"
            ]
          },
          "metadata": {}
        },
        {
          "output_type": "display_data",
          "data": {
            "text/plain": [
              "Epoch:  \u001b[1;36m1\u001b[0m Steps:  \u001b[1;36m160\u001b[0m Loss:  \u001b[1;36m2.2674474716186523\u001b[0m\n"
            ],
            "text/html": [
              "<pre style=\"white-space:pre;overflow-x:auto;line-height:normal;font-family:Menlo,'DejaVu Sans Mono',consolas,'Courier New',monospace\">Epoch:  <span style=\"color: #008080; text-decoration-color: #008080; font-weight: bold\">1</span> Steps:  <span style=\"color: #008080; text-decoration-color: #008080; font-weight: bold\">160</span> Loss:  <span style=\"color: #008080; text-decoration-color: #008080; font-weight: bold\">2.2674474716186523</span>\n",
              "</pre>\n"
            ]
          },
          "metadata": {}
        },
        {
          "output_type": "display_data",
          "data": {
            "text/plain": [
              "Epoch:  \u001b[1;36m1\u001b[0m Steps:  \u001b[1;36m170\u001b[0m Loss:  \u001b[1;36m2.161273717880249\u001b[0m\n"
            ],
            "text/html": [
              "<pre style=\"white-space:pre;overflow-x:auto;line-height:normal;font-family:Menlo,'DejaVu Sans Mono',consolas,'Courier New',monospace\">Epoch:  <span style=\"color: #008080; text-decoration-color: #008080; font-weight: bold\">1</span> Steps:  <span style=\"color: #008080; text-decoration-color: #008080; font-weight: bold\">170</span> Loss:  <span style=\"color: #008080; text-decoration-color: #008080; font-weight: bold\">2.161273717880249</span>\n",
              "</pre>\n"
            ]
          },
          "metadata": {}
        },
        {
          "output_type": "display_data",
          "data": {
            "text/plain": [
              "Epoch:  \u001b[1;36m1\u001b[0m Steps:  \u001b[1;36m180\u001b[0m Loss:  \u001b[1;36m2.2879717350006104\u001b[0m\n"
            ],
            "text/html": [
              "<pre style=\"white-space:pre;overflow-x:auto;line-height:normal;font-family:Menlo,'DejaVu Sans Mono',consolas,'Courier New',monospace\">Epoch:  <span style=\"color: #008080; text-decoration-color: #008080; font-weight: bold\">1</span> Steps:  <span style=\"color: #008080; text-decoration-color: #008080; font-weight: bold\">180</span> Loss:  <span style=\"color: #008080; text-decoration-color: #008080; font-weight: bold\">2.2879717350006104</span>\n",
              "</pre>\n"
            ]
          },
          "metadata": {}
        },
        {
          "output_type": "display_data",
          "data": {
            "text/plain": [
              "Epoch:  \u001b[1;36m1\u001b[0m Steps:  \u001b[1;36m190\u001b[0m Loss:  \u001b[1;36m1.7936896085739136\u001b[0m\n"
            ],
            "text/html": [
              "<pre style=\"white-space:pre;overflow-x:auto;line-height:normal;font-family:Menlo,'DejaVu Sans Mono',consolas,'Courier New',monospace\">Epoch:  <span style=\"color: #008080; text-decoration-color: #008080; font-weight: bold\">1</span> Steps:  <span style=\"color: #008080; text-decoration-color: #008080; font-weight: bold\">190</span> Loss:  <span style=\"color: #008080; text-decoration-color: #008080; font-weight: bold\">1.7936896085739136</span>\n",
              "</pre>\n"
            ]
          },
          "metadata": {}
        },
        {
          "output_type": "display_data",
          "data": {
            "text/plain": [
              "Epoch:  \u001b[1;36m1\u001b[0m Steps:  \u001b[1;36m200\u001b[0m Loss:  \u001b[1;36m1.988856315612793\u001b[0m\n"
            ],
            "text/html": [
              "<pre style=\"white-space:pre;overflow-x:auto;line-height:normal;font-family:Menlo,'DejaVu Sans Mono',consolas,'Courier New',monospace\">Epoch:  <span style=\"color: #008080; text-decoration-color: #008080; font-weight: bold\">1</span> Steps:  <span style=\"color: #008080; text-decoration-color: #008080; font-weight: bold\">200</span> Loss:  <span style=\"color: #008080; text-decoration-color: #008080; font-weight: bold\">1.988856315612793</span>\n",
              "</pre>\n"
            ]
          },
          "metadata": {}
        },
        {
          "output_type": "display_data",
          "data": {
            "text/plain": [
              "Epoch:  \u001b[1;36m1\u001b[0m Steps:  \u001b[1;36m210\u001b[0m Loss:  \u001b[1;36m1.656369924545288\u001b[0m\n"
            ],
            "text/html": [
              "<pre style=\"white-space:pre;overflow-x:auto;line-height:normal;font-family:Menlo,'DejaVu Sans Mono',consolas,'Courier New',monospace\">Epoch:  <span style=\"color: #008080; text-decoration-color: #008080; font-weight: bold\">1</span> Steps:  <span style=\"color: #008080; text-decoration-color: #008080; font-weight: bold\">210</span> Loss:  <span style=\"color: #008080; text-decoration-color: #008080; font-weight: bold\">1.656369924545288</span>\n",
              "</pre>\n"
            ]
          },
          "metadata": {}
        },
        {
          "output_type": "display_data",
          "data": {
            "text/plain": [
              "Epoch:  \u001b[1;36m1\u001b[0m Steps:  \u001b[1;36m220\u001b[0m Loss:  \u001b[1;36m1.497516393661499\u001b[0m\n"
            ],
            "text/html": [
              "<pre style=\"white-space:pre;overflow-x:auto;line-height:normal;font-family:Menlo,'DejaVu Sans Mono',consolas,'Courier New',monospace\">Epoch:  <span style=\"color: #008080; text-decoration-color: #008080; font-weight: bold\">1</span> Steps:  <span style=\"color: #008080; text-decoration-color: #008080; font-weight: bold\">220</span> Loss:  <span style=\"color: #008080; text-decoration-color: #008080; font-weight: bold\">1.497516393661499</span>\n",
              "</pre>\n"
            ]
          },
          "metadata": {}
        },
        {
          "output_type": "display_data",
          "data": {
            "text/plain": [
              "Epoch:  \u001b[1;36m1\u001b[0m Steps:  \u001b[1;36m230\u001b[0m Loss:  \u001b[1;36m1.966086983680725\u001b[0m\n"
            ],
            "text/html": [
              "<pre style=\"white-space:pre;overflow-x:auto;line-height:normal;font-family:Menlo,'DejaVu Sans Mono',consolas,'Courier New',monospace\">Epoch:  <span style=\"color: #008080; text-decoration-color: #008080; font-weight: bold\">1</span> Steps:  <span style=\"color: #008080; text-decoration-color: #008080; font-weight: bold\">230</span> Loss:  <span style=\"color: #008080; text-decoration-color: #008080; font-weight: bold\">1.966086983680725</span>\n",
              "</pre>\n"
            ]
          },
          "metadata": {}
        },
        {
          "output_type": "display_data",
          "data": {
            "text/plain": [
              "Epoch:  \u001b[1;36m1\u001b[0m Steps:  \u001b[1;36m240\u001b[0m Loss:  \u001b[1;36m2.002518653869629\u001b[0m\n"
            ],
            "text/html": [
              "<pre style=\"white-space:pre;overflow-x:auto;line-height:normal;font-family:Menlo,'DejaVu Sans Mono',consolas,'Courier New',monospace\">Epoch:  <span style=\"color: #008080; text-decoration-color: #008080; font-weight: bold\">1</span> Steps:  <span style=\"color: #008080; text-decoration-color: #008080; font-weight: bold\">240</span> Loss:  <span style=\"color: #008080; text-decoration-color: #008080; font-weight: bold\">2.002518653869629</span>\n",
              "</pre>\n"
            ]
          },
          "metadata": {}
        },
        {
          "output_type": "display_data",
          "data": {
            "text/plain": [
              "Epoch:  \u001b[1;36m1\u001b[0m Steps:  \u001b[1;36m250\u001b[0m Loss:  \u001b[1;36m3.6491522789001465\u001b[0m\n"
            ],
            "text/html": [
              "<pre style=\"white-space:pre;overflow-x:auto;line-height:normal;font-family:Menlo,'DejaVu Sans Mono',consolas,'Courier New',monospace\">Epoch:  <span style=\"color: #008080; text-decoration-color: #008080; font-weight: bold\">1</span> Steps:  <span style=\"color: #008080; text-decoration-color: #008080; font-weight: bold\">250</span> Loss:  <span style=\"color: #008080; text-decoration-color: #008080; font-weight: bold\">3.6491522789001465</span>\n",
              "</pre>\n"
            ]
          },
          "metadata": {}
        },
        {
          "output_type": "display_data",
          "data": {
            "text/plain": [
              "Epoch:  \u001b[1;36m1\u001b[0m Steps:  \u001b[1;36m260\u001b[0m Loss:  \u001b[1;36m1.330169916152954\u001b[0m\n"
            ],
            "text/html": [
              "<pre style=\"white-space:pre;overflow-x:auto;line-height:normal;font-family:Menlo,'DejaVu Sans Mono',consolas,'Courier New',monospace\">Epoch:  <span style=\"color: #008080; text-decoration-color: #008080; font-weight: bold\">1</span> Steps:  <span style=\"color: #008080; text-decoration-color: #008080; font-weight: bold\">260</span> Loss:  <span style=\"color: #008080; text-decoration-color: #008080; font-weight: bold\">1.330169916152954</span>\n",
              "</pre>\n"
            ]
          },
          "metadata": {}
        },
        {
          "output_type": "display_data",
          "data": {
            "text/plain": [
              "Epoch:  \u001b[1;36m1\u001b[0m Steps:  \u001b[1;36m270\u001b[0m Loss:  \u001b[1;36m2.310492753982544\u001b[0m\n"
            ],
            "text/html": [
              "<pre style=\"white-space:pre;overflow-x:auto;line-height:normal;font-family:Menlo,'DejaVu Sans Mono',consolas,'Courier New',monospace\">Epoch:  <span style=\"color: #008080; text-decoration-color: #008080; font-weight: bold\">1</span> Steps:  <span style=\"color: #008080; text-decoration-color: #008080; font-weight: bold\">270</span> Loss:  <span style=\"color: #008080; text-decoration-color: #008080; font-weight: bold\">2.310492753982544</span>\n",
              "</pre>\n"
            ]
          },
          "metadata": {}
        },
        {
          "output_type": "display_data",
          "data": {
            "text/plain": [
              "Epoch:  \u001b[1;36m1\u001b[0m Steps:  \u001b[1;36m280\u001b[0m Loss:  \u001b[1;36m2.384262800216675\u001b[0m\n"
            ],
            "text/html": [
              "<pre style=\"white-space:pre;overflow-x:auto;line-height:normal;font-family:Menlo,'DejaVu Sans Mono',consolas,'Courier New',monospace\">Epoch:  <span style=\"color: #008080; text-decoration-color: #008080; font-weight: bold\">1</span> Steps:  <span style=\"color: #008080; text-decoration-color: #008080; font-weight: bold\">280</span> Loss:  <span style=\"color: #008080; text-decoration-color: #008080; font-weight: bold\">2.384262800216675</span>\n",
              "</pre>\n"
            ]
          },
          "metadata": {}
        },
        {
          "output_type": "display_data",
          "data": {
            "text/plain": [
              "Epoch:  \u001b[1;36m1\u001b[0m Steps:  \u001b[1;36m290\u001b[0m Loss:  \u001b[1;36m2.902256488800049\u001b[0m\n"
            ],
            "text/html": [
              "<pre style=\"white-space:pre;overflow-x:auto;line-height:normal;font-family:Menlo,'DejaVu Sans Mono',consolas,'Courier New',monospace\">Epoch:  <span style=\"color: #008080; text-decoration-color: #008080; font-weight: bold\">1</span> Steps:  <span style=\"color: #008080; text-decoration-color: #008080; font-weight: bold\">290</span> Loss:  <span style=\"color: #008080; text-decoration-color: #008080; font-weight: bold\">2.902256488800049</span>\n",
              "</pre>\n"
            ]
          },
          "metadata": {}
        },
        {
          "output_type": "display_data",
          "data": {
            "text/plain": [
              "Epoch:  \u001b[1;36m1\u001b[0m Steps:  \u001b[1;36m300\u001b[0m Loss:  \u001b[1;36m2.6746082305908203\u001b[0m\n"
            ],
            "text/html": [
              "<pre style=\"white-space:pre;overflow-x:auto;line-height:normal;font-family:Menlo,'DejaVu Sans Mono',consolas,'Courier New',monospace\">Epoch:  <span style=\"color: #008080; text-decoration-color: #008080; font-weight: bold\">1</span> Steps:  <span style=\"color: #008080; text-decoration-color: #008080; font-weight: bold\">300</span> Loss:  <span style=\"color: #008080; text-decoration-color: #008080; font-weight: bold\">2.6746082305908203</span>\n",
              "</pre>\n"
            ]
          },
          "metadata": {}
        },
        {
          "output_type": "display_data",
          "data": {
            "text/plain": [
              "Epoch:  \u001b[1;36m1\u001b[0m Steps:  \u001b[1;36m310\u001b[0m Loss:  \u001b[1;36m1.4161866903305054\u001b[0m\n"
            ],
            "text/html": [
              "<pre style=\"white-space:pre;overflow-x:auto;line-height:normal;font-family:Menlo,'DejaVu Sans Mono',consolas,'Courier New',monospace\">Epoch:  <span style=\"color: #008080; text-decoration-color: #008080; font-weight: bold\">1</span> Steps:  <span style=\"color: #008080; text-decoration-color: #008080; font-weight: bold\">310</span> Loss:  <span style=\"color: #008080; text-decoration-color: #008080; font-weight: bold\">1.4161866903305054</span>\n",
              "</pre>\n"
            ]
          },
          "metadata": {}
        },
        {
          "output_type": "display_data",
          "data": {
            "text/plain": [
              "Epoch:  \u001b[1;36m1\u001b[0m Steps:  \u001b[1;36m320\u001b[0m Loss:  \u001b[1;36m1.0451866388320923\u001b[0m\n"
            ],
            "text/html": [
              "<pre style=\"white-space:pre;overflow-x:auto;line-height:normal;font-family:Menlo,'DejaVu Sans Mono',consolas,'Courier New',monospace\">Epoch:  <span style=\"color: #008080; text-decoration-color: #008080; font-weight: bold\">1</span> Steps:  <span style=\"color: #008080; text-decoration-color: #008080; font-weight: bold\">320</span> Loss:  <span style=\"color: #008080; text-decoration-color: #008080; font-weight: bold\">1.0451866388320923</span>\n",
              "</pre>\n"
            ]
          },
          "metadata": {}
        },
        {
          "output_type": "display_data",
          "data": {
            "text/plain": [
              "Epoch:  \u001b[1;36m1\u001b[0m Steps:  \u001b[1;36m330\u001b[0m Loss:  \u001b[1;36m2.3288238048553467\u001b[0m\n"
            ],
            "text/html": [
              "<pre style=\"white-space:pre;overflow-x:auto;line-height:normal;font-family:Menlo,'DejaVu Sans Mono',consolas,'Courier New',monospace\">Epoch:  <span style=\"color: #008080; text-decoration-color: #008080; font-weight: bold\">1</span> Steps:  <span style=\"color: #008080; text-decoration-color: #008080; font-weight: bold\">330</span> Loss:  <span style=\"color: #008080; text-decoration-color: #008080; font-weight: bold\">2.3288238048553467</span>\n",
              "</pre>\n"
            ]
          },
          "metadata": {}
        },
        {
          "output_type": "display_data",
          "data": {
            "text/plain": [
              "Epoch:  \u001b[1;36m1\u001b[0m Steps:  \u001b[1;36m340\u001b[0m Loss:  \u001b[1;36m3.366163730621338\u001b[0m\n"
            ],
            "text/html": [
              "<pre style=\"white-space:pre;overflow-x:auto;line-height:normal;font-family:Menlo,'DejaVu Sans Mono',consolas,'Courier New',monospace\">Epoch:  <span style=\"color: #008080; text-decoration-color: #008080; font-weight: bold\">1</span> Steps:  <span style=\"color: #008080; text-decoration-color: #008080; font-weight: bold\">340</span> Loss:  <span style=\"color: #008080; text-decoration-color: #008080; font-weight: bold\">3.366163730621338</span>\n",
              "</pre>\n"
            ]
          },
          "metadata": {}
        },
        {
          "output_type": "display_data",
          "data": {
            "text/plain": [
              "Epoch:  \u001b[1;36m1\u001b[0m Steps:  \u001b[1;36m350\u001b[0m Loss:  \u001b[1;36m1.9519201517105103\u001b[0m\n"
            ],
            "text/html": [
              "<pre style=\"white-space:pre;overflow-x:auto;line-height:normal;font-family:Menlo,'DejaVu Sans Mono',consolas,'Courier New',monospace\">Epoch:  <span style=\"color: #008080; text-decoration-color: #008080; font-weight: bold\">1</span> Steps:  <span style=\"color: #008080; text-decoration-color: #008080; font-weight: bold\">350</span> Loss:  <span style=\"color: #008080; text-decoration-color: #008080; font-weight: bold\">1.9519201517105103</span>\n",
              "</pre>\n"
            ]
          },
          "metadata": {}
        },
        {
          "output_type": "display_data",
          "data": {
            "text/plain": [
              "Epoch:  \u001b[1;36m1\u001b[0m Steps:  \u001b[1;36m360\u001b[0m Loss:  \u001b[1;36m1.925811767578125\u001b[0m\n"
            ],
            "text/html": [
              "<pre style=\"white-space:pre;overflow-x:auto;line-height:normal;font-family:Menlo,'DejaVu Sans Mono',consolas,'Courier New',monospace\">Epoch:  <span style=\"color: #008080; text-decoration-color: #008080; font-weight: bold\">1</span> Steps:  <span style=\"color: #008080; text-decoration-color: #008080; font-weight: bold\">360</span> Loss:  <span style=\"color: #008080; text-decoration-color: #008080; font-weight: bold\">1.925811767578125</span>\n",
              "</pre>\n"
            ]
          },
          "metadata": {}
        },
        {
          "output_type": "display_data",
          "data": {
            "text/plain": [
              "Epoch:  \u001b[1;36m1\u001b[0m Steps:  \u001b[1;36m370\u001b[0m Loss:  \u001b[1;36m2.164268732070923\u001b[0m\n"
            ],
            "text/html": [
              "<pre style=\"white-space:pre;overflow-x:auto;line-height:normal;font-family:Menlo,'DejaVu Sans Mono',consolas,'Courier New',monospace\">Epoch:  <span style=\"color: #008080; text-decoration-color: #008080; font-weight: bold\">1</span> Steps:  <span style=\"color: #008080; text-decoration-color: #008080; font-weight: bold\">370</span> Loss:  <span style=\"color: #008080; text-decoration-color: #008080; font-weight: bold\">2.164268732070923</span>\n",
              "</pre>\n"
            ]
          },
          "metadata": {}
        },
        {
          "output_type": "display_data",
          "data": {
            "text/plain": [
              "Epoch:  \u001b[1;36m1\u001b[0m Steps:  \u001b[1;36m380\u001b[0m Loss:  \u001b[1;36m1.7563221454620361\u001b[0m\n"
            ],
            "text/html": [
              "<pre style=\"white-space:pre;overflow-x:auto;line-height:normal;font-family:Menlo,'DejaVu Sans Mono',consolas,'Courier New',monospace\">Epoch:  <span style=\"color: #008080; text-decoration-color: #008080; font-weight: bold\">1</span> Steps:  <span style=\"color: #008080; text-decoration-color: #008080; font-weight: bold\">380</span> Loss:  <span style=\"color: #008080; text-decoration-color: #008080; font-weight: bold\">1.7563221454620361</span>\n",
              "</pre>\n"
            ]
          },
          "metadata": {}
        },
        {
          "output_type": "display_data",
          "data": {
            "text/plain": [
              "Epoch:  \u001b[1;36m1\u001b[0m Steps:  \u001b[1;36m390\u001b[0m Loss:  \u001b[1;36m3.116511821746826\u001b[0m\n"
            ],
            "text/html": [
              "<pre style=\"white-space:pre;overflow-x:auto;line-height:normal;font-family:Menlo,'DejaVu Sans Mono',consolas,'Courier New',monospace\">Epoch:  <span style=\"color: #008080; text-decoration-color: #008080; font-weight: bold\">1</span> Steps:  <span style=\"color: #008080; text-decoration-color: #008080; font-weight: bold\">390</span> Loss:  <span style=\"color: #008080; text-decoration-color: #008080; font-weight: bold\">3.116511821746826</span>\n",
              "</pre>\n"
            ]
          },
          "metadata": {}
        },
        {
          "output_type": "display_data",
          "data": {
            "text/plain": [
              "Epoch:  \u001b[1;36m1\u001b[0m Steps:  \u001b[1;36m400\u001b[0m Loss:  \u001b[1;36m1.4872103929519653\u001b[0m\n"
            ],
            "text/html": [
              "<pre style=\"white-space:pre;overflow-x:auto;line-height:normal;font-family:Menlo,'DejaVu Sans Mono',consolas,'Courier New',monospace\">Epoch:  <span style=\"color: #008080; text-decoration-color: #008080; font-weight: bold\">1</span> Steps:  <span style=\"color: #008080; text-decoration-color: #008080; font-weight: bold\">400</span> Loss:  <span style=\"color: #008080; text-decoration-color: #008080; font-weight: bold\">1.4872103929519653</span>\n",
              "</pre>\n"
            ]
          },
          "metadata": {}
        },
        {
          "output_type": "display_data",
          "data": {
            "text/plain": [
              "Epoch:  \u001b[1;36m1\u001b[0m Steps:  \u001b[1;36m410\u001b[0m Loss:  \u001b[1;36m1.6644805669784546\u001b[0m\n"
            ],
            "text/html": [
              "<pre style=\"white-space:pre;overflow-x:auto;line-height:normal;font-family:Menlo,'DejaVu Sans Mono',consolas,'Courier New',monospace\">Epoch:  <span style=\"color: #008080; text-decoration-color: #008080; font-weight: bold\">1</span> Steps:  <span style=\"color: #008080; text-decoration-color: #008080; font-weight: bold\">410</span> Loss:  <span style=\"color: #008080; text-decoration-color: #008080; font-weight: bold\">1.6644805669784546</span>\n",
              "</pre>\n"
            ]
          },
          "metadata": {}
        },
        {
          "output_type": "display_data",
          "data": {
            "text/plain": [
              "Epoch:  \u001b[1;36m1\u001b[0m Steps:  \u001b[1;36m420\u001b[0m Loss:  \u001b[1;36m1.2860852479934692\u001b[0m\n"
            ],
            "text/html": [
              "<pre style=\"white-space:pre;overflow-x:auto;line-height:normal;font-family:Menlo,'DejaVu Sans Mono',consolas,'Courier New',monospace\">Epoch:  <span style=\"color: #008080; text-decoration-color: #008080; font-weight: bold\">1</span> Steps:  <span style=\"color: #008080; text-decoration-color: #008080; font-weight: bold\">420</span> Loss:  <span style=\"color: #008080; text-decoration-color: #008080; font-weight: bold\">1.2860852479934692</span>\n",
              "</pre>\n"
            ]
          },
          "metadata": {}
        },
        {
          "output_type": "display_data",
          "data": {
            "text/plain": [
              "Epoch:  \u001b[1;36m1\u001b[0m Steps:  \u001b[1;36m430\u001b[0m Loss:  \u001b[1;36m2.292686939239502\u001b[0m\n"
            ],
            "text/html": [
              "<pre style=\"white-space:pre;overflow-x:auto;line-height:normal;font-family:Menlo,'DejaVu Sans Mono',consolas,'Courier New',monospace\">Epoch:  <span style=\"color: #008080; text-decoration-color: #008080; font-weight: bold\">1</span> Steps:  <span style=\"color: #008080; text-decoration-color: #008080; font-weight: bold\">430</span> Loss:  <span style=\"color: #008080; text-decoration-color: #008080; font-weight: bold\">2.292686939239502</span>\n",
              "</pre>\n"
            ]
          },
          "metadata": {}
        },
        {
          "output_type": "display_data",
          "data": {
            "text/plain": [
              "Epoch:  \u001b[1;36m1\u001b[0m Steps:  \u001b[1;36m440\u001b[0m Loss:  \u001b[1;36m2.136239528656006\u001b[0m\n"
            ],
            "text/html": [
              "<pre style=\"white-space:pre;overflow-x:auto;line-height:normal;font-family:Menlo,'DejaVu Sans Mono',consolas,'Courier New',monospace\">Epoch:  <span style=\"color: #008080; text-decoration-color: #008080; font-weight: bold\">1</span> Steps:  <span style=\"color: #008080; text-decoration-color: #008080; font-weight: bold\">440</span> Loss:  <span style=\"color: #008080; text-decoration-color: #008080; font-weight: bold\">2.136239528656006</span>\n",
              "</pre>\n"
            ]
          },
          "metadata": {}
        },
        {
          "output_type": "display_data",
          "data": {
            "text/plain": [
              "Epoch:  \u001b[1;36m1\u001b[0m Steps:  \u001b[1;36m450\u001b[0m Loss:  \u001b[1;36m1.8112547397613525\u001b[0m\n"
            ],
            "text/html": [
              "<pre style=\"white-space:pre;overflow-x:auto;line-height:normal;font-family:Menlo,'DejaVu Sans Mono',consolas,'Courier New',monospace\">Epoch:  <span style=\"color: #008080; text-decoration-color: #008080; font-weight: bold\">1</span> Steps:  <span style=\"color: #008080; text-decoration-color: #008080; font-weight: bold\">450</span> Loss:  <span style=\"color: #008080; text-decoration-color: #008080; font-weight: bold\">1.8112547397613525</span>\n",
              "</pre>\n"
            ]
          },
          "metadata": {}
        },
        {
          "output_type": "display_data",
          "data": {
            "text/plain": [
              "Epoch:  \u001b[1;36m1\u001b[0m Steps:  \u001b[1;36m460\u001b[0m Loss:  \u001b[1;36m1.3463020324707031\u001b[0m\n"
            ],
            "text/html": [
              "<pre style=\"white-space:pre;overflow-x:auto;line-height:normal;font-family:Menlo,'DejaVu Sans Mono',consolas,'Courier New',monospace\">Epoch:  <span style=\"color: #008080; text-decoration-color: #008080; font-weight: bold\">1</span> Steps:  <span style=\"color: #008080; text-decoration-color: #008080; font-weight: bold\">460</span> Loss:  <span style=\"color: #008080; text-decoration-color: #008080; font-weight: bold\">1.3463020324707031</span>\n",
              "</pre>\n"
            ]
          },
          "metadata": {}
        },
        {
          "output_type": "display_data",
          "data": {
            "text/plain": [
              "Epoch:  \u001b[1;36m1\u001b[0m Steps:  \u001b[1;36m470\u001b[0m Loss:  \u001b[1;36m1.1890486478805542\u001b[0m\n"
            ],
            "text/html": [
              "<pre style=\"white-space:pre;overflow-x:auto;line-height:normal;font-family:Menlo,'DejaVu Sans Mono',consolas,'Courier New',monospace\">Epoch:  <span style=\"color: #008080; text-decoration-color: #008080; font-weight: bold\">1</span> Steps:  <span style=\"color: #008080; text-decoration-color: #008080; font-weight: bold\">470</span> Loss:  <span style=\"color: #008080; text-decoration-color: #008080; font-weight: bold\">1.1890486478805542</span>\n",
              "</pre>\n"
            ]
          },
          "metadata": {}
        },
        {
          "output_type": "display_data",
          "data": {
            "text/plain": [
              "Epoch:  \u001b[1;36m1\u001b[0m Steps:  \u001b[1;36m480\u001b[0m Loss:  \u001b[1;36m2.5795247554779053\u001b[0m\n"
            ],
            "text/html": [
              "<pre style=\"white-space:pre;overflow-x:auto;line-height:normal;font-family:Menlo,'DejaVu Sans Mono',consolas,'Courier New',monospace\">Epoch:  <span style=\"color: #008080; text-decoration-color: #008080; font-weight: bold\">1</span> Steps:  <span style=\"color: #008080; text-decoration-color: #008080; font-weight: bold\">480</span> Loss:  <span style=\"color: #008080; text-decoration-color: #008080; font-weight: bold\">2.5795247554779053</span>\n",
              "</pre>\n"
            ]
          },
          "metadata": {}
        },
        {
          "output_type": "display_data",
          "data": {
            "text/plain": [
              "\u001b[3m           Training Loss           \u001b[0m\n",
              "+---------------------------------+\n",
              "|\u001b[1mEpoch\u001b[0m\u001b[1m \u001b[0m|\u001b[1m \u001b[0m\u001b[1mLoss\u001b[0m\u001b[1m \u001b[0m|\u001b[1m \u001b[0m\u001b[1m                  \u001b[0m|\n",
              "|------+------+-------------------|\n",
              "|  0   |  0   | 4.016060829162598 |\n",
              "|  0   |  10  | 3.22076416015625  |\n",
              "|  0   |  20  | 2.7343928813934326|\n",
              "|  0   |  30  | 1.8655294179916382|\n",
              "|  0   |  40  | 3.24951434135437  |\n",
              "|  0   |  50  | 1.7755417823791504|\n",
              "|  0   |  60  | 3.555743455886841 |\n",
              "|  0   |  70  | 2.2848446369171143|\n",
              "|  0   |  80  | 1.976075291633606 |\n",
              "|  0   |  90  | 1.5909103155136108|\n",
              "|  0   | 100  | 2.5496857166290283|\n",
              "|  0   | 110  | 1.7580775022506714|\n",
              "|  0   | 120  | 1.4247454404830933|\n",
              "|  0   | 130  | 1.6442809104919434|\n",
              "|  0   | 140  | 2.146562099456787 |\n",
              "|  0   | 150  | 1.9122639894485474|\n",
              "|  0   | 160  | 1.23967707157135  |\n",
              "|  0   | 170  | 1.5415818691253662|\n",
              "|  0   | 180  | 1.6904854774475098|\n",
              "|  0   | 190  | 2.7208521366119385|\n",
              "|  0   | 200  | 2.3050968647003174|\n",
              "|  0   | 210  | 2.8559935092926025|\n",
              "|  0   | 220  | 2.1136860847473145|\n",
              "|  0   | 230  | 2.869403123855591 |\n",
              "|  0   | 240  | 1.7376301288604736|\n",
              "|  0   | 250  | 1.9555047750473022|\n",
              "|  0   | 260  | 1.7618588209152222|\n",
              "|  0   | 270  | 2.023338556289673 |\n",
              "|  0   | 280  | 1.7293027639389038|\n",
              "|  0   | 290  | 1.8467767238616943|\n",
              "|  0   | 300  | 2.252340078353882 |\n",
              "|  0   | 310  | 1.879687786102295 |\n",
              "|  0   | 320  | 1.4729256629943848|\n",
              "|  0   | 330  | 2.693469285964966 |\n",
              "|  0   | 340  | 2.1311683654785156|\n",
              "|  0   | 350  | 1.3391544818878174|\n",
              "|  0   | 360  | 2.925401210784912 |\n",
              "|  0   | 370  | 1.7668298482894897|\n",
              "|  0   | 380  | 1.5128124952316284|\n",
              "|  0   | 390  | 1.475715160369873 |\n",
              "|  0   | 400  | 2.373324394226074 |\n",
              "|  0   | 410  | 1.9199073314666748|\n",
              "|  0   | 420  | 2.4875617027282715|\n",
              "|  0   | 430  | 1.343384027481079 |\n",
              "|  0   | 440  | 1.9075069427490234|\n",
              "|  0   | 450  | 1.7584162950515747|\n",
              "|  0   | 460  | 1.4925729036331177|\n",
              "|  0   | 470  | 1.3880364894866943|\n",
              "|  0   | 480  | 1.7195565700531006|\n",
              "|  1   |  0   | 1.4461359977722168|\n",
              "|  1   |  10  | 1.9275084733963013|\n",
              "|  1   |  20  | 2.2246127128601074|\n",
              "|  1   |  30  | 1.9285944700241089|\n",
              "|  1   |  40  | 1.9529330730438232|\n",
              "|  1   |  50  | 1.2453572750091553|\n",
              "|  1   |  60  | 1.5472909212112427|\n",
              "|  1   |  70  | 1.5437805652618408|\n",
              "|  1   |  80  | 2.446704864501953 |\n",
              "|  1   |  90  | 1.7670279741287231|\n",
              "|  1   | 100  | 1.6115485429763794|\n",
              "|  1   | 110  | 2.212890863418579 |\n",
              "|  1   | 120  | 1.2408965826034546|\n",
              "|  1   | 130  | 1.2307333946228027|\n",
              "|  1   | 140  | 2.8881490230560303|\n",
              "|  1   | 150  | 1.8926855325698853|\n",
              "|  1   | 160  | 2.2674474716186523|\n",
              "|  1   | 170  | 2.161273717880249 |\n",
              "|  1   | 180  | 2.2879717350006104|\n",
              "|  1   | 190  | 1.7936896085739136|\n",
              "|  1   | 200  | 1.988856315612793 |\n",
              "|  1   | 210  | 1.656369924545288 |\n",
              "|  1   | 220  | 1.497516393661499 |\n",
              "|  1   | 230  | 1.966086983680725 |\n",
              "|  1   | 240  | 2.002518653869629 |\n",
              "|  1   | 250  | 3.6491522789001465|\n",
              "|  1   | 260  | 1.330169916152954 |\n",
              "|  1   | 270  | 2.310492753982544 |\n",
              "|  1   | 280  | 2.384262800216675 |\n",
              "|  1   | 290  | 2.902256488800049 |\n",
              "|  1   | 300  | 2.6746082305908203|\n",
              "|  1   | 310  | 1.4161866903305054|\n",
              "|  1   | 320  | 1.0451866388320923|\n",
              "|  1   | 330  | 2.3288238048553467|\n",
              "|  1   | 340  | 3.366163730621338 |\n",
              "|  1   | 350  | 1.9519201517105103|\n",
              "|  1   | 360  | 1.925811767578125 |\n",
              "|  1   | 370  | 2.164268732070923 |\n",
              "|  1   | 380  | 1.7563221454620361|\n",
              "|  1   | 390  | 3.116511821746826 |\n",
              "|  1   | 400  | 1.4872103929519653|\n",
              "|  1   | 410  | 1.6644805669784546|\n",
              "|  1   | 420  | 1.2860852479934692|\n",
              "|  1   | 430  | 2.292686939239502 |\n",
              "|  1   | 440  | 2.136239528656006 |\n",
              "|  1   | 450  | 1.8112547397613525|\n",
              "|  1   | 460  | 1.3463020324707031|\n",
              "|  1   | 470  | 1.1890486478805542|\n",
              "|  1   | 480  | 2.5795247554779053|\n",
              "+---------------------------------+\n"
            ],
            "text/html": [
              "<pre style=\"white-space:pre;overflow-x:auto;line-height:normal;font-family:Menlo,'DejaVu Sans Mono',consolas,'Courier New',monospace\"><span style=\"font-style: italic\">           Training Loss           </span>\n",
              "+---------------------------------+\n",
              "|<span style=\"font-weight: bold\">Epoch </span>|<span style=\"font-weight: bold\"> Loss </span>|<span style=\"font-weight: bold\">                   </span>|\n",
              "|------+------+-------------------|\n",
              "|  0   |  0   | 4.016060829162598 |\n",
              "|  0   |  10  | 3.22076416015625  |\n",
              "|  0   |  20  | 2.7343928813934326|\n",
              "|  0   |  30  | 1.8655294179916382|\n",
              "|  0   |  40  | 3.24951434135437  |\n",
              "|  0   |  50  | 1.7755417823791504|\n",
              "|  0   |  60  | 3.555743455886841 |\n",
              "|  0   |  70  | 2.2848446369171143|\n",
              "|  0   |  80  | 1.976075291633606 |\n",
              "|  0   |  90  | 1.5909103155136108|\n",
              "|  0   | 100  | 2.5496857166290283|\n",
              "|  0   | 110  | 1.7580775022506714|\n",
              "|  0   | 120  | 1.4247454404830933|\n",
              "|  0   | 130  | 1.6442809104919434|\n",
              "|  0   | 140  | 2.146562099456787 |\n",
              "|  0   | 150  | 1.9122639894485474|\n",
              "|  0   | 160  | 1.23967707157135  |\n",
              "|  0   | 170  | 1.5415818691253662|\n",
              "|  0   | 180  | 1.6904854774475098|\n",
              "|  0   | 190  | 2.7208521366119385|\n",
              "|  0   | 200  | 2.3050968647003174|\n",
              "|  0   | 210  | 2.8559935092926025|\n",
              "|  0   | 220  | 2.1136860847473145|\n",
              "|  0   | 230  | 2.869403123855591 |\n",
              "|  0   | 240  | 1.7376301288604736|\n",
              "|  0   | 250  | 1.9555047750473022|\n",
              "|  0   | 260  | 1.7618588209152222|\n",
              "|  0   | 270  | 2.023338556289673 |\n",
              "|  0   | 280  | 1.7293027639389038|\n",
              "|  0   | 290  | 1.8467767238616943|\n",
              "|  0   | 300  | 2.252340078353882 |\n",
              "|  0   | 310  | 1.879687786102295 |\n",
              "|  0   | 320  | 1.4729256629943848|\n",
              "|  0   | 330  | 2.693469285964966 |\n",
              "|  0   | 340  | 2.1311683654785156|\n",
              "|  0   | 350  | 1.3391544818878174|\n",
              "|  0   | 360  | 2.925401210784912 |\n",
              "|  0   | 370  | 1.7668298482894897|\n",
              "|  0   | 380  | 1.5128124952316284|\n",
              "|  0   | 390  | 1.475715160369873 |\n",
              "|  0   | 400  | 2.373324394226074 |\n",
              "|  0   | 410  | 1.9199073314666748|\n",
              "|  0   | 420  | 2.4875617027282715|\n",
              "|  0   | 430  | 1.343384027481079 |\n",
              "|  0   | 440  | 1.9075069427490234|\n",
              "|  0   | 450  | 1.7584162950515747|\n",
              "|  0   | 460  | 1.4925729036331177|\n",
              "|  0   | 470  | 1.3880364894866943|\n",
              "|  0   | 480  | 1.7195565700531006|\n",
              "|  1   |  0   | 1.4461359977722168|\n",
              "|  1   |  10  | 1.9275084733963013|\n",
              "|  1   |  20  | 2.2246127128601074|\n",
              "|  1   |  30  | 1.9285944700241089|\n",
              "|  1   |  40  | 1.9529330730438232|\n",
              "|  1   |  50  | 1.2453572750091553|\n",
              "|  1   |  60  | 1.5472909212112427|\n",
              "|  1   |  70  | 1.5437805652618408|\n",
              "|  1   |  80  | 2.446704864501953 |\n",
              "|  1   |  90  | 1.7670279741287231|\n",
              "|  1   | 100  | 1.6115485429763794|\n",
              "|  1   | 110  | 2.212890863418579 |\n",
              "|  1   | 120  | 1.2408965826034546|\n",
              "|  1   | 130  | 1.2307333946228027|\n",
              "|  1   | 140  | 2.8881490230560303|\n",
              "|  1   | 150  | 1.8926855325698853|\n",
              "|  1   | 160  | 2.2674474716186523|\n",
              "|  1   | 170  | 2.161273717880249 |\n",
              "|  1   | 180  | 2.2879717350006104|\n",
              "|  1   | 190  | 1.7936896085739136|\n",
              "|  1   | 200  | 1.988856315612793 |\n",
              "|  1   | 210  | 1.656369924545288 |\n",
              "|  1   | 220  | 1.497516393661499 |\n",
              "|  1   | 230  | 1.966086983680725 |\n",
              "|  1   | 240  | 2.002518653869629 |\n",
              "|  1   | 250  | 3.6491522789001465|\n",
              "|  1   | 260  | 1.330169916152954 |\n",
              "|  1   | 270  | 2.310492753982544 |\n",
              "|  1   | 280  | 2.384262800216675 |\n",
              "|  1   | 290  | 2.902256488800049 |\n",
              "|  1   | 300  | 2.6746082305908203|\n",
              "|  1   | 310  | 1.4161866903305054|\n",
              "|  1   | 320  | 1.0451866388320923|\n",
              "|  1   | 330  | 2.3288238048553467|\n",
              "|  1   | 340  | 3.366163730621338 |\n",
              "|  1   | 350  | 1.9519201517105103|\n",
              "|  1   | 360  | 1.925811767578125 |\n",
              "|  1   | 370  | 2.164268732070923 |\n",
              "|  1   | 380  | 1.7563221454620361|\n",
              "|  1   | 390  | 3.116511821746826 |\n",
              "|  1   | 400  | 1.4872103929519653|\n",
              "|  1   | 410  | 1.6644805669784546|\n",
              "|  1   | 420  | 1.2860852479934692|\n",
              "|  1   | 430  | 2.292686939239502 |\n",
              "|  1   | 440  | 2.136239528656006 |\n",
              "|  1   | 450  | 1.8112547397613525|\n",
              "|  1   | 460  | 1.3463020324707031|\n",
              "|  1   | 470  | 1.1890486478805542|\n",
              "|  1   | 480  | 2.5795247554779053|\n",
              "+---------------------------------+\n",
              "</pre>\n"
            ]
          },
          "metadata": {}
        },
        {
          "output_type": "display_data",
          "data": {
            "text/plain": [
              "Epoch:  \u001b[1;36m2\u001b[0m Steps:  \u001b[1;36m0\u001b[0m Loss:  \u001b[1;36m1.321027159690857\u001b[0m\n"
            ],
            "text/html": [
              "<pre style=\"white-space:pre;overflow-x:auto;line-height:normal;font-family:Menlo,'DejaVu Sans Mono',consolas,'Courier New',monospace\">Epoch:  <span style=\"color: #008080; text-decoration-color: #008080; font-weight: bold\">2</span> Steps:  <span style=\"color: #008080; text-decoration-color: #008080; font-weight: bold\">0</span> Loss:  <span style=\"color: #008080; text-decoration-color: #008080; font-weight: bold\">1.321027159690857</span>\n",
              "</pre>\n"
            ]
          },
          "metadata": {}
        },
        {
          "output_type": "display_data",
          "data": {
            "text/plain": [
              "Epoch:  \u001b[1;36m2\u001b[0m Steps:  \u001b[1;36m10\u001b[0m Loss:  \u001b[1;36m0.7093322277069092\u001b[0m\n"
            ],
            "text/html": [
              "<pre style=\"white-space:pre;overflow-x:auto;line-height:normal;font-family:Menlo,'DejaVu Sans Mono',consolas,'Courier New',monospace\">Epoch:  <span style=\"color: #008080; text-decoration-color: #008080; font-weight: bold\">2</span> Steps:  <span style=\"color: #008080; text-decoration-color: #008080; font-weight: bold\">10</span> Loss:  <span style=\"color: #008080; text-decoration-color: #008080; font-weight: bold\">0.7093322277069092</span>\n",
              "</pre>\n"
            ]
          },
          "metadata": {}
        },
        {
          "output_type": "display_data",
          "data": {
            "text/plain": [
              "Epoch:  \u001b[1;36m2\u001b[0m Steps:  \u001b[1;36m20\u001b[0m Loss:  \u001b[1;36m0.9365379214286804\u001b[0m\n"
            ],
            "text/html": [
              "<pre style=\"white-space:pre;overflow-x:auto;line-height:normal;font-family:Menlo,'DejaVu Sans Mono',consolas,'Courier New',monospace\">Epoch:  <span style=\"color: #008080; text-decoration-color: #008080; font-weight: bold\">2</span> Steps:  <span style=\"color: #008080; text-decoration-color: #008080; font-weight: bold\">20</span> Loss:  <span style=\"color: #008080; text-decoration-color: #008080; font-weight: bold\">0.9365379214286804</span>\n",
              "</pre>\n"
            ]
          },
          "metadata": {}
        },
        {
          "output_type": "display_data",
          "data": {
            "text/plain": [
              "Epoch:  \u001b[1;36m2\u001b[0m Steps:  \u001b[1;36m30\u001b[0m Loss:  \u001b[1;36m2.225428819656372\u001b[0m\n"
            ],
            "text/html": [
              "<pre style=\"white-space:pre;overflow-x:auto;line-height:normal;font-family:Menlo,'DejaVu Sans Mono',consolas,'Courier New',monospace\">Epoch:  <span style=\"color: #008080; text-decoration-color: #008080; font-weight: bold\">2</span> Steps:  <span style=\"color: #008080; text-decoration-color: #008080; font-weight: bold\">30</span> Loss:  <span style=\"color: #008080; text-decoration-color: #008080; font-weight: bold\">2.225428819656372</span>\n",
              "</pre>\n"
            ]
          },
          "metadata": {}
        },
        {
          "output_type": "display_data",
          "data": {
            "text/plain": [
              "Epoch:  \u001b[1;36m2\u001b[0m Steps:  \u001b[1;36m40\u001b[0m Loss:  \u001b[1;36m1.2149299383163452\u001b[0m\n"
            ],
            "text/html": [
              "<pre style=\"white-space:pre;overflow-x:auto;line-height:normal;font-family:Menlo,'DejaVu Sans Mono',consolas,'Courier New',monospace\">Epoch:  <span style=\"color: #008080; text-decoration-color: #008080; font-weight: bold\">2</span> Steps:  <span style=\"color: #008080; text-decoration-color: #008080; font-weight: bold\">40</span> Loss:  <span style=\"color: #008080; text-decoration-color: #008080; font-weight: bold\">1.2149299383163452</span>\n",
              "</pre>\n"
            ]
          },
          "metadata": {}
        },
        {
          "output_type": "display_data",
          "data": {
            "text/plain": [
              "Epoch:  \u001b[1;36m2\u001b[0m Steps:  \u001b[1;36m50\u001b[0m Loss:  \u001b[1;36m1.8651467561721802\u001b[0m\n"
            ],
            "text/html": [
              "<pre style=\"white-space:pre;overflow-x:auto;line-height:normal;font-family:Menlo,'DejaVu Sans Mono',consolas,'Courier New',monospace\">Epoch:  <span style=\"color: #008080; text-decoration-color: #008080; font-weight: bold\">2</span> Steps:  <span style=\"color: #008080; text-decoration-color: #008080; font-weight: bold\">50</span> Loss:  <span style=\"color: #008080; text-decoration-color: #008080; font-weight: bold\">1.8651467561721802</span>\n",
              "</pre>\n"
            ]
          },
          "metadata": {}
        },
        {
          "output_type": "display_data",
          "data": {
            "text/plain": [
              "Epoch:  \u001b[1;36m2\u001b[0m Steps:  \u001b[1;36m60\u001b[0m Loss:  \u001b[1;36m1.736762285232544\u001b[0m\n"
            ],
            "text/html": [
              "<pre style=\"white-space:pre;overflow-x:auto;line-height:normal;font-family:Menlo,'DejaVu Sans Mono',consolas,'Courier New',monospace\">Epoch:  <span style=\"color: #008080; text-decoration-color: #008080; font-weight: bold\">2</span> Steps:  <span style=\"color: #008080; text-decoration-color: #008080; font-weight: bold\">60</span> Loss:  <span style=\"color: #008080; text-decoration-color: #008080; font-weight: bold\">1.736762285232544</span>\n",
              "</pre>\n"
            ]
          },
          "metadata": {}
        },
        {
          "output_type": "display_data",
          "data": {
            "text/plain": [
              "Epoch:  \u001b[1;36m2\u001b[0m Steps:  \u001b[1;36m70\u001b[0m Loss:  \u001b[1;36m1.1976228952407837\u001b[0m\n"
            ],
            "text/html": [
              "<pre style=\"white-space:pre;overflow-x:auto;line-height:normal;font-family:Menlo,'DejaVu Sans Mono',consolas,'Courier New',monospace\">Epoch:  <span style=\"color: #008080; text-decoration-color: #008080; font-weight: bold\">2</span> Steps:  <span style=\"color: #008080; text-decoration-color: #008080; font-weight: bold\">70</span> Loss:  <span style=\"color: #008080; text-decoration-color: #008080; font-weight: bold\">1.1976228952407837</span>\n",
              "</pre>\n"
            ]
          },
          "metadata": {}
        },
        {
          "output_type": "display_data",
          "data": {
            "text/plain": [
              "Epoch:  \u001b[1;36m2\u001b[0m Steps:  \u001b[1;36m80\u001b[0m Loss:  \u001b[1;36m1.5973012447357178\u001b[0m\n"
            ],
            "text/html": [
              "<pre style=\"white-space:pre;overflow-x:auto;line-height:normal;font-family:Menlo,'DejaVu Sans Mono',consolas,'Courier New',monospace\">Epoch:  <span style=\"color: #008080; text-decoration-color: #008080; font-weight: bold\">2</span> Steps:  <span style=\"color: #008080; text-decoration-color: #008080; font-weight: bold\">80</span> Loss:  <span style=\"color: #008080; text-decoration-color: #008080; font-weight: bold\">1.5973012447357178</span>\n",
              "</pre>\n"
            ]
          },
          "metadata": {}
        },
        {
          "output_type": "display_data",
          "data": {
            "text/plain": [
              "Epoch:  \u001b[1;36m2\u001b[0m Steps:  \u001b[1;36m90\u001b[0m Loss:  \u001b[1;36m2.2447590827941895\u001b[0m\n"
            ],
            "text/html": [
              "<pre style=\"white-space:pre;overflow-x:auto;line-height:normal;font-family:Menlo,'DejaVu Sans Mono',consolas,'Courier New',monospace\">Epoch:  <span style=\"color: #008080; text-decoration-color: #008080; font-weight: bold\">2</span> Steps:  <span style=\"color: #008080; text-decoration-color: #008080; font-weight: bold\">90</span> Loss:  <span style=\"color: #008080; text-decoration-color: #008080; font-weight: bold\">2.2447590827941895</span>\n",
              "</pre>\n"
            ]
          },
          "metadata": {}
        },
        {
          "output_type": "display_data",
          "data": {
            "text/plain": [
              "Epoch:  \u001b[1;36m2\u001b[0m Steps:  \u001b[1;36m100\u001b[0m Loss:  \u001b[1;36m1.4583749771118164\u001b[0m\n"
            ],
            "text/html": [
              "<pre style=\"white-space:pre;overflow-x:auto;line-height:normal;font-family:Menlo,'DejaVu Sans Mono',consolas,'Courier New',monospace\">Epoch:  <span style=\"color: #008080; text-decoration-color: #008080; font-weight: bold\">2</span> Steps:  <span style=\"color: #008080; text-decoration-color: #008080; font-weight: bold\">100</span> Loss:  <span style=\"color: #008080; text-decoration-color: #008080; font-weight: bold\">1.4583749771118164</span>\n",
              "</pre>\n"
            ]
          },
          "metadata": {}
        },
        {
          "output_type": "display_data",
          "data": {
            "text/plain": [
              "Epoch:  \u001b[1;36m2\u001b[0m Steps:  \u001b[1;36m110\u001b[0m Loss:  \u001b[1;36m1.5087214708328247\u001b[0m\n"
            ],
            "text/html": [
              "<pre style=\"white-space:pre;overflow-x:auto;line-height:normal;font-family:Menlo,'DejaVu Sans Mono',consolas,'Courier New',monospace\">Epoch:  <span style=\"color: #008080; text-decoration-color: #008080; font-weight: bold\">2</span> Steps:  <span style=\"color: #008080; text-decoration-color: #008080; font-weight: bold\">110</span> Loss:  <span style=\"color: #008080; text-decoration-color: #008080; font-weight: bold\">1.5087214708328247</span>\n",
              "</pre>\n"
            ]
          },
          "metadata": {}
        },
        {
          "output_type": "display_data",
          "data": {
            "text/plain": [
              "Epoch:  \u001b[1;36m2\u001b[0m Steps:  \u001b[1;36m120\u001b[0m Loss:  \u001b[1;36m1.4030853509902954\u001b[0m\n"
            ],
            "text/html": [
              "<pre style=\"white-space:pre;overflow-x:auto;line-height:normal;font-family:Menlo,'DejaVu Sans Mono',consolas,'Courier New',monospace\">Epoch:  <span style=\"color: #008080; text-decoration-color: #008080; font-weight: bold\">2</span> Steps:  <span style=\"color: #008080; text-decoration-color: #008080; font-weight: bold\">120</span> Loss:  <span style=\"color: #008080; text-decoration-color: #008080; font-weight: bold\">1.4030853509902954</span>\n",
              "</pre>\n"
            ]
          },
          "metadata": {}
        },
        {
          "output_type": "display_data",
          "data": {
            "text/plain": [
              "Epoch:  \u001b[1;36m2\u001b[0m Steps:  \u001b[1;36m130\u001b[0m Loss:  \u001b[1;36m2.3922536373138428\u001b[0m\n"
            ],
            "text/html": [
              "<pre style=\"white-space:pre;overflow-x:auto;line-height:normal;font-family:Menlo,'DejaVu Sans Mono',consolas,'Courier New',monospace\">Epoch:  <span style=\"color: #008080; text-decoration-color: #008080; font-weight: bold\">2</span> Steps:  <span style=\"color: #008080; text-decoration-color: #008080; font-weight: bold\">130</span> Loss:  <span style=\"color: #008080; text-decoration-color: #008080; font-weight: bold\">2.3922536373138428</span>\n",
              "</pre>\n"
            ]
          },
          "metadata": {}
        },
        {
          "output_type": "display_data",
          "data": {
            "text/plain": [
              "Epoch:  \u001b[1;36m2\u001b[0m Steps:  \u001b[1;36m140\u001b[0m Loss:  \u001b[1;36m1.289352536201477\u001b[0m\n"
            ],
            "text/html": [
              "<pre style=\"white-space:pre;overflow-x:auto;line-height:normal;font-family:Menlo,'DejaVu Sans Mono',consolas,'Courier New',monospace\">Epoch:  <span style=\"color: #008080; text-decoration-color: #008080; font-weight: bold\">2</span> Steps:  <span style=\"color: #008080; text-decoration-color: #008080; font-weight: bold\">140</span> Loss:  <span style=\"color: #008080; text-decoration-color: #008080; font-weight: bold\">1.289352536201477</span>\n",
              "</pre>\n"
            ]
          },
          "metadata": {}
        },
        {
          "output_type": "display_data",
          "data": {
            "text/plain": [
              "Epoch:  \u001b[1;36m2\u001b[0m Steps:  \u001b[1;36m150\u001b[0m Loss:  \u001b[1;36m1.1156247854232788\u001b[0m\n"
            ],
            "text/html": [
              "<pre style=\"white-space:pre;overflow-x:auto;line-height:normal;font-family:Menlo,'DejaVu Sans Mono',consolas,'Courier New',monospace\">Epoch:  <span style=\"color: #008080; text-decoration-color: #008080; font-weight: bold\">2</span> Steps:  <span style=\"color: #008080; text-decoration-color: #008080; font-weight: bold\">150</span> Loss:  <span style=\"color: #008080; text-decoration-color: #008080; font-weight: bold\">1.1156247854232788</span>\n",
              "</pre>\n"
            ]
          },
          "metadata": {}
        },
        {
          "output_type": "display_data",
          "data": {
            "text/plain": [
              "Epoch:  \u001b[1;36m2\u001b[0m Steps:  \u001b[1;36m160\u001b[0m Loss:  \u001b[1;36m1.2643883228302002\u001b[0m\n"
            ],
            "text/html": [
              "<pre style=\"white-space:pre;overflow-x:auto;line-height:normal;font-family:Menlo,'DejaVu Sans Mono',consolas,'Courier New',monospace\">Epoch:  <span style=\"color: #008080; text-decoration-color: #008080; font-weight: bold\">2</span> Steps:  <span style=\"color: #008080; text-decoration-color: #008080; font-weight: bold\">160</span> Loss:  <span style=\"color: #008080; text-decoration-color: #008080; font-weight: bold\">1.2643883228302002</span>\n",
              "</pre>\n"
            ]
          },
          "metadata": {}
        },
        {
          "output_type": "display_data",
          "data": {
            "text/plain": [
              "Epoch:  \u001b[1;36m2\u001b[0m Steps:  \u001b[1;36m170\u001b[0m Loss:  \u001b[1;36m1.5885089635849\u001b[0m\n"
            ],
            "text/html": [
              "<pre style=\"white-space:pre;overflow-x:auto;line-height:normal;font-family:Menlo,'DejaVu Sans Mono',consolas,'Courier New',monospace\">Epoch:  <span style=\"color: #008080; text-decoration-color: #008080; font-weight: bold\">2</span> Steps:  <span style=\"color: #008080; text-decoration-color: #008080; font-weight: bold\">170</span> Loss:  <span style=\"color: #008080; text-decoration-color: #008080; font-weight: bold\">1.5885089635849</span>\n",
              "</pre>\n"
            ]
          },
          "metadata": {}
        },
        {
          "output_type": "display_data",
          "data": {
            "text/plain": [
              "Epoch:  \u001b[1;36m2\u001b[0m Steps:  \u001b[1;36m180\u001b[0m Loss:  \u001b[1;36m1.8995630741119385\u001b[0m\n"
            ],
            "text/html": [
              "<pre style=\"white-space:pre;overflow-x:auto;line-height:normal;font-family:Menlo,'DejaVu Sans Mono',consolas,'Courier New',monospace\">Epoch:  <span style=\"color: #008080; text-decoration-color: #008080; font-weight: bold\">2</span> Steps:  <span style=\"color: #008080; text-decoration-color: #008080; font-weight: bold\">180</span> Loss:  <span style=\"color: #008080; text-decoration-color: #008080; font-weight: bold\">1.8995630741119385</span>\n",
              "</pre>\n"
            ]
          },
          "metadata": {}
        },
        {
          "output_type": "display_data",
          "data": {
            "text/plain": [
              "Epoch:  \u001b[1;36m2\u001b[0m Steps:  \u001b[1;36m190\u001b[0m Loss:  \u001b[1;36m1.4003148078918457\u001b[0m\n"
            ],
            "text/html": [
              "<pre style=\"white-space:pre;overflow-x:auto;line-height:normal;font-family:Menlo,'DejaVu Sans Mono',consolas,'Courier New',monospace\">Epoch:  <span style=\"color: #008080; text-decoration-color: #008080; font-weight: bold\">2</span> Steps:  <span style=\"color: #008080; text-decoration-color: #008080; font-weight: bold\">190</span> Loss:  <span style=\"color: #008080; text-decoration-color: #008080; font-weight: bold\">1.4003148078918457</span>\n",
              "</pre>\n"
            ]
          },
          "metadata": {}
        },
        {
          "output_type": "display_data",
          "data": {
            "text/plain": [
              "Epoch:  \u001b[1;36m2\u001b[0m Steps:  \u001b[1;36m200\u001b[0m Loss:  \u001b[1;36m2.1952266693115234\u001b[0m\n"
            ],
            "text/html": [
              "<pre style=\"white-space:pre;overflow-x:auto;line-height:normal;font-family:Menlo,'DejaVu Sans Mono',consolas,'Courier New',monospace\">Epoch:  <span style=\"color: #008080; text-decoration-color: #008080; font-weight: bold\">2</span> Steps:  <span style=\"color: #008080; text-decoration-color: #008080; font-weight: bold\">200</span> Loss:  <span style=\"color: #008080; text-decoration-color: #008080; font-weight: bold\">2.1952266693115234</span>\n",
              "</pre>\n"
            ]
          },
          "metadata": {}
        },
        {
          "output_type": "display_data",
          "data": {
            "text/plain": [
              "Epoch:  \u001b[1;36m2\u001b[0m Steps:  \u001b[1;36m210\u001b[0m Loss:  \u001b[1;36m1.4933209419250488\u001b[0m\n"
            ],
            "text/html": [
              "<pre style=\"white-space:pre;overflow-x:auto;line-height:normal;font-family:Menlo,'DejaVu Sans Mono',consolas,'Courier New',monospace\">Epoch:  <span style=\"color: #008080; text-decoration-color: #008080; font-weight: bold\">2</span> Steps:  <span style=\"color: #008080; text-decoration-color: #008080; font-weight: bold\">210</span> Loss:  <span style=\"color: #008080; text-decoration-color: #008080; font-weight: bold\">1.4933209419250488</span>\n",
              "</pre>\n"
            ]
          },
          "metadata": {}
        },
        {
          "output_type": "display_data",
          "data": {
            "text/plain": [
              "Epoch:  \u001b[1;36m2\u001b[0m Steps:  \u001b[1;36m220\u001b[0m Loss:  \u001b[1;36m1.6398682594299316\u001b[0m\n"
            ],
            "text/html": [
              "<pre style=\"white-space:pre;overflow-x:auto;line-height:normal;font-family:Menlo,'DejaVu Sans Mono',consolas,'Courier New',monospace\">Epoch:  <span style=\"color: #008080; text-decoration-color: #008080; font-weight: bold\">2</span> Steps:  <span style=\"color: #008080; text-decoration-color: #008080; font-weight: bold\">220</span> Loss:  <span style=\"color: #008080; text-decoration-color: #008080; font-weight: bold\">1.6398682594299316</span>\n",
              "</pre>\n"
            ]
          },
          "metadata": {}
        },
        {
          "output_type": "display_data",
          "data": {
            "text/plain": [
              "Epoch:  \u001b[1;36m2\u001b[0m Steps:  \u001b[1;36m230\u001b[0m Loss:  \u001b[1;36m1.4704344272613525\u001b[0m\n"
            ],
            "text/html": [
              "<pre style=\"white-space:pre;overflow-x:auto;line-height:normal;font-family:Menlo,'DejaVu Sans Mono',consolas,'Courier New',monospace\">Epoch:  <span style=\"color: #008080; text-decoration-color: #008080; font-weight: bold\">2</span> Steps:  <span style=\"color: #008080; text-decoration-color: #008080; font-weight: bold\">230</span> Loss:  <span style=\"color: #008080; text-decoration-color: #008080; font-weight: bold\">1.4704344272613525</span>\n",
              "</pre>\n"
            ]
          },
          "metadata": {}
        },
        {
          "output_type": "display_data",
          "data": {
            "text/plain": [
              "Epoch:  \u001b[1;36m2\u001b[0m Steps:  \u001b[1;36m240\u001b[0m Loss:  \u001b[1;36m1.8613994121551514\u001b[0m\n"
            ],
            "text/html": [
              "<pre style=\"white-space:pre;overflow-x:auto;line-height:normal;font-family:Menlo,'DejaVu Sans Mono',consolas,'Courier New',monospace\">Epoch:  <span style=\"color: #008080; text-decoration-color: #008080; font-weight: bold\">2</span> Steps:  <span style=\"color: #008080; text-decoration-color: #008080; font-weight: bold\">240</span> Loss:  <span style=\"color: #008080; text-decoration-color: #008080; font-weight: bold\">1.8613994121551514</span>\n",
              "</pre>\n"
            ]
          },
          "metadata": {}
        },
        {
          "output_type": "display_data",
          "data": {
            "text/plain": [
              "Epoch:  \u001b[1;36m2\u001b[0m Steps:  \u001b[1;36m250\u001b[0m Loss:  \u001b[1;36m2.2227628231048584\u001b[0m\n"
            ],
            "text/html": [
              "<pre style=\"white-space:pre;overflow-x:auto;line-height:normal;font-family:Menlo,'DejaVu Sans Mono',consolas,'Courier New',monospace\">Epoch:  <span style=\"color: #008080; text-decoration-color: #008080; font-weight: bold\">2</span> Steps:  <span style=\"color: #008080; text-decoration-color: #008080; font-weight: bold\">250</span> Loss:  <span style=\"color: #008080; text-decoration-color: #008080; font-weight: bold\">2.2227628231048584</span>\n",
              "</pre>\n"
            ]
          },
          "metadata": {}
        },
        {
          "output_type": "display_data",
          "data": {
            "text/plain": [
              "Epoch:  \u001b[1;36m2\u001b[0m Steps:  \u001b[1;36m260\u001b[0m Loss:  \u001b[1;36m1.0401978492736816\u001b[0m\n"
            ],
            "text/html": [
              "<pre style=\"white-space:pre;overflow-x:auto;line-height:normal;font-family:Menlo,'DejaVu Sans Mono',consolas,'Courier New',monospace\">Epoch:  <span style=\"color: #008080; text-decoration-color: #008080; font-weight: bold\">2</span> Steps:  <span style=\"color: #008080; text-decoration-color: #008080; font-weight: bold\">260</span> Loss:  <span style=\"color: #008080; text-decoration-color: #008080; font-weight: bold\">1.0401978492736816</span>\n",
              "</pre>\n"
            ]
          },
          "metadata": {}
        },
        {
          "output_type": "display_data",
          "data": {
            "text/plain": [
              "Epoch:  \u001b[1;36m2\u001b[0m Steps:  \u001b[1;36m270\u001b[0m Loss:  \u001b[1;36m1.4994937181472778\u001b[0m\n"
            ],
            "text/html": [
              "<pre style=\"white-space:pre;overflow-x:auto;line-height:normal;font-family:Menlo,'DejaVu Sans Mono',consolas,'Courier New',monospace\">Epoch:  <span style=\"color: #008080; text-decoration-color: #008080; font-weight: bold\">2</span> Steps:  <span style=\"color: #008080; text-decoration-color: #008080; font-weight: bold\">270</span> Loss:  <span style=\"color: #008080; text-decoration-color: #008080; font-weight: bold\">1.4994937181472778</span>\n",
              "</pre>\n"
            ]
          },
          "metadata": {}
        },
        {
          "output_type": "display_data",
          "data": {
            "text/plain": [
              "Epoch:  \u001b[1;36m2\u001b[0m Steps:  \u001b[1;36m280\u001b[0m Loss:  \u001b[1;36m1.9607950448989868\u001b[0m\n"
            ],
            "text/html": [
              "<pre style=\"white-space:pre;overflow-x:auto;line-height:normal;font-family:Menlo,'DejaVu Sans Mono',consolas,'Courier New',monospace\">Epoch:  <span style=\"color: #008080; text-decoration-color: #008080; font-weight: bold\">2</span> Steps:  <span style=\"color: #008080; text-decoration-color: #008080; font-weight: bold\">280</span> Loss:  <span style=\"color: #008080; text-decoration-color: #008080; font-weight: bold\">1.9607950448989868</span>\n",
              "</pre>\n"
            ]
          },
          "metadata": {}
        },
        {
          "output_type": "display_data",
          "data": {
            "text/plain": [
              "Epoch:  \u001b[1;36m2\u001b[0m Steps:  \u001b[1;36m290\u001b[0m Loss:  \u001b[1;36m2.7210850715637207\u001b[0m\n"
            ],
            "text/html": [
              "<pre style=\"white-space:pre;overflow-x:auto;line-height:normal;font-family:Menlo,'DejaVu Sans Mono',consolas,'Courier New',monospace\">Epoch:  <span style=\"color: #008080; text-decoration-color: #008080; font-weight: bold\">2</span> Steps:  <span style=\"color: #008080; text-decoration-color: #008080; font-weight: bold\">290</span> Loss:  <span style=\"color: #008080; text-decoration-color: #008080; font-weight: bold\">2.7210850715637207</span>\n",
              "</pre>\n"
            ]
          },
          "metadata": {}
        },
        {
          "output_type": "display_data",
          "data": {
            "text/plain": [
              "Epoch:  \u001b[1;36m2\u001b[0m Steps:  \u001b[1;36m300\u001b[0m Loss:  \u001b[1;36m1.1403954029083252\u001b[0m\n"
            ],
            "text/html": [
              "<pre style=\"white-space:pre;overflow-x:auto;line-height:normal;font-family:Menlo,'DejaVu Sans Mono',consolas,'Courier New',monospace\">Epoch:  <span style=\"color: #008080; text-decoration-color: #008080; font-weight: bold\">2</span> Steps:  <span style=\"color: #008080; text-decoration-color: #008080; font-weight: bold\">300</span> Loss:  <span style=\"color: #008080; text-decoration-color: #008080; font-weight: bold\">1.1403954029083252</span>\n",
              "</pre>\n"
            ]
          },
          "metadata": {}
        },
        {
          "output_type": "display_data",
          "data": {
            "text/plain": [
              "Epoch:  \u001b[1;36m2\u001b[0m Steps:  \u001b[1;36m310\u001b[0m Loss:  \u001b[1;36m1.5371898412704468\u001b[0m\n"
            ],
            "text/html": [
              "<pre style=\"white-space:pre;overflow-x:auto;line-height:normal;font-family:Menlo,'DejaVu Sans Mono',consolas,'Courier New',monospace\">Epoch:  <span style=\"color: #008080; text-decoration-color: #008080; font-weight: bold\">2</span> Steps:  <span style=\"color: #008080; text-decoration-color: #008080; font-weight: bold\">310</span> Loss:  <span style=\"color: #008080; text-decoration-color: #008080; font-weight: bold\">1.5371898412704468</span>\n",
              "</pre>\n"
            ]
          },
          "metadata": {}
        },
        {
          "output_type": "display_data",
          "data": {
            "text/plain": [
              "Epoch:  \u001b[1;36m2\u001b[0m Steps:  \u001b[1;36m320\u001b[0m Loss:  \u001b[1;36m2.7806200981140137\u001b[0m\n"
            ],
            "text/html": [
              "<pre style=\"white-space:pre;overflow-x:auto;line-height:normal;font-family:Menlo,'DejaVu Sans Mono',consolas,'Courier New',monospace\">Epoch:  <span style=\"color: #008080; text-decoration-color: #008080; font-weight: bold\">2</span> Steps:  <span style=\"color: #008080; text-decoration-color: #008080; font-weight: bold\">320</span> Loss:  <span style=\"color: #008080; text-decoration-color: #008080; font-weight: bold\">2.7806200981140137</span>\n",
              "</pre>\n"
            ]
          },
          "metadata": {}
        },
        {
          "output_type": "display_data",
          "data": {
            "text/plain": [
              "Epoch:  \u001b[1;36m2\u001b[0m Steps:  \u001b[1;36m330\u001b[0m Loss:  \u001b[1;36m1.8619147539138794\u001b[0m\n"
            ],
            "text/html": [
              "<pre style=\"white-space:pre;overflow-x:auto;line-height:normal;font-family:Menlo,'DejaVu Sans Mono',consolas,'Courier New',monospace\">Epoch:  <span style=\"color: #008080; text-decoration-color: #008080; font-weight: bold\">2</span> Steps:  <span style=\"color: #008080; text-decoration-color: #008080; font-weight: bold\">330</span> Loss:  <span style=\"color: #008080; text-decoration-color: #008080; font-weight: bold\">1.8619147539138794</span>\n",
              "</pre>\n"
            ]
          },
          "metadata": {}
        },
        {
          "output_type": "display_data",
          "data": {
            "text/plain": [
              "Epoch:  \u001b[1;36m2\u001b[0m Steps:  \u001b[1;36m340\u001b[0m Loss:  \u001b[1;36m1.7364140748977661\u001b[0m\n"
            ],
            "text/html": [
              "<pre style=\"white-space:pre;overflow-x:auto;line-height:normal;font-family:Menlo,'DejaVu Sans Mono',consolas,'Courier New',monospace\">Epoch:  <span style=\"color: #008080; text-decoration-color: #008080; font-weight: bold\">2</span> Steps:  <span style=\"color: #008080; text-decoration-color: #008080; font-weight: bold\">340</span> Loss:  <span style=\"color: #008080; text-decoration-color: #008080; font-weight: bold\">1.7364140748977661</span>\n",
              "</pre>\n"
            ]
          },
          "metadata": {}
        },
        {
          "output_type": "display_data",
          "data": {
            "text/plain": [
              "Epoch:  \u001b[1;36m2\u001b[0m Steps:  \u001b[1;36m350\u001b[0m Loss:  \u001b[1;36m1.5270460844039917\u001b[0m\n"
            ],
            "text/html": [
              "<pre style=\"white-space:pre;overflow-x:auto;line-height:normal;font-family:Menlo,'DejaVu Sans Mono',consolas,'Courier New',monospace\">Epoch:  <span style=\"color: #008080; text-decoration-color: #008080; font-weight: bold\">2</span> Steps:  <span style=\"color: #008080; text-decoration-color: #008080; font-weight: bold\">350</span> Loss:  <span style=\"color: #008080; text-decoration-color: #008080; font-weight: bold\">1.5270460844039917</span>\n",
              "</pre>\n"
            ]
          },
          "metadata": {}
        },
        {
          "output_type": "display_data",
          "data": {
            "text/plain": [
              "Epoch:  \u001b[1;36m2\u001b[0m Steps:  \u001b[1;36m360\u001b[0m Loss:  \u001b[1;36m2.0981853008270264\u001b[0m\n"
            ],
            "text/html": [
              "<pre style=\"white-space:pre;overflow-x:auto;line-height:normal;font-family:Menlo,'DejaVu Sans Mono',consolas,'Courier New',monospace\">Epoch:  <span style=\"color: #008080; text-decoration-color: #008080; font-weight: bold\">2</span> Steps:  <span style=\"color: #008080; text-decoration-color: #008080; font-weight: bold\">360</span> Loss:  <span style=\"color: #008080; text-decoration-color: #008080; font-weight: bold\">2.0981853008270264</span>\n",
              "</pre>\n"
            ]
          },
          "metadata": {}
        },
        {
          "output_type": "display_data",
          "data": {
            "text/plain": [
              "Epoch:  \u001b[1;36m2\u001b[0m Steps:  \u001b[1;36m370\u001b[0m Loss:  \u001b[1;36m1.918500304222107\u001b[0m\n"
            ],
            "text/html": [
              "<pre style=\"white-space:pre;overflow-x:auto;line-height:normal;font-family:Menlo,'DejaVu Sans Mono',consolas,'Courier New',monospace\">Epoch:  <span style=\"color: #008080; text-decoration-color: #008080; font-weight: bold\">2</span> Steps:  <span style=\"color: #008080; text-decoration-color: #008080; font-weight: bold\">370</span> Loss:  <span style=\"color: #008080; text-decoration-color: #008080; font-weight: bold\">1.918500304222107</span>\n",
              "</pre>\n"
            ]
          },
          "metadata": {}
        },
        {
          "output_type": "display_data",
          "data": {
            "text/plain": [
              "Epoch:  \u001b[1;36m2\u001b[0m Steps:  \u001b[1;36m380\u001b[0m Loss:  \u001b[1;36m2.54180645942688\u001b[0m\n"
            ],
            "text/html": [
              "<pre style=\"white-space:pre;overflow-x:auto;line-height:normal;font-family:Menlo,'DejaVu Sans Mono',consolas,'Courier New',monospace\">Epoch:  <span style=\"color: #008080; text-decoration-color: #008080; font-weight: bold\">2</span> Steps:  <span style=\"color: #008080; text-decoration-color: #008080; font-weight: bold\">380</span> Loss:  <span style=\"color: #008080; text-decoration-color: #008080; font-weight: bold\">2.54180645942688</span>\n",
              "</pre>\n"
            ]
          },
          "metadata": {}
        },
        {
          "output_type": "display_data",
          "data": {
            "text/plain": [
              "Epoch:  \u001b[1;36m2\u001b[0m Steps:  \u001b[1;36m390\u001b[0m Loss:  \u001b[1;36m2.16631817817688\u001b[0m\n"
            ],
            "text/html": [
              "<pre style=\"white-space:pre;overflow-x:auto;line-height:normal;font-family:Menlo,'DejaVu Sans Mono',consolas,'Courier New',monospace\">Epoch:  <span style=\"color: #008080; text-decoration-color: #008080; font-weight: bold\">2</span> Steps:  <span style=\"color: #008080; text-decoration-color: #008080; font-weight: bold\">390</span> Loss:  <span style=\"color: #008080; text-decoration-color: #008080; font-weight: bold\">2.16631817817688</span>\n",
              "</pre>\n"
            ]
          },
          "metadata": {}
        },
        {
          "output_type": "display_data",
          "data": {
            "text/plain": [
              "Epoch:  \u001b[1;36m2\u001b[0m Steps:  \u001b[1;36m400\u001b[0m Loss:  \u001b[1;36m1.4754096269607544\u001b[0m\n"
            ],
            "text/html": [
              "<pre style=\"white-space:pre;overflow-x:auto;line-height:normal;font-family:Menlo,'DejaVu Sans Mono',consolas,'Courier New',monospace\">Epoch:  <span style=\"color: #008080; text-decoration-color: #008080; font-weight: bold\">2</span> Steps:  <span style=\"color: #008080; text-decoration-color: #008080; font-weight: bold\">400</span> Loss:  <span style=\"color: #008080; text-decoration-color: #008080; font-weight: bold\">1.4754096269607544</span>\n",
              "</pre>\n"
            ]
          },
          "metadata": {}
        },
        {
          "output_type": "display_data",
          "data": {
            "text/plain": [
              "Epoch:  \u001b[1;36m2\u001b[0m Steps:  \u001b[1;36m410\u001b[0m Loss:  \u001b[1;36m1.2175973653793335\u001b[0m\n"
            ],
            "text/html": [
              "<pre style=\"white-space:pre;overflow-x:auto;line-height:normal;font-family:Menlo,'DejaVu Sans Mono',consolas,'Courier New',monospace\">Epoch:  <span style=\"color: #008080; text-decoration-color: #008080; font-weight: bold\">2</span> Steps:  <span style=\"color: #008080; text-decoration-color: #008080; font-weight: bold\">410</span> Loss:  <span style=\"color: #008080; text-decoration-color: #008080; font-weight: bold\">1.2175973653793335</span>\n",
              "</pre>\n"
            ]
          },
          "metadata": {}
        },
        {
          "output_type": "display_data",
          "data": {
            "text/plain": [
              "Epoch:  \u001b[1;36m2\u001b[0m Steps:  \u001b[1;36m420\u001b[0m Loss:  \u001b[1;36m1.3877021074295044\u001b[0m\n"
            ],
            "text/html": [
              "<pre style=\"white-space:pre;overflow-x:auto;line-height:normal;font-family:Menlo,'DejaVu Sans Mono',consolas,'Courier New',monospace\">Epoch:  <span style=\"color: #008080; text-decoration-color: #008080; font-weight: bold\">2</span> Steps:  <span style=\"color: #008080; text-decoration-color: #008080; font-weight: bold\">420</span> Loss:  <span style=\"color: #008080; text-decoration-color: #008080; font-weight: bold\">1.3877021074295044</span>\n",
              "</pre>\n"
            ]
          },
          "metadata": {}
        },
        {
          "output_type": "display_data",
          "data": {
            "text/plain": [
              "Epoch:  \u001b[1;36m2\u001b[0m Steps:  \u001b[1;36m430\u001b[0m Loss:  \u001b[1;36m1.938889741897583\u001b[0m\n"
            ],
            "text/html": [
              "<pre style=\"white-space:pre;overflow-x:auto;line-height:normal;font-family:Menlo,'DejaVu Sans Mono',consolas,'Courier New',monospace\">Epoch:  <span style=\"color: #008080; text-decoration-color: #008080; font-weight: bold\">2</span> Steps:  <span style=\"color: #008080; text-decoration-color: #008080; font-weight: bold\">430</span> Loss:  <span style=\"color: #008080; text-decoration-color: #008080; font-weight: bold\">1.938889741897583</span>\n",
              "</pre>\n"
            ]
          },
          "metadata": {}
        },
        {
          "output_type": "display_data",
          "data": {
            "text/plain": [
              "Epoch:  \u001b[1;36m2\u001b[0m Steps:  \u001b[1;36m440\u001b[0m Loss:  \u001b[1;36m1.1123968362808228\u001b[0m\n"
            ],
            "text/html": [
              "<pre style=\"white-space:pre;overflow-x:auto;line-height:normal;font-family:Menlo,'DejaVu Sans Mono',consolas,'Courier New',monospace\">Epoch:  <span style=\"color: #008080; text-decoration-color: #008080; font-weight: bold\">2</span> Steps:  <span style=\"color: #008080; text-decoration-color: #008080; font-weight: bold\">440</span> Loss:  <span style=\"color: #008080; text-decoration-color: #008080; font-weight: bold\">1.1123968362808228</span>\n",
              "</pre>\n"
            ]
          },
          "metadata": {}
        },
        {
          "output_type": "display_data",
          "data": {
            "text/plain": [
              "Epoch:  \u001b[1;36m2\u001b[0m Steps:  \u001b[1;36m450\u001b[0m Loss:  \u001b[1;36m1.1042839288711548\u001b[0m\n"
            ],
            "text/html": [
              "<pre style=\"white-space:pre;overflow-x:auto;line-height:normal;font-family:Menlo,'DejaVu Sans Mono',consolas,'Courier New',monospace\">Epoch:  <span style=\"color: #008080; text-decoration-color: #008080; font-weight: bold\">2</span> Steps:  <span style=\"color: #008080; text-decoration-color: #008080; font-weight: bold\">450</span> Loss:  <span style=\"color: #008080; text-decoration-color: #008080; font-weight: bold\">1.1042839288711548</span>\n",
              "</pre>\n"
            ]
          },
          "metadata": {}
        },
        {
          "output_type": "display_data",
          "data": {
            "text/plain": [
              "Epoch:  \u001b[1;36m2\u001b[0m Steps:  \u001b[1;36m460\u001b[0m Loss:  \u001b[1;36m1.5494974851608276\u001b[0m\n"
            ],
            "text/html": [
              "<pre style=\"white-space:pre;overflow-x:auto;line-height:normal;font-family:Menlo,'DejaVu Sans Mono',consolas,'Courier New',monospace\">Epoch:  <span style=\"color: #008080; text-decoration-color: #008080; font-weight: bold\">2</span> Steps:  <span style=\"color: #008080; text-decoration-color: #008080; font-weight: bold\">460</span> Loss:  <span style=\"color: #008080; text-decoration-color: #008080; font-weight: bold\">1.5494974851608276</span>\n",
              "</pre>\n"
            ]
          },
          "metadata": {}
        },
        {
          "output_type": "display_data",
          "data": {
            "text/plain": [
              "Epoch:  \u001b[1;36m2\u001b[0m Steps:  \u001b[1;36m470\u001b[0m Loss:  \u001b[1;36m2.945237636566162\u001b[0m\n"
            ],
            "text/html": [
              "<pre style=\"white-space:pre;overflow-x:auto;line-height:normal;font-family:Menlo,'DejaVu Sans Mono',consolas,'Courier New',monospace\">Epoch:  <span style=\"color: #008080; text-decoration-color: #008080; font-weight: bold\">2</span> Steps:  <span style=\"color: #008080; text-decoration-color: #008080; font-weight: bold\">470</span> Loss:  <span style=\"color: #008080; text-decoration-color: #008080; font-weight: bold\">2.945237636566162</span>\n",
              "</pre>\n"
            ]
          },
          "metadata": {}
        },
        {
          "output_type": "display_data",
          "data": {
            "text/plain": [
              "Epoch:  \u001b[1;36m2\u001b[0m Steps:  \u001b[1;36m480\u001b[0m Loss:  \u001b[1;36m1.9628238677978516\u001b[0m\n"
            ],
            "text/html": [
              "<pre style=\"white-space:pre;overflow-x:auto;line-height:normal;font-family:Menlo,'DejaVu Sans Mono',consolas,'Courier New',monospace\">Epoch:  <span style=\"color: #008080; text-decoration-color: #008080; font-weight: bold\">2</span> Steps:  <span style=\"color: #008080; text-decoration-color: #008080; font-weight: bold\">480</span> Loss:  <span style=\"color: #008080; text-decoration-color: #008080; font-weight: bold\">1.9628238677978516</span>\n",
              "</pre>\n"
            ]
          },
          "metadata": {}
        },
        {
          "output_type": "display_data",
          "data": {
            "text/plain": [
              "\u001b[3m           Training Loss           \u001b[0m\n",
              "+---------------------------------+\n",
              "|\u001b[1mEpoch\u001b[0m\u001b[1m \u001b[0m|\u001b[1m \u001b[0m\u001b[1mLoss\u001b[0m\u001b[1m \u001b[0m|\u001b[1m \u001b[0m\u001b[1m                  \u001b[0m|\n",
              "|------+------+-------------------|\n",
              "|  0   |  0   | 4.016060829162598 |\n",
              "|  0   |  10  | 3.22076416015625  |\n",
              "|  0   |  20  | 2.7343928813934326|\n",
              "|  0   |  30  | 1.8655294179916382|\n",
              "|  0   |  40  | 3.24951434135437  |\n",
              "|  0   |  50  | 1.7755417823791504|\n",
              "|  0   |  60  | 3.555743455886841 |\n",
              "|  0   |  70  | 2.2848446369171143|\n",
              "|  0   |  80  | 1.976075291633606 |\n",
              "|  0   |  90  | 1.5909103155136108|\n",
              "|  0   | 100  | 2.5496857166290283|\n",
              "|  0   | 110  | 1.7580775022506714|\n",
              "|  0   | 120  | 1.4247454404830933|\n",
              "|  0   | 130  | 1.6442809104919434|\n",
              "|  0   | 140  | 2.146562099456787 |\n",
              "|  0   | 150  | 1.9122639894485474|\n",
              "|  0   | 160  | 1.23967707157135  |\n",
              "|  0   | 170  | 1.5415818691253662|\n",
              "|  0   | 180  | 1.6904854774475098|\n",
              "|  0   | 190  | 2.7208521366119385|\n",
              "|  0   | 200  | 2.3050968647003174|\n",
              "|  0   | 210  | 2.8559935092926025|\n",
              "|  0   | 220  | 2.1136860847473145|\n",
              "|  0   | 230  | 2.869403123855591 |\n",
              "|  0   | 240  | 1.7376301288604736|\n",
              "|  0   | 250  | 1.9555047750473022|\n",
              "|  0   | 260  | 1.7618588209152222|\n",
              "|  0   | 270  | 2.023338556289673 |\n",
              "|  0   | 280  | 1.7293027639389038|\n",
              "|  0   | 290  | 1.8467767238616943|\n",
              "|  0   | 300  | 2.252340078353882 |\n",
              "|  0   | 310  | 1.879687786102295 |\n",
              "|  0   | 320  | 1.4729256629943848|\n",
              "|  0   | 330  | 2.693469285964966 |\n",
              "|  0   | 340  | 2.1311683654785156|\n",
              "|  0   | 350  | 1.3391544818878174|\n",
              "|  0   | 360  | 2.925401210784912 |\n",
              "|  0   | 370  | 1.7668298482894897|\n",
              "|  0   | 380  | 1.5128124952316284|\n",
              "|  0   | 390  | 1.475715160369873 |\n",
              "|  0   | 400  | 2.373324394226074 |\n",
              "|  0   | 410  | 1.9199073314666748|\n",
              "|  0   | 420  | 2.4875617027282715|\n",
              "|  0   | 430  | 1.343384027481079 |\n",
              "|  0   | 440  | 1.9075069427490234|\n",
              "|  0   | 450  | 1.7584162950515747|\n",
              "|  0   | 460  | 1.4925729036331177|\n",
              "|  0   | 470  | 1.3880364894866943|\n",
              "|  0   | 480  | 1.7195565700531006|\n",
              "|  1   |  0   | 1.4461359977722168|\n",
              "|  1   |  10  | 1.9275084733963013|\n",
              "|  1   |  20  | 2.2246127128601074|\n",
              "|  1   |  30  | 1.9285944700241089|\n",
              "|  1   |  40  | 1.9529330730438232|\n",
              "|  1   |  50  | 1.2453572750091553|\n",
              "|  1   |  60  | 1.5472909212112427|\n",
              "|  1   |  70  | 1.5437805652618408|\n",
              "|  1   |  80  | 2.446704864501953 |\n",
              "|  1   |  90  | 1.7670279741287231|\n",
              "|  1   | 100  | 1.6115485429763794|\n",
              "|  1   | 110  | 2.212890863418579 |\n",
              "|  1   | 120  | 1.2408965826034546|\n",
              "|  1   | 130  | 1.2307333946228027|\n",
              "|  1   | 140  | 2.8881490230560303|\n",
              "|  1   | 150  | 1.8926855325698853|\n",
              "|  1   | 160  | 2.2674474716186523|\n",
              "|  1   | 170  | 2.161273717880249 |\n",
              "|  1   | 180  | 2.2879717350006104|\n",
              "|  1   | 190  | 1.7936896085739136|\n",
              "|  1   | 200  | 1.988856315612793 |\n",
              "|  1   | 210  | 1.656369924545288 |\n",
              "|  1   | 220  | 1.497516393661499 |\n",
              "|  1   | 230  | 1.966086983680725 |\n",
              "|  1   | 240  | 2.002518653869629 |\n",
              "|  1   | 250  | 3.6491522789001465|\n",
              "|  1   | 260  | 1.330169916152954 |\n",
              "|  1   | 270  | 2.310492753982544 |\n",
              "|  1   | 280  | 2.384262800216675 |\n",
              "|  1   | 290  | 2.902256488800049 |\n",
              "|  1   | 300  | 2.6746082305908203|\n",
              "|  1   | 310  | 1.4161866903305054|\n",
              "|  1   | 320  | 1.0451866388320923|\n",
              "|  1   | 330  | 2.3288238048553467|\n",
              "|  1   | 340  | 3.366163730621338 |\n",
              "|  1   | 350  | 1.9519201517105103|\n",
              "|  1   | 360  | 1.925811767578125 |\n",
              "|  1   | 370  | 2.164268732070923 |\n",
              "|  1   | 380  | 1.7563221454620361|\n",
              "|  1   | 390  | 3.116511821746826 |\n",
              "|  1   | 400  | 1.4872103929519653|\n",
              "|  1   | 410  | 1.6644805669784546|\n",
              "|  1   | 420  | 1.2860852479934692|\n",
              "|  1   | 430  | 2.292686939239502 |\n",
              "|  1   | 440  | 2.136239528656006 |\n",
              "|  1   | 450  | 1.8112547397613525|\n",
              "|  1   | 460  | 1.3463020324707031|\n",
              "|  1   | 470  | 1.1890486478805542|\n",
              "|  1   | 480  | 2.5795247554779053|\n",
              "|  2   |  0   | 1.321027159690857 |\n",
              "|  2   |  10  | 0.7093322277069092|\n",
              "|  2   |  20  | 0.9365379214286804|\n",
              "|  2   |  30  | 2.225428819656372 |\n",
              "|  2   |  40  | 1.2149299383163452|\n",
              "|  2   |  50  | 1.8651467561721802|\n",
              "|  2   |  60  | 1.736762285232544 |\n",
              "|  2   |  70  | 1.1976228952407837|\n",
              "|  2   |  80  | 1.5973012447357178|\n",
              "|  2   |  90  | 2.2447590827941895|\n",
              "|  2   | 100  | 1.4583749771118164|\n",
              "|  2   | 110  | 1.5087214708328247|\n",
              "|  2   | 120  | 1.4030853509902954|\n",
              "|  2   | 130  | 2.3922536373138428|\n",
              "|  2   | 140  | 1.289352536201477 |\n",
              "|  2   | 150  | 1.1156247854232788|\n",
              "|  2   | 160  | 1.2643883228302002|\n",
              "|  2   | 170  | 1.5885089635849   |\n",
              "|  2   | 180  | 1.8995630741119385|\n",
              "|  2   | 190  | 1.4003148078918457|\n",
              "|  2   | 200  | 2.1952266693115234|\n",
              "|  2   | 210  | 1.4933209419250488|\n",
              "|  2   | 220  | 1.6398682594299316|\n",
              "|  2   | 230  | 1.4704344272613525|\n",
              "|  2   | 240  | 1.8613994121551514|\n",
              "|  2   | 250  | 2.2227628231048584|\n",
              "|  2   | 260  | 1.0401978492736816|\n",
              "|  2   | 270  | 1.4994937181472778|\n",
              "|  2   | 280  | 1.9607950448989868|\n",
              "|  2   | 290  | 2.7210850715637207|\n",
              "|  2   | 300  | 1.1403954029083252|\n",
              "|  2   | 310  | 1.5371898412704468|\n",
              "|  2   | 320  | 2.7806200981140137|\n",
              "|  2   | 330  | 1.8619147539138794|\n",
              "|  2   | 340  | 1.7364140748977661|\n",
              "|  2   | 350  | 1.5270460844039917|\n",
              "|  2   | 360  | 2.0981853008270264|\n",
              "|  2   | 370  | 1.918500304222107 |\n",
              "|  2   | 380  | 2.54180645942688  |\n",
              "|  2   | 390  | 2.16631817817688  |\n",
              "|  2   | 400  | 1.4754096269607544|\n",
              "|  2   | 410  | 1.2175973653793335|\n",
              "|  2   | 420  | 1.3877021074295044|\n",
              "|  2   | 430  | 1.938889741897583 |\n",
              "|  2   | 440  | 1.1123968362808228|\n",
              "|  2   | 450  | 1.1042839288711548|\n",
              "|  2   | 460  | 1.5494974851608276|\n",
              "|  2   | 470  | 2.945237636566162 |\n",
              "|  2   | 480  | 1.9628238677978516|\n",
              "+---------------------------------+\n"
            ],
            "text/html": [
              "<pre style=\"white-space:pre;overflow-x:auto;line-height:normal;font-family:Menlo,'DejaVu Sans Mono',consolas,'Courier New',monospace\"><span style=\"font-style: italic\">           Training Loss           </span>\n",
              "+---------------------------------+\n",
              "|<span style=\"font-weight: bold\">Epoch </span>|<span style=\"font-weight: bold\"> Loss </span>|<span style=\"font-weight: bold\">                   </span>|\n",
              "|------+------+-------------------|\n",
              "|  0   |  0   | 4.016060829162598 |\n",
              "|  0   |  10  | 3.22076416015625  |\n",
              "|  0   |  20  | 2.7343928813934326|\n",
              "|  0   |  30  | 1.8655294179916382|\n",
              "|  0   |  40  | 3.24951434135437  |\n",
              "|  0   |  50  | 1.7755417823791504|\n",
              "|  0   |  60  | 3.555743455886841 |\n",
              "|  0   |  70  | 2.2848446369171143|\n",
              "|  0   |  80  | 1.976075291633606 |\n",
              "|  0   |  90  | 1.5909103155136108|\n",
              "|  0   | 100  | 2.5496857166290283|\n",
              "|  0   | 110  | 1.7580775022506714|\n",
              "|  0   | 120  | 1.4247454404830933|\n",
              "|  0   | 130  | 1.6442809104919434|\n",
              "|  0   | 140  | 2.146562099456787 |\n",
              "|  0   | 150  | 1.9122639894485474|\n",
              "|  0   | 160  | 1.23967707157135  |\n",
              "|  0   | 170  | 1.5415818691253662|\n",
              "|  0   | 180  | 1.6904854774475098|\n",
              "|  0   | 190  | 2.7208521366119385|\n",
              "|  0   | 200  | 2.3050968647003174|\n",
              "|  0   | 210  | 2.8559935092926025|\n",
              "|  0   | 220  | 2.1136860847473145|\n",
              "|  0   | 230  | 2.869403123855591 |\n",
              "|  0   | 240  | 1.7376301288604736|\n",
              "|  0   | 250  | 1.9555047750473022|\n",
              "|  0   | 260  | 1.7618588209152222|\n",
              "|  0   | 270  | 2.023338556289673 |\n",
              "|  0   | 280  | 1.7293027639389038|\n",
              "|  0   | 290  | 1.8467767238616943|\n",
              "|  0   | 300  | 2.252340078353882 |\n",
              "|  0   | 310  | 1.879687786102295 |\n",
              "|  0   | 320  | 1.4729256629943848|\n",
              "|  0   | 330  | 2.693469285964966 |\n",
              "|  0   | 340  | 2.1311683654785156|\n",
              "|  0   | 350  | 1.3391544818878174|\n",
              "|  0   | 360  | 2.925401210784912 |\n",
              "|  0   | 370  | 1.7668298482894897|\n",
              "|  0   | 380  | 1.5128124952316284|\n",
              "|  0   | 390  | 1.475715160369873 |\n",
              "|  0   | 400  | 2.373324394226074 |\n",
              "|  0   | 410  | 1.9199073314666748|\n",
              "|  0   | 420  | 2.4875617027282715|\n",
              "|  0   | 430  | 1.343384027481079 |\n",
              "|  0   | 440  | 1.9075069427490234|\n",
              "|  0   | 450  | 1.7584162950515747|\n",
              "|  0   | 460  | 1.4925729036331177|\n",
              "|  0   | 470  | 1.3880364894866943|\n",
              "|  0   | 480  | 1.7195565700531006|\n",
              "|  1   |  0   | 1.4461359977722168|\n",
              "|  1   |  10  | 1.9275084733963013|\n",
              "|  1   |  20  | 2.2246127128601074|\n",
              "|  1   |  30  | 1.9285944700241089|\n",
              "|  1   |  40  | 1.9529330730438232|\n",
              "|  1   |  50  | 1.2453572750091553|\n",
              "|  1   |  60  | 1.5472909212112427|\n",
              "|  1   |  70  | 1.5437805652618408|\n",
              "|  1   |  80  | 2.446704864501953 |\n",
              "|  1   |  90  | 1.7670279741287231|\n",
              "|  1   | 100  | 1.6115485429763794|\n",
              "|  1   | 110  | 2.212890863418579 |\n",
              "|  1   | 120  | 1.2408965826034546|\n",
              "|  1   | 130  | 1.2307333946228027|\n",
              "|  1   | 140  | 2.8881490230560303|\n",
              "|  1   | 150  | 1.8926855325698853|\n",
              "|  1   | 160  | 2.2674474716186523|\n",
              "|  1   | 170  | 2.161273717880249 |\n",
              "|  1   | 180  | 2.2879717350006104|\n",
              "|  1   | 190  | 1.7936896085739136|\n",
              "|  1   | 200  | 1.988856315612793 |\n",
              "|  1   | 210  | 1.656369924545288 |\n",
              "|  1   | 220  | 1.497516393661499 |\n",
              "|  1   | 230  | 1.966086983680725 |\n",
              "|  1   | 240  | 2.002518653869629 |\n",
              "|  1   | 250  | 3.6491522789001465|\n",
              "|  1   | 260  | 1.330169916152954 |\n",
              "|  1   | 270  | 2.310492753982544 |\n",
              "|  1   | 280  | 2.384262800216675 |\n",
              "|  1   | 290  | 2.902256488800049 |\n",
              "|  1   | 300  | 2.6746082305908203|\n",
              "|  1   | 310  | 1.4161866903305054|\n",
              "|  1   | 320  | 1.0451866388320923|\n",
              "|  1   | 330  | 2.3288238048553467|\n",
              "|  1   | 340  | 3.366163730621338 |\n",
              "|  1   | 350  | 1.9519201517105103|\n",
              "|  1   | 360  | 1.925811767578125 |\n",
              "|  1   | 370  | 2.164268732070923 |\n",
              "|  1   | 380  | 1.7563221454620361|\n",
              "|  1   | 390  | 3.116511821746826 |\n",
              "|  1   | 400  | 1.4872103929519653|\n",
              "|  1   | 410  | 1.6644805669784546|\n",
              "|  1   | 420  | 1.2860852479934692|\n",
              "|  1   | 430  | 2.292686939239502 |\n",
              "|  1   | 440  | 2.136239528656006 |\n",
              "|  1   | 450  | 1.8112547397613525|\n",
              "|  1   | 460  | 1.3463020324707031|\n",
              "|  1   | 470  | 1.1890486478805542|\n",
              "|  1   | 480  | 2.5795247554779053|\n",
              "|  2   |  0   | 1.321027159690857 |\n",
              "|  2   |  10  | 0.7093322277069092|\n",
              "|  2   |  20  | 0.9365379214286804|\n",
              "|  2   |  30  | 2.225428819656372 |\n",
              "|  2   |  40  | 1.2149299383163452|\n",
              "|  2   |  50  | 1.8651467561721802|\n",
              "|  2   |  60  | 1.736762285232544 |\n",
              "|  2   |  70  | 1.1976228952407837|\n",
              "|  2   |  80  | 1.5973012447357178|\n",
              "|  2   |  90  | 2.2447590827941895|\n",
              "|  2   | 100  | 1.4583749771118164|\n",
              "|  2   | 110  | 1.5087214708328247|\n",
              "|  2   | 120  | 1.4030853509902954|\n",
              "|  2   | 130  | 2.3922536373138428|\n",
              "|  2   | 140  | 1.289352536201477 |\n",
              "|  2   | 150  | 1.1156247854232788|\n",
              "|  2   | 160  | 1.2643883228302002|\n",
              "|  2   | 170  | 1.5885089635849   |\n",
              "|  2   | 180  | 1.8995630741119385|\n",
              "|  2   | 190  | 1.4003148078918457|\n",
              "|  2   | 200  | 2.1952266693115234|\n",
              "|  2   | 210  | 1.4933209419250488|\n",
              "|  2   | 220  | 1.6398682594299316|\n",
              "|  2   | 230  | 1.4704344272613525|\n",
              "|  2   | 240  | 1.8613994121551514|\n",
              "|  2   | 250  | 2.2227628231048584|\n",
              "|  2   | 260  | 1.0401978492736816|\n",
              "|  2   | 270  | 1.4994937181472778|\n",
              "|  2   | 280  | 1.9607950448989868|\n",
              "|  2   | 290  | 2.7210850715637207|\n",
              "|  2   | 300  | 1.1403954029083252|\n",
              "|  2   | 310  | 1.5371898412704468|\n",
              "|  2   | 320  | 2.7806200981140137|\n",
              "|  2   | 330  | 1.8619147539138794|\n",
              "|  2   | 340  | 1.7364140748977661|\n",
              "|  2   | 350  | 1.5270460844039917|\n",
              "|  2   | 360  | 2.0981853008270264|\n",
              "|  2   | 370  | 1.918500304222107 |\n",
              "|  2   | 380  | 2.54180645942688  |\n",
              "|  2   | 390  | 2.16631817817688  |\n",
              "|  2   | 400  | 1.4754096269607544|\n",
              "|  2   | 410  | 1.2175973653793335|\n",
              "|  2   | 420  | 1.3877021074295044|\n",
              "|  2   | 430  | 1.938889741897583 |\n",
              "|  2   | 440  | 1.1123968362808228|\n",
              "|  2   | 450  | 1.1042839288711548|\n",
              "|  2   | 460  | 1.5494974851608276|\n",
              "|  2   | 470  | 2.945237636566162 |\n",
              "|  2   | 480  | 1.9628238677978516|\n",
              "+---------------------------------+\n",
              "</pre>\n"
            ]
          },
          "metadata": {}
        },
        {
          "output_type": "display_data",
          "data": {
            "text/plain": [
              "Epoch:  \u001b[1;36m3\u001b[0m Steps:  \u001b[1;36m0\u001b[0m Loss:  \u001b[1;36m1.295908808708191\u001b[0m\n"
            ],
            "text/html": [
              "<pre style=\"white-space:pre;overflow-x:auto;line-height:normal;font-family:Menlo,'DejaVu Sans Mono',consolas,'Courier New',monospace\">Epoch:  <span style=\"color: #008080; text-decoration-color: #008080; font-weight: bold\">3</span> Steps:  <span style=\"color: #008080; text-decoration-color: #008080; font-weight: bold\">0</span> Loss:  <span style=\"color: #008080; text-decoration-color: #008080; font-weight: bold\">1.295908808708191</span>\n",
              "</pre>\n"
            ]
          },
          "metadata": {}
        },
        {
          "output_type": "display_data",
          "data": {
            "text/plain": [
              "Epoch:  \u001b[1;36m3\u001b[0m Steps:  \u001b[1;36m10\u001b[0m Loss:  \u001b[1;36m1.5706567764282227\u001b[0m\n"
            ],
            "text/html": [
              "<pre style=\"white-space:pre;overflow-x:auto;line-height:normal;font-family:Menlo,'DejaVu Sans Mono',consolas,'Courier New',monospace\">Epoch:  <span style=\"color: #008080; text-decoration-color: #008080; font-weight: bold\">3</span> Steps:  <span style=\"color: #008080; text-decoration-color: #008080; font-weight: bold\">10</span> Loss:  <span style=\"color: #008080; text-decoration-color: #008080; font-weight: bold\">1.5706567764282227</span>\n",
              "</pre>\n"
            ]
          },
          "metadata": {}
        },
        {
          "output_type": "display_data",
          "data": {
            "text/plain": [
              "Epoch:  \u001b[1;36m3\u001b[0m Steps:  \u001b[1;36m20\u001b[0m Loss:  \u001b[1;36m1.3342175483703613\u001b[0m\n"
            ],
            "text/html": [
              "<pre style=\"white-space:pre;overflow-x:auto;line-height:normal;font-family:Menlo,'DejaVu Sans Mono',consolas,'Courier New',monospace\">Epoch:  <span style=\"color: #008080; text-decoration-color: #008080; font-weight: bold\">3</span> Steps:  <span style=\"color: #008080; text-decoration-color: #008080; font-weight: bold\">20</span> Loss:  <span style=\"color: #008080; text-decoration-color: #008080; font-weight: bold\">1.3342175483703613</span>\n",
              "</pre>\n"
            ]
          },
          "metadata": {}
        },
        {
          "output_type": "display_data",
          "data": {
            "text/plain": [
              "Epoch:  \u001b[1;36m3\u001b[0m Steps:  \u001b[1;36m30\u001b[0m Loss:  \u001b[1;36m1.2876821756362915\u001b[0m\n"
            ],
            "text/html": [
              "<pre style=\"white-space:pre;overflow-x:auto;line-height:normal;font-family:Menlo,'DejaVu Sans Mono',consolas,'Courier New',monospace\">Epoch:  <span style=\"color: #008080; text-decoration-color: #008080; font-weight: bold\">3</span> Steps:  <span style=\"color: #008080; text-decoration-color: #008080; font-weight: bold\">30</span> Loss:  <span style=\"color: #008080; text-decoration-color: #008080; font-weight: bold\">1.2876821756362915</span>\n",
              "</pre>\n"
            ]
          },
          "metadata": {}
        },
        {
          "output_type": "display_data",
          "data": {
            "text/plain": [
              "Epoch:  \u001b[1;36m3\u001b[0m Steps:  \u001b[1;36m40\u001b[0m Loss:  \u001b[1;36m1.0918349027633667\u001b[0m\n"
            ],
            "text/html": [
              "<pre style=\"white-space:pre;overflow-x:auto;line-height:normal;font-family:Menlo,'DejaVu Sans Mono',consolas,'Courier New',monospace\">Epoch:  <span style=\"color: #008080; text-decoration-color: #008080; font-weight: bold\">3</span> Steps:  <span style=\"color: #008080; text-decoration-color: #008080; font-weight: bold\">40</span> Loss:  <span style=\"color: #008080; text-decoration-color: #008080; font-weight: bold\">1.0918349027633667</span>\n",
              "</pre>\n"
            ]
          },
          "metadata": {}
        },
        {
          "output_type": "display_data",
          "data": {
            "text/plain": [
              "Epoch:  \u001b[1;36m3\u001b[0m Steps:  \u001b[1;36m50\u001b[0m Loss:  \u001b[1;36m1.1486397981643677\u001b[0m\n"
            ],
            "text/html": [
              "<pre style=\"white-space:pre;overflow-x:auto;line-height:normal;font-family:Menlo,'DejaVu Sans Mono',consolas,'Courier New',monospace\">Epoch:  <span style=\"color: #008080; text-decoration-color: #008080; font-weight: bold\">3</span> Steps:  <span style=\"color: #008080; text-decoration-color: #008080; font-weight: bold\">50</span> Loss:  <span style=\"color: #008080; text-decoration-color: #008080; font-weight: bold\">1.1486397981643677</span>\n",
              "</pre>\n"
            ]
          },
          "metadata": {}
        },
        {
          "output_type": "display_data",
          "data": {
            "text/plain": [
              "Epoch:  \u001b[1;36m3\u001b[0m Steps:  \u001b[1;36m60\u001b[0m Loss:  \u001b[1;36m1.50021493434906\u001b[0m\n"
            ],
            "text/html": [
              "<pre style=\"white-space:pre;overflow-x:auto;line-height:normal;font-family:Menlo,'DejaVu Sans Mono',consolas,'Courier New',monospace\">Epoch:  <span style=\"color: #008080; text-decoration-color: #008080; font-weight: bold\">3</span> Steps:  <span style=\"color: #008080; text-decoration-color: #008080; font-weight: bold\">60</span> Loss:  <span style=\"color: #008080; text-decoration-color: #008080; font-weight: bold\">1.50021493434906</span>\n",
              "</pre>\n"
            ]
          },
          "metadata": {}
        },
        {
          "output_type": "display_data",
          "data": {
            "text/plain": [
              "Epoch:  \u001b[1;36m3\u001b[0m Steps:  \u001b[1;36m70\u001b[0m Loss:  \u001b[1;36m1.471283197402954\u001b[0m\n"
            ],
            "text/html": [
              "<pre style=\"white-space:pre;overflow-x:auto;line-height:normal;font-family:Menlo,'DejaVu Sans Mono',consolas,'Courier New',monospace\">Epoch:  <span style=\"color: #008080; text-decoration-color: #008080; font-weight: bold\">3</span> Steps:  <span style=\"color: #008080; text-decoration-color: #008080; font-weight: bold\">70</span> Loss:  <span style=\"color: #008080; text-decoration-color: #008080; font-weight: bold\">1.471283197402954</span>\n",
              "</pre>\n"
            ]
          },
          "metadata": {}
        },
        {
          "output_type": "display_data",
          "data": {
            "text/plain": [
              "Epoch:  \u001b[1;36m3\u001b[0m Steps:  \u001b[1;36m80\u001b[0m Loss:  \u001b[1;36m0.8850721120834351\u001b[0m\n"
            ],
            "text/html": [
              "<pre style=\"white-space:pre;overflow-x:auto;line-height:normal;font-family:Menlo,'DejaVu Sans Mono',consolas,'Courier New',monospace\">Epoch:  <span style=\"color: #008080; text-decoration-color: #008080; font-weight: bold\">3</span> Steps:  <span style=\"color: #008080; text-decoration-color: #008080; font-weight: bold\">80</span> Loss:  <span style=\"color: #008080; text-decoration-color: #008080; font-weight: bold\">0.8850721120834351</span>\n",
              "</pre>\n"
            ]
          },
          "metadata": {}
        },
        {
          "output_type": "display_data",
          "data": {
            "text/plain": [
              "Epoch:  \u001b[1;36m3\u001b[0m Steps:  \u001b[1;36m90\u001b[0m Loss:  \u001b[1;36m2.3835561275482178\u001b[0m\n"
            ],
            "text/html": [
              "<pre style=\"white-space:pre;overflow-x:auto;line-height:normal;font-family:Menlo,'DejaVu Sans Mono',consolas,'Courier New',monospace\">Epoch:  <span style=\"color: #008080; text-decoration-color: #008080; font-weight: bold\">3</span> Steps:  <span style=\"color: #008080; text-decoration-color: #008080; font-weight: bold\">90</span> Loss:  <span style=\"color: #008080; text-decoration-color: #008080; font-weight: bold\">2.3835561275482178</span>\n",
              "</pre>\n"
            ]
          },
          "metadata": {}
        },
        {
          "output_type": "display_data",
          "data": {
            "text/plain": [
              "Epoch:  \u001b[1;36m3\u001b[0m Steps:  \u001b[1;36m100\u001b[0m Loss:  \u001b[1;36m1.8806406259536743\u001b[0m\n"
            ],
            "text/html": [
              "<pre style=\"white-space:pre;overflow-x:auto;line-height:normal;font-family:Menlo,'DejaVu Sans Mono',consolas,'Courier New',monospace\">Epoch:  <span style=\"color: #008080; text-decoration-color: #008080; font-weight: bold\">3</span> Steps:  <span style=\"color: #008080; text-decoration-color: #008080; font-weight: bold\">100</span> Loss:  <span style=\"color: #008080; text-decoration-color: #008080; font-weight: bold\">1.8806406259536743</span>\n",
              "</pre>\n"
            ]
          },
          "metadata": {}
        },
        {
          "output_type": "display_data",
          "data": {
            "text/plain": [
              "Epoch:  \u001b[1;36m3\u001b[0m Steps:  \u001b[1;36m110\u001b[0m Loss:  \u001b[1;36m1.2621349096298218\u001b[0m\n"
            ],
            "text/html": [
              "<pre style=\"white-space:pre;overflow-x:auto;line-height:normal;font-family:Menlo,'DejaVu Sans Mono',consolas,'Courier New',monospace\">Epoch:  <span style=\"color: #008080; text-decoration-color: #008080; font-weight: bold\">3</span> Steps:  <span style=\"color: #008080; text-decoration-color: #008080; font-weight: bold\">110</span> Loss:  <span style=\"color: #008080; text-decoration-color: #008080; font-weight: bold\">1.2621349096298218</span>\n",
              "</pre>\n"
            ]
          },
          "metadata": {}
        },
        {
          "output_type": "display_data",
          "data": {
            "text/plain": [
              "Epoch:  \u001b[1;36m3\u001b[0m Steps:  \u001b[1;36m120\u001b[0m Loss:  \u001b[1;36m2.8190767765045166\u001b[0m\n"
            ],
            "text/html": [
              "<pre style=\"white-space:pre;overflow-x:auto;line-height:normal;font-family:Menlo,'DejaVu Sans Mono',consolas,'Courier New',monospace\">Epoch:  <span style=\"color: #008080; text-decoration-color: #008080; font-weight: bold\">3</span> Steps:  <span style=\"color: #008080; text-decoration-color: #008080; font-weight: bold\">120</span> Loss:  <span style=\"color: #008080; text-decoration-color: #008080; font-weight: bold\">2.8190767765045166</span>\n",
              "</pre>\n"
            ]
          },
          "metadata": {}
        },
        {
          "output_type": "display_data",
          "data": {
            "text/plain": [
              "Epoch:  \u001b[1;36m3\u001b[0m Steps:  \u001b[1;36m130\u001b[0m Loss:  \u001b[1;36m2.5808916091918945\u001b[0m\n"
            ],
            "text/html": [
              "<pre style=\"white-space:pre;overflow-x:auto;line-height:normal;font-family:Menlo,'DejaVu Sans Mono',consolas,'Courier New',monospace\">Epoch:  <span style=\"color: #008080; text-decoration-color: #008080; font-weight: bold\">3</span> Steps:  <span style=\"color: #008080; text-decoration-color: #008080; font-weight: bold\">130</span> Loss:  <span style=\"color: #008080; text-decoration-color: #008080; font-weight: bold\">2.5808916091918945</span>\n",
              "</pre>\n"
            ]
          },
          "metadata": {}
        },
        {
          "output_type": "display_data",
          "data": {
            "text/plain": [
              "Epoch:  \u001b[1;36m3\u001b[0m Steps:  \u001b[1;36m140\u001b[0m Loss:  \u001b[1;36m0.9439759850502014\u001b[0m\n"
            ],
            "text/html": [
              "<pre style=\"white-space:pre;overflow-x:auto;line-height:normal;font-family:Menlo,'DejaVu Sans Mono',consolas,'Courier New',monospace\">Epoch:  <span style=\"color: #008080; text-decoration-color: #008080; font-weight: bold\">3</span> Steps:  <span style=\"color: #008080; text-decoration-color: #008080; font-weight: bold\">140</span> Loss:  <span style=\"color: #008080; text-decoration-color: #008080; font-weight: bold\">0.9439759850502014</span>\n",
              "</pre>\n"
            ]
          },
          "metadata": {}
        },
        {
          "output_type": "display_data",
          "data": {
            "text/plain": [
              "Epoch:  \u001b[1;36m3\u001b[0m Steps:  \u001b[1;36m150\u001b[0m Loss:  \u001b[1;36m1.0268186330795288\u001b[0m\n"
            ],
            "text/html": [
              "<pre style=\"white-space:pre;overflow-x:auto;line-height:normal;font-family:Menlo,'DejaVu Sans Mono',consolas,'Courier New',monospace\">Epoch:  <span style=\"color: #008080; text-decoration-color: #008080; font-weight: bold\">3</span> Steps:  <span style=\"color: #008080; text-decoration-color: #008080; font-weight: bold\">150</span> Loss:  <span style=\"color: #008080; text-decoration-color: #008080; font-weight: bold\">1.0268186330795288</span>\n",
              "</pre>\n"
            ]
          },
          "metadata": {}
        },
        {
          "output_type": "display_data",
          "data": {
            "text/plain": [
              "Epoch:  \u001b[1;36m3\u001b[0m Steps:  \u001b[1;36m160\u001b[0m Loss:  \u001b[1;36m1.4327994585037231\u001b[0m\n"
            ],
            "text/html": [
              "<pre style=\"white-space:pre;overflow-x:auto;line-height:normal;font-family:Menlo,'DejaVu Sans Mono',consolas,'Courier New',monospace\">Epoch:  <span style=\"color: #008080; text-decoration-color: #008080; font-weight: bold\">3</span> Steps:  <span style=\"color: #008080; text-decoration-color: #008080; font-weight: bold\">160</span> Loss:  <span style=\"color: #008080; text-decoration-color: #008080; font-weight: bold\">1.4327994585037231</span>\n",
              "</pre>\n"
            ]
          },
          "metadata": {}
        },
        {
          "output_type": "display_data",
          "data": {
            "text/plain": [
              "Epoch:  \u001b[1;36m3\u001b[0m Steps:  \u001b[1;36m170\u001b[0m Loss:  \u001b[1;36m0.9614822268486023\u001b[0m\n"
            ],
            "text/html": [
              "<pre style=\"white-space:pre;overflow-x:auto;line-height:normal;font-family:Menlo,'DejaVu Sans Mono',consolas,'Courier New',monospace\">Epoch:  <span style=\"color: #008080; text-decoration-color: #008080; font-weight: bold\">3</span> Steps:  <span style=\"color: #008080; text-decoration-color: #008080; font-weight: bold\">170</span> Loss:  <span style=\"color: #008080; text-decoration-color: #008080; font-weight: bold\">0.9614822268486023</span>\n",
              "</pre>\n"
            ]
          },
          "metadata": {}
        },
        {
          "output_type": "display_data",
          "data": {
            "text/plain": [
              "Epoch:  \u001b[1;36m3\u001b[0m Steps:  \u001b[1;36m180\u001b[0m Loss:  \u001b[1;36m1.1837329864501953\u001b[0m\n"
            ],
            "text/html": [
              "<pre style=\"white-space:pre;overflow-x:auto;line-height:normal;font-family:Menlo,'DejaVu Sans Mono',consolas,'Courier New',monospace\">Epoch:  <span style=\"color: #008080; text-decoration-color: #008080; font-weight: bold\">3</span> Steps:  <span style=\"color: #008080; text-decoration-color: #008080; font-weight: bold\">180</span> Loss:  <span style=\"color: #008080; text-decoration-color: #008080; font-weight: bold\">1.1837329864501953</span>\n",
              "</pre>\n"
            ]
          },
          "metadata": {}
        },
        {
          "output_type": "display_data",
          "data": {
            "text/plain": [
              "Epoch:  \u001b[1;36m3\u001b[0m Steps:  \u001b[1;36m190\u001b[0m Loss:  \u001b[1;36m0.7829968929290771\u001b[0m\n"
            ],
            "text/html": [
              "<pre style=\"white-space:pre;overflow-x:auto;line-height:normal;font-family:Menlo,'DejaVu Sans Mono',consolas,'Courier New',monospace\">Epoch:  <span style=\"color: #008080; text-decoration-color: #008080; font-weight: bold\">3</span> Steps:  <span style=\"color: #008080; text-decoration-color: #008080; font-weight: bold\">190</span> Loss:  <span style=\"color: #008080; text-decoration-color: #008080; font-weight: bold\">0.7829968929290771</span>\n",
              "</pre>\n"
            ]
          },
          "metadata": {}
        },
        {
          "output_type": "display_data",
          "data": {
            "text/plain": [
              "Epoch:  \u001b[1;36m3\u001b[0m Steps:  \u001b[1;36m200\u001b[0m Loss:  \u001b[1;36m1.9183429479599\u001b[0m\n"
            ],
            "text/html": [
              "<pre style=\"white-space:pre;overflow-x:auto;line-height:normal;font-family:Menlo,'DejaVu Sans Mono',consolas,'Courier New',monospace\">Epoch:  <span style=\"color: #008080; text-decoration-color: #008080; font-weight: bold\">3</span> Steps:  <span style=\"color: #008080; text-decoration-color: #008080; font-weight: bold\">200</span> Loss:  <span style=\"color: #008080; text-decoration-color: #008080; font-weight: bold\">1.9183429479599</span>\n",
              "</pre>\n"
            ]
          },
          "metadata": {}
        },
        {
          "output_type": "display_data",
          "data": {
            "text/plain": [
              "Epoch:  \u001b[1;36m3\u001b[0m Steps:  \u001b[1;36m210\u001b[0m Loss:  \u001b[1;36m1.2715778350830078\u001b[0m\n"
            ],
            "text/html": [
              "<pre style=\"white-space:pre;overflow-x:auto;line-height:normal;font-family:Menlo,'DejaVu Sans Mono',consolas,'Courier New',monospace\">Epoch:  <span style=\"color: #008080; text-decoration-color: #008080; font-weight: bold\">3</span> Steps:  <span style=\"color: #008080; text-decoration-color: #008080; font-weight: bold\">210</span> Loss:  <span style=\"color: #008080; text-decoration-color: #008080; font-weight: bold\">1.2715778350830078</span>\n",
              "</pre>\n"
            ]
          },
          "metadata": {}
        },
        {
          "output_type": "display_data",
          "data": {
            "text/plain": [
              "Epoch:  \u001b[1;36m3\u001b[0m Steps:  \u001b[1;36m220\u001b[0m Loss:  \u001b[1;36m1.6555253267288208\u001b[0m\n"
            ],
            "text/html": [
              "<pre style=\"white-space:pre;overflow-x:auto;line-height:normal;font-family:Menlo,'DejaVu Sans Mono',consolas,'Courier New',monospace\">Epoch:  <span style=\"color: #008080; text-decoration-color: #008080; font-weight: bold\">3</span> Steps:  <span style=\"color: #008080; text-decoration-color: #008080; font-weight: bold\">220</span> Loss:  <span style=\"color: #008080; text-decoration-color: #008080; font-weight: bold\">1.6555253267288208</span>\n",
              "</pre>\n"
            ]
          },
          "metadata": {}
        },
        {
          "output_type": "display_data",
          "data": {
            "text/plain": [
              "Epoch:  \u001b[1;36m3\u001b[0m Steps:  \u001b[1;36m230\u001b[0m Loss:  \u001b[1;36m1.5516375303268433\u001b[0m\n"
            ],
            "text/html": [
              "<pre style=\"white-space:pre;overflow-x:auto;line-height:normal;font-family:Menlo,'DejaVu Sans Mono',consolas,'Courier New',monospace\">Epoch:  <span style=\"color: #008080; text-decoration-color: #008080; font-weight: bold\">3</span> Steps:  <span style=\"color: #008080; text-decoration-color: #008080; font-weight: bold\">230</span> Loss:  <span style=\"color: #008080; text-decoration-color: #008080; font-weight: bold\">1.5516375303268433</span>\n",
              "</pre>\n"
            ]
          },
          "metadata": {}
        },
        {
          "output_type": "display_data",
          "data": {
            "text/plain": [
              "Epoch:  \u001b[1;36m3\u001b[0m Steps:  \u001b[1;36m240\u001b[0m Loss:  \u001b[1;36m1.9597417116165161\u001b[0m\n"
            ],
            "text/html": [
              "<pre style=\"white-space:pre;overflow-x:auto;line-height:normal;font-family:Menlo,'DejaVu Sans Mono',consolas,'Courier New',monospace\">Epoch:  <span style=\"color: #008080; text-decoration-color: #008080; font-weight: bold\">3</span> Steps:  <span style=\"color: #008080; text-decoration-color: #008080; font-weight: bold\">240</span> Loss:  <span style=\"color: #008080; text-decoration-color: #008080; font-weight: bold\">1.9597417116165161</span>\n",
              "</pre>\n"
            ]
          },
          "metadata": {}
        },
        {
          "output_type": "display_data",
          "data": {
            "text/plain": [
              "Epoch:  \u001b[1;36m3\u001b[0m Steps:  \u001b[1;36m250\u001b[0m Loss:  \u001b[1;36m1.3172634840011597\u001b[0m\n"
            ],
            "text/html": [
              "<pre style=\"white-space:pre;overflow-x:auto;line-height:normal;font-family:Menlo,'DejaVu Sans Mono',consolas,'Courier New',monospace\">Epoch:  <span style=\"color: #008080; text-decoration-color: #008080; font-weight: bold\">3</span> Steps:  <span style=\"color: #008080; text-decoration-color: #008080; font-weight: bold\">250</span> Loss:  <span style=\"color: #008080; text-decoration-color: #008080; font-weight: bold\">1.3172634840011597</span>\n",
              "</pre>\n"
            ]
          },
          "metadata": {}
        },
        {
          "output_type": "display_data",
          "data": {
            "text/plain": [
              "Epoch:  \u001b[1;36m3\u001b[0m Steps:  \u001b[1;36m260\u001b[0m Loss:  \u001b[1;36m1.4965187311172485\u001b[0m\n"
            ],
            "text/html": [
              "<pre style=\"white-space:pre;overflow-x:auto;line-height:normal;font-family:Menlo,'DejaVu Sans Mono',consolas,'Courier New',monospace\">Epoch:  <span style=\"color: #008080; text-decoration-color: #008080; font-weight: bold\">3</span> Steps:  <span style=\"color: #008080; text-decoration-color: #008080; font-weight: bold\">260</span> Loss:  <span style=\"color: #008080; text-decoration-color: #008080; font-weight: bold\">1.4965187311172485</span>\n",
              "</pre>\n"
            ]
          },
          "metadata": {}
        },
        {
          "output_type": "display_data",
          "data": {
            "text/plain": [
              "Epoch:  \u001b[1;36m3\u001b[0m Steps:  \u001b[1;36m270\u001b[0m Loss:  \u001b[1;36m1.5805575847625732\u001b[0m\n"
            ],
            "text/html": [
              "<pre style=\"white-space:pre;overflow-x:auto;line-height:normal;font-family:Menlo,'DejaVu Sans Mono',consolas,'Courier New',monospace\">Epoch:  <span style=\"color: #008080; text-decoration-color: #008080; font-weight: bold\">3</span> Steps:  <span style=\"color: #008080; text-decoration-color: #008080; font-weight: bold\">270</span> Loss:  <span style=\"color: #008080; text-decoration-color: #008080; font-weight: bold\">1.5805575847625732</span>\n",
              "</pre>\n"
            ]
          },
          "metadata": {}
        },
        {
          "output_type": "display_data",
          "data": {
            "text/plain": [
              "Epoch:  \u001b[1;36m3\u001b[0m Steps:  \u001b[1;36m280\u001b[0m Loss:  \u001b[1;36m2.04761004447937\u001b[0m\n"
            ],
            "text/html": [
              "<pre style=\"white-space:pre;overflow-x:auto;line-height:normal;font-family:Menlo,'DejaVu Sans Mono',consolas,'Courier New',monospace\">Epoch:  <span style=\"color: #008080; text-decoration-color: #008080; font-weight: bold\">3</span> Steps:  <span style=\"color: #008080; text-decoration-color: #008080; font-weight: bold\">280</span> Loss:  <span style=\"color: #008080; text-decoration-color: #008080; font-weight: bold\">2.04761004447937</span>\n",
              "</pre>\n"
            ]
          },
          "metadata": {}
        },
        {
          "output_type": "display_data",
          "data": {
            "text/plain": [
              "Epoch:  \u001b[1;36m3\u001b[0m Steps:  \u001b[1;36m290\u001b[0m Loss:  \u001b[1;36m1.9449820518493652\u001b[0m\n"
            ],
            "text/html": [
              "<pre style=\"white-space:pre;overflow-x:auto;line-height:normal;font-family:Menlo,'DejaVu Sans Mono',consolas,'Courier New',monospace\">Epoch:  <span style=\"color: #008080; text-decoration-color: #008080; font-weight: bold\">3</span> Steps:  <span style=\"color: #008080; text-decoration-color: #008080; font-weight: bold\">290</span> Loss:  <span style=\"color: #008080; text-decoration-color: #008080; font-weight: bold\">1.9449820518493652</span>\n",
              "</pre>\n"
            ]
          },
          "metadata": {}
        },
        {
          "output_type": "display_data",
          "data": {
            "text/plain": [
              "Epoch:  \u001b[1;36m3\u001b[0m Steps:  \u001b[1;36m300\u001b[0m Loss:  \u001b[1;36m3.1080498695373535\u001b[0m\n"
            ],
            "text/html": [
              "<pre style=\"white-space:pre;overflow-x:auto;line-height:normal;font-family:Menlo,'DejaVu Sans Mono',consolas,'Courier New',monospace\">Epoch:  <span style=\"color: #008080; text-decoration-color: #008080; font-weight: bold\">3</span> Steps:  <span style=\"color: #008080; text-decoration-color: #008080; font-weight: bold\">300</span> Loss:  <span style=\"color: #008080; text-decoration-color: #008080; font-weight: bold\">3.1080498695373535</span>\n",
              "</pre>\n"
            ]
          },
          "metadata": {}
        },
        {
          "output_type": "display_data",
          "data": {
            "text/plain": [
              "Epoch:  \u001b[1;36m3\u001b[0m Steps:  \u001b[1;36m310\u001b[0m Loss:  \u001b[1;36m1.3841418027877808\u001b[0m\n"
            ],
            "text/html": [
              "<pre style=\"white-space:pre;overflow-x:auto;line-height:normal;font-family:Menlo,'DejaVu Sans Mono',consolas,'Courier New',monospace\">Epoch:  <span style=\"color: #008080; text-decoration-color: #008080; font-weight: bold\">3</span> Steps:  <span style=\"color: #008080; text-decoration-color: #008080; font-weight: bold\">310</span> Loss:  <span style=\"color: #008080; text-decoration-color: #008080; font-weight: bold\">1.3841418027877808</span>\n",
              "</pre>\n"
            ]
          },
          "metadata": {}
        },
        {
          "output_type": "display_data",
          "data": {
            "text/plain": [
              "Epoch:  \u001b[1;36m3\u001b[0m Steps:  \u001b[1;36m320\u001b[0m Loss:  \u001b[1;36m1.3072149753570557\u001b[0m\n"
            ],
            "text/html": [
              "<pre style=\"white-space:pre;overflow-x:auto;line-height:normal;font-family:Menlo,'DejaVu Sans Mono',consolas,'Courier New',monospace\">Epoch:  <span style=\"color: #008080; text-decoration-color: #008080; font-weight: bold\">3</span> Steps:  <span style=\"color: #008080; text-decoration-color: #008080; font-weight: bold\">320</span> Loss:  <span style=\"color: #008080; text-decoration-color: #008080; font-weight: bold\">1.3072149753570557</span>\n",
              "</pre>\n"
            ]
          },
          "metadata": {}
        },
        {
          "output_type": "display_data",
          "data": {
            "text/plain": [
              "Epoch:  \u001b[1;36m3\u001b[0m Steps:  \u001b[1;36m330\u001b[0m Loss:  \u001b[1;36m1.5747758150100708\u001b[0m\n"
            ],
            "text/html": [
              "<pre style=\"white-space:pre;overflow-x:auto;line-height:normal;font-family:Menlo,'DejaVu Sans Mono',consolas,'Courier New',monospace\">Epoch:  <span style=\"color: #008080; text-decoration-color: #008080; font-weight: bold\">3</span> Steps:  <span style=\"color: #008080; text-decoration-color: #008080; font-weight: bold\">330</span> Loss:  <span style=\"color: #008080; text-decoration-color: #008080; font-weight: bold\">1.5747758150100708</span>\n",
              "</pre>\n"
            ]
          },
          "metadata": {}
        },
        {
          "output_type": "display_data",
          "data": {
            "text/plain": [
              "Epoch:  \u001b[1;36m3\u001b[0m Steps:  \u001b[1;36m340\u001b[0m Loss:  \u001b[1;36m1.9612146615982056\u001b[0m\n"
            ],
            "text/html": [
              "<pre style=\"white-space:pre;overflow-x:auto;line-height:normal;font-family:Menlo,'DejaVu Sans Mono',consolas,'Courier New',monospace\">Epoch:  <span style=\"color: #008080; text-decoration-color: #008080; font-weight: bold\">3</span> Steps:  <span style=\"color: #008080; text-decoration-color: #008080; font-weight: bold\">340</span> Loss:  <span style=\"color: #008080; text-decoration-color: #008080; font-weight: bold\">1.9612146615982056</span>\n",
              "</pre>\n"
            ]
          },
          "metadata": {}
        },
        {
          "output_type": "display_data",
          "data": {
            "text/plain": [
              "Epoch:  \u001b[1;36m3\u001b[0m Steps:  \u001b[1;36m350\u001b[0m Loss:  \u001b[1;36m2.6329903602600098\u001b[0m\n"
            ],
            "text/html": [
              "<pre style=\"white-space:pre;overflow-x:auto;line-height:normal;font-family:Menlo,'DejaVu Sans Mono',consolas,'Courier New',monospace\">Epoch:  <span style=\"color: #008080; text-decoration-color: #008080; font-weight: bold\">3</span> Steps:  <span style=\"color: #008080; text-decoration-color: #008080; font-weight: bold\">350</span> Loss:  <span style=\"color: #008080; text-decoration-color: #008080; font-weight: bold\">2.6329903602600098</span>\n",
              "</pre>\n"
            ]
          },
          "metadata": {}
        },
        {
          "output_type": "display_data",
          "data": {
            "text/plain": [
              "Epoch:  \u001b[1;36m3\u001b[0m Steps:  \u001b[1;36m360\u001b[0m Loss:  \u001b[1;36m2.069291114807129\u001b[0m\n"
            ],
            "text/html": [
              "<pre style=\"white-space:pre;overflow-x:auto;line-height:normal;font-family:Menlo,'DejaVu Sans Mono',consolas,'Courier New',monospace\">Epoch:  <span style=\"color: #008080; text-decoration-color: #008080; font-weight: bold\">3</span> Steps:  <span style=\"color: #008080; text-decoration-color: #008080; font-weight: bold\">360</span> Loss:  <span style=\"color: #008080; text-decoration-color: #008080; font-weight: bold\">2.069291114807129</span>\n",
              "</pre>\n"
            ]
          },
          "metadata": {}
        },
        {
          "output_type": "display_data",
          "data": {
            "text/plain": [
              "Epoch:  \u001b[1;36m3\u001b[0m Steps:  \u001b[1;36m370\u001b[0m Loss:  \u001b[1;36m1.4809035062789917\u001b[0m\n"
            ],
            "text/html": [
              "<pre style=\"white-space:pre;overflow-x:auto;line-height:normal;font-family:Menlo,'DejaVu Sans Mono',consolas,'Courier New',monospace\">Epoch:  <span style=\"color: #008080; text-decoration-color: #008080; font-weight: bold\">3</span> Steps:  <span style=\"color: #008080; text-decoration-color: #008080; font-weight: bold\">370</span> Loss:  <span style=\"color: #008080; text-decoration-color: #008080; font-weight: bold\">1.4809035062789917</span>\n",
              "</pre>\n"
            ]
          },
          "metadata": {}
        },
        {
          "output_type": "display_data",
          "data": {
            "text/plain": [
              "Epoch:  \u001b[1;36m3\u001b[0m Steps:  \u001b[1;36m380\u001b[0m Loss:  \u001b[1;36m2.144590139389038\u001b[0m\n"
            ],
            "text/html": [
              "<pre style=\"white-space:pre;overflow-x:auto;line-height:normal;font-family:Menlo,'DejaVu Sans Mono',consolas,'Courier New',monospace\">Epoch:  <span style=\"color: #008080; text-decoration-color: #008080; font-weight: bold\">3</span> Steps:  <span style=\"color: #008080; text-decoration-color: #008080; font-weight: bold\">380</span> Loss:  <span style=\"color: #008080; text-decoration-color: #008080; font-weight: bold\">2.144590139389038</span>\n",
              "</pre>\n"
            ]
          },
          "metadata": {}
        },
        {
          "output_type": "display_data",
          "data": {
            "text/plain": [
              "Epoch:  \u001b[1;36m3\u001b[0m Steps:  \u001b[1;36m390\u001b[0m Loss:  \u001b[1;36m1.6833555698394775\u001b[0m\n"
            ],
            "text/html": [
              "<pre style=\"white-space:pre;overflow-x:auto;line-height:normal;font-family:Menlo,'DejaVu Sans Mono',consolas,'Courier New',monospace\">Epoch:  <span style=\"color: #008080; text-decoration-color: #008080; font-weight: bold\">3</span> Steps:  <span style=\"color: #008080; text-decoration-color: #008080; font-weight: bold\">390</span> Loss:  <span style=\"color: #008080; text-decoration-color: #008080; font-weight: bold\">1.6833555698394775</span>\n",
              "</pre>\n"
            ]
          },
          "metadata": {}
        },
        {
          "output_type": "display_data",
          "data": {
            "text/plain": [
              "Epoch:  \u001b[1;36m3\u001b[0m Steps:  \u001b[1;36m400\u001b[0m Loss:  \u001b[1;36m1.7323009967803955\u001b[0m\n"
            ],
            "text/html": [
              "<pre style=\"white-space:pre;overflow-x:auto;line-height:normal;font-family:Menlo,'DejaVu Sans Mono',consolas,'Courier New',monospace\">Epoch:  <span style=\"color: #008080; text-decoration-color: #008080; font-weight: bold\">3</span> Steps:  <span style=\"color: #008080; text-decoration-color: #008080; font-weight: bold\">400</span> Loss:  <span style=\"color: #008080; text-decoration-color: #008080; font-weight: bold\">1.7323009967803955</span>\n",
              "</pre>\n"
            ]
          },
          "metadata": {}
        },
        {
          "output_type": "display_data",
          "data": {
            "text/plain": [
              "Epoch:  \u001b[1;36m3\u001b[0m Steps:  \u001b[1;36m410\u001b[0m Loss:  \u001b[1;36m1.3750280141830444\u001b[0m\n"
            ],
            "text/html": [
              "<pre style=\"white-space:pre;overflow-x:auto;line-height:normal;font-family:Menlo,'DejaVu Sans Mono',consolas,'Courier New',monospace\">Epoch:  <span style=\"color: #008080; text-decoration-color: #008080; font-weight: bold\">3</span> Steps:  <span style=\"color: #008080; text-decoration-color: #008080; font-weight: bold\">410</span> Loss:  <span style=\"color: #008080; text-decoration-color: #008080; font-weight: bold\">1.3750280141830444</span>\n",
              "</pre>\n"
            ]
          },
          "metadata": {}
        },
        {
          "output_type": "display_data",
          "data": {
            "text/plain": [
              "Epoch:  \u001b[1;36m3\u001b[0m Steps:  \u001b[1;36m420\u001b[0m Loss:  \u001b[1;36m0.8088632822036743\u001b[0m\n"
            ],
            "text/html": [
              "<pre style=\"white-space:pre;overflow-x:auto;line-height:normal;font-family:Menlo,'DejaVu Sans Mono',consolas,'Courier New',monospace\">Epoch:  <span style=\"color: #008080; text-decoration-color: #008080; font-weight: bold\">3</span> Steps:  <span style=\"color: #008080; text-decoration-color: #008080; font-weight: bold\">420</span> Loss:  <span style=\"color: #008080; text-decoration-color: #008080; font-weight: bold\">0.8088632822036743</span>\n",
              "</pre>\n"
            ]
          },
          "metadata": {}
        },
        {
          "output_type": "display_data",
          "data": {
            "text/plain": [
              "Epoch:  \u001b[1;36m3\u001b[0m Steps:  \u001b[1;36m430\u001b[0m Loss:  \u001b[1;36m1.5578893423080444\u001b[0m\n"
            ],
            "text/html": [
              "<pre style=\"white-space:pre;overflow-x:auto;line-height:normal;font-family:Menlo,'DejaVu Sans Mono',consolas,'Courier New',monospace\">Epoch:  <span style=\"color: #008080; text-decoration-color: #008080; font-weight: bold\">3</span> Steps:  <span style=\"color: #008080; text-decoration-color: #008080; font-weight: bold\">430</span> Loss:  <span style=\"color: #008080; text-decoration-color: #008080; font-weight: bold\">1.5578893423080444</span>\n",
              "</pre>\n"
            ]
          },
          "metadata": {}
        },
        {
          "output_type": "display_data",
          "data": {
            "text/plain": [
              "Epoch:  \u001b[1;36m3\u001b[0m Steps:  \u001b[1;36m440\u001b[0m Loss:  \u001b[1;36m1.4432214498519897\u001b[0m\n"
            ],
            "text/html": [
              "<pre style=\"white-space:pre;overflow-x:auto;line-height:normal;font-family:Menlo,'DejaVu Sans Mono',consolas,'Courier New',monospace\">Epoch:  <span style=\"color: #008080; text-decoration-color: #008080; font-weight: bold\">3</span> Steps:  <span style=\"color: #008080; text-decoration-color: #008080; font-weight: bold\">440</span> Loss:  <span style=\"color: #008080; text-decoration-color: #008080; font-weight: bold\">1.4432214498519897</span>\n",
              "</pre>\n"
            ]
          },
          "metadata": {}
        },
        {
          "output_type": "display_data",
          "data": {
            "text/plain": [
              "Epoch:  \u001b[1;36m3\u001b[0m Steps:  \u001b[1;36m450\u001b[0m Loss:  \u001b[1;36m2.5535974502563477\u001b[0m\n"
            ],
            "text/html": [
              "<pre style=\"white-space:pre;overflow-x:auto;line-height:normal;font-family:Menlo,'DejaVu Sans Mono',consolas,'Courier New',monospace\">Epoch:  <span style=\"color: #008080; text-decoration-color: #008080; font-weight: bold\">3</span> Steps:  <span style=\"color: #008080; text-decoration-color: #008080; font-weight: bold\">450</span> Loss:  <span style=\"color: #008080; text-decoration-color: #008080; font-weight: bold\">2.5535974502563477</span>\n",
              "</pre>\n"
            ]
          },
          "metadata": {}
        },
        {
          "output_type": "display_data",
          "data": {
            "text/plain": [
              "Epoch:  \u001b[1;36m3\u001b[0m Steps:  \u001b[1;36m460\u001b[0m Loss:  \u001b[1;36m2.241990566253662\u001b[0m\n"
            ],
            "text/html": [
              "<pre style=\"white-space:pre;overflow-x:auto;line-height:normal;font-family:Menlo,'DejaVu Sans Mono',consolas,'Courier New',monospace\">Epoch:  <span style=\"color: #008080; text-decoration-color: #008080; font-weight: bold\">3</span> Steps:  <span style=\"color: #008080; text-decoration-color: #008080; font-weight: bold\">460</span> Loss:  <span style=\"color: #008080; text-decoration-color: #008080; font-weight: bold\">2.241990566253662</span>\n",
              "</pre>\n"
            ]
          },
          "metadata": {}
        },
        {
          "output_type": "display_data",
          "data": {
            "text/plain": [
              "Epoch:  \u001b[1;36m3\u001b[0m Steps:  \u001b[1;36m470\u001b[0m Loss:  \u001b[1;36m1.6456764936447144\u001b[0m\n"
            ],
            "text/html": [
              "<pre style=\"white-space:pre;overflow-x:auto;line-height:normal;font-family:Menlo,'DejaVu Sans Mono',consolas,'Courier New',monospace\">Epoch:  <span style=\"color: #008080; text-decoration-color: #008080; font-weight: bold\">3</span> Steps:  <span style=\"color: #008080; text-decoration-color: #008080; font-weight: bold\">470</span> Loss:  <span style=\"color: #008080; text-decoration-color: #008080; font-weight: bold\">1.6456764936447144</span>\n",
              "</pre>\n"
            ]
          },
          "metadata": {}
        },
        {
          "output_type": "display_data",
          "data": {
            "text/plain": [
              "Epoch:  \u001b[1;36m3\u001b[0m Steps:  \u001b[1;36m480\u001b[0m Loss:  \u001b[1;36m1.1782253980636597\u001b[0m\n"
            ],
            "text/html": [
              "<pre style=\"white-space:pre;overflow-x:auto;line-height:normal;font-family:Menlo,'DejaVu Sans Mono',consolas,'Courier New',monospace\">Epoch:  <span style=\"color: #008080; text-decoration-color: #008080; font-weight: bold\">3</span> Steps:  <span style=\"color: #008080; text-decoration-color: #008080; font-weight: bold\">480</span> Loss:  <span style=\"color: #008080; text-decoration-color: #008080; font-weight: bold\">1.1782253980636597</span>\n",
              "</pre>\n"
            ]
          },
          "metadata": {}
        },
        {
          "output_type": "display_data",
          "data": {
            "text/plain": [
              "\u001b[3m           Training Loss           \u001b[0m\n",
              "+---------------------------------+\n",
              "|\u001b[1mEpoch\u001b[0m\u001b[1m \u001b[0m|\u001b[1m \u001b[0m\u001b[1mLoss\u001b[0m\u001b[1m \u001b[0m|\u001b[1m \u001b[0m\u001b[1m                  \u001b[0m|\n",
              "|------+------+-------------------|\n",
              "|  0   |  0   | 4.016060829162598 |\n",
              "|  0   |  10  | 3.22076416015625  |\n",
              "|  0   |  20  | 2.7343928813934326|\n",
              "|  0   |  30  | 1.8655294179916382|\n",
              "|  0   |  40  | 3.24951434135437  |\n",
              "|  0   |  50  | 1.7755417823791504|\n",
              "|  0   |  60  | 3.555743455886841 |\n",
              "|  0   |  70  | 2.2848446369171143|\n",
              "|  0   |  80  | 1.976075291633606 |\n",
              "|  0   |  90  | 1.5909103155136108|\n",
              "|  0   | 100  | 2.5496857166290283|\n",
              "|  0   | 110  | 1.7580775022506714|\n",
              "|  0   | 120  | 1.4247454404830933|\n",
              "|  0   | 130  | 1.6442809104919434|\n",
              "|  0   | 140  | 2.146562099456787 |\n",
              "|  0   | 150  | 1.9122639894485474|\n",
              "|  0   | 160  | 1.23967707157135  |\n",
              "|  0   | 170  | 1.5415818691253662|\n",
              "|  0   | 180  | 1.6904854774475098|\n",
              "|  0   | 190  | 2.7208521366119385|\n",
              "|  0   | 200  | 2.3050968647003174|\n",
              "|  0   | 210  | 2.8559935092926025|\n",
              "|  0   | 220  | 2.1136860847473145|\n",
              "|  0   | 230  | 2.869403123855591 |\n",
              "|  0   | 240  | 1.7376301288604736|\n",
              "|  0   | 250  | 1.9555047750473022|\n",
              "|  0   | 260  | 1.7618588209152222|\n",
              "|  0   | 270  | 2.023338556289673 |\n",
              "|  0   | 280  | 1.7293027639389038|\n",
              "|  0   | 290  | 1.8467767238616943|\n",
              "|  0   | 300  | 2.252340078353882 |\n",
              "|  0   | 310  | 1.879687786102295 |\n",
              "|  0   | 320  | 1.4729256629943848|\n",
              "|  0   | 330  | 2.693469285964966 |\n",
              "|  0   | 340  | 2.1311683654785156|\n",
              "|  0   | 350  | 1.3391544818878174|\n",
              "|  0   | 360  | 2.925401210784912 |\n",
              "|  0   | 370  | 1.7668298482894897|\n",
              "|  0   | 380  | 1.5128124952316284|\n",
              "|  0   | 390  | 1.475715160369873 |\n",
              "|  0   | 400  | 2.373324394226074 |\n",
              "|  0   | 410  | 1.9199073314666748|\n",
              "|  0   | 420  | 2.4875617027282715|\n",
              "|  0   | 430  | 1.343384027481079 |\n",
              "|  0   | 440  | 1.9075069427490234|\n",
              "|  0   | 450  | 1.7584162950515747|\n",
              "|  0   | 460  | 1.4925729036331177|\n",
              "|  0   | 470  | 1.3880364894866943|\n",
              "|  0   | 480  | 1.7195565700531006|\n",
              "|  1   |  0   | 1.4461359977722168|\n",
              "|  1   |  10  | 1.9275084733963013|\n",
              "|  1   |  20  | 2.2246127128601074|\n",
              "|  1   |  30  | 1.9285944700241089|\n",
              "|  1   |  40  | 1.9529330730438232|\n",
              "|  1   |  50  | 1.2453572750091553|\n",
              "|  1   |  60  | 1.5472909212112427|\n",
              "|  1   |  70  | 1.5437805652618408|\n",
              "|  1   |  80  | 2.446704864501953 |\n",
              "|  1   |  90  | 1.7670279741287231|\n",
              "|  1   | 100  | 1.6115485429763794|\n",
              "|  1   | 110  | 2.212890863418579 |\n",
              "|  1   | 120  | 1.2408965826034546|\n",
              "|  1   | 130  | 1.2307333946228027|\n",
              "|  1   | 140  | 2.8881490230560303|\n",
              "|  1   | 150  | 1.8926855325698853|\n",
              "|  1   | 160  | 2.2674474716186523|\n",
              "|  1   | 170  | 2.161273717880249 |\n",
              "|  1   | 180  | 2.2879717350006104|\n",
              "|  1   | 190  | 1.7936896085739136|\n",
              "|  1   | 200  | 1.988856315612793 |\n",
              "|  1   | 210  | 1.656369924545288 |\n",
              "|  1   | 220  | 1.497516393661499 |\n",
              "|  1   | 230  | 1.966086983680725 |\n",
              "|  1   | 240  | 2.002518653869629 |\n",
              "|  1   | 250  | 3.6491522789001465|\n",
              "|  1   | 260  | 1.330169916152954 |\n",
              "|  1   | 270  | 2.310492753982544 |\n",
              "|  1   | 280  | 2.384262800216675 |\n",
              "|  1   | 290  | 2.902256488800049 |\n",
              "|  1   | 300  | 2.6746082305908203|\n",
              "|  1   | 310  | 1.4161866903305054|\n",
              "|  1   | 320  | 1.0451866388320923|\n",
              "|  1   | 330  | 2.3288238048553467|\n",
              "|  1   | 340  | 3.366163730621338 |\n",
              "|  1   | 350  | 1.9519201517105103|\n",
              "|  1   | 360  | 1.925811767578125 |\n",
              "|  1   | 370  | 2.164268732070923 |\n",
              "|  1   | 380  | 1.7563221454620361|\n",
              "|  1   | 390  | 3.116511821746826 |\n",
              "|  1   | 400  | 1.4872103929519653|\n",
              "|  1   | 410  | 1.6644805669784546|\n",
              "|  1   | 420  | 1.2860852479934692|\n",
              "|  1   | 430  | 2.292686939239502 |\n",
              "|  1   | 440  | 2.136239528656006 |\n",
              "|  1   | 450  | 1.8112547397613525|\n",
              "|  1   | 460  | 1.3463020324707031|\n",
              "|  1   | 470  | 1.1890486478805542|\n",
              "|  1   | 480  | 2.5795247554779053|\n",
              "|  2   |  0   | 1.321027159690857 |\n",
              "|  2   |  10  | 0.7093322277069092|\n",
              "|  2   |  20  | 0.9365379214286804|\n",
              "|  2   |  30  | 2.225428819656372 |\n",
              "|  2   |  40  | 1.2149299383163452|\n",
              "|  2   |  50  | 1.8651467561721802|\n",
              "|  2   |  60  | 1.736762285232544 |\n",
              "|  2   |  70  | 1.1976228952407837|\n",
              "|  2   |  80  | 1.5973012447357178|\n",
              "|  2   |  90  | 2.2447590827941895|\n",
              "|  2   | 100  | 1.4583749771118164|\n",
              "|  2   | 110  | 1.5087214708328247|\n",
              "|  2   | 120  | 1.4030853509902954|\n",
              "|  2   | 130  | 2.3922536373138428|\n",
              "|  2   | 140  | 1.289352536201477 |\n",
              "|  2   | 150  | 1.1156247854232788|\n",
              "|  2   | 160  | 1.2643883228302002|\n",
              "|  2   | 170  | 1.5885089635849   |\n",
              "|  2   | 180  | 1.8995630741119385|\n",
              "|  2   | 190  | 1.4003148078918457|\n",
              "|  2   | 200  | 2.1952266693115234|\n",
              "|  2   | 210  | 1.4933209419250488|\n",
              "|  2   | 220  | 1.6398682594299316|\n",
              "|  2   | 230  | 1.4704344272613525|\n",
              "|  2   | 240  | 1.8613994121551514|\n",
              "|  2   | 250  | 2.2227628231048584|\n",
              "|  2   | 260  | 1.0401978492736816|\n",
              "|  2   | 270  | 1.4994937181472778|\n",
              "|  2   | 280  | 1.9607950448989868|\n",
              "|  2   | 290  | 2.7210850715637207|\n",
              "|  2   | 300  | 1.1403954029083252|\n",
              "|  2   | 310  | 1.5371898412704468|\n",
              "|  2   | 320  | 2.7806200981140137|\n",
              "|  2   | 330  | 1.8619147539138794|\n",
              "|  2   | 340  | 1.7364140748977661|\n",
              "|  2   | 350  | 1.5270460844039917|\n",
              "|  2   | 360  | 2.0981853008270264|\n",
              "|  2   | 370  | 1.918500304222107 |\n",
              "|  2   | 380  | 2.54180645942688  |\n",
              "|  2   | 390  | 2.16631817817688  |\n",
              "|  2   | 400  | 1.4754096269607544|\n",
              "|  2   | 410  | 1.2175973653793335|\n",
              "|  2   | 420  | 1.3877021074295044|\n",
              "|  2   | 430  | 1.938889741897583 |\n",
              "|  2   | 440  | 1.1123968362808228|\n",
              "|  2   | 450  | 1.1042839288711548|\n",
              "|  2   | 460  | 1.5494974851608276|\n",
              "|  2   | 470  | 2.945237636566162 |\n",
              "|  2   | 480  | 1.9628238677978516|\n",
              "|  3   |  0   | 1.295908808708191 |\n",
              "|  3   |  10  | 1.5706567764282227|\n",
              "|  3   |  20  | 1.3342175483703613|\n",
              "|  3   |  30  | 1.2876821756362915|\n",
              "|  3   |  40  | 1.0918349027633667|\n",
              "|  3   |  50  | 1.1486397981643677|\n",
              "|  3   |  60  | 1.50021493434906  |\n",
              "|  3   |  70  | 1.471283197402954 |\n",
              "|  3   |  80  | 0.8850721120834351|\n",
              "|  3   |  90  | 2.3835561275482178|\n",
              "|  3   | 100  | 1.8806406259536743|\n",
              "|  3   | 110  | 1.2621349096298218|\n",
              "|  3   | 120  | 2.8190767765045166|\n",
              "|  3   | 130  | 2.5808916091918945|\n",
              "|  3   | 140  | 0.9439759850502014|\n",
              "|  3   | 150  | 1.0268186330795288|\n",
              "|  3   | 160  | 1.4327994585037231|\n",
              "|  3   | 170  | 0.9614822268486023|\n",
              "|  3   | 180  | 1.1837329864501953|\n",
              "|  3   | 190  | 0.7829968929290771|\n",
              "|  3   | 200  | 1.9183429479599   |\n",
              "|  3   | 210  | 1.2715778350830078|\n",
              "|  3   | 220  | 1.6555253267288208|\n",
              "|  3   | 230  | 1.5516375303268433|\n",
              "|  3   | 240  | 1.9597417116165161|\n",
              "|  3   | 250  | 1.3172634840011597|\n",
              "|  3   | 260  | 1.4965187311172485|\n",
              "|  3   | 270  | 1.5805575847625732|\n",
              "|  3   | 280  | 2.04761004447937  |\n",
              "|  3   | 290  | 1.9449820518493652|\n",
              "|  3   | 300  | 3.1080498695373535|\n",
              "|  3   | 310  | 1.3841418027877808|\n",
              "|  3   | 320  | 1.3072149753570557|\n",
              "|  3   | 330  | 1.5747758150100708|\n",
              "|  3   | 340  | 1.9612146615982056|\n",
              "|  3   | 350  | 2.6329903602600098|\n",
              "|  3   | 360  | 2.069291114807129 |\n",
              "|  3   | 370  | 1.4809035062789917|\n",
              "|  3   | 380  | 2.144590139389038 |\n",
              "|  3   | 390  | 1.6833555698394775|\n",
              "|  3   | 400  | 1.7323009967803955|\n",
              "|  3   | 410  | 1.3750280141830444|\n",
              "|  3   | 420  | 0.8088632822036743|\n",
              "|  3   | 430  | 1.5578893423080444|\n",
              "|  3   | 440  | 1.4432214498519897|\n",
              "|  3   | 450  | 2.5535974502563477|\n",
              "|  3   | 460  | 2.241990566253662 |\n",
              "|  3   | 470  | 1.6456764936447144|\n",
              "|  3   | 480  | 1.1782253980636597|\n",
              "+---------------------------------+\n"
            ],
            "text/html": [
              "<pre style=\"white-space:pre;overflow-x:auto;line-height:normal;font-family:Menlo,'DejaVu Sans Mono',consolas,'Courier New',monospace\"><span style=\"font-style: italic\">           Training Loss           </span>\n",
              "+---------------------------------+\n",
              "|<span style=\"font-weight: bold\">Epoch </span>|<span style=\"font-weight: bold\"> Loss </span>|<span style=\"font-weight: bold\">                   </span>|\n",
              "|------+------+-------------------|\n",
              "|  0   |  0   | 4.016060829162598 |\n",
              "|  0   |  10  | 3.22076416015625  |\n",
              "|  0   |  20  | 2.7343928813934326|\n",
              "|  0   |  30  | 1.8655294179916382|\n",
              "|  0   |  40  | 3.24951434135437  |\n",
              "|  0   |  50  | 1.7755417823791504|\n",
              "|  0   |  60  | 3.555743455886841 |\n",
              "|  0   |  70  | 2.2848446369171143|\n",
              "|  0   |  80  | 1.976075291633606 |\n",
              "|  0   |  90  | 1.5909103155136108|\n",
              "|  0   | 100  | 2.5496857166290283|\n",
              "|  0   | 110  | 1.7580775022506714|\n",
              "|  0   | 120  | 1.4247454404830933|\n",
              "|  0   | 130  | 1.6442809104919434|\n",
              "|  0   | 140  | 2.146562099456787 |\n",
              "|  0   | 150  | 1.9122639894485474|\n",
              "|  0   | 160  | 1.23967707157135  |\n",
              "|  0   | 170  | 1.5415818691253662|\n",
              "|  0   | 180  | 1.6904854774475098|\n",
              "|  0   | 190  | 2.7208521366119385|\n",
              "|  0   | 200  | 2.3050968647003174|\n",
              "|  0   | 210  | 2.8559935092926025|\n",
              "|  0   | 220  | 2.1136860847473145|\n",
              "|  0   | 230  | 2.869403123855591 |\n",
              "|  0   | 240  | 1.7376301288604736|\n",
              "|  0   | 250  | 1.9555047750473022|\n",
              "|  0   | 260  | 1.7618588209152222|\n",
              "|  0   | 270  | 2.023338556289673 |\n",
              "|  0   | 280  | 1.7293027639389038|\n",
              "|  0   | 290  | 1.8467767238616943|\n",
              "|  0   | 300  | 2.252340078353882 |\n",
              "|  0   | 310  | 1.879687786102295 |\n",
              "|  0   | 320  | 1.4729256629943848|\n",
              "|  0   | 330  | 2.693469285964966 |\n",
              "|  0   | 340  | 2.1311683654785156|\n",
              "|  0   | 350  | 1.3391544818878174|\n",
              "|  0   | 360  | 2.925401210784912 |\n",
              "|  0   | 370  | 1.7668298482894897|\n",
              "|  0   | 380  | 1.5128124952316284|\n",
              "|  0   | 390  | 1.475715160369873 |\n",
              "|  0   | 400  | 2.373324394226074 |\n",
              "|  0   | 410  | 1.9199073314666748|\n",
              "|  0   | 420  | 2.4875617027282715|\n",
              "|  0   | 430  | 1.343384027481079 |\n",
              "|  0   | 440  | 1.9075069427490234|\n",
              "|  0   | 450  | 1.7584162950515747|\n",
              "|  0   | 460  | 1.4925729036331177|\n",
              "|  0   | 470  | 1.3880364894866943|\n",
              "|  0   | 480  | 1.7195565700531006|\n",
              "|  1   |  0   | 1.4461359977722168|\n",
              "|  1   |  10  | 1.9275084733963013|\n",
              "|  1   |  20  | 2.2246127128601074|\n",
              "|  1   |  30  | 1.9285944700241089|\n",
              "|  1   |  40  | 1.9529330730438232|\n",
              "|  1   |  50  | 1.2453572750091553|\n",
              "|  1   |  60  | 1.5472909212112427|\n",
              "|  1   |  70  | 1.5437805652618408|\n",
              "|  1   |  80  | 2.446704864501953 |\n",
              "|  1   |  90  | 1.7670279741287231|\n",
              "|  1   | 100  | 1.6115485429763794|\n",
              "|  1   | 110  | 2.212890863418579 |\n",
              "|  1   | 120  | 1.2408965826034546|\n",
              "|  1   | 130  | 1.2307333946228027|\n",
              "|  1   | 140  | 2.8881490230560303|\n",
              "|  1   | 150  | 1.8926855325698853|\n",
              "|  1   | 160  | 2.2674474716186523|\n",
              "|  1   | 170  | 2.161273717880249 |\n",
              "|  1   | 180  | 2.2879717350006104|\n",
              "|  1   | 190  | 1.7936896085739136|\n",
              "|  1   | 200  | 1.988856315612793 |\n",
              "|  1   | 210  | 1.656369924545288 |\n",
              "|  1   | 220  | 1.497516393661499 |\n",
              "|  1   | 230  | 1.966086983680725 |\n",
              "|  1   | 240  | 2.002518653869629 |\n",
              "|  1   | 250  | 3.6491522789001465|\n",
              "|  1   | 260  | 1.330169916152954 |\n",
              "|  1   | 270  | 2.310492753982544 |\n",
              "|  1   | 280  | 2.384262800216675 |\n",
              "|  1   | 290  | 2.902256488800049 |\n",
              "|  1   | 300  | 2.6746082305908203|\n",
              "|  1   | 310  | 1.4161866903305054|\n",
              "|  1   | 320  | 1.0451866388320923|\n",
              "|  1   | 330  | 2.3288238048553467|\n",
              "|  1   | 340  | 3.366163730621338 |\n",
              "|  1   | 350  | 1.9519201517105103|\n",
              "|  1   | 360  | 1.925811767578125 |\n",
              "|  1   | 370  | 2.164268732070923 |\n",
              "|  1   | 380  | 1.7563221454620361|\n",
              "|  1   | 390  | 3.116511821746826 |\n",
              "|  1   | 400  | 1.4872103929519653|\n",
              "|  1   | 410  | 1.6644805669784546|\n",
              "|  1   | 420  | 1.2860852479934692|\n",
              "|  1   | 430  | 2.292686939239502 |\n",
              "|  1   | 440  | 2.136239528656006 |\n",
              "|  1   | 450  | 1.8112547397613525|\n",
              "|  1   | 460  | 1.3463020324707031|\n",
              "|  1   | 470  | 1.1890486478805542|\n",
              "|  1   | 480  | 2.5795247554779053|\n",
              "|  2   |  0   | 1.321027159690857 |\n",
              "|  2   |  10  | 0.7093322277069092|\n",
              "|  2   |  20  | 0.9365379214286804|\n",
              "|  2   |  30  | 2.225428819656372 |\n",
              "|  2   |  40  | 1.2149299383163452|\n",
              "|  2   |  50  | 1.8651467561721802|\n",
              "|  2   |  60  | 1.736762285232544 |\n",
              "|  2   |  70  | 1.1976228952407837|\n",
              "|  2   |  80  | 1.5973012447357178|\n",
              "|  2   |  90  | 2.2447590827941895|\n",
              "|  2   | 100  | 1.4583749771118164|\n",
              "|  2   | 110  | 1.5087214708328247|\n",
              "|  2   | 120  | 1.4030853509902954|\n",
              "|  2   | 130  | 2.3922536373138428|\n",
              "|  2   | 140  | 1.289352536201477 |\n",
              "|  2   | 150  | 1.1156247854232788|\n",
              "|  2   | 160  | 1.2643883228302002|\n",
              "|  2   | 170  | 1.5885089635849   |\n",
              "|  2   | 180  | 1.8995630741119385|\n",
              "|  2   | 190  | 1.4003148078918457|\n",
              "|  2   | 200  | 2.1952266693115234|\n",
              "|  2   | 210  | 1.4933209419250488|\n",
              "|  2   | 220  | 1.6398682594299316|\n",
              "|  2   | 230  | 1.4704344272613525|\n",
              "|  2   | 240  | 1.8613994121551514|\n",
              "|  2   | 250  | 2.2227628231048584|\n",
              "|  2   | 260  | 1.0401978492736816|\n",
              "|  2   | 270  | 1.4994937181472778|\n",
              "|  2   | 280  | 1.9607950448989868|\n",
              "|  2   | 290  | 2.7210850715637207|\n",
              "|  2   | 300  | 1.1403954029083252|\n",
              "|  2   | 310  | 1.5371898412704468|\n",
              "|  2   | 320  | 2.7806200981140137|\n",
              "|  2   | 330  | 1.8619147539138794|\n",
              "|  2   | 340  | 1.7364140748977661|\n",
              "|  2   | 350  | 1.5270460844039917|\n",
              "|  2   | 360  | 2.0981853008270264|\n",
              "|  2   | 370  | 1.918500304222107 |\n",
              "|  2   | 380  | 2.54180645942688  |\n",
              "|  2   | 390  | 2.16631817817688  |\n",
              "|  2   | 400  | 1.4754096269607544|\n",
              "|  2   | 410  | 1.2175973653793335|\n",
              "|  2   | 420  | 1.3877021074295044|\n",
              "|  2   | 430  | 1.938889741897583 |\n",
              "|  2   | 440  | 1.1123968362808228|\n",
              "|  2   | 450  | 1.1042839288711548|\n",
              "|  2   | 460  | 1.5494974851608276|\n",
              "|  2   | 470  | 2.945237636566162 |\n",
              "|  2   | 480  | 1.9628238677978516|\n",
              "|  3   |  0   | 1.295908808708191 |\n",
              "|  3   |  10  | 1.5706567764282227|\n",
              "|  3   |  20  | 1.3342175483703613|\n",
              "|  3   |  30  | 1.2876821756362915|\n",
              "|  3   |  40  | 1.0918349027633667|\n",
              "|  3   |  50  | 1.1486397981643677|\n",
              "|  3   |  60  | 1.50021493434906  |\n",
              "|  3   |  70  | 1.471283197402954 |\n",
              "|  3   |  80  | 0.8850721120834351|\n",
              "|  3   |  90  | 2.3835561275482178|\n",
              "|  3   | 100  | 1.8806406259536743|\n",
              "|  3   | 110  | 1.2621349096298218|\n",
              "|  3   | 120  | 2.8190767765045166|\n",
              "|  3   | 130  | 2.5808916091918945|\n",
              "|  3   | 140  | 0.9439759850502014|\n",
              "|  3   | 150  | 1.0268186330795288|\n",
              "|  3   | 160  | 1.4327994585037231|\n",
              "|  3   | 170  | 0.9614822268486023|\n",
              "|  3   | 180  | 1.1837329864501953|\n",
              "|  3   | 190  | 0.7829968929290771|\n",
              "|  3   | 200  | 1.9183429479599   |\n",
              "|  3   | 210  | 1.2715778350830078|\n",
              "|  3   | 220  | 1.6555253267288208|\n",
              "|  3   | 230  | 1.5516375303268433|\n",
              "|  3   | 240  | 1.9597417116165161|\n",
              "|  3   | 250  | 1.3172634840011597|\n",
              "|  3   | 260  | 1.4965187311172485|\n",
              "|  3   | 270  | 1.5805575847625732|\n",
              "|  3   | 280  | 2.04761004447937  |\n",
              "|  3   | 290  | 1.9449820518493652|\n",
              "|  3   | 300  | 3.1080498695373535|\n",
              "|  3   | 310  | 1.3841418027877808|\n",
              "|  3   | 320  | 1.3072149753570557|\n",
              "|  3   | 330  | 1.5747758150100708|\n",
              "|  3   | 340  | 1.9612146615982056|\n",
              "|  3   | 350  | 2.6329903602600098|\n",
              "|  3   | 360  | 2.069291114807129 |\n",
              "|  3   | 370  | 1.4809035062789917|\n",
              "|  3   | 380  | 2.144590139389038 |\n",
              "|  3   | 390  | 1.6833555698394775|\n",
              "|  3   | 400  | 1.7323009967803955|\n",
              "|  3   | 410  | 1.3750280141830444|\n",
              "|  3   | 420  | 0.8088632822036743|\n",
              "|  3   | 430  | 1.5578893423080444|\n",
              "|  3   | 440  | 1.4432214498519897|\n",
              "|  3   | 450  | 2.5535974502563477|\n",
              "|  3   | 460  | 2.241990566253662 |\n",
              "|  3   | 470  | 1.6456764936447144|\n",
              "|  3   | 480  | 1.1782253980636597|\n",
              "+---------------------------------+\n",
              "</pre>\n"
            ]
          },
          "metadata": {}
        },
        {
          "output_type": "display_data",
          "data": {
            "text/plain": [
              "Epoch:  \u001b[1;36m4\u001b[0m Steps:  \u001b[1;36m0\u001b[0m Loss:  \u001b[1;36m1.9270107746124268\u001b[0m\n"
            ],
            "text/html": [
              "<pre style=\"white-space:pre;overflow-x:auto;line-height:normal;font-family:Menlo,'DejaVu Sans Mono',consolas,'Courier New',monospace\">Epoch:  <span style=\"color: #008080; text-decoration-color: #008080; font-weight: bold\">4</span> Steps:  <span style=\"color: #008080; text-decoration-color: #008080; font-weight: bold\">0</span> Loss:  <span style=\"color: #008080; text-decoration-color: #008080; font-weight: bold\">1.9270107746124268</span>\n",
              "</pre>\n"
            ]
          },
          "metadata": {}
        },
        {
          "output_type": "display_data",
          "data": {
            "text/plain": [
              "Epoch:  \u001b[1;36m4\u001b[0m Steps:  \u001b[1;36m10\u001b[0m Loss:  \u001b[1;36m1.372456669807434\u001b[0m\n"
            ],
            "text/html": [
              "<pre style=\"white-space:pre;overflow-x:auto;line-height:normal;font-family:Menlo,'DejaVu Sans Mono',consolas,'Courier New',monospace\">Epoch:  <span style=\"color: #008080; text-decoration-color: #008080; font-weight: bold\">4</span> Steps:  <span style=\"color: #008080; text-decoration-color: #008080; font-weight: bold\">10</span> Loss:  <span style=\"color: #008080; text-decoration-color: #008080; font-weight: bold\">1.372456669807434</span>\n",
              "</pre>\n"
            ]
          },
          "metadata": {}
        },
        {
          "output_type": "display_data",
          "data": {
            "text/plain": [
              "Epoch:  \u001b[1;36m4\u001b[0m Steps:  \u001b[1;36m20\u001b[0m Loss:  \u001b[1;36m1.2404298782348633\u001b[0m\n"
            ],
            "text/html": [
              "<pre style=\"white-space:pre;overflow-x:auto;line-height:normal;font-family:Menlo,'DejaVu Sans Mono',consolas,'Courier New',monospace\">Epoch:  <span style=\"color: #008080; text-decoration-color: #008080; font-weight: bold\">4</span> Steps:  <span style=\"color: #008080; text-decoration-color: #008080; font-weight: bold\">20</span> Loss:  <span style=\"color: #008080; text-decoration-color: #008080; font-weight: bold\">1.2404298782348633</span>\n",
              "</pre>\n"
            ]
          },
          "metadata": {}
        },
        {
          "output_type": "display_data",
          "data": {
            "text/plain": [
              "Epoch:  \u001b[1;36m4\u001b[0m Steps:  \u001b[1;36m30\u001b[0m Loss:  \u001b[1;36m1.8174890279769897\u001b[0m\n"
            ],
            "text/html": [
              "<pre style=\"white-space:pre;overflow-x:auto;line-height:normal;font-family:Menlo,'DejaVu Sans Mono',consolas,'Courier New',monospace\">Epoch:  <span style=\"color: #008080; text-decoration-color: #008080; font-weight: bold\">4</span> Steps:  <span style=\"color: #008080; text-decoration-color: #008080; font-weight: bold\">30</span> Loss:  <span style=\"color: #008080; text-decoration-color: #008080; font-weight: bold\">1.8174890279769897</span>\n",
              "</pre>\n"
            ]
          },
          "metadata": {}
        },
        {
          "output_type": "display_data",
          "data": {
            "text/plain": [
              "Epoch:  \u001b[1;36m4\u001b[0m Steps:  \u001b[1;36m40\u001b[0m Loss:  \u001b[1;36m1.3252655267715454\u001b[0m\n"
            ],
            "text/html": [
              "<pre style=\"white-space:pre;overflow-x:auto;line-height:normal;font-family:Menlo,'DejaVu Sans Mono',consolas,'Courier New',monospace\">Epoch:  <span style=\"color: #008080; text-decoration-color: #008080; font-weight: bold\">4</span> Steps:  <span style=\"color: #008080; text-decoration-color: #008080; font-weight: bold\">40</span> Loss:  <span style=\"color: #008080; text-decoration-color: #008080; font-weight: bold\">1.3252655267715454</span>\n",
              "</pre>\n"
            ]
          },
          "metadata": {}
        },
        {
          "output_type": "display_data",
          "data": {
            "text/plain": [
              "Epoch:  \u001b[1;36m4\u001b[0m Steps:  \u001b[1;36m50\u001b[0m Loss:  \u001b[1;36m1.2283766269683838\u001b[0m\n"
            ],
            "text/html": [
              "<pre style=\"white-space:pre;overflow-x:auto;line-height:normal;font-family:Menlo,'DejaVu Sans Mono',consolas,'Courier New',monospace\">Epoch:  <span style=\"color: #008080; text-decoration-color: #008080; font-weight: bold\">4</span> Steps:  <span style=\"color: #008080; text-decoration-color: #008080; font-weight: bold\">50</span> Loss:  <span style=\"color: #008080; text-decoration-color: #008080; font-weight: bold\">1.2283766269683838</span>\n",
              "</pre>\n"
            ]
          },
          "metadata": {}
        },
        {
          "output_type": "display_data",
          "data": {
            "text/plain": [
              "Epoch:  \u001b[1;36m4\u001b[0m Steps:  \u001b[1;36m60\u001b[0m Loss:  \u001b[1;36m2.0272457599639893\u001b[0m\n"
            ],
            "text/html": [
              "<pre style=\"white-space:pre;overflow-x:auto;line-height:normal;font-family:Menlo,'DejaVu Sans Mono',consolas,'Courier New',monospace\">Epoch:  <span style=\"color: #008080; text-decoration-color: #008080; font-weight: bold\">4</span> Steps:  <span style=\"color: #008080; text-decoration-color: #008080; font-weight: bold\">60</span> Loss:  <span style=\"color: #008080; text-decoration-color: #008080; font-weight: bold\">2.0272457599639893</span>\n",
              "</pre>\n"
            ]
          },
          "metadata": {}
        },
        {
          "output_type": "display_data",
          "data": {
            "text/plain": [
              "Epoch:  \u001b[1;36m4\u001b[0m Steps:  \u001b[1;36m70\u001b[0m Loss:  \u001b[1;36m2.116102457046509\u001b[0m\n"
            ],
            "text/html": [
              "<pre style=\"white-space:pre;overflow-x:auto;line-height:normal;font-family:Menlo,'DejaVu Sans Mono',consolas,'Courier New',monospace\">Epoch:  <span style=\"color: #008080; text-decoration-color: #008080; font-weight: bold\">4</span> Steps:  <span style=\"color: #008080; text-decoration-color: #008080; font-weight: bold\">70</span> Loss:  <span style=\"color: #008080; text-decoration-color: #008080; font-weight: bold\">2.116102457046509</span>\n",
              "</pre>\n"
            ]
          },
          "metadata": {}
        },
        {
          "output_type": "display_data",
          "data": {
            "text/plain": [
              "Epoch:  \u001b[1;36m4\u001b[0m Steps:  \u001b[1;36m80\u001b[0m Loss:  \u001b[1;36m2.2406468391418457\u001b[0m\n"
            ],
            "text/html": [
              "<pre style=\"white-space:pre;overflow-x:auto;line-height:normal;font-family:Menlo,'DejaVu Sans Mono',consolas,'Courier New',monospace\">Epoch:  <span style=\"color: #008080; text-decoration-color: #008080; font-weight: bold\">4</span> Steps:  <span style=\"color: #008080; text-decoration-color: #008080; font-weight: bold\">80</span> Loss:  <span style=\"color: #008080; text-decoration-color: #008080; font-weight: bold\">2.2406468391418457</span>\n",
              "</pre>\n"
            ]
          },
          "metadata": {}
        },
        {
          "output_type": "display_data",
          "data": {
            "text/plain": [
              "Epoch:  \u001b[1;36m4\u001b[0m Steps:  \u001b[1;36m90\u001b[0m Loss:  \u001b[1;36m1.9009337425231934\u001b[0m\n"
            ],
            "text/html": [
              "<pre style=\"white-space:pre;overflow-x:auto;line-height:normal;font-family:Menlo,'DejaVu Sans Mono',consolas,'Courier New',monospace\">Epoch:  <span style=\"color: #008080; text-decoration-color: #008080; font-weight: bold\">4</span> Steps:  <span style=\"color: #008080; text-decoration-color: #008080; font-weight: bold\">90</span> Loss:  <span style=\"color: #008080; text-decoration-color: #008080; font-weight: bold\">1.9009337425231934</span>\n",
              "</pre>\n"
            ]
          },
          "metadata": {}
        },
        {
          "output_type": "display_data",
          "data": {
            "text/plain": [
              "Epoch:  \u001b[1;36m4\u001b[0m Steps:  \u001b[1;36m100\u001b[0m Loss:  \u001b[1;36m0.7303534150123596\u001b[0m\n"
            ],
            "text/html": [
              "<pre style=\"white-space:pre;overflow-x:auto;line-height:normal;font-family:Menlo,'DejaVu Sans Mono',consolas,'Courier New',monospace\">Epoch:  <span style=\"color: #008080; text-decoration-color: #008080; font-weight: bold\">4</span> Steps:  <span style=\"color: #008080; text-decoration-color: #008080; font-weight: bold\">100</span> Loss:  <span style=\"color: #008080; text-decoration-color: #008080; font-weight: bold\">0.7303534150123596</span>\n",
              "</pre>\n"
            ]
          },
          "metadata": {}
        },
        {
          "output_type": "display_data",
          "data": {
            "text/plain": [
              "Epoch:  \u001b[1;36m4\u001b[0m Steps:  \u001b[1;36m110\u001b[0m Loss:  \u001b[1;36m1.7106451988220215\u001b[0m\n"
            ],
            "text/html": [
              "<pre style=\"white-space:pre;overflow-x:auto;line-height:normal;font-family:Menlo,'DejaVu Sans Mono',consolas,'Courier New',monospace\">Epoch:  <span style=\"color: #008080; text-decoration-color: #008080; font-weight: bold\">4</span> Steps:  <span style=\"color: #008080; text-decoration-color: #008080; font-weight: bold\">110</span> Loss:  <span style=\"color: #008080; text-decoration-color: #008080; font-weight: bold\">1.7106451988220215</span>\n",
              "</pre>\n"
            ]
          },
          "metadata": {}
        },
        {
          "output_type": "display_data",
          "data": {
            "text/plain": [
              "Epoch:  \u001b[1;36m4\u001b[0m Steps:  \u001b[1;36m120\u001b[0m Loss:  \u001b[1;36m1.6129722595214844\u001b[0m\n"
            ],
            "text/html": [
              "<pre style=\"white-space:pre;overflow-x:auto;line-height:normal;font-family:Menlo,'DejaVu Sans Mono',consolas,'Courier New',monospace\">Epoch:  <span style=\"color: #008080; text-decoration-color: #008080; font-weight: bold\">4</span> Steps:  <span style=\"color: #008080; text-decoration-color: #008080; font-weight: bold\">120</span> Loss:  <span style=\"color: #008080; text-decoration-color: #008080; font-weight: bold\">1.6129722595214844</span>\n",
              "</pre>\n"
            ]
          },
          "metadata": {}
        },
        {
          "output_type": "display_data",
          "data": {
            "text/plain": [
              "Epoch:  \u001b[1;36m4\u001b[0m Steps:  \u001b[1;36m130\u001b[0m Loss:  \u001b[1;36m1.1584160327911377\u001b[0m\n"
            ],
            "text/html": [
              "<pre style=\"white-space:pre;overflow-x:auto;line-height:normal;font-family:Menlo,'DejaVu Sans Mono',consolas,'Courier New',monospace\">Epoch:  <span style=\"color: #008080; text-decoration-color: #008080; font-weight: bold\">4</span> Steps:  <span style=\"color: #008080; text-decoration-color: #008080; font-weight: bold\">130</span> Loss:  <span style=\"color: #008080; text-decoration-color: #008080; font-weight: bold\">1.1584160327911377</span>\n",
              "</pre>\n"
            ]
          },
          "metadata": {}
        },
        {
          "output_type": "display_data",
          "data": {
            "text/plain": [
              "Epoch:  \u001b[1;36m4\u001b[0m Steps:  \u001b[1;36m140\u001b[0m Loss:  \u001b[1;36m1.1543924808502197\u001b[0m\n"
            ],
            "text/html": [
              "<pre style=\"white-space:pre;overflow-x:auto;line-height:normal;font-family:Menlo,'DejaVu Sans Mono',consolas,'Courier New',monospace\">Epoch:  <span style=\"color: #008080; text-decoration-color: #008080; font-weight: bold\">4</span> Steps:  <span style=\"color: #008080; text-decoration-color: #008080; font-weight: bold\">140</span> Loss:  <span style=\"color: #008080; text-decoration-color: #008080; font-weight: bold\">1.1543924808502197</span>\n",
              "</pre>\n"
            ]
          },
          "metadata": {}
        },
        {
          "output_type": "display_data",
          "data": {
            "text/plain": [
              "Epoch:  \u001b[1;36m4\u001b[0m Steps:  \u001b[1;36m150\u001b[0m Loss:  \u001b[1;36m1.079156756401062\u001b[0m\n"
            ],
            "text/html": [
              "<pre style=\"white-space:pre;overflow-x:auto;line-height:normal;font-family:Menlo,'DejaVu Sans Mono',consolas,'Courier New',monospace\">Epoch:  <span style=\"color: #008080; text-decoration-color: #008080; font-weight: bold\">4</span> Steps:  <span style=\"color: #008080; text-decoration-color: #008080; font-weight: bold\">150</span> Loss:  <span style=\"color: #008080; text-decoration-color: #008080; font-weight: bold\">1.079156756401062</span>\n",
              "</pre>\n"
            ]
          },
          "metadata": {}
        },
        {
          "output_type": "display_data",
          "data": {
            "text/plain": [
              "Epoch:  \u001b[1;36m4\u001b[0m Steps:  \u001b[1;36m160\u001b[0m Loss:  \u001b[1;36m1.418411135673523\u001b[0m\n"
            ],
            "text/html": [
              "<pre style=\"white-space:pre;overflow-x:auto;line-height:normal;font-family:Menlo,'DejaVu Sans Mono',consolas,'Courier New',monospace\">Epoch:  <span style=\"color: #008080; text-decoration-color: #008080; font-weight: bold\">4</span> Steps:  <span style=\"color: #008080; text-decoration-color: #008080; font-weight: bold\">160</span> Loss:  <span style=\"color: #008080; text-decoration-color: #008080; font-weight: bold\">1.418411135673523</span>\n",
              "</pre>\n"
            ]
          },
          "metadata": {}
        },
        {
          "output_type": "display_data",
          "data": {
            "text/plain": [
              "Epoch:  \u001b[1;36m4\u001b[0m Steps:  \u001b[1;36m170\u001b[0m Loss:  \u001b[1;36m1.204205870628357\u001b[0m\n"
            ],
            "text/html": [
              "<pre style=\"white-space:pre;overflow-x:auto;line-height:normal;font-family:Menlo,'DejaVu Sans Mono',consolas,'Courier New',monospace\">Epoch:  <span style=\"color: #008080; text-decoration-color: #008080; font-weight: bold\">4</span> Steps:  <span style=\"color: #008080; text-decoration-color: #008080; font-weight: bold\">170</span> Loss:  <span style=\"color: #008080; text-decoration-color: #008080; font-weight: bold\">1.204205870628357</span>\n",
              "</pre>\n"
            ]
          },
          "metadata": {}
        },
        {
          "output_type": "display_data",
          "data": {
            "text/plain": [
              "Epoch:  \u001b[1;36m4\u001b[0m Steps:  \u001b[1;36m180\u001b[0m Loss:  \u001b[1;36m1.5199456214904785\u001b[0m\n"
            ],
            "text/html": [
              "<pre style=\"white-space:pre;overflow-x:auto;line-height:normal;font-family:Menlo,'DejaVu Sans Mono',consolas,'Courier New',monospace\">Epoch:  <span style=\"color: #008080; text-decoration-color: #008080; font-weight: bold\">4</span> Steps:  <span style=\"color: #008080; text-decoration-color: #008080; font-weight: bold\">180</span> Loss:  <span style=\"color: #008080; text-decoration-color: #008080; font-weight: bold\">1.5199456214904785</span>\n",
              "</pre>\n"
            ]
          },
          "metadata": {}
        },
        {
          "output_type": "display_data",
          "data": {
            "text/plain": [
              "Epoch:  \u001b[1;36m4\u001b[0m Steps:  \u001b[1;36m190\u001b[0m Loss:  \u001b[1;36m2.1758317947387695\u001b[0m\n"
            ],
            "text/html": [
              "<pre style=\"white-space:pre;overflow-x:auto;line-height:normal;font-family:Menlo,'DejaVu Sans Mono',consolas,'Courier New',monospace\">Epoch:  <span style=\"color: #008080; text-decoration-color: #008080; font-weight: bold\">4</span> Steps:  <span style=\"color: #008080; text-decoration-color: #008080; font-weight: bold\">190</span> Loss:  <span style=\"color: #008080; text-decoration-color: #008080; font-weight: bold\">2.1758317947387695</span>\n",
              "</pre>\n"
            ]
          },
          "metadata": {}
        },
        {
          "output_type": "display_data",
          "data": {
            "text/plain": [
              "Epoch:  \u001b[1;36m4\u001b[0m Steps:  \u001b[1;36m200\u001b[0m Loss:  \u001b[1;36m1.1923404932022095\u001b[0m\n"
            ],
            "text/html": [
              "<pre style=\"white-space:pre;overflow-x:auto;line-height:normal;font-family:Menlo,'DejaVu Sans Mono',consolas,'Courier New',monospace\">Epoch:  <span style=\"color: #008080; text-decoration-color: #008080; font-weight: bold\">4</span> Steps:  <span style=\"color: #008080; text-decoration-color: #008080; font-weight: bold\">200</span> Loss:  <span style=\"color: #008080; text-decoration-color: #008080; font-weight: bold\">1.1923404932022095</span>\n",
              "</pre>\n"
            ]
          },
          "metadata": {}
        },
        {
          "output_type": "display_data",
          "data": {
            "text/plain": [
              "Epoch:  \u001b[1;36m4\u001b[0m Steps:  \u001b[1;36m210\u001b[0m Loss:  \u001b[1;36m1.0463969707489014\u001b[0m\n"
            ],
            "text/html": [
              "<pre style=\"white-space:pre;overflow-x:auto;line-height:normal;font-family:Menlo,'DejaVu Sans Mono',consolas,'Courier New',monospace\">Epoch:  <span style=\"color: #008080; text-decoration-color: #008080; font-weight: bold\">4</span> Steps:  <span style=\"color: #008080; text-decoration-color: #008080; font-weight: bold\">210</span> Loss:  <span style=\"color: #008080; text-decoration-color: #008080; font-weight: bold\">1.0463969707489014</span>\n",
              "</pre>\n"
            ]
          },
          "metadata": {}
        },
        {
          "output_type": "display_data",
          "data": {
            "text/plain": [
              "Epoch:  \u001b[1;36m4\u001b[0m Steps:  \u001b[1;36m220\u001b[0m Loss:  \u001b[1;36m1.069231390953064\u001b[0m\n"
            ],
            "text/html": [
              "<pre style=\"white-space:pre;overflow-x:auto;line-height:normal;font-family:Menlo,'DejaVu Sans Mono',consolas,'Courier New',monospace\">Epoch:  <span style=\"color: #008080; text-decoration-color: #008080; font-weight: bold\">4</span> Steps:  <span style=\"color: #008080; text-decoration-color: #008080; font-weight: bold\">220</span> Loss:  <span style=\"color: #008080; text-decoration-color: #008080; font-weight: bold\">1.069231390953064</span>\n",
              "</pre>\n"
            ]
          },
          "metadata": {}
        },
        {
          "output_type": "display_data",
          "data": {
            "text/plain": [
              "Epoch:  \u001b[1;36m4\u001b[0m Steps:  \u001b[1;36m230\u001b[0m Loss:  \u001b[1;36m2.5511817932128906\u001b[0m\n"
            ],
            "text/html": [
              "<pre style=\"white-space:pre;overflow-x:auto;line-height:normal;font-family:Menlo,'DejaVu Sans Mono',consolas,'Courier New',monospace\">Epoch:  <span style=\"color: #008080; text-decoration-color: #008080; font-weight: bold\">4</span> Steps:  <span style=\"color: #008080; text-decoration-color: #008080; font-weight: bold\">230</span> Loss:  <span style=\"color: #008080; text-decoration-color: #008080; font-weight: bold\">2.5511817932128906</span>\n",
              "</pre>\n"
            ]
          },
          "metadata": {}
        },
        {
          "output_type": "display_data",
          "data": {
            "text/plain": [
              "Epoch:  \u001b[1;36m4\u001b[0m Steps:  \u001b[1;36m240\u001b[0m Loss:  \u001b[1;36m0.8945176601409912\u001b[0m\n"
            ],
            "text/html": [
              "<pre style=\"white-space:pre;overflow-x:auto;line-height:normal;font-family:Menlo,'DejaVu Sans Mono',consolas,'Courier New',monospace\">Epoch:  <span style=\"color: #008080; text-decoration-color: #008080; font-weight: bold\">4</span> Steps:  <span style=\"color: #008080; text-decoration-color: #008080; font-weight: bold\">240</span> Loss:  <span style=\"color: #008080; text-decoration-color: #008080; font-weight: bold\">0.8945176601409912</span>\n",
              "</pre>\n"
            ]
          },
          "metadata": {}
        },
        {
          "output_type": "display_data",
          "data": {
            "text/plain": [
              "Epoch:  \u001b[1;36m4\u001b[0m Steps:  \u001b[1;36m250\u001b[0m Loss:  \u001b[1;36m0.8530354499816895\u001b[0m\n"
            ],
            "text/html": [
              "<pre style=\"white-space:pre;overflow-x:auto;line-height:normal;font-family:Menlo,'DejaVu Sans Mono',consolas,'Courier New',monospace\">Epoch:  <span style=\"color: #008080; text-decoration-color: #008080; font-weight: bold\">4</span> Steps:  <span style=\"color: #008080; text-decoration-color: #008080; font-weight: bold\">250</span> Loss:  <span style=\"color: #008080; text-decoration-color: #008080; font-weight: bold\">0.8530354499816895</span>\n",
              "</pre>\n"
            ]
          },
          "metadata": {}
        },
        {
          "output_type": "display_data",
          "data": {
            "text/plain": [
              "Epoch:  \u001b[1;36m4\u001b[0m Steps:  \u001b[1;36m260\u001b[0m Loss:  \u001b[1;36m1.5705903768539429\u001b[0m\n"
            ],
            "text/html": [
              "<pre style=\"white-space:pre;overflow-x:auto;line-height:normal;font-family:Menlo,'DejaVu Sans Mono',consolas,'Courier New',monospace\">Epoch:  <span style=\"color: #008080; text-decoration-color: #008080; font-weight: bold\">4</span> Steps:  <span style=\"color: #008080; text-decoration-color: #008080; font-weight: bold\">260</span> Loss:  <span style=\"color: #008080; text-decoration-color: #008080; font-weight: bold\">1.5705903768539429</span>\n",
              "</pre>\n"
            ]
          },
          "metadata": {}
        },
        {
          "output_type": "display_data",
          "data": {
            "text/plain": [
              "Epoch:  \u001b[1;36m4\u001b[0m Steps:  \u001b[1;36m270\u001b[0m Loss:  \u001b[1;36m2.336970806121826\u001b[0m\n"
            ],
            "text/html": [
              "<pre style=\"white-space:pre;overflow-x:auto;line-height:normal;font-family:Menlo,'DejaVu Sans Mono',consolas,'Courier New',monospace\">Epoch:  <span style=\"color: #008080; text-decoration-color: #008080; font-weight: bold\">4</span> Steps:  <span style=\"color: #008080; text-decoration-color: #008080; font-weight: bold\">270</span> Loss:  <span style=\"color: #008080; text-decoration-color: #008080; font-weight: bold\">2.336970806121826</span>\n",
              "</pre>\n"
            ]
          },
          "metadata": {}
        },
        {
          "output_type": "display_data",
          "data": {
            "text/plain": [
              "Epoch:  \u001b[1;36m4\u001b[0m Steps:  \u001b[1;36m280\u001b[0m Loss:  \u001b[1;36m1.651601791381836\u001b[0m\n"
            ],
            "text/html": [
              "<pre style=\"white-space:pre;overflow-x:auto;line-height:normal;font-family:Menlo,'DejaVu Sans Mono',consolas,'Courier New',monospace\">Epoch:  <span style=\"color: #008080; text-decoration-color: #008080; font-weight: bold\">4</span> Steps:  <span style=\"color: #008080; text-decoration-color: #008080; font-weight: bold\">280</span> Loss:  <span style=\"color: #008080; text-decoration-color: #008080; font-weight: bold\">1.651601791381836</span>\n",
              "</pre>\n"
            ]
          },
          "metadata": {}
        },
        {
          "output_type": "display_data",
          "data": {
            "text/plain": [
              "Epoch:  \u001b[1;36m4\u001b[0m Steps:  \u001b[1;36m290\u001b[0m Loss:  \u001b[1;36m1.8698612451553345\u001b[0m\n"
            ],
            "text/html": [
              "<pre style=\"white-space:pre;overflow-x:auto;line-height:normal;font-family:Menlo,'DejaVu Sans Mono',consolas,'Courier New',monospace\">Epoch:  <span style=\"color: #008080; text-decoration-color: #008080; font-weight: bold\">4</span> Steps:  <span style=\"color: #008080; text-decoration-color: #008080; font-weight: bold\">290</span> Loss:  <span style=\"color: #008080; text-decoration-color: #008080; font-weight: bold\">1.8698612451553345</span>\n",
              "</pre>\n"
            ]
          },
          "metadata": {}
        },
        {
          "output_type": "display_data",
          "data": {
            "text/plain": [
              "Epoch:  \u001b[1;36m4\u001b[0m Steps:  \u001b[1;36m300\u001b[0m Loss:  \u001b[1;36m1.1936839818954468\u001b[0m\n"
            ],
            "text/html": [
              "<pre style=\"white-space:pre;overflow-x:auto;line-height:normal;font-family:Menlo,'DejaVu Sans Mono',consolas,'Courier New',monospace\">Epoch:  <span style=\"color: #008080; text-decoration-color: #008080; font-weight: bold\">4</span> Steps:  <span style=\"color: #008080; text-decoration-color: #008080; font-weight: bold\">300</span> Loss:  <span style=\"color: #008080; text-decoration-color: #008080; font-weight: bold\">1.1936839818954468</span>\n",
              "</pre>\n"
            ]
          },
          "metadata": {}
        },
        {
          "output_type": "display_data",
          "data": {
            "text/plain": [
              "Epoch:  \u001b[1;36m4\u001b[0m Steps:  \u001b[1;36m310\u001b[0m Loss:  \u001b[1;36m1.7207915782928467\u001b[0m\n"
            ],
            "text/html": [
              "<pre style=\"white-space:pre;overflow-x:auto;line-height:normal;font-family:Menlo,'DejaVu Sans Mono',consolas,'Courier New',monospace\">Epoch:  <span style=\"color: #008080; text-decoration-color: #008080; font-weight: bold\">4</span> Steps:  <span style=\"color: #008080; text-decoration-color: #008080; font-weight: bold\">310</span> Loss:  <span style=\"color: #008080; text-decoration-color: #008080; font-weight: bold\">1.7207915782928467</span>\n",
              "</pre>\n"
            ]
          },
          "metadata": {}
        },
        {
          "output_type": "display_data",
          "data": {
            "text/plain": [
              "Epoch:  \u001b[1;36m4\u001b[0m Steps:  \u001b[1;36m320\u001b[0m Loss:  \u001b[1;36m2.488856554031372\u001b[0m\n"
            ],
            "text/html": [
              "<pre style=\"white-space:pre;overflow-x:auto;line-height:normal;font-family:Menlo,'DejaVu Sans Mono',consolas,'Courier New',monospace\">Epoch:  <span style=\"color: #008080; text-decoration-color: #008080; font-weight: bold\">4</span> Steps:  <span style=\"color: #008080; text-decoration-color: #008080; font-weight: bold\">320</span> Loss:  <span style=\"color: #008080; text-decoration-color: #008080; font-weight: bold\">2.488856554031372</span>\n",
              "</pre>\n"
            ]
          },
          "metadata": {}
        },
        {
          "output_type": "display_data",
          "data": {
            "text/plain": [
              "Epoch:  \u001b[1;36m4\u001b[0m Steps:  \u001b[1;36m330\u001b[0m Loss:  \u001b[1;36m1.3278120756149292\u001b[0m\n"
            ],
            "text/html": [
              "<pre style=\"white-space:pre;overflow-x:auto;line-height:normal;font-family:Menlo,'DejaVu Sans Mono',consolas,'Courier New',monospace\">Epoch:  <span style=\"color: #008080; text-decoration-color: #008080; font-weight: bold\">4</span> Steps:  <span style=\"color: #008080; text-decoration-color: #008080; font-weight: bold\">330</span> Loss:  <span style=\"color: #008080; text-decoration-color: #008080; font-weight: bold\">1.3278120756149292</span>\n",
              "</pre>\n"
            ]
          },
          "metadata": {}
        },
        {
          "output_type": "display_data",
          "data": {
            "text/plain": [
              "Epoch:  \u001b[1;36m4\u001b[0m Steps:  \u001b[1;36m340\u001b[0m Loss:  \u001b[1;36m0.7403916716575623\u001b[0m\n"
            ],
            "text/html": [
              "<pre style=\"white-space:pre;overflow-x:auto;line-height:normal;font-family:Menlo,'DejaVu Sans Mono',consolas,'Courier New',monospace\">Epoch:  <span style=\"color: #008080; text-decoration-color: #008080; font-weight: bold\">4</span> Steps:  <span style=\"color: #008080; text-decoration-color: #008080; font-weight: bold\">340</span> Loss:  <span style=\"color: #008080; text-decoration-color: #008080; font-weight: bold\">0.7403916716575623</span>\n",
              "</pre>\n"
            ]
          },
          "metadata": {}
        },
        {
          "output_type": "display_data",
          "data": {
            "text/plain": [
              "Epoch:  \u001b[1;36m4\u001b[0m Steps:  \u001b[1;36m350\u001b[0m Loss:  \u001b[1;36m2.771528959274292\u001b[0m\n"
            ],
            "text/html": [
              "<pre style=\"white-space:pre;overflow-x:auto;line-height:normal;font-family:Menlo,'DejaVu Sans Mono',consolas,'Courier New',monospace\">Epoch:  <span style=\"color: #008080; text-decoration-color: #008080; font-weight: bold\">4</span> Steps:  <span style=\"color: #008080; text-decoration-color: #008080; font-weight: bold\">350</span> Loss:  <span style=\"color: #008080; text-decoration-color: #008080; font-weight: bold\">2.771528959274292</span>\n",
              "</pre>\n"
            ]
          },
          "metadata": {}
        },
        {
          "output_type": "display_data",
          "data": {
            "text/plain": [
              "Epoch:  \u001b[1;36m4\u001b[0m Steps:  \u001b[1;36m360\u001b[0m Loss:  \u001b[1;36m2.1928677558898926\u001b[0m\n"
            ],
            "text/html": [
              "<pre style=\"white-space:pre;overflow-x:auto;line-height:normal;font-family:Menlo,'DejaVu Sans Mono',consolas,'Courier New',monospace\">Epoch:  <span style=\"color: #008080; text-decoration-color: #008080; font-weight: bold\">4</span> Steps:  <span style=\"color: #008080; text-decoration-color: #008080; font-weight: bold\">360</span> Loss:  <span style=\"color: #008080; text-decoration-color: #008080; font-weight: bold\">2.1928677558898926</span>\n",
              "</pre>\n"
            ]
          },
          "metadata": {}
        },
        {
          "output_type": "display_data",
          "data": {
            "text/plain": [
              "Epoch:  \u001b[1;36m4\u001b[0m Steps:  \u001b[1;36m370\u001b[0m Loss:  \u001b[1;36m1.455814003944397\u001b[0m\n"
            ],
            "text/html": [
              "<pre style=\"white-space:pre;overflow-x:auto;line-height:normal;font-family:Menlo,'DejaVu Sans Mono',consolas,'Courier New',monospace\">Epoch:  <span style=\"color: #008080; text-decoration-color: #008080; font-weight: bold\">4</span> Steps:  <span style=\"color: #008080; text-decoration-color: #008080; font-weight: bold\">370</span> Loss:  <span style=\"color: #008080; text-decoration-color: #008080; font-weight: bold\">1.455814003944397</span>\n",
              "</pre>\n"
            ]
          },
          "metadata": {}
        },
        {
          "output_type": "display_data",
          "data": {
            "text/plain": [
              "Epoch:  \u001b[1;36m4\u001b[0m Steps:  \u001b[1;36m380\u001b[0m Loss:  \u001b[1;36m1.2852356433868408\u001b[0m\n"
            ],
            "text/html": [
              "<pre style=\"white-space:pre;overflow-x:auto;line-height:normal;font-family:Menlo,'DejaVu Sans Mono',consolas,'Courier New',monospace\">Epoch:  <span style=\"color: #008080; text-decoration-color: #008080; font-weight: bold\">4</span> Steps:  <span style=\"color: #008080; text-decoration-color: #008080; font-weight: bold\">380</span> Loss:  <span style=\"color: #008080; text-decoration-color: #008080; font-weight: bold\">1.2852356433868408</span>\n",
              "</pre>\n"
            ]
          },
          "metadata": {}
        },
        {
          "output_type": "display_data",
          "data": {
            "text/plain": [
              "Epoch:  \u001b[1;36m4\u001b[0m Steps:  \u001b[1;36m390\u001b[0m Loss:  \u001b[1;36m1.2562222480773926\u001b[0m\n"
            ],
            "text/html": [
              "<pre style=\"white-space:pre;overflow-x:auto;line-height:normal;font-family:Menlo,'DejaVu Sans Mono',consolas,'Courier New',monospace\">Epoch:  <span style=\"color: #008080; text-decoration-color: #008080; font-weight: bold\">4</span> Steps:  <span style=\"color: #008080; text-decoration-color: #008080; font-weight: bold\">390</span> Loss:  <span style=\"color: #008080; text-decoration-color: #008080; font-weight: bold\">1.2562222480773926</span>\n",
              "</pre>\n"
            ]
          },
          "metadata": {}
        },
        {
          "output_type": "display_data",
          "data": {
            "text/plain": [
              "Epoch:  \u001b[1;36m4\u001b[0m Steps:  \u001b[1;36m400\u001b[0m Loss:  \u001b[1;36m1.1428942680358887\u001b[0m\n"
            ],
            "text/html": [
              "<pre style=\"white-space:pre;overflow-x:auto;line-height:normal;font-family:Menlo,'DejaVu Sans Mono',consolas,'Courier New',monospace\">Epoch:  <span style=\"color: #008080; text-decoration-color: #008080; font-weight: bold\">4</span> Steps:  <span style=\"color: #008080; text-decoration-color: #008080; font-weight: bold\">400</span> Loss:  <span style=\"color: #008080; text-decoration-color: #008080; font-weight: bold\">1.1428942680358887</span>\n",
              "</pre>\n"
            ]
          },
          "metadata": {}
        },
        {
          "output_type": "display_data",
          "data": {
            "text/plain": [
              "Epoch:  \u001b[1;36m4\u001b[0m Steps:  \u001b[1;36m410\u001b[0m Loss:  \u001b[1;36m1.282845377922058\u001b[0m\n"
            ],
            "text/html": [
              "<pre style=\"white-space:pre;overflow-x:auto;line-height:normal;font-family:Menlo,'DejaVu Sans Mono',consolas,'Courier New',monospace\">Epoch:  <span style=\"color: #008080; text-decoration-color: #008080; font-weight: bold\">4</span> Steps:  <span style=\"color: #008080; text-decoration-color: #008080; font-weight: bold\">410</span> Loss:  <span style=\"color: #008080; text-decoration-color: #008080; font-weight: bold\">1.282845377922058</span>\n",
              "</pre>\n"
            ]
          },
          "metadata": {}
        },
        {
          "output_type": "display_data",
          "data": {
            "text/plain": [
              "Epoch:  \u001b[1;36m4\u001b[0m Steps:  \u001b[1;36m420\u001b[0m Loss:  \u001b[1;36m1.460726261138916\u001b[0m\n"
            ],
            "text/html": [
              "<pre style=\"white-space:pre;overflow-x:auto;line-height:normal;font-family:Menlo,'DejaVu Sans Mono',consolas,'Courier New',monospace\">Epoch:  <span style=\"color: #008080; text-decoration-color: #008080; font-weight: bold\">4</span> Steps:  <span style=\"color: #008080; text-decoration-color: #008080; font-weight: bold\">420</span> Loss:  <span style=\"color: #008080; text-decoration-color: #008080; font-weight: bold\">1.460726261138916</span>\n",
              "</pre>\n"
            ]
          },
          "metadata": {}
        },
        {
          "output_type": "display_data",
          "data": {
            "text/plain": [
              "Epoch:  \u001b[1;36m4\u001b[0m Steps:  \u001b[1;36m430\u001b[0m Loss:  \u001b[1;36m0.7400120496749878\u001b[0m\n"
            ],
            "text/html": [
              "<pre style=\"white-space:pre;overflow-x:auto;line-height:normal;font-family:Menlo,'DejaVu Sans Mono',consolas,'Courier New',monospace\">Epoch:  <span style=\"color: #008080; text-decoration-color: #008080; font-weight: bold\">4</span> Steps:  <span style=\"color: #008080; text-decoration-color: #008080; font-weight: bold\">430</span> Loss:  <span style=\"color: #008080; text-decoration-color: #008080; font-weight: bold\">0.7400120496749878</span>\n",
              "</pre>\n"
            ]
          },
          "metadata": {}
        },
        {
          "output_type": "display_data",
          "data": {
            "text/plain": [
              "Epoch:  \u001b[1;36m4\u001b[0m Steps:  \u001b[1;36m440\u001b[0m Loss:  \u001b[1;36m1.5081355571746826\u001b[0m\n"
            ],
            "text/html": [
              "<pre style=\"white-space:pre;overflow-x:auto;line-height:normal;font-family:Menlo,'DejaVu Sans Mono',consolas,'Courier New',monospace\">Epoch:  <span style=\"color: #008080; text-decoration-color: #008080; font-weight: bold\">4</span> Steps:  <span style=\"color: #008080; text-decoration-color: #008080; font-weight: bold\">440</span> Loss:  <span style=\"color: #008080; text-decoration-color: #008080; font-weight: bold\">1.5081355571746826</span>\n",
              "</pre>\n"
            ]
          },
          "metadata": {}
        },
        {
          "output_type": "display_data",
          "data": {
            "text/plain": [
              "Epoch:  \u001b[1;36m4\u001b[0m Steps:  \u001b[1;36m450\u001b[0m Loss:  \u001b[1;36m1.3385387659072876\u001b[0m\n"
            ],
            "text/html": [
              "<pre style=\"white-space:pre;overflow-x:auto;line-height:normal;font-family:Menlo,'DejaVu Sans Mono',consolas,'Courier New',monospace\">Epoch:  <span style=\"color: #008080; text-decoration-color: #008080; font-weight: bold\">4</span> Steps:  <span style=\"color: #008080; text-decoration-color: #008080; font-weight: bold\">450</span> Loss:  <span style=\"color: #008080; text-decoration-color: #008080; font-weight: bold\">1.3385387659072876</span>\n",
              "</pre>\n"
            ]
          },
          "metadata": {}
        },
        {
          "output_type": "display_data",
          "data": {
            "text/plain": [
              "Epoch:  \u001b[1;36m4\u001b[0m Steps:  \u001b[1;36m460\u001b[0m Loss:  \u001b[1;36m2.0443150997161865\u001b[0m\n"
            ],
            "text/html": [
              "<pre style=\"white-space:pre;overflow-x:auto;line-height:normal;font-family:Menlo,'DejaVu Sans Mono',consolas,'Courier New',monospace\">Epoch:  <span style=\"color: #008080; text-decoration-color: #008080; font-weight: bold\">4</span> Steps:  <span style=\"color: #008080; text-decoration-color: #008080; font-weight: bold\">460</span> Loss:  <span style=\"color: #008080; text-decoration-color: #008080; font-weight: bold\">2.0443150997161865</span>\n",
              "</pre>\n"
            ]
          },
          "metadata": {}
        },
        {
          "output_type": "display_data",
          "data": {
            "text/plain": [
              "Epoch:  \u001b[1;36m4\u001b[0m Steps:  \u001b[1;36m470\u001b[0m Loss:  \u001b[1;36m1.579140543937683\u001b[0m\n"
            ],
            "text/html": [
              "<pre style=\"white-space:pre;overflow-x:auto;line-height:normal;font-family:Menlo,'DejaVu Sans Mono',consolas,'Courier New',monospace\">Epoch:  <span style=\"color: #008080; text-decoration-color: #008080; font-weight: bold\">4</span> Steps:  <span style=\"color: #008080; text-decoration-color: #008080; font-weight: bold\">470</span> Loss:  <span style=\"color: #008080; text-decoration-color: #008080; font-weight: bold\">1.579140543937683</span>\n",
              "</pre>\n"
            ]
          },
          "metadata": {}
        },
        {
          "output_type": "display_data",
          "data": {
            "text/plain": [
              "Epoch:  \u001b[1;36m4\u001b[0m Steps:  \u001b[1;36m480\u001b[0m Loss:  \u001b[1;36m1.781546950340271\u001b[0m\n"
            ],
            "text/html": [
              "<pre style=\"white-space:pre;overflow-x:auto;line-height:normal;font-family:Menlo,'DejaVu Sans Mono',consolas,'Courier New',monospace\">Epoch:  <span style=\"color: #008080; text-decoration-color: #008080; font-weight: bold\">4</span> Steps:  <span style=\"color: #008080; text-decoration-color: #008080; font-weight: bold\">480</span> Loss:  <span style=\"color: #008080; text-decoration-color: #008080; font-weight: bold\">1.781546950340271</span>\n",
              "</pre>\n"
            ]
          },
          "metadata": {}
        },
        {
          "output_type": "display_data",
          "data": {
            "text/plain": [
              "\u001b[3m           Training Loss           \u001b[0m\n",
              "+---------------------------------+\n",
              "|\u001b[1mEpoch\u001b[0m\u001b[1m \u001b[0m|\u001b[1m \u001b[0m\u001b[1mLoss\u001b[0m\u001b[1m \u001b[0m|\u001b[1m \u001b[0m\u001b[1m                  \u001b[0m|\n",
              "|------+------+-------------------|\n",
              "|  0   |  0   | 4.016060829162598 |\n",
              "|  0   |  10  | 3.22076416015625  |\n",
              "|  0   |  20  | 2.7343928813934326|\n",
              "|  0   |  30  | 1.8655294179916382|\n",
              "|  0   |  40  | 3.24951434135437  |\n",
              "|  0   |  50  | 1.7755417823791504|\n",
              "|  0   |  60  | 3.555743455886841 |\n",
              "|  0   |  70  | 2.2848446369171143|\n",
              "|  0   |  80  | 1.976075291633606 |\n",
              "|  0   |  90  | 1.5909103155136108|\n",
              "|  0   | 100  | 2.5496857166290283|\n",
              "|  0   | 110  | 1.7580775022506714|\n",
              "|  0   | 120  | 1.4247454404830933|\n",
              "|  0   | 130  | 1.6442809104919434|\n",
              "|  0   | 140  | 2.146562099456787 |\n",
              "|  0   | 150  | 1.9122639894485474|\n",
              "|  0   | 160  | 1.23967707157135  |\n",
              "|  0   | 170  | 1.5415818691253662|\n",
              "|  0   | 180  | 1.6904854774475098|\n",
              "|  0   | 190  | 2.7208521366119385|\n",
              "|  0   | 200  | 2.3050968647003174|\n",
              "|  0   | 210  | 2.8559935092926025|\n",
              "|  0   | 220  | 2.1136860847473145|\n",
              "|  0   | 230  | 2.869403123855591 |\n",
              "|  0   | 240  | 1.7376301288604736|\n",
              "|  0   | 250  | 1.9555047750473022|\n",
              "|  0   | 260  | 1.7618588209152222|\n",
              "|  0   | 270  | 2.023338556289673 |\n",
              "|  0   | 280  | 1.7293027639389038|\n",
              "|  0   | 290  | 1.8467767238616943|\n",
              "|  0   | 300  | 2.252340078353882 |\n",
              "|  0   | 310  | 1.879687786102295 |\n",
              "|  0   | 320  | 1.4729256629943848|\n",
              "|  0   | 330  | 2.693469285964966 |\n",
              "|  0   | 340  | 2.1311683654785156|\n",
              "|  0   | 350  | 1.3391544818878174|\n",
              "|  0   | 360  | 2.925401210784912 |\n",
              "|  0   | 370  | 1.7668298482894897|\n",
              "|  0   | 380  | 1.5128124952316284|\n",
              "|  0   | 390  | 1.475715160369873 |\n",
              "|  0   | 400  | 2.373324394226074 |\n",
              "|  0   | 410  | 1.9199073314666748|\n",
              "|  0   | 420  | 2.4875617027282715|\n",
              "|  0   | 430  | 1.343384027481079 |\n",
              "|  0   | 440  | 1.9075069427490234|\n",
              "|  0   | 450  | 1.7584162950515747|\n",
              "|  0   | 460  | 1.4925729036331177|\n",
              "|  0   | 470  | 1.3880364894866943|\n",
              "|  0   | 480  | 1.7195565700531006|\n",
              "|  1   |  0   | 1.4461359977722168|\n",
              "|  1   |  10  | 1.9275084733963013|\n",
              "|  1   |  20  | 2.2246127128601074|\n",
              "|  1   |  30  | 1.9285944700241089|\n",
              "|  1   |  40  | 1.9529330730438232|\n",
              "|  1   |  50  | 1.2453572750091553|\n",
              "|  1   |  60  | 1.5472909212112427|\n",
              "|  1   |  70  | 1.5437805652618408|\n",
              "|  1   |  80  | 2.446704864501953 |\n",
              "|  1   |  90  | 1.7670279741287231|\n",
              "|  1   | 100  | 1.6115485429763794|\n",
              "|  1   | 110  | 2.212890863418579 |\n",
              "|  1   | 120  | 1.2408965826034546|\n",
              "|  1   | 130  | 1.2307333946228027|\n",
              "|  1   | 140  | 2.8881490230560303|\n",
              "|  1   | 150  | 1.8926855325698853|\n",
              "|  1   | 160  | 2.2674474716186523|\n",
              "|  1   | 170  | 2.161273717880249 |\n",
              "|  1   | 180  | 2.2879717350006104|\n",
              "|  1   | 190  | 1.7936896085739136|\n",
              "|  1   | 200  | 1.988856315612793 |\n",
              "|  1   | 210  | 1.656369924545288 |\n",
              "|  1   | 220  | 1.497516393661499 |\n",
              "|  1   | 230  | 1.966086983680725 |\n",
              "|  1   | 240  | 2.002518653869629 |\n",
              "|  1   | 250  | 3.6491522789001465|\n",
              "|  1   | 260  | 1.330169916152954 |\n",
              "|  1   | 270  | 2.310492753982544 |\n",
              "|  1   | 280  | 2.384262800216675 |\n",
              "|  1   | 290  | 2.902256488800049 |\n",
              "|  1   | 300  | 2.6746082305908203|\n",
              "|  1   | 310  | 1.4161866903305054|\n",
              "|  1   | 320  | 1.0451866388320923|\n",
              "|  1   | 330  | 2.3288238048553467|\n",
              "|  1   | 340  | 3.366163730621338 |\n",
              "|  1   | 350  | 1.9519201517105103|\n",
              "|  1   | 360  | 1.925811767578125 |\n",
              "|  1   | 370  | 2.164268732070923 |\n",
              "|  1   | 380  | 1.7563221454620361|\n",
              "|  1   | 390  | 3.116511821746826 |\n",
              "|  1   | 400  | 1.4872103929519653|\n",
              "|  1   | 410  | 1.6644805669784546|\n",
              "|  1   | 420  | 1.2860852479934692|\n",
              "|  1   | 430  | 2.292686939239502 |\n",
              "|  1   | 440  | 2.136239528656006 |\n",
              "|  1   | 450  | 1.8112547397613525|\n",
              "|  1   | 460  | 1.3463020324707031|\n",
              "|  1   | 470  | 1.1890486478805542|\n",
              "|  1   | 480  | 2.5795247554779053|\n",
              "|  2   |  0   | 1.321027159690857 |\n",
              "|  2   |  10  | 0.7093322277069092|\n",
              "|  2   |  20  | 0.9365379214286804|\n",
              "|  2   |  30  | 2.225428819656372 |\n",
              "|  2   |  40  | 1.2149299383163452|\n",
              "|  2   |  50  | 1.8651467561721802|\n",
              "|  2   |  60  | 1.736762285232544 |\n",
              "|  2   |  70  | 1.1976228952407837|\n",
              "|  2   |  80  | 1.5973012447357178|\n",
              "|  2   |  90  | 2.2447590827941895|\n",
              "|  2   | 100  | 1.4583749771118164|\n",
              "|  2   | 110  | 1.5087214708328247|\n",
              "|  2   | 120  | 1.4030853509902954|\n",
              "|  2   | 130  | 2.3922536373138428|\n",
              "|  2   | 140  | 1.289352536201477 |\n",
              "|  2   | 150  | 1.1156247854232788|\n",
              "|  2   | 160  | 1.2643883228302002|\n",
              "|  2   | 170  | 1.5885089635849   |\n",
              "|  2   | 180  | 1.8995630741119385|\n",
              "|  2   | 190  | 1.4003148078918457|\n",
              "|  2   | 200  | 2.1952266693115234|\n",
              "|  2   | 210  | 1.4933209419250488|\n",
              "|  2   | 220  | 1.6398682594299316|\n",
              "|  2   | 230  | 1.4704344272613525|\n",
              "|  2   | 240  | 1.8613994121551514|\n",
              "|  2   | 250  | 2.2227628231048584|\n",
              "|  2   | 260  | 1.0401978492736816|\n",
              "|  2   | 270  | 1.4994937181472778|\n",
              "|  2   | 280  | 1.9607950448989868|\n",
              "|  2   | 290  | 2.7210850715637207|\n",
              "|  2   | 300  | 1.1403954029083252|\n",
              "|  2   | 310  | 1.5371898412704468|\n",
              "|  2   | 320  | 2.7806200981140137|\n",
              "|  2   | 330  | 1.8619147539138794|\n",
              "|  2   | 340  | 1.7364140748977661|\n",
              "|  2   | 350  | 1.5270460844039917|\n",
              "|  2   | 360  | 2.0981853008270264|\n",
              "|  2   | 370  | 1.918500304222107 |\n",
              "|  2   | 380  | 2.54180645942688  |\n",
              "|  2   | 390  | 2.16631817817688  |\n",
              "|  2   | 400  | 1.4754096269607544|\n",
              "|  2   | 410  | 1.2175973653793335|\n",
              "|  2   | 420  | 1.3877021074295044|\n",
              "|  2   | 430  | 1.938889741897583 |\n",
              "|  2   | 440  | 1.1123968362808228|\n",
              "|  2   | 450  | 1.1042839288711548|\n",
              "|  2   | 460  | 1.5494974851608276|\n",
              "|  2   | 470  | 2.945237636566162 |\n",
              "|  2   | 480  | 1.9628238677978516|\n",
              "|  3   |  0   | 1.295908808708191 |\n",
              "|  3   |  10  | 1.5706567764282227|\n",
              "|  3   |  20  | 1.3342175483703613|\n",
              "|  3   |  30  | 1.2876821756362915|\n",
              "|  3   |  40  | 1.0918349027633667|\n",
              "|  3   |  50  | 1.1486397981643677|\n",
              "|  3   |  60  | 1.50021493434906  |\n",
              "|  3   |  70  | 1.471283197402954 |\n",
              "|  3   |  80  | 0.8850721120834351|\n",
              "|  3   |  90  | 2.3835561275482178|\n",
              "|  3   | 100  | 1.8806406259536743|\n",
              "|  3   | 110  | 1.2621349096298218|\n",
              "|  3   | 120  | 2.8190767765045166|\n",
              "|  3   | 130  | 2.5808916091918945|\n",
              "|  3   | 140  | 0.9439759850502014|\n",
              "|  3   | 150  | 1.0268186330795288|\n",
              "|  3   | 160  | 1.4327994585037231|\n",
              "|  3   | 170  | 0.9614822268486023|\n",
              "|  3   | 180  | 1.1837329864501953|\n",
              "|  3   | 190  | 0.7829968929290771|\n",
              "|  3   | 200  | 1.9183429479599   |\n",
              "|  3   | 210  | 1.2715778350830078|\n",
              "|  3   | 220  | 1.6555253267288208|\n",
              "|  3   | 230  | 1.5516375303268433|\n",
              "|  3   | 240  | 1.9597417116165161|\n",
              "|  3   | 250  | 1.3172634840011597|\n",
              "|  3   | 260  | 1.4965187311172485|\n",
              "|  3   | 270  | 1.5805575847625732|\n",
              "|  3   | 280  | 2.04761004447937  |\n",
              "|  3   | 290  | 1.9449820518493652|\n",
              "|  3   | 300  | 3.1080498695373535|\n",
              "|  3   | 310  | 1.3841418027877808|\n",
              "|  3   | 320  | 1.3072149753570557|\n",
              "|  3   | 330  | 1.5747758150100708|\n",
              "|  3   | 340  | 1.9612146615982056|\n",
              "|  3   | 350  | 2.6329903602600098|\n",
              "|  3   | 360  | 2.069291114807129 |\n",
              "|  3   | 370  | 1.4809035062789917|\n",
              "|  3   | 380  | 2.144590139389038 |\n",
              "|  3   | 390  | 1.6833555698394775|\n",
              "|  3   | 400  | 1.7323009967803955|\n",
              "|  3   | 410  | 1.3750280141830444|\n",
              "|  3   | 420  | 0.8088632822036743|\n",
              "|  3   | 430  | 1.5578893423080444|\n",
              "|  3   | 440  | 1.4432214498519897|\n",
              "|  3   | 450  | 2.5535974502563477|\n",
              "|  3   | 460  | 2.241990566253662 |\n",
              "|  3   | 470  | 1.6456764936447144|\n",
              "|  3   | 480  | 1.1782253980636597|\n",
              "|  4   |  0   | 1.9270107746124268|\n",
              "|  4   |  10  | 1.372456669807434 |\n",
              "|  4   |  20  | 1.2404298782348633|\n",
              "|  4   |  30  | 1.8174890279769897|\n",
              "|  4   |  40  | 1.3252655267715454|\n",
              "|  4   |  50  | 1.2283766269683838|\n",
              "|  4   |  60  | 2.0272457599639893|\n",
              "|  4   |  70  | 2.116102457046509 |\n",
              "|  4   |  80  | 2.2406468391418457|\n",
              "|  4   |  90  | 1.9009337425231934|\n",
              "|  4   | 100  | 0.7303534150123596|\n",
              "|  4   | 110  | 1.7106451988220215|\n",
              "|  4   | 120  | 1.6129722595214844|\n",
              "|  4   | 130  | 1.1584160327911377|\n",
              "|  4   | 140  | 1.1543924808502197|\n",
              "|  4   | 150  | 1.079156756401062 |\n",
              "|  4   | 160  | 1.418411135673523 |\n",
              "|  4   | 170  | 1.204205870628357 |\n",
              "|  4   | 180  | 1.5199456214904785|\n",
              "|  4   | 190  | 2.1758317947387695|\n",
              "|  4   | 200  | 1.1923404932022095|\n",
              "|  4   | 210  | 1.0463969707489014|\n",
              "|  4   | 220  | 1.069231390953064 |\n",
              "|  4   | 230  | 2.5511817932128906|\n",
              "|  4   | 240  | 0.8945176601409912|\n",
              "|  4   | 250  | 0.8530354499816895|\n",
              "|  4   | 260  | 1.5705903768539429|\n",
              "|  4   | 270  | 2.336970806121826 |\n",
              "|  4   | 280  | 1.651601791381836 |\n",
              "|  4   | 290  | 1.8698612451553345|\n",
              "|  4   | 300  | 1.1936839818954468|\n",
              "|  4   | 310  | 1.7207915782928467|\n",
              "|  4   | 320  | 2.488856554031372 |\n",
              "|  4   | 330  | 1.3278120756149292|\n",
              "|  4   | 340  | 0.7403916716575623|\n",
              "|  4   | 350  | 2.771528959274292 |\n",
              "|  4   | 360  | 2.1928677558898926|\n",
              "|  4   | 370  | 1.455814003944397 |\n",
              "|  4   | 380  | 1.2852356433868408|\n",
              "|  4   | 390  | 1.2562222480773926|\n",
              "|  4   | 400  | 1.1428942680358887|\n",
              "|  4   | 410  | 1.282845377922058 |\n",
              "|  4   | 420  | 1.460726261138916 |\n",
              "|  4   | 430  | 0.7400120496749878|\n",
              "|  4   | 440  | 1.5081355571746826|\n",
              "|  4   | 450  | 1.3385387659072876|\n",
              "|  4   | 460  | 2.0443150997161865|\n",
              "|  4   | 470  | 1.579140543937683 |\n",
              "|  4   | 480  | 1.781546950340271 |\n",
              "+---------------------------------+\n"
            ],
            "text/html": [
              "<pre style=\"white-space:pre;overflow-x:auto;line-height:normal;font-family:Menlo,'DejaVu Sans Mono',consolas,'Courier New',monospace\"><span style=\"font-style: italic\">           Training Loss           </span>\n",
              "+---------------------------------+\n",
              "|<span style=\"font-weight: bold\">Epoch </span>|<span style=\"font-weight: bold\"> Loss </span>|<span style=\"font-weight: bold\">                   </span>|\n",
              "|------+------+-------------------|\n",
              "|  0   |  0   | 4.016060829162598 |\n",
              "|  0   |  10  | 3.22076416015625  |\n",
              "|  0   |  20  | 2.7343928813934326|\n",
              "|  0   |  30  | 1.8655294179916382|\n",
              "|  0   |  40  | 3.24951434135437  |\n",
              "|  0   |  50  | 1.7755417823791504|\n",
              "|  0   |  60  | 3.555743455886841 |\n",
              "|  0   |  70  | 2.2848446369171143|\n",
              "|  0   |  80  | 1.976075291633606 |\n",
              "|  0   |  90  | 1.5909103155136108|\n",
              "|  0   | 100  | 2.5496857166290283|\n",
              "|  0   | 110  | 1.7580775022506714|\n",
              "|  0   | 120  | 1.4247454404830933|\n",
              "|  0   | 130  | 1.6442809104919434|\n",
              "|  0   | 140  | 2.146562099456787 |\n",
              "|  0   | 150  | 1.9122639894485474|\n",
              "|  0   | 160  | 1.23967707157135  |\n",
              "|  0   | 170  | 1.5415818691253662|\n",
              "|  0   | 180  | 1.6904854774475098|\n",
              "|  0   | 190  | 2.7208521366119385|\n",
              "|  0   | 200  | 2.3050968647003174|\n",
              "|  0   | 210  | 2.8559935092926025|\n",
              "|  0   | 220  | 2.1136860847473145|\n",
              "|  0   | 230  | 2.869403123855591 |\n",
              "|  0   | 240  | 1.7376301288604736|\n",
              "|  0   | 250  | 1.9555047750473022|\n",
              "|  0   | 260  | 1.7618588209152222|\n",
              "|  0   | 270  | 2.023338556289673 |\n",
              "|  0   | 280  | 1.7293027639389038|\n",
              "|  0   | 290  | 1.8467767238616943|\n",
              "|  0   | 300  | 2.252340078353882 |\n",
              "|  0   | 310  | 1.879687786102295 |\n",
              "|  0   | 320  | 1.4729256629943848|\n",
              "|  0   | 330  | 2.693469285964966 |\n",
              "|  0   | 340  | 2.1311683654785156|\n",
              "|  0   | 350  | 1.3391544818878174|\n",
              "|  0   | 360  | 2.925401210784912 |\n",
              "|  0   | 370  | 1.7668298482894897|\n",
              "|  0   | 380  | 1.5128124952316284|\n",
              "|  0   | 390  | 1.475715160369873 |\n",
              "|  0   | 400  | 2.373324394226074 |\n",
              "|  0   | 410  | 1.9199073314666748|\n",
              "|  0   | 420  | 2.4875617027282715|\n",
              "|  0   | 430  | 1.343384027481079 |\n",
              "|  0   | 440  | 1.9075069427490234|\n",
              "|  0   | 450  | 1.7584162950515747|\n",
              "|  0   | 460  | 1.4925729036331177|\n",
              "|  0   | 470  | 1.3880364894866943|\n",
              "|  0   | 480  | 1.7195565700531006|\n",
              "|  1   |  0   | 1.4461359977722168|\n",
              "|  1   |  10  | 1.9275084733963013|\n",
              "|  1   |  20  | 2.2246127128601074|\n",
              "|  1   |  30  | 1.9285944700241089|\n",
              "|  1   |  40  | 1.9529330730438232|\n",
              "|  1   |  50  | 1.2453572750091553|\n",
              "|  1   |  60  | 1.5472909212112427|\n",
              "|  1   |  70  | 1.5437805652618408|\n",
              "|  1   |  80  | 2.446704864501953 |\n",
              "|  1   |  90  | 1.7670279741287231|\n",
              "|  1   | 100  | 1.6115485429763794|\n",
              "|  1   | 110  | 2.212890863418579 |\n",
              "|  1   | 120  | 1.2408965826034546|\n",
              "|  1   | 130  | 1.2307333946228027|\n",
              "|  1   | 140  | 2.8881490230560303|\n",
              "|  1   | 150  | 1.8926855325698853|\n",
              "|  1   | 160  | 2.2674474716186523|\n",
              "|  1   | 170  | 2.161273717880249 |\n",
              "|  1   | 180  | 2.2879717350006104|\n",
              "|  1   | 190  | 1.7936896085739136|\n",
              "|  1   | 200  | 1.988856315612793 |\n",
              "|  1   | 210  | 1.656369924545288 |\n",
              "|  1   | 220  | 1.497516393661499 |\n",
              "|  1   | 230  | 1.966086983680725 |\n",
              "|  1   | 240  | 2.002518653869629 |\n",
              "|  1   | 250  | 3.6491522789001465|\n",
              "|  1   | 260  | 1.330169916152954 |\n",
              "|  1   | 270  | 2.310492753982544 |\n",
              "|  1   | 280  | 2.384262800216675 |\n",
              "|  1   | 290  | 2.902256488800049 |\n",
              "|  1   | 300  | 2.6746082305908203|\n",
              "|  1   | 310  | 1.4161866903305054|\n",
              "|  1   | 320  | 1.0451866388320923|\n",
              "|  1   | 330  | 2.3288238048553467|\n",
              "|  1   | 340  | 3.366163730621338 |\n",
              "|  1   | 350  | 1.9519201517105103|\n",
              "|  1   | 360  | 1.925811767578125 |\n",
              "|  1   | 370  | 2.164268732070923 |\n",
              "|  1   | 380  | 1.7563221454620361|\n",
              "|  1   | 390  | 3.116511821746826 |\n",
              "|  1   | 400  | 1.4872103929519653|\n",
              "|  1   | 410  | 1.6644805669784546|\n",
              "|  1   | 420  | 1.2860852479934692|\n",
              "|  1   | 430  | 2.292686939239502 |\n",
              "|  1   | 440  | 2.136239528656006 |\n",
              "|  1   | 450  | 1.8112547397613525|\n",
              "|  1   | 460  | 1.3463020324707031|\n",
              "|  1   | 470  | 1.1890486478805542|\n",
              "|  1   | 480  | 2.5795247554779053|\n",
              "|  2   |  0   | 1.321027159690857 |\n",
              "|  2   |  10  | 0.7093322277069092|\n",
              "|  2   |  20  | 0.9365379214286804|\n",
              "|  2   |  30  | 2.225428819656372 |\n",
              "|  2   |  40  | 1.2149299383163452|\n",
              "|  2   |  50  | 1.8651467561721802|\n",
              "|  2   |  60  | 1.736762285232544 |\n",
              "|  2   |  70  | 1.1976228952407837|\n",
              "|  2   |  80  | 1.5973012447357178|\n",
              "|  2   |  90  | 2.2447590827941895|\n",
              "|  2   | 100  | 1.4583749771118164|\n",
              "|  2   | 110  | 1.5087214708328247|\n",
              "|  2   | 120  | 1.4030853509902954|\n",
              "|  2   | 130  | 2.3922536373138428|\n",
              "|  2   | 140  | 1.289352536201477 |\n",
              "|  2   | 150  | 1.1156247854232788|\n",
              "|  2   | 160  | 1.2643883228302002|\n",
              "|  2   | 170  | 1.5885089635849   |\n",
              "|  2   | 180  | 1.8995630741119385|\n",
              "|  2   | 190  | 1.4003148078918457|\n",
              "|  2   | 200  | 2.1952266693115234|\n",
              "|  2   | 210  | 1.4933209419250488|\n",
              "|  2   | 220  | 1.6398682594299316|\n",
              "|  2   | 230  | 1.4704344272613525|\n",
              "|  2   | 240  | 1.8613994121551514|\n",
              "|  2   | 250  | 2.2227628231048584|\n",
              "|  2   | 260  | 1.0401978492736816|\n",
              "|  2   | 270  | 1.4994937181472778|\n",
              "|  2   | 280  | 1.9607950448989868|\n",
              "|  2   | 290  | 2.7210850715637207|\n",
              "|  2   | 300  | 1.1403954029083252|\n",
              "|  2   | 310  | 1.5371898412704468|\n",
              "|  2   | 320  | 2.7806200981140137|\n",
              "|  2   | 330  | 1.8619147539138794|\n",
              "|  2   | 340  | 1.7364140748977661|\n",
              "|  2   | 350  | 1.5270460844039917|\n",
              "|  2   | 360  | 2.0981853008270264|\n",
              "|  2   | 370  | 1.918500304222107 |\n",
              "|  2   | 380  | 2.54180645942688  |\n",
              "|  2   | 390  | 2.16631817817688  |\n",
              "|  2   | 400  | 1.4754096269607544|\n",
              "|  2   | 410  | 1.2175973653793335|\n",
              "|  2   | 420  | 1.3877021074295044|\n",
              "|  2   | 430  | 1.938889741897583 |\n",
              "|  2   | 440  | 1.1123968362808228|\n",
              "|  2   | 450  | 1.1042839288711548|\n",
              "|  2   | 460  | 1.5494974851608276|\n",
              "|  2   | 470  | 2.945237636566162 |\n",
              "|  2   | 480  | 1.9628238677978516|\n",
              "|  3   |  0   | 1.295908808708191 |\n",
              "|  3   |  10  | 1.5706567764282227|\n",
              "|  3   |  20  | 1.3342175483703613|\n",
              "|  3   |  30  | 1.2876821756362915|\n",
              "|  3   |  40  | 1.0918349027633667|\n",
              "|  3   |  50  | 1.1486397981643677|\n",
              "|  3   |  60  | 1.50021493434906  |\n",
              "|  3   |  70  | 1.471283197402954 |\n",
              "|  3   |  80  | 0.8850721120834351|\n",
              "|  3   |  90  | 2.3835561275482178|\n",
              "|  3   | 100  | 1.8806406259536743|\n",
              "|  3   | 110  | 1.2621349096298218|\n",
              "|  3   | 120  | 2.8190767765045166|\n",
              "|  3   | 130  | 2.5808916091918945|\n",
              "|  3   | 140  | 0.9439759850502014|\n",
              "|  3   | 150  | 1.0268186330795288|\n",
              "|  3   | 160  | 1.4327994585037231|\n",
              "|  3   | 170  | 0.9614822268486023|\n",
              "|  3   | 180  | 1.1837329864501953|\n",
              "|  3   | 190  | 0.7829968929290771|\n",
              "|  3   | 200  | 1.9183429479599   |\n",
              "|  3   | 210  | 1.2715778350830078|\n",
              "|  3   | 220  | 1.6555253267288208|\n",
              "|  3   | 230  | 1.5516375303268433|\n",
              "|  3   | 240  | 1.9597417116165161|\n",
              "|  3   | 250  | 1.3172634840011597|\n",
              "|  3   | 260  | 1.4965187311172485|\n",
              "|  3   | 270  | 1.5805575847625732|\n",
              "|  3   | 280  | 2.04761004447937  |\n",
              "|  3   | 290  | 1.9449820518493652|\n",
              "|  3   | 300  | 3.1080498695373535|\n",
              "|  3   | 310  | 1.3841418027877808|\n",
              "|  3   | 320  | 1.3072149753570557|\n",
              "|  3   | 330  | 1.5747758150100708|\n",
              "|  3   | 340  | 1.9612146615982056|\n",
              "|  3   | 350  | 2.6329903602600098|\n",
              "|  3   | 360  | 2.069291114807129 |\n",
              "|  3   | 370  | 1.4809035062789917|\n",
              "|  3   | 380  | 2.144590139389038 |\n",
              "|  3   | 390  | 1.6833555698394775|\n",
              "|  3   | 400  | 1.7323009967803955|\n",
              "|  3   | 410  | 1.3750280141830444|\n",
              "|  3   | 420  | 0.8088632822036743|\n",
              "|  3   | 430  | 1.5578893423080444|\n",
              "|  3   | 440  | 1.4432214498519897|\n",
              "|  3   | 450  | 2.5535974502563477|\n",
              "|  3   | 460  | 2.241990566253662 |\n",
              "|  3   | 470  | 1.6456764936447144|\n",
              "|  3   | 480  | 1.1782253980636597|\n",
              "|  4   |  0   | 1.9270107746124268|\n",
              "|  4   |  10  | 1.372456669807434 |\n",
              "|  4   |  20  | 1.2404298782348633|\n",
              "|  4   |  30  | 1.8174890279769897|\n",
              "|  4   |  40  | 1.3252655267715454|\n",
              "|  4   |  50  | 1.2283766269683838|\n",
              "|  4   |  60  | 2.0272457599639893|\n",
              "|  4   |  70  | 2.116102457046509 |\n",
              "|  4   |  80  | 2.2406468391418457|\n",
              "|  4   |  90  | 1.9009337425231934|\n",
              "|  4   | 100  | 0.7303534150123596|\n",
              "|  4   | 110  | 1.7106451988220215|\n",
              "|  4   | 120  | 1.6129722595214844|\n",
              "|  4   | 130  | 1.1584160327911377|\n",
              "|  4   | 140  | 1.1543924808502197|\n",
              "|  4   | 150  | 1.079156756401062 |\n",
              "|  4   | 160  | 1.418411135673523 |\n",
              "|  4   | 170  | 1.204205870628357 |\n",
              "|  4   | 180  | 1.5199456214904785|\n",
              "|  4   | 190  | 2.1758317947387695|\n",
              "|  4   | 200  | 1.1923404932022095|\n",
              "|  4   | 210  | 1.0463969707489014|\n",
              "|  4   | 220  | 1.069231390953064 |\n",
              "|  4   | 230  | 2.5511817932128906|\n",
              "|  4   | 240  | 0.8945176601409912|\n",
              "|  4   | 250  | 0.8530354499816895|\n",
              "|  4   | 260  | 1.5705903768539429|\n",
              "|  4   | 270  | 2.336970806121826 |\n",
              "|  4   | 280  | 1.651601791381836 |\n",
              "|  4   | 290  | 1.8698612451553345|\n",
              "|  4   | 300  | 1.1936839818954468|\n",
              "|  4   | 310  | 1.7207915782928467|\n",
              "|  4   | 320  | 2.488856554031372 |\n",
              "|  4   | 330  | 1.3278120756149292|\n",
              "|  4   | 340  | 0.7403916716575623|\n",
              "|  4   | 350  | 2.771528959274292 |\n",
              "|  4   | 360  | 2.1928677558898926|\n",
              "|  4   | 370  | 1.455814003944397 |\n",
              "|  4   | 380  | 1.2852356433868408|\n",
              "|  4   | 390  | 1.2562222480773926|\n",
              "|  4   | 400  | 1.1428942680358887|\n",
              "|  4   | 410  | 1.282845377922058 |\n",
              "|  4   | 420  | 1.460726261138916 |\n",
              "|  4   | 430  | 0.7400120496749878|\n",
              "|  4   | 440  | 1.5081355571746826|\n",
              "|  4   | 450  | 1.3385387659072876|\n",
              "|  4   | 460  | 2.0443150997161865|\n",
              "|  4   | 470  | 1.579140543937683 |\n",
              "|  4   | 480  | 1.781546950340271 |\n",
              "+---------------------------------+\n",
              "</pre>\n"
            ]
          },
          "metadata": {}
        },
        {
          "output_type": "display_data",
          "data": {
            "text/plain": [
              "Epoch:  \u001b[1;36m5\u001b[0m Steps:  \u001b[1;36m0\u001b[0m Loss:  \u001b[1;36m0.9902750253677368\u001b[0m\n"
            ],
            "text/html": [
              "<pre style=\"white-space:pre;overflow-x:auto;line-height:normal;font-family:Menlo,'DejaVu Sans Mono',consolas,'Courier New',monospace\">Epoch:  <span style=\"color: #008080; text-decoration-color: #008080; font-weight: bold\">5</span> Steps:  <span style=\"color: #008080; text-decoration-color: #008080; font-weight: bold\">0</span> Loss:  <span style=\"color: #008080; text-decoration-color: #008080; font-weight: bold\">0.9902750253677368</span>\n",
              "</pre>\n"
            ]
          },
          "metadata": {}
        },
        {
          "output_type": "display_data",
          "data": {
            "text/plain": [
              "Epoch:  \u001b[1;36m5\u001b[0m Steps:  \u001b[1;36m10\u001b[0m Loss:  \u001b[1;36m1.1489249467849731\u001b[0m\n"
            ],
            "text/html": [
              "<pre style=\"white-space:pre;overflow-x:auto;line-height:normal;font-family:Menlo,'DejaVu Sans Mono',consolas,'Courier New',monospace\">Epoch:  <span style=\"color: #008080; text-decoration-color: #008080; font-weight: bold\">5</span> Steps:  <span style=\"color: #008080; text-decoration-color: #008080; font-weight: bold\">10</span> Loss:  <span style=\"color: #008080; text-decoration-color: #008080; font-weight: bold\">1.1489249467849731</span>\n",
              "</pre>\n"
            ]
          },
          "metadata": {}
        },
        {
          "output_type": "display_data",
          "data": {
            "text/plain": [
              "Epoch:  \u001b[1;36m5\u001b[0m Steps:  \u001b[1;36m20\u001b[0m Loss:  \u001b[1;36m1.5442694425582886\u001b[0m\n"
            ],
            "text/html": [
              "<pre style=\"white-space:pre;overflow-x:auto;line-height:normal;font-family:Menlo,'DejaVu Sans Mono',consolas,'Courier New',monospace\">Epoch:  <span style=\"color: #008080; text-decoration-color: #008080; font-weight: bold\">5</span> Steps:  <span style=\"color: #008080; text-decoration-color: #008080; font-weight: bold\">20</span> Loss:  <span style=\"color: #008080; text-decoration-color: #008080; font-weight: bold\">1.5442694425582886</span>\n",
              "</pre>\n"
            ]
          },
          "metadata": {}
        },
        {
          "output_type": "display_data",
          "data": {
            "text/plain": [
              "Epoch:  \u001b[1;36m5\u001b[0m Steps:  \u001b[1;36m30\u001b[0m Loss:  \u001b[1;36m1.3698351383209229\u001b[0m\n"
            ],
            "text/html": [
              "<pre style=\"white-space:pre;overflow-x:auto;line-height:normal;font-family:Menlo,'DejaVu Sans Mono',consolas,'Courier New',monospace\">Epoch:  <span style=\"color: #008080; text-decoration-color: #008080; font-weight: bold\">5</span> Steps:  <span style=\"color: #008080; text-decoration-color: #008080; font-weight: bold\">30</span> Loss:  <span style=\"color: #008080; text-decoration-color: #008080; font-weight: bold\">1.3698351383209229</span>\n",
              "</pre>\n"
            ]
          },
          "metadata": {}
        },
        {
          "output_type": "display_data",
          "data": {
            "text/plain": [
              "Epoch:  \u001b[1;36m5\u001b[0m Steps:  \u001b[1;36m40\u001b[0m Loss:  \u001b[1;36m1.4364980459213257\u001b[0m\n"
            ],
            "text/html": [
              "<pre style=\"white-space:pre;overflow-x:auto;line-height:normal;font-family:Menlo,'DejaVu Sans Mono',consolas,'Courier New',monospace\">Epoch:  <span style=\"color: #008080; text-decoration-color: #008080; font-weight: bold\">5</span> Steps:  <span style=\"color: #008080; text-decoration-color: #008080; font-weight: bold\">40</span> Loss:  <span style=\"color: #008080; text-decoration-color: #008080; font-weight: bold\">1.4364980459213257</span>\n",
              "</pre>\n"
            ]
          },
          "metadata": {}
        },
        {
          "output_type": "display_data",
          "data": {
            "text/plain": [
              "Epoch:  \u001b[1;36m5\u001b[0m Steps:  \u001b[1;36m50\u001b[0m Loss:  \u001b[1;36m0.7435389161109924\u001b[0m\n"
            ],
            "text/html": [
              "<pre style=\"white-space:pre;overflow-x:auto;line-height:normal;font-family:Menlo,'DejaVu Sans Mono',consolas,'Courier New',monospace\">Epoch:  <span style=\"color: #008080; text-decoration-color: #008080; font-weight: bold\">5</span> Steps:  <span style=\"color: #008080; text-decoration-color: #008080; font-weight: bold\">50</span> Loss:  <span style=\"color: #008080; text-decoration-color: #008080; font-weight: bold\">0.7435389161109924</span>\n",
              "</pre>\n"
            ]
          },
          "metadata": {}
        },
        {
          "output_type": "display_data",
          "data": {
            "text/plain": [
              "Epoch:  \u001b[1;36m5\u001b[0m Steps:  \u001b[1;36m60\u001b[0m Loss:  \u001b[1;36m0.6007632613182068\u001b[0m\n"
            ],
            "text/html": [
              "<pre style=\"white-space:pre;overflow-x:auto;line-height:normal;font-family:Menlo,'DejaVu Sans Mono',consolas,'Courier New',monospace\">Epoch:  <span style=\"color: #008080; text-decoration-color: #008080; font-weight: bold\">5</span> Steps:  <span style=\"color: #008080; text-decoration-color: #008080; font-weight: bold\">60</span> Loss:  <span style=\"color: #008080; text-decoration-color: #008080; font-weight: bold\">0.6007632613182068</span>\n",
              "</pre>\n"
            ]
          },
          "metadata": {}
        },
        {
          "output_type": "display_data",
          "data": {
            "text/plain": [
              "Epoch:  \u001b[1;36m5\u001b[0m Steps:  \u001b[1;36m70\u001b[0m Loss:  \u001b[1;36m1.2727693319320679\u001b[0m\n"
            ],
            "text/html": [
              "<pre style=\"white-space:pre;overflow-x:auto;line-height:normal;font-family:Menlo,'DejaVu Sans Mono',consolas,'Courier New',monospace\">Epoch:  <span style=\"color: #008080; text-decoration-color: #008080; font-weight: bold\">5</span> Steps:  <span style=\"color: #008080; text-decoration-color: #008080; font-weight: bold\">70</span> Loss:  <span style=\"color: #008080; text-decoration-color: #008080; font-weight: bold\">1.2727693319320679</span>\n",
              "</pre>\n"
            ]
          },
          "metadata": {}
        },
        {
          "output_type": "display_data",
          "data": {
            "text/plain": [
              "Epoch:  \u001b[1;36m5\u001b[0m Steps:  \u001b[1;36m80\u001b[0m Loss:  \u001b[1;36m1.5528881549835205\u001b[0m\n"
            ],
            "text/html": [
              "<pre style=\"white-space:pre;overflow-x:auto;line-height:normal;font-family:Menlo,'DejaVu Sans Mono',consolas,'Courier New',monospace\">Epoch:  <span style=\"color: #008080; text-decoration-color: #008080; font-weight: bold\">5</span> Steps:  <span style=\"color: #008080; text-decoration-color: #008080; font-weight: bold\">80</span> Loss:  <span style=\"color: #008080; text-decoration-color: #008080; font-weight: bold\">1.5528881549835205</span>\n",
              "</pre>\n"
            ]
          },
          "metadata": {}
        },
        {
          "output_type": "display_data",
          "data": {
            "text/plain": [
              "Epoch:  \u001b[1;36m5\u001b[0m Steps:  \u001b[1;36m90\u001b[0m Loss:  \u001b[1;36m1.407684564590454\u001b[0m\n"
            ],
            "text/html": [
              "<pre style=\"white-space:pre;overflow-x:auto;line-height:normal;font-family:Menlo,'DejaVu Sans Mono',consolas,'Courier New',monospace\">Epoch:  <span style=\"color: #008080; text-decoration-color: #008080; font-weight: bold\">5</span> Steps:  <span style=\"color: #008080; text-decoration-color: #008080; font-weight: bold\">90</span> Loss:  <span style=\"color: #008080; text-decoration-color: #008080; font-weight: bold\">1.407684564590454</span>\n",
              "</pre>\n"
            ]
          },
          "metadata": {}
        },
        {
          "output_type": "display_data",
          "data": {
            "text/plain": [
              "Epoch:  \u001b[1;36m5\u001b[0m Steps:  \u001b[1;36m100\u001b[0m Loss:  \u001b[1;36m1.117192029953003\u001b[0m\n"
            ],
            "text/html": [
              "<pre style=\"white-space:pre;overflow-x:auto;line-height:normal;font-family:Menlo,'DejaVu Sans Mono',consolas,'Courier New',monospace\">Epoch:  <span style=\"color: #008080; text-decoration-color: #008080; font-weight: bold\">5</span> Steps:  <span style=\"color: #008080; text-decoration-color: #008080; font-weight: bold\">100</span> Loss:  <span style=\"color: #008080; text-decoration-color: #008080; font-weight: bold\">1.117192029953003</span>\n",
              "</pre>\n"
            ]
          },
          "metadata": {}
        },
        {
          "output_type": "display_data",
          "data": {
            "text/plain": [
              "Epoch:  \u001b[1;36m5\u001b[0m Steps:  \u001b[1;36m110\u001b[0m Loss:  \u001b[1;36m3.117295503616333\u001b[0m\n"
            ],
            "text/html": [
              "<pre style=\"white-space:pre;overflow-x:auto;line-height:normal;font-family:Menlo,'DejaVu Sans Mono',consolas,'Courier New',monospace\">Epoch:  <span style=\"color: #008080; text-decoration-color: #008080; font-weight: bold\">5</span> Steps:  <span style=\"color: #008080; text-decoration-color: #008080; font-weight: bold\">110</span> Loss:  <span style=\"color: #008080; text-decoration-color: #008080; font-weight: bold\">3.117295503616333</span>\n",
              "</pre>\n"
            ]
          },
          "metadata": {}
        },
        {
          "output_type": "display_data",
          "data": {
            "text/plain": [
              "Epoch:  \u001b[1;36m5\u001b[0m Steps:  \u001b[1;36m120\u001b[0m Loss:  \u001b[1;36m1.7656689882278442\u001b[0m\n"
            ],
            "text/html": [
              "<pre style=\"white-space:pre;overflow-x:auto;line-height:normal;font-family:Menlo,'DejaVu Sans Mono',consolas,'Courier New',monospace\">Epoch:  <span style=\"color: #008080; text-decoration-color: #008080; font-weight: bold\">5</span> Steps:  <span style=\"color: #008080; text-decoration-color: #008080; font-weight: bold\">120</span> Loss:  <span style=\"color: #008080; text-decoration-color: #008080; font-weight: bold\">1.7656689882278442</span>\n",
              "</pre>\n"
            ]
          },
          "metadata": {}
        },
        {
          "output_type": "display_data",
          "data": {
            "text/plain": [
              "Epoch:  \u001b[1;36m5\u001b[0m Steps:  \u001b[1;36m130\u001b[0m Loss:  \u001b[1;36m1.7667230367660522\u001b[0m\n"
            ],
            "text/html": [
              "<pre style=\"white-space:pre;overflow-x:auto;line-height:normal;font-family:Menlo,'DejaVu Sans Mono',consolas,'Courier New',monospace\">Epoch:  <span style=\"color: #008080; text-decoration-color: #008080; font-weight: bold\">5</span> Steps:  <span style=\"color: #008080; text-decoration-color: #008080; font-weight: bold\">130</span> Loss:  <span style=\"color: #008080; text-decoration-color: #008080; font-weight: bold\">1.7667230367660522</span>\n",
              "</pre>\n"
            ]
          },
          "metadata": {}
        },
        {
          "output_type": "display_data",
          "data": {
            "text/plain": [
              "Epoch:  \u001b[1;36m5\u001b[0m Steps:  \u001b[1;36m140\u001b[0m Loss:  \u001b[1;36m1.1443487405776978\u001b[0m\n"
            ],
            "text/html": [
              "<pre style=\"white-space:pre;overflow-x:auto;line-height:normal;font-family:Menlo,'DejaVu Sans Mono',consolas,'Courier New',monospace\">Epoch:  <span style=\"color: #008080; text-decoration-color: #008080; font-weight: bold\">5</span> Steps:  <span style=\"color: #008080; text-decoration-color: #008080; font-weight: bold\">140</span> Loss:  <span style=\"color: #008080; text-decoration-color: #008080; font-weight: bold\">1.1443487405776978</span>\n",
              "</pre>\n"
            ]
          },
          "metadata": {}
        },
        {
          "output_type": "display_data",
          "data": {
            "text/plain": [
              "Epoch:  \u001b[1;36m5\u001b[0m Steps:  \u001b[1;36m150\u001b[0m Loss:  \u001b[1;36m0.9553787708282471\u001b[0m\n"
            ],
            "text/html": [
              "<pre style=\"white-space:pre;overflow-x:auto;line-height:normal;font-family:Menlo,'DejaVu Sans Mono',consolas,'Courier New',monospace\">Epoch:  <span style=\"color: #008080; text-decoration-color: #008080; font-weight: bold\">5</span> Steps:  <span style=\"color: #008080; text-decoration-color: #008080; font-weight: bold\">150</span> Loss:  <span style=\"color: #008080; text-decoration-color: #008080; font-weight: bold\">0.9553787708282471</span>\n",
              "</pre>\n"
            ]
          },
          "metadata": {}
        },
        {
          "output_type": "display_data",
          "data": {
            "text/plain": [
              "Epoch:  \u001b[1;36m5\u001b[0m Steps:  \u001b[1;36m160\u001b[0m Loss:  \u001b[1;36m0.7276429533958435\u001b[0m\n"
            ],
            "text/html": [
              "<pre style=\"white-space:pre;overflow-x:auto;line-height:normal;font-family:Menlo,'DejaVu Sans Mono',consolas,'Courier New',monospace\">Epoch:  <span style=\"color: #008080; text-decoration-color: #008080; font-weight: bold\">5</span> Steps:  <span style=\"color: #008080; text-decoration-color: #008080; font-weight: bold\">160</span> Loss:  <span style=\"color: #008080; text-decoration-color: #008080; font-weight: bold\">0.7276429533958435</span>\n",
              "</pre>\n"
            ]
          },
          "metadata": {}
        },
        {
          "output_type": "display_data",
          "data": {
            "text/plain": [
              "Epoch:  \u001b[1;36m5\u001b[0m Steps:  \u001b[1;36m170\u001b[0m Loss:  \u001b[1;36m1.3477401733398438\u001b[0m\n"
            ],
            "text/html": [
              "<pre style=\"white-space:pre;overflow-x:auto;line-height:normal;font-family:Menlo,'DejaVu Sans Mono',consolas,'Courier New',monospace\">Epoch:  <span style=\"color: #008080; text-decoration-color: #008080; font-weight: bold\">5</span> Steps:  <span style=\"color: #008080; text-decoration-color: #008080; font-weight: bold\">170</span> Loss:  <span style=\"color: #008080; text-decoration-color: #008080; font-weight: bold\">1.3477401733398438</span>\n",
              "</pre>\n"
            ]
          },
          "metadata": {}
        },
        {
          "output_type": "display_data",
          "data": {
            "text/plain": [
              "Epoch:  \u001b[1;36m5\u001b[0m Steps:  \u001b[1;36m180\u001b[0m Loss:  \u001b[1;36m0.7909154295921326\u001b[0m\n"
            ],
            "text/html": [
              "<pre style=\"white-space:pre;overflow-x:auto;line-height:normal;font-family:Menlo,'DejaVu Sans Mono',consolas,'Courier New',monospace\">Epoch:  <span style=\"color: #008080; text-decoration-color: #008080; font-weight: bold\">5</span> Steps:  <span style=\"color: #008080; text-decoration-color: #008080; font-weight: bold\">180</span> Loss:  <span style=\"color: #008080; text-decoration-color: #008080; font-weight: bold\">0.7909154295921326</span>\n",
              "</pre>\n"
            ]
          },
          "metadata": {}
        },
        {
          "output_type": "display_data",
          "data": {
            "text/plain": [
              "Epoch:  \u001b[1;36m5\u001b[0m Steps:  \u001b[1;36m190\u001b[0m Loss:  \u001b[1;36m1.109488606452942\u001b[0m\n"
            ],
            "text/html": [
              "<pre style=\"white-space:pre;overflow-x:auto;line-height:normal;font-family:Menlo,'DejaVu Sans Mono',consolas,'Courier New',monospace\">Epoch:  <span style=\"color: #008080; text-decoration-color: #008080; font-weight: bold\">5</span> Steps:  <span style=\"color: #008080; text-decoration-color: #008080; font-weight: bold\">190</span> Loss:  <span style=\"color: #008080; text-decoration-color: #008080; font-weight: bold\">1.109488606452942</span>\n",
              "</pre>\n"
            ]
          },
          "metadata": {}
        },
        {
          "output_type": "display_data",
          "data": {
            "text/plain": [
              "Epoch:  \u001b[1;36m5\u001b[0m Steps:  \u001b[1;36m200\u001b[0m Loss:  \u001b[1;36m0.6259552836418152\u001b[0m\n"
            ],
            "text/html": [
              "<pre style=\"white-space:pre;overflow-x:auto;line-height:normal;font-family:Menlo,'DejaVu Sans Mono',consolas,'Courier New',monospace\">Epoch:  <span style=\"color: #008080; text-decoration-color: #008080; font-weight: bold\">5</span> Steps:  <span style=\"color: #008080; text-decoration-color: #008080; font-weight: bold\">200</span> Loss:  <span style=\"color: #008080; text-decoration-color: #008080; font-weight: bold\">0.6259552836418152</span>\n",
              "</pre>\n"
            ]
          },
          "metadata": {}
        },
        {
          "output_type": "display_data",
          "data": {
            "text/plain": [
              "Epoch:  \u001b[1;36m5\u001b[0m Steps:  \u001b[1;36m210\u001b[0m Loss:  \u001b[1;36m1.6125438213348389\u001b[0m\n"
            ],
            "text/html": [
              "<pre style=\"white-space:pre;overflow-x:auto;line-height:normal;font-family:Menlo,'DejaVu Sans Mono',consolas,'Courier New',monospace\">Epoch:  <span style=\"color: #008080; text-decoration-color: #008080; font-weight: bold\">5</span> Steps:  <span style=\"color: #008080; text-decoration-color: #008080; font-weight: bold\">210</span> Loss:  <span style=\"color: #008080; text-decoration-color: #008080; font-weight: bold\">1.6125438213348389</span>\n",
              "</pre>\n"
            ]
          },
          "metadata": {}
        },
        {
          "output_type": "display_data",
          "data": {
            "text/plain": [
              "Epoch:  \u001b[1;36m5\u001b[0m Steps:  \u001b[1;36m220\u001b[0m Loss:  \u001b[1;36m2.456014394760132\u001b[0m\n"
            ],
            "text/html": [
              "<pre style=\"white-space:pre;overflow-x:auto;line-height:normal;font-family:Menlo,'DejaVu Sans Mono',consolas,'Courier New',monospace\">Epoch:  <span style=\"color: #008080; text-decoration-color: #008080; font-weight: bold\">5</span> Steps:  <span style=\"color: #008080; text-decoration-color: #008080; font-weight: bold\">220</span> Loss:  <span style=\"color: #008080; text-decoration-color: #008080; font-weight: bold\">2.456014394760132</span>\n",
              "</pre>\n"
            ]
          },
          "metadata": {}
        },
        {
          "output_type": "display_data",
          "data": {
            "text/plain": [
              "Epoch:  \u001b[1;36m5\u001b[0m Steps:  \u001b[1;36m230\u001b[0m Loss:  \u001b[1;36m1.9700493812561035\u001b[0m\n"
            ],
            "text/html": [
              "<pre style=\"white-space:pre;overflow-x:auto;line-height:normal;font-family:Menlo,'DejaVu Sans Mono',consolas,'Courier New',monospace\">Epoch:  <span style=\"color: #008080; text-decoration-color: #008080; font-weight: bold\">5</span> Steps:  <span style=\"color: #008080; text-decoration-color: #008080; font-weight: bold\">230</span> Loss:  <span style=\"color: #008080; text-decoration-color: #008080; font-weight: bold\">1.9700493812561035</span>\n",
              "</pre>\n"
            ]
          },
          "metadata": {}
        },
        {
          "output_type": "display_data",
          "data": {
            "text/plain": [
              "Epoch:  \u001b[1;36m5\u001b[0m Steps:  \u001b[1;36m240\u001b[0m Loss:  \u001b[1;36m2.2183971405029297\u001b[0m\n"
            ],
            "text/html": [
              "<pre style=\"white-space:pre;overflow-x:auto;line-height:normal;font-family:Menlo,'DejaVu Sans Mono',consolas,'Courier New',monospace\">Epoch:  <span style=\"color: #008080; text-decoration-color: #008080; font-weight: bold\">5</span> Steps:  <span style=\"color: #008080; text-decoration-color: #008080; font-weight: bold\">240</span> Loss:  <span style=\"color: #008080; text-decoration-color: #008080; font-weight: bold\">2.2183971405029297</span>\n",
              "</pre>\n"
            ]
          },
          "metadata": {}
        },
        {
          "output_type": "display_data",
          "data": {
            "text/plain": [
              "Epoch:  \u001b[1;36m5\u001b[0m Steps:  \u001b[1;36m250\u001b[0m Loss:  \u001b[1;36m1.3781263828277588\u001b[0m\n"
            ],
            "text/html": [
              "<pre style=\"white-space:pre;overflow-x:auto;line-height:normal;font-family:Menlo,'DejaVu Sans Mono',consolas,'Courier New',monospace\">Epoch:  <span style=\"color: #008080; text-decoration-color: #008080; font-weight: bold\">5</span> Steps:  <span style=\"color: #008080; text-decoration-color: #008080; font-weight: bold\">250</span> Loss:  <span style=\"color: #008080; text-decoration-color: #008080; font-weight: bold\">1.3781263828277588</span>\n",
              "</pre>\n"
            ]
          },
          "metadata": {}
        }
      ]
    },
    {
      "cell_type": "code",
      "source": [
        "# Save the training loss to csv\n",
        "table_data = {x.header: [Text.from_markup(y).plain for y in x.cells] for x in training_logger.columns}\n",
        "training_logger_df = pd.DataFrame(table_data)\n",
        "training_logger_df.to_csv(file_path+\"outputs/\"+\"train_loss.csv\", sep=\"=\")\n",
        "\n",
        "# Save the validation loss to csv\n",
        "table_data = {x.header: [Text.from_markup(y).plain for y in x.cells] for x in validation_logger.columns}\n",
        "validation_logger_df = pd.DataFrame(table_data)\n",
        "validation_logger_df.to_csv(file_path+\"outputs/\"+\"val_loss.csv\", sep=\"=\")"
      ],
      "metadata": {
        "id": "1Yf5Oo1SNecR"
      },
      "execution_count": null,
      "outputs": []
    },
    {
      "cell_type": "code",
      "source": [
        "# Plot the loss\n",
        "train_loss = pd.read_csv(file_path+\"outputs/\"+\"train_loss.csv\", sep=\"=\")\n",
        "train_loss.plot(0,2)\n",
        "val_loss = pd.read_csv(file_path+\"outputs/\"+\"val_loss.csv\", sep=\"=\")\n",
        "val_loss.plot(0,2)"
      ],
      "metadata": {
        "id": "HEnoiOiXNefH"
      },
      "execution_count": null,
      "outputs": []
    },
    {
      "cell_type": "code",
      "source": [
        "!zip -r outputs.zip outputs"
      ],
      "metadata": {
        "id": "oBRrPNhKwHR8"
      },
      "execution_count": null,
      "outputs": []
    }
  ]
}