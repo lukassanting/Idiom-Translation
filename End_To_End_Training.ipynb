{
  "nbformat": 4,
  "nbformat_minor": 0,
  "metadata": {
    "colab": {
      "name": "End-To-End Training",
      "provenance": [],
      "collapsed_sections": [],
      "include_colab_link": true
    },
    "kernelspec": {
      "name": "python3",
      "display_name": "Python 3"
    },
    "language_info": {
      "name": "python"
    },
    "accelerator": "GPU"
  },
  "cells": [
    {
      "cell_type": "markdown",
      "metadata": {
        "id": "view-in-github",
        "colab_type": "text"
      },
      "source": [
        "<a href=\"https://colab.research.google.com/github/lukassanting/Idiom-Translation/blob/main/End_To_End_Training.ipynb\" target=\"_parent\"><img src=\"https://colab.research.google.com/assets/colab-badge.svg\" alt=\"Open In Colab\"/></a>"
      ]
    },
    {
      "cell_type": "markdown",
      "source": [
        "# Training T5 - Prefix+Idiom\n",
        "\n"
      ],
      "metadata": {
        "id": "rEADq27OKFe6"
      }
    },
    {
      "cell_type": "markdown",
      "source": [
        "#0. Installs, Imports, Setup\n"
      ],
      "metadata": {
        "id": "v9dFeYBSZJJb"
      }
    },
    {
      "cell_type": "markdown",
      "source": [
        "##0.1 Import Libraries & Packages"
      ],
      "metadata": {
        "id": "I8njKcE7c2F4"
      }
    },
    {
      "cell_type": "code",
      "source": [
        "!pip install sentencepiece -q\n",
        "!pip install transformers -q\n",
        "!pip install torch -q\n",
        "!pip install rich[jupyter] -q"
      ],
      "metadata": {
        "id": "dEFESOlJb8yT"
      },
      "execution_count": 1,
      "outputs": []
    },
    {
      "cell_type": "code",
      "source": [
        "# Drive\n",
        "from google.colab import drive\n",
        "\n",
        "# Plots\n",
        "import IPython\n",
        "import IPython.display\n",
        "import seaborn as sns\n",
        "import matplotlib as mpl\n",
        "import matplotlib.pyplot as plt\n",
        "plt.figure(figsize=(12, 6))\n",
        "\n",
        "# Util\n",
        "import os\n",
        "import pandas as pd\n",
        "import numpy as np\n",
        "import re\n",
        "pd.set_option('display.max_rows', None)\n",
        "\n",
        "# ML\n",
        "import torch\n",
        "import torch.nn.functional as F\n",
        "from torch.utils.data import Dataset, DataLoader, RandomSampler, SequentialSampler\n",
        "\n",
        "# Importing the T5 modules from huggingface/transformers\n",
        "from transformers import T5Tokenizer, T5ForConditionalGeneration\n",
        "\n",
        "# rich: for a better display on terminal\n",
        "from rich.table import Column, Table\n",
        "from rich.text import Text\n",
        "from rich import box\n",
        "from rich.console import Console\n",
        "\n",
        "# define a rich console logger\n",
        "console = Console(record=True)\n",
        "\n",
        "# Setting up the device for GPU usage\n",
        "from torch import cuda\n",
        "device = 'cuda' if cuda.is_available() else 'cpu'"
      ],
      "metadata": {
        "colab": {
          "base_uri": "https://localhost:8080/",
          "height": 34
        },
        "id": "4mcA2ya5ZNCM",
        "outputId": "33a6b6e9-ce3c-4c97-b260-dc405c9742af"
      },
      "execution_count": 2,
      "outputs": [
        {
          "output_type": "display_data",
          "data": {
            "text/plain": [
              "<Figure size 864x432 with 0 Axes>"
            ]
          },
          "metadata": {}
        }
      ]
    },
    {
      "cell_type": "markdown",
      "source": [
        "##0.2. Import Data"
      ],
      "metadata": {
        "id": "s3arh9WcZFww"
      }
    },
    {
      "cell_type": "markdown",
      "source": [
        "Either upload the data to the shared Google Drive and use this to download, or upload it directly yourself (whatever is easier)"
      ],
      "metadata": {
        "id": "zK4I5s9gZqxI"
      }
    },
    {
      "cell_type": "code",
      "execution_count": 3,
      "metadata": {
        "colab": {
          "base_uri": "https://localhost:8080/"
        },
        "id": "VoQUPYjsZDiq",
        "outputId": "e5eea7fb-3278-44f1-928a-047a09562a33"
      },
      "outputs": [
        {
          "output_type": "stream",
          "name": "stdout",
          "text": [
            "fatal: destination path 'data' already exists and is not an empty directory.\n"
          ]
        }
      ],
      "source": [
        "!git clone https://github.com/marziehf/IdiomTranslationDS data"
      ]
    },
    {
      "cell_type": "markdown",
      "source": [
        "##0.3 Setup functions & classes"
      ],
      "metadata": {
        "id": "xnpSL43tdGvk"
      }
    },
    {
      "cell_type": "markdown",
      "source": [
        "###0.3.1 FUNC: display_df"
      ],
      "metadata": {
        "id": "mKt7_iGUeScN"
      }
    },
    {
      "cell_type": "code",
      "source": [
        "# to display dataframe in ASCII format\n",
        "def display_df(df):\n",
        "    \"\"\"display dataframe in ASCII format\"\"\"\n",
        "\n",
        "    console = Console()\n",
        "    table = Table(\n",
        "        Column(\"source_text\", justify=\"center\"),\n",
        "        Column(\"target_text\", justify=\"center\"),\n",
        "        title=\"Sample Data\",\n",
        "        pad_edge=False,\n",
        "        box=box.ASCII,\n",
        "    )\n",
        "\n",
        "    for i, row in enumerate(df.values.tolist()):\n",
        "        table.add_row(row[0], row[1])\n",
        "\n",
        "    console.print(table)"
      ],
      "metadata": {
        "id": "QjO6nIJGchxq"
      },
      "execution_count": 4,
      "outputs": []
    },
    {
      "cell_type": "markdown",
      "source": [
        "###0.3.2 CLASS: DataSet"
      ],
      "metadata": {
        "id": "5v2GZNnvea0H"
      }
    },
    {
      "cell_type": "markdown",
      "source": [
        "A Dataset class for reading and loading the dataset into the dataloader, and then feed it into the neural network for fine-tuning the model."
      ],
      "metadata": {
        "id": "e1KXqhYhdX_f"
      }
    },
    {
      "cell_type": "code",
      "source": [
        "class DataSet(Dataset):\n",
        "    \"\"\"\n",
        "    Creating a dataset class for reading the dataset and\n",
        "    loading it into the dataloader, to pass it to the\n",
        "    neural network for finetuning the model\n",
        "\n",
        "    \"\"\"\n",
        "\n",
        "    def __init__(\n",
        "        self, dataframe, tokenizer, source_len, target_len, source_text, target_text\n",
        "    ):\n",
        "        \"\"\"\n",
        "        Initializes a Dataset class\n",
        "\n",
        "        Args:\n",
        "            dataframe (pandas.DataFrame): Input dataframe\n",
        "            tokenizer (transformers.tokenizer): Transformers tokenizer\n",
        "            source_len (int): Max length of source text\n",
        "            target_len (int): Max length of target text\n",
        "            source_text (str): column name of source text\n",
        "            target_text (str): column name of target text\n",
        "        \"\"\"\n",
        "        self.tokenizer = tokenizer\n",
        "        self.data = dataframe\n",
        "        self.source_len = source_len\n",
        "        self.summ_len = target_len\n",
        "        self.target_text = self.data[target_text]\n",
        "        self.source_text = self.data[source_text]\n",
        "\n",
        "    def __len__(self):\n",
        "        \"\"\"returns the length of dataframe\"\"\"\n",
        "\n",
        "        return len(self.target_text)\n",
        "\n",
        "    def __getitem__(self, index):\n",
        "        \"\"\"return the input ids, attention masks and target ids\"\"\"\n",
        "\n",
        "        source_text = str(self.source_text[index])\n",
        "        target_text = str(self.target_text[index])\n",
        "\n",
        "        # cleaning data so as to ensure data is in string type\n",
        "        source_text = \" \".join(source_text.split())\n",
        "        target_text = \" \".join(target_text.split())\n",
        "\n",
        "        source = self.tokenizer.batch_encode_plus(\n",
        "            [source_text],\n",
        "            max_length=self.source_len,\n",
        "            pad_to_max_length=True,\n",
        "            truncation=True,\n",
        "            padding=\"max_length\",\n",
        "            return_tensors=\"pt\",\n",
        "        )\n",
        "        target = self.tokenizer.batch_encode_plus(\n",
        "            [target_text],\n",
        "            max_length=self.summ_len,\n",
        "            pad_to_max_length=True,\n",
        "            truncation=True,\n",
        "            padding=\"max_length\",\n",
        "            return_tensors=\"pt\",\n",
        "        )\n",
        "\n",
        "        source_ids = source[\"input_ids\"].squeeze()\n",
        "        source_mask = source[\"attention_mask\"].squeeze()\n",
        "        target_ids = target[\"input_ids\"].squeeze()\n",
        "        target_mask = target[\"attention_mask\"].squeeze()\n",
        "\n",
        "        return {\n",
        "            \"source_ids\": source_ids.to(dtype=torch.long),\n",
        "            \"source_mask\": source_mask.to(dtype=torch.long),\n",
        "            \"target_ids\": target_ids.to(dtype=torch.long),\n",
        "            \"target_ids_y\": target_ids.to(dtype=torch.long),\n",
        "        }"
      ],
      "metadata": {
        "id": "iJmDbxNbdKlP"
      },
      "execution_count": 5,
      "outputs": []
    },
    {
      "cell_type": "markdown",
      "source": [
        "###0.3.3 FUNC: train"
      ],
      "metadata": {
        "id": "rcxgONn0efui"
      }
    },
    {
      "cell_type": "markdown",
      "source": [
        "Train function, which will the put model on training mode, generate outputs and calculate loss"
      ],
      "metadata": {
        "id": "noK0ICH4eCzT"
      }
    },
    {
      "cell_type": "code",
      "source": [
        "def train(epoch, tokenizer, model, device, loader, optimizer, train_batch_size):\n",
        "\n",
        "    \"\"\"\n",
        "    Function to be called for training with the parameters passed from main function\n",
        "\n",
        "    Takes 6 arguments as input:\n",
        "    \n",
        "        epoch: epoch\n",
        "        tokenizer: T5 tokenizer\n",
        "        model: T5 model\n",
        "        loader: Train Dataloader\n",
        "        optimizer: Optimizer\n",
        "        train_batch_size: batch size for the training data\n",
        "\n",
        "\n",
        "    \"\"\"\n",
        "\n",
        "    model.train()\n",
        "    train_loss = 0\n",
        "    train_batches = 0\n",
        "    for _, data in enumerate(loader, 0):\n",
        "        y = data[\"target_ids\"].to(device, dtype=torch.long)\n",
        "        y_ids = y[:, :-1].contiguous()\n",
        "        lm_labels = y[:, 1:].clone().detach()\n",
        "        lm_labels[y[:, 1:] == tokenizer.pad_token_id] = -100\n",
        "        ids = data[\"source_ids\"].to(device, dtype=torch.long)\n",
        "        mask = data[\"source_mask\"].to(device, dtype=torch.long)\n",
        "\n",
        "        outputs = model(\n",
        "            input_ids=ids,\n",
        "            attention_mask=mask,\n",
        "            decoder_input_ids=y_ids,\n",
        "            labels=lm_labels,\n",
        "        )\n",
        "        loss = outputs[0]\n",
        "        train_loss += loss.item()\n",
        "        train_batches += 1\n",
        "\n",
        "        # Print training loss every 100 batches\n",
        "        if _ % 100 == 0:\n",
        "            #training_logger.add_row(str(epoch), str(_), str(loss.item()))\n",
        "            console.print(\"Epoch: \", str(epoch), \"Batch: \", str(_), \"Loss: \", str(loss.item()))\n",
        "\n",
        "        optimizer.zero_grad()\n",
        "        loss.backward() \n",
        "        optimizer.step()\n",
        "\n",
        "    # Print average training loss over the epoch\n",
        "    train_loss = train_loss/train_batches\n",
        "    training_logger.add_row(str(epoch), str(train_loss))\n"
      ],
      "metadata": {
        "id": "EG5eKLajeFKX"
      },
      "execution_count": 6,
      "outputs": []
    },
    {
      "cell_type": "markdown",
      "source": [
        "###0.3.4 FUNC: validate"
      ],
      "metadata": {
        "id": "K2ChKAx-em7b"
      }
    },
    {
      "cell_type": "markdown",
      "source": [
        "Validate function is same as the Train function, but for the validation data\n",
        "\n"
      ],
      "metadata": {
        "id": "o7UaCBo7eKqX"
      }
    },
    {
      "cell_type": "code",
      "source": [
        "def validate(epoch, tokenizer, model, device, loader, generate_outputs=True):\n",
        "\n",
        "  \"\"\"\n",
        "  Function to evaluate model for predictions\n",
        "\n",
        "  \"\"\"\n",
        "  model.eval()\n",
        "  predictions = []\n",
        "  actuals = []\n",
        "  val_loss = 0\n",
        "  batches = 0\n",
        "  with torch.no_grad():\n",
        "      for _, data in enumerate(loader, 0):\n",
        "          y = data['target_ids'].to(device, dtype = torch.long)\n",
        "          ids = data['source_ids'].to(device, dtype = torch.long)\n",
        "          mask = data['source_mask'].to(device, dtype = torch.long)\n",
        "\n",
        "          # Find validation loss\n",
        "          y_ids = y[:, :-1].contiguous()\n",
        "          lm_labels = y[:, 1:].clone().detach()\n",
        "          lm_labels[y[:, 1:] == tokenizer.pad_token_id] = -100\n",
        "\n",
        "          outputs = model(\n",
        "              input_ids=ids,\n",
        "              attention_mask=mask,\n",
        "              decoder_input_ids=y_ids,\n",
        "              labels=lm_labels\n",
        "              )\n",
        "          loss = outputs[0]\n",
        "          val_loss += loss.item()\n",
        "          batches += 1\n",
        "\n",
        "          # Generate outputs\n",
        "          if generate_outputs:\n",
        "            generated_ids = model.generate(\n",
        "                input_ids = ids,\n",
        "                attention_mask = mask, \n",
        "                max_length=150, \n",
        "                num_beams=2,\n",
        "                repetition_penalty=2.5, \n",
        "                length_penalty=1.0, \n",
        "                early_stopping=True\n",
        "                )\n",
        "            preds = [tokenizer.decode(g, skip_special_tokens=True, clean_up_tokenization_spaces=True) for g in generated_ids]\n",
        "            target = [tokenizer.decode(t, skip_special_tokens=True, clean_up_tokenization_spaces=True)for t in y]\n",
        "\n",
        "            predictions.extend(preds)\n",
        "            actuals.extend(target)\n",
        "\n",
        "  # Save average loss over epoch\n",
        "  val_loss = val_loss/batches\n",
        "  if not generate_outputs:\n",
        "    validation_logger.add_row(str(epoch), str(val_loss))\n",
        "\n",
        "  return predictions, actuals"
      ],
      "metadata": {
        "id": "JRHNbfg1eMlx"
      },
      "execution_count": 7,
      "outputs": []
    },
    {
      "cell_type": "markdown",
      "source": [
        "###0.3.5 FUNC: T5Trainer"
      ],
      "metadata": {
        "id": "F19iHSPfes84"
      }
    },
    {
      "cell_type": "markdown",
      "source": [
        "T5Trainer is our main function. It accepts input data, model type, model paramters to fine-tune the model. Under the hood, it utilizes, our Dataset class for data handling, train function to fine tune the model, validate to evaluate the model."
      ],
      "metadata": {
        "id": "uu9v__Wjexl1"
      }
    },
    {
      "cell_type": "code",
      "source": [
        "def T5Trainer(\n",
        "    train_data, val_data, source_text, target_text, model_params, output_dir=\"./outputs/\"\n",
        "):\n",
        "\n",
        "    \"\"\"\n",
        "    T5 trainer has 6 arguments:\n",
        "\n",
        "      train_data: Input dataframe of training data\n",
        "      val_data: Input dataframe of validation data\n",
        "      source_text: Column name of the input text i.e. idiomatic sentence\n",
        "      target_text: Column name of the target text i.e. literal sentence\n",
        "      model_params: T5 model parameters\n",
        "      output_dir: Output directory to save fine tuned T5 model.\n",
        "\n",
        "    \"\"\"\n",
        "\n",
        "    # Set random seeds and deterministic pytorch for reproducibility\n",
        "    torch.manual_seed(model_params[\"SEED\"])  # pytorch random seed\n",
        "    np.random.seed(model_params[\"SEED\"])  # numpy random seed\n",
        "    torch.backends.cudnn.deterministic = True\n",
        "\n",
        "    # logging\n",
        "    console.log(f\"\"\"[Model]: Loading {model_params[\"MODEL\"]}...\\n\"\"\")\n",
        "\n",
        "    # tokenizer for encoding the text\n",
        "    tokenizer = T5Tokenizer.from_pretrained(model_params[\"MODEL\"])\n",
        "\n",
        "    # Defining the model. The model is then sent to device (GPU/TPU)\n",
        "    model = T5ForConditionalGeneration.from_pretrained(model_params[\"MODEL\"])\n",
        "    model = model.to(device)\n",
        "\n",
        "    # logging\n",
        "    console.log(f\"[Data]: Reading data...\\n\")\n",
        "\n",
        "    # Importing the raw dataset\n",
        "    train_data = train_data[[source_text, target_text]]\n",
        "    train_data = train_data.reset_index(drop=True)\n",
        "    val_data = val_data[[source_text, target_text]]\n",
        "    val_data = val_data.reset_index(drop=True)\n",
        "\n",
        "    display_df(train_data.head(2))\n",
        "\n",
        "    # Creation of Dataset and Dataloader\n",
        "    console.print(f\"TRAIN Dataset: {train_data.shape}\")\n",
        "    console.print(f\"VALIDATION Dataset: {val_data.shape}\\n\")\n",
        "\n",
        "    # Creating the Training and Validation dataset for further creation of Dataloader\n",
        "    training_set = DataSet(\n",
        "        train_data,\n",
        "        tokenizer,\n",
        "        model_params[\"MAX_SOURCE_TEXT_LENGTH\"],\n",
        "        model_params[\"MAX_TARGET_TEXT_LENGTH\"],\n",
        "        source_text,\n",
        "        target_text,\n",
        "    )\n",
        "    val_set = DataSet(\n",
        "        val_data,\n",
        "        tokenizer,\n",
        "        model_params[\"MAX_SOURCE_TEXT_LENGTH\"],\n",
        "        model_params[\"MAX_TARGET_TEXT_LENGTH\"],\n",
        "        source_text,\n",
        "        target_text,\n",
        "    )\n",
        "\n",
        "    # Defining the parameters for creation of dataloaders\n",
        "    train_params = {\n",
        "        \"batch_size\": model_params[\"TRAIN_BATCH_SIZE\"],\n",
        "        \"shuffle\": True,\n",
        "        \"num_workers\": 0,\n",
        "    }\n",
        "\n",
        "    val_params = {\n",
        "        \"batch_size\": model_params[\"VALID_BATCH_SIZE\"],\n",
        "        \"shuffle\": False,\n",
        "        \"num_workers\": 0,\n",
        "    }\n",
        "\n",
        "    # Creation of Dataloaders for training and validation.\n",
        "    training_loader = DataLoader(training_set, **train_params)\n",
        "    val_loader = DataLoader(val_set, **val_params)\n",
        "\n",
        "    # Defining the optimizer that will be used to tune the weights of the network in the training session.\n",
        "    optimizer = torch.optim.Adam(\n",
        "        params=model.parameters(), lr=model_params[\"LEARNING_RATE\"]\n",
        "    )\n",
        "\n",
        "    # Training loop\n",
        "    console.log(f\"[Initiating Fine Tuning]...\\n\")\n",
        "\n",
        "    train_batch_size = model_params[\"TRAIN_BATCH_SIZE\"]\n",
        "    for epoch in range(model_params[\"TRAIN_EPOCHS\"]):\n",
        "        train(epoch, tokenizer, model, device, training_loader, optimizer, train_batch_size)\n",
        "        validate(epoch, tokenizer, model, device, val_loader, generate_outputs=False)\n",
        "\n",
        "    console.print(\"\\n\")\n",
        "    console.print(training_logger)\n",
        "    console.print(\"\\n\")\n",
        "    console.print(validation_logger)\n",
        "\n",
        "    console.log(f\"[Saving Model]...\\n\")\n",
        "    # Saving the model after training\n",
        "    path = os.path.join(output_dir, \"model_files\")\n",
        "    model.save_pretrained(path)\n",
        "    tokenizer.save_pretrained(path)\n",
        "\n",
        "    # generating output for validation dataset\n",
        "    console.log(f\"[Generating Validation Outputs]...\\n\")\n",
        "    predictions, actuals = validate(epoch, tokenizer, model, device, val_loader)\n",
        "    final_df = pd.DataFrame({\"Input\": val_data[source_text], \"Generated Text\": predictions, \"Actual Text\": actuals})\n",
        "    final_df.to_csv(os.path.join(output_dir, \"predictions.csv\"))\n",
        "\n",
        "    console.save_text(os.path.join(output_dir, \"logs.txt\"))\n",
        "\n",
        "    console.log(f\"[Validation Outputs Generated.]\\n\")\n",
        "    console.print(\n",
        "        f\"\"\"[Model] Model saved @ {os.path.join(output_dir, \"model_files\")}\\n\"\"\"\n",
        "    )\n",
        "    console.print(\n",
        "        f\"\"\"[Validation] Generation on Validation data saved @ {os.path.join(output_dir,'predictions.csv')}\\n\"\"\"\n",
        "    )\n",
        "    console.print(f\"\"\"[Logs] Logs saved @ {os.path.join(output_dir,'logs.txt')}\\n\"\"\")"
      ],
      "metadata": {
        "id": "cDZUWpwKev_4"
      },
      "execution_count": 8,
      "outputs": []
    },
    {
      "cell_type": "markdown",
      "source": [
        "# 1. Processing Data"
      ],
      "metadata": {
        "id": "FcKQWqxse_q6"
      }
    },
    {
      "cell_type": "code",
      "source": [
        "def clean_dataset(data):\n",
        "  data_clean = data.copy(deep=True)\n",
        "  for i in range(len(data_clean.columns)):\n",
        "    data_clean.iloc[:,i] = data_clean.iloc[:,i].apply(lambda x: re.sub('&apos;', '\\'', x))\n",
        "    data_clean.iloc[:,i] = data_clean.iloc[:,i].apply(lambda x: re.sub('&quot;', '\\\"', x))\n",
        "    data_clean.iloc[:,i] = data_clean.iloc[:,i].apply(lambda x: re.sub('&#124;', '|', x))\n",
        "    data_clean.iloc[:,i] = data_clean.iloc[:,i].apply(lambda x: re.sub('&#93;', ']', x))\n",
        "    data_clean.iloc[:,i] = data_clean.iloc[:,i].apply(lambda x: re.sub('&#91;', '[', x))\n",
        "    data_clean.iloc[:,i] = data_clean.iloc[:,i].apply(lambda x: re.sub('&gt;', '>', x))\n",
        "    data_clean.iloc[:,i] = data_clean.iloc[:,i].apply(lambda x: re.sub('&lt;', '<', x))\n",
        "\n",
        "  return data_clean"
      ],
      "metadata": {
        "id": "7WMjGu0gm7L9"
      },
      "execution_count": 9,
      "outputs": []
    },
    {
      "cell_type": "code",
      "source": [
        "base_path=\"data/en-de/\"\n",
        "en = pd.read_csv(base_path+'idiom_trainplus.en',sep='\\n', header=None,names=['en'])\n",
        "de = pd.read_csv(base_path+'idiom_trainplus.de',sep='\\n', header=None,names=['de'])\n",
        "info = pd.read_csv(base_path+'idiom_trainplus.info',sep='\\t',header=None,names=[\"spread\", \"en_idiom\", \"de_idiom\",'frequency'])\n",
        "train_data = pd.concat([en,de,info],axis=1)\n",
        "train_data.columns = ['input','target',\"spread\", \"en_idiom\", \"de_idiom\",'frequency']\n",
        "train_data = train_data.drop(['spread','frequency',\"en_idiom\", \"de_idiom\"],axis=1)\n",
        "\n",
        "en = pd.read_csv(base_path+'idiom_test.en',sep='\\n', header=None,names=['en'])\n",
        "de = pd.read_csv(base_path+'idiom_test.de',sep='\\n', header=None,names=['de'])\n",
        "test_data = pd.concat([en,de],axis=1)\n",
        "test_data.columns = ['input','target']\n",
        "\n",
        "train_data = clean_dataset(train_data)\n",
        "test_data = clean_dataset(test_data)\n",
        "\n",
        "train_data['input'] = 'translate to german: '+ train_data['input']\n",
        "test_data['input'] = 'translate to german: '+ test_data['input']\n",
        "\n",
        "from sklearn.model_selection import train_test_split\n",
        "\n",
        "train_data,val_data=train_test_split(train_data, test_size=0.15, random_state=42)"
      ],
      "metadata": {
        "id": "ykw-EnjEZYxV",
        "colab": {
          "base_uri": "https://localhost:8080/",
          "height": 398
        },
        "outputId": "233e47a9-2e37-4f12-dc1e-4d08dac0e825"
      },
      "execution_count": 25,
      "outputs": [
        {
          "output_type": "stream",
          "name": "stdout",
          "text": [
            "Index(['en', 'de', 'spread', 'en_idiom', 'de_idiom', 'frequency'], dtype='object')\n"
          ]
        },
        {
          "output_type": "error",
          "ename": "ValueError",
          "evalue": "ignored",
          "traceback": [
            "\u001b[0;31m---------------------------------------------------------------------------\u001b[0m",
            "\u001b[0;31mValueError\u001b[0m                                Traceback (most recent call last)",
            "\u001b[0;32m<ipython-input-25-25e8d4ae0668>\u001b[0m in \u001b[0;36m<module>\u001b[0;34m()\u001b[0m\n\u001b[1;32m     13\u001b[0m \u001b[0mtest_data\u001b[0m \u001b[0;34m=\u001b[0m \u001b[0mpd\u001b[0m\u001b[0;34m.\u001b[0m\u001b[0mconcat\u001b[0m\u001b[0;34m(\u001b[0m\u001b[0;34m[\u001b[0m\u001b[0men\u001b[0m\u001b[0;34m,\u001b[0m\u001b[0mde\u001b[0m\u001b[0;34m,\u001b[0m\u001b[0minfo\u001b[0m\u001b[0;34m]\u001b[0m\u001b[0;34m,\u001b[0m\u001b[0maxis\u001b[0m\u001b[0;34m=\u001b[0m\u001b[0;36m1\u001b[0m\u001b[0;34m)\u001b[0m\u001b[0;34m\u001b[0m\u001b[0;34m\u001b[0m\u001b[0m\n\u001b[1;32m     14\u001b[0m \u001b[0mprint\u001b[0m\u001b[0;34m(\u001b[0m\u001b[0mtest_data\u001b[0m\u001b[0;34m.\u001b[0m\u001b[0mcolumns\u001b[0m\u001b[0;34m)\u001b[0m\u001b[0;34m\u001b[0m\u001b[0;34m\u001b[0m\u001b[0m\n\u001b[0;32m---> 15\u001b[0;31m \u001b[0mtest_data\u001b[0m\u001b[0;34m.\u001b[0m\u001b[0mcolumns\u001b[0m \u001b[0;34m=\u001b[0m \u001b[0;34m[\u001b[0m\u001b[0;34m'input'\u001b[0m\u001b[0;34m,\u001b[0m\u001b[0;34m'target'\u001b[0m\u001b[0;34m]\u001b[0m\u001b[0;34m\u001b[0m\u001b[0;34m\u001b[0m\u001b[0m\n\u001b[0m\u001b[1;32m     16\u001b[0m \u001b[0;34m\u001b[0m\u001b[0m\n\u001b[1;32m     17\u001b[0m \u001b[0mtrain_data\u001b[0m \u001b[0;34m=\u001b[0m \u001b[0mclean_dataset\u001b[0m\u001b[0;34m(\u001b[0m\u001b[0mtrain_data\u001b[0m\u001b[0;34m)\u001b[0m\u001b[0;34m\u001b[0m\u001b[0;34m\u001b[0m\u001b[0m\n",
            "\u001b[0;32m/usr/local/lib/python3.7/dist-packages/pandas/core/generic.py\u001b[0m in \u001b[0;36m__setattr__\u001b[0;34m(self, name, value)\u001b[0m\n\u001b[1;32m   5498\u001b[0m         \u001b[0;32mtry\u001b[0m\u001b[0;34m:\u001b[0m\u001b[0;34m\u001b[0m\u001b[0;34m\u001b[0m\u001b[0m\n\u001b[1;32m   5499\u001b[0m             \u001b[0mobject\u001b[0m\u001b[0;34m.\u001b[0m\u001b[0m__getattribute__\u001b[0m\u001b[0;34m(\u001b[0m\u001b[0mself\u001b[0m\u001b[0;34m,\u001b[0m \u001b[0mname\u001b[0m\u001b[0;34m)\u001b[0m\u001b[0;34m\u001b[0m\u001b[0;34m\u001b[0m\u001b[0m\n\u001b[0;32m-> 5500\u001b[0;31m             \u001b[0;32mreturn\u001b[0m \u001b[0mobject\u001b[0m\u001b[0;34m.\u001b[0m\u001b[0m__setattr__\u001b[0m\u001b[0;34m(\u001b[0m\u001b[0mself\u001b[0m\u001b[0;34m,\u001b[0m \u001b[0mname\u001b[0m\u001b[0;34m,\u001b[0m \u001b[0mvalue\u001b[0m\u001b[0;34m)\u001b[0m\u001b[0;34m\u001b[0m\u001b[0;34m\u001b[0m\u001b[0m\n\u001b[0m\u001b[1;32m   5501\u001b[0m         \u001b[0;32mexcept\u001b[0m \u001b[0mAttributeError\u001b[0m\u001b[0;34m:\u001b[0m\u001b[0;34m\u001b[0m\u001b[0;34m\u001b[0m\u001b[0m\n\u001b[1;32m   5502\u001b[0m             \u001b[0;32mpass\u001b[0m\u001b[0;34m\u001b[0m\u001b[0;34m\u001b[0m\u001b[0m\n",
            "\u001b[0;32m/usr/local/lib/python3.7/dist-packages/pandas/_libs/properties.pyx\u001b[0m in \u001b[0;36mpandas._libs.properties.AxisProperty.__set__\u001b[0;34m()\u001b[0m\n",
            "\u001b[0;32m/usr/local/lib/python3.7/dist-packages/pandas/core/generic.py\u001b[0m in \u001b[0;36m_set_axis\u001b[0;34m(self, axis, labels)\u001b[0m\n\u001b[1;32m    764\u001b[0m     \u001b[0;32mdef\u001b[0m \u001b[0m_set_axis\u001b[0m\u001b[0;34m(\u001b[0m\u001b[0mself\u001b[0m\u001b[0;34m,\u001b[0m \u001b[0maxis\u001b[0m\u001b[0;34m:\u001b[0m \u001b[0mint\u001b[0m\u001b[0;34m,\u001b[0m \u001b[0mlabels\u001b[0m\u001b[0;34m:\u001b[0m \u001b[0mIndex\u001b[0m\u001b[0;34m)\u001b[0m \u001b[0;34m->\u001b[0m \u001b[0;32mNone\u001b[0m\u001b[0;34m:\u001b[0m\u001b[0;34m\u001b[0m\u001b[0;34m\u001b[0m\u001b[0m\n\u001b[1;32m    765\u001b[0m         \u001b[0mlabels\u001b[0m \u001b[0;34m=\u001b[0m \u001b[0mensure_index\u001b[0m\u001b[0;34m(\u001b[0m\u001b[0mlabels\u001b[0m\u001b[0;34m)\u001b[0m\u001b[0;34m\u001b[0m\u001b[0;34m\u001b[0m\u001b[0m\n\u001b[0;32m--> 766\u001b[0;31m         \u001b[0mself\u001b[0m\u001b[0;34m.\u001b[0m\u001b[0m_mgr\u001b[0m\u001b[0;34m.\u001b[0m\u001b[0mset_axis\u001b[0m\u001b[0;34m(\u001b[0m\u001b[0maxis\u001b[0m\u001b[0;34m,\u001b[0m \u001b[0mlabels\u001b[0m\u001b[0;34m)\u001b[0m\u001b[0;34m\u001b[0m\u001b[0;34m\u001b[0m\u001b[0m\n\u001b[0m\u001b[1;32m    767\u001b[0m         \u001b[0mself\u001b[0m\u001b[0;34m.\u001b[0m\u001b[0m_clear_item_cache\u001b[0m\u001b[0;34m(\u001b[0m\u001b[0;34m)\u001b[0m\u001b[0;34m\u001b[0m\u001b[0;34m\u001b[0m\u001b[0m\n\u001b[1;32m    768\u001b[0m \u001b[0;34m\u001b[0m\u001b[0m\n",
            "\u001b[0;32m/usr/local/lib/python3.7/dist-packages/pandas/core/internals/managers.py\u001b[0m in \u001b[0;36mset_axis\u001b[0;34m(self, axis, new_labels)\u001b[0m\n\u001b[1;32m    214\u001b[0m     \u001b[0;32mdef\u001b[0m \u001b[0mset_axis\u001b[0m\u001b[0;34m(\u001b[0m\u001b[0mself\u001b[0m\u001b[0;34m,\u001b[0m \u001b[0maxis\u001b[0m\u001b[0;34m:\u001b[0m \u001b[0mint\u001b[0m\u001b[0;34m,\u001b[0m \u001b[0mnew_labels\u001b[0m\u001b[0;34m:\u001b[0m \u001b[0mIndex\u001b[0m\u001b[0;34m)\u001b[0m \u001b[0;34m->\u001b[0m \u001b[0;32mNone\u001b[0m\u001b[0;34m:\u001b[0m\u001b[0;34m\u001b[0m\u001b[0;34m\u001b[0m\u001b[0m\n\u001b[1;32m    215\u001b[0m         \u001b[0;31m# Caller is responsible for ensuring we have an Index object.\u001b[0m\u001b[0;34m\u001b[0m\u001b[0;34m\u001b[0m\u001b[0;34m\u001b[0m\u001b[0m\n\u001b[0;32m--> 216\u001b[0;31m         \u001b[0mself\u001b[0m\u001b[0;34m.\u001b[0m\u001b[0m_validate_set_axis\u001b[0m\u001b[0;34m(\u001b[0m\u001b[0maxis\u001b[0m\u001b[0;34m,\u001b[0m \u001b[0mnew_labels\u001b[0m\u001b[0;34m)\u001b[0m\u001b[0;34m\u001b[0m\u001b[0;34m\u001b[0m\u001b[0m\n\u001b[0m\u001b[1;32m    217\u001b[0m         \u001b[0mself\u001b[0m\u001b[0;34m.\u001b[0m\u001b[0maxes\u001b[0m\u001b[0;34m[\u001b[0m\u001b[0maxis\u001b[0m\u001b[0;34m]\u001b[0m \u001b[0;34m=\u001b[0m \u001b[0mnew_labels\u001b[0m\u001b[0;34m\u001b[0m\u001b[0;34m\u001b[0m\u001b[0m\n\u001b[1;32m    218\u001b[0m \u001b[0;34m\u001b[0m\u001b[0m\n",
            "\u001b[0;32m/usr/local/lib/python3.7/dist-packages/pandas/core/internals/base.py\u001b[0m in \u001b[0;36m_validate_set_axis\u001b[0;34m(self, axis, new_labels)\u001b[0m\n\u001b[1;32m     56\u001b[0m         \u001b[0;32melif\u001b[0m \u001b[0mnew_len\u001b[0m \u001b[0;34m!=\u001b[0m \u001b[0mold_len\u001b[0m\u001b[0;34m:\u001b[0m\u001b[0;34m\u001b[0m\u001b[0;34m\u001b[0m\u001b[0m\n\u001b[1;32m     57\u001b[0m             raise ValueError(\n\u001b[0;32m---> 58\u001b[0;31m                 \u001b[0;34mf\"Length mismatch: Expected axis has {old_len} elements, new \"\u001b[0m\u001b[0;34m\u001b[0m\u001b[0;34m\u001b[0m\u001b[0m\n\u001b[0m\u001b[1;32m     59\u001b[0m                 \u001b[0;34mf\"values have {new_len} elements\"\u001b[0m\u001b[0;34m\u001b[0m\u001b[0;34m\u001b[0m\u001b[0m\n\u001b[1;32m     60\u001b[0m             )\n",
            "\u001b[0;31mValueError\u001b[0m: Length mismatch: Expected axis has 6 elements, new values have 2 elements"
          ]
        }
      ]
    },
    {
      "cell_type": "code",
      "source": [
        "train_data.head()"
      ],
      "metadata": {
        "colab": {
          "base_uri": "https://localhost:8080/",
          "height": 206
        },
        "id": "AdFqlHrvZ7Oa",
        "outputId": "9c75b70f-6336-4a71-9075-dac862646912"
      },
      "execution_count": 11,
      "outputs": [
        {
          "output_type": "execute_result",
          "data": {
            "text/plain": [
              "                                                  input  \\\n",
              "1080  translate to german: EU integration is like a ...   \n",
              "203   translate to german: Whenever we go to a West ...   \n",
              "174   translate to german: I hope that the Irish pre...   \n",
              "772   translate to german: In a nutshell it would in...   \n",
              "120   translate to german: Very well located , easy ...   \n",
              "\n",
              "                                                 target  \n",
              "1080  Die Integration in die EU ist wie Tangotanzen ...  \n",
              "203   Jedes Mal , wenn wir in westafrikanische Lände...  \n",
              "174   Ich möchte , daß die irische Präsidentschaft i...  \n",
              "772   Kurz gesagt würde es die Belastung für den bri...  \n",
              "120   Die Mitarbeiter waren freundlich und das Hotel...  "
            ],
            "text/html": [
              "\n",
              "  <div id=\"df-91a34673-d801-4516-9a39-0b9c7eb1272e\">\n",
              "    <div class=\"colab-df-container\">\n",
              "      <div>\n",
              "<style scoped>\n",
              "    .dataframe tbody tr th:only-of-type {\n",
              "        vertical-align: middle;\n",
              "    }\n",
              "\n",
              "    .dataframe tbody tr th {\n",
              "        vertical-align: top;\n",
              "    }\n",
              "\n",
              "    .dataframe thead th {\n",
              "        text-align: right;\n",
              "    }\n",
              "</style>\n",
              "<table border=\"1\" class=\"dataframe\">\n",
              "  <thead>\n",
              "    <tr style=\"text-align: right;\">\n",
              "      <th></th>\n",
              "      <th>input</th>\n",
              "      <th>target</th>\n",
              "    </tr>\n",
              "  </thead>\n",
              "  <tbody>\n",
              "    <tr>\n",
              "      <th>1080</th>\n",
              "      <td>translate to german: EU integration is like a ...</td>\n",
              "      <td>Die Integration in die EU ist wie Tangotanzen ...</td>\n",
              "    </tr>\n",
              "    <tr>\n",
              "      <th>203</th>\n",
              "      <td>translate to german: Whenever we go to a West ...</td>\n",
              "      <td>Jedes Mal , wenn wir in westafrikanische Lände...</td>\n",
              "    </tr>\n",
              "    <tr>\n",
              "      <th>174</th>\n",
              "      <td>translate to german: I hope that the Irish pre...</td>\n",
              "      <td>Ich möchte , daß die irische Präsidentschaft i...</td>\n",
              "    </tr>\n",
              "    <tr>\n",
              "      <th>772</th>\n",
              "      <td>translate to german: In a nutshell it would in...</td>\n",
              "      <td>Kurz gesagt würde es die Belastung für den bri...</td>\n",
              "    </tr>\n",
              "    <tr>\n",
              "      <th>120</th>\n",
              "      <td>translate to german: Very well located , easy ...</td>\n",
              "      <td>Die Mitarbeiter waren freundlich und das Hotel...</td>\n",
              "    </tr>\n",
              "  </tbody>\n",
              "</table>\n",
              "</div>\n",
              "      <button class=\"colab-df-convert\" onclick=\"convertToInteractive('df-91a34673-d801-4516-9a39-0b9c7eb1272e')\"\n",
              "              title=\"Convert this dataframe to an interactive table.\"\n",
              "              style=\"display:none;\">\n",
              "        \n",
              "  <svg xmlns=\"http://www.w3.org/2000/svg\" height=\"24px\"viewBox=\"0 0 24 24\"\n",
              "       width=\"24px\">\n",
              "    <path d=\"M0 0h24v24H0V0z\" fill=\"none\"/>\n",
              "    <path d=\"M18.56 5.44l.94 2.06.94-2.06 2.06-.94-2.06-.94-.94-2.06-.94 2.06-2.06.94zm-11 1L8.5 8.5l.94-2.06 2.06-.94-2.06-.94L8.5 2.5l-.94 2.06-2.06.94zm10 10l.94 2.06.94-2.06 2.06-.94-2.06-.94-.94-2.06-.94 2.06-2.06.94z\"/><path d=\"M17.41 7.96l-1.37-1.37c-.4-.4-.92-.59-1.43-.59-.52 0-1.04.2-1.43.59L10.3 9.45l-7.72 7.72c-.78.78-.78 2.05 0 2.83L4 21.41c.39.39.9.59 1.41.59.51 0 1.02-.2 1.41-.59l7.78-7.78 2.81-2.81c.8-.78.8-2.07 0-2.86zM5.41 20L4 18.59l7.72-7.72 1.47 1.35L5.41 20z\"/>\n",
              "  </svg>\n",
              "      </button>\n",
              "      \n",
              "  <style>\n",
              "    .colab-df-container {\n",
              "      display:flex;\n",
              "      flex-wrap:wrap;\n",
              "      gap: 12px;\n",
              "    }\n",
              "\n",
              "    .colab-df-convert {\n",
              "      background-color: #E8F0FE;\n",
              "      border: none;\n",
              "      border-radius: 50%;\n",
              "      cursor: pointer;\n",
              "      display: none;\n",
              "      fill: #1967D2;\n",
              "      height: 32px;\n",
              "      padding: 0 0 0 0;\n",
              "      width: 32px;\n",
              "    }\n",
              "\n",
              "    .colab-df-convert:hover {\n",
              "      background-color: #E2EBFA;\n",
              "      box-shadow: 0px 1px 2px rgba(60, 64, 67, 0.3), 0px 1px 3px 1px rgba(60, 64, 67, 0.15);\n",
              "      fill: #174EA6;\n",
              "    }\n",
              "\n",
              "    [theme=dark] .colab-df-convert {\n",
              "      background-color: #3B4455;\n",
              "      fill: #D2E3FC;\n",
              "    }\n",
              "\n",
              "    [theme=dark] .colab-df-convert:hover {\n",
              "      background-color: #434B5C;\n",
              "      box-shadow: 0px 1px 3px 1px rgba(0, 0, 0, 0.15);\n",
              "      filter: drop-shadow(0px 1px 2px rgba(0, 0, 0, 0.3));\n",
              "      fill: #FFFFFF;\n",
              "    }\n",
              "  </style>\n",
              "\n",
              "      <script>\n",
              "        const buttonEl =\n",
              "          document.querySelector('#df-91a34673-d801-4516-9a39-0b9c7eb1272e button.colab-df-convert');\n",
              "        buttonEl.style.display =\n",
              "          google.colab.kernel.accessAllowed ? 'block' : 'none';\n",
              "\n",
              "        async function convertToInteractive(key) {\n",
              "          const element = document.querySelector('#df-91a34673-d801-4516-9a39-0b9c7eb1272e');\n",
              "          const dataTable =\n",
              "            await google.colab.kernel.invokeFunction('convertToInteractive',\n",
              "                                                     [key], {});\n",
              "          if (!dataTable) return;\n",
              "\n",
              "          const docLinkHtml = 'Like what you see? Visit the ' +\n",
              "            '<a target=\"_blank\" href=https://colab.research.google.com/notebooks/data_table.ipynb>data table notebook</a>'\n",
              "            + ' to learn more about interactive tables.';\n",
              "          element.innerHTML = '';\n",
              "          dataTable['output_type'] = 'display_data';\n",
              "          await google.colab.output.renderOutput(dataTable, element);\n",
              "          const docLink = document.createElement('div');\n",
              "          docLink.innerHTML = docLinkHtml;\n",
              "          element.appendChild(docLink);\n",
              "        }\n",
              "      </script>\n",
              "    </div>\n",
              "  </div>\n",
              "  "
            ]
          },
          "metadata": {},
          "execution_count": 11
        }
      ]
    },
    {
      "cell_type": "code",
      "source": [
        "test_data.head()"
      ],
      "metadata": {
        "colab": {
          "base_uri": "https://localhost:8080/",
          "height": 206
        },
        "id": "v4j8MNPtN5YU",
        "outputId": "0e2afa11-5331-47f6-e086-249b629c2f05"
      },
      "execution_count": 12,
      "outputs": [
        {
          "output_type": "execute_result",
          "data": {
            "text/plain": [
              "                                               input  \\\n",
              "0  translate to german: In this day and age , whe...   \n",
              "1  translate to german: In Romania , the election...   \n",
              "2  translate to german: Let us work to close the ...   \n",
              "3  translate to german: The region is easily reac...   \n",
              "4  translate to german: I cannot enter into debat...   \n",
              "\n",
              "                                              target  \n",
              "0  In einer Zeit wie dieser , in der viele offens...  \n",
              "1  In Rumänien wird der Wahlkampf die Chance biet...  \n",
              "2  Gemeinsam sollten wir wirksam die Schlupflöche...  \n",
              "3  Das Gebiet ist mit der Eisenbahn erreichbar , ...  \n",
              "4  Ich kann mich auf keine Diskussion einlassen ,...  "
            ],
            "text/html": [
              "\n",
              "  <div id=\"df-0b23d222-5342-4e08-aafe-d521d9d875d6\">\n",
              "    <div class=\"colab-df-container\">\n",
              "      <div>\n",
              "<style scoped>\n",
              "    .dataframe tbody tr th:only-of-type {\n",
              "        vertical-align: middle;\n",
              "    }\n",
              "\n",
              "    .dataframe tbody tr th {\n",
              "        vertical-align: top;\n",
              "    }\n",
              "\n",
              "    .dataframe thead th {\n",
              "        text-align: right;\n",
              "    }\n",
              "</style>\n",
              "<table border=\"1\" class=\"dataframe\">\n",
              "  <thead>\n",
              "    <tr style=\"text-align: right;\">\n",
              "      <th></th>\n",
              "      <th>input</th>\n",
              "      <th>target</th>\n",
              "    </tr>\n",
              "  </thead>\n",
              "  <tbody>\n",
              "    <tr>\n",
              "      <th>0</th>\n",
              "      <td>translate to german: In this day and age , whe...</td>\n",
              "      <td>In einer Zeit wie dieser , in der viele offens...</td>\n",
              "    </tr>\n",
              "    <tr>\n",
              "      <th>1</th>\n",
              "      <td>translate to german: In Romania , the election...</td>\n",
              "      <td>In Rumänien wird der Wahlkampf die Chance biet...</td>\n",
              "    </tr>\n",
              "    <tr>\n",
              "      <th>2</th>\n",
              "      <td>translate to german: Let us work to close the ...</td>\n",
              "      <td>Gemeinsam sollten wir wirksam die Schlupflöche...</td>\n",
              "    </tr>\n",
              "    <tr>\n",
              "      <th>3</th>\n",
              "      <td>translate to german: The region is easily reac...</td>\n",
              "      <td>Das Gebiet ist mit der Eisenbahn erreichbar , ...</td>\n",
              "    </tr>\n",
              "    <tr>\n",
              "      <th>4</th>\n",
              "      <td>translate to german: I cannot enter into debat...</td>\n",
              "      <td>Ich kann mich auf keine Diskussion einlassen ,...</td>\n",
              "    </tr>\n",
              "  </tbody>\n",
              "</table>\n",
              "</div>\n",
              "      <button class=\"colab-df-convert\" onclick=\"convertToInteractive('df-0b23d222-5342-4e08-aafe-d521d9d875d6')\"\n",
              "              title=\"Convert this dataframe to an interactive table.\"\n",
              "              style=\"display:none;\">\n",
              "        \n",
              "  <svg xmlns=\"http://www.w3.org/2000/svg\" height=\"24px\"viewBox=\"0 0 24 24\"\n",
              "       width=\"24px\">\n",
              "    <path d=\"M0 0h24v24H0V0z\" fill=\"none\"/>\n",
              "    <path d=\"M18.56 5.44l.94 2.06.94-2.06 2.06-.94-2.06-.94-.94-2.06-.94 2.06-2.06.94zm-11 1L8.5 8.5l.94-2.06 2.06-.94-2.06-.94L8.5 2.5l-.94 2.06-2.06.94zm10 10l.94 2.06.94-2.06 2.06-.94-2.06-.94-.94-2.06-.94 2.06-2.06.94z\"/><path d=\"M17.41 7.96l-1.37-1.37c-.4-.4-.92-.59-1.43-.59-.52 0-1.04.2-1.43.59L10.3 9.45l-7.72 7.72c-.78.78-.78 2.05 0 2.83L4 21.41c.39.39.9.59 1.41.59.51 0 1.02-.2 1.41-.59l7.78-7.78 2.81-2.81c.8-.78.8-2.07 0-2.86zM5.41 20L4 18.59l7.72-7.72 1.47 1.35L5.41 20z\"/>\n",
              "  </svg>\n",
              "      </button>\n",
              "      \n",
              "  <style>\n",
              "    .colab-df-container {\n",
              "      display:flex;\n",
              "      flex-wrap:wrap;\n",
              "      gap: 12px;\n",
              "    }\n",
              "\n",
              "    .colab-df-convert {\n",
              "      background-color: #E8F0FE;\n",
              "      border: none;\n",
              "      border-radius: 50%;\n",
              "      cursor: pointer;\n",
              "      display: none;\n",
              "      fill: #1967D2;\n",
              "      height: 32px;\n",
              "      padding: 0 0 0 0;\n",
              "      width: 32px;\n",
              "    }\n",
              "\n",
              "    .colab-df-convert:hover {\n",
              "      background-color: #E2EBFA;\n",
              "      box-shadow: 0px 1px 2px rgba(60, 64, 67, 0.3), 0px 1px 3px 1px rgba(60, 64, 67, 0.15);\n",
              "      fill: #174EA6;\n",
              "    }\n",
              "\n",
              "    [theme=dark] .colab-df-convert {\n",
              "      background-color: #3B4455;\n",
              "      fill: #D2E3FC;\n",
              "    }\n",
              "\n",
              "    [theme=dark] .colab-df-convert:hover {\n",
              "      background-color: #434B5C;\n",
              "      box-shadow: 0px 1px 3px 1px rgba(0, 0, 0, 0.15);\n",
              "      filter: drop-shadow(0px 1px 2px rgba(0, 0, 0, 0.3));\n",
              "      fill: #FFFFFF;\n",
              "    }\n",
              "  </style>\n",
              "\n",
              "      <script>\n",
              "        const buttonEl =\n",
              "          document.querySelector('#df-0b23d222-5342-4e08-aafe-d521d9d875d6 button.colab-df-convert');\n",
              "        buttonEl.style.display =\n",
              "          google.colab.kernel.accessAllowed ? 'block' : 'none';\n",
              "\n",
              "        async function convertToInteractive(key) {\n",
              "          const element = document.querySelector('#df-0b23d222-5342-4e08-aafe-d521d9d875d6');\n",
              "          const dataTable =\n",
              "            await google.colab.kernel.invokeFunction('convertToInteractive',\n",
              "                                                     [key], {});\n",
              "          if (!dataTable) return;\n",
              "\n",
              "          const docLinkHtml = 'Like what you see? Visit the ' +\n",
              "            '<a target=\"_blank\" href=https://colab.research.google.com/notebooks/data_table.ipynb>data table notebook</a>'\n",
              "            + ' to learn more about interactive tables.';\n",
              "          element.innerHTML = '';\n",
              "          dataTable['output_type'] = 'display_data';\n",
              "          await google.colab.output.renderOutput(dataTable, element);\n",
              "          const docLink = document.createElement('div');\n",
              "          docLink.innerHTML = docLinkHtml;\n",
              "          element.appendChild(docLink);\n",
              "        }\n",
              "      </script>\n",
              "    </div>\n",
              "  </div>\n",
              "  "
            ]
          },
          "metadata": {},
          "execution_count": 12
        }
      ]
    },
    {
      "cell_type": "code",
      "source": [
        "# Check max length\n",
        "lengths_train_in = train_data[\"input\"].str.split(\" \")\n",
        "lengths_test_in = test_data[\"input\"].str.split(\" \")\n",
        "lengths_val_in = val_data[\"input\"].str.split(\" \")\n",
        "\n",
        "print(\"Max number of tokens input = \", max(lengths_train_in.str.len().max(),lengths_test_in.str.len().max()))\n",
        "\n",
        "lengths_train_tar = train_data[\"target\"].str.split(\" \")\n",
        "lengths_test_tar = test_data[\"target\"].str.split(\" \")\n",
        "lengths_val_tar = val_data[\"target\"].str.split(\" \")\n",
        "\n",
        "print(\"Max number of tokens target = \", max(lengths_train_tar.str.len().max(),lengths_test_tar.str.len().max()))"
      ],
      "metadata": {
        "id": "3InVoeHi9Wyh",
        "colab": {
          "base_uri": "https://localhost:8080/"
        },
        "outputId": "4dc41f40-712e-4904-faf2-4a1955ec7eff"
      },
      "execution_count": 13,
      "outputs": [
        {
          "output_type": "stream",
          "name": "stdout",
          "text": [
            "Max number of tokens input =  168\n",
            "Max number of tokens target =  144\n"
          ]
        }
      ]
    },
    {
      "cell_type": "markdown",
      "source": [
        "#2. Training Model"
      ],
      "metadata": {
        "id": "TMQJTw9DfJIb"
      }
    },
    {
      "cell_type": "code",
      "source": [
        "# let's define model parameters specific to T5\n",
        "model_params = {\n",
        "    \"MODEL\": \"t5-small\",  # model_type: t5-base/t5-small/t5-large\n",
        "    \"TRAIN_BATCH_SIZE\": 4,  # training batch size\n",
        "    \"VALID_BATCH_SIZE\": 4,  # validation batch size\n",
        "    \"TRAIN_EPOCHS\": 50,  # number of training epochs\n",
        "    \"VAL_EPOCHS\": 1,  # number of validation epochs\n",
        "    \"LEARNING_RATE\": 1e-4,  # learning rate\n",
        "    \"MAX_SOURCE_TEXT_LENGTH\": 170,  # max length of source text\n",
        "    \"MAX_TARGET_TEXT_LENGTH\": 150,  # max length of target text\n",
        "    \"SEED\": 42,  # set seed for reproducibility\n",
        "}\n"
      ],
      "metadata": {
        "id": "UypLE5nTfK5M"
      },
      "execution_count": 14,
      "outputs": []
    },
    {
      "cell_type": "code",
      "source": [
        "# Initialize training and validation loggers to keep track of model loss\n",
        "\n",
        "# training logger to log training loss over the epochs and batches\n",
        "training_logger = Table(\n",
        "    Column(\"Epoch\", justify=\"center\"),\n",
        "    # Column(\"Batch\", justify=\"center\"),\n",
        "    Column(\"Loss\", justify=\"center\"),\n",
        "    title=\"Training Loss\",\n",
        "    pad_edge=False,\n",
        "    box=box.ASCII,\n",
        ")\n",
        "\n",
        "# validation logger to log validation loss over the epochs\n",
        "validation_logger = Table(\n",
        "    Column(\"Epoch\", justify=\"center\"),\n",
        "    Column(\"Loss\", justify=\"center\"),\n",
        "    title=\"Validation Loss\",\n",
        "    pad_edge=False,\n",
        "    box=box.ASCII,\n",
        ")\n"
      ],
      "metadata": {
        "id": "6DgnTr-gMlNA"
      },
      "execution_count": 15,
      "outputs": []
    },
    {
      "cell_type": "code",
      "source": [
        "%mkdir outputs"
      ],
      "metadata": {
        "id": "yAV-Zze-YoZh",
        "colab": {
          "base_uri": "https://localhost:8080/"
        },
        "outputId": "7efb2369-ee40-4475-a16a-e5d54a20e235"
      },
      "execution_count": 16,
      "outputs": [
        {
          "output_type": "stream",
          "name": "stdout",
          "text": [
            "mkdir: cannot create directory ‘outputs’: File exists\n"
          ]
        }
      ]
    },
    {
      "cell_type": "code",
      "source": [
        "# Train model\n",
        "T5Trainer(train_data=train_data, val_data= val_data, source_text=\"input\", target_text=\"target\", model_params=model_params, output_dir=\"outputs\")"
      ],
      "metadata": {
        "colab": {
          "base_uri": "https://localhost:8080/",
          "height": 1000
        },
        "id": "n6cgmoYBaQV7",
        "outputId": "a3756041-2c5d-4029-92a0-c53f783efb72"
      },
      "execution_count": 17,
      "outputs": [
        {
          "output_type": "display_data",
          "data": {
            "text/plain": [
              "\u001b[2;36m[19:57:36]\u001b[0m\u001b[2;36m \u001b[0m\u001b[1m[\u001b[0mModel\u001b[1m]\u001b[0m: Loading t5-small\u001b[33m...\u001b[0m                     \u001b[2m<ipython-input-8-31ece74cb2e6>\u001b[0m\u001b[2m:\u001b[0m\u001b[2m23\u001b[0m\n",
              "\u001b[2;36m           \u001b[0m                                                 \u001b[2m                                 \u001b[0m\n"
            ],
            "text/html": [
              "<pre style=\"white-space:pre;overflow-x:auto;line-height:normal;font-family:Menlo,'DejaVu Sans Mono',consolas,'Courier New',monospace\"><span style=\"color: #7fbfbf; text-decoration-color: #7fbfbf\">[19:57:36] </span><span style=\"font-weight: bold\">[</span>Model<span style=\"font-weight: bold\">]</span>: Loading t5-small<span style=\"color: #808000; text-decoration-color: #808000\">...</span>                     <span style=\"color: #7f7f7f; text-decoration-color: #7f7f7f\">&lt;ipython-input-8-31ece74cb2e6&gt;:23</span>\n",
              "<span style=\"color: #7fbfbf; text-decoration-color: #7fbfbf\">           </span>                                                 <span style=\"color: #7f7f7f; text-decoration-color: #7f7f7f\">                                 </span>\n",
              "</pre>\n"
            ]
          },
          "metadata": {}
        },
        {
          "output_type": "stream",
          "name": "stderr",
          "text": [
            "/usr/local/lib/python3.7/dist-packages/transformers/models/t5/tokenization_t5.py:169: FutureWarning: This tokenizer was incorrectly instantiated with a model max length of 512 which will be corrected in Transformers v5.\n",
            "For now, this behavior is kept to avoid breaking backwards compatibility when padding/encoding with `truncation is True`.\n",
            "- Be aware that you SHOULD NOT rely on t5-small automatically truncating your input to 512 when padding/encoding.\n",
            "- If you want to encode/pad to sequences longer than 512 you can either instantiate this tokenizer with `model_max_length` or pass `max_length` when encoding/padding.\n",
            "- To avoid this warning, please instantiate this tokenizer with `model_max_length` set to your preferred value.\n",
            "  FutureWarning,\n"
          ]
        },
        {
          "output_type": "display_data",
          "data": {
            "text/plain": [
              "\u001b[2;36m[19:57:52]\u001b[0m\u001b[2;36m \u001b[0m\u001b[1m[\u001b[0mData\u001b[1m]\u001b[0m: Reading data\u001b[33m...\u001b[0m                          \u001b[2m<ipython-input-8-31ece74cb2e6>\u001b[0m\u001b[2m:\u001b[0m\u001b[2m33\u001b[0m\n",
              "\u001b[2;36m           \u001b[0m                                                 \u001b[2m                                 \u001b[0m\n"
            ],
            "text/html": [
              "<pre style=\"white-space:pre;overflow-x:auto;line-height:normal;font-family:Menlo,'DejaVu Sans Mono',consolas,'Courier New',monospace\"><span style=\"color: #7fbfbf; text-decoration-color: #7fbfbf\">[19:57:52] </span><span style=\"font-weight: bold\">[</span>Data<span style=\"font-weight: bold\">]</span>: Reading data<span style=\"color: #808000; text-decoration-color: #808000\">...</span>                          <span style=\"color: #7f7f7f; text-decoration-color: #7f7f7f\">&lt;ipython-input-8-31ece74cb2e6&gt;:33</span>\n",
              "<span style=\"color: #7fbfbf; text-decoration-color: #7fbfbf\">           </span>                                                 <span style=\"color: #7f7f7f; text-decoration-color: #7f7f7f\">                                 </span>\n",
              "</pre>\n"
            ]
          },
          "metadata": {}
        },
        {
          "output_type": "display_data",
          "data": {
            "text/plain": [
              "\u001b[3m                                         Sample Data                                         \u001b[0m\n",
              "+-------------------------------------------------------------------------------------------+\n",
              "|\u001b[1m                source_text                 \u001b[0m\u001b[1m \u001b[0m|\u001b[1m \u001b[0m\u001b[1m                target_text                 \u001b[0m|\n",
              "|---------------------------------------------+---------------------------------------------|\n",
              "|translate to german: EU integration is like  |      Die Integration in die EU ist wie      |\n",
              "|  a tango . It takes two for it to work .    |  Tangotanzen : Man braucht dazu immer zwei  |\n",
              "|                                             |                  Partner .                  |\n",
              "|  translate to german: Whenever we go to a   |   Jedes Mal , wenn wir in westafrikanische  |\n",
              "|West African country , we can see the extent | Länder kommen , stellen wir fest , wie groß |\n",
              "| to which French influence is still present  |  der französische Einfluss dort noch ist .  |\n",
              "|                  there .                    |                                             |\n",
              "+-------------------------------------------------------------------------------------------+\n"
            ],
            "text/html": [
              "<pre style=\"white-space:pre;overflow-x:auto;line-height:normal;font-family:Menlo,'DejaVu Sans Mono',consolas,'Courier New',monospace\"><span style=\"font-style: italic\">                                         Sample Data                                         </span>\n",
              "+-------------------------------------------------------------------------------------------+\n",
              "|<span style=\"font-weight: bold\">                source_text                  </span>|<span style=\"font-weight: bold\">                 target_text                 </span>|\n",
              "|---------------------------------------------+---------------------------------------------|\n",
              "|translate to german: EU integration is like  |      Die Integration in die EU ist wie      |\n",
              "|  a tango . It takes two for it to work .    |  Tangotanzen : Man braucht dazu immer zwei  |\n",
              "|                                             |                  Partner .                  |\n",
              "|  translate to german: Whenever we go to a   |   Jedes Mal , wenn wir in westafrikanische  |\n",
              "|West African country , we can see the extent | Länder kommen , stellen wir fest , wie groß |\n",
              "| to which French influence is still present  |  der französische Einfluss dort noch ist .  |\n",
              "|                  there .                    |                                             |\n",
              "+-------------------------------------------------------------------------------------------+\n",
              "</pre>\n"
            ]
          },
          "metadata": {}
        },
        {
          "output_type": "display_data",
          "data": {
            "text/plain": [
              "TRAIN Dataset: \u001b[1m(\u001b[0m\u001b[1;36m1956\u001b[0m, \u001b[1;36m2\u001b[0m\u001b[1m)\u001b[0m\n"
            ],
            "text/html": [
              "<pre style=\"white-space:pre;overflow-x:auto;line-height:normal;font-family:Menlo,'DejaVu Sans Mono',consolas,'Courier New',monospace\">TRAIN Dataset: <span style=\"font-weight: bold\">(</span><span style=\"color: #008080; text-decoration-color: #008080; font-weight: bold\">1956</span>, <span style=\"color: #008080; text-decoration-color: #008080; font-weight: bold\">2</span><span style=\"font-weight: bold\">)</span>\n",
              "</pre>\n"
            ]
          },
          "metadata": {}
        },
        {
          "output_type": "display_data",
          "data": {
            "text/plain": [
              "VALIDATION Dataset: \u001b[1m(\u001b[0m\u001b[1;36m346\u001b[0m, \u001b[1;36m2\u001b[0m\u001b[1m)\u001b[0m\n",
              "\n"
            ],
            "text/html": [
              "<pre style=\"white-space:pre;overflow-x:auto;line-height:normal;font-family:Menlo,'DejaVu Sans Mono',consolas,'Courier New',monospace\">VALIDATION Dataset: <span style=\"font-weight: bold\">(</span><span style=\"color: #008080; text-decoration-color: #008080; font-weight: bold\">346</span>, <span style=\"color: #008080; text-decoration-color: #008080; font-weight: bold\">2</span><span style=\"font-weight: bold\">)</span>\n",
              "\n",
              "</pre>\n"
            ]
          },
          "metadata": {}
        },
        {
          "output_type": "display_data",
          "data": {
            "text/plain": [
              "\u001b[2;36m          \u001b[0m\u001b[2;36m \u001b[0m\u001b[1m[\u001b[0mInitiating Fine Tuning\u001b[1m]\u001b[0m\u001b[33m...\u001b[0m                      \u001b[2m<ipython-input-8-31ece74cb2e6>\u001b[0m\u001b[2m:\u001b[0m\u001b[2m88\u001b[0m\n",
              "\u001b[2;36m           \u001b[0m                                                 \u001b[2m                                 \u001b[0m\n"
            ],
            "text/html": [
              "<pre style=\"white-space:pre;overflow-x:auto;line-height:normal;font-family:Menlo,'DejaVu Sans Mono',consolas,'Courier New',monospace\"><span style=\"color: #7fbfbf; text-decoration-color: #7fbfbf\">           </span><span style=\"font-weight: bold\">[</span>Initiating Fine Tuning<span style=\"font-weight: bold\">]</span><span style=\"color: #808000; text-decoration-color: #808000\">...</span>                      <span style=\"color: #7f7f7f; text-decoration-color: #7f7f7f\">&lt;ipython-input-8-31ece74cb2e6&gt;:88</span>\n",
              "<span style=\"color: #7fbfbf; text-decoration-color: #7fbfbf\">           </span>                                                 <span style=\"color: #7f7f7f; text-decoration-color: #7f7f7f\">                                 </span>\n",
              "</pre>\n"
            ]
          },
          "metadata": {}
        },
        {
          "output_type": "display_data",
          "data": {
            "text/plain": [
              "Epoch:  \u001b[1;36m0\u001b[0m Batch:  \u001b[1;36m0\u001b[0m Loss:  \u001b[1;36m4.236312389373779\u001b[0m\n"
            ],
            "text/html": [
              "<pre style=\"white-space:pre;overflow-x:auto;line-height:normal;font-family:Menlo,'DejaVu Sans Mono',consolas,'Courier New',monospace\">Epoch:  <span style=\"color: #008080; text-decoration-color: #008080; font-weight: bold\">0</span> Batch:  <span style=\"color: #008080; text-decoration-color: #008080; font-weight: bold\">0</span> Loss:  <span style=\"color: #008080; text-decoration-color: #008080; font-weight: bold\">4.236312389373779</span>\n",
              "</pre>\n"
            ]
          },
          "metadata": {}
        },
        {
          "output_type": "display_data",
          "data": {
            "text/plain": [
              "Epoch:  \u001b[1;36m0\u001b[0m Batch:  \u001b[1;36m100\u001b[0m Loss:  \u001b[1;36m2.4640588760375977\u001b[0m\n"
            ],
            "text/html": [
              "<pre style=\"white-space:pre;overflow-x:auto;line-height:normal;font-family:Menlo,'DejaVu Sans Mono',consolas,'Courier New',monospace\">Epoch:  <span style=\"color: #008080; text-decoration-color: #008080; font-weight: bold\">0</span> Batch:  <span style=\"color: #008080; text-decoration-color: #008080; font-weight: bold\">100</span> Loss:  <span style=\"color: #008080; text-decoration-color: #008080; font-weight: bold\">2.4640588760375977</span>\n",
              "</pre>\n"
            ]
          },
          "metadata": {}
        },
        {
          "output_type": "display_data",
          "data": {
            "text/plain": [
              "Epoch:  \u001b[1;36m0\u001b[0m Batch:  \u001b[1;36m200\u001b[0m Loss:  \u001b[1;36m2.0432190895080566\u001b[0m\n"
            ],
            "text/html": [
              "<pre style=\"white-space:pre;overflow-x:auto;line-height:normal;font-family:Menlo,'DejaVu Sans Mono',consolas,'Courier New',monospace\">Epoch:  <span style=\"color: #008080; text-decoration-color: #008080; font-weight: bold\">0</span> Batch:  <span style=\"color: #008080; text-decoration-color: #008080; font-weight: bold\">200</span> Loss:  <span style=\"color: #008080; text-decoration-color: #008080; font-weight: bold\">2.0432190895080566</span>\n",
              "</pre>\n"
            ]
          },
          "metadata": {}
        },
        {
          "output_type": "display_data",
          "data": {
            "text/plain": [
              "Epoch:  \u001b[1;36m0\u001b[0m Batch:  \u001b[1;36m300\u001b[0m Loss:  \u001b[1;36m2.2724668979644775\u001b[0m\n"
            ],
            "text/html": [
              "<pre style=\"white-space:pre;overflow-x:auto;line-height:normal;font-family:Menlo,'DejaVu Sans Mono',consolas,'Courier New',monospace\">Epoch:  <span style=\"color: #008080; text-decoration-color: #008080; font-weight: bold\">0</span> Batch:  <span style=\"color: #008080; text-decoration-color: #008080; font-weight: bold\">300</span> Loss:  <span style=\"color: #008080; text-decoration-color: #008080; font-weight: bold\">2.2724668979644775</span>\n",
              "</pre>\n"
            ]
          },
          "metadata": {}
        },
        {
          "output_type": "display_data",
          "data": {
            "text/plain": [
              "Epoch:  \u001b[1;36m0\u001b[0m Batch:  \u001b[1;36m400\u001b[0m Loss:  \u001b[1;36m2.402596950531006\u001b[0m\n"
            ],
            "text/html": [
              "<pre style=\"white-space:pre;overflow-x:auto;line-height:normal;font-family:Menlo,'DejaVu Sans Mono',consolas,'Courier New',monospace\">Epoch:  <span style=\"color: #008080; text-decoration-color: #008080; font-weight: bold\">0</span> Batch:  <span style=\"color: #008080; text-decoration-color: #008080; font-weight: bold\">400</span> Loss:  <span style=\"color: #008080; text-decoration-color: #008080; font-weight: bold\">2.402596950531006</span>\n",
              "</pre>\n"
            ]
          },
          "metadata": {}
        },
        {
          "output_type": "display_data",
          "data": {
            "text/plain": [
              "Epoch:  \u001b[1;36m1\u001b[0m Batch:  \u001b[1;36m0\u001b[0m Loss:  \u001b[1;36m1.926169753074646\u001b[0m\n"
            ],
            "text/html": [
              "<pre style=\"white-space:pre;overflow-x:auto;line-height:normal;font-family:Menlo,'DejaVu Sans Mono',consolas,'Courier New',monospace\">Epoch:  <span style=\"color: #008080; text-decoration-color: #008080; font-weight: bold\">1</span> Batch:  <span style=\"color: #008080; text-decoration-color: #008080; font-weight: bold\">0</span> Loss:  <span style=\"color: #008080; text-decoration-color: #008080; font-weight: bold\">1.926169753074646</span>\n",
              "</pre>\n"
            ]
          },
          "metadata": {}
        },
        {
          "output_type": "display_data",
          "data": {
            "text/plain": [
              "Epoch:  \u001b[1;36m1\u001b[0m Batch:  \u001b[1;36m100\u001b[0m Loss:  \u001b[1;36m0.9635215997695923\u001b[0m\n"
            ],
            "text/html": [
              "<pre style=\"white-space:pre;overflow-x:auto;line-height:normal;font-family:Menlo,'DejaVu Sans Mono',consolas,'Courier New',monospace\">Epoch:  <span style=\"color: #008080; text-decoration-color: #008080; font-weight: bold\">1</span> Batch:  <span style=\"color: #008080; text-decoration-color: #008080; font-weight: bold\">100</span> Loss:  <span style=\"color: #008080; text-decoration-color: #008080; font-weight: bold\">0.9635215997695923</span>\n",
              "</pre>\n"
            ]
          },
          "metadata": {}
        },
        {
          "output_type": "display_data",
          "data": {
            "text/plain": [
              "Epoch:  \u001b[1;36m1\u001b[0m Batch:  \u001b[1;36m200\u001b[0m Loss:  \u001b[1;36m1.2576704025268555\u001b[0m\n"
            ],
            "text/html": [
              "<pre style=\"white-space:pre;overflow-x:auto;line-height:normal;font-family:Menlo,'DejaVu Sans Mono',consolas,'Courier New',monospace\">Epoch:  <span style=\"color: #008080; text-decoration-color: #008080; font-weight: bold\">1</span> Batch:  <span style=\"color: #008080; text-decoration-color: #008080; font-weight: bold\">200</span> Loss:  <span style=\"color: #008080; text-decoration-color: #008080; font-weight: bold\">1.2576704025268555</span>\n",
              "</pre>\n"
            ]
          },
          "metadata": {}
        },
        {
          "output_type": "display_data",
          "data": {
            "text/plain": [
              "Epoch:  \u001b[1;36m1\u001b[0m Batch:  \u001b[1;36m300\u001b[0m Loss:  \u001b[1;36m1.4867318868637085\u001b[0m\n"
            ],
            "text/html": [
              "<pre style=\"white-space:pre;overflow-x:auto;line-height:normal;font-family:Menlo,'DejaVu Sans Mono',consolas,'Courier New',monospace\">Epoch:  <span style=\"color: #008080; text-decoration-color: #008080; font-weight: bold\">1</span> Batch:  <span style=\"color: #008080; text-decoration-color: #008080; font-weight: bold\">300</span> Loss:  <span style=\"color: #008080; text-decoration-color: #008080; font-weight: bold\">1.4867318868637085</span>\n",
              "</pre>\n"
            ]
          },
          "metadata": {}
        },
        {
          "output_type": "display_data",
          "data": {
            "text/plain": [
              "Epoch:  \u001b[1;36m1\u001b[0m Batch:  \u001b[1;36m400\u001b[0m Loss:  \u001b[1;36m1.6007194519042969\u001b[0m\n"
            ],
            "text/html": [
              "<pre style=\"white-space:pre;overflow-x:auto;line-height:normal;font-family:Menlo,'DejaVu Sans Mono',consolas,'Courier New',monospace\">Epoch:  <span style=\"color: #008080; text-decoration-color: #008080; font-weight: bold\">1</span> Batch:  <span style=\"color: #008080; text-decoration-color: #008080; font-weight: bold\">400</span> Loss:  <span style=\"color: #008080; text-decoration-color: #008080; font-weight: bold\">1.6007194519042969</span>\n",
              "</pre>\n"
            ]
          },
          "metadata": {}
        },
        {
          "output_type": "display_data",
          "data": {
            "text/plain": [
              "Epoch:  \u001b[1;36m2\u001b[0m Batch:  \u001b[1;36m0\u001b[0m Loss:  \u001b[1;36m1.3581115007400513\u001b[0m\n"
            ],
            "text/html": [
              "<pre style=\"white-space:pre;overflow-x:auto;line-height:normal;font-family:Menlo,'DejaVu Sans Mono',consolas,'Courier New',monospace\">Epoch:  <span style=\"color: #008080; text-decoration-color: #008080; font-weight: bold\">2</span> Batch:  <span style=\"color: #008080; text-decoration-color: #008080; font-weight: bold\">0</span> Loss:  <span style=\"color: #008080; text-decoration-color: #008080; font-weight: bold\">1.3581115007400513</span>\n",
              "</pre>\n"
            ]
          },
          "metadata": {}
        },
        {
          "output_type": "display_data",
          "data": {
            "text/plain": [
              "Epoch:  \u001b[1;36m2\u001b[0m Batch:  \u001b[1;36m100\u001b[0m Loss:  \u001b[1;36m2.1811351776123047\u001b[0m\n"
            ],
            "text/html": [
              "<pre style=\"white-space:pre;overflow-x:auto;line-height:normal;font-family:Menlo,'DejaVu Sans Mono',consolas,'Courier New',monospace\">Epoch:  <span style=\"color: #008080; text-decoration-color: #008080; font-weight: bold\">2</span> Batch:  <span style=\"color: #008080; text-decoration-color: #008080; font-weight: bold\">100</span> Loss:  <span style=\"color: #008080; text-decoration-color: #008080; font-weight: bold\">2.1811351776123047</span>\n",
              "</pre>\n"
            ]
          },
          "metadata": {}
        },
        {
          "output_type": "display_data",
          "data": {
            "text/plain": [
              "Epoch:  \u001b[1;36m2\u001b[0m Batch:  \u001b[1;36m200\u001b[0m Loss:  \u001b[1;36m1.9880050420761108\u001b[0m\n"
            ],
            "text/html": [
              "<pre style=\"white-space:pre;overflow-x:auto;line-height:normal;font-family:Menlo,'DejaVu Sans Mono',consolas,'Courier New',monospace\">Epoch:  <span style=\"color: #008080; text-decoration-color: #008080; font-weight: bold\">2</span> Batch:  <span style=\"color: #008080; text-decoration-color: #008080; font-weight: bold\">200</span> Loss:  <span style=\"color: #008080; text-decoration-color: #008080; font-weight: bold\">1.9880050420761108</span>\n",
              "</pre>\n"
            ]
          },
          "metadata": {}
        },
        {
          "output_type": "display_data",
          "data": {
            "text/plain": [
              "Epoch:  \u001b[1;36m2\u001b[0m Batch:  \u001b[1;36m300\u001b[0m Loss:  \u001b[1;36m3.2559614181518555\u001b[0m\n"
            ],
            "text/html": [
              "<pre style=\"white-space:pre;overflow-x:auto;line-height:normal;font-family:Menlo,'DejaVu Sans Mono',consolas,'Courier New',monospace\">Epoch:  <span style=\"color: #008080; text-decoration-color: #008080; font-weight: bold\">2</span> Batch:  <span style=\"color: #008080; text-decoration-color: #008080; font-weight: bold\">300</span> Loss:  <span style=\"color: #008080; text-decoration-color: #008080; font-weight: bold\">3.2559614181518555</span>\n",
              "</pre>\n"
            ]
          },
          "metadata": {}
        },
        {
          "output_type": "display_data",
          "data": {
            "text/plain": [
              "Epoch:  \u001b[1;36m2\u001b[0m Batch:  \u001b[1;36m400\u001b[0m Loss:  \u001b[1;36m2.2425293922424316\u001b[0m\n"
            ],
            "text/html": [
              "<pre style=\"white-space:pre;overflow-x:auto;line-height:normal;font-family:Menlo,'DejaVu Sans Mono',consolas,'Courier New',monospace\">Epoch:  <span style=\"color: #008080; text-decoration-color: #008080; font-weight: bold\">2</span> Batch:  <span style=\"color: #008080; text-decoration-color: #008080; font-weight: bold\">400</span> Loss:  <span style=\"color: #008080; text-decoration-color: #008080; font-weight: bold\">2.2425293922424316</span>\n",
              "</pre>\n"
            ]
          },
          "metadata": {}
        },
        {
          "output_type": "display_data",
          "data": {
            "text/plain": [
              "Epoch:  \u001b[1;36m3\u001b[0m Batch:  \u001b[1;36m0\u001b[0m Loss:  \u001b[1;36m1.4615983963012695\u001b[0m\n"
            ],
            "text/html": [
              "<pre style=\"white-space:pre;overflow-x:auto;line-height:normal;font-family:Menlo,'DejaVu Sans Mono',consolas,'Courier New',monospace\">Epoch:  <span style=\"color: #008080; text-decoration-color: #008080; font-weight: bold\">3</span> Batch:  <span style=\"color: #008080; text-decoration-color: #008080; font-weight: bold\">0</span> Loss:  <span style=\"color: #008080; text-decoration-color: #008080; font-weight: bold\">1.4615983963012695</span>\n",
              "</pre>\n"
            ]
          },
          "metadata": {}
        },
        {
          "output_type": "display_data",
          "data": {
            "text/plain": [
              "Epoch:  \u001b[1;36m3\u001b[0m Batch:  \u001b[1;36m100\u001b[0m Loss:  \u001b[1;36m0.9688267707824707\u001b[0m\n"
            ],
            "text/html": [
              "<pre style=\"white-space:pre;overflow-x:auto;line-height:normal;font-family:Menlo,'DejaVu Sans Mono',consolas,'Courier New',monospace\">Epoch:  <span style=\"color: #008080; text-decoration-color: #008080; font-weight: bold\">3</span> Batch:  <span style=\"color: #008080; text-decoration-color: #008080; font-weight: bold\">100</span> Loss:  <span style=\"color: #008080; text-decoration-color: #008080; font-weight: bold\">0.9688267707824707</span>\n",
              "</pre>\n"
            ]
          },
          "metadata": {}
        },
        {
          "output_type": "display_data",
          "data": {
            "text/plain": [
              "Epoch:  \u001b[1;36m3\u001b[0m Batch:  \u001b[1;36m200\u001b[0m Loss:  \u001b[1;36m1.7446638345718384\u001b[0m\n"
            ],
            "text/html": [
              "<pre style=\"white-space:pre;overflow-x:auto;line-height:normal;font-family:Menlo,'DejaVu Sans Mono',consolas,'Courier New',monospace\">Epoch:  <span style=\"color: #008080; text-decoration-color: #008080; font-weight: bold\">3</span> Batch:  <span style=\"color: #008080; text-decoration-color: #008080; font-weight: bold\">200</span> Loss:  <span style=\"color: #008080; text-decoration-color: #008080; font-weight: bold\">1.7446638345718384</span>\n",
              "</pre>\n"
            ]
          },
          "metadata": {}
        },
        {
          "output_type": "display_data",
          "data": {
            "text/plain": [
              "Epoch:  \u001b[1;36m3\u001b[0m Batch:  \u001b[1;36m300\u001b[0m Loss:  \u001b[1;36m1.237941026687622\u001b[0m\n"
            ],
            "text/html": [
              "<pre style=\"white-space:pre;overflow-x:auto;line-height:normal;font-family:Menlo,'DejaVu Sans Mono',consolas,'Courier New',monospace\">Epoch:  <span style=\"color: #008080; text-decoration-color: #008080; font-weight: bold\">3</span> Batch:  <span style=\"color: #008080; text-decoration-color: #008080; font-weight: bold\">300</span> Loss:  <span style=\"color: #008080; text-decoration-color: #008080; font-weight: bold\">1.237941026687622</span>\n",
              "</pre>\n"
            ]
          },
          "metadata": {}
        },
        {
          "output_type": "display_data",
          "data": {
            "text/plain": [
              "Epoch:  \u001b[1;36m3\u001b[0m Batch:  \u001b[1;36m400\u001b[0m Loss:  \u001b[1;36m2.4270541667938232\u001b[0m\n"
            ],
            "text/html": [
              "<pre style=\"white-space:pre;overflow-x:auto;line-height:normal;font-family:Menlo,'DejaVu Sans Mono',consolas,'Courier New',monospace\">Epoch:  <span style=\"color: #008080; text-decoration-color: #008080; font-weight: bold\">3</span> Batch:  <span style=\"color: #008080; text-decoration-color: #008080; font-weight: bold\">400</span> Loss:  <span style=\"color: #008080; text-decoration-color: #008080; font-weight: bold\">2.4270541667938232</span>\n",
              "</pre>\n"
            ]
          },
          "metadata": {}
        },
        {
          "output_type": "display_data",
          "data": {
            "text/plain": [
              "Epoch:  \u001b[1;36m4\u001b[0m Batch:  \u001b[1;36m0\u001b[0m Loss:  \u001b[1;36m2.251739501953125\u001b[0m\n"
            ],
            "text/html": [
              "<pre style=\"white-space:pre;overflow-x:auto;line-height:normal;font-family:Menlo,'DejaVu Sans Mono',consolas,'Courier New',monospace\">Epoch:  <span style=\"color: #008080; text-decoration-color: #008080; font-weight: bold\">4</span> Batch:  <span style=\"color: #008080; text-decoration-color: #008080; font-weight: bold\">0</span> Loss:  <span style=\"color: #008080; text-decoration-color: #008080; font-weight: bold\">2.251739501953125</span>\n",
              "</pre>\n"
            ]
          },
          "metadata": {}
        },
        {
          "output_type": "display_data",
          "data": {
            "text/plain": [
              "Epoch:  \u001b[1;36m4\u001b[0m Batch:  \u001b[1;36m100\u001b[0m Loss:  \u001b[1;36m1.2382004261016846\u001b[0m\n"
            ],
            "text/html": [
              "<pre style=\"white-space:pre;overflow-x:auto;line-height:normal;font-family:Menlo,'DejaVu Sans Mono',consolas,'Courier New',monospace\">Epoch:  <span style=\"color: #008080; text-decoration-color: #008080; font-weight: bold\">4</span> Batch:  <span style=\"color: #008080; text-decoration-color: #008080; font-weight: bold\">100</span> Loss:  <span style=\"color: #008080; text-decoration-color: #008080; font-weight: bold\">1.2382004261016846</span>\n",
              "</pre>\n"
            ]
          },
          "metadata": {}
        },
        {
          "output_type": "display_data",
          "data": {
            "text/plain": [
              "Epoch:  \u001b[1;36m4\u001b[0m Batch:  \u001b[1;36m200\u001b[0m Loss:  \u001b[1;36m0.8187061548233032\u001b[0m\n"
            ],
            "text/html": [
              "<pre style=\"white-space:pre;overflow-x:auto;line-height:normal;font-family:Menlo,'DejaVu Sans Mono',consolas,'Courier New',monospace\">Epoch:  <span style=\"color: #008080; text-decoration-color: #008080; font-weight: bold\">4</span> Batch:  <span style=\"color: #008080; text-decoration-color: #008080; font-weight: bold\">200</span> Loss:  <span style=\"color: #008080; text-decoration-color: #008080; font-weight: bold\">0.8187061548233032</span>\n",
              "</pre>\n"
            ]
          },
          "metadata": {}
        },
        {
          "output_type": "display_data",
          "data": {
            "text/plain": [
              "Epoch:  \u001b[1;36m4\u001b[0m Batch:  \u001b[1;36m300\u001b[0m Loss:  \u001b[1;36m1.9669184684753418\u001b[0m\n"
            ],
            "text/html": [
              "<pre style=\"white-space:pre;overflow-x:auto;line-height:normal;font-family:Menlo,'DejaVu Sans Mono',consolas,'Courier New',monospace\">Epoch:  <span style=\"color: #008080; text-decoration-color: #008080; font-weight: bold\">4</span> Batch:  <span style=\"color: #008080; text-decoration-color: #008080; font-weight: bold\">300</span> Loss:  <span style=\"color: #008080; text-decoration-color: #008080; font-weight: bold\">1.9669184684753418</span>\n",
              "</pre>\n"
            ]
          },
          "metadata": {}
        },
        {
          "output_type": "display_data",
          "data": {
            "text/plain": [
              "Epoch:  \u001b[1;36m4\u001b[0m Batch:  \u001b[1;36m400\u001b[0m Loss:  \u001b[1;36m0.9746165871620178\u001b[0m\n"
            ],
            "text/html": [
              "<pre style=\"white-space:pre;overflow-x:auto;line-height:normal;font-family:Menlo,'DejaVu Sans Mono',consolas,'Courier New',monospace\">Epoch:  <span style=\"color: #008080; text-decoration-color: #008080; font-weight: bold\">4</span> Batch:  <span style=\"color: #008080; text-decoration-color: #008080; font-weight: bold\">400</span> Loss:  <span style=\"color: #008080; text-decoration-color: #008080; font-weight: bold\">0.9746165871620178</span>\n",
              "</pre>\n"
            ]
          },
          "metadata": {}
        },
        {
          "output_type": "display_data",
          "data": {
            "text/plain": [
              "Epoch:  \u001b[1;36m5\u001b[0m Batch:  \u001b[1;36m0\u001b[0m Loss:  \u001b[1;36m0.8698853850364685\u001b[0m\n"
            ],
            "text/html": [
              "<pre style=\"white-space:pre;overflow-x:auto;line-height:normal;font-family:Menlo,'DejaVu Sans Mono',consolas,'Courier New',monospace\">Epoch:  <span style=\"color: #008080; text-decoration-color: #008080; font-weight: bold\">5</span> Batch:  <span style=\"color: #008080; text-decoration-color: #008080; font-weight: bold\">0</span> Loss:  <span style=\"color: #008080; text-decoration-color: #008080; font-weight: bold\">0.8698853850364685</span>\n",
              "</pre>\n"
            ]
          },
          "metadata": {}
        },
        {
          "output_type": "display_data",
          "data": {
            "text/plain": [
              "Epoch:  \u001b[1;36m5\u001b[0m Batch:  \u001b[1;36m100\u001b[0m Loss:  \u001b[1;36m1.1173319816589355\u001b[0m\n"
            ],
            "text/html": [
              "<pre style=\"white-space:pre;overflow-x:auto;line-height:normal;font-family:Menlo,'DejaVu Sans Mono',consolas,'Courier New',monospace\">Epoch:  <span style=\"color: #008080; text-decoration-color: #008080; font-weight: bold\">5</span> Batch:  <span style=\"color: #008080; text-decoration-color: #008080; font-weight: bold\">100</span> Loss:  <span style=\"color: #008080; text-decoration-color: #008080; font-weight: bold\">1.1173319816589355</span>\n",
              "</pre>\n"
            ]
          },
          "metadata": {}
        },
        {
          "output_type": "display_data",
          "data": {
            "text/plain": [
              "Epoch:  \u001b[1;36m5\u001b[0m Batch:  \u001b[1;36m200\u001b[0m Loss:  \u001b[1;36m1.7615560293197632\u001b[0m\n"
            ],
            "text/html": [
              "<pre style=\"white-space:pre;overflow-x:auto;line-height:normal;font-family:Menlo,'DejaVu Sans Mono',consolas,'Courier New',monospace\">Epoch:  <span style=\"color: #008080; text-decoration-color: #008080; font-weight: bold\">5</span> Batch:  <span style=\"color: #008080; text-decoration-color: #008080; font-weight: bold\">200</span> Loss:  <span style=\"color: #008080; text-decoration-color: #008080; font-weight: bold\">1.7615560293197632</span>\n",
              "</pre>\n"
            ]
          },
          "metadata": {}
        },
        {
          "output_type": "display_data",
          "data": {
            "text/plain": [
              "Epoch:  \u001b[1;36m5\u001b[0m Batch:  \u001b[1;36m300\u001b[0m Loss:  \u001b[1;36m1.828518271446228\u001b[0m\n"
            ],
            "text/html": [
              "<pre style=\"white-space:pre;overflow-x:auto;line-height:normal;font-family:Menlo,'DejaVu Sans Mono',consolas,'Courier New',monospace\">Epoch:  <span style=\"color: #008080; text-decoration-color: #008080; font-weight: bold\">5</span> Batch:  <span style=\"color: #008080; text-decoration-color: #008080; font-weight: bold\">300</span> Loss:  <span style=\"color: #008080; text-decoration-color: #008080; font-weight: bold\">1.828518271446228</span>\n",
              "</pre>\n"
            ]
          },
          "metadata": {}
        },
        {
          "output_type": "display_data",
          "data": {
            "text/plain": [
              "Epoch:  \u001b[1;36m5\u001b[0m Batch:  \u001b[1;36m400\u001b[0m Loss:  \u001b[1;36m1.1084927320480347\u001b[0m\n"
            ],
            "text/html": [
              "<pre style=\"white-space:pre;overflow-x:auto;line-height:normal;font-family:Menlo,'DejaVu Sans Mono',consolas,'Courier New',monospace\">Epoch:  <span style=\"color: #008080; text-decoration-color: #008080; font-weight: bold\">5</span> Batch:  <span style=\"color: #008080; text-decoration-color: #008080; font-weight: bold\">400</span> Loss:  <span style=\"color: #008080; text-decoration-color: #008080; font-weight: bold\">1.1084927320480347</span>\n",
              "</pre>\n"
            ]
          },
          "metadata": {}
        },
        {
          "output_type": "display_data",
          "data": {
            "text/plain": [
              "Epoch:  \u001b[1;36m6\u001b[0m Batch:  \u001b[1;36m0\u001b[0m Loss:  \u001b[1;36m1.571602702140808\u001b[0m\n"
            ],
            "text/html": [
              "<pre style=\"white-space:pre;overflow-x:auto;line-height:normal;font-family:Menlo,'DejaVu Sans Mono',consolas,'Courier New',monospace\">Epoch:  <span style=\"color: #008080; text-decoration-color: #008080; font-weight: bold\">6</span> Batch:  <span style=\"color: #008080; text-decoration-color: #008080; font-weight: bold\">0</span> Loss:  <span style=\"color: #008080; text-decoration-color: #008080; font-weight: bold\">1.571602702140808</span>\n",
              "</pre>\n"
            ]
          },
          "metadata": {}
        },
        {
          "output_type": "display_data",
          "data": {
            "text/plain": [
              "Epoch:  \u001b[1;36m6\u001b[0m Batch:  \u001b[1;36m100\u001b[0m Loss:  \u001b[1;36m1.310165524482727\u001b[0m\n"
            ],
            "text/html": [
              "<pre style=\"white-space:pre;overflow-x:auto;line-height:normal;font-family:Menlo,'DejaVu Sans Mono',consolas,'Courier New',monospace\">Epoch:  <span style=\"color: #008080; text-decoration-color: #008080; font-weight: bold\">6</span> Batch:  <span style=\"color: #008080; text-decoration-color: #008080; font-weight: bold\">100</span> Loss:  <span style=\"color: #008080; text-decoration-color: #008080; font-weight: bold\">1.310165524482727</span>\n",
              "</pre>\n"
            ]
          },
          "metadata": {}
        },
        {
          "output_type": "display_data",
          "data": {
            "text/plain": [
              "Epoch:  \u001b[1;36m6\u001b[0m Batch:  \u001b[1;36m200\u001b[0m Loss:  \u001b[1;36m0.7214107513427734\u001b[0m\n"
            ],
            "text/html": [
              "<pre style=\"white-space:pre;overflow-x:auto;line-height:normal;font-family:Menlo,'DejaVu Sans Mono',consolas,'Courier New',monospace\">Epoch:  <span style=\"color: #008080; text-decoration-color: #008080; font-weight: bold\">6</span> Batch:  <span style=\"color: #008080; text-decoration-color: #008080; font-weight: bold\">200</span> Loss:  <span style=\"color: #008080; text-decoration-color: #008080; font-weight: bold\">0.7214107513427734</span>\n",
              "</pre>\n"
            ]
          },
          "metadata": {}
        },
        {
          "output_type": "display_data",
          "data": {
            "text/plain": [
              "Epoch:  \u001b[1;36m6\u001b[0m Batch:  \u001b[1;36m300\u001b[0m Loss:  \u001b[1;36m3.057178258895874\u001b[0m\n"
            ],
            "text/html": [
              "<pre style=\"white-space:pre;overflow-x:auto;line-height:normal;font-family:Menlo,'DejaVu Sans Mono',consolas,'Courier New',monospace\">Epoch:  <span style=\"color: #008080; text-decoration-color: #008080; font-weight: bold\">6</span> Batch:  <span style=\"color: #008080; text-decoration-color: #008080; font-weight: bold\">300</span> Loss:  <span style=\"color: #008080; text-decoration-color: #008080; font-weight: bold\">3.057178258895874</span>\n",
              "</pre>\n"
            ]
          },
          "metadata": {}
        },
        {
          "output_type": "display_data",
          "data": {
            "text/plain": [
              "Epoch:  \u001b[1;36m6\u001b[0m Batch:  \u001b[1;36m400\u001b[0m Loss:  \u001b[1;36m1.5342189073562622\u001b[0m\n"
            ],
            "text/html": [
              "<pre style=\"white-space:pre;overflow-x:auto;line-height:normal;font-family:Menlo,'DejaVu Sans Mono',consolas,'Courier New',monospace\">Epoch:  <span style=\"color: #008080; text-decoration-color: #008080; font-weight: bold\">6</span> Batch:  <span style=\"color: #008080; text-decoration-color: #008080; font-weight: bold\">400</span> Loss:  <span style=\"color: #008080; text-decoration-color: #008080; font-weight: bold\">1.5342189073562622</span>\n",
              "</pre>\n"
            ]
          },
          "metadata": {}
        },
        {
          "output_type": "display_data",
          "data": {
            "text/plain": [
              "Epoch:  \u001b[1;36m7\u001b[0m Batch:  \u001b[1;36m0\u001b[0m Loss:  \u001b[1;36m0.7915360927581787\u001b[0m\n"
            ],
            "text/html": [
              "<pre style=\"white-space:pre;overflow-x:auto;line-height:normal;font-family:Menlo,'DejaVu Sans Mono',consolas,'Courier New',monospace\">Epoch:  <span style=\"color: #008080; text-decoration-color: #008080; font-weight: bold\">7</span> Batch:  <span style=\"color: #008080; text-decoration-color: #008080; font-weight: bold\">0</span> Loss:  <span style=\"color: #008080; text-decoration-color: #008080; font-weight: bold\">0.7915360927581787</span>\n",
              "</pre>\n"
            ]
          },
          "metadata": {}
        },
        {
          "output_type": "display_data",
          "data": {
            "text/plain": [
              "Epoch:  \u001b[1;36m7\u001b[0m Batch:  \u001b[1;36m100\u001b[0m Loss:  \u001b[1;36m1.53759765625\u001b[0m\n"
            ],
            "text/html": [
              "<pre style=\"white-space:pre;overflow-x:auto;line-height:normal;font-family:Menlo,'DejaVu Sans Mono',consolas,'Courier New',monospace\">Epoch:  <span style=\"color: #008080; text-decoration-color: #008080; font-weight: bold\">7</span> Batch:  <span style=\"color: #008080; text-decoration-color: #008080; font-weight: bold\">100</span> Loss:  <span style=\"color: #008080; text-decoration-color: #008080; font-weight: bold\">1.53759765625</span>\n",
              "</pre>\n"
            ]
          },
          "metadata": {}
        },
        {
          "output_type": "display_data",
          "data": {
            "text/plain": [
              "Epoch:  \u001b[1;36m7\u001b[0m Batch:  \u001b[1;36m200\u001b[0m Loss:  \u001b[1;36m1.0175974369049072\u001b[0m\n"
            ],
            "text/html": [
              "<pre style=\"white-space:pre;overflow-x:auto;line-height:normal;font-family:Menlo,'DejaVu Sans Mono',consolas,'Courier New',monospace\">Epoch:  <span style=\"color: #008080; text-decoration-color: #008080; font-weight: bold\">7</span> Batch:  <span style=\"color: #008080; text-decoration-color: #008080; font-weight: bold\">200</span> Loss:  <span style=\"color: #008080; text-decoration-color: #008080; font-weight: bold\">1.0175974369049072</span>\n",
              "</pre>\n"
            ]
          },
          "metadata": {}
        },
        {
          "output_type": "display_data",
          "data": {
            "text/plain": [
              "Epoch:  \u001b[1;36m7\u001b[0m Batch:  \u001b[1;36m300\u001b[0m Loss:  \u001b[1;36m0.9033318161964417\u001b[0m\n"
            ],
            "text/html": [
              "<pre style=\"white-space:pre;overflow-x:auto;line-height:normal;font-family:Menlo,'DejaVu Sans Mono',consolas,'Courier New',monospace\">Epoch:  <span style=\"color: #008080; text-decoration-color: #008080; font-weight: bold\">7</span> Batch:  <span style=\"color: #008080; text-decoration-color: #008080; font-weight: bold\">300</span> Loss:  <span style=\"color: #008080; text-decoration-color: #008080; font-weight: bold\">0.9033318161964417</span>\n",
              "</pre>\n"
            ]
          },
          "metadata": {}
        },
        {
          "output_type": "display_data",
          "data": {
            "text/plain": [
              "Epoch:  \u001b[1;36m7\u001b[0m Batch:  \u001b[1;36m400\u001b[0m Loss:  \u001b[1;36m0.9631489515304565\u001b[0m\n"
            ],
            "text/html": [
              "<pre style=\"white-space:pre;overflow-x:auto;line-height:normal;font-family:Menlo,'DejaVu Sans Mono',consolas,'Courier New',monospace\">Epoch:  <span style=\"color: #008080; text-decoration-color: #008080; font-weight: bold\">7</span> Batch:  <span style=\"color: #008080; text-decoration-color: #008080; font-weight: bold\">400</span> Loss:  <span style=\"color: #008080; text-decoration-color: #008080; font-weight: bold\">0.9631489515304565</span>\n",
              "</pre>\n"
            ]
          },
          "metadata": {}
        },
        {
          "output_type": "display_data",
          "data": {
            "text/plain": [
              "Epoch:  \u001b[1;36m8\u001b[0m Batch:  \u001b[1;36m0\u001b[0m Loss:  \u001b[1;36m0.9023591876029968\u001b[0m\n"
            ],
            "text/html": [
              "<pre style=\"white-space:pre;overflow-x:auto;line-height:normal;font-family:Menlo,'DejaVu Sans Mono',consolas,'Courier New',monospace\">Epoch:  <span style=\"color: #008080; text-decoration-color: #008080; font-weight: bold\">8</span> Batch:  <span style=\"color: #008080; text-decoration-color: #008080; font-weight: bold\">0</span> Loss:  <span style=\"color: #008080; text-decoration-color: #008080; font-weight: bold\">0.9023591876029968</span>\n",
              "</pre>\n"
            ]
          },
          "metadata": {}
        },
        {
          "output_type": "display_data",
          "data": {
            "text/plain": [
              "Epoch:  \u001b[1;36m8\u001b[0m Batch:  \u001b[1;36m100\u001b[0m Loss:  \u001b[1;36m0.9947782754898071\u001b[0m\n"
            ],
            "text/html": [
              "<pre style=\"white-space:pre;overflow-x:auto;line-height:normal;font-family:Menlo,'DejaVu Sans Mono',consolas,'Courier New',monospace\">Epoch:  <span style=\"color: #008080; text-decoration-color: #008080; font-weight: bold\">8</span> Batch:  <span style=\"color: #008080; text-decoration-color: #008080; font-weight: bold\">100</span> Loss:  <span style=\"color: #008080; text-decoration-color: #008080; font-weight: bold\">0.9947782754898071</span>\n",
              "</pre>\n"
            ]
          },
          "metadata": {}
        },
        {
          "output_type": "display_data",
          "data": {
            "text/plain": [
              "Epoch:  \u001b[1;36m8\u001b[0m Batch:  \u001b[1;36m200\u001b[0m Loss:  \u001b[1;36m1.1143466234207153\u001b[0m\n"
            ],
            "text/html": [
              "<pre style=\"white-space:pre;overflow-x:auto;line-height:normal;font-family:Menlo,'DejaVu Sans Mono',consolas,'Courier New',monospace\">Epoch:  <span style=\"color: #008080; text-decoration-color: #008080; font-weight: bold\">8</span> Batch:  <span style=\"color: #008080; text-decoration-color: #008080; font-weight: bold\">200</span> Loss:  <span style=\"color: #008080; text-decoration-color: #008080; font-weight: bold\">1.1143466234207153</span>\n",
              "</pre>\n"
            ]
          },
          "metadata": {}
        },
        {
          "output_type": "display_data",
          "data": {
            "text/plain": [
              "Epoch:  \u001b[1;36m8\u001b[0m Batch:  \u001b[1;36m300\u001b[0m Loss:  \u001b[1;36m0.9125391840934753\u001b[0m\n"
            ],
            "text/html": [
              "<pre style=\"white-space:pre;overflow-x:auto;line-height:normal;font-family:Menlo,'DejaVu Sans Mono',consolas,'Courier New',monospace\">Epoch:  <span style=\"color: #008080; text-decoration-color: #008080; font-weight: bold\">8</span> Batch:  <span style=\"color: #008080; text-decoration-color: #008080; font-weight: bold\">300</span> Loss:  <span style=\"color: #008080; text-decoration-color: #008080; font-weight: bold\">0.9125391840934753</span>\n",
              "</pre>\n"
            ]
          },
          "metadata": {}
        },
        {
          "output_type": "display_data",
          "data": {
            "text/plain": [
              "Epoch:  \u001b[1;36m8\u001b[0m Batch:  \u001b[1;36m400\u001b[0m Loss:  \u001b[1;36m0.9453852772712708\u001b[0m\n"
            ],
            "text/html": [
              "<pre style=\"white-space:pre;overflow-x:auto;line-height:normal;font-family:Menlo,'DejaVu Sans Mono',consolas,'Courier New',monospace\">Epoch:  <span style=\"color: #008080; text-decoration-color: #008080; font-weight: bold\">8</span> Batch:  <span style=\"color: #008080; text-decoration-color: #008080; font-weight: bold\">400</span> Loss:  <span style=\"color: #008080; text-decoration-color: #008080; font-weight: bold\">0.9453852772712708</span>\n",
              "</pre>\n"
            ]
          },
          "metadata": {}
        },
        {
          "output_type": "display_data",
          "data": {
            "text/plain": [
              "Epoch:  \u001b[1;36m9\u001b[0m Batch:  \u001b[1;36m0\u001b[0m Loss:  \u001b[1;36m1.238229751586914\u001b[0m\n"
            ],
            "text/html": [
              "<pre style=\"white-space:pre;overflow-x:auto;line-height:normal;font-family:Menlo,'DejaVu Sans Mono',consolas,'Courier New',monospace\">Epoch:  <span style=\"color: #008080; text-decoration-color: #008080; font-weight: bold\">9</span> Batch:  <span style=\"color: #008080; text-decoration-color: #008080; font-weight: bold\">0</span> Loss:  <span style=\"color: #008080; text-decoration-color: #008080; font-weight: bold\">1.238229751586914</span>\n",
              "</pre>\n"
            ]
          },
          "metadata": {}
        },
        {
          "output_type": "display_data",
          "data": {
            "text/plain": [
              "Epoch:  \u001b[1;36m9\u001b[0m Batch:  \u001b[1;36m100\u001b[0m Loss:  \u001b[1;36m0.7821601629257202\u001b[0m\n"
            ],
            "text/html": [
              "<pre style=\"white-space:pre;overflow-x:auto;line-height:normal;font-family:Menlo,'DejaVu Sans Mono',consolas,'Courier New',monospace\">Epoch:  <span style=\"color: #008080; text-decoration-color: #008080; font-weight: bold\">9</span> Batch:  <span style=\"color: #008080; text-decoration-color: #008080; font-weight: bold\">100</span> Loss:  <span style=\"color: #008080; text-decoration-color: #008080; font-weight: bold\">0.7821601629257202</span>\n",
              "</pre>\n"
            ]
          },
          "metadata": {}
        },
        {
          "output_type": "display_data",
          "data": {
            "text/plain": [
              "Epoch:  \u001b[1;36m9\u001b[0m Batch:  \u001b[1;36m200\u001b[0m Loss:  \u001b[1;36m0.962096095085144\u001b[0m\n"
            ],
            "text/html": [
              "<pre style=\"white-space:pre;overflow-x:auto;line-height:normal;font-family:Menlo,'DejaVu Sans Mono',consolas,'Courier New',monospace\">Epoch:  <span style=\"color: #008080; text-decoration-color: #008080; font-weight: bold\">9</span> Batch:  <span style=\"color: #008080; text-decoration-color: #008080; font-weight: bold\">200</span> Loss:  <span style=\"color: #008080; text-decoration-color: #008080; font-weight: bold\">0.962096095085144</span>\n",
              "</pre>\n"
            ]
          },
          "metadata": {}
        },
        {
          "output_type": "display_data",
          "data": {
            "text/plain": [
              "Epoch:  \u001b[1;36m9\u001b[0m Batch:  \u001b[1;36m300\u001b[0m Loss:  \u001b[1;36m1.5217210054397583\u001b[0m\n"
            ],
            "text/html": [
              "<pre style=\"white-space:pre;overflow-x:auto;line-height:normal;font-family:Menlo,'DejaVu Sans Mono',consolas,'Courier New',monospace\">Epoch:  <span style=\"color: #008080; text-decoration-color: #008080; font-weight: bold\">9</span> Batch:  <span style=\"color: #008080; text-decoration-color: #008080; font-weight: bold\">300</span> Loss:  <span style=\"color: #008080; text-decoration-color: #008080; font-weight: bold\">1.5217210054397583</span>\n",
              "</pre>\n"
            ]
          },
          "metadata": {}
        },
        {
          "output_type": "display_data",
          "data": {
            "text/plain": [
              "Epoch:  \u001b[1;36m9\u001b[0m Batch:  \u001b[1;36m400\u001b[0m Loss:  \u001b[1;36m1.7364798784255981\u001b[0m\n"
            ],
            "text/html": [
              "<pre style=\"white-space:pre;overflow-x:auto;line-height:normal;font-family:Menlo,'DejaVu Sans Mono',consolas,'Courier New',monospace\">Epoch:  <span style=\"color: #008080; text-decoration-color: #008080; font-weight: bold\">9</span> Batch:  <span style=\"color: #008080; text-decoration-color: #008080; font-weight: bold\">400</span> Loss:  <span style=\"color: #008080; text-decoration-color: #008080; font-weight: bold\">1.7364798784255981</span>\n",
              "</pre>\n"
            ]
          },
          "metadata": {}
        },
        {
          "output_type": "display_data",
          "data": {
            "text/plain": [
              "Epoch:  \u001b[1;36m10\u001b[0m Batch:  \u001b[1;36m0\u001b[0m Loss:  \u001b[1;36m1.288854718208313\u001b[0m\n"
            ],
            "text/html": [
              "<pre style=\"white-space:pre;overflow-x:auto;line-height:normal;font-family:Menlo,'DejaVu Sans Mono',consolas,'Courier New',monospace\">Epoch:  <span style=\"color: #008080; text-decoration-color: #008080; font-weight: bold\">10</span> Batch:  <span style=\"color: #008080; text-decoration-color: #008080; font-weight: bold\">0</span> Loss:  <span style=\"color: #008080; text-decoration-color: #008080; font-weight: bold\">1.288854718208313</span>\n",
              "</pre>\n"
            ]
          },
          "metadata": {}
        },
        {
          "output_type": "display_data",
          "data": {
            "text/plain": [
              "Epoch:  \u001b[1;36m10\u001b[0m Batch:  \u001b[1;36m100\u001b[0m Loss:  \u001b[1;36m0.5391069650650024\u001b[0m\n"
            ],
            "text/html": [
              "<pre style=\"white-space:pre;overflow-x:auto;line-height:normal;font-family:Menlo,'DejaVu Sans Mono',consolas,'Courier New',monospace\">Epoch:  <span style=\"color: #008080; text-decoration-color: #008080; font-weight: bold\">10</span> Batch:  <span style=\"color: #008080; text-decoration-color: #008080; font-weight: bold\">100</span> Loss:  <span style=\"color: #008080; text-decoration-color: #008080; font-weight: bold\">0.5391069650650024</span>\n",
              "</pre>\n"
            ]
          },
          "metadata": {}
        },
        {
          "output_type": "display_data",
          "data": {
            "text/plain": [
              "Epoch:  \u001b[1;36m10\u001b[0m Batch:  \u001b[1;36m200\u001b[0m Loss:  \u001b[1;36m0.7265322208404541\u001b[0m\n"
            ],
            "text/html": [
              "<pre style=\"white-space:pre;overflow-x:auto;line-height:normal;font-family:Menlo,'DejaVu Sans Mono',consolas,'Courier New',monospace\">Epoch:  <span style=\"color: #008080; text-decoration-color: #008080; font-weight: bold\">10</span> Batch:  <span style=\"color: #008080; text-decoration-color: #008080; font-weight: bold\">200</span> Loss:  <span style=\"color: #008080; text-decoration-color: #008080; font-weight: bold\">0.7265322208404541</span>\n",
              "</pre>\n"
            ]
          },
          "metadata": {}
        },
        {
          "output_type": "display_data",
          "data": {
            "text/plain": [
              "Epoch:  \u001b[1;36m10\u001b[0m Batch:  \u001b[1;36m300\u001b[0m Loss:  \u001b[1;36m0.6418563723564148\u001b[0m\n"
            ],
            "text/html": [
              "<pre style=\"white-space:pre;overflow-x:auto;line-height:normal;font-family:Menlo,'DejaVu Sans Mono',consolas,'Courier New',monospace\">Epoch:  <span style=\"color: #008080; text-decoration-color: #008080; font-weight: bold\">10</span> Batch:  <span style=\"color: #008080; text-decoration-color: #008080; font-weight: bold\">300</span> Loss:  <span style=\"color: #008080; text-decoration-color: #008080; font-weight: bold\">0.6418563723564148</span>\n",
              "</pre>\n"
            ]
          },
          "metadata": {}
        },
        {
          "output_type": "display_data",
          "data": {
            "text/plain": [
              "Epoch:  \u001b[1;36m10\u001b[0m Batch:  \u001b[1;36m400\u001b[0m Loss:  \u001b[1;36m1.042300820350647\u001b[0m\n"
            ],
            "text/html": [
              "<pre style=\"white-space:pre;overflow-x:auto;line-height:normal;font-family:Menlo,'DejaVu Sans Mono',consolas,'Courier New',monospace\">Epoch:  <span style=\"color: #008080; text-decoration-color: #008080; font-weight: bold\">10</span> Batch:  <span style=\"color: #008080; text-decoration-color: #008080; font-weight: bold\">400</span> Loss:  <span style=\"color: #008080; text-decoration-color: #008080; font-weight: bold\">1.042300820350647</span>\n",
              "</pre>\n"
            ]
          },
          "metadata": {}
        },
        {
          "output_type": "display_data",
          "data": {
            "text/plain": [
              "Epoch:  \u001b[1;36m11\u001b[0m Batch:  \u001b[1;36m0\u001b[0m Loss:  \u001b[1;36m0.8335849046707153\u001b[0m\n"
            ],
            "text/html": [
              "<pre style=\"white-space:pre;overflow-x:auto;line-height:normal;font-family:Menlo,'DejaVu Sans Mono',consolas,'Courier New',monospace\">Epoch:  <span style=\"color: #008080; text-decoration-color: #008080; font-weight: bold\">11</span> Batch:  <span style=\"color: #008080; text-decoration-color: #008080; font-weight: bold\">0</span> Loss:  <span style=\"color: #008080; text-decoration-color: #008080; font-weight: bold\">0.8335849046707153</span>\n",
              "</pre>\n"
            ]
          },
          "metadata": {}
        },
        {
          "output_type": "display_data",
          "data": {
            "text/plain": [
              "Epoch:  \u001b[1;36m11\u001b[0m Batch:  \u001b[1;36m100\u001b[0m Loss:  \u001b[1;36m1.4041998386383057\u001b[0m\n"
            ],
            "text/html": [
              "<pre style=\"white-space:pre;overflow-x:auto;line-height:normal;font-family:Menlo,'DejaVu Sans Mono',consolas,'Courier New',monospace\">Epoch:  <span style=\"color: #008080; text-decoration-color: #008080; font-weight: bold\">11</span> Batch:  <span style=\"color: #008080; text-decoration-color: #008080; font-weight: bold\">100</span> Loss:  <span style=\"color: #008080; text-decoration-color: #008080; font-weight: bold\">1.4041998386383057</span>\n",
              "</pre>\n"
            ]
          },
          "metadata": {}
        },
        {
          "output_type": "display_data",
          "data": {
            "text/plain": [
              "Epoch:  \u001b[1;36m11\u001b[0m Batch:  \u001b[1;36m200\u001b[0m Loss:  \u001b[1;36m0.8887423276901245\u001b[0m\n"
            ],
            "text/html": [
              "<pre style=\"white-space:pre;overflow-x:auto;line-height:normal;font-family:Menlo,'DejaVu Sans Mono',consolas,'Courier New',monospace\">Epoch:  <span style=\"color: #008080; text-decoration-color: #008080; font-weight: bold\">11</span> Batch:  <span style=\"color: #008080; text-decoration-color: #008080; font-weight: bold\">200</span> Loss:  <span style=\"color: #008080; text-decoration-color: #008080; font-weight: bold\">0.8887423276901245</span>\n",
              "</pre>\n"
            ]
          },
          "metadata": {}
        },
        {
          "output_type": "display_data",
          "data": {
            "text/plain": [
              "Epoch:  \u001b[1;36m11\u001b[0m Batch:  \u001b[1;36m300\u001b[0m Loss:  \u001b[1;36m0.9926320314407349\u001b[0m\n"
            ],
            "text/html": [
              "<pre style=\"white-space:pre;overflow-x:auto;line-height:normal;font-family:Menlo,'DejaVu Sans Mono',consolas,'Courier New',monospace\">Epoch:  <span style=\"color: #008080; text-decoration-color: #008080; font-weight: bold\">11</span> Batch:  <span style=\"color: #008080; text-decoration-color: #008080; font-weight: bold\">300</span> Loss:  <span style=\"color: #008080; text-decoration-color: #008080; font-weight: bold\">0.9926320314407349</span>\n",
              "</pre>\n"
            ]
          },
          "metadata": {}
        },
        {
          "output_type": "display_data",
          "data": {
            "text/plain": [
              "Epoch:  \u001b[1;36m11\u001b[0m Batch:  \u001b[1;36m400\u001b[0m Loss:  \u001b[1;36m0.7929717302322388\u001b[0m\n"
            ],
            "text/html": [
              "<pre style=\"white-space:pre;overflow-x:auto;line-height:normal;font-family:Menlo,'DejaVu Sans Mono',consolas,'Courier New',monospace\">Epoch:  <span style=\"color: #008080; text-decoration-color: #008080; font-weight: bold\">11</span> Batch:  <span style=\"color: #008080; text-decoration-color: #008080; font-weight: bold\">400</span> Loss:  <span style=\"color: #008080; text-decoration-color: #008080; font-weight: bold\">0.7929717302322388</span>\n",
              "</pre>\n"
            ]
          },
          "metadata": {}
        },
        {
          "output_type": "display_data",
          "data": {
            "text/plain": [
              "Epoch:  \u001b[1;36m12\u001b[0m Batch:  \u001b[1;36m0\u001b[0m Loss:  \u001b[1;36m0.9599723219871521\u001b[0m\n"
            ],
            "text/html": [
              "<pre style=\"white-space:pre;overflow-x:auto;line-height:normal;font-family:Menlo,'DejaVu Sans Mono',consolas,'Courier New',monospace\">Epoch:  <span style=\"color: #008080; text-decoration-color: #008080; font-weight: bold\">12</span> Batch:  <span style=\"color: #008080; text-decoration-color: #008080; font-weight: bold\">0</span> Loss:  <span style=\"color: #008080; text-decoration-color: #008080; font-weight: bold\">0.9599723219871521</span>\n",
              "</pre>\n"
            ]
          },
          "metadata": {}
        },
        {
          "output_type": "display_data",
          "data": {
            "text/plain": [
              "Epoch:  \u001b[1;36m12\u001b[0m Batch:  \u001b[1;36m100\u001b[0m Loss:  \u001b[1;36m0.9841362237930298\u001b[0m\n"
            ],
            "text/html": [
              "<pre style=\"white-space:pre;overflow-x:auto;line-height:normal;font-family:Menlo,'DejaVu Sans Mono',consolas,'Courier New',monospace\">Epoch:  <span style=\"color: #008080; text-decoration-color: #008080; font-weight: bold\">12</span> Batch:  <span style=\"color: #008080; text-decoration-color: #008080; font-weight: bold\">100</span> Loss:  <span style=\"color: #008080; text-decoration-color: #008080; font-weight: bold\">0.9841362237930298</span>\n",
              "</pre>\n"
            ]
          },
          "metadata": {}
        },
        {
          "output_type": "display_data",
          "data": {
            "text/plain": [
              "Epoch:  \u001b[1;36m12\u001b[0m Batch:  \u001b[1;36m200\u001b[0m Loss:  \u001b[1;36m0.8428197503089905\u001b[0m\n"
            ],
            "text/html": [
              "<pre style=\"white-space:pre;overflow-x:auto;line-height:normal;font-family:Menlo,'DejaVu Sans Mono',consolas,'Courier New',monospace\">Epoch:  <span style=\"color: #008080; text-decoration-color: #008080; font-weight: bold\">12</span> Batch:  <span style=\"color: #008080; text-decoration-color: #008080; font-weight: bold\">200</span> Loss:  <span style=\"color: #008080; text-decoration-color: #008080; font-weight: bold\">0.8428197503089905</span>\n",
              "</pre>\n"
            ]
          },
          "metadata": {}
        },
        {
          "output_type": "display_data",
          "data": {
            "text/plain": [
              "Epoch:  \u001b[1;36m12\u001b[0m Batch:  \u001b[1;36m300\u001b[0m Loss:  \u001b[1;36m0.964732825756073\u001b[0m\n"
            ],
            "text/html": [
              "<pre style=\"white-space:pre;overflow-x:auto;line-height:normal;font-family:Menlo,'DejaVu Sans Mono',consolas,'Courier New',monospace\">Epoch:  <span style=\"color: #008080; text-decoration-color: #008080; font-weight: bold\">12</span> Batch:  <span style=\"color: #008080; text-decoration-color: #008080; font-weight: bold\">300</span> Loss:  <span style=\"color: #008080; text-decoration-color: #008080; font-weight: bold\">0.964732825756073</span>\n",
              "</pre>\n"
            ]
          },
          "metadata": {}
        },
        {
          "output_type": "display_data",
          "data": {
            "text/plain": [
              "Epoch:  \u001b[1;36m12\u001b[0m Batch:  \u001b[1;36m400\u001b[0m Loss:  \u001b[1;36m0.853690505027771\u001b[0m\n"
            ],
            "text/html": [
              "<pre style=\"white-space:pre;overflow-x:auto;line-height:normal;font-family:Menlo,'DejaVu Sans Mono',consolas,'Courier New',monospace\">Epoch:  <span style=\"color: #008080; text-decoration-color: #008080; font-weight: bold\">12</span> Batch:  <span style=\"color: #008080; text-decoration-color: #008080; font-weight: bold\">400</span> Loss:  <span style=\"color: #008080; text-decoration-color: #008080; font-weight: bold\">0.853690505027771</span>\n",
              "</pre>\n"
            ]
          },
          "metadata": {}
        },
        {
          "output_type": "display_data",
          "data": {
            "text/plain": [
              "Epoch:  \u001b[1;36m13\u001b[0m Batch:  \u001b[1;36m0\u001b[0m Loss:  \u001b[1;36m1.074328064918518\u001b[0m\n"
            ],
            "text/html": [
              "<pre style=\"white-space:pre;overflow-x:auto;line-height:normal;font-family:Menlo,'DejaVu Sans Mono',consolas,'Courier New',monospace\">Epoch:  <span style=\"color: #008080; text-decoration-color: #008080; font-weight: bold\">13</span> Batch:  <span style=\"color: #008080; text-decoration-color: #008080; font-weight: bold\">0</span> Loss:  <span style=\"color: #008080; text-decoration-color: #008080; font-weight: bold\">1.074328064918518</span>\n",
              "</pre>\n"
            ]
          },
          "metadata": {}
        },
        {
          "output_type": "display_data",
          "data": {
            "text/plain": [
              "Epoch:  \u001b[1;36m13\u001b[0m Batch:  \u001b[1;36m100\u001b[0m Loss:  \u001b[1;36m0.8108710050582886\u001b[0m\n"
            ],
            "text/html": [
              "<pre style=\"white-space:pre;overflow-x:auto;line-height:normal;font-family:Menlo,'DejaVu Sans Mono',consolas,'Courier New',monospace\">Epoch:  <span style=\"color: #008080; text-decoration-color: #008080; font-weight: bold\">13</span> Batch:  <span style=\"color: #008080; text-decoration-color: #008080; font-weight: bold\">100</span> Loss:  <span style=\"color: #008080; text-decoration-color: #008080; font-weight: bold\">0.8108710050582886</span>\n",
              "</pre>\n"
            ]
          },
          "metadata": {}
        },
        {
          "output_type": "display_data",
          "data": {
            "text/plain": [
              "Epoch:  \u001b[1;36m13\u001b[0m Batch:  \u001b[1;36m200\u001b[0m Loss:  \u001b[1;36m1.5822783708572388\u001b[0m\n"
            ],
            "text/html": [
              "<pre style=\"white-space:pre;overflow-x:auto;line-height:normal;font-family:Menlo,'DejaVu Sans Mono',consolas,'Courier New',monospace\">Epoch:  <span style=\"color: #008080; text-decoration-color: #008080; font-weight: bold\">13</span> Batch:  <span style=\"color: #008080; text-decoration-color: #008080; font-weight: bold\">200</span> Loss:  <span style=\"color: #008080; text-decoration-color: #008080; font-weight: bold\">1.5822783708572388</span>\n",
              "</pre>\n"
            ]
          },
          "metadata": {}
        },
        {
          "output_type": "display_data",
          "data": {
            "text/plain": [
              "Epoch:  \u001b[1;36m13\u001b[0m Batch:  \u001b[1;36m300\u001b[0m Loss:  \u001b[1;36m1.1755584478378296\u001b[0m\n"
            ],
            "text/html": [
              "<pre style=\"white-space:pre;overflow-x:auto;line-height:normal;font-family:Menlo,'DejaVu Sans Mono',consolas,'Courier New',monospace\">Epoch:  <span style=\"color: #008080; text-decoration-color: #008080; font-weight: bold\">13</span> Batch:  <span style=\"color: #008080; text-decoration-color: #008080; font-weight: bold\">300</span> Loss:  <span style=\"color: #008080; text-decoration-color: #008080; font-weight: bold\">1.1755584478378296</span>\n",
              "</pre>\n"
            ]
          },
          "metadata": {}
        },
        {
          "output_type": "display_data",
          "data": {
            "text/plain": [
              "Epoch:  \u001b[1;36m13\u001b[0m Batch:  \u001b[1;36m400\u001b[0m Loss:  \u001b[1;36m1.1093568801879883\u001b[0m\n"
            ],
            "text/html": [
              "<pre style=\"white-space:pre;overflow-x:auto;line-height:normal;font-family:Menlo,'DejaVu Sans Mono',consolas,'Courier New',monospace\">Epoch:  <span style=\"color: #008080; text-decoration-color: #008080; font-weight: bold\">13</span> Batch:  <span style=\"color: #008080; text-decoration-color: #008080; font-weight: bold\">400</span> Loss:  <span style=\"color: #008080; text-decoration-color: #008080; font-weight: bold\">1.1093568801879883</span>\n",
              "</pre>\n"
            ]
          },
          "metadata": {}
        },
        {
          "output_type": "display_data",
          "data": {
            "text/plain": [
              "Epoch:  \u001b[1;36m14\u001b[0m Batch:  \u001b[1;36m0\u001b[0m Loss:  \u001b[1;36m1.0039087533950806\u001b[0m\n"
            ],
            "text/html": [
              "<pre style=\"white-space:pre;overflow-x:auto;line-height:normal;font-family:Menlo,'DejaVu Sans Mono',consolas,'Courier New',monospace\">Epoch:  <span style=\"color: #008080; text-decoration-color: #008080; font-weight: bold\">14</span> Batch:  <span style=\"color: #008080; text-decoration-color: #008080; font-weight: bold\">0</span> Loss:  <span style=\"color: #008080; text-decoration-color: #008080; font-weight: bold\">1.0039087533950806</span>\n",
              "</pre>\n"
            ]
          },
          "metadata": {}
        },
        {
          "output_type": "display_data",
          "data": {
            "text/plain": [
              "Epoch:  \u001b[1;36m14\u001b[0m Batch:  \u001b[1;36m100\u001b[0m Loss:  \u001b[1;36m1.4174507856369019\u001b[0m\n"
            ],
            "text/html": [
              "<pre style=\"white-space:pre;overflow-x:auto;line-height:normal;font-family:Menlo,'DejaVu Sans Mono',consolas,'Courier New',monospace\">Epoch:  <span style=\"color: #008080; text-decoration-color: #008080; font-weight: bold\">14</span> Batch:  <span style=\"color: #008080; text-decoration-color: #008080; font-weight: bold\">100</span> Loss:  <span style=\"color: #008080; text-decoration-color: #008080; font-weight: bold\">1.4174507856369019</span>\n",
              "</pre>\n"
            ]
          },
          "metadata": {}
        },
        {
          "output_type": "display_data",
          "data": {
            "text/plain": [
              "Epoch:  \u001b[1;36m14\u001b[0m Batch:  \u001b[1;36m200\u001b[0m Loss:  \u001b[1;36m0.8437080979347229\u001b[0m\n"
            ],
            "text/html": [
              "<pre style=\"white-space:pre;overflow-x:auto;line-height:normal;font-family:Menlo,'DejaVu Sans Mono',consolas,'Courier New',monospace\">Epoch:  <span style=\"color: #008080; text-decoration-color: #008080; font-weight: bold\">14</span> Batch:  <span style=\"color: #008080; text-decoration-color: #008080; font-weight: bold\">200</span> Loss:  <span style=\"color: #008080; text-decoration-color: #008080; font-weight: bold\">0.8437080979347229</span>\n",
              "</pre>\n"
            ]
          },
          "metadata": {}
        },
        {
          "output_type": "display_data",
          "data": {
            "text/plain": [
              "Epoch:  \u001b[1;36m14\u001b[0m Batch:  \u001b[1;36m300\u001b[0m Loss:  \u001b[1;36m1.2761884927749634\u001b[0m\n"
            ],
            "text/html": [
              "<pre style=\"white-space:pre;overflow-x:auto;line-height:normal;font-family:Menlo,'DejaVu Sans Mono',consolas,'Courier New',monospace\">Epoch:  <span style=\"color: #008080; text-decoration-color: #008080; font-weight: bold\">14</span> Batch:  <span style=\"color: #008080; text-decoration-color: #008080; font-weight: bold\">300</span> Loss:  <span style=\"color: #008080; text-decoration-color: #008080; font-weight: bold\">1.2761884927749634</span>\n",
              "</pre>\n"
            ]
          },
          "metadata": {}
        },
        {
          "output_type": "display_data",
          "data": {
            "text/plain": [
              "Epoch:  \u001b[1;36m14\u001b[0m Batch:  \u001b[1;36m400\u001b[0m Loss:  \u001b[1;36m1.5186179876327515\u001b[0m\n"
            ],
            "text/html": [
              "<pre style=\"white-space:pre;overflow-x:auto;line-height:normal;font-family:Menlo,'DejaVu Sans Mono',consolas,'Courier New',monospace\">Epoch:  <span style=\"color: #008080; text-decoration-color: #008080; font-weight: bold\">14</span> Batch:  <span style=\"color: #008080; text-decoration-color: #008080; font-weight: bold\">400</span> Loss:  <span style=\"color: #008080; text-decoration-color: #008080; font-weight: bold\">1.5186179876327515</span>\n",
              "</pre>\n"
            ]
          },
          "metadata": {}
        },
        {
          "output_type": "display_data",
          "data": {
            "text/plain": [
              "Epoch:  \u001b[1;36m15\u001b[0m Batch:  \u001b[1;36m0\u001b[0m Loss:  \u001b[1;36m1.3339321613311768\u001b[0m\n"
            ],
            "text/html": [
              "<pre style=\"white-space:pre;overflow-x:auto;line-height:normal;font-family:Menlo,'DejaVu Sans Mono',consolas,'Courier New',monospace\">Epoch:  <span style=\"color: #008080; text-decoration-color: #008080; font-weight: bold\">15</span> Batch:  <span style=\"color: #008080; text-decoration-color: #008080; font-weight: bold\">0</span> Loss:  <span style=\"color: #008080; text-decoration-color: #008080; font-weight: bold\">1.3339321613311768</span>\n",
              "</pre>\n"
            ]
          },
          "metadata": {}
        },
        {
          "output_type": "display_data",
          "data": {
            "text/plain": [
              "Epoch:  \u001b[1;36m15\u001b[0m Batch:  \u001b[1;36m100\u001b[0m Loss:  \u001b[1;36m1.851038932800293\u001b[0m\n"
            ],
            "text/html": [
              "<pre style=\"white-space:pre;overflow-x:auto;line-height:normal;font-family:Menlo,'DejaVu Sans Mono',consolas,'Courier New',monospace\">Epoch:  <span style=\"color: #008080; text-decoration-color: #008080; font-weight: bold\">15</span> Batch:  <span style=\"color: #008080; text-decoration-color: #008080; font-weight: bold\">100</span> Loss:  <span style=\"color: #008080; text-decoration-color: #008080; font-weight: bold\">1.851038932800293</span>\n",
              "</pre>\n"
            ]
          },
          "metadata": {}
        },
        {
          "output_type": "display_data",
          "data": {
            "text/plain": [
              "Epoch:  \u001b[1;36m15\u001b[0m Batch:  \u001b[1;36m200\u001b[0m Loss:  \u001b[1;36m0.7788434624671936\u001b[0m\n"
            ],
            "text/html": [
              "<pre style=\"white-space:pre;overflow-x:auto;line-height:normal;font-family:Menlo,'DejaVu Sans Mono',consolas,'Courier New',monospace\">Epoch:  <span style=\"color: #008080; text-decoration-color: #008080; font-weight: bold\">15</span> Batch:  <span style=\"color: #008080; text-decoration-color: #008080; font-weight: bold\">200</span> Loss:  <span style=\"color: #008080; text-decoration-color: #008080; font-weight: bold\">0.7788434624671936</span>\n",
              "</pre>\n"
            ]
          },
          "metadata": {}
        },
        {
          "output_type": "display_data",
          "data": {
            "text/plain": [
              "Epoch:  \u001b[1;36m15\u001b[0m Batch:  \u001b[1;36m300\u001b[0m Loss:  \u001b[1;36m1.2878772020339966\u001b[0m\n"
            ],
            "text/html": [
              "<pre style=\"white-space:pre;overflow-x:auto;line-height:normal;font-family:Menlo,'DejaVu Sans Mono',consolas,'Courier New',monospace\">Epoch:  <span style=\"color: #008080; text-decoration-color: #008080; font-weight: bold\">15</span> Batch:  <span style=\"color: #008080; text-decoration-color: #008080; font-weight: bold\">300</span> Loss:  <span style=\"color: #008080; text-decoration-color: #008080; font-weight: bold\">1.2878772020339966</span>\n",
              "</pre>\n"
            ]
          },
          "metadata": {}
        },
        {
          "output_type": "display_data",
          "data": {
            "text/plain": [
              "Epoch:  \u001b[1;36m15\u001b[0m Batch:  \u001b[1;36m400\u001b[0m Loss:  \u001b[1;36m1.080927848815918\u001b[0m\n"
            ],
            "text/html": [
              "<pre style=\"white-space:pre;overflow-x:auto;line-height:normal;font-family:Menlo,'DejaVu Sans Mono',consolas,'Courier New',monospace\">Epoch:  <span style=\"color: #008080; text-decoration-color: #008080; font-weight: bold\">15</span> Batch:  <span style=\"color: #008080; text-decoration-color: #008080; font-weight: bold\">400</span> Loss:  <span style=\"color: #008080; text-decoration-color: #008080; font-weight: bold\">1.080927848815918</span>\n",
              "</pre>\n"
            ]
          },
          "metadata": {}
        },
        {
          "output_type": "display_data",
          "data": {
            "text/plain": [
              "Epoch:  \u001b[1;36m16\u001b[0m Batch:  \u001b[1;36m0\u001b[0m Loss:  \u001b[1;36m0.6806558966636658\u001b[0m\n"
            ],
            "text/html": [
              "<pre style=\"white-space:pre;overflow-x:auto;line-height:normal;font-family:Menlo,'DejaVu Sans Mono',consolas,'Courier New',monospace\">Epoch:  <span style=\"color: #008080; text-decoration-color: #008080; font-weight: bold\">16</span> Batch:  <span style=\"color: #008080; text-decoration-color: #008080; font-weight: bold\">0</span> Loss:  <span style=\"color: #008080; text-decoration-color: #008080; font-weight: bold\">0.6806558966636658</span>\n",
              "</pre>\n"
            ]
          },
          "metadata": {}
        },
        {
          "output_type": "display_data",
          "data": {
            "text/plain": [
              "Epoch:  \u001b[1;36m16\u001b[0m Batch:  \u001b[1;36m100\u001b[0m Loss:  \u001b[1;36m1.0712511539459229\u001b[0m\n"
            ],
            "text/html": [
              "<pre style=\"white-space:pre;overflow-x:auto;line-height:normal;font-family:Menlo,'DejaVu Sans Mono',consolas,'Courier New',monospace\">Epoch:  <span style=\"color: #008080; text-decoration-color: #008080; font-weight: bold\">16</span> Batch:  <span style=\"color: #008080; text-decoration-color: #008080; font-weight: bold\">100</span> Loss:  <span style=\"color: #008080; text-decoration-color: #008080; font-weight: bold\">1.0712511539459229</span>\n",
              "</pre>\n"
            ]
          },
          "metadata": {}
        },
        {
          "output_type": "display_data",
          "data": {
            "text/plain": [
              "Epoch:  \u001b[1;36m16\u001b[0m Batch:  \u001b[1;36m200\u001b[0m Loss:  \u001b[1;36m0.5685485005378723\u001b[0m\n"
            ],
            "text/html": [
              "<pre style=\"white-space:pre;overflow-x:auto;line-height:normal;font-family:Menlo,'DejaVu Sans Mono',consolas,'Courier New',monospace\">Epoch:  <span style=\"color: #008080; text-decoration-color: #008080; font-weight: bold\">16</span> Batch:  <span style=\"color: #008080; text-decoration-color: #008080; font-weight: bold\">200</span> Loss:  <span style=\"color: #008080; text-decoration-color: #008080; font-weight: bold\">0.5685485005378723</span>\n",
              "</pre>\n"
            ]
          },
          "metadata": {}
        },
        {
          "output_type": "display_data",
          "data": {
            "text/plain": [
              "Epoch:  \u001b[1;36m16\u001b[0m Batch:  \u001b[1;36m300\u001b[0m Loss:  \u001b[1;36m0.8718826770782471\u001b[0m\n"
            ],
            "text/html": [
              "<pre style=\"white-space:pre;overflow-x:auto;line-height:normal;font-family:Menlo,'DejaVu Sans Mono',consolas,'Courier New',monospace\">Epoch:  <span style=\"color: #008080; text-decoration-color: #008080; font-weight: bold\">16</span> Batch:  <span style=\"color: #008080; text-decoration-color: #008080; font-weight: bold\">300</span> Loss:  <span style=\"color: #008080; text-decoration-color: #008080; font-weight: bold\">0.8718826770782471</span>\n",
              "</pre>\n"
            ]
          },
          "metadata": {}
        },
        {
          "output_type": "display_data",
          "data": {
            "text/plain": [
              "Epoch:  \u001b[1;36m16\u001b[0m Batch:  \u001b[1;36m400\u001b[0m Loss:  \u001b[1;36m1.0831869840621948\u001b[0m\n"
            ],
            "text/html": [
              "<pre style=\"white-space:pre;overflow-x:auto;line-height:normal;font-family:Menlo,'DejaVu Sans Mono',consolas,'Courier New',monospace\">Epoch:  <span style=\"color: #008080; text-decoration-color: #008080; font-weight: bold\">16</span> Batch:  <span style=\"color: #008080; text-decoration-color: #008080; font-weight: bold\">400</span> Loss:  <span style=\"color: #008080; text-decoration-color: #008080; font-weight: bold\">1.0831869840621948</span>\n",
              "</pre>\n"
            ]
          },
          "metadata": {}
        },
        {
          "output_type": "display_data",
          "data": {
            "text/plain": [
              "Epoch:  \u001b[1;36m17\u001b[0m Batch:  \u001b[1;36m0\u001b[0m Loss:  \u001b[1;36m0.535735547542572\u001b[0m\n"
            ],
            "text/html": [
              "<pre style=\"white-space:pre;overflow-x:auto;line-height:normal;font-family:Menlo,'DejaVu Sans Mono',consolas,'Courier New',monospace\">Epoch:  <span style=\"color: #008080; text-decoration-color: #008080; font-weight: bold\">17</span> Batch:  <span style=\"color: #008080; text-decoration-color: #008080; font-weight: bold\">0</span> Loss:  <span style=\"color: #008080; text-decoration-color: #008080; font-weight: bold\">0.535735547542572</span>\n",
              "</pre>\n"
            ]
          },
          "metadata": {}
        },
        {
          "output_type": "display_data",
          "data": {
            "text/plain": [
              "Epoch:  \u001b[1;36m17\u001b[0m Batch:  \u001b[1;36m100\u001b[0m Loss:  \u001b[1;36m1.0253746509552002\u001b[0m\n"
            ],
            "text/html": [
              "<pre style=\"white-space:pre;overflow-x:auto;line-height:normal;font-family:Menlo,'DejaVu Sans Mono',consolas,'Courier New',monospace\">Epoch:  <span style=\"color: #008080; text-decoration-color: #008080; font-weight: bold\">17</span> Batch:  <span style=\"color: #008080; text-decoration-color: #008080; font-weight: bold\">100</span> Loss:  <span style=\"color: #008080; text-decoration-color: #008080; font-weight: bold\">1.0253746509552002</span>\n",
              "</pre>\n"
            ]
          },
          "metadata": {}
        },
        {
          "output_type": "display_data",
          "data": {
            "text/plain": [
              "Epoch:  \u001b[1;36m17\u001b[0m Batch:  \u001b[1;36m200\u001b[0m Loss:  \u001b[1;36m0.9251050353050232\u001b[0m\n"
            ],
            "text/html": [
              "<pre style=\"white-space:pre;overflow-x:auto;line-height:normal;font-family:Menlo,'DejaVu Sans Mono',consolas,'Courier New',monospace\">Epoch:  <span style=\"color: #008080; text-decoration-color: #008080; font-weight: bold\">17</span> Batch:  <span style=\"color: #008080; text-decoration-color: #008080; font-weight: bold\">200</span> Loss:  <span style=\"color: #008080; text-decoration-color: #008080; font-weight: bold\">0.9251050353050232</span>\n",
              "</pre>\n"
            ]
          },
          "metadata": {}
        },
        {
          "output_type": "display_data",
          "data": {
            "text/plain": [
              "Epoch:  \u001b[1;36m17\u001b[0m Batch:  \u001b[1;36m300\u001b[0m Loss:  \u001b[1;36m1.337530255317688\u001b[0m\n"
            ],
            "text/html": [
              "<pre style=\"white-space:pre;overflow-x:auto;line-height:normal;font-family:Menlo,'DejaVu Sans Mono',consolas,'Courier New',monospace\">Epoch:  <span style=\"color: #008080; text-decoration-color: #008080; font-weight: bold\">17</span> Batch:  <span style=\"color: #008080; text-decoration-color: #008080; font-weight: bold\">300</span> Loss:  <span style=\"color: #008080; text-decoration-color: #008080; font-weight: bold\">1.337530255317688</span>\n",
              "</pre>\n"
            ]
          },
          "metadata": {}
        },
        {
          "output_type": "display_data",
          "data": {
            "text/plain": [
              "Epoch:  \u001b[1;36m17\u001b[0m Batch:  \u001b[1;36m400\u001b[0m Loss:  \u001b[1;36m0.5605518817901611\u001b[0m\n"
            ],
            "text/html": [
              "<pre style=\"white-space:pre;overflow-x:auto;line-height:normal;font-family:Menlo,'DejaVu Sans Mono',consolas,'Courier New',monospace\">Epoch:  <span style=\"color: #008080; text-decoration-color: #008080; font-weight: bold\">17</span> Batch:  <span style=\"color: #008080; text-decoration-color: #008080; font-weight: bold\">400</span> Loss:  <span style=\"color: #008080; text-decoration-color: #008080; font-weight: bold\">0.5605518817901611</span>\n",
              "</pre>\n"
            ]
          },
          "metadata": {}
        },
        {
          "output_type": "display_data",
          "data": {
            "text/plain": [
              "Epoch:  \u001b[1;36m18\u001b[0m Batch:  \u001b[1;36m0\u001b[0m Loss:  \u001b[1;36m0.8876765966415405\u001b[0m\n"
            ],
            "text/html": [
              "<pre style=\"white-space:pre;overflow-x:auto;line-height:normal;font-family:Menlo,'DejaVu Sans Mono',consolas,'Courier New',monospace\">Epoch:  <span style=\"color: #008080; text-decoration-color: #008080; font-weight: bold\">18</span> Batch:  <span style=\"color: #008080; text-decoration-color: #008080; font-weight: bold\">0</span> Loss:  <span style=\"color: #008080; text-decoration-color: #008080; font-weight: bold\">0.8876765966415405</span>\n",
              "</pre>\n"
            ]
          },
          "metadata": {}
        },
        {
          "output_type": "display_data",
          "data": {
            "text/plain": [
              "Epoch:  \u001b[1;36m18\u001b[0m Batch:  \u001b[1;36m100\u001b[0m Loss:  \u001b[1;36m1.8546819686889648\u001b[0m\n"
            ],
            "text/html": [
              "<pre style=\"white-space:pre;overflow-x:auto;line-height:normal;font-family:Menlo,'DejaVu Sans Mono',consolas,'Courier New',monospace\">Epoch:  <span style=\"color: #008080; text-decoration-color: #008080; font-weight: bold\">18</span> Batch:  <span style=\"color: #008080; text-decoration-color: #008080; font-weight: bold\">100</span> Loss:  <span style=\"color: #008080; text-decoration-color: #008080; font-weight: bold\">1.8546819686889648</span>\n",
              "</pre>\n"
            ]
          },
          "metadata": {}
        },
        {
          "output_type": "display_data",
          "data": {
            "text/plain": [
              "Epoch:  \u001b[1;36m18\u001b[0m Batch:  \u001b[1;36m200\u001b[0m Loss:  \u001b[1;36m0.6181114315986633\u001b[0m\n"
            ],
            "text/html": [
              "<pre style=\"white-space:pre;overflow-x:auto;line-height:normal;font-family:Menlo,'DejaVu Sans Mono',consolas,'Courier New',monospace\">Epoch:  <span style=\"color: #008080; text-decoration-color: #008080; font-weight: bold\">18</span> Batch:  <span style=\"color: #008080; text-decoration-color: #008080; font-weight: bold\">200</span> Loss:  <span style=\"color: #008080; text-decoration-color: #008080; font-weight: bold\">0.6181114315986633</span>\n",
              "</pre>\n"
            ]
          },
          "metadata": {}
        },
        {
          "output_type": "display_data",
          "data": {
            "text/plain": [
              "Epoch:  \u001b[1;36m18\u001b[0m Batch:  \u001b[1;36m300\u001b[0m Loss:  \u001b[1;36m0.98160320520401\u001b[0m\n"
            ],
            "text/html": [
              "<pre style=\"white-space:pre;overflow-x:auto;line-height:normal;font-family:Menlo,'DejaVu Sans Mono',consolas,'Courier New',monospace\">Epoch:  <span style=\"color: #008080; text-decoration-color: #008080; font-weight: bold\">18</span> Batch:  <span style=\"color: #008080; text-decoration-color: #008080; font-weight: bold\">300</span> Loss:  <span style=\"color: #008080; text-decoration-color: #008080; font-weight: bold\">0.98160320520401</span>\n",
              "</pre>\n"
            ]
          },
          "metadata": {}
        },
        {
          "output_type": "display_data",
          "data": {
            "text/plain": [
              "Epoch:  \u001b[1;36m18\u001b[0m Batch:  \u001b[1;36m400\u001b[0m Loss:  \u001b[1;36m0.3993627429008484\u001b[0m\n"
            ],
            "text/html": [
              "<pre style=\"white-space:pre;overflow-x:auto;line-height:normal;font-family:Menlo,'DejaVu Sans Mono',consolas,'Courier New',monospace\">Epoch:  <span style=\"color: #008080; text-decoration-color: #008080; font-weight: bold\">18</span> Batch:  <span style=\"color: #008080; text-decoration-color: #008080; font-weight: bold\">400</span> Loss:  <span style=\"color: #008080; text-decoration-color: #008080; font-weight: bold\">0.3993627429008484</span>\n",
              "</pre>\n"
            ]
          },
          "metadata": {}
        },
        {
          "output_type": "display_data",
          "data": {
            "text/plain": [
              "Epoch:  \u001b[1;36m19\u001b[0m Batch:  \u001b[1;36m0\u001b[0m Loss:  \u001b[1;36m0.5272835493087769\u001b[0m\n"
            ],
            "text/html": [
              "<pre style=\"white-space:pre;overflow-x:auto;line-height:normal;font-family:Menlo,'DejaVu Sans Mono',consolas,'Courier New',monospace\">Epoch:  <span style=\"color: #008080; text-decoration-color: #008080; font-weight: bold\">19</span> Batch:  <span style=\"color: #008080; text-decoration-color: #008080; font-weight: bold\">0</span> Loss:  <span style=\"color: #008080; text-decoration-color: #008080; font-weight: bold\">0.5272835493087769</span>\n",
              "</pre>\n"
            ]
          },
          "metadata": {}
        },
        {
          "output_type": "display_data",
          "data": {
            "text/plain": [
              "Epoch:  \u001b[1;36m19\u001b[0m Batch:  \u001b[1;36m100\u001b[0m Loss:  \u001b[1;36m1.4909542798995972\u001b[0m\n"
            ],
            "text/html": [
              "<pre style=\"white-space:pre;overflow-x:auto;line-height:normal;font-family:Menlo,'DejaVu Sans Mono',consolas,'Courier New',monospace\">Epoch:  <span style=\"color: #008080; text-decoration-color: #008080; font-weight: bold\">19</span> Batch:  <span style=\"color: #008080; text-decoration-color: #008080; font-weight: bold\">100</span> Loss:  <span style=\"color: #008080; text-decoration-color: #008080; font-weight: bold\">1.4909542798995972</span>\n",
              "</pre>\n"
            ]
          },
          "metadata": {}
        },
        {
          "output_type": "display_data",
          "data": {
            "text/plain": [
              "Epoch:  \u001b[1;36m19\u001b[0m Batch:  \u001b[1;36m200\u001b[0m Loss:  \u001b[1;36m0.776563823223114\u001b[0m\n"
            ],
            "text/html": [
              "<pre style=\"white-space:pre;overflow-x:auto;line-height:normal;font-family:Menlo,'DejaVu Sans Mono',consolas,'Courier New',monospace\">Epoch:  <span style=\"color: #008080; text-decoration-color: #008080; font-weight: bold\">19</span> Batch:  <span style=\"color: #008080; text-decoration-color: #008080; font-weight: bold\">200</span> Loss:  <span style=\"color: #008080; text-decoration-color: #008080; font-weight: bold\">0.776563823223114</span>\n",
              "</pre>\n"
            ]
          },
          "metadata": {}
        },
        {
          "output_type": "display_data",
          "data": {
            "text/plain": [
              "Epoch:  \u001b[1;36m19\u001b[0m Batch:  \u001b[1;36m300\u001b[0m Loss:  \u001b[1;36m0.7964534759521484\u001b[0m\n"
            ],
            "text/html": [
              "<pre style=\"white-space:pre;overflow-x:auto;line-height:normal;font-family:Menlo,'DejaVu Sans Mono',consolas,'Courier New',monospace\">Epoch:  <span style=\"color: #008080; text-decoration-color: #008080; font-weight: bold\">19</span> Batch:  <span style=\"color: #008080; text-decoration-color: #008080; font-weight: bold\">300</span> Loss:  <span style=\"color: #008080; text-decoration-color: #008080; font-weight: bold\">0.7964534759521484</span>\n",
              "</pre>\n"
            ]
          },
          "metadata": {}
        },
        {
          "output_type": "display_data",
          "data": {
            "text/plain": [
              "Epoch:  \u001b[1;36m19\u001b[0m Batch:  \u001b[1;36m400\u001b[0m Loss:  \u001b[1;36m0.7224251627922058\u001b[0m\n"
            ],
            "text/html": [
              "<pre style=\"white-space:pre;overflow-x:auto;line-height:normal;font-family:Menlo,'DejaVu Sans Mono',consolas,'Courier New',monospace\">Epoch:  <span style=\"color: #008080; text-decoration-color: #008080; font-weight: bold\">19</span> Batch:  <span style=\"color: #008080; text-decoration-color: #008080; font-weight: bold\">400</span> Loss:  <span style=\"color: #008080; text-decoration-color: #008080; font-weight: bold\">0.7224251627922058</span>\n",
              "</pre>\n"
            ]
          },
          "metadata": {}
        },
        {
          "output_type": "display_data",
          "data": {
            "text/plain": [
              "Epoch:  \u001b[1;36m20\u001b[0m Batch:  \u001b[1;36m0\u001b[0m Loss:  \u001b[1;36m0.803223729133606\u001b[0m\n"
            ],
            "text/html": [
              "<pre style=\"white-space:pre;overflow-x:auto;line-height:normal;font-family:Menlo,'DejaVu Sans Mono',consolas,'Courier New',monospace\">Epoch:  <span style=\"color: #008080; text-decoration-color: #008080; font-weight: bold\">20</span> Batch:  <span style=\"color: #008080; text-decoration-color: #008080; font-weight: bold\">0</span> Loss:  <span style=\"color: #008080; text-decoration-color: #008080; font-weight: bold\">0.803223729133606</span>\n",
              "</pre>\n"
            ]
          },
          "metadata": {}
        },
        {
          "output_type": "display_data",
          "data": {
            "text/plain": [
              "Epoch:  \u001b[1;36m20\u001b[0m Batch:  \u001b[1;36m100\u001b[0m Loss:  \u001b[1;36m1.2775211334228516\u001b[0m\n"
            ],
            "text/html": [
              "<pre style=\"white-space:pre;overflow-x:auto;line-height:normal;font-family:Menlo,'DejaVu Sans Mono',consolas,'Courier New',monospace\">Epoch:  <span style=\"color: #008080; text-decoration-color: #008080; font-weight: bold\">20</span> Batch:  <span style=\"color: #008080; text-decoration-color: #008080; font-weight: bold\">100</span> Loss:  <span style=\"color: #008080; text-decoration-color: #008080; font-weight: bold\">1.2775211334228516</span>\n",
              "</pre>\n"
            ]
          },
          "metadata": {}
        },
        {
          "output_type": "display_data",
          "data": {
            "text/plain": [
              "Epoch:  \u001b[1;36m20\u001b[0m Batch:  \u001b[1;36m200\u001b[0m Loss:  \u001b[1;36m1.7925972938537598\u001b[0m\n"
            ],
            "text/html": [
              "<pre style=\"white-space:pre;overflow-x:auto;line-height:normal;font-family:Menlo,'DejaVu Sans Mono',consolas,'Courier New',monospace\">Epoch:  <span style=\"color: #008080; text-decoration-color: #008080; font-weight: bold\">20</span> Batch:  <span style=\"color: #008080; text-decoration-color: #008080; font-weight: bold\">200</span> Loss:  <span style=\"color: #008080; text-decoration-color: #008080; font-weight: bold\">1.7925972938537598</span>\n",
              "</pre>\n"
            ]
          },
          "metadata": {}
        },
        {
          "output_type": "display_data",
          "data": {
            "text/plain": [
              "Epoch:  \u001b[1;36m20\u001b[0m Batch:  \u001b[1;36m300\u001b[0m Loss:  \u001b[1;36m0.7251591682434082\u001b[0m\n"
            ],
            "text/html": [
              "<pre style=\"white-space:pre;overflow-x:auto;line-height:normal;font-family:Menlo,'DejaVu Sans Mono',consolas,'Courier New',monospace\">Epoch:  <span style=\"color: #008080; text-decoration-color: #008080; font-weight: bold\">20</span> Batch:  <span style=\"color: #008080; text-decoration-color: #008080; font-weight: bold\">300</span> Loss:  <span style=\"color: #008080; text-decoration-color: #008080; font-weight: bold\">0.7251591682434082</span>\n",
              "</pre>\n"
            ]
          },
          "metadata": {}
        },
        {
          "output_type": "display_data",
          "data": {
            "text/plain": [
              "Epoch:  \u001b[1;36m20\u001b[0m Batch:  \u001b[1;36m400\u001b[0m Loss:  \u001b[1;36m1.0882471799850464\u001b[0m\n"
            ],
            "text/html": [
              "<pre style=\"white-space:pre;overflow-x:auto;line-height:normal;font-family:Menlo,'DejaVu Sans Mono',consolas,'Courier New',monospace\">Epoch:  <span style=\"color: #008080; text-decoration-color: #008080; font-weight: bold\">20</span> Batch:  <span style=\"color: #008080; text-decoration-color: #008080; font-weight: bold\">400</span> Loss:  <span style=\"color: #008080; text-decoration-color: #008080; font-weight: bold\">1.0882471799850464</span>\n",
              "</pre>\n"
            ]
          },
          "metadata": {}
        },
        {
          "output_type": "display_data",
          "data": {
            "text/plain": [
              "Epoch:  \u001b[1;36m21\u001b[0m Batch:  \u001b[1;36m0\u001b[0m Loss:  \u001b[1;36m0.5881310701370239\u001b[0m\n"
            ],
            "text/html": [
              "<pre style=\"white-space:pre;overflow-x:auto;line-height:normal;font-family:Menlo,'DejaVu Sans Mono',consolas,'Courier New',monospace\">Epoch:  <span style=\"color: #008080; text-decoration-color: #008080; font-weight: bold\">21</span> Batch:  <span style=\"color: #008080; text-decoration-color: #008080; font-weight: bold\">0</span> Loss:  <span style=\"color: #008080; text-decoration-color: #008080; font-weight: bold\">0.5881310701370239</span>\n",
              "</pre>\n"
            ]
          },
          "metadata": {}
        },
        {
          "output_type": "display_data",
          "data": {
            "text/plain": [
              "Epoch:  \u001b[1;36m21\u001b[0m Batch:  \u001b[1;36m100\u001b[0m Loss:  \u001b[1;36m0.3491443693637848\u001b[0m\n"
            ],
            "text/html": [
              "<pre style=\"white-space:pre;overflow-x:auto;line-height:normal;font-family:Menlo,'DejaVu Sans Mono',consolas,'Courier New',monospace\">Epoch:  <span style=\"color: #008080; text-decoration-color: #008080; font-weight: bold\">21</span> Batch:  <span style=\"color: #008080; text-decoration-color: #008080; font-weight: bold\">100</span> Loss:  <span style=\"color: #008080; text-decoration-color: #008080; font-weight: bold\">0.3491443693637848</span>\n",
              "</pre>\n"
            ]
          },
          "metadata": {}
        },
        {
          "output_type": "display_data",
          "data": {
            "text/plain": [
              "Epoch:  \u001b[1;36m21\u001b[0m Batch:  \u001b[1;36m200\u001b[0m Loss:  \u001b[1;36m0.6569535136222839\u001b[0m\n"
            ],
            "text/html": [
              "<pre style=\"white-space:pre;overflow-x:auto;line-height:normal;font-family:Menlo,'DejaVu Sans Mono',consolas,'Courier New',monospace\">Epoch:  <span style=\"color: #008080; text-decoration-color: #008080; font-weight: bold\">21</span> Batch:  <span style=\"color: #008080; text-decoration-color: #008080; font-weight: bold\">200</span> Loss:  <span style=\"color: #008080; text-decoration-color: #008080; font-weight: bold\">0.6569535136222839</span>\n",
              "</pre>\n"
            ]
          },
          "metadata": {}
        },
        {
          "output_type": "display_data",
          "data": {
            "text/plain": [
              "Epoch:  \u001b[1;36m21\u001b[0m Batch:  \u001b[1;36m300\u001b[0m Loss:  \u001b[1;36m1.1625250577926636\u001b[0m\n"
            ],
            "text/html": [
              "<pre style=\"white-space:pre;overflow-x:auto;line-height:normal;font-family:Menlo,'DejaVu Sans Mono',consolas,'Courier New',monospace\">Epoch:  <span style=\"color: #008080; text-decoration-color: #008080; font-weight: bold\">21</span> Batch:  <span style=\"color: #008080; text-decoration-color: #008080; font-weight: bold\">300</span> Loss:  <span style=\"color: #008080; text-decoration-color: #008080; font-weight: bold\">1.1625250577926636</span>\n",
              "</pre>\n"
            ]
          },
          "metadata": {}
        },
        {
          "output_type": "display_data",
          "data": {
            "text/plain": [
              "Epoch:  \u001b[1;36m21\u001b[0m Batch:  \u001b[1;36m400\u001b[0m Loss:  \u001b[1;36m0.7643752098083496\u001b[0m\n"
            ],
            "text/html": [
              "<pre style=\"white-space:pre;overflow-x:auto;line-height:normal;font-family:Menlo,'DejaVu Sans Mono',consolas,'Courier New',monospace\">Epoch:  <span style=\"color: #008080; text-decoration-color: #008080; font-weight: bold\">21</span> Batch:  <span style=\"color: #008080; text-decoration-color: #008080; font-weight: bold\">400</span> Loss:  <span style=\"color: #008080; text-decoration-color: #008080; font-weight: bold\">0.7643752098083496</span>\n",
              "</pre>\n"
            ]
          },
          "metadata": {}
        },
        {
          "output_type": "display_data",
          "data": {
            "text/plain": [
              "Epoch:  \u001b[1;36m22\u001b[0m Batch:  \u001b[1;36m0\u001b[0m Loss:  \u001b[1;36m0.4380040764808655\u001b[0m\n"
            ],
            "text/html": [
              "<pre style=\"white-space:pre;overflow-x:auto;line-height:normal;font-family:Menlo,'DejaVu Sans Mono',consolas,'Courier New',monospace\">Epoch:  <span style=\"color: #008080; text-decoration-color: #008080; font-weight: bold\">22</span> Batch:  <span style=\"color: #008080; text-decoration-color: #008080; font-weight: bold\">0</span> Loss:  <span style=\"color: #008080; text-decoration-color: #008080; font-weight: bold\">0.4380040764808655</span>\n",
              "</pre>\n"
            ]
          },
          "metadata": {}
        },
        {
          "output_type": "display_data",
          "data": {
            "text/plain": [
              "Epoch:  \u001b[1;36m22\u001b[0m Batch:  \u001b[1;36m100\u001b[0m Loss:  \u001b[1;36m0.9795911312103271\u001b[0m\n"
            ],
            "text/html": [
              "<pre style=\"white-space:pre;overflow-x:auto;line-height:normal;font-family:Menlo,'DejaVu Sans Mono',consolas,'Courier New',monospace\">Epoch:  <span style=\"color: #008080; text-decoration-color: #008080; font-weight: bold\">22</span> Batch:  <span style=\"color: #008080; text-decoration-color: #008080; font-weight: bold\">100</span> Loss:  <span style=\"color: #008080; text-decoration-color: #008080; font-weight: bold\">0.9795911312103271</span>\n",
              "</pre>\n"
            ]
          },
          "metadata": {}
        },
        {
          "output_type": "display_data",
          "data": {
            "text/plain": [
              "Epoch:  \u001b[1;36m22\u001b[0m Batch:  \u001b[1;36m200\u001b[0m Loss:  \u001b[1;36m1.2729755640029907\u001b[0m\n"
            ],
            "text/html": [
              "<pre style=\"white-space:pre;overflow-x:auto;line-height:normal;font-family:Menlo,'DejaVu Sans Mono',consolas,'Courier New',monospace\">Epoch:  <span style=\"color: #008080; text-decoration-color: #008080; font-weight: bold\">22</span> Batch:  <span style=\"color: #008080; text-decoration-color: #008080; font-weight: bold\">200</span> Loss:  <span style=\"color: #008080; text-decoration-color: #008080; font-weight: bold\">1.2729755640029907</span>\n",
              "</pre>\n"
            ]
          },
          "metadata": {}
        },
        {
          "output_type": "display_data",
          "data": {
            "text/plain": [
              "Epoch:  \u001b[1;36m22\u001b[0m Batch:  \u001b[1;36m300\u001b[0m Loss:  \u001b[1;36m0.4979802370071411\u001b[0m\n"
            ],
            "text/html": [
              "<pre style=\"white-space:pre;overflow-x:auto;line-height:normal;font-family:Menlo,'DejaVu Sans Mono',consolas,'Courier New',monospace\">Epoch:  <span style=\"color: #008080; text-decoration-color: #008080; font-weight: bold\">22</span> Batch:  <span style=\"color: #008080; text-decoration-color: #008080; font-weight: bold\">300</span> Loss:  <span style=\"color: #008080; text-decoration-color: #008080; font-weight: bold\">0.4979802370071411</span>\n",
              "</pre>\n"
            ]
          },
          "metadata": {}
        },
        {
          "output_type": "display_data",
          "data": {
            "text/plain": [
              "Epoch:  \u001b[1;36m22\u001b[0m Batch:  \u001b[1;36m400\u001b[0m Loss:  \u001b[1;36m0.5317868590354919\u001b[0m\n"
            ],
            "text/html": [
              "<pre style=\"white-space:pre;overflow-x:auto;line-height:normal;font-family:Menlo,'DejaVu Sans Mono',consolas,'Courier New',monospace\">Epoch:  <span style=\"color: #008080; text-decoration-color: #008080; font-weight: bold\">22</span> Batch:  <span style=\"color: #008080; text-decoration-color: #008080; font-weight: bold\">400</span> Loss:  <span style=\"color: #008080; text-decoration-color: #008080; font-weight: bold\">0.5317868590354919</span>\n",
              "</pre>\n"
            ]
          },
          "metadata": {}
        },
        {
          "output_type": "display_data",
          "data": {
            "text/plain": [
              "Epoch:  \u001b[1;36m23\u001b[0m Batch:  \u001b[1;36m0\u001b[0m Loss:  \u001b[1;36m1.4795621633529663\u001b[0m\n"
            ],
            "text/html": [
              "<pre style=\"white-space:pre;overflow-x:auto;line-height:normal;font-family:Menlo,'DejaVu Sans Mono',consolas,'Courier New',monospace\">Epoch:  <span style=\"color: #008080; text-decoration-color: #008080; font-weight: bold\">23</span> Batch:  <span style=\"color: #008080; text-decoration-color: #008080; font-weight: bold\">0</span> Loss:  <span style=\"color: #008080; text-decoration-color: #008080; font-weight: bold\">1.4795621633529663</span>\n",
              "</pre>\n"
            ]
          },
          "metadata": {}
        },
        {
          "output_type": "display_data",
          "data": {
            "text/plain": [
              "Epoch:  \u001b[1;36m23\u001b[0m Batch:  \u001b[1;36m100\u001b[0m Loss:  \u001b[1;36m0.7865933179855347\u001b[0m\n"
            ],
            "text/html": [
              "<pre style=\"white-space:pre;overflow-x:auto;line-height:normal;font-family:Menlo,'DejaVu Sans Mono',consolas,'Courier New',monospace\">Epoch:  <span style=\"color: #008080; text-decoration-color: #008080; font-weight: bold\">23</span> Batch:  <span style=\"color: #008080; text-decoration-color: #008080; font-weight: bold\">100</span> Loss:  <span style=\"color: #008080; text-decoration-color: #008080; font-weight: bold\">0.7865933179855347</span>\n",
              "</pre>\n"
            ]
          },
          "metadata": {}
        },
        {
          "output_type": "display_data",
          "data": {
            "text/plain": [
              "Epoch:  \u001b[1;36m23\u001b[0m Batch:  \u001b[1;36m200\u001b[0m Loss:  \u001b[1;36m0.5317710638046265\u001b[0m\n"
            ],
            "text/html": [
              "<pre style=\"white-space:pre;overflow-x:auto;line-height:normal;font-family:Menlo,'DejaVu Sans Mono',consolas,'Courier New',monospace\">Epoch:  <span style=\"color: #008080; text-decoration-color: #008080; font-weight: bold\">23</span> Batch:  <span style=\"color: #008080; text-decoration-color: #008080; font-weight: bold\">200</span> Loss:  <span style=\"color: #008080; text-decoration-color: #008080; font-weight: bold\">0.5317710638046265</span>\n",
              "</pre>\n"
            ]
          },
          "metadata": {}
        },
        {
          "output_type": "display_data",
          "data": {
            "text/plain": [
              "Epoch:  \u001b[1;36m23\u001b[0m Batch:  \u001b[1;36m300\u001b[0m Loss:  \u001b[1;36m0.5290281772613525\u001b[0m\n"
            ],
            "text/html": [
              "<pre style=\"white-space:pre;overflow-x:auto;line-height:normal;font-family:Menlo,'DejaVu Sans Mono',consolas,'Courier New',monospace\">Epoch:  <span style=\"color: #008080; text-decoration-color: #008080; font-weight: bold\">23</span> Batch:  <span style=\"color: #008080; text-decoration-color: #008080; font-weight: bold\">300</span> Loss:  <span style=\"color: #008080; text-decoration-color: #008080; font-weight: bold\">0.5290281772613525</span>\n",
              "</pre>\n"
            ]
          },
          "metadata": {}
        },
        {
          "output_type": "display_data",
          "data": {
            "text/plain": [
              "Epoch:  \u001b[1;36m23\u001b[0m Batch:  \u001b[1;36m400\u001b[0m Loss:  \u001b[1;36m1.360757827758789\u001b[0m\n"
            ],
            "text/html": [
              "<pre style=\"white-space:pre;overflow-x:auto;line-height:normal;font-family:Menlo,'DejaVu Sans Mono',consolas,'Courier New',monospace\">Epoch:  <span style=\"color: #008080; text-decoration-color: #008080; font-weight: bold\">23</span> Batch:  <span style=\"color: #008080; text-decoration-color: #008080; font-weight: bold\">400</span> Loss:  <span style=\"color: #008080; text-decoration-color: #008080; font-weight: bold\">1.360757827758789</span>\n",
              "</pre>\n"
            ]
          },
          "metadata": {}
        },
        {
          "output_type": "display_data",
          "data": {
            "text/plain": [
              "Epoch:  \u001b[1;36m24\u001b[0m Batch:  \u001b[1;36m0\u001b[0m Loss:  \u001b[1;36m0.6873344779014587\u001b[0m\n"
            ],
            "text/html": [
              "<pre style=\"white-space:pre;overflow-x:auto;line-height:normal;font-family:Menlo,'DejaVu Sans Mono',consolas,'Courier New',monospace\">Epoch:  <span style=\"color: #008080; text-decoration-color: #008080; font-weight: bold\">24</span> Batch:  <span style=\"color: #008080; text-decoration-color: #008080; font-weight: bold\">0</span> Loss:  <span style=\"color: #008080; text-decoration-color: #008080; font-weight: bold\">0.6873344779014587</span>\n",
              "</pre>\n"
            ]
          },
          "metadata": {}
        },
        {
          "output_type": "display_data",
          "data": {
            "text/plain": [
              "Epoch:  \u001b[1;36m24\u001b[0m Batch:  \u001b[1;36m100\u001b[0m Loss:  \u001b[1;36m1.5193636417388916\u001b[0m\n"
            ],
            "text/html": [
              "<pre style=\"white-space:pre;overflow-x:auto;line-height:normal;font-family:Menlo,'DejaVu Sans Mono',consolas,'Courier New',monospace\">Epoch:  <span style=\"color: #008080; text-decoration-color: #008080; font-weight: bold\">24</span> Batch:  <span style=\"color: #008080; text-decoration-color: #008080; font-weight: bold\">100</span> Loss:  <span style=\"color: #008080; text-decoration-color: #008080; font-weight: bold\">1.5193636417388916</span>\n",
              "</pre>\n"
            ]
          },
          "metadata": {}
        },
        {
          "output_type": "display_data",
          "data": {
            "text/plain": [
              "Epoch:  \u001b[1;36m24\u001b[0m Batch:  \u001b[1;36m200\u001b[0m Loss:  \u001b[1;36m0.527279794216156\u001b[0m\n"
            ],
            "text/html": [
              "<pre style=\"white-space:pre;overflow-x:auto;line-height:normal;font-family:Menlo,'DejaVu Sans Mono',consolas,'Courier New',monospace\">Epoch:  <span style=\"color: #008080; text-decoration-color: #008080; font-weight: bold\">24</span> Batch:  <span style=\"color: #008080; text-decoration-color: #008080; font-weight: bold\">200</span> Loss:  <span style=\"color: #008080; text-decoration-color: #008080; font-weight: bold\">0.527279794216156</span>\n",
              "</pre>\n"
            ]
          },
          "metadata": {}
        },
        {
          "output_type": "display_data",
          "data": {
            "text/plain": [
              "Epoch:  \u001b[1;36m24\u001b[0m Batch:  \u001b[1;36m300\u001b[0m Loss:  \u001b[1;36m0.7028399705886841\u001b[0m\n"
            ],
            "text/html": [
              "<pre style=\"white-space:pre;overflow-x:auto;line-height:normal;font-family:Menlo,'DejaVu Sans Mono',consolas,'Courier New',monospace\">Epoch:  <span style=\"color: #008080; text-decoration-color: #008080; font-weight: bold\">24</span> Batch:  <span style=\"color: #008080; text-decoration-color: #008080; font-weight: bold\">300</span> Loss:  <span style=\"color: #008080; text-decoration-color: #008080; font-weight: bold\">0.7028399705886841</span>\n",
              "</pre>\n"
            ]
          },
          "metadata": {}
        },
        {
          "output_type": "display_data",
          "data": {
            "text/plain": [
              "Epoch:  \u001b[1;36m24\u001b[0m Batch:  \u001b[1;36m400\u001b[0m Loss:  \u001b[1;36m0.5806851983070374\u001b[0m\n"
            ],
            "text/html": [
              "<pre style=\"white-space:pre;overflow-x:auto;line-height:normal;font-family:Menlo,'DejaVu Sans Mono',consolas,'Courier New',monospace\">Epoch:  <span style=\"color: #008080; text-decoration-color: #008080; font-weight: bold\">24</span> Batch:  <span style=\"color: #008080; text-decoration-color: #008080; font-weight: bold\">400</span> Loss:  <span style=\"color: #008080; text-decoration-color: #008080; font-weight: bold\">0.5806851983070374</span>\n",
              "</pre>\n"
            ]
          },
          "metadata": {}
        },
        {
          "output_type": "display_data",
          "data": {
            "text/plain": [
              "Epoch:  \u001b[1;36m25\u001b[0m Batch:  \u001b[1;36m0\u001b[0m Loss:  \u001b[1;36m0.6825536489486694\u001b[0m\n"
            ],
            "text/html": [
              "<pre style=\"white-space:pre;overflow-x:auto;line-height:normal;font-family:Menlo,'DejaVu Sans Mono',consolas,'Courier New',monospace\">Epoch:  <span style=\"color: #008080; text-decoration-color: #008080; font-weight: bold\">25</span> Batch:  <span style=\"color: #008080; text-decoration-color: #008080; font-weight: bold\">0</span> Loss:  <span style=\"color: #008080; text-decoration-color: #008080; font-weight: bold\">0.6825536489486694</span>\n",
              "</pre>\n"
            ]
          },
          "metadata": {}
        },
        {
          "output_type": "display_data",
          "data": {
            "text/plain": [
              "Epoch:  \u001b[1;36m25\u001b[0m Batch:  \u001b[1;36m100\u001b[0m Loss:  \u001b[1;36m1.2871299982070923\u001b[0m\n"
            ],
            "text/html": [
              "<pre style=\"white-space:pre;overflow-x:auto;line-height:normal;font-family:Menlo,'DejaVu Sans Mono',consolas,'Courier New',monospace\">Epoch:  <span style=\"color: #008080; text-decoration-color: #008080; font-weight: bold\">25</span> Batch:  <span style=\"color: #008080; text-decoration-color: #008080; font-weight: bold\">100</span> Loss:  <span style=\"color: #008080; text-decoration-color: #008080; font-weight: bold\">1.2871299982070923</span>\n",
              "</pre>\n"
            ]
          },
          "metadata": {}
        },
        {
          "output_type": "display_data",
          "data": {
            "text/plain": [
              "Epoch:  \u001b[1;36m25\u001b[0m Batch:  \u001b[1;36m200\u001b[0m Loss:  \u001b[1;36m0.7043249607086182\u001b[0m\n"
            ],
            "text/html": [
              "<pre style=\"white-space:pre;overflow-x:auto;line-height:normal;font-family:Menlo,'DejaVu Sans Mono',consolas,'Courier New',monospace\">Epoch:  <span style=\"color: #008080; text-decoration-color: #008080; font-weight: bold\">25</span> Batch:  <span style=\"color: #008080; text-decoration-color: #008080; font-weight: bold\">200</span> Loss:  <span style=\"color: #008080; text-decoration-color: #008080; font-weight: bold\">0.7043249607086182</span>\n",
              "</pre>\n"
            ]
          },
          "metadata": {}
        },
        {
          "output_type": "display_data",
          "data": {
            "text/plain": [
              "Epoch:  \u001b[1;36m25\u001b[0m Batch:  \u001b[1;36m300\u001b[0m Loss:  \u001b[1;36m0.935539960861206\u001b[0m\n"
            ],
            "text/html": [
              "<pre style=\"white-space:pre;overflow-x:auto;line-height:normal;font-family:Menlo,'DejaVu Sans Mono',consolas,'Courier New',monospace\">Epoch:  <span style=\"color: #008080; text-decoration-color: #008080; font-weight: bold\">25</span> Batch:  <span style=\"color: #008080; text-decoration-color: #008080; font-weight: bold\">300</span> Loss:  <span style=\"color: #008080; text-decoration-color: #008080; font-weight: bold\">0.935539960861206</span>\n",
              "</pre>\n"
            ]
          },
          "metadata": {}
        },
        {
          "output_type": "display_data",
          "data": {
            "text/plain": [
              "Epoch:  \u001b[1;36m25\u001b[0m Batch:  \u001b[1;36m400\u001b[0m Loss:  \u001b[1;36m0.45678573846817017\u001b[0m\n"
            ],
            "text/html": [
              "<pre style=\"white-space:pre;overflow-x:auto;line-height:normal;font-family:Menlo,'DejaVu Sans Mono',consolas,'Courier New',monospace\">Epoch:  <span style=\"color: #008080; text-decoration-color: #008080; font-weight: bold\">25</span> Batch:  <span style=\"color: #008080; text-decoration-color: #008080; font-weight: bold\">400</span> Loss:  <span style=\"color: #008080; text-decoration-color: #008080; font-weight: bold\">0.45678573846817017</span>\n",
              "</pre>\n"
            ]
          },
          "metadata": {}
        },
        {
          "output_type": "display_data",
          "data": {
            "text/plain": [
              "Epoch:  \u001b[1;36m26\u001b[0m Batch:  \u001b[1;36m0\u001b[0m Loss:  \u001b[1;36m0.4463227689266205\u001b[0m\n"
            ],
            "text/html": [
              "<pre style=\"white-space:pre;overflow-x:auto;line-height:normal;font-family:Menlo,'DejaVu Sans Mono',consolas,'Courier New',monospace\">Epoch:  <span style=\"color: #008080; text-decoration-color: #008080; font-weight: bold\">26</span> Batch:  <span style=\"color: #008080; text-decoration-color: #008080; font-weight: bold\">0</span> Loss:  <span style=\"color: #008080; text-decoration-color: #008080; font-weight: bold\">0.4463227689266205</span>\n",
              "</pre>\n"
            ]
          },
          "metadata": {}
        },
        {
          "output_type": "display_data",
          "data": {
            "text/plain": [
              "Epoch:  \u001b[1;36m26\u001b[0m Batch:  \u001b[1;36m100\u001b[0m Loss:  \u001b[1;36m0.4817022979259491\u001b[0m\n"
            ],
            "text/html": [
              "<pre style=\"white-space:pre;overflow-x:auto;line-height:normal;font-family:Menlo,'DejaVu Sans Mono',consolas,'Courier New',monospace\">Epoch:  <span style=\"color: #008080; text-decoration-color: #008080; font-weight: bold\">26</span> Batch:  <span style=\"color: #008080; text-decoration-color: #008080; font-weight: bold\">100</span> Loss:  <span style=\"color: #008080; text-decoration-color: #008080; font-weight: bold\">0.4817022979259491</span>\n",
              "</pre>\n"
            ]
          },
          "metadata": {}
        },
        {
          "output_type": "display_data",
          "data": {
            "text/plain": [
              "Epoch:  \u001b[1;36m26\u001b[0m Batch:  \u001b[1;36m200\u001b[0m Loss:  \u001b[1;36m0.7362359166145325\u001b[0m\n"
            ],
            "text/html": [
              "<pre style=\"white-space:pre;overflow-x:auto;line-height:normal;font-family:Menlo,'DejaVu Sans Mono',consolas,'Courier New',monospace\">Epoch:  <span style=\"color: #008080; text-decoration-color: #008080; font-weight: bold\">26</span> Batch:  <span style=\"color: #008080; text-decoration-color: #008080; font-weight: bold\">200</span> Loss:  <span style=\"color: #008080; text-decoration-color: #008080; font-weight: bold\">0.7362359166145325</span>\n",
              "</pre>\n"
            ]
          },
          "metadata": {}
        },
        {
          "output_type": "display_data",
          "data": {
            "text/plain": [
              "Epoch:  \u001b[1;36m26\u001b[0m Batch:  \u001b[1;36m300\u001b[0m Loss:  \u001b[1;36m0.3219186067581177\u001b[0m\n"
            ],
            "text/html": [
              "<pre style=\"white-space:pre;overflow-x:auto;line-height:normal;font-family:Menlo,'DejaVu Sans Mono',consolas,'Courier New',monospace\">Epoch:  <span style=\"color: #008080; text-decoration-color: #008080; font-weight: bold\">26</span> Batch:  <span style=\"color: #008080; text-decoration-color: #008080; font-weight: bold\">300</span> Loss:  <span style=\"color: #008080; text-decoration-color: #008080; font-weight: bold\">0.3219186067581177</span>\n",
              "</pre>\n"
            ]
          },
          "metadata": {}
        },
        {
          "output_type": "display_data",
          "data": {
            "text/plain": [
              "Epoch:  \u001b[1;36m26\u001b[0m Batch:  \u001b[1;36m400\u001b[0m Loss:  \u001b[1;36m0.5657811164855957\u001b[0m\n"
            ],
            "text/html": [
              "<pre style=\"white-space:pre;overflow-x:auto;line-height:normal;font-family:Menlo,'DejaVu Sans Mono',consolas,'Courier New',monospace\">Epoch:  <span style=\"color: #008080; text-decoration-color: #008080; font-weight: bold\">26</span> Batch:  <span style=\"color: #008080; text-decoration-color: #008080; font-weight: bold\">400</span> Loss:  <span style=\"color: #008080; text-decoration-color: #008080; font-weight: bold\">0.5657811164855957</span>\n",
              "</pre>\n"
            ]
          },
          "metadata": {}
        },
        {
          "output_type": "display_data",
          "data": {
            "text/plain": [
              "Epoch:  \u001b[1;36m27\u001b[0m Batch:  \u001b[1;36m0\u001b[0m Loss:  \u001b[1;36m0.7112216949462891\u001b[0m\n"
            ],
            "text/html": [
              "<pre style=\"white-space:pre;overflow-x:auto;line-height:normal;font-family:Menlo,'DejaVu Sans Mono',consolas,'Courier New',monospace\">Epoch:  <span style=\"color: #008080; text-decoration-color: #008080; font-weight: bold\">27</span> Batch:  <span style=\"color: #008080; text-decoration-color: #008080; font-weight: bold\">0</span> Loss:  <span style=\"color: #008080; text-decoration-color: #008080; font-weight: bold\">0.7112216949462891</span>\n",
              "</pre>\n"
            ]
          },
          "metadata": {}
        },
        {
          "output_type": "display_data",
          "data": {
            "text/plain": [
              "Epoch:  \u001b[1;36m27\u001b[0m Batch:  \u001b[1;36m100\u001b[0m Loss:  \u001b[1;36m0.5484179854393005\u001b[0m\n"
            ],
            "text/html": [
              "<pre style=\"white-space:pre;overflow-x:auto;line-height:normal;font-family:Menlo,'DejaVu Sans Mono',consolas,'Courier New',monospace\">Epoch:  <span style=\"color: #008080; text-decoration-color: #008080; font-weight: bold\">27</span> Batch:  <span style=\"color: #008080; text-decoration-color: #008080; font-weight: bold\">100</span> Loss:  <span style=\"color: #008080; text-decoration-color: #008080; font-weight: bold\">0.5484179854393005</span>\n",
              "</pre>\n"
            ]
          },
          "metadata": {}
        },
        {
          "output_type": "display_data",
          "data": {
            "text/plain": [
              "Epoch:  \u001b[1;36m27\u001b[0m Batch:  \u001b[1;36m200\u001b[0m Loss:  \u001b[1;36m0.7195936441421509\u001b[0m\n"
            ],
            "text/html": [
              "<pre style=\"white-space:pre;overflow-x:auto;line-height:normal;font-family:Menlo,'DejaVu Sans Mono',consolas,'Courier New',monospace\">Epoch:  <span style=\"color: #008080; text-decoration-color: #008080; font-weight: bold\">27</span> Batch:  <span style=\"color: #008080; text-decoration-color: #008080; font-weight: bold\">200</span> Loss:  <span style=\"color: #008080; text-decoration-color: #008080; font-weight: bold\">0.7195936441421509</span>\n",
              "</pre>\n"
            ]
          },
          "metadata": {}
        },
        {
          "output_type": "display_data",
          "data": {
            "text/plain": [
              "Epoch:  \u001b[1;36m27\u001b[0m Batch:  \u001b[1;36m300\u001b[0m Loss:  \u001b[1;36m0.3356325924396515\u001b[0m\n"
            ],
            "text/html": [
              "<pre style=\"white-space:pre;overflow-x:auto;line-height:normal;font-family:Menlo,'DejaVu Sans Mono',consolas,'Courier New',monospace\">Epoch:  <span style=\"color: #008080; text-decoration-color: #008080; font-weight: bold\">27</span> Batch:  <span style=\"color: #008080; text-decoration-color: #008080; font-weight: bold\">300</span> Loss:  <span style=\"color: #008080; text-decoration-color: #008080; font-weight: bold\">0.3356325924396515</span>\n",
              "</pre>\n"
            ]
          },
          "metadata": {}
        },
        {
          "output_type": "display_data",
          "data": {
            "text/plain": [
              "Epoch:  \u001b[1;36m27\u001b[0m Batch:  \u001b[1;36m400\u001b[0m Loss:  \u001b[1;36m0.6361315250396729\u001b[0m\n"
            ],
            "text/html": [
              "<pre style=\"white-space:pre;overflow-x:auto;line-height:normal;font-family:Menlo,'DejaVu Sans Mono',consolas,'Courier New',monospace\">Epoch:  <span style=\"color: #008080; text-decoration-color: #008080; font-weight: bold\">27</span> Batch:  <span style=\"color: #008080; text-decoration-color: #008080; font-weight: bold\">400</span> Loss:  <span style=\"color: #008080; text-decoration-color: #008080; font-weight: bold\">0.6361315250396729</span>\n",
              "</pre>\n"
            ]
          },
          "metadata": {}
        },
        {
          "output_type": "display_data",
          "data": {
            "text/plain": [
              "Epoch:  \u001b[1;36m28\u001b[0m Batch:  \u001b[1;36m0\u001b[0m Loss:  \u001b[1;36m0.572532057762146\u001b[0m\n"
            ],
            "text/html": [
              "<pre style=\"white-space:pre;overflow-x:auto;line-height:normal;font-family:Menlo,'DejaVu Sans Mono',consolas,'Courier New',monospace\">Epoch:  <span style=\"color: #008080; text-decoration-color: #008080; font-weight: bold\">28</span> Batch:  <span style=\"color: #008080; text-decoration-color: #008080; font-weight: bold\">0</span> Loss:  <span style=\"color: #008080; text-decoration-color: #008080; font-weight: bold\">0.572532057762146</span>\n",
              "</pre>\n"
            ]
          },
          "metadata": {}
        },
        {
          "output_type": "display_data",
          "data": {
            "text/plain": [
              "Epoch:  \u001b[1;36m28\u001b[0m Batch:  \u001b[1;36m100\u001b[0m Loss:  \u001b[1;36m0.8573509454727173\u001b[0m\n"
            ],
            "text/html": [
              "<pre style=\"white-space:pre;overflow-x:auto;line-height:normal;font-family:Menlo,'DejaVu Sans Mono',consolas,'Courier New',monospace\">Epoch:  <span style=\"color: #008080; text-decoration-color: #008080; font-weight: bold\">28</span> Batch:  <span style=\"color: #008080; text-decoration-color: #008080; font-weight: bold\">100</span> Loss:  <span style=\"color: #008080; text-decoration-color: #008080; font-weight: bold\">0.8573509454727173</span>\n",
              "</pre>\n"
            ]
          },
          "metadata": {}
        },
        {
          "output_type": "display_data",
          "data": {
            "text/plain": [
              "Epoch:  \u001b[1;36m28\u001b[0m Batch:  \u001b[1;36m200\u001b[0m Loss:  \u001b[1;36m0.4238813519477844\u001b[0m\n"
            ],
            "text/html": [
              "<pre style=\"white-space:pre;overflow-x:auto;line-height:normal;font-family:Menlo,'DejaVu Sans Mono',consolas,'Courier New',monospace\">Epoch:  <span style=\"color: #008080; text-decoration-color: #008080; font-weight: bold\">28</span> Batch:  <span style=\"color: #008080; text-decoration-color: #008080; font-weight: bold\">200</span> Loss:  <span style=\"color: #008080; text-decoration-color: #008080; font-weight: bold\">0.4238813519477844</span>\n",
              "</pre>\n"
            ]
          },
          "metadata": {}
        },
        {
          "output_type": "display_data",
          "data": {
            "text/plain": [
              "Epoch:  \u001b[1;36m28\u001b[0m Batch:  \u001b[1;36m300\u001b[0m Loss:  \u001b[1;36m0.36386191844940186\u001b[0m\n"
            ],
            "text/html": [
              "<pre style=\"white-space:pre;overflow-x:auto;line-height:normal;font-family:Menlo,'DejaVu Sans Mono',consolas,'Courier New',monospace\">Epoch:  <span style=\"color: #008080; text-decoration-color: #008080; font-weight: bold\">28</span> Batch:  <span style=\"color: #008080; text-decoration-color: #008080; font-weight: bold\">300</span> Loss:  <span style=\"color: #008080; text-decoration-color: #008080; font-weight: bold\">0.36386191844940186</span>\n",
              "</pre>\n"
            ]
          },
          "metadata": {}
        },
        {
          "output_type": "display_data",
          "data": {
            "text/plain": [
              "Epoch:  \u001b[1;36m28\u001b[0m Batch:  \u001b[1;36m400\u001b[0m Loss:  \u001b[1;36m0.5979854464530945\u001b[0m\n"
            ],
            "text/html": [
              "<pre style=\"white-space:pre;overflow-x:auto;line-height:normal;font-family:Menlo,'DejaVu Sans Mono',consolas,'Courier New',monospace\">Epoch:  <span style=\"color: #008080; text-decoration-color: #008080; font-weight: bold\">28</span> Batch:  <span style=\"color: #008080; text-decoration-color: #008080; font-weight: bold\">400</span> Loss:  <span style=\"color: #008080; text-decoration-color: #008080; font-weight: bold\">0.5979854464530945</span>\n",
              "</pre>\n"
            ]
          },
          "metadata": {}
        },
        {
          "output_type": "display_data",
          "data": {
            "text/plain": [
              "Epoch:  \u001b[1;36m29\u001b[0m Batch:  \u001b[1;36m0\u001b[0m Loss:  \u001b[1;36m1.4362449645996094\u001b[0m\n"
            ],
            "text/html": [
              "<pre style=\"white-space:pre;overflow-x:auto;line-height:normal;font-family:Menlo,'DejaVu Sans Mono',consolas,'Courier New',monospace\">Epoch:  <span style=\"color: #008080; text-decoration-color: #008080; font-weight: bold\">29</span> Batch:  <span style=\"color: #008080; text-decoration-color: #008080; font-weight: bold\">0</span> Loss:  <span style=\"color: #008080; text-decoration-color: #008080; font-weight: bold\">1.4362449645996094</span>\n",
              "</pre>\n"
            ]
          },
          "metadata": {}
        },
        {
          "output_type": "display_data",
          "data": {
            "text/plain": [
              "Epoch:  \u001b[1;36m29\u001b[0m Batch:  \u001b[1;36m100\u001b[0m Loss:  \u001b[1;36m0.863102376461029\u001b[0m\n"
            ],
            "text/html": [
              "<pre style=\"white-space:pre;overflow-x:auto;line-height:normal;font-family:Menlo,'DejaVu Sans Mono',consolas,'Courier New',monospace\">Epoch:  <span style=\"color: #008080; text-decoration-color: #008080; font-weight: bold\">29</span> Batch:  <span style=\"color: #008080; text-decoration-color: #008080; font-weight: bold\">100</span> Loss:  <span style=\"color: #008080; text-decoration-color: #008080; font-weight: bold\">0.863102376461029</span>\n",
              "</pre>\n"
            ]
          },
          "metadata": {}
        },
        {
          "output_type": "display_data",
          "data": {
            "text/plain": [
              "Epoch:  \u001b[1;36m29\u001b[0m Batch:  \u001b[1;36m200\u001b[0m Loss:  \u001b[1;36m0.5086944103240967\u001b[0m\n"
            ],
            "text/html": [
              "<pre style=\"white-space:pre;overflow-x:auto;line-height:normal;font-family:Menlo,'DejaVu Sans Mono',consolas,'Courier New',monospace\">Epoch:  <span style=\"color: #008080; text-decoration-color: #008080; font-weight: bold\">29</span> Batch:  <span style=\"color: #008080; text-decoration-color: #008080; font-weight: bold\">200</span> Loss:  <span style=\"color: #008080; text-decoration-color: #008080; font-weight: bold\">0.5086944103240967</span>\n",
              "</pre>\n"
            ]
          },
          "metadata": {}
        },
        {
          "output_type": "display_data",
          "data": {
            "text/plain": [
              "Epoch:  \u001b[1;36m29\u001b[0m Batch:  \u001b[1;36m300\u001b[0m Loss:  \u001b[1;36m0.41551485657691956\u001b[0m\n"
            ],
            "text/html": [
              "<pre style=\"white-space:pre;overflow-x:auto;line-height:normal;font-family:Menlo,'DejaVu Sans Mono',consolas,'Courier New',monospace\">Epoch:  <span style=\"color: #008080; text-decoration-color: #008080; font-weight: bold\">29</span> Batch:  <span style=\"color: #008080; text-decoration-color: #008080; font-weight: bold\">300</span> Loss:  <span style=\"color: #008080; text-decoration-color: #008080; font-weight: bold\">0.41551485657691956</span>\n",
              "</pre>\n"
            ]
          },
          "metadata": {}
        },
        {
          "output_type": "display_data",
          "data": {
            "text/plain": [
              "Epoch:  \u001b[1;36m29\u001b[0m Batch:  \u001b[1;36m400\u001b[0m Loss:  \u001b[1;36m1.4380457401275635\u001b[0m\n"
            ],
            "text/html": [
              "<pre style=\"white-space:pre;overflow-x:auto;line-height:normal;font-family:Menlo,'DejaVu Sans Mono',consolas,'Courier New',monospace\">Epoch:  <span style=\"color: #008080; text-decoration-color: #008080; font-weight: bold\">29</span> Batch:  <span style=\"color: #008080; text-decoration-color: #008080; font-weight: bold\">400</span> Loss:  <span style=\"color: #008080; text-decoration-color: #008080; font-weight: bold\">1.4380457401275635</span>\n",
              "</pre>\n"
            ]
          },
          "metadata": {}
        },
        {
          "output_type": "display_data",
          "data": {
            "text/plain": [
              "Epoch:  \u001b[1;36m30\u001b[0m Batch:  \u001b[1;36m0\u001b[0m Loss:  \u001b[1;36m0.6368900537490845\u001b[0m\n"
            ],
            "text/html": [
              "<pre style=\"white-space:pre;overflow-x:auto;line-height:normal;font-family:Menlo,'DejaVu Sans Mono',consolas,'Courier New',monospace\">Epoch:  <span style=\"color: #008080; text-decoration-color: #008080; font-weight: bold\">30</span> Batch:  <span style=\"color: #008080; text-decoration-color: #008080; font-weight: bold\">0</span> Loss:  <span style=\"color: #008080; text-decoration-color: #008080; font-weight: bold\">0.6368900537490845</span>\n",
              "</pre>\n"
            ]
          },
          "metadata": {}
        },
        {
          "output_type": "display_data",
          "data": {
            "text/plain": [
              "Epoch:  \u001b[1;36m30\u001b[0m Batch:  \u001b[1;36m100\u001b[0m Loss:  \u001b[1;36m0.5291280150413513\u001b[0m\n"
            ],
            "text/html": [
              "<pre style=\"white-space:pre;overflow-x:auto;line-height:normal;font-family:Menlo,'DejaVu Sans Mono',consolas,'Courier New',monospace\">Epoch:  <span style=\"color: #008080; text-decoration-color: #008080; font-weight: bold\">30</span> Batch:  <span style=\"color: #008080; text-decoration-color: #008080; font-weight: bold\">100</span> Loss:  <span style=\"color: #008080; text-decoration-color: #008080; font-weight: bold\">0.5291280150413513</span>\n",
              "</pre>\n"
            ]
          },
          "metadata": {}
        },
        {
          "output_type": "display_data",
          "data": {
            "text/plain": [
              "Epoch:  \u001b[1;36m30\u001b[0m Batch:  \u001b[1;36m200\u001b[0m Loss:  \u001b[1;36m0.6138681173324585\u001b[0m\n"
            ],
            "text/html": [
              "<pre style=\"white-space:pre;overflow-x:auto;line-height:normal;font-family:Menlo,'DejaVu Sans Mono',consolas,'Courier New',monospace\">Epoch:  <span style=\"color: #008080; text-decoration-color: #008080; font-weight: bold\">30</span> Batch:  <span style=\"color: #008080; text-decoration-color: #008080; font-weight: bold\">200</span> Loss:  <span style=\"color: #008080; text-decoration-color: #008080; font-weight: bold\">0.6138681173324585</span>\n",
              "</pre>\n"
            ]
          },
          "metadata": {}
        },
        {
          "output_type": "display_data",
          "data": {
            "text/plain": [
              "Epoch:  \u001b[1;36m30\u001b[0m Batch:  \u001b[1;36m300\u001b[0m Loss:  \u001b[1;36m0.901388943195343\u001b[0m\n"
            ],
            "text/html": [
              "<pre style=\"white-space:pre;overflow-x:auto;line-height:normal;font-family:Menlo,'DejaVu Sans Mono',consolas,'Courier New',monospace\">Epoch:  <span style=\"color: #008080; text-decoration-color: #008080; font-weight: bold\">30</span> Batch:  <span style=\"color: #008080; text-decoration-color: #008080; font-weight: bold\">300</span> Loss:  <span style=\"color: #008080; text-decoration-color: #008080; font-weight: bold\">0.901388943195343</span>\n",
              "</pre>\n"
            ]
          },
          "metadata": {}
        },
        {
          "output_type": "display_data",
          "data": {
            "text/plain": [
              "Epoch:  \u001b[1;36m30\u001b[0m Batch:  \u001b[1;36m400\u001b[0m Loss:  \u001b[1;36m1.283475637435913\u001b[0m\n"
            ],
            "text/html": [
              "<pre style=\"white-space:pre;overflow-x:auto;line-height:normal;font-family:Menlo,'DejaVu Sans Mono',consolas,'Courier New',monospace\">Epoch:  <span style=\"color: #008080; text-decoration-color: #008080; font-weight: bold\">30</span> Batch:  <span style=\"color: #008080; text-decoration-color: #008080; font-weight: bold\">400</span> Loss:  <span style=\"color: #008080; text-decoration-color: #008080; font-weight: bold\">1.283475637435913</span>\n",
              "</pre>\n"
            ]
          },
          "metadata": {}
        },
        {
          "output_type": "display_data",
          "data": {
            "text/plain": [
              "Epoch:  \u001b[1;36m31\u001b[0m Batch:  \u001b[1;36m0\u001b[0m Loss:  \u001b[1;36m0.37464189529418945\u001b[0m\n"
            ],
            "text/html": [
              "<pre style=\"white-space:pre;overflow-x:auto;line-height:normal;font-family:Menlo,'DejaVu Sans Mono',consolas,'Courier New',monospace\">Epoch:  <span style=\"color: #008080; text-decoration-color: #008080; font-weight: bold\">31</span> Batch:  <span style=\"color: #008080; text-decoration-color: #008080; font-weight: bold\">0</span> Loss:  <span style=\"color: #008080; text-decoration-color: #008080; font-weight: bold\">0.37464189529418945</span>\n",
              "</pre>\n"
            ]
          },
          "metadata": {}
        },
        {
          "output_type": "display_data",
          "data": {
            "text/plain": [
              "Epoch:  \u001b[1;36m31\u001b[0m Batch:  \u001b[1;36m100\u001b[0m Loss:  \u001b[1;36m0.460188627243042\u001b[0m\n"
            ],
            "text/html": [
              "<pre style=\"white-space:pre;overflow-x:auto;line-height:normal;font-family:Menlo,'DejaVu Sans Mono',consolas,'Courier New',monospace\">Epoch:  <span style=\"color: #008080; text-decoration-color: #008080; font-weight: bold\">31</span> Batch:  <span style=\"color: #008080; text-decoration-color: #008080; font-weight: bold\">100</span> Loss:  <span style=\"color: #008080; text-decoration-color: #008080; font-weight: bold\">0.460188627243042</span>\n",
              "</pre>\n"
            ]
          },
          "metadata": {}
        },
        {
          "output_type": "display_data",
          "data": {
            "text/plain": [
              "Epoch:  \u001b[1;36m31\u001b[0m Batch:  \u001b[1;36m200\u001b[0m Loss:  \u001b[1;36m0.8040042519569397\u001b[0m\n"
            ],
            "text/html": [
              "<pre style=\"white-space:pre;overflow-x:auto;line-height:normal;font-family:Menlo,'DejaVu Sans Mono',consolas,'Courier New',monospace\">Epoch:  <span style=\"color: #008080; text-decoration-color: #008080; font-weight: bold\">31</span> Batch:  <span style=\"color: #008080; text-decoration-color: #008080; font-weight: bold\">200</span> Loss:  <span style=\"color: #008080; text-decoration-color: #008080; font-weight: bold\">0.8040042519569397</span>\n",
              "</pre>\n"
            ]
          },
          "metadata": {}
        },
        {
          "output_type": "display_data",
          "data": {
            "text/plain": [
              "Epoch:  \u001b[1;36m31\u001b[0m Batch:  \u001b[1;36m300\u001b[0m Loss:  \u001b[1;36m0.34427106380462646\u001b[0m\n"
            ],
            "text/html": [
              "<pre style=\"white-space:pre;overflow-x:auto;line-height:normal;font-family:Menlo,'DejaVu Sans Mono',consolas,'Courier New',monospace\">Epoch:  <span style=\"color: #008080; text-decoration-color: #008080; font-weight: bold\">31</span> Batch:  <span style=\"color: #008080; text-decoration-color: #008080; font-weight: bold\">300</span> Loss:  <span style=\"color: #008080; text-decoration-color: #008080; font-weight: bold\">0.34427106380462646</span>\n",
              "</pre>\n"
            ]
          },
          "metadata": {}
        },
        {
          "output_type": "display_data",
          "data": {
            "text/plain": [
              "Epoch:  \u001b[1;36m31\u001b[0m Batch:  \u001b[1;36m400\u001b[0m Loss:  \u001b[1;36m0.47020888328552246\u001b[0m\n"
            ],
            "text/html": [
              "<pre style=\"white-space:pre;overflow-x:auto;line-height:normal;font-family:Menlo,'DejaVu Sans Mono',consolas,'Courier New',monospace\">Epoch:  <span style=\"color: #008080; text-decoration-color: #008080; font-weight: bold\">31</span> Batch:  <span style=\"color: #008080; text-decoration-color: #008080; font-weight: bold\">400</span> Loss:  <span style=\"color: #008080; text-decoration-color: #008080; font-weight: bold\">0.47020888328552246</span>\n",
              "</pre>\n"
            ]
          },
          "metadata": {}
        },
        {
          "output_type": "display_data",
          "data": {
            "text/plain": [
              "Epoch:  \u001b[1;36m32\u001b[0m Batch:  \u001b[1;36m0\u001b[0m Loss:  \u001b[1;36m1.3739362955093384\u001b[0m\n"
            ],
            "text/html": [
              "<pre style=\"white-space:pre;overflow-x:auto;line-height:normal;font-family:Menlo,'DejaVu Sans Mono',consolas,'Courier New',monospace\">Epoch:  <span style=\"color: #008080; text-decoration-color: #008080; font-weight: bold\">32</span> Batch:  <span style=\"color: #008080; text-decoration-color: #008080; font-weight: bold\">0</span> Loss:  <span style=\"color: #008080; text-decoration-color: #008080; font-weight: bold\">1.3739362955093384</span>\n",
              "</pre>\n"
            ]
          },
          "metadata": {}
        },
        {
          "output_type": "display_data",
          "data": {
            "text/plain": [
              "Epoch:  \u001b[1;36m32\u001b[0m Batch:  \u001b[1;36m100\u001b[0m Loss:  \u001b[1;36m1.0814958810806274\u001b[0m\n"
            ],
            "text/html": [
              "<pre style=\"white-space:pre;overflow-x:auto;line-height:normal;font-family:Menlo,'DejaVu Sans Mono',consolas,'Courier New',monospace\">Epoch:  <span style=\"color: #008080; text-decoration-color: #008080; font-weight: bold\">32</span> Batch:  <span style=\"color: #008080; text-decoration-color: #008080; font-weight: bold\">100</span> Loss:  <span style=\"color: #008080; text-decoration-color: #008080; font-weight: bold\">1.0814958810806274</span>\n",
              "</pre>\n"
            ]
          },
          "metadata": {}
        },
        {
          "output_type": "display_data",
          "data": {
            "text/plain": [
              "Epoch:  \u001b[1;36m32\u001b[0m Batch:  \u001b[1;36m200\u001b[0m Loss:  \u001b[1;36m0.39271336793899536\u001b[0m\n"
            ],
            "text/html": [
              "<pre style=\"white-space:pre;overflow-x:auto;line-height:normal;font-family:Menlo,'DejaVu Sans Mono',consolas,'Courier New',monospace\">Epoch:  <span style=\"color: #008080; text-decoration-color: #008080; font-weight: bold\">32</span> Batch:  <span style=\"color: #008080; text-decoration-color: #008080; font-weight: bold\">200</span> Loss:  <span style=\"color: #008080; text-decoration-color: #008080; font-weight: bold\">0.39271336793899536</span>\n",
              "</pre>\n"
            ]
          },
          "metadata": {}
        },
        {
          "output_type": "display_data",
          "data": {
            "text/plain": [
              "Epoch:  \u001b[1;36m32\u001b[0m Batch:  \u001b[1;36m300\u001b[0m Loss:  \u001b[1;36m0.38334205746650696\u001b[0m\n"
            ],
            "text/html": [
              "<pre style=\"white-space:pre;overflow-x:auto;line-height:normal;font-family:Menlo,'DejaVu Sans Mono',consolas,'Courier New',monospace\">Epoch:  <span style=\"color: #008080; text-decoration-color: #008080; font-weight: bold\">32</span> Batch:  <span style=\"color: #008080; text-decoration-color: #008080; font-weight: bold\">300</span> Loss:  <span style=\"color: #008080; text-decoration-color: #008080; font-weight: bold\">0.38334205746650696</span>\n",
              "</pre>\n"
            ]
          },
          "metadata": {}
        },
        {
          "output_type": "display_data",
          "data": {
            "text/plain": [
              "Epoch:  \u001b[1;36m32\u001b[0m Batch:  \u001b[1;36m400\u001b[0m Loss:  \u001b[1;36m0.41012391448020935\u001b[0m\n"
            ],
            "text/html": [
              "<pre style=\"white-space:pre;overflow-x:auto;line-height:normal;font-family:Menlo,'DejaVu Sans Mono',consolas,'Courier New',monospace\">Epoch:  <span style=\"color: #008080; text-decoration-color: #008080; font-weight: bold\">32</span> Batch:  <span style=\"color: #008080; text-decoration-color: #008080; font-weight: bold\">400</span> Loss:  <span style=\"color: #008080; text-decoration-color: #008080; font-weight: bold\">0.41012391448020935</span>\n",
              "</pre>\n"
            ]
          },
          "metadata": {}
        },
        {
          "output_type": "display_data",
          "data": {
            "text/plain": [
              "Epoch:  \u001b[1;36m33\u001b[0m Batch:  \u001b[1;36m0\u001b[0m Loss:  \u001b[1;36m0.3041055202484131\u001b[0m\n"
            ],
            "text/html": [
              "<pre style=\"white-space:pre;overflow-x:auto;line-height:normal;font-family:Menlo,'DejaVu Sans Mono',consolas,'Courier New',monospace\">Epoch:  <span style=\"color: #008080; text-decoration-color: #008080; font-weight: bold\">33</span> Batch:  <span style=\"color: #008080; text-decoration-color: #008080; font-weight: bold\">0</span> Loss:  <span style=\"color: #008080; text-decoration-color: #008080; font-weight: bold\">0.3041055202484131</span>\n",
              "</pre>\n"
            ]
          },
          "metadata": {}
        },
        {
          "output_type": "display_data",
          "data": {
            "text/plain": [
              "Epoch:  \u001b[1;36m33\u001b[0m Batch:  \u001b[1;36m100\u001b[0m Loss:  \u001b[1;36m1.1023422479629517\u001b[0m\n"
            ],
            "text/html": [
              "<pre style=\"white-space:pre;overflow-x:auto;line-height:normal;font-family:Menlo,'DejaVu Sans Mono',consolas,'Courier New',monospace\">Epoch:  <span style=\"color: #008080; text-decoration-color: #008080; font-weight: bold\">33</span> Batch:  <span style=\"color: #008080; text-decoration-color: #008080; font-weight: bold\">100</span> Loss:  <span style=\"color: #008080; text-decoration-color: #008080; font-weight: bold\">1.1023422479629517</span>\n",
              "</pre>\n"
            ]
          },
          "metadata": {}
        },
        {
          "output_type": "display_data",
          "data": {
            "text/plain": [
              "Epoch:  \u001b[1;36m33\u001b[0m Batch:  \u001b[1;36m200\u001b[0m Loss:  \u001b[1;36m0.6754214763641357\u001b[0m\n"
            ],
            "text/html": [
              "<pre style=\"white-space:pre;overflow-x:auto;line-height:normal;font-family:Menlo,'DejaVu Sans Mono',consolas,'Courier New',monospace\">Epoch:  <span style=\"color: #008080; text-decoration-color: #008080; font-weight: bold\">33</span> Batch:  <span style=\"color: #008080; text-decoration-color: #008080; font-weight: bold\">200</span> Loss:  <span style=\"color: #008080; text-decoration-color: #008080; font-weight: bold\">0.6754214763641357</span>\n",
              "</pre>\n"
            ]
          },
          "metadata": {}
        },
        {
          "output_type": "display_data",
          "data": {
            "text/plain": [
              "Epoch:  \u001b[1;36m33\u001b[0m Batch:  \u001b[1;36m300\u001b[0m Loss:  \u001b[1;36m0.96293044090271\u001b[0m\n"
            ],
            "text/html": [
              "<pre style=\"white-space:pre;overflow-x:auto;line-height:normal;font-family:Menlo,'DejaVu Sans Mono',consolas,'Courier New',monospace\">Epoch:  <span style=\"color: #008080; text-decoration-color: #008080; font-weight: bold\">33</span> Batch:  <span style=\"color: #008080; text-decoration-color: #008080; font-weight: bold\">300</span> Loss:  <span style=\"color: #008080; text-decoration-color: #008080; font-weight: bold\">0.96293044090271</span>\n",
              "</pre>\n"
            ]
          },
          "metadata": {}
        },
        {
          "output_type": "display_data",
          "data": {
            "text/plain": [
              "Epoch:  \u001b[1;36m33\u001b[0m Batch:  \u001b[1;36m400\u001b[0m Loss:  \u001b[1;36m0.30006855726242065\u001b[0m\n"
            ],
            "text/html": [
              "<pre style=\"white-space:pre;overflow-x:auto;line-height:normal;font-family:Menlo,'DejaVu Sans Mono',consolas,'Courier New',monospace\">Epoch:  <span style=\"color: #008080; text-decoration-color: #008080; font-weight: bold\">33</span> Batch:  <span style=\"color: #008080; text-decoration-color: #008080; font-weight: bold\">400</span> Loss:  <span style=\"color: #008080; text-decoration-color: #008080; font-weight: bold\">0.30006855726242065</span>\n",
              "</pre>\n"
            ]
          },
          "metadata": {}
        },
        {
          "output_type": "display_data",
          "data": {
            "text/plain": [
              "Epoch:  \u001b[1;36m34\u001b[0m Batch:  \u001b[1;36m0\u001b[0m Loss:  \u001b[1;36m0.4698439836502075\u001b[0m\n"
            ],
            "text/html": [
              "<pre style=\"white-space:pre;overflow-x:auto;line-height:normal;font-family:Menlo,'DejaVu Sans Mono',consolas,'Courier New',monospace\">Epoch:  <span style=\"color: #008080; text-decoration-color: #008080; font-weight: bold\">34</span> Batch:  <span style=\"color: #008080; text-decoration-color: #008080; font-weight: bold\">0</span> Loss:  <span style=\"color: #008080; text-decoration-color: #008080; font-weight: bold\">0.4698439836502075</span>\n",
              "</pre>\n"
            ]
          },
          "metadata": {}
        },
        {
          "output_type": "display_data",
          "data": {
            "text/plain": [
              "Epoch:  \u001b[1;36m34\u001b[0m Batch:  \u001b[1;36m100\u001b[0m Loss:  \u001b[1;36m0.5879216194152832\u001b[0m\n"
            ],
            "text/html": [
              "<pre style=\"white-space:pre;overflow-x:auto;line-height:normal;font-family:Menlo,'DejaVu Sans Mono',consolas,'Courier New',monospace\">Epoch:  <span style=\"color: #008080; text-decoration-color: #008080; font-weight: bold\">34</span> Batch:  <span style=\"color: #008080; text-decoration-color: #008080; font-weight: bold\">100</span> Loss:  <span style=\"color: #008080; text-decoration-color: #008080; font-weight: bold\">0.5879216194152832</span>\n",
              "</pre>\n"
            ]
          },
          "metadata": {}
        },
        {
          "output_type": "display_data",
          "data": {
            "text/plain": [
              "Epoch:  \u001b[1;36m34\u001b[0m Batch:  \u001b[1;36m200\u001b[0m Loss:  \u001b[1;36m0.22473420202732086\u001b[0m\n"
            ],
            "text/html": [
              "<pre style=\"white-space:pre;overflow-x:auto;line-height:normal;font-family:Menlo,'DejaVu Sans Mono',consolas,'Courier New',monospace\">Epoch:  <span style=\"color: #008080; text-decoration-color: #008080; font-weight: bold\">34</span> Batch:  <span style=\"color: #008080; text-decoration-color: #008080; font-weight: bold\">200</span> Loss:  <span style=\"color: #008080; text-decoration-color: #008080; font-weight: bold\">0.22473420202732086</span>\n",
              "</pre>\n"
            ]
          },
          "metadata": {}
        },
        {
          "output_type": "display_data",
          "data": {
            "text/plain": [
              "Epoch:  \u001b[1;36m34\u001b[0m Batch:  \u001b[1;36m300\u001b[0m Loss:  \u001b[1;36m0.8432608246803284\u001b[0m\n"
            ],
            "text/html": [
              "<pre style=\"white-space:pre;overflow-x:auto;line-height:normal;font-family:Menlo,'DejaVu Sans Mono',consolas,'Courier New',monospace\">Epoch:  <span style=\"color: #008080; text-decoration-color: #008080; font-weight: bold\">34</span> Batch:  <span style=\"color: #008080; text-decoration-color: #008080; font-weight: bold\">300</span> Loss:  <span style=\"color: #008080; text-decoration-color: #008080; font-weight: bold\">0.8432608246803284</span>\n",
              "</pre>\n"
            ]
          },
          "metadata": {}
        },
        {
          "output_type": "display_data",
          "data": {
            "text/plain": [
              "Epoch:  \u001b[1;36m34\u001b[0m Batch:  \u001b[1;36m400\u001b[0m Loss:  \u001b[1;36m0.39282822608947754\u001b[0m\n"
            ],
            "text/html": [
              "<pre style=\"white-space:pre;overflow-x:auto;line-height:normal;font-family:Menlo,'DejaVu Sans Mono',consolas,'Courier New',monospace\">Epoch:  <span style=\"color: #008080; text-decoration-color: #008080; font-weight: bold\">34</span> Batch:  <span style=\"color: #008080; text-decoration-color: #008080; font-weight: bold\">400</span> Loss:  <span style=\"color: #008080; text-decoration-color: #008080; font-weight: bold\">0.39282822608947754</span>\n",
              "</pre>\n"
            ]
          },
          "metadata": {}
        },
        {
          "output_type": "display_data",
          "data": {
            "text/plain": [
              "Epoch:  \u001b[1;36m35\u001b[0m Batch:  \u001b[1;36m0\u001b[0m Loss:  \u001b[1;36m0.6147429347038269\u001b[0m\n"
            ],
            "text/html": [
              "<pre style=\"white-space:pre;overflow-x:auto;line-height:normal;font-family:Menlo,'DejaVu Sans Mono',consolas,'Courier New',monospace\">Epoch:  <span style=\"color: #008080; text-decoration-color: #008080; font-weight: bold\">35</span> Batch:  <span style=\"color: #008080; text-decoration-color: #008080; font-weight: bold\">0</span> Loss:  <span style=\"color: #008080; text-decoration-color: #008080; font-weight: bold\">0.6147429347038269</span>\n",
              "</pre>\n"
            ]
          },
          "metadata": {}
        },
        {
          "output_type": "display_data",
          "data": {
            "text/plain": [
              "Epoch:  \u001b[1;36m35\u001b[0m Batch:  \u001b[1;36m100\u001b[0m Loss:  \u001b[1;36m0.544684886932373\u001b[0m\n"
            ],
            "text/html": [
              "<pre style=\"white-space:pre;overflow-x:auto;line-height:normal;font-family:Menlo,'DejaVu Sans Mono',consolas,'Courier New',monospace\">Epoch:  <span style=\"color: #008080; text-decoration-color: #008080; font-weight: bold\">35</span> Batch:  <span style=\"color: #008080; text-decoration-color: #008080; font-weight: bold\">100</span> Loss:  <span style=\"color: #008080; text-decoration-color: #008080; font-weight: bold\">0.544684886932373</span>\n",
              "</pre>\n"
            ]
          },
          "metadata": {}
        },
        {
          "output_type": "display_data",
          "data": {
            "text/plain": [
              "Epoch:  \u001b[1;36m35\u001b[0m Batch:  \u001b[1;36m200\u001b[0m Loss:  \u001b[1;36m0.8782222270965576\u001b[0m\n"
            ],
            "text/html": [
              "<pre style=\"white-space:pre;overflow-x:auto;line-height:normal;font-family:Menlo,'DejaVu Sans Mono',consolas,'Courier New',monospace\">Epoch:  <span style=\"color: #008080; text-decoration-color: #008080; font-weight: bold\">35</span> Batch:  <span style=\"color: #008080; text-decoration-color: #008080; font-weight: bold\">200</span> Loss:  <span style=\"color: #008080; text-decoration-color: #008080; font-weight: bold\">0.8782222270965576</span>\n",
              "</pre>\n"
            ]
          },
          "metadata": {}
        },
        {
          "output_type": "display_data",
          "data": {
            "text/plain": [
              "Epoch:  \u001b[1;36m35\u001b[0m Batch:  \u001b[1;36m300\u001b[0m Loss:  \u001b[1;36m0.33798569440841675\u001b[0m\n"
            ],
            "text/html": [
              "<pre style=\"white-space:pre;overflow-x:auto;line-height:normal;font-family:Menlo,'DejaVu Sans Mono',consolas,'Courier New',monospace\">Epoch:  <span style=\"color: #008080; text-decoration-color: #008080; font-weight: bold\">35</span> Batch:  <span style=\"color: #008080; text-decoration-color: #008080; font-weight: bold\">300</span> Loss:  <span style=\"color: #008080; text-decoration-color: #008080; font-weight: bold\">0.33798569440841675</span>\n",
              "</pre>\n"
            ]
          },
          "metadata": {}
        },
        {
          "output_type": "display_data",
          "data": {
            "text/plain": [
              "Epoch:  \u001b[1;36m35\u001b[0m Batch:  \u001b[1;36m400\u001b[0m Loss:  \u001b[1;36m0.6262770891189575\u001b[0m\n"
            ],
            "text/html": [
              "<pre style=\"white-space:pre;overflow-x:auto;line-height:normal;font-family:Menlo,'DejaVu Sans Mono',consolas,'Courier New',monospace\">Epoch:  <span style=\"color: #008080; text-decoration-color: #008080; font-weight: bold\">35</span> Batch:  <span style=\"color: #008080; text-decoration-color: #008080; font-weight: bold\">400</span> Loss:  <span style=\"color: #008080; text-decoration-color: #008080; font-weight: bold\">0.6262770891189575</span>\n",
              "</pre>\n"
            ]
          },
          "metadata": {}
        },
        {
          "output_type": "display_data",
          "data": {
            "text/plain": [
              "Epoch:  \u001b[1;36m36\u001b[0m Batch:  \u001b[1;36m0\u001b[0m Loss:  \u001b[1;36m0.19239123165607452\u001b[0m\n"
            ],
            "text/html": [
              "<pre style=\"white-space:pre;overflow-x:auto;line-height:normal;font-family:Menlo,'DejaVu Sans Mono',consolas,'Courier New',monospace\">Epoch:  <span style=\"color: #008080; text-decoration-color: #008080; font-weight: bold\">36</span> Batch:  <span style=\"color: #008080; text-decoration-color: #008080; font-weight: bold\">0</span> Loss:  <span style=\"color: #008080; text-decoration-color: #008080; font-weight: bold\">0.19239123165607452</span>\n",
              "</pre>\n"
            ]
          },
          "metadata": {}
        },
        {
          "output_type": "display_data",
          "data": {
            "text/plain": [
              "Epoch:  \u001b[1;36m36\u001b[0m Batch:  \u001b[1;36m100\u001b[0m Loss:  \u001b[1;36m0.24053576588630676\u001b[0m\n"
            ],
            "text/html": [
              "<pre style=\"white-space:pre;overflow-x:auto;line-height:normal;font-family:Menlo,'DejaVu Sans Mono',consolas,'Courier New',monospace\">Epoch:  <span style=\"color: #008080; text-decoration-color: #008080; font-weight: bold\">36</span> Batch:  <span style=\"color: #008080; text-decoration-color: #008080; font-weight: bold\">100</span> Loss:  <span style=\"color: #008080; text-decoration-color: #008080; font-weight: bold\">0.24053576588630676</span>\n",
              "</pre>\n"
            ]
          },
          "metadata": {}
        },
        {
          "output_type": "display_data",
          "data": {
            "text/plain": [
              "Epoch:  \u001b[1;36m36\u001b[0m Batch:  \u001b[1;36m200\u001b[0m Loss:  \u001b[1;36m0.40002766251564026\u001b[0m\n"
            ],
            "text/html": [
              "<pre style=\"white-space:pre;overflow-x:auto;line-height:normal;font-family:Menlo,'DejaVu Sans Mono',consolas,'Courier New',monospace\">Epoch:  <span style=\"color: #008080; text-decoration-color: #008080; font-weight: bold\">36</span> Batch:  <span style=\"color: #008080; text-decoration-color: #008080; font-weight: bold\">200</span> Loss:  <span style=\"color: #008080; text-decoration-color: #008080; font-weight: bold\">0.40002766251564026</span>\n",
              "</pre>\n"
            ]
          },
          "metadata": {}
        },
        {
          "output_type": "display_data",
          "data": {
            "text/plain": [
              "Epoch:  \u001b[1;36m36\u001b[0m Batch:  \u001b[1;36m300\u001b[0m Loss:  \u001b[1;36m0.47755149006843567\u001b[0m\n"
            ],
            "text/html": [
              "<pre style=\"white-space:pre;overflow-x:auto;line-height:normal;font-family:Menlo,'DejaVu Sans Mono',consolas,'Courier New',monospace\">Epoch:  <span style=\"color: #008080; text-decoration-color: #008080; font-weight: bold\">36</span> Batch:  <span style=\"color: #008080; text-decoration-color: #008080; font-weight: bold\">300</span> Loss:  <span style=\"color: #008080; text-decoration-color: #008080; font-weight: bold\">0.47755149006843567</span>\n",
              "</pre>\n"
            ]
          },
          "metadata": {}
        },
        {
          "output_type": "display_data",
          "data": {
            "text/plain": [
              "Epoch:  \u001b[1;36m36\u001b[0m Batch:  \u001b[1;36m400\u001b[0m Loss:  \u001b[1;36m0.43475741147994995\u001b[0m\n"
            ],
            "text/html": [
              "<pre style=\"white-space:pre;overflow-x:auto;line-height:normal;font-family:Menlo,'DejaVu Sans Mono',consolas,'Courier New',monospace\">Epoch:  <span style=\"color: #008080; text-decoration-color: #008080; font-weight: bold\">36</span> Batch:  <span style=\"color: #008080; text-decoration-color: #008080; font-weight: bold\">400</span> Loss:  <span style=\"color: #008080; text-decoration-color: #008080; font-weight: bold\">0.43475741147994995</span>\n",
              "</pre>\n"
            ]
          },
          "metadata": {}
        },
        {
          "output_type": "display_data",
          "data": {
            "text/plain": [
              "Epoch:  \u001b[1;36m37\u001b[0m Batch:  \u001b[1;36m0\u001b[0m Loss:  \u001b[1;36m0.36948010325431824\u001b[0m\n"
            ],
            "text/html": [
              "<pre style=\"white-space:pre;overflow-x:auto;line-height:normal;font-family:Menlo,'DejaVu Sans Mono',consolas,'Courier New',monospace\">Epoch:  <span style=\"color: #008080; text-decoration-color: #008080; font-weight: bold\">37</span> Batch:  <span style=\"color: #008080; text-decoration-color: #008080; font-weight: bold\">0</span> Loss:  <span style=\"color: #008080; text-decoration-color: #008080; font-weight: bold\">0.36948010325431824</span>\n",
              "</pre>\n"
            ]
          },
          "metadata": {}
        },
        {
          "output_type": "display_data",
          "data": {
            "text/plain": [
              "Epoch:  \u001b[1;36m37\u001b[0m Batch:  \u001b[1;36m100\u001b[0m Loss:  \u001b[1;36m0.5254663228988647\u001b[0m\n"
            ],
            "text/html": [
              "<pre style=\"white-space:pre;overflow-x:auto;line-height:normal;font-family:Menlo,'DejaVu Sans Mono',consolas,'Courier New',monospace\">Epoch:  <span style=\"color: #008080; text-decoration-color: #008080; font-weight: bold\">37</span> Batch:  <span style=\"color: #008080; text-decoration-color: #008080; font-weight: bold\">100</span> Loss:  <span style=\"color: #008080; text-decoration-color: #008080; font-weight: bold\">0.5254663228988647</span>\n",
              "</pre>\n"
            ]
          },
          "metadata": {}
        },
        {
          "output_type": "display_data",
          "data": {
            "text/plain": [
              "Epoch:  \u001b[1;36m37\u001b[0m Batch:  \u001b[1;36m200\u001b[0m Loss:  \u001b[1;36m0.36269327998161316\u001b[0m\n"
            ],
            "text/html": [
              "<pre style=\"white-space:pre;overflow-x:auto;line-height:normal;font-family:Menlo,'DejaVu Sans Mono',consolas,'Courier New',monospace\">Epoch:  <span style=\"color: #008080; text-decoration-color: #008080; font-weight: bold\">37</span> Batch:  <span style=\"color: #008080; text-decoration-color: #008080; font-weight: bold\">200</span> Loss:  <span style=\"color: #008080; text-decoration-color: #008080; font-weight: bold\">0.36269327998161316</span>\n",
              "</pre>\n"
            ]
          },
          "metadata": {}
        },
        {
          "output_type": "display_data",
          "data": {
            "text/plain": [
              "Epoch:  \u001b[1;36m37\u001b[0m Batch:  \u001b[1;36m300\u001b[0m Loss:  \u001b[1;36m0.3114320933818817\u001b[0m\n"
            ],
            "text/html": [
              "<pre style=\"white-space:pre;overflow-x:auto;line-height:normal;font-family:Menlo,'DejaVu Sans Mono',consolas,'Courier New',monospace\">Epoch:  <span style=\"color: #008080; text-decoration-color: #008080; font-weight: bold\">37</span> Batch:  <span style=\"color: #008080; text-decoration-color: #008080; font-weight: bold\">300</span> Loss:  <span style=\"color: #008080; text-decoration-color: #008080; font-weight: bold\">0.3114320933818817</span>\n",
              "</pre>\n"
            ]
          },
          "metadata": {}
        },
        {
          "output_type": "display_data",
          "data": {
            "text/plain": [
              "Epoch:  \u001b[1;36m37\u001b[0m Batch:  \u001b[1;36m400\u001b[0m Loss:  \u001b[1;36m0.29507336020469666\u001b[0m\n"
            ],
            "text/html": [
              "<pre style=\"white-space:pre;overflow-x:auto;line-height:normal;font-family:Menlo,'DejaVu Sans Mono',consolas,'Courier New',monospace\">Epoch:  <span style=\"color: #008080; text-decoration-color: #008080; font-weight: bold\">37</span> Batch:  <span style=\"color: #008080; text-decoration-color: #008080; font-weight: bold\">400</span> Loss:  <span style=\"color: #008080; text-decoration-color: #008080; font-weight: bold\">0.29507336020469666</span>\n",
              "</pre>\n"
            ]
          },
          "metadata": {}
        },
        {
          "output_type": "display_data",
          "data": {
            "text/plain": [
              "Epoch:  \u001b[1;36m38\u001b[0m Batch:  \u001b[1;36m0\u001b[0m Loss:  \u001b[1;36m0.5635018348693848\u001b[0m\n"
            ],
            "text/html": [
              "<pre style=\"white-space:pre;overflow-x:auto;line-height:normal;font-family:Menlo,'DejaVu Sans Mono',consolas,'Courier New',monospace\">Epoch:  <span style=\"color: #008080; text-decoration-color: #008080; font-weight: bold\">38</span> Batch:  <span style=\"color: #008080; text-decoration-color: #008080; font-weight: bold\">0</span> Loss:  <span style=\"color: #008080; text-decoration-color: #008080; font-weight: bold\">0.5635018348693848</span>\n",
              "</pre>\n"
            ]
          },
          "metadata": {}
        },
        {
          "output_type": "display_data",
          "data": {
            "text/plain": [
              "Epoch:  \u001b[1;36m38\u001b[0m Batch:  \u001b[1;36m100\u001b[0m Loss:  \u001b[1;36m1.4174915552139282\u001b[0m\n"
            ],
            "text/html": [
              "<pre style=\"white-space:pre;overflow-x:auto;line-height:normal;font-family:Menlo,'DejaVu Sans Mono',consolas,'Courier New',monospace\">Epoch:  <span style=\"color: #008080; text-decoration-color: #008080; font-weight: bold\">38</span> Batch:  <span style=\"color: #008080; text-decoration-color: #008080; font-weight: bold\">100</span> Loss:  <span style=\"color: #008080; text-decoration-color: #008080; font-weight: bold\">1.4174915552139282</span>\n",
              "</pre>\n"
            ]
          },
          "metadata": {}
        },
        {
          "output_type": "display_data",
          "data": {
            "text/plain": [
              "Epoch:  \u001b[1;36m38\u001b[0m Batch:  \u001b[1;36m200\u001b[0m Loss:  \u001b[1;36m0.40237438678741455\u001b[0m\n"
            ],
            "text/html": [
              "<pre style=\"white-space:pre;overflow-x:auto;line-height:normal;font-family:Menlo,'DejaVu Sans Mono',consolas,'Courier New',monospace\">Epoch:  <span style=\"color: #008080; text-decoration-color: #008080; font-weight: bold\">38</span> Batch:  <span style=\"color: #008080; text-decoration-color: #008080; font-weight: bold\">200</span> Loss:  <span style=\"color: #008080; text-decoration-color: #008080; font-weight: bold\">0.40237438678741455</span>\n",
              "</pre>\n"
            ]
          },
          "metadata": {}
        },
        {
          "output_type": "display_data",
          "data": {
            "text/plain": [
              "Epoch:  \u001b[1;36m38\u001b[0m Batch:  \u001b[1;36m300\u001b[0m Loss:  \u001b[1;36m0.5759990811347961\u001b[0m\n"
            ],
            "text/html": [
              "<pre style=\"white-space:pre;overflow-x:auto;line-height:normal;font-family:Menlo,'DejaVu Sans Mono',consolas,'Courier New',monospace\">Epoch:  <span style=\"color: #008080; text-decoration-color: #008080; font-weight: bold\">38</span> Batch:  <span style=\"color: #008080; text-decoration-color: #008080; font-weight: bold\">300</span> Loss:  <span style=\"color: #008080; text-decoration-color: #008080; font-weight: bold\">0.5759990811347961</span>\n",
              "</pre>\n"
            ]
          },
          "metadata": {}
        },
        {
          "output_type": "display_data",
          "data": {
            "text/plain": [
              "Epoch:  \u001b[1;36m38\u001b[0m Batch:  \u001b[1;36m400\u001b[0m Loss:  \u001b[1;36m0.46870842576026917\u001b[0m\n"
            ],
            "text/html": [
              "<pre style=\"white-space:pre;overflow-x:auto;line-height:normal;font-family:Menlo,'DejaVu Sans Mono',consolas,'Courier New',monospace\">Epoch:  <span style=\"color: #008080; text-decoration-color: #008080; font-weight: bold\">38</span> Batch:  <span style=\"color: #008080; text-decoration-color: #008080; font-weight: bold\">400</span> Loss:  <span style=\"color: #008080; text-decoration-color: #008080; font-weight: bold\">0.46870842576026917</span>\n",
              "</pre>\n"
            ]
          },
          "metadata": {}
        },
        {
          "output_type": "display_data",
          "data": {
            "text/plain": [
              "Epoch:  \u001b[1;36m39\u001b[0m Batch:  \u001b[1;36m0\u001b[0m Loss:  \u001b[1;36m0.47306492924690247\u001b[0m\n"
            ],
            "text/html": [
              "<pre style=\"white-space:pre;overflow-x:auto;line-height:normal;font-family:Menlo,'DejaVu Sans Mono',consolas,'Courier New',monospace\">Epoch:  <span style=\"color: #008080; text-decoration-color: #008080; font-weight: bold\">39</span> Batch:  <span style=\"color: #008080; text-decoration-color: #008080; font-weight: bold\">0</span> Loss:  <span style=\"color: #008080; text-decoration-color: #008080; font-weight: bold\">0.47306492924690247</span>\n",
              "</pre>\n"
            ]
          },
          "metadata": {}
        },
        {
          "output_type": "display_data",
          "data": {
            "text/plain": [
              "Epoch:  \u001b[1;36m39\u001b[0m Batch:  \u001b[1;36m100\u001b[0m Loss:  \u001b[1;36m0.5875833630561829\u001b[0m\n"
            ],
            "text/html": [
              "<pre style=\"white-space:pre;overflow-x:auto;line-height:normal;font-family:Menlo,'DejaVu Sans Mono',consolas,'Courier New',monospace\">Epoch:  <span style=\"color: #008080; text-decoration-color: #008080; font-weight: bold\">39</span> Batch:  <span style=\"color: #008080; text-decoration-color: #008080; font-weight: bold\">100</span> Loss:  <span style=\"color: #008080; text-decoration-color: #008080; font-weight: bold\">0.5875833630561829</span>\n",
              "</pre>\n"
            ]
          },
          "metadata": {}
        },
        {
          "output_type": "display_data",
          "data": {
            "text/plain": [
              "Epoch:  \u001b[1;36m39\u001b[0m Batch:  \u001b[1;36m200\u001b[0m Loss:  \u001b[1;36m0.29394176602363586\u001b[0m\n"
            ],
            "text/html": [
              "<pre style=\"white-space:pre;overflow-x:auto;line-height:normal;font-family:Menlo,'DejaVu Sans Mono',consolas,'Courier New',monospace\">Epoch:  <span style=\"color: #008080; text-decoration-color: #008080; font-weight: bold\">39</span> Batch:  <span style=\"color: #008080; text-decoration-color: #008080; font-weight: bold\">200</span> Loss:  <span style=\"color: #008080; text-decoration-color: #008080; font-weight: bold\">0.29394176602363586</span>\n",
              "</pre>\n"
            ]
          },
          "metadata": {}
        },
        {
          "output_type": "display_data",
          "data": {
            "text/plain": [
              "Epoch:  \u001b[1;36m39\u001b[0m Batch:  \u001b[1;36m300\u001b[0m Loss:  \u001b[1;36m0.23644569516181946\u001b[0m\n"
            ],
            "text/html": [
              "<pre style=\"white-space:pre;overflow-x:auto;line-height:normal;font-family:Menlo,'DejaVu Sans Mono',consolas,'Courier New',monospace\">Epoch:  <span style=\"color: #008080; text-decoration-color: #008080; font-weight: bold\">39</span> Batch:  <span style=\"color: #008080; text-decoration-color: #008080; font-weight: bold\">300</span> Loss:  <span style=\"color: #008080; text-decoration-color: #008080; font-weight: bold\">0.23644569516181946</span>\n",
              "</pre>\n"
            ]
          },
          "metadata": {}
        },
        {
          "output_type": "display_data",
          "data": {
            "text/plain": [
              "Epoch:  \u001b[1;36m39\u001b[0m Batch:  \u001b[1;36m400\u001b[0m Loss:  \u001b[1;36m0.3645611107349396\u001b[0m\n"
            ],
            "text/html": [
              "<pre style=\"white-space:pre;overflow-x:auto;line-height:normal;font-family:Menlo,'DejaVu Sans Mono',consolas,'Courier New',monospace\">Epoch:  <span style=\"color: #008080; text-decoration-color: #008080; font-weight: bold\">39</span> Batch:  <span style=\"color: #008080; text-decoration-color: #008080; font-weight: bold\">400</span> Loss:  <span style=\"color: #008080; text-decoration-color: #008080; font-weight: bold\">0.3645611107349396</span>\n",
              "</pre>\n"
            ]
          },
          "metadata": {}
        },
        {
          "output_type": "display_data",
          "data": {
            "text/plain": [
              "Epoch:  \u001b[1;36m40\u001b[0m Batch:  \u001b[1;36m0\u001b[0m Loss:  \u001b[1;36m0.33803778886795044\u001b[0m\n"
            ],
            "text/html": [
              "<pre style=\"white-space:pre;overflow-x:auto;line-height:normal;font-family:Menlo,'DejaVu Sans Mono',consolas,'Courier New',monospace\">Epoch:  <span style=\"color: #008080; text-decoration-color: #008080; font-weight: bold\">40</span> Batch:  <span style=\"color: #008080; text-decoration-color: #008080; font-weight: bold\">0</span> Loss:  <span style=\"color: #008080; text-decoration-color: #008080; font-weight: bold\">0.33803778886795044</span>\n",
              "</pre>\n"
            ]
          },
          "metadata": {}
        },
        {
          "output_type": "display_data",
          "data": {
            "text/plain": [
              "Epoch:  \u001b[1;36m40\u001b[0m Batch:  \u001b[1;36m100\u001b[0m Loss:  \u001b[1;36m0.2960195541381836\u001b[0m\n"
            ],
            "text/html": [
              "<pre style=\"white-space:pre;overflow-x:auto;line-height:normal;font-family:Menlo,'DejaVu Sans Mono',consolas,'Courier New',monospace\">Epoch:  <span style=\"color: #008080; text-decoration-color: #008080; font-weight: bold\">40</span> Batch:  <span style=\"color: #008080; text-decoration-color: #008080; font-weight: bold\">100</span> Loss:  <span style=\"color: #008080; text-decoration-color: #008080; font-weight: bold\">0.2960195541381836</span>\n",
              "</pre>\n"
            ]
          },
          "metadata": {}
        },
        {
          "output_type": "display_data",
          "data": {
            "text/plain": [
              "Epoch:  \u001b[1;36m40\u001b[0m Batch:  \u001b[1;36m200\u001b[0m Loss:  \u001b[1;36m0.18048277497291565\u001b[0m\n"
            ],
            "text/html": [
              "<pre style=\"white-space:pre;overflow-x:auto;line-height:normal;font-family:Menlo,'DejaVu Sans Mono',consolas,'Courier New',monospace\">Epoch:  <span style=\"color: #008080; text-decoration-color: #008080; font-weight: bold\">40</span> Batch:  <span style=\"color: #008080; text-decoration-color: #008080; font-weight: bold\">200</span> Loss:  <span style=\"color: #008080; text-decoration-color: #008080; font-weight: bold\">0.18048277497291565</span>\n",
              "</pre>\n"
            ]
          },
          "metadata": {}
        },
        {
          "output_type": "display_data",
          "data": {
            "text/plain": [
              "Epoch:  \u001b[1;36m40\u001b[0m Batch:  \u001b[1;36m300\u001b[0m Loss:  \u001b[1;36m0.4315151572227478\u001b[0m\n"
            ],
            "text/html": [
              "<pre style=\"white-space:pre;overflow-x:auto;line-height:normal;font-family:Menlo,'DejaVu Sans Mono',consolas,'Courier New',monospace\">Epoch:  <span style=\"color: #008080; text-decoration-color: #008080; font-weight: bold\">40</span> Batch:  <span style=\"color: #008080; text-decoration-color: #008080; font-weight: bold\">300</span> Loss:  <span style=\"color: #008080; text-decoration-color: #008080; font-weight: bold\">0.4315151572227478</span>\n",
              "</pre>\n"
            ]
          },
          "metadata": {}
        },
        {
          "output_type": "display_data",
          "data": {
            "text/plain": [
              "Epoch:  \u001b[1;36m40\u001b[0m Batch:  \u001b[1;36m400\u001b[0m Loss:  \u001b[1;36m0.21168504655361176\u001b[0m\n"
            ],
            "text/html": [
              "<pre style=\"white-space:pre;overflow-x:auto;line-height:normal;font-family:Menlo,'DejaVu Sans Mono',consolas,'Courier New',monospace\">Epoch:  <span style=\"color: #008080; text-decoration-color: #008080; font-weight: bold\">40</span> Batch:  <span style=\"color: #008080; text-decoration-color: #008080; font-weight: bold\">400</span> Loss:  <span style=\"color: #008080; text-decoration-color: #008080; font-weight: bold\">0.21168504655361176</span>\n",
              "</pre>\n"
            ]
          },
          "metadata": {}
        },
        {
          "output_type": "display_data",
          "data": {
            "text/plain": [
              "Epoch:  \u001b[1;36m41\u001b[0m Batch:  \u001b[1;36m0\u001b[0m Loss:  \u001b[1;36m0.2810181677341461\u001b[0m\n"
            ],
            "text/html": [
              "<pre style=\"white-space:pre;overflow-x:auto;line-height:normal;font-family:Menlo,'DejaVu Sans Mono',consolas,'Courier New',monospace\">Epoch:  <span style=\"color: #008080; text-decoration-color: #008080; font-weight: bold\">41</span> Batch:  <span style=\"color: #008080; text-decoration-color: #008080; font-weight: bold\">0</span> Loss:  <span style=\"color: #008080; text-decoration-color: #008080; font-weight: bold\">0.2810181677341461</span>\n",
              "</pre>\n"
            ]
          },
          "metadata": {}
        },
        {
          "output_type": "display_data",
          "data": {
            "text/plain": [
              "Epoch:  \u001b[1;36m41\u001b[0m Batch:  \u001b[1;36m100\u001b[0m Loss:  \u001b[1;36m0.36823660135269165\u001b[0m\n"
            ],
            "text/html": [
              "<pre style=\"white-space:pre;overflow-x:auto;line-height:normal;font-family:Menlo,'DejaVu Sans Mono',consolas,'Courier New',monospace\">Epoch:  <span style=\"color: #008080; text-decoration-color: #008080; font-weight: bold\">41</span> Batch:  <span style=\"color: #008080; text-decoration-color: #008080; font-weight: bold\">100</span> Loss:  <span style=\"color: #008080; text-decoration-color: #008080; font-weight: bold\">0.36823660135269165</span>\n",
              "</pre>\n"
            ]
          },
          "metadata": {}
        },
        {
          "output_type": "display_data",
          "data": {
            "text/plain": [
              "Epoch:  \u001b[1;36m41\u001b[0m Batch:  \u001b[1;36m200\u001b[0m Loss:  \u001b[1;36m0.4031352996826172\u001b[0m\n"
            ],
            "text/html": [
              "<pre style=\"white-space:pre;overflow-x:auto;line-height:normal;font-family:Menlo,'DejaVu Sans Mono',consolas,'Courier New',monospace\">Epoch:  <span style=\"color: #008080; text-decoration-color: #008080; font-weight: bold\">41</span> Batch:  <span style=\"color: #008080; text-decoration-color: #008080; font-weight: bold\">200</span> Loss:  <span style=\"color: #008080; text-decoration-color: #008080; font-weight: bold\">0.4031352996826172</span>\n",
              "</pre>\n"
            ]
          },
          "metadata": {}
        },
        {
          "output_type": "display_data",
          "data": {
            "text/plain": [
              "Epoch:  \u001b[1;36m41\u001b[0m Batch:  \u001b[1;36m300\u001b[0m Loss:  \u001b[1;36m0.5110989212989807\u001b[0m\n"
            ],
            "text/html": [
              "<pre style=\"white-space:pre;overflow-x:auto;line-height:normal;font-family:Menlo,'DejaVu Sans Mono',consolas,'Courier New',monospace\">Epoch:  <span style=\"color: #008080; text-decoration-color: #008080; font-weight: bold\">41</span> Batch:  <span style=\"color: #008080; text-decoration-color: #008080; font-weight: bold\">300</span> Loss:  <span style=\"color: #008080; text-decoration-color: #008080; font-weight: bold\">0.5110989212989807</span>\n",
              "</pre>\n"
            ]
          },
          "metadata": {}
        },
        {
          "output_type": "display_data",
          "data": {
            "text/plain": [
              "Epoch:  \u001b[1;36m41\u001b[0m Batch:  \u001b[1;36m400\u001b[0m Loss:  \u001b[1;36m0.22333663702011108\u001b[0m\n"
            ],
            "text/html": [
              "<pre style=\"white-space:pre;overflow-x:auto;line-height:normal;font-family:Menlo,'DejaVu Sans Mono',consolas,'Courier New',monospace\">Epoch:  <span style=\"color: #008080; text-decoration-color: #008080; font-weight: bold\">41</span> Batch:  <span style=\"color: #008080; text-decoration-color: #008080; font-weight: bold\">400</span> Loss:  <span style=\"color: #008080; text-decoration-color: #008080; font-weight: bold\">0.22333663702011108</span>\n",
              "</pre>\n"
            ]
          },
          "metadata": {}
        },
        {
          "output_type": "display_data",
          "data": {
            "text/plain": [
              "Epoch:  \u001b[1;36m42\u001b[0m Batch:  \u001b[1;36m0\u001b[0m Loss:  \u001b[1;36m0.340351402759552\u001b[0m\n"
            ],
            "text/html": [
              "<pre style=\"white-space:pre;overflow-x:auto;line-height:normal;font-family:Menlo,'DejaVu Sans Mono',consolas,'Courier New',monospace\">Epoch:  <span style=\"color: #008080; text-decoration-color: #008080; font-weight: bold\">42</span> Batch:  <span style=\"color: #008080; text-decoration-color: #008080; font-weight: bold\">0</span> Loss:  <span style=\"color: #008080; text-decoration-color: #008080; font-weight: bold\">0.340351402759552</span>\n",
              "</pre>\n"
            ]
          },
          "metadata": {}
        },
        {
          "output_type": "display_data",
          "data": {
            "text/plain": [
              "Epoch:  \u001b[1;36m42\u001b[0m Batch:  \u001b[1;36m100\u001b[0m Loss:  \u001b[1;36m0.31829336285591125\u001b[0m\n"
            ],
            "text/html": [
              "<pre style=\"white-space:pre;overflow-x:auto;line-height:normal;font-family:Menlo,'DejaVu Sans Mono',consolas,'Courier New',monospace\">Epoch:  <span style=\"color: #008080; text-decoration-color: #008080; font-weight: bold\">42</span> Batch:  <span style=\"color: #008080; text-decoration-color: #008080; font-weight: bold\">100</span> Loss:  <span style=\"color: #008080; text-decoration-color: #008080; font-weight: bold\">0.31829336285591125</span>\n",
              "</pre>\n"
            ]
          },
          "metadata": {}
        },
        {
          "output_type": "display_data",
          "data": {
            "text/plain": [
              "Epoch:  \u001b[1;36m42\u001b[0m Batch:  \u001b[1;36m200\u001b[0m Loss:  \u001b[1;36m0.5083778500556946\u001b[0m\n"
            ],
            "text/html": [
              "<pre style=\"white-space:pre;overflow-x:auto;line-height:normal;font-family:Menlo,'DejaVu Sans Mono',consolas,'Courier New',monospace\">Epoch:  <span style=\"color: #008080; text-decoration-color: #008080; font-weight: bold\">42</span> Batch:  <span style=\"color: #008080; text-decoration-color: #008080; font-weight: bold\">200</span> Loss:  <span style=\"color: #008080; text-decoration-color: #008080; font-weight: bold\">0.5083778500556946</span>\n",
              "</pre>\n"
            ]
          },
          "metadata": {}
        },
        {
          "output_type": "display_data",
          "data": {
            "text/plain": [
              "Epoch:  \u001b[1;36m42\u001b[0m Batch:  \u001b[1;36m300\u001b[0m Loss:  \u001b[1;36m0.5283734798431396\u001b[0m\n"
            ],
            "text/html": [
              "<pre style=\"white-space:pre;overflow-x:auto;line-height:normal;font-family:Menlo,'DejaVu Sans Mono',consolas,'Courier New',monospace\">Epoch:  <span style=\"color: #008080; text-decoration-color: #008080; font-weight: bold\">42</span> Batch:  <span style=\"color: #008080; text-decoration-color: #008080; font-weight: bold\">300</span> Loss:  <span style=\"color: #008080; text-decoration-color: #008080; font-weight: bold\">0.5283734798431396</span>\n",
              "</pre>\n"
            ]
          },
          "metadata": {}
        },
        {
          "output_type": "display_data",
          "data": {
            "text/plain": [
              "Epoch:  \u001b[1;36m42\u001b[0m Batch:  \u001b[1;36m400\u001b[0m Loss:  \u001b[1;36m0.35265952348709106\u001b[0m\n"
            ],
            "text/html": [
              "<pre style=\"white-space:pre;overflow-x:auto;line-height:normal;font-family:Menlo,'DejaVu Sans Mono',consolas,'Courier New',monospace\">Epoch:  <span style=\"color: #008080; text-decoration-color: #008080; font-weight: bold\">42</span> Batch:  <span style=\"color: #008080; text-decoration-color: #008080; font-weight: bold\">400</span> Loss:  <span style=\"color: #008080; text-decoration-color: #008080; font-weight: bold\">0.35265952348709106</span>\n",
              "</pre>\n"
            ]
          },
          "metadata": {}
        },
        {
          "output_type": "display_data",
          "data": {
            "text/plain": [
              "Epoch:  \u001b[1;36m43\u001b[0m Batch:  \u001b[1;36m0\u001b[0m Loss:  \u001b[1;36m0.26693060994148254\u001b[0m\n"
            ],
            "text/html": [
              "<pre style=\"white-space:pre;overflow-x:auto;line-height:normal;font-family:Menlo,'DejaVu Sans Mono',consolas,'Courier New',monospace\">Epoch:  <span style=\"color: #008080; text-decoration-color: #008080; font-weight: bold\">43</span> Batch:  <span style=\"color: #008080; text-decoration-color: #008080; font-weight: bold\">0</span> Loss:  <span style=\"color: #008080; text-decoration-color: #008080; font-weight: bold\">0.26693060994148254</span>\n",
              "</pre>\n"
            ]
          },
          "metadata": {}
        },
        {
          "output_type": "display_data",
          "data": {
            "text/plain": [
              "Epoch:  \u001b[1;36m43\u001b[0m Batch:  \u001b[1;36m100\u001b[0m Loss:  \u001b[1;36m0.16852009296417236\u001b[0m\n"
            ],
            "text/html": [
              "<pre style=\"white-space:pre;overflow-x:auto;line-height:normal;font-family:Menlo,'DejaVu Sans Mono',consolas,'Courier New',monospace\">Epoch:  <span style=\"color: #008080; text-decoration-color: #008080; font-weight: bold\">43</span> Batch:  <span style=\"color: #008080; text-decoration-color: #008080; font-weight: bold\">100</span> Loss:  <span style=\"color: #008080; text-decoration-color: #008080; font-weight: bold\">0.16852009296417236</span>\n",
              "</pre>\n"
            ]
          },
          "metadata": {}
        },
        {
          "output_type": "display_data",
          "data": {
            "text/plain": [
              "Epoch:  \u001b[1;36m43\u001b[0m Batch:  \u001b[1;36m200\u001b[0m Loss:  \u001b[1;36m0.4196045398712158\u001b[0m\n"
            ],
            "text/html": [
              "<pre style=\"white-space:pre;overflow-x:auto;line-height:normal;font-family:Menlo,'DejaVu Sans Mono',consolas,'Courier New',monospace\">Epoch:  <span style=\"color: #008080; text-decoration-color: #008080; font-weight: bold\">43</span> Batch:  <span style=\"color: #008080; text-decoration-color: #008080; font-weight: bold\">200</span> Loss:  <span style=\"color: #008080; text-decoration-color: #008080; font-weight: bold\">0.4196045398712158</span>\n",
              "</pre>\n"
            ]
          },
          "metadata": {}
        },
        {
          "output_type": "display_data",
          "data": {
            "text/plain": [
              "Epoch:  \u001b[1;36m43\u001b[0m Batch:  \u001b[1;36m300\u001b[0m Loss:  \u001b[1;36m0.22926431894302368\u001b[0m\n"
            ],
            "text/html": [
              "<pre style=\"white-space:pre;overflow-x:auto;line-height:normal;font-family:Menlo,'DejaVu Sans Mono',consolas,'Courier New',monospace\">Epoch:  <span style=\"color: #008080; text-decoration-color: #008080; font-weight: bold\">43</span> Batch:  <span style=\"color: #008080; text-decoration-color: #008080; font-weight: bold\">300</span> Loss:  <span style=\"color: #008080; text-decoration-color: #008080; font-weight: bold\">0.22926431894302368</span>\n",
              "</pre>\n"
            ]
          },
          "metadata": {}
        },
        {
          "output_type": "display_data",
          "data": {
            "text/plain": [
              "Epoch:  \u001b[1;36m43\u001b[0m Batch:  \u001b[1;36m400\u001b[0m Loss:  \u001b[1;36m0.752090334892273\u001b[0m\n"
            ],
            "text/html": [
              "<pre style=\"white-space:pre;overflow-x:auto;line-height:normal;font-family:Menlo,'DejaVu Sans Mono',consolas,'Courier New',monospace\">Epoch:  <span style=\"color: #008080; text-decoration-color: #008080; font-weight: bold\">43</span> Batch:  <span style=\"color: #008080; text-decoration-color: #008080; font-weight: bold\">400</span> Loss:  <span style=\"color: #008080; text-decoration-color: #008080; font-weight: bold\">0.752090334892273</span>\n",
              "</pre>\n"
            ]
          },
          "metadata": {}
        },
        {
          "output_type": "display_data",
          "data": {
            "text/plain": [
              "Epoch:  \u001b[1;36m44\u001b[0m Batch:  \u001b[1;36m0\u001b[0m Loss:  \u001b[1;36m0.23250196874141693\u001b[0m\n"
            ],
            "text/html": [
              "<pre style=\"white-space:pre;overflow-x:auto;line-height:normal;font-family:Menlo,'DejaVu Sans Mono',consolas,'Courier New',monospace\">Epoch:  <span style=\"color: #008080; text-decoration-color: #008080; font-weight: bold\">44</span> Batch:  <span style=\"color: #008080; text-decoration-color: #008080; font-weight: bold\">0</span> Loss:  <span style=\"color: #008080; text-decoration-color: #008080; font-weight: bold\">0.23250196874141693</span>\n",
              "</pre>\n"
            ]
          },
          "metadata": {}
        },
        {
          "output_type": "display_data",
          "data": {
            "text/plain": [
              "Epoch:  \u001b[1;36m44\u001b[0m Batch:  \u001b[1;36m100\u001b[0m Loss:  \u001b[1;36m0.37617209553718567\u001b[0m\n"
            ],
            "text/html": [
              "<pre style=\"white-space:pre;overflow-x:auto;line-height:normal;font-family:Menlo,'DejaVu Sans Mono',consolas,'Courier New',monospace\">Epoch:  <span style=\"color: #008080; text-decoration-color: #008080; font-weight: bold\">44</span> Batch:  <span style=\"color: #008080; text-decoration-color: #008080; font-weight: bold\">100</span> Loss:  <span style=\"color: #008080; text-decoration-color: #008080; font-weight: bold\">0.37617209553718567</span>\n",
              "</pre>\n"
            ]
          },
          "metadata": {}
        },
        {
          "output_type": "display_data",
          "data": {
            "text/plain": [
              "Epoch:  \u001b[1;36m44\u001b[0m Batch:  \u001b[1;36m200\u001b[0m Loss:  \u001b[1;36m0.3133851885795593\u001b[0m\n"
            ],
            "text/html": [
              "<pre style=\"white-space:pre;overflow-x:auto;line-height:normal;font-family:Menlo,'DejaVu Sans Mono',consolas,'Courier New',monospace\">Epoch:  <span style=\"color: #008080; text-decoration-color: #008080; font-weight: bold\">44</span> Batch:  <span style=\"color: #008080; text-decoration-color: #008080; font-weight: bold\">200</span> Loss:  <span style=\"color: #008080; text-decoration-color: #008080; font-weight: bold\">0.3133851885795593</span>\n",
              "</pre>\n"
            ]
          },
          "metadata": {}
        },
        {
          "output_type": "display_data",
          "data": {
            "text/plain": [
              "Epoch:  \u001b[1;36m44\u001b[0m Batch:  \u001b[1;36m300\u001b[0m Loss:  \u001b[1;36m0.484210342168808\u001b[0m\n"
            ],
            "text/html": [
              "<pre style=\"white-space:pre;overflow-x:auto;line-height:normal;font-family:Menlo,'DejaVu Sans Mono',consolas,'Courier New',monospace\">Epoch:  <span style=\"color: #008080; text-decoration-color: #008080; font-weight: bold\">44</span> Batch:  <span style=\"color: #008080; text-decoration-color: #008080; font-weight: bold\">300</span> Loss:  <span style=\"color: #008080; text-decoration-color: #008080; font-weight: bold\">0.484210342168808</span>\n",
              "</pre>\n"
            ]
          },
          "metadata": {}
        },
        {
          "output_type": "display_data",
          "data": {
            "text/plain": [
              "Epoch:  \u001b[1;36m44\u001b[0m Batch:  \u001b[1;36m400\u001b[0m Loss:  \u001b[1;36m0.5004000067710876\u001b[0m\n"
            ],
            "text/html": [
              "<pre style=\"white-space:pre;overflow-x:auto;line-height:normal;font-family:Menlo,'DejaVu Sans Mono',consolas,'Courier New',monospace\">Epoch:  <span style=\"color: #008080; text-decoration-color: #008080; font-weight: bold\">44</span> Batch:  <span style=\"color: #008080; text-decoration-color: #008080; font-weight: bold\">400</span> Loss:  <span style=\"color: #008080; text-decoration-color: #008080; font-weight: bold\">0.5004000067710876</span>\n",
              "</pre>\n"
            ]
          },
          "metadata": {}
        },
        {
          "output_type": "display_data",
          "data": {
            "text/plain": [
              "Epoch:  \u001b[1;36m45\u001b[0m Batch:  \u001b[1;36m0\u001b[0m Loss:  \u001b[1;36m0.2950890362262726\u001b[0m\n"
            ],
            "text/html": [
              "<pre style=\"white-space:pre;overflow-x:auto;line-height:normal;font-family:Menlo,'DejaVu Sans Mono',consolas,'Courier New',monospace\">Epoch:  <span style=\"color: #008080; text-decoration-color: #008080; font-weight: bold\">45</span> Batch:  <span style=\"color: #008080; text-decoration-color: #008080; font-weight: bold\">0</span> Loss:  <span style=\"color: #008080; text-decoration-color: #008080; font-weight: bold\">0.2950890362262726</span>\n",
              "</pre>\n"
            ]
          },
          "metadata": {}
        },
        {
          "output_type": "display_data",
          "data": {
            "text/plain": [
              "Epoch:  \u001b[1;36m45\u001b[0m Batch:  \u001b[1;36m100\u001b[0m Loss:  \u001b[1;36m0.2650582492351532\u001b[0m\n"
            ],
            "text/html": [
              "<pre style=\"white-space:pre;overflow-x:auto;line-height:normal;font-family:Menlo,'DejaVu Sans Mono',consolas,'Courier New',monospace\">Epoch:  <span style=\"color: #008080; text-decoration-color: #008080; font-weight: bold\">45</span> Batch:  <span style=\"color: #008080; text-decoration-color: #008080; font-weight: bold\">100</span> Loss:  <span style=\"color: #008080; text-decoration-color: #008080; font-weight: bold\">0.2650582492351532</span>\n",
              "</pre>\n"
            ]
          },
          "metadata": {}
        },
        {
          "output_type": "display_data",
          "data": {
            "text/plain": [
              "Epoch:  \u001b[1;36m45\u001b[0m Batch:  \u001b[1;36m200\u001b[0m Loss:  \u001b[1;36m0.32950085401535034\u001b[0m\n"
            ],
            "text/html": [
              "<pre style=\"white-space:pre;overflow-x:auto;line-height:normal;font-family:Menlo,'DejaVu Sans Mono',consolas,'Courier New',monospace\">Epoch:  <span style=\"color: #008080; text-decoration-color: #008080; font-weight: bold\">45</span> Batch:  <span style=\"color: #008080; text-decoration-color: #008080; font-weight: bold\">200</span> Loss:  <span style=\"color: #008080; text-decoration-color: #008080; font-weight: bold\">0.32950085401535034</span>\n",
              "</pre>\n"
            ]
          },
          "metadata": {}
        },
        {
          "output_type": "display_data",
          "data": {
            "text/plain": [
              "Epoch:  \u001b[1;36m45\u001b[0m Batch:  \u001b[1;36m300\u001b[0m Loss:  \u001b[1;36m0.14927390217781067\u001b[0m\n"
            ],
            "text/html": [
              "<pre style=\"white-space:pre;overflow-x:auto;line-height:normal;font-family:Menlo,'DejaVu Sans Mono',consolas,'Courier New',monospace\">Epoch:  <span style=\"color: #008080; text-decoration-color: #008080; font-weight: bold\">45</span> Batch:  <span style=\"color: #008080; text-decoration-color: #008080; font-weight: bold\">300</span> Loss:  <span style=\"color: #008080; text-decoration-color: #008080; font-weight: bold\">0.14927390217781067</span>\n",
              "</pre>\n"
            ]
          },
          "metadata": {}
        },
        {
          "output_type": "display_data",
          "data": {
            "text/plain": [
              "Epoch:  \u001b[1;36m45\u001b[0m Batch:  \u001b[1;36m400\u001b[0m Loss:  \u001b[1;36m0.18873687088489532\u001b[0m\n"
            ],
            "text/html": [
              "<pre style=\"white-space:pre;overflow-x:auto;line-height:normal;font-family:Menlo,'DejaVu Sans Mono',consolas,'Courier New',monospace\">Epoch:  <span style=\"color: #008080; text-decoration-color: #008080; font-weight: bold\">45</span> Batch:  <span style=\"color: #008080; text-decoration-color: #008080; font-weight: bold\">400</span> Loss:  <span style=\"color: #008080; text-decoration-color: #008080; font-weight: bold\">0.18873687088489532</span>\n",
              "</pre>\n"
            ]
          },
          "metadata": {}
        },
        {
          "output_type": "display_data",
          "data": {
            "text/plain": [
              "Epoch:  \u001b[1;36m46\u001b[0m Batch:  \u001b[1;36m0\u001b[0m Loss:  \u001b[1;36m0.29664596915245056\u001b[0m\n"
            ],
            "text/html": [
              "<pre style=\"white-space:pre;overflow-x:auto;line-height:normal;font-family:Menlo,'DejaVu Sans Mono',consolas,'Courier New',monospace\">Epoch:  <span style=\"color: #008080; text-decoration-color: #008080; font-weight: bold\">46</span> Batch:  <span style=\"color: #008080; text-decoration-color: #008080; font-weight: bold\">0</span> Loss:  <span style=\"color: #008080; text-decoration-color: #008080; font-weight: bold\">0.29664596915245056</span>\n",
              "</pre>\n"
            ]
          },
          "metadata": {}
        },
        {
          "output_type": "display_data",
          "data": {
            "text/plain": [
              "Epoch:  \u001b[1;36m46\u001b[0m Batch:  \u001b[1;36m100\u001b[0m Loss:  \u001b[1;36m0.18432392179965973\u001b[0m\n"
            ],
            "text/html": [
              "<pre style=\"white-space:pre;overflow-x:auto;line-height:normal;font-family:Menlo,'DejaVu Sans Mono',consolas,'Courier New',monospace\">Epoch:  <span style=\"color: #008080; text-decoration-color: #008080; font-weight: bold\">46</span> Batch:  <span style=\"color: #008080; text-decoration-color: #008080; font-weight: bold\">100</span> Loss:  <span style=\"color: #008080; text-decoration-color: #008080; font-weight: bold\">0.18432392179965973</span>\n",
              "</pre>\n"
            ]
          },
          "metadata": {}
        },
        {
          "output_type": "display_data",
          "data": {
            "text/plain": [
              "Epoch:  \u001b[1;36m46\u001b[0m Batch:  \u001b[1;36m200\u001b[0m Loss:  \u001b[1;36m0.38885214924812317\u001b[0m\n"
            ],
            "text/html": [
              "<pre style=\"white-space:pre;overflow-x:auto;line-height:normal;font-family:Menlo,'DejaVu Sans Mono',consolas,'Courier New',monospace\">Epoch:  <span style=\"color: #008080; text-decoration-color: #008080; font-weight: bold\">46</span> Batch:  <span style=\"color: #008080; text-decoration-color: #008080; font-weight: bold\">200</span> Loss:  <span style=\"color: #008080; text-decoration-color: #008080; font-weight: bold\">0.38885214924812317</span>\n",
              "</pre>\n"
            ]
          },
          "metadata": {}
        },
        {
          "output_type": "display_data",
          "data": {
            "text/plain": [
              "Epoch:  \u001b[1;36m46\u001b[0m Batch:  \u001b[1;36m300\u001b[0m Loss:  \u001b[1;36m0.5065903663635254\u001b[0m\n"
            ],
            "text/html": [
              "<pre style=\"white-space:pre;overflow-x:auto;line-height:normal;font-family:Menlo,'DejaVu Sans Mono',consolas,'Courier New',monospace\">Epoch:  <span style=\"color: #008080; text-decoration-color: #008080; font-weight: bold\">46</span> Batch:  <span style=\"color: #008080; text-decoration-color: #008080; font-weight: bold\">300</span> Loss:  <span style=\"color: #008080; text-decoration-color: #008080; font-weight: bold\">0.5065903663635254</span>\n",
              "</pre>\n"
            ]
          },
          "metadata": {}
        },
        {
          "output_type": "display_data",
          "data": {
            "text/plain": [
              "Epoch:  \u001b[1;36m46\u001b[0m Batch:  \u001b[1;36m400\u001b[0m Loss:  \u001b[1;36m0.4219374358654022\u001b[0m\n"
            ],
            "text/html": [
              "<pre style=\"white-space:pre;overflow-x:auto;line-height:normal;font-family:Menlo,'DejaVu Sans Mono',consolas,'Courier New',monospace\">Epoch:  <span style=\"color: #008080; text-decoration-color: #008080; font-weight: bold\">46</span> Batch:  <span style=\"color: #008080; text-decoration-color: #008080; font-weight: bold\">400</span> Loss:  <span style=\"color: #008080; text-decoration-color: #008080; font-weight: bold\">0.4219374358654022</span>\n",
              "</pre>\n"
            ]
          },
          "metadata": {}
        },
        {
          "output_type": "display_data",
          "data": {
            "text/plain": [
              "Epoch:  \u001b[1;36m47\u001b[0m Batch:  \u001b[1;36m0\u001b[0m Loss:  \u001b[1;36m0.29134878516197205\u001b[0m\n"
            ],
            "text/html": [
              "<pre style=\"white-space:pre;overflow-x:auto;line-height:normal;font-family:Menlo,'DejaVu Sans Mono',consolas,'Courier New',monospace\">Epoch:  <span style=\"color: #008080; text-decoration-color: #008080; font-weight: bold\">47</span> Batch:  <span style=\"color: #008080; text-decoration-color: #008080; font-weight: bold\">0</span> Loss:  <span style=\"color: #008080; text-decoration-color: #008080; font-weight: bold\">0.29134878516197205</span>\n",
              "</pre>\n"
            ]
          },
          "metadata": {}
        },
        {
          "output_type": "display_data",
          "data": {
            "text/plain": [
              "Epoch:  \u001b[1;36m47\u001b[0m Batch:  \u001b[1;36m100\u001b[0m Loss:  \u001b[1;36m0.3995649814605713\u001b[0m\n"
            ],
            "text/html": [
              "<pre style=\"white-space:pre;overflow-x:auto;line-height:normal;font-family:Menlo,'DejaVu Sans Mono',consolas,'Courier New',monospace\">Epoch:  <span style=\"color: #008080; text-decoration-color: #008080; font-weight: bold\">47</span> Batch:  <span style=\"color: #008080; text-decoration-color: #008080; font-weight: bold\">100</span> Loss:  <span style=\"color: #008080; text-decoration-color: #008080; font-weight: bold\">0.3995649814605713</span>\n",
              "</pre>\n"
            ]
          },
          "metadata": {}
        },
        {
          "output_type": "display_data",
          "data": {
            "text/plain": [
              "Epoch:  \u001b[1;36m47\u001b[0m Batch:  \u001b[1;36m200\u001b[0m Loss:  \u001b[1;36m0.2664080560207367\u001b[0m\n"
            ],
            "text/html": [
              "<pre style=\"white-space:pre;overflow-x:auto;line-height:normal;font-family:Menlo,'DejaVu Sans Mono',consolas,'Courier New',monospace\">Epoch:  <span style=\"color: #008080; text-decoration-color: #008080; font-weight: bold\">47</span> Batch:  <span style=\"color: #008080; text-decoration-color: #008080; font-weight: bold\">200</span> Loss:  <span style=\"color: #008080; text-decoration-color: #008080; font-weight: bold\">0.2664080560207367</span>\n",
              "</pre>\n"
            ]
          },
          "metadata": {}
        },
        {
          "output_type": "display_data",
          "data": {
            "text/plain": [
              "Epoch:  \u001b[1;36m47\u001b[0m Batch:  \u001b[1;36m300\u001b[0m Loss:  \u001b[1;36m0.32608601450920105\u001b[0m\n"
            ],
            "text/html": [
              "<pre style=\"white-space:pre;overflow-x:auto;line-height:normal;font-family:Menlo,'DejaVu Sans Mono',consolas,'Courier New',monospace\">Epoch:  <span style=\"color: #008080; text-decoration-color: #008080; font-weight: bold\">47</span> Batch:  <span style=\"color: #008080; text-decoration-color: #008080; font-weight: bold\">300</span> Loss:  <span style=\"color: #008080; text-decoration-color: #008080; font-weight: bold\">0.32608601450920105</span>\n",
              "</pre>\n"
            ]
          },
          "metadata": {}
        },
        {
          "output_type": "display_data",
          "data": {
            "text/plain": [
              "Epoch:  \u001b[1;36m47\u001b[0m Batch:  \u001b[1;36m400\u001b[0m Loss:  \u001b[1;36m0.46450093388557434\u001b[0m\n"
            ],
            "text/html": [
              "<pre style=\"white-space:pre;overflow-x:auto;line-height:normal;font-family:Menlo,'DejaVu Sans Mono',consolas,'Courier New',monospace\">Epoch:  <span style=\"color: #008080; text-decoration-color: #008080; font-weight: bold\">47</span> Batch:  <span style=\"color: #008080; text-decoration-color: #008080; font-weight: bold\">400</span> Loss:  <span style=\"color: #008080; text-decoration-color: #008080; font-weight: bold\">0.46450093388557434</span>\n",
              "</pre>\n"
            ]
          },
          "metadata": {}
        },
        {
          "output_type": "display_data",
          "data": {
            "text/plain": [
              "Epoch:  \u001b[1;36m48\u001b[0m Batch:  \u001b[1;36m0\u001b[0m Loss:  \u001b[1;36m0.24669206142425537\u001b[0m\n"
            ],
            "text/html": [
              "<pre style=\"white-space:pre;overflow-x:auto;line-height:normal;font-family:Menlo,'DejaVu Sans Mono',consolas,'Courier New',monospace\">Epoch:  <span style=\"color: #008080; text-decoration-color: #008080; font-weight: bold\">48</span> Batch:  <span style=\"color: #008080; text-decoration-color: #008080; font-weight: bold\">0</span> Loss:  <span style=\"color: #008080; text-decoration-color: #008080; font-weight: bold\">0.24669206142425537</span>\n",
              "</pre>\n"
            ]
          },
          "metadata": {}
        },
        {
          "output_type": "display_data",
          "data": {
            "text/plain": [
              "Epoch:  \u001b[1;36m48\u001b[0m Batch:  \u001b[1;36m100\u001b[0m Loss:  \u001b[1;36m0.29027417302131653\u001b[0m\n"
            ],
            "text/html": [
              "<pre style=\"white-space:pre;overflow-x:auto;line-height:normal;font-family:Menlo,'DejaVu Sans Mono',consolas,'Courier New',monospace\">Epoch:  <span style=\"color: #008080; text-decoration-color: #008080; font-weight: bold\">48</span> Batch:  <span style=\"color: #008080; text-decoration-color: #008080; font-weight: bold\">100</span> Loss:  <span style=\"color: #008080; text-decoration-color: #008080; font-weight: bold\">0.29027417302131653</span>\n",
              "</pre>\n"
            ]
          },
          "metadata": {}
        },
        {
          "output_type": "display_data",
          "data": {
            "text/plain": [
              "Epoch:  \u001b[1;36m48\u001b[0m Batch:  \u001b[1;36m200\u001b[0m Loss:  \u001b[1;36m0.5875284671783447\u001b[0m\n"
            ],
            "text/html": [
              "<pre style=\"white-space:pre;overflow-x:auto;line-height:normal;font-family:Menlo,'DejaVu Sans Mono',consolas,'Courier New',monospace\">Epoch:  <span style=\"color: #008080; text-decoration-color: #008080; font-weight: bold\">48</span> Batch:  <span style=\"color: #008080; text-decoration-color: #008080; font-weight: bold\">200</span> Loss:  <span style=\"color: #008080; text-decoration-color: #008080; font-weight: bold\">0.5875284671783447</span>\n",
              "</pre>\n"
            ]
          },
          "metadata": {}
        },
        {
          "output_type": "display_data",
          "data": {
            "text/plain": [
              "Epoch:  \u001b[1;36m48\u001b[0m Batch:  \u001b[1;36m300\u001b[0m Loss:  \u001b[1;36m0.1558266580104828\u001b[0m\n"
            ],
            "text/html": [
              "<pre style=\"white-space:pre;overflow-x:auto;line-height:normal;font-family:Menlo,'DejaVu Sans Mono',consolas,'Courier New',monospace\">Epoch:  <span style=\"color: #008080; text-decoration-color: #008080; font-weight: bold\">48</span> Batch:  <span style=\"color: #008080; text-decoration-color: #008080; font-weight: bold\">300</span> Loss:  <span style=\"color: #008080; text-decoration-color: #008080; font-weight: bold\">0.1558266580104828</span>\n",
              "</pre>\n"
            ]
          },
          "metadata": {}
        },
        {
          "output_type": "display_data",
          "data": {
            "text/plain": [
              "Epoch:  \u001b[1;36m48\u001b[0m Batch:  \u001b[1;36m400\u001b[0m Loss:  \u001b[1;36m0.29548436403274536\u001b[0m\n"
            ],
            "text/html": [
              "<pre style=\"white-space:pre;overflow-x:auto;line-height:normal;font-family:Menlo,'DejaVu Sans Mono',consolas,'Courier New',monospace\">Epoch:  <span style=\"color: #008080; text-decoration-color: #008080; font-weight: bold\">48</span> Batch:  <span style=\"color: #008080; text-decoration-color: #008080; font-weight: bold\">400</span> Loss:  <span style=\"color: #008080; text-decoration-color: #008080; font-weight: bold\">0.29548436403274536</span>\n",
              "</pre>\n"
            ]
          },
          "metadata": {}
        },
        {
          "output_type": "display_data",
          "data": {
            "text/plain": [
              "Epoch:  \u001b[1;36m49\u001b[0m Batch:  \u001b[1;36m0\u001b[0m Loss:  \u001b[1;36m0.37228113412857056\u001b[0m\n"
            ],
            "text/html": [
              "<pre style=\"white-space:pre;overflow-x:auto;line-height:normal;font-family:Menlo,'DejaVu Sans Mono',consolas,'Courier New',monospace\">Epoch:  <span style=\"color: #008080; text-decoration-color: #008080; font-weight: bold\">49</span> Batch:  <span style=\"color: #008080; text-decoration-color: #008080; font-weight: bold\">0</span> Loss:  <span style=\"color: #008080; text-decoration-color: #008080; font-weight: bold\">0.37228113412857056</span>\n",
              "</pre>\n"
            ]
          },
          "metadata": {}
        },
        {
          "output_type": "display_data",
          "data": {
            "text/plain": [
              "Epoch:  \u001b[1;36m49\u001b[0m Batch:  \u001b[1;36m100\u001b[0m Loss:  \u001b[1;36m0.23594613373279572\u001b[0m\n"
            ],
            "text/html": [
              "<pre style=\"white-space:pre;overflow-x:auto;line-height:normal;font-family:Menlo,'DejaVu Sans Mono',consolas,'Courier New',monospace\">Epoch:  <span style=\"color: #008080; text-decoration-color: #008080; font-weight: bold\">49</span> Batch:  <span style=\"color: #008080; text-decoration-color: #008080; font-weight: bold\">100</span> Loss:  <span style=\"color: #008080; text-decoration-color: #008080; font-weight: bold\">0.23594613373279572</span>\n",
              "</pre>\n"
            ]
          },
          "metadata": {}
        },
        {
          "output_type": "display_data",
          "data": {
            "text/plain": [
              "Epoch:  \u001b[1;36m49\u001b[0m Batch:  \u001b[1;36m200\u001b[0m Loss:  \u001b[1;36m0.3090393543243408\u001b[0m\n"
            ],
            "text/html": [
              "<pre style=\"white-space:pre;overflow-x:auto;line-height:normal;font-family:Menlo,'DejaVu Sans Mono',consolas,'Courier New',monospace\">Epoch:  <span style=\"color: #008080; text-decoration-color: #008080; font-weight: bold\">49</span> Batch:  <span style=\"color: #008080; text-decoration-color: #008080; font-weight: bold\">200</span> Loss:  <span style=\"color: #008080; text-decoration-color: #008080; font-weight: bold\">0.3090393543243408</span>\n",
              "</pre>\n"
            ]
          },
          "metadata": {}
        },
        {
          "output_type": "display_data",
          "data": {
            "text/plain": [
              "Epoch:  \u001b[1;36m49\u001b[0m Batch:  \u001b[1;36m300\u001b[0m Loss:  \u001b[1;36m0.24135424196720123\u001b[0m\n"
            ],
            "text/html": [
              "<pre style=\"white-space:pre;overflow-x:auto;line-height:normal;font-family:Menlo,'DejaVu Sans Mono',consolas,'Courier New',monospace\">Epoch:  <span style=\"color: #008080; text-decoration-color: #008080; font-weight: bold\">49</span> Batch:  <span style=\"color: #008080; text-decoration-color: #008080; font-weight: bold\">300</span> Loss:  <span style=\"color: #008080; text-decoration-color: #008080; font-weight: bold\">0.24135424196720123</span>\n",
              "</pre>\n"
            ]
          },
          "metadata": {}
        },
        {
          "output_type": "display_data",
          "data": {
            "text/plain": [
              "Epoch:  \u001b[1;36m49\u001b[0m Batch:  \u001b[1;36m400\u001b[0m Loss:  \u001b[1;36m0.34724339842796326\u001b[0m\n"
            ],
            "text/html": [
              "<pre style=\"white-space:pre;overflow-x:auto;line-height:normal;font-family:Menlo,'DejaVu Sans Mono',consolas,'Courier New',monospace\">Epoch:  <span style=\"color: #008080; text-decoration-color: #008080; font-weight: bold\">49</span> Batch:  <span style=\"color: #008080; text-decoration-color: #008080; font-weight: bold\">400</span> Loss:  <span style=\"color: #008080; text-decoration-color: #008080; font-weight: bold\">0.34724339842796326</span>\n",
              "</pre>\n"
            ]
          },
          "metadata": {}
        },
        {
          "output_type": "display_data",
          "data": {
            "text/plain": [
              "\n",
              "\n"
            ],
            "text/html": [
              "<pre style=\"white-space:pre;overflow-x:auto;line-height:normal;font-family:Menlo,'DejaVu Sans Mono',consolas,'Courier New',monospace\">\n",
              "\n",
              "</pre>\n"
            ]
          },
          "metadata": {}
        },
        {
          "output_type": "display_data",
          "data": {
            "text/plain": [
              "\u001b[3m        Training Loss        \u001b[0m\n",
              "+---------------------------+\n",
              "|\u001b[1mEpoch\u001b[0m\u001b[1m \u001b[0m|\u001b[1m \u001b[0m\u001b[1m       Loss        \u001b[0m|\n",
              "|------+--------------------|\n",
              "|  0   | 2.0382370199162536 |\n",
              "|  1   | 1.7738327014665662 |\n",
              "|  2   | 1.6597901245080133 |\n",
              "|  3   | 1.5901761887507448 |\n",
              "|  4   | 1.5219170531612232 |\n",
              "|  5   | 1.4396018582131478 |\n",
              "|  6   | 1.3874955388178367 |\n",
              "|  7   | 1.3306300226286634 |\n",
              "|  8   | 1.2834014910252305 |\n",
              "|  9   | 1.2350943385945263 |\n",
              "| 10   |  1.19037335050618  |\n",
              "| 11   | 1.1425610546075982 |\n",
              "| 12   | 1.1103674568281583 |\n",
              "| 13   |  1.062964110774253 |\n",
              "| 14   |  1.034954667274206 |\n",
              "| 15   | 0.9986699969490613 |\n",
              "| 16   | 0.9634717785751405 |\n",
              "| 17   | 0.9303211451856637 |\n",
              "| 18   | 0.9066905254966642 |\n",
              "| 19   | 0.8687861991440592 |\n",
              "| 20   | 0.8496016070002914 |\n",
              "| 21   |  0.819043483531792 |\n",
              "| 22   | 0.7949097208328286 |\n",
              "| 23   | 0.7671389526750413 |\n",
              "| 24   |   0.7441803356804  |\n",
              "| 25   | 0.7194659736136961 |\n",
              "| 26   | 0.6877271900208694 |\n",
              "| 27   |  0.675957706320749 |\n",
              "| 28   | 0.6447541604317527 |\n",
              "| 29   |  0.631453555359187 |\n",
              "| 30   | 0.6134647808984257 |\n",
              "| 31   | 0.5900739941799323 |\n",
              "| 32   |  0.568418851964069 |\n",
              "| 33   | 0.5571592530589894 |\n",
              "| 34   | 0.5335930694191734 |\n",
              "| 35   | 0.5230344841694783 |\n",
              "| 36   |  0.508079255681584 |\n",
              "| 37   |  0.488293112238492 |\n",
              "| 38   | 0.46410861637268086|\n",
              "| 39   |  0.451381468334081 |\n",
              "| 40   | 0.44082337764143215|\n",
              "| 41   |  0.422517832650485 |\n",
              "| 42   |  0.41236558974033  |\n",
              "| 43   | 0.3991406239980569 |\n",
              "| 44   | 0.38229125983449336|\n",
              "| 45   | 0.37528397793479734|\n",
              "| 46   | 0.3618504978823028 |\n",
              "| 47   | 0.3561823206567082 |\n",
              "| 48   | 0.33741915225982666|\n",
              "| 49   | 0.32210951592537035|\n",
              "+---------------------------+\n"
            ],
            "text/html": [
              "<pre style=\"white-space:pre;overflow-x:auto;line-height:normal;font-family:Menlo,'DejaVu Sans Mono',consolas,'Courier New',monospace\"><span style=\"font-style: italic\">        Training Loss        </span>\n",
              "+---------------------------+\n",
              "|<span style=\"font-weight: bold\">Epoch </span>|<span style=\"font-weight: bold\">        Loss        </span>|\n",
              "|------+--------------------|\n",
              "|  0   | 2.0382370199162536 |\n",
              "|  1   | 1.7738327014665662 |\n",
              "|  2   | 1.6597901245080133 |\n",
              "|  3   | 1.5901761887507448 |\n",
              "|  4   | 1.5219170531612232 |\n",
              "|  5   | 1.4396018582131478 |\n",
              "|  6   | 1.3874955388178367 |\n",
              "|  7   | 1.3306300226286634 |\n",
              "|  8   | 1.2834014910252305 |\n",
              "|  9   | 1.2350943385945263 |\n",
              "| 10   |  1.19037335050618  |\n",
              "| 11   | 1.1425610546075982 |\n",
              "| 12   | 1.1103674568281583 |\n",
              "| 13   |  1.062964110774253 |\n",
              "| 14   |  1.034954667274206 |\n",
              "| 15   | 0.9986699969490613 |\n",
              "| 16   | 0.9634717785751405 |\n",
              "| 17   | 0.9303211451856637 |\n",
              "| 18   | 0.9066905254966642 |\n",
              "| 19   | 0.8687861991440592 |\n",
              "| 20   | 0.8496016070002914 |\n",
              "| 21   |  0.819043483531792 |\n",
              "| 22   | 0.7949097208328286 |\n",
              "| 23   | 0.7671389526750413 |\n",
              "| 24   |   0.7441803356804  |\n",
              "| 25   | 0.7194659736136961 |\n",
              "| 26   | 0.6877271900208694 |\n",
              "| 27   |  0.675957706320749 |\n",
              "| 28   | 0.6447541604317527 |\n",
              "| 29   |  0.631453555359187 |\n",
              "| 30   | 0.6134647808984257 |\n",
              "| 31   | 0.5900739941799323 |\n",
              "| 32   |  0.568418851964069 |\n",
              "| 33   | 0.5571592530589894 |\n",
              "| 34   | 0.5335930694191734 |\n",
              "| 35   | 0.5230344841694783 |\n",
              "| 36   |  0.508079255681584 |\n",
              "| 37   |  0.488293112238492 |\n",
              "| 38   | 0.46410861637268086|\n",
              "| 39   |  0.451381468334081 |\n",
              "| 40   | 0.44082337764143215|\n",
              "| 41   |  0.422517832650485 |\n",
              "| 42   |  0.41236558974033  |\n",
              "| 43   | 0.3991406239980569 |\n",
              "| 44   | 0.38229125983449336|\n",
              "| 45   | 0.37528397793479734|\n",
              "| 46   | 0.3618504978823028 |\n",
              "| 47   | 0.3561823206567082 |\n",
              "| 48   | 0.33741915225982666|\n",
              "| 49   | 0.32210951592537035|\n",
              "+---------------------------+\n",
              "</pre>\n"
            ]
          },
          "metadata": {}
        },
        {
          "output_type": "display_data",
          "data": {
            "text/plain": [
              "\n",
              "\n"
            ],
            "text/html": [
              "<pre style=\"white-space:pre;overflow-x:auto;line-height:normal;font-family:Menlo,'DejaVu Sans Mono',consolas,'Courier New',monospace\">\n",
              "\n",
              "</pre>\n"
            ]
          },
          "metadata": {}
        },
        {
          "output_type": "display_data",
          "data": {
            "text/plain": [
              "\u001b[3m      Validation Loss       \u001b[0m\n",
              "+--------------------------+\n",
              "|\u001b[1mEpoch\u001b[0m\u001b[1m \u001b[0m|\u001b[1m \u001b[0m\u001b[1m       Loss       \u001b[0m|\n",
              "|------+-------------------|\n",
              "|  0   | 1.6725029393859294|\n",
              "|  1   | 1.6395886694562847|\n",
              "|  2   | 1.6394798060258229|\n",
              "|  3   | 1.6258584990583618|\n",
              "|  4   | 1.6314676023762802|\n",
              "|  5   | 1.6315494210555637|\n",
              "|  6   | 1.648242897000806 |\n",
              "|  7   | 1.6563510898200946|\n",
              "|  8   | 1.6633949238678505|\n",
              "|  9   |  1.67822488834118 |\n",
              "| 10   | 1.700874603342736 |\n",
              "| 11   | 1.7179748799609043|\n",
              "| 12   | 1.729856589744831 |\n",
              "| 13   | 1.7530336078556104|\n",
              "| 14   | 1.771279377498846 |\n",
              "| 15   | 1.7876011838858155|\n",
              "| 16   | 1.793221183891954 |\n",
              "| 17   | 1.831762520746253 |\n",
              "| 18   | 1.8470730055337665|\n",
              "| 19   | 1.8711481224531414|\n",
              "| 20   | 1.8918711878787513|\n",
              "| 21   | 1.9054687495889335|\n",
              "| 22   | 1.9428488721792725|\n",
              "| 23   | 1.9489463225178334|\n",
              "| 24   | 1.9788126842728977|\n",
              "| 25   | 2.004737573108454 |\n",
              "| 26   | 2.026953257363418 |\n",
              "| 27   | 2.052147119894795 |\n",
              "| 28   | 2.077860828788801 |\n",
              "| 29   | 2.076988457263201 |\n",
              "| 30   | 2.1165394947446625|\n",
              "| 31   | 2.132202445090502 |\n",
              "| 32   | 2.175598202765673 |\n",
              "| 33   | 2.1776669888660827|\n",
              "| 34   |  2.21362448971847 |\n",
              "| 35   |  2.21219658440557 |\n",
              "| 36   | 2.2428775059765784|\n",
              "| 37   | 2.289619944561487 |\n",
              "| 38   | 2.299756251532456 |\n",
              "| 39   | 2.3267117896299254|\n",
              "| 40   | 2.343077203323101 |\n",
              "| 41   | 2.3691515840333084|\n",
              "| 42   | 2.3886989540067214|\n",
              "| 43   | 2.4045885287482163|\n",
              "| 44   | 2.4389599116369225|\n",
              "| 45   | 2.457963383745873 |\n",
              "| 46   | 2.4758167198334617|\n",
              "| 47   | 2.5125306693986915|\n",
              "| 48   | 2.529544907054682 |\n",
              "| 49   | 2.5663878013347756|\n",
              "+--------------------------+\n"
            ],
            "text/html": [
              "<pre style=\"white-space:pre;overflow-x:auto;line-height:normal;font-family:Menlo,'DejaVu Sans Mono',consolas,'Courier New',monospace\"><span style=\"font-style: italic\">      Validation Loss       </span>\n",
              "+--------------------------+\n",
              "|<span style=\"font-weight: bold\">Epoch </span>|<span style=\"font-weight: bold\">        Loss       </span>|\n",
              "|------+-------------------|\n",
              "|  0   | 1.6725029393859294|\n",
              "|  1   | 1.6395886694562847|\n",
              "|  2   | 1.6394798060258229|\n",
              "|  3   | 1.6258584990583618|\n",
              "|  4   | 1.6314676023762802|\n",
              "|  5   | 1.6315494210555637|\n",
              "|  6   | 1.648242897000806 |\n",
              "|  7   | 1.6563510898200946|\n",
              "|  8   | 1.6633949238678505|\n",
              "|  9   |  1.67822488834118 |\n",
              "| 10   | 1.700874603342736 |\n",
              "| 11   | 1.7179748799609043|\n",
              "| 12   | 1.729856589744831 |\n",
              "| 13   | 1.7530336078556104|\n",
              "| 14   | 1.771279377498846 |\n",
              "| 15   | 1.7876011838858155|\n",
              "| 16   | 1.793221183891954 |\n",
              "| 17   | 1.831762520746253 |\n",
              "| 18   | 1.8470730055337665|\n",
              "| 19   | 1.8711481224531414|\n",
              "| 20   | 1.8918711878787513|\n",
              "| 21   | 1.9054687495889335|\n",
              "| 22   | 1.9428488721792725|\n",
              "| 23   | 1.9489463225178334|\n",
              "| 24   | 1.9788126842728977|\n",
              "| 25   | 2.004737573108454 |\n",
              "| 26   | 2.026953257363418 |\n",
              "| 27   | 2.052147119894795 |\n",
              "| 28   | 2.077860828788801 |\n",
              "| 29   | 2.076988457263201 |\n",
              "| 30   | 2.1165394947446625|\n",
              "| 31   | 2.132202445090502 |\n",
              "| 32   | 2.175598202765673 |\n",
              "| 33   | 2.1776669888660827|\n",
              "| 34   |  2.21362448971847 |\n",
              "| 35   |  2.21219658440557 |\n",
              "| 36   | 2.2428775059765784|\n",
              "| 37   | 2.289619944561487 |\n",
              "| 38   | 2.299756251532456 |\n",
              "| 39   | 2.3267117896299254|\n",
              "| 40   | 2.343077203323101 |\n",
              "| 41   | 2.3691515840333084|\n",
              "| 42   | 2.3886989540067214|\n",
              "| 43   | 2.4045885287482163|\n",
              "| 44   | 2.4389599116369225|\n",
              "| 45   | 2.457963383745873 |\n",
              "| 46   | 2.4758167198334617|\n",
              "| 47   | 2.5125306693986915|\n",
              "| 48   | 2.529544907054682 |\n",
              "| 49   | 2.5663878013347756|\n",
              "+--------------------------+\n",
              "</pre>\n"
            ]
          },
          "metadata": {}
        },
        {
          "output_type": "display_data",
          "data": {
            "text/plain": [
              "\u001b[2;36m[20:44:01]\u001b[0m\u001b[2;36m \u001b[0m\u001b[1m[\u001b[0mSaving Model\u001b[1m]\u001b[0m\u001b[33m...\u001b[0m                               \u001b[2m<ipython-input-8-31ece74cb2e6>\u001b[0m\u001b[2m:\u001b[0m\u001b[2m100\u001b[0m\n",
              "\u001b[2;36m           \u001b[0m                                                \u001b[2m                                  \u001b[0m\n"
            ],
            "text/html": [
              "<pre style=\"white-space:pre;overflow-x:auto;line-height:normal;font-family:Menlo,'DejaVu Sans Mono',consolas,'Courier New',monospace\"><span style=\"color: #7fbfbf; text-decoration-color: #7fbfbf\">[20:44:01] </span><span style=\"font-weight: bold\">[</span>Saving Model<span style=\"font-weight: bold\">]</span><span style=\"color: #808000; text-decoration-color: #808000\">...</span>                               <span style=\"color: #7f7f7f; text-decoration-color: #7f7f7f\">&lt;ipython-input-8-31ece74cb2e6&gt;:100</span>\n",
              "<span style=\"color: #7fbfbf; text-decoration-color: #7fbfbf\">           </span>                                                <span style=\"color: #7f7f7f; text-decoration-color: #7f7f7f\">                                  </span>\n",
              "</pre>\n"
            ]
          },
          "metadata": {}
        },
        {
          "output_type": "display_data",
          "data": {
            "text/plain": [
              "\u001b[2;36m[20:44:02]\u001b[0m\u001b[2;36m \u001b[0m\u001b[1m[\u001b[0mGenerating Validation Outputs\u001b[1m]\u001b[0m\u001b[33m...\u001b[0m              \u001b[2m<ipython-input-8-31ece74cb2e6>\u001b[0m\u001b[2m:\u001b[0m\u001b[2m107\u001b[0m\n",
              "\u001b[2;36m           \u001b[0m                                                \u001b[2m                                  \u001b[0m\n"
            ],
            "text/html": [
              "<pre style=\"white-space:pre;overflow-x:auto;line-height:normal;font-family:Menlo,'DejaVu Sans Mono',consolas,'Courier New',monospace\"><span style=\"color: #7fbfbf; text-decoration-color: #7fbfbf\">[20:44:02] </span><span style=\"font-weight: bold\">[</span>Generating Validation Outputs<span style=\"font-weight: bold\">]</span><span style=\"color: #808000; text-decoration-color: #808000\">...</span>              <span style=\"color: #7f7f7f; text-decoration-color: #7f7f7f\">&lt;ipython-input-8-31ece74cb2e6&gt;:107</span>\n",
              "<span style=\"color: #7fbfbf; text-decoration-color: #7fbfbf\">           </span>                                                <span style=\"color: #7f7f7f; text-decoration-color: #7f7f7f\">                                  </span>\n",
              "</pre>\n"
            ]
          },
          "metadata": {}
        },
        {
          "output_type": "display_data",
          "data": {
            "text/plain": [
              "\u001b[2;36m[20:45:31]\u001b[0m\u001b[2;36m \u001b[0m\u001b[1m[\u001b[0mValidation Outputs Generated.\u001b[1m]\u001b[0m                 \u001b[2m<ipython-input-8-31ece74cb2e6>\u001b[0m\u001b[2m:\u001b[0m\u001b[2m114\u001b[0m\n",
              "\u001b[2;36m           \u001b[0m                                                \u001b[2m                                  \u001b[0m\n"
            ],
            "text/html": [
              "<pre style=\"white-space:pre;overflow-x:auto;line-height:normal;font-family:Menlo,'DejaVu Sans Mono',consolas,'Courier New',monospace\"><span style=\"color: #7fbfbf; text-decoration-color: #7fbfbf\">[20:45:31] </span><span style=\"font-weight: bold\">[</span>Validation Outputs Generated.<span style=\"font-weight: bold\">]</span>                 <span style=\"color: #7f7f7f; text-decoration-color: #7f7f7f\">&lt;ipython-input-8-31ece74cb2e6&gt;:114</span>\n",
              "<span style=\"color: #7fbfbf; text-decoration-color: #7fbfbf\">           </span>                                                <span style=\"color: #7f7f7f; text-decoration-color: #7f7f7f\">                                  </span>\n",
              "</pre>\n"
            ]
          },
          "metadata": {}
        },
        {
          "output_type": "display_data",
          "data": {
            "text/plain": [
              "\u001b[1m[\u001b[0mModel\u001b[1m]\u001b[0m Model saved @ outputs/model_files\n",
              "\n"
            ],
            "text/html": [
              "<pre style=\"white-space:pre;overflow-x:auto;line-height:normal;font-family:Menlo,'DejaVu Sans Mono',consolas,'Courier New',monospace\"><span style=\"font-weight: bold\">[</span>Model<span style=\"font-weight: bold\">]</span> Model saved @ outputs/model_files\n",
              "\n",
              "</pre>\n"
            ]
          },
          "metadata": {}
        },
        {
          "output_type": "display_data",
          "data": {
            "text/plain": [
              "\u001b[1m[\u001b[0mValidation\u001b[1m]\u001b[0m Generation on Validation data saved @ outputs/predictions.csv\n",
              "\n"
            ],
            "text/html": [
              "<pre style=\"white-space:pre;overflow-x:auto;line-height:normal;font-family:Menlo,'DejaVu Sans Mono',consolas,'Courier New',monospace\"><span style=\"font-weight: bold\">[</span>Validation<span style=\"font-weight: bold\">]</span> Generation on Validation data saved @ outputs/predictions.csv\n",
              "\n",
              "</pre>\n"
            ]
          },
          "metadata": {}
        },
        {
          "output_type": "display_data",
          "data": {
            "text/plain": [
              "\u001b[1m[\u001b[0mLogs\u001b[1m]\u001b[0m Logs saved @ outputs/logs.txt\n",
              "\n"
            ],
            "text/html": [
              "<pre style=\"white-space:pre;overflow-x:auto;line-height:normal;font-family:Menlo,'DejaVu Sans Mono',consolas,'Courier New',monospace\"><span style=\"font-weight: bold\">[</span>Logs<span style=\"font-weight: bold\">]</span> Logs saved @ outputs/logs.txt\n",
              "\n",
              "</pre>\n"
            ]
          },
          "metadata": {}
        }
      ]
    },
    {
      "cell_type": "code",
      "source": [
        "# Save the training loss to csv\n",
        "table_data = {x.header: [Text.from_markup(y).plain for y in x.cells] for x in training_logger.columns}\n",
        "training_logger_df = pd.DataFrame(table_data)\n",
        "training_logger_df.to_csv(\"outputs/\"+\"train_loss.csv\", sep=\"=\")\n",
        "\n",
        "# Save the validation loss to csv\n",
        "table_data = {x.header: [Text.from_markup(y).plain for y in x.cells] for x in validation_logger.columns}\n",
        "validation_logger_df = pd.DataFrame(table_data)\n",
        "validation_logger_df.to_csv(\"outputs/\"+\"val_loss.csv\", sep=\"=\")"
      ],
      "metadata": {
        "id": "1Yf5Oo1SNecR"
      },
      "execution_count": 18,
      "outputs": []
    },
    {
      "cell_type": "code",
      "source": [
        "# Plot the loss\n",
        "train_loss = pd.read_csv(\"outputs/\"+\"train_loss.csv\", sep=\"=\")\n",
        "train_loss.plot(0,2)\n",
        "val_loss = pd.read_csv(\"outputs/\"+\"val_loss.csv\", sep=\"=\")\n",
        "val_loss.plot(0,2)"
      ],
      "metadata": {
        "colab": {
          "base_uri": "https://localhost:8080/",
          "height": 560
        },
        "id": "HEnoiOiXNefH",
        "outputId": "5b8dd926-44d5-4d57-8308-bb4b4b41befd"
      },
      "execution_count": 19,
      "outputs": [
        {
          "output_type": "execute_result",
          "data": {
            "text/plain": [
              "<matplotlib.axes._subplots.AxesSubplot at 0x7f83492cdd50>"
            ]
          },
          "metadata": {},
          "execution_count": 19
        },
        {
          "output_type": "display_data",
          "data": {
            "text/plain": [
              "<Figure size 432x288 with 1 Axes>"
            ],
            "image/png": "[encoded data removed]"
          },
          "metadata": {
            "needs_background": "light"
          }
        },
        {
          "output_type": "display_data",
          "data": {
            "text/plain": [
              "<Figure size 432x288 with 1 Axes>"
            ],
            "image/png": "[encoded data removed]"
          },
          "metadata": {
            "needs_background": "light"
          }
        }
      ]
    },
    {
      "cell_type": "code",
      "source": [
        "!zip -r outputs.zip outputs"
      ],
      "metadata": {
        "colab": {
          "base_uri": "https://localhost:8080/"
        },
        "id": "oBRrPNhKwHR8",
        "outputId": "705d0541-660e-4361-a6c1-8cce088b0b3a"
      },
      "execution_count": 20,
      "outputs": [
        {
          "output_type": "stream",
          "name": "stdout",
          "text": [
            "  adding: outputs/ (stored 0%)\n",
            "  adding: outputs/logs.txt (deflated 70%)\n",
            "  adding: outputs/val_loss.csv (deflated 48%)\n",
            "  adding: outputs/train_loss.csv (deflated 48%)\n",
            "  adding: outputs/model_files/ (stored 0%)\n",
            "  adding: outputs/model_files/config.json (deflated 63%)\n",
            "  adding: outputs/model_files/spiece.model (deflated 48%)\n",
            "  adding: outputs/model_files/tokenizer_config.json (deflated 80%)\n",
            "  adding: outputs/model_files/pytorch_model.bin (deflated 7%)\n",
            "  adding: outputs/model_files/special_tokens_map.json (deflated 83%)\n",
            "  adding: outputs/predictions.csv (deflated 63%)\n"
          ]
        }
      ]
    }
  ]
}