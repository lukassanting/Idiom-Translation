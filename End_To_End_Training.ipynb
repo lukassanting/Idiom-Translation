{
  "nbformat": 4,
  "nbformat_minor": 0,
  "metadata": {
    "colab": {
      "name": "End-To-End Training",
      "provenance": [],
      "collapsed_sections": [],
      "include_colab_link": true
    },
    "kernelspec": {
      "name": "python3",
      "display_name": "Python 3"
    },
    "language_info": {
      "name": "python"
    },
    "accelerator": "GPU",
    "widgets": {
      "application/vnd.jupyter.widget-state+json": {
        "12d137b2a4ee4fab87d06b17a8977d16": {
          "model_module": "@jupyter-widgets/controls",
          "model_name": "HBoxModel",
          "model_module_version": "1.5.0",
          "state": {
            "_dom_classes": [],
            "_model_module": "@jupyter-widgets/controls",
            "_model_module_version": "1.5.0",
            "_model_name": "HBoxModel",
            "_view_count": null,
            "_view_module": "@jupyter-widgets/controls",
            "_view_module_version": "1.5.0",
            "_view_name": "HBoxView",
            "box_style": "",
            "children": [
              "IPY_MODEL_de2f3a04cd42405a93c80ee5c8bd1e13",
              "IPY_MODEL_adce69cdb2964adb88a69fe106b964ae",
              "IPY_MODEL_f64306f08df64f2cb7a52b329f960c2e"
            ],
            "layout": "IPY_MODEL_a06639a4401140759d64649c0164e725"
          }
        },
        "de2f3a04cd42405a93c80ee5c8bd1e13": {
          "model_module": "@jupyter-widgets/controls",
          "model_name": "HTMLModel",
          "model_module_version": "1.5.0",
          "state": {
            "_dom_classes": [],
            "_model_module": "@jupyter-widgets/controls",
            "_model_module_version": "1.5.0",
            "_model_name": "HTMLModel",
            "_view_count": null,
            "_view_module": "@jupyter-widgets/controls",
            "_view_module_version": "1.5.0",
            "_view_name": "HTMLView",
            "description": "",
            "description_tooltip": null,
            "layout": "IPY_MODEL_a1d83c5d97734cd4aba7c5797a3c46c5",
            "placeholder": "​",
            "style": "IPY_MODEL_9699588eb02040f79b77d6fbac288e79",
            "value": "Downloading: 100%"
          }
        },
        "adce69cdb2964adb88a69fe106b964ae": {
          "model_module": "@jupyter-widgets/controls",
          "model_name": "FloatProgressModel",
          "model_module_version": "1.5.0",
          "state": {
            "_dom_classes": [],
            "_model_module": "@jupyter-widgets/controls",
            "_model_module_version": "1.5.0",
            "_model_name": "FloatProgressModel",
            "_view_count": null,
            "_view_module": "@jupyter-widgets/controls",
            "_view_module_version": "1.5.0",
            "_view_name": "ProgressView",
            "bar_style": "success",
            "description": "",
            "description_tooltip": null,
            "layout": "IPY_MODEL_45f0b21dd4ce467cb9100645ad6f0831",
            "max": 791656,
            "min": 0,
            "orientation": "horizontal",
            "style": "IPY_MODEL_6559a78f686f4995a44690d945e3c501",
            "value": 791656
          }
        },
        "f64306f08df64f2cb7a52b329f960c2e": {
          "model_module": "@jupyter-widgets/controls",
          "model_name": "HTMLModel",
          "model_module_version": "1.5.0",
          "state": {
            "_dom_classes": [],
            "_model_module": "@jupyter-widgets/controls",
            "_model_module_version": "1.5.0",
            "_model_name": "HTMLModel",
            "_view_count": null,
            "_view_module": "@jupyter-widgets/controls",
            "_view_module_version": "1.5.0",
            "_view_name": "HTMLView",
            "description": "",
            "description_tooltip": null,
            "layout": "IPY_MODEL_7c8116a1eeee4559b4d9414d3dba7d88",
            "placeholder": "​",
            "style": "IPY_MODEL_e113335ff25847a480df3b2a1a895aca",
            "value": " 773k/773k [00:01&lt;00:00, 885kB/s]"
          }
        },
        "a06639a4401140759d64649c0164e725": {
          "model_module": "@jupyter-widgets/base",
          "model_name": "LayoutModel",
          "model_module_version": "1.2.0",
          "state": {
            "_model_module": "@jupyter-widgets/base",
            "_model_module_version": "1.2.0",
            "_model_name": "LayoutModel",
            "_view_count": null,
            "_view_module": "@jupyter-widgets/base",
            "_view_module_version": "1.2.0",
            "_view_name": "LayoutView",
            "align_content": null,
            "align_items": null,
            "align_self": null,
            "border": null,
            "bottom": null,
            "display": null,
            "flex": null,
            "flex_flow": null,
            "grid_area": null,
            "grid_auto_columns": null,
            "grid_auto_flow": null,
            "grid_auto_rows": null,
            "grid_column": null,
            "grid_gap": null,
            "grid_row": null,
            "grid_template_areas": null,
            "grid_template_columns": null,
            "grid_template_rows": null,
            "height": null,
            "justify_content": null,
            "justify_items": null,
            "left": null,
            "margin": null,
            "max_height": null,
            "max_width": null,
            "min_height": null,
            "min_width": null,
            "object_fit": null,
            "object_position": null,
            "order": null,
            "overflow": null,
            "overflow_x": null,
            "overflow_y": null,
            "padding": null,
            "right": null,
            "top": null,
            "visibility": null,
            "width": null
          }
        },
        "a1d83c5d97734cd4aba7c5797a3c46c5": {
          "model_module": "@jupyter-widgets/base",
          "model_name": "LayoutModel",
          "model_module_version": "1.2.0",
          "state": {
            "_model_module": "@jupyter-widgets/base",
            "_model_module_version": "1.2.0",
            "_model_name": "LayoutModel",
            "_view_count": null,
            "_view_module": "@jupyter-widgets/base",
            "_view_module_version": "1.2.0",
            "_view_name": "LayoutView",
            "align_content": null,
            "align_items": null,
            "align_self": null,
            "border": null,
            "bottom": null,
            "display": null,
            "flex": null,
            "flex_flow": null,
            "grid_area": null,
            "grid_auto_columns": null,
            "grid_auto_flow": null,
            "grid_auto_rows": null,
            "grid_column": null,
            "grid_gap": null,
            "grid_row": null,
            "grid_template_areas": null,
            "grid_template_columns": null,
            "grid_template_rows": null,
            "height": null,
            "justify_content": null,
            "justify_items": null,
            "left": null,
            "margin": null,
            "max_height": null,
            "max_width": null,
            "min_height": null,
            "min_width": null,
            "object_fit": null,
            "object_position": null,
            "order": null,
            "overflow": null,
            "overflow_x": null,
            "overflow_y": null,
            "padding": null,
            "right": null,
            "top": null,
            "visibility": null,
            "width": null
          }
        },
        "9699588eb02040f79b77d6fbac288e79": {
          "model_module": "@jupyter-widgets/controls",
          "model_name": "DescriptionStyleModel",
          "model_module_version": "1.5.0",
          "state": {
            "_model_module": "@jupyter-widgets/controls",
            "_model_module_version": "1.5.0",
            "_model_name": "DescriptionStyleModel",
            "_view_count": null,
            "_view_module": "@jupyter-widgets/base",
            "_view_module_version": "1.2.0",
            "_view_name": "StyleView",
            "description_width": ""
          }
        },
        "45f0b21dd4ce467cb9100645ad6f0831": {
          "model_module": "@jupyter-widgets/base",
          "model_name": "LayoutModel",
          "model_module_version": "1.2.0",
          "state": {
            "_model_module": "@jupyter-widgets/base",
            "_model_module_version": "1.2.0",
            "_model_name": "LayoutModel",
            "_view_count": null,
            "_view_module": "@jupyter-widgets/base",
            "_view_module_version": "1.2.0",
            "_view_name": "LayoutView",
            "align_content": null,
            "align_items": null,
            "align_self": null,
            "border": null,
            "bottom": null,
            "display": null,
            "flex": null,
            "flex_flow": null,
            "grid_area": null,
            "grid_auto_columns": null,
            "grid_auto_flow": null,
            "grid_auto_rows": null,
            "grid_column": null,
            "grid_gap": null,
            "grid_row": null,
            "grid_template_areas": null,
            "grid_template_columns": null,
            "grid_template_rows": null,
            "height": null,
            "justify_content": null,
            "justify_items": null,
            "left": null,
            "margin": null,
            "max_height": null,
            "max_width": null,
            "min_height": null,
            "min_width": null,
            "object_fit": null,
            "object_position": null,
            "order": null,
            "overflow": null,
            "overflow_x": null,
            "overflow_y": null,
            "padding": null,
            "right": null,
            "top": null,
            "visibility": null,
            "width": null
          }
        },
        "6559a78f686f4995a44690d945e3c501": {
          "model_module": "@jupyter-widgets/controls",
          "model_name": "ProgressStyleModel",
          "model_module_version": "1.5.0",
          "state": {
            "_model_module": "@jupyter-widgets/controls",
            "_model_module_version": "1.5.0",
            "_model_name": "ProgressStyleModel",
            "_view_count": null,
            "_view_module": "@jupyter-widgets/base",
            "_view_module_version": "1.2.0",
            "_view_name": "StyleView",
            "bar_color": null,
            "description_width": ""
          }
        },
        "7c8116a1eeee4559b4d9414d3dba7d88": {
          "model_module": "@jupyter-widgets/base",
          "model_name": "LayoutModel",
          "model_module_version": "1.2.0",
          "state": {
            "_model_module": "@jupyter-widgets/base",
            "_model_module_version": "1.2.0",
            "_model_name": "LayoutModel",
            "_view_count": null,
            "_view_module": "@jupyter-widgets/base",
            "_view_module_version": "1.2.0",
            "_view_name": "LayoutView",
            "align_content": null,
            "align_items": null,
            "align_self": null,
            "border": null,
            "bottom": null,
            "display": null,
            "flex": null,
            "flex_flow": null,
            "grid_area": null,
            "grid_auto_columns": null,
            "grid_auto_flow": null,
            "grid_auto_rows": null,
            "grid_column": null,
            "grid_gap": null,
            "grid_row": null,
            "grid_template_areas": null,
            "grid_template_columns": null,
            "grid_template_rows": null,
            "height": null,
            "justify_content": null,
            "justify_items": null,
            "left": null,
            "margin": null,
            "max_height": null,
            "max_width": null,
            "min_height": null,
            "min_width": null,
            "object_fit": null,
            "object_position": null,
            "order": null,
            "overflow": null,
            "overflow_x": null,
            "overflow_y": null,
            "padding": null,
            "right": null,
            "top": null,
            "visibility": null,
            "width": null
          }
        },
        "e113335ff25847a480df3b2a1a895aca": {
          "model_module": "@jupyter-widgets/controls",
          "model_name": "DescriptionStyleModel",
          "model_module_version": "1.5.0",
          "state": {
            "_model_module": "@jupyter-widgets/controls",
            "_model_module_version": "1.5.0",
            "_model_name": "DescriptionStyleModel",
            "_view_count": null,
            "_view_module": "@jupyter-widgets/base",
            "_view_module_version": "1.2.0",
            "_view_name": "StyleView",
            "description_width": ""
          }
        },
        "9d7218be1de640b2b0d13e4010771b77": {
          "model_module": "@jupyter-widgets/controls",
          "model_name": "HBoxModel",
          "model_module_version": "1.5.0",
          "state": {
            "_dom_classes": [],
            "_model_module": "@jupyter-widgets/controls",
            "_model_module_version": "1.5.0",
            "_model_name": "HBoxModel",
            "_view_count": null,
            "_view_module": "@jupyter-widgets/controls",
            "_view_module_version": "1.5.0",
            "_view_name": "HBoxView",
            "box_style": "",
            "children": [
              "IPY_MODEL_ab6dacea548b45d5a26d138cb64c7cdd",
              "IPY_MODEL_94fe6e4b6e8b4e369c7f60e9a22316d5",
              "IPY_MODEL_d079c83515e846c2b1f142fbdda183c8"
            ],
            "layout": "IPY_MODEL_15062341b63a437caa370e869250c8fd"
          }
        },
        "ab6dacea548b45d5a26d138cb64c7cdd": {
          "model_module": "@jupyter-widgets/controls",
          "model_name": "HTMLModel",
          "model_module_version": "1.5.0",
          "state": {
            "_dom_classes": [],
            "_model_module": "@jupyter-widgets/controls",
            "_model_module_version": "1.5.0",
            "_model_name": "HTMLModel",
            "_view_count": null,
            "_view_module": "@jupyter-widgets/controls",
            "_view_module_version": "1.5.0",
            "_view_name": "HTMLView",
            "description": "",
            "description_tooltip": null,
            "layout": "IPY_MODEL_f6d4cd442a68413ba143d8039cf7fb6f",
            "placeholder": "​",
            "style": "IPY_MODEL_b5b2aaf230af40bb8734a1c67815fcf4",
            "value": "Downloading: 100%"
          }
        },
        "94fe6e4b6e8b4e369c7f60e9a22316d5": {
          "model_module": "@jupyter-widgets/controls",
          "model_name": "FloatProgressModel",
          "model_module_version": "1.5.0",
          "state": {
            "_dom_classes": [],
            "_model_module": "@jupyter-widgets/controls",
            "_model_module_version": "1.5.0",
            "_model_name": "FloatProgressModel",
            "_view_count": null,
            "_view_module": "@jupyter-widgets/controls",
            "_view_module_version": "1.5.0",
            "_view_name": "ProgressView",
            "bar_style": "success",
            "description": "",
            "description_tooltip": null,
            "layout": "IPY_MODEL_15d87a3be38c4121b2c279e0c6f774b6",
            "max": 1197,
            "min": 0,
            "orientation": "horizontal",
            "style": "IPY_MODEL_2feef5b019cf457ebf5c30d710fa196b",
            "value": 1197
          }
        },
        "d079c83515e846c2b1f142fbdda183c8": {
          "model_module": "@jupyter-widgets/controls",
          "model_name": "HTMLModel",
          "model_module_version": "1.5.0",
          "state": {
            "_dom_classes": [],
            "_model_module": "@jupyter-widgets/controls",
            "_model_module_version": "1.5.0",
            "_model_name": "HTMLModel",
            "_view_count": null,
            "_view_module": "@jupyter-widgets/controls",
            "_view_module_version": "1.5.0",
            "_view_name": "HTMLView",
            "description": "",
            "description_tooltip": null,
            "layout": "IPY_MODEL_a63528a1c95b45fe9f09642ed6313f6f",
            "placeholder": "​",
            "style": "IPY_MODEL_62ef966d956c45cb83fcc4c91de958d0",
            "value": " 1.17k/1.17k [00:00&lt;00:00, 29.2kB/s]"
          }
        },
        "15062341b63a437caa370e869250c8fd": {
          "model_module": "@jupyter-widgets/base",
          "model_name": "LayoutModel",
          "model_module_version": "1.2.0",
          "state": {
            "_model_module": "@jupyter-widgets/base",
            "_model_module_version": "1.2.0",
            "_model_name": "LayoutModel",
            "_view_count": null,
            "_view_module": "@jupyter-widgets/base",
            "_view_module_version": "1.2.0",
            "_view_name": "LayoutView",
            "align_content": null,
            "align_items": null,
            "align_self": null,
            "border": null,
            "bottom": null,
            "display": null,
            "flex": null,
            "flex_flow": null,
            "grid_area": null,
            "grid_auto_columns": null,
            "grid_auto_flow": null,
            "grid_auto_rows": null,
            "grid_column": null,
            "grid_gap": null,
            "grid_row": null,
            "grid_template_areas": null,
            "grid_template_columns": null,
            "grid_template_rows": null,
            "height": null,
            "justify_content": null,
            "justify_items": null,
            "left": null,
            "margin": null,
            "max_height": null,
            "max_width": null,
            "min_height": null,
            "min_width": null,
            "object_fit": null,
            "object_position": null,
            "order": null,
            "overflow": null,
            "overflow_x": null,
            "overflow_y": null,
            "padding": null,
            "right": null,
            "top": null,
            "visibility": null,
            "width": null
          }
        },
        "f6d4cd442a68413ba143d8039cf7fb6f": {
          "model_module": "@jupyter-widgets/base",
          "model_name": "LayoutModel",
          "model_module_version": "1.2.0",
          "state": {
            "_model_module": "@jupyter-widgets/base",
            "_model_module_version": "1.2.0",
            "_model_name": "LayoutModel",
            "_view_count": null,
            "_view_module": "@jupyter-widgets/base",
            "_view_module_version": "1.2.0",
            "_view_name": "LayoutView",
            "align_content": null,
            "align_items": null,
            "align_self": null,
            "border": null,
            "bottom": null,
            "display": null,
            "flex": null,
            "flex_flow": null,
            "grid_area": null,
            "grid_auto_columns": null,
            "grid_auto_flow": null,
            "grid_auto_rows": null,
            "grid_column": null,
            "grid_gap": null,
            "grid_row": null,
            "grid_template_areas": null,
            "grid_template_columns": null,
            "grid_template_rows": null,
            "height": null,
            "justify_content": null,
            "justify_items": null,
            "left": null,
            "margin": null,
            "max_height": null,
            "max_width": null,
            "min_height": null,
            "min_width": null,
            "object_fit": null,
            "object_position": null,
            "order": null,
            "overflow": null,
            "overflow_x": null,
            "overflow_y": null,
            "padding": null,
            "right": null,
            "top": null,
            "visibility": null,
            "width": null
          }
        },
        "b5b2aaf230af40bb8734a1c67815fcf4": {
          "model_module": "@jupyter-widgets/controls",
          "model_name": "DescriptionStyleModel",
          "model_module_version": "1.5.0",
          "state": {
            "_model_module": "@jupyter-widgets/controls",
            "_model_module_version": "1.5.0",
            "_model_name": "DescriptionStyleModel",
            "_view_count": null,
            "_view_module": "@jupyter-widgets/base",
            "_view_module_version": "1.2.0",
            "_view_name": "StyleView",
            "description_width": ""
          }
        },
        "15d87a3be38c4121b2c279e0c6f774b6": {
          "model_module": "@jupyter-widgets/base",
          "model_name": "LayoutModel",
          "model_module_version": "1.2.0",
          "state": {
            "_model_module": "@jupyter-widgets/base",
            "_model_module_version": "1.2.0",
            "_model_name": "LayoutModel",
            "_view_count": null,
            "_view_module": "@jupyter-widgets/base",
            "_view_module_version": "1.2.0",
            "_view_name": "LayoutView",
            "align_content": null,
            "align_items": null,
            "align_self": null,
            "border": null,
            "bottom": null,
            "display": null,
            "flex": null,
            "flex_flow": null,
            "grid_area": null,
            "grid_auto_columns": null,
            "grid_auto_flow": null,
            "grid_auto_rows": null,
            "grid_column": null,
            "grid_gap": null,
            "grid_row": null,
            "grid_template_areas": null,
            "grid_template_columns": null,
            "grid_template_rows": null,
            "height": null,
            "justify_content": null,
            "justify_items": null,
            "left": null,
            "margin": null,
            "max_height": null,
            "max_width": null,
            "min_height": null,
            "min_width": null,
            "object_fit": null,
            "object_position": null,
            "order": null,
            "overflow": null,
            "overflow_x": null,
            "overflow_y": null,
            "padding": null,
            "right": null,
            "top": null,
            "visibility": null,
            "width": null
          }
        },
        "2feef5b019cf457ebf5c30d710fa196b": {
          "model_module": "@jupyter-widgets/controls",
          "model_name": "ProgressStyleModel",
          "model_module_version": "1.5.0",
          "state": {
            "_model_module": "@jupyter-widgets/controls",
            "_model_module_version": "1.5.0",
            "_model_name": "ProgressStyleModel",
            "_view_count": null,
            "_view_module": "@jupyter-widgets/base",
            "_view_module_version": "1.2.0",
            "_view_name": "StyleView",
            "bar_color": null,
            "description_width": ""
          }
        },
        "a63528a1c95b45fe9f09642ed6313f6f": {
          "model_module": "@jupyter-widgets/base",
          "model_name": "LayoutModel",
          "model_module_version": "1.2.0",
          "state": {
            "_model_module": "@jupyter-widgets/base",
            "_model_module_version": "1.2.0",
            "_model_name": "LayoutModel",
            "_view_count": null,
            "_view_module": "@jupyter-widgets/base",
            "_view_module_version": "1.2.0",
            "_view_name": "LayoutView",
            "align_content": null,
            "align_items": null,
            "align_self": null,
            "border": null,
            "bottom": null,
            "display": null,
            "flex": null,
            "flex_flow": null,
            "grid_area": null,
            "grid_auto_columns": null,
            "grid_auto_flow": null,
            "grid_auto_rows": null,
            "grid_column": null,
            "grid_gap": null,
            "grid_row": null,
            "grid_template_areas": null,
            "grid_template_columns": null,
            "grid_template_rows": null,
            "height": null,
            "justify_content": null,
            "justify_items": null,
            "left": null,
            "margin": null,
            "max_height": null,
            "max_width": null,
            "min_height": null,
            "min_width": null,
            "object_fit": null,
            "object_position": null,
            "order": null,
            "overflow": null,
            "overflow_x": null,
            "overflow_y": null,
            "padding": null,
            "right": null,
            "top": null,
            "visibility": null,
            "width": null
          }
        },
        "62ef966d956c45cb83fcc4c91de958d0": {
          "model_module": "@jupyter-widgets/controls",
          "model_name": "DescriptionStyleModel",
          "model_module_version": "1.5.0",
          "state": {
            "_model_module": "@jupyter-widgets/controls",
            "_model_module_version": "1.5.0",
            "_model_name": "DescriptionStyleModel",
            "_view_count": null,
            "_view_module": "@jupyter-widgets/base",
            "_view_module_version": "1.2.0",
            "_view_name": "StyleView",
            "description_width": ""
          }
        },
        "db212d0c29054a9aad2da4ed59a89dfa": {
          "model_module": "@jupyter-widgets/controls",
          "model_name": "HBoxModel",
          "model_module_version": "1.5.0",
          "state": {
            "_dom_classes": [],
            "_model_module": "@jupyter-widgets/controls",
            "_model_module_version": "1.5.0",
            "_model_name": "HBoxModel",
            "_view_count": null,
            "_view_module": "@jupyter-widgets/controls",
            "_view_module_version": "1.5.0",
            "_view_name": "HBoxView",
            "box_style": "",
            "children": [
              "IPY_MODEL_26e0984a4e194c68a6833ff52cf4dd09",
              "IPY_MODEL_61728fdd04a54fdaaa1a17fade9e7643",
              "IPY_MODEL_627650ee8d864bf999529c0bd27833b7"
            ],
            "layout": "IPY_MODEL_a22d1bc4c7804e45990d1c822eca3f6b"
          }
        },
        "26e0984a4e194c68a6833ff52cf4dd09": {
          "model_module": "@jupyter-widgets/controls",
          "model_name": "HTMLModel",
          "model_module_version": "1.5.0",
          "state": {
            "_dom_classes": [],
            "_model_module": "@jupyter-widgets/controls",
            "_model_module_version": "1.5.0",
            "_model_name": "HTMLModel",
            "_view_count": null,
            "_view_module": "@jupyter-widgets/controls",
            "_view_module_version": "1.5.0",
            "_view_name": "HTMLView",
            "description": "",
            "description_tooltip": null,
            "layout": "IPY_MODEL_77b51cf0a81342ad9fcb8f60e7bca29a",
            "placeholder": "​",
            "style": "IPY_MODEL_1345dccc99ae463d827e4ca034558fc0",
            "value": "Downloading: 100%"
          }
        },
        "61728fdd04a54fdaaa1a17fade9e7643": {
          "model_module": "@jupyter-widgets/controls",
          "model_name": "FloatProgressModel",
          "model_module_version": "1.5.0",
          "state": {
            "_dom_classes": [],
            "_model_module": "@jupyter-widgets/controls",
            "_model_module_version": "1.5.0",
            "_model_name": "FloatProgressModel",
            "_view_count": null,
            "_view_module": "@jupyter-widgets/controls",
            "_view_module_version": "1.5.0",
            "_view_name": "ProgressView",
            "bar_style": "success",
            "description": "",
            "description_tooltip": null,
            "layout": "IPY_MODEL_782896c1fc1b454a9f43f401dfbd3e4d",
            "max": 242065649,
            "min": 0,
            "orientation": "horizontal",
            "style": "IPY_MODEL_071a3090e69b482cac8280f7cfa975c7",
            "value": 242065649
          }
        },
        "627650ee8d864bf999529c0bd27833b7": {
          "model_module": "@jupyter-widgets/controls",
          "model_name": "HTMLModel",
          "model_module_version": "1.5.0",
          "state": {
            "_dom_classes": [],
            "_model_module": "@jupyter-widgets/controls",
            "_model_module_version": "1.5.0",
            "_model_name": "HTMLModel",
            "_view_count": null,
            "_view_module": "@jupyter-widgets/controls",
            "_view_module_version": "1.5.0",
            "_view_name": "HTMLView",
            "description": "",
            "description_tooltip": null,
            "layout": "IPY_MODEL_b76e22143e73436ba6397dd187174c7d",
            "placeholder": "​",
            "style": "IPY_MODEL_9e57517202254cbf9f309949d51ce995",
            "value": " 231M/231M [00:05&lt;00:00, 32.7MB/s]"
          }
        },
        "a22d1bc4c7804e45990d1c822eca3f6b": {
          "model_module": "@jupyter-widgets/base",
          "model_name": "LayoutModel",
          "model_module_version": "1.2.0",
          "state": {
            "_model_module": "@jupyter-widgets/base",
            "_model_module_version": "1.2.0",
            "_model_name": "LayoutModel",
            "_view_count": null,
            "_view_module": "@jupyter-widgets/base",
            "_view_module_version": "1.2.0",
            "_view_name": "LayoutView",
            "align_content": null,
            "align_items": null,
            "align_self": null,
            "border": null,
            "bottom": null,
            "display": null,
            "flex": null,
            "flex_flow": null,
            "grid_area": null,
            "grid_auto_columns": null,
            "grid_auto_flow": null,
            "grid_auto_rows": null,
            "grid_column": null,
            "grid_gap": null,
            "grid_row": null,
            "grid_template_areas": null,
            "grid_template_columns": null,
            "grid_template_rows": null,
            "height": null,
            "justify_content": null,
            "justify_items": null,
            "left": null,
            "margin": null,
            "max_height": null,
            "max_width": null,
            "min_height": null,
            "min_width": null,
            "object_fit": null,
            "object_position": null,
            "order": null,
            "overflow": null,
            "overflow_x": null,
            "overflow_y": null,
            "padding": null,
            "right": null,
            "top": null,
            "visibility": null,
            "width": null
          }
        },
        "77b51cf0a81342ad9fcb8f60e7bca29a": {
          "model_module": "@jupyter-widgets/base",
          "model_name": "LayoutModel",
          "model_module_version": "1.2.0",
          "state": {
            "_model_module": "@jupyter-widgets/base",
            "_model_module_version": "1.2.0",
            "_model_name": "LayoutModel",
            "_view_count": null,
            "_view_module": "@jupyter-widgets/base",
            "_view_module_version": "1.2.0",
            "_view_name": "LayoutView",
            "align_content": null,
            "align_items": null,
            "align_self": null,
            "border": null,
            "bottom": null,
            "display": null,
            "flex": null,
            "flex_flow": null,
            "grid_area": null,
            "grid_auto_columns": null,
            "grid_auto_flow": null,
            "grid_auto_rows": null,
            "grid_column": null,
            "grid_gap": null,
            "grid_row": null,
            "grid_template_areas": null,
            "grid_template_columns": null,
            "grid_template_rows": null,
            "height": null,
            "justify_content": null,
            "justify_items": null,
            "left": null,
            "margin": null,
            "max_height": null,
            "max_width": null,
            "min_height": null,
            "min_width": null,
            "object_fit": null,
            "object_position": null,
            "order": null,
            "overflow": null,
            "overflow_x": null,
            "overflow_y": null,
            "padding": null,
            "right": null,
            "top": null,
            "visibility": null,
            "width": null
          }
        },
        "1345dccc99ae463d827e4ca034558fc0": {
          "model_module": "@jupyter-widgets/controls",
          "model_name": "DescriptionStyleModel",
          "model_module_version": "1.5.0",
          "state": {
            "_model_module": "@jupyter-widgets/controls",
            "_model_module_version": "1.5.0",
            "_model_name": "DescriptionStyleModel",
            "_view_count": null,
            "_view_module": "@jupyter-widgets/base",
            "_view_module_version": "1.2.0",
            "_view_name": "StyleView",
            "description_width": ""
          }
        },
        "782896c1fc1b454a9f43f401dfbd3e4d": {
          "model_module": "@jupyter-widgets/base",
          "model_name": "LayoutModel",
          "model_module_version": "1.2.0",
          "state": {
            "_model_module": "@jupyter-widgets/base",
            "_model_module_version": "1.2.0",
            "_model_name": "LayoutModel",
            "_view_count": null,
            "_view_module": "@jupyter-widgets/base",
            "_view_module_version": "1.2.0",
            "_view_name": "LayoutView",
            "align_content": null,
            "align_items": null,
            "align_self": null,
            "border": null,
            "bottom": null,
            "display": null,
            "flex": null,
            "flex_flow": null,
            "grid_area": null,
            "grid_auto_columns": null,
            "grid_auto_flow": null,
            "grid_auto_rows": null,
            "grid_column": null,
            "grid_gap": null,
            "grid_row": null,
            "grid_template_areas": null,
            "grid_template_columns": null,
            "grid_template_rows": null,
            "height": null,
            "justify_content": null,
            "justify_items": null,
            "left": null,
            "margin": null,
            "max_height": null,
            "max_width": null,
            "min_height": null,
            "min_width": null,
            "object_fit": null,
            "object_position": null,
            "order": null,
            "overflow": null,
            "overflow_x": null,
            "overflow_y": null,
            "padding": null,
            "right": null,
            "top": null,
            "visibility": null,
            "width": null
          }
        },
        "071a3090e69b482cac8280f7cfa975c7": {
          "model_module": "@jupyter-widgets/controls",
          "model_name": "ProgressStyleModel",
          "model_module_version": "1.5.0",
          "state": {
            "_model_module": "@jupyter-widgets/controls",
            "_model_module_version": "1.5.0",
            "_model_name": "ProgressStyleModel",
            "_view_count": null,
            "_view_module": "@jupyter-widgets/base",
            "_view_module_version": "1.2.0",
            "_view_name": "StyleView",
            "bar_color": null,
            "description_width": ""
          }
        },
        "b76e22143e73436ba6397dd187174c7d": {
          "model_module": "@jupyter-widgets/base",
          "model_name": "LayoutModel",
          "model_module_version": "1.2.0",
          "state": {
            "_model_module": "@jupyter-widgets/base",
            "_model_module_version": "1.2.0",
            "_model_name": "LayoutModel",
            "_view_count": null,
            "_view_module": "@jupyter-widgets/base",
            "_view_module_version": "1.2.0",
            "_view_name": "LayoutView",
            "align_content": null,
            "align_items": null,
            "align_self": null,
            "border": null,
            "bottom": null,
            "display": null,
            "flex": null,
            "flex_flow": null,
            "grid_area": null,
            "grid_auto_columns": null,
            "grid_auto_flow": null,
            "grid_auto_rows": null,
            "grid_column": null,
            "grid_gap": null,
            "grid_row": null,
            "grid_template_areas": null,
            "grid_template_columns": null,
            "grid_template_rows": null,
            "height": null,
            "justify_content": null,
            "justify_items": null,
            "left": null,
            "margin": null,
            "max_height": null,
            "max_width": null,
            "min_height": null,
            "min_width": null,
            "object_fit": null,
            "object_position": null,
            "order": null,
            "overflow": null,
            "overflow_x": null,
            "overflow_y": null,
            "padding": null,
            "right": null,
            "top": null,
            "visibility": null,
            "width": null
          }
        },
        "9e57517202254cbf9f309949d51ce995": {
          "model_module": "@jupyter-widgets/controls",
          "model_name": "DescriptionStyleModel",
          "model_module_version": "1.5.0",
          "state": {
            "_model_module": "@jupyter-widgets/controls",
            "_model_module_version": "1.5.0",
            "_model_name": "DescriptionStyleModel",
            "_view_count": null,
            "_view_module": "@jupyter-widgets/base",
            "_view_module_version": "1.2.0",
            "_view_name": "StyleView",
            "description_width": ""
          }
        }
      }
    }
  },
  "cells": [
    {
      "cell_type": "markdown",
      "metadata": {
        "id": "view-in-github",
        "colab_type": "text"
      },
      "source": [
        "<a href=\"https://colab.research.google.com/github/lukassanting/Idiom-Translation/blob/main/End_To_End_Training.ipynb\" target=\"_parent\"><img src=\"https://colab.research.google.com/assets/colab-badge.svg\" alt=\"Open In Colab\"/></a>"
      ]
    },
    {
      "cell_type": "markdown",
      "source": [
        "# Training T5 - Prefix+Idiom\n",
        "\n"
      ],
      "metadata": {
        "id": "rEADq27OKFe6"
      }
    },
    {
      "cell_type": "markdown",
      "source": [
        "#0. Installs, Imports, Setup\n"
      ],
      "metadata": {
        "id": "v9dFeYBSZJJb"
      }
    },
    {
      "cell_type": "markdown",
      "source": [
        "##0.1 Import Libraries & Packages"
      ],
      "metadata": {
        "id": "I8njKcE7c2F4"
      }
    },
    {
      "cell_type": "code",
      "source": [
        "!pip install sentencepiece -q\n",
        "!pip install transformers -q\n",
        "!pip install torch -q\n",
        "!pip install rich[jupyter] -q"
      ],
      "metadata": {
        "id": "dEFESOlJb8yT",
        "colab": {
          "base_uri": "https://localhost:8080/"
        },
        "outputId": "809c89b8-1365-4a23-87ed-894cad553399"
      },
      "execution_count": 1,
      "outputs": [
        {
          "output_type": "stream",
          "name": "stdout",
          "text": [
            "\u001b[K     |████████████████████████████████| 1.2 MB 35.7 MB/s \n",
            "\u001b[K     |████████████████████████████████| 4.2 MB 6.0 MB/s \n",
            "\u001b[K     |████████████████████████████████| 6.6 MB 54.8 MB/s \n",
            "\u001b[K     |████████████████████████████████| 84 kB 2.2 MB/s \n",
            "\u001b[K     |████████████████████████████████| 596 kB 55.9 MB/s \n",
            "\u001b[K     |████████████████████████████████| 231 kB 24.4 MB/s \n",
            "\u001b[K     |████████████████████████████████| 51 kB 8.0 MB/s \n",
            "\u001b[?25h"
          ]
        }
      ]
    },
    {
      "cell_type": "code",
      "source": [
        "# Drive\n",
        "from google.colab import drive\n",
        "\n",
        "# Plots\n",
        "import IPython\n",
        "import IPython.display\n",
        "import seaborn as sns\n",
        "import matplotlib as mpl\n",
        "import matplotlib.pyplot as plt\n",
        "plt.figure(figsize=(12, 6))\n",
        "\n",
        "# Util\n",
        "import os\n",
        "import pandas as pd\n",
        "import numpy as np\n",
        "import re\n",
        "pd.set_option('display.max_rows', None)\n",
        "\n",
        "# ML\n",
        "import torch\n",
        "import torch.nn.functional as F\n",
        "from torch.utils.data import Dataset, DataLoader, RandomSampler, SequentialSampler\n",
        "\n",
        "# Importing the T5 modules from huggingface/transformers\n",
        "from transformers import T5Tokenizer, T5ForConditionalGeneration\n",
        "\n",
        "# rich: for a better display on terminal\n",
        "from rich.table import Column, Table\n",
        "from rich.text import Text\n",
        "from rich import box\n",
        "from rich.console import Console\n",
        "\n",
        "# define a rich console logger\n",
        "console = Console(record=True)\n",
        "\n",
        "# Setting up the device for GPU usage\n",
        "from torch import cuda\n",
        "device = 'cuda' if cuda.is_available() else 'cpu'"
      ],
      "metadata": {
        "colab": {
          "base_uri": "https://localhost:8080/",
          "height": 34
        },
        "id": "4mcA2ya5ZNCM",
        "outputId": "92ba7367-aab5-48f1-d914-108bbbea700e"
      },
      "execution_count": 2,
      "outputs": [
        {
          "output_type": "display_data",
          "data": {
            "text/plain": [
              "<Figure size 864x432 with 0 Axes>"
            ]
          },
          "metadata": {}
        }
      ]
    },
    {
      "cell_type": "markdown",
      "source": [
        "##0.2. Import Data"
      ],
      "metadata": {
        "id": "s3arh9WcZFww"
      }
    },
    {
      "cell_type": "markdown",
      "source": [
        "Either upload the data to the shared Google Drive and use this to download, or upload it directly yourself (whatever is easier)"
      ],
      "metadata": {
        "id": "zK4I5s9gZqxI"
      }
    },
    {
      "cell_type": "code",
      "execution_count": 3,
      "metadata": {
        "colab": {
          "base_uri": "https://localhost:8080/"
        },
        "id": "VoQUPYjsZDiq",
        "outputId": "70d51947-1ceb-428f-ca9a-b3cd87f5d8b5"
      },
      "outputs": [
        {
          "output_type": "stream",
          "name": "stdout",
          "text": [
            "Cloning into 'data'...\n",
            "remote: Enumerating objects: 83, done.\u001b[K\n",
            "remote: Total 83 (delta 0), reused 0 (delta 0), pack-reused 83\u001b[K\n",
            "Unpacking objects: 100% (83/83), done.\n"
          ]
        }
      ],
      "source": [
        "!git clone https://github.com/marziehf/IdiomTranslationDS data"
      ]
    },
    {
      "cell_type": "markdown",
      "source": [
        "##0.3 Setup functions & classes"
      ],
      "metadata": {
        "id": "xnpSL43tdGvk"
      }
    },
    {
      "cell_type": "markdown",
      "source": [
        "###0.3.1 FUNC: display_df"
      ],
      "metadata": {
        "id": "mKt7_iGUeScN"
      }
    },
    {
      "cell_type": "code",
      "source": [
        "# to display dataframe in ASCII format\n",
        "def display_df(df):\n",
        "    \"\"\"display dataframe in ASCII format\"\"\"\n",
        "\n",
        "    console = Console()\n",
        "    table = Table(\n",
        "        Column(\"source_text\", justify=\"center\"),\n",
        "        Column(\"target_text\", justify=\"center\"),\n",
        "        title=\"Sample Data\",\n",
        "        pad_edge=False,\n",
        "        box=box.ASCII,\n",
        "    )\n",
        "\n",
        "    for i, row in enumerate(df.values.tolist()):\n",
        "        table.add_row(row[0], row[1])\n",
        "\n",
        "    console.print(table)\n",
        "\n",
        "# training logger to log training progress\n",
        "training_logger = Table(\n",
        "    Column(\"Epoch\", justify=\"center\"),\n",
        "    Column(\"Steps\", justify=\"center\"),\n",
        "    Column(\"Loss\", justify=\"center\"),\n",
        "    title=\"Training Status\",\n",
        "    pad_edge=False,\n",
        "    box=box.ASCII,\n",
        ")"
      ],
      "metadata": {
        "id": "QjO6nIJGchxq"
      },
      "execution_count": 4,
      "outputs": []
    },
    {
      "cell_type": "markdown",
      "source": [
        "###0.3.2 CLASS: DataSet"
      ],
      "metadata": {
        "id": "5v2GZNnvea0H"
      }
    },
    {
      "cell_type": "markdown",
      "source": [
        "A Dataset class for reading and loading the dataset into the dataloader, and then feed it into the neural network for fine-tuning the model."
      ],
      "metadata": {
        "id": "e1KXqhYhdX_f"
      }
    },
    {
      "cell_type": "code",
      "source": [
        "class DataSet(Dataset):\n",
        "    \"\"\"\n",
        "    Creating a dataset class for reading the dataset and\n",
        "    loading it into the dataloader, to pass it to the\n",
        "    neural network for finetuning the model\n",
        "\n",
        "    \"\"\"\n",
        "\n",
        "    def __init__(\n",
        "        self, dataframe, tokenizer, source_len, target_len, source_text, target_text\n",
        "    ):\n",
        "        \"\"\"\n",
        "        Initializes a Dataset class\n",
        "\n",
        "        Args:\n",
        "            dataframe (pandas.DataFrame): Input dataframe\n",
        "            tokenizer (transformers.tokenizer): Transformers tokenizer\n",
        "            source_len (int): Max length of source text\n",
        "            target_len (int): Max length of target text\n",
        "            source_text (str): column name of source text\n",
        "            target_text (str): column name of target text\n",
        "        \"\"\"\n",
        "        self.tokenizer = tokenizer\n",
        "        self.data = dataframe\n",
        "        self.source_len = source_len\n",
        "        self.summ_len = target_len\n",
        "        self.target_text = self.data[target_text]\n",
        "        self.source_text = self.data[source_text]\n",
        "\n",
        "    def __len__(self):\n",
        "        \"\"\"returns the length of dataframe\"\"\"\n",
        "\n",
        "        return len(self.target_text)\n",
        "\n",
        "    def __getitem__(self, index):\n",
        "        \"\"\"return the input ids, attention masks and target ids\"\"\"\n",
        "\n",
        "        source_text = str(self.source_text[index])\n",
        "        target_text = str(self.target_text[index])\n",
        "\n",
        "        # cleaning data so as to ensure data is in string type\n",
        "        source_text = \" \".join(source_text.split())\n",
        "        target_text = \" \".join(target_text.split())\n",
        "\n",
        "        source = self.tokenizer.batch_encode_plus(\n",
        "            [source_text],\n",
        "            max_length=self.source_len,\n",
        "            pad_to_max_length=True,\n",
        "            truncation=True,\n",
        "            padding=\"max_length\",\n",
        "            return_tensors=\"pt\",\n",
        "        )\n",
        "        target = self.tokenizer.batch_encode_plus(\n",
        "            [target_text],\n",
        "            max_length=self.summ_len,\n",
        "            pad_to_max_length=True,\n",
        "            truncation=True,\n",
        "            padding=\"max_length\",\n",
        "            return_tensors=\"pt\",\n",
        "        )\n",
        "\n",
        "        source_ids = source[\"input_ids\"].squeeze()\n",
        "        source_mask = source[\"attention_mask\"].squeeze()\n",
        "        target_ids = target[\"input_ids\"].squeeze()\n",
        "        target_mask = target[\"attention_mask\"].squeeze()\n",
        "\n",
        "        return {\n",
        "            \"source_ids\": source_ids.to(dtype=torch.long),\n",
        "            \"source_mask\": source_mask.to(dtype=torch.long),\n",
        "            \"target_ids\": target_ids.to(dtype=torch.long),\n",
        "            \"target_ids_y\": target_ids.to(dtype=torch.long),\n",
        "        }"
      ],
      "metadata": {
        "id": "iJmDbxNbdKlP"
      },
      "execution_count": 5,
      "outputs": []
    },
    {
      "cell_type": "markdown",
      "source": [
        "###0.3.3 FUNC: train"
      ],
      "metadata": {
        "id": "rcxgONn0efui"
      }
    },
    {
      "cell_type": "markdown",
      "source": [
        "Train function, which will the put model on training mode, generate outputs and calculate loss"
      ],
      "metadata": {
        "id": "noK0ICH4eCzT"
      }
    },
    {
      "cell_type": "code",
      "source": [
        "def train(epoch, tokenizer, model, device, loader, optimizer):\n",
        "\n",
        "    \"\"\"\n",
        "    Function to be called for training with the parameters passed from main function\n",
        "\n",
        "    Takes 6 arguments as input:\n",
        "    \n",
        "        epoch: epoch\n",
        "        tokenizer: T5 tokenizer\n",
        "        model: T5 model\n",
        "        loader: Train Dataloader\n",
        "        optimizer: Optimizer\n",
        "\n",
        "    \"\"\"\n",
        "\n",
        "    model.train()\n",
        "    for _, data in enumerate(loader, 0):\n",
        "        y = data[\"target_ids\"].to(device, dtype=torch.long)\n",
        "        y_ids = y[:, :-1].contiguous()\n",
        "        lm_labels = y[:, 1:].clone().detach()\n",
        "        lm_labels[y[:, 1:] == tokenizer.pad_token_id] = -100\n",
        "        ids = data[\"source_ids\"].to(device, dtype=torch.long)\n",
        "        mask = data[\"source_mask\"].to(device, dtype=torch.long)\n",
        "\n",
        "        outputs = model(\n",
        "            input_ids=ids,\n",
        "            attention_mask=mask,\n",
        "            decoder_input_ids=y_ids,\n",
        "            labels=lm_labels,\n",
        "        )\n",
        "        loss = outputs[0]\n",
        "\n",
        "        if _ % 10 == 0:\n",
        "            training_logger.add_row(str(epoch), str(_), str(loss.item()))\n",
        "            console.print(\"Epoch: \", str(epoch), \"Steps: \", str(_), \"Loss: \",str(loss.item()))\n",
        "            #console.print(training_logger)\n",
        "\n",
        "        optimizer.zero_grad()\n",
        "        loss.backward() \n",
        "        optimizer.step()\n",
        "\n",
        "    console.print(training_logger)"
      ],
      "metadata": {
        "id": "EG5eKLajeFKX"
      },
      "execution_count": 6,
      "outputs": []
    },
    {
      "cell_type": "markdown",
      "source": [
        "###0.3.4 FUNC: validate"
      ],
      "metadata": {
        "id": "K2ChKAx-em7b"
      }
    },
    {
      "cell_type": "markdown",
      "source": [
        "Validate function is same as the Train function, but for the validation data\n",
        "\n"
      ],
      "metadata": {
        "id": "o7UaCBo7eKqX"
      }
    },
    {
      "cell_type": "code",
      "source": [
        "def validate(epoch, tokenizer, model, device, loader):\n",
        "\n",
        "  \"\"\"\n",
        "  Function to evaluate model for predictions\n",
        "\n",
        "  \"\"\"\n",
        "  model.eval()\n",
        "  predictions = []\n",
        "  actuals = []\n",
        "  with torch.no_grad():\n",
        "      for _, data in enumerate(loader, 0):\n",
        "          y = data['target_ids'].to(device, dtype = torch.long)\n",
        "          ids = data['source_ids'].to(device, dtype = torch.long)\n",
        "          mask = data['source_mask'].to(device, dtype = torch.long)\n",
        "\n",
        "          generated_ids = model.generate(\n",
        "              input_ids = ids,\n",
        "              attention_mask = mask, \n",
        "              max_length=150, \n",
        "              num_beams=2,\n",
        "              repetition_penalty=2.5, \n",
        "              length_penalty=1.0, \n",
        "              early_stopping=True\n",
        "              )\n",
        "          preds = [tokenizer.decode(g, skip_special_tokens=True, clean_up_tokenization_spaces=True) for g in generated_ids]\n",
        "          target = [tokenizer.decode(t, skip_special_tokens=True, clean_up_tokenization_spaces=True)for t in y]\n",
        "          if _%10==0:\n",
        "              console.print(f'Completed {_}')\n",
        "\n",
        "          predictions.extend(preds)\n",
        "          actuals.extend(target)\n",
        "  return predictions, actuals"
      ],
      "metadata": {
        "id": "JRHNbfg1eMlx"
      },
      "execution_count": 7,
      "outputs": []
    },
    {
      "cell_type": "markdown",
      "source": [
        "###0.3.5 FUNC: T5Trainer"
      ],
      "metadata": {
        "id": "F19iHSPfes84"
      }
    },
    {
      "cell_type": "markdown",
      "source": [
        "T5Trainer is our main function. It accepts input data, model type, model paramters to fine-tune the model. Under the hood, it utilizes, our Dataset class for data handling, train function to fine tune the model, validate to evaluate the model."
      ],
      "metadata": {
        "id": "uu9v__Wjexl1"
      }
    },
    {
      "cell_type": "code",
      "source": [
        "# CHANGED THIS to get it to work with my fixed train and validation data\n",
        "def T5Trainer(\n",
        "    train_data, val_data, source_text, target_text, model_params, output_dir=\"./outputs/\"\n",
        "):\n",
        "\n",
        "    \"\"\"\n",
        "    T5 trainer has 6 arguments:\n",
        "\n",
        "      train_data: Input dataframe of training data\n",
        "      val_data: Input dataframe of validation data\n",
        "      source_text: Column name of the input text i.e. idiomatic sentence\n",
        "      target_text: Column name of the target text i.e. literal sentence\n",
        "      model_params: T5 model parameters\n",
        "      output_dir: Output directory to save fine tuned T5 model.\n",
        "\n",
        "    \"\"\"\n",
        "\n",
        "    # Set random seeds and deterministic pytorch for reproducibility\n",
        "    torch.manual_seed(model_params[\"SEED\"])  # pytorch random seed\n",
        "    np.random.seed(model_params[\"SEED\"])  # numpy random seed\n",
        "    torch.backends.cudnn.deterministic = True\n",
        "\n",
        "    # logging\n",
        "    console.log(f\"\"\"[Model]: Loading {model_params[\"MODEL\"]}...\\n\"\"\")\n",
        "\n",
        "    # tokenzier for encoding the text\n",
        "    tokenizer = T5Tokenizer.from_pretrained(model_params[\"MODEL\"])\n",
        "\n",
        "    # Defining the model. We are using t5-base model and added a Language model layer on top for generation of Summary.\n",
        "    # Further this model is sent to device (GPU/TPU) for using the hardware.\n",
        "    model = T5ForConditionalGeneration.from_pretrained(model_params[\"MODEL\"])\n",
        "    model = model.to(device)\n",
        "\n",
        "    # logging\n",
        "    console.log(f\"[Data]: Reading data...\\n\")\n",
        "\n",
        "    # Importing the raw dataset\n",
        "    train_data = train_data[[source_text, target_text]]\n",
        "    train_data = train_data.reset_index(drop=True)\n",
        "    val_data = val_data[[source_text, target_text]]\n",
        "    val_data = val_data.reset_index(drop=True)\n",
        "\n",
        "    display_df(train_data.head(2))\n",
        "\n",
        "    # Creation of Dataset and Dataloader\n",
        "    console.print(f\"TRAIN Dataset: {train_data.shape}\")\n",
        "    console.print(f\"TEST Dataset: {val_data.shape}\\n\")\n",
        "\n",
        "    # Creating the Training and Validation dataset for further creation of Dataloader\n",
        "    training_set = DataSet(\n",
        "        train_data,\n",
        "        tokenizer,\n",
        "        model_params[\"MAX_SOURCE_TEXT_LENGTH\"],\n",
        "        model_params[\"MAX_TARGET_TEXT_LENGTH\"],\n",
        "        source_text,\n",
        "        target_text,\n",
        "    )\n",
        "    val_set = DataSet(\n",
        "        val_data,\n",
        "        tokenizer,\n",
        "        model_params[\"MAX_SOURCE_TEXT_LENGTH\"],\n",
        "        model_params[\"MAX_TARGET_TEXT_LENGTH\"],\n",
        "        source_text,\n",
        "        target_text,\n",
        "    )\n",
        "\n",
        "    # Defining the parameters for creation of dataloaders\n",
        "    train_params = {\n",
        "        \"batch_size\": model_params[\"TRAIN_BATCH_SIZE\"],\n",
        "        \"shuffle\": True,\n",
        "        \"num_workers\": 0,\n",
        "    }\n",
        "\n",
        "    val_params = {\n",
        "        \"batch_size\": model_params[\"VALID_BATCH_SIZE\"],\n",
        "        \"shuffle\": False,\n",
        "        \"num_workers\": 0,\n",
        "    }\n",
        "\n",
        "    # Creation of Dataloaders for testing and validation. This will be used down for training and validation stage for the model.\n",
        "    training_loader = DataLoader(training_set, **train_params)\n",
        "    val_loader = DataLoader(val_set, **val_params)\n",
        "\n",
        "    # Defining the optimizer that will be used to tune the weights of the network in the training session.\n",
        "    optimizer = torch.optim.Adam(\n",
        "        params=model.parameters(), lr=model_params[\"LEARNING_RATE\"]\n",
        "    )\n",
        "\n",
        "    # Training loop\n",
        "    console.log(f\"[Initiating Fine Tuning]...\\n\")\n",
        "\n",
        "    for epoch in range(model_params[\"TRAIN_EPOCHS\"]):\n",
        "        train(epoch, tokenizer, model, device, training_loader, optimizer)\n",
        "\n",
        "    console.log(f\"[Saving Model]...\\n\")\n",
        "    # Saving the model after training\n",
        "    path = os.path.join(output_dir, \"model_files\")\n",
        "    model.save_pretrained(path)\n",
        "    tokenizer.save_pretrained(path)\n",
        "\n",
        "    # evaluating validation dataset\n",
        "    console.log(f\"[Initiating Validation]...\\n\")\n",
        "    for epoch in range(model_params[\"VAL_EPOCHS\"]):\n",
        "        predictions, actuals = validate(epoch, tokenizer, model, device, val_loader)\n",
        "        final_df = pd.DataFrame({\"Input\": val_data[source_text], \"Generated Text\": predictions, \"Actual Text\": actuals})\n",
        "        final_df.to_csv(os.path.join(output_dir, \"predictions.csv\"))\n",
        "\n",
        "    console.save_text(os.path.join(output_dir, \"logs.txt\"))\n",
        "\n",
        "    console.log(f\"[Validation Completed.]\\n\")\n",
        "    console.print(\n",
        "        f\"\"\"[Model] Model saved @ {os.path.join(output_dir, \"model_files\")}\\n\"\"\"\n",
        "    )\n",
        "    console.print(\n",
        "        f\"\"\"[Validation] Generation on Validation data saved @ {os.path.join(output_dir,'predictions.csv')}\\n\"\"\"\n",
        "    )\n",
        "    console.print(f\"\"\"[Logs] Logs saved @ {os.path.join(output_dir,'logs.txt')}\\n\"\"\")"
      ],
      "metadata": {
        "id": "cDZUWpwKev_4"
      },
      "execution_count": 8,
      "outputs": []
    },
    {
      "cell_type": "markdown",
      "source": [
        "# 1. Processing Data"
      ],
      "metadata": {
        "id": "FcKQWqxse_q6"
      }
    },
    {
      "cell_type": "code",
      "source": [
        "def clean_dataset(data):\n",
        "  data_clean = data.copy(deep=True)\n",
        "  for i in range(len(data_clean.columns)):\n",
        "    data_clean.iloc[:,i] = data_clean.iloc[:,i].apply(lambda x: re.sub('&apos;', '\\'', x))\n",
        "    data_clean.iloc[:,i] = data_clean.iloc[:,i].apply(lambda x: re.sub('&quot;', '\\\"', x))\n",
        "    data_clean.iloc[:,i] = data_clean.iloc[:,i].apply(lambda x: re.sub('&#124;', '|', x))\n",
        "    data_clean.iloc[:,i] = data_clean.iloc[:,i].apply(lambda x: re.sub('&#93;', ']', x))\n",
        "    data_clean.iloc[:,i] = data_clean.iloc[:,i].apply(lambda x: re.sub('&#91;', '[', x))\n",
        "    data_clean.iloc[:,i] = data_clean.iloc[:,i].apply(lambda x: re.sub('&gt;', '>', x))\n",
        "    data_clean.iloc[:,i] = data_clean.iloc[:,i].apply(lambda x: re.sub('&lt;', '<', x))\n",
        "\n",
        "  return data_clean"
      ],
      "metadata": {
        "id": "7WMjGu0gm7L9"
      },
      "execution_count": 9,
      "outputs": []
    },
    {
      "cell_type": "code",
      "source": [
        "base_path=\"data/en-de/\"\n",
        "en = pd.read_csv(base_path+'idiom_trainplus.en',sep='\\n', header=None,names=['en'])\n",
        "de = pd.read_csv(base_path+'idiom_trainplus.de',sep='\\n', header=None,names=['de'])\n",
        "info = pd.read_csv(base_path+'idiom_trainplus.info',sep='\\t',header=None,names=[\"spread\", \"en_idiom\", \"de_idiom\",'frequency'])\n",
        "train_data = pd.concat([en,de,info],axis=1)\n",
        "train_data.columns = ['input','target',\"spread\", \"en_idiom\", \"de_idiom\",'frequency']\n",
        "train_data = train_data.drop(['spread','frequency',\"en_idiom\", \"de_idiom\"],axis=1)\n",
        "\n",
        "en = pd.read_csv(base_path+'idiom_test.en',sep='\\n', header=None,names=['en'])\n",
        "de = pd.read_csv(base_path+'idiom_test.de',sep='\\n', header=None,names=['de'])\n",
        "test_data = pd.concat([en,de],axis=1)\n",
        "test_data.columns = ['input','target']\n",
        "\n",
        "train_data = clean_dataset(train_data)\n",
        "test_data = clean_dataset(test_data)\n",
        "\n",
        "train_data['input'] = 'translate to german: '+ train_data['input']\n",
        "test_data['input'] = 'translate to german: '+ test_data['input']\n",
        "\n",
        "from sklearn.model_selection import train_test_split\n",
        "\n",
        "train_data,val_data=train_test_split(train_data, test_size=0.15, random_state=42)"
      ],
      "metadata": {
        "id": "ykw-EnjEZYxV"
      },
      "execution_count": 10,
      "outputs": []
    },
    {
      "cell_type": "code",
      "source": [
        "train_data.head()"
      ],
      "metadata": {
        "colab": {
          "base_uri": "https://localhost:8080/",
          "height": 206
        },
        "id": "AdFqlHrvZ7Oa",
        "outputId": "b6d9b33d-0e6f-4a05-cceb-d1c0eaa8ae39"
      },
      "execution_count": 11,
      "outputs": [
        {
          "output_type": "execute_result",
          "data": {
            "text/plain": [
              "                                                  input  \\\n",
              "1080  translate to german: EU integration is like a ...   \n",
              "203   translate to german: Whenever we go to a West ...   \n",
              "174   translate to german: I hope that the Irish pre...   \n",
              "772   translate to german: In a nutshell it would in...   \n",
              "120   translate to german: Very well located , easy ...   \n",
              "\n",
              "                                                 target  \n",
              "1080  Die Integration in die EU ist wie Tangotanzen ...  \n",
              "203   Jedes Mal , wenn wir in westafrikanische Lände...  \n",
              "174   Ich möchte , daß die irische Präsidentschaft i...  \n",
              "772   Kurz gesagt würde es die Belastung für den bri...  \n",
              "120   Die Mitarbeiter waren freundlich und das Hotel...  "
            ],
            "text/html": [
              "\n",
              "  <div id=\"df-1d7d07d5-54de-418d-abb3-503acb6636d1\">\n",
              "    <div class=\"colab-df-container\">\n",
              "      <div>\n",
              "<style scoped>\n",
              "    .dataframe tbody tr th:only-of-type {\n",
              "        vertical-align: middle;\n",
              "    }\n",
              "\n",
              "    .dataframe tbody tr th {\n",
              "        vertical-align: top;\n",
              "    }\n",
              "\n",
              "    .dataframe thead th {\n",
              "        text-align: right;\n",
              "    }\n",
              "</style>\n",
              "<table border=\"1\" class=\"dataframe\">\n",
              "  <thead>\n",
              "    <tr style=\"text-align: right;\">\n",
              "      <th></th>\n",
              "      <th>input</th>\n",
              "      <th>target</th>\n",
              "    </tr>\n",
              "  </thead>\n",
              "  <tbody>\n",
              "    <tr>\n",
              "      <th>1080</th>\n",
              "      <td>translate to german: EU integration is like a ...</td>\n",
              "      <td>Die Integration in die EU ist wie Tangotanzen ...</td>\n",
              "    </tr>\n",
              "    <tr>\n",
              "      <th>203</th>\n",
              "      <td>translate to german: Whenever we go to a West ...</td>\n",
              "      <td>Jedes Mal , wenn wir in westafrikanische Lände...</td>\n",
              "    </tr>\n",
              "    <tr>\n",
              "      <th>174</th>\n",
              "      <td>translate to german: I hope that the Irish pre...</td>\n",
              "      <td>Ich möchte , daß die irische Präsidentschaft i...</td>\n",
              "    </tr>\n",
              "    <tr>\n",
              "      <th>772</th>\n",
              "      <td>translate to german: In a nutshell it would in...</td>\n",
              "      <td>Kurz gesagt würde es die Belastung für den bri...</td>\n",
              "    </tr>\n",
              "    <tr>\n",
              "      <th>120</th>\n",
              "      <td>translate to german: Very well located , easy ...</td>\n",
              "      <td>Die Mitarbeiter waren freundlich und das Hotel...</td>\n",
              "    </tr>\n",
              "  </tbody>\n",
              "</table>\n",
              "</div>\n",
              "      <button class=\"colab-df-convert\" onclick=\"convertToInteractive('df-1d7d07d5-54de-418d-abb3-503acb6636d1')\"\n",
              "              title=\"Convert this dataframe to an interactive table.\"\n",
              "              style=\"display:none;\">\n",
              "        \n",
              "  <svg xmlns=\"http://www.w3.org/2000/svg\" height=\"24px\"viewBox=\"0 0 24 24\"\n",
              "       width=\"24px\">\n",
              "    <path d=\"M0 0h24v24H0V0z\" fill=\"none\"/>\n",
              "    <path d=\"M18.56 5.44l.94 2.06.94-2.06 2.06-.94-2.06-.94-.94-2.06-.94 2.06-2.06.94zm-11 1L8.5 8.5l.94-2.06 2.06-.94-2.06-.94L8.5 2.5l-.94 2.06-2.06.94zm10 10l.94 2.06.94-2.06 2.06-.94-2.06-.94-.94-2.06-.94 2.06-2.06.94z\"/><path d=\"M17.41 7.96l-1.37-1.37c-.4-.4-.92-.59-1.43-.59-.52 0-1.04.2-1.43.59L10.3 9.45l-7.72 7.72c-.78.78-.78 2.05 0 2.83L4 21.41c.39.39.9.59 1.41.59.51 0 1.02-.2 1.41-.59l7.78-7.78 2.81-2.81c.8-.78.8-2.07 0-2.86zM5.41 20L4 18.59l7.72-7.72 1.47 1.35L5.41 20z\"/>\n",
              "  </svg>\n",
              "      </button>\n",
              "      \n",
              "  <style>\n",
              "    .colab-df-container {\n",
              "      display:flex;\n",
              "      flex-wrap:wrap;\n",
              "      gap: 12px;\n",
              "    }\n",
              "\n",
              "    .colab-df-convert {\n",
              "      background-color: #E8F0FE;\n",
              "      border: none;\n",
              "      border-radius: 50%;\n",
              "      cursor: pointer;\n",
              "      display: none;\n",
              "      fill: #1967D2;\n",
              "      height: 32px;\n",
              "      padding: 0 0 0 0;\n",
              "      width: 32px;\n",
              "    }\n",
              "\n",
              "    .colab-df-convert:hover {\n",
              "      background-color: #E2EBFA;\n",
              "      box-shadow: 0px 1px 2px rgba(60, 64, 67, 0.3), 0px 1px 3px 1px rgba(60, 64, 67, 0.15);\n",
              "      fill: #174EA6;\n",
              "    }\n",
              "\n",
              "    [theme=dark] .colab-df-convert {\n",
              "      background-color: #3B4455;\n",
              "      fill: #D2E3FC;\n",
              "    }\n",
              "\n",
              "    [theme=dark] .colab-df-convert:hover {\n",
              "      background-color: #434B5C;\n",
              "      box-shadow: 0px 1px 3px 1px rgba(0, 0, 0, 0.15);\n",
              "      filter: drop-shadow(0px 1px 2px rgba(0, 0, 0, 0.3));\n",
              "      fill: #FFFFFF;\n",
              "    }\n",
              "  </style>\n",
              "\n",
              "      <script>\n",
              "        const buttonEl =\n",
              "          document.querySelector('#df-1d7d07d5-54de-418d-abb3-503acb6636d1 button.colab-df-convert');\n",
              "        buttonEl.style.display =\n",
              "          google.colab.kernel.accessAllowed ? 'block' : 'none';\n",
              "\n",
              "        async function convertToInteractive(key) {\n",
              "          const element = document.querySelector('#df-1d7d07d5-54de-418d-abb3-503acb6636d1');\n",
              "          const dataTable =\n",
              "            await google.colab.kernel.invokeFunction('convertToInteractive',\n",
              "                                                     [key], {});\n",
              "          if (!dataTable) return;\n",
              "\n",
              "          const docLinkHtml = 'Like what you see? Visit the ' +\n",
              "            '<a target=\"_blank\" href=https://colab.research.google.com/notebooks/data_table.ipynb>data table notebook</a>'\n",
              "            + ' to learn more about interactive tables.';\n",
              "          element.innerHTML = '';\n",
              "          dataTable['output_type'] = 'display_data';\n",
              "          await google.colab.output.renderOutput(dataTable, element);\n",
              "          const docLink = document.createElement('div');\n",
              "          docLink.innerHTML = docLinkHtml;\n",
              "          element.appendChild(docLink);\n",
              "        }\n",
              "      </script>\n",
              "    </div>\n",
              "  </div>\n",
              "  "
            ]
          },
          "metadata": {},
          "execution_count": 11
        }
      ]
    },
    {
      "cell_type": "code",
      "source": [
        "test_data.head()"
      ],
      "metadata": {
        "colab": {
          "base_uri": "https://localhost:8080/",
          "height": 206
        },
        "id": "v4j8MNPtN5YU",
        "outputId": "0fa2f43c-ab99-4ac5-d167-7b2861bd2e0c"
      },
      "execution_count": 12,
      "outputs": [
        {
          "output_type": "execute_result",
          "data": {
            "text/plain": [
              "                                               input  \\\n",
              "0  translate to german: In this day and age , whe...   \n",
              "1  translate to german: In Romania , the election...   \n",
              "2  translate to german: Let us work to close the ...   \n",
              "3  translate to german: The region is easily reac...   \n",
              "4  translate to german: I cannot enter into debat...   \n",
              "\n",
              "                                              target  \n",
              "0  In einer Zeit wie dieser , in der viele offens...  \n",
              "1  In Rumänien wird der Wahlkampf die Chance biet...  \n",
              "2  Gemeinsam sollten wir wirksam die Schlupflöche...  \n",
              "3  Das Gebiet ist mit der Eisenbahn erreichbar , ...  \n",
              "4  Ich kann mich auf keine Diskussion einlassen ,...  "
            ],
            "text/html": [
              "\n",
              "  <div id=\"df-7f0b3e86-4419-4a39-b7d5-040d5dd357d9\">\n",
              "    <div class=\"colab-df-container\">\n",
              "      <div>\n",
              "<style scoped>\n",
              "    .dataframe tbody tr th:only-of-type {\n",
              "        vertical-align: middle;\n",
              "    }\n",
              "\n",
              "    .dataframe tbody tr th {\n",
              "        vertical-align: top;\n",
              "    }\n",
              "\n",
              "    .dataframe thead th {\n",
              "        text-align: right;\n",
              "    }\n",
              "</style>\n",
              "<table border=\"1\" class=\"dataframe\">\n",
              "  <thead>\n",
              "    <tr style=\"text-align: right;\">\n",
              "      <th></th>\n",
              "      <th>input</th>\n",
              "      <th>target</th>\n",
              "    </tr>\n",
              "  </thead>\n",
              "  <tbody>\n",
              "    <tr>\n",
              "      <th>0</th>\n",
              "      <td>translate to german: In this day and age , whe...</td>\n",
              "      <td>In einer Zeit wie dieser , in der viele offens...</td>\n",
              "    </tr>\n",
              "    <tr>\n",
              "      <th>1</th>\n",
              "      <td>translate to german: In Romania , the election...</td>\n",
              "      <td>In Rumänien wird der Wahlkampf die Chance biet...</td>\n",
              "    </tr>\n",
              "    <tr>\n",
              "      <th>2</th>\n",
              "      <td>translate to german: Let us work to close the ...</td>\n",
              "      <td>Gemeinsam sollten wir wirksam die Schlupflöche...</td>\n",
              "    </tr>\n",
              "    <tr>\n",
              "      <th>3</th>\n",
              "      <td>translate to german: The region is easily reac...</td>\n",
              "      <td>Das Gebiet ist mit der Eisenbahn erreichbar , ...</td>\n",
              "    </tr>\n",
              "    <tr>\n",
              "      <th>4</th>\n",
              "      <td>translate to german: I cannot enter into debat...</td>\n",
              "      <td>Ich kann mich auf keine Diskussion einlassen ,...</td>\n",
              "    </tr>\n",
              "  </tbody>\n",
              "</table>\n",
              "</div>\n",
              "      <button class=\"colab-df-convert\" onclick=\"convertToInteractive('df-7f0b3e86-4419-4a39-b7d5-040d5dd357d9')\"\n",
              "              title=\"Convert this dataframe to an interactive table.\"\n",
              "              style=\"display:none;\">\n",
              "        \n",
              "  <svg xmlns=\"http://www.w3.org/2000/svg\" height=\"24px\"viewBox=\"0 0 24 24\"\n",
              "       width=\"24px\">\n",
              "    <path d=\"M0 0h24v24H0V0z\" fill=\"none\"/>\n",
              "    <path d=\"M18.56 5.44l.94 2.06.94-2.06 2.06-.94-2.06-.94-.94-2.06-.94 2.06-2.06.94zm-11 1L8.5 8.5l.94-2.06 2.06-.94-2.06-.94L8.5 2.5l-.94 2.06-2.06.94zm10 10l.94 2.06.94-2.06 2.06-.94-2.06-.94-.94-2.06-.94 2.06-2.06.94z\"/><path d=\"M17.41 7.96l-1.37-1.37c-.4-.4-.92-.59-1.43-.59-.52 0-1.04.2-1.43.59L10.3 9.45l-7.72 7.72c-.78.78-.78 2.05 0 2.83L4 21.41c.39.39.9.59 1.41.59.51 0 1.02-.2 1.41-.59l7.78-7.78 2.81-2.81c.8-.78.8-2.07 0-2.86zM5.41 20L4 18.59l7.72-7.72 1.47 1.35L5.41 20z\"/>\n",
              "  </svg>\n",
              "      </button>\n",
              "      \n",
              "  <style>\n",
              "    .colab-df-container {\n",
              "      display:flex;\n",
              "      flex-wrap:wrap;\n",
              "      gap: 12px;\n",
              "    }\n",
              "\n",
              "    .colab-df-convert {\n",
              "      background-color: #E8F0FE;\n",
              "      border: none;\n",
              "      border-radius: 50%;\n",
              "      cursor: pointer;\n",
              "      display: none;\n",
              "      fill: #1967D2;\n",
              "      height: 32px;\n",
              "      padding: 0 0 0 0;\n",
              "      width: 32px;\n",
              "    }\n",
              "\n",
              "    .colab-df-convert:hover {\n",
              "      background-color: #E2EBFA;\n",
              "      box-shadow: 0px 1px 2px rgba(60, 64, 67, 0.3), 0px 1px 3px 1px rgba(60, 64, 67, 0.15);\n",
              "      fill: #174EA6;\n",
              "    }\n",
              "\n",
              "    [theme=dark] .colab-df-convert {\n",
              "      background-color: #3B4455;\n",
              "      fill: #D2E3FC;\n",
              "    }\n",
              "\n",
              "    [theme=dark] .colab-df-convert:hover {\n",
              "      background-color: #434B5C;\n",
              "      box-shadow: 0px 1px 3px 1px rgba(0, 0, 0, 0.15);\n",
              "      filter: drop-shadow(0px 1px 2px rgba(0, 0, 0, 0.3));\n",
              "      fill: #FFFFFF;\n",
              "    }\n",
              "  </style>\n",
              "\n",
              "      <script>\n",
              "        const buttonEl =\n",
              "          document.querySelector('#df-7f0b3e86-4419-4a39-b7d5-040d5dd357d9 button.colab-df-convert');\n",
              "        buttonEl.style.display =\n",
              "          google.colab.kernel.accessAllowed ? 'block' : 'none';\n",
              "\n",
              "        async function convertToInteractive(key) {\n",
              "          const element = document.querySelector('#df-7f0b3e86-4419-4a39-b7d5-040d5dd357d9');\n",
              "          const dataTable =\n",
              "            await google.colab.kernel.invokeFunction('convertToInteractive',\n",
              "                                                     [key], {});\n",
              "          if (!dataTable) return;\n",
              "\n",
              "          const docLinkHtml = 'Like what you see? Visit the ' +\n",
              "            '<a target=\"_blank\" href=https://colab.research.google.com/notebooks/data_table.ipynb>data table notebook</a>'\n",
              "            + ' to learn more about interactive tables.';\n",
              "          element.innerHTML = '';\n",
              "          dataTable['output_type'] = 'display_data';\n",
              "          await google.colab.output.renderOutput(dataTable, element);\n",
              "          const docLink = document.createElement('div');\n",
              "          docLink.innerHTML = docLinkHtml;\n",
              "          element.appendChild(docLink);\n",
              "        }\n",
              "      </script>\n",
              "    </div>\n",
              "  </div>\n",
              "  "
            ]
          },
          "metadata": {},
          "execution_count": 12
        }
      ]
    },
    {
      "cell_type": "code",
      "source": [
        "# Check max length\n",
        "lengths_train_in = train_data[\"input\"].str.split(\" \")\n",
        "lengths_test_in = test_data[\"input\"].str.split(\" \")\n",
        "lengths_val_in = val_data[\"input\"].str.split(\" \")\n",
        "\n",
        "print(\"Max number of tokens input = \", max(lengths_train_in.str.len().max(),lengths_test_in.str.len().max()))\n",
        "\n",
        "lengths_train_tar = train_data[\"target\"].str.split(\" \")\n",
        "lengths_test_tar = test_data[\"target\"].str.split(\" \")\n",
        "lengths_val_tar = val_data[\"target\"].str.split(\" \")\n",
        "\n",
        "print(\"Max number of tokens target = \", max(lengths_train_tar.str.len().max(),lengths_test_tar.str.len().max()))"
      ],
      "metadata": {
        "id": "3InVoeHi9Wyh",
        "colab": {
          "base_uri": "https://localhost:8080/"
        },
        "outputId": "e25bb34c-a3f7-4983-bafb-f82073bbeb52"
      },
      "execution_count": 13,
      "outputs": [
        {
          "output_type": "stream",
          "name": "stdout",
          "text": [
            "Max number of tokens input =  168\n",
            "Max number of tokens target =  144\n"
          ]
        }
      ]
    },
    {
      "cell_type": "markdown",
      "source": [
        "#2. Training Model"
      ],
      "metadata": {
        "id": "TMQJTw9DfJIb"
      }
    },
    {
      "cell_type": "code",
      "source": [
        "# let's define model parameters specific to T5\n",
        "model_params = {\n",
        "    \"MODEL\": \"t5-small\",  # model_type: t5-base/t5-small/t5-large\n",
        "    \"TRAIN_BATCH_SIZE\": 4,  # training batch size\n",
        "    \"VALID_BATCH_SIZE\": 4,  # validation batch size\n",
        "    \"TRAIN_EPOCHS\": 50,  # number of training epochs\n",
        "    \"VAL_EPOCHS\": 1,  # number of validation epochs\n",
        "    \"LEARNING_RATE\": 1e-4,  # learning rate\n",
        "    \"MAX_SOURCE_TEXT_LENGTH\": 156,  # max length of source text\n",
        "    \"MAX_TARGET_TEXT_LENGTH\": 145,  # max length of target text\n",
        "    \"SEED\": 42,  # set seed for reproducibility\n",
        "}\n"
      ],
      "metadata": {
        "id": "UypLE5nTfK5M"
      },
      "execution_count": 14,
      "outputs": []
    },
    {
      "cell_type": "code",
      "source": [
        "#df_subset = train_data.head(100)\n",
        "#df_subset\n"
      ],
      "metadata": {
        "id": "6DgnTr-gMlNA"
      },
      "execution_count": 15,
      "outputs": []
    },
    {
      "cell_type": "code",
      "source": [
        "%mkdir outputs"
      ],
      "metadata": {
        "id": "yAV-Zze-YoZh"
      },
      "execution_count": 16,
      "outputs": []
    },
    {
      "cell_type": "code",
      "source": [
        "# Train model\n",
        "T5Trainer(train_data=train_data, val_data= val_data, source_text=\"input\", target_text=\"target\", model_params=model_params, output_dir=\"outputs\")"
      ],
      "metadata": {
        "colab": {
          "base_uri": "https://localhost:8080/",
          "height": 1000,
          "referenced_widgets": [
            "12d137b2a4ee4fab87d06b17a8977d16",
            "de2f3a04cd42405a93c80ee5c8bd1e13",
            "adce69cdb2964adb88a69fe106b964ae",
            "f64306f08df64f2cb7a52b329f960c2e",
            "a06639a4401140759d64649c0164e725",
            "a1d83c5d97734cd4aba7c5797a3c46c5",
            "9699588eb02040f79b77d6fbac288e79",
            "45f0b21dd4ce467cb9100645ad6f0831",
            "6559a78f686f4995a44690d945e3c501",
            "7c8116a1eeee4559b4d9414d3dba7d88",
            "e113335ff25847a480df3b2a1a895aca",
            "9d7218be1de640b2b0d13e4010771b77",
            "ab6dacea548b45d5a26d138cb64c7cdd",
            "94fe6e4b6e8b4e369c7f60e9a22316d5",
            "d079c83515e846c2b1f142fbdda183c8",
            "15062341b63a437caa370e869250c8fd",
            "f6d4cd442a68413ba143d8039cf7fb6f",
            "b5b2aaf230af40bb8734a1c67815fcf4",
            "15d87a3be38c4121b2c279e0c6f774b6",
            "2feef5b019cf457ebf5c30d710fa196b",
            "a63528a1c95b45fe9f09642ed6313f6f",
            "62ef966d956c45cb83fcc4c91de958d0",
            "db212d0c29054a9aad2da4ed59a89dfa",
            "26e0984a4e194c68a6833ff52cf4dd09",
            "61728fdd04a54fdaaa1a17fade9e7643",
            "627650ee8d864bf999529c0bd27833b7",
            "a22d1bc4c7804e45990d1c822eca3f6b",
            "77b51cf0a81342ad9fcb8f60e7bca29a",
            "1345dccc99ae463d827e4ca034558fc0",
            "782896c1fc1b454a9f43f401dfbd3e4d",
            "071a3090e69b482cac8280f7cfa975c7",
            "b76e22143e73436ba6397dd187174c7d",
            "9e57517202254cbf9f309949d51ce995"
          ]
        },
        "id": "n6cgmoYBaQV7",
        "outputId": "32ace4ef-1745-4dcb-fcf4-7f418b6b5aa9"
      },
      "execution_count": null,
      "outputs": [
        {
          "output_type": "display_data",
          "data": {
            "text/plain": [
              "\u001b[2;36m[17:51:55]\u001b[0m\u001b[2;36m \u001b[0m\u001b[1m[\u001b[0mModel\u001b[1m]\u001b[0m: Loading t5-small\u001b[33m...\u001b[0m                     \u001b[2m<ipython-input-8-428ac7aee7a9>\u001b[0m\u001b[2m:\u001b[0m\u001b[2m24\u001b[0m\n",
              "\u001b[2;36m           \u001b[0m                                                 \u001b[2m                                 \u001b[0m\n"
            ],
            "text/html": [
              "<pre style=\"white-space:pre;overflow-x:auto;line-height:normal;font-family:Menlo,'DejaVu Sans Mono',consolas,'Courier New',monospace\"><span style=\"color: #7fbfbf; text-decoration-color: #7fbfbf\">[17:51:55] </span><span style=\"font-weight: bold\">[</span>Model<span style=\"font-weight: bold\">]</span>: Loading t5-small<span style=\"color: #808000; text-decoration-color: #808000\">...</span>                     <span style=\"color: #7f7f7f; text-decoration-color: #7f7f7f\">&lt;ipython-input-8-428ac7aee7a9&gt;:24</span>\n",
              "<span style=\"color: #7fbfbf; text-decoration-color: #7fbfbf\">           </span>                                                 <span style=\"color: #7f7f7f; text-decoration-color: #7f7f7f\">                                 </span>\n",
              "</pre>\n"
            ]
          },
          "metadata": {}
        },
        {
          "output_type": "display_data",
          "data": {
            "text/plain": [
              "Downloading:   0%|          | 0.00/773k [00:00<?, ?B/s]"
            ],
            "application/vnd.jupyter.widget-view+json": {
              "version_major": 2,
              "version_minor": 0,
              "model_id": "12d137b2a4ee4fab87d06b17a8977d16"
            }
          },
          "metadata": {}
        },
        {
          "output_type": "display_data",
          "data": {
            "text/plain": [
              "Downloading:   0%|          | 0.00/1.17k [00:00<?, ?B/s]"
            ],
            "application/vnd.jupyter.widget-view+json": {
              "version_major": 2,
              "version_minor": 0,
              "model_id": "9d7218be1de640b2b0d13e4010771b77"
            }
          },
          "metadata": {}
        },
        {
          "output_type": "stream",
          "name": "stderr",
          "text": [
            "/usr/local/lib/python3.7/dist-packages/transformers/models/t5/tokenization_t5.py:169: FutureWarning: This tokenizer was incorrectly instantiated with a model max length of 512 which will be corrected in Transformers v5.\n",
            "For now, this behavior is kept to avoid breaking backwards compatibility when padding/encoding with `truncation is True`.\n",
            "- Be aware that you SHOULD NOT rely on t5-small automatically truncating your input to 512 when padding/encoding.\n",
            "- If you want to encode/pad to sequences longer than 512 you can either instantiate this tokenizer with `model_max_length` or pass `max_length` when encoding/padding.\n",
            "- To avoid this warning, please instantiate this tokenizer with `model_max_length` set to your preferred value.\n",
            "  FutureWarning,\n"
          ]
        },
        {
          "output_type": "display_data",
          "data": {
            "text/plain": [
              "Downloading:   0%|          | 0.00/231M [00:00<?, ?B/s]"
            ],
            "application/vnd.jupyter.widget-view+json": {
              "version_major": 2,
              "version_minor": 0,
              "model_id": "db212d0c29054a9aad2da4ed59a89dfa"
            }
          },
          "metadata": {}
        },
        {
          "output_type": "display_data",
          "data": {
            "text/plain": [
              "\u001b[2;36m[17:52:30]\u001b[0m\u001b[2;36m \u001b[0m\u001b[1m[\u001b[0mData\u001b[1m]\u001b[0m: Reading data\u001b[33m...\u001b[0m                          \u001b[2m<ipython-input-8-428ac7aee7a9>\u001b[0m\u001b[2m:\u001b[0m\u001b[2m35\u001b[0m\n",
              "\u001b[2;36m           \u001b[0m                                                 \u001b[2m                                 \u001b[0m\n"
            ],
            "text/html": [
              "<pre style=\"white-space:pre;overflow-x:auto;line-height:normal;font-family:Menlo,'DejaVu Sans Mono',consolas,'Courier New',monospace\"><span style=\"color: #7fbfbf; text-decoration-color: #7fbfbf\">[17:52:30] </span><span style=\"font-weight: bold\">[</span>Data<span style=\"font-weight: bold\">]</span>: Reading data<span style=\"color: #808000; text-decoration-color: #808000\">...</span>                          <span style=\"color: #7f7f7f; text-decoration-color: #7f7f7f\">&lt;ipython-input-8-428ac7aee7a9&gt;:35</span>\n",
              "<span style=\"color: #7fbfbf; text-decoration-color: #7fbfbf\">           </span>                                                 <span style=\"color: #7f7f7f; text-decoration-color: #7f7f7f\">                                 </span>\n",
              "</pre>\n"
            ]
          },
          "metadata": {}
        },
        {
          "output_type": "display_data",
          "data": {
            "text/plain": [
              "\u001b[3m                                         Sample Data                                         \u001b[0m\n",
              "+-------------------------------------------------------------------------------------------+\n",
              "|\u001b[1m                source_text                 \u001b[0m\u001b[1m \u001b[0m|\u001b[1m \u001b[0m\u001b[1m                target_text                 \u001b[0m|\n",
              "|---------------------------------------------+---------------------------------------------|\n",
              "|translate to german: EU integration is like  |      Die Integration in die EU ist wie      |\n",
              "|  a tango . It takes two for it to work .    |  Tangotanzen : Man braucht dazu immer zwei  |\n",
              "|                                             |                  Partner .                  |\n",
              "|  translate to german: Whenever we go to a   |   Jedes Mal , wenn wir in westafrikanische  |\n",
              "|West African country , we can see the extent | Länder kommen , stellen wir fest , wie groß |\n",
              "| to which French influence is still present  |  der französische Einfluss dort noch ist .  |\n",
              "|                  there .                    |                                             |\n",
              "+-------------------------------------------------------------------------------------------+\n"
            ],
            "text/html": [
              "<pre style=\"white-space:pre;overflow-x:auto;line-height:normal;font-family:Menlo,'DejaVu Sans Mono',consolas,'Courier New',monospace\"><span style=\"font-style: italic\">                                         Sample Data                                         </span>\n",
              "+-------------------------------------------------------------------------------------------+\n",
              "|<span style=\"font-weight: bold\">                source_text                  </span>|<span style=\"font-weight: bold\">                 target_text                 </span>|\n",
              "|---------------------------------------------+---------------------------------------------|\n",
              "|translate to german: EU integration is like  |      Die Integration in die EU ist wie      |\n",
              "|  a tango . It takes two for it to work .    |  Tangotanzen : Man braucht dazu immer zwei  |\n",
              "|                                             |                  Partner .                  |\n",
              "|  translate to german: Whenever we go to a   |   Jedes Mal , wenn wir in westafrikanische  |\n",
              "|West African country , we can see the extent | Länder kommen , stellen wir fest , wie groß |\n",
              "| to which French influence is still present  |  der französische Einfluss dort noch ist .  |\n",
              "|                  there .                    |                                             |\n",
              "+-------------------------------------------------------------------------------------------+\n",
              "</pre>\n"
            ]
          },
          "metadata": {}
        },
        {
          "output_type": "display_data",
          "data": {
            "text/plain": [
              "TRAIN Dataset: \u001b[1m(\u001b[0m\u001b[1;36m1956\u001b[0m, \u001b[1;36m2\u001b[0m\u001b[1m)\u001b[0m\n"
            ],
            "text/html": [
              "<pre style=\"white-space:pre;overflow-x:auto;line-height:normal;font-family:Menlo,'DejaVu Sans Mono',consolas,'Courier New',monospace\">TRAIN Dataset: <span style=\"font-weight: bold\">(</span><span style=\"color: #008080; text-decoration-color: #008080; font-weight: bold\">1956</span>, <span style=\"color: #008080; text-decoration-color: #008080; font-weight: bold\">2</span><span style=\"font-weight: bold\">)</span>\n",
              "</pre>\n"
            ]
          },
          "metadata": {}
        },
        {
          "output_type": "display_data",
          "data": {
            "text/plain": [
              "TEST Dataset: \u001b[1m(\u001b[0m\u001b[1;36m346\u001b[0m, \u001b[1;36m2\u001b[0m\u001b[1m)\u001b[0m\n",
              "\n"
            ],
            "text/html": [
              "<pre style=\"white-space:pre;overflow-x:auto;line-height:normal;font-family:Menlo,'DejaVu Sans Mono',consolas,'Courier New',monospace\">TEST Dataset: <span style=\"font-weight: bold\">(</span><span style=\"color: #008080; text-decoration-color: #008080; font-weight: bold\">346</span>, <span style=\"color: #008080; text-decoration-color: #008080; font-weight: bold\">2</span><span style=\"font-weight: bold\">)</span>\n",
              "\n",
              "</pre>\n"
            ]
          },
          "metadata": {}
        },
        {
          "output_type": "display_data",
          "data": {
            "text/plain": [
              "\u001b[2;36m          \u001b[0m\u001b[2;36m \u001b[0m\u001b[1m[\u001b[0mInitiating Fine Tuning\u001b[1m]\u001b[0m\u001b[33m...\u001b[0m                      \u001b[2m<ipython-input-8-428ac7aee7a9>\u001b[0m\u001b[2m:\u001b[0m\u001b[2m90\u001b[0m\n",
              "\u001b[2;36m           \u001b[0m                                                 \u001b[2m                                 \u001b[0m\n"
            ],
            "text/html": [
              "<pre style=\"white-space:pre;overflow-x:auto;line-height:normal;font-family:Menlo,'DejaVu Sans Mono',consolas,'Courier New',monospace\"><span style=\"color: #7fbfbf; text-decoration-color: #7fbfbf\">           </span><span style=\"font-weight: bold\">[</span>Initiating Fine Tuning<span style=\"font-weight: bold\">]</span><span style=\"color: #808000; text-decoration-color: #808000\">...</span>                      <span style=\"color: #7f7f7f; text-decoration-color: #7f7f7f\">&lt;ipython-input-8-428ac7aee7a9&gt;:90</span>\n",
              "<span style=\"color: #7fbfbf; text-decoration-color: #7fbfbf\">           </span>                                                 <span style=\"color: #7f7f7f; text-decoration-color: #7f7f7f\">                                 </span>\n",
              "</pre>\n"
            ]
          },
          "metadata": {}
        },
        {
          "output_type": "display_data",
          "data": {
            "text/plain": [
              "Epoch:  \u001b[1;36m0\u001b[0m Steps:  \u001b[1;36m0\u001b[0m Loss:  \u001b[1;36m4.039490222930908\u001b[0m\n"
            ],
            "text/html": [
              "<pre style=\"white-space:pre;overflow-x:auto;line-height:normal;font-family:Menlo,'DejaVu Sans Mono',consolas,'Courier New',monospace\">Epoch:  <span style=\"color: #008080; text-decoration-color: #008080; font-weight: bold\">0</span> Steps:  <span style=\"color: #008080; text-decoration-color: #008080; font-weight: bold\">0</span> Loss:  <span style=\"color: #008080; text-decoration-color: #008080; font-weight: bold\">4.039490222930908</span>\n",
              "</pre>\n"
            ]
          },
          "metadata": {}
        },
        {
          "output_type": "display_data",
          "data": {
            "text/plain": [
              "Epoch:  \u001b[1;36m0\u001b[0m Steps:  \u001b[1;36m10\u001b[0m Loss:  \u001b[1;36m3.2894341945648193\u001b[0m\n"
            ],
            "text/html": [
              "<pre style=\"white-space:pre;overflow-x:auto;line-height:normal;font-family:Menlo,'DejaVu Sans Mono',consolas,'Courier New',monospace\">Epoch:  <span style=\"color: #008080; text-decoration-color: #008080; font-weight: bold\">0</span> Steps:  <span style=\"color: #008080; text-decoration-color: #008080; font-weight: bold\">10</span> Loss:  <span style=\"color: #008080; text-decoration-color: #008080; font-weight: bold\">3.2894341945648193</span>\n",
              "</pre>\n"
            ]
          },
          "metadata": {}
        },
        {
          "output_type": "display_data",
          "data": {
            "text/plain": [
              "Epoch:  \u001b[1;36m0\u001b[0m Steps:  \u001b[1;36m20\u001b[0m Loss:  \u001b[1;36m2.5523319244384766\u001b[0m\n"
            ],
            "text/html": [
              "<pre style=\"white-space:pre;overflow-x:auto;line-height:normal;font-family:Menlo,'DejaVu Sans Mono',consolas,'Courier New',monospace\">Epoch:  <span style=\"color: #008080; text-decoration-color: #008080; font-weight: bold\">0</span> Steps:  <span style=\"color: #008080; text-decoration-color: #008080; font-weight: bold\">20</span> Loss:  <span style=\"color: #008080; text-decoration-color: #008080; font-weight: bold\">2.5523319244384766</span>\n",
              "</pre>\n"
            ]
          },
          "metadata": {}
        },
        {
          "output_type": "display_data",
          "data": {
            "text/plain": [
              "Epoch:  \u001b[1;36m0\u001b[0m Steps:  \u001b[1;36m30\u001b[0m Loss:  \u001b[1;36m1.8200650215148926\u001b[0m\n"
            ],
            "text/html": [
              "<pre style=\"white-space:pre;overflow-x:auto;line-height:normal;font-family:Menlo,'DejaVu Sans Mono',consolas,'Courier New',monospace\">Epoch:  <span style=\"color: #008080; text-decoration-color: #008080; font-weight: bold\">0</span> Steps:  <span style=\"color: #008080; text-decoration-color: #008080; font-weight: bold\">30</span> Loss:  <span style=\"color: #008080; text-decoration-color: #008080; font-weight: bold\">1.8200650215148926</span>\n",
              "</pre>\n"
            ]
          },
          "metadata": {}
        },
        {
          "output_type": "display_data",
          "data": {
            "text/plain": [
              "Epoch:  \u001b[1;36m0\u001b[0m Steps:  \u001b[1;36m40\u001b[0m Loss:  \u001b[1;36m3.1988394260406494\u001b[0m\n"
            ],
            "text/html": [
              "<pre style=\"white-space:pre;overflow-x:auto;line-height:normal;font-family:Menlo,'DejaVu Sans Mono',consolas,'Courier New',monospace\">Epoch:  <span style=\"color: #008080; text-decoration-color: #008080; font-weight: bold\">0</span> Steps:  <span style=\"color: #008080; text-decoration-color: #008080; font-weight: bold\">40</span> Loss:  <span style=\"color: #008080; text-decoration-color: #008080; font-weight: bold\">3.1988394260406494</span>\n",
              "</pre>\n"
            ]
          },
          "metadata": {}
        },
        {
          "output_type": "display_data",
          "data": {
            "text/plain": [
              "Epoch:  \u001b[1;36m0\u001b[0m Steps:  \u001b[1;36m50\u001b[0m Loss:  \u001b[1;36m1.8601561784744263\u001b[0m\n"
            ],
            "text/html": [
              "<pre style=\"white-space:pre;overflow-x:auto;line-height:normal;font-family:Menlo,'DejaVu Sans Mono',consolas,'Courier New',monospace\">Epoch:  <span style=\"color: #008080; text-decoration-color: #008080; font-weight: bold\">0</span> Steps:  <span style=\"color: #008080; text-decoration-color: #008080; font-weight: bold\">50</span> Loss:  <span style=\"color: #008080; text-decoration-color: #008080; font-weight: bold\">1.8601561784744263</span>\n",
              "</pre>\n"
            ]
          },
          "metadata": {}
        },
        {
          "output_type": "display_data",
          "data": {
            "text/plain": [
              "Epoch:  \u001b[1;36m0\u001b[0m Steps:  \u001b[1;36m60\u001b[0m Loss:  \u001b[1;36m3.601707935333252\u001b[0m\n"
            ],
            "text/html": [
              "<pre style=\"white-space:pre;overflow-x:auto;line-height:normal;font-family:Menlo,'DejaVu Sans Mono',consolas,'Courier New',monospace\">Epoch:  <span style=\"color: #008080; text-decoration-color: #008080; font-weight: bold\">0</span> Steps:  <span style=\"color: #008080; text-decoration-color: #008080; font-weight: bold\">60</span> Loss:  <span style=\"color: #008080; text-decoration-color: #008080; font-weight: bold\">3.601707935333252</span>\n",
              "</pre>\n"
            ]
          },
          "metadata": {}
        },
        {
          "output_type": "display_data",
          "data": {
            "text/plain": [
              "Epoch:  \u001b[1;36m0\u001b[0m Steps:  \u001b[1;36m70\u001b[0m Loss:  \u001b[1;36m2.1952106952667236\u001b[0m\n"
            ],
            "text/html": [
              "<pre style=\"white-space:pre;overflow-x:auto;line-height:normal;font-family:Menlo,'DejaVu Sans Mono',consolas,'Courier New',monospace\">Epoch:  <span style=\"color: #008080; text-decoration-color: #008080; font-weight: bold\">0</span> Steps:  <span style=\"color: #008080; text-decoration-color: #008080; font-weight: bold\">70</span> Loss:  <span style=\"color: #008080; text-decoration-color: #008080; font-weight: bold\">2.1952106952667236</span>\n",
              "</pre>\n"
            ]
          },
          "metadata": {}
        },
        {
          "output_type": "display_data",
          "data": {
            "text/plain": [
              "Epoch:  \u001b[1;36m0\u001b[0m Steps:  \u001b[1;36m80\u001b[0m Loss:  \u001b[1;36m2.0215158462524414\u001b[0m\n"
            ],
            "text/html": [
              "<pre style=\"white-space:pre;overflow-x:auto;line-height:normal;font-family:Menlo,'DejaVu Sans Mono',consolas,'Courier New',monospace\">Epoch:  <span style=\"color: #008080; text-decoration-color: #008080; font-weight: bold\">0</span> Steps:  <span style=\"color: #008080; text-decoration-color: #008080; font-weight: bold\">80</span> Loss:  <span style=\"color: #008080; text-decoration-color: #008080; font-weight: bold\">2.0215158462524414</span>\n",
              "</pre>\n"
            ]
          },
          "metadata": {}
        },
        {
          "output_type": "display_data",
          "data": {
            "text/plain": [
              "Epoch:  \u001b[1;36m0\u001b[0m Steps:  \u001b[1;36m90\u001b[0m Loss:  \u001b[1;36m1.698337197303772\u001b[0m\n"
            ],
            "text/html": [
              "<pre style=\"white-space:pre;overflow-x:auto;line-height:normal;font-family:Menlo,'DejaVu Sans Mono',consolas,'Courier New',monospace\">Epoch:  <span style=\"color: #008080; text-decoration-color: #008080; font-weight: bold\">0</span> Steps:  <span style=\"color: #008080; text-decoration-color: #008080; font-weight: bold\">90</span> Loss:  <span style=\"color: #008080; text-decoration-color: #008080; font-weight: bold\">1.698337197303772</span>\n",
              "</pre>\n"
            ]
          },
          "metadata": {}
        },
        {
          "output_type": "display_data",
          "data": {
            "text/plain": [
              "Epoch:  \u001b[1;36m0\u001b[0m Steps:  \u001b[1;36m100\u001b[0m Loss:  \u001b[1;36m2.6197521686553955\u001b[0m\n"
            ],
            "text/html": [
              "<pre style=\"white-space:pre;overflow-x:auto;line-height:normal;font-family:Menlo,'DejaVu Sans Mono',consolas,'Courier New',monospace\">Epoch:  <span style=\"color: #008080; text-decoration-color: #008080; font-weight: bold\">0</span> Steps:  <span style=\"color: #008080; text-decoration-color: #008080; font-weight: bold\">100</span> Loss:  <span style=\"color: #008080; text-decoration-color: #008080; font-weight: bold\">2.6197521686553955</span>\n",
              "</pre>\n"
            ]
          },
          "metadata": {}
        },
        {
          "output_type": "display_data",
          "data": {
            "text/plain": [
              "Epoch:  \u001b[1;36m0\u001b[0m Steps:  \u001b[1;36m110\u001b[0m Loss:  \u001b[1;36m1.7945467233657837\u001b[0m\n"
            ],
            "text/html": [
              "<pre style=\"white-space:pre;overflow-x:auto;line-height:normal;font-family:Menlo,'DejaVu Sans Mono',consolas,'Courier New',monospace\">Epoch:  <span style=\"color: #008080; text-decoration-color: #008080; font-weight: bold\">0</span> Steps:  <span style=\"color: #008080; text-decoration-color: #008080; font-weight: bold\">110</span> Loss:  <span style=\"color: #008080; text-decoration-color: #008080; font-weight: bold\">1.7945467233657837</span>\n",
              "</pre>\n"
            ]
          },
          "metadata": {}
        },
        {
          "output_type": "display_data",
          "data": {
            "text/plain": [
              "Epoch:  \u001b[1;36m0\u001b[0m Steps:  \u001b[1;36m120\u001b[0m Loss:  \u001b[1;36m1.4010474681854248\u001b[0m\n"
            ],
            "text/html": [
              "<pre style=\"white-space:pre;overflow-x:auto;line-height:normal;font-family:Menlo,'DejaVu Sans Mono',consolas,'Courier New',monospace\">Epoch:  <span style=\"color: #008080; text-decoration-color: #008080; font-weight: bold\">0</span> Steps:  <span style=\"color: #008080; text-decoration-color: #008080; font-weight: bold\">120</span> Loss:  <span style=\"color: #008080; text-decoration-color: #008080; font-weight: bold\">1.4010474681854248</span>\n",
              "</pre>\n"
            ]
          },
          "metadata": {}
        },
        {
          "output_type": "display_data",
          "data": {
            "text/plain": [
              "Epoch:  \u001b[1;36m0\u001b[0m Steps:  \u001b[1;36m130\u001b[0m Loss:  \u001b[1;36m1.638759970664978\u001b[0m\n"
            ],
            "text/html": [
              "<pre style=\"white-space:pre;overflow-x:auto;line-height:normal;font-family:Menlo,'DejaVu Sans Mono',consolas,'Courier New',monospace\">Epoch:  <span style=\"color: #008080; text-decoration-color: #008080; font-weight: bold\">0</span> Steps:  <span style=\"color: #008080; text-decoration-color: #008080; font-weight: bold\">130</span> Loss:  <span style=\"color: #008080; text-decoration-color: #008080; font-weight: bold\">1.638759970664978</span>\n",
              "</pre>\n"
            ]
          },
          "metadata": {}
        },
        {
          "output_type": "display_data",
          "data": {
            "text/plain": [
              "Epoch:  \u001b[1;36m0\u001b[0m Steps:  \u001b[1;36m140\u001b[0m Loss:  \u001b[1;36m2.2467503547668457\u001b[0m\n"
            ],
            "text/html": [
              "<pre style=\"white-space:pre;overflow-x:auto;line-height:normal;font-family:Menlo,'DejaVu Sans Mono',consolas,'Courier New',monospace\">Epoch:  <span style=\"color: #008080; text-decoration-color: #008080; font-weight: bold\">0</span> Steps:  <span style=\"color: #008080; text-decoration-color: #008080; font-weight: bold\">140</span> Loss:  <span style=\"color: #008080; text-decoration-color: #008080; font-weight: bold\">2.2467503547668457</span>\n",
              "</pre>\n"
            ]
          },
          "metadata": {}
        },
        {
          "output_type": "display_data",
          "data": {
            "text/plain": [
              "Epoch:  \u001b[1;36m0\u001b[0m Steps:  \u001b[1;36m150\u001b[0m Loss:  \u001b[1;36m1.9709408283233643\u001b[0m\n"
            ],
            "text/html": [
              "<pre style=\"white-space:pre;overflow-x:auto;line-height:normal;font-family:Menlo,'DejaVu Sans Mono',consolas,'Courier New',monospace\">Epoch:  <span style=\"color: #008080; text-decoration-color: #008080; font-weight: bold\">0</span> Steps:  <span style=\"color: #008080; text-decoration-color: #008080; font-weight: bold\">150</span> Loss:  <span style=\"color: #008080; text-decoration-color: #008080; font-weight: bold\">1.9709408283233643</span>\n",
              "</pre>\n"
            ]
          },
          "metadata": {}
        },
        {
          "output_type": "display_data",
          "data": {
            "text/plain": [
              "Epoch:  \u001b[1;36m0\u001b[0m Steps:  \u001b[1;36m160\u001b[0m Loss:  \u001b[1;36m1.0993891954421997\u001b[0m\n"
            ],
            "text/html": [
              "<pre style=\"white-space:pre;overflow-x:auto;line-height:normal;font-family:Menlo,'DejaVu Sans Mono',consolas,'Courier New',monospace\">Epoch:  <span style=\"color: #008080; text-decoration-color: #008080; font-weight: bold\">0</span> Steps:  <span style=\"color: #008080; text-decoration-color: #008080; font-weight: bold\">160</span> Loss:  <span style=\"color: #008080; text-decoration-color: #008080; font-weight: bold\">1.0993891954421997</span>\n",
              "</pre>\n"
            ]
          },
          "metadata": {}
        },
        {
          "output_type": "display_data",
          "data": {
            "text/plain": [
              "Epoch:  \u001b[1;36m0\u001b[0m Steps:  \u001b[1;36m170\u001b[0m Loss:  \u001b[1;36m1.4091918468475342\u001b[0m\n"
            ],
            "text/html": [
              "<pre style=\"white-space:pre;overflow-x:auto;line-height:normal;font-family:Menlo,'DejaVu Sans Mono',consolas,'Courier New',monospace\">Epoch:  <span style=\"color: #008080; text-decoration-color: #008080; font-weight: bold\">0</span> Steps:  <span style=\"color: #008080; text-decoration-color: #008080; font-weight: bold\">170</span> Loss:  <span style=\"color: #008080; text-decoration-color: #008080; font-weight: bold\">1.4091918468475342</span>\n",
              "</pre>\n"
            ]
          },
          "metadata": {}
        },
        {
          "output_type": "display_data",
          "data": {
            "text/plain": [
              "Epoch:  \u001b[1;36m0\u001b[0m Steps:  \u001b[1;36m180\u001b[0m Loss:  \u001b[1;36m1.5047993659973145\u001b[0m\n"
            ],
            "text/html": [
              "<pre style=\"white-space:pre;overflow-x:auto;line-height:normal;font-family:Menlo,'DejaVu Sans Mono',consolas,'Courier New',monospace\">Epoch:  <span style=\"color: #008080; text-decoration-color: #008080; font-weight: bold\">0</span> Steps:  <span style=\"color: #008080; text-decoration-color: #008080; font-weight: bold\">180</span> Loss:  <span style=\"color: #008080; text-decoration-color: #008080; font-weight: bold\">1.5047993659973145</span>\n",
              "</pre>\n"
            ]
          },
          "metadata": {}
        },
        {
          "output_type": "display_data",
          "data": {
            "text/plain": [
              "Epoch:  \u001b[1;36m0\u001b[0m Steps:  \u001b[1;36m190\u001b[0m Loss:  \u001b[1;36m2.588116407394409\u001b[0m\n"
            ],
            "text/html": [
              "<pre style=\"white-space:pre;overflow-x:auto;line-height:normal;font-family:Menlo,'DejaVu Sans Mono',consolas,'Courier New',monospace\">Epoch:  <span style=\"color: #008080; text-decoration-color: #008080; font-weight: bold\">0</span> Steps:  <span style=\"color: #008080; text-decoration-color: #008080; font-weight: bold\">190</span> Loss:  <span style=\"color: #008080; text-decoration-color: #008080; font-weight: bold\">2.588116407394409</span>\n",
              "</pre>\n"
            ]
          },
          "metadata": {}
        },
        {
          "output_type": "display_data",
          "data": {
            "text/plain": [
              "Epoch:  \u001b[1;36m0\u001b[0m Steps:  \u001b[1;36m200\u001b[0m Loss:  \u001b[1;36m2.077366590499878\u001b[0m\n"
            ],
            "text/html": [
              "<pre style=\"white-space:pre;overflow-x:auto;line-height:normal;font-family:Menlo,'DejaVu Sans Mono',consolas,'Courier New',monospace\">Epoch:  <span style=\"color: #008080; text-decoration-color: #008080; font-weight: bold\">0</span> Steps:  <span style=\"color: #008080; text-decoration-color: #008080; font-weight: bold\">200</span> Loss:  <span style=\"color: #008080; text-decoration-color: #008080; font-weight: bold\">2.077366590499878</span>\n",
              "</pre>\n"
            ]
          },
          "metadata": {}
        },
        {
          "output_type": "display_data",
          "data": {
            "text/plain": [
              "Epoch:  \u001b[1;36m0\u001b[0m Steps:  \u001b[1;36m210\u001b[0m Loss:  \u001b[1;36m3.127763271331787\u001b[0m\n"
            ],
            "text/html": [
              "<pre style=\"white-space:pre;overflow-x:auto;line-height:normal;font-family:Menlo,'DejaVu Sans Mono',consolas,'Courier New',monospace\">Epoch:  <span style=\"color: #008080; text-decoration-color: #008080; font-weight: bold\">0</span> Steps:  <span style=\"color: #008080; text-decoration-color: #008080; font-weight: bold\">210</span> Loss:  <span style=\"color: #008080; text-decoration-color: #008080; font-weight: bold\">3.127763271331787</span>\n",
              "</pre>\n"
            ]
          },
          "metadata": {}
        },
        {
          "output_type": "display_data",
          "data": {
            "text/plain": [
              "Epoch:  \u001b[1;36m0\u001b[0m Steps:  \u001b[1;36m220\u001b[0m Loss:  \u001b[1;36m2.1233701705932617\u001b[0m\n"
            ],
            "text/html": [
              "<pre style=\"white-space:pre;overflow-x:auto;line-height:normal;font-family:Menlo,'DejaVu Sans Mono',consolas,'Courier New',monospace\">Epoch:  <span style=\"color: #008080; text-decoration-color: #008080; font-weight: bold\">0</span> Steps:  <span style=\"color: #008080; text-decoration-color: #008080; font-weight: bold\">220</span> Loss:  <span style=\"color: #008080; text-decoration-color: #008080; font-weight: bold\">2.1233701705932617</span>\n",
              "</pre>\n"
            ]
          },
          "metadata": {}
        },
        {
          "output_type": "display_data",
          "data": {
            "text/plain": [
              "Epoch:  \u001b[1;36m0\u001b[0m Steps:  \u001b[1;36m230\u001b[0m Loss:  \u001b[1;36m2.763334035873413\u001b[0m\n"
            ],
            "text/html": [
              "<pre style=\"white-space:pre;overflow-x:auto;line-height:normal;font-family:Menlo,'DejaVu Sans Mono',consolas,'Courier New',monospace\">Epoch:  <span style=\"color: #008080; text-decoration-color: #008080; font-weight: bold\">0</span> Steps:  <span style=\"color: #008080; text-decoration-color: #008080; font-weight: bold\">230</span> Loss:  <span style=\"color: #008080; text-decoration-color: #008080; font-weight: bold\">2.763334035873413</span>\n",
              "</pre>\n"
            ]
          },
          "metadata": {}
        },
        {
          "output_type": "display_data",
          "data": {
            "text/plain": [
              "Epoch:  \u001b[1;36m0\u001b[0m Steps:  \u001b[1;36m240\u001b[0m Loss:  \u001b[1;36m1.7262789011001587\u001b[0m\n"
            ],
            "text/html": [
              "<pre style=\"white-space:pre;overflow-x:auto;line-height:normal;font-family:Menlo,'DejaVu Sans Mono',consolas,'Courier New',monospace\">Epoch:  <span style=\"color: #008080; text-decoration-color: #008080; font-weight: bold\">0</span> Steps:  <span style=\"color: #008080; text-decoration-color: #008080; font-weight: bold\">240</span> Loss:  <span style=\"color: #008080; text-decoration-color: #008080; font-weight: bold\">1.7262789011001587</span>\n",
              "</pre>\n"
            ]
          },
          "metadata": {}
        },
        {
          "output_type": "display_data",
          "data": {
            "text/plain": [
              "Epoch:  \u001b[1;36m0\u001b[0m Steps:  \u001b[1;36m250\u001b[0m Loss:  \u001b[1;36m1.8740763664245605\u001b[0m\n"
            ],
            "text/html": [
              "<pre style=\"white-space:pre;overflow-x:auto;line-height:normal;font-family:Menlo,'DejaVu Sans Mono',consolas,'Courier New',monospace\">Epoch:  <span style=\"color: #008080; text-decoration-color: #008080; font-weight: bold\">0</span> Steps:  <span style=\"color: #008080; text-decoration-color: #008080; font-weight: bold\">250</span> Loss:  <span style=\"color: #008080; text-decoration-color: #008080; font-weight: bold\">1.8740763664245605</span>\n",
              "</pre>\n"
            ]
          },
          "metadata": {}
        },
        {
          "output_type": "display_data",
          "data": {
            "text/plain": [
              "Epoch:  \u001b[1;36m0\u001b[0m Steps:  \u001b[1;36m260\u001b[0m Loss:  \u001b[1;36m1.8309264183044434\u001b[0m\n"
            ],
            "text/html": [
              "<pre style=\"white-space:pre;overflow-x:auto;line-height:normal;font-family:Menlo,'DejaVu Sans Mono',consolas,'Courier New',monospace\">Epoch:  <span style=\"color: #008080; text-decoration-color: #008080; font-weight: bold\">0</span> Steps:  <span style=\"color: #008080; text-decoration-color: #008080; font-weight: bold\">260</span> Loss:  <span style=\"color: #008080; text-decoration-color: #008080; font-weight: bold\">1.8309264183044434</span>\n",
              "</pre>\n"
            ]
          },
          "metadata": {}
        },
        {
          "output_type": "display_data",
          "data": {
            "text/plain": [
              "Epoch:  \u001b[1;36m0\u001b[0m Steps:  \u001b[1;36m270\u001b[0m Loss:  \u001b[1;36m1.7474801540374756\u001b[0m\n"
            ],
            "text/html": [
              "<pre style=\"white-space:pre;overflow-x:auto;line-height:normal;font-family:Menlo,'DejaVu Sans Mono',consolas,'Courier New',monospace\">Epoch:  <span style=\"color: #008080; text-decoration-color: #008080; font-weight: bold\">0</span> Steps:  <span style=\"color: #008080; text-decoration-color: #008080; font-weight: bold\">270</span> Loss:  <span style=\"color: #008080; text-decoration-color: #008080; font-weight: bold\">1.7474801540374756</span>\n",
              "</pre>\n"
            ]
          },
          "metadata": {}
        },
        {
          "output_type": "display_data",
          "data": {
            "text/plain": [
              "Epoch:  \u001b[1;36m0\u001b[0m Steps:  \u001b[1;36m280\u001b[0m Loss:  \u001b[1;36m1.745546579360962\u001b[0m\n"
            ],
            "text/html": [
              "<pre style=\"white-space:pre;overflow-x:auto;line-height:normal;font-family:Menlo,'DejaVu Sans Mono',consolas,'Courier New',monospace\">Epoch:  <span style=\"color: #008080; text-decoration-color: #008080; font-weight: bold\">0</span> Steps:  <span style=\"color: #008080; text-decoration-color: #008080; font-weight: bold\">280</span> Loss:  <span style=\"color: #008080; text-decoration-color: #008080; font-weight: bold\">1.745546579360962</span>\n",
              "</pre>\n"
            ]
          },
          "metadata": {}
        },
        {
          "output_type": "display_data",
          "data": {
            "text/plain": [
              "Epoch:  \u001b[1;36m0\u001b[0m Steps:  \u001b[1;36m290\u001b[0m Loss:  \u001b[1;36m1.6305543184280396\u001b[0m\n"
            ],
            "text/html": [
              "<pre style=\"white-space:pre;overflow-x:auto;line-height:normal;font-family:Menlo,'DejaVu Sans Mono',consolas,'Courier New',monospace\">Epoch:  <span style=\"color: #008080; text-decoration-color: #008080; font-weight: bold\">0</span> Steps:  <span style=\"color: #008080; text-decoration-color: #008080; font-weight: bold\">290</span> Loss:  <span style=\"color: #008080; text-decoration-color: #008080; font-weight: bold\">1.6305543184280396</span>\n",
              "</pre>\n"
            ]
          },
          "metadata": {}
        },
        {
          "output_type": "display_data",
          "data": {
            "text/plain": [
              "Epoch:  \u001b[1;36m0\u001b[0m Steps:  \u001b[1;36m300\u001b[0m Loss:  \u001b[1;36m2.3232553005218506\u001b[0m\n"
            ],
            "text/html": [
              "<pre style=\"white-space:pre;overflow-x:auto;line-height:normal;font-family:Menlo,'DejaVu Sans Mono',consolas,'Courier New',monospace\">Epoch:  <span style=\"color: #008080; text-decoration-color: #008080; font-weight: bold\">0</span> Steps:  <span style=\"color: #008080; text-decoration-color: #008080; font-weight: bold\">300</span> Loss:  <span style=\"color: #008080; text-decoration-color: #008080; font-weight: bold\">2.3232553005218506</span>\n",
              "</pre>\n"
            ]
          },
          "metadata": {}
        },
        {
          "output_type": "display_data",
          "data": {
            "text/plain": [
              "Epoch:  \u001b[1;36m0\u001b[0m Steps:  \u001b[1;36m310\u001b[0m Loss:  \u001b[1;36m2.047292947769165\u001b[0m\n"
            ],
            "text/html": [
              "<pre style=\"white-space:pre;overflow-x:auto;line-height:normal;font-family:Menlo,'DejaVu Sans Mono',consolas,'Courier New',monospace\">Epoch:  <span style=\"color: #008080; text-decoration-color: #008080; font-weight: bold\">0</span> Steps:  <span style=\"color: #008080; text-decoration-color: #008080; font-weight: bold\">310</span> Loss:  <span style=\"color: #008080; text-decoration-color: #008080; font-weight: bold\">2.047292947769165</span>\n",
              "</pre>\n"
            ]
          },
          "metadata": {}
        },
        {
          "output_type": "display_data",
          "data": {
            "text/plain": [
              "Epoch:  \u001b[1;36m0\u001b[0m Steps:  \u001b[1;36m320\u001b[0m Loss:  \u001b[1;36m1.3382582664489746\u001b[0m\n"
            ],
            "text/html": [
              "<pre style=\"white-space:pre;overflow-x:auto;line-height:normal;font-family:Menlo,'DejaVu Sans Mono',consolas,'Courier New',monospace\">Epoch:  <span style=\"color: #008080; text-decoration-color: #008080; font-weight: bold\">0</span> Steps:  <span style=\"color: #008080; text-decoration-color: #008080; font-weight: bold\">320</span> Loss:  <span style=\"color: #008080; text-decoration-color: #008080; font-weight: bold\">1.3382582664489746</span>\n",
              "</pre>\n"
            ]
          },
          "metadata": {}
        },
        {
          "output_type": "display_data",
          "data": {
            "text/plain": [
              "Epoch:  \u001b[1;36m0\u001b[0m Steps:  \u001b[1;36m330\u001b[0m Loss:  \u001b[1;36m2.480006456375122\u001b[0m\n"
            ],
            "text/html": [
              "<pre style=\"white-space:pre;overflow-x:auto;line-height:normal;font-family:Menlo,'DejaVu Sans Mono',consolas,'Courier New',monospace\">Epoch:  <span style=\"color: #008080; text-decoration-color: #008080; font-weight: bold\">0</span> Steps:  <span style=\"color: #008080; text-decoration-color: #008080; font-weight: bold\">330</span> Loss:  <span style=\"color: #008080; text-decoration-color: #008080; font-weight: bold\">2.480006456375122</span>\n",
              "</pre>\n"
            ]
          },
          "metadata": {}
        },
        {
          "output_type": "display_data",
          "data": {
            "text/plain": [
              "Epoch:  \u001b[1;36m0\u001b[0m Steps:  \u001b[1;36m340\u001b[0m Loss:  \u001b[1;36m2.166128635406494\u001b[0m\n"
            ],
            "text/html": [
              "<pre style=\"white-space:pre;overflow-x:auto;line-height:normal;font-family:Menlo,'DejaVu Sans Mono',consolas,'Courier New',monospace\">Epoch:  <span style=\"color: #008080; text-decoration-color: #008080; font-weight: bold\">0</span> Steps:  <span style=\"color: #008080; text-decoration-color: #008080; font-weight: bold\">340</span> Loss:  <span style=\"color: #008080; text-decoration-color: #008080; font-weight: bold\">2.166128635406494</span>\n",
              "</pre>\n"
            ]
          },
          "metadata": {}
        },
        {
          "output_type": "display_data",
          "data": {
            "text/plain": [
              "Epoch:  \u001b[1;36m0\u001b[0m Steps:  \u001b[1;36m350\u001b[0m Loss:  \u001b[1;36m1.296427607536316\u001b[0m\n"
            ],
            "text/html": [
              "<pre style=\"white-space:pre;overflow-x:auto;line-height:normal;font-family:Menlo,'DejaVu Sans Mono',consolas,'Courier New',monospace\">Epoch:  <span style=\"color: #008080; text-decoration-color: #008080; font-weight: bold\">0</span> Steps:  <span style=\"color: #008080; text-decoration-color: #008080; font-weight: bold\">350</span> Loss:  <span style=\"color: #008080; text-decoration-color: #008080; font-weight: bold\">1.296427607536316</span>\n",
              "</pre>\n"
            ]
          },
          "metadata": {}
        },
        {
          "output_type": "display_data",
          "data": {
            "text/plain": [
              "Epoch:  \u001b[1;36m0\u001b[0m Steps:  \u001b[1;36m360\u001b[0m Loss:  \u001b[1;36m2.752162456512451\u001b[0m\n"
            ],
            "text/html": [
              "<pre style=\"white-space:pre;overflow-x:auto;line-height:normal;font-family:Menlo,'DejaVu Sans Mono',consolas,'Courier New',monospace\">Epoch:  <span style=\"color: #008080; text-decoration-color: #008080; font-weight: bold\">0</span> Steps:  <span style=\"color: #008080; text-decoration-color: #008080; font-weight: bold\">360</span> Loss:  <span style=\"color: #008080; text-decoration-color: #008080; font-weight: bold\">2.752162456512451</span>\n",
              "</pre>\n"
            ]
          },
          "metadata": {}
        },
        {
          "output_type": "display_data",
          "data": {
            "text/plain": [
              "Epoch:  \u001b[1;36m0\u001b[0m Steps:  \u001b[1;36m370\u001b[0m Loss:  \u001b[1;36m1.5691888332366943\u001b[0m\n"
            ],
            "text/html": [
              "<pre style=\"white-space:pre;overflow-x:auto;line-height:normal;font-family:Menlo,'DejaVu Sans Mono',consolas,'Courier New',monospace\">Epoch:  <span style=\"color: #008080; text-decoration-color: #008080; font-weight: bold\">0</span> Steps:  <span style=\"color: #008080; text-decoration-color: #008080; font-weight: bold\">370</span> Loss:  <span style=\"color: #008080; text-decoration-color: #008080; font-weight: bold\">1.5691888332366943</span>\n",
              "</pre>\n"
            ]
          },
          "metadata": {}
        },
        {
          "output_type": "display_data",
          "data": {
            "text/plain": [
              "Epoch:  \u001b[1;36m0\u001b[0m Steps:  \u001b[1;36m380\u001b[0m Loss:  \u001b[1;36m1.3225054740905762\u001b[0m\n"
            ],
            "text/html": [
              "<pre style=\"white-space:pre;overflow-x:auto;line-height:normal;font-family:Menlo,'DejaVu Sans Mono',consolas,'Courier New',monospace\">Epoch:  <span style=\"color: #008080; text-decoration-color: #008080; font-weight: bold\">0</span> Steps:  <span style=\"color: #008080; text-decoration-color: #008080; font-weight: bold\">380</span> Loss:  <span style=\"color: #008080; text-decoration-color: #008080; font-weight: bold\">1.3225054740905762</span>\n",
              "</pre>\n"
            ]
          },
          "metadata": {}
        },
        {
          "output_type": "display_data",
          "data": {
            "text/plain": [
              "Epoch:  \u001b[1;36m0\u001b[0m Steps:  \u001b[1;36m390\u001b[0m Loss:  \u001b[1;36m1.2947050333023071\u001b[0m\n"
            ],
            "text/html": [
              "<pre style=\"white-space:pre;overflow-x:auto;line-height:normal;font-family:Menlo,'DejaVu Sans Mono',consolas,'Courier New',monospace\">Epoch:  <span style=\"color: #008080; text-decoration-color: #008080; font-weight: bold\">0</span> Steps:  <span style=\"color: #008080; text-decoration-color: #008080; font-weight: bold\">390</span> Loss:  <span style=\"color: #008080; text-decoration-color: #008080; font-weight: bold\">1.2947050333023071</span>\n",
              "</pre>\n"
            ]
          },
          "metadata": {}
        },
        {
          "output_type": "display_data",
          "data": {
            "text/plain": [
              "Epoch:  \u001b[1;36m0\u001b[0m Steps:  \u001b[1;36m400\u001b[0m Loss:  \u001b[1;36m2.420637845993042\u001b[0m\n"
            ],
            "text/html": [
              "<pre style=\"white-space:pre;overflow-x:auto;line-height:normal;font-family:Menlo,'DejaVu Sans Mono',consolas,'Courier New',monospace\">Epoch:  <span style=\"color: #008080; text-decoration-color: #008080; font-weight: bold\">0</span> Steps:  <span style=\"color: #008080; text-decoration-color: #008080; font-weight: bold\">400</span> Loss:  <span style=\"color: #008080; text-decoration-color: #008080; font-weight: bold\">2.420637845993042</span>\n",
              "</pre>\n"
            ]
          },
          "metadata": {}
        },
        {
          "output_type": "display_data",
          "data": {
            "text/plain": [
              "Epoch:  \u001b[1;36m0\u001b[0m Steps:  \u001b[1;36m410\u001b[0m Loss:  \u001b[1;36m1.6933848857879639\u001b[0m\n"
            ],
            "text/html": [
              "<pre style=\"white-space:pre;overflow-x:auto;line-height:normal;font-family:Menlo,'DejaVu Sans Mono',consolas,'Courier New',monospace\">Epoch:  <span style=\"color: #008080; text-decoration-color: #008080; font-weight: bold\">0</span> Steps:  <span style=\"color: #008080; text-decoration-color: #008080; font-weight: bold\">410</span> Loss:  <span style=\"color: #008080; text-decoration-color: #008080; font-weight: bold\">1.6933848857879639</span>\n",
              "</pre>\n"
            ]
          },
          "metadata": {}
        },
        {
          "output_type": "display_data",
          "data": {
            "text/plain": [
              "Epoch:  \u001b[1;36m0\u001b[0m Steps:  \u001b[1;36m420\u001b[0m Loss:  \u001b[1;36m2.5548439025878906\u001b[0m\n"
            ],
            "text/html": [
              "<pre style=\"white-space:pre;overflow-x:auto;line-height:normal;font-family:Menlo,'DejaVu Sans Mono',consolas,'Courier New',monospace\">Epoch:  <span style=\"color: #008080; text-decoration-color: #008080; font-weight: bold\">0</span> Steps:  <span style=\"color: #008080; text-decoration-color: #008080; font-weight: bold\">420</span> Loss:  <span style=\"color: #008080; text-decoration-color: #008080; font-weight: bold\">2.5548439025878906</span>\n",
              "</pre>\n"
            ]
          },
          "metadata": {}
        },
        {
          "output_type": "display_data",
          "data": {
            "text/plain": [
              "Epoch:  \u001b[1;36m0\u001b[0m Steps:  \u001b[1;36m430\u001b[0m Loss:  \u001b[1;36m1.361295223236084\u001b[0m\n"
            ],
            "text/html": [
              "<pre style=\"white-space:pre;overflow-x:auto;line-height:normal;font-family:Menlo,'DejaVu Sans Mono',consolas,'Courier New',monospace\">Epoch:  <span style=\"color: #008080; text-decoration-color: #008080; font-weight: bold\">0</span> Steps:  <span style=\"color: #008080; text-decoration-color: #008080; font-weight: bold\">430</span> Loss:  <span style=\"color: #008080; text-decoration-color: #008080; font-weight: bold\">1.361295223236084</span>\n",
              "</pre>\n"
            ]
          },
          "metadata": {}
        },
        {
          "output_type": "display_data",
          "data": {
            "text/plain": [
              "Epoch:  \u001b[1;36m0\u001b[0m Steps:  \u001b[1;36m440\u001b[0m Loss:  \u001b[1;36m1.8424636125564575\u001b[0m\n"
            ],
            "text/html": [
              "<pre style=\"white-space:pre;overflow-x:auto;line-height:normal;font-family:Menlo,'DejaVu Sans Mono',consolas,'Courier New',monospace\">Epoch:  <span style=\"color: #008080; text-decoration-color: #008080; font-weight: bold\">0</span> Steps:  <span style=\"color: #008080; text-decoration-color: #008080; font-weight: bold\">440</span> Loss:  <span style=\"color: #008080; text-decoration-color: #008080; font-weight: bold\">1.8424636125564575</span>\n",
              "</pre>\n"
            ]
          },
          "metadata": {}
        },
        {
          "output_type": "display_data",
          "data": {
            "text/plain": [
              "Epoch:  \u001b[1;36m0\u001b[0m Steps:  \u001b[1;36m450\u001b[0m Loss:  \u001b[1;36m1.6273949146270752\u001b[0m\n"
            ],
            "text/html": [
              "<pre style=\"white-space:pre;overflow-x:auto;line-height:normal;font-family:Menlo,'DejaVu Sans Mono',consolas,'Courier New',monospace\">Epoch:  <span style=\"color: #008080; text-decoration-color: #008080; font-weight: bold\">0</span> Steps:  <span style=\"color: #008080; text-decoration-color: #008080; font-weight: bold\">450</span> Loss:  <span style=\"color: #008080; text-decoration-color: #008080; font-weight: bold\">1.6273949146270752</span>\n",
              "</pre>\n"
            ]
          },
          "metadata": {}
        },
        {
          "output_type": "display_data",
          "data": {
            "text/plain": [
              "Epoch:  \u001b[1;36m0\u001b[0m Steps:  \u001b[1;36m460\u001b[0m Loss:  \u001b[1;36m1.4123599529266357\u001b[0m\n"
            ],
            "text/html": [
              "<pre style=\"white-space:pre;overflow-x:auto;line-height:normal;font-family:Menlo,'DejaVu Sans Mono',consolas,'Courier New',monospace\">Epoch:  <span style=\"color: #008080; text-decoration-color: #008080; font-weight: bold\">0</span> Steps:  <span style=\"color: #008080; text-decoration-color: #008080; font-weight: bold\">460</span> Loss:  <span style=\"color: #008080; text-decoration-color: #008080; font-weight: bold\">1.4123599529266357</span>\n",
              "</pre>\n"
            ]
          },
          "metadata": {}
        },
        {
          "output_type": "display_data",
          "data": {
            "text/plain": [
              "Epoch:  \u001b[1;36m0\u001b[0m Steps:  \u001b[1;36m470\u001b[0m Loss:  \u001b[1;36m1.3827754259109497\u001b[0m\n"
            ],
            "text/html": [
              "<pre style=\"white-space:pre;overflow-x:auto;line-height:normal;font-family:Menlo,'DejaVu Sans Mono',consolas,'Courier New',monospace\">Epoch:  <span style=\"color: #008080; text-decoration-color: #008080; font-weight: bold\">0</span> Steps:  <span style=\"color: #008080; text-decoration-color: #008080; font-weight: bold\">470</span> Loss:  <span style=\"color: #008080; text-decoration-color: #008080; font-weight: bold\">1.3827754259109497</span>\n",
              "</pre>\n"
            ]
          },
          "metadata": {}
        },
        {
          "output_type": "display_data",
          "data": {
            "text/plain": [
              "Epoch:  \u001b[1;36m0\u001b[0m Steps:  \u001b[1;36m480\u001b[0m Loss:  \u001b[1;36m1.6837565898895264\u001b[0m\n"
            ],
            "text/html": [
              "<pre style=\"white-space:pre;overflow-x:auto;line-height:normal;font-family:Menlo,'DejaVu Sans Mono',consolas,'Courier New',monospace\">Epoch:  <span style=\"color: #008080; text-decoration-color: #008080; font-weight: bold\">0</span> Steps:  <span style=\"color: #008080; text-decoration-color: #008080; font-weight: bold\">480</span> Loss:  <span style=\"color: #008080; text-decoration-color: #008080; font-weight: bold\">1.6837565898895264</span>\n",
              "</pre>\n"
            ]
          },
          "metadata": {}
        },
        {
          "output_type": "display_data",
          "data": {
            "text/plain": [
              "\u001b[3m          Training Status           \u001b[0m\n",
              "+----------------------------------+\n",
              "|\u001b[1mEpoch\u001b[0m\u001b[1m \u001b[0m|\u001b[1m \u001b[0m\u001b[1mSteps\u001b[0m\u001b[1m \u001b[0m|\u001b[1m \u001b[0m\u001b[1m       Loss       \u001b[0m|\n",
              "|------+-------+-------------------|\n",
              "|  0   |   0   | 4.039490222930908 |\n",
              "|  0   |  10   | 3.2894341945648193|\n",
              "|  0   |  20   | 2.5523319244384766|\n",
              "|  0   |  30   | 1.8200650215148926|\n",
              "|  0   |  40   | 3.1988394260406494|\n",
              "|  0   |  50   | 1.8601561784744263|\n",
              "|  0   |  60   | 3.601707935333252 |\n",
              "|  0   |  70   | 2.1952106952667236|\n",
              "|  0   |  80   | 2.0215158462524414|\n",
              "|  0   |  90   | 1.698337197303772 |\n",
              "|  0   |  100  | 2.6197521686553955|\n",
              "|  0   |  110  | 1.7945467233657837|\n",
              "|  0   |  120  | 1.4010474681854248|\n",
              "|  0   |  130  | 1.638759970664978 |\n",
              "|  0   |  140  | 2.2467503547668457|\n",
              "|  0   |  150  | 1.9709408283233643|\n",
              "|  0   |  160  | 1.0993891954421997|\n",
              "|  0   |  170  | 1.4091918468475342|\n",
              "|  0   |  180  | 1.5047993659973145|\n",
              "|  0   |  190  | 2.588116407394409 |\n",
              "|  0   |  200  | 2.077366590499878 |\n",
              "|  0   |  210  | 3.127763271331787 |\n",
              "|  0   |  220  | 2.1233701705932617|\n",
              "|  0   |  230  | 2.763334035873413 |\n",
              "|  0   |  240  | 1.7262789011001587|\n",
              "|  0   |  250  | 1.8740763664245605|\n",
              "|  0   |  260  | 1.8309264183044434|\n",
              "|  0   |  270  | 1.7474801540374756|\n",
              "|  0   |  280  | 1.745546579360962 |\n",
              "|  0   |  290  | 1.6305543184280396|\n",
              "|  0   |  300  | 2.3232553005218506|\n",
              "|  0   |  310  | 2.047292947769165 |\n",
              "|  0   |  320  | 1.3382582664489746|\n",
              "|  0   |  330  | 2.480006456375122 |\n",
              "|  0   |  340  | 2.166128635406494 |\n",
              "|  0   |  350  | 1.296427607536316 |\n",
              "|  0   |  360  | 2.752162456512451 |\n",
              "|  0   |  370  | 1.5691888332366943|\n",
              "|  0   |  380  | 1.3225054740905762|\n",
              "|  0   |  390  | 1.2947050333023071|\n",
              "|  0   |  400  | 2.420637845993042 |\n",
              "|  0   |  410  | 1.6933848857879639|\n",
              "|  0   |  420  | 2.5548439025878906|\n",
              "|  0   |  430  | 1.361295223236084 |\n",
              "|  0   |  440  | 1.8424636125564575|\n",
              "|  0   |  450  | 1.6273949146270752|\n",
              "|  0   |  460  | 1.4123599529266357|\n",
              "|  0   |  470  | 1.3827754259109497|\n",
              "|  0   |  480  | 1.6837565898895264|\n",
              "+----------------------------------+\n"
            ],
            "text/html": [
              "<pre style=\"white-space:pre;overflow-x:auto;line-height:normal;font-family:Menlo,'DejaVu Sans Mono',consolas,'Courier New',monospace\"><span style=\"font-style: italic\">          Training Status           </span>\n",
              "+----------------------------------+\n",
              "|<span style=\"font-weight: bold\">Epoch </span>|<span style=\"font-weight: bold\"> Steps </span>|<span style=\"font-weight: bold\">        Loss       </span>|\n",
              "|------+-------+-------------------|\n",
              "|  0   |   0   | 4.039490222930908 |\n",
              "|  0   |  10   | 3.2894341945648193|\n",
              "|  0   |  20   | 2.5523319244384766|\n",
              "|  0   |  30   | 1.8200650215148926|\n",
              "|  0   |  40   | 3.1988394260406494|\n",
              "|  0   |  50   | 1.8601561784744263|\n",
              "|  0   |  60   | 3.601707935333252 |\n",
              "|  0   |  70   | 2.1952106952667236|\n",
              "|  0   |  80   | 2.0215158462524414|\n",
              "|  0   |  90   | 1.698337197303772 |\n",
              "|  0   |  100  | 2.6197521686553955|\n",
              "|  0   |  110  | 1.7945467233657837|\n",
              "|  0   |  120  | 1.4010474681854248|\n",
              "|  0   |  130  | 1.638759970664978 |\n",
              "|  0   |  140  | 2.2467503547668457|\n",
              "|  0   |  150  | 1.9709408283233643|\n",
              "|  0   |  160  | 1.0993891954421997|\n",
              "|  0   |  170  | 1.4091918468475342|\n",
              "|  0   |  180  | 1.5047993659973145|\n",
              "|  0   |  190  | 2.588116407394409 |\n",
              "|  0   |  200  | 2.077366590499878 |\n",
              "|  0   |  210  | 3.127763271331787 |\n",
              "|  0   |  220  | 2.1233701705932617|\n",
              "|  0   |  230  | 2.763334035873413 |\n",
              "|  0   |  240  | 1.7262789011001587|\n",
              "|  0   |  250  | 1.8740763664245605|\n",
              "|  0   |  260  | 1.8309264183044434|\n",
              "|  0   |  270  | 1.7474801540374756|\n",
              "|  0   |  280  | 1.745546579360962 |\n",
              "|  0   |  290  | 1.6305543184280396|\n",
              "|  0   |  300  | 2.3232553005218506|\n",
              "|  0   |  310  | 2.047292947769165 |\n",
              "|  0   |  320  | 1.3382582664489746|\n",
              "|  0   |  330  | 2.480006456375122 |\n",
              "|  0   |  340  | 2.166128635406494 |\n",
              "|  0   |  350  | 1.296427607536316 |\n",
              "|  0   |  360  | 2.752162456512451 |\n",
              "|  0   |  370  | 1.5691888332366943|\n",
              "|  0   |  380  | 1.3225054740905762|\n",
              "|  0   |  390  | 1.2947050333023071|\n",
              "|  0   |  400  | 2.420637845993042 |\n",
              "|  0   |  410  | 1.6933848857879639|\n",
              "|  0   |  420  | 2.5548439025878906|\n",
              "|  0   |  430  | 1.361295223236084 |\n",
              "|  0   |  440  | 1.8424636125564575|\n",
              "|  0   |  450  | 1.6273949146270752|\n",
              "|  0   |  460  | 1.4123599529266357|\n",
              "|  0   |  470  | 1.3827754259109497|\n",
              "|  0   |  480  | 1.6837565898895264|\n",
              "+----------------------------------+\n",
              "</pre>\n"
            ]
          },
          "metadata": {}
        },
        {
          "output_type": "display_data",
          "data": {
            "text/plain": [
              "Epoch:  \u001b[1;36m1\u001b[0m Steps:  \u001b[1;36m0\u001b[0m Loss:  \u001b[1;36m1.5926527976989746\u001b[0m\n"
            ],
            "text/html": [
              "<pre style=\"white-space:pre;overflow-x:auto;line-height:normal;font-family:Menlo,'DejaVu Sans Mono',consolas,'Courier New',monospace\">Epoch:  <span style=\"color: #008080; text-decoration-color: #008080; font-weight: bold\">1</span> Steps:  <span style=\"color: #008080; text-decoration-color: #008080; font-weight: bold\">0</span> Loss:  <span style=\"color: #008080; text-decoration-color: #008080; font-weight: bold\">1.5926527976989746</span>\n",
              "</pre>\n"
            ]
          },
          "metadata": {}
        },
        {
          "output_type": "display_data",
          "data": {
            "text/plain": [
              "Epoch:  \u001b[1;36m1\u001b[0m Steps:  \u001b[1;36m10\u001b[0m Loss:  \u001b[1;36m1.9007622003555298\u001b[0m\n"
            ],
            "text/html": [
              "<pre style=\"white-space:pre;overflow-x:auto;line-height:normal;font-family:Menlo,'DejaVu Sans Mono',consolas,'Courier New',monospace\">Epoch:  <span style=\"color: #008080; text-decoration-color: #008080; font-weight: bold\">1</span> Steps:  <span style=\"color: #008080; text-decoration-color: #008080; font-weight: bold\">10</span> Loss:  <span style=\"color: #008080; text-decoration-color: #008080; font-weight: bold\">1.9007622003555298</span>\n",
              "</pre>\n"
            ]
          },
          "metadata": {}
        },
        {
          "output_type": "display_data",
          "data": {
            "text/plain": [
              "Epoch:  \u001b[1;36m1\u001b[0m Steps:  \u001b[1;36m20\u001b[0m Loss:  \u001b[1;36m2.114285945892334\u001b[0m\n"
            ],
            "text/html": [
              "<pre style=\"white-space:pre;overflow-x:auto;line-height:normal;font-family:Menlo,'DejaVu Sans Mono',consolas,'Courier New',monospace\">Epoch:  <span style=\"color: #008080; text-decoration-color: #008080; font-weight: bold\">1</span> Steps:  <span style=\"color: #008080; text-decoration-color: #008080; font-weight: bold\">20</span> Loss:  <span style=\"color: #008080; text-decoration-color: #008080; font-weight: bold\">2.114285945892334</span>\n",
              "</pre>\n"
            ]
          },
          "metadata": {}
        },
        {
          "output_type": "display_data",
          "data": {
            "text/plain": [
              "Epoch:  \u001b[1;36m1\u001b[0m Steps:  \u001b[1;36m30\u001b[0m Loss:  \u001b[1;36m1.8309354782104492\u001b[0m\n"
            ],
            "text/html": [
              "<pre style=\"white-space:pre;overflow-x:auto;line-height:normal;font-family:Menlo,'DejaVu Sans Mono',consolas,'Courier New',monospace\">Epoch:  <span style=\"color: #008080; text-decoration-color: #008080; font-weight: bold\">1</span> Steps:  <span style=\"color: #008080; text-decoration-color: #008080; font-weight: bold\">30</span> Loss:  <span style=\"color: #008080; text-decoration-color: #008080; font-weight: bold\">1.8309354782104492</span>\n",
              "</pre>\n"
            ]
          },
          "metadata": {}
        },
        {
          "output_type": "display_data",
          "data": {
            "text/plain": [
              "Epoch:  \u001b[1;36m1\u001b[0m Steps:  \u001b[1;36m40\u001b[0m Loss:  \u001b[1;36m2.134009838104248\u001b[0m\n"
            ],
            "text/html": [
              "<pre style=\"white-space:pre;overflow-x:auto;line-height:normal;font-family:Menlo,'DejaVu Sans Mono',consolas,'Courier New',monospace\">Epoch:  <span style=\"color: #008080; text-decoration-color: #008080; font-weight: bold\">1</span> Steps:  <span style=\"color: #008080; text-decoration-color: #008080; font-weight: bold\">40</span> Loss:  <span style=\"color: #008080; text-decoration-color: #008080; font-weight: bold\">2.134009838104248</span>\n",
              "</pre>\n"
            ]
          },
          "metadata": {}
        },
        {
          "output_type": "display_data",
          "data": {
            "text/plain": [
              "Epoch:  \u001b[1;36m1\u001b[0m Steps:  \u001b[1;36m50\u001b[0m Loss:  \u001b[1;36m1.2697904109954834\u001b[0m\n"
            ],
            "text/html": [
              "<pre style=\"white-space:pre;overflow-x:auto;line-height:normal;font-family:Menlo,'DejaVu Sans Mono',consolas,'Courier New',monospace\">Epoch:  <span style=\"color: #008080; text-decoration-color: #008080; font-weight: bold\">1</span> Steps:  <span style=\"color: #008080; text-decoration-color: #008080; font-weight: bold\">50</span> Loss:  <span style=\"color: #008080; text-decoration-color: #008080; font-weight: bold\">1.2697904109954834</span>\n",
              "</pre>\n"
            ]
          },
          "metadata": {}
        },
        {
          "output_type": "display_data",
          "data": {
            "text/plain": [
              "Epoch:  \u001b[1;36m1\u001b[0m Steps:  \u001b[1;36m60\u001b[0m Loss:  \u001b[1;36m1.419739842414856\u001b[0m\n"
            ],
            "text/html": [
              "<pre style=\"white-space:pre;overflow-x:auto;line-height:normal;font-family:Menlo,'DejaVu Sans Mono',consolas,'Courier New',monospace\">Epoch:  <span style=\"color: #008080; text-decoration-color: #008080; font-weight: bold\">1</span> Steps:  <span style=\"color: #008080; text-decoration-color: #008080; font-weight: bold\">60</span> Loss:  <span style=\"color: #008080; text-decoration-color: #008080; font-weight: bold\">1.419739842414856</span>\n",
              "</pre>\n"
            ]
          },
          "metadata": {}
        },
        {
          "output_type": "display_data",
          "data": {
            "text/plain": [
              "Epoch:  \u001b[1;36m1\u001b[0m Steps:  \u001b[1;36m70\u001b[0m Loss:  \u001b[1;36m1.4723634719848633\u001b[0m\n"
            ],
            "text/html": [
              "<pre style=\"white-space:pre;overflow-x:auto;line-height:normal;font-family:Menlo,'DejaVu Sans Mono',consolas,'Courier New',monospace\">Epoch:  <span style=\"color: #008080; text-decoration-color: #008080; font-weight: bold\">1</span> Steps:  <span style=\"color: #008080; text-decoration-color: #008080; font-weight: bold\">70</span> Loss:  <span style=\"color: #008080; text-decoration-color: #008080; font-weight: bold\">1.4723634719848633</span>\n",
              "</pre>\n"
            ]
          },
          "metadata": {}
        },
        {
          "output_type": "display_data",
          "data": {
            "text/plain": [
              "Epoch:  \u001b[1;36m1\u001b[0m Steps:  \u001b[1;36m80\u001b[0m Loss:  \u001b[1;36m2.594395160675049\u001b[0m\n"
            ],
            "text/html": [
              "<pre style=\"white-space:pre;overflow-x:auto;line-height:normal;font-family:Menlo,'DejaVu Sans Mono',consolas,'Courier New',monospace\">Epoch:  <span style=\"color: #008080; text-decoration-color: #008080; font-weight: bold\">1</span> Steps:  <span style=\"color: #008080; text-decoration-color: #008080; font-weight: bold\">80</span> Loss:  <span style=\"color: #008080; text-decoration-color: #008080; font-weight: bold\">2.594395160675049</span>\n",
              "</pre>\n"
            ]
          },
          "metadata": {}
        },
        {
          "output_type": "display_data",
          "data": {
            "text/plain": [
              "Epoch:  \u001b[1;36m1\u001b[0m Steps:  \u001b[1;36m90\u001b[0m Loss:  \u001b[1;36m1.6627591848373413\u001b[0m\n"
            ],
            "text/html": [
              "<pre style=\"white-space:pre;overflow-x:auto;line-height:normal;font-family:Menlo,'DejaVu Sans Mono',consolas,'Courier New',monospace\">Epoch:  <span style=\"color: #008080; text-decoration-color: #008080; font-weight: bold\">1</span> Steps:  <span style=\"color: #008080; text-decoration-color: #008080; font-weight: bold\">90</span> Loss:  <span style=\"color: #008080; text-decoration-color: #008080; font-weight: bold\">1.6627591848373413</span>\n",
              "</pre>\n"
            ]
          },
          "metadata": {}
        },
        {
          "output_type": "display_data",
          "data": {
            "text/plain": [
              "Epoch:  \u001b[1;36m1\u001b[0m Steps:  \u001b[1;36m100\u001b[0m Loss:  \u001b[1;36m1.6252741813659668\u001b[0m\n"
            ],
            "text/html": [
              "<pre style=\"white-space:pre;overflow-x:auto;line-height:normal;font-family:Menlo,'DejaVu Sans Mono',consolas,'Courier New',monospace\">Epoch:  <span style=\"color: #008080; text-decoration-color: #008080; font-weight: bold\">1</span> Steps:  <span style=\"color: #008080; text-decoration-color: #008080; font-weight: bold\">100</span> Loss:  <span style=\"color: #008080; text-decoration-color: #008080; font-weight: bold\">1.6252741813659668</span>\n",
              "</pre>\n"
            ]
          },
          "metadata": {}
        },
        {
          "output_type": "display_data",
          "data": {
            "text/plain": [
              "Epoch:  \u001b[1;36m1\u001b[0m Steps:  \u001b[1;36m110\u001b[0m Loss:  \u001b[1;36m2.106780767440796\u001b[0m\n"
            ],
            "text/html": [
              "<pre style=\"white-space:pre;overflow-x:auto;line-height:normal;font-family:Menlo,'DejaVu Sans Mono',consolas,'Courier New',monospace\">Epoch:  <span style=\"color: #008080; text-decoration-color: #008080; font-weight: bold\">1</span> Steps:  <span style=\"color: #008080; text-decoration-color: #008080; font-weight: bold\">110</span> Loss:  <span style=\"color: #008080; text-decoration-color: #008080; font-weight: bold\">2.106780767440796</span>\n",
              "</pre>\n"
            ]
          },
          "metadata": {}
        },
        {
          "output_type": "display_data",
          "data": {
            "text/plain": [
              "Epoch:  \u001b[1;36m1\u001b[0m Steps:  \u001b[1;36m120\u001b[0m Loss:  \u001b[1;36m1.2947667837142944\u001b[0m\n"
            ],
            "text/html": [
              "<pre style=\"white-space:pre;overflow-x:auto;line-height:normal;font-family:Menlo,'DejaVu Sans Mono',consolas,'Courier New',monospace\">Epoch:  <span style=\"color: #008080; text-decoration-color: #008080; font-weight: bold\">1</span> Steps:  <span style=\"color: #008080; text-decoration-color: #008080; font-weight: bold\">120</span> Loss:  <span style=\"color: #008080; text-decoration-color: #008080; font-weight: bold\">1.2947667837142944</span>\n",
              "</pre>\n"
            ]
          },
          "metadata": {}
        },
        {
          "output_type": "display_data",
          "data": {
            "text/plain": [
              "Epoch:  \u001b[1;36m1\u001b[0m Steps:  \u001b[1;36m130\u001b[0m Loss:  \u001b[1;36m1.7343283891677856\u001b[0m\n"
            ],
            "text/html": [
              "<pre style=\"white-space:pre;overflow-x:auto;line-height:normal;font-family:Menlo,'DejaVu Sans Mono',consolas,'Courier New',monospace\">Epoch:  <span style=\"color: #008080; text-decoration-color: #008080; font-weight: bold\">1</span> Steps:  <span style=\"color: #008080; text-decoration-color: #008080; font-weight: bold\">130</span> Loss:  <span style=\"color: #008080; text-decoration-color: #008080; font-weight: bold\">1.7343283891677856</span>\n",
              "</pre>\n"
            ]
          },
          "metadata": {}
        },
        {
          "output_type": "display_data",
          "data": {
            "text/plain": [
              "Epoch:  \u001b[1;36m1\u001b[0m Steps:  \u001b[1;36m140\u001b[0m Loss:  \u001b[1;36m2.600947856903076\u001b[0m\n"
            ],
            "text/html": [
              "<pre style=\"white-space:pre;overflow-x:auto;line-height:normal;font-family:Menlo,'DejaVu Sans Mono',consolas,'Courier New',monospace\">Epoch:  <span style=\"color: #008080; text-decoration-color: #008080; font-weight: bold\">1</span> Steps:  <span style=\"color: #008080; text-decoration-color: #008080; font-weight: bold\">140</span> Loss:  <span style=\"color: #008080; text-decoration-color: #008080; font-weight: bold\">2.600947856903076</span>\n",
              "</pre>\n"
            ]
          },
          "metadata": {}
        },
        {
          "output_type": "display_data",
          "data": {
            "text/plain": [
              "Epoch:  \u001b[1;36m1\u001b[0m Steps:  \u001b[1;36m150\u001b[0m Loss:  \u001b[1;36m1.8625102043151855\u001b[0m\n"
            ],
            "text/html": [
              "<pre style=\"white-space:pre;overflow-x:auto;line-height:normal;font-family:Menlo,'DejaVu Sans Mono',consolas,'Courier New',monospace\">Epoch:  <span style=\"color: #008080; text-decoration-color: #008080; font-weight: bold\">1</span> Steps:  <span style=\"color: #008080; text-decoration-color: #008080; font-weight: bold\">150</span> Loss:  <span style=\"color: #008080; text-decoration-color: #008080; font-weight: bold\">1.8625102043151855</span>\n",
              "</pre>\n"
            ]
          },
          "metadata": {}
        },
        {
          "output_type": "display_data",
          "data": {
            "text/plain": [
              "Epoch:  \u001b[1;36m1\u001b[0m Steps:  \u001b[1;36m160\u001b[0m Loss:  \u001b[1;36m2.731292724609375\u001b[0m\n"
            ],
            "text/html": [
              "<pre style=\"white-space:pre;overflow-x:auto;line-height:normal;font-family:Menlo,'DejaVu Sans Mono',consolas,'Courier New',monospace\">Epoch:  <span style=\"color: #008080; text-decoration-color: #008080; font-weight: bold\">1</span> Steps:  <span style=\"color: #008080; text-decoration-color: #008080; font-weight: bold\">160</span> Loss:  <span style=\"color: #008080; text-decoration-color: #008080; font-weight: bold\">2.731292724609375</span>\n",
              "</pre>\n"
            ]
          },
          "metadata": {}
        },
        {
          "output_type": "display_data",
          "data": {
            "text/plain": [
              "Epoch:  \u001b[1;36m1\u001b[0m Steps:  \u001b[1;36m170\u001b[0m Loss:  \u001b[1;36m2.035606861114502\u001b[0m\n"
            ],
            "text/html": [
              "<pre style=\"white-space:pre;overflow-x:auto;line-height:normal;font-family:Menlo,'DejaVu Sans Mono',consolas,'Courier New',monospace\">Epoch:  <span style=\"color: #008080; text-decoration-color: #008080; font-weight: bold\">1</span> Steps:  <span style=\"color: #008080; text-decoration-color: #008080; font-weight: bold\">170</span> Loss:  <span style=\"color: #008080; text-decoration-color: #008080; font-weight: bold\">2.035606861114502</span>\n",
              "</pre>\n"
            ]
          },
          "metadata": {}
        },
        {
          "output_type": "display_data",
          "data": {
            "text/plain": [
              "Epoch:  \u001b[1;36m1\u001b[0m Steps:  \u001b[1;36m180\u001b[0m Loss:  \u001b[1;36m2.4038150310516357\u001b[0m\n"
            ],
            "text/html": [
              "<pre style=\"white-space:pre;overflow-x:auto;line-height:normal;font-family:Menlo,'DejaVu Sans Mono',consolas,'Courier New',monospace\">Epoch:  <span style=\"color: #008080; text-decoration-color: #008080; font-weight: bold\">1</span> Steps:  <span style=\"color: #008080; text-decoration-color: #008080; font-weight: bold\">180</span> Loss:  <span style=\"color: #008080; text-decoration-color: #008080; font-weight: bold\">2.4038150310516357</span>\n",
              "</pre>\n"
            ]
          },
          "metadata": {}
        },
        {
          "output_type": "display_data",
          "data": {
            "text/plain": [
              "Epoch:  \u001b[1;36m1\u001b[0m Steps:  \u001b[1;36m190\u001b[0m Loss:  \u001b[1;36m1.6788381338119507\u001b[0m\n"
            ],
            "text/html": [
              "<pre style=\"white-space:pre;overflow-x:auto;line-height:normal;font-family:Menlo,'DejaVu Sans Mono',consolas,'Courier New',monospace\">Epoch:  <span style=\"color: #008080; text-decoration-color: #008080; font-weight: bold\">1</span> Steps:  <span style=\"color: #008080; text-decoration-color: #008080; font-weight: bold\">190</span> Loss:  <span style=\"color: #008080; text-decoration-color: #008080; font-weight: bold\">1.6788381338119507</span>\n",
              "</pre>\n"
            ]
          },
          "metadata": {}
        },
        {
          "output_type": "display_data",
          "data": {
            "text/plain": [
              "Epoch:  \u001b[1;36m1\u001b[0m Steps:  \u001b[1;36m200\u001b[0m Loss:  \u001b[1;36m2.122746467590332\u001b[0m\n"
            ],
            "text/html": [
              "<pre style=\"white-space:pre;overflow-x:auto;line-height:normal;font-family:Menlo,'DejaVu Sans Mono',consolas,'Courier New',monospace\">Epoch:  <span style=\"color: #008080; text-decoration-color: #008080; font-weight: bold\">1</span> Steps:  <span style=\"color: #008080; text-decoration-color: #008080; font-weight: bold\">200</span> Loss:  <span style=\"color: #008080; text-decoration-color: #008080; font-weight: bold\">2.122746467590332</span>\n",
              "</pre>\n"
            ]
          },
          "metadata": {}
        },
        {
          "output_type": "display_data",
          "data": {
            "text/plain": [
              "Epoch:  \u001b[1;36m1\u001b[0m Steps:  \u001b[1;36m210\u001b[0m Loss:  \u001b[1;36m1.992264986038208\u001b[0m\n"
            ],
            "text/html": [
              "<pre style=\"white-space:pre;overflow-x:auto;line-height:normal;font-family:Menlo,'DejaVu Sans Mono',consolas,'Courier New',monospace\">Epoch:  <span style=\"color: #008080; text-decoration-color: #008080; font-weight: bold\">1</span> Steps:  <span style=\"color: #008080; text-decoration-color: #008080; font-weight: bold\">210</span> Loss:  <span style=\"color: #008080; text-decoration-color: #008080; font-weight: bold\">1.992264986038208</span>\n",
              "</pre>\n"
            ]
          },
          "metadata": {}
        },
        {
          "output_type": "display_data",
          "data": {
            "text/plain": [
              "Epoch:  \u001b[1;36m1\u001b[0m Steps:  \u001b[1;36m220\u001b[0m Loss:  \u001b[1;36m1.6194077730178833\u001b[0m\n"
            ],
            "text/html": [
              "<pre style=\"white-space:pre;overflow-x:auto;line-height:normal;font-family:Menlo,'DejaVu Sans Mono',consolas,'Courier New',monospace\">Epoch:  <span style=\"color: #008080; text-decoration-color: #008080; font-weight: bold\">1</span> Steps:  <span style=\"color: #008080; text-decoration-color: #008080; font-weight: bold\">220</span> Loss:  <span style=\"color: #008080; text-decoration-color: #008080; font-weight: bold\">1.6194077730178833</span>\n",
              "</pre>\n"
            ]
          },
          "metadata": {}
        },
        {
          "output_type": "display_data",
          "data": {
            "text/plain": [
              "Epoch:  \u001b[1;36m1\u001b[0m Steps:  \u001b[1;36m230\u001b[0m Loss:  \u001b[1;36m2.152817726135254\u001b[0m\n"
            ],
            "text/html": [
              "<pre style=\"white-space:pre;overflow-x:auto;line-height:normal;font-family:Menlo,'DejaVu Sans Mono',consolas,'Courier New',monospace\">Epoch:  <span style=\"color: #008080; text-decoration-color: #008080; font-weight: bold\">1</span> Steps:  <span style=\"color: #008080; text-decoration-color: #008080; font-weight: bold\">230</span> Loss:  <span style=\"color: #008080; text-decoration-color: #008080; font-weight: bold\">2.152817726135254</span>\n",
              "</pre>\n"
            ]
          },
          "metadata": {}
        },
        {
          "output_type": "display_data",
          "data": {
            "text/plain": [
              "Epoch:  \u001b[1;36m1\u001b[0m Steps:  \u001b[1;36m240\u001b[0m Loss:  \u001b[1;36m1.8977798223495483\u001b[0m\n"
            ],
            "text/html": [
              "<pre style=\"white-space:pre;overflow-x:auto;line-height:normal;font-family:Menlo,'DejaVu Sans Mono',consolas,'Courier New',monospace\">Epoch:  <span style=\"color: #008080; text-decoration-color: #008080; font-weight: bold\">1</span> Steps:  <span style=\"color: #008080; text-decoration-color: #008080; font-weight: bold\">240</span> Loss:  <span style=\"color: #008080; text-decoration-color: #008080; font-weight: bold\">1.8977798223495483</span>\n",
              "</pre>\n"
            ]
          },
          "metadata": {}
        },
        {
          "output_type": "display_data",
          "data": {
            "text/plain": [
              "Epoch:  \u001b[1;36m1\u001b[0m Steps:  \u001b[1;36m250\u001b[0m Loss:  \u001b[1;36m3.178227663040161\u001b[0m\n"
            ],
            "text/html": [
              "<pre style=\"white-space:pre;overflow-x:auto;line-height:normal;font-family:Menlo,'DejaVu Sans Mono',consolas,'Courier New',monospace\">Epoch:  <span style=\"color: #008080; text-decoration-color: #008080; font-weight: bold\">1</span> Steps:  <span style=\"color: #008080; text-decoration-color: #008080; font-weight: bold\">250</span> Loss:  <span style=\"color: #008080; text-decoration-color: #008080; font-weight: bold\">3.178227663040161</span>\n",
              "</pre>\n"
            ]
          },
          "metadata": {}
        },
        {
          "output_type": "display_data",
          "data": {
            "text/plain": [
              "Epoch:  \u001b[1;36m1\u001b[0m Steps:  \u001b[1;36m260\u001b[0m Loss:  \u001b[1;36m1.3307596445083618\u001b[0m\n"
            ],
            "text/html": [
              "<pre style=\"white-space:pre;overflow-x:auto;line-height:normal;font-family:Menlo,'DejaVu Sans Mono',consolas,'Courier New',monospace\">Epoch:  <span style=\"color: #008080; text-decoration-color: #008080; font-weight: bold\">1</span> Steps:  <span style=\"color: #008080; text-decoration-color: #008080; font-weight: bold\">260</span> Loss:  <span style=\"color: #008080; text-decoration-color: #008080; font-weight: bold\">1.3307596445083618</span>\n",
              "</pre>\n"
            ]
          },
          "metadata": {}
        },
        {
          "output_type": "display_data",
          "data": {
            "text/plain": [
              "Epoch:  \u001b[1;36m1\u001b[0m Steps:  \u001b[1;36m270\u001b[0m Loss:  \u001b[1;36m2.240286111831665\u001b[0m\n"
            ],
            "text/html": [
              "<pre style=\"white-space:pre;overflow-x:auto;line-height:normal;font-family:Menlo,'DejaVu Sans Mono',consolas,'Courier New',monospace\">Epoch:  <span style=\"color: #008080; text-decoration-color: #008080; font-weight: bold\">1</span> Steps:  <span style=\"color: #008080; text-decoration-color: #008080; font-weight: bold\">270</span> Loss:  <span style=\"color: #008080; text-decoration-color: #008080; font-weight: bold\">2.240286111831665</span>\n",
              "</pre>\n"
            ]
          },
          "metadata": {}
        },
        {
          "output_type": "display_data",
          "data": {
            "text/plain": [
              "Epoch:  \u001b[1;36m1\u001b[0m Steps:  \u001b[1;36m280\u001b[0m Loss:  \u001b[1;36m2.4726834297180176\u001b[0m\n"
            ],
            "text/html": [
              "<pre style=\"white-space:pre;overflow-x:auto;line-height:normal;font-family:Menlo,'DejaVu Sans Mono',consolas,'Courier New',monospace\">Epoch:  <span style=\"color: #008080; text-decoration-color: #008080; font-weight: bold\">1</span> Steps:  <span style=\"color: #008080; text-decoration-color: #008080; font-weight: bold\">280</span> Loss:  <span style=\"color: #008080; text-decoration-color: #008080; font-weight: bold\">2.4726834297180176</span>\n",
              "</pre>\n"
            ]
          },
          "metadata": {}
        },
        {
          "output_type": "display_data",
          "data": {
            "text/plain": [
              "Epoch:  \u001b[1;36m1\u001b[0m Steps:  \u001b[1;36m290\u001b[0m Loss:  \u001b[1;36m2.719710350036621\u001b[0m\n"
            ],
            "text/html": [
              "<pre style=\"white-space:pre;overflow-x:auto;line-height:normal;font-family:Menlo,'DejaVu Sans Mono',consolas,'Courier New',monospace\">Epoch:  <span style=\"color: #008080; text-decoration-color: #008080; font-weight: bold\">1</span> Steps:  <span style=\"color: #008080; text-decoration-color: #008080; font-weight: bold\">290</span> Loss:  <span style=\"color: #008080; text-decoration-color: #008080; font-weight: bold\">2.719710350036621</span>\n",
              "</pre>\n"
            ]
          },
          "metadata": {}
        },
        {
          "output_type": "display_data",
          "data": {
            "text/plain": [
              "Epoch:  \u001b[1;36m1\u001b[0m Steps:  \u001b[1;36m300\u001b[0m Loss:  \u001b[1;36m2.7032546997070312\u001b[0m\n"
            ],
            "text/html": [
              "<pre style=\"white-space:pre;overflow-x:auto;line-height:normal;font-family:Menlo,'DejaVu Sans Mono',consolas,'Courier New',monospace\">Epoch:  <span style=\"color: #008080; text-decoration-color: #008080; font-weight: bold\">1</span> Steps:  <span style=\"color: #008080; text-decoration-color: #008080; font-weight: bold\">300</span> Loss:  <span style=\"color: #008080; text-decoration-color: #008080; font-weight: bold\">2.7032546997070312</span>\n",
              "</pre>\n"
            ]
          },
          "metadata": {}
        },
        {
          "output_type": "display_data",
          "data": {
            "text/plain": [
              "Epoch:  \u001b[1;36m1\u001b[0m Steps:  \u001b[1;36m310\u001b[0m Loss:  \u001b[1;36m1.3401644229888916\u001b[0m\n"
            ],
            "text/html": [
              "<pre style=\"white-space:pre;overflow-x:auto;line-height:normal;font-family:Menlo,'DejaVu Sans Mono',consolas,'Courier New',monospace\">Epoch:  <span style=\"color: #008080; text-decoration-color: #008080; font-weight: bold\">1</span> Steps:  <span style=\"color: #008080; text-decoration-color: #008080; font-weight: bold\">310</span> Loss:  <span style=\"color: #008080; text-decoration-color: #008080; font-weight: bold\">1.3401644229888916</span>\n",
              "</pre>\n"
            ]
          },
          "metadata": {}
        },
        {
          "output_type": "display_data",
          "data": {
            "text/plain": [
              "Epoch:  \u001b[1;36m1\u001b[0m Steps:  \u001b[1;36m320\u001b[0m Loss:  \u001b[1;36m1.0109622478485107\u001b[0m\n"
            ],
            "text/html": [
              "<pre style=\"white-space:pre;overflow-x:auto;line-height:normal;font-family:Menlo,'DejaVu Sans Mono',consolas,'Courier New',monospace\">Epoch:  <span style=\"color: #008080; text-decoration-color: #008080; font-weight: bold\">1</span> Steps:  <span style=\"color: #008080; text-decoration-color: #008080; font-weight: bold\">320</span> Loss:  <span style=\"color: #008080; text-decoration-color: #008080; font-weight: bold\">1.0109622478485107</span>\n",
              "</pre>\n"
            ]
          },
          "metadata": {}
        },
        {
          "output_type": "display_data",
          "data": {
            "text/plain": [
              "Epoch:  \u001b[1;36m1\u001b[0m Steps:  \u001b[1;36m330\u001b[0m Loss:  \u001b[1;36m2.81789231300354\u001b[0m\n"
            ],
            "text/html": [
              "<pre style=\"white-space:pre;overflow-x:auto;line-height:normal;font-family:Menlo,'DejaVu Sans Mono',consolas,'Courier New',monospace\">Epoch:  <span style=\"color: #008080; text-decoration-color: #008080; font-weight: bold\">1</span> Steps:  <span style=\"color: #008080; text-decoration-color: #008080; font-weight: bold\">330</span> Loss:  <span style=\"color: #008080; text-decoration-color: #008080; font-weight: bold\">2.81789231300354</span>\n",
              "</pre>\n"
            ]
          },
          "metadata": {}
        },
        {
          "output_type": "display_data",
          "data": {
            "text/plain": [
              "Epoch:  \u001b[1;36m1\u001b[0m Steps:  \u001b[1;36m340\u001b[0m Loss:  \u001b[1;36m3.3793447017669678\u001b[0m\n"
            ],
            "text/html": [
              "<pre style=\"white-space:pre;overflow-x:auto;line-height:normal;font-family:Menlo,'DejaVu Sans Mono',consolas,'Courier New',monospace\">Epoch:  <span style=\"color: #008080; text-decoration-color: #008080; font-weight: bold\">1</span> Steps:  <span style=\"color: #008080; text-decoration-color: #008080; font-weight: bold\">340</span> Loss:  <span style=\"color: #008080; text-decoration-color: #008080; font-weight: bold\">3.3793447017669678</span>\n",
              "</pre>\n"
            ]
          },
          "metadata": {}
        },
        {
          "output_type": "display_data",
          "data": {
            "text/plain": [
              "Epoch:  \u001b[1;36m1\u001b[0m Steps:  \u001b[1;36m350\u001b[0m Loss:  \u001b[1;36m1.9157602787017822\u001b[0m\n"
            ],
            "text/html": [
              "<pre style=\"white-space:pre;overflow-x:auto;line-height:normal;font-family:Menlo,'DejaVu Sans Mono',consolas,'Courier New',monospace\">Epoch:  <span style=\"color: #008080; text-decoration-color: #008080; font-weight: bold\">1</span> Steps:  <span style=\"color: #008080; text-decoration-color: #008080; font-weight: bold\">350</span> Loss:  <span style=\"color: #008080; text-decoration-color: #008080; font-weight: bold\">1.9157602787017822</span>\n",
              "</pre>\n"
            ]
          },
          "metadata": {}
        },
        {
          "output_type": "display_data",
          "data": {
            "text/plain": [
              "Epoch:  \u001b[1;36m1\u001b[0m Steps:  \u001b[1;36m360\u001b[0m Loss:  \u001b[1;36m1.8277888298034668\u001b[0m\n"
            ],
            "text/html": [
              "<pre style=\"white-space:pre;overflow-x:auto;line-height:normal;font-family:Menlo,'DejaVu Sans Mono',consolas,'Courier New',monospace\">Epoch:  <span style=\"color: #008080; text-decoration-color: #008080; font-weight: bold\">1</span> Steps:  <span style=\"color: #008080; text-decoration-color: #008080; font-weight: bold\">360</span> Loss:  <span style=\"color: #008080; text-decoration-color: #008080; font-weight: bold\">1.8277888298034668</span>\n",
              "</pre>\n"
            ]
          },
          "metadata": {}
        },
        {
          "output_type": "display_data",
          "data": {
            "text/plain": [
              "Epoch:  \u001b[1;36m1\u001b[0m Steps:  \u001b[1;36m370\u001b[0m Loss:  \u001b[1;36m2.016714334487915\u001b[0m\n"
            ],
            "text/html": [
              "<pre style=\"white-space:pre;overflow-x:auto;line-height:normal;font-family:Menlo,'DejaVu Sans Mono',consolas,'Courier New',monospace\">Epoch:  <span style=\"color: #008080; text-decoration-color: #008080; font-weight: bold\">1</span> Steps:  <span style=\"color: #008080; text-decoration-color: #008080; font-weight: bold\">370</span> Loss:  <span style=\"color: #008080; text-decoration-color: #008080; font-weight: bold\">2.016714334487915</span>\n",
              "</pre>\n"
            ]
          },
          "metadata": {}
        },
        {
          "output_type": "display_data",
          "data": {
            "text/plain": [
              "Epoch:  \u001b[1;36m1\u001b[0m Steps:  \u001b[1;36m380\u001b[0m Loss:  \u001b[1;36m1.724226951599121\u001b[0m\n"
            ],
            "text/html": [
              "<pre style=\"white-space:pre;overflow-x:auto;line-height:normal;font-family:Menlo,'DejaVu Sans Mono',consolas,'Courier New',monospace\">Epoch:  <span style=\"color: #008080; text-decoration-color: #008080; font-weight: bold\">1</span> Steps:  <span style=\"color: #008080; text-decoration-color: #008080; font-weight: bold\">380</span> Loss:  <span style=\"color: #008080; text-decoration-color: #008080; font-weight: bold\">1.724226951599121</span>\n",
              "</pre>\n"
            ]
          },
          "metadata": {}
        },
        {
          "output_type": "display_data",
          "data": {
            "text/plain": [
              "Epoch:  \u001b[1;36m1\u001b[0m Steps:  \u001b[1;36m390\u001b[0m Loss:  \u001b[1;36m3.0291526317596436\u001b[0m\n"
            ],
            "text/html": [
              "<pre style=\"white-space:pre;overflow-x:auto;line-height:normal;font-family:Menlo,'DejaVu Sans Mono',consolas,'Courier New',monospace\">Epoch:  <span style=\"color: #008080; text-decoration-color: #008080; font-weight: bold\">1</span> Steps:  <span style=\"color: #008080; text-decoration-color: #008080; font-weight: bold\">390</span> Loss:  <span style=\"color: #008080; text-decoration-color: #008080; font-weight: bold\">3.0291526317596436</span>\n",
              "</pre>\n"
            ]
          },
          "metadata": {}
        },
        {
          "output_type": "display_data",
          "data": {
            "text/plain": [
              "Epoch:  \u001b[1;36m1\u001b[0m Steps:  \u001b[1;36m400\u001b[0m Loss:  \u001b[1;36m1.3765852451324463\u001b[0m\n"
            ],
            "text/html": [
              "<pre style=\"white-space:pre;overflow-x:auto;line-height:normal;font-family:Menlo,'DejaVu Sans Mono',consolas,'Courier New',monospace\">Epoch:  <span style=\"color: #008080; text-decoration-color: #008080; font-weight: bold\">1</span> Steps:  <span style=\"color: #008080; text-decoration-color: #008080; font-weight: bold\">400</span> Loss:  <span style=\"color: #008080; text-decoration-color: #008080; font-weight: bold\">1.3765852451324463</span>\n",
              "</pre>\n"
            ]
          },
          "metadata": {}
        },
        {
          "output_type": "display_data",
          "data": {
            "text/plain": [
              "Epoch:  \u001b[1;36m1\u001b[0m Steps:  \u001b[1;36m410\u001b[0m Loss:  \u001b[1;36m1.5426315069198608\u001b[0m\n"
            ],
            "text/html": [
              "<pre style=\"white-space:pre;overflow-x:auto;line-height:normal;font-family:Menlo,'DejaVu Sans Mono',consolas,'Courier New',monospace\">Epoch:  <span style=\"color: #008080; text-decoration-color: #008080; font-weight: bold\">1</span> Steps:  <span style=\"color: #008080; text-decoration-color: #008080; font-weight: bold\">410</span> Loss:  <span style=\"color: #008080; text-decoration-color: #008080; font-weight: bold\">1.5426315069198608</span>\n",
              "</pre>\n"
            ]
          },
          "metadata": {}
        },
        {
          "output_type": "display_data",
          "data": {
            "text/plain": [
              "Epoch:  \u001b[1;36m1\u001b[0m Steps:  \u001b[1;36m420\u001b[0m Loss:  \u001b[1;36m1.3780428171157837\u001b[0m\n"
            ],
            "text/html": [
              "<pre style=\"white-space:pre;overflow-x:auto;line-height:normal;font-family:Menlo,'DejaVu Sans Mono',consolas,'Courier New',monospace\">Epoch:  <span style=\"color: #008080; text-decoration-color: #008080; font-weight: bold\">1</span> Steps:  <span style=\"color: #008080; text-decoration-color: #008080; font-weight: bold\">420</span> Loss:  <span style=\"color: #008080; text-decoration-color: #008080; font-weight: bold\">1.3780428171157837</span>\n",
              "</pre>\n"
            ]
          },
          "metadata": {}
        },
        {
          "output_type": "display_data",
          "data": {
            "text/plain": [
              "Epoch:  \u001b[1;36m1\u001b[0m Steps:  \u001b[1;36m430\u001b[0m Loss:  \u001b[1;36m2.265836238861084\u001b[0m\n"
            ],
            "text/html": [
              "<pre style=\"white-space:pre;overflow-x:auto;line-height:normal;font-family:Menlo,'DejaVu Sans Mono',consolas,'Courier New',monospace\">Epoch:  <span style=\"color: #008080; text-decoration-color: #008080; font-weight: bold\">1</span> Steps:  <span style=\"color: #008080; text-decoration-color: #008080; font-weight: bold\">430</span> Loss:  <span style=\"color: #008080; text-decoration-color: #008080; font-weight: bold\">2.265836238861084</span>\n",
              "</pre>\n"
            ]
          },
          "metadata": {}
        },
        {
          "output_type": "display_data",
          "data": {
            "text/plain": [
              "Epoch:  \u001b[1;36m1\u001b[0m Steps:  \u001b[1;36m440\u001b[0m Loss:  \u001b[1;36m2.12416672706604\u001b[0m\n"
            ],
            "text/html": [
              "<pre style=\"white-space:pre;overflow-x:auto;line-height:normal;font-family:Menlo,'DejaVu Sans Mono',consolas,'Courier New',monospace\">Epoch:  <span style=\"color: #008080; text-decoration-color: #008080; font-weight: bold\">1</span> Steps:  <span style=\"color: #008080; text-decoration-color: #008080; font-weight: bold\">440</span> Loss:  <span style=\"color: #008080; text-decoration-color: #008080; font-weight: bold\">2.12416672706604</span>\n",
              "</pre>\n"
            ]
          },
          "metadata": {}
        },
        {
          "output_type": "display_data",
          "data": {
            "text/plain": [
              "Epoch:  \u001b[1;36m1\u001b[0m Steps:  \u001b[1;36m450\u001b[0m Loss:  \u001b[1;36m1.6840038299560547\u001b[0m\n"
            ],
            "text/html": [
              "<pre style=\"white-space:pre;overflow-x:auto;line-height:normal;font-family:Menlo,'DejaVu Sans Mono',consolas,'Courier New',monospace\">Epoch:  <span style=\"color: #008080; text-decoration-color: #008080; font-weight: bold\">1</span> Steps:  <span style=\"color: #008080; text-decoration-color: #008080; font-weight: bold\">450</span> Loss:  <span style=\"color: #008080; text-decoration-color: #008080; font-weight: bold\">1.6840038299560547</span>\n",
              "</pre>\n"
            ]
          },
          "metadata": {}
        },
        {
          "output_type": "display_data",
          "data": {
            "text/plain": [
              "Epoch:  \u001b[1;36m1\u001b[0m Steps:  \u001b[1;36m460\u001b[0m Loss:  \u001b[1;36m1.2234470844268799\u001b[0m\n"
            ],
            "text/html": [
              "<pre style=\"white-space:pre;overflow-x:auto;line-height:normal;font-family:Menlo,'DejaVu Sans Mono',consolas,'Courier New',monospace\">Epoch:  <span style=\"color: #008080; text-decoration-color: #008080; font-weight: bold\">1</span> Steps:  <span style=\"color: #008080; text-decoration-color: #008080; font-weight: bold\">460</span> Loss:  <span style=\"color: #008080; text-decoration-color: #008080; font-weight: bold\">1.2234470844268799</span>\n",
              "</pre>\n"
            ]
          },
          "metadata": {}
        },
        {
          "output_type": "display_data",
          "data": {
            "text/plain": [
              "Epoch:  \u001b[1;36m1\u001b[0m Steps:  \u001b[1;36m470\u001b[0m Loss:  \u001b[1;36m1.0852924585342407\u001b[0m\n"
            ],
            "text/html": [
              "<pre style=\"white-space:pre;overflow-x:auto;line-height:normal;font-family:Menlo,'DejaVu Sans Mono',consolas,'Courier New',monospace\">Epoch:  <span style=\"color: #008080; text-decoration-color: #008080; font-weight: bold\">1</span> Steps:  <span style=\"color: #008080; text-decoration-color: #008080; font-weight: bold\">470</span> Loss:  <span style=\"color: #008080; text-decoration-color: #008080; font-weight: bold\">1.0852924585342407</span>\n",
              "</pre>\n"
            ]
          },
          "metadata": {}
        },
        {
          "output_type": "display_data",
          "data": {
            "text/plain": [
              "Epoch:  \u001b[1;36m1\u001b[0m Steps:  \u001b[1;36m480\u001b[0m Loss:  \u001b[1;36m2.520930051803589\u001b[0m\n"
            ],
            "text/html": [
              "<pre style=\"white-space:pre;overflow-x:auto;line-height:normal;font-family:Menlo,'DejaVu Sans Mono',consolas,'Courier New',monospace\">Epoch:  <span style=\"color: #008080; text-decoration-color: #008080; font-weight: bold\">1</span> Steps:  <span style=\"color: #008080; text-decoration-color: #008080; font-weight: bold\">480</span> Loss:  <span style=\"color: #008080; text-decoration-color: #008080; font-weight: bold\">2.520930051803589</span>\n",
              "</pre>\n"
            ]
          },
          "metadata": {}
        },
        {
          "output_type": "display_data",
          "data": {
            "text/plain": [
              "\u001b[3m          Training Status           \u001b[0m\n",
              "+----------------------------------+\n",
              "|\u001b[1mEpoch\u001b[0m\u001b[1m \u001b[0m|\u001b[1m \u001b[0m\u001b[1mSteps\u001b[0m\u001b[1m \u001b[0m|\u001b[1m \u001b[0m\u001b[1m       Loss       \u001b[0m|\n",
              "|------+-------+-------------------|\n",
              "|  0   |   0   | 4.039490222930908 |\n",
              "|  0   |  10   | 3.2894341945648193|\n",
              "|  0   |  20   | 2.5523319244384766|\n",
              "|  0   |  30   | 1.8200650215148926|\n",
              "|  0   |  40   | 3.1988394260406494|\n",
              "|  0   |  50   | 1.8601561784744263|\n",
              "|  0   |  60   | 3.601707935333252 |\n",
              "|  0   |  70   | 2.1952106952667236|\n",
              "|  0   |  80   | 2.0215158462524414|\n",
              "|  0   |  90   | 1.698337197303772 |\n",
              "|  0   |  100  | 2.6197521686553955|\n",
              "|  0   |  110  | 1.7945467233657837|\n",
              "|  0   |  120  | 1.4010474681854248|\n",
              "|  0   |  130  | 1.638759970664978 |\n",
              "|  0   |  140  | 2.2467503547668457|\n",
              "|  0   |  150  | 1.9709408283233643|\n",
              "|  0   |  160  | 1.0993891954421997|\n",
              "|  0   |  170  | 1.4091918468475342|\n",
              "|  0   |  180  | 1.5047993659973145|\n",
              "|  0   |  190  | 2.588116407394409 |\n",
              "|  0   |  200  | 2.077366590499878 |\n",
              "|  0   |  210  | 3.127763271331787 |\n",
              "|  0   |  220  | 2.1233701705932617|\n",
              "|  0   |  230  | 2.763334035873413 |\n",
              "|  0   |  240  | 1.7262789011001587|\n",
              "|  0   |  250  | 1.8740763664245605|\n",
              "|  0   |  260  | 1.8309264183044434|\n",
              "|  0   |  270  | 1.7474801540374756|\n",
              "|  0   |  280  | 1.745546579360962 |\n",
              "|  0   |  290  | 1.6305543184280396|\n",
              "|  0   |  300  | 2.3232553005218506|\n",
              "|  0   |  310  | 2.047292947769165 |\n",
              "|  0   |  320  | 1.3382582664489746|\n",
              "|  0   |  330  | 2.480006456375122 |\n",
              "|  0   |  340  | 2.166128635406494 |\n",
              "|  0   |  350  | 1.296427607536316 |\n",
              "|  0   |  360  | 2.752162456512451 |\n",
              "|  0   |  370  | 1.5691888332366943|\n",
              "|  0   |  380  | 1.3225054740905762|\n",
              "|  0   |  390  | 1.2947050333023071|\n",
              "|  0   |  400  | 2.420637845993042 |\n",
              "|  0   |  410  | 1.6933848857879639|\n",
              "|  0   |  420  | 2.5548439025878906|\n",
              "|  0   |  430  | 1.361295223236084 |\n",
              "|  0   |  440  | 1.8424636125564575|\n",
              "|  0   |  450  | 1.6273949146270752|\n",
              "|  0   |  460  | 1.4123599529266357|\n",
              "|  0   |  470  | 1.3827754259109497|\n",
              "|  0   |  480  | 1.6837565898895264|\n",
              "|  1   |   0   | 1.5926527976989746|\n",
              "|  1   |  10   | 1.9007622003555298|\n",
              "|  1   |  20   | 2.114285945892334 |\n",
              "|  1   |  30   | 1.8309354782104492|\n",
              "|  1   |  40   | 2.134009838104248 |\n",
              "|  1   |  50   | 1.2697904109954834|\n",
              "|  1   |  60   | 1.419739842414856 |\n",
              "|  1   |  70   | 1.4723634719848633|\n",
              "|  1   |  80   | 2.594395160675049 |\n",
              "|  1   |  90   | 1.6627591848373413|\n",
              "|  1   |  100  | 1.6252741813659668|\n",
              "|  1   |  110  | 2.106780767440796 |\n",
              "|  1   |  120  | 1.2947667837142944|\n",
              "|  1   |  130  | 1.7343283891677856|\n",
              "|  1   |  140  | 2.600947856903076 |\n",
              "|  1   |  150  | 1.8625102043151855|\n",
              "|  1   |  160  | 2.731292724609375 |\n",
              "|  1   |  170  | 2.035606861114502 |\n",
              "|  1   |  180  | 2.4038150310516357|\n",
              "|  1   |  190  | 1.6788381338119507|\n",
              "|  1   |  200  | 2.122746467590332 |\n",
              "|  1   |  210  | 1.992264986038208 |\n",
              "|  1   |  220  | 1.6194077730178833|\n",
              "|  1   |  230  | 2.152817726135254 |\n",
              "|  1   |  240  | 1.8977798223495483|\n",
              "|  1   |  250  | 3.178227663040161 |\n",
              "|  1   |  260  | 1.3307596445083618|\n",
              "|  1   |  270  | 2.240286111831665 |\n",
              "|  1   |  280  | 2.4726834297180176|\n",
              "|  1   |  290  | 2.719710350036621 |\n",
              "|  1   |  300  | 2.7032546997070312|\n",
              "|  1   |  310  | 1.3401644229888916|\n",
              "|  1   |  320  | 1.0109622478485107|\n",
              "|  1   |  330  |  2.81789231300354 |\n",
              "|  1   |  340  | 3.3793447017669678|\n",
              "|  1   |  350  | 1.9157602787017822|\n",
              "|  1   |  360  | 1.8277888298034668|\n",
              "|  1   |  370  | 2.016714334487915 |\n",
              "|  1   |  380  | 1.724226951599121 |\n",
              "|  1   |  390  | 3.0291526317596436|\n",
              "|  1   |  400  | 1.3765852451324463|\n",
              "|  1   |  410  | 1.5426315069198608|\n",
              "|  1   |  420  | 1.3780428171157837|\n",
              "|  1   |  430  | 2.265836238861084 |\n",
              "|  1   |  440  |  2.12416672706604 |\n",
              "|  1   |  450  | 1.6840038299560547|\n",
              "|  1   |  460  | 1.2234470844268799|\n",
              "|  1   |  470  | 1.0852924585342407|\n",
              "|  1   |  480  | 2.520930051803589 |\n",
              "+----------------------------------+\n"
            ],
            "text/html": [
              "<pre style=\"white-space:pre;overflow-x:auto;line-height:normal;font-family:Menlo,'DejaVu Sans Mono',consolas,'Courier New',monospace\"><span style=\"font-style: italic\">          Training Status           </span>\n",
              "+----------------------------------+\n",
              "|<span style=\"font-weight: bold\">Epoch </span>|<span style=\"font-weight: bold\"> Steps </span>|<span style=\"font-weight: bold\">        Loss       </span>|\n",
              "|------+-------+-------------------|\n",
              "|  0   |   0   | 4.039490222930908 |\n",
              "|  0   |  10   | 3.2894341945648193|\n",
              "|  0   |  20   | 2.5523319244384766|\n",
              "|  0   |  30   | 1.8200650215148926|\n",
              "|  0   |  40   | 3.1988394260406494|\n",
              "|  0   |  50   | 1.8601561784744263|\n",
              "|  0   |  60   | 3.601707935333252 |\n",
              "|  0   |  70   | 2.1952106952667236|\n",
              "|  0   |  80   | 2.0215158462524414|\n",
              "|  0   |  90   | 1.698337197303772 |\n",
              "|  0   |  100  | 2.6197521686553955|\n",
              "|  0   |  110  | 1.7945467233657837|\n",
              "|  0   |  120  | 1.4010474681854248|\n",
              "|  0   |  130  | 1.638759970664978 |\n",
              "|  0   |  140  | 2.2467503547668457|\n",
              "|  0   |  150  | 1.9709408283233643|\n",
              "|  0   |  160  | 1.0993891954421997|\n",
              "|  0   |  170  | 1.4091918468475342|\n",
              "|  0   |  180  | 1.5047993659973145|\n",
              "|  0   |  190  | 2.588116407394409 |\n",
              "|  0   |  200  | 2.077366590499878 |\n",
              "|  0   |  210  | 3.127763271331787 |\n",
              "|  0   |  220  | 2.1233701705932617|\n",
              "|  0   |  230  | 2.763334035873413 |\n",
              "|  0   |  240  | 1.7262789011001587|\n",
              "|  0   |  250  | 1.8740763664245605|\n",
              "|  0   |  260  | 1.8309264183044434|\n",
              "|  0   |  270  | 1.7474801540374756|\n",
              "|  0   |  280  | 1.745546579360962 |\n",
              "|  0   |  290  | 1.6305543184280396|\n",
              "|  0   |  300  | 2.3232553005218506|\n",
              "|  0   |  310  | 2.047292947769165 |\n",
              "|  0   |  320  | 1.3382582664489746|\n",
              "|  0   |  330  | 2.480006456375122 |\n",
              "|  0   |  340  | 2.166128635406494 |\n",
              "|  0   |  350  | 1.296427607536316 |\n",
              "|  0   |  360  | 2.752162456512451 |\n",
              "|  0   |  370  | 1.5691888332366943|\n",
              "|  0   |  380  | 1.3225054740905762|\n",
              "|  0   |  390  | 1.2947050333023071|\n",
              "|  0   |  400  | 2.420637845993042 |\n",
              "|  0   |  410  | 1.6933848857879639|\n",
              "|  0   |  420  | 2.5548439025878906|\n",
              "|  0   |  430  | 1.361295223236084 |\n",
              "|  0   |  440  | 1.8424636125564575|\n",
              "|  0   |  450  | 1.6273949146270752|\n",
              "|  0   |  460  | 1.4123599529266357|\n",
              "|  0   |  470  | 1.3827754259109497|\n",
              "|  0   |  480  | 1.6837565898895264|\n",
              "|  1   |   0   | 1.5926527976989746|\n",
              "|  1   |  10   | 1.9007622003555298|\n",
              "|  1   |  20   | 2.114285945892334 |\n",
              "|  1   |  30   | 1.8309354782104492|\n",
              "|  1   |  40   | 2.134009838104248 |\n",
              "|  1   |  50   | 1.2697904109954834|\n",
              "|  1   |  60   | 1.419739842414856 |\n",
              "|  1   |  70   | 1.4723634719848633|\n",
              "|  1   |  80   | 2.594395160675049 |\n",
              "|  1   |  90   | 1.6627591848373413|\n",
              "|  1   |  100  | 1.6252741813659668|\n",
              "|  1   |  110  | 2.106780767440796 |\n",
              "|  1   |  120  | 1.2947667837142944|\n",
              "|  1   |  130  | 1.7343283891677856|\n",
              "|  1   |  140  | 2.600947856903076 |\n",
              "|  1   |  150  | 1.8625102043151855|\n",
              "|  1   |  160  | 2.731292724609375 |\n",
              "|  1   |  170  | 2.035606861114502 |\n",
              "|  1   |  180  | 2.4038150310516357|\n",
              "|  1   |  190  | 1.6788381338119507|\n",
              "|  1   |  200  | 2.122746467590332 |\n",
              "|  1   |  210  | 1.992264986038208 |\n",
              "|  1   |  220  | 1.6194077730178833|\n",
              "|  1   |  230  | 2.152817726135254 |\n",
              "|  1   |  240  | 1.8977798223495483|\n",
              "|  1   |  250  | 3.178227663040161 |\n",
              "|  1   |  260  | 1.3307596445083618|\n",
              "|  1   |  270  | 2.240286111831665 |\n",
              "|  1   |  280  | 2.4726834297180176|\n",
              "|  1   |  290  | 2.719710350036621 |\n",
              "|  1   |  300  | 2.7032546997070312|\n",
              "|  1   |  310  | 1.3401644229888916|\n",
              "|  1   |  320  | 1.0109622478485107|\n",
              "|  1   |  330  |  2.81789231300354 |\n",
              "|  1   |  340  | 3.3793447017669678|\n",
              "|  1   |  350  | 1.9157602787017822|\n",
              "|  1   |  360  | 1.8277888298034668|\n",
              "|  1   |  370  | 2.016714334487915 |\n",
              "|  1   |  380  | 1.724226951599121 |\n",
              "|  1   |  390  | 3.0291526317596436|\n",
              "|  1   |  400  | 1.3765852451324463|\n",
              "|  1   |  410  | 1.5426315069198608|\n",
              "|  1   |  420  | 1.3780428171157837|\n",
              "|  1   |  430  | 2.265836238861084 |\n",
              "|  1   |  440  |  2.12416672706604 |\n",
              "|  1   |  450  | 1.6840038299560547|\n",
              "|  1   |  460  | 1.2234470844268799|\n",
              "|  1   |  470  | 1.0852924585342407|\n",
              "|  1   |  480  | 2.520930051803589 |\n",
              "+----------------------------------+\n",
              "</pre>\n"
            ]
          },
          "metadata": {}
        },
        {
          "output_type": "display_data",
          "data": {
            "text/plain": [
              "Epoch:  \u001b[1;36m2\u001b[0m Steps:  \u001b[1;36m0\u001b[0m Loss:  \u001b[1;36m1.2158933877944946\u001b[0m\n"
            ],
            "text/html": [
              "<pre style=\"white-space:pre;overflow-x:auto;line-height:normal;font-family:Menlo,'DejaVu Sans Mono',consolas,'Courier New',monospace\">Epoch:  <span style=\"color: #008080; text-decoration-color: #008080; font-weight: bold\">2</span> Steps:  <span style=\"color: #008080; text-decoration-color: #008080; font-weight: bold\">0</span> Loss:  <span style=\"color: #008080; text-decoration-color: #008080; font-weight: bold\">1.2158933877944946</span>\n",
              "</pre>\n"
            ]
          },
          "metadata": {}
        },
        {
          "output_type": "display_data",
          "data": {
            "text/plain": [
              "Epoch:  \u001b[1;36m2\u001b[0m Steps:  \u001b[1;36m10\u001b[0m Loss:  \u001b[1;36m0.7954491376876831\u001b[0m\n"
            ],
            "text/html": [
              "<pre style=\"white-space:pre;overflow-x:auto;line-height:normal;font-family:Menlo,'DejaVu Sans Mono',consolas,'Courier New',monospace\">Epoch:  <span style=\"color: #008080; text-decoration-color: #008080; font-weight: bold\">2</span> Steps:  <span style=\"color: #008080; text-decoration-color: #008080; font-weight: bold\">10</span> Loss:  <span style=\"color: #008080; text-decoration-color: #008080; font-weight: bold\">0.7954491376876831</span>\n",
              "</pre>\n"
            ]
          },
          "metadata": {}
        },
        {
          "output_type": "display_data",
          "data": {
            "text/plain": [
              "Epoch:  \u001b[1;36m2\u001b[0m Steps:  \u001b[1;36m20\u001b[0m Loss:  \u001b[1;36m1.0543076992034912\u001b[0m\n"
            ],
            "text/html": [
              "<pre style=\"white-space:pre;overflow-x:auto;line-height:normal;font-family:Menlo,'DejaVu Sans Mono',consolas,'Courier New',monospace\">Epoch:  <span style=\"color: #008080; text-decoration-color: #008080; font-weight: bold\">2</span> Steps:  <span style=\"color: #008080; text-decoration-color: #008080; font-weight: bold\">20</span> Loss:  <span style=\"color: #008080; text-decoration-color: #008080; font-weight: bold\">1.0543076992034912</span>\n",
              "</pre>\n"
            ]
          },
          "metadata": {}
        },
        {
          "output_type": "display_data",
          "data": {
            "text/plain": [
              "Epoch:  \u001b[1;36m2\u001b[0m Steps:  \u001b[1;36m30\u001b[0m Loss:  \u001b[1;36m2.3581461906433105\u001b[0m\n"
            ],
            "text/html": [
              "<pre style=\"white-space:pre;overflow-x:auto;line-height:normal;font-family:Menlo,'DejaVu Sans Mono',consolas,'Courier New',monospace\">Epoch:  <span style=\"color: #008080; text-decoration-color: #008080; font-weight: bold\">2</span> Steps:  <span style=\"color: #008080; text-decoration-color: #008080; font-weight: bold\">30</span> Loss:  <span style=\"color: #008080; text-decoration-color: #008080; font-weight: bold\">2.3581461906433105</span>\n",
              "</pre>\n"
            ]
          },
          "metadata": {}
        },
        {
          "output_type": "display_data",
          "data": {
            "text/plain": [
              "Epoch:  \u001b[1;36m2\u001b[0m Steps:  \u001b[1;36m40\u001b[0m Loss:  \u001b[1;36m1.4749656915664673\u001b[0m\n"
            ],
            "text/html": [
              "<pre style=\"white-space:pre;overflow-x:auto;line-height:normal;font-family:Menlo,'DejaVu Sans Mono',consolas,'Courier New',monospace\">Epoch:  <span style=\"color: #008080; text-decoration-color: #008080; font-weight: bold\">2</span> Steps:  <span style=\"color: #008080; text-decoration-color: #008080; font-weight: bold\">40</span> Loss:  <span style=\"color: #008080; text-decoration-color: #008080; font-weight: bold\">1.4749656915664673</span>\n",
              "</pre>\n"
            ]
          },
          "metadata": {}
        },
        {
          "output_type": "display_data",
          "data": {
            "text/plain": [
              "Epoch:  \u001b[1;36m2\u001b[0m Steps:  \u001b[1;36m50\u001b[0m Loss:  \u001b[1;36m1.7080504894256592\u001b[0m\n"
            ],
            "text/html": [
              "<pre style=\"white-space:pre;overflow-x:auto;line-height:normal;font-family:Menlo,'DejaVu Sans Mono',consolas,'Courier New',monospace\">Epoch:  <span style=\"color: #008080; text-decoration-color: #008080; font-weight: bold\">2</span> Steps:  <span style=\"color: #008080; text-decoration-color: #008080; font-weight: bold\">50</span> Loss:  <span style=\"color: #008080; text-decoration-color: #008080; font-weight: bold\">1.7080504894256592</span>\n",
              "</pre>\n"
            ]
          },
          "metadata": {}
        },
        {
          "output_type": "display_data",
          "data": {
            "text/plain": [
              "Epoch:  \u001b[1;36m2\u001b[0m Steps:  \u001b[1;36m60\u001b[0m Loss:  \u001b[1;36m1.9434024095535278\u001b[0m\n"
            ],
            "text/html": [
              "<pre style=\"white-space:pre;overflow-x:auto;line-height:normal;font-family:Menlo,'DejaVu Sans Mono',consolas,'Courier New',monospace\">Epoch:  <span style=\"color: #008080; text-decoration-color: #008080; font-weight: bold\">2</span> Steps:  <span style=\"color: #008080; text-decoration-color: #008080; font-weight: bold\">60</span> Loss:  <span style=\"color: #008080; text-decoration-color: #008080; font-weight: bold\">1.9434024095535278</span>\n",
              "</pre>\n"
            ]
          },
          "metadata": {}
        },
        {
          "output_type": "display_data",
          "data": {
            "text/plain": [
              "Epoch:  \u001b[1;36m2\u001b[0m Steps:  \u001b[1;36m70\u001b[0m Loss:  \u001b[1;36m1.4004813432693481\u001b[0m\n"
            ],
            "text/html": [
              "<pre style=\"white-space:pre;overflow-x:auto;line-height:normal;font-family:Menlo,'DejaVu Sans Mono',consolas,'Courier New',monospace\">Epoch:  <span style=\"color: #008080; text-decoration-color: #008080; font-weight: bold\">2</span> Steps:  <span style=\"color: #008080; text-decoration-color: #008080; font-weight: bold\">70</span> Loss:  <span style=\"color: #008080; text-decoration-color: #008080; font-weight: bold\">1.4004813432693481</span>\n",
              "</pre>\n"
            ]
          },
          "metadata": {}
        },
        {
          "output_type": "display_data",
          "data": {
            "text/plain": [
              "Epoch:  \u001b[1;36m2\u001b[0m Steps:  \u001b[1;36m80\u001b[0m Loss:  \u001b[1;36m1.4702526330947876\u001b[0m\n"
            ],
            "text/html": [
              "<pre style=\"white-space:pre;overflow-x:auto;line-height:normal;font-family:Menlo,'DejaVu Sans Mono',consolas,'Courier New',monospace\">Epoch:  <span style=\"color: #008080; text-decoration-color: #008080; font-weight: bold\">2</span> Steps:  <span style=\"color: #008080; text-decoration-color: #008080; font-weight: bold\">80</span> Loss:  <span style=\"color: #008080; text-decoration-color: #008080; font-weight: bold\">1.4702526330947876</span>\n",
              "</pre>\n"
            ]
          },
          "metadata": {}
        },
        {
          "output_type": "display_data",
          "data": {
            "text/plain": [
              "Epoch:  \u001b[1;36m2\u001b[0m Steps:  \u001b[1;36m90\u001b[0m Loss:  \u001b[1;36m2.238863468170166\u001b[0m\n"
            ],
            "text/html": [
              "<pre style=\"white-space:pre;overflow-x:auto;line-height:normal;font-family:Menlo,'DejaVu Sans Mono',consolas,'Courier New',monospace\">Epoch:  <span style=\"color: #008080; text-decoration-color: #008080; font-weight: bold\">2</span> Steps:  <span style=\"color: #008080; text-decoration-color: #008080; font-weight: bold\">90</span> Loss:  <span style=\"color: #008080; text-decoration-color: #008080; font-weight: bold\">2.238863468170166</span>\n",
              "</pre>\n"
            ]
          },
          "metadata": {}
        },
        {
          "output_type": "display_data",
          "data": {
            "text/plain": [
              "Epoch:  \u001b[1;36m2\u001b[0m Steps:  \u001b[1;36m100\u001b[0m Loss:  \u001b[1;36m1.5172691345214844\u001b[0m\n"
            ],
            "text/html": [
              "<pre style=\"white-space:pre;overflow-x:auto;line-height:normal;font-family:Menlo,'DejaVu Sans Mono',consolas,'Courier New',monospace\">Epoch:  <span style=\"color: #008080; text-decoration-color: #008080; font-weight: bold\">2</span> Steps:  <span style=\"color: #008080; text-decoration-color: #008080; font-weight: bold\">100</span> Loss:  <span style=\"color: #008080; text-decoration-color: #008080; font-weight: bold\">1.5172691345214844</span>\n",
              "</pre>\n"
            ]
          },
          "metadata": {}
        },
        {
          "output_type": "display_data",
          "data": {
            "text/plain": [
              "Epoch:  \u001b[1;36m2\u001b[0m Steps:  \u001b[1;36m110\u001b[0m Loss:  \u001b[1;36m1.5250602960586548\u001b[0m\n"
            ],
            "text/html": [
              "<pre style=\"white-space:pre;overflow-x:auto;line-height:normal;font-family:Menlo,'DejaVu Sans Mono',consolas,'Courier New',monospace\">Epoch:  <span style=\"color: #008080; text-decoration-color: #008080; font-weight: bold\">2</span> Steps:  <span style=\"color: #008080; text-decoration-color: #008080; font-weight: bold\">110</span> Loss:  <span style=\"color: #008080; text-decoration-color: #008080; font-weight: bold\">1.5250602960586548</span>\n",
              "</pre>\n"
            ]
          },
          "metadata": {}
        },
        {
          "output_type": "display_data",
          "data": {
            "text/plain": [
              "Epoch:  \u001b[1;36m2\u001b[0m Steps:  \u001b[1;36m120\u001b[0m Loss:  \u001b[1;36m1.3488072156906128\u001b[0m\n"
            ],
            "text/html": [
              "<pre style=\"white-space:pre;overflow-x:auto;line-height:normal;font-family:Menlo,'DejaVu Sans Mono',consolas,'Courier New',monospace\">Epoch:  <span style=\"color: #008080; text-decoration-color: #008080; font-weight: bold\">2</span> Steps:  <span style=\"color: #008080; text-decoration-color: #008080; font-weight: bold\">120</span> Loss:  <span style=\"color: #008080; text-decoration-color: #008080; font-weight: bold\">1.3488072156906128</span>\n",
              "</pre>\n"
            ]
          },
          "metadata": {}
        },
        {
          "output_type": "display_data",
          "data": {
            "text/plain": [
              "Epoch:  \u001b[1;36m2\u001b[0m Steps:  \u001b[1;36m130\u001b[0m Loss:  \u001b[1;36m2.5404491424560547\u001b[0m\n"
            ],
            "text/html": [
              "<pre style=\"white-space:pre;overflow-x:auto;line-height:normal;font-family:Menlo,'DejaVu Sans Mono',consolas,'Courier New',monospace\">Epoch:  <span style=\"color: #008080; text-decoration-color: #008080; font-weight: bold\">2</span> Steps:  <span style=\"color: #008080; text-decoration-color: #008080; font-weight: bold\">130</span> Loss:  <span style=\"color: #008080; text-decoration-color: #008080; font-weight: bold\">2.5404491424560547</span>\n",
              "</pre>\n"
            ]
          },
          "metadata": {}
        },
        {
          "output_type": "display_data",
          "data": {
            "text/plain": [
              "Epoch:  \u001b[1;36m2\u001b[0m Steps:  \u001b[1;36m140\u001b[0m Loss:  \u001b[1;36m1.3008359670639038\u001b[0m\n"
            ],
            "text/html": [
              "<pre style=\"white-space:pre;overflow-x:auto;line-height:normal;font-family:Menlo,'DejaVu Sans Mono',consolas,'Courier New',monospace\">Epoch:  <span style=\"color: #008080; text-decoration-color: #008080; font-weight: bold\">2</span> Steps:  <span style=\"color: #008080; text-decoration-color: #008080; font-weight: bold\">140</span> Loss:  <span style=\"color: #008080; text-decoration-color: #008080; font-weight: bold\">1.3008359670639038</span>\n",
              "</pre>\n"
            ]
          },
          "metadata": {}
        },
        {
          "output_type": "display_data",
          "data": {
            "text/plain": [
              "Epoch:  \u001b[1;36m2\u001b[0m Steps:  \u001b[1;36m150\u001b[0m Loss:  \u001b[1;36m1.1709941625595093\u001b[0m\n"
            ],
            "text/html": [
              "<pre style=\"white-space:pre;overflow-x:auto;line-height:normal;font-family:Menlo,'DejaVu Sans Mono',consolas,'Courier New',monospace\">Epoch:  <span style=\"color: #008080; text-decoration-color: #008080; font-weight: bold\">2</span> Steps:  <span style=\"color: #008080; text-decoration-color: #008080; font-weight: bold\">150</span> Loss:  <span style=\"color: #008080; text-decoration-color: #008080; font-weight: bold\">1.1709941625595093</span>\n",
              "</pre>\n"
            ]
          },
          "metadata": {}
        },
        {
          "output_type": "display_data",
          "data": {
            "text/plain": [
              "Epoch:  \u001b[1;36m2\u001b[0m Steps:  \u001b[1;36m160\u001b[0m Loss:  \u001b[1;36m1.2647631168365479\u001b[0m\n"
            ],
            "text/html": [
              "<pre style=\"white-space:pre;overflow-x:auto;line-height:normal;font-family:Menlo,'DejaVu Sans Mono',consolas,'Courier New',monospace\">Epoch:  <span style=\"color: #008080; text-decoration-color: #008080; font-weight: bold\">2</span> Steps:  <span style=\"color: #008080; text-decoration-color: #008080; font-weight: bold\">160</span> Loss:  <span style=\"color: #008080; text-decoration-color: #008080; font-weight: bold\">1.2647631168365479</span>\n",
              "</pre>\n"
            ]
          },
          "metadata": {}
        },
        {
          "output_type": "display_data",
          "data": {
            "text/plain": [
              "Epoch:  \u001b[1;36m2\u001b[0m Steps:  \u001b[1;36m170\u001b[0m Loss:  \u001b[1;36m1.603951096534729\u001b[0m\n"
            ],
            "text/html": [
              "<pre style=\"white-space:pre;overflow-x:auto;line-height:normal;font-family:Menlo,'DejaVu Sans Mono',consolas,'Courier New',monospace\">Epoch:  <span style=\"color: #008080; text-decoration-color: #008080; font-weight: bold\">2</span> Steps:  <span style=\"color: #008080; text-decoration-color: #008080; font-weight: bold\">170</span> Loss:  <span style=\"color: #008080; text-decoration-color: #008080; font-weight: bold\">1.603951096534729</span>\n",
              "</pre>\n"
            ]
          },
          "metadata": {}
        },
        {
          "output_type": "display_data",
          "data": {
            "text/plain": [
              "Epoch:  \u001b[1;36m2\u001b[0m Steps:  \u001b[1;36m180\u001b[0m Loss:  \u001b[1;36m2.009885311126709\u001b[0m\n"
            ],
            "text/html": [
              "<pre style=\"white-space:pre;overflow-x:auto;line-height:normal;font-family:Menlo,'DejaVu Sans Mono',consolas,'Courier New',monospace\">Epoch:  <span style=\"color: #008080; text-decoration-color: #008080; font-weight: bold\">2</span> Steps:  <span style=\"color: #008080; text-decoration-color: #008080; font-weight: bold\">180</span> Loss:  <span style=\"color: #008080; text-decoration-color: #008080; font-weight: bold\">2.009885311126709</span>\n",
              "</pre>\n"
            ]
          },
          "metadata": {}
        },
        {
          "output_type": "display_data",
          "data": {
            "text/plain": [
              "Epoch:  \u001b[1;36m2\u001b[0m Steps:  \u001b[1;36m190\u001b[0m Loss:  \u001b[1;36m1.4143821001052856\u001b[0m\n"
            ],
            "text/html": [
              "<pre style=\"white-space:pre;overflow-x:auto;line-height:normal;font-family:Menlo,'DejaVu Sans Mono',consolas,'Courier New',monospace\">Epoch:  <span style=\"color: #008080; text-decoration-color: #008080; font-weight: bold\">2</span> Steps:  <span style=\"color: #008080; text-decoration-color: #008080; font-weight: bold\">190</span> Loss:  <span style=\"color: #008080; text-decoration-color: #008080; font-weight: bold\">1.4143821001052856</span>\n",
              "</pre>\n"
            ]
          },
          "metadata": {}
        },
        {
          "output_type": "display_data",
          "data": {
            "text/plain": [
              "Epoch:  \u001b[1;36m2\u001b[0m Steps:  \u001b[1;36m200\u001b[0m Loss:  \u001b[1;36m2.0159988403320312\u001b[0m\n"
            ],
            "text/html": [
              "<pre style=\"white-space:pre;overflow-x:auto;line-height:normal;font-family:Menlo,'DejaVu Sans Mono',consolas,'Courier New',monospace\">Epoch:  <span style=\"color: #008080; text-decoration-color: #008080; font-weight: bold\">2</span> Steps:  <span style=\"color: #008080; text-decoration-color: #008080; font-weight: bold\">200</span> Loss:  <span style=\"color: #008080; text-decoration-color: #008080; font-weight: bold\">2.0159988403320312</span>\n",
              "</pre>\n"
            ]
          },
          "metadata": {}
        },
        {
          "output_type": "display_data",
          "data": {
            "text/plain": [
              "Epoch:  \u001b[1;36m2\u001b[0m Steps:  \u001b[1;36m210\u001b[0m Loss:  \u001b[1;36m1.5113434791564941\u001b[0m\n"
            ],
            "text/html": [
              "<pre style=\"white-space:pre;overflow-x:auto;line-height:normal;font-family:Menlo,'DejaVu Sans Mono',consolas,'Courier New',monospace\">Epoch:  <span style=\"color: #008080; text-decoration-color: #008080; font-weight: bold\">2</span> Steps:  <span style=\"color: #008080; text-decoration-color: #008080; font-weight: bold\">210</span> Loss:  <span style=\"color: #008080; text-decoration-color: #008080; font-weight: bold\">1.5113434791564941</span>\n",
              "</pre>\n"
            ]
          },
          "metadata": {}
        },
        {
          "output_type": "display_data",
          "data": {
            "text/plain": [
              "Epoch:  \u001b[1;36m2\u001b[0m Steps:  \u001b[1;36m220\u001b[0m Loss:  \u001b[1;36m1.3150156736373901\u001b[0m\n"
            ],
            "text/html": [
              "<pre style=\"white-space:pre;overflow-x:auto;line-height:normal;font-family:Menlo,'DejaVu Sans Mono',consolas,'Courier New',monospace\">Epoch:  <span style=\"color: #008080; text-decoration-color: #008080; font-weight: bold\">2</span> Steps:  <span style=\"color: #008080; text-decoration-color: #008080; font-weight: bold\">220</span> Loss:  <span style=\"color: #008080; text-decoration-color: #008080; font-weight: bold\">1.3150156736373901</span>\n",
              "</pre>\n"
            ]
          },
          "metadata": {}
        },
        {
          "output_type": "display_data",
          "data": {
            "text/plain": [
              "Epoch:  \u001b[1;36m2\u001b[0m Steps:  \u001b[1;36m230\u001b[0m Loss:  \u001b[1;36m1.3549492359161377\u001b[0m\n"
            ],
            "text/html": [
              "<pre style=\"white-space:pre;overflow-x:auto;line-height:normal;font-family:Menlo,'DejaVu Sans Mono',consolas,'Courier New',monospace\">Epoch:  <span style=\"color: #008080; text-decoration-color: #008080; font-weight: bold\">2</span> Steps:  <span style=\"color: #008080; text-decoration-color: #008080; font-weight: bold\">230</span> Loss:  <span style=\"color: #008080; text-decoration-color: #008080; font-weight: bold\">1.3549492359161377</span>\n",
              "</pre>\n"
            ]
          },
          "metadata": {}
        },
        {
          "output_type": "display_data",
          "data": {
            "text/plain": [
              "Epoch:  \u001b[1;36m2\u001b[0m Steps:  \u001b[1;36m240\u001b[0m Loss:  \u001b[1;36m1.7793910503387451\u001b[0m\n"
            ],
            "text/html": [
              "<pre style=\"white-space:pre;overflow-x:auto;line-height:normal;font-family:Menlo,'DejaVu Sans Mono',consolas,'Courier New',monospace\">Epoch:  <span style=\"color: #008080; text-decoration-color: #008080; font-weight: bold\">2</span> Steps:  <span style=\"color: #008080; text-decoration-color: #008080; font-weight: bold\">240</span> Loss:  <span style=\"color: #008080; text-decoration-color: #008080; font-weight: bold\">1.7793910503387451</span>\n",
              "</pre>\n"
            ]
          },
          "metadata": {}
        },
        {
          "output_type": "display_data",
          "data": {
            "text/plain": [
              "Epoch:  \u001b[1;36m2\u001b[0m Steps:  \u001b[1;36m250\u001b[0m Loss:  \u001b[1;36m2.133647918701172\u001b[0m\n"
            ],
            "text/html": [
              "<pre style=\"white-space:pre;overflow-x:auto;line-height:normal;font-family:Menlo,'DejaVu Sans Mono',consolas,'Courier New',monospace\">Epoch:  <span style=\"color: #008080; text-decoration-color: #008080; font-weight: bold\">2</span> Steps:  <span style=\"color: #008080; text-decoration-color: #008080; font-weight: bold\">250</span> Loss:  <span style=\"color: #008080; text-decoration-color: #008080; font-weight: bold\">2.133647918701172</span>\n",
              "</pre>\n"
            ]
          },
          "metadata": {}
        },
        {
          "output_type": "display_data",
          "data": {
            "text/plain": [
              "Epoch:  \u001b[1;36m2\u001b[0m Steps:  \u001b[1;36m260\u001b[0m Loss:  \u001b[1;36m1.2334303855895996\u001b[0m\n"
            ],
            "text/html": [
              "<pre style=\"white-space:pre;overflow-x:auto;line-height:normal;font-family:Menlo,'DejaVu Sans Mono',consolas,'Courier New',monospace\">Epoch:  <span style=\"color: #008080; text-decoration-color: #008080; font-weight: bold\">2</span> Steps:  <span style=\"color: #008080; text-decoration-color: #008080; font-weight: bold\">260</span> Loss:  <span style=\"color: #008080; text-decoration-color: #008080; font-weight: bold\">1.2334303855895996</span>\n",
              "</pre>\n"
            ]
          },
          "metadata": {}
        },
        {
          "output_type": "display_data",
          "data": {
            "text/plain": [
              "Epoch:  \u001b[1;36m2\u001b[0m Steps:  \u001b[1;36m270\u001b[0m Loss:  \u001b[1;36m1.3852570056915283\u001b[0m\n"
            ],
            "text/html": [
              "<pre style=\"white-space:pre;overflow-x:auto;line-height:normal;font-family:Menlo,'DejaVu Sans Mono',consolas,'Courier New',monospace\">Epoch:  <span style=\"color: #008080; text-decoration-color: #008080; font-weight: bold\">2</span> Steps:  <span style=\"color: #008080; text-decoration-color: #008080; font-weight: bold\">270</span> Loss:  <span style=\"color: #008080; text-decoration-color: #008080; font-weight: bold\">1.3852570056915283</span>\n",
              "</pre>\n"
            ]
          },
          "metadata": {}
        },
        {
          "output_type": "display_data",
          "data": {
            "text/plain": [
              "Epoch:  \u001b[1;36m2\u001b[0m Steps:  \u001b[1;36m280\u001b[0m Loss:  \u001b[1;36m2.0746653079986572\u001b[0m\n"
            ],
            "text/html": [
              "<pre style=\"white-space:pre;overflow-x:auto;line-height:normal;font-family:Menlo,'DejaVu Sans Mono',consolas,'Courier New',monospace\">Epoch:  <span style=\"color: #008080; text-decoration-color: #008080; font-weight: bold\">2</span> Steps:  <span style=\"color: #008080; text-decoration-color: #008080; font-weight: bold\">280</span> Loss:  <span style=\"color: #008080; text-decoration-color: #008080; font-weight: bold\">2.0746653079986572</span>\n",
              "</pre>\n"
            ]
          },
          "metadata": {}
        },
        {
          "output_type": "display_data",
          "data": {
            "text/plain": [
              "Epoch:  \u001b[1;36m2\u001b[0m Steps:  \u001b[1;36m290\u001b[0m Loss:  \u001b[1;36m2.7130484580993652\u001b[0m\n"
            ],
            "text/html": [
              "<pre style=\"white-space:pre;overflow-x:auto;line-height:normal;font-family:Menlo,'DejaVu Sans Mono',consolas,'Courier New',monospace\">Epoch:  <span style=\"color: #008080; text-decoration-color: #008080; font-weight: bold\">2</span> Steps:  <span style=\"color: #008080; text-decoration-color: #008080; font-weight: bold\">290</span> Loss:  <span style=\"color: #008080; text-decoration-color: #008080; font-weight: bold\">2.7130484580993652</span>\n",
              "</pre>\n"
            ]
          },
          "metadata": {}
        },
        {
          "output_type": "display_data",
          "data": {
            "text/plain": [
              "Epoch:  \u001b[1;36m2\u001b[0m Steps:  \u001b[1;36m300\u001b[0m Loss:  \u001b[1;36m1.3533830642700195\u001b[0m\n"
            ],
            "text/html": [
              "<pre style=\"white-space:pre;overflow-x:auto;line-height:normal;font-family:Menlo,'DejaVu Sans Mono',consolas,'Courier New',monospace\">Epoch:  <span style=\"color: #008080; text-decoration-color: #008080; font-weight: bold\">2</span> Steps:  <span style=\"color: #008080; text-decoration-color: #008080; font-weight: bold\">300</span> Loss:  <span style=\"color: #008080; text-decoration-color: #008080; font-weight: bold\">1.3533830642700195</span>\n",
              "</pre>\n"
            ]
          },
          "metadata": {}
        },
        {
          "output_type": "display_data",
          "data": {
            "text/plain": [
              "Epoch:  \u001b[1;36m2\u001b[0m Steps:  \u001b[1;36m310\u001b[0m Loss:  \u001b[1;36m1.5670541524887085\u001b[0m\n"
            ],
            "text/html": [
              "<pre style=\"white-space:pre;overflow-x:auto;line-height:normal;font-family:Menlo,'DejaVu Sans Mono',consolas,'Courier New',monospace\">Epoch:  <span style=\"color: #008080; text-decoration-color: #008080; font-weight: bold\">2</span> Steps:  <span style=\"color: #008080; text-decoration-color: #008080; font-weight: bold\">310</span> Loss:  <span style=\"color: #008080; text-decoration-color: #008080; font-weight: bold\">1.5670541524887085</span>\n",
              "</pre>\n"
            ]
          },
          "metadata": {}
        },
        {
          "output_type": "display_data",
          "data": {
            "text/plain": [
              "Epoch:  \u001b[1;36m2\u001b[0m Steps:  \u001b[1;36m320\u001b[0m Loss:  \u001b[1;36m2.8539223670959473\u001b[0m\n"
            ],
            "text/html": [
              "<pre style=\"white-space:pre;overflow-x:auto;line-height:normal;font-family:Menlo,'DejaVu Sans Mono',consolas,'Courier New',monospace\">Epoch:  <span style=\"color: #008080; text-decoration-color: #008080; font-weight: bold\">2</span> Steps:  <span style=\"color: #008080; text-decoration-color: #008080; font-weight: bold\">320</span> Loss:  <span style=\"color: #008080; text-decoration-color: #008080; font-weight: bold\">2.8539223670959473</span>\n",
              "</pre>\n"
            ]
          },
          "metadata": {}
        },
        {
          "output_type": "display_data",
          "data": {
            "text/plain": [
              "Epoch:  \u001b[1;36m2\u001b[0m Steps:  \u001b[1;36m330\u001b[0m Loss:  \u001b[1;36m1.6685049533843994\u001b[0m\n"
            ],
            "text/html": [
              "<pre style=\"white-space:pre;overflow-x:auto;line-height:normal;font-family:Menlo,'DejaVu Sans Mono',consolas,'Courier New',monospace\">Epoch:  <span style=\"color: #008080; text-decoration-color: #008080; font-weight: bold\">2</span> Steps:  <span style=\"color: #008080; text-decoration-color: #008080; font-weight: bold\">330</span> Loss:  <span style=\"color: #008080; text-decoration-color: #008080; font-weight: bold\">1.6685049533843994</span>\n",
              "</pre>\n"
            ]
          },
          "metadata": {}
        },
        {
          "output_type": "display_data",
          "data": {
            "text/plain": [
              "Epoch:  \u001b[1;36m2\u001b[0m Steps:  \u001b[1;36m340\u001b[0m Loss:  \u001b[1;36m1.5098673105239868\u001b[0m\n"
            ],
            "text/html": [
              "<pre style=\"white-space:pre;overflow-x:auto;line-height:normal;font-family:Menlo,'DejaVu Sans Mono',consolas,'Courier New',monospace\">Epoch:  <span style=\"color: #008080; text-decoration-color: #008080; font-weight: bold\">2</span> Steps:  <span style=\"color: #008080; text-decoration-color: #008080; font-weight: bold\">340</span> Loss:  <span style=\"color: #008080; text-decoration-color: #008080; font-weight: bold\">1.5098673105239868</span>\n",
              "</pre>\n"
            ]
          },
          "metadata": {}
        },
        {
          "output_type": "display_data",
          "data": {
            "text/plain": [
              "Epoch:  \u001b[1;36m2\u001b[0m Steps:  \u001b[1;36m350\u001b[0m Loss:  \u001b[1;36m1.4103955030441284\u001b[0m\n"
            ],
            "text/html": [
              "<pre style=\"white-space:pre;overflow-x:auto;line-height:normal;font-family:Menlo,'DejaVu Sans Mono',consolas,'Courier New',monospace\">Epoch:  <span style=\"color: #008080; text-decoration-color: #008080; font-weight: bold\">2</span> Steps:  <span style=\"color: #008080; text-decoration-color: #008080; font-weight: bold\">350</span> Loss:  <span style=\"color: #008080; text-decoration-color: #008080; font-weight: bold\">1.4103955030441284</span>\n",
              "</pre>\n"
            ]
          },
          "metadata": {}
        },
        {
          "output_type": "display_data",
          "data": {
            "text/plain": [
              "Epoch:  \u001b[1;36m2\u001b[0m Steps:  \u001b[1;36m360\u001b[0m Loss:  \u001b[1;36m1.8240180015563965\u001b[0m\n"
            ],
            "text/html": [
              "<pre style=\"white-space:pre;overflow-x:auto;line-height:normal;font-family:Menlo,'DejaVu Sans Mono',consolas,'Courier New',monospace\">Epoch:  <span style=\"color: #008080; text-decoration-color: #008080; font-weight: bold\">2</span> Steps:  <span style=\"color: #008080; text-decoration-color: #008080; font-weight: bold\">360</span> Loss:  <span style=\"color: #008080; text-decoration-color: #008080; font-weight: bold\">1.8240180015563965</span>\n",
              "</pre>\n"
            ]
          },
          "metadata": {}
        },
        {
          "output_type": "display_data",
          "data": {
            "text/plain": [
              "Epoch:  \u001b[1;36m2\u001b[0m Steps:  \u001b[1;36m370\u001b[0m Loss:  \u001b[1;36m1.8885279893875122\u001b[0m\n"
            ],
            "text/html": [
              "<pre style=\"white-space:pre;overflow-x:auto;line-height:normal;font-family:Menlo,'DejaVu Sans Mono',consolas,'Courier New',monospace\">Epoch:  <span style=\"color: #008080; text-decoration-color: #008080; font-weight: bold\">2</span> Steps:  <span style=\"color: #008080; text-decoration-color: #008080; font-weight: bold\">370</span> Loss:  <span style=\"color: #008080; text-decoration-color: #008080; font-weight: bold\">1.8885279893875122</span>\n",
              "</pre>\n"
            ]
          },
          "metadata": {}
        },
        {
          "output_type": "display_data",
          "data": {
            "text/plain": [
              "Epoch:  \u001b[1;36m2\u001b[0m Steps:  \u001b[1;36m380\u001b[0m Loss:  \u001b[1;36m2.5684127807617188\u001b[0m\n"
            ],
            "text/html": [
              "<pre style=\"white-space:pre;overflow-x:auto;line-height:normal;font-family:Menlo,'DejaVu Sans Mono',consolas,'Courier New',monospace\">Epoch:  <span style=\"color: #008080; text-decoration-color: #008080; font-weight: bold\">2</span> Steps:  <span style=\"color: #008080; text-decoration-color: #008080; font-weight: bold\">380</span> Loss:  <span style=\"color: #008080; text-decoration-color: #008080; font-weight: bold\">2.5684127807617188</span>\n",
              "</pre>\n"
            ]
          },
          "metadata": {}
        },
        {
          "output_type": "display_data",
          "data": {
            "text/plain": [
              "Epoch:  \u001b[1;36m2\u001b[0m Steps:  \u001b[1;36m390\u001b[0m Loss:  \u001b[1;36m2.1094558238983154\u001b[0m\n"
            ],
            "text/html": [
              "<pre style=\"white-space:pre;overflow-x:auto;line-height:normal;font-family:Menlo,'DejaVu Sans Mono',consolas,'Courier New',monospace\">Epoch:  <span style=\"color: #008080; text-decoration-color: #008080; font-weight: bold\">2</span> Steps:  <span style=\"color: #008080; text-decoration-color: #008080; font-weight: bold\">390</span> Loss:  <span style=\"color: #008080; text-decoration-color: #008080; font-weight: bold\">2.1094558238983154</span>\n",
              "</pre>\n"
            ]
          },
          "metadata": {}
        },
        {
          "output_type": "display_data",
          "data": {
            "text/plain": [
              "Epoch:  \u001b[1;36m2\u001b[0m Steps:  \u001b[1;36m400\u001b[0m Loss:  \u001b[1;36m1.327978253364563\u001b[0m\n"
            ],
            "text/html": [
              "<pre style=\"white-space:pre;overflow-x:auto;line-height:normal;font-family:Menlo,'DejaVu Sans Mono',consolas,'Courier New',monospace\">Epoch:  <span style=\"color: #008080; text-decoration-color: #008080; font-weight: bold\">2</span> Steps:  <span style=\"color: #008080; text-decoration-color: #008080; font-weight: bold\">400</span> Loss:  <span style=\"color: #008080; text-decoration-color: #008080; font-weight: bold\">1.327978253364563</span>\n",
              "</pre>\n"
            ]
          },
          "metadata": {}
        },
        {
          "output_type": "display_data",
          "data": {
            "text/plain": [
              "Epoch:  \u001b[1;36m2\u001b[0m Steps:  \u001b[1;36m410\u001b[0m Loss:  \u001b[1;36m1.1385836601257324\u001b[0m\n"
            ],
            "text/html": [
              "<pre style=\"white-space:pre;overflow-x:auto;line-height:normal;font-family:Menlo,'DejaVu Sans Mono',consolas,'Courier New',monospace\">Epoch:  <span style=\"color: #008080; text-decoration-color: #008080; font-weight: bold\">2</span> Steps:  <span style=\"color: #008080; text-decoration-color: #008080; font-weight: bold\">410</span> Loss:  <span style=\"color: #008080; text-decoration-color: #008080; font-weight: bold\">1.1385836601257324</span>\n",
              "</pre>\n"
            ]
          },
          "metadata": {}
        },
        {
          "output_type": "display_data",
          "data": {
            "text/plain": [
              "Epoch:  \u001b[1;36m2\u001b[0m Steps:  \u001b[1;36m420\u001b[0m Loss:  \u001b[1;36m1.1037147045135498\u001b[0m\n"
            ],
            "text/html": [
              "<pre style=\"white-space:pre;overflow-x:auto;line-height:normal;font-family:Menlo,'DejaVu Sans Mono',consolas,'Courier New',monospace\">Epoch:  <span style=\"color: #008080; text-decoration-color: #008080; font-weight: bold\">2</span> Steps:  <span style=\"color: #008080; text-decoration-color: #008080; font-weight: bold\">420</span> Loss:  <span style=\"color: #008080; text-decoration-color: #008080; font-weight: bold\">1.1037147045135498</span>\n",
              "</pre>\n"
            ]
          },
          "metadata": {}
        },
        {
          "output_type": "display_data",
          "data": {
            "text/plain": [
              "Epoch:  \u001b[1;36m2\u001b[0m Steps:  \u001b[1;36m430\u001b[0m Loss:  \u001b[1;36m1.9025042057037354\u001b[0m\n"
            ],
            "text/html": [
              "<pre style=\"white-space:pre;overflow-x:auto;line-height:normal;font-family:Menlo,'DejaVu Sans Mono',consolas,'Courier New',monospace\">Epoch:  <span style=\"color: #008080; text-decoration-color: #008080; font-weight: bold\">2</span> Steps:  <span style=\"color: #008080; text-decoration-color: #008080; font-weight: bold\">430</span> Loss:  <span style=\"color: #008080; text-decoration-color: #008080; font-weight: bold\">1.9025042057037354</span>\n",
              "</pre>\n"
            ]
          },
          "metadata": {}
        },
        {
          "output_type": "display_data",
          "data": {
            "text/plain": [
              "Epoch:  \u001b[1;36m2\u001b[0m Steps:  \u001b[1;36m440\u001b[0m Loss:  \u001b[1;36m1.247851014137268\u001b[0m\n"
            ],
            "text/html": [
              "<pre style=\"white-space:pre;overflow-x:auto;line-height:normal;font-family:Menlo,'DejaVu Sans Mono',consolas,'Courier New',monospace\">Epoch:  <span style=\"color: #008080; text-decoration-color: #008080; font-weight: bold\">2</span> Steps:  <span style=\"color: #008080; text-decoration-color: #008080; font-weight: bold\">440</span> Loss:  <span style=\"color: #008080; text-decoration-color: #008080; font-weight: bold\">1.247851014137268</span>\n",
              "</pre>\n"
            ]
          },
          "metadata": {}
        },
        {
          "output_type": "display_data",
          "data": {
            "text/plain": [
              "Epoch:  \u001b[1;36m2\u001b[0m Steps:  \u001b[1;36m450\u001b[0m Loss:  \u001b[1;36m1.1835002899169922\u001b[0m\n"
            ],
            "text/html": [
              "<pre style=\"white-space:pre;overflow-x:auto;line-height:normal;font-family:Menlo,'DejaVu Sans Mono',consolas,'Courier New',monospace\">Epoch:  <span style=\"color: #008080; text-decoration-color: #008080; font-weight: bold\">2</span> Steps:  <span style=\"color: #008080; text-decoration-color: #008080; font-weight: bold\">450</span> Loss:  <span style=\"color: #008080; text-decoration-color: #008080; font-weight: bold\">1.1835002899169922</span>\n",
              "</pre>\n"
            ]
          },
          "metadata": {}
        },
        {
          "output_type": "display_data",
          "data": {
            "text/plain": [
              "Epoch:  \u001b[1;36m2\u001b[0m Steps:  \u001b[1;36m460\u001b[0m Loss:  \u001b[1;36m1.4066728353500366\u001b[0m\n"
            ],
            "text/html": [
              "<pre style=\"white-space:pre;overflow-x:auto;line-height:normal;font-family:Menlo,'DejaVu Sans Mono',consolas,'Courier New',monospace\">Epoch:  <span style=\"color: #008080; text-decoration-color: #008080; font-weight: bold\">2</span> Steps:  <span style=\"color: #008080; text-decoration-color: #008080; font-weight: bold\">460</span> Loss:  <span style=\"color: #008080; text-decoration-color: #008080; font-weight: bold\">1.4066728353500366</span>\n",
              "</pre>\n"
            ]
          },
          "metadata": {}
        },
        {
          "output_type": "display_data",
          "data": {
            "text/plain": [
              "Epoch:  \u001b[1;36m2\u001b[0m Steps:  \u001b[1;36m470\u001b[0m Loss:  \u001b[1;36m2.892449140548706\u001b[0m\n"
            ],
            "text/html": [
              "<pre style=\"white-space:pre;overflow-x:auto;line-height:normal;font-family:Menlo,'DejaVu Sans Mono',consolas,'Courier New',monospace\">Epoch:  <span style=\"color: #008080; text-decoration-color: #008080; font-weight: bold\">2</span> Steps:  <span style=\"color: #008080; text-decoration-color: #008080; font-weight: bold\">470</span> Loss:  <span style=\"color: #008080; text-decoration-color: #008080; font-weight: bold\">2.892449140548706</span>\n",
              "</pre>\n"
            ]
          },
          "metadata": {}
        },
        {
          "output_type": "display_data",
          "data": {
            "text/plain": [
              "Epoch:  \u001b[1;36m2\u001b[0m Steps:  \u001b[1;36m480\u001b[0m Loss:  \u001b[1;36m1.826951265335083\u001b[0m\n"
            ],
            "text/html": [
              "<pre style=\"white-space:pre;overflow-x:auto;line-height:normal;font-family:Menlo,'DejaVu Sans Mono',consolas,'Courier New',monospace\">Epoch:  <span style=\"color: #008080; text-decoration-color: #008080; font-weight: bold\">2</span> Steps:  <span style=\"color: #008080; text-decoration-color: #008080; font-weight: bold\">480</span> Loss:  <span style=\"color: #008080; text-decoration-color: #008080; font-weight: bold\">1.826951265335083</span>\n",
              "</pre>\n"
            ]
          },
          "metadata": {}
        },
        {
          "output_type": "display_data",
          "data": {
            "text/plain": [
              "\u001b[3m          Training Status           \u001b[0m\n",
              "+----------------------------------+\n",
              "|\u001b[1mEpoch\u001b[0m\u001b[1m \u001b[0m|\u001b[1m \u001b[0m\u001b[1mSteps\u001b[0m\u001b[1m \u001b[0m|\u001b[1m \u001b[0m\u001b[1m       Loss       \u001b[0m|\n",
              "|------+-------+-------------------|\n",
              "|  0   |   0   | 4.039490222930908 |\n",
              "|  0   |  10   | 3.2894341945648193|\n",
              "|  0   |  20   | 2.5523319244384766|\n",
              "|  0   |  30   | 1.8200650215148926|\n",
              "|  0   |  40   | 3.1988394260406494|\n",
              "|  0   |  50   | 1.8601561784744263|\n",
              "|  0   |  60   | 3.601707935333252 |\n",
              "|  0   |  70   | 2.1952106952667236|\n",
              "|  0   |  80   | 2.0215158462524414|\n",
              "|  0   |  90   | 1.698337197303772 |\n",
              "|  0   |  100  | 2.6197521686553955|\n",
              "|  0   |  110  | 1.7945467233657837|\n",
              "|  0   |  120  | 1.4010474681854248|\n",
              "|  0   |  130  | 1.638759970664978 |\n",
              "|  0   |  140  | 2.2467503547668457|\n",
              "|  0   |  150  | 1.9709408283233643|\n",
              "|  0   |  160  | 1.0993891954421997|\n",
              "|  0   |  170  | 1.4091918468475342|\n",
              "|  0   |  180  | 1.5047993659973145|\n",
              "|  0   |  190  | 2.588116407394409 |\n",
              "|  0   |  200  | 2.077366590499878 |\n",
              "|  0   |  210  | 3.127763271331787 |\n",
              "|  0   |  220  | 2.1233701705932617|\n",
              "|  0   |  230  | 2.763334035873413 |\n",
              "|  0   |  240  | 1.7262789011001587|\n",
              "|  0   |  250  | 1.8740763664245605|\n",
              "|  0   |  260  | 1.8309264183044434|\n",
              "|  0   |  270  | 1.7474801540374756|\n",
              "|  0   |  280  | 1.745546579360962 |\n",
              "|  0   |  290  | 1.6305543184280396|\n",
              "|  0   |  300  | 2.3232553005218506|\n",
              "|  0   |  310  | 2.047292947769165 |\n",
              "|  0   |  320  | 1.3382582664489746|\n",
              "|  0   |  330  | 2.480006456375122 |\n",
              "|  0   |  340  | 2.166128635406494 |\n",
              "|  0   |  350  | 1.296427607536316 |\n",
              "|  0   |  360  | 2.752162456512451 |\n",
              "|  0   |  370  | 1.5691888332366943|\n",
              "|  0   |  380  | 1.3225054740905762|\n",
              "|  0   |  390  | 1.2947050333023071|\n",
              "|  0   |  400  | 2.420637845993042 |\n",
              "|  0   |  410  | 1.6933848857879639|\n",
              "|  0   |  420  | 2.5548439025878906|\n",
              "|  0   |  430  | 1.361295223236084 |\n",
              "|  0   |  440  | 1.8424636125564575|\n",
              "|  0   |  450  | 1.6273949146270752|\n",
              "|  0   |  460  | 1.4123599529266357|\n",
              "|  0   |  470  | 1.3827754259109497|\n",
              "|  0   |  480  | 1.6837565898895264|\n",
              "|  1   |   0   | 1.5926527976989746|\n",
              "|  1   |  10   | 1.9007622003555298|\n",
              "|  1   |  20   | 2.114285945892334 |\n",
              "|  1   |  30   | 1.8309354782104492|\n",
              "|  1   |  40   | 2.134009838104248 |\n",
              "|  1   |  50   | 1.2697904109954834|\n",
              "|  1   |  60   | 1.419739842414856 |\n",
              "|  1   |  70   | 1.4723634719848633|\n",
              "|  1   |  80   | 2.594395160675049 |\n",
              "|  1   |  90   | 1.6627591848373413|\n",
              "|  1   |  100  | 1.6252741813659668|\n",
              "|  1   |  110  | 2.106780767440796 |\n",
              "|  1   |  120  | 1.2947667837142944|\n",
              "|  1   |  130  | 1.7343283891677856|\n",
              "|  1   |  140  | 2.600947856903076 |\n",
              "|  1   |  150  | 1.8625102043151855|\n",
              "|  1   |  160  | 2.731292724609375 |\n",
              "|  1   |  170  | 2.035606861114502 |\n",
              "|  1   |  180  | 2.4038150310516357|\n",
              "|  1   |  190  | 1.6788381338119507|\n",
              "|  1   |  200  | 2.122746467590332 |\n",
              "|  1   |  210  | 1.992264986038208 |\n",
              "|  1   |  220  | 1.6194077730178833|\n",
              "|  1   |  230  | 2.152817726135254 |\n",
              "|  1   |  240  | 1.8977798223495483|\n",
              "|  1   |  250  | 3.178227663040161 |\n",
              "|  1   |  260  | 1.3307596445083618|\n",
              "|  1   |  270  | 2.240286111831665 |\n",
              "|  1   |  280  | 2.4726834297180176|\n",
              "|  1   |  290  | 2.719710350036621 |\n",
              "|  1   |  300  | 2.7032546997070312|\n",
              "|  1   |  310  | 1.3401644229888916|\n",
              "|  1   |  320  | 1.0109622478485107|\n",
              "|  1   |  330  |  2.81789231300354 |\n",
              "|  1   |  340  | 3.3793447017669678|\n",
              "|  1   |  350  | 1.9157602787017822|\n",
              "|  1   |  360  | 1.8277888298034668|\n",
              "|  1   |  370  | 2.016714334487915 |\n",
              "|  1   |  380  | 1.724226951599121 |\n",
              "|  1   |  390  | 3.0291526317596436|\n",
              "|  1   |  400  | 1.3765852451324463|\n",
              "|  1   |  410  | 1.5426315069198608|\n",
              "|  1   |  420  | 1.3780428171157837|\n",
              "|  1   |  430  | 2.265836238861084 |\n",
              "|  1   |  440  |  2.12416672706604 |\n",
              "|  1   |  450  | 1.6840038299560547|\n",
              "|  1   |  460  | 1.2234470844268799|\n",
              "|  1   |  470  | 1.0852924585342407|\n",
              "|  1   |  480  | 2.520930051803589 |\n",
              "|  2   |   0   | 1.2158933877944946|\n",
              "|  2   |  10   | 0.7954491376876831|\n",
              "|  2   |  20   | 1.0543076992034912|\n",
              "|  2   |  30   | 2.3581461906433105|\n",
              "|  2   |  40   | 1.4749656915664673|\n",
              "|  2   |  50   | 1.7080504894256592|\n",
              "|  2   |  60   | 1.9434024095535278|\n",
              "|  2   |  70   | 1.4004813432693481|\n",
              "|  2   |  80   | 1.4702526330947876|\n",
              "|  2   |  90   | 2.238863468170166 |\n",
              "|  2   |  100  | 1.5172691345214844|\n",
              "|  2   |  110  | 1.5250602960586548|\n",
              "|  2   |  120  | 1.3488072156906128|\n",
              "|  2   |  130  | 2.5404491424560547|\n",
              "|  2   |  140  | 1.3008359670639038|\n",
              "|  2   |  150  | 1.1709941625595093|\n",
              "|  2   |  160  | 1.2647631168365479|\n",
              "|  2   |  170  | 1.603951096534729 |\n",
              "|  2   |  180  | 2.009885311126709 |\n",
              "|  2   |  190  | 1.4143821001052856|\n",
              "|  2   |  200  | 2.0159988403320312|\n",
              "|  2   |  210  | 1.5113434791564941|\n",
              "|  2   |  220  | 1.3150156736373901|\n",
              "|  2   |  230  | 1.3549492359161377|\n",
              "|  2   |  240  | 1.7793910503387451|\n",
              "|  2   |  250  | 2.133647918701172 |\n",
              "|  2   |  260  | 1.2334303855895996|\n",
              "|  2   |  270  | 1.3852570056915283|\n",
              "|  2   |  280  | 2.0746653079986572|\n",
              "|  2   |  290  | 2.7130484580993652|\n",
              "|  2   |  300  | 1.3533830642700195|\n",
              "|  2   |  310  | 1.5670541524887085|\n",
              "|  2   |  320  | 2.8539223670959473|\n",
              "|  2   |  330  | 1.6685049533843994|\n",
              "|  2   |  340  | 1.5098673105239868|\n",
              "|  2   |  350  | 1.4103955030441284|\n",
              "|  2   |  360  | 1.8240180015563965|\n",
              "|  2   |  370  | 1.8885279893875122|\n",
              "|  2   |  380  | 2.5684127807617188|\n",
              "|  2   |  390  | 2.1094558238983154|\n",
              "|  2   |  400  | 1.327978253364563 |\n",
              "|  2   |  410  | 1.1385836601257324|\n",
              "|  2   |  420  | 1.1037147045135498|\n",
              "|  2   |  430  | 1.9025042057037354|\n",
              "|  2   |  440  | 1.247851014137268 |\n",
              "|  2   |  450  | 1.1835002899169922|\n",
              "|  2   |  460  | 1.4066728353500366|\n",
              "|  2   |  470  | 2.892449140548706 |\n",
              "|  2   |  480  | 1.826951265335083 |\n",
              "+----------------------------------+\n"
            ],
            "text/html": [
              "<pre style=\"white-space:pre;overflow-x:auto;line-height:normal;font-family:Menlo,'DejaVu Sans Mono',consolas,'Courier New',monospace\"><span style=\"font-style: italic\">          Training Status           </span>\n",
              "+----------------------------------+\n",
              "|<span style=\"font-weight: bold\">Epoch </span>|<span style=\"font-weight: bold\"> Steps </span>|<span style=\"font-weight: bold\">        Loss       </span>|\n",
              "|------+-------+-------------------|\n",
              "|  0   |   0   | 4.039490222930908 |\n",
              "|  0   |  10   | 3.2894341945648193|\n",
              "|  0   |  20   | 2.5523319244384766|\n",
              "|  0   |  30   | 1.8200650215148926|\n",
              "|  0   |  40   | 3.1988394260406494|\n",
              "|  0   |  50   | 1.8601561784744263|\n",
              "|  0   |  60   | 3.601707935333252 |\n",
              "|  0   |  70   | 2.1952106952667236|\n",
              "|  0   |  80   | 2.0215158462524414|\n",
              "|  0   |  90   | 1.698337197303772 |\n",
              "|  0   |  100  | 2.6197521686553955|\n",
              "|  0   |  110  | 1.7945467233657837|\n",
              "|  0   |  120  | 1.4010474681854248|\n",
              "|  0   |  130  | 1.638759970664978 |\n",
              "|  0   |  140  | 2.2467503547668457|\n",
              "|  0   |  150  | 1.9709408283233643|\n",
              "|  0   |  160  | 1.0993891954421997|\n",
              "|  0   |  170  | 1.4091918468475342|\n",
              "|  0   |  180  | 1.5047993659973145|\n",
              "|  0   |  190  | 2.588116407394409 |\n",
              "|  0   |  200  | 2.077366590499878 |\n",
              "|  0   |  210  | 3.127763271331787 |\n",
              "|  0   |  220  | 2.1233701705932617|\n",
              "|  0   |  230  | 2.763334035873413 |\n",
              "|  0   |  240  | 1.7262789011001587|\n",
              "|  0   |  250  | 1.8740763664245605|\n",
              "|  0   |  260  | 1.8309264183044434|\n",
              "|  0   |  270  | 1.7474801540374756|\n",
              "|  0   |  280  | 1.745546579360962 |\n",
              "|  0   |  290  | 1.6305543184280396|\n",
              "|  0   |  300  | 2.3232553005218506|\n",
              "|  0   |  310  | 2.047292947769165 |\n",
              "|  0   |  320  | 1.3382582664489746|\n",
              "|  0   |  330  | 2.480006456375122 |\n",
              "|  0   |  340  | 2.166128635406494 |\n",
              "|  0   |  350  | 1.296427607536316 |\n",
              "|  0   |  360  | 2.752162456512451 |\n",
              "|  0   |  370  | 1.5691888332366943|\n",
              "|  0   |  380  | 1.3225054740905762|\n",
              "|  0   |  390  | 1.2947050333023071|\n",
              "|  0   |  400  | 2.420637845993042 |\n",
              "|  0   |  410  | 1.6933848857879639|\n",
              "|  0   |  420  | 2.5548439025878906|\n",
              "|  0   |  430  | 1.361295223236084 |\n",
              "|  0   |  440  | 1.8424636125564575|\n",
              "|  0   |  450  | 1.6273949146270752|\n",
              "|  0   |  460  | 1.4123599529266357|\n",
              "|  0   |  470  | 1.3827754259109497|\n",
              "|  0   |  480  | 1.6837565898895264|\n",
              "|  1   |   0   | 1.5926527976989746|\n",
              "|  1   |  10   | 1.9007622003555298|\n",
              "|  1   |  20   | 2.114285945892334 |\n",
              "|  1   |  30   | 1.8309354782104492|\n",
              "|  1   |  40   | 2.134009838104248 |\n",
              "|  1   |  50   | 1.2697904109954834|\n",
              "|  1   |  60   | 1.419739842414856 |\n",
              "|  1   |  70   | 1.4723634719848633|\n",
              "|  1   |  80   | 2.594395160675049 |\n",
              "|  1   |  90   | 1.6627591848373413|\n",
              "|  1   |  100  | 1.6252741813659668|\n",
              "|  1   |  110  | 2.106780767440796 |\n",
              "|  1   |  120  | 1.2947667837142944|\n",
              "|  1   |  130  | 1.7343283891677856|\n",
              "|  1   |  140  | 2.600947856903076 |\n",
              "|  1   |  150  | 1.8625102043151855|\n",
              "|  1   |  160  | 2.731292724609375 |\n",
              "|  1   |  170  | 2.035606861114502 |\n",
              "|  1   |  180  | 2.4038150310516357|\n",
              "|  1   |  190  | 1.6788381338119507|\n",
              "|  1   |  200  | 2.122746467590332 |\n",
              "|  1   |  210  | 1.992264986038208 |\n",
              "|  1   |  220  | 1.6194077730178833|\n",
              "|  1   |  230  | 2.152817726135254 |\n",
              "|  1   |  240  | 1.8977798223495483|\n",
              "|  1   |  250  | 3.178227663040161 |\n",
              "|  1   |  260  | 1.3307596445083618|\n",
              "|  1   |  270  | 2.240286111831665 |\n",
              "|  1   |  280  | 2.4726834297180176|\n",
              "|  1   |  290  | 2.719710350036621 |\n",
              "|  1   |  300  | 2.7032546997070312|\n",
              "|  1   |  310  | 1.3401644229888916|\n",
              "|  1   |  320  | 1.0109622478485107|\n",
              "|  1   |  330  |  2.81789231300354 |\n",
              "|  1   |  340  | 3.3793447017669678|\n",
              "|  1   |  350  | 1.9157602787017822|\n",
              "|  1   |  360  | 1.8277888298034668|\n",
              "|  1   |  370  | 2.016714334487915 |\n",
              "|  1   |  380  | 1.724226951599121 |\n",
              "|  1   |  390  | 3.0291526317596436|\n",
              "|  1   |  400  | 1.3765852451324463|\n",
              "|  1   |  410  | 1.5426315069198608|\n",
              "|  1   |  420  | 1.3780428171157837|\n",
              "|  1   |  430  | 2.265836238861084 |\n",
              "|  1   |  440  |  2.12416672706604 |\n",
              "|  1   |  450  | 1.6840038299560547|\n",
              "|  1   |  460  | 1.2234470844268799|\n",
              "|  1   |  470  | 1.0852924585342407|\n",
              "|  1   |  480  | 2.520930051803589 |\n",
              "|  2   |   0   | 1.2158933877944946|\n",
              "|  2   |  10   | 0.7954491376876831|\n",
              "|  2   |  20   | 1.0543076992034912|\n",
              "|  2   |  30   | 2.3581461906433105|\n",
              "|  2   |  40   | 1.4749656915664673|\n",
              "|  2   |  50   | 1.7080504894256592|\n",
              "|  2   |  60   | 1.9434024095535278|\n",
              "|  2   |  70   | 1.4004813432693481|\n",
              "|  2   |  80   | 1.4702526330947876|\n",
              "|  2   |  90   | 2.238863468170166 |\n",
              "|  2   |  100  | 1.5172691345214844|\n",
              "|  2   |  110  | 1.5250602960586548|\n",
              "|  2   |  120  | 1.3488072156906128|\n",
              "|  2   |  130  | 2.5404491424560547|\n",
              "|  2   |  140  | 1.3008359670639038|\n",
              "|  2   |  150  | 1.1709941625595093|\n",
              "|  2   |  160  | 1.2647631168365479|\n",
              "|  2   |  170  | 1.603951096534729 |\n",
              "|  2   |  180  | 2.009885311126709 |\n",
              "|  2   |  190  | 1.4143821001052856|\n",
              "|  2   |  200  | 2.0159988403320312|\n",
              "|  2   |  210  | 1.5113434791564941|\n",
              "|  2   |  220  | 1.3150156736373901|\n",
              "|  2   |  230  | 1.3549492359161377|\n",
              "|  2   |  240  | 1.7793910503387451|\n",
              "|  2   |  250  | 2.133647918701172 |\n",
              "|  2   |  260  | 1.2334303855895996|\n",
              "|  2   |  270  | 1.3852570056915283|\n",
              "|  2   |  280  | 2.0746653079986572|\n",
              "|  2   |  290  | 2.7130484580993652|\n",
              "|  2   |  300  | 1.3533830642700195|\n",
              "|  2   |  310  | 1.5670541524887085|\n",
              "|  2   |  320  | 2.8539223670959473|\n",
              "|  2   |  330  | 1.6685049533843994|\n",
              "|  2   |  340  | 1.5098673105239868|\n",
              "|  2   |  350  | 1.4103955030441284|\n",
              "|  2   |  360  | 1.8240180015563965|\n",
              "|  2   |  370  | 1.8885279893875122|\n",
              "|  2   |  380  | 2.5684127807617188|\n",
              "|  2   |  390  | 2.1094558238983154|\n",
              "|  2   |  400  | 1.327978253364563 |\n",
              "|  2   |  410  | 1.1385836601257324|\n",
              "|  2   |  420  | 1.1037147045135498|\n",
              "|  2   |  430  | 1.9025042057037354|\n",
              "|  2   |  440  | 1.247851014137268 |\n",
              "|  2   |  450  | 1.1835002899169922|\n",
              "|  2   |  460  | 1.4066728353500366|\n",
              "|  2   |  470  | 2.892449140548706 |\n",
              "|  2   |  480  | 1.826951265335083 |\n",
              "+----------------------------------+\n",
              "</pre>\n"
            ]
          },
          "metadata": {}
        },
        {
          "output_type": "display_data",
          "data": {
            "text/plain": [
              "Epoch:  \u001b[1;36m3\u001b[0m Steps:  \u001b[1;36m0\u001b[0m Loss:  \u001b[1;36m1.2371724843978882\u001b[0m\n"
            ],
            "text/html": [
              "<pre style=\"white-space:pre;overflow-x:auto;line-height:normal;font-family:Menlo,'DejaVu Sans Mono',consolas,'Courier New',monospace\">Epoch:  <span style=\"color: #008080; text-decoration-color: #008080; font-weight: bold\">3</span> Steps:  <span style=\"color: #008080; text-decoration-color: #008080; font-weight: bold\">0</span> Loss:  <span style=\"color: #008080; text-decoration-color: #008080; font-weight: bold\">1.2371724843978882</span>\n",
              "</pre>\n"
            ]
          },
          "metadata": {}
        },
        {
          "output_type": "display_data",
          "data": {
            "text/plain": [
              "Epoch:  \u001b[1;36m3\u001b[0m Steps:  \u001b[1;36m10\u001b[0m Loss:  \u001b[1;36m1.5359479188919067\u001b[0m\n"
            ],
            "text/html": [
              "<pre style=\"white-space:pre;overflow-x:auto;line-height:normal;font-family:Menlo,'DejaVu Sans Mono',consolas,'Courier New',monospace\">Epoch:  <span style=\"color: #008080; text-decoration-color: #008080; font-weight: bold\">3</span> Steps:  <span style=\"color: #008080; text-decoration-color: #008080; font-weight: bold\">10</span> Loss:  <span style=\"color: #008080; text-decoration-color: #008080; font-weight: bold\">1.5359479188919067</span>\n",
              "</pre>\n"
            ]
          },
          "metadata": {}
        },
        {
          "output_type": "display_data",
          "data": {
            "text/plain": [
              "Epoch:  \u001b[1;36m3\u001b[0m Steps:  \u001b[1;36m20\u001b[0m Loss:  \u001b[1;36m1.1482807397842407\u001b[0m\n"
            ],
            "text/html": [
              "<pre style=\"white-space:pre;overflow-x:auto;line-height:normal;font-family:Menlo,'DejaVu Sans Mono',consolas,'Courier New',monospace\">Epoch:  <span style=\"color: #008080; text-decoration-color: #008080; font-weight: bold\">3</span> Steps:  <span style=\"color: #008080; text-decoration-color: #008080; font-weight: bold\">20</span> Loss:  <span style=\"color: #008080; text-decoration-color: #008080; font-weight: bold\">1.1482807397842407</span>\n",
              "</pre>\n"
            ]
          },
          "metadata": {}
        },
        {
          "output_type": "display_data",
          "data": {
            "text/plain": [
              "Epoch:  \u001b[1;36m3\u001b[0m Steps:  \u001b[1;36m30\u001b[0m Loss:  \u001b[1;36m1.3527016639709473\u001b[0m\n"
            ],
            "text/html": [
              "<pre style=\"white-space:pre;overflow-x:auto;line-height:normal;font-family:Menlo,'DejaVu Sans Mono',consolas,'Courier New',monospace\">Epoch:  <span style=\"color: #008080; text-decoration-color: #008080; font-weight: bold\">3</span> Steps:  <span style=\"color: #008080; text-decoration-color: #008080; font-weight: bold\">30</span> Loss:  <span style=\"color: #008080; text-decoration-color: #008080; font-weight: bold\">1.3527016639709473</span>\n",
              "</pre>\n"
            ]
          },
          "metadata": {}
        },
        {
          "output_type": "display_data",
          "data": {
            "text/plain": [
              "Epoch:  \u001b[1;36m3\u001b[0m Steps:  \u001b[1;36m40\u001b[0m Loss:  \u001b[1;36m0.9452677965164185\u001b[0m\n"
            ],
            "text/html": [
              "<pre style=\"white-space:pre;overflow-x:auto;line-height:normal;font-family:Menlo,'DejaVu Sans Mono',consolas,'Courier New',monospace\">Epoch:  <span style=\"color: #008080; text-decoration-color: #008080; font-weight: bold\">3</span> Steps:  <span style=\"color: #008080; text-decoration-color: #008080; font-weight: bold\">40</span> Loss:  <span style=\"color: #008080; text-decoration-color: #008080; font-weight: bold\">0.9452677965164185</span>\n",
              "</pre>\n"
            ]
          },
          "metadata": {}
        },
        {
          "output_type": "display_data",
          "data": {
            "text/plain": [
              "Epoch:  \u001b[1;36m3\u001b[0m Steps:  \u001b[1;36m50\u001b[0m Loss:  \u001b[1;36m1.0780638456344604\u001b[0m\n"
            ],
            "text/html": [
              "<pre style=\"white-space:pre;overflow-x:auto;line-height:normal;font-family:Menlo,'DejaVu Sans Mono',consolas,'Courier New',monospace\">Epoch:  <span style=\"color: #008080; text-decoration-color: #008080; font-weight: bold\">3</span> Steps:  <span style=\"color: #008080; text-decoration-color: #008080; font-weight: bold\">50</span> Loss:  <span style=\"color: #008080; text-decoration-color: #008080; font-weight: bold\">1.0780638456344604</span>\n",
              "</pre>\n"
            ]
          },
          "metadata": {}
        },
        {
          "output_type": "display_data",
          "data": {
            "text/plain": [
              "Epoch:  \u001b[1;36m3\u001b[0m Steps:  \u001b[1;36m60\u001b[0m Loss:  \u001b[1;36m1.4459095001220703\u001b[0m\n"
            ],
            "text/html": [
              "<pre style=\"white-space:pre;overflow-x:auto;line-height:normal;font-family:Menlo,'DejaVu Sans Mono',consolas,'Courier New',monospace\">Epoch:  <span style=\"color: #008080; text-decoration-color: #008080; font-weight: bold\">3</span> Steps:  <span style=\"color: #008080; text-decoration-color: #008080; font-weight: bold\">60</span> Loss:  <span style=\"color: #008080; text-decoration-color: #008080; font-weight: bold\">1.4459095001220703</span>\n",
              "</pre>\n"
            ]
          },
          "metadata": {}
        },
        {
          "output_type": "display_data",
          "data": {
            "text/plain": [
              "Epoch:  \u001b[1;36m3\u001b[0m Steps:  \u001b[1;36m70\u001b[0m Loss:  \u001b[1;36m1.3146228790283203\u001b[0m\n"
            ],
            "text/html": [
              "<pre style=\"white-space:pre;overflow-x:auto;line-height:normal;font-family:Menlo,'DejaVu Sans Mono',consolas,'Courier New',monospace\">Epoch:  <span style=\"color: #008080; text-decoration-color: #008080; font-weight: bold\">3</span> Steps:  <span style=\"color: #008080; text-decoration-color: #008080; font-weight: bold\">70</span> Loss:  <span style=\"color: #008080; text-decoration-color: #008080; font-weight: bold\">1.3146228790283203</span>\n",
              "</pre>\n"
            ]
          },
          "metadata": {}
        }
      ]
    },
    {
      "cell_type": "code",
      "source": [
        "# Save the training loss to csv\n",
        "table_data = {x.header: [Text.from_markup(y).plain for y in x.cells] for x in training_logger.columns}\n",
        "training_logger_df = pd.DataFrame(table_data)\n",
        "training_logger_df.to_csv(file_path+\"outputs/\"+\"train_loss.csv\", sep=\"=\")\n",
        "\n",
        "# Save the validation loss to csv\n",
        "table_data = {x.header: [Text.from_markup(y).plain for y in x.cells] for x in validation_logger.columns}\n",
        "validation_logger_df = pd.DataFrame(table_data)\n",
        "validation_logger_df.to_csv(file_path+\"outputs/\"+\"val_loss.csv\", sep=\"=\")"
      ],
      "metadata": {
        "id": "1Yf5Oo1SNecR"
      },
      "execution_count": null,
      "outputs": []
    },
    {
      "cell_type": "code",
      "source": [
        "# # Plot the loss\n",
        "# train_loss = pd.read_csv(file_path+\"outputs/\"+\"train_loss.csv\", sep=\"=\")\n",
        "# train_loss.plot(0,2)\n",
        "# val_loss = pd.read_csv(file_path+\"outputs/\"+\"val_loss.csv\", sep=\"=\")\n",
        "# val_loss.plot(0,2)"
      ],
      "metadata": {
        "id": "HEnoiOiXNefH"
      },
      "execution_count": null,
      "outputs": []
    },
    {
      "cell_type": "code",
      "source": [
        "# Plot the loss\n",
        "loss = pd.read_csv(\"outputs/\"+\"loss.csv\", sep=\"=\")\n",
        "loss.plot(0,3)"
      ],
      "metadata": {
        "id": "ujlc9AANJrXp"
      },
      "execution_count": null,
      "outputs": []
    },
    {
      "cell_type": "code",
      "source": [
        "!zip -r outputs.zip outputs"
      ],
      "metadata": {
        "id": "oBRrPNhKwHR8"
      },
      "execution_count": null,
      "outputs": []
    }
  ]
}